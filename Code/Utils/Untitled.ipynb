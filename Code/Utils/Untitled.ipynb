{
 "cells": [
  {
   "cell_type": "code",
   "execution_count": 99,
   "metadata": {
    "collapsed": false
   },
   "outputs": [],
   "source": [
    "import os\n",
    "import pandas as pd"
   ]
  },
  {
   "cell_type": "markdown",
   "metadata": {},
   "source": [
    "### Each file contains four parts separated by ‘\\n\\n’. They are\n",
    "    1. url of the original article;\n",
    "    2. sentences in the article and their labels (for sentence-based extractive summarization);\n",
    "    3. extractable highlights (for word extraction-based abstractive summarization);\n",
    "    4. named entity mapping.\n",
    "\n",
    "### Sentence labels. There are three labels for the sentences: 1, 2 and 0. \n",
    "\n",
    "    - 1: sentence should extracted; \n",
    "    - 2: sentence might be extracted; \n",
    "    - 0: sentence shouldn't be extracted.\n",
    "\n",
    "### Extractable highlights\n",
    "\n",
    "The extractable highlights are created by examining if a word (or its morphological transformation) in the highlight appears in the article or a general purpose stop-word list, which together constitute the output space (i.e., the allowed vocabulary during summary generation)."
   ]
  },
  {
   "cell_type": "code",
   "execution_count": 100,
   "metadata": {
    "collapsed": true
   },
   "outputs": [],
   "source": [
    "pth = '/Users/franciscojavierarceo/GitHub/DeepNLPQLearning/data/neuralsum/cnn/training/'\n",
    "f = open(os.path.join(pth, \"0a0b0ce80d3637caad385642b0b5a728f074909e.summary\"))\n",
    "data = f.read()"
   ]
  },
  {
   "cell_type": "code",
   "execution_count": 101,
   "metadata": {
    "collapsed": false
   },
   "outputs": [],
   "source": [
    "url  = data.split(\"\\n\\n\")[0]\n",
    "article = data.split(\"\\n\\n\")[1]\n",
    "nuggets = data.split(\"\\n\\n\")[2]\n",
    "entities = data.split(\"\\n\\n\")[3]"
   ]
  },
  {
   "cell_type": "code",
   "execution_count": 102,
   "metadata": {
    "collapsed": false
   },
   "outputs": [],
   "source": [
    "entitykey, entityname = [], []\n",
    "for entity in entities.split(\"\\n\"):\n",
    "    entitykey.append( entity.split(\":\")[0] )\n",
    "    entityname.append( entity.split(\":\")[1] )\n",
    "\n",
    "edict = dict(zip(entitykey, entityname))"
   ]
  },
  {
   "cell_type": "code",
   "execution_count": 103,
   "metadata": {
    "collapsed": true
   },
   "outputs": [],
   "source": [
    "sentencelist, sentencelabel = [], []\n",
    "for sentence in article.split(\"\\n\"):\n",
    "    newsentence = ' '.join([edict[word] if word in edict.keys() else word for word in sentence.split(\" \")])\n",
    "    sentencelist.append(newsentence.split(\"\\t\\t\\t\")[0])\n",
    "    sentencelabel.append(int(newsentence.split(\"\\t\\t\\t\")[1]))"
   ]
  },
  {
   "cell_type": "code",
   "execution_count": 108,
   "metadata": {
    "collapsed": false
   },
   "outputs": [
    {
     "name": "stdout",
     "output_type": "stream",
     "text": [
      "('@entity1 anti-terror police picked up @entity84 days after he passed into country unnoticed', 'Kenyan anti-terror police picked up Abdullah Ibrahim el-Faisal days after he passed into country unnoticed')\n",
      "('@entity25 sentenced in @entity26 to 9 years in prison in march 2003 for inciting others to commit murder', 'El-Faisal sentenced in London to 9 years in prison in march 2003 for inciting others to commit murder')\n",
      "('he was paroled in 2007 after serving half his sentence and deported to @entity6 , according to reports', 'he was paroled in 2007 after serving half his sentence and deported to Jamaica , according to reports')\n"
     ]
    }
   ],
   "source": [
    "for nugget in nuggets.split(\"\\n\"):\n",
    "    newnugget = ' '.join([edict[word] if word in edict.keys() else word for word in nugget.split(\" \")])\n",
    "    print(nugget, newnugget)"
   ]
  },
  {
   "cell_type": "code",
   "execution_count": 104,
   "metadata": {
    "collapsed": false
   },
   "outputs": [],
   "source": [
    "df = pd.DataFrame(sentencelist, columns=['Sentence'])\n",
    "df['Label'] = sentencelabel"
   ]
  },
  {
   "cell_type": "code",
   "execution_count": 110,
   "metadata": {
    "collapsed": false
   },
   "outputs": [
    {
     "data": {
      "text/html": [
       "<div>\n",
       "<table border=\"1\" class=\"dataframe\">\n",
       "  <thead>\n",
       "    <tr style=\"text-align: right;\">\n",
       "      <th></th>\n",
       "      <th>Sentence</th>\n",
       "      <th>Label</th>\n",
       "    </tr>\n",
       "  </thead>\n",
       "  <tbody>\n",
       "    <tr>\n",
       "      <th>0</th>\n",
       "      <td>Nairobi , Kenyan -- Kenyan has deported a Jama...</td>\n",
       "      <td>1</td>\n",
       "    </tr>\n",
       "    <tr>\n",
       "      <th>1</th>\n",
       "      <td>el-Faisal was deported to the West African cou...</td>\n",
       "      <td>1</td>\n",
       "    </tr>\n",
       "    <tr>\n",
       "      <th>2</th>\n",
       "      <td>Kenyan anti-terror police picked up el-Faisal ...</td>\n",
       "      <td>1</td>\n",
       "    </tr>\n",
       "    <tr>\n",
       "      <th>3</th>\n",
       "      <td>Kenyan 's immigration minister declared him an...</td>\n",
       "      <td>2</td>\n",
       "    </tr>\n",
       "    <tr>\n",
       "      <th>4</th>\n",
       "      <td>El-Faisal was sentenced in London to nine year...</td>\n",
       "      <td>1</td>\n",
       "    </tr>\n",
       "    <tr>\n",
       "      <th>5</th>\n",
       "      <td>he had been arrested a year earlier</td>\n",
       "      <td>0</td>\n",
       "    </tr>\n",
       "    <tr>\n",
       "      <th>6</th>\n",
       "      <td>he was paroled in 2007 after serving half his ...</td>\n",
       "      <td>1</td>\n",
       "    </tr>\n",
       "    <tr>\n",
       "      <th>7</th>\n",
       "      <td>El-Faisal entered Kenyan from Tanzania , Kirai...</td>\n",
       "      <td>1</td>\n",
       "    </tr>\n",
       "    <tr>\n",
       "      <th>8</th>\n",
       "      <td>Kiraithe acknowledged there had been \" lapses ...</td>\n",
       "      <td>1</td>\n",
       "    </tr>\n",
       "    <tr>\n",
       "      <th>9</th>\n",
       "      <td>Kenyan Muslim groups have protested the moves ...</td>\n",
       "      <td>2</td>\n",
       "    </tr>\n",
       "    <tr>\n",
       "      <th>10</th>\n",
       "      <td>\" he is being treated unfairly , \" said Al-Ami...</td>\n",
       "      <td>1</td>\n",
       "    </tr>\n",
       "    <tr>\n",
       "      <th>11</th>\n",
       "      <td>there is a double standard at work</td>\n",
       "      <td>0</td>\n",
       "    </tr>\n",
       "    <tr>\n",
       "      <th>12</th>\n",
       "      <td>\" before his sentence in Britain , el-Faisal h...</td>\n",
       "      <td>2</td>\n",
       "    </tr>\n",
       "    <tr>\n",
       "      <th>13</th>\n",
       "      <td>in one of the tapes , he said , \" how do you f...</td>\n",
       "      <td>0</td>\n",
       "    </tr>\n",
       "    <tr>\n",
       "      <th>14</th>\n",
       "      <td>and as for the Jews , you kill them physically</td>\n",
       "      <td>0</td>\n",
       "    </tr>\n",
       "    <tr>\n",
       "      <th>15</th>\n",
       "      <td>then you will overcome them in Kashmir and in ...</td>\n",
       "      <td>0</td>\n",
       "    </tr>\n",
       "    <tr>\n",
       "      <th>16</th>\n",
       "      <td>\" his lawyers in Britain had asked the judge i...</td>\n",
       "      <td>0</td>\n",
       "    </tr>\n",
       "    <tr>\n",
       "      <th>17</th>\n",
       "      <td>\" the defense stressed that most of his preach...</td>\n",
       "      <td>0</td>\n",
       "    </tr>\n",
       "    <tr>\n",
       "      <th>18</th>\n",
       "      <td>they also said el-Faisal , a husband and fathe...</td>\n",
       "      <td>2</td>\n",
       "    </tr>\n",
       "    <tr>\n",
       "      <th>19</th>\n",
       "      <td>CNN 's David McKenzie contributed to this repo...</td>\n",
       "      <td>0</td>\n",
       "    </tr>\n",
       "  </tbody>\n",
       "</table>\n",
       "</div>"
      ],
      "text/plain": [
       "                                             Sentence  Label\n",
       "0   Nairobi , Kenyan -- Kenyan has deported a Jama...      1\n",
       "1   el-Faisal was deported to the West African cou...      1\n",
       "2   Kenyan anti-terror police picked up el-Faisal ...      1\n",
       "3   Kenyan 's immigration minister declared him an...      2\n",
       "4   El-Faisal was sentenced in London to nine year...      1\n",
       "5                 he had been arrested a year earlier      0\n",
       "6   he was paroled in 2007 after serving half his ...      1\n",
       "7   El-Faisal entered Kenyan from Tanzania , Kirai...      1\n",
       "8   Kiraithe acknowledged there had been \" lapses ...      1\n",
       "9   Kenyan Muslim groups have protested the moves ...      2\n",
       "10  \" he is being treated unfairly , \" said Al-Ami...      1\n",
       "11                 there is a double standard at work      0\n",
       "12  \" before his sentence in Britain , el-Faisal h...      2\n",
       "13  in one of the tapes , he said , \" how do you f...      0\n",
       "14     and as for the Jews , you kill them physically      0\n",
       "15  then you will overcome them in Kashmir and in ...      0\n",
       "16  \" his lawyers in Britain had asked the judge i...      0\n",
       "17  \" the defense stressed that most of his preach...      0\n",
       "18  they also said el-Faisal , a husband and fathe...      2\n",
       "19  CNN 's David McKenzie contributed to this repo...      0"
      ]
     },
     "execution_count": 110,
     "metadata": {},
     "output_type": "execute_result"
    }
   ],
   "source": [
    "df"
   ]
  },
  {
   "cell_type": "code",
   "execution_count": null,
   "metadata": {
    "collapsed": true
   },
   "outputs": [],
   "source": []
  }
 ],
 "metadata": {
  "kernelspec": {
   "display_name": "Python 2",
   "language": "python",
   "name": "python2"
  },
  "language_info": {
   "codemirror_mode": {
    "name": "ipython",
    "version": 2
   },
   "file_extension": ".py",
   "mimetype": "text/x-python",
   "name": "python",
   "nbconvert_exporter": "python",
   "pygments_lexer": "ipython2",
   "version": "2.7.12"
  }
 },
 "nbformat": 4,
 "nbformat_minor": 0
}
