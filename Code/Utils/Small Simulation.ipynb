{
 "cells": [
  {
   "cell_type": "code",
   "execution_count": 5,
   "metadata": {
    "collapsed": false
   },
   "outputs": [],
   "source": [
    "require 'torch'\n",
    "require 'nn'\n",
    "require 'rnn'\n"
   ]
  },
  {
   "cell_type": "code",
   "execution_count": 75,
   "metadata": {
    "collapsed": false
   },
   "outputs": [],
   "source": [
    "-- Simulating the data\n",
    "qValues = torch.rand(10, 2)\n",
    "\n",
    "-- Generating the max values and getting the indices\n",
    "qMax, qindx = torch.max(qValues, 2)\n",
    "\n",
    "--- I want to select the qindx elements for each row\n",
    "actions = torch.zeros(10, 2):scatter(2, qindx, torch.ones(qValues:size()))"
   ]
  },
  {
   "cell_type": "code",
   "execution_count": 78,
   "metadata": {
    "collapsed": false
   },
   "outputs": [
    {
     "data": {
      "text/plain": [
       " 0.7598  0.5492\n",
       " 0.7283  0.9522\n",
       " 0.7300  0.5886\n",
       " 0.0613  0.7108\n",
       " 0.3459  0.7996\n",
       " 0.7487  0.9075\n",
       " 0.0613  0.2591\n",
       " 0.9480  0.5808\n",
       " 0.4914  0.5162\n",
       " 0.2953  0.8143\n",
       "[torch.DoubleTensor of size 10x2]\n",
       "\n",
       " 1  0\n",
       " 0  1\n",
       " 1  0\n",
       " 0  1\n",
       " 0  1\n",
       " 0  1\n",
       " 0  1\n",
       " 1  0\n",
       " 0  1\n",
       " 0  1\n",
       "[torch.DoubleTensor of size 10x2]\n",
       "\n"
      ]
     },
     "execution_count": 78,
     "metadata": {},
     "output_type": "execute_result"
    }
   ],
   "source": [
    "qValues, actions"
   ]
  }
 ],
 "metadata": {
  "anaconda-cloud": {},
  "kernelspec": {
   "display_name": "iTorch",
   "language": "lua",
   "name": "itorch"
  },
  "language_info": {
   "name": "lua",
   "version": "5.1"
  }
 },
 "nbformat": 4,
 "nbformat_minor": 1
}
