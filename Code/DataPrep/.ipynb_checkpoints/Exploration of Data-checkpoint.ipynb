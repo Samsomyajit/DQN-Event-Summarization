{
 "cells": [
  {
   "cell_type": "code",
   "execution_count": 3,
   "metadata": {
    "collapsed": false
   },
   "outputs": [],
   "source": [
    "import os\n",
    "import numpy as np\n",
    "import pandas as pd\n",
    "from bs4 import BeautifulSoup"
   ]
  },
  {
   "cell_type": "markdown",
   "metadata": {},
   "source": [
    "## Steps to build pipeline\n",
    "\n",
    "1. Tokenize the query\n",
    "2. Tokenize the streams\n",
    "3. Tokenize the stream\n",
    "\n",
    "Run LSTM on query"
   ]
  },
  {
   "cell_type": "code",
   "execution_count": 18,
   "metadata": {
    "collapsed": false
   },
   "outputs": [
    {
     "data": {
      "text/plain": [
       "['.DS_Store',\n",
       " '2012_aurora_shooting.tsv.gz',\n",
       " '2012_aurora_shooting_first_sentence.tsv.gz',\n",
       " '2012_pakistan_garment_factory_fires.tsv.gz',\n",
       " '2012_pakistan_garment_factory_fires_first_sentence.tsv.gz',\n",
       " 'hurricane_sandy.tsv.gz',\n",
       " 'hurricane_sandy_first_sentence.tsv.gz',\n",
       " 'wisconsin_sikh_temple_shooting.tsv.gz',\n",
       " 'wisconsin_sikh_temple_shooting_first_sentence.tsv.gz']"
      ]
     },
     "execution_count": 18,
     "metadata": {},
     "output_type": "execute_result"
    }
   ],
   "source": [
    "os.chdir('/Users/franciscojavierarceo/GitHub/DeepNLPQLearning/DO_NOT_UPLOAD_THIS_DATA/corpus-data/')\n",
    "os.listdir('./')"
   ]
  },
  {
   "cell_type": "code",
   "execution_count": 4,
   "metadata": {
    "collapsed": true
   },
   "outputs": [],
   "source": [
    "df1 = pd.read_csv('./2012_aurora_shooting.tsv.gz', sep='\\t')\n",
    "df2 = pd.read_csv('./2012_pakistan_garment_factory_fires.tsv.gz', sep='\\t')\n",
    "df3 = pd.read_csv('./hurricane_sandy.tsv.gz', sep='\\t')\n",
    "df4 = pd.read_csv('./wisconsin_sikh_temple_shooting.tsv.gz', sep='\\t')"
   ]
  },
  {
   "cell_type": "markdown",
   "metadata": {},
   "source": [
    "# Modifying the data"
   ]
  },
  {
   "cell_type": "code",
   "execution_count": 5,
   "metadata": {
    "collapsed": false
   },
   "outputs": [
    {
     "name": "stdout",
     "output_type": "stream",
     "text": [
      "((12509, 7), (17849, 7), (15544, 7), (12562, 7))\n"
     ]
    }
   ],
   "source": [
    "print( df1[df1['sentence'] < 1].shape, \n",
    "       df2[df2['sentence'] < 1].shape, \n",
    "       df3[df3['sentence'] < 1].shape, \n",
    "       df4[df4['sentence'] < 1].shape)"
   ]
  },
  {
   "cell_type": "code",
   "execution_count": 124,
   "metadata": {
    "collapsed": true
   },
   "outputs": [],
   "source": [
    "df1[df1['sentence'] < 1].to_csv(\"./2012_aurora_shooting_first_sentence.tsv\", index=False, sep='\\t') \n",
    "df2[df2['sentence'] < 1].to_csv(\"./2012_pakistan_garment_factory_fires_first_sentence.tsv\", index=False, sep='\\t') \n",
    "df3[df3['sentence'] < 1].to_csv('./hurricane_sandy_first_sentence.tsv', index=False, sep='\\t') \n",
    "df4[df4['sentence'] < 1].to_csv('./wisconsin_sikh_temple_shooting_first_sentence.tsv', index=False, sep='\\t') "
   ]
  },
  {
   "cell_type": "code",
   "execution_count": 126,
   "metadata": {
    "collapsed": false
   },
   "outputs": [],
   "source": [
    "! gzip ./2012_aurora_shooting_first_sentence.tsv"
   ]
  },
  {
   "cell_type": "code",
   "execution_count": 128,
   "metadata": {
    "collapsed": false
   },
   "outputs": [],
   "source": [
    "! gzip ./2012_pakistan_garment_factory_fires_first_sentence.tsv"
   ]
  },
  {
   "cell_type": "code",
   "execution_count": 129,
   "metadata": {
    "collapsed": true
   },
   "outputs": [],
   "source": [
    "! gzip ./hurricane_sandy_first_sentence.tsv"
   ]
  },
  {
   "cell_type": "code",
   "execution_count": 131,
   "metadata": {
    "collapsed": false
   },
   "outputs": [],
   "source": [
    "! gzip ./wisconsin_sikh_temple_shooting_first_sentence.tsv"
   ]
  },
  {
   "cell_type": "code",
   "execution_count": 6,
   "metadata": {
    "collapsed": false,
    "scrolled": true
   },
   "outputs": [
    {
     "data": {
      "text/html": [
       "<div>\n",
       "<table border=\"1\" class=\"dataframe\">\n",
       "  <thead>\n",
       "    <tr style=\"text-align: right;\">\n",
       "      <th></th>\n",
       "      <th>hour</th>\n",
       "      <th>score</th>\n",
       "      <th>stream id</th>\n",
       "      <th>url</th>\n",
       "      <th>title</th>\n",
       "      <th>sentence</th>\n",
       "      <th>text</th>\n",
       "    </tr>\n",
       "  </thead>\n",
       "  <tbody>\n",
       "    <tr>\n",
       "      <th>0</th>\n",
       "      <td>0</td>\n",
       "      <td>13.591976</td>\n",
       "      <td>1342767285-e9b3e7dc6a9e31c8b2301848ab082117</td>\n",
       "      <td>http://articles.outtherecolorado.com/articles/...</td>\n",
       "      <td>Monument man to ride in Courage Classic for so...</td>\n",
       "      <td>0</td>\n",
       "      <td>Jason Mezey -LRB- right -RRB- and fellow Coura...</td>\n",
       "    </tr>\n",
       "    <tr>\n",
       "      <th>1</th>\n",
       "      <td>0</td>\n",
       "      <td>13.591976</td>\n",
       "      <td>1342767285-e9b3e7dc6a9e31c8b2301848ab082117</td>\n",
       "      <td>http://articles.outtherecolorado.com/articles/...</td>\n",
       "      <td>Monument man to ride in Courage Classic for so...</td>\n",
       "      <td>1</td>\n",
       "      <td>They 're cycling for those they care for , for...</td>\n",
       "    </tr>\n",
       "    <tr>\n",
       "      <th>2</th>\n",
       "      <td>0</td>\n",
       "      <td>13.591976</td>\n",
       "      <td>1342767285-e9b3e7dc6a9e31c8b2301848ab082117</td>\n",
       "      <td>http://articles.outtherecolorado.com/articles/...</td>\n",
       "      <td>Monument man to ride in Courage Classic for so...</td>\n",
       "      <td>2</td>\n",
       "      <td>For one cyclist , Monument resident Jason Meze...</td>\n",
       "    </tr>\n",
       "    <tr>\n",
       "      <th>3</th>\n",
       "      <td>0</td>\n",
       "      <td>13.591976</td>\n",
       "      <td>1342767285-e9b3e7dc6a9e31c8b2301848ab082117</td>\n",
       "      <td>http://articles.outtherecolorado.com/articles/...</td>\n",
       "      <td>Monument man to ride in Courage Classic for so...</td>\n",
       "      <td>3</td>\n",
       "      <td>The infant has one full left arm , half of his...</td>\n",
       "    </tr>\n",
       "    <tr>\n",
       "      <th>4</th>\n",
       "      <td>0</td>\n",
       "      <td>13.591976</td>\n",
       "      <td>1342767285-e9b3e7dc6a9e31c8b2301848ab082117</td>\n",
       "      <td>http://articles.outtherecolorado.com/articles/...</td>\n",
       "      <td>Monument man to ride in Courage Classic for so...</td>\n",
       "      <td>4</td>\n",
       "      <td>`` Dillon is a normally functioning , healthy ...</td>\n",
       "    </tr>\n",
       "  </tbody>\n",
       "</table>\n",
       "</div>"
      ],
      "text/plain": [
       "   hour      score                                    stream id  \\\n",
       "0     0  13.591976  1342767285-e9b3e7dc6a9e31c8b2301848ab082117   \n",
       "1     0  13.591976  1342767285-e9b3e7dc6a9e31c8b2301848ab082117   \n",
       "2     0  13.591976  1342767285-e9b3e7dc6a9e31c8b2301848ab082117   \n",
       "3     0  13.591976  1342767285-e9b3e7dc6a9e31c8b2301848ab082117   \n",
       "4     0  13.591976  1342767285-e9b3e7dc6a9e31c8b2301848ab082117   \n",
       "\n",
       "                                                 url  \\\n",
       "0  http://articles.outtherecolorado.com/articles/...   \n",
       "1  http://articles.outtherecolorado.com/articles/...   \n",
       "2  http://articles.outtherecolorado.com/articles/...   \n",
       "3  http://articles.outtherecolorado.com/articles/...   \n",
       "4  http://articles.outtherecolorado.com/articles/...   \n",
       "\n",
       "                                               title  sentence  \\\n",
       "0  Monument man to ride in Courage Classic for so...         0   \n",
       "1  Monument man to ride in Courage Classic for so...         1   \n",
       "2  Monument man to ride in Courage Classic for so...         2   \n",
       "3  Monument man to ride in Courage Classic for so...         3   \n",
       "4  Monument man to ride in Courage Classic for so...         4   \n",
       "\n",
       "                                                text  \n",
       "0  Jason Mezey -LRB- right -RRB- and fellow Coura...  \n",
       "1  They 're cycling for those they care for , for...  \n",
       "2  For one cyclist , Monument resident Jason Meze...  \n",
       "3  The infant has one full left arm , half of his...  \n",
       "4  `` Dillon is a normally functioning , healthy ...  "
      ]
     },
     "execution_count": 6,
     "metadata": {},
     "output_type": "execute_result"
    }
   ],
   "source": [
    "df1.head()"
   ]
  },
  {
   "cell_type": "code",
   "execution_count": 72,
   "metadata": {
    "collapsed": false
   },
   "outputs": [
    {
     "data": {
      "text/plain": [
       "12509"
      ]
     },
     "execution_count": 72,
     "metadata": {},
     "output_type": "execute_result"
    }
   ],
   "source": [
    "df1['title'].nunique()"
   ]
  },
  {
   "cell_type": "code",
   "execution_count": 4,
   "metadata": {
    "collapsed": false
   },
   "outputs": [
    {
     "data": {
      "text/plain": [
       "((202215, 7), (293803, 7), (224604, 7), (208706, 7))"
      ]
     },
     "execution_count": 4,
     "metadata": {},
     "output_type": "execute_result"
    }
   ],
   "source": [
    "df1.shape, df2.shape, df3.shape, df4.shape"
   ]
  },
  {
   "cell_type": "code",
   "execution_count": 73,
   "metadata": {
    "collapsed": false
   },
   "outputs": [
    {
     "data": {
      "text/plain": [
       "929328"
      ]
     },
     "execution_count": 73,
     "metadata": {},
     "output_type": "execute_result"
    }
   ],
   "source": [
    "df1.shape[0] + df2.shape[0] + df3.shape[0] + df4.shape[0]"
   ]
  },
  {
   "cell_type": "code",
   "execution_count": 5,
   "metadata": {
    "collapsed": false
   },
   "outputs": [
    {
     "name": "stdout",
     "output_type": "stream",
     "text": [
      "Monument man to ride in Courage Classic for son - OutThereColorado.com\n",
      "They 're cycling for those they care for , for those they know , and for those they nurture .\n"
     ]
    }
   ],
   "source": [
    "# Title is the title of the article\n",
    "print df1[df1['stream id']=='1342767285-e9b3e7dc6a9e31c8b2301848ab082117'].title[1]\n",
    "# Each text is a stream (i.e., a sentence from the article)\n",
    "print df1[df1['stream id']=='1342767285-e9b3e7dc6a9e31c8b2301848ab082117'].text[1]"
   ]
  },
  {
   "cell_type": "code",
   "execution_count": 6,
   "metadata": {
    "collapsed": false,
    "scrolled": true
   },
   "outputs": [
    {
     "data": {
      "text/html": [
       "<div>\n",
       "<table border=\"1\" class=\"dataframe\">\n",
       "  <thead>\n",
       "    <tr style=\"text-align: right;\">\n",
       "      <th></th>\n",
       "      <th>hour</th>\n",
       "      <th>score</th>\n",
       "      <th>stream id</th>\n",
       "      <th>url</th>\n",
       "      <th>title</th>\n",
       "      <th>sentence</th>\n",
       "      <th>text</th>\n",
       "    </tr>\n",
       "  </thead>\n",
       "  <tbody>\n",
       "    <tr>\n",
       "      <th>0</th>\n",
       "      <td>0</td>\n",
       "      <td>13.591976</td>\n",
       "      <td>1342767285-e9b3e7dc6a9e31c8b2301848ab082117</td>\n",
       "      <td>http://articles.outtherecolorado.com/articles/...</td>\n",
       "      <td>Monument man to ride in Courage Classic for so...</td>\n",
       "      <td>0</td>\n",
       "      <td>Jason Mezey -LRB- right -RRB- and fellow Coura...</td>\n",
       "    </tr>\n",
       "    <tr>\n",
       "      <th>1</th>\n",
       "      <td>0</td>\n",
       "      <td>13.591976</td>\n",
       "      <td>1342767285-e9b3e7dc6a9e31c8b2301848ab082117</td>\n",
       "      <td>http://articles.outtherecolorado.com/articles/...</td>\n",
       "      <td>Monument man to ride in Courage Classic for so...</td>\n",
       "      <td>1</td>\n",
       "      <td>They 're cycling for those they care for , for...</td>\n",
       "    </tr>\n",
       "    <tr>\n",
       "      <th>2</th>\n",
       "      <td>0</td>\n",
       "      <td>13.591976</td>\n",
       "      <td>1342767285-e9b3e7dc6a9e31c8b2301848ab082117</td>\n",
       "      <td>http://articles.outtherecolorado.com/articles/...</td>\n",
       "      <td>Monument man to ride in Courage Classic for so...</td>\n",
       "      <td>2</td>\n",
       "      <td>For one cyclist , Monument resident Jason Meze...</td>\n",
       "    </tr>\n",
       "    <tr>\n",
       "      <th>3</th>\n",
       "      <td>0</td>\n",
       "      <td>13.591976</td>\n",
       "      <td>1342767285-e9b3e7dc6a9e31c8b2301848ab082117</td>\n",
       "      <td>http://articles.outtherecolorado.com/articles/...</td>\n",
       "      <td>Monument man to ride in Courage Classic for so...</td>\n",
       "      <td>3</td>\n",
       "      <td>The infant has one full left arm , half of his...</td>\n",
       "    </tr>\n",
       "    <tr>\n",
       "      <th>4</th>\n",
       "      <td>0</td>\n",
       "      <td>13.591976</td>\n",
       "      <td>1342767285-e9b3e7dc6a9e31c8b2301848ab082117</td>\n",
       "      <td>http://articles.outtherecolorado.com/articles/...</td>\n",
       "      <td>Monument man to ride in Courage Classic for so...</td>\n",
       "      <td>4</td>\n",
       "      <td>`` Dillon is a normally functioning , healthy ...</td>\n",
       "    </tr>\n",
       "  </tbody>\n",
       "</table>\n",
       "</div>"
      ],
      "text/plain": [
       "   hour      score                                    stream id  \\\n",
       "0     0  13.591976  1342767285-e9b3e7dc6a9e31c8b2301848ab082117   \n",
       "1     0  13.591976  1342767285-e9b3e7dc6a9e31c8b2301848ab082117   \n",
       "2     0  13.591976  1342767285-e9b3e7dc6a9e31c8b2301848ab082117   \n",
       "3     0  13.591976  1342767285-e9b3e7dc6a9e31c8b2301848ab082117   \n",
       "4     0  13.591976  1342767285-e9b3e7dc6a9e31c8b2301848ab082117   \n",
       "\n",
       "                                                 url  \\\n",
       "0  http://articles.outtherecolorado.com/articles/...   \n",
       "1  http://articles.outtherecolorado.com/articles/...   \n",
       "2  http://articles.outtherecolorado.com/articles/...   \n",
       "3  http://articles.outtherecolorado.com/articles/...   \n",
       "4  http://articles.outtherecolorado.com/articles/...   \n",
       "\n",
       "                                               title  sentence  \\\n",
       "0  Monument man to ride in Courage Classic for so...         0   \n",
       "1  Monument man to ride in Courage Classic for so...         1   \n",
       "2  Monument man to ride in Courage Classic for so...         2   \n",
       "3  Monument man to ride in Courage Classic for so...         3   \n",
       "4  Monument man to ride in Courage Classic for so...         4   \n",
       "\n",
       "                                                text  \n",
       "0  Jason Mezey -LRB- right -RRB- and fellow Coura...  \n",
       "1  They 're cycling for those they care for , for...  \n",
       "2  For one cyclist , Monument resident Jason Meze...  \n",
       "3  The infant has one full left arm , half of his...  \n",
       "4  `` Dillon is a normally functioning , healthy ...  "
      ]
     },
     "execution_count": 6,
     "metadata": {},
     "output_type": "execute_result"
    }
   ],
   "source": [
    "df1.head()"
   ]
  },
  {
   "cell_type": "code",
   "execution_count": 7,
   "metadata": {
    "collapsed": false,
    "scrolled": true
   },
   "outputs": [
    {
     "data": {
      "text/html": [
       "<div>\n",
       "<table border=\"1\" class=\"dataframe\">\n",
       "  <thead>\n",
       "    <tr style=\"text-align: right;\">\n",
       "      <th></th>\n",
       "      <th>hour</th>\n",
       "      <th>score</th>\n",
       "      <th>stream id</th>\n",
       "      <th>url</th>\n",
       "      <th>title</th>\n",
       "      <th>sentence</th>\n",
       "      <th>text</th>\n",
       "    </tr>\n",
       "  </thead>\n",
       "  <tbody>\n",
       "    <tr>\n",
       "      <th>0</th>\n",
       "      <td>0</td>\n",
       "      <td>14.635408</td>\n",
       "      <td>1347369130-aa4ff946adb6599b137feb38281c4018</td>\n",
       "      <td>http://menmedia.co.uk/manchestereveningnews/ne...</td>\n",
       "      <td>Trio arrested over fire which destroyed Radcli...</td>\n",
       "      <td>0</td>\n",
       "      <td>Three men have been arrested on suspicion of a...</td>\n",
       "    </tr>\n",
       "    <tr>\n",
       "      <th>1</th>\n",
       "      <td>0</td>\n",
       "      <td>14.635408</td>\n",
       "      <td>1347369130-aa4ff946adb6599b137feb38281c4018</td>\n",
       "      <td>http://menmedia.co.uk/manchestereveningnews/ne...</td>\n",
       "      <td>Trio arrested over fire which destroyed Radcli...</td>\n",
       "      <td>1</td>\n",
       "      <td>The men - aged 26 , 21 and 18 - have been ques...</td>\n",
       "    </tr>\n",
       "    <tr>\n",
       "      <th>2</th>\n",
       "      <td>0</td>\n",
       "      <td>14.635408</td>\n",
       "      <td>1347369130-aa4ff946adb6599b137feb38281c4018</td>\n",
       "      <td>http://menmedia.co.uk/manchestereveningnews/ne...</td>\n",
       "      <td>Trio arrested over fire which destroyed Radcli...</td>\n",
       "      <td>2</td>\n",
       "      <td>Around 100 homes had to be evacuated because o...</td>\n",
       "    </tr>\n",
       "    <tr>\n",
       "      <th>3</th>\n",
       "      <td>0</td>\n",
       "      <td>14.635408</td>\n",
       "      <td>1347369130-aa4ff946adb6599b137feb38281c4018</td>\n",
       "      <td>http://menmedia.co.uk/manchestereveningnews/ne...</td>\n",
       "      <td>Trio arrested over fire which destroyed Radcli...</td>\n",
       "      <td>3</td>\n",
       "      <td>No-one was hurt .</td>\n",
       "    </tr>\n",
       "    <tr>\n",
       "      <th>4</th>\n",
       "      <td>0</td>\n",
       "      <td>14.635408</td>\n",
       "      <td>1347369130-aa4ff946adb6599b137feb38281c4018</td>\n",
       "      <td>http://menmedia.co.uk/manchestereveningnews/ne...</td>\n",
       "      <td>Trio arrested over fire which destroyed Radcli...</td>\n",
       "      <td>4</td>\n",
       "      <td>Forensic investigators from Greater Manchester...</td>\n",
       "    </tr>\n",
       "  </tbody>\n",
       "</table>\n",
       "</div>"
      ],
      "text/plain": [
       "   hour      score                                    stream id  \\\n",
       "0     0  14.635408  1347369130-aa4ff946adb6599b137feb38281c4018   \n",
       "1     0  14.635408  1347369130-aa4ff946adb6599b137feb38281c4018   \n",
       "2     0  14.635408  1347369130-aa4ff946adb6599b137feb38281c4018   \n",
       "3     0  14.635408  1347369130-aa4ff946adb6599b137feb38281c4018   \n",
       "4     0  14.635408  1347369130-aa4ff946adb6599b137feb38281c4018   \n",
       "\n",
       "                                                 url  \\\n",
       "0  http://menmedia.co.uk/manchestereveningnews/ne...   \n",
       "1  http://menmedia.co.uk/manchestereveningnews/ne...   \n",
       "2  http://menmedia.co.uk/manchestereveningnews/ne...   \n",
       "3  http://menmedia.co.uk/manchestereveningnews/ne...   \n",
       "4  http://menmedia.co.uk/manchestereveningnews/ne...   \n",
       "\n",
       "                                               title  sentence  \\\n",
       "0  Trio arrested over fire which destroyed Radcli...         0   \n",
       "1  Trio arrested over fire which destroyed Radcli...         1   \n",
       "2  Trio arrested over fire which destroyed Radcli...         2   \n",
       "3  Trio arrested over fire which destroyed Radcli...         3   \n",
       "4  Trio arrested over fire which destroyed Radcli...         4   \n",
       "\n",
       "                                                text  \n",
       "0  Three men have been arrested on suspicion of a...  \n",
       "1  The men - aged 26 , 21 and 18 - have been ques...  \n",
       "2  Around 100 homes had to be evacuated because o...  \n",
       "3                                  No-one was hurt .  \n",
       "4  Forensic investigators from Greater Manchester...  "
      ]
     },
     "execution_count": 7,
     "metadata": {},
     "output_type": "execute_result"
    }
   ],
   "source": [
    "df2.head()"
   ]
  },
  {
   "cell_type": "code",
   "execution_count": 8,
   "metadata": {
    "collapsed": false,
    "scrolled": true
   },
   "outputs": [
    {
     "data": {
      "text/html": [
       "<div>\n",
       "<table border=\"1\" class=\"dataframe\">\n",
       "  <thead>\n",
       "    <tr style=\"text-align: right;\">\n",
       "      <th></th>\n",
       "      <th>hour</th>\n",
       "      <th>score</th>\n",
       "      <th>stream id</th>\n",
       "      <th>url</th>\n",
       "      <th>title</th>\n",
       "      <th>sentence</th>\n",
       "      <th>text</th>\n",
       "    </tr>\n",
       "  </thead>\n",
       "  <tbody>\n",
       "    <tr>\n",
       "      <th>0</th>\n",
       "      <td>0</td>\n",
       "      <td>27.31798</td>\n",
       "      <td>1351093540-7889486104cb75da1b70dbca8cd22296</td>\n",
       "      <td>http://www2.wspa.com/news/2012/oct/24/2/soaked...</td>\n",
       "      <td>Sandy Reaches Hurricane Status | WSPA</td>\n",
       "      <td>0</td>\n",
       "      <td>hurricane Sandy as of 11:00 a.m. Wednesday .</td>\n",
       "    </tr>\n",
       "    <tr>\n",
       "      <th>1</th>\n",
       "      <td>0</td>\n",
       "      <td>27.31798</td>\n",
       "      <td>1351093540-7889486104cb75da1b70dbca8cd22296</td>\n",
       "      <td>http://www2.wspa.com/news/2012/oct/24/2/soaked...</td>\n",
       "      <td>Sandy Reaches Hurricane Status | WSPA</td>\n",
       "      <td>1</td>\n",
       "      <td>Sandy is now a category one hurricane .</td>\n",
       "    </tr>\n",
       "    <tr>\n",
       "      <th>2</th>\n",
       "      <td>0</td>\n",
       "      <td>27.31798</td>\n",
       "      <td>1351093540-7889486104cb75da1b70dbca8cd22296</td>\n",
       "      <td>http://www2.wspa.com/news/2012/oct/24/2/soaked...</td>\n",
       "      <td>Sandy Reaches Hurricane Status | WSPA</td>\n",
       "      <td>2</td>\n",
       "      <td>The National Hurricane Center reported Hurrica...</td>\n",
       "    </tr>\n",
       "    <tr>\n",
       "      <th>3</th>\n",
       "      <td>0</td>\n",
       "      <td>27.31798</td>\n",
       "      <td>1351093540-7889486104cb75da1b70dbca8cd22296</td>\n",
       "      <td>http://www2.wspa.com/news/2012/oct/24/2/soaked...</td>\n",
       "      <td>Sandy Reaches Hurricane Status | WSPA</td>\n",
       "      <td>3</td>\n",
       "      <td>A hurricane warning is in effect for Jamaica a...</td>\n",
       "    </tr>\n",
       "    <tr>\n",
       "      <th>4</th>\n",
       "      <td>0</td>\n",
       "      <td>27.31798</td>\n",
       "      <td>1351093540-7889486104cb75da1b70dbca8cd22296</td>\n",
       "      <td>http://www2.wspa.com/news/2012/oct/24/2/soaked...</td>\n",
       "      <td>Sandy Reaches Hurricane Status | WSPA</td>\n",
       "      <td>4</td>\n",
       "      <td>The government of the Bahamas has issued a hur...</td>\n",
       "    </tr>\n",
       "  </tbody>\n",
       "</table>\n",
       "</div>"
      ],
      "text/plain": [
       "   hour     score                                    stream id  \\\n",
       "0     0  27.31798  1351093540-7889486104cb75da1b70dbca8cd22296   \n",
       "1     0  27.31798  1351093540-7889486104cb75da1b70dbca8cd22296   \n",
       "2     0  27.31798  1351093540-7889486104cb75da1b70dbca8cd22296   \n",
       "3     0  27.31798  1351093540-7889486104cb75da1b70dbca8cd22296   \n",
       "4     0  27.31798  1351093540-7889486104cb75da1b70dbca8cd22296   \n",
       "\n",
       "                                                 url  \\\n",
       "0  http://www2.wspa.com/news/2012/oct/24/2/soaked...   \n",
       "1  http://www2.wspa.com/news/2012/oct/24/2/soaked...   \n",
       "2  http://www2.wspa.com/news/2012/oct/24/2/soaked...   \n",
       "3  http://www2.wspa.com/news/2012/oct/24/2/soaked...   \n",
       "4  http://www2.wspa.com/news/2012/oct/24/2/soaked...   \n",
       "\n",
       "                                   title  sentence  \\\n",
       "0  Sandy Reaches Hurricane Status | WSPA         0   \n",
       "1  Sandy Reaches Hurricane Status | WSPA         1   \n",
       "2  Sandy Reaches Hurricane Status | WSPA         2   \n",
       "3  Sandy Reaches Hurricane Status | WSPA         3   \n",
       "4  Sandy Reaches Hurricane Status | WSPA         4   \n",
       "\n",
       "                                                text  \n",
       "0       hurricane Sandy as of 11:00 a.m. Wednesday .  \n",
       "1            Sandy is now a category one hurricane .  \n",
       "2  The National Hurricane Center reported Hurrica...  \n",
       "3  A hurricane warning is in effect for Jamaica a...  \n",
       "4  The government of the Bahamas has issued a hur...  "
      ]
     },
     "execution_count": 8,
     "metadata": {},
     "output_type": "execute_result"
    }
   ],
   "source": [
    "df3.head()"
   ]
  },
  {
   "cell_type": "code",
   "execution_count": 9,
   "metadata": {
    "collapsed": false,
    "scrolled": true
   },
   "outputs": [
    {
     "data": {
      "text/html": [
       "<div>\n",
       "<table border=\"1\" class=\"dataframe\">\n",
       "  <thead>\n",
       "    <tr style=\"text-align: right;\">\n",
       "      <th></th>\n",
       "      <th>hour</th>\n",
       "      <th>score</th>\n",
       "      <th>stream id</th>\n",
       "      <th>url</th>\n",
       "      <th>title</th>\n",
       "      <th>sentence</th>\n",
       "      <th>text</th>\n",
       "    </tr>\n",
       "  </thead>\n",
       "  <tbody>\n",
       "    <tr>\n",
       "      <th>0</th>\n",
       "      <td>0</td>\n",
       "      <td>21.3082</td>\n",
       "      <td>1344181816-4d5484bdb6193dc2a2b198803644c27c</td>\n",
       "      <td>http://www.thisisleicestershire.co.uk/Solar-po...</td>\n",
       "      <td>Solar power at Sikh temple | This is Leicester...</td>\n",
       "      <td>0</td>\n",
       "      <td>A Sikh temple is harnessing the sun 's rays to...</td>\n",
       "    </tr>\n",
       "    <tr>\n",
       "      <th>1</th>\n",
       "      <td>0</td>\n",
       "      <td>21.3082</td>\n",
       "      <td>1344181816-4d5484bdb6193dc2a2b198803644c27c</td>\n",
       "      <td>http://www.thisisleicestershire.co.uk/Solar-po...</td>\n",
       "      <td>Solar power at Sikh temple | This is Leicester...</td>\n",
       "      <td>1</td>\n",
       "      <td>Leicester 's Guru Tegh Bahadur Gurdwara , in E...</td>\n",
       "    </tr>\n",
       "    <tr>\n",
       "      <th>2</th>\n",
       "      <td>0</td>\n",
       "      <td>21.3082</td>\n",
       "      <td>1344181816-4d5484bdb6193dc2a2b198803644c27c</td>\n",
       "      <td>http://www.thisisleicestershire.co.uk/Solar-po...</td>\n",
       "      <td>Solar power at Sikh temple | This is Leicester...</td>\n",
       "      <td>2</td>\n",
       "      <td>The # 125,000 environmental project has been f...</td>\n",
       "    </tr>\n",
       "    <tr>\n",
       "      <th>3</th>\n",
       "      <td>0</td>\n",
       "      <td>21.3082</td>\n",
       "      <td>1344181816-4d5484bdb6193dc2a2b198803644c27c</td>\n",
       "      <td>http://www.thisisleicestershire.co.uk/Solar-po...</td>\n",
       "      <td>Solar power at Sikh temple | This is Leicester...</td>\n",
       "      <td>3</td>\n",
       "      <td>Surinderpal Singh Rai , general secretary of t...</td>\n",
       "    </tr>\n",
       "    <tr>\n",
       "      <th>4</th>\n",
       "      <td>0</td>\n",
       "      <td>21.3082</td>\n",
       "      <td>1344181816-4d5484bdb6193dc2a2b198803644c27c</td>\n",
       "      <td>http://www.thisisleicestershire.co.uk/Solar-po...</td>\n",
       "      <td>Solar power at Sikh temple | This is Leicester...</td>\n",
       "      <td>4</td>\n",
       "      <td>He said : `` It 's a huge four-storey building...</td>\n",
       "    </tr>\n",
       "  </tbody>\n",
       "</table>\n",
       "</div>"
      ],
      "text/plain": [
       "   hour    score                                    stream id  \\\n",
       "0     0  21.3082  1344181816-4d5484bdb6193dc2a2b198803644c27c   \n",
       "1     0  21.3082  1344181816-4d5484bdb6193dc2a2b198803644c27c   \n",
       "2     0  21.3082  1344181816-4d5484bdb6193dc2a2b198803644c27c   \n",
       "3     0  21.3082  1344181816-4d5484bdb6193dc2a2b198803644c27c   \n",
       "4     0  21.3082  1344181816-4d5484bdb6193dc2a2b198803644c27c   \n",
       "\n",
       "                                                 url  \\\n",
       "0  http://www.thisisleicestershire.co.uk/Solar-po...   \n",
       "1  http://www.thisisleicestershire.co.uk/Solar-po...   \n",
       "2  http://www.thisisleicestershire.co.uk/Solar-po...   \n",
       "3  http://www.thisisleicestershire.co.uk/Solar-po...   \n",
       "4  http://www.thisisleicestershire.co.uk/Solar-po...   \n",
       "\n",
       "                                               title  sentence  \\\n",
       "0  Solar power at Sikh temple | This is Leicester...         0   \n",
       "1  Solar power at Sikh temple | This is Leicester...         1   \n",
       "2  Solar power at Sikh temple | This is Leicester...         2   \n",
       "3  Solar power at Sikh temple | This is Leicester...         3   \n",
       "4  Solar power at Sikh temple | This is Leicester...         4   \n",
       "\n",
       "                                                text  \n",
       "0  A Sikh temple is harnessing the sun 's rays to...  \n",
       "1  Leicester 's Guru Tegh Bahadur Gurdwara , in E...  \n",
       "2  The # 125,000 environmental project has been f...  \n",
       "3  Surinderpal Singh Rai , general secretary of t...  \n",
       "4  He said : `` It 's a huge four-storey building...  "
      ]
     },
     "execution_count": 9,
     "metadata": {},
     "output_type": "execute_result"
    }
   ],
   "source": [
    "df4.head()"
   ]
  },
  {
   "cell_type": "code",
   "execution_count": 98,
   "metadata": {
    "collapsed": false
   },
   "outputs": [
    {
     "data": {
      "text/plain": [
       "['.trec2013-ts-topics-test.xml.swp',\n",
       " 'matches.tsv.gz',\n",
       " 'nuggets.tsv.gz',\n",
       " 'trec2013-ts-topics-test.xml',\n",
       " 'updates.tsv.gz']"
      ]
     },
     "execution_count": 98,
     "metadata": {},
     "output_type": "execute_result"
    }
   ],
   "source": [
    "os.listdir('/Users/franciscojavierarceo/GitHub/DeepNLPQLearning/DO_NOT_UPLOAD_THIS_DATA/trec-2013-data/')"
   ]
  },
  {
   "cell_type": "code",
   "execution_count": 5,
   "metadata": {
    "collapsed": false
   },
   "outputs": [],
   "source": [
    "os.chdir('/Users/franciscojavierarceo/GitHub/DeepNLPQLearning/DO_NOT_UPLOAD_THIS_DATA/trec-2013-data/')"
   ]
  },
  {
   "cell_type": "code",
   "execution_count": 110,
   "metadata": {
    "collapsed": false,
    "scrolled": true
   },
   "outputs": [
    {
     "name": "stdout",
     "output_type": "stream",
     "text": [
      "('TS13.1', (56, 6), 'train accident in Buenos Aires, Argentina.')\n",
      "('TS13.10', (37, 6), 'Tel Aviv bus bombing')\n",
      "('TS13.2', (89, 6), 'Pakistan garment factory fires 11 September 2012')\n",
      "('TS13.3', (139, 6), 'At least 12 people were shot in the city of Aurora near Denver,, Colorado.')\n",
      "('TS13.4', (97, 6), \"'Wisconsin Sikh Temple shooting\")\n",
      "('TS13.5', (108, 6), 'Tropical Storm Isaac')\n",
      "('TS13.6', (418, 6), 'Sandy is the eighteenth named storm of the 2012 Atlantic hurricane season.')\n",
      "('TS13.7', (91, 6), 'derecho')\n",
      "('TS13.8', (88, 6), 'Tropical Storm Bopha')\n",
      "('TS13.9', (45, 6), '2012 Guatemala earthquake')\n",
      "('TS13.TEST1', (103, 6), '2012 Tabriz earthquake')\n",
      "('TS13.TEST2', (69, 6), 'Wildfires in Colorado')\n"
     ]
    }
   ],
   "source": [
    "for q in df5['query_id'].unique().tolist():\n",
    "    print(q, df5[df5['query_id']==q].shape, df5[df5['query_id']==q]['nugget_text'].values[0])"
   ]
  },
  {
   "cell_type": "code",
   "execution_count": 115,
   "metadata": {
    "collapsed": false
   },
   "outputs": [],
   "source": [
    "df5[df5['query_id']=='TS13.3'].to_csv(\"./aurora_nuggets.tsv\", sep='\\t')\n",
    "df5[df5['query_id']=='TS13.2'].to_csv(\"./pakistan_nuggets.tsv\", sep='\\t')\n",
    "df5[df5['query_id']=='TS13.6'].to_csv(\"./sandy_nuggets.tsv\", sep='\\t')\n",
    "df5[df5['query_id']=='TS13.4'].to_csv(\"./wisconsin_nuggets.tsv\", sep='\\t')"
   ]
  },
  {
   "cell_type": "code",
   "execution_count": 116,
   "metadata": {
    "collapsed": false
   },
   "outputs": [],
   "source": [
    "! gzip /Users/franciscojavierarceo/GitHub/DeepNLPQLearning/DO_NOT_UPLOAD_THIS_DATA/trec-2013-data/aurora_nuggets.tsv"
   ]
  },
  {
   "cell_type": "code",
   "execution_count": 117,
   "metadata": {
    "collapsed": false
   },
   "outputs": [],
   "source": [
    "! gzip /Users/franciscojavierarceo/GitHub/DeepNLPQLearning/DO_NOT_UPLOAD_THIS_DATA/trec-2013-data/pakistan_nuggets.tsv"
   ]
  },
  {
   "cell_type": "code",
   "execution_count": 118,
   "metadata": {
    "collapsed": true
   },
   "outputs": [],
   "source": [
    "! gzip /Users/franciscojavierarceo/GitHub/DeepNLPQLearning/DO_NOT_UPLOAD_THIS_DATA/trec-2013-data/sandy_nuggets.tsv"
   ]
  },
  {
   "cell_type": "code",
   "execution_count": 119,
   "metadata": {
    "collapsed": true
   },
   "outputs": [],
   "source": [
    "! gzip /Users/franciscojavierarceo/GitHub/DeepNLPQLearning/DO_NOT_UPLOAD_THIS_DATA/trec-2013-data/wisconsin_nuggets.tsv"
   ]
  },
  {
   "cell_type": "code",
   "execution_count": null,
   "metadata": {
    "collapsed": true
   },
   "outputs": [],
   "source": [
    "print(ox)"
   ]
  },
  {
   "cell_type": "code",
   "execution_count": 212,
   "metadata": {
    "collapsed": false
   },
   "outputs": [],
   "source": [
    "df1 = pd.read_csv(\"./nuggets-data/nuggets_2013.tsv.gz\", sep='\\t')\n",
    "df2 = pd.read_csv(\"./nuggets-data/nuggets_2014.tsv.gz\", sep='\\t')\n",
    "df3 = pd.read_csv(\"./nuggets-data/nuggets_2015.tsv.gz\", sep='\\t')"
   ]
  },
  {
   "cell_type": "code",
   "execution_count": 229,
   "metadata": {
    "collapsed": false,
    "scrolled": true
   },
   "outputs": [
    {
     "name": "stdout",
     "output_type": "stream",
     "text": [
      "exporting nugget TS13.1\n",
      "exporting nugget TS13.10\n",
      "exporting nugget TS13.2\n",
      "exporting nugget TS13.3\n",
      "exporting nugget TS13.4\n",
      "exporting nugget TS13.5\n",
      "exporting nugget TS13.6\n",
      "exporting nugget TS13.7\n",
      "exporting nugget TS13.8\n",
      "exporting nugget TS13.9\n",
      "exporting nugget TS14.11\n",
      "exporting nugget TS14.12\n",
      "exporting nugget TS14.13\n",
      "exporting nugget TS14.14\n",
      "exporting nugget TS14.15\n",
      "exporting nugget TS14.16\n",
      "exporting nugget TS14.17\n",
      "exporting nugget TS14.18\n",
      "exporting nugget TS14.19\n",
      "exporting nugget TS14.20\n",
      "exporting nugget TS14.21\n",
      "exporting nugget TS14.22\n",
      "exporting nugget TS14.23\n",
      "exporting nugget TS14.24\n",
      "exporting nugget TS14.25\n",
      "exporting nugget TS15.26\n",
      "exporting nugget TS15.27\n",
      "exporting nugget TS15.28\n",
      "exporting nugget TS15.29\n",
      "exporting nugget TS15.30\n",
      "exporting nugget TS15.31\n",
      "exporting nugget TS15.32\n",
      "exporting nugget TS15.33\n",
      "exporting nugget TS15.34\n",
      "exporting nugget TS15.35\n",
      "exporting nugget TS15.36\n",
      "exporting nugget TS15.37\n",
      "exporting nugget TS15.38\n",
      "exporting nugget TS15.39\n",
      "exporting nugget TS15.40\n",
      "exporting nugget TS15.41\n",
      "exporting nugget TS15.42\n",
      "exporting nugget TS15.43\n",
      "exporting nugget TS15.44\n",
      "exporting nugget TS15.45\n",
      "exporting nugget TS15.46\n"
     ]
    }
   ],
   "source": [
    "nuggfiles = ['./nuggets-data/nuggets_%i.tsv.gz' % x for x in range(2013, 2016)]\n",
    "# Exporting nuggets\n",
    "for nuggfile in nuggfiles:\n",
    "    tmpnuggets = pd.read_csv(nuggfile, sep='\\t')\n",
    "    for q in tmpnuggets['query_id'].unique():\n",
    "         if \"TEST\" not in q:\n",
    "            print(\"exporting nugget %s\" % q)\n",
    "            tmpnuggets[tmpnuggets['query_id']==q].to_csv(\n",
    "                \"./nuggets-data/%s_nuggets.csv\" % q, index=False\n",
    "                )"
   ]
  },
  {
   "cell_type": "code",
   "execution_count": 141,
   "metadata": {
    "collapsed": true
   },
   "outputs": [],
   "source": [
    "os.chdir('/Users/franciscojavierarceo/GitHub/DeepNLPQLearning/DO_NOT_UPLOAD_THIS_DATA/')"
   ]
  },
  {
   "cell_type": "code",
   "execution_count": 383,
   "metadata": {
    "collapsed": false
   },
   "outputs": [],
   "source": [
    "def read_queries(fname):\n",
    "    f = open(fname, 'rb')\n",
    "    out = f.readlines()\n",
    "    ox = BeautifulSoup(''.join(out),'lxml').contents[1]\n",
    "    qdata = []\n",
    "    for i in ox.findAll('event'):\n",
    "        qdata.append((i.findAll('query')[0].text, \n",
    "                  int(i.findAll(\"id\")[0].text),\n",
    "                  fname.replace(\"./trec-data/trec20\", \"TS\").replace(\"-ts-topics-test.xml\", \"\"),\n",
    "                    i.findAll('title')[0].text))\n",
    "    return qdata"
   ]
  },
  {
   "cell_type": "code",
   "execution_count": 385,
   "metadata": {
    "collapsed": false
   },
   "outputs": [],
   "source": [
    "xml_list = ['./trec-data/trec%i-ts-topics-test.xml' % x for x in range(2013, 2016)]\n",
    "qtuple = []\n",
    "for xml_file in xml_list:\n",
    "    qtuple.append( read_queries(xml_file))\n",
    "\n",
    "\n",
    "qtuple = list(chain(*qtuple))\n",
    "infilelist = [ './corpus-data/%s.tsv.gz' % q.replace(\" \", \"_\") for (q, i, y, t)  in qtuple]\n",
    "infilelist = infilelist + xml_list"
   ]
  },
  {
   "cell_type": "code",
   "execution_count": 416,
   "metadata": {
    "collapsed": false
   },
   "outputs": [],
   "source": [
    "qfilenames = ['./trec-data/trec%i-ts-topics-test.xml' % x for x in range(2013, 2016)]\n",
    "qtuple = list(chain(*[read_queries(xml_file) for xml_file in qfilenames ]))\n",
    "infilelist = ['./corpus-data/%s.tsv.gz' % q.replace(\" \", \"_\") for (q, i, n, t)  in qtuple]\n",
    "infilelist = infilelist + qfilenames\n",
    "nuggetlist = ['%s.%i_nuggets.csv' % (n, i) for (q, i, n, t)  in qtuple]\n",
    "outfilelist = ['./0-output/%s_tokenized' % x.split(\"/\")[2].split(\".\")[0] for x in infilelist]"
   ]
  },
  {
   "cell_type": "code",
   "execution_count": 417,
   "metadata": {
    "collapsed": false
   },
   "outputs": [],
   "source": [
    "qdf = pd.DataFrame(qtuple, columns=['query', 'query_id', 'trec', 'title'])\n",
    "qdf['nugget_file'] = qdf['trec'] + \".\" + qdf['query_id'].astype(str) + \"_nuggets.csv\"\n",
    "qdf['stream_file'] = qdf['title'].str.replace(\" \", \"_\").str.lower() + \".csv\"\n",
    "qdf = qdf[['query_id','query','trec','nugget_file','stream_file']]"
   ]
  },
  {
   "cell_type": "code",
   "execution_count": 437,
   "metadata": {
    "collapsed": false
   },
   "outputs": [],
   "source": [
    "inputdir = '/Users/franciscojavierarceo/GitHub/DeepNLPQLearning/DO_NOT_UPLOAD_THIS_DATA/'\n",
    "qfilenames = [os.path.join(inputdir, 'trec-data/trec%i-ts-topics-test.xml') % x for x in range(2013, 2014)]\n",
    "qtuple = list(chain(*[read_queries(xml_file) for xml_file in qfilenames ]))\n",
    "infilelist = [os.path.join(inputdir, 'corpus-data/%s.tsv.gz' % t.replace(\" \", \"_\").lower()) for (q, i, n, t)  in qtuple if i != 7]\n",
    "input_files = [os.path.join(inputdir, 'corpus-data/', x) for x in os.listdir(os.path.join(inputdir, 'corpus-data/')) if 'tsv.gz' in x]"
   ]
  },
  {
   "cell_type": "code",
   "execution_count": 441,
   "metadata": {
    "collapsed": false
   },
   "outputs": [],
   "source": [
    "input_files = [x for x in infilelist if x in input_files]"
   ]
  },
  {
   "cell_type": "code",
   "execution_count": 444,
   "metadata": {
    "collapsed": false
   },
   "outputs": [
    {
     "data": {
      "text/plain": [
       "[u'/Users/franciscojavierarceo/GitHub/DeepNLPQLearning/DO_NOT_UPLOAD_THIS_DATA/corpus-data/2012_pakistan_garment_factory_fires.tsv.gz',\n",
       " u'/Users/franciscojavierarceo/GitHub/DeepNLPQLearning/DO_NOT_UPLOAD_THIS_DATA/corpus-data/2012_aurora_shooting.tsv.gz',\n",
       " u'/Users/franciscojavierarceo/GitHub/DeepNLPQLearning/DO_NOT_UPLOAD_THIS_DATA/corpus-data/wisconsin_sikh_temple_shooting.tsv.gz',\n",
       " u'/Users/franciscojavierarceo/GitHub/DeepNLPQLearning/DO_NOT_UPLOAD_THIS_DATA/corpus-data/hurricane_sandy.tsv.gz']"
      ]
     },
     "execution_count": 444,
     "metadata": {},
     "output_type": "execute_result"
    }
   ],
   "source": [
    "input_files"
   ]
  },
  {
   "cell_type": "code",
   "execution_count": null,
   "metadata": {
    "collapsed": true
   },
   "outputs": [],
   "source": [
    "    # First we have to segment the nuggets\n",
    "    qfilenames = [os.path.join(inputdir, 'trec-data/trec%i-ts-topics-test.xml') % x for x in range(2013, 2014)]\n",
    "    qtuple = list(chain(*[read_queries(xml_file) for xml_file in qfilenames ]))\n",
    "    infilelist = [os.path.join(inputdir, 'corpus-data/%s.tsv.gz' % t.replace(\" \", \"_\").lower()) for (q, i, n, t)  in qtuple if i != 7]\n",
    "    # Limiting the files\n",
    "    input_files = [os.path.join(inputdir, 'corpus-data/', x) for x in os.listdir(os.path.join(inputdir, 'corpus-data/')) if 'tsv.gz' in x]\n",
    "    infilelist = [x for x in infilelist if x in input_files]\n",
    "\n",
    "    infilelist = infilelist + qfilenames\n",
    "    nuggetlist = [os.path.join(inputdir, '%s.%i_nuggets.csv' % (n, i)) for (q, i, n, t)  in qtuple]\n",
    "    outfilelist = [os.path.join(inputdir, '0-output/%s_tokenized' % x.split(\"/\")[3].split(\".\")[0]) for x in infilelist]\n",
    "\n"
   ]
  },
  {
   "cell_type": "code",
   "execution_count": 398,
   "metadata": {
    "collapsed": false
   },
   "outputs": [
    {
     "data": {
      "text/html": [
       "<div>\n",
       "<table border=\"1\" class=\"dataframe\">\n",
       "  <thead>\n",
       "    <tr style=\"text-align: right;\">\n",
       "      <th></th>\n",
       "      <th>query_id</th>\n",
       "      <th>query</th>\n",
       "      <th>trec</th>\n",
       "      <th>nugget_file</th>\n",
       "      <th>stream_file</th>\n",
       "    </tr>\n",
       "  </thead>\n",
       "  <tbody>\n",
       "    <tr>\n",
       "      <th>0</th>\n",
       "      <td>1</td>\n",
       "      <td>buenos aires train crash</td>\n",
       "      <td>TS13</td>\n",
       "      <td>TS13.1_nuggets.csv</td>\n",
       "      <td>2012_buenos_aires_rail_disaster.csv</td>\n",
       "    </tr>\n",
       "    <tr>\n",
       "      <th>1</th>\n",
       "      <td>2</td>\n",
       "      <td>pakistan factory fire</td>\n",
       "      <td>TS13</td>\n",
       "      <td>TS13.2_nuggets.csv</td>\n",
       "      <td>2012_pakistan_garment_factory_fires.csv</td>\n",
       "    </tr>\n",
       "    <tr>\n",
       "      <th>2</th>\n",
       "      <td>3</td>\n",
       "      <td>colorado shooting</td>\n",
       "      <td>TS13</td>\n",
       "      <td>TS13.3_nuggets.csv</td>\n",
       "      <td>2012_aurora_shooting.csv</td>\n",
       "    </tr>\n",
       "    <tr>\n",
       "      <th>3</th>\n",
       "      <td>4</td>\n",
       "      <td>sikh temple shooting</td>\n",
       "      <td>TS13</td>\n",
       "      <td>TS13.4_nuggets.csv</td>\n",
       "      <td>wisconsin_sikh_temple_shooting.csv</td>\n",
       "    </tr>\n",
       "    <tr>\n",
       "      <th>4</th>\n",
       "      <td>5</td>\n",
       "      <td>hurricane isaac</td>\n",
       "      <td>TS13</td>\n",
       "      <td>TS13.5_nuggets.csv</td>\n",
       "      <td>hurricane_isaac_(2012).csv</td>\n",
       "    </tr>\n",
       "  </tbody>\n",
       "</table>\n",
       "</div>"
      ],
      "text/plain": [
       "   query_id                     query  trec         nugget_file  \\\n",
       "0         1  buenos aires train crash  TS13  TS13.1_nuggets.csv   \n",
       "1         2     pakistan factory fire  TS13  TS13.2_nuggets.csv   \n",
       "2         3         colorado shooting  TS13  TS13.3_nuggets.csv   \n",
       "3         4      sikh temple shooting  TS13  TS13.4_nuggets.csv   \n",
       "4         5           hurricane isaac  TS13  TS13.5_nuggets.csv   \n",
       "\n",
       "                               stream_file  \n",
       "0      2012_buenos_aires_rail_disaster.csv  \n",
       "1  2012_pakistan_garment_factory_fires.csv  \n",
       "2                 2012_aurora_shooting.csv  \n",
       "3       wisconsin_sikh_temple_shooting.csv  \n",
       "4               hurricane_isaac_(2012).csv  "
      ]
     },
     "execution_count": 398,
     "metadata": {},
     "output_type": "execute_result"
    }
   ],
   "source": [
    "qdf.head()"
   ]
  },
  {
   "cell_type": "code",
   "execution_count": null,
   "metadata": {
    "collapsed": true
   },
   "outputs": [],
   "source": [
    "tdf = pd.read_csv(\"./0-output/total_corpus_smry.csv\")"
   ]
  },
  {
   "cell_type": "code",
   "execution_count": 281,
   "metadata": {
    "collapsed": false
   },
   "outputs": [
    {
     "data": {
      "text/html": [
       "<div>\n",
       "<table border=\"1\" class=\"dataframe\">\n",
       "  <thead>\n",
       "    <tr style=\"text-align: right;\">\n",
       "      <th></th>\n",
       "      <th>id</th>\n",
       "      <th>token</th>\n",
       "      <th>frequency</th>\n",
       "    </tr>\n",
       "  </thead>\n",
       "  <tbody>\n",
       "    <tr>\n",
       "      <th>0</th>\n",
       "      <td>1</td>\n",
       "      <td>and</td>\n",
       "      <td>10021</td>\n",
       "    </tr>\n",
       "    <tr>\n",
       "      <th>1</th>\n",
       "      <td>2</td>\n",
       "      <td>right</td>\n",
       "      <td>965</td>\n",
       "    </tr>\n",
       "    <tr>\n",
       "      <th>2</th>\n",
       "      <td>3</td>\n",
       "      <td>jason</td>\n",
       "      <td>1012</td>\n",
       "    </tr>\n",
       "    <tr>\n",
       "      <th>3</th>\n",
       "      <td>4</td>\n",
       "      <td>classic</td>\n",
       "      <td>49452</td>\n",
       "    </tr>\n",
       "    <tr>\n",
       "      <th>4</th>\n",
       "      <td>5</td>\n",
       "      <td>rrb</td>\n",
       "      <td>1375</td>\n",
       "    </tr>\n",
       "  </tbody>\n",
       "</table>\n",
       "</div>"
      ],
      "text/plain": [
       "   id    token  frequency\n",
       "0   1      and      10021\n",
       "1   2    right        965\n",
       "2   3    jason       1012\n",
       "3   4  classic      49452\n",
       "4   5      rrb       1375"
      ]
     },
     "execution_count": 281,
     "metadata": {},
     "output_type": "execute_result"
    }
   ],
   "source": [
    "tdf.head()"
   ]
  },
  {
   "cell_type": "code",
   "execution_count": 296,
   "metadata": {
    "collapsed": false
   },
   "outputs": [
    {
     "data": {
      "text/plain": [
       "[u'buenos', u'aires', u'train', u'crash']"
      ]
     },
     "execution_count": 296,
     "metadata": {},
     "output_type": "execute_result"
    }
   ],
   "source": [
    "q.split(\" \")"
   ]
  },
  {
   "cell_type": "code",
   "execution_count": 304,
   "metadata": {
    "collapsed": false
   },
   "outputs": [
    {
     "data": {
      "text/plain": [
       "'16746 16745 2711 1156'"
      ]
     },
     "execution_count": 304,
     "metadata": {},
     "output_type": "execute_result"
    }
   ],
   "source": [
    "' '.join([str(tdf.ix[tdf['token']==token, 'id'].values[0]) for token in q.split(\" \")])"
   ]
  },
  {
   "cell_type": "code",
   "execution_count": 351,
   "metadata": {
    "collapsed": true
   },
   "outputs": [],
   "source": [
    "qtokens = []\n",
    "for q in qdf[\"query\"]:\n",
    "    tokens = []\n",
    "    for token in q.split(\" \"):\n",
    "        try:\n",
    "            tval = str(tdf.ix[tdf['token']==token, 'id'].values[0])\n",
    "        except:\n",
    "            tval = str(0)\n",
    "        tokens.append(tval)\n",
    "    qtokens.append(' '.join(tokens))"
   ]
  },
  {
   "cell_type": "code",
   "execution_count": 352,
   "metadata": {
    "collapsed": true
   },
   "outputs": [],
   "source": [
    "qdf['tokens'] = qtokens"
   ]
  },
  {
   "cell_type": "code",
   "execution_count": 361,
   "metadata": {
    "collapsed": true
   },
   "outputs": [],
   "source": [
    "qdf.to_csv(\"./0-output/dqn_metadata.csv\", index=False)"
   ]
  },
  {
   "cell_type": "code",
   "execution_count": 353,
   "metadata": {
    "collapsed": false
   },
   "outputs": [
    {
     "data": {
      "text/html": [
       "<div>\n",
       "<table border=\"1\" class=\"dataframe\">\n",
       "  <thead>\n",
       "    <tr style=\"text-align: right;\">\n",
       "      <th></th>\n",
       "      <th>query_id</th>\n",
       "      <th>query</th>\n",
       "      <th>trec</th>\n",
       "      <th>nugget_file</th>\n",
       "      <th>stream_file</th>\n",
       "      <th>tokens</th>\n",
       "    </tr>\n",
       "  </thead>\n",
       "  <tbody>\n",
       "    <tr>\n",
       "      <th>0</th>\n",
       "      <td>1</td>\n",
       "      <td>buenos aires train crash</td>\n",
       "      <td>TS13</td>\n",
       "      <td>TS13.1_nuggets.csv</td>\n",
       "      <td>buenos_aires_train_crash.csv</td>\n",
       "      <td>16746 16745 2711 1156</td>\n",
       "    </tr>\n",
       "    <tr>\n",
       "      <th>1</th>\n",
       "      <td>2</td>\n",
       "      <td>pakistan factory fire</td>\n",
       "      <td>TS13</td>\n",
       "      <td>TS13.2_nuggets.csv</td>\n",
       "      <td>pakistan_factory_fire.csv</td>\n",
       "      <td>14168 8064 407</td>\n",
       "    </tr>\n",
       "    <tr>\n",
       "      <th>2</th>\n",
       "      <td>3</td>\n",
       "      <td>colorado shooting</td>\n",
       "      <td>TS13</td>\n",
       "      <td>TS13.3_nuggets.csv</td>\n",
       "      <td>colorado_shooting.csv</td>\n",
       "      <td>98 1052</td>\n",
       "    </tr>\n",
       "    <tr>\n",
       "      <th>3</th>\n",
       "      <td>4</td>\n",
       "      <td>sikh temple shooting</td>\n",
       "      <td>TS13</td>\n",
       "      <td>TS13.4_nuggets.csv</td>\n",
       "      <td>sikh_temple_shooting.csv</td>\n",
       "      <td>79943 2284 1052</td>\n",
       "    </tr>\n",
       "    <tr>\n",
       "      <th>4</th>\n",
       "      <td>5</td>\n",
       "      <td>hurricane isaac</td>\n",
       "      <td>TS13</td>\n",
       "      <td>TS13.5_nuggets.csv</td>\n",
       "      <td>hurricane_isaac.csv</td>\n",
       "      <td>3937 25607</td>\n",
       "    </tr>\n",
       "  </tbody>\n",
       "</table>\n",
       "</div>"
      ],
      "text/plain": [
       "   query_id                     query  trec         nugget_file  \\\n",
       "0         1  buenos aires train crash  TS13  TS13.1_nuggets.csv   \n",
       "1         2     pakistan factory fire  TS13  TS13.2_nuggets.csv   \n",
       "2         3         colorado shooting  TS13  TS13.3_nuggets.csv   \n",
       "3         4      sikh temple shooting  TS13  TS13.4_nuggets.csv   \n",
       "4         5           hurricane isaac  TS13  TS13.5_nuggets.csv   \n",
       "\n",
       "                    stream_file                 tokens  \n",
       "0  buenos_aires_train_crash.csv  16746 16745 2711 1156  \n",
       "1     pakistan_factory_fire.csv         14168 8064 407  \n",
       "2         colorado_shooting.csv                98 1052  \n",
       "3      sikh_temple_shooting.csv        79943 2284 1052  \n",
       "4           hurricane_isaac.csv             3937 25607  "
      ]
     },
     "execution_count": 353,
     "metadata": {},
     "output_type": "execute_result"
    }
   ],
   "source": [
    "qdf.head()"
   ]
  },
  {
   "cell_type": "markdown",
   "metadata": {},
   "source": [
    "## These are the matches of the nuggets"
   ]
  },
  {
   "cell_type": "code",
   "execution_count": 178,
   "metadata": {
    "collapsed": false
   },
   "outputs": [
    {
     "data": {
      "text/plain": [
       "['.ipynb_checkpoints',\n",
       " 'build_data.py',\n",
       " 'build_data.pyc',\n",
       " 'build_first_sentence_data.py',\n",
       " 'build_sentence_data.py',\n",
       " 'Exploration of Data.ipynb']"
      ]
     },
     "execution_count": 178,
     "metadata": {},
     "output_type": "execute_result"
    }
   ],
   "source": [
    "os.listdir(\"./\")"
   ]
  },
  {
   "cell_type": "code",
   "execution_count": 7,
   "metadata": {
    "collapsed": false,
    "scrolled": false
   },
   "outputs": [
    {
     "data": {
      "text/plain": [
       "['.total_corpus_smry.csv.swp',\n",
       " '2012_aurora_sentence_numtext.csv',\n",
       " '2012_aurora_sentence_numtext2.csv',\n",
       " '2012_aurora_shooting_first_sentence_numtext.csv',\n",
       " '2012_aurora_shooting_first_sentence_numtext2.csv',\n",
       " '2012_aurora_shooting_numtext.csv',\n",
       " '2012_pakistan_garment_factory_fires_first_sentence_numtext.csv',\n",
       " '2012_pakistan_garment_factory_fires_first_sentence_numtext2.csv',\n",
       " '2012_pakistan_garment_factory_fires_numtext.csv',\n",
       " '2012_pakistan_sentence_numtext.csv',\n",
       " '2012_pakistan_sentence_numtext2.csv',\n",
       " 'aurora_nuggets_numtext.csv',\n",
       " 'hurricane_sandy_first_sentence_numtext.csv',\n",
       " 'hurricane_sandy_numtext.csv',\n",
       " 'LSTMDQN_Dic_id2token.pkl',\n",
       " 'LSTMDQN_Dic_token2id.pkl',\n",
       " 'nuggets_first_sentence_numtext.csv',\n",
       " 'nuggets_numtext.csv',\n",
       " 'pakistan_nuggets_numtext.csv',\n",
       " 'queries_numtext.csv',\n",
       " 'sandy_nuggets_numtext.csv',\n",
       " 'total_corpus_smry.csv',\n",
       " 'trim_data.sh',\n",
       " 'wisconsin_nuggets_numtext.csv',\n",
       " 'wisconsin_sikh_temple_shooting_first_sentence_numtext.csv',\n",
       " 'wisconsin_sikh_temple_shooting_numtext.csv']"
      ]
     },
     "execution_count": 7,
     "metadata": {},
     "output_type": "execute_result"
    }
   ],
   "source": [
    "os.listdir('../0-output/')"
   ]
  },
  {
   "cell_type": "code",
   "execution_count": null,
   "metadata": {
    "collapsed": false
   },
   "outputs": [],
   "source": [
    "df7.head()"
   ]
  },
  {
   "cell_type": "code",
   "execution_count": 14,
   "metadata": {
    "collapsed": false
   },
   "outputs": [],
   "source": [
    "df1 = pd.read_csv(\"../0-output/2012_aurora_shooting_numtext.csv\")\n",
    "df2 = pd.read_csv(\"../0-output/2012_pakistan_garment_factory_fires_numtext.csv\")"
   ]
  },
  {
   "cell_type": "code",
   "execution_count": 15,
   "metadata": {
    "collapsed": false
   },
   "outputs": [
    {
     "data": {
      "text/plain": [
       "((199386, 1), (291011, 1))"
      ]
     },
     "execution_count": 15,
     "metadata": {},
     "output_type": "execute_result"
    }
   ],
   "source": [
    "df1.shape, df2.shape"
   ]
  },
  {
   "cell_type": "code",
   "execution_count": 27,
   "metadata": {
    "collapsed": false
   },
   "outputs": [],
   "source": [
    "maxl = []\n",
    "for line in df1['Text']:\n",
    "    indices = [int(el) for el in line.split(\" \")]\n",
    "    maxl.append(len(indices))"
   ]
  },
  {
   "cell_type": "code",
   "execution_count": 30,
   "metadata": {
    "collapsed": false
   },
   "outputs": [],
   "source": [
    "df3 = pd.DataFrame(maxl, columns=['seqlen'])\n",
    "smry = df3['seqlen'].value_counts().reset_index()\n",
    "smry.columns = ['seqlen' ,'count']\n",
    "smry['cumcount'] = smry['count'].cumsum()\n",
    "smry['percent'] = smry['count'] / smry['count'].sum()\n",
    "smry['cumpercent'] = smry['percent'].cumsum()"
   ]
  },
  {
   "cell_type": "code",
   "execution_count": 58,
   "metadata": {
    "collapsed": false,
    "scrolled": true
   },
   "outputs": [
    {
     "data": {
      "text/html": [
       "<div>\n",
       "<table border=\"1\" class=\"dataframe\">\n",
       "  <thead>\n",
       "    <tr style=\"text-align: right;\">\n",
       "      <th></th>\n",
       "      <th>percent</th>\n",
       "      <th>cumpercent</th>\n",
       "    </tr>\n",
       "  </thead>\n",
       "  <tbody>\n",
       "    <tr>\n",
       "      <th>30</th>\n",
       "      <td>0.007317</td>\n",
       "      <td>0.946355</td>\n",
       "    </tr>\n",
       "    <tr>\n",
       "      <th>31</th>\n",
       "      <td>0.006314</td>\n",
       "      <td>0.952670</td>\n",
       "    </tr>\n",
       "    <tr>\n",
       "      <th>32</th>\n",
       "      <td>0.004980</td>\n",
       "      <td>0.957650</td>\n",
       "    </tr>\n",
       "    <tr>\n",
       "      <th>33</th>\n",
       "      <td>0.004484</td>\n",
       "      <td>0.962134</td>\n",
       "    </tr>\n",
       "    <tr>\n",
       "      <th>34</th>\n",
       "      <td>0.003967</td>\n",
       "      <td>0.966101</td>\n",
       "    </tr>\n",
       "  </tbody>\n",
       "</table>\n",
       "</div>"
      ],
      "text/plain": [
       "     percent  cumpercent\n",
       "30  0.007317    0.946355\n",
       "31  0.006314    0.952670\n",
       "32  0.004980    0.957650\n",
       "33  0.004484    0.962134\n",
       "34  0.003967    0.966101"
      ]
     },
     "execution_count": 58,
     "metadata": {},
     "output_type": "execute_result"
    }
   ],
   "source": [
    "# Looks like the cutoff should be 30\n",
    "smry[['percent','cumpercent']].head(35).tail(5)"
   ]
  }
 ],
 "metadata": {
  "kernelspec": {
   "display_name": "Python 2",
   "language": "python",
   "name": "python2"
  },
  "language_info": {
   "codemirror_mode": {
    "name": "ipython",
    "version": 2
   },
   "file_extension": ".py",
   "mimetype": "text/x-python",
   "name": "python",
   "nbconvert_exporter": "python",
   "pygments_lexer": "ipython2",
   "version": "2.7.12"
  }
 },
 "nbformat": 4,
 "nbformat_minor": 0
}
