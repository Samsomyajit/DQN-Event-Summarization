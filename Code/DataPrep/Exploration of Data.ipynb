{
 "cells": [
  {
   "cell_type": "code",
   "execution_count": 3,
   "metadata": {
    "collapsed": false
   },
   "outputs": [],
   "source": [
    "import os\n",
    "import numpy as np\n",
    "import pandas as pd\n",
    "from bs4 import BeautifulSoup"
   ]
  },
  {
   "cell_type": "markdown",
   "metadata": {},
   "source": [
    "## Steps to build pipeline\n",
    "\n",
    "1. Tokenize the query\n",
    "2. Tokenize the streams\n",
    "3. Tokenize the stream\n",
    "\n",
    "Run LSTM on query"
   ]
  },
  {
   "cell_type": "code",
   "execution_count": 18,
   "metadata": {
    "collapsed": false
   },
   "outputs": [
    {
     "data": {
      "text/plain": [
       "['.DS_Store',\n",
       " '2012_aurora_shooting.tsv.gz',\n",
       " '2012_aurora_shooting_first_sentence.tsv.gz',\n",
       " '2012_pakistan_garment_factory_fires.tsv.gz',\n",
       " '2012_pakistan_garment_factory_fires_first_sentence.tsv.gz',\n",
       " 'hurricane_sandy.tsv.gz',\n",
       " 'hurricane_sandy_first_sentence.tsv.gz',\n",
       " 'wisconsin_sikh_temple_shooting.tsv.gz',\n",
       " 'wisconsin_sikh_temple_shooting_first_sentence.tsv.gz']"
      ]
     },
     "execution_count": 18,
     "metadata": {},
     "output_type": "execute_result"
    }
   ],
   "source": [
    "os.chdir('/Users/franciscojavierarceo/GitHub/DeepNLPQLearning/DO_NOT_UPLOAD_THIS_DATA/corpus-data/')\n",
    "os.listdir('./')"
   ]
  },
  {
   "cell_type": "code",
   "execution_count": 4,
   "metadata": {
    "collapsed": true
   },
   "outputs": [],
   "source": [
    "df1 = pd.read_csv('./2012_aurora_shooting.tsv.gz', sep='\\t')\n",
    "df2 = pd.read_csv('./2012_pakistan_garment_factory_fires.tsv.gz', sep='\\t')\n",
    "df3 = pd.read_csv('./hurricane_sandy.tsv.gz', sep='\\t')\n",
    "df4 = pd.read_csv('./wisconsin_sikh_temple_shooting.tsv.gz', sep='\\t')"
   ]
  },
  {
   "cell_type": "markdown",
   "metadata": {},
   "source": [
    "# Modifying the data"
   ]
  },
  {
   "cell_type": "code",
   "execution_count": 5,
   "metadata": {
    "collapsed": false
   },
   "outputs": [
    {
     "name": "stdout",
     "output_type": "stream",
     "text": [
      "((12509, 7), (17849, 7), (15544, 7), (12562, 7))\n"
     ]
    }
   ],
   "source": [
    "print( df1[df1['sentence'] < 1].shape, \n",
    "       df2[df2['sentence'] < 1].shape, \n",
    "       df3[df3['sentence'] < 1].shape, \n",
    "       df4[df4['sentence'] < 1].shape)"
   ]
  },
  {
   "cell_type": "code",
   "execution_count": 124,
   "metadata": {
    "collapsed": true
   },
   "outputs": [],
   "source": [
    "df1[df1['sentence'] < 1].to_csv(\"./2012_aurora_shooting_first_sentence.tsv\", index=False, sep='\\t') \n",
    "df2[df2['sentence'] < 1].to_csv(\"./2012_pakistan_garment_factory_fires_first_sentence.tsv\", index=False, sep='\\t') \n",
    "df3[df3['sentence'] < 1].to_csv('./hurricane_sandy_first_sentence.tsv', index=False, sep='\\t') \n",
    "df4[df4['sentence'] < 1].to_csv('./wisconsin_sikh_temple_shooting_first_sentence.tsv', index=False, sep='\\t') "
   ]
  },
  {
   "cell_type": "code",
   "execution_count": 126,
   "metadata": {
    "collapsed": false
   },
   "outputs": [],
   "source": [
    "! gzip ./2012_aurora_shooting_first_sentence.tsv"
   ]
  },
  {
   "cell_type": "code",
   "execution_count": 128,
   "metadata": {
    "collapsed": false
   },
   "outputs": [],
   "source": [
    "! gzip ./2012_pakistan_garment_factory_fires_first_sentence.tsv"
   ]
  },
  {
   "cell_type": "code",
   "execution_count": 129,
   "metadata": {
    "collapsed": true
   },
   "outputs": [],
   "source": [
    "! gzip ./hurricane_sandy_first_sentence.tsv"
   ]
  },
  {
   "cell_type": "code",
   "execution_count": 131,
   "metadata": {
    "collapsed": false
   },
   "outputs": [],
   "source": [
    "! gzip ./wisconsin_sikh_temple_shooting_first_sentence.tsv"
   ]
  },
  {
   "cell_type": "code",
   "execution_count": 6,
   "metadata": {
    "collapsed": false,
    "scrolled": true
   },
   "outputs": [
    {
     "data": {
      "text/html": [
       "<div>\n",
       "<table border=\"1\" class=\"dataframe\">\n",
       "  <thead>\n",
       "    <tr style=\"text-align: right;\">\n",
       "      <th></th>\n",
       "      <th>hour</th>\n",
       "      <th>score</th>\n",
       "      <th>stream id</th>\n",
       "      <th>url</th>\n",
       "      <th>title</th>\n",
       "      <th>sentence</th>\n",
       "      <th>text</th>\n",
       "    </tr>\n",
       "  </thead>\n",
       "  <tbody>\n",
       "    <tr>\n",
       "      <th>0</th>\n",
       "      <td>0</td>\n",
       "      <td>13.591976</td>\n",
       "      <td>1342767285-e9b3e7dc6a9e31c8b2301848ab082117</td>\n",
       "      <td>http://articles.outtherecolorado.com/articles/...</td>\n",
       "      <td>Monument man to ride in Courage Classic for so...</td>\n",
       "      <td>0</td>\n",
       "      <td>Jason Mezey -LRB- right -RRB- and fellow Coura...</td>\n",
       "    </tr>\n",
       "    <tr>\n",
       "      <th>1</th>\n",
       "      <td>0</td>\n",
       "      <td>13.591976</td>\n",
       "      <td>1342767285-e9b3e7dc6a9e31c8b2301848ab082117</td>\n",
       "      <td>http://articles.outtherecolorado.com/articles/...</td>\n",
       "      <td>Monument man to ride in Courage Classic for so...</td>\n",
       "      <td>1</td>\n",
       "      <td>They 're cycling for those they care for , for...</td>\n",
       "    </tr>\n",
       "    <tr>\n",
       "      <th>2</th>\n",
       "      <td>0</td>\n",
       "      <td>13.591976</td>\n",
       "      <td>1342767285-e9b3e7dc6a9e31c8b2301848ab082117</td>\n",
       "      <td>http://articles.outtherecolorado.com/articles/...</td>\n",
       "      <td>Monument man to ride in Courage Classic for so...</td>\n",
       "      <td>2</td>\n",
       "      <td>For one cyclist , Monument resident Jason Meze...</td>\n",
       "    </tr>\n",
       "    <tr>\n",
       "      <th>3</th>\n",
       "      <td>0</td>\n",
       "      <td>13.591976</td>\n",
       "      <td>1342767285-e9b3e7dc6a9e31c8b2301848ab082117</td>\n",
       "      <td>http://articles.outtherecolorado.com/articles/...</td>\n",
       "      <td>Monument man to ride in Courage Classic for so...</td>\n",
       "      <td>3</td>\n",
       "      <td>The infant has one full left arm , half of his...</td>\n",
       "    </tr>\n",
       "    <tr>\n",
       "      <th>4</th>\n",
       "      <td>0</td>\n",
       "      <td>13.591976</td>\n",
       "      <td>1342767285-e9b3e7dc6a9e31c8b2301848ab082117</td>\n",
       "      <td>http://articles.outtherecolorado.com/articles/...</td>\n",
       "      <td>Monument man to ride in Courage Classic for so...</td>\n",
       "      <td>4</td>\n",
       "      <td>`` Dillon is a normally functioning , healthy ...</td>\n",
       "    </tr>\n",
       "  </tbody>\n",
       "</table>\n",
       "</div>"
      ],
      "text/plain": [
       "   hour      score                                    stream id  \\\n",
       "0     0  13.591976  1342767285-e9b3e7dc6a9e31c8b2301848ab082117   \n",
       "1     0  13.591976  1342767285-e9b3e7dc6a9e31c8b2301848ab082117   \n",
       "2     0  13.591976  1342767285-e9b3e7dc6a9e31c8b2301848ab082117   \n",
       "3     0  13.591976  1342767285-e9b3e7dc6a9e31c8b2301848ab082117   \n",
       "4     0  13.591976  1342767285-e9b3e7dc6a9e31c8b2301848ab082117   \n",
       "\n",
       "                                                 url  \\\n",
       "0  http://articles.outtherecolorado.com/articles/...   \n",
       "1  http://articles.outtherecolorado.com/articles/...   \n",
       "2  http://articles.outtherecolorado.com/articles/...   \n",
       "3  http://articles.outtherecolorado.com/articles/...   \n",
       "4  http://articles.outtherecolorado.com/articles/...   \n",
       "\n",
       "                                               title  sentence  \\\n",
       "0  Monument man to ride in Courage Classic for so...         0   \n",
       "1  Monument man to ride in Courage Classic for so...         1   \n",
       "2  Monument man to ride in Courage Classic for so...         2   \n",
       "3  Monument man to ride in Courage Classic for so...         3   \n",
       "4  Monument man to ride in Courage Classic for so...         4   \n",
       "\n",
       "                                                text  \n",
       "0  Jason Mezey -LRB- right -RRB- and fellow Coura...  \n",
       "1  They 're cycling for those they care for , for...  \n",
       "2  For one cyclist , Monument resident Jason Meze...  \n",
       "3  The infant has one full left arm , half of his...  \n",
       "4  `` Dillon is a normally functioning , healthy ...  "
      ]
     },
     "execution_count": 6,
     "metadata": {},
     "output_type": "execute_result"
    }
   ],
   "source": [
    "df1.head()"
   ]
  },
  {
   "cell_type": "code",
   "execution_count": 72,
   "metadata": {
    "collapsed": false
   },
   "outputs": [
    {
     "data": {
      "text/plain": [
       "12509"
      ]
     },
     "execution_count": 72,
     "metadata": {},
     "output_type": "execute_result"
    }
   ],
   "source": [
    "df1['title'].nunique()"
   ]
  },
  {
   "cell_type": "code",
   "execution_count": 4,
   "metadata": {
    "collapsed": false
   },
   "outputs": [
    {
     "data": {
      "text/plain": [
       "((202215, 7), (293803, 7), (224604, 7), (208706, 7))"
      ]
     },
     "execution_count": 4,
     "metadata": {},
     "output_type": "execute_result"
    }
   ],
   "source": [
    "df1.shape, df2.shape, df3.shape, df4.shape"
   ]
  },
  {
   "cell_type": "code",
   "execution_count": 73,
   "metadata": {
    "collapsed": false
   },
   "outputs": [
    {
     "data": {
      "text/plain": [
       "929328"
      ]
     },
     "execution_count": 73,
     "metadata": {},
     "output_type": "execute_result"
    }
   ],
   "source": [
    "df1.shape[0] + df2.shape[0] + df3.shape[0] + df4.shape[0]"
   ]
  },
  {
   "cell_type": "code",
   "execution_count": 5,
   "metadata": {
    "collapsed": false
   },
   "outputs": [
    {
     "name": "stdout",
     "output_type": "stream",
     "text": [
      "Monument man to ride in Courage Classic for son - OutThereColorado.com\n",
      "They 're cycling for those they care for , for those they know , and for those they nurture .\n"
     ]
    }
   ],
   "source": [
    "# Title is the title of the article\n",
    "print df1[df1['stream id']=='1342767285-e9b3e7dc6a9e31c8b2301848ab082117'].title[1]\n",
    "# Each text is a stream (i.e., a sentence from the article)\n",
    "print df1[df1['stream id']=='1342767285-e9b3e7dc6a9e31c8b2301848ab082117'].text[1]"
   ]
  },
  {
   "cell_type": "code",
   "execution_count": 6,
   "metadata": {
    "collapsed": false,
    "scrolled": true
   },
   "outputs": [
    {
     "data": {
      "text/html": [
       "<div>\n",
       "<table border=\"1\" class=\"dataframe\">\n",
       "  <thead>\n",
       "    <tr style=\"text-align: right;\">\n",
       "      <th></th>\n",
       "      <th>hour</th>\n",
       "      <th>score</th>\n",
       "      <th>stream id</th>\n",
       "      <th>url</th>\n",
       "      <th>title</th>\n",
       "      <th>sentence</th>\n",
       "      <th>text</th>\n",
       "    </tr>\n",
       "  </thead>\n",
       "  <tbody>\n",
       "    <tr>\n",
       "      <th>0</th>\n",
       "      <td>0</td>\n",
       "      <td>13.591976</td>\n",
       "      <td>1342767285-e9b3e7dc6a9e31c8b2301848ab082117</td>\n",
       "      <td>http://articles.outtherecolorado.com/articles/...</td>\n",
       "      <td>Monument man to ride in Courage Classic for so...</td>\n",
       "      <td>0</td>\n",
       "      <td>Jason Mezey -LRB- right -RRB- and fellow Coura...</td>\n",
       "    </tr>\n",
       "    <tr>\n",
       "      <th>1</th>\n",
       "      <td>0</td>\n",
       "      <td>13.591976</td>\n",
       "      <td>1342767285-e9b3e7dc6a9e31c8b2301848ab082117</td>\n",
       "      <td>http://articles.outtherecolorado.com/articles/...</td>\n",
       "      <td>Monument man to ride in Courage Classic for so...</td>\n",
       "      <td>1</td>\n",
       "      <td>They 're cycling for those they care for , for...</td>\n",
       "    </tr>\n",
       "    <tr>\n",
       "      <th>2</th>\n",
       "      <td>0</td>\n",
       "      <td>13.591976</td>\n",
       "      <td>1342767285-e9b3e7dc6a9e31c8b2301848ab082117</td>\n",
       "      <td>http://articles.outtherecolorado.com/articles/...</td>\n",
       "      <td>Monument man to ride in Courage Classic for so...</td>\n",
       "      <td>2</td>\n",
       "      <td>For one cyclist , Monument resident Jason Meze...</td>\n",
       "    </tr>\n",
       "    <tr>\n",
       "      <th>3</th>\n",
       "      <td>0</td>\n",
       "      <td>13.591976</td>\n",
       "      <td>1342767285-e9b3e7dc6a9e31c8b2301848ab082117</td>\n",
       "      <td>http://articles.outtherecolorado.com/articles/...</td>\n",
       "      <td>Monument man to ride in Courage Classic for so...</td>\n",
       "      <td>3</td>\n",
       "      <td>The infant has one full left arm , half of his...</td>\n",
       "    </tr>\n",
       "    <tr>\n",
       "      <th>4</th>\n",
       "      <td>0</td>\n",
       "      <td>13.591976</td>\n",
       "      <td>1342767285-e9b3e7dc6a9e31c8b2301848ab082117</td>\n",
       "      <td>http://articles.outtherecolorado.com/articles/...</td>\n",
       "      <td>Monument man to ride in Courage Classic for so...</td>\n",
       "      <td>4</td>\n",
       "      <td>`` Dillon is a normally functioning , healthy ...</td>\n",
       "    </tr>\n",
       "  </tbody>\n",
       "</table>\n",
       "</div>"
      ],
      "text/plain": [
       "   hour      score                                    stream id  \\\n",
       "0     0  13.591976  1342767285-e9b3e7dc6a9e31c8b2301848ab082117   \n",
       "1     0  13.591976  1342767285-e9b3e7dc6a9e31c8b2301848ab082117   \n",
       "2     0  13.591976  1342767285-e9b3e7dc6a9e31c8b2301848ab082117   \n",
       "3     0  13.591976  1342767285-e9b3e7dc6a9e31c8b2301848ab082117   \n",
       "4     0  13.591976  1342767285-e9b3e7dc6a9e31c8b2301848ab082117   \n",
       "\n",
       "                                                 url  \\\n",
       "0  http://articles.outtherecolorado.com/articles/...   \n",
       "1  http://articles.outtherecolorado.com/articles/...   \n",
       "2  http://articles.outtherecolorado.com/articles/...   \n",
       "3  http://articles.outtherecolorado.com/articles/...   \n",
       "4  http://articles.outtherecolorado.com/articles/...   \n",
       "\n",
       "                                               title  sentence  \\\n",
       "0  Monument man to ride in Courage Classic for so...         0   \n",
       "1  Monument man to ride in Courage Classic for so...         1   \n",
       "2  Monument man to ride in Courage Classic for so...         2   \n",
       "3  Monument man to ride in Courage Classic for so...         3   \n",
       "4  Monument man to ride in Courage Classic for so...         4   \n",
       "\n",
       "                                                text  \n",
       "0  Jason Mezey -LRB- right -RRB- and fellow Coura...  \n",
       "1  They 're cycling for those they care for , for...  \n",
       "2  For one cyclist , Monument resident Jason Meze...  \n",
       "3  The infant has one full left arm , half of his...  \n",
       "4  `` Dillon is a normally functioning , healthy ...  "
      ]
     },
     "execution_count": 6,
     "metadata": {},
     "output_type": "execute_result"
    }
   ],
   "source": [
    "df1.head()"
   ]
  },
  {
   "cell_type": "code",
   "execution_count": 7,
   "metadata": {
    "collapsed": false,
    "scrolled": true
   },
   "outputs": [
    {
     "data": {
      "text/html": [
       "<div>\n",
       "<table border=\"1\" class=\"dataframe\">\n",
       "  <thead>\n",
       "    <tr style=\"text-align: right;\">\n",
       "      <th></th>\n",
       "      <th>hour</th>\n",
       "      <th>score</th>\n",
       "      <th>stream id</th>\n",
       "      <th>url</th>\n",
       "      <th>title</th>\n",
       "      <th>sentence</th>\n",
       "      <th>text</th>\n",
       "    </tr>\n",
       "  </thead>\n",
       "  <tbody>\n",
       "    <tr>\n",
       "      <th>0</th>\n",
       "      <td>0</td>\n",
       "      <td>14.635408</td>\n",
       "      <td>1347369130-aa4ff946adb6599b137feb38281c4018</td>\n",
       "      <td>http://menmedia.co.uk/manchestereveningnews/ne...</td>\n",
       "      <td>Trio arrested over fire which destroyed Radcli...</td>\n",
       "      <td>0</td>\n",
       "      <td>Three men have been arrested on suspicion of a...</td>\n",
       "    </tr>\n",
       "    <tr>\n",
       "      <th>1</th>\n",
       "      <td>0</td>\n",
       "      <td>14.635408</td>\n",
       "      <td>1347369130-aa4ff946adb6599b137feb38281c4018</td>\n",
       "      <td>http://menmedia.co.uk/manchestereveningnews/ne...</td>\n",
       "      <td>Trio arrested over fire which destroyed Radcli...</td>\n",
       "      <td>1</td>\n",
       "      <td>The men - aged 26 , 21 and 18 - have been ques...</td>\n",
       "    </tr>\n",
       "    <tr>\n",
       "      <th>2</th>\n",
       "      <td>0</td>\n",
       "      <td>14.635408</td>\n",
       "      <td>1347369130-aa4ff946adb6599b137feb38281c4018</td>\n",
       "      <td>http://menmedia.co.uk/manchestereveningnews/ne...</td>\n",
       "      <td>Trio arrested over fire which destroyed Radcli...</td>\n",
       "      <td>2</td>\n",
       "      <td>Around 100 homes had to be evacuated because o...</td>\n",
       "    </tr>\n",
       "    <tr>\n",
       "      <th>3</th>\n",
       "      <td>0</td>\n",
       "      <td>14.635408</td>\n",
       "      <td>1347369130-aa4ff946adb6599b137feb38281c4018</td>\n",
       "      <td>http://menmedia.co.uk/manchestereveningnews/ne...</td>\n",
       "      <td>Trio arrested over fire which destroyed Radcli...</td>\n",
       "      <td>3</td>\n",
       "      <td>No-one was hurt .</td>\n",
       "    </tr>\n",
       "    <tr>\n",
       "      <th>4</th>\n",
       "      <td>0</td>\n",
       "      <td>14.635408</td>\n",
       "      <td>1347369130-aa4ff946adb6599b137feb38281c4018</td>\n",
       "      <td>http://menmedia.co.uk/manchestereveningnews/ne...</td>\n",
       "      <td>Trio arrested over fire which destroyed Radcli...</td>\n",
       "      <td>4</td>\n",
       "      <td>Forensic investigators from Greater Manchester...</td>\n",
       "    </tr>\n",
       "  </tbody>\n",
       "</table>\n",
       "</div>"
      ],
      "text/plain": [
       "   hour      score                                    stream id  \\\n",
       "0     0  14.635408  1347369130-aa4ff946adb6599b137feb38281c4018   \n",
       "1     0  14.635408  1347369130-aa4ff946adb6599b137feb38281c4018   \n",
       "2     0  14.635408  1347369130-aa4ff946adb6599b137feb38281c4018   \n",
       "3     0  14.635408  1347369130-aa4ff946adb6599b137feb38281c4018   \n",
       "4     0  14.635408  1347369130-aa4ff946adb6599b137feb38281c4018   \n",
       "\n",
       "                                                 url  \\\n",
       "0  http://menmedia.co.uk/manchestereveningnews/ne...   \n",
       "1  http://menmedia.co.uk/manchestereveningnews/ne...   \n",
       "2  http://menmedia.co.uk/manchestereveningnews/ne...   \n",
       "3  http://menmedia.co.uk/manchestereveningnews/ne...   \n",
       "4  http://menmedia.co.uk/manchestereveningnews/ne...   \n",
       "\n",
       "                                               title  sentence  \\\n",
       "0  Trio arrested over fire which destroyed Radcli...         0   \n",
       "1  Trio arrested over fire which destroyed Radcli...         1   \n",
       "2  Trio arrested over fire which destroyed Radcli...         2   \n",
       "3  Trio arrested over fire which destroyed Radcli...         3   \n",
       "4  Trio arrested over fire which destroyed Radcli...         4   \n",
       "\n",
       "                                                text  \n",
       "0  Three men have been arrested on suspicion of a...  \n",
       "1  The men - aged 26 , 21 and 18 - have been ques...  \n",
       "2  Around 100 homes had to be evacuated because o...  \n",
       "3                                  No-one was hurt .  \n",
       "4  Forensic investigators from Greater Manchester...  "
      ]
     },
     "execution_count": 7,
     "metadata": {},
     "output_type": "execute_result"
    }
   ],
   "source": [
    "df2.head()"
   ]
  },
  {
   "cell_type": "code",
   "execution_count": 8,
   "metadata": {
    "collapsed": false,
    "scrolled": true
   },
   "outputs": [
    {
     "data": {
      "text/html": [
       "<div>\n",
       "<table border=\"1\" class=\"dataframe\">\n",
       "  <thead>\n",
       "    <tr style=\"text-align: right;\">\n",
       "      <th></th>\n",
       "      <th>hour</th>\n",
       "      <th>score</th>\n",
       "      <th>stream id</th>\n",
       "      <th>url</th>\n",
       "      <th>title</th>\n",
       "      <th>sentence</th>\n",
       "      <th>text</th>\n",
       "    </tr>\n",
       "  </thead>\n",
       "  <tbody>\n",
       "    <tr>\n",
       "      <th>0</th>\n",
       "      <td>0</td>\n",
       "      <td>27.31798</td>\n",
       "      <td>1351093540-7889486104cb75da1b70dbca8cd22296</td>\n",
       "      <td>http://www2.wspa.com/news/2012/oct/24/2/soaked...</td>\n",
       "      <td>Sandy Reaches Hurricane Status | WSPA</td>\n",
       "      <td>0</td>\n",
       "      <td>hurricane Sandy as of 11:00 a.m. Wednesday .</td>\n",
       "    </tr>\n",
       "    <tr>\n",
       "      <th>1</th>\n",
       "      <td>0</td>\n",
       "      <td>27.31798</td>\n",
       "      <td>1351093540-7889486104cb75da1b70dbca8cd22296</td>\n",
       "      <td>http://www2.wspa.com/news/2012/oct/24/2/soaked...</td>\n",
       "      <td>Sandy Reaches Hurricane Status | WSPA</td>\n",
       "      <td>1</td>\n",
       "      <td>Sandy is now a category one hurricane .</td>\n",
       "    </tr>\n",
       "    <tr>\n",
       "      <th>2</th>\n",
       "      <td>0</td>\n",
       "      <td>27.31798</td>\n",
       "      <td>1351093540-7889486104cb75da1b70dbca8cd22296</td>\n",
       "      <td>http://www2.wspa.com/news/2012/oct/24/2/soaked...</td>\n",
       "      <td>Sandy Reaches Hurricane Status | WSPA</td>\n",
       "      <td>2</td>\n",
       "      <td>The National Hurricane Center reported Hurrica...</td>\n",
       "    </tr>\n",
       "    <tr>\n",
       "      <th>3</th>\n",
       "      <td>0</td>\n",
       "      <td>27.31798</td>\n",
       "      <td>1351093540-7889486104cb75da1b70dbca8cd22296</td>\n",
       "      <td>http://www2.wspa.com/news/2012/oct/24/2/soaked...</td>\n",
       "      <td>Sandy Reaches Hurricane Status | WSPA</td>\n",
       "      <td>3</td>\n",
       "      <td>A hurricane warning is in effect for Jamaica a...</td>\n",
       "    </tr>\n",
       "    <tr>\n",
       "      <th>4</th>\n",
       "      <td>0</td>\n",
       "      <td>27.31798</td>\n",
       "      <td>1351093540-7889486104cb75da1b70dbca8cd22296</td>\n",
       "      <td>http://www2.wspa.com/news/2012/oct/24/2/soaked...</td>\n",
       "      <td>Sandy Reaches Hurricane Status | WSPA</td>\n",
       "      <td>4</td>\n",
       "      <td>The government of the Bahamas has issued a hur...</td>\n",
       "    </tr>\n",
       "  </tbody>\n",
       "</table>\n",
       "</div>"
      ],
      "text/plain": [
       "   hour     score                                    stream id  \\\n",
       "0     0  27.31798  1351093540-7889486104cb75da1b70dbca8cd22296   \n",
       "1     0  27.31798  1351093540-7889486104cb75da1b70dbca8cd22296   \n",
       "2     0  27.31798  1351093540-7889486104cb75da1b70dbca8cd22296   \n",
       "3     0  27.31798  1351093540-7889486104cb75da1b70dbca8cd22296   \n",
       "4     0  27.31798  1351093540-7889486104cb75da1b70dbca8cd22296   \n",
       "\n",
       "                                                 url  \\\n",
       "0  http://www2.wspa.com/news/2012/oct/24/2/soaked...   \n",
       "1  http://www2.wspa.com/news/2012/oct/24/2/soaked...   \n",
       "2  http://www2.wspa.com/news/2012/oct/24/2/soaked...   \n",
       "3  http://www2.wspa.com/news/2012/oct/24/2/soaked...   \n",
       "4  http://www2.wspa.com/news/2012/oct/24/2/soaked...   \n",
       "\n",
       "                                   title  sentence  \\\n",
       "0  Sandy Reaches Hurricane Status | WSPA         0   \n",
       "1  Sandy Reaches Hurricane Status | WSPA         1   \n",
       "2  Sandy Reaches Hurricane Status | WSPA         2   \n",
       "3  Sandy Reaches Hurricane Status | WSPA         3   \n",
       "4  Sandy Reaches Hurricane Status | WSPA         4   \n",
       "\n",
       "                                                text  \n",
       "0       hurricane Sandy as of 11:00 a.m. Wednesday .  \n",
       "1            Sandy is now a category one hurricane .  \n",
       "2  The National Hurricane Center reported Hurrica...  \n",
       "3  A hurricane warning is in effect for Jamaica a...  \n",
       "4  The government of the Bahamas has issued a hur...  "
      ]
     },
     "execution_count": 8,
     "metadata": {},
     "output_type": "execute_result"
    }
   ],
   "source": [
    "df3.head()"
   ]
  },
  {
   "cell_type": "code",
   "execution_count": 9,
   "metadata": {
    "collapsed": false,
    "scrolled": true
   },
   "outputs": [
    {
     "data": {
      "text/html": [
       "<div>\n",
       "<table border=\"1\" class=\"dataframe\">\n",
       "  <thead>\n",
       "    <tr style=\"text-align: right;\">\n",
       "      <th></th>\n",
       "      <th>hour</th>\n",
       "      <th>score</th>\n",
       "      <th>stream id</th>\n",
       "      <th>url</th>\n",
       "      <th>title</th>\n",
       "      <th>sentence</th>\n",
       "      <th>text</th>\n",
       "    </tr>\n",
       "  </thead>\n",
       "  <tbody>\n",
       "    <tr>\n",
       "      <th>0</th>\n",
       "      <td>0</td>\n",
       "      <td>21.3082</td>\n",
       "      <td>1344181816-4d5484bdb6193dc2a2b198803644c27c</td>\n",
       "      <td>http://www.thisisleicestershire.co.uk/Solar-po...</td>\n",
       "      <td>Solar power at Sikh temple | This is Leicester...</td>\n",
       "      <td>0</td>\n",
       "      <td>A Sikh temple is harnessing the sun 's rays to...</td>\n",
       "    </tr>\n",
       "    <tr>\n",
       "      <th>1</th>\n",
       "      <td>0</td>\n",
       "      <td>21.3082</td>\n",
       "      <td>1344181816-4d5484bdb6193dc2a2b198803644c27c</td>\n",
       "      <td>http://www.thisisleicestershire.co.uk/Solar-po...</td>\n",
       "      <td>Solar power at Sikh temple | This is Leicester...</td>\n",
       "      <td>1</td>\n",
       "      <td>Leicester 's Guru Tegh Bahadur Gurdwara , in E...</td>\n",
       "    </tr>\n",
       "    <tr>\n",
       "      <th>2</th>\n",
       "      <td>0</td>\n",
       "      <td>21.3082</td>\n",
       "      <td>1344181816-4d5484bdb6193dc2a2b198803644c27c</td>\n",
       "      <td>http://www.thisisleicestershire.co.uk/Solar-po...</td>\n",
       "      <td>Solar power at Sikh temple | This is Leicester...</td>\n",
       "      <td>2</td>\n",
       "      <td>The # 125,000 environmental project has been f...</td>\n",
       "    </tr>\n",
       "    <tr>\n",
       "      <th>3</th>\n",
       "      <td>0</td>\n",
       "      <td>21.3082</td>\n",
       "      <td>1344181816-4d5484bdb6193dc2a2b198803644c27c</td>\n",
       "      <td>http://www.thisisleicestershire.co.uk/Solar-po...</td>\n",
       "      <td>Solar power at Sikh temple | This is Leicester...</td>\n",
       "      <td>3</td>\n",
       "      <td>Surinderpal Singh Rai , general secretary of t...</td>\n",
       "    </tr>\n",
       "    <tr>\n",
       "      <th>4</th>\n",
       "      <td>0</td>\n",
       "      <td>21.3082</td>\n",
       "      <td>1344181816-4d5484bdb6193dc2a2b198803644c27c</td>\n",
       "      <td>http://www.thisisleicestershire.co.uk/Solar-po...</td>\n",
       "      <td>Solar power at Sikh temple | This is Leicester...</td>\n",
       "      <td>4</td>\n",
       "      <td>He said : `` It 's a huge four-storey building...</td>\n",
       "    </tr>\n",
       "  </tbody>\n",
       "</table>\n",
       "</div>"
      ],
      "text/plain": [
       "   hour    score                                    stream id  \\\n",
       "0     0  21.3082  1344181816-4d5484bdb6193dc2a2b198803644c27c   \n",
       "1     0  21.3082  1344181816-4d5484bdb6193dc2a2b198803644c27c   \n",
       "2     0  21.3082  1344181816-4d5484bdb6193dc2a2b198803644c27c   \n",
       "3     0  21.3082  1344181816-4d5484bdb6193dc2a2b198803644c27c   \n",
       "4     0  21.3082  1344181816-4d5484bdb6193dc2a2b198803644c27c   \n",
       "\n",
       "                                                 url  \\\n",
       "0  http://www.thisisleicestershire.co.uk/Solar-po...   \n",
       "1  http://www.thisisleicestershire.co.uk/Solar-po...   \n",
       "2  http://www.thisisleicestershire.co.uk/Solar-po...   \n",
       "3  http://www.thisisleicestershire.co.uk/Solar-po...   \n",
       "4  http://www.thisisleicestershire.co.uk/Solar-po...   \n",
       "\n",
       "                                               title  sentence  \\\n",
       "0  Solar power at Sikh temple | This is Leicester...         0   \n",
       "1  Solar power at Sikh temple | This is Leicester...         1   \n",
       "2  Solar power at Sikh temple | This is Leicester...         2   \n",
       "3  Solar power at Sikh temple | This is Leicester...         3   \n",
       "4  Solar power at Sikh temple | This is Leicester...         4   \n",
       "\n",
       "                                                text  \n",
       "0  A Sikh temple is harnessing the sun 's rays to...  \n",
       "1  Leicester 's Guru Tegh Bahadur Gurdwara , in E...  \n",
       "2  The # 125,000 environmental project has been f...  \n",
       "3  Surinderpal Singh Rai , general secretary of t...  \n",
       "4  He said : `` It 's a huge four-storey building...  "
      ]
     },
     "execution_count": 9,
     "metadata": {},
     "output_type": "execute_result"
    }
   ],
   "source": [
    "df4.head()"
   ]
  },
  {
   "cell_type": "code",
   "execution_count": 98,
   "metadata": {
    "collapsed": false
   },
   "outputs": [
    {
     "data": {
      "text/plain": [
       "['.trec2013-ts-topics-test.xml.swp',\n",
       " 'matches.tsv.gz',\n",
       " 'nuggets.tsv.gz',\n",
       " 'trec2013-ts-topics-test.xml',\n",
       " 'updates.tsv.gz']"
      ]
     },
     "execution_count": 98,
     "metadata": {},
     "output_type": "execute_result"
    }
   ],
   "source": [
    "os.listdir('/Users/franciscojavierarceo/GitHub/DeepNLPQLearning/DO_NOT_UPLOAD_THIS_DATA/trec-2013-data/')"
   ]
  },
  {
   "cell_type": "code",
   "execution_count": 5,
   "metadata": {
    "collapsed": false
   },
   "outputs": [],
   "source": [
    "os.chdir('/Users/franciscojavierarceo/GitHub/DeepNLPQLearning/DO_NOT_UPLOAD_THIS_DATA/trec-2013-data/')"
   ]
  },
  {
   "cell_type": "code",
   "execution_count": 110,
   "metadata": {
    "collapsed": false,
    "scrolled": true
   },
   "outputs": [
    {
     "name": "stdout",
     "output_type": "stream",
     "text": [
      "('TS13.1', (56, 6), 'train accident in Buenos Aires, Argentina.')\n",
      "('TS13.10', (37, 6), 'Tel Aviv bus bombing')\n",
      "('TS13.2', (89, 6), 'Pakistan garment factory fires 11 September 2012')\n",
      "('TS13.3', (139, 6), 'At least 12 people were shot in the city of Aurora near Denver,, Colorado.')\n",
      "('TS13.4', (97, 6), \"'Wisconsin Sikh Temple shooting\")\n",
      "('TS13.5', (108, 6), 'Tropical Storm Isaac')\n",
      "('TS13.6', (418, 6), 'Sandy is the eighteenth named storm of the 2012 Atlantic hurricane season.')\n",
      "('TS13.7', (91, 6), 'derecho')\n",
      "('TS13.8', (88, 6), 'Tropical Storm Bopha')\n",
      "('TS13.9', (45, 6), '2012 Guatemala earthquake')\n",
      "('TS13.TEST1', (103, 6), '2012 Tabriz earthquake')\n",
      "('TS13.TEST2', (69, 6), 'Wildfires in Colorado')\n"
     ]
    }
   ],
   "source": [
    "for q in df5['query_id'].unique().tolist():\n",
    "    print(q, df5[df5['query_id']==q].shape, df5[df5['query_id']==q]['nugget_text'].values[0])"
   ]
  },
  {
   "cell_type": "code",
   "execution_count": 115,
   "metadata": {
    "collapsed": false
   },
   "outputs": [],
   "source": [
    "df5[df5['query_id']=='TS13.3'].to_csv(\"./aurora_nuggets.tsv\", sep='\\t')\n",
    "df5[df5['query_id']=='TS13.2'].to_csv(\"./pakistan_nuggets.tsv\", sep='\\t')\n",
    "df5[df5['query_id']=='TS13.6'].to_csv(\"./sandy_nuggets.tsv\", sep='\\t')\n",
    "df5[df5['query_id']=='TS13.4'].to_csv(\"./wisconsin_nuggets.tsv\", sep='\\t')"
   ]
  },
  {
   "cell_type": "code",
   "execution_count": 116,
   "metadata": {
    "collapsed": false
   },
   "outputs": [],
   "source": [
    "! gzip /Users/franciscojavierarceo/GitHub/DeepNLPQLearning/DO_NOT_UPLOAD_THIS_DATA/trec-2013-data/aurora_nuggets.tsv"
   ]
  },
  {
   "cell_type": "code",
   "execution_count": 117,
   "metadata": {
    "collapsed": false
   },
   "outputs": [],
   "source": [
    "! gzip /Users/franciscojavierarceo/GitHub/DeepNLPQLearning/DO_NOT_UPLOAD_THIS_DATA/trec-2013-data/pakistan_nuggets.tsv"
   ]
  },
  {
   "cell_type": "code",
   "execution_count": 118,
   "metadata": {
    "collapsed": true
   },
   "outputs": [],
   "source": [
    "! gzip /Users/franciscojavierarceo/GitHub/DeepNLPQLearning/DO_NOT_UPLOAD_THIS_DATA/trec-2013-data/sandy_nuggets.tsv"
   ]
  },
  {
   "cell_type": "code",
   "execution_count": 119,
   "metadata": {
    "collapsed": true
   },
   "outputs": [],
   "source": [
    "! gzip /Users/franciscojavierarceo/GitHub/DeepNLPQLearning/DO_NOT_UPLOAD_THIS_DATA/trec-2013-data/wisconsin_nuggets.tsv"
   ]
  },
  {
   "cell_type": "code",
   "execution_count": null,
   "metadata": {
    "collapsed": true
   },
   "outputs": [],
   "source": [
    "print(ox)"
   ]
  },
  {
   "cell_type": "code",
   "execution_count": 212,
   "metadata": {
    "collapsed": false
   },
   "outputs": [],
   "source": [
    "df1 = pd.read_csv(\"./nuggets-data/nuggets_2013.tsv.gz\", sep='\\t')\n",
    "df2 = pd.read_csv(\"./nuggets-data/nuggets_2014.tsv.gz\", sep='\\t')\n",
    "df3 = pd.read_csv(\"./nuggets-data/nuggets_2015.tsv.gz\", sep='\\t')"
   ]
  },
  {
   "cell_type": "code",
   "execution_count": 213,
   "metadata": {
    "collapsed": false
   },
   "outputs": [
    {
     "data": {
      "text/html": [
       "<div>\n",
       "<table border=\"1\" class=\"dataframe\">\n",
       "  <thead>\n",
       "    <tr style=\"text-align: right;\">\n",
       "      <th></th>\n",
       "      <th>query_id</th>\n",
       "      <th>nugget_id</th>\n",
       "      <th>timestamp</th>\n",
       "      <th>importance</th>\n",
       "      <th>nugget_len</th>\n",
       "      <th>nugget_text</th>\n",
       "    </tr>\n",
       "  </thead>\n",
       "  <tbody>\n",
       "    <tr>\n",
       "      <th>0</th>\n",
       "      <td>TS13.1</td>\n",
       "      <td>VMTS13.01.050</td>\n",
       "      <td>1329945286</td>\n",
       "      <td>3</td>\n",
       "      <td>6</td>\n",
       "      <td>train accident in Buenos Aires, Argentina.</td>\n",
       "    </tr>\n",
       "    <tr>\n",
       "      <th>1</th>\n",
       "      <td>TS13.1</td>\n",
       "      <td>VMTS13.01.051</td>\n",
       "      <td>1329945286</td>\n",
       "      <td>3</td>\n",
       "      <td>4</td>\n",
       "      <td>unknown number were killed</td>\n",
       "    </tr>\n",
       "    <tr>\n",
       "      <th>2</th>\n",
       "      <td>TS13.1</td>\n",
       "      <td>VMTS13.01.052</td>\n",
       "      <td>1329945286</td>\n",
       "      <td>3</td>\n",
       "      <td>2</td>\n",
       "      <td>Hundreds injured</td>\n",
       "    </tr>\n",
       "    <tr>\n",
       "      <th>3</th>\n",
       "      <td>TS13.1</td>\n",
       "      <td>VMTS13.01.053</td>\n",
       "      <td>1329946985</td>\n",
       "      <td>1</td>\n",
       "      <td>2</td>\n",
       "      <td>in 2012</td>\n",
       "    </tr>\n",
       "    <tr>\n",
       "      <th>4</th>\n",
       "      <td>TS13.1</td>\n",
       "      <td>VMTS13.01.054</td>\n",
       "      <td>1329947346</td>\n",
       "      <td>1</td>\n",
       "      <td>3</td>\n",
       "      <td>February 22, 2012</td>\n",
       "    </tr>\n",
       "  </tbody>\n",
       "</table>\n",
       "</div>"
      ],
      "text/plain": [
       "  query_id      nugget_id   timestamp  importance  nugget_len  \\\n",
       "0   TS13.1  VMTS13.01.050  1329945286           3           6   \n",
       "1   TS13.1  VMTS13.01.051  1329945286           3           4   \n",
       "2   TS13.1  VMTS13.01.052  1329945286           3           2   \n",
       "3   TS13.1  VMTS13.01.053  1329946985           1           2   \n",
       "4   TS13.1  VMTS13.01.054  1329947346           1           3   \n",
       "\n",
       "                                  nugget_text  \n",
       "0  train accident in Buenos Aires, Argentina.  \n",
       "1                  unknown number were killed  \n",
       "2                            Hundreds injured  \n",
       "3                                     in 2012  \n",
       "4                           February 22, 2012  "
      ]
     },
     "execution_count": 213,
     "metadata": {},
     "output_type": "execute_result"
    }
   ],
   "source": [
    "df1.head()"
   ]
  },
  {
   "cell_type": "code",
   "execution_count": 141,
   "metadata": {
    "collapsed": true
   },
   "outputs": [],
   "source": [
    "os.chdir('/Users/franciscojavierarceo/GitHub/DeepNLPQLearning/DO_NOT_UPLOAD_THIS_DATA/')"
   ]
  },
  {
   "cell_type": "code",
   "execution_count": 203,
   "metadata": {
    "collapsed": true
   },
   "outputs": [],
   "source": [
    "def read_queries(fname):\n",
    "    f = open(fname, 'rb')\n",
    "    out = f.readlines()\n",
    "    ox = BeautifulSoup(''.join(out),'lxml').contents[1]\n",
    "    qdata = []\n",
    "    for i in ox.findAll('event'):\n",
    "        qdata.append( (i.findAll('query')[0].text, \n",
    "                  int(i.findAll(\"id\")[0].text),\n",
    "                  fname.replace(\"./trec-data/trec20\", \"TS\").replace(\"-ts-topics-test.xml\", \"\") ))\n",
    "    return qdata"
   ]
  },
  {
   "cell_type": "code",
   "execution_count": 204,
   "metadata": {
    "collapsed": false
   },
   "outputs": [
    {
     "data": {
      "text/plain": [
       "[(u'vauxhall helicopter crash', 26, 'TS15'),\n",
       " (u'cyclone nilam', 27, 'TS15'),\n",
       " (u'savar building collapse', 28, 'TS15'),\n",
       " (u'hyderabad explosion', 29, 'TS15'),\n",
       " (u'brazzaville explosion', 30, 'TS15'),\n",
       " (u'india power blackouts', 31, 'TS15'),\n",
       " (u'innocence of muslims protests', 32, 'TS15'),\n",
       " (u'konna battle', 33, 'TS15'),\n",
       " (u'quetta bombing', 34, 'TS15'),\n",
       " (u'iraq bombing', 35, 'TS15'),\n",
       " (u'iraq bombing', 36, 'TS15'),\n",
       " (u'los angeles arson', 37, 'TS15'),\n",
       " (u'thane building collapsed', 38, 'TS15'),\n",
       " (u'suicide bomber ankara', 39, 'TS15'),\n",
       " (u'baghdad bomb', 40, 'TS15'),\n",
       " (u'aleppo university explosion', 41, 'TS15'),\n",
       " (u'carnival triumph fire', 42, 'TS15'),\n",
       " (u'uss guardian grounding', 43, 'TS15'),\n",
       " (u'aceh earthquake', 44, 'TS15'),\n",
       " (u'haida gwaii earthquake', 45, 'TS15'),\n",
       " (u'catalan protest', 46, 'TS15')]"
      ]
     },
     "execution_count": 204,
     "metadata": {},
     "output_type": "execute_result"
    }
   ],
   "source": [
    "read_queries(xml_file)"
   ]
  },
  {
   "cell_type": "code",
   "execution_count": 209,
   "metadata": {
    "collapsed": true
   },
   "outputs": [],
   "source": [
    "qfilenames = ['./trec-data/trec%i-ts-topics-test.xml' % x for x in range(2013, 2016)]\n",
    "qtuple = []\n",
    "for xml_file in qfilenames:\n",
    "    qtuple.append( read_queries(xml_file))\n",
    "\n",
    "qtuple = list(chain(*qtuple))\n",
    "infilelist = [ './corpus-data/%s.tsv.gz' % q.replace(\" \", \"_\") for (q, i, n)  in qtuple]\n",
    "infilelist = infilelist + qfilenames\n",
    "nuggetlist = [ '%s.%i' % (n, i) for (q, i, n)  in qtuple]\n",
    "outfilelist = ['./0-output/%s_tokenized' % x.split(\"/\")[2].split(\".\")[0] for x in infilelist]"
   ]
  },
  {
   "cell_type": "code",
   "execution_count": 186,
   "metadata": {
    "collapsed": false
   },
   "outputs": [
    {
     "data": {
      "text/plain": [
       "['.ipynb_checkpoints',\n",
       " 'build_data.py',\n",
       " 'build_data.pyc',\n",
       " 'build_first_sentence_data.py',\n",
       " 'build_sentence_data.py',\n",
       " 'Exploration of Data.ipynb']"
      ]
     },
     "execution_count": 186,
     "metadata": {},
     "output_type": "execute_result"
    }
   ],
   "source": [
    "os.listdir(\"../../DO_NOT_UPLOAD_THIS_DATA/\")"
   ]
  },
  {
   "cell_type": "code",
   "execution_count": 194,
   "metadata": {
    "collapsed": false
   },
   "outputs": [],
   "source": [
    "xml_list = ['./trec-data/trec%i-ts-topics-test.xml' % x for x in range(2013, 2016)]\n",
    "qtuple = []\n",
    "for xml_file in xml_list:\n",
    "    qtuple.append( read_queries(xml_file))\n",
    "\n",
    "\n",
    "qtuple = list(chain(*qtuple))\n",
    "infilelist = [ './corpus-data/%s.tsv.gz' % q.replace(\" \", \"_\") for (q, i, y)  in qtuple]\n",
    "infilelist = infilelist + xml_list"
   ]
  },
  {
   "cell_type": "markdown",
   "metadata": {},
   "source": [
    "## These are the matches of the nuggets"
   ]
  },
  {
   "cell_type": "code",
   "execution_count": 178,
   "metadata": {
    "collapsed": false
   },
   "outputs": [
    {
     "data": {
      "text/plain": [
       "['.ipynb_checkpoints',\n",
       " 'build_data.py',\n",
       " 'build_data.pyc',\n",
       " 'build_first_sentence_data.py',\n",
       " 'build_sentence_data.py',\n",
       " 'Exploration of Data.ipynb']"
      ]
     },
     "execution_count": 178,
     "metadata": {},
     "output_type": "execute_result"
    }
   ],
   "source": [
    "os.listdir(\"./\")"
   ]
  },
  {
   "cell_type": "code",
   "execution_count": 7,
   "metadata": {
    "collapsed": false,
    "scrolled": false
   },
   "outputs": [
    {
     "data": {
      "text/plain": [
       "['.total_corpus_smry.csv.swp',\n",
       " '2012_aurora_sentence_numtext.csv',\n",
       " '2012_aurora_sentence_numtext2.csv',\n",
       " '2012_aurora_shooting_first_sentence_numtext.csv',\n",
       " '2012_aurora_shooting_first_sentence_numtext2.csv',\n",
       " '2012_aurora_shooting_numtext.csv',\n",
       " '2012_pakistan_garment_factory_fires_first_sentence_numtext.csv',\n",
       " '2012_pakistan_garment_factory_fires_first_sentence_numtext2.csv',\n",
       " '2012_pakistan_garment_factory_fires_numtext.csv',\n",
       " '2012_pakistan_sentence_numtext.csv',\n",
       " '2012_pakistan_sentence_numtext2.csv',\n",
       " 'aurora_nuggets_numtext.csv',\n",
       " 'hurricane_sandy_first_sentence_numtext.csv',\n",
       " 'hurricane_sandy_numtext.csv',\n",
       " 'LSTMDQN_Dic_id2token.pkl',\n",
       " 'LSTMDQN_Dic_token2id.pkl',\n",
       " 'nuggets_first_sentence_numtext.csv',\n",
       " 'nuggets_numtext.csv',\n",
       " 'pakistan_nuggets_numtext.csv',\n",
       " 'queries_numtext.csv',\n",
       " 'sandy_nuggets_numtext.csv',\n",
       " 'total_corpus_smry.csv',\n",
       " 'trim_data.sh',\n",
       " 'wisconsin_nuggets_numtext.csv',\n",
       " 'wisconsin_sikh_temple_shooting_first_sentence_numtext.csv',\n",
       " 'wisconsin_sikh_temple_shooting_numtext.csv']"
      ]
     },
     "execution_count": 7,
     "metadata": {},
     "output_type": "execute_result"
    }
   ],
   "source": [
    "os.listdir('../0-output/')"
   ]
  },
  {
   "cell_type": "code",
   "execution_count": null,
   "metadata": {
    "collapsed": false
   },
   "outputs": [],
   "source": [
    "df7.head()"
   ]
  },
  {
   "cell_type": "code",
   "execution_count": 14,
   "metadata": {
    "collapsed": false
   },
   "outputs": [],
   "source": [
    "df1 = pd.read_csv(\"../0-output/2012_aurora_shooting_numtext.csv\")\n",
    "df2 = pd.read_csv(\"../0-output/2012_pakistan_garment_factory_fires_numtext.csv\")"
   ]
  },
  {
   "cell_type": "code",
   "execution_count": 15,
   "metadata": {
    "collapsed": false
   },
   "outputs": [
    {
     "data": {
      "text/plain": [
       "((199386, 1), (291011, 1))"
      ]
     },
     "execution_count": 15,
     "metadata": {},
     "output_type": "execute_result"
    }
   ],
   "source": [
    "df1.shape, df2.shape"
   ]
  },
  {
   "cell_type": "code",
   "execution_count": 27,
   "metadata": {
    "collapsed": false
   },
   "outputs": [],
   "source": [
    "maxl = []\n",
    "for line in df1['Text']:\n",
    "    indices = [int(el) for el in line.split(\" \")]\n",
    "    maxl.append(len(indices))"
   ]
  },
  {
   "cell_type": "code",
   "execution_count": 30,
   "metadata": {
    "collapsed": false
   },
   "outputs": [],
   "source": [
    "df3 = pd.DataFrame(maxl, columns=['seqlen'])\n",
    "smry = df3['seqlen'].value_counts().reset_index()\n",
    "smry.columns = ['seqlen' ,'count']\n",
    "smry['cumcount'] = smry['count'].cumsum()\n",
    "smry['percent'] = smry['count'] / smry['count'].sum()\n",
    "smry['cumpercent'] = smry['percent'].cumsum()"
   ]
  },
  {
   "cell_type": "code",
   "execution_count": 58,
   "metadata": {
    "collapsed": false,
    "scrolled": true
   },
   "outputs": [
    {
     "data": {
      "text/html": [
       "<div>\n",
       "<table border=\"1\" class=\"dataframe\">\n",
       "  <thead>\n",
       "    <tr style=\"text-align: right;\">\n",
       "      <th></th>\n",
       "      <th>percent</th>\n",
       "      <th>cumpercent</th>\n",
       "    </tr>\n",
       "  </thead>\n",
       "  <tbody>\n",
       "    <tr>\n",
       "      <th>30</th>\n",
       "      <td>0.007317</td>\n",
       "      <td>0.946355</td>\n",
       "    </tr>\n",
       "    <tr>\n",
       "      <th>31</th>\n",
       "      <td>0.006314</td>\n",
       "      <td>0.952670</td>\n",
       "    </tr>\n",
       "    <tr>\n",
       "      <th>32</th>\n",
       "      <td>0.004980</td>\n",
       "      <td>0.957650</td>\n",
       "    </tr>\n",
       "    <tr>\n",
       "      <th>33</th>\n",
       "      <td>0.004484</td>\n",
       "      <td>0.962134</td>\n",
       "    </tr>\n",
       "    <tr>\n",
       "      <th>34</th>\n",
       "      <td>0.003967</td>\n",
       "      <td>0.966101</td>\n",
       "    </tr>\n",
       "  </tbody>\n",
       "</table>\n",
       "</div>"
      ],
      "text/plain": [
       "     percent  cumpercent\n",
       "30  0.007317    0.946355\n",
       "31  0.006314    0.952670\n",
       "32  0.004980    0.957650\n",
       "33  0.004484    0.962134\n",
       "34  0.003967    0.966101"
      ]
     },
     "execution_count": 58,
     "metadata": {},
     "output_type": "execute_result"
    }
   ],
   "source": [
    "# Looks like the cutoff should be 30\n",
    "smry[['percent','cumpercent']].head(35).tail(5)"
   ]
  }
 ],
 "metadata": {
  "kernelspec": {
   "display_name": "Python 2",
   "language": "python",
   "name": "python2"
  },
  "language_info": {
   "codemirror_mode": {
    "name": "ipython",
    "version": 2
   },
   "file_extension": ".py",
   "mimetype": "text/x-python",
   "name": "python",
   "nbconvert_exporter": "python",
   "pygments_lexer": "ipython2",
   "version": "2.7.12"
  }
 },
 "nbformat": 4,
 "nbformat_minor": 0
}
