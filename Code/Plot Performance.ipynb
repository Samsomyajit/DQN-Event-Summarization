{
 "cells": [
  {
   "cell_type": "code",
   "execution_count": null,
   "metadata": {
    "collapsed": false
   },
   "outputs": [],
   "source": [
    "import os\n",
    "import numpy as np\n",
    "import pandas as pd\n",
    "from  matplotlib import pyplot as plt\n",
    "%matplotlib inline\n",
    "\n",
    "def plot_perf(file_name, varx):\n",
    "    if varx == 'min':\n",
    "        varx = 'amin'\n",
    "    if varx == 'max':\n",
    "        varx = 'amax'\n",
    "\n",
    "    if varx not in ('amin', 'amax', 'mean'):\n",
    "        return \"Please select from ('min', 'max', 'mean')\"\n",
    "    \n",
    "    df1 = pd.read_csv(file_name, header=-1, skiprows=12)\n",
    "    ttl_var = file_name.split('_')[0].replace('./','')\n",
    "    df1.columns = ['Epoch','Epsilon', 'Batch','Ys','Recall','Precision','F1']\n",
    "    df1['Recall'] = df1['Recall'].str.replace(\"Recall = \",'').str.replace('\\{','').astype(float)\n",
    "    df1['Precision'] = df1['Precision'].str.replace(\"Precision = \",'').str.replace('\\}','').astype(float)\n",
    "    df1['F1'] = df1['F1'].str.replace(\"F1 = \",'').str.replace('\\}\\t','').astype(float)\n",
    "    df1['Epoch'] = df1['Epoch'].str.replace(\"Epoch\", '').astype(int)\n",
    "    ms = []\n",
    "    for metric in ('Precision', 'Recall', 'F1'):    \n",
    "        grouped = df1[[metric,'Epoch']].groupby(['Epoch'])\n",
    "        df2 = grouped.agg({np.min, np.mean, np.max })\n",
    "        df2.columns = df2.columns.droplevel(0)\n",
    "        df2 = df2.rename_axis(None, axis=1)\n",
    "        df2 = df2.reset_index()\n",
    "        ms.append( (metric, df2[varx] ))\n",
    "        print('Average max performance of %s is %.6f', (metric, df2['mean'].max()))\n",
    "\n",
    "    plt.figure(figsize=(16, 8))\n",
    "    plt.title(ttl_var + ' average precision, recall, and f1 across epochs')\n",
    "    plt.plot(df2['Epoch'], ms[0][1], label=ms[0][0], c='red')\n",
    "    plt.plot(df2['Epoch'], ms[1][1], label=ms[1][0], c='blue')\n",
    "    plt.plot(df2['Epoch'], ms[2][1], label=ms[2][0], c='purple')\n",
    "    plt.ylim(0,1)\n",
    "    plt.xlabel('Epochs')\n",
    "    plt.legend(loc='lower left')\n",
    "    plt.grid()\n",
    "    plt.show()"
   ]
  },
  {
   "cell_type": "code",
   "execution_count": null,
   "metadata": {
    "collapsed": false,
    "scrolled": false
   },
   "outputs": [],
   "source": [
    "plot_perf('./dqn_lstm_model_perf.txt', 'mean')"
   ]
  },
  {
   "cell_type": "code",
   "execution_count": null,
   "metadata": {
    "collapsed": false
   },
   "outputs": [],
   "source": [
    "plot_perf('./dqn_bow_model_perf.txt', 'mean')"
   ]
  },
  {
   "cell_type": "code",
   "execution_count": null,
   "metadata": {
    "collapsed": true
   },
   "outputs": [],
   "source": []
  },
  {
   "cell_type": "code",
   "execution_count": null,
   "metadata": {
    "collapsed": true
   },
   "outputs": [],
   "source": []
  }
 ],
 "metadata": {
  "kernelspec": {
   "display_name": "Python 2",
   "language": "python",
   "name": "python2"
  },
  "language_info": {
   "codemirror_mode": {
    "name": "ipython",
    "version": 2
   },
   "file_extension": ".py",
   "mimetype": "text/x-python",
   "name": "python",
   "nbconvert_exporter": "python",
   "pygments_lexer": "ipython2",
   "version": "2.7.12"
  }
 },
 "nbformat": 4,
 "nbformat_minor": 0
}
