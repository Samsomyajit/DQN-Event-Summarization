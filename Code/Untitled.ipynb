{
 "cells": [
  {
   "cell_type": "code",
   "execution_count": 3,
   "metadata": {},
   "outputs": [
    {
     "ename": "cannot open Code/utils.lua: No such file or directory\nstack traceback:\n\t/home/francisco/torch/install/share/lua/5.2/itorch/main.lua:167: in function </home/francisco/torch/install/share/lua/5.2/itorch/main.lua:160>\n\t[C]: in function 'dofile'\n\t[string \"local f = function() return dofile(\"Code/util...\"]:1: in function 'f'\n\t[string \"local f = function() return dofile(\"Code/util...\"]:1: in main chunk\n\t[C]: in function 'xpcall'\n\t/home/francisco/torch/install/share/lua/5.2/itorch/main.lua:210: in function </home/francisco/torch/install/share/lua/5.2/itorch/main.lua:174>\n\t(...tail calls...)\n\t/home/francisco/torch/install/share/lua/5.2/lzmq/poller.lua:75: in function 'poll'\n\t...francisco/torch/install/share/lua/5.2/lzmq/impl/loop.lua:307: in function 'poll'\n\t...francisco/torch/install/share/lua/5.2/lzmq/impl/loop.lua:325: in function 'sleep_ex'\n\t...francisco/torch/install/share/lua/5.2/lzmq/impl/loop.lua:370: in function 'start'\n\t/home/francisco/torch/install/share/lua/5.2/itorch/main.lua:389: in main chunk\n\t[C]: in function 'require'\n\t(command line):1: in main chunk\n\t[C]: in ?",
     "evalue": "",
     "output_type": "error",
     "traceback": [
      "cannot open Code/utils.lua: No such file or directory\nstack traceback:\n\t/home/francisco/torch/install/share/lua/5.2/itorch/main.lua:167: in function </home/francisco/torch/install/share/lua/5.2/itorch/main.lua:160>\n\t[C]: in function 'dofile'\n\t[string \"local f = function() return dofile(\"Code/util...\"]:1: in function 'f'\n\t[string \"local f = function() return dofile(\"Code/util...\"]:1: in main chunk\n\t[C]: in function 'xpcall'\n\t/home/francisco/torch/install/share/lua/5.2/itorch/main.lua:210: in function </home/francisco/torch/install/share/lua/5.2/itorch/main.lua:174>\n\t(...tail calls...)\n\t/home/francisco/torch/install/share/lua/5.2/lzmq/poller.lua:75: in function 'poll'\n\t...francisco/torch/install/share/lua/5.2/lzmq/impl/loop.lua:307: in function 'poll'\n\t...francisco/torch/install/share/lua/5.2/lzmq/impl/loop.lua:325: in function 'sleep_ex'\n\t...francisco/torch/install/share/lua/5.2/lzmq/impl/loop.lua:370: in function 'start'\n\t/home/francisco/torch/install/share/lua/5.2/itorch/main.lua:389: in main chunk\n\t[C]: in function 'require'\n\t(command line):1: in main chunk\n\t[C]: in ?"
     ]
    }
   ],
   "source": [
    "dofile(\"Code/utils.lua\")"
   ]
  },
  {
   "cell_type": "code",
   "execution_count": 7,
   "metadata": {},
   "outputs": [
    {
     "data": {
      "text/plain": [
       "{\n",
       "  1 : ..\n",
       "  2 : Simulations\n",
       "  3 : Performance\n",
       "  4 : .\n",
       "  5 : runModel.lua\n",
       "  6 : utils.lua\n",
       "  7 : utilsNN.lua\n",
       "  8 : .DS_Store\n",
       "  9 : runModelProd.lua\n",
       "  10 : Utils\n",
       "  11 : Untitled.ipynb\n",
       "  12 : README.md\n",
       "  13 : utilsBatch.lua\n",
       "  14 : testngrams.lua\n",
       "  15 : .ipynb_checkpoints\n",
       "}\n"
      ]
     },
     "execution_count": 7,
     "metadata": {},
     "output_type": "execute_result"
    }
   ],
   "source": [
    "paths.dir(\"./\")"
   ]
  },
  {
   "cell_type": "code",
   "execution_count": 4,
   "metadata": {},
   "outputs": [
    {
     "ename": "cannot open Code/Utils/load_cnn.lua: No such file or directory\nstack traceback:\n\t/home/francisco/torch/install/share/lua/5.2/itorch/main.lua:167: in function </home/francisco/torch/install/share/lua/5.2/itorch/main.lua:160>\n\t[C]: in function 'dofile'\n\t[string \"local f = function() return dofile(\"Code/Util...\"]:1: in function 'f'\n\t[string \"local f = function() return dofile(\"Code/Util...\"]:1: in main chunk\n\t[C]: in function 'xpcall'\n\t/home/francisco/torch/install/share/lua/5.2/itorch/main.lua:210: in function </home/francisco/torch/install/share/lua/5.2/itorch/main.lua:174>\n\t(...tail calls...)\n\t/home/francisco/torch/install/share/lua/5.2/lzmq/poller.lua:75: in function 'poll'\n\t...francisco/torch/install/share/lua/5.2/lzmq/impl/loop.lua:307: in function 'poll'\n\t...francisco/torch/install/share/lua/5.2/lzmq/impl/loop.lua:325: in function 'sleep_ex'\n\t...francisco/torch/install/share/lua/5.2/lzmq/impl/loop.lua:370: in function 'start'\n\t/home/francisco/torch/install/share/lua/5.2/itorch/main.lua:389: in main chunk\n\t[C]: in function 'require'\n\t(command line):1: in main chunk\n\t[C]: in ?",
     "evalue": "",
     "output_type": "error",
     "traceback": [
      "cannot open Code/Utils/load_cnn.lua: No such file or directory\nstack traceback:\n\t/home/francisco/torch/install/share/lua/5.2/itorch/main.lua:167: in function </home/francisco/torch/install/share/lua/5.2/itorch/main.lua:160>\n\t[C]: in function 'dofile'\n\t[string \"local f = function() return dofile(\"Code/Util...\"]:1: in function 'f'\n\t[string \"local f = function() return dofile(\"Code/Util...\"]:1: in main chunk\n\t[C]: in function 'xpcall'\n\t/home/francisco/torch/install/share/lua/5.2/itorch/main.lua:210: in function </home/francisco/torch/install/share/lua/5.2/itorch/main.lua:174>\n\t(...tail calls...)\n\t/home/francisco/torch/install/share/lua/5.2/lzmq/poller.lua:75: in function 'poll'\n\t...francisco/torch/install/share/lua/5.2/lzmq/impl/loop.lua:307: in function 'poll'\n\t...francisco/torch/install/share/lua/5.2/lzmq/impl/loop.lua:325: in function 'sleep_ex'\n\t...francisco/torch/install/share/lua/5.2/lzmq/impl/loop.lua:370: in function 'start'\n\t/home/francisco/torch/install/share/lua/5.2/itorch/main.lua:389: in main chunk\n\t[C]: in function 'require'\n\t(command line):1: in main chunk\n\t[C]: in ?"
     ]
    }
   ],
   "source": [
    "dofile(\"Code/Utils/load_cnn.lua\")"
   ]
  }
 ],
 "metadata": {
  "kernelspec": {
   "display_name": "iTorch",
   "language": "lua",
   "name": "itorch"
  },
  "language_info": {
   "name": "lua",
   "version": "5.2"
  }
 },
 "nbformat": 4,
 "nbformat_minor": 2
}
