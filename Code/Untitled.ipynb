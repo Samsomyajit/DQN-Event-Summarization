{
 "cells": [
  {
   "cell_type": "code",
   "execution_count": 9,
   "metadata": {
    "collapsed": true
   },
   "outputs": [],
   "source": [
    "%matplotlib inline"
   ]
  },
  {
   "cell_type": "code",
   "execution_count": 2,
   "metadata": {
    "collapsed": true
   },
   "outputs": [],
   "source": [
    "import os\n",
    "import sys\n",
    "import imageio\n",
    "import numpy as np\n",
    "import pandas as pd\n",
    "from matplotlib import pyplot as plt\n",
    "\n",
    "def buildCDF(df, var):\n",
    "    cdf = pd.DataFrame(df[var].value_counts())\n",
    "    cdf = cdf.reset_index(drop=False)\n",
    "    cdf.columns = [var, 'count']\n",
    "    cdf['percent'] = cdf['count'] / cdf['count'].sum()\n",
    "    cdf = cdf.sort_values(by=var)\n",
    "    cdf['cumpercent'] = cdf['percent'].cumsum()\n",
    "    return cdf"
   ]
  },
  {
   "cell_type": "code",
   "execution_count": 3,
   "metadata": {
    "collapsed": true
   },
   "outputs": [],
   "source": [
    "nepochs = 50\n",
    "model = 'lstm'"
   ]
  },
  {
   "cell_type": "code",
   "execution_count": 4,
   "metadata": {
    "collapsed": false
   },
   "outputs": [],
   "source": [
    "afile_names = [('./plotdata/%s/%i_actual.txt' % (model, x) ) for x in range(nepochs) ] \n",
    "pfile_names = [('./plotdata/%s/%i_preds.txt' % (model, x)) for x in range(nepochs) ] "
   ]
  },
  {
   "cell_type": "code",
   "execution_count": 5,
   "metadata": {
    "collapsed": true
   },
   "outputs": [],
   "source": [
    "afile = afile_names[0]\n",
    "pfile = pfile_names[0]"
   ]
  },
  {
   "cell_type": "code",
   "execution_count": 6,
   "metadata": {
    "collapsed": true
   },
   "outputs": [],
   "source": [
    "dfy = pd.read_csv(afile, header=None, names=['actual'])\n",
    "dfp = pd.read_csv(pfile, header=None, names=['preds'])"
   ]
  },
  {
   "cell_type": "code",
   "execution_count": 7,
   "metadata": {
    "collapsed": true
   },
   "outputs": [],
   "source": [
    "cdfy = buildCDF(dfy, 'actual')\n",
    "cdfp = buildCDF(dfp, 'preds')"
   ]
  },
  {
   "cell_type": "code",
   "execution_count": 10,
   "metadata": {
    "collapsed": false
   },
   "outputs": [
    {
     "data": {
      "text/plain": [
       "<matplotlib.figure.Figure at 0x117084b90>"
      ]
     },
     "metadata": {},
     "output_type": "display_data"
    }
   ],
   "source": [
    "fig = plt.figure(figsize=(16,8))"
   ]
  },
  {
   "cell_type": "code",
   "execution_count": 11,
   "metadata": {
    "collapsed": true
   },
   "outputs": [],
   "source": [
    "epoch = 1"
   ]
  },
  {
   "cell_type": "code",
   "execution_count": null,
   "metadata": {
    "collapsed": true
   },
   "outputs": [],
   "source": [
    "plt.plot()"
   ]
  },
  {
   "cell_type": "code",
   "execution_count": 27,
   "metadata": {
    "collapsed": false
   },
   "outputs": [
    {
     "data": {
      "image/png": "[encoded data removed]",
      "text/plain": [
       "<matplotlib.figure.Figure at 0x11b987b50>"
      ]
     },
     "metadata": {},
     "output_type": "display_data"
    }
   ],
   "source": [
    "plt.plot(cdfp['preds'], cdfp['cumpercent'], label='Predicted', c='blue')\n",
    "plt.plot(cdfy['actual'], cdfy['cumpercent'], label='Actual', c='red')\n",
    "plt.title((\"Training Epoch %i\" % epoch))\n",
    "plt.legend(loc=\"lower right\")\n",
    "plt.savefig('test.png')"
   ]
  },
  {
   "cell_type": "code",
   "execution_count": 23,
   "metadata": {
    "collapsed": true
   },
   "outputs": [],
   "source": [
    "import os"
   ]
  },
  {
   "cell_type": "code",
   "execution_count": 29,
   "metadata": {
    "collapsed": true
   },
   "outputs": [],
   "source": [
    "! rm test.png"
   ]
  },
  {
   "cell_type": "code",
   "execution_count": 28,
   "metadata": {
    "collapsed": false
   },
   "outputs": [
    {
     "data": {
      "text/plain": [
       "['.DS_Store',\n",
       " '.gitignore',\n",
       " '.ipynb_checkpoints',\n",
       " 'avp_density.gif',\n",
       " 'bow-avg.lua',\n",
       " 'build_data.py',\n",
       " 'build_data.pyc',\n",
       " 'build_first_sentence_data.py',\n",
       " 'build_sentence_data.py',\n",
       " 'dqn_model.lua',\n",
       " 'Exploration of Data.ipynb',\n",
       " 'make_density_gif.py',\n",
       " 'model_utils.lua',\n",
       " 'optim_model.lua',\n",
       " 'Performance',\n",
       " 'plotdata',\n",
       " 'Python Rouge.ipynb',\n",
       " 'README.md',\n",
       " 'rouge_metric.lua',\n",
       " 'run_models.sh',\n",
       " 'simulation_test.lua',\n",
       " 'test.png',\n",
       " 'Torch RNN.ipynb',\n",
       " 'Torch Rouge.ipynb',\n",
       " 'trim_data.sh',\n",
       " 'Untitled.ipynb',\n",
       " 'utils.lua']"
      ]
     },
     "execution_count": 28,
     "metadata": {},
     "output_type": "execute_result"
    }
   ],
   "source": [
    "os.listdir(\"./\")"
   ]
  },
  {
   "cell_type": "code",
   "execution_count": null,
   "metadata": {
    "collapsed": true
   },
   "outputs": [],
   "source": []
  }
 ],
 "metadata": {
  "kernelspec": {
   "display_name": "Python 2",
   "language": "python",
   "name": "python2"
  },
  "language_info": {
   "codemirror_mode": {
    "name": "ipython",
    "version": 2
   },
   "file_extension": ".py",
   "mimetype": "text/x-python",
   "name": "python",
   "nbconvert_exporter": "python",
   "pygments_lexer": "ipython2",
   "version": "2.7.12"
  }
 },
 "nbformat": 4,
 "nbformat_minor": 0
}
