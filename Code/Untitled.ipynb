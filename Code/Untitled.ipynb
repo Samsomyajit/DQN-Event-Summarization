{
 "cells": [
  {
   "cell_type": "code",
   "execution_count": null,
   "metadata": {
    "collapsed": true
   },
   "outputs": [],
   "source": [
    "from pyrouge import Rouge155\n",
    "from pprint import pprint\n",
    "import pyrouge\n",
    "\n",
    "ref_texts = {'A': \"Poor nations pressurise developed countries into granting trade subsidies.\",\n",
    "             'B': \"Developed countries should be pressurized. Business exemptions to poor nations.\",\n",
    "             'C': \"World's poor decide to urge developed nations for business concessions.\"}\n",
    "summary_text = \"Poor nations demand trade subsidies from developed nations.\""
   ]
  },
  {
   "cell_type": "code",
   "execution_count": null,
   "metadata": {
    "collapsed": true
   },
   "outputs": [],
   "source": [
    "pyrouge.Rouge155()"
   ]
  }
 ],
 "metadata": {
  "kernelspec": {
   "display_name": "Python 2",
   "language": "python",
   "name": "python2"
  },
  "language_info": {
   "codemirror_mode": {
    "name": "ipython",
    "version": 2
   },
   "file_extension": ".py",
   "mimetype": "text/x-python",
   "name": "python",
   "nbconvert_exporter": "python",
   "pygments_lexer": "ipython2",
   "version": "2.7.12"
  }
 },
 "nbformat": 4,
 "nbformat_minor": 0
}
