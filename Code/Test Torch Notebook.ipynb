{
 "cells": [
  {
   "cell_type": "code",
   "execution_count": null,
   "metadata": {
    "collapsed": false
   },
   "outputs": [],
   "source": [
    "require 'torch'"
   ]
  },
  {
   "cell_type": "code",
   "execution_count": null,
   "metadata": {
    "collapsed": true
   },
   "outputs": [],
   "source": [
    "require 'nn'\n",
    "require 'optim'"
   ]
  },
  {
   "cell_type": "code",
   "execution_count": null,
   "metadata": {
    "collapsed": false
   },
   "outputs": [],
   "source": [
    "require 'moses'"
   ]
  },
  {
   "cell_type": "code",
   "execution_count": null,
   "metadata": {
    "collapsed": false
   },
   "outputs": [],
   "source": [
    "torch.manualSeed(1234)"
   ]
  },
  {
   "cell_type": "code",
   "execution_count": null,
   "metadata": {
    "collapsed": true
   },
   "outputs": [],
   "source": [
    "n = 5"
   ]
  },
  {
   "cell_type": "code",
   "execution_count": null,
   "metadata": {
    "collapsed": true
   },
   "outputs": [],
   "source": [
    "X = torch.rand(n, n)"
   ]
  },
  {
   "cell_type": "code",
   "execution_count": null,
   "metadata": {
    "collapsed": false
   },
   "outputs": [],
   "source": [
    "X"
   ]
  },
  {
   "cell_type": "code",
   "execution_count": null,
   "metadata": {
    "collapsed": true
   },
   "outputs": [],
   "source": [
    "X = X*X:t()"
   ]
  },
  {
   "cell_type": "code",
   "execution_count": null,
   "metadata": {
    "collapsed": false
   },
   "outputs": [],
   "source": [
    "X"
   ]
  },
  {
   "cell_type": "code",
   "execution_count": null,
   "metadata": {
    "collapsed": false
   },
   "outputs": [],
   "source": [
    "X:add(0.001, torch.eye(n))"
   ]
  },
  {
   "cell_type": "code",
   "execution_count": null,
   "metadata": {
    "collapsed": false
   },
   "outputs": [],
   "source": [
    "X"
   ]
  },
  {
   "cell_type": "code",
   "execution_count": null,
   "metadata": {
    "collapsed": true
   },
   "outputs": [],
   "source": [
    "b = torch.rand(n)"
   ]
  },
  {
   "cell_type": "code",
   "execution_count": null,
   "metadata": {
    "collapsed": false
   },
   "outputs": [],
   "source": [
    "function J(y, z)\n",
    "    return 0.5*z:dot(y*z) - b:dot(z)\n",
    "end"
   ]
  },
  {
   "cell_type": "code",
   "execution_count": null,
   "metadata": {
    "collapsed": false
   },
   "outputs": [],
   "source": [
    "print( J(X, torch.rand(n)))"
   ]
  },
  {
   "cell_type": "code",
   "execution_count": null,
   "metadata": {
    "collapsed": false
   },
   "outputs": [],
   "source": [
    "print( J(torch.rand(n, n), torch.rand(n)))"
   ]
  },
  {
   "cell_type": "code",
   "execution_count": null,
   "metadata": {
    "collapsed": true
   },
   "outputs": [],
   "source": [
    "xs = torch.inverse(X)*b"
   ]
  },
  {
   "cell_type": "code",
   "execution_count": null,
   "metadata": {
    "collapsed": false
   },
   "outputs": [],
   "source": [
    "print(string.format('J(x^*) = %g', J(X, xs)))"
   ]
  },
  {
   "cell_type": "code",
   "execution_count": null,
   "metadata": {
    "collapsed": true
   },
   "outputs": [],
   "source": [
    "function dJ(A, z, b)\n",
    "  return A*z-b\n",
    "end"
   ]
  },
  {
   "cell_type": "code",
   "execution_count": null,
   "metadata": {
    "collapsed": false
   },
   "outputs": [],
   "source": [
    "x = torch.rand(n)\n",
    "\n",
    "lr = 0.01\n",
    "for i=1,20000 do\n",
    "  x = x - dJ(X, x, b)*lr\n",
    "  print(string.format('at iter %d J(x) = %f', i, J(X, x)))\n",
    "end"
   ]
  },
  {
   "cell_type": "code",
   "execution_count": null,
   "metadata": {
    "collapsed": false
   },
   "outputs": [],
   "source": [
    "do\n",
    "   local A = torch.rand(N, N)\n",
    "   print(A)\n",
    "end\n",
    "print(A)"
   ]
  },
  {
   "cell_type": "code",
   "execution_count": null,
   "metadata": {
    "collapsed": true
   },
   "outputs": [],
   "source": [
    "do\n",
    "   local neval = 0\n",
    "   function JdJ(x)\n",
    "      local Jx = J(x)\n",
    "      neval = neval + 1\n",
    "      print(string.format('after %d evaluations J(x) = %f', neval, Jx))\n",
    "      return Jx, dJ(x)\n",
    "   end\n",
    "end"
   ]
  },
  {
   "cell_type": "code",
   "execution_count": null,
   "metadata": {
    "collapsed": true
   },
   "outputs": [],
   "source": []
  },
  {
   "cell_type": "code",
   "execution_count": null,
   "metadata": {
    "collapsed": true
   },
   "outputs": [],
   "source": [
    "xs = torch.rand(100, 5)\n",
    "e = torch.rand(100, 1)\n",
    "b = torch.randn(5)\n",
    "yhat = xs*b\n",
    "y = yhat + e"
   ]
  },
  {
   "cell_type": "code",
   "execution_count": null,
   "metadata": {
    "collapsed": false
   },
   "outputs": [],
   "source": [
    "linLayer = nn.Linear(5, 10)\n",
    "linLayer2 = nn.Linear(10, 50)\n",
    "linLayer3 = nn.Linear(50, 1)"
   ]
  },
  {
   "cell_type": "code",
   "execution_count": null,
   "metadata": {
    "collapsed": true
   },
   "outputs": [],
   "source": [
    "model = nn.Sequential()\n",
    "model:add(linLayer)\n",
    "model:add(linLayer2)\n",
    "model:add(linLayer3)"
   ]
  },
  {
   "cell_type": "code",
   "execution_count": null,
   "metadata": {
    "collapsed": true
   },
   "outputs": [],
   "source": [
    "criterion = nn.MSECriterion()"
   ]
  },
  {
   "cell_type": "code",
   "execution_count": null,
   "metadata": {
    "collapsed": true
   },
   "outputs": [],
   "source": [
    "x, dl_dx = model:getParameters()"
   ]
  },
  {
   "cell_type": "code",
   "execution_count": null,
   "metadata": {
    "collapsed": true
   },
   "outputs": [],
   "source": [
    "data = torch.Tensor(xs, y)"
   ]
  },
  {
   "cell_type": "code",
   "execution_count": null,
   "metadata": {
    "collapsed": true
   },
   "outputs": [],
   "source": [
    "logger = optim.Logger('loss_log.txt')\n"
   ]
  },
  {
   "cell_type": "code",
   "execution_count": null,
   "metadata": {
    "collapsed": false
   },
   "outputs": [],
   "source": [
    "feval = function(x_new)\n",
    "    if x ~= x_new then\n",
    "        x:copy(x_new)\n",
    "    end\n",
    "\n",
    "    _nidx_ = (_nidx_ or 0) + 1\n",
    "    if _nidx_ > (#data)[1] then _nidx_ = 1 end\n",
    "\n",
    "    local sample = data[_nidx_]\n",
    "    local target = sample[{ 6 }]        -- this funny looking syntax allows\n",
    "    local inputs = sample[{ {1,2,3,4,5} }]    -- slicing of arrays.\n",
    "\n",
    "    dl_dx:zero()\n",
    "    local loss_x = criterion:forward(model:forward(inputs), target)\n",
    "    model:backward(inputs, criterion:backward(model.output, target))\n",
    "    if false then\n",
    "        local p = model:getParameters()\n",
    "        print(string.format(\n",
    "                \"parameters %0.2f %0.2f %0.2f %0.2f %0.2f %0.2f %0.2f %0.2f %0.2f\", \n",
    "                p[1], p[2], p[3], p[4], p[5], p[6], p[7], p[8], p[9])\n",
    "        )\n",
    "    end\n",
    "\n",
    "    -- return loss(x) and dloss/dx\n",
    "    return loss_x, dl_dx\n",
    "end\n"
   ]
  },
  {
   "cell_type": "code",
   "execution_count": null,
   "metadata": {
    "collapsed": true
   },
   "outputs": [],
   "source": [
    "sgd_params = {\n",
    "   learningRate = 1e-3,\n",
    "   learningRateDecay = 1e-4,\n",
    "   weightDecay = 0,\n",
    "   momentum = 0\n",
    "}\n"
   ]
  },
  {
   "cell_type": "code",
   "execution_count": null,
   "metadata": {
    "collapsed": false,
    "scrolled": true
   },
   "outputs": [],
   "source": [
    "for i = 1,1e4 do\n",
    "   for i = 1,(#data)[1] do\n",
    "      _,fs = optim.sgd(feval, x, sgd_params)\n",
    "      current_loss = current_loss + fs[1]\n",
    "   end\n",
    "   current_loss = current_loss / (#data)[1]\n",
    "   print('current loss = ' .. current_loss)\n",
    "   \n",
    "   logger:add{['training error'] = current_loss}\n",
    "   logger:style{['training error'] = '-'}\n",
    "   logger:plot()  \n",
    "end\n"
   ]
  },
  {
   "cell_type": "code",
   "execution_count": null,
   "metadata": {
    "collapsed": true
   },
   "outputs": [],
   "source": []
  },
  {
   "cell_type": "code",
   "execution_count": null,
   "metadata": {
    "collapsed": true
   },
   "outputs": [],
   "source": []
  },
  {
   "cell_type": "code",
   "execution_count": null,
   "metadata": {
    "collapsed": false
   },
   "outputs": [],
   "source": [
    "data = torch.Tensor{\n",
    "   {40,  6,  4, 8},\n",
    "   {44, 10,  4, 7},\n",
    "   {46, 12,  5, 13},\n",
    "   {48, 14,  7, 4},\n",
    "   {52, 16,  9, 20},\n",
    "   {58, 18, 12, 8},\n",
    "   {60, 22, 14, 5},\n",
    "   {68, 24, 20, 13},\n",
    "   {74, 26, 21, 20},\n",
    "   {80, 32, 24, 21}\n",
    "--    {40,  6,  4},\n",
    "--    {44, 10,  4},\n",
    "--    {46, 12,  5},\n",
    "--    {48, 14,  7},\n",
    "--    {52, 16,  9},\n",
    "--    {58, 18, 12},\n",
    "--    {60, 22, 14},\n",
    "--    {68, 24, 20},\n",
    "--    {74, 26, 21},\n",
    "--    {80, 32, 24}\n",
    "}\n",
    "logger = optim.Logger('loss_log.txt')\n",
    "\n",
    "\n",
    "model = nn.Sequential()                 -- define the container\n",
    "ninputs = 2; noutputs = 1\n",
    "model:add(nn.Linear(ninputs, noutputs)) -- define the only module\n",
    "criterion = nn.MSECriterion()\n",
    "\n",
    "x, dl_dx = model:getParameters()\n",
    "\n",
    "feval = function(x_new)\n",
    "   if x ~= x_new then\n",
    "      x:copy(x_new)\n",
    "   end\n",
    "   _nidx_ = (_nidx_ or 0) + 1\n",
    "   if _nidx_ > (#data)[1] then _nidx_ = 1 end\n",
    "\n",
    "   local sample = data[_nidx_]\n",
    "   local target = sample[{ {1} }]      -- this funny looking syntax allows\n",
    "   local inputs = sample[{ {2,3,4} }]    -- slicing of arrays.\n",
    "--    local inputs = sample[{ {2,3} }]    -- slicing of arrays.\n",
    "\n",
    "   dl_dx:zero()\n",
    "   local loss_x = criterion:forward(model:forward(inputs), target)\n",
    "   model:backward(inputs, criterion:backward(model.output, target))\n",
    "   return loss_x, dl_dx\n",
    "end\n",
    "\n",
    "sgd_params = {\n",
    "   learningRate = 1e-3,\n",
    "   learningRateDecay = 1e-4,\n",
    "   weightDecay = 0,\n",
    "   momentum = 0\n",
    "}\n",
    "\n",
    "for i = 1,1e4 do\n",
    "   current_loss = 0\n",
    "   for i = 1,(#data)[1] do\n",
    "      _,fs = optim.sgd(feval,x,sgd_params)\n",
    "      current_loss = current_loss + fs[1]\n",
    "   end\n",
    "\n",
    "   current_loss = current_loss / (#data)[1]\n",
    "   print('current loss = ' .. current_loss)\n",
    "   \n",
    "   logger:add{['training error'] = current_loss}\n",
    "   logger:style{['training error'] = '-'}\n",
    "   logger:plot()  \n",
    "end\n",
    "\n",
    "text = {40.32, 42.92, 45.33, 48.85, 52.37, 57, 61.82, 69.78, 72.19, 79.42}\n",
    "\n",
    "print('id  approx   text')\n",
    "for i = 1,(#data)[1] do\n",
    "   local myPrediction = model:forward(data[i][{{2,3}}])\n",
    "   ---print(string.format(\"%2d  %6.2f %6.2f\", i, myPrediction[1], text[i]))\n",
    "end"
   ]
  },
  {
   "cell_type": "code",
   "execution_count": null,
   "metadata": {
    "collapsed": true
   },
   "outputs": [],
   "source": []
  }
 ],
 "metadata": {
  "kernelspec": {
   "display_name": "iTorch",
   "language": "lua",
   "name": "itorch"
  },
  "language_info": {
   "name": "lua",
   "version": "5.1"
  }
 },
 "nbformat": 4,
 "nbformat_minor": 0
}
