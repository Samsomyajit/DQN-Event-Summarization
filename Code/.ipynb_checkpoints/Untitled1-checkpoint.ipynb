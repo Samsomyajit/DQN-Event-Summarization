{
 "cells": [
  {
   "cell_type": "code",
   "execution_count": 21,
   "metadata": {
    "collapsed": false
   },
   "outputs": [
    {
     "data": {
      "text/plain": [
       "...Utils file loaded\t\n"
      ]
     },
     "execution_count": 21,
     "metadata": {},
     "output_type": "execute_result"
    },
    {
     "data": {
      "text/plain": [
       "...running on CPU\t\n"
      ]
     },
     "execution_count": 21,
     "metadata": {},
     "output_type": "execute_result"
    }
   ],
   "source": [
    "require 'optim'\n",
    "require 'io'\n",
    "require 'torch'\n",
    "require 'nn'\n",
    "require 'rnn'\n",
    "require 'csvigo'\n",
    "require 'cutorch'\n",
    "require 'cunn'\n",
    "require 'cunnx'\n",
    "\n",
    "dl = require 'dataload'\n",
    "cmd = torch.CmdLine()\n",
    "\n",
    "cmd:option('--nepochs', 5, 'running for 50 epochs')\n",
    "cmd:option('--learning_rate', 1e-5, 'using a learning rate of 1e-5')\n",
    "cmd:option('--gamma', 0., 'Discount rate parameter in backprop step')\n",
    "cmd:option('--epsilon', 1., 'Random search rate')\n",
    "cmd:option('--cuts', 4, 'Discount rate parameter in backprop step')\n",
    "cmd:option('--base_explore_rate', 0.0, 'Base rate')\n",
    "cmd:option('--mem_size', 100, 'Memory size')\n",
    "cmd:option('--batch_size', 200,'Batch Size')\n",
    "cmd:option('--model','bow','BOW/LSTM option')\n",
    "cmd:option('--embeddingSize', 64,'Embedding dimension')\n",
    "cmd:option('--usecuda', false, 'running on cuda')\n",
    "cmd:option('--metric', \"f1\", 'Metric to learn')\n",
    "cmd:option('--n_samples', 20, 'Number of samples to use')\n",
    "cmd:option('--maxSummarySize', 300, 'Maximum summary size')\n",
    "cmd:option('--end_baserate', 5, 'Epoch number at which the base_rate ends')\n",
    "cmd:option('--K_tokens', 25, 'Maximum number of tokens for each sentence')\n",
    "cmd:option('--thresh', 0, 'Threshold operator')\n",
    "cmd:option('--adapt', false, 'Domain Adaptation Regularization')\n",
    "cmd:option('--n_backprops', 3, 'Number of times to backprop through the data')\n",
    "cmd:text()\n",
    "--- this retrieves the commands and stores them in opt.variable (e.g., opt.model)\n",
    "local opt = cmd:parse(arg or {})\n",
    "\n",
    "dofile(\"utils.lua\")\n",
    "dofile(\"utilsNN.lua\")\n",
    "\n",
    "input_path = '~/GitHub/DeepNLPQLearning/DO_NOT_UPLOAD_THIS_DATA/0-output/'\n",
    "\n",
    "query_fn = input_path .. 'queries_numtext.csv'\n",
    "query_file =  csvigo.load({path = query_fn, mode = \"large\", verbose = false})\n",
    "queries = padZeros(buildTermDocumentTable(query_file, nil), 5)\n",
    "\n",
    "stoplist = input_path .. 'stopwordids.csv'\n",
    "stopfile = csvigo.load({path = stoplist, mode = \"large\", verbose = false})\n",
    "stoplist = buildTermDocumentTable(stopfile, nil)\n",
    "stopwords = {}\n",
    "for k,v in pairs(stoplist) do \n",
    "    stopwords[k]  = v[1]\n",
    "end\n",
    "\n",
    "local pakistan = {\n",
    "        ['inputs'] = '2012_pakistan_garment_factory_fires_first_sentence_numtext2.csv',\n",
    "        ['nuggets'] ='pakistan_nuggets_numtext.csv',\n",
    "        ['query'] = queries[2],\n",
    "        ['query_name'] = 'pakistan'\n",
    "}\n",
    "local aurora = {\n",
    "        ['inputs'] = '2012_aurora_shooting_first_sentence_numtext2.csv', \n",
    "        ['nuggets'] = 'aurora_nuggets_numtext.csv',\n",
    "        ['query'] = queries[3],\n",
    "        ['query_name'] = 'aurora'\n",
    "}\n",
    "local wisconsin = {\n",
    "        ['inputs'] = 'wisconsin_sikh_temple_shooting_first_sentence_numtext.csv',\n",
    "        ['nuggets'] ='wisconsin_nuggets_numtext.csv',\n",
    "        ['query'] = queries[4],\n",
    "        ['query_name'] = 'wisconsin'\n",
    "}\n",
    "local sandy = {\n",
    "        ['inputs'] = 'hurricane_sandy_first_sentence_numtext2.csv',\n",
    "        ['nuggets'] ='sandy_nuggets_numtext.csv',\n",
    "        ['query'] = queries[6],\n",
    "        ['query_name'] = 'sandy'\n",
    "}\n",
    "\n",
    "inputs = {\n",
    "        aurora, \n",
    "        pakistan,\n",
    "}\n",
    "\n",
    "if opt.usecuda then\n",
    "    Tensor = torch.CudaTensor\n",
    "    LongTensor = torch.CudaLongTensor\n",
    "    ByteTensor = torch.CudaByteTensor\n",
    "    print(\"...running on GPU\")\n",
    "else\n",
    "    torch.setnumthreads(8)\n",
    "    Tensor = torch.Tensor\n",
    "    LongTensor = torch.LongTensor\n",
    "    ByteTensor = torch.ByteTensor\n",
    "    print(\"...running on CPU\")\n",
    "end\n",
    "\n",
    "local delta = opt.cuts/opt.nepochs\n",
    "local optimParams = { learningRate = opt.learning_rate }\n",
    "\n",
    "-- Initializing the model variables\n",
    "vocabSize, query_data = intialize_variables(query_file, inputs, \n",
    "                                            opt.n_samples, input_path, opt.K_tokens, \n",
    "                                            opt.maxSummarySize, stopwords, opt.thresh)"
   ]
  },
  {
   "cell_type": "code",
   "execution_count": 22,
   "metadata": {
    "collapsed": false
   },
   "outputs": [],
   "source": [
    "refCounts = query_data[1][12]"
   ]
  },
  {
   "cell_type": "code",
   "execution_count": 23,
   "metadata": {
    "collapsed": false
   },
   "outputs": [],
   "source": [
    "refSummary = query_data[1][11]"
   ]
  },
  {
   "cell_type": "code",
   "execution_count": 24,
   "metadata": {
    "collapsed": true
   },
   "outputs": [],
   "source": [
    "refCounts2 = buildTokenCounts(refSummary, nil)"
   ]
  },
  {
   "cell_type": "code",
   "execution_count": 25,
   "metadata": {
    "collapsed": false
   },
   "outputs": [
    {
     "data": {
      "text/plain": [
       "{\n",
       "  2 : 0\n",
       "  6 : 0\n",
       "  7 : 0\n",
       "  10 : 0\n",
       "  15 : 0\n",
       "  828 : 0\n",
       "  234 : 0\n",
       "  245 : 0\n",
       "  1285 : 0\n",
       "  500 : 0\n",
       "  778 : 0\n",
       "  502 : 0\n",
       "  782 : 0\n",
       "  1054 : 0\n",
       "  774 : 0\n",
       "  1223 : 0\n",
       "  60 : 0\n",
       "  1506 : 0\n",
       "  1518 : 0\n",
       "  1673 : 0\n",
       "  1426 : 0\n",
       "  1422 : 0\n",
       "  51 : 0\n",
       "  405 : 0\n",
       "  406 : 0\n",
       "  1466 : 0\n",
       "  715 : 0\n",
       "  402 : 0\n",
       "  403 : 0\n",
       "  412 : 0\n",
       "  413 : 0\n",
       "  205 : 0\n",
       "  408 : 0\n",
       "  203 : 0\n",
       "  411 : 0\n",
       "  958 : 139\n",
       "  196550 : 556\n",
       "  689 : 0\n",
       "  426 : 0\n",
       "  669 : 0\n",
       "  665 : 0\n",
       "  1286 : 0\n",
       "  663 : 0\n",
       "  1027 : 0\n",
       "  1043 : 0\n",
       "  1047 : 0\n",
       "  1051 : 0\n",
       "  223 : 0\n",
       "  1503 : 0\n",
       "  1224 : 0\n",
       "  1220 : 0\n",
       "  889 : 0\n",
       "  25 : 0\n",
       "  1511 : 0\n",
       "  1507 : 0\n",
       "  166 : 0\n",
       "  618 : 0\n",
       "  616 : 0\n",
       "  614 : 0\n",
       "  85 : 0\n",
       "  1423 : 0\n",
       "  1419 : 0\n",
       "  1698 : 0\n",
       "  839 : 0\n",
       "  1447 : 0\n",
       "  336 : 0\n",
       "  1120 : 0\n",
       "  348 : 0\n",
       "  1395 : 0\n",
       "  1068 : 0\n",
       "  1339 : 0\n",
       "  1028 : 0\n",
       "  781 : 0\n",
       "  1044 : 0\n",
       "  1048 : 0\n",
       "  771 : 0\n",
       "  773 : 0\n",
       "  775 : 0\n",
       "  1225 : 0\n",
       "  1221 : 0\n",
       "  136 : 0\n",
       "  1512 : 0\n",
       "  1675 : 0\n",
       "  44 : 0\n",
       "  1456 : 0\n",
       "  1452 : 0\n",
       "  1448 : 0\n",
       "  133 : 0\n",
       "  642 : 0\n",
       "  428 : 0"
      ]
     },
     "execution_count": 25,
     "metadata": {},
     "output_type": "execute_result"
    },
    {
     "data": {
      "text/plain": [
       "\n",
       "  64 : 0\n",
       "  1670 : 0\n",
       "  1676 : 0\n",
       "  1671 : 0\n",
       "  1672 : 0\n",
       "  662 : 0\n",
       "  1421 : 0\n",
       "  383 : 0\n",
       "  81 : 0\n",
       "  919 : 139\n",
       "  1425 : 0\n",
       "  670 : 0\n",
       "  664 : 0\n",
       "  1280 : 0\n",
       "  1284 : 0\n",
       "  311 : 0\n",
       "  776 : 0\n",
       "  309 : 0\n",
       "  1320 : 0\n",
       "  1041 : 0\n",
       "  1045 : 0\n",
       "  1049 : 0\n",
       "  619 : 0\n",
       "  236 : 0\n",
       "  157 : 0\n",
       "  615 : 0\n",
       "  156 : 139\n",
       "  666 : 0\n",
       "  450 : 0\n",
       "  1222 : 0\n",
       "  312 : 0\n",
       "  252 : 0\n",
       "  153 : 0\n",
       "  404 : 0\n",
       "  625 : 0\n",
       "  230 : 0\n",
       "  1517 : 0\n",
       "  1513 : 0\n",
       "  74 : 0\n",
       "  17 : 0\n",
       "  1666 : 139\n",
       "  620 : 0\n",
       "  1052 : 0\n",
       "  314 : 0\n",
       "  466 : 0\n",
       "  1055 : 0\n",
       "  1046 : 0\n",
       "  465 : 0\n",
       "  1040 : 0\n",
       "  1016 : 0\n",
       "  1445 : 139\n",
       "  1042 : 0\n",
       "  204 : 0\n",
       "  68 : 0\n",
       "  206 : 0\n",
       "  222 : 0\n",
       "  233 : 0\n",
       "  1424 : 0\n",
       "  57 : 0\n",
       "}\n"
      ]
     },
     "execution_count": 25,
     "metadata": {},
     "output_type": "execute_result"
    }
   ],
   "source": [
    "refCounts"
   ]
  },
  {
   "cell_type": "code",
   "execution_count": 26,
   "metadata": {
    "collapsed": false
   },
   "outputs": [
    {
     "data": {
      "text/plain": [
       "{\n",
       "  444 : 139\n",
       "  958 : 139\n",
       "  196550 : 556\n",
       "  24 : 139\n",
       "  1445 : 139\n",
       "  20 : 139\n",
       "  1117 : 139\n",
       "  9 : 139\n",
       "  1666 : 139\n",
       "  919 : 139\n",
       "  156 : 139\n",
       "}\n"
      ]
     },
     "execution_count": 26,
     "metadata": {},
     "output_type": "execute_result"
    }
   ],
   "source": [
    "refCounts2"
   ]
  },
  {
   "cell_type": "code",
   "execution_count": 19,
   "metadata": {
    "collapsed": false
   },
   "outputs": [],
   "source": [
    "out =0 \n",
    "for k,v in pairs(refCounts) do out = out +  v end"
   ]
  },
  {
   "cell_type": "code",
   "execution_count": 20,
   "metadata": {
    "collapsed": false
   },
   "outputs": [
    {
     "data": {
      "text/plain": [
       "1946\t\n"
      ]
     },
     "execution_count": 20,
     "metadata": {},
     "output_type": "execute_result"
    }
   ],
   "source": [
    "out"
   ]
  },
  {
   "cell_type": "code",
   "execution_count": 11,
   "metadata": {
    "collapsed": false,
    "scrolled": false
   },
   "outputs": [
    {
     "data": {
      "text/plain": [
       "    1\n",
       " 1946\n",
       "[torch.LongStorage of size 2]\n",
       "\n"
      ]
     },
     "execution_count": 11,
     "metadata": {},
     "output_type": "execute_result"
    }
   ],
   "source": [
    "#refSummary"
   ]
  },
  {
   "cell_type": "code",
   "execution_count": 13,
   "metadata": {
    "collapsed": false
   },
   "outputs": [
    {
     "data": {
      "text/plain": [
       "{\n",
       "  2 : 0\n",
       "  6 : 0\n",
       "  7 : 0\n",
       "  10 : 0\n",
       "  15 : 0\n",
       "  828 : 0\n",
       "  234 : 0\n",
       "  245 : 0\n",
       "  1285 : 0\n",
       "  500 : 0\n",
       "  778 : 0\n",
       "  502 : 0\n",
       "  782 : 0\n",
       "  1054 : 0\n",
       "  774 : 0\n",
       "  1223 : 0\n",
       "  60 : 0\n",
       "  1506 : 0\n",
       "  1518 : 0\n",
       "  1673 : 0\n",
       "  1426 : 0\n",
       "  1422 : 0\n",
       "  51 : 0\n",
       "  405 : 0\n",
       "  406 : 0\n",
       "  1466 : 0\n",
       "  715 : 0\n",
       "  402 : 0\n",
       "  403 : 0\n",
       "  412 : 0\n",
       "  413 : 0\n",
       "  205 : 0\n",
       "  408 : 0\n",
       "  203 : 0\n",
       "  411 : 0\n",
       "  958 : 139\n",
       "  196550 : 556\n",
       "  689 : 0\n",
       "  426 : 0\n",
       "  669 : 0\n",
       "  665 : 0\n",
       "  1286 : 0\n",
       "  663 : 0\n",
       "  1027 : 0\n",
       "  1043 : 0\n",
       "  1047 : 0\n",
       "  1051 : 0\n",
       "  223 : 0\n",
       "  1503 : 0\n",
       "  1224 : 0\n",
       "  1220 : 0\n",
       "  889 : 0\n",
       "  25 : 0\n",
       "  1511 : 0\n",
       "  1507 : 0\n",
       "  166 : 0\n",
       "  618 : 0\n",
       "  616 : 0\n",
       "  614 : 0\n",
       "  85 : 0\n",
       "  1423 : 0\n",
       "  1419 : 0\n",
       "  1698 : 0\n",
       "  839 : 0\n",
       "  1447 : 0\n",
       "  336 : 0\n",
       "  1120 : 0\n",
       "  348 : 0\n",
       "  1395 : 0\n",
       "  1068 : 0\n",
       "  1339 : 0\n",
       "  1028 : 0\n",
       "  781 : 0\n",
       "  1044 : 0\n",
       "  1048 : 0\n",
       "  771 : 0\n",
       "  773 : 0\n",
       "  775 : 0\n",
       "  1225 : 0\n",
       "  1221 : 0\n",
       "  136 : 0\n",
       "  1512 : 0\n",
       "  1675 : 0\n",
       "  44 : 0\n",
       "  1456 : 0\n",
       "  1452 : 0\n",
       "  1448 : 0\n",
       "  133 : 0\n",
       "  642 : 0\n",
       "  428 : 0\n"
      ]
     },
     "execution_count": 13,
     "metadata": {},
     "output_type": "execute_result"
    },
    {
     "data": {
      "text/plain": [
       "  64 : 0\n",
       "  1670 : 0\n",
       "  1676 : 0\n",
       "  1671 : 0\n",
       "  1672 : 0\n",
       "  662 : 0\n",
       "  1421 : 0\n",
       "  383 : 0\n",
       "  81 : 0\n",
       "  919 : 139\n",
       "  1425 : 0\n",
       "  670 : 0\n",
       "  664 : 0\n",
       "  1280 : 0\n",
       "  1284 : 0\n",
       "  311 : 0\n",
       "  776 : 0\n",
       "  309 : 0\n",
       "  1320 : 0\n",
       "  1041 : 0\n",
       "  1045 : 0\n",
       "  1049 : 0\n",
       "  619 : 0\n",
       "  236 : 0\n",
       "  157 : 0\n",
       "  615 : 0\n",
       "  156 : 139\n",
       "  666 : 0\n",
       "  450 : 0\n",
       "  1222 : 0\n",
       "  312 : 0\n",
       "  252 : 0\n",
       "  153 : 0\n",
       "  404 : 0\n",
       "  625 : 0\n",
       "  230 : 0\n",
       "  1517 : 0\n",
       "  1513 : 0\n",
       "  74 : 0\n",
       "  17 : 0\n",
       "  1666 : 139\n",
       "  620 : 0\n",
       "  1052 : 0\n",
       "  314 : 0\n",
       "  466 : 0\n",
       "  1055 : 0\n",
       "  1046 : 0\n",
       "  465 : 0\n",
       "  1040 : 0\n",
       "  1016 : 0\n",
       "  1445 : 139\n",
       "  1042 : 0\n",
       "  204 : 0\n",
       "  68 : 0\n",
       "  206 : 0\n",
       "  222 : 0\n",
       "  233 : 0\n",
       "  1424 : 0\n",
       "  57 : 0\n",
       "}\n"
      ]
     },
     "execution_count": 13,
     "metadata": {},
     "output_type": "execute_result"
    }
   ],
   "source": [
    "refCounts"
   ]
  },
  {
   "cell_type": "code",
   "execution_count": null,
   "metadata": {
    "collapsed": true
   },
   "outputs": [],
   "source": []
  }
 ],
 "metadata": {
  "kernelspec": {
   "display_name": "iTorch",
   "language": "lua",
   "name": "itorch"
  },
  "language_info": {
   "name": "lua",
   "version": "5.1"
  }
 },
 "nbformat": 4,
 "nbformat_minor": 0
}
