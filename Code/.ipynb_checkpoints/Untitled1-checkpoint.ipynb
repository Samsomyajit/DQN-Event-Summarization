{
 "cells": [
  {
   "cell_type": "code",
   "execution_count": 25,
   "metadata": {
    "collapsed": true
   },
   "outputs": [],
   "source": [
    "import requests\n",
    "import bs4\n",
    "from bs4 import BeautifulSoup"
   ]
  },
  {
   "cell_type": "code",
   "execution_count": 40,
   "metadata": {
    "collapsed": true
   },
   "outputs": [],
   "source": [
    "s = 'https://www.weddingwire.com/reviews/george-street-photo-video/5c781569306e1f06.html?page=1&sort_order=rating_lowest'"
   ]
  },
  {
   "cell_type": "code",
   "execution_count": 42,
   "metadata": {
    "collapsed": false
   },
   "outputs": [],
   "source": [
    "out = requests.get(s)\n",
    "b = BeautifulSoup(out.content, 'lxml')\n",
    "out = [l for l in b if type(l) == bs4.element.Tag][0]\n",
    "os = [x for x in out]\n",
    "rs = str(os[3]).split(\"reviews\")\n",
    "revs = [r.split('</p')[0] for r in str(os).split(\"<p>\")][1:]"
   ]
  },
  {
   "cell_type": "code",
   "execution_count": 255,
   "metadata": {
    "collapsed": false
   },
   "outputs": [
    {
     "data": {
      "text/plain": [
       "(23, 17)"
      ]
     },
     "execution_count": 255,
     "metadata": {},
     "output_type": "execute_result"
    }
   ],
   "source": [
    "len(revs), len(fin)"
   ]
  },
  {
   "cell_type": "code",
   "execution_count": 48,
   "metadata": {
    "collapsed": false,
    "scrolled": true
   },
   "outputs": [
    {
     "data": {
      "text/plain": [
       "[\"This has been a horrible experience. They required that I pay for video before it was completed and six months later I still do not have a video! When I called and asked about it they said it was on it's way then they sent me an email saying that it was not ready. I feel completely ripped off! I also had a very rude photographer at my wedding. He was so rude to my wedding guests. My guests still make comments about him.It is almost my anniversary and I still do not have a video. I wish I would have never contracted them. Huge mistake!!\",\n",
       " 'Must say - huge disappointment! The photos are awful.. Crooked, washed out, foggy, some even blurry. Not professional at all. Out of 1100 photos - maybe 100 average at best..',\n",
       " 'Would not recommend to anyone! ',\n",
       " \"I have never been so frustrated, disappointed and sick to my stomach after seeing the pictures from my daughter's wedding. I spent $4,800 for TWO photographers and a videographer and there were NO FORMAL PICTURES OF THE BRIDE AND GROOM. NONE! ARE YOU KIDDING ME? My daughter said photos were taken, but the photographer and company deny it. Honestly it would be better if they would confess they were somehow lost rather than never taken. How can it be that the MOST IMPORTANT photographs of your wedding DISAPPEARED, OR WORSE, WERE NEVER TAKEN? George Street sent an email saying they were sorry. WHAT! That's it? End of story??? At the reception I saw the secondary photographer standing around all by himself not taking any pictures. He was eager to go home to upload the photos because George Street docks their pay if they don't get them in right away. I was not impressed with him at all, and that may explain how photos do not get uploaded.<br/>DO NOT USE THIS COMPANY. If you do, be prepared to spend thousands of dollars and have no formal photos for your album or to frame.\",\n",
       " \"Absolutely horrible. Unprofessional in every way. I even had to get her photo equipment to her as she was packing her car to leave. Formal shots are so far away I can't even see my family...so much background space. Very poor!!<br/>I am so upset!!!\",\n",
       " 'First off, Phillip arrived about 15 minutes after this scheduled arrival time per our plan on the web portal. Once he arrived, he spent about 30 minutes taking a picture of my dress in a window. In the picture itself the lighting is incorrect so did not even turn out very well. Additionally, I expected Phillip to either have arrived at the church early, or visited on a separate occasion in order to pick out appropriate places for the pictures. This did not happen at all. I had to instruct him that I did not want all of my pictures taken in one corner of one room with an ugly window and bad lighting. I, in my wedding dress, had to walk Phillip around the grounds of the church in search of where we should take the pictures.',\n",
       " 'Additionally, per your website, an \\xe2\\x80\\x9cA 1- photographer wedding that maximizes shooting time will generally have between 1100-1300 shots.\\xe2\\x80\\x9d On pictage, I have 873. This seems a little low if you ask me and considering I hired Phillip for an additional 30 minutes, I would expect to have more pictures than this, or at least 1100. Phillip was very slow. Following the ceremony, everyone went to sign the \\xe2\\x80\\x9cRight of Marriage\\xe2\\x80\\x9d. Phillip was nowhere to be found. I had to send a family member to find him so that he could take a few pictures of that moment. Also, he spent a lot of time in-between pictures. At the reception, he was sitting down more than once eating. I had to go search for him when it was time to cut the cake and in other occasions when I asked for more photojournalist pictures. Instead of doing what I asked, he went to tables and had everyone move in to get a modeled group shot. ',\n",
       " 'Now all in all this would be fine is the pictures I did have were decent. However, they are not. The lighting is bad, the poses are bad, the coloring is off, and overall they are a HUGE disappointment. The pictures I do have are AWFUL. I also contacted George Street about my disappointment only to learn they were not at all concerned.',\n",
       " \"I would never ever recommend this company to anyone EVER. They did a terrible job. Half of my photos turned out orange and they wanted me to pay to fix them. NO, that's what I paid you thousands of dollars for. Then, I get my video in the mail and cried the entire way through it. Not a good cry. a terrible cry realizing that I can never show my grandkids the video of us getting married because the photographer is standing in front of the video camera blocking the shot of us and you cant hear anything from the ceremony because of a very loud buzzing noise in the background. photography was extremely important to me when picking vendors and unfortunately I think I picked the worst company possible. \",\n",
       " 'Horrible company! We used them because we thought it would save money and simplify the process to have one company manage our photographer and videographer. You get the type of service you can expect from a large corporation: very impersonal and cookie cutter responses. Our photos are so poorly edited, some are so dark that you cannot even see my eyes. I spent hours making a folder of edit requests with detailed information on each photo and received the photos back 2 months later, now washed out and blurry. The \"amazing editing team\" proclaimed by George Street is a<br/>total lie! I am not expecting anything more than professional quality, color balanced photos. I would NEVER recommend using this company. Do your research, get to know your photographer, and pay more if you have to. I thought George Street\\'s $5,000 price tag was outrageous, but I would have spent twice as much to alleviate the frustration and disappointment I have had with George Street.',\n",
       " '*******************************************************************************',\n",
       " \"It makes me so sad to read other reviews. Photos are the second biggest part of your wedding day. My day was tainted and I will never get it back. I have to hire another Photographer to take portraits and go back in the spring to try to get some photos. There was not one of the bridal party or family coming down the aisle. Including me. They blamed the venue. Totally ridiculous I know. I was lied to by my salesperson. They made me spend hours on those planning sheets and then they did not follow them. I am thinking the Chicago based photographers are better. I would hire someone you know has experience at the location. I was promised that and it did not happen. I think that was a huge part of the experience. Thank god we had a someone with a good camera taking photos of our rehearsal. I have cried for two weeks over this. I can't even fill the albums I purchased. I finally was able to work with one customer service person but I think her hands are tied. They really don't seem to care and I here a ton of excuses of why the they ruined my day. They should be willing to fix as many photos as they can. I paid for 30 and they won't even get those the way I am asking. I will say the same Photographer did our engagement shots and they were much better. She knew the area and I was very vocal about what I wanted and did not want. Because I had so much going on I left it to her and that was a HUGE mistake. Not only did they make me cry they made my mother cry. My father is ill and we won't get the moment back of him walking me down the aisle ever again. So many moments gone forever. It is heartbreaking. \",\n",
       " 'DO NOT USE THIS COMPANY. THE PHOTOGRAPHER RUINED MY WEDDING.',\n",
       " 'I had a perfect wedding. It was gorgeous, I was surrounded by all my loved ones, and we had great weather. My photographer was bossy, intrusive, rushed everyone, and did not take any of the photos on my list. I HAVE 0 PICTURES WITH MY MOTHER. I have 0 pictures with my brothers. I have no formal pictures with my parents. ',\n",
       " \"I have nothing to show my future children. I have nothing but my memories. The photographer wouldn't listen to me when I said I wanted pictures taken outside. I have hardly any with my bridesmaids, none with the groomsmen. I planned and made everything (DIY) for my wedding. Nothing to show for it. \",\n",
       " \"Stay far away. I wouldn't wish this situation on my worst enemy. I am now crowd sourcing photos, but the photographer even managed to ruin those by being in the middle of all of them.\",\n",
       " 'We had a sparkler send off and she took a grand total of 4 pictures. 4. Stopped taking them before we were down the walkway. I am sick over this.',\n",
       " 'WARNING TO ALL BRIDES: DO NOT HIRE George Street!! They trick you by showing you all of these \"photojournalistic\" pictures of how your photography will turn out, and then they send an inexperienced photographer who gives no direction and shoots the same 5 poses for an hour without using any amount of creativity. I am unsure where the pictures they post come from, but the engagament pictures we got back looked nothing other than what my mother could take with an iPhone in my backyard. Not to mention, their editing process is nothing but putting an Instagram filter on a few pictures. I urge you to go with a local photographer who will take pride in their own work because now we are having a hell of a time trying to get out of the contract... I DO NOT want them as my wedding photographers after having engagement pictures and they are trying to hold us to paying $2000 to get out of it even though we are COMPLETELY unsatisfied with the work! TERRIBLE, TERRIBLE, TERRIBLE!!!',\n",
       " 'George Street was our second choice for photography and we were hesitant from the get-go. Our initial photographer became pregnant and was due the same week as our wedding. Due to George Street\\xe2\\x80\\x99s unique business model I was intrigued and decided to set up a meeting. Their pricing structure is quite nice as well. Now I know why. I would strongly advise against using this company as our experience was beyond bad. At the risk of sounding hyperbolic- it was atrocious. There were so many issues that I will only hit the main points. For starters- we did not realize that you are not allowed to meet with your photographer at any point before your wedding. I figured out a way to hire my photographer separately to do my bridal poses solely for the purpose of meeting her before the wedding. <br/>On the day of the wedding we finally met the second shooter. I\\xe2\\x80\\x99m not sure if he was high, nervous or on lithium but he simply didn\\xe2\\x80\\x99t shoot until we asked repeatedly. All of the pictures of the groom and groomsmen getting ready are shot from the same exact angle, off in the distance and directly into a sunny window. I don\\xe2\\x80\\x99t have a single useable photo from that part of the day. My wedding coordinator and sister asked the second shooter, Adam, repeatedly to capture photos of the guests, the wedding details, etc. Unfortunately he did not do so. If this seems like an exaggeration let me assure you that upon bringing this up with George Street and sending them photos that Adam took- they actually informed me that he had been dismissed from the company. A little too little, too late there guys. <br/>The last issue I will bring up is the editing. One of the main reasons we went with George Street is that we were assured we would receive high-quality editing. Because our photos were to be handled by a team of editors, rather than the photographer we were assured that the attention to detail and the quality of editing would be excellent. Unfortunately, the reality was that my husband did all of our ed',\n",
       " \"Do not, I repeat, DO NOT use George Street Photography. You're better offer having your niece or nephew take pictures with their cell phone, or better yet, a disposable camera. I am devastated, our wedding pictures are absolutely awful and not salvageable. We had Shira as our lead photographer, she chose the worst possible location at our venue. I questioned her choice and suggested we move to another location, in which she insisted we stay at that spot. We are in the shade for our pictures, with terrible lighting, we have a fake rock behind us, and some plastic green hole cover in the grass. Why she chose and insisted on that location is beyond me. There are so many things wrong with our pictures but the most disappointing is that we have no good photos from our special day. Our ONE day!!! Pay a little more to a professional photographer that you can meet, talk to and KNOW what you are purchasing. We learned our lesson the hard way. Good luck.\",\n",
       " \"I have never been so disappointed in my whole life it was my daughter wedding and I have no pictures with my daughter on one of the biggest days of her live and no way of ever getting that day back I would never recommend them and they also did not take individual pic of her brides maids or her maid of honor I was lookin at the photos and I could cry it looks like my daughter didn't even have a mother I even asked the photograph to take pic with me and her she said we don't have time and she paid a lot of money \",\n",
       " 'DO NOT sign a contract with GeorgeStreet! You think you are getting a bargain, quess what you get in the end.<br/>Bargain photos that are not what you want. WASHED OUT, OFF CENTER, BAD COLOR, THINGS AND PEOPLE IN THE BACK GROUND, HEADS CUT OFF. HALF BODIES.<br/>UNPROFESSIONAL!! To say the least. We had Julia D.. I felt like she hated her job.. We had a large wedding party of 19, she had not idea how to take lead and possition people. Never once suggested a pose gave direction. Just stood waiting for someone to ask for picture. <br/>We got so many complaints from our guest on her RUDENESS! <br/>Really we had to pay for this.... UNFAIR and DISSAPOINTED1D',\n",
       " 'HORRIBLE EXPERIENCE. This company deceived us and showed us all these beautifully edited pictures and videos and told us that\\'s what we would be getting. We were told if we upgrade our package we would get all the bells and whitles and we did. We were excited and we were tricked. We were told I could post pictures to a special board online that the photographer could see and would know the pictures I wanted etc. I spent so much time on the website setting up our timeline and writing and checking off specific group pictures I wanted. In reality, after we signed the contract with them - when we finally got our photographers contact info I asked him where I can find this picture board and he didn\\'t even know about it - he had never heard of such a thing. On the day of the wedding, the photographer didn\\'t even know about any of the group pictures I requested - and in the hectic craziness of it all, my husband and I did not realize everything going on. As a result - I don\\'t even have a picture with my mother on my wedding day, all of our family photos have shadows across peoples faces and one of our family photos has people standing behind other people and faces blocked - they didn\\'t even pose or move people. They stood in the wrong spot for our first look and missed that as well. Regardless of all of this on the day of, we tried to be positive because we had such an amazing day we just couldn\\'t imagine that the pictures would be bad. Well sure enough when we got our \"edited\" pictures they were poor quality and 99% of them are candids and upclose shots of our guests faces. We have very few posed photos of us and our wedding party. They say they edit the pictures for you and that\\'s their big sell and why they are different - nothing is edited except some pictures are changed to black and white - I mean come on my 3 year old nephew can do that on instagram. Overall I feel like they say all these great things to SELL you but don\\'t follow thru,disappointing.<br/>']"
      ]
     },
     "execution_count": 48,
     "metadata": {},
     "output_type": "execute_result"
    }
   ],
   "source": [
    "revs"
   ]
  },
  {
   "cell_type": "code",
   "execution_count": 252,
   "metadata": {
    "collapsed": true
   },
   "outputs": [],
   "source": [
    "n = [l for l in os[3] if \"'ww-star-rating ww-stars-0'\" in str(l)]\n",
    "fin = []\n",
    "for j in n:\n",
    "    for f in j:\n",
    "        if type(f)==bs4.element.Tag:\n",
    "            for i in f.find_all('strong'):\n",
    "                try:\n",
    "                    fin.append(str(i).split(\"\\n\")[1])\n",
    "                except:\n",
    "                    pass"
   ]
  },
  {
   "cell_type": "code",
   "execution_count": 253,
   "metadata": {
    "collapsed": false
   },
   "outputs": [
    {
     "data": {
      "text/plain": [
       "['Wedding Reviews (1702)',\n",
       " '0.0',\n",
       " '0.0',\n",
       " '0.0',\n",
       " '0.0',\n",
       " '0.0',\n",
       " '0.0',\n",
       " '0.0',\n",
       " '0.0',\n",
       " '0.0',\n",
       " '0.0',\n",
       " '0.0',\n",
       " '0.0',\n",
       " '0.0',\n",
       " '0.0',\n",
       " '0.1',\n",
       " '0.1']"
      ]
     },
     "execution_count": 253,
     "metadata": {},
     "output_type": "execute_result"
    }
   ],
   "source": [
    "fin"
   ]
  },
  {
   "cell_type": "code",
   "execution_count": null,
   "metadata": {
    "collapsed": true
   },
   "outputs": [],
   "source": []
  }
 ],
 "metadata": {
  "kernelspec": {
   "display_name": "Python 2",
   "language": "python",
   "name": "python2"
  },
  "language_info": {
   "codemirror_mode": {
    "name": "ipython",
    "version": 2
   },
   "file_extension": ".py",
   "mimetype": "text/x-python",
   "name": "python",
   "nbconvert_exporter": "python",
   "pygments_lexer": "ipython2",
   "version": "2.7.10"
  }
 },
 "nbformat": 4,
 "nbformat_minor": 0
}
