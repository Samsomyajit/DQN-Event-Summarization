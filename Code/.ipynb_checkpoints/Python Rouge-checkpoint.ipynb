{
 "cells": [
  {
   "cell_type": "markdown",
   "metadata": {},
   "source": [
    "# ROUGE implementation in Python"
   ]
  },
  {
   "cell_type": "code",
   "execution_count": 1,
   "metadata": {
    "collapsed": false
   },
   "outputs": [],
   "source": [
    "from collections import Counter\n",
    "\n",
    "def BuildDic(text):\n",
    "    if type(text)==str:\n",
    "        text = {'s': text}\n",
    "    return Counter([w for w in ' '.join(text.values()).split()])\n",
    "\n",
    "def rougeRecall(pred_summary, ref_summaries):\n",
    "    rsd = BuildDic(ref_summaries)\n",
    "    sws = BuildDic(pred_summary)\n",
    "    num, den = 0., 0.\n",
    "    for word in rsd.keys():\n",
    "        num += min(sws[word], rsd[word])\n",
    "        den += rsd[word]\n",
    "    return num / float(den)\n",
    "\n",
    "def rougePrecision(pred_summary, ref_summaries):\n",
    "    rsd = BuildDic(ref_summaries)\n",
    "    sws = BuildDic(pred_summary)\n",
    "    num = 0.\n",
    "    for word in rsd.keys():        # Summing the # of words that match\n",
    "        num += min(sws[word], rsd[word])\n",
    "    den = sum(sws.values()) # Summing the # of words in the predicted summary\n",
    "    return num / float(den)\n",
    "\n",
    "def rougeF1(pred_summary, ref_summaries):\n",
    "    rnp = rougeRecall(pred_summary, ref_summaries)\n",
    "    rnr = rougePrecision(pred_summary, ref_summaries)\n",
    "    return (2. * rnp * rnr ) / (rnp + rnr)"
   ]
  },
  {
   "cell_type": "code",
   "execution_count": 2,
   "metadata": {
    "collapsed": false
   },
   "outputs": [],
   "source": [
    "ref_texts0 = {'A': \"summary\"}\n",
    "ref_texts1 = {'A': \"true summary\"}\n",
    "ref_texts2 = {'A': \"summary\", 'B': \"true summary\"}\n",
    "ref_texts3 = {'A': \"summary\", 'B': \"true summary\", \"C\": \"my summary\"}\n",
    "summary_pred = \"my summary\""
   ]
  },
  {
   "cell_type": "code",
   "execution_count": 3,
   "metadata": {
    "collapsed": false
   },
   "outputs": [
    {
     "name": "stdout",
     "output_type": "stream",
     "text": [
      "1.0\n",
      "0.5\n",
      "0.333333333333\n",
      "0.4\n"
     ]
    }
   ],
   "source": [
    "for ref in (ref_texts0, ref_texts1, ref_texts2, ref_texts3):\n",
    "    print(rougeRecall(summary_pred, ref))"
   ]
  },
  {
   "cell_type": "code",
   "execution_count": 4,
   "metadata": {
    "collapsed": false
   },
   "outputs": [
    {
     "name": "stdout",
     "output_type": "stream",
     "text": [
      "0.5\n",
      "0.5\n",
      "0.5\n",
      "1.0\n"
     ]
    }
   ],
   "source": [
    "for ref in (ref_texts0, ref_texts1, ref_texts2, ref_texts3):\n",
    "    print(rougePrecision(summary_pred, ref))"
   ]
  },
  {
   "cell_type": "code",
   "execution_count": 5,
   "metadata": {
    "collapsed": false
   },
   "outputs": [
    {
     "name": "stdout",
     "output_type": "stream",
     "text": [
      "0.666666666667\n",
      "0.5\n",
      "0.4\n",
      "0.571428571429\n"
     ]
    }
   ],
   "source": [
    "for ref in (ref_texts0, ref_texts1, ref_texts2, ref_texts3):\n",
    "    print(rougeF1(summary_pred, ref))"
   ]
  },
  {
   "cell_type": "code",
   "execution_count": null,
   "metadata": {
    "collapsed": true
   },
   "outputs": [],
   "source": []
  }
 ],
 "metadata": {
  "kernelspec": {
   "display_name": "Python 2",
   "language": "python",
   "name": "python2"
  },
  "language_info": {
   "codemirror_mode": {
    "name": "ipython",
    "version": 2
   },
   "file_extension": ".py",
   "mimetype": "text/x-python",
   "name": "python",
   "nbconvert_exporter": "python",
   "pygments_lexer": "ipython2",
   "version": "2.7.12"
  }
 },
 "nbformat": 4,
 "nbformat_minor": 0
}
