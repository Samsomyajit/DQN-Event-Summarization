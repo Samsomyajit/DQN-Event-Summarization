{
 "cells": [
  {
   "cell_type": "code",
   "execution_count": 10,
   "metadata": {
    "collapsed": false
   },
   "outputs": [],
   "source": [
    "require 'rnn'\n",
    "require 'csvigo'"
   ]
  },
  {
   "cell_type": "code",
   "execution_count": 5,
   "metadata": {
    "collapsed": false
   },
   "outputs": [
    {
     "data": {
      "text/plain": [
       "...Utils file loaded\t\n"
      ]
     },
     "execution_count": 5,
     "metadata": {},
     "output_type": "execute_result"
    }
   ],
   "source": [
    "dofile(\"utils.lua\")\n",
    "dofile(\"utilsNN.lua\")"
   ]
  },
  {
   "cell_type": "code",
   "execution_count": 8,
   "metadata": {
    "collapsed": false
   },
   "outputs": [],
   "source": [
    "datapath = '../DO_NOT_UPLOAD_THIS_DATA/0-output/'"
   ]
  },
  {
   "cell_type": "code",
   "execution_count": 11,
   "metadata": {
    "collapsed": false
   },
   "outputs": [],
   "source": [
    "inputs = loadMetadata(datapath .. \"dqn_metadata.csv\")\n",
    "stopfile = csvigo.load({path = datapath .. 'stopwordids.csv', mode = \"large\", verbose = false})\n",
    "stoplist = buildTermDocumentTable(stopfile, nil)\n",
    "stopwords = {}\n",
    "for k,v in pairs(stoplist) do \n",
    "    stopwords[k]  = v[1]\n",
    "end"
   ]
  },
  {
   "cell_type": "code",
   "execution_count": 16,
   "metadata": {
    "collapsed": false
   },
   "outputs": [],
   "source": [
    "n_samples = 20\n",
    "K_tokens = 20\n",
    "maxSummarySize = 20\n",
    "thresh = 0\n",
    "\n",
    "torch.setnumthreads(8)\n",
    "Tensor = torch.Tensor\n",
    "LongTensor = torch.LongTensor\n",
    "ByteTensor = torch.ByteTensor\n",
    "\n",
    "vocabSize, query_data = intialize_variables(inputs, \n",
    "                                            n_samples, datapath, K_tokens, \n",
    "                                            maxSummarySize, stopwords, thresh)"
   ]
  },
  {
   "cell_type": "code",
   "execution_count": 19,
   "metadata": {
    "collapsed": false
   },
   "outputs": [
    {
     "data": {
      "text/plain": [
       "Columns 1 to 10\n",
       "      0       0  196988       9      15      12      10       1      14       7\n",
       " 196988       9      34      21      22      19      25      15      12      38\n",
       " 196988      52      43      46      48      40      53      41       7      17\n",
       "      0       0       0       0       0       0       0       0       0       0\n",
       " 196988      72      60  196988  196988  196988  196988      15      65       8\n",
       "      0       0       0       0  196988      21      79      73      80      12\n",
       " 196988  196988  196988      96  196988  196988  196988  196988       1  196988\n",
       " 196988     113       7     105      17      87      16      17     102      93\n",
       "      0       0       0  196988     123       7      17     126      30     124\n",
       " 196988     127      17     149     131       7  196988      95      19      17\n",
       " 196988     163     184     165     138     145     155     136     181     166\n",
       " 196988  196988  196988     196      64     205  196988     188     191  196988\n",
       " 196988     229      15     227     225  196988      19  196988     218     114\n",
       "      0       0  196988     163      70     238     234     203      16  196988\n",
       "      0       0       0       0       0       0       0       0       0       0\n",
       " 196988     198     247      48     264     250      60  196988  196988  196988\n",
       " 196988      89     156      46      12     267     269      36      17  196988\n",
       " 196988     232      48     285     234  196988      56  196988     198     283\n",
       "      0       0       0       0       0       0       0       0       0       0\n",
       " 196988     299  196988  196988      30     297      17     260     291       1\n",
       "\n",
       "Columns 11 to 20\n",
       "      4       8      17       5      13       6      16  196988       3      18\n",
       "     36      26      31      17      24      30      33      29      13      19\n",
       "     49       6      30      45      39      50      47      48      51      19\n",
       "      0       0       0       0       0       0  196988      55      56      58\n",
       "     17      67      48  196988  196988  196988      64      70      71      17\n",
       "     74      77      17      76      78       9      75      16      66      81\n",
       "     89      17      97       7     105       7      87       1  196988      95\n",
       "     84     114      17     121     119     117  196988  196988  196988  196988\n",
       "     48     125       7  196988      19  196988     127     129      40     128\n",
       "    157       7      17     132     138     130      48     139     150      40\n",
       "     19      17     171      16     167     173     141     175  196988     127\n",
       "    204  196988      80     199  196988     198     192      16     200     187\n",
       "     17     222      46     232      48     223       8  196988     198     216\n",
       "    163     236      36      17  196988  196988  196988  196988  196988  196988\n",
       "      0       0       0  196988     198     244     243     203     163     242\n",
       " 196988      56     248     182     187      16     254     260      48  196988\n",
       "    138  196988      17  196988      19     144     266     272       7     140\n",
       "    286     280      19     280       7     277      16     275     279      19\n",
       "      0       0       0       0       0       0  196988     205     284     287\n",
       "    137     289  196988  196988     293     129     290     272       7     140\n",
       "[torch.LongTensor of size 20x20]\n",
       "\n"
      ]
     },
     "execution_count": 19,
     "metadata": {},
     "output_type": "execute_result"
    }
   ],
   "source": [
    "query_data[1][1]"
   ]
  },
  {
   "cell_type": "code",
   "execution_count": null,
   "metadata": {
    "collapsed": true
   },
   "outputs": [],
   "source": []
  }
 ],
 "metadata": {
  "kernelspec": {
   "display_name": "iTorch",
   "language": "lua",
   "name": "itorch"
  },
  "language_info": {
   "name": "lua",
   "version": "5.1"
  }
 },
 "nbformat": 4,
 "nbformat_minor": 0
}
