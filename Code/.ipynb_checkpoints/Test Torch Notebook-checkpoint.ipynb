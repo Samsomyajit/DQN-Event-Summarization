{
 "cells": [
  {
   "cell_type": "code",
   "execution_count": 1,
   "metadata": {
    "collapsed": false
   },
   "outputs": [
    {
     "data": {
      "text/plain": [
       "{\n",
       "  deserialize : function: 0x00bbda38\n",
       "  cat : function: 0x00ffa280\n",
       "  cdata : function: 0x00bb8b88\n",
       "  newmetatable : function: 0x00bb5148\n",
       "  atan2 : function: 0x00fd7d58\n",
       "  log : function: 0x00fd79c0\n",
       "  zero : function: 0x00ff9998\n",
       "  logNormal : function: 0x00ffc208\n",
       "  sigmoid : function: 0x00fd7cb8\n",
       "  getnumcores : function: 0x00bb4e68\n",
       "  cross : function: 0x00ffa0a0\n",
       "  deserializeFromStorage : function: 0x00bc50c0\n",
       "  inverse : function: 0x00ffc348\n",
       "  updateerrorhandlers : function: 0x00bb4d78\n",
       "  isTypeOf : function: 0x00ffef70\n",
       "  ByteStorage : table: 0x00bda620\n",
       "  prod : function: 0x00ff9fb0\n",
       "  ger : function: 0x00ff9e20\n",
       "  eq : function: 0x00ffa4b0\n",
       "  getnumthreads : function: 0x00bb4e18\n",
       "  ByteTensor : table: 0x00fd4c08\n",
       "  Timer : table: 0x00fd6b20\n",
       "  addmv : function: 0x00ff9e48\n",
       "  lerp : function: 0x00fd7d30\n",
       "  match : function: 0x00ff9c40\n",
       "  Allocator : table: 0x00ffe9d8\n",
       "  xcorr2 : function: 0x00ffa398\n",
       "  neg : function: 0x00fd7ce0\n",
       "  histc : function: 0x00fd78d0\n",
       "  pstrf : function: 0x00ffc3e8\n",
       "  bernoulli : function: 0x00ffa2f8\n",
       "  MemoryFile : table: 0x00fdc8f8\n",
       "  cremainder : function: 0x00ff9d08\n",
       "  Storage : table: 0x00fd3e88\n",
       "  ge : function: 0x00ffa488\n",
       "  kthvalue : function: 0x00ffa1b8\n",
       "  geometric : function: 0x00ffa2d0\n",
       "  sin : function: 0x00fd7ab0\n",
       "  topk : function: 0x00ffa190\n",
       "  baddbmm : function: 0x00ff9ee8\n",
       "  fill : function: 0x00ff99c0\n",
       "  linspace : function: 0x00fd7970\n",
       "  sum : function: 0x00ff9f88\n",
       "  numel : function: 0x00ff9f10\n",
       "  orgqr : function: 0x00ffc460\n",
       "  test : function: 0x01057638\n",
       "  cmul : function: 0x00ff9c68\n",
       "  _heaptracking : true\n",
       "  getconstructortable : function: 0x00bb4eb8\n",
       "  version : function: 0x00bb4c50\n",
       "  fmod : function: 0x00ff9ba0\n",
       "  FloatTensor : table: 0x00fdab30\n",
       "  mean : function: 0x00fd7858\n",
       "  isTensor : function: 0x010576a0\n",
       "  ShortStorage : table: 0x00bf6a50\n",
       "  cmin : function: 0x00ffa028\n",
       "  addcdiv : function: 0x00ff9d80\n",
       "  mm : function: 0x00ff9dd0\n",
       "  Tester : table: 0x00fd31d0\n",
       "  xcorr3 : function: 0x00ffa3e8\n",
       "  ShortTensor : table: 0x00fd71f8\n",
       "  lt : function: 0x00ffa410\n",
       "  triu : function: 0x00ffa258\n",
       "  repeatTensor : function: 0x00fffc40\n",
       "  data : function: 0x00bb8b48\n",
       "  CmdLine : table: 0x00bf1d28\n",
       "  eye : function: 0x00ffa0f0\n",
       "  loadobj : function: 0x00bf0580\n",
       "  mul : function: 0x00ff9b50\n",
       "  sqrt : function: 0x00fd7ba0\n",
       "  LongTensor : table: 0x00fd9920\n",
       "  saveobj : function: 0x00bea7f0\n",
       "  trunc : function: 0x00fd7c40\n",
       "  isequal : function: 0x00bb50b0\n",
       "  floor : function: 0x00fd7c18\n",
       "  serialize : function: 0x00bbbc88\n",
       "  load : function: 0x00bf0580\n",
       "  save : function: 0x00bea7f0\n",
       "  permute : function: 0x00bba890\n",
       "  totable : function: 0x01057680\n",
       "  csub : function: 0x00ff9b28\n",
       "  gesv : function: 0x00ffc258\n",
       "  PipeFile : table: 0x00fda4a0\n",
       "  LongStorage : table: 0x00fd20b0\n",
       "  chunk : function: 0x00be7f90\n",
       "  split : function: 0x00be60a8\n",
       "  Tensor : table: 0x00fdbd10\n",
       "  diag : function: 0x00ffa0c8\n",
       "  std : function: 0x00fd78a8\n",
       "  viewAs : function: 0x00bae9f0\n",
       "  view : function: 0x00bf22c8\n",
       "  conv3 : function: 0x00ffa3c0\n",
       "  expandAs : function: 0x01007938\n",
       "  File : table: 0x00bda828\n",
       "  expand : function: 0x00b123f0\n",
       "  uniform : function: 0x00ffc190\n",
       "  all : function: 0x00fd77e0\n",
       "  renorm : function: 0x00fd7920\n",
       "  rsqrt : function: 0x00fd7c90\n",
       "  typename : function: 0x00bb5068\n",
       "  scatter : function: 0x00ff9a88\n",
       "  setdefaulttensortype : function: 0x00ffef30\n",
       "  addbmm : function: 0x00ff9ec0\n",
       "  class : function: 0x00ffef10\n"
      ]
     },
     "execution_count": 1,
     "metadata": {},
     "output_type": "execute_result"
    },
    {
     "data": {
      "text/plain": [
       "  symeig : function: 0x00ffc2d0\n",
       "  remainder : function: 0x00ff9bc8\n",
       "  clamp : function: 0x00ff9c18\n",
       "  getmetatable : function: 0x00bb5198\n",
       "  packageLuaPath : function: 0x00ffea28\n",
       "  updatethreadlocals : function: 0x00ffead8\n",
       "  metatype : function: 0x00bb51c0\n",
       "  setRNGState : function: 0x00ffc7f8\n",
       "  getRNGState : function: 0x00ffc6f0\n",
       "  manualSeed : function: 0x00ffc6a0\n",
       "  initialSeed : function: 0x00ffc650\n",
       "  zeros : function: 0x00ff99e8\n",
       "  median : function: 0x00ffa208\n",
       "  cosh : function: 0x00fd7a88\n",
       "  pushudata : function: 0x00bb4c28\n",
       "  geqrf : function: 0x00ffc438\n",
       "  _gen : torch.Generator\n",
       "  Generator : table: 0x00ffcb10\n",
       "  ormqr : function: 0x00ffc488\n",
       "  FloatStorage : table: 0x00fd2480\n",
       "  seed : function: 0x00ffcbd8\n",
       "  qr : function: 0x00ffc410\n",
       "  reshape : function: 0x00ff9a38\n",
       "  potrs : function: 0x00ffc398\n",
       "  cpow : function: 0x00ff9c90\n",
       "  abs : function: 0x00fd7830\n",
       "  dist : function: 0x00fd7948\n",
       "  svd : function: 0x00ffc320\n",
       "  mod : function: 0x00ff9bf0\n",
       "  eig : function: 0x00ffc2f8\n",
       "  IntTensor : table: 0x00fd8710\n",
       "  cdiv : function: 0x00ff9cb8\n",
       "  pow : function: 0x00fd7d80\n",
       "  gt : function: 0x00ffa438\n",
       "  randperm : function: 0x00ffa140\n",
       "  include : function: 0x00ffeef0\n",
       "  exponential : function: 0x00ffc230\n",
       "  atan : function: 0x00fd7b50\n",
       "  nonzero : function: 0x00ffa500\n",
       "  normal : function: 0x00ffc1b8\n",
       "  multinomial : function: 0x00ffc168\n",
       "  randn : function: 0x00ffc140\n",
       "  any : function: 0x00fd7808\n",
       "  equal : function: 0x00ff9ad8\n",
       "  dot : function: 0x00ff9ab0\n",
       "  range : function: 0x00ffa118\n",
       "  rand : function: 0x00fd7da8\n",
       "  addr : function: 0x00ff9e98\n",
       "  trtrs : function: 0x00ffc2a8\n",
       "  cinv : function: 0x00fd7d08\n",
       "  tan : function: 0x00fd7b28\n",
       "  frac : function: 0x00fd7c68\n",
       "  serializeToStorage : function: 0x00bba1a0\n",
       "  ceil : function: 0x00fd7bf0\n",
       "  squeeze : function: 0x00ffa320\n",
       "  var : function: 0x00fd7880\n",
       "  tanh : function: 0x00fd7b78\n",
       "  setmetatable : function: 0x00bb5170\n",
       "  cumsum : function: 0x00ff9f38\n",
       "  cauchy : function: 0x00ffc1e0\n",
       "  ne : function: 0x00ffa4d8\n",
       "  sinh : function: 0x00fd7b00\n",
       "  cos : function: 0x00fd7a38\n",
       "  potrf : function: 0x00ffc370\n",
       "  DoubleStorage : table: 0x00fd3e88\n",
       "  CharStorage : table: 0x00bf67a0\n",
       "  asin : function: 0x00fd7ad8\n",
       "  exp : function: 0x00fd7a10\n",
       "  log1p : function: 0x00fd79e8\n",
       "  pointer : function: 0x00bb4d28\n",
       "  addcmul : function: 0x00ff9d58\n",
       "  add : function: 0x00ff9b00\n",
       "  type : function: 0x00ffef50\n",
       "  sign : function: 0x00ffa348\n",
       "  div : function: 0x00ff9b78\n",
       "  mode : function: 0x00ffa1e0\n",
       "  toc : function: 0x00bb4cb0\n",
       "  norm : function: 0x00fd78f8\n",
       "  gather : function: 0x00ff9a60\n",
       "  tic : function: 0x00bb4c00\n",
       "  gels : function: 0x00ffc280\n",
       "  mv : function: 0x00ff9da8\n",
       "  getdefaulttensortype : function: 0x00bb4b78\n",
       "  isStorage : function: 0x010576c0\n"
      ]
     },
     "execution_count": 1,
     "metadata": {},
     "output_type": "execute_result"
    },
    {
     "data": {
      "text/plain": [
       "  logspace : function: 0x00fd7998\n",
       "  factory : function: 0x00bb4e90\n",
       "  CharTensor : table: 0x00fd5fe8\n",
       "  setnumthreads : function: 0x00bb4d00\n",
       "  IntStorage : table: 0x00fd1330\n",
       "  TestSuite : function: 0x01020108\n",
       "  cumprod : function: 0x00ff9f60\n",
       "  potri : function: 0x00ffc3c0\n",
       "  le : function: 0x00ffa460\n",
       "  setenv : function: 0x00bb5120\n",
       "  tril : function: 0x00ffa230\n",
       "  getenv : function: 0x00bb50d8\n",
       "  acos : function: 0x00fd7a60\n",
       "  addmm : function: 0x00ff9e70\n",
       "  isatty : function: 0x00bb4bd8\n",
       "  min : function: 0x00ff9fd8\n",
       "  max : function: 0x00ffa000\n",
       "  cmax : function: 0x00ffa050\n",
       "  DoubleTensor : table: 0x00fdbd10\n",
       "  sort : function: 0x00ffa168\n",
       "  trace : function: 0x00ffa078\n",
       "  ones : function: 0x00ff9a10\n",
       "  cfmod : function: 0x00ff9ce0\n",
       "  round : function: 0x00fd7bc8\n",
       "  bmm : function: 0x00ff9df8\n",
       "  DiskFile : table: 0x00fd9240\n",
       "  conv2 : function: 0x00ffa370\n",
       "  setheaptracking : function: 0x00bb4d50\n",
       "  cmod : function: 0x00ff9d30\n",
       "  random : function: 0x00ffa2a8\n",
       "}\n"
      ]
     },
     "execution_count": 1,
     "metadata": {},
     "output_type": "execute_result"
    }
   ],
   "source": [
    "require 'torch'"
   ]
  },
  {
   "cell_type": "code",
   "execution_count": 2,
   "metadata": {
    "collapsed": true
   },
   "outputs": [],
   "source": [
    "require 'nn'\n",
    "require 'optim'"
   ]
  },
  {
   "cell_type": "code",
   "execution_count": 3,
   "metadata": {
    "collapsed": false
   },
   "outputs": [
    {
     "data": {
      "text/plain": [
       "{\n",
       "  _URL : http://github.com/Yonaba/Moses\n",
       "  __index : \n",
       "    {\n",
       "      rejectWhile : function: 0x015a3728\n",
       "      same : function: 0x015a37d8\n",
       "      isCallable : function: 0x01568b00\n",
       "      invoke : function: 0x015a3868\n",
       "      find : function: 0x01589ad8\n",
       "      perm : function: 0x01589b20\n",
       "      values : function: 0x01589b68\n",
       "      skip : function: 0x015d0500\n",
       "      rest : function: 0x0142bdf0\n",
       "      isuniq : function: 0x015d0698\n",
       "      findWhere : function: 0x015a3790\n",
       "      min : function: 0x015899f0\n",
       "      tail : function: 0x01589a38\n",
       "      isInteger : function: 0x01589a80\n",
       "      compare : function: 0x0149b160\n",
       "      tap : function: 0x0149b1a8\n",
       "      once : function: 0x0149b1f0\n",
       "      slice : function: 0x0149b238\n",
       "      injectr : function: 0x0149b280\n",
       "      bind : function: 0x0149b2c8\n",
       "      join : function: 0x0142bc48\n",
       "      addTop : function: 0x0142bc90\n",
       "      reduce : function: 0x0142bcd8\n",
       "      juxtapose : function: 0x0142bd20\n",
       "      isBoolean : function: 0x0142bd68\n",
       "      isNumber : function: 0x01008a10\n",
       "      discard : function: 0x01008a38\n",
       "      push : function: 0x01008a80\n",
       "      chop : function: 0x01008ac8\n",
       "      foldl : function: 0x01008b10\n",
       "      uniq : function: 0x01008b58\n",
       "      each : function: 0x01008ba0\n",
       "      drop : function: 0x0158fe60\n",
       "      append : function: 0x0158fea8\n",
       "      at : function: 0x0158fef0\n",
       "      invert : function: 0x0158ff38\n",
       "      identity : function: 0x0158ff80\n",
       "      has : function: 0x01584058\n",
       "      pull : function: 0x015df3e0\n",
       "      isFinite : function: 0x015df428\n",
       "      bindn : function: 0x015df470\n",
       "      size : function: 0x01460b70\n",
       "      isIterable : function: 0x015df500\n",
       "      isEmpty : function: 0x015df548\n",
       "      removeRange : function: 0x01460b28\n",
       "      last : function: 0x015b18c8\n",
       "      defaults : function: 0x015b1910\n",
       "      intersection : function: 0x015b1958\n",
       "      diff : function: 0x01592c40\n",
       "      zip : function: 0x01460290\n",
       "      uid : function: 0x01521590\n",
       "      mapReduce : function: 0x01466d40\n",
       "      clone : function: 0x01466d88\n",
       "      pipe : function: 0x01466dd0\n",
       "      isFunction : function: 0x01466e18\n",
       "      forEach : function: 0x01466e60\n",
       "      partition : function: 0x01466ea8\n",
       "      all : function: 0x01466ef0\n",
       "      maprr : function: 0x015ac870\n",
       "      contains : function: 0x015ac8b8\n",
       "      map : function: 0x015ac900\n",
       "      detect : function: 0x015ac948\n",
       "      cycle : function: 0x015ac990\n",
       "      choose : function: 0x0158d3e0\n",
       "      rmRange : function: 0x010110b0\n",
       "      template : function: 0x010110f8\n",
       "      toArray : function: 0x01011140\n",
       "      take : function: 0x01568a28\n",
       "      foldr : function: 0x010111d0\n",
       "      isNil : function: 0x01011218\n",
       "      mapr : function: 0x01011260\n",
       "      after : function: 0x015a7078\n",
       "      pluck : function: 0x015a70c0\n",
       "      selectWhile : function: 0x015a7108\n",
       "      interleave : function: 0x015a7150\n",
       "      isTable : function: 0x015a7198\n",
       "      isunique : function: 0x015a71e0\n",
       "      complement : function: 0x0158d230\n",
       "      max : function: 0x01521e50\n",
       "      keys : function: 0x014602d8\n",
       "      first : function: 0x0142f140\n",
       "      union : function: 0x0158d2c0\n",
       "      any : function: 0x0158d308\n",
       "      concat : function: 0x0158d350\n",
       "      isNaN : function: 0x0142f0f8\n",
       "      range : function: 0x0158d398\n",
       "      times : function: 0x01059df8\n",
       "      loop : function: 0x01059db0\n",
       "      forEachi : function: 0x01059d68\n",
       "      dropWhile : function: 0x015215d8\n",
       "      inject : function: 0x015df4b8\n",
       "      toBoolean : function: 0x01521668\n",
       "      compact : function: 0x01059cd8\n",
       "      result : function: 0x01592bf8\n",
       "      indexOf : function: 0x01059c90\n",
       "      lastIndexOf : function: 0x01592c88\n",
       "      collect : function: 0x01059c48\n",
       "      reject : function: 0x01074220\n",
       "      mapReduceRight : function: 0x01592d60\n",
       "      symdiff : function: 0x01592da8\n",
       "      sameKeys : function: 0x01583ef0\n",
       "      mirror : function: 0x01583f38\n",
       "      interpose : function: 0x01583f80\n",
       "  "
      ]
     },
     "execution_count": 3,
     "metadata": {},
     "output_type": "execute_result"
    },
    {
     "data": {
      "text/plain": [
       "    pick : function: 0x01583fc8\n",
       "      sortedIndex : function: 0x01584010\n",
       "      chunk : function: 0x01521548\n",
       "      include : function: 0x01074190\n",
       "      shift : function: 0x01011188\n",
       "      reverse : function: 0x01568ab8\n",
       "      count : function: 0x01074100\n",
       "      eachi : function: 0x01568b48\n",
       "      remove : function: 0x01568b90\n",
       "      every : function: 0x01568bd8\n",
       "      omit : function: 0x01460a08\n",
       "      isArray : function: 0x010740b8\n",
       "      methods : function: 0x01460a98\n",
       "      select : function: 0x015b19e8\n",
       "      isString : function: 0x01521e98\n",
       "      import : function: 0x0142f188\n",
       "      countBy : function: 0x01460170\n",
       "      pop : function: 0x014601b8\n",
       "      containsKeys : function: 0x01521e08\n",
       "      difference : function: 0x01460248\n",
       "      compose : function: 0x01521dc0\n",
       "      filter : function: 0x015a3820\n",
       "      value : function: 0x015d0658\n",
       "      initial : function: 0x01524b80\n",
       "      countf : function: 0x0158d278\n",
       "      functions : function: 0x01524aa8\n",
       "      extend : function: 0x01524af0\n",
       "      sub : function: 0x01524b38\n",
       "      chain : function: 0x015d0638\n",
       "      permutation : function: 0x01521d30\n",
       "      reduceRight : function: 0x01521d78\n",
       "      wrap : function: 0x015ac9d8\n",
       "      juxt : function: 0x01521620\n",
       "      unshift : function: 0x015b1a30\n",
       "      isEqual : function: 0x01524a60\n",
       "      without : function: 0x01521ee0\n",
       "      flatten : function: 0x01524a18\n",
       "      groupBy : function: 0x01460320\n",
       "      memoize : function: 0x01074148\n",
       "      takeWhile : function: 0x015b19a0\n",
       "      sort : function: 0x010741d8\n",
       "      rep : function: 0x015df590\n",
       "      symmetricDifference : function: 0x01460200\n",
       "      cache : function: 0x015216b0\n",
       "      part : function: 0x01592cd0\n",
       "      unique : function: 0x01059d20\n",
       "      some : function: 0x0158ffc8\n",
       "      head : function: 0x01568a70\n",
       "      shuffle : function: 0x01460a50\n",
       "      uniqueId : function: 0x01460ae0\n",
       "      xor : function: 0x01592d18\n",
       "    }\n",
       "  chain : function: 0x015d0638\n",
       "  value : function: 0x015d0658\n",
       "  _LICENSE : MIT <http://raw.githubusercontent.com/Yonaba/Moses/master/LICENSE>\n",
       "  _DESCRIPTION : utility-belt library for functional programming in Lua\n",
       "  _VERSION : Moses v1.4.0\n",
       "}\n"
      ]
     },
     "execution_count": 3,
     "metadata": {},
     "output_type": "execute_result"
    }
   ],
   "source": [
    "require 'moses'"
   ]
  },
  {
   "cell_type": "code",
   "execution_count": null,
   "metadata": {
    "collapsed": false
   },
   "outputs": [],
   "source": [
    "torch.manualSeed(1234)"
   ]
  },
  {
   "cell_type": "code",
   "execution_count": null,
   "metadata": {
    "collapsed": true
   },
   "outputs": [],
   "source": [
    "n = 5"
   ]
  },
  {
   "cell_type": "code",
   "execution_count": null,
   "metadata": {
    "collapsed": true
   },
   "outputs": [],
   "source": [
    "X = torch.rand(n, n)"
   ]
  },
  {
   "cell_type": "code",
   "execution_count": null,
   "metadata": {
    "collapsed": false
   },
   "outputs": [],
   "source": [
    "X"
   ]
  },
  {
   "cell_type": "code",
   "execution_count": null,
   "metadata": {
    "collapsed": true
   },
   "outputs": [],
   "source": [
    "X = X*X:t()"
   ]
  },
  {
   "cell_type": "code",
   "execution_count": null,
   "metadata": {
    "collapsed": false
   },
   "outputs": [],
   "source": [
    "X"
   ]
  },
  {
   "cell_type": "code",
   "execution_count": null,
   "metadata": {
    "collapsed": false
   },
   "outputs": [],
   "source": [
    "X:add(0.001, torch.eye(n))"
   ]
  },
  {
   "cell_type": "code",
   "execution_count": null,
   "metadata": {
    "collapsed": false
   },
   "outputs": [],
   "source": [
    "X"
   ]
  },
  {
   "cell_type": "code",
   "execution_count": null,
   "metadata": {
    "collapsed": true
   },
   "outputs": [],
   "source": [
    "b = torch.rand(n)"
   ]
  },
  {
   "cell_type": "code",
   "execution_count": null,
   "metadata": {
    "collapsed": false
   },
   "outputs": [],
   "source": [
    "function J(y, z)\n",
    "    return 0.5*z:dot(y*z) - b:dot(z)\n",
    "end"
   ]
  },
  {
   "cell_type": "code",
   "execution_count": null,
   "metadata": {
    "collapsed": false
   },
   "outputs": [],
   "source": [
    "print( J(X, torch.rand(n)))"
   ]
  },
  {
   "cell_type": "code",
   "execution_count": null,
   "metadata": {
    "collapsed": false
   },
   "outputs": [],
   "source": [
    "print( J(torch.rand(n, n), torch.rand(n)))"
   ]
  },
  {
   "cell_type": "code",
   "execution_count": null,
   "metadata": {
    "collapsed": true
   },
   "outputs": [],
   "source": [
    "xs = torch.inverse(X)*b"
   ]
  },
  {
   "cell_type": "code",
   "execution_count": null,
   "metadata": {
    "collapsed": false
   },
   "outputs": [],
   "source": [
    "print(string.format('J(x^*) = %g', J(X, xs)))"
   ]
  },
  {
   "cell_type": "code",
   "execution_count": null,
   "metadata": {
    "collapsed": true
   },
   "outputs": [],
   "source": [
    "function dJ(A, z, b)\n",
    "  return A*z-b\n",
    "end"
   ]
  },
  {
   "cell_type": "code",
   "execution_count": null,
   "metadata": {
    "collapsed": false
   },
   "outputs": [],
   "source": [
    "x = torch.rand(n)\n",
    "\n",
    "lr = 0.01\n",
    "for i=1,20000 do\n",
    "  x = x - dJ(X, x, b)*lr\n",
    "  print(string.format('at iter %d J(x) = %f', i, J(X, x)))\n",
    "end"
   ]
  },
  {
   "cell_type": "code",
   "execution_count": null,
   "metadata": {
    "collapsed": false
   },
   "outputs": [],
   "source": [
    "do\n",
    "   local A = torch.rand(N, N)\n",
    "   print(A)\n",
    "end\n",
    "print(A)"
   ]
  },
  {
   "cell_type": "code",
   "execution_count": null,
   "metadata": {
    "collapsed": true
   },
   "outputs": [],
   "source": [
    "do\n",
    "   local neval = 0\n",
    "   function JdJ(x)\n",
    "      local Jx = J(x)\n",
    "      neval = neval + 1\n",
    "      print(string.format('after %d evaluations J(x) = %f', neval, Jx))\n",
    "      return Jx, dJ(x)\n",
    "   end\n",
    "end"
   ]
  },
  {
   "cell_type": "code",
   "execution_count": null,
   "metadata": {
    "collapsed": true
   },
   "outputs": [],
   "source": []
  },
  {
   "cell_type": "code",
   "execution_count": null,
   "metadata": {
    "collapsed": true
   },
   "outputs": [],
   "source": [
    "xs = torch.rand(100, 5)\n",
    "e = torch.rand(100, 1)\n",
    "b = torch.randn(5)\n",
    "yhat = xs*b\n",
    "y = yhat + e"
   ]
  },
  {
   "cell_type": "code",
   "execution_count": null,
   "metadata": {
    "collapsed": false
   },
   "outputs": [],
   "source": [
    "linLayer = nn.Linear(5, 10)\n",
    "linLayer2 = nn.Linear(10, 50)\n",
    "linLayer3 = nn.Linear(50, 1)"
   ]
  },
  {
   "cell_type": "code",
   "execution_count": null,
   "metadata": {
    "collapsed": true
   },
   "outputs": [],
   "source": [
    "model = nn.Sequential()\n",
    "model:add(linLayer)\n",
    "model:add(linLayer2)\n",
    "model:add(linLayer3)"
   ]
  },
  {
   "cell_type": "code",
   "execution_count": null,
   "metadata": {
    "collapsed": true
   },
   "outputs": [],
   "source": [
    "criterion = nn.MSECriterion()"
   ]
  },
  {
   "cell_type": "code",
   "execution_count": null,
   "metadata": {
    "collapsed": true
   },
   "outputs": [],
   "source": [
    "x, dl_dx = model:getParameters()"
   ]
  },
  {
   "cell_type": "code",
   "execution_count": null,
   "metadata": {
    "collapsed": true
   },
   "outputs": [],
   "source": [
    "data = torch.Tensor(xs, y)"
   ]
  },
  {
   "cell_type": "code",
   "execution_count": null,
   "metadata": {
    "collapsed": true
   },
   "outputs": [],
   "source": [
    "logger = optim.Logger('loss_log.txt')\n"
   ]
  },
  {
   "cell_type": "code",
   "execution_count": null,
   "metadata": {
    "collapsed": false
   },
   "outputs": [],
   "source": [
    "feval = function(x_new)\n",
    "    if x ~= x_new then\n",
    "        x:copy(x_new)\n",
    "    end\n",
    "\n",
    "    _nidx_ = (_nidx_ or 0) + 1\n",
    "    if _nidx_ > (#data)[1] then _nidx_ = 1 end\n",
    "\n",
    "    local sample = data[_nidx_]\n",
    "    local target = sample[{ 6 }]        -- this funny looking syntax allows\n",
    "    local inputs = sample[{ {1,2,3,4,5} }]    -- slicing of arrays.\n",
    "\n",
    "    dl_dx:zero()\n",
    "    local loss_x = criterion:forward(model:forward(inputs), target)\n",
    "    model:backward(inputs, criterion:backward(model.output, target))\n",
    "    if false then\n",
    "        local p = model:getParameters()\n",
    "        print(string.format(\n",
    "                \"parameters %0.2f %0.2f %0.2f %0.2f %0.2f %0.2f %0.2f %0.2f %0.2f\", \n",
    "                p[1], p[2], p[3], p[4], p[5], p[6], p[7], p[8], p[9])\n",
    "        )\n",
    "    end\n",
    "\n",
    "    -- return loss(x) and dloss/dx\n",
    "    return loss_x, dl_dx\n",
    "end\n"
   ]
  },
  {
   "cell_type": "code",
   "execution_count": null,
   "metadata": {
    "collapsed": true
   },
   "outputs": [],
   "source": [
    "sgd_params = {\n",
    "   learningRate = 1e-3,\n",
    "   learningRateDecay = 1e-4,\n",
    "   weightDecay = 0,\n",
    "   momentum = 0\n",
    "}\n"
   ]
  },
  {
   "cell_type": "code",
   "execution_count": null,
   "metadata": {
    "collapsed": false,
    "scrolled": true
   },
   "outputs": [],
   "source": [
    "for i = 1,1e4 do\n",
    "   for i = 1,(#data)[1] do\n",
    "      _,fs = optim.sgd(feval, x, sgd_params)\n",
    "      current_loss = current_loss + fs[1]\n",
    "   end\n",
    "   current_loss = current_loss / (#data)[1]\n",
    "   print('current loss = ' .. current_loss)\n",
    "   \n",
    "   logger:add{['training error'] = current_loss}\n",
    "   logger:style{['training error'] = '-'}\n",
    "   logger:plot()  \n",
    "end\n"
   ]
  },
  {
   "cell_type": "code",
   "execution_count": null,
   "metadata": {
    "collapsed": true
   },
   "outputs": [],
   "source": []
  },
  {
   "cell_type": "code",
   "execution_count": null,
   "metadata": {
    "collapsed": true
   },
   "outputs": [],
   "source": []
  },
  {
   "cell_type": "code",
   "execution_count": 4,
   "metadata": {
    "collapsed": false
   },
   "outputs": [
    {
     "data": {
      "text/plain": [
       "current loss = 412.73041723458\t\n"
      ]
     },
     "execution_count": 4,
     "metadata": {},
     "output_type": "execute_result"
    },
    {
     "data": {
      "text/plain": [
       "current loss = 168.24629859214\t\n"
      ]
     },
     "execution_count": 4,
     "metadata": {},
     "output_type": "execute_result"
    },
    {
     "data": {
      "text/plain": [
       "current loss = 156.10788189762\t\n"
      ]
     },
     "execution_count": 4,
     "metadata": {},
     "output_type": "execute_result"
    },
    {
     "data": {
      "text/plain": [
       "current loss = 146.67556363693\t\n"
      ]
     },
     "execution_count": 4,
     "metadata": {},
     "output_type": "execute_result"
    },
    {
     "data": {
      "text/plain": [
       "current loss = 138.84489039944\t\n"
      ]
     },
     "execution_count": 4,
     "metadata": {},
     "output_type": "execute_result"
    },
    {
     "data": {
      "text/plain": [
       "current loss = 132.32719862011\t\n"
      ]
     },
     "execution_count": 4,
     "metadata": {},
     "output_type": "execute_result"
    },
    {
     "data": {
      "text/plain": [
       "current loss = 126.88954377096\t\n"
      ]
     },
     "execution_count": 4,
     "metadata": {},
     "output_type": "execute_result"
    },
    {
     "data": {
      "text/plain": [
       "current loss = 122.34148250411\t\n"
      ]
     },
     "execution_count": 4,
     "metadata": {},
     "output_type": "execute_result"
    },
    {
     "data": {
      "text/plain": [
       "current loss = 118.52712960544\t\n"
      ]
     },
     "execution_count": 4,
     "metadata": {},
     "output_type": "execute_result"
    },
    {
     "data": {
      "text/plain": [
       "current loss = 115.3187391064\t\n"
      ]
     },
     "execution_count": 4,
     "metadata": {},
     "output_type": "execute_result"
    },
    {
     "data": {
      "text/plain": [
       "current loss = 112.61150177029\t\n"
      ]
     },
     "execution_count": 4,
     "metadata": {},
     "output_type": "execute_result"
    },
    {
     "data": {
      "text/plain": [
       "current loss = 110.31932426668\t\n"
      ]
     },
     "execution_count": 4,
     "metadata": {},
     "output_type": "execute_result"
    },
    {
     "data": {
      "text/plain": [
       "current loss = 108.37140141847\t\n"
      ]
     },
     "execution_count": 4,
     "metadata": {},
     "output_type": "execute_result"
    },
    {
     "data": {
      "text/plain": [
       "current loss = 106.70942974814\t\n"
      ]
     },
     "execution_count": 4,
     "metadata": {},
     "output_type": "execute_result"
    },
    {
     "data": {
      "text/plain": [
       "current loss = 105.28534008327\t\n"
      ]
     },
     "execution_count": 4,
     "metadata": {},
     "output_type": "execute_result"
    },
    {
     "data": {
      "text/plain": [
       "current loss = 104.05945067848\t\n"
      ]
     },
     "execution_count": 4,
     "metadata": {},
     "output_type": "execute_result"
    },
    {
     "data": {
      "text/plain": [
       "current loss = 102.99896134161\t\n"
      ]
     },
     "execution_count": 4,
     "metadata": {},
     "output_type": "execute_result"
    },
    {
     "data": {
      "text/plain": [
       "current loss = 102.07672434907\t\n"
      ]
     },
     "execution_count": 4,
     "metadata": {},
     "output_type": "execute_result"
    },
    {
     "data": {
      "text/plain": [
       "current loss = 101.27024024197\t\n"
      ]
     },
     "execution_count": 4,
     "metadata": {},
     "output_type": "execute_result"
    },
    {
     "data": {
      "text/plain": [
       "current loss = 100.56083650446\t\n"
      ]
     },
     "execution_count": 4,
     "metadata": {},
     "output_type": "execute_result"
    },
    {
     "data": {
      "text/plain": [
       "current loss = 99.932995112948\t\n"
      ]
     },
     "execution_count": 4,
     "metadata": {},
     "output_type": "execute_result"
    },
    {
     "data": {
      "text/plain": [
       "current loss = 99.373801387097\t\n"
      ]
     },
     "execution_count": 4,
     "metadata": {},
     "output_type": "execute_result"
    },
    {
     "data": {
      "text/plain": [
       "current loss = 98.872491775965\t\n"
      ]
     },
     "execution_count": 4,
     "metadata": {},
     "output_type": "execute_result"
    },
    {
     "data": {
      "text/plain": [
       "current loss = 98.420082415718\t\n"
      ]
     },
     "execution_count": 4,
     "metadata": {},
     "output_type": "execute_result"
    },
    {
     "data": {
      "text/plain": [
       "current loss = 98.009063695636\t\n"
      ]
     },
     "execution_count": 4,
     "metadata": {},
     "output_type": "execute_result"
    },
    {
     "data": {
      "text/plain": [
       "current loss = 97.63314882136\t\n"
      ]
     },
     "execution_count": 4,
     "metadata": {},
     "output_type": "execute_result"
    },
    {
     "data": {
      "text/plain": [
       "current loss = 97.287066594538\t\n"
      ]
     },
     "execution_count": 4,
     "metadata": {},
     "output_type": "execute_result"
    },
    {
     "data": {
      "text/plain": [
       "current loss = 96.966390436581\t\n"
      ]
     },
     "execution_count": 4,
     "metadata": {},
     "output_type": "execute_result"
    },
    {
     "data": {
      "text/plain": [
       "current loss = 96.667397152312\t\n"
      ]
     },
     "execution_count": 4,
     "metadata": {},
     "output_type": "execute_result"
    },
    {
     "data": {
      "text/plain": [
       "current loss = 96.38695012193\t\n"
      ]
     },
     "execution_count": 4,
     "metadata": {},
     "output_type": "execute_result"
    },
    {
     "data": {
      "text/plain": [
       "current loss = 96.122402579572\t\n"
      ]
     },
     "execution_count": 4,
     "metadata": {},
     "output_type": "execute_result"
    },
    {
     "data": {
      "text/plain": [
       "current loss = 95.871517426052\t\n"
      ]
     },
     "execution_count": 4,
     "metadata": {},
     "output_type": "execute_result"
    },
    {
     "data": {
      "text/plain": [
       "current loss = 95.63240066638\t\n"
      ]
     },
     "execution_count": 4,
     "metadata": {},
     "output_type": "execute_result"
    },
    {
     "data": {
      "text/plain": [
       "current loss = 95.403446086938\t\n"
      ]
     },
     "execution_count": 4,
     "metadata": {},
     "output_type": "execute_result"
    },
    {
     "data": {
      "text/plain": [
       "current loss = 95.183289215058\t\n"
      ]
     },
     "execution_count": 4,
     "metadata": {},
     "output_type": "execute_result"
    },
    {
     "data": {
      "text/plain": [
       "current loss = 94.970768953253\t\n"
      ]
     },
     "execution_count": 4,
     "metadata": {},
     "output_type": "execute_result"
    },
    {
     "data": {
      "text/plain": [
       "current loss = 94.764895566095\t\n"
      ]
     },
     "execution_count": 4,
     "metadata": {},
     "output_type": "execute_result"
    },
    {
     "data": {
      "text/plain": [
       "current loss = 94.56482393162\t\n"
      ]
     },
     "execution_count": 4,
     "metadata": {},
     "output_type": "execute_result"
    },
    {
     "data": {
      "text/plain": [
       "current loss = 94.369831160658\t\n"
      ]
     },
     "execution_count": 4,
     "metadata": {},
     "output_type": "execute_result"
    },
    {
     "data": {
      "text/plain": [
       "current loss = 94.17929784458\t\n"
      ]
     },
     "execution_count": 4,
     "metadata": {},
     "output_type": "execute_result"
    },
    {
     "data": {
      "text/plain": [
       "current loss = 93.992692320842\t\n"
      ]
     },
     "execution_count": 4,
     "metadata": {},
     "output_type": "execute_result"
    },
    {
     "data": {
      "text/plain": [
       "current loss = 93.809557451572\t\n"
      ]
     },
     "execution_count": 4,
     "metadata": {},
     "output_type": "execute_result"
    },
    {
     "data": {
      "text/plain": [
       "current loss = 93.629499497546\t\n"
      ]
     },
     "execution_count": 4,
     "metadata": {},
     "output_type": "execute_result"
    },
    {
     "data": {
      "text/plain": [
       "current loss = 93.452178741552\t\n"
      ]
     },
     "execution_count": 4,
     "metadata": {},
     "output_type": "execute_result"
    },
    {
     "data": {
      "text/plain": [
       "current loss = 93.277301574169\t\n"
      ]
     },
     "execution_count": 4,
     "metadata": {},
     "output_type": "execute_result"
    },
    {
     "data": {
      "text/plain": [
       "current loss = 93.104613803716\t\n"
      ]
     },
     "execution_count": 4,
     "metadata": {},
     "output_type": "execute_result"
    },
    {
     "data": {
      "text/plain": [
       "current loss = 92.933894992296\t\n"
      ]
     },
     "execution_count": 4,
     "metadata": {},
     "output_type": "execute_result"
    },
    {
     "data": {
      "text/plain": [
       "current loss = 92.764953653112\t\n"
      ]
     },
     "execution_count": 4,
     "metadata": {},
     "output_type": "execute_result"
    },
    {
     "data": {
      "text/plain": [
       "current loss = 92.597623171697\t\n"
      ]
     },
     "execution_count": 4,
     "metadata": {},
     "output_type": "execute_result"
    },
    {
     "data": {
      "text/plain": [
       "current loss = 92.431758336479\t\n"
      ]
     },
     "execution_count": 4,
     "metadata": {},
     "output_type": "execute_result"
    },
    {
     "data": {
      "text/plain": [
       "current loss = 92.267232382963\t\n"
      ]
     },
     "execution_count": 4,
     "metadata": {},
     "output_type": "execute_result"
    },
    {
     "data": {
      "text/plain": [
       "current loss = 92.103934471469\t\n"
      ]
     },
     "execution_count": 4,
     "metadata": {},
     "output_type": "execute_result"
    },
    {
     "data": {
      "text/plain": [
       "current loss = 91.941767531414\t\n"
      ]
     },
     "execution_count": 4,
     "metadata": {},
     "output_type": "execute_result"
    },
    {
     "data": {
      "text/plain": [
       "current loss = 91.780646415892\t\n"
      ]
     },
     "execution_count": 4,
     "metadata": {},
     "output_type": "execute_result"
    },
    {
     "data": {
      "text/plain": [
       "current loss = 91.620496319384\t\n"
      ]
     },
     "execution_count": 4,
     "metadata": {},
     "output_type": "execute_result"
    },
    {
     "data": {
      "text/plain": [
       "current loss = 91.461251418901\t\n"
      ]
     },
     "execution_count": 4,
     "metadata": {},
     "output_type": "execute_result"
    },
    {
     "data": {
      "text/plain": [
       "current loss = 91.302853705152\t\n"
      ]
     },
     "execution_count": 4,
     "metadata": {},
     "output_type": "execute_result"
    },
    {
     "data": {
      "text/plain": [
       "current loss = 91.145251975586\t\n"
      ]
     },
     "execution_count": 4,
     "metadata": {},
     "output_type": "execute_result"
    },
    {
     "data": {
      "text/plain": [
       "current loss = 90.988400965506\t\n"
      ]
     },
     "execution_count": 4,
     "metadata": {},
     "output_type": "execute_result"
    },
    {
     "data": {
      "text/plain": [
       "current loss = 90.832260597186\t\n"
      ]
     },
     "execution_count": 4,
     "metadata": {},
     "output_type": "execute_result"
    },
    {
     "data": {
      "text/plain": [
       "current loss = 90.676795329936\t\n"
      ]
     },
     "execution_count": 4,
     "metadata": {},
     "output_type": "execute_result"
    }
   ],
   "source": [
    "data = torch.Tensor{\n",
    "   {40,  6,  4, 8},\n",
    "   {44, 10,  4, 7},\n",
    "   {46, 12,  5, 13},\n",
    "   {48, 14,  7, 4},\n",
    "   {52, 16,  9, 20},\n",
    "   {58, 18, 12, 8},\n",
    "   {60, 22, 14, 5},\n",
    "   {68, 24, 20, 13},\n",
    "   {74, 26, 21, 20},\n",
    "   {80, 32, 24, 21}\n",
    "--    {40,  6,  4},\n",
    "--    {44, 10,  4},\n",
    "--    {46, 12,  5},\n",
    "--    {48, 14,  7},\n",
    "--    {52, 16,  9},\n",
    "--    {58, 18, 12},\n",
    "--    {60, 22, 14},\n",
    "--    {68, 24, 20},\n",
    "--    {74, 26, 21},\n",
    "--    {80, 32, 24}\n",
    "}\n",
    "logger = optim.Logger('loss_log.txt')\n",
    "\n",
    "\n",
    "model = nn.Sequential()                 -- define the container\n",
    "ninputs = 2; noutputs = 1\n",
    "model:add(nn.Linear(ninputs, noutputs)) -- define the only module\n",
    "criterion = nn.MSECriterion()\n",
    "\n",
    "x, dl_dx = model:getParameters()\n",
    "\n",
    "feval = function(x_new)\n",
    "   if x ~= x_new then\n",
    "      x:copy(x_new)\n",
    "   end\n",
    "   _nidx_ = (_nidx_ or 0) + 1\n",
    "   if _nidx_ > (#data)[1] then _nidx_ = 1 end\n",
    "\n",
    "   local sample = data[_nidx_]\n",
    "   local target = sample[{ {1} }]      -- this funny looking syntax allows\n",
    "   local inputs = sample[{ {2,3,4} }]    -- slicing of arrays.\n",
    "--    local inputs = sample[{ {2,3} }]    -- slicing of arrays.\n",
    "\n",
    "   dl_dx:zero()\n",
    "   local loss_x = criterion:forward(model:forward(inputs), target)\n",
    "   model:backward(inputs, criterion:backward(model.output, target))\n",
    "   return loss_x, dl_dx\n",
    "end\n",
    "\n",
    "sgd_params = {\n",
    "   learningRate = 1e-3,\n",
    "   learningRateDecay = 1e-4,\n",
    "   weightDecay = 0,\n",
    "   momentum = 0\n",
    "}\n",
    "\n",
    "for i = 1,1e4 do\n",
    "   current_loss = 0\n",
    "   for i = 1,(#data)[1] do\n",
    "      _,fs = optim.sgd(feval,x,sgd_params)\n",
    "      current_loss = current_loss + fs[1]\n",
    "   end\n",
    "\n",
    "   current_loss = current_loss / (#data)[1]\n",
    "   print('current loss = ' .. current_loss)\n",
    "   \n",
    "   logger:add{['training error'] = current_loss}\n",
    "   logger:style{['training error'] = '-'}\n",
    "   logger:plot()  \n",
    "end\n",
    "\n",
    "text = {40.32, 42.92, 45.33, 48.85, 52.37, 57, 61.82, 69.78, 72.19, 79.42}\n",
    "\n",
    "print('id  approx   text')\n",
    "for i = 1,(#data)[1] do\n",
    "   local myPrediction = model:forward(data[i][{{2,3}}])\n",
    "   ---print(string.format(\"%2d  %6.2f %6.2f\", i, myPrediction[1], text[i]))\n",
    "end"
   ]
  },
  {
   "cell_type": "code",
   "execution_count": null,
   "metadata": {
    "collapsed": true
   },
   "outputs": [],
   "source": []
  }
 ],
 "metadata": {
  "kernelspec": {
   "display_name": "iTorch",
   "language": "lua",
   "name": "itorch"
  },
  "language_info": {
   "name": "lua",
   "version": "5.1"
  }
 },
 "nbformat": 4,
 "nbformat_minor": 0
}
