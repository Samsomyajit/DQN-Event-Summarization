{
 "cells": [
  {
   "cell_type": "code",
   "execution_count": null,
   "metadata": {
    "collapsed": true
   },
   "outputs": [],
   "source": [
    "import matplotlib.pyplot as plt\n",
    "\n",
    "# the usual\n",
    "import numpy as np\n",
    "import pandas as pd\n",
    "\n",
    "import deepgraph as dg\n",
    "\n",
    "# notebook display\n",
    "%matplotlib inline\n",
    "plt.rcParams['figure.figsize'] = 8, 6\n",
    "pd.options.display.max_rows = 10\n",
    "pd.set_option('expand_frame_repr', False)"
   ]
  }
 ],
 "metadata": {
  "kernelspec": {
   "display_name": "Python 2",
   "language": "python",
   "name": "python2"
  },
  "language_info": {
   "codemirror_mode": {
    "name": "ipython",
    "version": 2
   },
   "file_extension": ".py",
   "mimetype": "text/x-python",
   "name": "python",
   "nbconvert_exporter": "python",
   "pygments_lexer": "ipython2",
   "version": "2.7.12"
  }
 },
 "nbformat": 4,
 "nbformat_minor": 0
}
