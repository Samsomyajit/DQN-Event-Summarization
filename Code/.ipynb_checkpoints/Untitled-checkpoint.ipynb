{
 "cells": [
  {
   "cell_type": "code",
   "execution_count": 8,
   "metadata": {
    "collapsed": false
   },
   "outputs": [],
   "source": [
    "actions = torch.ByteTensor({{0,1}, {0, 0}, {0, 1}})\n",
    "selects = torch.ByteTensor(actions:narrow(2, 2, 1))\n",
    "sentences = torch.LongTensor({{0, 1, 2, 3}, {0, 2, 3, 5}, {0, 0, 3, 4}})"
   ]
  },
  {
   "cell_type": "code",
   "execution_count": 9,
   "metadata": {
    "collapsed": true
   },
   "outputs": [],
   "source": [
    "indxs = selects:eq(1):resize(3):nonzero()\n",
    "indxs = indxs:resize(indxs:size(1))"
   ]
  },
  {
   "cell_type": "code",
   "execution_count": 10,
   "metadata": {
    "collapsed": true
   },
   "outputs": [],
   "source": [
    "function buildFullSummary(actions, sentences)\n",
    "    local SKIP = 1\n",
    "    local SELECT = 2\n",
    "\n",
    "    if use_cuda then \n",
    "        actions = actions:double()\n",
    "        sentences = sentences:double()\n",
    "    end\n",
    "\n",
    "    local actionsSize = actions:size(1)\n",
    "    local sentencesSize = sentences:size(2)\n",
    "\n",
    "    local selected = torch.ByteTensor(actions:narrow(2, SELECT, 1))\n",
    "    local indxs = selects:eq(1):resize(3):nonzero()\n",
    "    indxs = indxs:resize(indxs:size(1))\n",
    "    predictedsummary = sentences:index(1, indxs)\n",
    "     if use_cuda then\n",
    "        predictedsummary = predictedsummary:cuda()\n",
    "    end\n",
    "    return predictedsummary\n",
    "end"
   ]
  },
  {
   "cell_type": "code",
   "execution_count": 13,
   "metadata": {
    "collapsed": false
   },
   "outputs": [
    {
     "data": {
      "text/plain": [
       " 0  1  2  3\n",
       " 0  2  3  5\n",
       " 0  0  3  4\n",
       "[torch.LongTensor of size 3x4]\n",
       "\n"
      ]
     },
     "execution_count": 13,
     "metadata": {},
     "output_type": "execute_result"
    }
   ],
   "source": [
    "sentences"
   ]
  },
  {
   "cell_type": "code",
   "execution_count": 11,
   "metadata": {
    "collapsed": false
   },
   "outputs": [
    {
     "data": {
      "text/plain": [
       " 0  1  2  3\n",
       " 0  0  3  4\n",
       "[torch.LongTensor of size 2x4]\n",
       "\n"
      ]
     },
     "execution_count": 11,
     "metadata": {},
     "output_type": "execute_result"
    }
   ],
   "source": [
    "buildFullSummary(actions, sentences)"
   ]
  },
  {
   "cell_type": "code",
   "execution_count": 14,
   "metadata": {
    "collapsed": false
   },
   "outputs": [
    {
     "data": {
      "text/plain": [
       " 0  1\n",
       " 0  0\n",
       " 0  1\n",
       "[torch.ByteTensor of size 3x2]\n",
       "\n"
      ]
     },
     "execution_count": 14,
     "metadata": {},
     "output_type": "execute_result"
    }
   ],
   "source": [
    "actions"
   ]
  },
  {
   "cell_type": "code",
   "execution_count": null,
   "metadata": {
    "collapsed": true
   },
   "outputs": [],
   "source": []
  }
 ],
 "metadata": {
  "kernelspec": {
   "display_name": "iTorch",
   "language": "lua",
   "name": "itorch"
  },
  "language_info": {
   "name": "lua",
   "version": "5.1"
  }
 },
 "nbformat": 4,
 "nbformat_minor": 0
}
