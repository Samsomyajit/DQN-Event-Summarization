{
 "cells": [
  {
   "cell_type": "code",
   "execution_count": 162,
   "metadata": {
    "collapsed": true
   },
   "outputs": [],
   "source": [
    "require 'torch'\n",
    "require 'nn'\n",
    "require 'rnn'\n",
    "require 'csvigo'\n",
    "require 'optim'"
   ]
  },
  {
   "cell_type": "code",
   "execution_count": 2,
   "metadata": {
    "collapsed": true
   },
   "outputs": [],
   "source": [
    "aroraname = '~/GitHub/DeepNLPQLearning/DO_NOT_UPLOAD_THIS_DATA/0-output/2012_aurora_shooting_first_sentence_numtext.csv'\n",
    "wordfile = '~/GitHub/DeepNLPQLearning/DO_NOT_UPLOAD_THIS_DATA/0-output/total_corpus_smry.csv'\n",
    "nuggets = '~/GitHub/DeepNLPQLearning/DO_NOT_UPLOAD_THIS_DATA/0-output/aurora_nuggets_numtext.csv'"
   ]
  },
  {
   "cell_type": "code",
   "execution_count": 3,
   "metadata": {
    "collapsed": false
   },
   "outputs": [
    {
     "data": {
      "text/plain": [
       "<csv>\tparsing file: /Users/franciscojavierarceo/GitHub/DeepNLPQLearning/DO_NOT_UPLOAD_THIS_DATA/0-output/2012_aurora_shooting_first_sentence_numtext.csv\t\n"
      ]
     },
     "execution_count": 3,
     "metadata": {},
     "output_type": "execute_result"
    },
    {
     "data": {
      "text/plain": [
       "<csv>\tparsing done\t\n"
      ]
     },
     "execution_count": 3,
     "metadata": {},
     "output_type": "execute_result"
    }
   ],
   "source": [
    "m = csvigo.load({path = aroraname, mode = \"large\"})\n",
    "w = csvigo.load({path = wordfile, mode = \"large\"})\n",
    "q = csvigo.load({path = nuggets, mode = \"large\"})"
   ]
  },
  {
   "cell_type": "code",
   "execution_count": 66,
   "metadata": {
    "collapsed": true
   },
   "outputs": [],
   "source": [
    "N = 1000\n",
    "K = 100\n",
    "embed_dim = 6"
   ]
  },
  {
   "cell_type": "code",
   "execution_count": 6,
   "metadata": {
    "collapsed": false
   },
   "outputs": [],
   "source": [
    "function split(pString)\n",
    "   local pPattern = \" \"\n",
    "   local Table = {}  -- NOTE: use {n = 0} in Lua-5.0\n",
    "   local fpat = \"(.-)\" .. pPattern\n",
    "   local last_end = 1\n",
    "   local s, e, cap = pString:find(fpat, 1)\n",
    "   while s do\n",
    "      if s ~= 1 or cap ~= \"\" then\n",
    "     table.insert(Table, cap)\n",
    "      end\n",
    "      last_end = e + 1\n",
    "      s, e, cap = pString:find(fpat, last_end)\n",
    "   end\n",
    "   if last_end <= #pString then\n",
    "      cap = pString:sub(last_end)\n",
    "      table.insert(Table, cap)\n",
    "   end\n",
    "   return Table\n",
    "end\n",
    "\n",
    "function grabKtokens(x, K)\n",
    "    local tmp = {}\n",
    "    for k, v in pairs(x) do\n",
    "        if k <= K then\n",
    "            tmp[k] = v\n",
    "        end\n",
    "        if k > K then\n",
    "            return tmp\n",
    "        end\n",
    "    end\n",
    "    return tmp\n",
    "end\n",
    "\n",
    "function grabNsamples(x, N, K)\n",
    "    local out = {}\n",
    "    for k,v in pairs(m) do\n",
    "        if k > 1 then\n",
    "            out[k-1] = grabKtokens(split(x[k][1]), K)\n",
    "        end\n",
    "        if (k % (N+1))==0 then\n",
    "            print(N,'elements read out of ', #x)\n",
    "            break\n",
    "        end\n",
    "    end\n",
    "    return out\n",
    "end"
   ]
  },
  {
   "cell_type": "code",
   "execution_count": 50,
   "metadata": {
    "collapsed": false
   },
   "outputs": [],
   "source": [
    "function padZeros(x, maxlen)\n",
    "    local out = {}\n",
    "    for k, v in pairs(x) do\n",
    "        tmp = {}\n",
    "        if #v <  maxlen then\n",
    "            for i=1, maxlen do\n",
    "                if i <= (maxlen - #v) then\n",
    "                    tmp[i] = 0\n",
    "                else \n",
    "                    tmp[i] = v[i - (maxlen-#v)]\n",
    "                end\n",
    "            end\n",
    "        else \n",
    "            tmp = v\n",
    "        end\n",
    "        out[k] = tmp\n",
    "    end\n",
    "    return out\n",
    "end"
   ]
  },
  {
   "cell_type": "code",
   "execution_count": 78,
   "metadata": {
    "collapsed": false,
    "scrolled": true
   },
   "outputs": [
    {
     "data": {
      "text/plain": [
       "1000\telements read out of \t12510\t\n",
       "1000\telements read out of \t12510\t\n"
      ]
     },
     "execution_count": 78,
     "metadata": {},
     "output_type": "execute_result"
    }
   ],
   "source": [
    "--- Extracting N samples\n",
    "out = grabNsamples(m, N, K)\n",
    "\n",
    "mxl = 0\n",
    "for k,v in pairs(out) do\n",
    "    mxl = math.max(mxl, #v)\n",
    "end\n",
    "\n",
    "--- getting the length of the dictionary\n",
    "vocab_size = 0\n",
    "for k,v in pairs(out) do\n",
    "    vocab_size = math.max(vocab_size, math.max(table.unpack(v)))\n",
    "    if (k % N)==0 then\n",
    "        print(k,'elements read out of ', #m)\n",
    "        break\n",
    "    end\n",
    "end\n",
    "\n",
    "--- Padding the data by the maximum length\n",
    "xs = padZeros(out, mxl)"
   ]
  },
  {
   "cell_type": "code",
   "execution_count": 159,
   "metadata": {
    "collapsed": false
   },
   "outputs": [],
   "source": [
    "--- labels = torch.Tensor(torch.rand(#out)*20.):reshape(#out,1)\n",
    "labels = torch.Tensor(torch.round(torch.rand(#out))):reshape(#out,1)"
   ]
  },
  {
   "cell_type": "code",
   "execution_count": 149,
   "metadata": {
    "collapsed": false
   },
   "outputs": [],
   "source": [
    "--- This is the correct format to input it\n",
    "input = torch.LongTensor(xs)"
   ]
  },
  {
   "cell_type": "code",
   "execution_count": 144,
   "metadata": {
    "collapsed": false,
    "scrolled": true
   },
   "outputs": [
    {
     "data": {
      "text/plain": [
       " 1000\n",
       "    1\n",
       "[torch.LongStorage of size 2]\n",
       "\n"
      ]
     },
     "execution_count": 144,
     "metadata": {},
     "output_type": "execute_result"
    },
    {
     "data": {
      "text/plain": [
       "155.0838741741\t\n"
      ]
     },
     "execution_count": 144,
     "metadata": {},
     "output_type": "execute_result"
    }
   ],
   "source": [
    "LT = nn.LookupTableMaskZero(vocab_size, embed_dim)\n",
    "\n",
    "-- For batch inputs, it's a little easier to start with sequence-length x batch-size tensor, so we transpose songData\n",
    "myDataT = input:t()\n",
    "batchLSTM = nn.Sequential()\n",
    "batchLSTM:add(LT) -- will return a sequence-length x batch-size x embedDim tensor\n",
    "batchLSTM:add(nn.SplitTable(1, embed_dim)) -- splits into a sequence-length table with batch-size x embedDim entries\n",
    "-- print(batchLSTM:forward(myDataT)) -- sanity check\n",
    "-- now let's add the LSTM stuff\n",
    "batchLSTM:add(nn.Sequencer(nn.LSTM(embed_dim, embed_dim)))\n",
    "batchLSTM:add(nn.SelectTable(-1)) -- selects last state of the LSTM\n",
    "batchLSTM:add(nn.Linear(embed_dim, 1)) -- map last state to a score for classification\n",
    "batchLSTM:add(nn.Linear(1, 1)) -- convert score to a probability\n",
    "--- batchLSTM:add(nn.Sigmoid()) -- convert score to a probability\n",
    "myPreds = batchLSTM:forward(myDataT)\n",
    "print(#myPreds)\n",
    "\n",
    "-- we can now call :backward() as follows\n",
    "bceCrit = nn.MSECriterion()\n",
    "loss = bceCrit:forward(myPreds, labels)\n",
    "dLdPreds = bceCrit:backward(myPreds, labels)\n",
    "batchLSTM:backward(myDataT, dLdPreds)\n",
    "print(loss)"
   ]
  },
  {
   "cell_type": "code",
   "execution_count": 153,
   "metadata": {
    "collapsed": false
   },
   "outputs": [],
   "source": [
    "inputs = input"
   ]
  },
  {
   "cell_type": "code",
   "execution_count": 154,
   "metadata": {
    "collapsed": true
   },
   "outputs": [],
   "source": [
    "target = labels"
   ]
  },
  {
   "cell_type": "code",
   "execution_count": 155,
   "metadata": {
    "collapsed": true
   },
   "outputs": [],
   "source": [
    "criterion = nn.MSECriterion()"
   ]
  },
  {
   "cell_type": "code",
   "execution_count": 165,
   "metadata": {
    "collapsed": false
   },
   "outputs": [],
   "source": [
    "epochs = 10\n",
    "confusion = optim.ConfusionMatrix({0,1})"
   ]
  },
  {
   "cell_type": "code",
   "execution_count": 21,
   "metadata": {
    "collapsed": false
   },
   "outputs": [],
   "source": [
    "trainSet = {inputs}\n",
    "trainSet.ivocab = vocab_size"
   ]
  },
  {
   "cell_type": "code",
   "execution_count": 26,
   "metadata": {
    "collapsed": false
   },
   "outputs": [],
   "source": [
    "lookupDim = 10"
   ]
  },
  {
   "cell_type": "code",
   "execution_count": 27,
   "metadata": {
    "collapsed": false
   },
   "outputs": [
    {
     "ename": "[string \"model = nn.Sequential()...\"]:13: bad argument #1 to 'ipairs' (table expected, got nil)\nstack traceback:\n\t[C]: in function 'ipairs'\n\t[string \"model = nn.Sequential()...\"]:13: in main chunk\n\t[C]: in function 'xpcall'\n\t...ojavierarceo/torch/install/share/lua/5.1/itorch/main.lua:210: in function <...ojavierarceo/torch/install/share/lua/5.1/itorch/main.lua:174>\n\t...ojavierarceo/torch/install/share/lua/5.1/lzmq/poller.lua:75: in function 'poll'\n\t...vierarceo/torch/install/share/lua/5.1/lzmq/impl/loop.lua:307: in function 'poll'\n\t...vierarceo/torch/install/share/lua/5.1/lzmq/impl/loop.lua:325: in function 'sleep_ex'\n\t...vierarceo/torch/install/share/lua/5.1/lzmq/impl/loop.lua:370: in function 'start'\n\t...ojavierarceo/torch/install/share/lua/5.1/itorch/main.lua:389: in main chunk\n\t[C]: in function 'require'\n\t(command line):1: in main chunk\n\t[C]: at 0x01016d7b90",
     "evalue": "",
     "output_type": "error",
     "traceback": [
      "[string \"model = nn.Sequential()...\"]:13: bad argument #1 to 'ipairs' (table expected, got nil)\nstack traceback:\n\t[C]: in function 'ipairs'\n\t[string \"model = nn.Sequential()...\"]:13: in main chunk\n\t[C]: in function 'xpcall'\n\t...ojavierarceo/torch/install/share/lua/5.1/itorch/main.lua:210: in function <...ojavierarceo/torch/install/share/lua/5.1/itorch/main.lua:174>\n\t...ojavierarceo/torch/install/share/lua/5.1/lzmq/poller.lua:75: in function 'poll'\n\t...vierarceo/torch/install/share/lua/5.1/lzmq/impl/loop.lua:307: in function 'poll'\n\t...vierarceo/torch/install/share/lua/5.1/lzmq/impl/loop.lua:325: in function 'sleep_ex'\n\t...vierarceo/torch/install/share/lua/5.1/lzmq/impl/loop.lua:370: in function 'start'\n\t...ojavierarceo/torch/install/share/lua/5.1/itorch/main.lua:389: in main chunk\n\t[C]: in function 'require'\n\t(command line):1: in main chunk\n\t[C]: at 0x01016d7b90"
     ]
    }
   ],
   "source": [
    "model = nn.Sequential()\n",
    "\n",
    "-- Transpose, such that input is seqLen x batchSize\n",
    "model:add(nn.Transpose({1,2}))\n",
    "\n",
    "-- LookupTable\n",
    "local lookup = nn.LookupTableMaskZero(trainSet.ivocab, lookupDim)\n",
    "model:add(lookup)\n",
    "if lookupDropout ~= 0 then model:add(nn.Dropout(lookupDropout)) end\n",
    "\n",
    "-- Recurrent layers\n",
    "local inputSize = lookupDim\n",
    "for i, hiddenSize in ipairs(hiddenSizes) do\n",
    "  local rnn = nn.SeqLSTM(inputSize, hiddenSize)\n",
    "  rnn.maskzero = true\n",
    "  model:add(rnn)\n",
    "  if dropouts[i] ~= 0 and dropouts[i] ~= nil then\n",
    "     model:add(nn.Dropout(dropouts[i]))\n",
    "  end\n",
    "  inputSize = hiddenSize \n",
    "end\n",
    "model:add(nn.Select(1, -1))\n",
    "\n",
    "-- Output Layer\n",
    "model:add(nn.Linear(hiddenSizes[#hiddenSizes], #classes))\n",
    "model:add(nn.LogSoftMax())"
   ]
  },
  {
   "cell_type": "code",
   "execution_count": null,
   "metadata": {
    "collapsed": true
   },
   "outputs": [],
   "source": [
    "for epoch=1, epochs do\n",
    "   -- Single training epoch\n",
    "   trainLoss = 0\n",
    "   confusion:zero()\n",
    "   model:training()\n",
    "   for i, inputs, targets in myDataT:sampleiter(batchSize, epochSize) do\n",
    "      xlua.progress(i, epochSize)\n",
    "      trainInputs:resize(inputs:size()):copy(inputs)\n",
    "      trainTargets:resize(targets:size()):copy(targets)\n",
    "\n",
    "      local feval = function()\n",
    "         gradParameters:zero()\n",
    "\n",
    "         -- Forward\n",
    "         local outputs = model:forward(trainInputs)\n",
    "         local f = criterion:forward(outputs, trainTargets)\n",
    "         trainLoss = trainLoss + f\n",
    "\n",
    "         -- Backward\n",
    "         local df_do = criterion:backward(outputs, trainTargets)\n",
    "         model:backward(trainInputs, df_do)\n",
    "\n",
    "         confusion:batchAdd(conOutputs, conTargets)\n",
    "         return f, gradParameters\n",
    "      end\n",
    "      optimMethod(feval, parameters, optimState)\n",
    "   end\n",
    "   confusion:updateValids()\n",
    "   if best_train_accu < confusion.totalValid then\n",
    "      print(\"Best train accuracy: \".. best_train_accu ..\n",
    "                  \" current accu: \".. confusion.totalValid)\n",
    "      best_train_accu = confusion.totalValid\n",
    "      --best_train_model = model:clone()\n",
    "   end\n",
    "end"
   ]
  },
  {
   "cell_type": "code",
   "execution_count": 125,
   "metadata": {
    "collapsed": false
   },
   "outputs": [],
   "source": [
    "preds = {}\n",
    "for i=1, myPreds:size()[1] do\n",
    "    preds[i] = (myPreds[i][1] > 0.5) and 1 or 0 --- lua is stupid\n",
    "end"
   ]
  },
  {
   "cell_type": "code",
   "execution_count": 43,
   "metadata": {
    "collapsed": false
   },
   "outputs": [],
   "source": [
    "for k,v in pairs(xs[1]) do return v end"
   ]
  },
  {
   "cell_type": "code",
   "execution_count": null,
   "metadata": {
    "collapsed": true
   },
   "outputs": [],
   "source": []
  },
  {
   "cell_type": "code",
   "execution_count": null,
   "metadata": {
    "collapsed": true
   },
   "outputs": [],
   "source": []
  },
  {
   "cell_type": "code",
   "execution_count": 67,
   "metadata": {
    "collapsed": false
   },
   "outputs": [],
   "source": [
    "function unpackZeros(x) \n",
    "    local out = {}\n",
    "    local c = 1\n",
    "    for k,v in pairs(x) do\n",
    "        if v~=0 then\n",
    "            out[c] = v\n",
    "            c = c +1\n",
    "        end\n",
    "    end\n",
    "    return out\n",
    "end\n",
    "function buildPredSummary(preds, xs) \n",
    "    local predsummary = {}\n",
    "    c = 1\n",
    "    for i=1, #xs do\n",
    "        if preds[i]== 1 then\n",
    "            predsummary[c] = unpackZeros(xs[i])\n",
    "            c = c + 1\n",
    "        end\n",
    "    end\n",
    "    return predsummary\n",
    "end"
   ]
  },
  {
   "cell_type": "code",
   "execution_count": null,
   "metadata": {
    "collapsed": true
   },
   "outputs": [],
   "source": []
  },
  {
   "cell_type": "code",
   "execution_count": 72,
   "metadata": {
    "collapsed": false
   },
   "outputs": [
    {
     "data": {
      "text/plain": [
       "{\n",
       "  1 : \n",
       "    {\n",
       "      1 : 1381\n",
       "      2 : 479\n",
       "      3 : 1135\n",
       "      4 : 47\n",
       "      5 : 81\n",
       "    }\n",
       "  2 : \n",
       "    {\n",
       "      1 : 59\n",
       "      2 : 23\n",
       "      3 : 66\n",
       "      4 : 29\n",
       "      5 : 535\n",
       "    }\n",
       "  3 : \n",
       "    {\n",
       "      1 : 111\n",
       "      2 : 1591\n",
       "      3 : 48\n",
       "      4 : 57\n",
       "      5 : 1135\n",
       "      6 : 2206\n",
       "    }\n",
       "  4 : \n",
       "    {\n",
       "      1 : 142\n",
       "      2 : 1464\n",
       "      3 : 437\n",
       "      4 : 1591\n",
       "      5 : 48\n",
       "      6 : 57\n",
       "      7 : 1135\n",
       "      8 : 2206\n",
       "    }\n",
       "  5 : \n",
       "    {\n",
       "      1 : 1464\n",
       "      2 : 467\n",
       "      3 : 57\n",
       "      4 : 2206\n",
       "      5 : 48\n",
       "      6 : 1\n",
       "      7 : 111\n",
       "      8 : 1591\n",
       "      9 : 1135\n",
       "      10 : 48\n",
       "      11 : 1188\n",
       "      12 : 48\n",
       "      13 : 81\n",
       "      14 : 479\n",
       "      15 : 1\n",
       "      16 : 57\n",
       "      17 : 1135\n",
       "      18 : 57\n",
       "      19 : 299\n",
       "    }\n",
       "  6 : \n",
       "    {\n",
       "      1 : 24\n",
       "      2 : 57\n",
       "      3 : 23\n",
       "      4 : 57\n",
       "      5 : 1\n",
       "      6 : 1595\n",
       "      7 : 28\n",
       "      8 : 71\n",
       "      9 : 57\n",
       "      10 : 467\n",
       "    }\n",
       "  7 : \n",
       "    {\n",
       "      1 : 2990\n",
       "      2 : 62\n",
       "      3 : 24\n",
       "      4 : 138\n",
       "      5 : 67\n",
       "      6 : 57\n",
       "      7 : 192\n",
       "      8 : 24\n",
       "      9 : 401\n",
       "      10 : 867\n",
       "      11 : 868\n",
       "      12 : 24\n",
       "      13 : 1\n",
       "      14 : 111\n",
       "      15 : 299\n",
       "    }\n",
       "  8 : \n",
       "    {\n",
       "      1 : 475\n",
       "      2 : 111\n",
       "      3 : 57\n",
       "      4 : 57\n",
       "      5 : 1\n",
       "      6 : 467\n",
       "    }\n",
       "  9 : \n",
       "    {\n",
       "      1 : 479\n",
       "      2 : 1886\n",
       "      3 : 111\n",
       "      4 : 1576\n",
       "      5 : 111\n",
       "      6 : 1135\n",
       "      7 : 67\n",
       "    }\n",
       "  10 : \n",
       "    {\n",
       "      1 : 47\n",
       "      2 : 177\n",
       "      3 : 24\n",
       "      4 : 475\n",
       "      5 : 24\n",
       "      6 : 1135\n",
       "      7 : 111\n",
       "      8 : 299\n",
       "      9 : 47\n",
       "      10 : 57\n",
       "      11 : 2942\n",
       "    }\n",
       "  11 : \n",
       "    {\n",
       "      1 : 67\n",
       "      2 : 72\n",
       "   "
      ]
     },
     "execution_count": 72,
     "metadata": {},
     "output_type": "execute_result"
    },
    {
     "data": {
      "text/plain": [
       "   3 : 177\n",
       "      4 : 147\n",
       "      5 : 81\n",
       "      6 : 57\n",
       "      7 : 1135\n",
       "      8 : 111\n",
       "      9 : 299\n",
       "    }\n",
       "  12 : \n",
       "    {\n",
       "      1 : 277\n",
       "      2 : 47\n",
       "      3 : 57\n",
       "      4 : 151\n",
       "      5 : 119\n",
       "      6 : 1737\n",
       "      7 : 177\n",
       "      8 : 67\n",
       "      9 : 81\n",
       "    }\n",
       "}\n"
      ]
     },
     "execution_count": 72,
     "metadata": {},
     "output_type": "execute_result"
    }
   ],
   "source": [
    "predsummary"
   ]
  },
  {
   "cell_type": "code",
   "execution_count": null,
   "metadata": {
    "collapsed": true
   },
   "outputs": [],
   "source": []
  }
 ],
 "metadata": {
  "kernelspec": {
   "display_name": "iTorch",
   "language": "lua",
   "name": "itorch"
  },
  "language_info": {
   "name": "lua",
   "version": "5.1"
  }
 },
 "nbformat": 4,
 "nbformat_minor": 0
}
