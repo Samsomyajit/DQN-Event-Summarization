{
 "cells": [
  {
   "cell_type": "code",
   "execution_count": 1,
   "metadata": {
    "collapsed": true
   },
   "outputs": [],
   "source": [
    "require 'torch'\n",
    "require 'nn'\n",
    "require 'rnn'\n",
    "require 'csvigo'\n",
    "require 'optim'\n",
    "Plot = require 'itorch.Plot'"
   ]
  },
  {
   "cell_type": "code",
   "execution_count": 2,
   "metadata": {
    "collapsed": true
   },
   "outputs": [],
   "source": [
    "aroraname = '~/GitHub/DeepNLPQLearning/DO_NOT_UPLOAD_THIS_DATA/0-output/2012_aurora_shooting_first_sentence_numtext.csv'\n",
    "wordfile = '~/GitHub/DeepNLPQLearning/DO_NOT_UPLOAD_THIS_DATA/0-output/total_corpus_smry.csv'\n",
    "nuggets = '~/GitHub/DeepNLPQLearning/DO_NOT_UPLOAD_THIS_DATA/0-output/aurora_nuggets_numtext.csv'"
   ]
  },
  {
   "cell_type": "code",
   "execution_count": 99,
   "metadata": {
    "collapsed": false
   },
   "outputs": [
    {
     "data": {
      "text/plain": [
       "...Utils file loaded\t\n",
       "\n"
      ]
     },
     "execution_count": 99,
     "metadata": {},
     "output_type": "execute_result"
    }
   ],
   "source": [
    "dofile(\"utils.lua\")"
   ]
  },
  {
   "cell_type": "code",
   "execution_count": 4,
   "metadata": {
    "collapsed": false
   },
   "outputs": [
    {
     "data": {
      "text/plain": [
       "<csv>\tparsing file: /Users/franciscojavierarceo/GitHub/DeepNLPQLearning/DO_NOT_UPLOAD_THIS_DATA/0-output/2012_aurora_shooting_first_sentence_numtext.csv\t\n"
      ]
     },
     "execution_count": 4,
     "metadata": {},
     "output_type": "execute_result"
    },
    {
     "data": {
      "text/plain": [
       "<csv>\tparsing done\t\n",
       "<csv>\tparsing file: /Users/franciscojavierarceo/GitHub/DeepNLPQLearning/DO_NOT_UPLOAD_THIS_DATA/0-output/total_corpus_smry.csv\t\n"
      ]
     },
     "execution_count": 4,
     "metadata": {},
     "output_type": "execute_result"
    },
    {
     "data": {
      "text/plain": [
       "<csv>\tparsing done\t\n",
       "<csv>\tparsing file: /Users/franciscojavierarceo/GitHub/DeepNLPQLearning/DO_NOT_UPLOAD_THIS_DATA/0-output/aurora_nuggets_numtext.csv\t\n",
       "<csv>\tparsing done\t\n"
      ]
     },
     "execution_count": 4,
     "metadata": {},
     "output_type": "execute_result"
    }
   ],
   "source": [
    "m = csvigo.load({path = aroraname, mode = \"large\"})\n",
    "w = csvigo.load({path = wordfile, mode = \"large\"})\n",
    "q = csvigo.load({path = nuggets, mode = \"large\"})"
   ]
  },
  {
   "cell_type": "code",
   "execution_count": 121,
   "metadata": {
    "collapsed": false
   },
   "outputs": [
    {
     "data": {
      "text/plain": [
       "139\telements read out of \t140\t\n"
      ]
     },
     "execution_count": 121,
     "metadata": {},
     "output_type": "execute_result"
    }
   ],
   "source": [
    "nuggs = grabNsamples(q, #q-1, nil)"
   ]
  },
  {
   "cell_type": "code",
   "execution_count": 5,
   "metadata": {
    "collapsed": true
   },
   "outputs": [],
   "source": [
    "N = 1000\n",
    "K = 100\n",
    "embed_dim = 6"
   ]
  },
  {
   "cell_type": "code",
   "execution_count": 6,
   "metadata": {
    "collapsed": false,
    "scrolled": true
   },
   "outputs": [
    {
     "data": {
      "text/plain": [
       "1000\telements read out of \t12510\t\n"
      ]
     },
     "execution_count": 6,
     "metadata": {},
     "output_type": "execute_result"
    },
    {
     "data": {
      "text/plain": [
       "1000\telements read out of \t12510\t\n"
      ]
     },
     "execution_count": 6,
     "metadata": {},
     "output_type": "execute_result"
    }
   ],
   "source": [
    "--- Extracting N samples\n",
    "out = grabNsamples(m, N, K)\n",
    "\n",
    "mxl = 0\n",
    "for k,v in pairs(out) do\n",
    "    mxl = math.max(mxl, #v)\n",
    "end\n",
    "\n",
    "--- getting the length of the dictionary\n",
    "vocab_size = 0\n",
    "for k,v in pairs(out) do\n",
    "    vocab_size = math.max(vocab_size, math.max(table.unpack(v)))\n",
    "    if (k % N)==0 then\n",
    "        print(k,'elements read out of ', #m)\n",
    "        break\n",
    "    end\n",
    "end\n",
    "\n",
    "--- Padding the data by the maximum length\n",
    "xs = padZeros(out, mxl)"
   ]
  },
  {
   "cell_type": "code",
   "execution_count": 35,
   "metadata": {
    "collapsed": false
   },
   "outputs": [],
   "source": [
    "--- labels = torch.Tensor(torch.rand(#out)*20.):reshape(#out,1)\n",
    "labels = torch.Tensor(torch.round(torch.rand(#out))):reshape(#out,1)"
   ]
  },
  {
   "cell_type": "code",
   "execution_count": 36,
   "metadata": {
    "collapsed": false
   },
   "outputs": [],
   "source": [
    "--- This is the correct format to input it\n",
    "input = torch.LongTensor(xs)"
   ]
  },
  {
   "cell_type": "code",
   "execution_count": 37,
   "metadata": {
    "collapsed": false,
    "scrolled": true
   },
   "outputs": [
    {
     "data": {
      "text/plain": [
       " 1000\n",
       "    1\n",
       "[torch.LongStorage of size 2]\n",
       "\n"
      ]
     },
     "execution_count": 37,
     "metadata": {},
     "output_type": "execute_result"
    },
    {
     "data": {
      "text/plain": [
       "0.40899724714433\t\n"
      ]
     },
     "execution_count": 37,
     "metadata": {},
     "output_type": "execute_result"
    }
   ],
   "source": [
    "LT = nn.LookupTableMaskZero(vocab_size, embed_dim)\n",
    "\n",
    "-- For batch inputs, it's a little easier to start with sequence-length x batch-size tensor, so we transpose songData\n",
    "myDataT = input:t()\n",
    "batchLSTM = nn.Sequential()\n",
    "batchLSTM:add(LT) -- will return a sequence-length x batch-size x embedDim tensor\n",
    "batchLSTM:add(nn.SplitTable(1, embed_dim)) -- splits into a sequence-length table with batch-size x embedDim entries\n",
    "-- print(batchLSTM:forward(myDataT)) -- sanity check\n",
    "-- now let's add the LSTM stuff\n",
    "batchLSTM:add(nn.Sequencer(nn.LSTM(embed_dim, embed_dim)))\n",
    "batchLSTM:add(nn.SelectTable(-1)) -- selects last state of the LSTM\n",
    "batchLSTM:add(nn.Linear(embed_dim, 1)) -- map last state to a score for classification\n",
    "batchLSTM:add(nn.Linear(1, 1)) -- convert score to a probability\n",
    "--- batchLSTM:add(nn.Sigmoid()) -- convert score to a probability\n",
    "myPreds = batchLSTM:forward(myDataT)\n",
    "print(#myPreds)\n",
    "-- we can now call :backward() as follows\n",
    "bceCrit = nn.MSECriterion()\n",
    "\n",
    "loss = bceCrit:forward(myPreds, labels)\n",
    "dLdPreds = bceCrit:backward(myPreds, labels)\n",
    "batchLSTM:backward(myDataT, dLdPreds)\n",
    "print(loss)"
   ]
  },
  {
   "cell_type": "code",
   "execution_count": 38,
   "metadata": {
    "collapsed": false
   },
   "outputs": [],
   "source": [
    "inputs = input"
   ]
  },
  {
   "cell_type": "code",
   "execution_count": 39,
   "metadata": {
    "collapsed": true
   },
   "outputs": [],
   "source": [
    "target = labels"
   ]
  },
  {
   "cell_type": "code",
   "execution_count": 40,
   "metadata": {
    "collapsed": true
   },
   "outputs": [],
   "source": [
    "criterion = nn.MSECriterion()"
   ]
  },
  {
   "cell_type": "code",
   "execution_count": 41,
   "metadata": {
    "collapsed": false
   },
   "outputs": [],
   "source": [
    "epochs = 10\n",
    "confusion = optim.ConfusionMatrix({0,1})"
   ]
  },
  {
   "cell_type": "code",
   "execution_count": 42,
   "metadata": {
    "collapsed": false
   },
   "outputs": [],
   "source": [
    "trainSet = {inputs}\n",
    "trainSet.ivocab = vocab_size"
   ]
  },
  {
   "cell_type": "code",
   "execution_count": 43,
   "metadata": {
    "collapsed": false
   },
   "outputs": [],
   "source": [
    "lookupDim = 10"
   ]
  },
  {
   "cell_type": "code",
   "execution_count": null,
   "metadata": {
    "collapsed": true
   },
   "outputs": [],
   "source": [
    "for epoch=1, epochs do\n",
    "   -- Single training epoch\n",
    "   trainLoss = 0\n",
    "   confusion:zero()\n",
    "   model:training()\n",
    "   for i, inputs, targets in myDataT:sampleiter(batchSize, epochSize) do\n",
    "      xlua.progress(i, epochSize)\n",
    "      trainInputs:resize(inputs:size()):copy(inputs)\n",
    "      trainTargets:resize(targets:size()):copy(targets)\n",
    "\n",
    "      local feval = function()\n",
    "         gradParameters:zero()\n",
    "\n",
    "         -- Forward\n",
    "         local outputs = model:forward(trainInputs)\n",
    "         local f = criterion:forward(outputs, trainTargets)\n",
    "         trainLoss = trainLoss + f\n",
    "\n",
    "         -- Backward\n",
    "         local df_do = criterion:backward(outputs, trainTargets)\n",
    "         model:backward(trainInputs, df_do)\n",
    "\n",
    "         confusion:batchAdd(conOutputs, conTargets)\n",
    "         return f, gradParameters\n",
    "      end\n",
    "      optimMethod(feval, parameters, optimState)\n",
    "   end\n",
    "   confusion:updateValids()\n",
    "   if best_train_accu < confusion.totalValid then\n",
    "      print(\"Best train accuracy: \".. best_train_accu ..\n",
    "                  \" current accu: \".. confusion.totalValid)\n",
    "      best_train_accu = confusion.totalValid\n",
    "      --best_train_model = model:clone()\n",
    "   end\n",
    "end"
   ]
  },
  {
   "cell_type": "code",
   "execution_count": 44,
   "metadata": {
    "collapsed": false
   },
   "outputs": [],
   "source": [
    "preds = {}\n",
    "for i=1, myPreds:size()[1] do\n",
    "    preds[i] = (myPreds[i][1] > 0.5) and 1 or 0 --- lua is stupid\n",
    "end"
   ]
  },
  {
   "cell_type": "code",
   "execution_count": 50,
   "metadata": {
    "collapsed": false
   },
   "outputs": [],
   "source": [
    "ys = unpackZeros(preds)"
   ]
  },
  {
   "cell_type": "code",
   "execution_count": 131,
   "metadata": {
    "collapsed": false
   },
   "outputs": [
    {
     "data": {
      "text/plain": [
       "1000\t\n"
      ]
     },
     "execution_count": 131,
     "metadata": {},
     "output_type": "execute_result"
    }
   ],
   "source": [
    "#pred_summary"
   ]
  },
  {
   "cell_type": "code",
   "execution_count": 125,
   "metadata": {
    "collapsed": false
   },
   "outputs": [],
   "source": [
    "predsummary = buildPredSummary(preds, xs)"
   ]
  },
  {
   "cell_type": "code",
   "execution_count": 128,
   "metadata": {
    "collapsed": false
   },
   "outputs": [
    {
     "data": {
      "text/plain": [
       "0.96040609137056\t\n"
      ]
     },
     "execution_count": 128,
     "metadata": {},
     "output_type": "execute_result"
    }
   ],
   "source": [
    "rougeRecall(predsummary, nuggs)"
   ]
  },
  {
   "cell_type": "code",
   "execution_count": 129,
   "metadata": {
    "collapsed": false
   },
   "outputs": [
    {
     "data": {
      "text/plain": [
       "0.087358020131129\t\n"
      ]
     },
     "execution_count": 129,
     "metadata": {},
     "output_type": "execute_result"
    }
   ],
   "source": [
    "rougePrecision(predsummary, nuggs)"
   ]
  },
  {
   "cell_type": "code",
   "execution_count": 130,
   "metadata": {
    "collapsed": false
   },
   "outputs": [
    {
     "data": {
      "text/plain": [
       "0.16014897579143\t\n"
      ]
     },
     "execution_count": 130,
     "metadata": {},
     "output_type": "execute_result"
    }
   ],
   "source": [
    "rougeF1(predsummary, nuggs)"
   ]
  },
  {
   "cell_type": "markdown",
   "metadata": {},
   "source": [
    "# Modeling MLP"
   ]
  },
  {
   "cell_type": "code",
   "execution_count": 170,
   "metadata": {
    "collapsed": false,
    "scrolled": true
   },
   "outputs": [],
   "source": [
    "pred_mlp = nn.Sequential()  -- A network that makes predictions given x.\n",
    "pred_mlp:add(nn.Linear(5, 4))\n",
    "pred_mlp:add(nn.Linear(4, 3))\n",
    "\n",
    "xy_mlp = nn.ParallelTable() -- A network for predictions and for keeping the\n",
    "xy_mlp:add(pred_mlp)        -- true label for comparison with a criterion\n",
    "xy_mlp:add(nn.Identity())   -- by forwarding both x and y through the network.\n",
    "\n",
    "mlp = nn.Sequential()       -- The main network that takes both x and y.\n",
    "mlp:add(xy_mlp)             -- It feeds x and y to parallel networks;\n",
    "cr = nn.MSECriterion()\n",
    "cr_wrap = nn.CriterionTable(cr)\n",
    "mlp:add(cr_wrap)            -- and then applies the criterion.\n",
    "\n",
    "x = torch.randn(5)\n",
    "y = torch.Tensor({1,1,1})\n",
    "--- x = torch.randn(5)        -- Make input features.\n",
    "--- y = torch.ones(5)      -- Popluates it with 3 elements near zero\n",
    "loss = {}\n",
    "for i = 1, 100 do           -- Do a few training iterations\n",
    "   err = mlp:forward{x,y}   -- Forward both input and output.\n",
    "   loss[i]= err               -- Print error from criterion.\n",
    "\n",
    "   mlp:zeroGradParameters() -- Do backprop...\n",
    "   mlp:backward({x, y})\n",
    "   mlp:updateParameters(0.05)\n",
    "end"
   ]
  },
  {
   "cell_type": "code",
   "execution_count": 171,
   "metadata": {
    "collapsed": false
   },
   "outputs": [
    {
     "data": {
      "text/html": [
       "<script type=\"text/javascript\">\n",
       "$(function() {\n",
       "    if (typeof (window._bokeh_onload_callbacks) === \"undefined\"){\n",
       "  window._bokeh_onload_callbacks = [];\n",
       "    }\n",
       "    function load_lib(url, callback){\n",
       "  window._bokeh_onload_callbacks.push(callback);\n",
       "  if (window._bokeh_is_loading){\n",
       "      console.log(\"Bokeh: BokehJS is being loaded, scheduling callback at\", new Date());\n",
       "      return null;\n",
       "  }\n",
       "  console.log(\"Bokeh: BokehJS not loaded, scheduling load and callback at\", new Date());\n",
       "  window._bokeh_is_loading = true;\n",
       "  var s = document.createElement('script');\n",
       "  s.src = url;\n",
       "  s.async = true;\n",
       "  s.onreadystatechange = s.onload = function(){\n",
       "      Bokeh.embed.inject_css(\"https://cdn.pydata.org/bokeh-0.7.0.min.css\");\n",
       "      window._bokeh_onload_callbacks.forEach(function(callback){callback()});\n",
       "  };\n",
       "  s.onerror = function(){\n",
       "      console.warn(\"failed to load library \" + url);\n",
       "  };\n",
       "  document.getElementsByTagName(\"head\")[0].appendChild(s);\n",
       "    }\n",
       "\n",
       "    bokehjs_url = \"https://cdn.pydata.org/bokeh-0.7.0.min.js\"\n",
       "\n",
       "    var elt = document.getElementById(\"6fe089f7-ffa6-48d7-c896-c9d919776e45\");\n",
       "    if(elt==null) {\n",
       "  console.log(\"Bokeh: ERROR: autoload.js configured with elementid '6fe089f7-ffa6-48d7-c896-c9d919776e45'\"\n",
       "        + \"but no matching script tag was found. \")\n",
       "  return false;\n",
       "    }\n",
       "\n",
       "    if(typeof(Bokeh) !== \"undefined\") {\n",
       "  console.log(\"Bokeh: BokehJS loaded, going straight to plotting\");\n",
       "  var modelid = \"ab6be6e2-704f-4176-c121-2095f82dcafb\";\n",
       "  var modeltype = \"Plot\";\n",
       "  var all_models = [{\"id\":\"c2285c52-407d-4e7b-ceaf-8a80021c01c0\",\"type\":\"ColumnDataSource\",\"attributes\":{\"data\":{\"y\":[0.88115509528668,0.69837303561268,0.56696499901066,0.46688479184582,0.38752801080999,0.3228146710333,0.26903914855366,0.22382410200058,0.18556829516381,0.1531365992012,0.12567838533046,0.10251876584429,0.083093531594862,0.06691128307267,0.053532660741706,0.042560075871302,0.033633460328123,0.026428996434398,0.020658859334819,0.016070820527106,0.012447163516976,0.0096027736172545,0.0073825107230671,0.0056580916427764,0.0043247359291392,0.0032978020266883,0.002509587628065,0.0019064093112199,0.0014460235293103,0.0010954092086395,0.00082890270364251,0.00062665740509682,0.00047339061633272,0.00035737694913956,0.00026964827414118,0.0002033634758683,0.00015331567109479,0.00011554932156892,8.7064300477019e-05,6.5588177771e-05,4.9401649860253e-05,3.7205128281341e-05,2.8017049852863e-05,2.1096535626127e-05,1.5884676290581e-05,1.1960026343211e-05,9.004911600306e-06,6.7799498970542e-06,5.1047998696831e-06,3.8436260993564e-06,2.8941318042807e-06,2.1792875705084e-06,1.6410959328017e-06,1.2358922952577e-06,9.3080462764022e-07,7.0108678237805e-07,5.281102146564e-07,3.978517630309e-07,2.9975508866507e-07,2.2587352009362e-07,1.7022479458337e-07,1.2830533700105e-07,9.6724643531604e-08,7.2930077535517e-08,5.4999721881705e-08,4.1486457855458e-08,3.1300601673064e-08,2.3621562402378e-08,1.7831343502424e-08,1.346448550672e-08,1.0170383668727e-08,7.6849201782885e-09,5.8091075654352e-09,4.3930096520099e-09,3.3236352155562e-09,2.5158222525261e-09,1.9053736170978e-09,1.4438876147658e-09,1.0948647152039e-09,8.3077510136624e-10,6.3084971301551e-10,4.794161078766e-10,3.6464462137362e-10,2.776035454274e-10,2.1154706778276e-10,1.6137854974289e-10,1.2324590032287e-10,9.4236480982838e-11,7.2147013247405e-11,5.5310013873065e-11,4.2462839744928e-11,3.264885685373e-11,2.514283244834e-11,1.9394596345597e-11,1.4986483858128e-11,1.1601177560788e-11,8.9973974767976e-12,6.9915164440698e-12,5.4436500810474e-12,4.2471270421778e-12],\"x\":[1,2,3,4,5,6,7,8,9,10,11,12,13,14,15,16,17,18,19,20,21,22,23,24,25,26,27,28,29,30,31,32,33,34,35,36,37,38,39,40,41,42,43,44,45,46,47,48,49,50,51,52,53,54,55,56,57,58,59,60,61,62,63,64,65,66,67,68,69,70,71,72,73,74,75,76,77,78,79,80,81,82,83,84,85,86,87,88,89,90,91,92,93,94,95,96,97,98,99,100]},\"column_names\":[\"y\",\"x\"],\"cont_ranges\":{},\"discrete_ranges\":{},\"selected\":[],\"id\":\"c2285c52-407d-4e7b-ceaf-8a80021c01c0\",\"doc\":null,\"tags\":[]}},{\"id\":\"a39d86cd-bef4-40ac-c045-f1bc88a0a81f\",\"type\":\"Circle\",\"attributes\":{\"fill_alpha\":{\"units\":\"data\",\"value\":0.2},\"line_alpha\":{\"units\":\"data\",\"value\":1},\"doc\":null,\"size\":{\"units\":\"screen\",\"value\":10},\"fill_color\":{\"value\":\"red\"},\"line_color\":{\"value\":\"red\"},\"x\":{\"units\":\"data\",\"field\":\"x\"},\"id\":\"a39d86cd-bef4-40ac-c045-f1bc88a0a81f\",\"y\":{\"units\":\"data\",\"field\":\"y\"},\"tags\":[]}},{\"id\":\"620b6221-5f20-4cc4-cca2-5b556fa173c3\",\"type\":\"Circle\",\"attributes\":{\"fill_alpha\":{\"units\":\"data\",\"value\":0.2},\"line_alpha\":{\"units\":\"data\",\"value\":1},\"doc\":null,\"size\":{\"units\":\"screen\",\"value\":10},\"fill_color\":{\"value\":\"red\"},\"line_color\":{\"value\":\"red\"},\"x\":{\"units\":\"data\",\"field\":\"x\"},\"id\":\"620b6221-5f20-4cc4-cca2-5b556fa173c3\",\"y\":{\"units\":\"data\",\"field\":\"y\"},\"tags\":[]}},{\"id\":\"eb13faad-568c-49f2-c9f4-137e51a9d69e\",\"type\":\"GlyphRenderer\",\"attributes\":{\"name\":null,\"nonselection_glyph\":{\"type\":\"Circle\",\"id\":\"620b6221-5f20-4cc4-cca2-5b556fa173c3\"},\"doc\":null,\"server_data_source\":null,\"data_source\":{\"type\":\"ColumnDataSource\",\"id\":\"c2285c52-407d-4e7b-ceaf-8a80021c01c0\"},\"glyph\":{\"type\":\"Circle\",\"id\":\"a39d86cd-bef4-40ac-c045-f1bc88a0a81f\"},\"selection_glyph\":null,\"id\":\"eb13faad-568c-49f2-c9f4-137e51a9d69e\",\"tags\":[]}},{\"id\":\"a80dffa0-f891-42df-c23c-2260f8403b42\",\"type\":\"DataRange1d\",\"attributes\":{\"sources\":[{\"columns\":[\"x\"],\"source\":{\"type\":\"ColumnDataSource\",\"id\":\"c2285c52-407d-4e7b-ceaf-8a80021c01c0\"}}],\"id\":\"a80dffa0-f891-42df-c23c-2260f8403b42\",\"tags\":[],\"doc\":null}},{\"id\":\"de197197-d623-4f9f-cfc6-3122fc0cd28f\",\"type\":\"DataRange1d\",\"attributes\":{\"sources\":[{\"columns\":[\"y\"],\"source\":{\"type\":\"ColumnDataSource\",\"id\":\"c2285c52-407d-4e7b-ceaf-8a80021c01c0\"}}],\"id\":\"de197197-d623-4f9f-cfc6-3122fc0cd28f\",\"tags\":[],\"doc\":null}},{\"id\":\"7f3c1943-99e6-4f6e-cfc5-4908858b3a61\",\"type\":\"ToolEvents\",\"attributes\":{\"tags\":[],\"id\":\"7f3c1943-99e6-4f6e-cfc5-4908858b3a61\",\"geometries\":[],\"doc\":null}},{\"id\":\"a0a317a4-bd77-4ee1-ce1b-034554c64d52\",\"type\":\"BasicTickFormatter\",\"attributes\":{\"id\":\"a0a317a4-bd77-4ee1-ce1b-034554c64d52\",\"tags\":[],\"doc\":null}},{\"id\":\"b02edc27-4e08-406e-c0ea-375d92d16530\",\"type\":\"BasicTicker\",\"attributes\":{\"num_minor_ticks\":5,\"id\":\"b02edc27-4e08-406e-c0ea-375d92d16530\",\"tags\":[],\"doc\":null}},{\"id\":\"2e1fd565-b0b8-4516-c5db-e74ed859292c\",\"type\":\"LinearAxis\",\"attributes\":{\"formatter\":{\"type\":\"BasicTickFormatter\",\"id\":\"a0a317a4-bd77-4ee1-ce1b-034554c64d52\"},\"ticker\":{\"type\":\"BasicTicker\",\"id\":\"b02edc27-4e08-406e-c0ea-375d92d16530\"},\"plot\":{\"id\":\"ab6be6e2-704f-4176-c121-2095f82dcafb\",\"type\":\"Plot\",\"subtype\":\"Figure\"},\"axis_label\":null,\"id\":\"2e1fd565-b0b8-4516-c5db-e74ed859292c\",\"doc\":null,\"tags\":[]}},{\"id\":\"4407fc7d-a1fc-4052-c0ea-4e22af0692df\",\"type\":\"Grid\",\"attributes\":{\"dimension\":0,\"plot\":{\"id\":\"ab6be6e2-704f-4176-c121-2095f82dcafb\",\"type\":\"Plot\",\"subtype\":\"Figure\"},\"ticker\":{\"type\":\"BasicTicker\",\"id\":\"b02edc27-4e08-406e-c0ea-375d92d16530\"},\"id\":\"4407fc7d-a1fc-4052-c0ea-4e22af0692df\",\"doc\":null,\"tags\":[]}},{\"id\":\"ee4557d3-18b7-4e58-ce52-acd5cfe13420\",\"type\":\"BasicTickFormatter\",\"attributes\":{\"id\":\"ee4557d3-18b7-4e58-ce52-acd5cfe13420\",\"tags\":[],\"doc\":null}},{\"id\":\"789882c1-8bea-40d4-c0e4-eb049a664e39\",\"type\":\"BasicTicker\",\"attributes\":{\"num_minor_ticks\":5,\"id\":\"789882c1-8bea-40d4-c0e4-eb049a664e39\",\"tags\":[],\"doc\":null}},{\"id\":\"e2596877-9272-46bc-c6e9-6bc664015cf1\",\"type\":\"LinearAxis\",\"attributes\":{\"formatter\":{\"type\":\"BasicTickFormatter\",\"id\":\"ee4557d3-18b7-4e58-ce52-acd5cfe13420\"},\"ticker\":{\"type\":\"BasicTicker\",\"id\":\"789882c1-8bea-40d4-c0e4-eb049a664e39\"},\"plot\":{\"id\":\"ab6be6e2-704f-4176-c121-2095f82dcafb\",\"type\":\"Plot\",\"subtype\":\"Figure\"},\"axis_label\":null,\"id\":\"e2596877-9272-46bc-c6e9-6bc664015cf1\",\"doc\":null,\"tags\":[]}},{\"id\":\"69743628-9495-4517-c5c3-1c1427d76cf8\",\"type\":\"Grid\",\"attributes\":{\"dimension\":1,\"plot\":{\"id\":\"ab6be6e2-704f-4176-c121-2095f82dcafb\",\"type\":\"Plot\",\"subtype\":\"Figure\"},\"ticker\":{\"type\":\"BasicTicker\",\"id\":\"789882c1-8bea-40d4-c0e4-eb049a664e39\"},\"id\":\"69743628-9495-4517-c5c3-1c1427d76cf8\",\"doc\":null,\"tags\":[]}},{\"id\":\"917e52a1-c6bb-4732-c766-05474108ba8e\",\"type\":\"PanTool\",\"attributes\":{\"plot\":{\"id\":\"ab6be6e2-704f-4176-c121-2095f82dcafb\",\"type\":\"Plot\",\"subtype\":\"Figure\"},\"dimensions\":[\"width\",\"height\"],\"id\":\"917e52a1-c6bb-4732-c766-05474108ba8e\",\"doc\":null,\"tags\":[]}},{\"id\":\"f182489d-ae21-425d-c219-313ce483956a\",\"type\":\"WheelZoomTool\",\"attributes\":{\"plot\":{\"id\":\"ab6be6e2-704f-4176-c121-2095f82dcafb\",\"type\":\"Plot\",\"subtype\":\"Figure\"},\"dimensions\":[\"width\",\"height\"],\"id\":\"f182489d-ae21-425d-c219-313ce483956a\",\"doc\":null,\"tags\":[]}},{\"id\":\"4547dfd7-859a-41ab-c109-8a588cd8a19e\",\"type\":\"BoxZoomTool\",\"attributes\":{\"plot\":{\"id\":\"ab6be6e2-704f-4176-c121-2095f82dcafb\",\"type\":\"Plot\",\"subtype\":\"Figure\"},\"id\":\"4547dfd7-859a-41ab-c109-8a588cd8a19e\",\"tags\":[],\"doc\":null}},{\"id\":\"971fe534-fe6c-4d7d-cdc6-b172732f6d45\",\"type\":\"PreviewSaveTool\",\"attributes\":{\"plot\":{\"id\":\"ab6be6e2-704f-4176-c121-2095f82dcafb\",\"type\":\"Plot\",\"subtype\":\"Figure\"},\"id\":\"971fe534-fe6c-4d7d-cdc6-b172732f6d45\",\"tags\":[],\"doc\":null}},{\"id\":\"cd75a009-d010-4225-c24e-a0a1acac7463\",\"type\":\"ResizeTool\",\"attributes\":{\"plot\":{\"id\":\"ab6be6e2-704f-4176-c121-2095f82dcafb\",\"type\":\"Plot\",\"subtype\":\"Figure\"},\"id\":\"cd75a009-d010-4225-c24e-a0a1acac7463\",\"tags\":[],\"doc\":null}},{\"id\":\"648d6521-c443-42a0-c25c-fe7776ca2cfc\",\"type\":\"ResetTool\",\"attributes\":{\"plot\":{\"id\":\"ab6be6e2-704f-4176-c121-2095f82dcafb\",\"type\":\"Plot\",\"subtype\":\"Figure\"},\"id\":\"648d6521-c443-42a0-c25c-fe7776ca2cfc\",\"tags\":[],\"doc\":null}},{\"id\":\"ab6be6e2-704f-4176-c121-2095f82dcafb\",\"type\":\"Plot\",\"attributes\":{\"x_range\":{\"type\":\"DataRange1d\",\"id\":\"a80dffa0-f891-42df-c23c-2260f8403b42\"},\"tool_events\":{\"type\":\"ToolEvents\",\"id\":\"7f3c1943-99e6-4f6e-cfc5-4908858b3a61\"},\"below\":[{\"type\":\"LinearAxis\",\"id\":\"2e1fd565-b0b8-4516-c5db-e74ed859292c\"}],\"renderers\":[{\"type\":\"GlyphRenderer\",\"id\":\"eb13faad-568c-49f2-c9f4-137e51a9d69e\"},{\"type\":\"LinearAxis\",\"id\":\"2e1fd565-b0b8-4516-c5db-e74ed859292c\"},{\"type\":\"Grid\",\"id\":\"4407fc7d-a1fc-4052-c0ea-4e22af0692df\"},{\"type\":\"LinearAxis\",\"id\":\"e2596877-9272-46bc-c6e9-6bc664015cf1\"},{\"type\":\"Grid\",\"id\":\"69743628-9495-4517-c5c3-1c1427d76cf8\"}],\"above\":[],\"tools\":[{\"type\":\"PanTool\",\"id\":\"917e52a1-c6bb-4732-c766-05474108ba8e\"},{\"type\":\"WheelZoomTool\",\"id\":\"f182489d-ae21-425d-c219-313ce483956a\"},{\"type\":\"BoxZoomTool\",\"id\":\"4547dfd7-859a-41ab-c109-8a588cd8a19e\"},{\"type\":\"PreviewSaveTool\",\"id\":\"971fe534-fe6c-4d7d-cdc6-b172732f6d45\"},{\"type\":\"ResizeTool\",\"id\":\"cd75a009-d010-4225-c24e-a0a1acac7463\"},{\"type\":\"ResetTool\",\"id\":\"648d6521-c443-42a0-c25c-fe7776ca2cfc\"}],\"doc\":null,\"right\":[],\"title\":\"Untitled Plot\",\"extra_x_ranges\":{},\"left\":[{\"type\":\"LinearAxis\",\"id\":\"e2596877-9272-46bc-c6e9-6bc664015cf1\"}],\"y_range\":{\"type\":\"DataRange1d\",\"id\":\"de197197-d623-4f9f-cfc6-3122fc0cd28f\"},\"id\":\"ab6be6e2-704f-4176-c121-2095f82dcafb\",\"extra_y_ranges\":{},\"tags\":[]}}];\n",
       "  Bokeh.load_models(all_models);\n",
       "  var model = Bokeh.Collections(modeltype).get(modelid);\n",
       "  $(\"#6fe089f7-ffa6-48d7-c896-c9d919776e45\").html(''); // clear any previous plot in window_id\n",
       "  var view = new model.default_view({model: model, el: \"#6fe089f7-ffa6-48d7-c896-c9d919776e45\"});\n",
       "    } else {\n",
       "  load_lib(bokehjs_url, function() {\n",
       "      console.log(\"Bokeh: BokehJS plotting callback run at\", new Date())\n",
       "      var modelid = \"ab6be6e2-704f-4176-c121-2095f82dcafb\";\n",
       "      var modeltype = \"Plot\";\n",
       "      var all_models = [{\"id\":\"c2285c52-407d-4e7b-ceaf-8a80021c01c0\",\"type\":\"ColumnDataSource\",\"attributes\":{\"data\":{\"y\":[0.88115509528668,0.69837303561268,0.56696499901066,0.46688479184582,0.38752801080999,0.3228146710333,0.26903914855366,0.22382410200058,0.18556829516381,0.1531365992012,0.12567838533046,0.10251876584429,0.083093531594862,0.06691128307267,0.053532660741706,0.042560075871302,0.033633460328123,0.026428996434398,0.020658859334819,0.016070820527106,0.012447163516976,0.0096027736172545,0.0073825107230671,0.0056580916427764,0.0043247359291392,0.0032978020266883,0.002509587628065,0.0019064093112199,0.0014460235293103,0.0010954092086395,0.00082890270364251,0.00062665740509682,0.00047339061633272,0.00035737694913956,0.00026964827414118,0.0002033634758683,0.00015331567109479,0.00011554932156892,8.7064300477019e-05,6.5588177771e-05,4.9401649860253e-05,3.7205128281341e-05,2.8017049852863e-05,2.1096535626127e-05,1.5884676290581e-05,1.1960026343211e-05,9.004911600306e-06,6.7799498970542e-06,5.1047998696831e-06,3.8436260993564e-06,2.8941318042807e-06,2.1792875705084e-06,1.6410959328017e-06,1.2358922952577e-06,9.3080462764022e-07,7.0108678237805e-07,5.281102146564e-07,3.978517630309e-07,2.9975508866507e-07,2.2587352009362e-07,1.7022479458337e-07,1.2830533700105e-07,9.6724643531604e-08,7.2930077535517e-08,5.4999721881705e-08,4.1486457855458e-08,3.1300601673064e-08,2.3621562402378e-08,1.7831343502424e-08,1.346448550672e-08,1.0170383668727e-08,7.6849201782885e-09,5.8091075654352e-09,4.3930096520099e-09,3.3236352155562e-09,2.5158222525261e-09,1.9053736170978e-09,1.4438876147658e-09,1.0948647152039e-09,8.3077510136624e-10,6.3084971301551e-10,4.794161078766e-10,3.6464462137362e-10,2.776035454274e-10,2.1154706778276e-10,1.6137854974289e-10,1.2324590032287e-10,9.4236480982838e-11,7.2147013247405e-11,5.5310013873065e-11,4.2462839744928e-11,3.264885685373e-11,2.514283244834e-11,1.9394596345597e-11,1.4986483858128e-11,1.1601177560788e-11,8.9973974767976e-12,6.9915164440698e-12,5.4436500810474e-12,4.2471270421778e-12],\"x\":[1,2,3,4,5,6,7,8,9,10,11,12,13,14,15,16,17,18,19,20,21,22,23,24,25,26,27,28,29,30,31,32,33,34,35,36,37,38,39,40,41,42,43,44,45,46,47,48,49,50,51,52,53,54,55,56,57,58,59,60,61,62,63,64,65,66,67,68,69,70,71,72,73,74,75,76,77,78,79,80,81,82,83,84,85,86,87,88,89,90,91,92,93,94,95,96,97,98,99,100]},\"column_names\":[\"y\",\"x\"],\"cont_ranges\":{},\"discrete_ranges\":{},\"selected\":[],\"id\":\"c2285c52-407d-4e7b-ceaf-8a80021c01c0\",\"doc\":null,\"tags\":[]}},{\"id\":\"a39d86cd-bef4-40ac-c045-f1bc88a0a81f\",\"type\":\"Circle\",\"attributes\":{\"fill_alpha\":{\"units\":\"data\",\"value\":0.2},\"line_alpha\":{\"units\":\"data\",\"value\":1},\"doc\":null,\"size\":{\"units\":\"screen\",\"value\":10},\"fill_color\":{\"value\":\"red\"},\"line_color\":{\"value\":\"red\"},\"x\":{\"units\":\"data\",\"field\":\"x\"},\"id\":\"a39d86cd-bef4-40ac-c045-f1bc88a0a81f\",\"y\":{\"units\":\"data\",\"field\":\"y\"},\"tags\":[]}},{\"id\":\"620b6221-5f20-4cc4-cca2-5b556fa173c3\",\"type\":\"Circle\",\"attributes\":{\"fill_alpha\":{\"units\":\"data\",\"value\":0.2},\"line_alpha\":{\"units\":\"data\",\"value\":1},\"doc\":null,\"size\":{\"units\":\"screen\",\"value\":10},\"fill_color\":{\"value\":\"red\"},\"line_color\":{\"value\":\"red\"},\"x\":{\"units\":\"data\",\"field\":\"x\"},\"id\":\"620b6221-5f20-4cc4-cca2-5b556fa173c3\",\"y\":{\"units\":\"data\",\"field\":\"y\"},\"tags\":[]}},{\"id\":\"eb13faad-568c-49f2-c9f4-137e51a9d69e\",\"type\":\"GlyphRenderer\",\"attributes\":{\"name\":null,\"nonselection_glyph\":{\"type\":\"Circle\",\"id\":\"620b6221-5f20-4cc4-cca2-5b556fa173c3\"},\"doc\":null,\"server_data_source\":null,\"data_source\":{\"type\":\"ColumnDataSource\",\"id\":\"c2285c52-407d-4e7b-ceaf-8a80021c01c0\"},\"glyph\":{\"type\":\"Circle\",\"id\":\"a39d86cd-bef4-40ac-c045-f1bc88a0a81f\"},\"selection_glyph\":null,\"id\":\"eb13faad-568c-49f2-c9f4-137e51a9d69e\",\"tags\":[]}},{\"id\":\"a80dffa0-f891-42df-c23c-2260f8403b42\",\"type\":\"DataRange1d\",\"attributes\":{\"sources\":[{\"columns\":[\"x\"],\"source\":{\"type\":\"ColumnDataSource\",\"id\":\"c2285c52-407d-4e7b-ceaf-8a80021c01c0\"}}],\"id\":\"a80dffa0-f891-42df-c23c-2260f8403b42\",\"tags\":[],\"doc\":null}},{\"id\":\"de197197-d623-4f9f-cfc6-3122fc0cd28f\",\"type\":\"DataRange1d\",\"attributes\":{\"sources\":[{\"columns\":[\"y\"],\"source\":{\"type\":\"ColumnDataSource\",\"id\":\"c2285c52-407d-4e7b-ceaf-8a80021c01c0\"}}],\"id\":\"de197197-d623-4f9f-cfc6-3122fc0cd28f\",\"tags\":[],\"doc\":null}},{\"id\":\"7f3c1943-99e6-4f6e-cfc5-4908858b3a61\",\"type\":\"ToolEvents\",\"attributes\":{\"tags\":[],\"id\":\"7f3c1943-99e6-4f6e-cfc5-4908858b3a61\",\"geometries\":[],\"doc\":null}},{\"id\":\"a0a317a4-bd77-4ee1-ce1b-034554c64d52\",\"type\":\"BasicTickFormatter\",\"attributes\":{\"id\":\"a0a317a4-bd77-4ee1-ce1b-034554c64d52\",\"tags\":[],\"doc\":null}},{\"id\":\"b02edc27-4e08-406e-c0ea-375d92d16530\",\"type\":\"BasicTicker\",\"attributes\":{\"num_minor_ticks\":5,\"id\":\"b02edc27-4e08-406e-c0ea-375d92d16530\",\"tags\":[],\"doc\":null}},{\"id\":\"2e1fd565-b0b8-4516-c5db-e74ed859292c\",\"type\":\"LinearAxis\",\"attributes\":{\"formatter\":{\"type\":\"BasicTickFormatter\",\"id\":\"a0a317a4-bd77-4ee1-ce1b-034554c64d52\"},\"ticker\":{\"type\":\"BasicTicker\",\"id\":\"b02edc27-4e08-406e-c0ea-375d92d16530\"},\"plot\":{\"id\":\"ab6be6e2-704f-4176-c121-2095f82dcafb\",\"type\":\"Plot\",\"subtype\":\"Figure\"},\"axis_label\":null,\"id\":\"2e1fd565-b0b8-4516-c5db-e74ed859292c\",\"doc\":null,\"tags\":[]}},{\"id\":\"4407fc7d-a1fc-4052-c0ea-4e22af0692df\",\"type\":\"Grid\",\"attributes\":{\"dimension\":0,\"plot\":{\"id\":\"ab6be6e2-704f-4176-c121-2095f82dcafb\",\"type\":\"Plot\",\"subtype\":\"Figure\"},\"ticker\":{\"type\":\"BasicTicker\",\"id\":\"b02edc27-4e08-406e-c0ea-375d92d16530\"},\"id\":\"4407fc7d-a1fc-4052-c0ea-4e22af0692df\",\"doc\":null,\"tags\":[]}},{\"id\":\"ee4557d3-18b7-4e58-ce52-acd5cfe13420\",\"type\":\"BasicTickFormatter\",\"attributes\":{\"id\":\"ee4557d3-18b7-4e58-ce52-acd5cfe13420\",\"tags\":[],\"doc\":null}},{\"id\":\"789882c1-8bea-40d4-c0e4-eb049a664e39\",\"type\":\"BasicTicker\",\"attributes\":{\"num_minor_ticks\":5,\"id\":\"789882c1-8bea-40d4-c0e4-eb049a664e39\",\"tags\":[],\"doc\":null}},{\"id\":\"e2596877-9272-46bc-c6e9-6bc664015cf1\",\"type\":\"LinearAxis\",\"attributes\":{\"formatter\":{\"type\":\"BasicTickFormatter\",\"id\":\"ee4557d3-18b7-4e58-ce52-acd5cfe13420\"},\"ticker\":{\"type\":\"BasicTicker\",\"id\":\"789882c1-8bea-40d4-c0e4-eb049a664e39\"},\"plot\":{\"id\":\"ab6be6e2-704f-4176-c121-2095f82dcafb\",\"type\":\"Plot\",\"subtype\":\"Figure\"},\"axis_label\":null,\"id\":\"e2596877-9272-46bc-c6e9-6bc664015cf1\",\"doc\":null,\"tags\":[]}},{\"id\":\"69743628-9495-4517-c5c3-1c1427d76cf8\",\"type\":\"Grid\",\"attributes\":{\"dimension\":1,\"plot\":{\"id\":\"ab6be6e2-704f-4176-c121-2095f82dcafb\",\"type\":\"Plot\",\"subtype\":\"Figure\"},\"ticker\":{\"type\":\"BasicTicker\",\"id\":\"789882c1-8bea-40d4-c0e4-eb049a664e39\"},\"id\":\"69743628-9495-4517-c5c3-1c1427d76cf8\",\"doc\":null,\"tags\":[]}},{\"id\":\"917e52a1-c6bb-4732-c766-05474108ba8e\",\"type\":\"PanTool\",\"attributes\":{\"plot\":{\"id\":\"ab6be6e2-704f-4176-c121-2095f82dcafb\",\"type\":\"Plot\",\"subtype\":\"Figure\"},\"dimensions\":[\"width\",\"height\"],\"id\":\"917e52a1-c6bb-4732-c766-05474108ba8e\",\"doc\":null,\"tags\":[]}},{\"id\":\"f182489d-ae21-425d-c219-313ce483956a\",\"type\":\"WheelZoomTool\",\"attributes\":{\"plot\":{\"id\":\"ab6be6e2-704f-4176-c121-2095f82dcafb\",\"type\":\"Plot\",\"subtype\":\"Figure\"},\"dimensions\":[\"width\",\"height\"],\"id\":\"f182489d-ae21-425d-c219-313ce483956a\",\"doc\":null,\"tags\":[]}},{\"id\":\"4547dfd7-859a-41ab-c109-8a588cd8a19e\",\"type\":\"BoxZoomTool\",\"attributes\":{\"plot\":{\"id\":\"ab6be6e2-704f-4176-c121-2095f82dcafb\",\"type\":\"Plot\",\"subtype\":\"Figure\"},\"id\":\"4547dfd7-859a-41ab-c109-8a588cd8a19e\",\"tags\":[],\"doc\":null}},{\"id\":\"971fe534-fe6c-4d7d-cdc6-b172732f6d45\",\"type\":\"PreviewSaveTool\",\"attributes\":{\"plot\":{\"id\":\"ab6be6e2-704f-4176-c121-2095f82dcafb\",\"type\":\"Plot\",\"subtype\":\"Figure\"},\"id\":\"971fe534-fe6c-4d7d-cdc6-b172732f6d45\",\"tags\":[],\"doc\":null}},{\"id\":\"cd75a009-d010-4225-c24e-a0a1acac7463\",\"type\":\"ResizeTool\",\"attributes\":{\"plot\":{\"id\":\"ab6be6e2-704f-4176-c121-2095f82dcafb\",\"type\":\"Plot\",\"subtype\":\"Figure\"},\"id\":\"cd75a009-d010-4225-c24e-a0a1acac7463\",\"tags\":[],\"doc\":null}},{\"id\":\"648d6521-c443-42a0-c25c-fe7776ca2cfc\",\"type\":\"ResetTool\",\"attributes\":{\"plot\":{\"id\":\"ab6be6e2-704f-4176-c121-2095f82dcafb\",\"type\":\"Plot\",\"subtype\":\"Figure\"},\"id\":\"648d6521-c443-42a0-c25c-fe7776ca2cfc\",\"tags\":[],\"doc\":null}},{\"id\":\"ab6be6e2-704f-4176-c121-2095f82dcafb\",\"type\":\"Plot\",\"attributes\":{\"x_range\":{\"type\":\"DataRange1d\",\"id\":\"a80dffa0-f891-42df-c23c-2260f8403b42\"},\"tool_events\":{\"type\":\"ToolEvents\",\"id\":\"7f3c1943-99e6-4f6e-cfc5-4908858b3a61\"},\"below\":[{\"type\":\"LinearAxis\",\"id\":\"2e1fd565-b0b8-4516-c5db-e74ed859292c\"}],\"renderers\":[{\"type\":\"GlyphRenderer\",\"id\":\"eb13faad-568c-49f2-c9f4-137e51a9d69e\"},{\"type\":\"LinearAxis\",\"id\":\"2e1fd565-b0b8-4516-c5db-e74ed859292c\"},{\"type\":\"Grid\",\"id\":\"4407fc7d-a1fc-4052-c0ea-4e22af0692df\"},{\"type\":\"LinearAxis\",\"id\":\"e2596877-9272-46bc-c6e9-6bc664015cf1\"},{\"type\":\"Grid\",\"id\":\"69743628-9495-4517-c5c3-1c1427d76cf8\"}],\"above\":[],\"tools\":[{\"type\":\"PanTool\",\"id\":\"917e52a1-c6bb-4732-c766-05474108ba8e\"},{\"type\":\"WheelZoomTool\",\"id\":\"f182489d-ae21-425d-c219-313ce483956a\"},{\"type\":\"BoxZoomTool\",\"id\":\"4547dfd7-859a-41ab-c109-8a588cd8a19e\"},{\"type\":\"PreviewSaveTool\",\"id\":\"971fe534-fe6c-4d7d-cdc6-b172732f6d45\"},{\"type\":\"ResizeTool\",\"id\":\"cd75a009-d010-4225-c24e-a0a1acac7463\"},{\"type\":\"ResetTool\",\"id\":\"648d6521-c443-42a0-c25c-fe7776ca2cfc\"}],\"doc\":null,\"right\":[],\"title\":\"Untitled Plot\",\"extra_x_ranges\":{},\"left\":[{\"type\":\"LinearAxis\",\"id\":\"e2596877-9272-46bc-c6e9-6bc664015cf1\"}],\"y_range\":{\"type\":\"DataRange1d\",\"id\":\"de197197-d623-4f9f-cfc6-3122fc0cd28f\"},\"id\":\"ab6be6e2-704f-4176-c121-2095f82dcafb\",\"extra_y_ranges\":{},\"tags\":[]}}];\n",
       "      Bokeh.load_models(all_models);\n",
       "      var model = Bokeh.Collections(modeltype).get(modelid);\n",
       "      $(\"#6fe089f7-ffa6-48d7-c896-c9d919776e45\").html(''); // clear any previous plot in window_id\n",
       "      var view = new model.default_view({model: model, el: \"#6fe089f7-ffa6-48d7-c896-c9d919776e45\"});\n",
       "  });\n",
       "    }\n",
       "});\n",
       "</script>\n",
       "<div class=\"plotdiv\" id=\"6fe089f7-ffa6-48d7-c896-c9d919776e45\"></div>\n"
      ]
     },
     "metadata": {},
     "output_type": "display_data"
    },
    {
     "data": {
      "text/html": [
       "<script type=\"text/javascript\">\n",
       "$(function() {\n",
       "    if (typeof (window._bokeh_onload_callbacks) === \"undefined\"){\n",
       "  window._bokeh_onload_callbacks = [];\n",
       "    }\n",
       "    function load_lib(url, callback){\n",
       "  window._bokeh_onload_callbacks.push(callback);\n",
       "  if (window._bokeh_is_loading){\n",
       "      console.log(\"Bokeh: BokehJS is being loaded, scheduling callback at\", new Date());\n",
       "      return null;\n",
       "  }\n",
       "  console.log(\"Bokeh: BokehJS not loaded, scheduling load and callback at\", new Date());\n",
       "  window._bokeh_is_loading = true;\n",
       "  var s = document.createElement('script');\n",
       "  s.src = url;\n",
       "  s.async = true;\n",
       "  s.onreadystatechange = s.onload = function(){\n",
       "      Bokeh.embed.inject_css(\"https://cdn.pydata.org/bokeh-0.7.0.min.css\");\n",
       "      window._bokeh_onload_callbacks.forEach(function(callback){callback()});\n",
       "  };\n",
       "  s.onerror = function(){\n",
       "      console.warn(\"failed to load library \" + url);\n",
       "  };\n",
       "  document.getElementsByTagName(\"head\")[0].appendChild(s);\n",
       "    }\n",
       "\n",
       "    bokehjs_url = \"https://cdn.pydata.org/bokeh-0.7.0.min.js\"\n",
       "\n",
       "    var elt = document.getElementById(\"6fe089f7-ffa6-48d7-c896-c9d919776e45\");\n",
       "    if(elt==null) {\n",
       "  console.log(\"Bokeh: ERROR: autoload.js configured with elementid '6fe089f7-ffa6-48d7-c896-c9d919776e45'\"\n",
       "        + \"but no matching script tag was found. \")\n",
       "  return false;\n",
       "    }\n",
       "\n",
       "    if(typeof(Bokeh) !== \"undefined\") {\n",
       "  console.log(\"Bokeh: BokehJS loaded, going straight to plotting\");\n",
       "  var modelid = \"397a155f-56b9-480c-c844-3feee0de0bb8\";\n",
       "  var modeltype = \"Plot\";\n",
       "  var all_models = [{\"id\":\"5e038bec-6f18-4013-c035-9f7248c006e8\",\"type\":\"ColumnDataSource\",\"attributes\":{\"data\":{\"y\":[0.88115509528668,0.69837303561268,0.56696499901066,0.46688479184582,0.38752801080999,0.3228146710333,0.26903914855366,0.22382410200058,0.18556829516381,0.1531365992012,0.12567838533046,0.10251876584429,0.083093531594862,0.06691128307267,0.053532660741706,0.042560075871302,0.033633460328123,0.026428996434398,0.020658859334819,0.016070820527106,0.012447163516976,0.0096027736172545,0.0073825107230671,0.0056580916427764,0.0043247359291392,0.0032978020266883,0.002509587628065,0.0019064093112199,0.0014460235293103,0.0010954092086395,0.00082890270364251,0.00062665740509682,0.00047339061633272,0.00035737694913956,0.00026964827414118,0.0002033634758683,0.00015331567109479,0.00011554932156892,8.7064300477019e-05,6.5588177771e-05,4.9401649860253e-05,3.7205128281341e-05,2.8017049852863e-05,2.1096535626127e-05,1.5884676290581e-05,1.1960026343211e-05,9.004911600306e-06,6.7799498970542e-06,5.1047998696831e-06,3.8436260993564e-06,2.8941318042807e-06,2.1792875705084e-06,1.6410959328017e-06,1.2358922952577e-06,9.3080462764022e-07,7.0108678237805e-07,5.281102146564e-07,3.978517630309e-07,2.9975508866507e-07,2.2587352009362e-07,1.7022479458337e-07,1.2830533700105e-07,9.6724643531604e-08,7.2930077535517e-08,5.4999721881705e-08,4.1486457855458e-08,3.1300601673064e-08,2.3621562402378e-08,1.7831343502424e-08,1.346448550672e-08,1.0170383668727e-08,7.6849201782885e-09,5.8091075654352e-09,4.3930096520099e-09,3.3236352155562e-09,2.5158222525261e-09,1.9053736170978e-09,1.4438876147658e-09,1.0948647152039e-09,8.3077510136624e-10,6.3084971301551e-10,4.794161078766e-10,3.6464462137362e-10,2.776035454274e-10,2.1154706778276e-10,1.6137854974289e-10,1.2324590032287e-10,9.4236480982838e-11,7.2147013247405e-11,5.5310013873065e-11,4.2462839744928e-11,3.264885685373e-11,2.514283244834e-11,1.9394596345597e-11,1.4986483858128e-11,1.1601177560788e-11,8.9973974767976e-12,6.9915164440698e-12,5.4436500810474e-12,4.2471270421778e-12],\"x\":[1,2,3,4,5,6,7,8,9,10,11,12,13,14,15,16,17,18,19,20,21,22,23,24,25,26,27,28,29,30,31,32,33,34,35,36,37,38,39,40,41,42,43,44,45,46,47,48,49,50,51,52,53,54,55,56,57,58,59,60,61,62,63,64,65,66,67,68,69,70,71,72,73,74,75,76,77,78,79,80,81,82,83,84,85,86,87,88,89,90,91,92,93,94,95,96,97,98,99,100]},\"column_names\":[\"y\",\"x\"],\"cont_ranges\":{},\"discrete_ranges\":{},\"selected\":[],\"id\":\"5e038bec-6f18-4013-c035-9f7248c006e8\",\"doc\":null,\"tags\":[]}},{\"id\":\"a3561539-695d-4e9e-ce3d-674cd7128157\",\"type\":\"Circle\",\"attributes\":{\"fill_alpha\":{\"units\":\"data\",\"value\":0.2},\"line_alpha\":{\"units\":\"data\",\"value\":1},\"doc\":null,\"size\":{\"units\":\"screen\",\"value\":10},\"fill_color\":{\"value\":\"red\"},\"line_color\":{\"value\":\"red\"},\"x\":{\"units\":\"data\",\"field\":\"x\"},\"id\":\"a3561539-695d-4e9e-ce3d-674cd7128157\",\"y\":{\"units\":\"data\",\"field\":\"y\"},\"tags\":[]}},{\"id\":\"1d6e03cd-2ed2-4c5f-cc25-6e987e885b6d\",\"type\":\"Circle\",\"attributes\":{\"fill_alpha\":{\"units\":\"data\",\"value\":0.2},\"line_alpha\":{\"units\":\"data\",\"value\":1},\"doc\":null,\"size\":{\"units\":\"screen\",\"value\":10},\"fill_color\":{\"value\":\"red\"},\"line_color\":{\"value\":\"red\"},\"x\":{\"units\":\"data\",\"field\":\"x\"},\"id\":\"1d6e03cd-2ed2-4c5f-cc25-6e987e885b6d\",\"y\":{\"units\":\"data\",\"field\":\"y\"},\"tags\":[]}},{\"id\":\"4c178481-7be3-4f9e-cf32-b789ae93d19d\",\"type\":\"GlyphRenderer\",\"attributes\":{\"name\":null,\"nonselection_glyph\":{\"type\":\"Circle\",\"id\":\"1d6e03cd-2ed2-4c5f-cc25-6e987e885b6d\"},\"doc\":null,\"server_data_source\":null,\"data_source\":{\"type\":\"ColumnDataSource\",\"id\":\"5e038bec-6f18-4013-c035-9f7248c006e8\"},\"glyph\":{\"type\":\"Circle\",\"id\":\"a3561539-695d-4e9e-ce3d-674cd7128157\"},\"selection_glyph\":null,\"id\":\"4c178481-7be3-4f9e-cf32-b789ae93d19d\",\"tags\":[]}},{\"id\":\"b260a63e-f4e5-4d15-cd61-a16af339a6b6\",\"type\":\"ColumnDataSource\",\"attributes\":{\"data\":{\"y\":[0.88115509528668,0.69837303561268,0.56696499901066,0.46688479184582,0.38752801080999,0.3228146710333,0.26903914855366,0.22382410200058,0.18556829516381,0.1531365992012,0.12567838533046,0.10251876584429,0.083093531594862,0.06691128307267,0.053532660741706,0.042560075871302,0.033633460328123,0.026428996434398,0.020658859334819,0.016070820527106,0.012447163516976,0.0096027736172545,0.0073825107230671,0.0056580916427764,0.0043247359291392,0.0032978020266883,0.002509587628065,0.0019064093112199,0.0014460235293103,0.0010954092086395,0.00082890270364251,0.00062665740509682,0.00047339061633272,0.00035737694913956,0.00026964827414118,0.0002033634758683,0.00015331567109479,0.00011554932156892,8.7064300477019e-05,6.5588177771e-05,4.9401649860253e-05,3.7205128281341e-05,2.8017049852863e-05,2.1096535626127e-05,1.5884676290581e-05,1.1960026343211e-05,9.004911600306e-06,6.7799498970542e-06,5.1047998696831e-06,3.8436260993564e-06,2.8941318042807e-06,2.1792875705084e-06,1.6410959328017e-06,1.2358922952577e-06,9.3080462764022e-07,7.0108678237805e-07,5.281102146564e-07,3.978517630309e-07,2.9975508866507e-07,2.2587352009362e-07,1.7022479458337e-07,1.2830533700105e-07,9.6724643531604e-08,7.2930077535517e-08,5.4999721881705e-08,4.1486457855458e-08,3.1300601673064e-08,2.3621562402378e-08,1.7831343502424e-08,1.346448550672e-08,1.0170383668727e-08,7.6849201782885e-09,5.8091075654352e-09,4.3930096520099e-09,3.3236352155562e-09,2.5158222525261e-09,1.9053736170978e-09,1.4438876147658e-09,1.0948647152039e-09,8.3077510136624e-10,6.3084971301551e-10,4.794161078766e-10,3.6464462137362e-10,2.776035454274e-10,2.1154706778276e-10,1.6137854974289e-10,1.2324590032287e-10,9.4236480982838e-11,7.2147013247405e-11,5.5310013873065e-11,4.2462839744928e-11,3.264885685373e-11,2.514283244834e-11,1.9394596345597e-11,1.4986483858128e-11,1.1601177560788e-11,8.9973974767976e-12,6.9915164440698e-12,5.4436500810474e-12,4.2471270421778e-12],\"x\":[1,2,3,4,5,6,7,8,9,10,11,12,13,14,15,16,17,18,19,20,21,22,23,24,25,26,27,28,29,30,31,32,33,34,35,36,37,38,39,40,41,42,43,44,45,46,47,48,49,50,51,52,53,54,55,56,57,58,59,60,61,62,63,64,65,66,67,68,69,70,71,72,73,74,75,76,77,78,79,80,81,82,83,84,85,86,87,88,89,90,91,92,93,94,95,96,97,98,99,100]},\"column_names\":[\"y\",\"x\"],\"cont_ranges\":{},\"discrete_ranges\":{},\"selected\":[],\"id\":\"b260a63e-f4e5-4d15-cd61-a16af339a6b6\",\"doc\":null,\"tags\":[]}},{\"id\":\"231a2446-99b1-41ae-c1b4-9a326872e866\",\"type\":\"Line\",\"attributes\":{\"fill_alpha\":{\"units\":\"data\",\"value\":0.2},\"line_alpha\":{\"units\":\"data\",\"value\":1},\"doc\":null,\"size\":{\"units\":\"screen\",\"value\":10},\"fill_color\":{\"value\":\"red\"},\"line_color\":{\"value\":\"red\"},\"x\":{\"units\":\"data\",\"field\":\"x\"},\"id\":\"231a2446-99b1-41ae-c1b4-9a326872e866\",\"y\":{\"units\":\"data\",\"field\":\"y\"},\"tags\":[]}},{\"id\":\"fa4c2233-ec8e-4b62-cbdc-c2865803499e\",\"type\":\"Line\",\"attributes\":{\"fill_alpha\":{\"units\":\"data\",\"value\":0.2},\"line_alpha\":{\"units\":\"data\",\"value\":1},\"doc\":null,\"size\":{\"units\":\"screen\",\"value\":10},\"fill_color\":{\"value\":\"red\"},\"line_color\":{\"value\":\"red\"},\"x\":{\"units\":\"data\",\"field\":\"x\"},\"id\":\"fa4c2233-ec8e-4b62-cbdc-c2865803499e\",\"y\":{\"units\":\"data\",\"field\":\"y\"},\"tags\":[]}},{\"id\":\"f3188e11-bdd7-4612-c650-fed2aa4b6a23\",\"type\":\"GlyphRenderer\",\"attributes\":{\"name\":null,\"nonselection_glyph\":{\"type\":\"Line\",\"id\":\"fa4c2233-ec8e-4b62-cbdc-c2865803499e\"},\"doc\":null,\"server_data_source\":null,\"data_source\":{\"type\":\"ColumnDataSource\",\"id\":\"b260a63e-f4e5-4d15-cd61-a16af339a6b6\"},\"glyph\":{\"type\":\"Line\",\"id\":\"231a2446-99b1-41ae-c1b4-9a326872e866\"},\"selection_glyph\":null,\"id\":\"f3188e11-bdd7-4612-c650-fed2aa4b6a23\",\"tags\":[]}},{\"id\":\"9e4f79b6-f685-46eb-c67c-2189c378c70b\",\"type\":\"DataRange1d\",\"attributes\":{\"sources\":[{\"columns\":[\"x\"],\"source\":{\"type\":\"ColumnDataSource\",\"id\":\"5e038bec-6f18-4013-c035-9f7248c006e8\"}},{\"columns\":[\"x\"],\"source\":{\"type\":\"ColumnDataSource\",\"id\":\"b260a63e-f4e5-4d15-cd61-a16af339a6b6\"}}],\"id\":\"9e4f79b6-f685-46eb-c67c-2189c378c70b\",\"tags\":[],\"doc\":null}},{\"id\":\"e0e8852d-c5fc-478c-c733-04ff4c84476d\",\"type\":\"DataRange1d\",\"attributes\":{\"sources\":[{\"columns\":[\"y\"],\"source\":{\"type\":\"ColumnDataSource\",\"id\":\"5e038bec-6f18-4013-c035-9f7248c006e8\"}},{\"columns\":[\"y\"],\"source\":{\"type\":\"ColumnDataSource\",\"id\":\"b260a63e-f4e5-4d15-cd61-a16af339a6b6\"}}],\"id\":\"e0e8852d-c5fc-478c-c733-04ff4c84476d\",\"tags\":[],\"doc\":null}},{\"id\":\"c67b6b66-e672-4bd1-cbe9-23e9d8e57032\",\"type\":\"ToolEvents\",\"attributes\":{\"tags\":[],\"id\":\"c67b6b66-e672-4bd1-cbe9-23e9d8e57032\",\"geometries\":[],\"doc\":null}},{\"id\":\"52ceb1bd-d5a4-46b4-c6f6-3b2f6b918f91\",\"type\":\"BasicTickFormatter\",\"attributes\":{\"id\":\"52ceb1bd-d5a4-46b4-c6f6-3b2f6b918f91\",\"tags\":[],\"doc\":null}},{\"id\":\"f2b82661-32a4-4366-c31d-a6aca62f8a6f\",\"type\":\"BasicTicker\",\"attributes\":{\"num_minor_ticks\":5,\"id\":\"f2b82661-32a4-4366-c31d-a6aca62f8a6f\",\"tags\":[],\"doc\":null}},{\"id\":\"1bde526d-d279-4e1f-ce99-7556c98b4cae\",\"type\":\"LinearAxis\",\"attributes\":{\"formatter\":{\"type\":\"BasicTickFormatter\",\"id\":\"52ceb1bd-d5a4-46b4-c6f6-3b2f6b918f91\"},\"ticker\":{\"type\":\"BasicTicker\",\"id\":\"f2b82661-32a4-4366-c31d-a6aca62f8a6f\"},\"plot\":{\"id\":\"397a155f-56b9-480c-c844-3feee0de0bb8\",\"type\":\"Plot\",\"subtype\":\"Figure\"},\"axis_label\":null,\"id\":\"1bde526d-d279-4e1f-ce99-7556c98b4cae\",\"doc\":null,\"tags\":[]}},{\"id\":\"3a58ca16-a3a6-48b7-c840-dff3bbba967a\",\"type\":\"Grid\",\"attributes\":{\"dimension\":0,\"plot\":{\"id\":\"397a155f-56b9-480c-c844-3feee0de0bb8\",\"type\":\"Plot\",\"subtype\":\"Figure\"},\"ticker\":{\"type\":\"BasicTicker\",\"id\":\"f2b82661-32a4-4366-c31d-a6aca62f8a6f\"},\"id\":\"3a58ca16-a3a6-48b7-c840-dff3bbba967a\",\"doc\":null,\"tags\":[]}},{\"id\":\"62ec2e2d-8032-423a-c2a0-2534d524189d\",\"type\":\"BasicTickFormatter\",\"attributes\":{\"id\":\"62ec2e2d-8032-423a-c2a0-2534d524189d\",\"tags\":[],\"doc\":null}},{\"id\":\"86e97a72-d7a3-40e2-c0fd-0d7cbc218007\",\"type\":\"BasicTicker\",\"attributes\":{\"num_minor_ticks\":5,\"id\":\"86e97a72-d7a3-40e2-c0fd-0d7cbc218007\",\"tags\":[],\"doc\":null}},{\"id\":\"36c17d00-f943-4bd4-cbdb-23ba2af47f56\",\"type\":\"LinearAxis\",\"attributes\":{\"formatter\":{\"type\":\"BasicTickFormatter\",\"id\":\"62ec2e2d-8032-423a-c2a0-2534d524189d\"},\"ticker\":{\"type\":\"BasicTicker\",\"id\":\"86e97a72-d7a3-40e2-c0fd-0d7cbc218007\"},\"plot\":{\"id\":\"397a155f-56b9-480c-c844-3feee0de0bb8\",\"type\":\"Plot\",\"subtype\":\"Figure\"},\"axis_label\":null,\"id\":\"36c17d00-f943-4bd4-cbdb-23ba2af47f56\",\"doc\":null,\"tags\":[]}},{\"id\":\"396e3cc2-2531-4145-c158-b576212ad663\",\"type\":\"Grid\",\"attributes\":{\"dimension\":1,\"plot\":{\"id\":\"397a155f-56b9-480c-c844-3feee0de0bb8\",\"type\":\"Plot\",\"subtype\":\"Figure\"},\"ticker\":{\"type\":\"BasicTicker\",\"id\":\"86e97a72-d7a3-40e2-c0fd-0d7cbc218007\"},\"id\":\"396e3cc2-2531-4145-c158-b576212ad663\",\"doc\":null,\"tags\":[]}},{\"id\":\"b4220f31-b9e0-4af1-ca29-de4a893d93f6\",\"type\":\"PanTool\",\"attributes\":{\"plot\":{\"id\":\"397a155f-56b9-480c-c844-3feee0de0bb8\",\"type\":\"Plot\",\"subtype\":\"Figure\"},\"dimensions\":[\"width\",\"height\"],\"id\":\"b4220f31-b9e0-4af1-ca29-de4a893d93f6\",\"doc\":null,\"tags\":[]}},{\"id\":\"31ad82e3-a003-48b2-c8f6-78cdfe4c6c70\",\"type\":\"WheelZoomTool\",\"attributes\":{\"plot\":{\"id\":\"397a155f-56b9-480c-c844-3feee0de0bb8\",\"type\":\"Plot\",\"subtype\":\"Figure\"},\"dimensions\":[\"width\",\"height\"],\"id\":\"31ad82e3-a003-48b2-c8f6-78cdfe4c6c70\",\"doc\":null,\"tags\":[]}},{\"id\":\"8cb6fcc2-7629-47ee-c735-71cfb30b1a07\",\"type\":\"BoxZoomTool\",\"attributes\":{\"plot\":{\"id\":\"397a155f-56b9-480c-c844-3feee0de0bb8\",\"type\":\"Plot\",\"subtype\":\"Figure\"},\"id\":\"8cb6fcc2-7629-47ee-c735-71cfb30b1a07\",\"tags\":[],\"doc\":null}},{\"id\":\"2312e8ca-a067-4bc0-cbe7-a8916de53066\",\"type\":\"PreviewSaveTool\",\"attributes\":{\"plot\":{\"id\":\"397a155f-56b9-480c-c844-3feee0de0bb8\",\"type\":\"Plot\",\"subtype\":\"Figure\"},\"id\":\"2312e8ca-a067-4bc0-cbe7-a8916de53066\",\"tags\":[],\"doc\":null}},{\"id\":\"64e6b8e9-4e38-42a3-c2b2-08e6eb44ca11\",\"type\":\"ResizeTool\",\"attributes\":{\"plot\":{\"id\":\"397a155f-56b9-480c-c844-3feee0de0bb8\",\"type\":\"Plot\",\"subtype\":\"Figure\"},\"id\":\"64e6b8e9-4e38-42a3-c2b2-08e6eb44ca11\",\"tags\":[],\"doc\":null}},{\"id\":\"558d23d8-d021-4dfd-cdbf-806f621e9a41\",\"type\":\"ResetTool\",\"attributes\":{\"plot\":{\"id\":\"397a155f-56b9-480c-c844-3feee0de0bb8\",\"type\":\"Plot\",\"subtype\":\"Figure\"},\"id\":\"558d23d8-d021-4dfd-cdbf-806f621e9a41\",\"tags\":[],\"doc\":null}},{\"id\":\"397a155f-56b9-480c-c844-3feee0de0bb8\",\"type\":\"Plot\",\"attributes\":{\"x_range\":{\"type\":\"DataRange1d\",\"id\":\"9e4f79b6-f685-46eb-c67c-2189c378c70b\"},\"tool_events\":{\"type\":\"ToolEvents\",\"id\":\"c67b6b66-e672-4bd1-cbe9-23e9d8e57032\"},\"below\":[{\"type\":\"LinearAxis\",\"id\":\"1bde526d-d279-4e1f-ce99-7556c98b4cae\"}],\"renderers\":[{\"type\":\"GlyphRenderer\",\"id\":\"4c178481-7be3-4f9e-cf32-b789ae93d19d\"},{\"type\":\"GlyphRenderer\",\"id\":\"f3188e11-bdd7-4612-c650-fed2aa4b6a23\"},{\"type\":\"LinearAxis\",\"id\":\"1bde526d-d279-4e1f-ce99-7556c98b4cae\"},{\"type\":\"Grid\",\"id\":\"3a58ca16-a3a6-48b7-c840-dff3bbba967a\"},{\"type\":\"LinearAxis\",\"id\":\"36c17d00-f943-4bd4-cbdb-23ba2af47f56\"},{\"type\":\"Grid\",\"id\":\"396e3cc2-2531-4145-c158-b576212ad663\"}],\"above\":[],\"tools\":[{\"type\":\"PanTool\",\"id\":\"b4220f31-b9e0-4af1-ca29-de4a893d93f6\"},{\"type\":\"WheelZoomTool\",\"id\":\"31ad82e3-a003-48b2-c8f6-78cdfe4c6c70\"},{\"type\":\"BoxZoomTool\",\"id\":\"8cb6fcc2-7629-47ee-c735-71cfb30b1a07\"},{\"type\":\"PreviewSaveTool\",\"id\":\"2312e8ca-a067-4bc0-cbe7-a8916de53066\"},{\"type\":\"ResizeTool\",\"id\":\"64e6b8e9-4e38-42a3-c2b2-08e6eb44ca11\"},{\"type\":\"ResetTool\",\"id\":\"558d23d8-d021-4dfd-cdbf-806f621e9a41\"}],\"doc\":null,\"right\":[],\"title\":\"Untitled Plot\",\"extra_x_ranges\":{},\"left\":[{\"type\":\"LinearAxis\",\"id\":\"36c17d00-f943-4bd4-cbdb-23ba2af47f56\"}],\"y_range\":{\"type\":\"DataRange1d\",\"id\":\"e0e8852d-c5fc-478c-c733-04ff4c84476d\"},\"id\":\"397a155f-56b9-480c-c844-3feee0de0bb8\",\"extra_y_ranges\":{},\"tags\":[]}}];\n",
       "  Bokeh.load_models(all_models);\n",
       "  var model = Bokeh.Collections(modeltype).get(modelid);\n",
       "  $(\"#6fe089f7-ffa6-48d7-c896-c9d919776e45\").html(''); // clear any previous plot in window_id\n",
       "  var view = new model.default_view({model: model, el: \"#6fe089f7-ffa6-48d7-c896-c9d919776e45\"});\n",
       "    } else {\n",
       "  load_lib(bokehjs_url, function() {\n",
       "      console.log(\"Bokeh: BokehJS plotting callback run at\", new Date())\n",
       "      var modelid = \"397a155f-56b9-480c-c844-3feee0de0bb8\";\n",
       "      var modeltype = \"Plot\";\n",
       "      var all_models = [{\"id\":\"5e038bec-6f18-4013-c035-9f7248c006e8\",\"type\":\"ColumnDataSource\",\"attributes\":{\"data\":{\"y\":[0.88115509528668,0.69837303561268,0.56696499901066,0.46688479184582,0.38752801080999,0.3228146710333,0.26903914855366,0.22382410200058,0.18556829516381,0.1531365992012,0.12567838533046,0.10251876584429,0.083093531594862,0.06691128307267,0.053532660741706,0.042560075871302,0.033633460328123,0.026428996434398,0.020658859334819,0.016070820527106,0.012447163516976,0.0096027736172545,0.0073825107230671,0.0056580916427764,0.0043247359291392,0.0032978020266883,0.002509587628065,0.0019064093112199,0.0014460235293103,0.0010954092086395,0.00082890270364251,0.00062665740509682,0.00047339061633272,0.00035737694913956,0.00026964827414118,0.0002033634758683,0.00015331567109479,0.00011554932156892,8.7064300477019e-05,6.5588177771e-05,4.9401649860253e-05,3.7205128281341e-05,2.8017049852863e-05,2.1096535626127e-05,1.5884676290581e-05,1.1960026343211e-05,9.004911600306e-06,6.7799498970542e-06,5.1047998696831e-06,3.8436260993564e-06,2.8941318042807e-06,2.1792875705084e-06,1.6410959328017e-06,1.2358922952577e-06,9.3080462764022e-07,7.0108678237805e-07,5.281102146564e-07,3.978517630309e-07,2.9975508866507e-07,2.2587352009362e-07,1.7022479458337e-07,1.2830533700105e-07,9.6724643531604e-08,7.2930077535517e-08,5.4999721881705e-08,4.1486457855458e-08,3.1300601673064e-08,2.3621562402378e-08,1.7831343502424e-08,1.346448550672e-08,1.0170383668727e-08,7.6849201782885e-09,5.8091075654352e-09,4.3930096520099e-09,3.3236352155562e-09,2.5158222525261e-09,1.9053736170978e-09,1.4438876147658e-09,1.0948647152039e-09,8.3077510136624e-10,6.3084971301551e-10,4.794161078766e-10,3.6464462137362e-10,2.776035454274e-10,2.1154706778276e-10,1.6137854974289e-10,1.2324590032287e-10,9.4236480982838e-11,7.2147013247405e-11,5.5310013873065e-11,4.2462839744928e-11,3.264885685373e-11,2.514283244834e-11,1.9394596345597e-11,1.4986483858128e-11,1.1601177560788e-11,8.9973974767976e-12,6.9915164440698e-12,5.4436500810474e-12,4.2471270421778e-12],\"x\":[1,2,3,4,5,6,7,8,9,10,11,12,13,14,15,16,17,18,19,20,21,22,23,24,25,26,27,28,29,30,31,32,33,34,35,36,37,38,39,40,41,42,43,44,45,46,47,48,49,50,51,52,53,54,55,56,57,58,59,60,61,62,63,64,65,66,67,68,69,70,71,72,73,74,75,76,77,78,79,80,81,82,83,84,85,86,87,88,89,90,91,92,93,94,95,96,97,98,99,100]},\"column_names\":[\"y\",\"x\"],\"cont_ranges\":{},\"discrete_ranges\":{},\"selected\":[],\"id\":\"5e038bec-6f18-4013-c035-9f7248c006e8\",\"doc\":null,\"tags\":[]}},{\"id\":\"a3561539-695d-4e9e-ce3d-674cd7128157\",\"type\":\"Circle\",\"attributes\":{\"fill_alpha\":{\"units\":\"data\",\"value\":0.2},\"line_alpha\":{\"units\":\"data\",\"value\":1},\"doc\":null,\"size\":{\"units\":\"screen\",\"value\":10},\"fill_color\":{\"value\":\"red\"},\"line_color\":{\"value\":\"red\"},\"x\":{\"units\":\"data\",\"field\":\"x\"},\"id\":\"a3561539-695d-4e9e-ce3d-674cd7128157\",\"y\":{\"units\":\"data\",\"field\":\"y\"},\"tags\":[]}},{\"id\":\"1d6e03cd-2ed2-4c5f-cc25-6e987e885b6d\",\"type\":\"Circle\",\"attributes\":{\"fill_alpha\":{\"units\":\"data\",\"value\":0.2},\"line_alpha\":{\"units\":\"data\",\"value\":1},\"doc\":null,\"size\":{\"units\":\"screen\",\"value\":10},\"fill_color\":{\"value\":\"red\"},\"line_color\":{\"value\":\"red\"},\"x\":{\"units\":\"data\",\"field\":\"x\"},\"id\":\"1d6e03cd-2ed2-4c5f-cc25-6e987e885b6d\",\"y\":{\"units\":\"data\",\"field\":\"y\"},\"tags\":[]}},{\"id\":\"4c178481-7be3-4f9e-cf32-b789ae93d19d\",\"type\":\"GlyphRenderer\",\"attributes\":{\"name\":null,\"nonselection_glyph\":{\"type\":\"Circle\",\"id\":\"1d6e03cd-2ed2-4c5f-cc25-6e987e885b6d\"},\"doc\":null,\"server_data_source\":null,\"data_source\":{\"type\":\"ColumnDataSource\",\"id\":\"5e038bec-6f18-4013-c035-9f7248c006e8\"},\"glyph\":{\"type\":\"Circle\",\"id\":\"a3561539-695d-4e9e-ce3d-674cd7128157\"},\"selection_glyph\":null,\"id\":\"4c178481-7be3-4f9e-cf32-b789ae93d19d\",\"tags\":[]}},{\"id\":\"b260a63e-f4e5-4d15-cd61-a16af339a6b6\",\"type\":\"ColumnDataSource\",\"attributes\":{\"data\":{\"y\":[0.88115509528668,0.69837303561268,0.56696499901066,0.46688479184582,0.38752801080999,0.3228146710333,0.26903914855366,0.22382410200058,0.18556829516381,0.1531365992012,0.12567838533046,0.10251876584429,0.083093531594862,0.06691128307267,0.053532660741706,0.042560075871302,0.033633460328123,0.026428996434398,0.020658859334819,0.016070820527106,0.012447163516976,0.0096027736172545,0.0073825107230671,0.0056580916427764,0.0043247359291392,0.0032978020266883,0.002509587628065,0.0019064093112199,0.0014460235293103,0.0010954092086395,0.00082890270364251,0.00062665740509682,0.00047339061633272,0.00035737694913956,0.00026964827414118,0.0002033634758683,0.00015331567109479,0.00011554932156892,8.7064300477019e-05,6.5588177771e-05,4.9401649860253e-05,3.7205128281341e-05,2.8017049852863e-05,2.1096535626127e-05,1.5884676290581e-05,1.1960026343211e-05,9.004911600306e-06,6.7799498970542e-06,5.1047998696831e-06,3.8436260993564e-06,2.8941318042807e-06,2.1792875705084e-06,1.6410959328017e-06,1.2358922952577e-06,9.3080462764022e-07,7.0108678237805e-07,5.281102146564e-07,3.978517630309e-07,2.9975508866507e-07,2.2587352009362e-07,1.7022479458337e-07,1.2830533700105e-07,9.6724643531604e-08,7.2930077535517e-08,5.4999721881705e-08,4.1486457855458e-08,3.1300601673064e-08,2.3621562402378e-08,1.7831343502424e-08,1.346448550672e-08,1.0170383668727e-08,7.6849201782885e-09,5.8091075654352e-09,4.3930096520099e-09,3.3236352155562e-09,2.5158222525261e-09,1.9053736170978e-09,1.4438876147658e-09,1.0948647152039e-09,8.3077510136624e-10,6.3084971301551e-10,4.794161078766e-10,3.6464462137362e-10,2.776035454274e-10,2.1154706778276e-10,1.6137854974289e-10,1.2324590032287e-10,9.4236480982838e-11,7.2147013247405e-11,5.5310013873065e-11,4.2462839744928e-11,3.264885685373e-11,2.514283244834e-11,1.9394596345597e-11,1.4986483858128e-11,1.1601177560788e-11,8.9973974767976e-12,6.9915164440698e-12,5.4436500810474e-12,4.2471270421778e-12],\"x\":[1,2,3,4,5,6,7,8,9,10,11,12,13,14,15,16,17,18,19,20,21,22,23,24,25,26,27,28,29,30,31,32,33,34,35,36,37,38,39,40,41,42,43,44,45,46,47,48,49,50,51,52,53,54,55,56,57,58,59,60,61,62,63,64,65,66,67,68,69,70,71,72,73,74,75,76,77,78,79,80,81,82,83,84,85,86,87,88,89,90,91,92,93,94,95,96,97,98,99,100]},\"column_names\":[\"y\",\"x\"],\"cont_ranges\":{},\"discrete_ranges\":{},\"selected\":[],\"id\":\"b260a63e-f4e5-4d15-cd61-a16af339a6b6\",\"doc\":null,\"tags\":[]}},{\"id\":\"231a2446-99b1-41ae-c1b4-9a326872e866\",\"type\":\"Line\",\"attributes\":{\"fill_alpha\":{\"units\":\"data\",\"value\":0.2},\"line_alpha\":{\"units\":\"data\",\"value\":1},\"doc\":null,\"size\":{\"units\":\"screen\",\"value\":10},\"fill_color\":{\"value\":\"red\"},\"line_color\":{\"value\":\"red\"},\"x\":{\"units\":\"data\",\"field\":\"x\"},\"id\":\"231a2446-99b1-41ae-c1b4-9a326872e866\",\"y\":{\"units\":\"data\",\"field\":\"y\"},\"tags\":[]}},{\"id\":\"fa4c2233-ec8e-4b62-cbdc-c2865803499e\",\"type\":\"Line\",\"attributes\":{\"fill_alpha\":{\"units\":\"data\",\"value\":0.2},\"line_alpha\":{\"units\":\"data\",\"value\":1},\"doc\":null,\"size\":{\"units\":\"screen\",\"value\":10},\"fill_color\":{\"value\":\"red\"},\"line_color\":{\"value\":\"red\"},\"x\":{\"units\":\"data\",\"field\":\"x\"},\"id\":\"fa4c2233-ec8e-4b62-cbdc-c2865803499e\",\"y\":{\"units\":\"data\",\"field\":\"y\"},\"tags\":[]}},{\"id\":\"f3188e11-bdd7-4612-c650-fed2aa4b6a23\",\"type\":\"GlyphRenderer\",\"attributes\":{\"name\":null,\"nonselection_glyph\":{\"type\":\"Line\",\"id\":\"fa4c2233-ec8e-4b62-cbdc-c2865803499e\"},\"doc\":null,\"server_data_source\":null,\"data_source\":{\"type\":\"ColumnDataSource\",\"id\":\"b260a63e-f4e5-4d15-cd61-a16af339a6b6\"},\"glyph\":{\"type\":\"Line\",\"id\":\"231a2446-99b1-41ae-c1b4-9a326872e866\"},\"selection_glyph\":null,\"id\":\"f3188e11-bdd7-4612-c650-fed2aa4b6a23\",\"tags\":[]}},{\"id\":\"9e4f79b6-f685-46eb-c67c-2189c378c70b\",\"type\":\"DataRange1d\",\"attributes\":{\"sources\":[{\"columns\":[\"x\"],\"source\":{\"type\":\"ColumnDataSource\",\"id\":\"5e038bec-6f18-4013-c035-9f7248c006e8\"}},{\"columns\":[\"x\"],\"source\":{\"type\":\"ColumnDataSource\",\"id\":\"b260a63e-f4e5-4d15-cd61-a16af339a6b6\"}}],\"id\":\"9e4f79b6-f685-46eb-c67c-2189c378c70b\",\"tags\":[],\"doc\":null}},{\"id\":\"e0e8852d-c5fc-478c-c733-04ff4c84476d\",\"type\":\"DataRange1d\",\"attributes\":{\"sources\":[{\"columns\":[\"y\"],\"source\":{\"type\":\"ColumnDataSource\",\"id\":\"5e038bec-6f18-4013-c035-9f7248c006e8\"}},{\"columns\":[\"y\"],\"source\":{\"type\":\"ColumnDataSource\",\"id\":\"b260a63e-f4e5-4d15-cd61-a16af339a6b6\"}}],\"id\":\"e0e8852d-c5fc-478c-c733-04ff4c84476d\",\"tags\":[],\"doc\":null}},{\"id\":\"c67b6b66-e672-4bd1-cbe9-23e9d8e57032\",\"type\":\"ToolEvents\",\"attributes\":{\"tags\":[],\"id\":\"c67b6b66-e672-4bd1-cbe9-23e9d8e57032\",\"geometries\":[],\"doc\":null}},{\"id\":\"52ceb1bd-d5a4-46b4-c6f6-3b2f6b918f91\",\"type\":\"BasicTickFormatter\",\"attributes\":{\"id\":\"52ceb1bd-d5a4-46b4-c6f6-3b2f6b918f91\",\"tags\":[],\"doc\":null}},{\"id\":\"f2b82661-32a4-4366-c31d-a6aca62f8a6f\",\"type\":\"BasicTicker\",\"attributes\":{\"num_minor_ticks\":5,\"id\":\"f2b82661-32a4-4366-c31d-a6aca62f8a6f\",\"tags\":[],\"doc\":null}},{\"id\":\"1bde526d-d279-4e1f-ce99-7556c98b4cae\",\"type\":\"LinearAxis\",\"attributes\":{\"formatter\":{\"type\":\"BasicTickFormatter\",\"id\":\"52ceb1bd-d5a4-46b4-c6f6-3b2f6b918f91\"},\"ticker\":{\"type\":\"BasicTicker\",\"id\":\"f2b82661-32a4-4366-c31d-a6aca62f8a6f\"},\"plot\":{\"id\":\"397a155f-56b9-480c-c844-3feee0de0bb8\",\"type\":\"Plot\",\"subtype\":\"Figure\"},\"axis_label\":null,\"id\":\"1bde526d-d279-4e1f-ce99-7556c98b4cae\",\"doc\":null,\"tags\":[]}},{\"id\":\"3a58ca16-a3a6-48b7-c840-dff3bbba967a\",\"type\":\"Grid\",\"attributes\":{\"dimension\":0,\"plot\":{\"id\":\"397a155f-56b9-480c-c844-3feee0de0bb8\",\"type\":\"Plot\",\"subtype\":\"Figure\"},\"ticker\":{\"type\":\"BasicTicker\",\"id\":\"f2b82661-32a4-4366-c31d-a6aca62f8a6f\"},\"id\":\"3a58ca16-a3a6-48b7-c840-dff3bbba967a\",\"doc\":null,\"tags\":[]}},{\"id\":\"62ec2e2d-8032-423a-c2a0-2534d524189d\",\"type\":\"BasicTickFormatter\",\"attributes\":{\"id\":\"62ec2e2d-8032-423a-c2a0-2534d524189d\",\"tags\":[],\"doc\":null}},{\"id\":\"86e97a72-d7a3-40e2-c0fd-0d7cbc218007\",\"type\":\"BasicTicker\",\"attributes\":{\"num_minor_ticks\":5,\"id\":\"86e97a72-d7a3-40e2-c0fd-0d7cbc218007\",\"tags\":[],\"doc\":null}},{\"id\":\"36c17d00-f943-4bd4-cbdb-23ba2af47f56\",\"type\":\"LinearAxis\",\"attributes\":{\"formatter\":{\"type\":\"BasicTickFormatter\",\"id\":\"62ec2e2d-8032-423a-c2a0-2534d524189d\"},\"ticker\":{\"type\":\"BasicTicker\",\"id\":\"86e97a72-d7a3-40e2-c0fd-0d7cbc218007\"},\"plot\":{\"id\":\"397a155f-56b9-480c-c844-3feee0de0bb8\",\"type\":\"Plot\",\"subtype\":\"Figure\"},\"axis_label\":null,\"id\":\"36c17d00-f943-4bd4-cbdb-23ba2af47f56\",\"doc\":null,\"tags\":[]}},{\"id\":\"396e3cc2-2531-4145-c158-b576212ad663\",\"type\":\"Grid\",\"attributes\":{\"dimension\":1,\"plot\":{\"id\":\"397a155f-56b9-480c-c844-3feee0de0bb8\",\"type\":\"Plot\",\"subtype\":\"Figure\"},\"ticker\":{\"type\":\"BasicTicker\",\"id\":\"86e97a72-d7a3-40e2-c0fd-0d7cbc218007\"},\"id\":\"396e3cc2-2531-4145-c158-b576212ad663\",\"doc\":null,\"tags\":[]}},{\"id\":\"b4220f31-b9e0-4af1-ca29-de4a893d93f6\",\"type\":\"PanTool\",\"attributes\":{\"plot\":{\"id\":\"397a155f-56b9-480c-c844-3feee0de0bb8\",\"type\":\"Plot\",\"subtype\":\"Figure\"},\"dimensions\":[\"width\",\"height\"],\"id\":\"b4220f31-b9e0-4af1-ca29-de4a893d93f6\",\"doc\":null,\"tags\":[]}},{\"id\":\"31ad82e3-a003-48b2-c8f6-78cdfe4c6c70\",\"type\":\"WheelZoomTool\",\"attributes\":{\"plot\":{\"id\":\"397a155f-56b9-480c-c844-3feee0de0bb8\",\"type\":\"Plot\",\"subtype\":\"Figure\"},\"dimensions\":[\"width\",\"height\"],\"id\":\"31ad82e3-a003-48b2-c8f6-78cdfe4c6c70\",\"doc\":null,\"tags\":[]}},{\"id\":\"8cb6fcc2-7629-47ee-c735-71cfb30b1a07\",\"type\":\"BoxZoomTool\",\"attributes\":{\"plot\":{\"id\":\"397a155f-56b9-480c-c844-3feee0de0bb8\",\"type\":\"Plot\",\"subtype\":\"Figure\"},\"id\":\"8cb6fcc2-7629-47ee-c735-71cfb30b1a07\",\"tags\":[],\"doc\":null}},{\"id\":\"2312e8ca-a067-4bc0-cbe7-a8916de53066\",\"type\":\"PreviewSaveTool\",\"attributes\":{\"plot\":{\"id\":\"397a155f-56b9-480c-c844-3feee0de0bb8\",\"type\":\"Plot\",\"subtype\":\"Figure\"},\"id\":\"2312e8ca-a067-4bc0-cbe7-a8916de53066\",\"tags\":[],\"doc\":null}},{\"id\":\"64e6b8e9-4e38-42a3-c2b2-08e6eb44ca11\",\"type\":\"ResizeTool\",\"attributes\":{\"plot\":{\"id\":\"397a155f-56b9-480c-c844-3feee0de0bb8\",\"type\":\"Plot\",\"subtype\":\"Figure\"},\"id\":\"64e6b8e9-4e38-42a3-c2b2-08e6eb44ca11\",\"tags\":[],\"doc\":null}},{\"id\":\"558d23d8-d021-4dfd-cdbf-806f621e9a41\",\"type\":\"ResetTool\",\"attributes\":{\"plot\":{\"id\":\"397a155f-56b9-480c-c844-3feee0de0bb8\",\"type\":\"Plot\",\"subtype\":\"Figure\"},\"id\":\"558d23d8-d021-4dfd-cdbf-806f621e9a41\",\"tags\":[],\"doc\":null}},{\"id\":\"397a155f-56b9-480c-c844-3feee0de0bb8\",\"type\":\"Plot\",\"attributes\":{\"x_range\":{\"type\":\"DataRange1d\",\"id\":\"9e4f79b6-f685-46eb-c67c-2189c378c70b\"},\"tool_events\":{\"type\":\"ToolEvents\",\"id\":\"c67b6b66-e672-4bd1-cbe9-23e9d8e57032\"},\"below\":[{\"type\":\"LinearAxis\",\"id\":\"1bde526d-d279-4e1f-ce99-7556c98b4cae\"}],\"renderers\":[{\"type\":\"GlyphRenderer\",\"id\":\"4c178481-7be3-4f9e-cf32-b789ae93d19d\"},{\"type\":\"GlyphRenderer\",\"id\":\"f3188e11-bdd7-4612-c650-fed2aa4b6a23\"},{\"type\":\"LinearAxis\",\"id\":\"1bde526d-d279-4e1f-ce99-7556c98b4cae\"},{\"type\":\"Grid\",\"id\":\"3a58ca16-a3a6-48b7-c840-dff3bbba967a\"},{\"type\":\"LinearAxis\",\"id\":\"36c17d00-f943-4bd4-cbdb-23ba2af47f56\"},{\"type\":\"Grid\",\"id\":\"396e3cc2-2531-4145-c158-b576212ad663\"}],\"above\":[],\"tools\":[{\"type\":\"PanTool\",\"id\":\"b4220f31-b9e0-4af1-ca29-de4a893d93f6\"},{\"type\":\"WheelZoomTool\",\"id\":\"31ad82e3-a003-48b2-c8f6-78cdfe4c6c70\"},{\"type\":\"BoxZoomTool\",\"id\":\"8cb6fcc2-7629-47ee-c735-71cfb30b1a07\"},{\"type\":\"PreviewSaveTool\",\"id\":\"2312e8ca-a067-4bc0-cbe7-a8916de53066\"},{\"type\":\"ResizeTool\",\"id\":\"64e6b8e9-4e38-42a3-c2b2-08e6eb44ca11\"},{\"type\":\"ResetTool\",\"id\":\"558d23d8-d021-4dfd-cdbf-806f621e9a41\"}],\"doc\":null,\"right\":[],\"title\":\"Untitled Plot\",\"extra_x_ranges\":{},\"left\":[{\"type\":\"LinearAxis\",\"id\":\"36c17d00-f943-4bd4-cbdb-23ba2af47f56\"}],\"y_range\":{\"type\":\"DataRange1d\",\"id\":\"e0e8852d-c5fc-478c-c733-04ff4c84476d\"},\"id\":\"397a155f-56b9-480c-c844-3feee0de0bb8\",\"extra_y_ranges\":{},\"tags\":[]}}];\n",
       "      Bokeh.load_models(all_models);\n",
       "      var model = Bokeh.Collections(modeltype).get(modelid);\n",
       "      $(\"#6fe089f7-ffa6-48d7-c896-c9d919776e45\").html(''); // clear any previous plot in window_id\n",
       "      var view = new model.default_view({model: model, el: \"#6fe089f7-ffa6-48d7-c896-c9d919776e45\"});\n",
       "  });\n",
       "    }\n",
       "});\n",
       "</script>\n",
       "<div class=\"plotdiv\" id=\"63aca3f6-65ed-4a10-ca29-97a1df2a5931\"></div>\n"
      ]
     },
     "metadata": {},
     "output_type": "display_data"
    },
    {
     "data": {
      "text/html": [
       "<script type=\"text/javascript\">\n",
       "$(function() {\n",
       "    if (typeof (window._bokeh_onload_callbacks) === \"undefined\"){\n",
       "  window._bokeh_onload_callbacks = [];\n",
       "    }\n",
       "    function load_lib(url, callback){\n",
       "  window._bokeh_onload_callbacks.push(callback);\n",
       "  if (window._bokeh_is_loading){\n",
       "      console.log(\"Bokeh: BokehJS is being loaded, scheduling callback at\", new Date());\n",
       "      return null;\n",
       "  }\n",
       "  console.log(\"Bokeh: BokehJS not loaded, scheduling load and callback at\", new Date());\n",
       "  window._bokeh_is_loading = true;\n",
       "  var s = document.createElement('script');\n",
       "  s.src = url;\n",
       "  s.async = true;\n",
       "  s.onreadystatechange = s.onload = function(){\n",
       "      Bokeh.embed.inject_css(\"https://cdn.pydata.org/bokeh-0.7.0.min.css\");\n",
       "      window._bokeh_onload_callbacks.forEach(function(callback){callback()});\n",
       "  };\n",
       "  s.onerror = function(){\n",
       "      console.warn(\"failed to load library \" + url);\n",
       "  };\n",
       "  document.getElementsByTagName(\"head\")[0].appendChild(s);\n",
       "    }\n",
       "\n",
       "    bokehjs_url = \"https://cdn.pydata.org/bokeh-0.7.0.min.js\"\n",
       "\n",
       "    var elt = document.getElementById(\"6fe089f7-ffa6-48d7-c896-c9d919776e45\");\n",
       "    if(elt==null) {\n",
       "  console.log(\"Bokeh: ERROR: autoload.js configured with elementid '6fe089f7-ffa6-48d7-c896-c9d919776e45'\"\n",
       "        + \"but no matching script tag was found. \")\n",
       "  return false;\n",
       "    }\n",
       "\n",
       "    if(typeof(Bokeh) !== \"undefined\") {\n",
       "  console.log(\"Bokeh: BokehJS loaded, going straight to plotting\");\n",
       "  var modelid = \"a8d35f73-7e46-47d0-c745-12355378a481\";\n",
       "  var modeltype = \"Plot\";\n",
       "  var all_models = [{\"id\":\"d10f4eb4-232c-4b23-cbbf-bf0cf1fd3910\",\"type\":\"ColumnDataSource\",\"attributes\":{\"data\":{\"y\":[0.88115509528668,0.69837303561268,0.56696499901066,0.46688479184582,0.38752801080999,0.3228146710333,0.26903914855366,0.22382410200058,0.18556829516381,0.1531365992012,0.12567838533046,0.10251876584429,0.083093531594862,0.06691128307267,0.053532660741706,0.042560075871302,0.033633460328123,0.026428996434398,0.020658859334819,0.016070820527106,0.012447163516976,0.0096027736172545,0.0073825107230671,0.0056580916427764,0.0043247359291392,0.0032978020266883,0.002509587628065,0.0019064093112199,0.0014460235293103,0.0010954092086395,0.00082890270364251,0.00062665740509682,0.00047339061633272,0.00035737694913956,0.00026964827414118,0.0002033634758683,0.00015331567109479,0.00011554932156892,8.7064300477019e-05,6.5588177771e-05,4.9401649860253e-05,3.7205128281341e-05,2.8017049852863e-05,2.1096535626127e-05,1.5884676290581e-05,1.1960026343211e-05,9.004911600306e-06,6.7799498970542e-06,5.1047998696831e-06,3.8436260993564e-06,2.8941318042807e-06,2.1792875705084e-06,1.6410959328017e-06,1.2358922952577e-06,9.3080462764022e-07,7.0108678237805e-07,5.281102146564e-07,3.978517630309e-07,2.9975508866507e-07,2.2587352009362e-07,1.7022479458337e-07,1.2830533700105e-07,9.6724643531604e-08,7.2930077535517e-08,5.4999721881705e-08,4.1486457855458e-08,3.1300601673064e-08,2.3621562402378e-08,1.7831343502424e-08,1.346448550672e-08,1.0170383668727e-08,7.6849201782885e-09,5.8091075654352e-09,4.3930096520099e-09,3.3236352155562e-09,2.5158222525261e-09,1.9053736170978e-09,1.4438876147658e-09,1.0948647152039e-09,8.3077510136624e-10,6.3084971301551e-10,4.794161078766e-10,3.6464462137362e-10,2.776035454274e-10,2.1154706778276e-10,1.6137854974289e-10,1.2324590032287e-10,9.4236480982838e-11,7.2147013247405e-11,5.5310013873065e-11,4.2462839744928e-11,3.264885685373e-11,2.514283244834e-11,1.9394596345597e-11,1.4986483858128e-11,1.1601177560788e-11,8.9973974767976e-12,6.9915164440698e-12,5.4436500810474e-12,4.2471270421778e-12],\"x\":[1,2,3,4,5,6,7,8,9,10,11,12,13,14,15,16,17,18,19,20,21,22,23,24,25,26,27,28,29,30,31,32,33,34,35,36,37,38,39,40,41,42,43,44,45,46,47,48,49,50,51,52,53,54,55,56,57,58,59,60,61,62,63,64,65,66,67,68,69,70,71,72,73,74,75,76,77,78,79,80,81,82,83,84,85,86,87,88,89,90,91,92,93,94,95,96,97,98,99,100]},\"column_names\":[\"y\",\"x\"],\"cont_ranges\":{},\"discrete_ranges\":{},\"selected\":[],\"id\":\"d10f4eb4-232c-4b23-cbbf-bf0cf1fd3910\",\"doc\":null,\"tags\":[]}},{\"id\":\"3c78eae0-8325-4605-c656-cfdffc9d6903\",\"type\":\"Circle\",\"attributes\":{\"fill_alpha\":{\"units\":\"data\",\"value\":0.2},\"line_alpha\":{\"units\":\"data\",\"value\":1},\"doc\":null,\"size\":{\"units\":\"screen\",\"value\":10},\"fill_color\":{\"value\":\"red\"},\"line_color\":{\"value\":\"red\"},\"x\":{\"units\":\"data\",\"field\":\"x\"},\"id\":\"3c78eae0-8325-4605-c656-cfdffc9d6903\",\"y\":{\"units\":\"data\",\"field\":\"y\"},\"tags\":[]}},{\"id\":\"d949e382-0774-445a-c4a0-30510b95cfed\",\"type\":\"Circle\",\"attributes\":{\"fill_alpha\":{\"units\":\"data\",\"value\":0.2},\"line_alpha\":{\"units\":\"data\",\"value\":1},\"doc\":null,\"size\":{\"units\":\"screen\",\"value\":10},\"fill_color\":{\"value\":\"red\"},\"line_color\":{\"value\":\"red\"},\"x\":{\"units\":\"data\",\"field\":\"x\"},\"id\":\"d949e382-0774-445a-c4a0-30510b95cfed\",\"y\":{\"units\":\"data\",\"field\":\"y\"},\"tags\":[]}},{\"id\":\"ed08a2d8-1bea-4094-c0c8-6a7a2ad19343\",\"type\":\"GlyphRenderer\",\"attributes\":{\"name\":null,\"nonselection_glyph\":{\"type\":\"Circle\",\"id\":\"d949e382-0774-445a-c4a0-30510b95cfed\"},\"doc\":null,\"server_data_source\":null,\"data_source\":{\"type\":\"ColumnDataSource\",\"id\":\"d10f4eb4-232c-4b23-cbbf-bf0cf1fd3910\"},\"glyph\":{\"type\":\"Circle\",\"id\":\"3c78eae0-8325-4605-c656-cfdffc9d6903\"},\"selection_glyph\":null,\"id\":\"ed08a2d8-1bea-4094-c0c8-6a7a2ad19343\",\"tags\":[]}},{\"id\":\"cd3fd6c6-1dd7-4c5c-ccd9-87a7812d9ee3\",\"type\":\"ColumnDataSource\",\"attributes\":{\"data\":{\"y\":[0.88115509528668,0.69837303561268,0.56696499901066,0.46688479184582,0.38752801080999,0.3228146710333,0.26903914855366,0.22382410200058,0.18556829516381,0.1531365992012,0.12567838533046,0.10251876584429,0.083093531594862,0.06691128307267,0.053532660741706,0.042560075871302,0.033633460328123,0.026428996434398,0.020658859334819,0.016070820527106,0.012447163516976,0.0096027736172545,0.0073825107230671,0.0056580916427764,0.0043247359291392,0.0032978020266883,0.002509587628065,0.0019064093112199,0.0014460235293103,0.0010954092086395,0.00082890270364251,0.00062665740509682,0.00047339061633272,0.00035737694913956,0.00026964827414118,0.0002033634758683,0.00015331567109479,0.00011554932156892,8.7064300477019e-05,6.5588177771e-05,4.9401649860253e-05,3.7205128281341e-05,2.8017049852863e-05,2.1096535626127e-05,1.5884676290581e-05,1.1960026343211e-05,9.004911600306e-06,6.7799498970542e-06,5.1047998696831e-06,3.8436260993564e-06,2.8941318042807e-06,2.1792875705084e-06,1.6410959328017e-06,1.2358922952577e-06,9.3080462764022e-07,7.0108678237805e-07,5.281102146564e-07,3.978517630309e-07,2.9975508866507e-07,2.2587352009362e-07,1.7022479458337e-07,1.2830533700105e-07,9.6724643531604e-08,7.2930077535517e-08,5.4999721881705e-08,4.1486457855458e-08,3.1300601673064e-08,2.3621562402378e-08,1.7831343502424e-08,1.346448550672e-08,1.0170383668727e-08,7.6849201782885e-09,5.8091075654352e-09,4.3930096520099e-09,3.3236352155562e-09,2.5158222525261e-09,1.9053736170978e-09,1.4438876147658e-09,1.0948647152039e-09,8.3077510136624e-10,6.3084971301551e-10,4.794161078766e-10,3.6464462137362e-10,2.776035454274e-10,2.1154706778276e-10,1.6137854974289e-10,1.2324590032287e-10,9.4236480982838e-11,7.2147013247405e-11,5.5310013873065e-11,4.2462839744928e-11,3.264885685373e-11,2.514283244834e-11,1.9394596345597e-11,1.4986483858128e-11,1.1601177560788e-11,8.9973974767976e-12,6.9915164440698e-12,5.4436500810474e-12,4.2471270421778e-12],\"x\":[1,2,3,4,5,6,7,8,9,10,11,12,13,14,15,16,17,18,19,20,21,22,23,24,25,26,27,28,29,30,31,32,33,34,35,36,37,38,39,40,41,42,43,44,45,46,47,48,49,50,51,52,53,54,55,56,57,58,59,60,61,62,63,64,65,66,67,68,69,70,71,72,73,74,75,76,77,78,79,80,81,82,83,84,85,86,87,88,89,90,91,92,93,94,95,96,97,98,99,100]},\"column_names\":[\"y\",\"x\"],\"cont_ranges\":{},\"discrete_ranges\":{},\"selected\":[],\"id\":\"cd3fd6c6-1dd7-4c5c-ccd9-87a7812d9ee3\",\"doc\":null,\"tags\":[]}},{\"id\":\"d2de9245-7310-43fe-c344-23bd2b81b69c\",\"type\":\"Line\",\"attributes\":{\"fill_alpha\":{\"units\":\"data\",\"value\":0.2},\"line_alpha\":{\"units\":\"data\",\"value\":1},\"doc\":null,\"size\":{\"units\":\"screen\",\"value\":10},\"fill_color\":{\"value\":\"red\"},\"line_color\":{\"value\":\"red\"},\"x\":{\"units\":\"data\",\"field\":\"x\"},\"id\":\"d2de9245-7310-43fe-c344-23bd2b81b69c\",\"y\":{\"units\":\"data\",\"field\":\"y\"},\"tags\":[]}},{\"id\":\"753383ef-caed-49c5-c97e-a007810efce9\",\"type\":\"Line\",\"attributes\":{\"fill_alpha\":{\"units\":\"data\",\"value\":0.2},\"line_alpha\":{\"units\":\"data\",\"value\":1},\"doc\":null,\"size\":{\"units\":\"screen\",\"value\":10},\"fill_color\":{\"value\":\"red\"},\"line_color\":{\"value\":\"red\"},\"x\":{\"units\":\"data\",\"field\":\"x\"},\"id\":\"753383ef-caed-49c5-c97e-a007810efce9\",\"y\":{\"units\":\"data\",\"field\":\"y\"},\"tags\":[]}},{\"id\":\"b2295708-be26-45e0-c5af-11dc64d1053e\",\"type\":\"GlyphRenderer\",\"attributes\":{\"name\":null,\"nonselection_glyph\":{\"type\":\"Line\",\"id\":\"753383ef-caed-49c5-c97e-a007810efce9\"},\"doc\":null,\"server_data_source\":null,\"data_source\":{\"type\":\"ColumnDataSource\",\"id\":\"cd3fd6c6-1dd7-4c5c-ccd9-87a7812d9ee3\"},\"glyph\":{\"type\":\"Line\",\"id\":\"d2de9245-7310-43fe-c344-23bd2b81b69c\"},\"selection_glyph\":null,\"id\":\"b2295708-be26-45e0-c5af-11dc64d1053e\",\"tags\":[]}},{\"id\":\"9838209d-6913-4e93-cec6-614b10a68cc4\",\"type\":\"DataRange1d\",\"attributes\":{\"sources\":[{\"columns\":[\"x\"],\"source\":{\"type\":\"ColumnDataSource\",\"id\":\"d10f4eb4-232c-4b23-cbbf-bf0cf1fd3910\"}},{\"columns\":[\"x\"],\"source\":{\"type\":\"ColumnDataSource\",\"id\":\"cd3fd6c6-1dd7-4c5c-ccd9-87a7812d9ee3\"}}],\"id\":\"9838209d-6913-4e93-cec6-614b10a68cc4\",\"tags\":[],\"doc\":null}},{\"id\":\"9971bd1b-e191-473b-c7fa-f68d23a5e844\",\"type\":\"DataRange1d\",\"attributes\":{\"sources\":[{\"columns\":[\"y\"],\"source\":{\"type\":\"ColumnDataSource\",\"id\":\"d10f4eb4-232c-4b23-cbbf-bf0cf1fd3910\"}},{\"columns\":[\"y\"],\"source\":{\"type\":\"ColumnDataSource\",\"id\":\"cd3fd6c6-1dd7-4c5c-ccd9-87a7812d9ee3\"}}],\"id\":\"9971bd1b-e191-473b-c7fa-f68d23a5e844\",\"tags\":[],\"doc\":null}},{\"id\":\"71862b9b-f706-4dcc-cdca-e683f7529922\",\"type\":\"ToolEvents\",\"attributes\":{\"tags\":[],\"id\":\"71862b9b-f706-4dcc-cdca-e683f7529922\",\"geometries\":[],\"doc\":null}},{\"id\":\"2d10f431-fc66-4860-c830-e2d85f923c74\",\"type\":\"BasicTickFormatter\",\"attributes\":{\"id\":\"2d10f431-fc66-4860-c830-e2d85f923c74\",\"tags\":[],\"doc\":null}},{\"id\":\"501a762b-db7b-45f3-c501-f10d07a84a3f\",\"type\":\"BasicTicker\",\"attributes\":{\"num_minor_ticks\":5,\"id\":\"501a762b-db7b-45f3-c501-f10d07a84a3f\",\"tags\":[],\"doc\":null}},{\"id\":\"9019d338-5ccf-41b1-c129-7e69b452b0ef\",\"type\":\"LinearAxis\",\"attributes\":{\"formatter\":{\"type\":\"BasicTickFormatter\",\"id\":\"2d10f431-fc66-4860-c830-e2d85f923c74\"},\"ticker\":{\"type\":\"BasicTicker\",\"id\":\"501a762b-db7b-45f3-c501-f10d07a84a3f\"},\"plot\":{\"id\":\"a8d35f73-7e46-47d0-c745-12355378a481\",\"type\":\"Plot\",\"subtype\":\"Figure\"},\"axis_label\":null,\"id\":\"9019d338-5ccf-41b1-c129-7e69b452b0ef\",\"doc\":null,\"tags\":[]}},{\"id\":\"b9354458-7de5-48e8-c8f3-286c89712112\",\"type\":\"Grid\",\"attributes\":{\"dimension\":0,\"plot\":{\"id\":\"a8d35f73-7e46-47d0-c745-12355378a481\",\"type\":\"Plot\",\"subtype\":\"Figure\"},\"ticker\":{\"type\":\"BasicTicker\",\"id\":\"501a762b-db7b-45f3-c501-f10d07a84a3f\"},\"id\":\"b9354458-7de5-48e8-c8f3-286c89712112\",\"doc\":null,\"tags\":[]}},{\"id\":\"737622ab-38f2-42a5-c2ad-71a540fe786f\",\"type\":\"BasicTickFormatter\",\"attributes\":{\"id\":\"737622ab-38f2-42a5-c2ad-71a540fe786f\",\"tags\":[],\"doc\":null}},{\"id\":\"afbcdeba-ac1a-46f9-c6b9-f5b4245e605a\",\"type\":\"BasicTicker\",\"attributes\":{\"num_minor_ticks\":5,\"id\":\"afbcdeba-ac1a-46f9-c6b9-f5b4245e605a\",\"tags\":[],\"doc\":null}},{\"id\":\"1a3020f7-c273-41e8-c11a-50e72d534ade\",\"type\":\"LinearAxis\",\"attributes\":{\"formatter\":{\"type\":\"BasicTickFormatter\",\"id\":\"737622ab-38f2-42a5-c2ad-71a540fe786f\"},\"ticker\":{\"type\":\"BasicTicker\",\"id\":\"afbcdeba-ac1a-46f9-c6b9-f5b4245e605a\"},\"plot\":{\"id\":\"a8d35f73-7e46-47d0-c745-12355378a481\",\"type\":\"Plot\",\"subtype\":\"Figure\"},\"axis_label\":null,\"id\":\"1a3020f7-c273-41e8-c11a-50e72d534ade\",\"doc\":null,\"tags\":[]}},{\"id\":\"31d61ff2-33fc-4556-c582-e83c5eabedbc\",\"type\":\"Grid\",\"attributes\":{\"dimension\":1,\"plot\":{\"id\":\"a8d35f73-7e46-47d0-c745-12355378a481\",\"type\":\"Plot\",\"subtype\":\"Figure\"},\"ticker\":{\"type\":\"BasicTicker\",\"id\":\"afbcdeba-ac1a-46f9-c6b9-f5b4245e605a\"},\"id\":\"31d61ff2-33fc-4556-c582-e83c5eabedbc\",\"doc\":null,\"tags\":[]}},{\"id\":\"8bbbdfae-44ed-424d-c202-5ea5efa12d49\",\"type\":\"PanTool\",\"attributes\":{\"plot\":{\"id\":\"a8d35f73-7e46-47d0-c745-12355378a481\",\"type\":\"Plot\",\"subtype\":\"Figure\"},\"dimensions\":[\"width\",\"height\"],\"id\":\"8bbbdfae-44ed-424d-c202-5ea5efa12d49\",\"doc\":null,\"tags\":[]}},{\"id\":\"a13e6f48-b90e-48cf-c873-d61f7a72906a\",\"type\":\"WheelZoomTool\",\"attributes\":{\"plot\":{\"id\":\"a8d35f73-7e46-47d0-c745-12355378a481\",\"type\":\"Plot\",\"subtype\":\"Figure\"},\"dimensions\":[\"width\",\"height\"],\"id\":\"a13e6f48-b90e-48cf-c873-d61f7a72906a\",\"doc\":null,\"tags\":[]}},{\"id\":\"1924443a-7d74-40a9-c083-399c4a5da5ec\",\"type\":\"BoxZoomTool\",\"attributes\":{\"plot\":{\"id\":\"a8d35f73-7e46-47d0-c745-12355378a481\",\"type\":\"Plot\",\"subtype\":\"Figure\"},\"id\":\"1924443a-7d74-40a9-c083-399c4a5da5ec\",\"tags\":[],\"doc\":null}},{\"id\":\"4be82733-dfe5-46f9-c61f-425a078d62c7\",\"type\":\"PreviewSaveTool\",\"attributes\":{\"plot\":{\"id\":\"a8d35f73-7e46-47d0-c745-12355378a481\",\"type\":\"Plot\",\"subtype\":\"Figure\"},\"id\":\"4be82733-dfe5-46f9-c61f-425a078d62c7\",\"tags\":[],\"doc\":null}},{\"id\":\"9f49a7f6-370c-4d51-cdac-5fa4d5a05a66\",\"type\":\"ResizeTool\",\"attributes\":{\"plot\":{\"id\":\"a8d35f73-7e46-47d0-c745-12355378a481\",\"type\":\"Plot\",\"subtype\":\"Figure\"},\"id\":\"9f49a7f6-370c-4d51-cdac-5fa4d5a05a66\",\"tags\":[],\"doc\":null}},{\"id\":\"7ef55dee-10cc-4343-c36f-3cc4748e5a44\",\"type\":\"ResetTool\",\"attributes\":{\"plot\":{\"id\":\"a8d35f73-7e46-47d0-c745-12355378a481\",\"type\":\"Plot\",\"subtype\":\"Figure\"},\"id\":\"7ef55dee-10cc-4343-c36f-3cc4748e5a44\",\"tags\":[],\"doc\":null}},{\"id\":\"a8d35f73-7e46-47d0-c745-12355378a481\",\"type\":\"Plot\",\"attributes\":{\"x_range\":{\"type\":\"DataRange1d\",\"id\":\"9838209d-6913-4e93-cec6-614b10a68cc4\"},\"tool_events\":{\"type\":\"ToolEvents\",\"id\":\"71862b9b-f706-4dcc-cdca-e683f7529922\"},\"below\":[{\"type\":\"LinearAxis\",\"id\":\"9019d338-5ccf-41b1-c129-7e69b452b0ef\"}],\"renderers\":[{\"type\":\"GlyphRenderer\",\"id\":\"ed08a2d8-1bea-4094-c0c8-6a7a2ad19343\"},{\"type\":\"GlyphRenderer\",\"id\":\"b2295708-be26-45e0-c5af-11dc64d1053e\"},{\"type\":\"LinearAxis\",\"id\":\"9019d338-5ccf-41b1-c129-7e69b452b0ef\"},{\"type\":\"Grid\",\"id\":\"b9354458-7de5-48e8-c8f3-286c89712112\"},{\"type\":\"LinearAxis\",\"id\":\"1a3020f7-c273-41e8-c11a-50e72d534ade\"},{\"type\":\"Grid\",\"id\":\"31d61ff2-33fc-4556-c582-e83c5eabedbc\"}],\"above\":[],\"tools\":[{\"type\":\"PanTool\",\"id\":\"8bbbdfae-44ed-424d-c202-5ea5efa12d49\"},{\"type\":\"WheelZoomTool\",\"id\":\"a13e6f48-b90e-48cf-c873-d61f7a72906a\"},{\"type\":\"BoxZoomTool\",\"id\":\"1924443a-7d74-40a9-c083-399c4a5da5ec\"},{\"type\":\"PreviewSaveTool\",\"id\":\"4be82733-dfe5-46f9-c61f-425a078d62c7\"},{\"type\":\"ResizeTool\",\"id\":\"9f49a7f6-370c-4d51-cdac-5fa4d5a05a66\"},{\"type\":\"ResetTool\",\"id\":\"7ef55dee-10cc-4343-c36f-3cc4748e5a44\"}],\"doc\":null,\"right\":[],\"title\":\"Scatter Plot Demo\",\"extra_x_ranges\":{},\"left\":[{\"type\":\"LinearAxis\",\"id\":\"1a3020f7-c273-41e8-c11a-50e72d534ade\"}],\"y_range\":{\"type\":\"DataRange1d\",\"id\":\"9971bd1b-e191-473b-c7fa-f68d23a5e844\"},\"id\":\"a8d35f73-7e46-47d0-c745-12355378a481\",\"extra_y_ranges\":{},\"tags\":[]}}];\n",
       "  Bokeh.load_models(all_models);\n",
       "  var model = Bokeh.Collections(modeltype).get(modelid);\n",
       "  $(\"#6fe089f7-ffa6-48d7-c896-c9d919776e45\").html(''); // clear any previous plot in window_id\n",
       "  var view = new model.default_view({model: model, el: \"#6fe089f7-ffa6-48d7-c896-c9d919776e45\"});\n",
       "    } else {\n",
       "  load_lib(bokehjs_url, function() {\n",
       "      console.log(\"Bokeh: BokehJS plotting callback run at\", new Date())\n",
       "      var modelid = \"a8d35f73-7e46-47d0-c745-12355378a481\";\n",
       "      var modeltype = \"Plot\";\n",
       "      var all_models = [{\"id\":\"d10f4eb4-232c-4b23-cbbf-bf0cf1fd3910\",\"type\":\"ColumnDataSource\",\"attributes\":{\"data\":{\"y\":[0.88115509528668,0.69837303561268,0.56696499901066,0.46688479184582,0.38752801080999,0.3228146710333,0.26903914855366,0.22382410200058,0.18556829516381,0.1531365992012,0.12567838533046,0.10251876584429,0.083093531594862,0.06691128307267,0.053532660741706,0.042560075871302,0.033633460328123,0.026428996434398,0.020658859334819,0.016070820527106,0.012447163516976,0.0096027736172545,0.0073825107230671,0.0056580916427764,0.0043247359291392,0.0032978020266883,0.002509587628065,0.0019064093112199,0.0014460235293103,0.0010954092086395,0.00082890270364251,0.00062665740509682,0.00047339061633272,0.00035737694913956,0.00026964827414118,0.0002033634758683,0.00015331567109479,0.00011554932156892,8.7064300477019e-05,6.5588177771e-05,4.9401649860253e-05,3.7205128281341e-05,2.8017049852863e-05,2.1096535626127e-05,1.5884676290581e-05,1.1960026343211e-05,9.004911600306e-06,6.7799498970542e-06,5.1047998696831e-06,3.8436260993564e-06,2.8941318042807e-06,2.1792875705084e-06,1.6410959328017e-06,1.2358922952577e-06,9.3080462764022e-07,7.0108678237805e-07,5.281102146564e-07,3.978517630309e-07,2.9975508866507e-07,2.2587352009362e-07,1.7022479458337e-07,1.2830533700105e-07,9.6724643531604e-08,7.2930077535517e-08,5.4999721881705e-08,4.1486457855458e-08,3.1300601673064e-08,2.3621562402378e-08,1.7831343502424e-08,1.346448550672e-08,1.0170383668727e-08,7.6849201782885e-09,5.8091075654352e-09,4.3930096520099e-09,3.3236352155562e-09,2.5158222525261e-09,1.9053736170978e-09,1.4438876147658e-09,1.0948647152039e-09,8.3077510136624e-10,6.3084971301551e-10,4.794161078766e-10,3.6464462137362e-10,2.776035454274e-10,2.1154706778276e-10,1.6137854974289e-10,1.2324590032287e-10,9.4236480982838e-11,7.2147013247405e-11,5.5310013873065e-11,4.2462839744928e-11,3.264885685373e-11,2.514283244834e-11,1.9394596345597e-11,1.4986483858128e-11,1.1601177560788e-11,8.9973974767976e-12,6.9915164440698e-12,5.4436500810474e-12,4.2471270421778e-12],\"x\":[1,2,3,4,5,6,7,8,9,10,11,12,13,14,15,16,17,18,19,20,21,22,23,24,25,26,27,28,29,30,31,32,33,34,35,36,37,38,39,40,41,42,43,44,45,46,47,48,49,50,51,52,53,54,55,56,57,58,59,60,61,62,63,64,65,66,67,68,69,70,71,72,73,74,75,76,77,78,79,80,81,82,83,84,85,86,87,88,89,90,91,92,93,94,95,96,97,98,99,100]},\"column_names\":[\"y\",\"x\"],\"cont_ranges\":{},\"discrete_ranges\":{},\"selected\":[],\"id\":\"d10f4eb4-232c-4b23-cbbf-bf0cf1fd3910\",\"doc\":null,\"tags\":[]}},{\"id\":\"3c78eae0-8325-4605-c656-cfdffc9d6903\",\"type\":\"Circle\",\"attributes\":{\"fill_alpha\":{\"units\":\"data\",\"value\":0.2},\"line_alpha\":{\"units\":\"data\",\"value\":1},\"doc\":null,\"size\":{\"units\":\"screen\",\"value\":10},\"fill_color\":{\"value\":\"red\"},\"line_color\":{\"value\":\"red\"},\"x\":{\"units\":\"data\",\"field\":\"x\"},\"id\":\"3c78eae0-8325-4605-c656-cfdffc9d6903\",\"y\":{\"units\":\"data\",\"field\":\"y\"},\"tags\":[]}},{\"id\":\"d949e382-0774-445a-c4a0-30510b95cfed\",\"type\":\"Circle\",\"attributes\":{\"fill_alpha\":{\"units\":\"data\",\"value\":0.2},\"line_alpha\":{\"units\":\"data\",\"value\":1},\"doc\":null,\"size\":{\"units\":\"screen\",\"value\":10},\"fill_color\":{\"value\":\"red\"},\"line_color\":{\"value\":\"red\"},\"x\":{\"units\":\"data\",\"field\":\"x\"},\"id\":\"d949e382-0774-445a-c4a0-30510b95cfed\",\"y\":{\"units\":\"data\",\"field\":\"y\"},\"tags\":[]}},{\"id\":\"ed08a2d8-1bea-4094-c0c8-6a7a2ad19343\",\"type\":\"GlyphRenderer\",\"attributes\":{\"name\":null,\"nonselection_glyph\":{\"type\":\"Circle\",\"id\":\"d949e382-0774-445a-c4a0-30510b95cfed\"},\"doc\":null,\"server_data_source\":null,\"data_source\":{\"type\":\"ColumnDataSource\",\"id\":\"d10f4eb4-232c-4b23-cbbf-bf0cf1fd3910\"},\"glyph\":{\"type\":\"Circle\",\"id\":\"3c78eae0-8325-4605-c656-cfdffc9d6903\"},\"selection_glyph\":null,\"id\":\"ed08a2d8-1bea-4094-c0c8-6a7a2ad19343\",\"tags\":[]}},{\"id\":\"cd3fd6c6-1dd7-4c5c-ccd9-87a7812d9ee3\",\"type\":\"ColumnDataSource\",\"attributes\":{\"data\":{\"y\":[0.88115509528668,0.69837303561268,0.56696499901066,0.46688479184582,0.38752801080999,0.3228146710333,0.26903914855366,0.22382410200058,0.18556829516381,0.1531365992012,0.12567838533046,0.10251876584429,0.083093531594862,0.06691128307267,0.053532660741706,0.042560075871302,0.033633460328123,0.026428996434398,0.020658859334819,0.016070820527106,0.012447163516976,0.0096027736172545,0.0073825107230671,0.0056580916427764,0.0043247359291392,0.0032978020266883,0.002509587628065,0.0019064093112199,0.0014460235293103,0.0010954092086395,0.00082890270364251,0.00062665740509682,0.00047339061633272,0.00035737694913956,0.00026964827414118,0.0002033634758683,0.00015331567109479,0.00011554932156892,8.7064300477019e-05,6.5588177771e-05,4.9401649860253e-05,3.7205128281341e-05,2.8017049852863e-05,2.1096535626127e-05,1.5884676290581e-05,1.1960026343211e-05,9.004911600306e-06,6.7799498970542e-06,5.1047998696831e-06,3.8436260993564e-06,2.8941318042807e-06,2.1792875705084e-06,1.6410959328017e-06,1.2358922952577e-06,9.3080462764022e-07,7.0108678237805e-07,5.281102146564e-07,3.978517630309e-07,2.9975508866507e-07,2.2587352009362e-07,1.7022479458337e-07,1.2830533700105e-07,9.6724643531604e-08,7.2930077535517e-08,5.4999721881705e-08,4.1486457855458e-08,3.1300601673064e-08,2.3621562402378e-08,1.7831343502424e-08,1.346448550672e-08,1.0170383668727e-08,7.6849201782885e-09,5.8091075654352e-09,4.3930096520099e-09,3.3236352155562e-09,2.5158222525261e-09,1.9053736170978e-09,1.4438876147658e-09,1.0948647152039e-09,8.3077510136624e-10,6.3084971301551e-10,4.794161078766e-10,3.6464462137362e-10,2.776035454274e-10,2.1154706778276e-10,1.6137854974289e-10,1.2324590032287e-10,9.4236480982838e-11,7.2147013247405e-11,5.5310013873065e-11,4.2462839744928e-11,3.264885685373e-11,2.514283244834e-11,1.9394596345597e-11,1.4986483858128e-11,1.1601177560788e-11,8.9973974767976e-12,6.9915164440698e-12,5.4436500810474e-12,4.2471270421778e-12],\"x\":[1,2,3,4,5,6,7,8,9,10,11,12,13,14,15,16,17,18,19,20,21,22,23,24,25,26,27,28,29,30,31,32,33,34,35,36,37,38,39,40,41,42,43,44,45,46,47,48,49,50,51,52,53,54,55,56,57,58,59,60,61,62,63,64,65,66,67,68,69,70,71,72,73,74,75,76,77,78,79,80,81,82,83,84,85,86,87,88,89,90,91,92,93,94,95,96,97,98,99,100]},\"column_names\":[\"y\",\"x\"],\"cont_ranges\":{},\"discrete_ranges\":{},\"selected\":[],\"id\":\"cd3fd6c6-1dd7-4c5c-ccd9-87a7812d9ee3\",\"doc\":null,\"tags\":[]}},{\"id\":\"d2de9245-7310-43fe-c344-23bd2b81b69c\",\"type\":\"Line\",\"attributes\":{\"fill_alpha\":{\"units\":\"data\",\"value\":0.2},\"line_alpha\":{\"units\":\"data\",\"value\":1},\"doc\":null,\"size\":{\"units\":\"screen\",\"value\":10},\"fill_color\":{\"value\":\"red\"},\"line_color\":{\"value\":\"red\"},\"x\":{\"units\":\"data\",\"field\":\"x\"},\"id\":\"d2de9245-7310-43fe-c344-23bd2b81b69c\",\"y\":{\"units\":\"data\",\"field\":\"y\"},\"tags\":[]}},{\"id\":\"753383ef-caed-49c5-c97e-a007810efce9\",\"type\":\"Line\",\"attributes\":{\"fill_alpha\":{\"units\":\"data\",\"value\":0.2},\"line_alpha\":{\"units\":\"data\",\"value\":1},\"doc\":null,\"size\":{\"units\":\"screen\",\"value\":10},\"fill_color\":{\"value\":\"red\"},\"line_color\":{\"value\":\"red\"},\"x\":{\"units\":\"data\",\"field\":\"x\"},\"id\":\"753383ef-caed-49c5-c97e-a007810efce9\",\"y\":{\"units\":\"data\",\"field\":\"y\"},\"tags\":[]}},{\"id\":\"b2295708-be26-45e0-c5af-11dc64d1053e\",\"type\":\"GlyphRenderer\",\"attributes\":{\"name\":null,\"nonselection_glyph\":{\"type\":\"Line\",\"id\":\"753383ef-caed-49c5-c97e-a007810efce9\"},\"doc\":null,\"server_data_source\":null,\"data_source\":{\"type\":\"ColumnDataSource\",\"id\":\"cd3fd6c6-1dd7-4c5c-ccd9-87a7812d9ee3\"},\"glyph\":{\"type\":\"Line\",\"id\":\"d2de9245-7310-43fe-c344-23bd2b81b69c\"},\"selection_glyph\":null,\"id\":\"b2295708-be26-45e0-c5af-11dc64d1053e\",\"tags\":[]}},{\"id\":\"9838209d-6913-4e93-cec6-614b10a68cc4\",\"type\":\"DataRange1d\",\"attributes\":{\"sources\":[{\"columns\":[\"x\"],\"source\":{\"type\":\"ColumnDataSource\",\"id\":\"d10f4eb4-232c-4b23-cbbf-bf0cf1fd3910\"}},{\"columns\":[\"x\"],\"source\":{\"type\":\"ColumnDataSource\",\"id\":\"cd3fd6c6-1dd7-4c5c-ccd9-87a7812d9ee3\"}}],\"id\":\"9838209d-6913-4e93-cec6-614b10a68cc4\",\"tags\":[],\"doc\":null}},{\"id\":\"9971bd1b-e191-473b-c7fa-f68d23a5e844\",\"type\":\"DataRange1d\",\"attributes\":{\"sources\":[{\"columns\":[\"y\"],\"source\":{\"type\":\"ColumnDataSource\",\"id\":\"d10f4eb4-232c-4b23-cbbf-bf0cf1fd3910\"}},{\"columns\":[\"y\"],\"source\":{\"type\":\"ColumnDataSource\",\"id\":\"cd3fd6c6-1dd7-4c5c-ccd9-87a7812d9ee3\"}}],\"id\":\"9971bd1b-e191-473b-c7fa-f68d23a5e844\",\"tags\":[],\"doc\":null}},{\"id\":\"71862b9b-f706-4dcc-cdca-e683f7529922\",\"type\":\"ToolEvents\",\"attributes\":{\"tags\":[],\"id\":\"71862b9b-f706-4dcc-cdca-e683f7529922\",\"geometries\":[],\"doc\":null}},{\"id\":\"2d10f431-fc66-4860-c830-e2d85f923c74\",\"type\":\"BasicTickFormatter\",\"attributes\":{\"id\":\"2d10f431-fc66-4860-c830-e2d85f923c74\",\"tags\":[],\"doc\":null}},{\"id\":\"501a762b-db7b-45f3-c501-f10d07a84a3f\",\"type\":\"BasicTicker\",\"attributes\":{\"num_minor_ticks\":5,\"id\":\"501a762b-db7b-45f3-c501-f10d07a84a3f\",\"tags\":[],\"doc\":null}},{\"id\":\"9019d338-5ccf-41b1-c129-7e69b452b0ef\",\"type\":\"LinearAxis\",\"attributes\":{\"formatter\":{\"type\":\"BasicTickFormatter\",\"id\":\"2d10f431-fc66-4860-c830-e2d85f923c74\"},\"ticker\":{\"type\":\"BasicTicker\",\"id\":\"501a762b-db7b-45f3-c501-f10d07a84a3f\"},\"plot\":{\"id\":\"a8d35f73-7e46-47d0-c745-12355378a481\",\"type\":\"Plot\",\"subtype\":\"Figure\"},\"axis_label\":null,\"id\":\"9019d338-5ccf-41b1-c129-7e69b452b0ef\",\"doc\":null,\"tags\":[]}},{\"id\":\"b9354458-7de5-48e8-c8f3-286c89712112\",\"type\":\"Grid\",\"attributes\":{\"dimension\":0,\"plot\":{\"id\":\"a8d35f73-7e46-47d0-c745-12355378a481\",\"type\":\"Plot\",\"subtype\":\"Figure\"},\"ticker\":{\"type\":\"BasicTicker\",\"id\":\"501a762b-db7b-45f3-c501-f10d07a84a3f\"},\"id\":\"b9354458-7de5-48e8-c8f3-286c89712112\",\"doc\":null,\"tags\":[]}},{\"id\":\"737622ab-38f2-42a5-c2ad-71a540fe786f\",\"type\":\"BasicTickFormatter\",\"attributes\":{\"id\":\"737622ab-38f2-42a5-c2ad-71a540fe786f\",\"tags\":[],\"doc\":null}},{\"id\":\"afbcdeba-ac1a-46f9-c6b9-f5b4245e605a\",\"type\":\"BasicTicker\",\"attributes\":{\"num_minor_ticks\":5,\"id\":\"afbcdeba-ac1a-46f9-c6b9-f5b4245e605a\",\"tags\":[],\"doc\":null}},{\"id\":\"1a3020f7-c273-41e8-c11a-50e72d534ade\",\"type\":\"LinearAxis\",\"attributes\":{\"formatter\":{\"type\":\"BasicTickFormatter\",\"id\":\"737622ab-38f2-42a5-c2ad-71a540fe786f\"},\"ticker\":{\"type\":\"BasicTicker\",\"id\":\"afbcdeba-ac1a-46f9-c6b9-f5b4245e605a\"},\"plot\":{\"id\":\"a8d35f73-7e46-47d0-c745-12355378a481\",\"type\":\"Plot\",\"subtype\":\"Figure\"},\"axis_label\":null,\"id\":\"1a3020f7-c273-41e8-c11a-50e72d534ade\",\"doc\":null,\"tags\":[]}},{\"id\":\"31d61ff2-33fc-4556-c582-e83c5eabedbc\",\"type\":\"Grid\",\"attributes\":{\"dimension\":1,\"plot\":{\"id\":\"a8d35f73-7e46-47d0-c745-12355378a481\",\"type\":\"Plot\",\"subtype\":\"Figure\"},\"ticker\":{\"type\":\"BasicTicker\",\"id\":\"afbcdeba-ac1a-46f9-c6b9-f5b4245e605a\"},\"id\":\"31d61ff2-33fc-4556-c582-e83c5eabedbc\",\"doc\":null,\"tags\":[]}},{\"id\":\"8bbbdfae-44ed-424d-c202-5ea5efa12d49\",\"type\":\"PanTool\",\"attributes\":{\"plot\":{\"id\":\"a8d35f73-7e46-47d0-c745-12355378a481\",\"type\":\"Plot\",\"subtype\":\"Figure\"},\"dimensions\":[\"width\",\"height\"],\"id\":\"8bbbdfae-44ed-424d-c202-5ea5efa12d49\",\"doc\":null,\"tags\":[]}},{\"id\":\"a13e6f48-b90e-48cf-c873-d61f7a72906a\",\"type\":\"WheelZoomTool\",\"attributes\":{\"plot\":{\"id\":\"a8d35f73-7e46-47d0-c745-12355378a481\",\"type\":\"Plot\",\"subtype\":\"Figure\"},\"dimensions\":[\"width\",\"height\"],\"id\":\"a13e6f48-b90e-48cf-c873-d61f7a72906a\",\"doc\":null,\"tags\":[]}},{\"id\":\"1924443a-7d74-40a9-c083-399c4a5da5ec\",\"type\":\"BoxZoomTool\",\"attributes\":{\"plot\":{\"id\":\"a8d35f73-7e46-47d0-c745-12355378a481\",\"type\":\"Plot\",\"subtype\":\"Figure\"},\"id\":\"1924443a-7d74-40a9-c083-399c4a5da5ec\",\"tags\":[],\"doc\":null}},{\"id\":\"4be82733-dfe5-46f9-c61f-425a078d62c7\",\"type\":\"PreviewSaveTool\",\"attributes\":{\"plot\":{\"id\":\"a8d35f73-7e46-47d0-c745-12355378a481\",\"type\":\"Plot\",\"subtype\":\"Figure\"},\"id\":\"4be82733-dfe5-46f9-c61f-425a078d62c7\",\"tags\":[],\"doc\":null}},{\"id\":\"9f49a7f6-370c-4d51-cdac-5fa4d5a05a66\",\"type\":\"ResizeTool\",\"attributes\":{\"plot\":{\"id\":\"a8d35f73-7e46-47d0-c745-12355378a481\",\"type\":\"Plot\",\"subtype\":\"Figure\"},\"id\":\"9f49a7f6-370c-4d51-cdac-5fa4d5a05a66\",\"tags\":[],\"doc\":null}},{\"id\":\"7ef55dee-10cc-4343-c36f-3cc4748e5a44\",\"type\":\"ResetTool\",\"attributes\":{\"plot\":{\"id\":\"a8d35f73-7e46-47d0-c745-12355378a481\",\"type\":\"Plot\",\"subtype\":\"Figure\"},\"id\":\"7ef55dee-10cc-4343-c36f-3cc4748e5a44\",\"tags\":[],\"doc\":null}},{\"id\":\"a8d35f73-7e46-47d0-c745-12355378a481\",\"type\":\"Plot\",\"attributes\":{\"x_range\":{\"type\":\"DataRange1d\",\"id\":\"9838209d-6913-4e93-cec6-614b10a68cc4\"},\"tool_events\":{\"type\":\"ToolEvents\",\"id\":\"71862b9b-f706-4dcc-cdca-e683f7529922\"},\"below\":[{\"type\":\"LinearAxis\",\"id\":\"9019d338-5ccf-41b1-c129-7e69b452b0ef\"}],\"renderers\":[{\"type\":\"GlyphRenderer\",\"id\":\"ed08a2d8-1bea-4094-c0c8-6a7a2ad19343\"},{\"type\":\"GlyphRenderer\",\"id\":\"b2295708-be26-45e0-c5af-11dc64d1053e\"},{\"type\":\"LinearAxis\",\"id\":\"9019d338-5ccf-41b1-c129-7e69b452b0ef\"},{\"type\":\"Grid\",\"id\":\"b9354458-7de5-48e8-c8f3-286c89712112\"},{\"type\":\"LinearAxis\",\"id\":\"1a3020f7-c273-41e8-c11a-50e72d534ade\"},{\"type\":\"Grid\",\"id\":\"31d61ff2-33fc-4556-c582-e83c5eabedbc\"}],\"above\":[],\"tools\":[{\"type\":\"PanTool\",\"id\":\"8bbbdfae-44ed-424d-c202-5ea5efa12d49\"},{\"type\":\"WheelZoomTool\",\"id\":\"a13e6f48-b90e-48cf-c873-d61f7a72906a\"},{\"type\":\"BoxZoomTool\",\"id\":\"1924443a-7d74-40a9-c083-399c4a5da5ec\"},{\"type\":\"PreviewSaveTool\",\"id\":\"4be82733-dfe5-46f9-c61f-425a078d62c7\"},{\"type\":\"ResizeTool\",\"id\":\"9f49a7f6-370c-4d51-cdac-5fa4d5a05a66\"},{\"type\":\"ResetTool\",\"id\":\"7ef55dee-10cc-4343-c36f-3cc4748e5a44\"}],\"doc\":null,\"right\":[],\"title\":\"Scatter Plot Demo\",\"extra_x_ranges\":{},\"left\":[{\"type\":\"LinearAxis\",\"id\":\"1a3020f7-c273-41e8-c11a-50e72d534ade\"}],\"y_range\":{\"type\":\"DataRange1d\",\"id\":\"9971bd1b-e191-473b-c7fa-f68d23a5e844\"},\"id\":\"a8d35f73-7e46-47d0-c745-12355378a481\",\"extra_y_ranges\":{},\"tags\":[]}}];\n",
       "      Bokeh.load_models(all_models);\n",
       "      var model = Bokeh.Collections(modeltype).get(modelid);\n",
       "      $(\"#6fe089f7-ffa6-48d7-c896-c9d919776e45\").html(''); // clear any previous plot in window_id\n",
       "      var view = new model.default_view({model: model, el: \"#6fe089f7-ffa6-48d7-c896-c9d919776e45\"});\n",
       "  });\n",
       "    }\n",
       "});\n",
       "</script>\n",
       "<div class=\"plotdiv\" id=\"4410500b-594a-4260-c299-d007c1b6674a\"></div>\n"
      ]
     },
     "metadata": {},
     "output_type": "display_data"
    },
    {
     "data": {
      "text/html": [
       "<script type=\"text/javascript\">\n",
       "$(function() {\n",
       "    if (typeof (window._bokeh_onload_callbacks) === \"undefined\"){\n",
       "  window._bokeh_onload_callbacks = [];\n",
       "    }\n",
       "    function load_lib(url, callback){\n",
       "  window._bokeh_onload_callbacks.push(callback);\n",
       "  if (window._bokeh_is_loading){\n",
       "      console.log(\"Bokeh: BokehJS is being loaded, scheduling callback at\", new Date());\n",
       "      return null;\n",
       "  }\n",
       "  console.log(\"Bokeh: BokehJS not loaded, scheduling load and callback at\", new Date());\n",
       "  window._bokeh_is_loading = true;\n",
       "  var s = document.createElement('script');\n",
       "  s.src = url;\n",
       "  s.async = true;\n",
       "  s.onreadystatechange = s.onload = function(){\n",
       "      Bokeh.embed.inject_css(\"https://cdn.pydata.org/bokeh-0.7.0.min.css\");\n",
       "      window._bokeh_onload_callbacks.forEach(function(callback){callback()});\n",
       "  };\n",
       "  s.onerror = function(){\n",
       "      console.warn(\"failed to load library \" + url);\n",
       "  };\n",
       "  document.getElementsByTagName(\"head\")[0].appendChild(s);\n",
       "    }\n",
       "\n",
       "    bokehjs_url = \"https://cdn.pydata.org/bokeh-0.7.0.min.js\"\n",
       "\n",
       "    var elt = document.getElementById(\"6fe089f7-ffa6-48d7-c896-c9d919776e45\");\n",
       "    if(elt==null) {\n",
       "  console.log(\"Bokeh: ERROR: autoload.js configured with elementid '6fe089f7-ffa6-48d7-c896-c9d919776e45'\"\n",
       "        + \"but no matching script tag was found. \")\n",
       "  return false;\n",
       "    }\n",
       "\n",
       "    if(typeof(Bokeh) !== \"undefined\") {\n",
       "  console.log(\"Bokeh: BokehJS loaded, going straight to plotting\");\n",
       "  var modelid = \"7d38eca9-7354-4a18-cab4-f927f79f5df6\";\n",
       "  var modeltype = \"Plot\";\n",
       "  var all_models = [{\"id\":\"edee0e45-41e3-4f96-cfc0-0065199c5653\",\"type\":\"ColumnDataSource\",\"attributes\":{\"data\":{\"y\":[0.88115509528668,0.69837303561268,0.56696499901066,0.46688479184582,0.38752801080999,0.3228146710333,0.26903914855366,0.22382410200058,0.18556829516381,0.1531365992012,0.12567838533046,0.10251876584429,0.083093531594862,0.06691128307267,0.053532660741706,0.042560075871302,0.033633460328123,0.026428996434398,0.020658859334819,0.016070820527106,0.012447163516976,0.0096027736172545,0.0073825107230671,0.0056580916427764,0.0043247359291392,0.0032978020266883,0.002509587628065,0.0019064093112199,0.0014460235293103,0.0010954092086395,0.00082890270364251,0.00062665740509682,0.00047339061633272,0.00035737694913956,0.00026964827414118,0.0002033634758683,0.00015331567109479,0.00011554932156892,8.7064300477019e-05,6.5588177771e-05,4.9401649860253e-05,3.7205128281341e-05,2.8017049852863e-05,2.1096535626127e-05,1.5884676290581e-05,1.1960026343211e-05,9.004911600306e-06,6.7799498970542e-06,5.1047998696831e-06,3.8436260993564e-06,2.8941318042807e-06,2.1792875705084e-06,1.6410959328017e-06,1.2358922952577e-06,9.3080462764022e-07,7.0108678237805e-07,5.281102146564e-07,3.978517630309e-07,2.9975508866507e-07,2.2587352009362e-07,1.7022479458337e-07,1.2830533700105e-07,9.6724643531604e-08,7.2930077535517e-08,5.4999721881705e-08,4.1486457855458e-08,3.1300601673064e-08,2.3621562402378e-08,1.7831343502424e-08,1.346448550672e-08,1.0170383668727e-08,7.6849201782885e-09,5.8091075654352e-09,4.3930096520099e-09,3.3236352155562e-09,2.5158222525261e-09,1.9053736170978e-09,1.4438876147658e-09,1.0948647152039e-09,8.3077510136624e-10,6.3084971301551e-10,4.794161078766e-10,3.6464462137362e-10,2.776035454274e-10,2.1154706778276e-10,1.6137854974289e-10,1.2324590032287e-10,9.4236480982838e-11,7.2147013247405e-11,5.5310013873065e-11,4.2462839744928e-11,3.264885685373e-11,2.514283244834e-11,1.9394596345597e-11,1.4986483858128e-11,1.1601177560788e-11,8.9973974767976e-12,6.9915164440698e-12,5.4436500810474e-12,4.2471270421778e-12],\"x\":[1,2,3,4,5,6,7,8,9,10,11,12,13,14,15,16,17,18,19,20,21,22,23,24,25,26,27,28,29,30,31,32,33,34,35,36,37,38,39,40,41,42,43,44,45,46,47,48,49,50,51,52,53,54,55,56,57,58,59,60,61,62,63,64,65,66,67,68,69,70,71,72,73,74,75,76,77,78,79,80,81,82,83,84,85,86,87,88,89,90,91,92,93,94,95,96,97,98,99,100]},\"column_names\":[\"y\",\"x\"],\"cont_ranges\":{},\"discrete_ranges\":{},\"selected\":[],\"id\":\"edee0e45-41e3-4f96-cfc0-0065199c5653\",\"doc\":null,\"tags\":[]}},{\"id\":\"5b541537-209c-4355-c30b-04b0e6b18aed\",\"type\":\"Circle\",\"attributes\":{\"fill_alpha\":{\"units\":\"data\",\"value\":0.2},\"line_alpha\":{\"units\":\"data\",\"value\":1},\"doc\":null,\"size\":{\"units\":\"screen\",\"value\":10},\"fill_color\":{\"value\":\"red\"},\"line_color\":{\"value\":\"red\"},\"x\":{\"units\":\"data\",\"field\":\"x\"},\"id\":\"5b541537-209c-4355-c30b-04b0e6b18aed\",\"y\":{\"units\":\"data\",\"field\":\"y\"},\"tags\":[]}},{\"id\":\"ef1862e8-d817-4ef6-ce38-243690b2c51c\",\"type\":\"Circle\",\"attributes\":{\"fill_alpha\":{\"units\":\"data\",\"value\":0.2},\"line_alpha\":{\"units\":\"data\",\"value\":1},\"doc\":null,\"size\":{\"units\":\"screen\",\"value\":10},\"fill_color\":{\"value\":\"red\"},\"line_color\":{\"value\":\"red\"},\"x\":{\"units\":\"data\",\"field\":\"x\"},\"id\":\"ef1862e8-d817-4ef6-ce38-243690b2c51c\",\"y\":{\"units\":\"data\",\"field\":\"y\"},\"tags\":[]}},{\"id\":\"1850b5b4-bd28-4c8e-ccbb-88663170df22\",\"type\":\"GlyphRenderer\",\"attributes\":{\"name\":null,\"nonselection_glyph\":{\"type\":\"Circle\",\"id\":\"ef1862e8-d817-4ef6-ce38-243690b2c51c\"},\"doc\":null,\"server_data_source\":null,\"data_source\":{\"type\":\"ColumnDataSource\",\"id\":\"edee0e45-41e3-4f96-cfc0-0065199c5653\"},\"glyph\":{\"type\":\"Circle\",\"id\":\"5b541537-209c-4355-c30b-04b0e6b18aed\"},\"selection_glyph\":null,\"id\":\"1850b5b4-bd28-4c8e-ccbb-88663170df22\",\"tags\":[]}},{\"id\":\"3efb3740-2efd-41cd-c1c4-2a22dbfa5deb\",\"type\":\"ColumnDataSource\",\"attributes\":{\"data\":{\"y\":[0.88115509528668,0.69837303561268,0.56696499901066,0.46688479184582,0.38752801080999,0.3228146710333,0.26903914855366,0.22382410200058,0.18556829516381,0.1531365992012,0.12567838533046,0.10251876584429,0.083093531594862,0.06691128307267,0.053532660741706,0.042560075871302,0.033633460328123,0.026428996434398,0.020658859334819,0.016070820527106,0.012447163516976,0.0096027736172545,0.0073825107230671,0.0056580916427764,0.0043247359291392,0.0032978020266883,0.002509587628065,0.0019064093112199,0.0014460235293103,0.0010954092086395,0.00082890270364251,0.00062665740509682,0.00047339061633272,0.00035737694913956,0.00026964827414118,0.0002033634758683,0.00015331567109479,0.00011554932156892,8.7064300477019e-05,6.5588177771e-05,4.9401649860253e-05,3.7205128281341e-05,2.8017049852863e-05,2.1096535626127e-05,1.5884676290581e-05,1.1960026343211e-05,9.004911600306e-06,6.7799498970542e-06,5.1047998696831e-06,3.8436260993564e-06,2.8941318042807e-06,2.1792875705084e-06,1.6410959328017e-06,1.2358922952577e-06,9.3080462764022e-07,7.0108678237805e-07,5.281102146564e-07,3.978517630309e-07,2.9975508866507e-07,2.2587352009362e-07,1.7022479458337e-07,1.2830533700105e-07,9.6724643531604e-08,7.2930077535517e-08,5.4999721881705e-08,4.1486457855458e-08,3.1300601673064e-08,2.3621562402378e-08,1.7831343502424e-08,1.346448550672e-08,1.0170383668727e-08,7.6849201782885e-09,5.8091075654352e-09,4.3930096520099e-09,3.3236352155562e-09,2.5158222525261e-09,1.9053736170978e-09,1.4438876147658e-09,1.0948647152039e-09,8.3077510136624e-10,6.3084971301551e-10,4.794161078766e-10,3.6464462137362e-10,2.776035454274e-10,2.1154706778276e-10,1.6137854974289e-10,1.2324590032287e-10,9.4236480982838e-11,7.2147013247405e-11,5.5310013873065e-11,4.2462839744928e-11,3.264885685373e-11,2.514283244834e-11,1.9394596345597e-11,1.4986483858128e-11,1.1601177560788e-11,8.9973974767976e-12,6.9915164440698e-12,5.4436500810474e-12,4.2471270421778e-12],\"x\":[1,2,3,4,5,6,7,8,9,10,11,12,13,14,15,16,17,18,19,20,21,22,23,24,25,26,27,28,29,30,31,32,33,34,35,36,37,38,39,40,41,42,43,44,45,46,47,48,49,50,51,52,53,54,55,56,57,58,59,60,61,62,63,64,65,66,67,68,69,70,71,72,73,74,75,76,77,78,79,80,81,82,83,84,85,86,87,88,89,90,91,92,93,94,95,96,97,98,99,100]},\"column_names\":[\"y\",\"x\"],\"cont_ranges\":{},\"discrete_ranges\":{},\"selected\":[],\"id\":\"3efb3740-2efd-41cd-c1c4-2a22dbfa5deb\",\"doc\":null,\"tags\":[]}},{\"id\":\"4d5b1239-e87c-400b-c070-75a00c045425\",\"type\":\"Line\",\"attributes\":{\"fill_alpha\":{\"units\":\"data\",\"value\":0.2},\"line_alpha\":{\"units\":\"data\",\"value\":1},\"doc\":null,\"size\":{\"units\":\"screen\",\"value\":10},\"fill_color\":{\"value\":\"red\"},\"line_color\":{\"value\":\"red\"},\"x\":{\"units\":\"data\",\"field\":\"x\"},\"id\":\"4d5b1239-e87c-400b-c070-75a00c045425\",\"y\":{\"units\":\"data\",\"field\":\"y\"},\"tags\":[]}},{\"id\":\"23dd3ad4-b99c-4bd1-cbef-cc76f28528e7\",\"type\":\"Line\",\"attributes\":{\"fill_alpha\":{\"units\":\"data\",\"value\":0.2},\"line_alpha\":{\"units\":\"data\",\"value\":1},\"doc\":null,\"size\":{\"units\":\"screen\",\"value\":10},\"fill_color\":{\"value\":\"red\"},\"line_color\":{\"value\":\"red\"},\"x\":{\"units\":\"data\",\"field\":\"x\"},\"id\":\"23dd3ad4-b99c-4bd1-cbef-cc76f28528e7\",\"y\":{\"units\":\"data\",\"field\":\"y\"},\"tags\":[]}},{\"id\":\"997b66ce-d46d-4b39-cb6a-fa57e055ad46\",\"type\":\"GlyphRenderer\",\"attributes\":{\"name\":null,\"nonselection_glyph\":{\"type\":\"Line\",\"id\":\"23dd3ad4-b99c-4bd1-cbef-cc76f28528e7\"},\"doc\":null,\"server_data_source\":null,\"data_source\":{\"type\":\"ColumnDataSource\",\"id\":\"3efb3740-2efd-41cd-c1c4-2a22dbfa5deb\"},\"glyph\":{\"type\":\"Line\",\"id\":\"4d5b1239-e87c-400b-c070-75a00c045425\"},\"selection_glyph\":null,\"id\":\"997b66ce-d46d-4b39-cb6a-fa57e055ad46\",\"tags\":[]}},{\"id\":\"8f866845-095d-42da-c2b3-3106c3d79268\",\"type\":\"DataRange1d\",\"attributes\":{\"sources\":[{\"columns\":[\"x\"],\"source\":{\"type\":\"ColumnDataSource\",\"id\":\"edee0e45-41e3-4f96-cfc0-0065199c5653\"}},{\"columns\":[\"x\"],\"source\":{\"type\":\"ColumnDataSource\",\"id\":\"3efb3740-2efd-41cd-c1c4-2a22dbfa5deb\"}}],\"id\":\"8f866845-095d-42da-c2b3-3106c3d79268\",\"tags\":[],\"doc\":null}},{\"id\":\"8af59fe1-f2b8-430f-c33a-1c6b3b747dda\",\"type\":\"DataRange1d\",\"attributes\":{\"sources\":[{\"columns\":[\"y\"],\"source\":{\"type\":\"ColumnDataSource\",\"id\":\"edee0e45-41e3-4f96-cfc0-0065199c5653\"}},{\"columns\":[\"y\"],\"source\":{\"type\":\"ColumnDataSource\",\"id\":\"3efb3740-2efd-41cd-c1c4-2a22dbfa5deb\"}}],\"id\":\"8af59fe1-f2b8-430f-c33a-1c6b3b747dda\",\"tags\":[],\"doc\":null}},{\"id\":\"f1bc7445-8546-4fca-cff2-aaf3088d6984\",\"type\":\"ToolEvents\",\"attributes\":{\"tags\":[],\"id\":\"f1bc7445-8546-4fca-cff2-aaf3088d6984\",\"geometries\":[],\"doc\":null}},{\"id\":\"c3ad9503-748a-4b17-cb52-dadc96b712d5\",\"type\":\"BasicTickFormatter\",\"attributes\":{\"id\":\"c3ad9503-748a-4b17-cb52-dadc96b712d5\",\"tags\":[],\"doc\":null}},{\"id\":\"d98c2523-7fe2-47c8-c7c3-ce1d38c863f2\",\"type\":\"BasicTicker\",\"attributes\":{\"num_minor_ticks\":5,\"id\":\"d98c2523-7fe2-47c8-c7c3-ce1d38c863f2\",\"tags\":[],\"doc\":null}},{\"id\":\"711ed1ee-a714-4e9a-ce83-d04af4a16aa0\",\"type\":\"LinearAxis\",\"attributes\":{\"formatter\":{\"type\":\"BasicTickFormatter\",\"id\":\"c3ad9503-748a-4b17-cb52-dadc96b712d5\"},\"ticker\":{\"type\":\"BasicTicker\",\"id\":\"d98c2523-7fe2-47c8-c7c3-ce1d38c863f2\"},\"plot\":{\"id\":\"7d38eca9-7354-4a18-cab4-f927f79f5df6\",\"type\":\"Plot\",\"subtype\":\"Figure\"},\"axis_label\":\"Iterations\",\"id\":\"711ed1ee-a714-4e9a-ce83-d04af4a16aa0\",\"doc\":null,\"tags\":[]}},{\"id\":\"f3d0f92f-9eb5-4cf2-cc1a-9d15b70be901\",\"type\":\"Grid\",\"attributes\":{\"dimension\":0,\"plot\":{\"id\":\"7d38eca9-7354-4a18-cab4-f927f79f5df6\",\"type\":\"Plot\",\"subtype\":\"Figure\"},\"ticker\":{\"type\":\"BasicTicker\",\"id\":\"d98c2523-7fe2-47c8-c7c3-ce1d38c863f2\"},\"id\":\"f3d0f92f-9eb5-4cf2-cc1a-9d15b70be901\",\"doc\":null,\"tags\":[]}},{\"id\":\"bf19d99d-1622-43b6-c3f9-a7ac22cca472\",\"type\":\"BasicTickFormatter\",\"attributes\":{\"id\":\"bf19d99d-1622-43b6-c3f9-a7ac22cca472\",\"tags\":[],\"doc\":null}},{\"id\":\"5de9ec73-2de4-4a1f-ca56-2c7f75e1f85a\",\"type\":\"BasicTicker\",\"attributes\":{\"num_minor_ticks\":5,\"id\":\"5de9ec73-2de4-4a1f-ca56-2c7f75e1f85a\",\"tags\":[],\"doc\":null}},{\"id\":\"77038708-36f0-4953-c9bd-2bb7622f220f\",\"type\":\"LinearAxis\",\"attributes\":{\"formatter\":{\"type\":\"BasicTickFormatter\",\"id\":\"bf19d99d-1622-43b6-c3f9-a7ac22cca472\"},\"ticker\":{\"type\":\"BasicTicker\",\"id\":\"5de9ec73-2de4-4a1f-ca56-2c7f75e1f85a\"},\"plot\":{\"id\":\"7d38eca9-7354-4a18-cab4-f927f79f5df6\",\"type\":\"Plot\",\"subtype\":\"Figure\"},\"axis_label\":\"Negative Log-Likelihood\",\"id\":\"77038708-36f0-4953-c9bd-2bb7622f220f\",\"doc\":null,\"tags\":[]}},{\"id\":\"ad5a780c-c981-44bc-c41a-a8bbf0b2f1aa\",\"type\":\"Grid\",\"attributes\":{\"dimension\":1,\"plot\":{\"id\":\"7d38eca9-7354-4a18-cab4-f927f79f5df6\",\"type\":\"Plot\",\"subtype\":\"Figure\"},\"ticker\":{\"type\":\"BasicTicker\",\"id\":\"5de9ec73-2de4-4a1f-ca56-2c7f75e1f85a\"},\"id\":\"ad5a780c-c981-44bc-c41a-a8bbf0b2f1aa\",\"doc\":null,\"tags\":[]}},{\"id\":\"08df9e21-e119-4666-c62e-a8af121e4cb3\",\"type\":\"PanTool\",\"attributes\":{\"plot\":{\"id\":\"7d38eca9-7354-4a18-cab4-f927f79f5df6\",\"type\":\"Plot\",\"subtype\":\"Figure\"},\"dimensions\":[\"width\",\"height\"],\"id\":\"08df9e21-e119-4666-c62e-a8af121e4cb3\",\"doc\":null,\"tags\":[]}},{\"id\":\"1ff9411d-bea5-4b87-cbd9-73aba699b6fc\",\"type\":\"WheelZoomTool\",\"attributes\":{\"plot\":{\"id\":\"7d38eca9-7354-4a18-cab4-f927f79f5df6\",\"type\":\"Plot\",\"subtype\":\"Figure\"},\"dimensions\":[\"width\",\"height\"],\"id\":\"1ff9411d-bea5-4b87-cbd9-73aba699b6fc\",\"doc\":null,\"tags\":[]}},{\"id\":\"002ca60b-4439-4a38-ca03-fde1ffd2e8f0\",\"type\":\"BoxZoomTool\",\"attributes\":{\"plot\":{\"id\":\"7d38eca9-7354-4a18-cab4-f927f79f5df6\",\"type\":\"Plot\",\"subtype\":\"Figure\"},\"id\":\"002ca60b-4439-4a38-ca03-fde1ffd2e8f0\",\"tags\":[],\"doc\":null}},{\"id\":\"19674bc9-63d9-4c1a-cc84-dd2271f5aaeb\",\"type\":\"PreviewSaveTool\",\"attributes\":{\"plot\":{\"id\":\"7d38eca9-7354-4a18-cab4-f927f79f5df6\",\"type\":\"Plot\",\"subtype\":\"Figure\"},\"id\":\"19674bc9-63d9-4c1a-cc84-dd2271f5aaeb\",\"tags\":[],\"doc\":null}},{\"id\":\"ced331e3-8aec-43d8-c3ee-677420e3d823\",\"type\":\"ResizeTool\",\"attributes\":{\"plot\":{\"id\":\"7d38eca9-7354-4a18-cab4-f927f79f5df6\",\"type\":\"Plot\",\"subtype\":\"Figure\"},\"id\":\"ced331e3-8aec-43d8-c3ee-677420e3d823\",\"tags\":[],\"doc\":null}},{\"id\":\"11a4ae1a-cc62-43ff-c3e7-16d50039eca9\",\"type\":\"ResetTool\",\"attributes\":{\"plot\":{\"id\":\"7d38eca9-7354-4a18-cab4-f927f79f5df6\",\"type\":\"Plot\",\"subtype\":\"Figure\"},\"id\":\"11a4ae1a-cc62-43ff-c3e7-16d50039eca9\",\"tags\":[],\"doc\":null}},{\"id\":\"7d38eca9-7354-4a18-cab4-f927f79f5df6\",\"type\":\"Plot\",\"attributes\":{\"x_range\":{\"type\":\"DataRange1d\",\"id\":\"8f866845-095d-42da-c2b3-3106c3d79268\"},\"tool_events\":{\"type\":\"ToolEvents\",\"id\":\"f1bc7445-8546-4fca-cff2-aaf3088d6984\"},\"below\":[{\"type\":\"LinearAxis\",\"id\":\"711ed1ee-a714-4e9a-ce83-d04af4a16aa0\"}],\"renderers\":[{\"type\":\"GlyphRenderer\",\"id\":\"1850b5b4-bd28-4c8e-ccbb-88663170df22\"},{\"type\":\"GlyphRenderer\",\"id\":\"997b66ce-d46d-4b39-cb6a-fa57e055ad46\"},{\"type\":\"LinearAxis\",\"id\":\"711ed1ee-a714-4e9a-ce83-d04af4a16aa0\"},{\"type\":\"Grid\",\"id\":\"f3d0f92f-9eb5-4cf2-cc1a-9d15b70be901\"},{\"type\":\"LinearAxis\",\"id\":\"77038708-36f0-4953-c9bd-2bb7622f220f\"},{\"type\":\"Grid\",\"id\":\"ad5a780c-c981-44bc-c41a-a8bbf0b2f1aa\"}],\"above\":[],\"tools\":[{\"type\":\"PanTool\",\"id\":\"08df9e21-e119-4666-c62e-a8af121e4cb3\"},{\"type\":\"WheelZoomTool\",\"id\":\"1ff9411d-bea5-4b87-cbd9-73aba699b6fc\"},{\"type\":\"BoxZoomTool\",\"id\":\"002ca60b-4439-4a38-ca03-fde1ffd2e8f0\"},{\"type\":\"PreviewSaveTool\",\"id\":\"19674bc9-63d9-4c1a-cc84-dd2271f5aaeb\"},{\"type\":\"ResizeTool\",\"id\":\"ced331e3-8aec-43d8-c3ee-677420e3d823\"},{\"type\":\"ResetTool\",\"id\":\"11a4ae1a-cc62-43ff-c3e7-16d50039eca9\"}],\"doc\":null,\"right\":[],\"title\":\"Scatter Plot Demo\",\"extra_x_ranges\":{},\"left\":[{\"type\":\"LinearAxis\",\"id\":\"77038708-36f0-4953-c9bd-2bb7622f220f\"}],\"y_range\":{\"type\":\"DataRange1d\",\"id\":\"8af59fe1-f2b8-430f-c33a-1c6b3b747dda\"},\"id\":\"7d38eca9-7354-4a18-cab4-f927f79f5df6\",\"extra_y_ranges\":{},\"tags\":[]}}];\n",
       "  Bokeh.load_models(all_models);\n",
       "  var model = Bokeh.Collections(modeltype).get(modelid);\n",
       "  $(\"#6fe089f7-ffa6-48d7-c896-c9d919776e45\").html(''); // clear any previous plot in window_id\n",
       "  var view = new model.default_view({model: model, el: \"#6fe089f7-ffa6-48d7-c896-c9d919776e45\"});\n",
       "    } else {\n",
       "  load_lib(bokehjs_url, function() {\n",
       "      console.log(\"Bokeh: BokehJS plotting callback run at\", new Date())\n",
       "      var modelid = \"7d38eca9-7354-4a18-cab4-f927f79f5df6\";\n",
       "      var modeltype = \"Plot\";\n",
       "      var all_models = [{\"id\":\"edee0e45-41e3-4f96-cfc0-0065199c5653\",\"type\":\"ColumnDataSource\",\"attributes\":{\"data\":{\"y\":[0.88115509528668,0.69837303561268,0.56696499901066,0.46688479184582,0.38752801080999,0.3228146710333,0.26903914855366,0.22382410200058,0.18556829516381,0.1531365992012,0.12567838533046,0.10251876584429,0.083093531594862,0.06691128307267,0.053532660741706,0.042560075871302,0.033633460328123,0.026428996434398,0.020658859334819,0.016070820527106,0.012447163516976,0.0096027736172545,0.0073825107230671,0.0056580916427764,0.0043247359291392,0.0032978020266883,0.002509587628065,0.0019064093112199,0.0014460235293103,0.0010954092086395,0.00082890270364251,0.00062665740509682,0.00047339061633272,0.00035737694913956,0.00026964827414118,0.0002033634758683,0.00015331567109479,0.00011554932156892,8.7064300477019e-05,6.5588177771e-05,4.9401649860253e-05,3.7205128281341e-05,2.8017049852863e-05,2.1096535626127e-05,1.5884676290581e-05,1.1960026343211e-05,9.004911600306e-06,6.7799498970542e-06,5.1047998696831e-06,3.8436260993564e-06,2.8941318042807e-06,2.1792875705084e-06,1.6410959328017e-06,1.2358922952577e-06,9.3080462764022e-07,7.0108678237805e-07,5.281102146564e-07,3.978517630309e-07,2.9975508866507e-07,2.2587352009362e-07,1.7022479458337e-07,1.2830533700105e-07,9.6724643531604e-08,7.2930077535517e-08,5.4999721881705e-08,4.1486457855458e-08,3.1300601673064e-08,2.3621562402378e-08,1.7831343502424e-08,1.346448550672e-08,1.0170383668727e-08,7.6849201782885e-09,5.8091075654352e-09,4.3930096520099e-09,3.3236352155562e-09,2.5158222525261e-09,1.9053736170978e-09,1.4438876147658e-09,1.0948647152039e-09,8.3077510136624e-10,6.3084971301551e-10,4.794161078766e-10,3.6464462137362e-10,2.776035454274e-10,2.1154706778276e-10,1.6137854974289e-10,1.2324590032287e-10,9.4236480982838e-11,7.2147013247405e-11,5.5310013873065e-11,4.2462839744928e-11,3.264885685373e-11,2.514283244834e-11,1.9394596345597e-11,1.4986483858128e-11,1.1601177560788e-11,8.9973974767976e-12,6.9915164440698e-12,5.4436500810474e-12,4.2471270421778e-12],\"x\":[1,2,3,4,5,6,7,8,9,10,11,12,13,14,15,16,17,18,19,20,21,22,23,24,25,26,27,28,29,30,31,32,33,34,35,36,37,38,39,40,41,42,43,44,45,46,47,48,49,50,51,52,53,54,55,56,57,58,59,60,61,62,63,64,65,66,67,68,69,70,71,72,73,74,75,76,77,78,79,80,81,82,83,84,85,86,87,88,89,90,91,92,93,94,95,96,97,98,99,100]},\"column_names\":[\"y\",\"x\"],\"cont_ranges\":{},\"discrete_ranges\":{},\"selected\":[],\"id\":\"edee0e45-41e3-4f96-cfc0-0065199c5653\",\"doc\":null,\"tags\":[]}},{\"id\":\"5b541537-209c-4355-c30b-04b0e6b18aed\",\"type\":\"Circle\",\"attributes\":{\"fill_alpha\":{\"units\":\"data\",\"value\":0.2},\"line_alpha\":{\"units\":\"data\",\"value\":1},\"doc\":null,\"size\":{\"units\":\"screen\",\"value\":10},\"fill_color\":{\"value\":\"red\"},\"line_color\":{\"value\":\"red\"},\"x\":{\"units\":\"data\",\"field\":\"x\"},\"id\":\"5b541537-209c-4355-c30b-04b0e6b18aed\",\"y\":{\"units\":\"data\",\"field\":\"y\"},\"tags\":[]}},{\"id\":\"ef1862e8-d817-4ef6-ce38-243690b2c51c\",\"type\":\"Circle\",\"attributes\":{\"fill_alpha\":{\"units\":\"data\",\"value\":0.2},\"line_alpha\":{\"units\":\"data\",\"value\":1},\"doc\":null,\"size\":{\"units\":\"screen\",\"value\":10},\"fill_color\":{\"value\":\"red\"},\"line_color\":{\"value\":\"red\"},\"x\":{\"units\":\"data\",\"field\":\"x\"},\"id\":\"ef1862e8-d817-4ef6-ce38-243690b2c51c\",\"y\":{\"units\":\"data\",\"field\":\"y\"},\"tags\":[]}},{\"id\":\"1850b5b4-bd28-4c8e-ccbb-88663170df22\",\"type\":\"GlyphRenderer\",\"attributes\":{\"name\":null,\"nonselection_glyph\":{\"type\":\"Circle\",\"id\":\"ef1862e8-d817-4ef6-ce38-243690b2c51c\"},\"doc\":null,\"server_data_source\":null,\"data_source\":{\"type\":\"ColumnDataSource\",\"id\":\"edee0e45-41e3-4f96-cfc0-0065199c5653\"},\"glyph\":{\"type\":\"Circle\",\"id\":\"5b541537-209c-4355-c30b-04b0e6b18aed\"},\"selection_glyph\":null,\"id\":\"1850b5b4-bd28-4c8e-ccbb-88663170df22\",\"tags\":[]}},{\"id\":\"3efb3740-2efd-41cd-c1c4-2a22dbfa5deb\",\"type\":\"ColumnDataSource\",\"attributes\":{\"data\":{\"y\":[0.88115509528668,0.69837303561268,0.56696499901066,0.46688479184582,0.38752801080999,0.3228146710333,0.26903914855366,0.22382410200058,0.18556829516381,0.1531365992012,0.12567838533046,0.10251876584429,0.083093531594862,0.06691128307267,0.053532660741706,0.042560075871302,0.033633460328123,0.026428996434398,0.020658859334819,0.016070820527106,0.012447163516976,0.0096027736172545,0.0073825107230671,0.0056580916427764,0.0043247359291392,0.0032978020266883,0.002509587628065,0.0019064093112199,0.0014460235293103,0.0010954092086395,0.00082890270364251,0.00062665740509682,0.00047339061633272,0.00035737694913956,0.00026964827414118,0.0002033634758683,0.00015331567109479,0.00011554932156892,8.7064300477019e-05,6.5588177771e-05,4.9401649860253e-05,3.7205128281341e-05,2.8017049852863e-05,2.1096535626127e-05,1.5884676290581e-05,1.1960026343211e-05,9.004911600306e-06,6.7799498970542e-06,5.1047998696831e-06,3.8436260993564e-06,2.8941318042807e-06,2.1792875705084e-06,1.6410959328017e-06,1.2358922952577e-06,9.3080462764022e-07,7.0108678237805e-07,5.281102146564e-07,3.978517630309e-07,2.9975508866507e-07,2.2587352009362e-07,1.7022479458337e-07,1.2830533700105e-07,9.6724643531604e-08,7.2930077535517e-08,5.4999721881705e-08,4.1486457855458e-08,3.1300601673064e-08,2.3621562402378e-08,1.7831343502424e-08,1.346448550672e-08,1.0170383668727e-08,7.6849201782885e-09,5.8091075654352e-09,4.3930096520099e-09,3.3236352155562e-09,2.5158222525261e-09,1.9053736170978e-09,1.4438876147658e-09,1.0948647152039e-09,8.3077510136624e-10,6.3084971301551e-10,4.794161078766e-10,3.6464462137362e-10,2.776035454274e-10,2.1154706778276e-10,1.6137854974289e-10,1.2324590032287e-10,9.4236480982838e-11,7.2147013247405e-11,5.5310013873065e-11,4.2462839744928e-11,3.264885685373e-11,2.514283244834e-11,1.9394596345597e-11,1.4986483858128e-11,1.1601177560788e-11,8.9973974767976e-12,6.9915164440698e-12,5.4436500810474e-12,4.2471270421778e-12],\"x\":[1,2,3,4,5,6,7,8,9,10,11,12,13,14,15,16,17,18,19,20,21,22,23,24,25,26,27,28,29,30,31,32,33,34,35,36,37,38,39,40,41,42,43,44,45,46,47,48,49,50,51,52,53,54,55,56,57,58,59,60,61,62,63,64,65,66,67,68,69,70,71,72,73,74,75,76,77,78,79,80,81,82,83,84,85,86,87,88,89,90,91,92,93,94,95,96,97,98,99,100]},\"column_names\":[\"y\",\"x\"],\"cont_ranges\":{},\"discrete_ranges\":{},\"selected\":[],\"id\":\"3efb3740-2efd-41cd-c1c4-2a22dbfa5deb\",\"doc\":null,\"tags\":[]}},{\"id\":\"4d5b1239-e87c-400b-c070-75a00c045425\",\"type\":\"Line\",\"attributes\":{\"fill_alpha\":{\"units\":\"data\",\"value\":0.2},\"line_alpha\":{\"units\":\"data\",\"value\":1},\"doc\":null,\"size\":{\"units\":\"screen\",\"value\":10},\"fill_color\":{\"value\":\"red\"},\"line_color\":{\"value\":\"red\"},\"x\":{\"units\":\"data\",\"field\":\"x\"},\"id\":\"4d5b1239-e87c-400b-c070-75a00c045425\",\"y\":{\"units\":\"data\",\"field\":\"y\"},\"tags\":[]}},{\"id\":\"23dd3ad4-b99c-4bd1-cbef-cc76f28528e7\",\"type\":\"Line\",\"attributes\":{\"fill_alpha\":{\"units\":\"data\",\"value\":0.2},\"line_alpha\":{\"units\":\"data\",\"value\":1},\"doc\":null,\"size\":{\"units\":\"screen\",\"value\":10},\"fill_color\":{\"value\":\"red\"},\"line_color\":{\"value\":\"red\"},\"x\":{\"units\":\"data\",\"field\":\"x\"},\"id\":\"23dd3ad4-b99c-4bd1-cbef-cc76f28528e7\",\"y\":{\"units\":\"data\",\"field\":\"y\"},\"tags\":[]}},{\"id\":\"997b66ce-d46d-4b39-cb6a-fa57e055ad46\",\"type\":\"GlyphRenderer\",\"attributes\":{\"name\":null,\"nonselection_glyph\":{\"type\":\"Line\",\"id\":\"23dd3ad4-b99c-4bd1-cbef-cc76f28528e7\"},\"doc\":null,\"server_data_source\":null,\"data_source\":{\"type\":\"ColumnDataSource\",\"id\":\"3efb3740-2efd-41cd-c1c4-2a22dbfa5deb\"},\"glyph\":{\"type\":\"Line\",\"id\":\"4d5b1239-e87c-400b-c070-75a00c045425\"},\"selection_glyph\":null,\"id\":\"997b66ce-d46d-4b39-cb6a-fa57e055ad46\",\"tags\":[]}},{\"id\":\"8f866845-095d-42da-c2b3-3106c3d79268\",\"type\":\"DataRange1d\",\"attributes\":{\"sources\":[{\"columns\":[\"x\"],\"source\":{\"type\":\"ColumnDataSource\",\"id\":\"edee0e45-41e3-4f96-cfc0-0065199c5653\"}},{\"columns\":[\"x\"],\"source\":{\"type\":\"ColumnDataSource\",\"id\":\"3efb3740-2efd-41cd-c1c4-2a22dbfa5deb\"}}],\"id\":\"8f866845-095d-42da-c2b3-3106c3d79268\",\"tags\":[],\"doc\":null}},{\"id\":\"8af59fe1-f2b8-430f-c33a-1c6b3b747dda\",\"type\":\"DataRange1d\",\"attributes\":{\"sources\":[{\"columns\":[\"y\"],\"source\":{\"type\":\"ColumnDataSource\",\"id\":\"edee0e45-41e3-4f96-cfc0-0065199c5653\"}},{\"columns\":[\"y\"],\"source\":{\"type\":\"ColumnDataSource\",\"id\":\"3efb3740-2efd-41cd-c1c4-2a22dbfa5deb\"}}],\"id\":\"8af59fe1-f2b8-430f-c33a-1c6b3b747dda\",\"tags\":[],\"doc\":null}},{\"id\":\"f1bc7445-8546-4fca-cff2-aaf3088d6984\",\"type\":\"ToolEvents\",\"attributes\":{\"tags\":[],\"id\":\"f1bc7445-8546-4fca-cff2-aaf3088d6984\",\"geometries\":[],\"doc\":null}},{\"id\":\"c3ad9503-748a-4b17-cb52-dadc96b712d5\",\"type\":\"BasicTickFormatter\",\"attributes\":{\"id\":\"c3ad9503-748a-4b17-cb52-dadc96b712d5\",\"tags\":[],\"doc\":null}},{\"id\":\"d98c2523-7fe2-47c8-c7c3-ce1d38c863f2\",\"type\":\"BasicTicker\",\"attributes\":{\"num_minor_ticks\":5,\"id\":\"d98c2523-7fe2-47c8-c7c3-ce1d38c863f2\",\"tags\":[],\"doc\":null}},{\"id\":\"711ed1ee-a714-4e9a-ce83-d04af4a16aa0\",\"type\":\"LinearAxis\",\"attributes\":{\"formatter\":{\"type\":\"BasicTickFormatter\",\"id\":\"c3ad9503-748a-4b17-cb52-dadc96b712d5\"},\"ticker\":{\"type\":\"BasicTicker\",\"id\":\"d98c2523-7fe2-47c8-c7c3-ce1d38c863f2\"},\"plot\":{\"id\":\"7d38eca9-7354-4a18-cab4-f927f79f5df6\",\"type\":\"Plot\",\"subtype\":\"Figure\"},\"axis_label\":\"Iterations\",\"id\":\"711ed1ee-a714-4e9a-ce83-d04af4a16aa0\",\"doc\":null,\"tags\":[]}},{\"id\":\"f3d0f92f-9eb5-4cf2-cc1a-9d15b70be901\",\"type\":\"Grid\",\"attributes\":{\"dimension\":0,\"plot\":{\"id\":\"7d38eca9-7354-4a18-cab4-f927f79f5df6\",\"type\":\"Plot\",\"subtype\":\"Figure\"},\"ticker\":{\"type\":\"BasicTicker\",\"id\":\"d98c2523-7fe2-47c8-c7c3-ce1d38c863f2\"},\"id\":\"f3d0f92f-9eb5-4cf2-cc1a-9d15b70be901\",\"doc\":null,\"tags\":[]}},{\"id\":\"bf19d99d-1622-43b6-c3f9-a7ac22cca472\",\"type\":\"BasicTickFormatter\",\"attributes\":{\"id\":\"bf19d99d-1622-43b6-c3f9-a7ac22cca472\",\"tags\":[],\"doc\":null}},{\"id\":\"5de9ec73-2de4-4a1f-ca56-2c7f75e1f85a\",\"type\":\"BasicTicker\",\"attributes\":{\"num_minor_ticks\":5,\"id\":\"5de9ec73-2de4-4a1f-ca56-2c7f75e1f85a\",\"tags\":[],\"doc\":null}},{\"id\":\"77038708-36f0-4953-c9bd-2bb7622f220f\",\"type\":\"LinearAxis\",\"attributes\":{\"formatter\":{\"type\":\"BasicTickFormatter\",\"id\":\"bf19d99d-1622-43b6-c3f9-a7ac22cca472\"},\"ticker\":{\"type\":\"BasicTicker\",\"id\":\"5de9ec73-2de4-4a1f-ca56-2c7f75e1f85a\"},\"plot\":{\"id\":\"7d38eca9-7354-4a18-cab4-f927f79f5df6\",\"type\":\"Plot\",\"subtype\":\"Figure\"},\"axis_label\":\"Negative Log-Likelihood\",\"id\":\"77038708-36f0-4953-c9bd-2bb7622f220f\",\"doc\":null,\"tags\":[]}},{\"id\":\"ad5a780c-c981-44bc-c41a-a8bbf0b2f1aa\",\"type\":\"Grid\",\"attributes\":{\"dimension\":1,\"plot\":{\"id\":\"7d38eca9-7354-4a18-cab4-f927f79f5df6\",\"type\":\"Plot\",\"subtype\":\"Figure\"},\"ticker\":{\"type\":\"BasicTicker\",\"id\":\"5de9ec73-2de4-4a1f-ca56-2c7f75e1f85a\"},\"id\":\"ad5a780c-c981-44bc-c41a-a8bbf0b2f1aa\",\"doc\":null,\"tags\":[]}},{\"id\":\"08df9e21-e119-4666-c62e-a8af121e4cb3\",\"type\":\"PanTool\",\"attributes\":{\"plot\":{\"id\":\"7d38eca9-7354-4a18-cab4-f927f79f5df6\",\"type\":\"Plot\",\"subtype\":\"Figure\"},\"dimensions\":[\"width\",\"height\"],\"id\":\"08df9e21-e119-4666-c62e-a8af121e4cb3\",\"doc\":null,\"tags\":[]}},{\"id\":\"1ff9411d-bea5-4b87-cbd9-73aba699b6fc\",\"type\":\"WheelZoomTool\",\"attributes\":{\"plot\":{\"id\":\"7d38eca9-7354-4a18-cab4-f927f79f5df6\",\"type\":\"Plot\",\"subtype\":\"Figure\"},\"dimensions\":[\"width\",\"height\"],\"id\":\"1ff9411d-bea5-4b87-cbd9-73aba699b6fc\",\"doc\":null,\"tags\":[]}},{\"id\":\"002ca60b-4439-4a38-ca03-fde1ffd2e8f0\",\"type\":\"BoxZoomTool\",\"attributes\":{\"plot\":{\"id\":\"7d38eca9-7354-4a18-cab4-f927f79f5df6\",\"type\":\"Plot\",\"subtype\":\"Figure\"},\"id\":\"002ca60b-4439-4a38-ca03-fde1ffd2e8f0\",\"tags\":[],\"doc\":null}},{\"id\":\"19674bc9-63d9-4c1a-cc84-dd2271f5aaeb\",\"type\":\"PreviewSaveTool\",\"attributes\":{\"plot\":{\"id\":\"7d38eca9-7354-4a18-cab4-f927f79f5df6\",\"type\":\"Plot\",\"subtype\":\"Figure\"},\"id\":\"19674bc9-63d9-4c1a-cc84-dd2271f5aaeb\",\"tags\":[],\"doc\":null}},{\"id\":\"ced331e3-8aec-43d8-c3ee-677420e3d823\",\"type\":\"ResizeTool\",\"attributes\":{\"plot\":{\"id\":\"7d38eca9-7354-4a18-cab4-f927f79f5df6\",\"type\":\"Plot\",\"subtype\":\"Figure\"},\"id\":\"ced331e3-8aec-43d8-c3ee-677420e3d823\",\"tags\":[],\"doc\":null}},{\"id\":\"11a4ae1a-cc62-43ff-c3e7-16d50039eca9\",\"type\":\"ResetTool\",\"attributes\":{\"plot\":{\"id\":\"7d38eca9-7354-4a18-cab4-f927f79f5df6\",\"type\":\"Plot\",\"subtype\":\"Figure\"},\"id\":\"11a4ae1a-cc62-43ff-c3e7-16d50039eca9\",\"tags\":[],\"doc\":null}},{\"id\":\"7d38eca9-7354-4a18-cab4-f927f79f5df6\",\"type\":\"Plot\",\"attributes\":{\"x_range\":{\"type\":\"DataRange1d\",\"id\":\"8f866845-095d-42da-c2b3-3106c3d79268\"},\"tool_events\":{\"type\":\"ToolEvents\",\"id\":\"f1bc7445-8546-4fca-cff2-aaf3088d6984\"},\"below\":[{\"type\":\"LinearAxis\",\"id\":\"711ed1ee-a714-4e9a-ce83-d04af4a16aa0\"}],\"renderers\":[{\"type\":\"GlyphRenderer\",\"id\":\"1850b5b4-bd28-4c8e-ccbb-88663170df22\"},{\"type\":\"GlyphRenderer\",\"id\":\"997b66ce-d46d-4b39-cb6a-fa57e055ad46\"},{\"type\":\"LinearAxis\",\"id\":\"711ed1ee-a714-4e9a-ce83-d04af4a16aa0\"},{\"type\":\"Grid\",\"id\":\"f3d0f92f-9eb5-4cf2-cc1a-9d15b70be901\"},{\"type\":\"LinearAxis\",\"id\":\"77038708-36f0-4953-c9bd-2bb7622f220f\"},{\"type\":\"Grid\",\"id\":\"ad5a780c-c981-44bc-c41a-a8bbf0b2f1aa\"}],\"above\":[],\"tools\":[{\"type\":\"PanTool\",\"id\":\"08df9e21-e119-4666-c62e-a8af121e4cb3\"},{\"type\":\"WheelZoomTool\",\"id\":\"1ff9411d-bea5-4b87-cbd9-73aba699b6fc\"},{\"type\":\"BoxZoomTool\",\"id\":\"002ca60b-4439-4a38-ca03-fde1ffd2e8f0\"},{\"type\":\"PreviewSaveTool\",\"id\":\"19674bc9-63d9-4c1a-cc84-dd2271f5aaeb\"},{\"type\":\"ResizeTool\",\"id\":\"ced331e3-8aec-43d8-c3ee-677420e3d823\"},{\"type\":\"ResetTool\",\"id\":\"11a4ae1a-cc62-43ff-c3e7-16d50039eca9\"}],\"doc\":null,\"right\":[],\"title\":\"Scatter Plot Demo\",\"extra_x_ranges\":{},\"left\":[{\"type\":\"LinearAxis\",\"id\":\"77038708-36f0-4953-c9bd-2bb7622f220f\"}],\"y_range\":{\"type\":\"DataRange1d\",\"id\":\"8af59fe1-f2b8-430f-c33a-1c6b3b747dda\"},\"id\":\"7d38eca9-7354-4a18-cab4-f927f79f5df6\",\"extra_y_ranges\":{},\"tags\":[]}}];\n",
       "      Bokeh.load_models(all_models);\n",
       "      var model = Bokeh.Collections(modeltype).get(modelid);\n",
       "      $(\"#6fe089f7-ffa6-48d7-c896-c9d919776e45\").html(''); // clear any previous plot in window_id\n",
       "      var view = new model.default_view({model: model, el: \"#6fe089f7-ffa6-48d7-c896-c9d919776e45\"});\n",
       "  });\n",
       "    }\n",
       "});\n",
       "</script>\n",
       "<div class=\"plotdiv\" id=\"4424bfc1-b308-410e-c117-e9ec4a6894a6\"></div>\n"
      ]
     },
     "metadata": {},
     "output_type": "display_data"
    },
    {
     "data": {
      "text/html": [
       "<script type=\"text/javascript\">\n",
       "$(function() {\n",
       "    if (typeof (window._bokeh_onload_callbacks) === \"undefined\"){\n",
       "  window._bokeh_onload_callbacks = [];\n",
       "    }\n",
       "    function load_lib(url, callback){\n",
       "  window._bokeh_onload_callbacks.push(callback);\n",
       "  if (window._bokeh_is_loading){\n",
       "      console.log(\"Bokeh: BokehJS is being loaded, scheduling callback at\", new Date());\n",
       "      return null;\n",
       "  }\n",
       "  console.log(\"Bokeh: BokehJS not loaded, scheduling load and callback at\", new Date());\n",
       "  window._bokeh_is_loading = true;\n",
       "  var s = document.createElement('script');\n",
       "  s.src = url;\n",
       "  s.async = true;\n",
       "  s.onreadystatechange = s.onload = function(){\n",
       "      Bokeh.embed.inject_css(\"https://cdn.pydata.org/bokeh-0.7.0.min.css\");\n",
       "      window._bokeh_onload_callbacks.forEach(function(callback){callback()});\n",
       "  };\n",
       "  s.onerror = function(){\n",
       "      console.warn(\"failed to load library \" + url);\n",
       "  };\n",
       "  document.getElementsByTagName(\"head\")[0].appendChild(s);\n",
       "    }\n",
       "\n",
       "    bokehjs_url = \"https://cdn.pydata.org/bokeh-0.7.0.min.js\"\n",
       "\n",
       "    var elt = document.getElementById(\"6fe089f7-ffa6-48d7-c896-c9d919776e45\");\n",
       "    if(elt==null) {\n",
       "  console.log(\"Bokeh: ERROR: autoload.js configured with elementid '6fe089f7-ffa6-48d7-c896-c9d919776e45'\"\n",
       "        + \"but no matching script tag was found. \")\n",
       "  return false;\n",
       "    }\n",
       "\n",
       "    if(typeof(Bokeh) !== \"undefined\") {\n",
       "  console.log(\"Bokeh: BokehJS loaded, going straight to plotting\");\n",
       "  var modelid = \"7ff0cfa1-4cda-426b-c2a1-60c8b773c400\";\n",
       "  var modeltype = \"Plot\";\n",
       "  var all_models = [{\"id\":\"9ee8933d-fb1b-490f-c9db-8da468098929\",\"type\":\"ColumnDataSource\",\"attributes\":{\"data\":{\"y\":[0.88115509528668,0.69837303561268,0.56696499901066,0.46688479184582,0.38752801080999,0.3228146710333,0.26903914855366,0.22382410200058,0.18556829516381,0.1531365992012,0.12567838533046,0.10251876584429,0.083093531594862,0.06691128307267,0.053532660741706,0.042560075871302,0.033633460328123,0.026428996434398,0.020658859334819,0.016070820527106,0.012447163516976,0.0096027736172545,0.0073825107230671,0.0056580916427764,0.0043247359291392,0.0032978020266883,0.002509587628065,0.0019064093112199,0.0014460235293103,0.0010954092086395,0.00082890270364251,0.00062665740509682,0.00047339061633272,0.00035737694913956,0.00026964827414118,0.0002033634758683,0.00015331567109479,0.00011554932156892,8.7064300477019e-05,6.5588177771e-05,4.9401649860253e-05,3.7205128281341e-05,2.8017049852863e-05,2.1096535626127e-05,1.5884676290581e-05,1.1960026343211e-05,9.004911600306e-06,6.7799498970542e-06,5.1047998696831e-06,3.8436260993564e-06,2.8941318042807e-06,2.1792875705084e-06,1.6410959328017e-06,1.2358922952577e-06,9.3080462764022e-07,7.0108678237805e-07,5.281102146564e-07,3.978517630309e-07,2.9975508866507e-07,2.2587352009362e-07,1.7022479458337e-07,1.2830533700105e-07,9.6724643531604e-08,7.2930077535517e-08,5.4999721881705e-08,4.1486457855458e-08,3.1300601673064e-08,2.3621562402378e-08,1.7831343502424e-08,1.346448550672e-08,1.0170383668727e-08,7.6849201782885e-09,5.8091075654352e-09,4.3930096520099e-09,3.3236352155562e-09,2.5158222525261e-09,1.9053736170978e-09,1.4438876147658e-09,1.0948647152039e-09,8.3077510136624e-10,6.3084971301551e-10,4.794161078766e-10,3.6464462137362e-10,2.776035454274e-10,2.1154706778276e-10,1.6137854974289e-10,1.2324590032287e-10,9.4236480982838e-11,7.2147013247405e-11,5.5310013873065e-11,4.2462839744928e-11,3.264885685373e-11,2.514283244834e-11,1.9394596345597e-11,1.4986483858128e-11,1.1601177560788e-11,8.9973974767976e-12,6.9915164440698e-12,5.4436500810474e-12,4.2471270421778e-12],\"x\":[1,2,3,4,5,6,7,8,9,10,11,12,13,14,15,16,17,18,19,20,21,22,23,24,25,26,27,28,29,30,31,32,33,34,35,36,37,38,39,40,41,42,43,44,45,46,47,48,49,50,51,52,53,54,55,56,57,58,59,60,61,62,63,64,65,66,67,68,69,70,71,72,73,74,75,76,77,78,79,80,81,82,83,84,85,86,87,88,89,90,91,92,93,94,95,96,97,98,99,100]},\"column_names\":[\"y\",\"x\"],\"cont_ranges\":{},\"discrete_ranges\":{},\"selected\":[],\"id\":\"9ee8933d-fb1b-490f-c9db-8da468098929\",\"doc\":null,\"tags\":[]}},{\"id\":\"48c5102f-ffd9-4cfb-cca1-e986d4b55d36\",\"type\":\"Circle\",\"attributes\":{\"fill_alpha\":{\"units\":\"data\",\"value\":0.2},\"line_alpha\":{\"units\":\"data\",\"value\":1},\"doc\":null,\"size\":{\"units\":\"screen\",\"value\":10},\"fill_color\":{\"value\":\"red\"},\"line_color\":{\"value\":\"red\"},\"x\":{\"units\":\"data\",\"field\":\"x\"},\"id\":\"48c5102f-ffd9-4cfb-cca1-e986d4b55d36\",\"y\":{\"units\":\"data\",\"field\":\"y\"},\"tags\":[]}},{\"id\":\"f5201540-bce8-4787-c7fc-bcf169c2f3ae\",\"type\":\"Circle\",\"attributes\":{\"fill_alpha\":{\"units\":\"data\",\"value\":0.2},\"line_alpha\":{\"units\":\"data\",\"value\":1},\"doc\":null,\"size\":{\"units\":\"screen\",\"value\":10},\"fill_color\":{\"value\":\"red\"},\"line_color\":{\"value\":\"red\"},\"x\":{\"units\":\"data\",\"field\":\"x\"},\"id\":\"f5201540-bce8-4787-c7fc-bcf169c2f3ae\",\"y\":{\"units\":\"data\",\"field\":\"y\"},\"tags\":[]}},{\"id\":\"6fc9ea2f-4c8f-4e8c-ceff-fda8a2cfd1e9\",\"type\":\"GlyphRenderer\",\"attributes\":{\"name\":null,\"nonselection_glyph\":{\"type\":\"Circle\",\"id\":\"f5201540-bce8-4787-c7fc-bcf169c2f3ae\"},\"doc\":null,\"server_data_source\":null,\"data_source\":{\"type\":\"ColumnDataSource\",\"id\":\"9ee8933d-fb1b-490f-c9db-8da468098929\"},\"glyph\":{\"type\":\"Circle\",\"id\":\"48c5102f-ffd9-4cfb-cca1-e986d4b55d36\"},\"selection_glyph\":null,\"id\":\"6fc9ea2f-4c8f-4e8c-ceff-fda8a2cfd1e9\",\"tags\":[]}},{\"id\":\"20e00e1c-abde-4f60-cf0e-bf404c2a9d6e\",\"type\":\"ColumnDataSource\",\"attributes\":{\"data\":{\"y\":[0.88115509528668,0.69837303561268,0.56696499901066,0.46688479184582,0.38752801080999,0.3228146710333,0.26903914855366,0.22382410200058,0.18556829516381,0.1531365992012,0.12567838533046,0.10251876584429,0.083093531594862,0.06691128307267,0.053532660741706,0.042560075871302,0.033633460328123,0.026428996434398,0.020658859334819,0.016070820527106,0.012447163516976,0.0096027736172545,0.0073825107230671,0.0056580916427764,0.0043247359291392,0.0032978020266883,0.002509587628065,0.0019064093112199,0.0014460235293103,0.0010954092086395,0.00082890270364251,0.00062665740509682,0.00047339061633272,0.00035737694913956,0.00026964827414118,0.0002033634758683,0.00015331567109479,0.00011554932156892,8.7064300477019e-05,6.5588177771e-05,4.9401649860253e-05,3.7205128281341e-05,2.8017049852863e-05,2.1096535626127e-05,1.5884676290581e-05,1.1960026343211e-05,9.004911600306e-06,6.7799498970542e-06,5.1047998696831e-06,3.8436260993564e-06,2.8941318042807e-06,2.1792875705084e-06,1.6410959328017e-06,1.2358922952577e-06,9.3080462764022e-07,7.0108678237805e-07,5.281102146564e-07,3.978517630309e-07,2.9975508866507e-07,2.2587352009362e-07,1.7022479458337e-07,1.2830533700105e-07,9.6724643531604e-08,7.2930077535517e-08,5.4999721881705e-08,4.1486457855458e-08,3.1300601673064e-08,2.3621562402378e-08,1.7831343502424e-08,1.346448550672e-08,1.0170383668727e-08,7.6849201782885e-09,5.8091075654352e-09,4.3930096520099e-09,3.3236352155562e-09,2.5158222525261e-09,1.9053736170978e-09,1.4438876147658e-09,1.0948647152039e-09,8.3077510136624e-10,6.3084971301551e-10,4.794161078766e-10,3.6464462137362e-10,2.776035454274e-10,2.1154706778276e-10,1.6137854974289e-10,1.2324590032287e-10,9.4236480982838e-11,7.2147013247405e-11,5.5310013873065e-11,4.2462839744928e-11,3.264885685373e-11,2.514283244834e-11,1.9394596345597e-11,1.4986483858128e-11,1.1601177560788e-11,8.9973974767976e-12,6.9915164440698e-12,5.4436500810474e-12,4.2471270421778e-12],\"x\":[1,2,3,4,5,6,7,8,9,10,11,12,13,14,15,16,17,18,19,20,21,22,23,24,25,26,27,28,29,30,31,32,33,34,35,36,37,38,39,40,41,42,43,44,45,46,47,48,49,50,51,52,53,54,55,56,57,58,59,60,61,62,63,64,65,66,67,68,69,70,71,72,73,74,75,76,77,78,79,80,81,82,83,84,85,86,87,88,89,90,91,92,93,94,95,96,97,98,99,100]},\"column_names\":[\"y\",\"x\"],\"cont_ranges\":{},\"discrete_ranges\":{},\"selected\":[],\"id\":\"20e00e1c-abde-4f60-cf0e-bf404c2a9d6e\",\"doc\":null,\"tags\":[]}},{\"id\":\"acfd3c3a-8329-41e8-c154-c1b3e3617637\",\"type\":\"Line\",\"attributes\":{\"fill_alpha\":{\"units\":\"data\",\"value\":0.2},\"line_alpha\":{\"units\":\"data\",\"value\":1},\"doc\":null,\"size\":{\"units\":\"screen\",\"value\":10},\"fill_color\":{\"value\":\"red\"},\"line_color\":{\"value\":\"red\"},\"x\":{\"units\":\"data\",\"field\":\"x\"},\"id\":\"acfd3c3a-8329-41e8-c154-c1b3e3617637\",\"y\":{\"units\":\"data\",\"field\":\"y\"},\"tags\":[]}},{\"id\":\"0b76fefc-d251-4615-c664-b2ebaca26512\",\"type\":\"Line\",\"attributes\":{\"fill_alpha\":{\"units\":\"data\",\"value\":0.2},\"line_alpha\":{\"units\":\"data\",\"value\":1},\"doc\":null,\"size\":{\"units\":\"screen\",\"value\":10},\"fill_color\":{\"value\":\"red\"},\"line_color\":{\"value\":\"red\"},\"x\":{\"units\":\"data\",\"field\":\"x\"},\"id\":\"0b76fefc-d251-4615-c664-b2ebaca26512\",\"y\":{\"units\":\"data\",\"field\":\"y\"},\"tags\":[]}},{\"id\":\"898807f4-6bc2-4f07-cfd3-253f384c180e\",\"type\":\"GlyphRenderer\",\"attributes\":{\"name\":null,\"nonselection_glyph\":{\"type\":\"Line\",\"id\":\"0b76fefc-d251-4615-c664-b2ebaca26512\"},\"doc\":null,\"server_data_source\":null,\"data_source\":{\"type\":\"ColumnDataSource\",\"id\":\"20e00e1c-abde-4f60-cf0e-bf404c2a9d6e\"},\"glyph\":{\"type\":\"Line\",\"id\":\"acfd3c3a-8329-41e8-c154-c1b3e3617637\"},\"selection_glyph\":null,\"id\":\"898807f4-6bc2-4f07-cfd3-253f384c180e\",\"tags\":[]}},{\"id\":\"de843b39-d6b6-410b-c156-3a464b8b9cce\",\"type\":\"DataRange1d\",\"attributes\":{\"sources\":[{\"columns\":[\"x\"],\"source\":{\"type\":\"ColumnDataSource\",\"id\":\"9ee8933d-fb1b-490f-c9db-8da468098929\"}},{\"columns\":[\"x\"],\"source\":{\"type\":\"ColumnDataSource\",\"id\":\"20e00e1c-abde-4f60-cf0e-bf404c2a9d6e\"}}],\"id\":\"de843b39-d6b6-410b-c156-3a464b8b9cce\",\"tags\":[],\"doc\":null}},{\"id\":\"6ea84742-f336-4f6a-cf21-2aee3b072e66\",\"type\":\"DataRange1d\",\"attributes\":{\"sources\":[{\"columns\":[\"y\"],\"source\":{\"type\":\"ColumnDataSource\",\"id\":\"9ee8933d-fb1b-490f-c9db-8da468098929\"}},{\"columns\":[\"y\"],\"source\":{\"type\":\"ColumnDataSource\",\"id\":\"20e00e1c-abde-4f60-cf0e-bf404c2a9d6e\"}}],\"id\":\"6ea84742-f336-4f6a-cf21-2aee3b072e66\",\"tags\":[],\"doc\":null}},{\"id\":\"503b792f-3508-41e5-c1b5-8ee2aff743b1\",\"type\":\"ToolEvents\",\"attributes\":{\"tags\":[],\"id\":\"503b792f-3508-41e5-c1b5-8ee2aff743b1\",\"geometries\":[],\"doc\":null}},{\"id\":\"b5aede3f-b6cf-491f-c96f-93640e444871\",\"type\":\"BasicTickFormatter\",\"attributes\":{\"id\":\"b5aede3f-b6cf-491f-c96f-93640e444871\",\"tags\":[],\"doc\":null}},{\"id\":\"2bacdf76-376a-40a1-c042-ceb771836d45\",\"type\":\"BasicTicker\",\"attributes\":{\"num_minor_ticks\":5,\"id\":\"2bacdf76-376a-40a1-c042-ceb771836d45\",\"tags\":[],\"doc\":null}},{\"id\":\"f7459cf6-c979-412b-c1d6-ec919b4da4fe\",\"type\":\"LinearAxis\",\"attributes\":{\"formatter\":{\"type\":\"BasicTickFormatter\",\"id\":\"b5aede3f-b6cf-491f-c96f-93640e444871\"},\"ticker\":{\"type\":\"BasicTicker\",\"id\":\"2bacdf76-376a-40a1-c042-ceb771836d45\"},\"plot\":{\"id\":\"7ff0cfa1-4cda-426b-c2a1-60c8b773c400\",\"type\":\"Plot\",\"subtype\":\"Figure\"},\"axis_label\":\"Iterations\",\"id\":\"f7459cf6-c979-412b-c1d6-ec919b4da4fe\",\"doc\":null,\"tags\":[]}},{\"id\":\"866a7298-7086-4890-c861-30ff071466c7\",\"type\":\"Grid\",\"attributes\":{\"dimension\":0,\"plot\":{\"id\":\"7ff0cfa1-4cda-426b-c2a1-60c8b773c400\",\"type\":\"Plot\",\"subtype\":\"Figure\"},\"ticker\":{\"type\":\"BasicTicker\",\"id\":\"2bacdf76-376a-40a1-c042-ceb771836d45\"},\"id\":\"866a7298-7086-4890-c861-30ff071466c7\",\"doc\":null,\"tags\":[]}},{\"id\":\"6539de05-ce43-49fd-c9f8-39a4344cb529\",\"type\":\"BasicTickFormatter\",\"attributes\":{\"id\":\"6539de05-ce43-49fd-c9f8-39a4344cb529\",\"tags\":[],\"doc\":null}},{\"id\":\"843d0734-e7d3-42aa-c262-86f9a9682e4f\",\"type\":\"BasicTicker\",\"attributes\":{\"num_minor_ticks\":5,\"id\":\"843d0734-e7d3-42aa-c262-86f9a9682e4f\",\"tags\":[],\"doc\":null}},{\"id\":\"be025c66-0ad1-4f5d-cf01-7e8277613192\",\"type\":\"LinearAxis\",\"attributes\":{\"formatter\":{\"type\":\"BasicTickFormatter\",\"id\":\"6539de05-ce43-49fd-c9f8-39a4344cb529\"},\"ticker\":{\"type\":\"BasicTicker\",\"id\":\"843d0734-e7d3-42aa-c262-86f9a9682e4f\"},\"plot\":{\"id\":\"7ff0cfa1-4cda-426b-c2a1-60c8b773c400\",\"type\":\"Plot\",\"subtype\":\"Figure\"},\"axis_label\":\"Negative Log-Likelihood\",\"id\":\"be025c66-0ad1-4f5d-cf01-7e8277613192\",\"doc\":null,\"tags\":[]}},{\"id\":\"700491b3-dc88-4aa4-ca9c-582029190641\",\"type\":\"Grid\",\"attributes\":{\"dimension\":1,\"plot\":{\"id\":\"7ff0cfa1-4cda-426b-c2a1-60c8b773c400\",\"type\":\"Plot\",\"subtype\":\"Figure\"},\"ticker\":{\"type\":\"BasicTicker\",\"id\":\"843d0734-e7d3-42aa-c262-86f9a9682e4f\"},\"id\":\"700491b3-dc88-4aa4-ca9c-582029190641\",\"doc\":null,\"tags\":[]}},{\"id\":\"1d9ffd57-ad58-4186-c1f7-2f572f928213\",\"type\":\"PanTool\",\"attributes\":{\"plot\":{\"id\":\"7ff0cfa1-4cda-426b-c2a1-60c8b773c400\",\"type\":\"Plot\",\"subtype\":\"Figure\"},\"dimensions\":[\"width\",\"height\"],\"id\":\"1d9ffd57-ad58-4186-c1f7-2f572f928213\",\"doc\":null,\"tags\":[]}},{\"id\":\"cd10f7fa-7ff7-4845-c8b6-038339c5d251\",\"type\":\"WheelZoomTool\",\"attributes\":{\"plot\":{\"id\":\"7ff0cfa1-4cda-426b-c2a1-60c8b773c400\",\"type\":\"Plot\",\"subtype\":\"Figure\"},\"dimensions\":[\"width\",\"height\"],\"id\":\"cd10f7fa-7ff7-4845-c8b6-038339c5d251\",\"doc\":null,\"tags\":[]}},{\"id\":\"0a98fea4-3a23-4f73-cf15-83cf2bb17e7f\",\"type\":\"BoxZoomTool\",\"attributes\":{\"plot\":{\"id\":\"7ff0cfa1-4cda-426b-c2a1-60c8b773c400\",\"type\":\"Plot\",\"subtype\":\"Figure\"},\"id\":\"0a98fea4-3a23-4f73-cf15-83cf2bb17e7f\",\"tags\":[],\"doc\":null}},{\"id\":\"00feaae7-afaf-4255-c20b-d7523c1d3323\",\"type\":\"PreviewSaveTool\",\"attributes\":{\"plot\":{\"id\":\"7ff0cfa1-4cda-426b-c2a1-60c8b773c400\",\"type\":\"Plot\",\"subtype\":\"Figure\"},\"id\":\"00feaae7-afaf-4255-c20b-d7523c1d3323\",\"tags\":[],\"doc\":null}},{\"id\":\"e40db828-afd9-45fa-c5ed-8eac3d1eb8e2\",\"type\":\"ResizeTool\",\"attributes\":{\"plot\":{\"id\":\"7ff0cfa1-4cda-426b-c2a1-60c8b773c400\",\"type\":\"Plot\",\"subtype\":\"Figure\"},\"id\":\"e40db828-afd9-45fa-c5ed-8eac3d1eb8e2\",\"tags\":[],\"doc\":null}},{\"id\":\"5d729abd-adfc-4388-c349-a4f5629bac6c\",\"type\":\"ResetTool\",\"attributes\":{\"plot\":{\"id\":\"7ff0cfa1-4cda-426b-c2a1-60c8b773c400\",\"type\":\"Plot\",\"subtype\":\"Figure\"},\"id\":\"5d729abd-adfc-4388-c349-a4f5629bac6c\",\"tags\":[],\"doc\":null}},{\"id\":\"53ef4900-1737-4bdb-cb9a-10e9dd727f10\",\"type\":\"Legend\",\"attributes\":{\"plot\":{\"id\":\"7ff0cfa1-4cda-426b-c2a1-60c8b773c400\",\"type\":\"Plot\",\"subtype\":\"Figure\"},\"legends\":[[\"Loss Function\",[{\"type\":\"GlyphRenderer\",\"id\":\"6fc9ea2f-4c8f-4e8c-ceff-fda8a2cfd1e9\"}]],[\"\",[{\"type\":\"GlyphRenderer\",\"id\":\"898807f4-6bc2-4f07-cfd3-253f384c180e\"}]]],\"id\":\"53ef4900-1737-4bdb-cb9a-10e9dd727f10\",\"doc\":null,\"tags\":[]}},{\"id\":\"7ff0cfa1-4cda-426b-c2a1-60c8b773c400\",\"type\":\"Plot\",\"attributes\":{\"x_range\":{\"type\":\"DataRange1d\",\"id\":\"de843b39-d6b6-410b-c156-3a464b8b9cce\"},\"tool_events\":{\"type\":\"ToolEvents\",\"id\":\"503b792f-3508-41e5-c1b5-8ee2aff743b1\"},\"below\":[{\"type\":\"LinearAxis\",\"id\":\"f7459cf6-c979-412b-c1d6-ec919b4da4fe\"}],\"renderers\":[{\"type\":\"GlyphRenderer\",\"id\":\"6fc9ea2f-4c8f-4e8c-ceff-fda8a2cfd1e9\"},{\"type\":\"GlyphRenderer\",\"id\":\"898807f4-6bc2-4f07-cfd3-253f384c180e\"},{\"type\":\"LinearAxis\",\"id\":\"f7459cf6-c979-412b-c1d6-ec919b4da4fe\"},{\"type\":\"Grid\",\"id\":\"866a7298-7086-4890-c861-30ff071466c7\"},{\"type\":\"LinearAxis\",\"id\":\"be025c66-0ad1-4f5d-cf01-7e8277613192\"},{\"type\":\"Grid\",\"id\":\"700491b3-dc88-4aa4-ca9c-582029190641\"},{\"type\":\"Legend\",\"id\":\"53ef4900-1737-4bdb-cb9a-10e9dd727f10\"}],\"above\":[],\"tools\":[{\"type\":\"PanTool\",\"id\":\"1d9ffd57-ad58-4186-c1f7-2f572f928213\"},{\"type\":\"WheelZoomTool\",\"id\":\"cd10f7fa-7ff7-4845-c8b6-038339c5d251\"},{\"type\":\"BoxZoomTool\",\"id\":\"0a98fea4-3a23-4f73-cf15-83cf2bb17e7f\"},{\"type\":\"PreviewSaveTool\",\"id\":\"00feaae7-afaf-4255-c20b-d7523c1d3323\"},{\"type\":\"ResizeTool\",\"id\":\"e40db828-afd9-45fa-c5ed-8eac3d1eb8e2\"},{\"type\":\"ResetTool\",\"id\":\"5d729abd-adfc-4388-c349-a4f5629bac6c\"}],\"doc\":null,\"right\":[],\"title\":\"Scatter Plot Demo\",\"extra_x_ranges\":{},\"left\":[{\"type\":\"LinearAxis\",\"id\":\"be025c66-0ad1-4f5d-cf01-7e8277613192\"}],\"y_range\":{\"type\":\"DataRange1d\",\"id\":\"6ea84742-f336-4f6a-cf21-2aee3b072e66\"},\"id\":\"7ff0cfa1-4cda-426b-c2a1-60c8b773c400\",\"extra_y_ranges\":{},\"tags\":[]}}];\n",
       "  Bokeh.load_models(all_models);\n",
       "  var model = Bokeh.Collections(modeltype).get(modelid);\n",
       "  $(\"#6fe089f7-ffa6-48d7-c896-c9d919776e45\").html(''); // clear any previous plot in window_id\n",
       "  var view = new model.default_view({model: model, el: \"#6fe089f7-ffa6-48d7-c896-c9d919776e45\"});\n",
       "    } else {\n",
       "  load_lib(bokehjs_url, function() {\n",
       "      console.log(\"Bokeh: BokehJS plotting callback run at\", new Date())\n",
       "      var modelid = \"7ff0cfa1-4cda-426b-c2a1-60c8b773c400\";\n",
       "      var modeltype = \"Plot\";\n",
       "      var all_models = [{\"id\":\"9ee8933d-fb1b-490f-c9db-8da468098929\",\"type\":\"ColumnDataSource\",\"attributes\":{\"data\":{\"y\":[0.88115509528668,0.69837303561268,0.56696499901066,0.46688479184582,0.38752801080999,0.3228146710333,0.26903914855366,0.22382410200058,0.18556829516381,0.1531365992012,0.12567838533046,0.10251876584429,0.083093531594862,0.06691128307267,0.053532660741706,0.042560075871302,0.033633460328123,0.026428996434398,0.020658859334819,0.016070820527106,0.012447163516976,0.0096027736172545,0.0073825107230671,0.0056580916427764,0.0043247359291392,0.0032978020266883,0.002509587628065,0.0019064093112199,0.0014460235293103,0.0010954092086395,0.00082890270364251,0.00062665740509682,0.00047339061633272,0.00035737694913956,0.00026964827414118,0.0002033634758683,0.00015331567109479,0.00011554932156892,8.7064300477019e-05,6.5588177771e-05,4.9401649860253e-05,3.7205128281341e-05,2.8017049852863e-05,2.1096535626127e-05,1.5884676290581e-05,1.1960026343211e-05,9.004911600306e-06,6.7799498970542e-06,5.1047998696831e-06,3.8436260993564e-06,2.8941318042807e-06,2.1792875705084e-06,1.6410959328017e-06,1.2358922952577e-06,9.3080462764022e-07,7.0108678237805e-07,5.281102146564e-07,3.978517630309e-07,2.9975508866507e-07,2.2587352009362e-07,1.7022479458337e-07,1.2830533700105e-07,9.6724643531604e-08,7.2930077535517e-08,5.4999721881705e-08,4.1486457855458e-08,3.1300601673064e-08,2.3621562402378e-08,1.7831343502424e-08,1.346448550672e-08,1.0170383668727e-08,7.6849201782885e-09,5.8091075654352e-09,4.3930096520099e-09,3.3236352155562e-09,2.5158222525261e-09,1.9053736170978e-09,1.4438876147658e-09,1.0948647152039e-09,8.3077510136624e-10,6.3084971301551e-10,4.794161078766e-10,3.6464462137362e-10,2.776035454274e-10,2.1154706778276e-10,1.6137854974289e-10,1.2324590032287e-10,9.4236480982838e-11,7.2147013247405e-11,5.5310013873065e-11,4.2462839744928e-11,3.264885685373e-11,2.514283244834e-11,1.9394596345597e-11,1.4986483858128e-11,1.1601177560788e-11,8.9973974767976e-12,6.9915164440698e-12,5.4436500810474e-12,4.2471270421778e-12],\"x\":[1,2,3,4,5,6,7,8,9,10,11,12,13,14,15,16,17,18,19,20,21,22,23,24,25,26,27,28,29,30,31,32,33,34,35,36,37,38,39,40,41,42,43,44,45,46,47,48,49,50,51,52,53,54,55,56,57,58,59,60,61,62,63,64,65,66,67,68,69,70,71,72,73,74,75,76,77,78,79,80,81,82,83,84,85,86,87,88,89,90,91,92,93,94,95,96,97,98,99,100]},\"column_names\":[\"y\",\"x\"],\"cont_ranges\":{},\"discrete_ranges\":{},\"selected\":[],\"id\":\"9ee8933d-fb1b-490f-c9db-8da468098929\",\"doc\":null,\"tags\":[]}},{\"id\":\"48c5102f-ffd9-4cfb-cca1-e986d4b55d36\",\"type\":\"Circle\",\"attributes\":{\"fill_alpha\":{\"units\":\"data\",\"value\":0.2},\"line_alpha\":{\"units\":\"data\",\"value\":1},\"doc\":null,\"size\":{\"units\":\"screen\",\"value\":10},\"fill_color\":{\"value\":\"red\"},\"line_color\":{\"value\":\"red\"},\"x\":{\"units\":\"data\",\"field\":\"x\"},\"id\":\"48c5102f-ffd9-4cfb-cca1-e986d4b55d36\",\"y\":{\"units\":\"data\",\"field\":\"y\"},\"tags\":[]}},{\"id\":\"f5201540-bce8-4787-c7fc-bcf169c2f3ae\",\"type\":\"Circle\",\"attributes\":{\"fill_alpha\":{\"units\":\"data\",\"value\":0.2},\"line_alpha\":{\"units\":\"data\",\"value\":1},\"doc\":null,\"size\":{\"units\":\"screen\",\"value\":10},\"fill_color\":{\"value\":\"red\"},\"line_color\":{\"value\":\"red\"},\"x\":{\"units\":\"data\",\"field\":\"x\"},\"id\":\"f5201540-bce8-4787-c7fc-bcf169c2f3ae\",\"y\":{\"units\":\"data\",\"field\":\"y\"},\"tags\":[]}},{\"id\":\"6fc9ea2f-4c8f-4e8c-ceff-fda8a2cfd1e9\",\"type\":\"GlyphRenderer\",\"attributes\":{\"name\":null,\"nonselection_glyph\":{\"type\":\"Circle\",\"id\":\"f5201540-bce8-4787-c7fc-bcf169c2f3ae\"},\"doc\":null,\"server_data_source\":null,\"data_source\":{\"type\":\"ColumnDataSource\",\"id\":\"9ee8933d-fb1b-490f-c9db-8da468098929\"},\"glyph\":{\"type\":\"Circle\",\"id\":\"48c5102f-ffd9-4cfb-cca1-e986d4b55d36\"},\"selection_glyph\":null,\"id\":\"6fc9ea2f-4c8f-4e8c-ceff-fda8a2cfd1e9\",\"tags\":[]}},{\"id\":\"20e00e1c-abde-4f60-cf0e-bf404c2a9d6e\",\"type\":\"ColumnDataSource\",\"attributes\":{\"data\":{\"y\":[0.88115509528668,0.69837303561268,0.56696499901066,0.46688479184582,0.38752801080999,0.3228146710333,0.26903914855366,0.22382410200058,0.18556829516381,0.1531365992012,0.12567838533046,0.10251876584429,0.083093531594862,0.06691128307267,0.053532660741706,0.042560075871302,0.033633460328123,0.026428996434398,0.020658859334819,0.016070820527106,0.012447163516976,0.0096027736172545,0.0073825107230671,0.0056580916427764,0.0043247359291392,0.0032978020266883,0.002509587628065,0.0019064093112199,0.0014460235293103,0.0010954092086395,0.00082890270364251,0.00062665740509682,0.00047339061633272,0.00035737694913956,0.00026964827414118,0.0002033634758683,0.00015331567109479,0.00011554932156892,8.7064300477019e-05,6.5588177771e-05,4.9401649860253e-05,3.7205128281341e-05,2.8017049852863e-05,2.1096535626127e-05,1.5884676290581e-05,1.1960026343211e-05,9.004911600306e-06,6.7799498970542e-06,5.1047998696831e-06,3.8436260993564e-06,2.8941318042807e-06,2.1792875705084e-06,1.6410959328017e-06,1.2358922952577e-06,9.3080462764022e-07,7.0108678237805e-07,5.281102146564e-07,3.978517630309e-07,2.9975508866507e-07,2.2587352009362e-07,1.7022479458337e-07,1.2830533700105e-07,9.6724643531604e-08,7.2930077535517e-08,5.4999721881705e-08,4.1486457855458e-08,3.1300601673064e-08,2.3621562402378e-08,1.7831343502424e-08,1.346448550672e-08,1.0170383668727e-08,7.6849201782885e-09,5.8091075654352e-09,4.3930096520099e-09,3.3236352155562e-09,2.5158222525261e-09,1.9053736170978e-09,1.4438876147658e-09,1.0948647152039e-09,8.3077510136624e-10,6.3084971301551e-10,4.794161078766e-10,3.6464462137362e-10,2.776035454274e-10,2.1154706778276e-10,1.6137854974289e-10,1.2324590032287e-10,9.4236480982838e-11,7.2147013247405e-11,5.5310013873065e-11,4.2462839744928e-11,3.264885685373e-11,2.514283244834e-11,1.9394596345597e-11,1.4986483858128e-11,1.1601177560788e-11,8.9973974767976e-12,6.9915164440698e-12,5.4436500810474e-12,4.2471270421778e-12],\"x\":[1,2,3,4,5,6,7,8,9,10,11,12,13,14,15,16,17,18,19,20,21,22,23,24,25,26,27,28,29,30,31,32,33,34,35,36,37,38,39,40,41,42,43,44,45,46,47,48,49,50,51,52,53,54,55,56,57,58,59,60,61,62,63,64,65,66,67,68,69,70,71,72,73,74,75,76,77,78,79,80,81,82,83,84,85,86,87,88,89,90,91,92,93,94,95,96,97,98,99,100]},\"column_names\":[\"y\",\"x\"],\"cont_ranges\":{},\"discrete_ranges\":{},\"selected\":[],\"id\":\"20e00e1c-abde-4f60-cf0e-bf404c2a9d6e\",\"doc\":null,\"tags\":[]}},{\"id\":\"acfd3c3a-8329-41e8-c154-c1b3e3617637\",\"type\":\"Line\",\"attributes\":{\"fill_alpha\":{\"units\":\"data\",\"value\":0.2},\"line_alpha\":{\"units\":\"data\",\"value\":1},\"doc\":null,\"size\":{\"units\":\"screen\",\"value\":10},\"fill_color\":{\"value\":\"red\"},\"line_color\":{\"value\":\"red\"},\"x\":{\"units\":\"data\",\"field\":\"x\"},\"id\":\"acfd3c3a-8329-41e8-c154-c1b3e3617637\",\"y\":{\"units\":\"data\",\"field\":\"y\"},\"tags\":[]}},{\"id\":\"0b76fefc-d251-4615-c664-b2ebaca26512\",\"type\":\"Line\",\"attributes\":{\"fill_alpha\":{\"units\":\"data\",\"value\":0.2},\"line_alpha\":{\"units\":\"data\",\"value\":1},\"doc\":null,\"size\":{\"units\":\"screen\",\"value\":10},\"fill_color\":{\"value\":\"red\"},\"line_color\":{\"value\":\"red\"},\"x\":{\"units\":\"data\",\"field\":\"x\"},\"id\":\"0b76fefc-d251-4615-c664-b2ebaca26512\",\"y\":{\"units\":\"data\",\"field\":\"y\"},\"tags\":[]}},{\"id\":\"898807f4-6bc2-4f07-cfd3-253f384c180e\",\"type\":\"GlyphRenderer\",\"attributes\":{\"name\":null,\"nonselection_glyph\":{\"type\":\"Line\",\"id\":\"0b76fefc-d251-4615-c664-b2ebaca26512\"},\"doc\":null,\"server_data_source\":null,\"data_source\":{\"type\":\"ColumnDataSource\",\"id\":\"20e00e1c-abde-4f60-cf0e-bf404c2a9d6e\"},\"glyph\":{\"type\":\"Line\",\"id\":\"acfd3c3a-8329-41e8-c154-c1b3e3617637\"},\"selection_glyph\":null,\"id\":\"898807f4-6bc2-4f07-cfd3-253f384c180e\",\"tags\":[]}},{\"id\":\"de843b39-d6b6-410b-c156-3a464b8b9cce\",\"type\":\"DataRange1d\",\"attributes\":{\"sources\":[{\"columns\":[\"x\"],\"source\":{\"type\":\"ColumnDataSource\",\"id\":\"9ee8933d-fb1b-490f-c9db-8da468098929\"}},{\"columns\":[\"x\"],\"source\":{\"type\":\"ColumnDataSource\",\"id\":\"20e00e1c-abde-4f60-cf0e-bf404c2a9d6e\"}}],\"id\":\"de843b39-d6b6-410b-c156-3a464b8b9cce\",\"tags\":[],\"doc\":null}},{\"id\":\"6ea84742-f336-4f6a-cf21-2aee3b072e66\",\"type\":\"DataRange1d\",\"attributes\":{\"sources\":[{\"columns\":[\"y\"],\"source\":{\"type\":\"ColumnDataSource\",\"id\":\"9ee8933d-fb1b-490f-c9db-8da468098929\"}},{\"columns\":[\"y\"],\"source\":{\"type\":\"ColumnDataSource\",\"id\":\"20e00e1c-abde-4f60-cf0e-bf404c2a9d6e\"}}],\"id\":\"6ea84742-f336-4f6a-cf21-2aee3b072e66\",\"tags\":[],\"doc\":null}},{\"id\":\"503b792f-3508-41e5-c1b5-8ee2aff743b1\",\"type\":\"ToolEvents\",\"attributes\":{\"tags\":[],\"id\":\"503b792f-3508-41e5-c1b5-8ee2aff743b1\",\"geometries\":[],\"doc\":null}},{\"id\":\"b5aede3f-b6cf-491f-c96f-93640e444871\",\"type\":\"BasicTickFormatter\",\"attributes\":{\"id\":\"b5aede3f-b6cf-491f-c96f-93640e444871\",\"tags\":[],\"doc\":null}},{\"id\":\"2bacdf76-376a-40a1-c042-ceb771836d45\",\"type\":\"BasicTicker\",\"attributes\":{\"num_minor_ticks\":5,\"id\":\"2bacdf76-376a-40a1-c042-ceb771836d45\",\"tags\":[],\"doc\":null}},{\"id\":\"f7459cf6-c979-412b-c1d6-ec919b4da4fe\",\"type\":\"LinearAxis\",\"attributes\":{\"formatter\":{\"type\":\"BasicTickFormatter\",\"id\":\"b5aede3f-b6cf-491f-c96f-93640e444871\"},\"ticker\":{\"type\":\"BasicTicker\",\"id\":\"2bacdf76-376a-40a1-c042-ceb771836d45\"},\"plot\":{\"id\":\"7ff0cfa1-4cda-426b-c2a1-60c8b773c400\",\"type\":\"Plot\",\"subtype\":\"Figure\"},\"axis_label\":\"Iterations\",\"id\":\"f7459cf6-c979-412b-c1d6-ec919b4da4fe\",\"doc\":null,\"tags\":[]}},{\"id\":\"866a7298-7086-4890-c861-30ff071466c7\",\"type\":\"Grid\",\"attributes\":{\"dimension\":0,\"plot\":{\"id\":\"7ff0cfa1-4cda-426b-c2a1-60c8b773c400\",\"type\":\"Plot\",\"subtype\":\"Figure\"},\"ticker\":{\"type\":\"BasicTicker\",\"id\":\"2bacdf76-376a-40a1-c042-ceb771836d45\"},\"id\":\"866a7298-7086-4890-c861-30ff071466c7\",\"doc\":null,\"tags\":[]}},{\"id\":\"6539de05-ce43-49fd-c9f8-39a4344cb529\",\"type\":\"BasicTickFormatter\",\"attributes\":{\"id\":\"6539de05-ce43-49fd-c9f8-39a4344cb529\",\"tags\":[],\"doc\":null}},{\"id\":\"843d0734-e7d3-42aa-c262-86f9a9682e4f\",\"type\":\"BasicTicker\",\"attributes\":{\"num_minor_ticks\":5,\"id\":\"843d0734-e7d3-42aa-c262-86f9a9682e4f\",\"tags\":[],\"doc\":null}},{\"id\":\"be025c66-0ad1-4f5d-cf01-7e8277613192\",\"type\":\"LinearAxis\",\"attributes\":{\"formatter\":{\"type\":\"BasicTickFormatter\",\"id\":\"6539de05-ce43-49fd-c9f8-39a4344cb529\"},\"ticker\":{\"type\":\"BasicTicker\",\"id\":\"843d0734-e7d3-42aa-c262-86f9a9682e4f\"},\"plot\":{\"id\":\"7ff0cfa1-4cda-426b-c2a1-60c8b773c400\",\"type\":\"Plot\",\"subtype\":\"Figure\"},\"axis_label\":\"Negative Log-Likelihood\",\"id\":\"be025c66-0ad1-4f5d-cf01-7e8277613192\",\"doc\":null,\"tags\":[]}},{\"id\":\"700491b3-dc88-4aa4-ca9c-582029190641\",\"type\":\"Grid\",\"attributes\":{\"dimension\":1,\"plot\":{\"id\":\"7ff0cfa1-4cda-426b-c2a1-60c8b773c400\",\"type\":\"Plot\",\"subtype\":\"Figure\"},\"ticker\":{\"type\":\"BasicTicker\",\"id\":\"843d0734-e7d3-42aa-c262-86f9a9682e4f\"},\"id\":\"700491b3-dc88-4aa4-ca9c-582029190641\",\"doc\":null,\"tags\":[]}},{\"id\":\"1d9ffd57-ad58-4186-c1f7-2f572f928213\",\"type\":\"PanTool\",\"attributes\":{\"plot\":{\"id\":\"7ff0cfa1-4cda-426b-c2a1-60c8b773c400\",\"type\":\"Plot\",\"subtype\":\"Figure\"},\"dimensions\":[\"width\",\"height\"],\"id\":\"1d9ffd57-ad58-4186-c1f7-2f572f928213\",\"doc\":null,\"tags\":[]}},{\"id\":\"cd10f7fa-7ff7-4845-c8b6-038339c5d251\",\"type\":\"WheelZoomTool\",\"attributes\":{\"plot\":{\"id\":\"7ff0cfa1-4cda-426b-c2a1-60c8b773c400\",\"type\":\"Plot\",\"subtype\":\"Figure\"},\"dimensions\":[\"width\",\"height\"],\"id\":\"cd10f7fa-7ff7-4845-c8b6-038339c5d251\",\"doc\":null,\"tags\":[]}},{\"id\":\"0a98fea4-3a23-4f73-cf15-83cf2bb17e7f\",\"type\":\"BoxZoomTool\",\"attributes\":{\"plot\":{\"id\":\"7ff0cfa1-4cda-426b-c2a1-60c8b773c400\",\"type\":\"Plot\",\"subtype\":\"Figure\"},\"id\":\"0a98fea4-3a23-4f73-cf15-83cf2bb17e7f\",\"tags\":[],\"doc\":null}},{\"id\":\"00feaae7-afaf-4255-c20b-d7523c1d3323\",\"type\":\"PreviewSaveTool\",\"attributes\":{\"plot\":{\"id\":\"7ff0cfa1-4cda-426b-c2a1-60c8b773c400\",\"type\":\"Plot\",\"subtype\":\"Figure\"},\"id\":\"00feaae7-afaf-4255-c20b-d7523c1d3323\",\"tags\":[],\"doc\":null}},{\"id\":\"e40db828-afd9-45fa-c5ed-8eac3d1eb8e2\",\"type\":\"ResizeTool\",\"attributes\":{\"plot\":{\"id\":\"7ff0cfa1-4cda-426b-c2a1-60c8b773c400\",\"type\":\"Plot\",\"subtype\":\"Figure\"},\"id\":\"e40db828-afd9-45fa-c5ed-8eac3d1eb8e2\",\"tags\":[],\"doc\":null}},{\"id\":\"5d729abd-adfc-4388-c349-a4f5629bac6c\",\"type\":\"ResetTool\",\"attributes\":{\"plot\":{\"id\":\"7ff0cfa1-4cda-426b-c2a1-60c8b773c400\",\"type\":\"Plot\",\"subtype\":\"Figure\"},\"id\":\"5d729abd-adfc-4388-c349-a4f5629bac6c\",\"tags\":[],\"doc\":null}},{\"id\":\"53ef4900-1737-4bdb-cb9a-10e9dd727f10\",\"type\":\"Legend\",\"attributes\":{\"plot\":{\"id\":\"7ff0cfa1-4cda-426b-c2a1-60c8b773c400\",\"type\":\"Plot\",\"subtype\":\"Figure\"},\"legends\":[[\"Loss Function\",[{\"type\":\"GlyphRenderer\",\"id\":\"6fc9ea2f-4c8f-4e8c-ceff-fda8a2cfd1e9\"}]],[\"\",[{\"type\":\"GlyphRenderer\",\"id\":\"898807f4-6bc2-4f07-cfd3-253f384c180e\"}]]],\"id\":\"53ef4900-1737-4bdb-cb9a-10e9dd727f10\",\"doc\":null,\"tags\":[]}},{\"id\":\"7ff0cfa1-4cda-426b-c2a1-60c8b773c400\",\"type\":\"Plot\",\"attributes\":{\"x_range\":{\"type\":\"DataRange1d\",\"id\":\"de843b39-d6b6-410b-c156-3a464b8b9cce\"},\"tool_events\":{\"type\":\"ToolEvents\",\"id\":\"503b792f-3508-41e5-c1b5-8ee2aff743b1\"},\"below\":[{\"type\":\"LinearAxis\",\"id\":\"f7459cf6-c979-412b-c1d6-ec919b4da4fe\"}],\"renderers\":[{\"type\":\"GlyphRenderer\",\"id\":\"6fc9ea2f-4c8f-4e8c-ceff-fda8a2cfd1e9\"},{\"type\":\"GlyphRenderer\",\"id\":\"898807f4-6bc2-4f07-cfd3-253f384c180e\"},{\"type\":\"LinearAxis\",\"id\":\"f7459cf6-c979-412b-c1d6-ec919b4da4fe\"},{\"type\":\"Grid\",\"id\":\"866a7298-7086-4890-c861-30ff071466c7\"},{\"type\":\"LinearAxis\",\"id\":\"be025c66-0ad1-4f5d-cf01-7e8277613192\"},{\"type\":\"Grid\",\"id\":\"700491b3-dc88-4aa4-ca9c-582029190641\"},{\"type\":\"Legend\",\"id\":\"53ef4900-1737-4bdb-cb9a-10e9dd727f10\"}],\"above\":[],\"tools\":[{\"type\":\"PanTool\",\"id\":\"1d9ffd57-ad58-4186-c1f7-2f572f928213\"},{\"type\":\"WheelZoomTool\",\"id\":\"cd10f7fa-7ff7-4845-c8b6-038339c5d251\"},{\"type\":\"BoxZoomTool\",\"id\":\"0a98fea4-3a23-4f73-cf15-83cf2bb17e7f\"},{\"type\":\"PreviewSaveTool\",\"id\":\"00feaae7-afaf-4255-c20b-d7523c1d3323\"},{\"type\":\"ResizeTool\",\"id\":\"e40db828-afd9-45fa-c5ed-8eac3d1eb8e2\"},{\"type\":\"ResetTool\",\"id\":\"5d729abd-adfc-4388-c349-a4f5629bac6c\"}],\"doc\":null,\"right\":[],\"title\":\"Scatter Plot Demo\",\"extra_x_ranges\":{},\"left\":[{\"type\":\"LinearAxis\",\"id\":\"be025c66-0ad1-4f5d-cf01-7e8277613192\"}],\"y_range\":{\"type\":\"DataRange1d\",\"id\":\"6ea84742-f336-4f6a-cf21-2aee3b072e66\"},\"id\":\"7ff0cfa1-4cda-426b-c2a1-60c8b773c400\",\"extra_y_ranges\":{},\"tags\":[]}}];\n",
       "      Bokeh.load_models(all_models);\n",
       "      var model = Bokeh.Collections(modeltype).get(modelid);\n",
       "      $(\"#6fe089f7-ffa6-48d7-c896-c9d919776e45\").html(''); // clear any previous plot in window_id\n",
       "      var view = new model.default_view({model: model, el: \"#6fe089f7-ffa6-48d7-c896-c9d919776e45\"});\n",
       "  });\n",
       "    }\n",
       "});\n",
       "</script>\n",
       "<div class=\"plotdiv\" id=\"131ef62e-5f29-4e4c-ced0-1870834b5fc5\"></div>\n"
      ]
     },
     "metadata": {},
     "output_type": "display_data"
    }
   ],
   "source": [
    "-- scatter plots\n",
    "plot = Plot():circle(torch.range(1, #loss), \n",
    "                loss, 'red', 'Loss Function'):draw()\n",
    "plot:line(torch.range(1, #loss), \n",
    "                loss, 'red', ''):redraw()\n",
    "plot:title('Scatter Plot Demo'):redraw()\n",
    "plot:xaxis('Iterations'):yaxis('Negative Log-Likelihood'):redraw()\n",
    "plot:legend(true)\n",
    "plot:redraw()"
   ]
  },
  {
   "cell_type": "code",
   "execution_count": null,
   "metadata": {
    "collapsed": true
   },
   "outputs": [],
   "source": []
  }
 ],
 "metadata": {
  "kernelspec": {
   "display_name": "iTorch",
   "language": "lua",
   "name": "itorch"
  },
  "language_info": {
   "name": "lua",
   "version": "5.1"
  }
 },
 "nbformat": 4,
 "nbformat_minor": 0
}
