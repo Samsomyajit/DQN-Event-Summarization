{
 "cells": [
  {
   "cell_type": "code",
   "execution_count": 1,
   "metadata": {
    "collapsed": true
   },
   "outputs": [],
   "source": [
    "require 'torch'\n",
    "require 'nn'\n",
    "require 'rnn'\n",
    "require 'csvigo'"
   ]
  },
  {
   "cell_type": "code",
   "execution_count": 2,
   "metadata": {
    "collapsed": true
   },
   "outputs": [],
   "source": [
    "filename = '~/GitHub/DeepNLPQLearning/DO_NOT_UPLOAD_THIS_DATA/0-output/2012_aurora_shooting_numtext.csv'"
   ]
  },
  {
   "cell_type": "code",
   "execution_count": 44,
   "metadata": {
    "collapsed": false
   },
   "outputs": [
    {
     "data": {
      "text/plain": [
       "<csv>\tparsing file: /Users/franciscojavierarceo/GitHub/DeepNLPQLearning/DO_NOT_UPLOAD_THIS_DATA/0-output/2012_aurora_shooting_numtext.csv\t\n"
      ]
     },
     "execution_count": 44,
     "metadata": {},
     "output_type": "execute_result"
    },
    {
     "data": {
      "text/plain": [
       "<csv>\tparsing done\t\n",
       "202216\trows read in\t\n"
      ]
     },
     "execution_count": 44,
     "metadata": {},
     "output_type": "execute_result"
    }
   ],
   "source": [
    "m = csvigo.load({path = filename, mode = \"large\"})\n",
    "print(#m, 'rows read in')"
   ]
  },
  {
   "cell_type": "code",
   "execution_count": 43,
   "metadata": {
    "collapsed": true
   },
   "outputs": [],
   "source": [
    "function split(pString)\n",
    "   local pPattern = \" \"\n",
    "   local Table = {}  -- NOTE: use {n = 0} in Lua-5.0\n",
    "   local fpat = \"(.-)\" .. pPattern\n",
    "   local last_end = 1\n",
    "   local s, e, cap = pString:find(fpat, 1)\n",
    "   while s do\n",
    "      if s ~= 1 or cap ~= \"\" then\n",
    "     table.insert(Table, cap)\n",
    "      end\n",
    "      last_end = e + 1\n",
    "      s, e, cap = pString:find(fpat, last_end)\n",
    "   end\n",
    "   if last_end <= #pString then\n",
    "      cap = pString:sub(last_end)\n",
    "      table.insert(Table, cap)\n",
    "   end\n",
    "   return Table\n",
    "end\n",
    "\n",
    "function grabn(x, n)\n",
    "    local tmp = {}\n",
    "    for k, v in pairs(x) do\n",
    "        if k <= n then\n",
    "            tmp[k] = tonumber(v)\n",
    "        end\n",
    "        if k > n then\n",
    "            return tmp\n",
    "        end\n",
    "    end\n",
    "end"
   ]
  },
  {
   "cell_type": "code",
   "execution_count": 10,
   "metadata": {
    "collapsed": true
   },
   "outputs": [],
   "source": [
    "N = 35\n",
    "K = 5\n",
    "embed_dim = 6"
   ]
  },
  {
   "cell_type": "code",
   "execution_count": null,
   "metadata": {
    "collapsed": false,
    "scrolled": true
   },
   "outputs": [],
   "source": [
    "out = {}\n",
    "for k,v in pairs(m) do\n",
    "    if k > 1 then\n",
    "        out[k-1] = grabn(split(m[k][1]), 5)\n",
    "    end\n",
    "    if (k % N)==0 then\n",
    "        print(k,'elements read out of ', #m)\n",
    "        break\n",
    "    end\n",
    "end\n",
    "\n",
    "--- getting the length of the dictionary\n",
    "vocab_size = 0\n",
    "for k,v in pairs(out) do\n",
    "    vocab_size = math.max(vocab_size, math.max(table.unpack(v)))\n",
    "    if (k % N)==0 then\n",
    "        print(k,'elements read out of ', #m)\n",
    "        break\n",
    "    end\n",
    "end"
   ]
  },
  {
   "cell_type": "code",
   "execution_count": 1,
   "metadata": {
    "collapsed": false
   },
   "outputs": [
    {
     "ename": "[string \"labels = torch.Tensor(torch.round(torch.rand(...\"]:2: unexpected symbol near '#'",
     "evalue": "",
     "output_type": "error",
     "traceback": [
      "[string \"labels = torch.Tensor(torch.round(torch.rand(...\"]:2: unexpected symbol near '#'"
     ]
    }
   ],
   "source": [
    "labels = torch.Tensor(torch.round(torch.rand(#out))):reshape(#out,1)\n",
    "#labels, labels:sum(), labels:mean()\n",
    "\n",
    "--- This is the correct format to input it\n",
    "input = torch.LongTensor(out)\n",
    "print(#input)"
   ]
  },
  {
   "cell_type": "code",
   "execution_count": 17,
   "metadata": {
    "collapsed": false,
    "scrolled": true
   },
   "outputs": [
    {
     "ename": "...javierarceo/torch/install/share/lua/5.1/nn/Container.lua:67: \nIn 1 module of nn.Sequential:\n...vierarceo/torch/install/share/lua/5.1/nn/LookupTable.lua:75: index out of range at /Users/franciscojavierarceo/torch/pkg/torch/lib/TH/generic/THTensorMath.c:156\nstack traceback:\n\t[C]: in function 'index'\n\t...vierarceo/torch/install/share/lua/5.1/nn/LookupTable.lua:75: in function <...vierarceo/torch/install/share/lua/5.1/nn/LookupTable.lua:68>\n\t[C]: in function 'xpcall'\n\t...javierarceo/torch/install/share/lua/5.1/nn/Container.lua:63: in function 'rethrowErrors'\n\t...avierarceo/torch/install/share/lua/5.1/nn/Sequential.lua:44: in function 'forward'\n\t[string \"embed_dim = 6...\"]:9: in main chunk\n\t[C]: in function 'xpcall'\n\t...ojavierarceo/torch/install/share/lua/5.1/itorch/main.lua:210: in function <...ojavierarceo/torch/install/share/lua/5.1/itorch/main.lua:174>\n\t...ojavierarceo/torch/install/share/lua/5.1/lzmq/poller.lua:75: in function 'poll'\n\t...vierarceo/torch/install/share/lua/5.1/lzmq/impl/loop.lua:307: in function 'poll'\n\t...vierarceo/torch/install/share/lua/5.1/lzmq/impl/loop.lua:325: in function 'sleep_ex'\n\t...vierarceo/torch/install/share/lua/5.1/lzmq/impl/loop.lua:370: in function 'start'\n\t...ojavierarceo/torch/install/share/lua/5.1/itorch/main.lua:389: in main chunk\n\t[C]: in function 'require'\n\t(command line):1: in main chunk\n\t[C]: at 0x010c05eb90\n\nWARNING: If you see a stack trace below, it doesn't point to the place where this error occurred. Please use only the one above.\nstack traceback:\n\t[C]: in function 'error'\n\t...javierarceo/torch/install/share/lua/5.1/nn/Container.lua:67: in function 'rethrowErrors'\n\t...avierarceo/torch/install/share/lua/5.1/nn/Sequential.lua:44: in function 'forward'\n\t[string \"embed_dim = 6...\"]:9: in main chunk\n\t[C]: in function 'xpcall'\n\t...ojavierarceo/torch/install/share/lua/5.1/itorch/main.lua:210: in function <...ojavierarceo/torch/install/share/lua/5.1/itorch/main.lua:174>\n\t...ojavierarceo/torch/install/share/lua/5.1/lzmq/poller.lua:75: in function 'poll'\n\t...vierarceo/torch/install/share/lua/5.1/lzmq/impl/loop.lua:307: in function 'poll'\n\t...vierarceo/torch/install/share/lua/5.1/lzmq/impl/loop.lua:325: in function 'sleep_ex'\n\t...vierarceo/torch/install/share/lua/5.1/lzmq/impl/loop.lua:370: in function 'start'\n\t...ojavierarceo/torch/install/share/lua/5.1/itorch/main.lua:389: in main chunk\n\t[C]: in function 'require'\n\t(command line):1: in main chunk\n\t[C]: at 0x010c05eb90",
     "evalue": "",
     "output_type": "error",
     "traceback": [
      "...javierarceo/torch/install/share/lua/5.1/nn/Container.lua:67: \nIn 1 module of nn.Sequential:\n...vierarceo/torch/install/share/lua/5.1/nn/LookupTable.lua:75: index out of range at /Users/franciscojavierarceo/torch/pkg/torch/lib/TH/generic/THTensorMath.c:156\nstack traceback:\n\t[C]: in function 'index'\n\t...vierarceo/torch/install/share/lua/5.1/nn/LookupTable.lua:75: in function <...vierarceo/torch/install/share/lua/5.1/nn/LookupTable.lua:68>\n\t[C]: in function 'xpcall'\n\t...javierarceo/torch/install/share/lua/5.1/nn/Container.lua:63: in function 'rethrowErrors'\n\t...avierarceo/torch/install/share/lua/5.1/nn/Sequential.lua:44: in function 'forward'\n\t[string \"embed_dim = 6...\"]:9: in main chunk\n\t[C]: in function 'xpcall'\n\t...ojavierarceo/torch/install/share/lua/5.1/itorch/main.lua:210: in function <...ojavierarceo/torch/install/share/lua/5.1/itorch/main.lua:174>\n\t...ojavierarceo/torch/install/share/lua/5.1/lzmq/poller.lua:75: in function 'poll'\n\t...vierarceo/torch/install/share/lua/5.1/lzmq/impl/loop.lua:307: in function 'poll'\n\t...vierarceo/torch/install/share/lua/5.1/lzmq/impl/loop.lua:325: in function 'sleep_ex'\n\t...vierarceo/torch/install/share/lua/5.1/lzmq/impl/loop.lua:370: in function 'start'\n\t...ojavierarceo/torch/install/share/lua/5.1/itorch/main.lua:389: in main chunk\n\t[C]: in function 'require'\n\t(command line):1: in main chunk\n\t[C]: at 0x010c05eb90\n\nWARNING: If you see a stack trace below, it doesn't point to the place where this error occurred. Please use only the one above.\nstack traceback:\n\t[C]: in function 'error'\n\t...javierarceo/torch/install/share/lua/5.1/nn/Container.lua:67: in function 'rethrowErrors'\n\t...avierarceo/torch/install/share/lua/5.1/nn/Sequential.lua:44: in function 'forward'\n\t[string \"embed_dim = 6...\"]:9: in main chunk\n\t[C]: in function 'xpcall'\n\t...ojavierarceo/torch/install/share/lua/5.1/itorch/main.lua:210: in function <...ojavierarceo/torch/install/share/lua/5.1/itorch/main.lua:174>\n\t...ojavierarceo/torch/install/share/lua/5.1/lzmq/poller.lua:75: in function 'poll'\n\t...vierarceo/torch/install/share/lua/5.1/lzmq/impl/loop.lua:307: in function 'poll'\n\t...vierarceo/torch/install/share/lua/5.1/lzmq/impl/loop.lua:325: in function 'sleep_ex'\n\t...vierarceo/torch/install/share/lua/5.1/lzmq/impl/loop.lua:370: in function 'start'\n\t...ojavierarceo/torch/install/share/lua/5.1/itorch/main.lua:389: in main chunk\n\t[C]: in function 'require'\n\t(command line):1: in main chunk\n\t[C]: at 0x010c05eb90"
     ]
    }
   ],
   "source": [
    "LT = nn.LookupTable(vocab_size, embed_dim)\n",
    "\n",
    "-- For batch inputs, it's a little easier to start with sequence-length x batch-size tensor, so we transpose songData\n",
    "myDataT = input:t()\n",
    "batchLSTM = nn.Sequential()\n",
    "batchLSTM:add(LT) -- will return a sequence-length x batch-size x embedDim tensor\n",
    "batchLSTM:add(nn.SplitTable(1, 3)) -- splits into a sequence-length table with batch-size x embedDim entries\n",
    "print(batchLSTM:forward(myDataT)) -- sanity check\n",
    "-- now let's add the LSTM stuff\n",
    "batchLSTM:add(nn.Sequencer(nn.LSTM(embed_dim, embed_dim)))\n",
    "batchLSTM:add(nn.SelectTable(-1)) -- selects last state of the LSTM\n",
    "batchLSTM:add(nn.Linear(embed_dim, 1)) -- map last state to a score for classification\n",
    "batchLSTM:add(nn.Sigmoid()) -- convert score to a probability\n",
    "myPreds = batchLSTM:forward(myDataT)\n",
    "print(myPreds)\n",
    "\n",
    "-- we can now call :backward() as follows\n",
    "bceCrit = nn.BCECriterion()\n",
    "loss = bceCrit:forward(myPreds, labels)\n",
    "dLdPreds = bceCrit:backward(myPreds, labels)\n",
    "batchLSTM:backward(myDataT, dLdPreds)\n",
    "\n",
    "print(loss)"
   ]
  },
  {
   "cell_type": "code",
   "execution_count": 54,
   "metadata": {
    "collapsed": false
   },
   "outputs": [
    {
     "data": {
      "text/plain": [
       "34\t5\t\n"
      ]
     },
     "execution_count": 54,
     "metadata": {},
     "output_type": "execute_result"
    }
   ],
   "source": [
    "zc = 0\n",
    "for k, v in pairs(out) do\n",
    "    for j,l in pairs(v) do\n",
    "        if l == 0 then\n",
    "            zc = zc + 1\n",
    "            print(k, j)\n",
    "        end\n",
    "    end\n",
    "end"
   ]
  },
  {
   "cell_type": "code",
   "execution_count": 38,
   "metadata": {
    "collapsed": false
   },
   "outputs": [
    {
     "data": {
      "text/plain": [
       "1\t425\t\n",
       "2\t336\t\n",
       "3\t335\t\n",
       "4\t258\t\n",
       "5\t0\t\n"
      ]
     },
     "execution_count": 38,
     "metadata": {},
     "output_type": "execute_result"
    }
   ],
   "source": [
    "for j,l in pairs(out[34]) do\n",
    "    print(j,l)\n",
    "end"
   ]
  },
  {
   "cell_type": "code",
   "execution_count": 42,
   "metadata": {
    "collapsed": false
   },
   "outputs": [
    {
     "data": {
      "text/plain": [
       "5\t0\t\n"
      ]
     },
     "execution_count": 42,
     "metadata": {},
     "output_type": "execute_result"
    }
   ],
   "source": [
    "for j,l in pairs(out[34]) do\n",
    "    if l == '0' then\n",
    "        print(j,l)\n",
    "    end\n",
    "end"
   ]
  },
  {
   "cell_type": "code",
   "execution_count": null,
   "metadata": {
    "collapsed": true
   },
   "outputs": [],
   "source": []
  }
 ],
 "metadata": {
  "kernelspec": {
   "display_name": "iTorch",
   "language": "lua",
   "name": "itorch"
  },
  "language_info": {
   "name": "lua",
   "version": "5.1"
  }
 },
 "nbformat": 4,
 "nbformat_minor": 0
}
