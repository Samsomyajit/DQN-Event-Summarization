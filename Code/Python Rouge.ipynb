{
 "cells": [
  {
   "cell_type": "markdown",
   "metadata": {},
   "source": [
    "# ROUGE implementation in Python"
   ]
  },
  {
   "cell_type": "code",
   "execution_count": 16,
   "metadata": {
    "collapsed": false
   },
   "outputs": [],
   "source": [
    "def BuildDic(text):\n",
    "    if type(text)==str:\n",
    "        text = {'s': text}\n",
    "    wd = {}\n",
    "    for x in text.values():\n",
    "        words=[r for r in x.split(\" \")]\n",
    "        for w in words:\n",
    "            try:\n",
    "                wd[w]+= 1\n",
    "            except:\n",
    "                wd[w] = 1\n",
    "    return wd\n",
    "\n",
    "def rougeRecall(pred_summary, ref_summaries):\n",
    "    rsd = BuildDic(ref_summaries)\n",
    "    sws = BuildDic(pred_summary)\n",
    "    orw = [s for s in rsd.keys() if s not in sws.keys()]\n",
    "    for w in orw:\n",
    "        sws[w]= 0.\n",
    "    num, den = 0., 0.\n",
    "    for word in rsd.keys():\n",
    "        num+= min(sws[word], rsd[word])\n",
    "        den+= rsd[word]\n",
    "    return num/float(den)\n",
    "\n",
    "def rougePrecision(pred_summary, ref_summaries):\n",
    "    rsd = BuildDic(ref_summaries)\n",
    "    sws = BuildDic(pred_summary)\n",
    "    orw = [s for s in rsd.keys() if s not in sws.keys()]\n",
    "    for w in orw:\n",
    "        sws[w]= 0.\n",
    "    num, den = 0., 0.\n",
    "    for word in rsd.keys():        # Summing the # of words that match\n",
    "        num+= min(sws[word], rsd[word])\n",
    "    for word in sws.keys():        # Summing the # of words in the predicted summary\n",
    "        den+=sws[word]\n",
    "    return num/float(den)\n",
    "\n",
    "def rougeF1(pred_summary, ref_summaries):\n",
    "    rnp = rougeRecall(pred_summary, ref_summaries)\n",
    "    rnr = rougePrecision(pred_summary, ref_summaries)\n",
    "    return (2. * rnp * rnr ) / (rnp + rnr)"
   ]
  },
  {
   "cell_type": "code",
   "execution_count": 17,
   "metadata": {
    "collapsed": false
   },
   "outputs": [],
   "source": [
    "ref_texts0 = {'A':\"summary\" }\n",
    "ref_texts1 = {'A':\"true summary\" }\n",
    "ref_texts2 = {'A':\"summary\", 'B': \"true summary\"}\n",
    "ref_texts3 = {'A':\"summary\", 'B': \"true summary\", \"C\": \"my summary\"}\n",
    "summary_pred = \"my summary\""
   ]
  },
  {
   "cell_type": "code",
   "execution_count": 18,
   "metadata": {
    "collapsed": false
   },
   "outputs": [
    {
     "name": "stdout",
     "output_type": "stream",
     "text": [
      "1.0\n",
      "0.5\n",
      "0.333333333333\n",
      "0.4\n"
     ]
    }
   ],
   "source": [
    "for ref in (ref_texts0, ref_texts1, ref_texts2, ref_texts3):\n",
    "    print(rougeRecall(summary_pred, ref))"
   ]
  },
  {
   "cell_type": "code",
   "execution_count": 19,
   "metadata": {
    "collapsed": false
   },
   "outputs": [
    {
     "name": "stdout",
     "output_type": "stream",
     "text": [
      "0.5\n",
      "0.5\n",
      "0.5\n",
      "1.0\n"
     ]
    }
   ],
   "source": [
    "for ref in (ref_texts0, ref_texts1, ref_texts2, ref_texts3):\n",
    "    print(rougePrecision(summary_pred, ref))"
   ]
  },
  {
   "cell_type": "code",
   "execution_count": 20,
   "metadata": {
    "collapsed": false
   },
   "outputs": [
    {
     "name": "stdout",
     "output_type": "stream",
     "text": [
      "0.666666666667\n",
      "0.5\n",
      "0.4\n",
      "0.571428571429\n"
     ]
    }
   ],
   "source": [
    "for ref in (ref_texts0, ref_texts1, ref_texts2, ref_texts3):\n",
    "    print(rougeF1(summary_pred, ref))"
   ]
  }
 ],
 "metadata": {
  "kernelspec": {
   "display_name": "Python 2",
   "language": "python",
   "name": "python2"
  },
  "language_info": {
   "codemirror_mode": {
    "name": "ipython",
    "version": 2
   },
   "file_extension": ".py",
   "mimetype": "text/x-python",
   "name": "python",
   "nbconvert_exporter": "python",
   "pygments_lexer": "ipython2",
   "version": "2.7.12"
  }
 },
 "nbformat": 4,
 "nbformat_minor": 0
}
