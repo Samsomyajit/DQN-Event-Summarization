{
 "cells": [
  {
   "cell_type": "code",
   "execution_count": 195,
   "metadata": {
    "collapsed": false
   },
   "outputs": [],
   "source": [
    "require 'torch'\n",
    "require 'gnuplot'\n",
    "require 'rnn'\n",
    "require 'image'\n",
    "Plot = require 'itorch.Plot'"
   ]
  },
  {
   "cell_type": "code",
   "execution_count": 199,
   "metadata": {
    "collapsed": false
   },
   "outputs": [
    {
     "data": {
      "text/plain": [
       "<csv>\tparsing file: /Users/franciscojavierarceo/GitHub/DeepNLPQLearning/DO_NOT_UPLOAD_THIS_DATA/0-output/2012_aurora_shooting_first_sentence_numtext.csv\t\n"
      ]
     },
     "execution_count": 199,
     "metadata": {},
     "output_type": "execute_result"
    },
    {
     "data": {
      "text/plain": [
       "<csv>\tparsing done\t\n",
       "<csv>\tparsing file: /Users/franciscojavierarceo/GitHub/DeepNLPQLearning/DO_NOT_UPLOAD_THIS_DATA/0-output/aurora_nuggets_numtext.csv\t\n",
       "<csv>\tparsing done\t\n"
      ]
     },
     "execution_count": 199,
     "metadata": {},
     "output_type": "execute_result"
    },
    {
     "data": {
      "text/plain": [
       "...Utils file loaded\t\n"
      ]
     },
     "execution_count": 199,
     "metadata": {},
     "output_type": "execute_result"
    },
    {
     "data": {
      "text/plain": [
       "1000\telements read out of \t12510\t\n",
       "139\telements read out of \t140\t\n"
      ]
     },
     "execution_count": 199,
     "metadata": {},
     "output_type": "execute_result"
    },
    {
     "data": {
      "text/plain": [
       "1000\telements read out of \t12510\t\n"
      ]
     },
     "execution_count": 199,
     "metadata": {},
     "output_type": "execute_result"
    }
   ],
   "source": [
    "require 'torch'\n",
    "require 'nn'\n",
    "require 'rnn'\n",
    "require 'csvigo'\n",
    "\n",
    "aurora_fn = '~/GitHub/DeepNLPQLearning/DO_NOT_UPLOAD_THIS_DATA/0-output/2012_aurora_shooting_first_sentence_numtext.csv'\n",
    "nugget_fn = '~/GitHub/DeepNLPQLearning/DO_NOT_UPLOAD_THIS_DATA/0-output/aurora_nuggets_numtext.csv'\n",
    "\n",
    "m = csvigo.load({path = aurora_fn, mode = \"large\"})\n",
    "q = csvigo.load({path = nugget_fn, mode = \"large\"})\n",
    "\n",
    "N = 1000 --- Breaks at 35\n",
    "K = 100\n",
    "nepochs = 100\n",
    "embed_dim = 6\n",
    "cuda = true\n",
    "\n",
    "torch.manualSeed(420)\n",
    "\n",
    "dofile(\"utils.lua\")\n",
    "\n",
    "out = grabNsamples(m, N, K)             --- Extracting N samples\n",
    "nggs = grabNsamples(q, #q-1, nil)       --- Extracting all samples\n",
    "\n",
    "mxl = 0\n",
    "for k,v in pairs(out) do\n",
    "    mxl = math.max(mxl, #v)\n",
    "end\n",
    "\n",
    "vocab_size = 0                  --- getting the length of the dictionary\n",
    "for k,v in pairs(out) do\n",
    "    vocab_size = math.max(vocab_size, math.max(table.unpack(v)))\n",
    "    if (k % N)==0 then\n",
    "        print(k,'elements read out of ', #m)\n",
    "        break\n",
    "    end\n",
    "end\n",
    "\n",
    "function build_network(vocab_size, embed_dim, outputSize, cuda)\n",
    "    batchLSTM = nn.Sequential()\n",
    "    :add(nn.LookupTableMaskZero(vocab_size, embed_dim)) -- will return a sequence-length x batch-size x embedDim tensor\n",
    "    :add(nn.SplitTable(1, embed_dim)) -- splits into a sequence-length table with batch-size x embedDim entries\n",
    "    :add(nn.Sequencer(nn.LSTM(embed_dim, embed_dim)))\n",
    "    :add(nn.SelectTable(-1)) -- selects last state of the LSTM\n",
    "    :add(nn.Linear(embed_dim, outputSize)) -- map last state to a score for classification\n",
    "    :add(nn.ReLU())\n",
    "\n",
    "   return batchLSTM\n",
    "\n",
    "end\n",
    "\n",
    "xs = padZeros(out, mxl)             --- Padding the data by the maximum length\n",
    "input = torch.LongTensor(xs)        --- This is the correct format to input it\n",
    "labels = torch.rand(#out)\n",
    "\n",
    "-- For batch inputs, it's a little easier to start with sequence-length x batch-size tensor, so we transpose songData\n",
    "myDataT = input:t()\n",
    "batchLSTM = build_network(vocab_size, embed_dim, 1, true)\n",
    "crit = nn.MSECriterion()\n",
    "\n",
    "err = {}\n",
    "loss = 0\n",
    "for epoch=1, nepochs, 1 do\n",
    "    myPreds = batchLSTM:forward(myDataT)\n",
    "    loss = loss + crit:forward(myPreds, labels)\n",
    "    grads = crit:backward(myPreds, labels)\n",
    "    batchLSTM:backward(myDataT, grads)\n",
    "    err[epoch] = loss\n",
    "    \n",
    "    --We update params at the end of each batch\n",
    "    batchLSTM:updateParameters(0.1)\n",
    "    batchLSTM:zeroGradParameters()\n",
    "    \n",
    "    preds = {}\n",
    "    for i=1, myPreds:size()[1] do\n",
    "        preds[i] = (myPreds[i][1] > 0) and 1 or 0 --- lua is stupid\n",
    "    end\n",
    "\n",
    "    ys = unpackZeros(preds)\n",
    "    predsummary = buildPredSummary(ys, xs)\n",
    "\n",
    "    rscore = rougeRecall(predsummary, nggs)\n",
    "    pscore = rougePrecision(predsummary, nggs)\n",
    "    fscore = rougeF1(predsummary, nggs)\n",
    "--     print(string.format(\"Epoch %i, Rouge \\t {Recall = %.6f, Precision = %6.f, F1 = %.6f}\", epoch, rscore, pscore, fscore))\n",
    "end"
   ]
  },
  {
   "cell_type": "code",
   "execution_count": 203,
   "metadata": {
    "collapsed": false
   },
   "outputs": [
    {
     "data": {
      "text/html": [
       "<script type=\"text/javascript\">\n",
       "$(function() {\n",
       "    if (typeof (window._bokeh_onload_callbacks) === \"undefined\"){\n",
       "  window._bokeh_onload_callbacks = [];\n",
       "    }\n",
       "    function load_lib(url, callback){\n",
       "  window._bokeh_onload_callbacks.push(callback);\n",
       "  if (window._bokeh_is_loading){\n",
       "      console.log(\"Bokeh: BokehJS is being loaded, scheduling callback at\", new Date());\n",
       "      return null;\n",
       "  }\n",
       "  console.log(\"Bokeh: BokehJS not loaded, scheduling load and callback at\", new Date());\n",
       "  window._bokeh_is_loading = true;\n",
       "  var s = document.createElement('script');\n",
       "  s.src = url;\n",
       "  s.async = true;\n",
       "  s.onreadystatechange = s.onload = function(){\n",
       "      Bokeh.embed.inject_css(\"https://cdn.pydata.org/bokeh-0.7.0.min.css\");\n",
       "      window._bokeh_onload_callbacks.forEach(function(callback){callback()});\n",
       "  };\n",
       "  s.onerror = function(){\n",
       "      console.warn(\"failed to load library \" + url);\n",
       "  };\n",
       "  document.getElementsByTagName(\"head\")[0].appendChild(s);\n",
       "    }\n",
       "\n",
       "    bokehjs_url = \"https://cdn.pydata.org/bokeh-0.7.0.min.js\"\n",
       "\n",
       "    var elt = document.getElementById(\"7c1b9af9-d2c5-41df-c1cd-b20a2dd907ab\");\n",
       "    if(elt==null) {\n",
       "  console.log(\"Bokeh: ERROR: autoload.js configured with elementid '7c1b9af9-d2c5-41df-c1cd-b20a2dd907ab'\"\n",
       "        + \"but no matching script tag was found. \")\n",
       "  return false;\n",
       "    }\n",
       "\n",
       "    if(typeof(Bokeh) !== \"undefined\") {\n",
       "  console.log(\"Bokeh: BokehJS loaded, going straight to plotting\");\n",
       "  var modelid = \"07cfbc61-5db8-42f6-c279-33fdcd4930ea\";\n",
       "  var modeltype = \"Plot\";\n",
       "  var all_models = [{\"id\":\"81cb3a4f-f936-4cf3-cc7d-76d5c67c08bb\",\"type\":\"ColumnDataSource\",\"attributes\":{\"data\":{\"y\":[0.2738777816469,0.59624084228123,0.91860390291555,1.2409669635499,1.5633300241842,1.8856930848185,2.2080561454529,2.5304192060872,2.8527822667215,3.1751453273558,3.4975083879902,3.8198714486245,4.1422345092588,4.4645975698931,4.7869606305275,5.1093236911618,5.4316867517961,5.7540498124304,6.0764128730648,6.3987759336991,6.7211389943334,7.0435020549677,7.3658651156021,7.6882281762364,8.0105912368707,8.332954297505,8.6553173581394,8.9776804187737,9.300043479408,9.6224065400423,9.9447696006767,10.267132661311,10.589495721945,10.91185878258,11.234221843214,11.556584903848,11.878947964483,12.201311025117,12.523674085751,12.846037146386,13.16840020702,13.490763267654,13.813126328289,14.135489388923,14.457852449557,14.780215510192,15.102578570826,15.42494163146,15.747304692095,16.069667752729,16.392030813363,16.714393873997,17.036756934632,17.359119995266,17.6814830559,18.003846116535,18.326209177169,18.648572237803,18.970935298438,19.293298359072,19.615661419706,19.938024480341,20.260387540975,20.582750601609,20.905113662244,21.227476722878,21.549839783512,21.872202844147,22.194565904781,22.516928965415,22.83929202605,23.161655086684,23.484018147318,23.806381207953,24.128744268587,24.451107329221,24.773470389856,25.09583345049,25.418196511124,25.740559571759,26.062922632393,26.385285693027,26.707648753662,27.030011814296,27.35237487493,27.674737935564,27.997100996199,28.319464056833,28.641827117467,28.964190178102,29.286553238736,29.60891629937,29.931279360005,30.253642420639,30.576005481273,30.898368541908,31.220731602542,31.543094663176,31.865457723811,32.187820784445],\"x\":[1,2,3,4,5,6,7,8,9,10,11,12,13,14,15,16,17,18,19,20,21,22,23,24,25,26,27,28,29,30,31,32,33,34,35,36,37,38,39,40,41,42,43,44,45,46,47,48,49,50,51,52,53,54,55,56,57,58,59,60,61,62,63,64,65,66,67,68,69,70,71,72,73,74,75,76,77,78,79,80,81,82,83,84,85,86,87,88,89,90,91,92,93,94,95,96,97,98,99,100]},\"column_names\":[\"y\",\"x\"],\"cont_ranges\":{},\"discrete_ranges\":{},\"selected\":[],\"id\":\"81cb3a4f-f936-4cf3-cc7d-76d5c67c08bb\",\"doc\":null,\"tags\":[]}},{\"id\":\"8a4c516b-07b6-453b-c5e0-8b34a9889090\",\"type\":\"Circle\",\"attributes\":{\"fill_alpha\":{\"units\":\"data\",\"value\":0.2},\"line_alpha\":{\"units\":\"data\",\"value\":1},\"doc\":null,\"size\":{\"units\":\"screen\",\"value\":10},\"fill_color\":{\"value\":\"red\"},\"line_color\":{\"value\":\"red\"},\"x\":{\"units\":\"data\",\"field\":\"x\"},\"id\":\"8a4c516b-07b6-453b-c5e0-8b34a9889090\",\"y\":{\"units\":\"data\",\"field\":\"y\"},\"tags\":[]}},{\"id\":\"56f31cad-4dfc-453e-c50c-3f645065f476\",\"type\":\"Circle\",\"attributes\":{\"fill_alpha\":{\"units\":\"data\",\"value\":0.2},\"line_alpha\":{\"units\":\"data\",\"value\":1},\"doc\":null,\"size\":{\"units\":\"screen\",\"value\":10},\"fill_color\":{\"value\":\"red\"},\"line_color\":{\"value\":\"red\"},\"x\":{\"units\":\"data\",\"field\":\"x\"},\"id\":\"56f31cad-4dfc-453e-c50c-3f645065f476\",\"y\":{\"units\":\"data\",\"field\":\"y\"},\"tags\":[]}},{\"id\":\"a9c6790d-db5c-4747-c762-a7df26f0d7d7\",\"type\":\"GlyphRenderer\",\"attributes\":{\"name\":null,\"nonselection_glyph\":{\"type\":\"Circle\",\"id\":\"56f31cad-4dfc-453e-c50c-3f645065f476\"},\"doc\":null,\"server_data_source\":null,\"data_source\":{\"type\":\"ColumnDataSource\",\"id\":\"81cb3a4f-f936-4cf3-cc7d-76d5c67c08bb\"},\"glyph\":{\"type\":\"Circle\",\"id\":\"8a4c516b-07b6-453b-c5e0-8b34a9889090\"},\"selection_glyph\":null,\"id\":\"a9c6790d-db5c-4747-c762-a7df26f0d7d7\",\"tags\":[]}},{\"id\":\"bfe31262-2ac5-473f-c759-19ea6a1685d9\",\"type\":\"DataRange1d\",\"attributes\":{\"sources\":[{\"columns\":[\"x\"],\"source\":{\"type\":\"ColumnDataSource\",\"id\":\"81cb3a4f-f936-4cf3-cc7d-76d5c67c08bb\"}}],\"id\":\"bfe31262-2ac5-473f-c759-19ea6a1685d9\",\"tags\":[],\"doc\":null}},{\"id\":\"bb3ea004-6baf-4d99-cd6e-06bea1fddd54\",\"type\":\"DataRange1d\",\"attributes\":{\"sources\":[{\"columns\":[\"y\"],\"source\":{\"type\":\"ColumnDataSource\",\"id\":\"81cb3a4f-f936-4cf3-cc7d-76d5c67c08bb\"}}],\"id\":\"bb3ea004-6baf-4d99-cd6e-06bea1fddd54\",\"tags\":[],\"doc\":null}},{\"id\":\"7537f756-2a49-416f-c154-05c1cce90179\",\"type\":\"ToolEvents\",\"attributes\":{\"tags\":[],\"id\":\"7537f756-2a49-416f-c154-05c1cce90179\",\"geometries\":[],\"doc\":null}},{\"id\":\"53d7df09-5501-496b-c9ec-9d44136d600f\",\"type\":\"BasicTickFormatter\",\"attributes\":{\"id\":\"53d7df09-5501-496b-c9ec-9d44136d600f\",\"tags\":[],\"doc\":null}},{\"id\":\"ca7506ff-1e44-4c87-ccbe-5dec035fcea3\",\"type\":\"BasicTicker\",\"attributes\":{\"num_minor_ticks\":5,\"id\":\"ca7506ff-1e44-4c87-ccbe-5dec035fcea3\",\"tags\":[],\"doc\":null}},{\"id\":\"62f59265-f704-4687-c692-e10e419f40bf\",\"type\":\"LinearAxis\",\"attributes\":{\"formatter\":{\"type\":\"BasicTickFormatter\",\"id\":\"53d7df09-5501-496b-c9ec-9d44136d600f\"},\"ticker\":{\"type\":\"BasicTicker\",\"id\":\"ca7506ff-1e44-4c87-ccbe-5dec035fcea3\"},\"plot\":{\"id\":\"07cfbc61-5db8-42f6-c279-33fdcd4930ea\",\"type\":\"Plot\",\"subtype\":\"Figure\"},\"axis_label\":null,\"id\":\"62f59265-f704-4687-c692-e10e419f40bf\",\"doc\":null,\"tags\":[]}},{\"id\":\"ac828e8c-06ef-4efe-ce08-8b457c44c7d8\",\"type\":\"Grid\",\"attributes\":{\"dimension\":0,\"plot\":{\"id\":\"07cfbc61-5db8-42f6-c279-33fdcd4930ea\",\"type\":\"Plot\",\"subtype\":\"Figure\"},\"ticker\":{\"type\":\"BasicTicker\",\"id\":\"ca7506ff-1e44-4c87-ccbe-5dec035fcea3\"},\"id\":\"ac828e8c-06ef-4efe-ce08-8b457c44c7d8\",\"doc\":null,\"tags\":[]}},{\"id\":\"415d2a3d-994a-434f-c309-8fac9e4a0208\",\"type\":\"BasicTickFormatter\",\"attributes\":{\"id\":\"415d2a3d-994a-434f-c309-8fac9e4a0208\",\"tags\":[],\"doc\":null}},{\"id\":\"d08555bc-98e3-4728-c740-3be08ea81899\",\"type\":\"BasicTicker\",\"attributes\":{\"num_minor_ticks\":5,\"id\":\"d08555bc-98e3-4728-c740-3be08ea81899\",\"tags\":[],\"doc\":null}},{\"id\":\"c92dd6be-0f5d-45dd-c590-f54dda674f71\",\"type\":\"LinearAxis\",\"attributes\":{\"formatter\":{\"type\":\"BasicTickFormatter\",\"id\":\"415d2a3d-994a-434f-c309-8fac9e4a0208\"},\"ticker\":{\"type\":\"BasicTicker\",\"id\":\"d08555bc-98e3-4728-c740-3be08ea81899\"},\"plot\":{\"id\":\"07cfbc61-5db8-42f6-c279-33fdcd4930ea\",\"type\":\"Plot\",\"subtype\":\"Figure\"},\"axis_label\":null,\"id\":\"c92dd6be-0f5d-45dd-c590-f54dda674f71\",\"doc\":null,\"tags\":[]}},{\"id\":\"07af567d-58f4-4707-c77f-1336e4f004b8\",\"type\":\"Grid\",\"attributes\":{\"dimension\":1,\"plot\":{\"id\":\"07cfbc61-5db8-42f6-c279-33fdcd4930ea\",\"type\":\"Plot\",\"subtype\":\"Figure\"},\"ticker\":{\"type\":\"BasicTicker\",\"id\":\"d08555bc-98e3-4728-c740-3be08ea81899\"},\"id\":\"07af567d-58f4-4707-c77f-1336e4f004b8\",\"doc\":null,\"tags\":[]}},{\"id\":\"8539be08-166e-4a44-cae5-7a868790f3d2\",\"type\":\"PanTool\",\"attributes\":{\"plot\":{\"id\":\"07cfbc61-5db8-42f6-c279-33fdcd4930ea\",\"type\":\"Plot\",\"subtype\":\"Figure\"},\"dimensions\":[\"width\",\"height\"],\"id\":\"8539be08-166e-4a44-cae5-7a868790f3d2\",\"doc\":null,\"tags\":[]}},{\"id\":\"2ea08c81-5b4d-4461-c474-95a3fd8fb642\",\"type\":\"WheelZoomTool\",\"attributes\":{\"plot\":{\"id\":\"07cfbc61-5db8-42f6-c279-33fdcd4930ea\",\"type\":\"Plot\",\"subtype\":\"Figure\"},\"dimensions\":[\"width\",\"height\"],\"id\":\"2ea08c81-5b4d-4461-c474-95a3fd8fb642\",\"doc\":null,\"tags\":[]}},{\"id\":\"ef18727e-2a27-411c-c11b-d88877d2e2d8\",\"type\":\"BoxZoomTool\",\"attributes\":{\"plot\":{\"id\":\"07cfbc61-5db8-42f6-c279-33fdcd4930ea\",\"type\":\"Plot\",\"subtype\":\"Figure\"},\"id\":\"ef18727e-2a27-411c-c11b-d88877d2e2d8\",\"tags\":[],\"doc\":null}},{\"id\":\"d1ca1702-4f72-4dce-cdeb-cdd2ce9a6f59\",\"type\":\"PreviewSaveTool\",\"attributes\":{\"plot\":{\"id\":\"07cfbc61-5db8-42f6-c279-33fdcd4930ea\",\"type\":\"Plot\",\"subtype\":\"Figure\"},\"id\":\"d1ca1702-4f72-4dce-cdeb-cdd2ce9a6f59\",\"tags\":[],\"doc\":null}},{\"id\":\"2fba88ac-97d8-4b90-cb6d-69743d30f700\",\"type\":\"ResizeTool\",\"attributes\":{\"plot\":{\"id\":\"07cfbc61-5db8-42f6-c279-33fdcd4930ea\",\"type\":\"Plot\",\"subtype\":\"Figure\"},\"id\":\"2fba88ac-97d8-4b90-cb6d-69743d30f700\",\"tags\":[],\"doc\":null}},{\"id\":\"cd78b730-7158-4b23-cb53-c79d77bf6bfc\",\"type\":\"ResetTool\",\"attributes\":{\"plot\":{\"id\":\"07cfbc61-5db8-42f6-c279-33fdcd4930ea\",\"type\":\"Plot\",\"subtype\":\"Figure\"},\"id\":\"cd78b730-7158-4b23-cb53-c79d77bf6bfc\",\"tags\":[],\"doc\":null}},{\"id\":\"07cfbc61-5db8-42f6-c279-33fdcd4930ea\",\"type\":\"Plot\",\"attributes\":{\"x_range\":{\"type\":\"DataRange1d\",\"id\":\"bfe31262-2ac5-473f-c759-19ea6a1685d9\"},\"tool_events\":{\"type\":\"ToolEvents\",\"id\":\"7537f756-2a49-416f-c154-05c1cce90179\"},\"below\":[{\"type\":\"LinearAxis\",\"id\":\"62f59265-f704-4687-c692-e10e419f40bf\"}],\"renderers\":[{\"type\":\"GlyphRenderer\",\"id\":\"a9c6790d-db5c-4747-c762-a7df26f0d7d7\"},{\"type\":\"LinearAxis\",\"id\":\"62f59265-f704-4687-c692-e10e419f40bf\"},{\"type\":\"Grid\",\"id\":\"ac828e8c-06ef-4efe-ce08-8b457c44c7d8\"},{\"type\":\"LinearAxis\",\"id\":\"c92dd6be-0f5d-45dd-c590-f54dda674f71\"},{\"type\":\"Grid\",\"id\":\"07af567d-58f4-4707-c77f-1336e4f004b8\"}],\"above\":[],\"tools\":[{\"type\":\"PanTool\",\"id\":\"8539be08-166e-4a44-cae5-7a868790f3d2\"},{\"type\":\"WheelZoomTool\",\"id\":\"2ea08c81-5b4d-4461-c474-95a3fd8fb642\"},{\"type\":\"BoxZoomTool\",\"id\":\"ef18727e-2a27-411c-c11b-d88877d2e2d8\"},{\"type\":\"PreviewSaveTool\",\"id\":\"d1ca1702-4f72-4dce-cdeb-cdd2ce9a6f59\"},{\"type\":\"ResizeTool\",\"id\":\"2fba88ac-97d8-4b90-cb6d-69743d30f700\"},{\"type\":\"ResetTool\",\"id\":\"cd78b730-7158-4b23-cb53-c79d77bf6bfc\"}],\"doc\":null,\"right\":[],\"title\":\"Untitled Plot\",\"extra_x_ranges\":{},\"left\":[{\"type\":\"LinearAxis\",\"id\":\"c92dd6be-0f5d-45dd-c590-f54dda674f71\"}],\"y_range\":{\"type\":\"DataRange1d\",\"id\":\"bb3ea004-6baf-4d99-cd6e-06bea1fddd54\"},\"id\":\"07cfbc61-5db8-42f6-c279-33fdcd4930ea\",\"extra_y_ranges\":{},\"tags\":[]}}];\n",
       "  Bokeh.load_models(all_models);\n",
       "  var model = Bokeh.Collections(modeltype).get(modelid);\n",
       "  $(\"#7c1b9af9-d2c5-41df-c1cd-b20a2dd907ab\").html(''); // clear any previous plot in window_id\n",
       "  var view = new model.default_view({model: model, el: \"#7c1b9af9-d2c5-41df-c1cd-b20a2dd907ab\"});\n",
       "    } else {\n",
       "  load_lib(bokehjs_url, function() {\n",
       "      console.log(\"Bokeh: BokehJS plotting callback run at\", new Date())\n",
       "      var modelid = \"07cfbc61-5db8-42f6-c279-33fdcd4930ea\";\n",
       "      var modeltype = \"Plot\";\n",
       "      var all_models = [{\"id\":\"81cb3a4f-f936-4cf3-cc7d-76d5c67c08bb\",\"type\":\"ColumnDataSource\",\"attributes\":{\"data\":{\"y\":[0.2738777816469,0.59624084228123,0.91860390291555,1.2409669635499,1.5633300241842,1.8856930848185,2.2080561454529,2.5304192060872,2.8527822667215,3.1751453273558,3.4975083879902,3.8198714486245,4.1422345092588,4.4645975698931,4.7869606305275,5.1093236911618,5.4316867517961,5.7540498124304,6.0764128730648,6.3987759336991,6.7211389943334,7.0435020549677,7.3658651156021,7.6882281762364,8.0105912368707,8.332954297505,8.6553173581394,8.9776804187737,9.300043479408,9.6224065400423,9.9447696006767,10.267132661311,10.589495721945,10.91185878258,11.234221843214,11.556584903848,11.878947964483,12.201311025117,12.523674085751,12.846037146386,13.16840020702,13.490763267654,13.813126328289,14.135489388923,14.457852449557,14.780215510192,15.102578570826,15.42494163146,15.747304692095,16.069667752729,16.392030813363,16.714393873997,17.036756934632,17.359119995266,17.6814830559,18.003846116535,18.326209177169,18.648572237803,18.970935298438,19.293298359072,19.615661419706,19.938024480341,20.260387540975,20.582750601609,20.905113662244,21.227476722878,21.549839783512,21.872202844147,22.194565904781,22.516928965415,22.83929202605,23.161655086684,23.484018147318,23.806381207953,24.128744268587,24.451107329221,24.773470389856,25.09583345049,25.418196511124,25.740559571759,26.062922632393,26.385285693027,26.707648753662,27.030011814296,27.35237487493,27.674737935564,27.997100996199,28.319464056833,28.641827117467,28.964190178102,29.286553238736,29.60891629937,29.931279360005,30.253642420639,30.576005481273,30.898368541908,31.220731602542,31.543094663176,31.865457723811,32.187820784445],\"x\":[1,2,3,4,5,6,7,8,9,10,11,12,13,14,15,16,17,18,19,20,21,22,23,24,25,26,27,28,29,30,31,32,33,34,35,36,37,38,39,40,41,42,43,44,45,46,47,48,49,50,51,52,53,54,55,56,57,58,59,60,61,62,63,64,65,66,67,68,69,70,71,72,73,74,75,76,77,78,79,80,81,82,83,84,85,86,87,88,89,90,91,92,93,94,95,96,97,98,99,100]},\"column_names\":[\"y\",\"x\"],\"cont_ranges\":{},\"discrete_ranges\":{},\"selected\":[],\"id\":\"81cb3a4f-f936-4cf3-cc7d-76d5c67c08bb\",\"doc\":null,\"tags\":[]}},{\"id\":\"8a4c516b-07b6-453b-c5e0-8b34a9889090\",\"type\":\"Circle\",\"attributes\":{\"fill_alpha\":{\"units\":\"data\",\"value\":0.2},\"line_alpha\":{\"units\":\"data\",\"value\":1},\"doc\":null,\"size\":{\"units\":\"screen\",\"value\":10},\"fill_color\":{\"value\":\"red\"},\"line_color\":{\"value\":\"red\"},\"x\":{\"units\":\"data\",\"field\":\"x\"},\"id\":\"8a4c516b-07b6-453b-c5e0-8b34a9889090\",\"y\":{\"units\":\"data\",\"field\":\"y\"},\"tags\":[]}},{\"id\":\"56f31cad-4dfc-453e-c50c-3f645065f476\",\"type\":\"Circle\",\"attributes\":{\"fill_alpha\":{\"units\":\"data\",\"value\":0.2},\"line_alpha\":{\"units\":\"data\",\"value\":1},\"doc\":null,\"size\":{\"units\":\"screen\",\"value\":10},\"fill_color\":{\"value\":\"red\"},\"line_color\":{\"value\":\"red\"},\"x\":{\"units\":\"data\",\"field\":\"x\"},\"id\":\"56f31cad-4dfc-453e-c50c-3f645065f476\",\"y\":{\"units\":\"data\",\"field\":\"y\"},\"tags\":[]}},{\"id\":\"a9c6790d-db5c-4747-c762-a7df26f0d7d7\",\"type\":\"GlyphRenderer\",\"attributes\":{\"name\":null,\"nonselection_glyph\":{\"type\":\"Circle\",\"id\":\"56f31cad-4dfc-453e-c50c-3f645065f476\"},\"doc\":null,\"server_data_source\":null,\"data_source\":{\"type\":\"ColumnDataSource\",\"id\":\"81cb3a4f-f936-4cf3-cc7d-76d5c67c08bb\"},\"glyph\":{\"type\":\"Circle\",\"id\":\"8a4c516b-07b6-453b-c5e0-8b34a9889090\"},\"selection_glyph\":null,\"id\":\"a9c6790d-db5c-4747-c762-a7df26f0d7d7\",\"tags\":[]}},{\"id\":\"bfe31262-2ac5-473f-c759-19ea6a1685d9\",\"type\":\"DataRange1d\",\"attributes\":{\"sources\":[{\"columns\":[\"x\"],\"source\":{\"type\":\"ColumnDataSource\",\"id\":\"81cb3a4f-f936-4cf3-cc7d-76d5c67c08bb\"}}],\"id\":\"bfe31262-2ac5-473f-c759-19ea6a1685d9\",\"tags\":[],\"doc\":null}},{\"id\":\"bb3ea004-6baf-4d99-cd6e-06bea1fddd54\",\"type\":\"DataRange1d\",\"attributes\":{\"sources\":[{\"columns\":[\"y\"],\"source\":{\"type\":\"ColumnDataSource\",\"id\":\"81cb3a4f-f936-4cf3-cc7d-76d5c67c08bb\"}}],\"id\":\"bb3ea004-6baf-4d99-cd6e-06bea1fddd54\",\"tags\":[],\"doc\":null}},{\"id\":\"7537f756-2a49-416f-c154-05c1cce90179\",\"type\":\"ToolEvents\",\"attributes\":{\"tags\":[],\"id\":\"7537f756-2a49-416f-c154-05c1cce90179\",\"geometries\":[],\"doc\":null}},{\"id\":\"53d7df09-5501-496b-c9ec-9d44136d600f\",\"type\":\"BasicTickFormatter\",\"attributes\":{\"id\":\"53d7df09-5501-496b-c9ec-9d44136d600f\",\"tags\":[],\"doc\":null}},{\"id\":\"ca7506ff-1e44-4c87-ccbe-5dec035fcea3\",\"type\":\"BasicTicker\",\"attributes\":{\"num_minor_ticks\":5,\"id\":\"ca7506ff-1e44-4c87-ccbe-5dec035fcea3\",\"tags\":[],\"doc\":null}},{\"id\":\"62f59265-f704-4687-c692-e10e419f40bf\",\"type\":\"LinearAxis\",\"attributes\":{\"formatter\":{\"type\":\"BasicTickFormatter\",\"id\":\"53d7df09-5501-496b-c9ec-9d44136d600f\"},\"ticker\":{\"type\":\"BasicTicker\",\"id\":\"ca7506ff-1e44-4c87-ccbe-5dec035fcea3\"},\"plot\":{\"id\":\"07cfbc61-5db8-42f6-c279-33fdcd4930ea\",\"type\":\"Plot\",\"subtype\":\"Figure\"},\"axis_label\":null,\"id\":\"62f59265-f704-4687-c692-e10e419f40bf\",\"doc\":null,\"tags\":[]}},{\"id\":\"ac828e8c-06ef-4efe-ce08-8b457c44c7d8\",\"type\":\"Grid\",\"attributes\":{\"dimension\":0,\"plot\":{\"id\":\"07cfbc61-5db8-42f6-c279-33fdcd4930ea\",\"type\":\"Plot\",\"subtype\":\"Figure\"},\"ticker\":{\"type\":\"BasicTicker\",\"id\":\"ca7506ff-1e44-4c87-ccbe-5dec035fcea3\"},\"id\":\"ac828e8c-06ef-4efe-ce08-8b457c44c7d8\",\"doc\":null,\"tags\":[]}},{\"id\":\"415d2a3d-994a-434f-c309-8fac9e4a0208\",\"type\":\"BasicTickFormatter\",\"attributes\":{\"id\":\"415d2a3d-994a-434f-c309-8fac9e4a0208\",\"tags\":[],\"doc\":null}},{\"id\":\"d08555bc-98e3-4728-c740-3be08ea81899\",\"type\":\"BasicTicker\",\"attributes\":{\"num_minor_ticks\":5,\"id\":\"d08555bc-98e3-4728-c740-3be08ea81899\",\"tags\":[],\"doc\":null}},{\"id\":\"c92dd6be-0f5d-45dd-c590-f54dda674f71\",\"type\":\"LinearAxis\",\"attributes\":{\"formatter\":{\"type\":\"BasicTickFormatter\",\"id\":\"415d2a3d-994a-434f-c309-8fac9e4a0208\"},\"ticker\":{\"type\":\"BasicTicker\",\"id\":\"d08555bc-98e3-4728-c740-3be08ea81899\"},\"plot\":{\"id\":\"07cfbc61-5db8-42f6-c279-33fdcd4930ea\",\"type\":\"Plot\",\"subtype\":\"Figure\"},\"axis_label\":null,\"id\":\"c92dd6be-0f5d-45dd-c590-f54dda674f71\",\"doc\":null,\"tags\":[]}},{\"id\":\"07af567d-58f4-4707-c77f-1336e4f004b8\",\"type\":\"Grid\",\"attributes\":{\"dimension\":1,\"plot\":{\"id\":\"07cfbc61-5db8-42f6-c279-33fdcd4930ea\",\"type\":\"Plot\",\"subtype\":\"Figure\"},\"ticker\":{\"type\":\"BasicTicker\",\"id\":\"d08555bc-98e3-4728-c740-3be08ea81899\"},\"id\":\"07af567d-58f4-4707-c77f-1336e4f004b8\",\"doc\":null,\"tags\":[]}},{\"id\":\"8539be08-166e-4a44-cae5-7a868790f3d2\",\"type\":\"PanTool\",\"attributes\":{\"plot\":{\"id\":\"07cfbc61-5db8-42f6-c279-33fdcd4930ea\",\"type\":\"Plot\",\"subtype\":\"Figure\"},\"dimensions\":[\"width\",\"height\"],\"id\":\"8539be08-166e-4a44-cae5-7a868790f3d2\",\"doc\":null,\"tags\":[]}},{\"id\":\"2ea08c81-5b4d-4461-c474-95a3fd8fb642\",\"type\":\"WheelZoomTool\",\"attributes\":{\"plot\":{\"id\":\"07cfbc61-5db8-42f6-c279-33fdcd4930ea\",\"type\":\"Plot\",\"subtype\":\"Figure\"},\"dimensions\":[\"width\",\"height\"],\"id\":\"2ea08c81-5b4d-4461-c474-95a3fd8fb642\",\"doc\":null,\"tags\":[]}},{\"id\":\"ef18727e-2a27-411c-c11b-d88877d2e2d8\",\"type\":\"BoxZoomTool\",\"attributes\":{\"plot\":{\"id\":\"07cfbc61-5db8-42f6-c279-33fdcd4930ea\",\"type\":\"Plot\",\"subtype\":\"Figure\"},\"id\":\"ef18727e-2a27-411c-c11b-d88877d2e2d8\",\"tags\":[],\"doc\":null}},{\"id\":\"d1ca1702-4f72-4dce-cdeb-cdd2ce9a6f59\",\"type\":\"PreviewSaveTool\",\"attributes\":{\"plot\":{\"id\":\"07cfbc61-5db8-42f6-c279-33fdcd4930ea\",\"type\":\"Plot\",\"subtype\":\"Figure\"},\"id\":\"d1ca1702-4f72-4dce-cdeb-cdd2ce9a6f59\",\"tags\":[],\"doc\":null}},{\"id\":\"2fba88ac-97d8-4b90-cb6d-69743d30f700\",\"type\":\"ResizeTool\",\"attributes\":{\"plot\":{\"id\":\"07cfbc61-5db8-42f6-c279-33fdcd4930ea\",\"type\":\"Plot\",\"subtype\":\"Figure\"},\"id\":\"2fba88ac-97d8-4b90-cb6d-69743d30f700\",\"tags\":[],\"doc\":null}},{\"id\":\"cd78b730-7158-4b23-cb53-c79d77bf6bfc\",\"type\":\"ResetTool\",\"attributes\":{\"plot\":{\"id\":\"07cfbc61-5db8-42f6-c279-33fdcd4930ea\",\"type\":\"Plot\",\"subtype\":\"Figure\"},\"id\":\"cd78b730-7158-4b23-cb53-c79d77bf6bfc\",\"tags\":[],\"doc\":null}},{\"id\":\"07cfbc61-5db8-42f6-c279-33fdcd4930ea\",\"type\":\"Plot\",\"attributes\":{\"x_range\":{\"type\":\"DataRange1d\",\"id\":\"bfe31262-2ac5-473f-c759-19ea6a1685d9\"},\"tool_events\":{\"type\":\"ToolEvents\",\"id\":\"7537f756-2a49-416f-c154-05c1cce90179\"},\"below\":[{\"type\":\"LinearAxis\",\"id\":\"62f59265-f704-4687-c692-e10e419f40bf\"}],\"renderers\":[{\"type\":\"GlyphRenderer\",\"id\":\"a9c6790d-db5c-4747-c762-a7df26f0d7d7\"},{\"type\":\"LinearAxis\",\"id\":\"62f59265-f704-4687-c692-e10e419f40bf\"},{\"type\":\"Grid\",\"id\":\"ac828e8c-06ef-4efe-ce08-8b457c44c7d8\"},{\"type\":\"LinearAxis\",\"id\":\"c92dd6be-0f5d-45dd-c590-f54dda674f71\"},{\"type\":\"Grid\",\"id\":\"07af567d-58f4-4707-c77f-1336e4f004b8\"}],\"above\":[],\"tools\":[{\"type\":\"PanTool\",\"id\":\"8539be08-166e-4a44-cae5-7a868790f3d2\"},{\"type\":\"WheelZoomTool\",\"id\":\"2ea08c81-5b4d-4461-c474-95a3fd8fb642\"},{\"type\":\"BoxZoomTool\",\"id\":\"ef18727e-2a27-411c-c11b-d88877d2e2d8\"},{\"type\":\"PreviewSaveTool\",\"id\":\"d1ca1702-4f72-4dce-cdeb-cdd2ce9a6f59\"},{\"type\":\"ResizeTool\",\"id\":\"2fba88ac-97d8-4b90-cb6d-69743d30f700\"},{\"type\":\"ResetTool\",\"id\":\"cd78b730-7158-4b23-cb53-c79d77bf6bfc\"}],\"doc\":null,\"right\":[],\"title\":\"Untitled Plot\",\"extra_x_ranges\":{},\"left\":[{\"type\":\"LinearAxis\",\"id\":\"c92dd6be-0f5d-45dd-c590-f54dda674f71\"}],\"y_range\":{\"type\":\"DataRange1d\",\"id\":\"bb3ea004-6baf-4d99-cd6e-06bea1fddd54\"},\"id\":\"07cfbc61-5db8-42f6-c279-33fdcd4930ea\",\"extra_y_ranges\":{},\"tags\":[]}}];\n",
       "      Bokeh.load_models(all_models);\n",
       "      var model = Bokeh.Collections(modeltype).get(modelid);\n",
       "      $(\"#7c1b9af9-d2c5-41df-c1cd-b20a2dd907ab\").html(''); // clear any previous plot in window_id\n",
       "      var view = new model.default_view({model: model, el: \"#7c1b9af9-d2c5-41df-c1cd-b20a2dd907ab\"});\n",
       "  });\n",
       "    }\n",
       "});\n",
       "</script>\n",
       "<div class=\"plotdiv\" id=\"7c1b9af9-d2c5-41df-c1cd-b20a2dd907ab\"></div>\n"
      ]
     },
     "metadata": {},
     "output_type": "display_data"
    },
    {
     "data": {
      "text/html": [
       "<script type=\"text/javascript\">\n",
       "$(function() {\n",
       "    if (typeof (window._bokeh_onload_callbacks) === \"undefined\"){\n",
       "  window._bokeh_onload_callbacks = [];\n",
       "    }\n",
       "    function load_lib(url, callback){\n",
       "  window._bokeh_onload_callbacks.push(callback);\n",
       "  if (window._bokeh_is_loading){\n",
       "      console.log(\"Bokeh: BokehJS is being loaded, scheduling callback at\", new Date());\n",
       "      return null;\n",
       "  }\n",
       "  console.log(\"Bokeh: BokehJS not loaded, scheduling load and callback at\", new Date());\n",
       "  window._bokeh_is_loading = true;\n",
       "  var s = document.createElement('script');\n",
       "  s.src = url;\n",
       "  s.async = true;\n",
       "  s.onreadystatechange = s.onload = function(){\n",
       "      Bokeh.embed.inject_css(\"https://cdn.pydata.org/bokeh-0.7.0.min.css\");\n",
       "      window._bokeh_onload_callbacks.forEach(function(callback){callback()});\n",
       "  };\n",
       "  s.onerror = function(){\n",
       "      console.warn(\"failed to load library \" + url);\n",
       "  };\n",
       "  document.getElementsByTagName(\"head\")[0].appendChild(s);\n",
       "    }\n",
       "\n",
       "    bokehjs_url = \"https://cdn.pydata.org/bokeh-0.7.0.min.js\"\n",
       "\n",
       "    var elt = document.getElementById(\"7c1b9af9-d2c5-41df-c1cd-b20a2dd907ab\");\n",
       "    if(elt==null) {\n",
       "  console.log(\"Bokeh: ERROR: autoload.js configured with elementid '7c1b9af9-d2c5-41df-c1cd-b20a2dd907ab'\"\n",
       "        + \"but no matching script tag was found. \")\n",
       "  return false;\n",
       "    }\n",
       "\n",
       "    if(typeof(Bokeh) !== \"undefined\") {\n",
       "  console.log(\"Bokeh: BokehJS loaded, going straight to plotting\");\n",
       "  var modelid = \"ef2423b3-132b-4e85-cee7-acdcdf40bda9\";\n",
       "  var modeltype = \"Plot\";\n",
       "  var all_models = [{\"id\":\"db7be2dd-ce95-4c53-cc97-a730deddb705\",\"type\":\"ColumnDataSource\",\"attributes\":{\"data\":{\"y\":[0.2738777816469,0.59624084228123,0.91860390291555,1.2409669635499,1.5633300241842,1.8856930848185,2.2080561454529,2.5304192060872,2.8527822667215,3.1751453273558,3.4975083879902,3.8198714486245,4.1422345092588,4.4645975698931,4.7869606305275,5.1093236911618,5.4316867517961,5.7540498124304,6.0764128730648,6.3987759336991,6.7211389943334,7.0435020549677,7.3658651156021,7.6882281762364,8.0105912368707,8.332954297505,8.6553173581394,8.9776804187737,9.300043479408,9.6224065400423,9.9447696006767,10.267132661311,10.589495721945,10.91185878258,11.234221843214,11.556584903848,11.878947964483,12.201311025117,12.523674085751,12.846037146386,13.16840020702,13.490763267654,13.813126328289,14.135489388923,14.457852449557,14.780215510192,15.102578570826,15.42494163146,15.747304692095,16.069667752729,16.392030813363,16.714393873997,17.036756934632,17.359119995266,17.6814830559,18.003846116535,18.326209177169,18.648572237803,18.970935298438,19.293298359072,19.615661419706,19.938024480341,20.260387540975,20.582750601609,20.905113662244,21.227476722878,21.549839783512,21.872202844147,22.194565904781,22.516928965415,22.83929202605,23.161655086684,23.484018147318,23.806381207953,24.128744268587,24.451107329221,24.773470389856,25.09583345049,25.418196511124,25.740559571759,26.062922632393,26.385285693027,26.707648753662,27.030011814296,27.35237487493,27.674737935564,27.997100996199,28.319464056833,28.641827117467,28.964190178102,29.286553238736,29.60891629937,29.931279360005,30.253642420639,30.576005481273,30.898368541908,31.220731602542,31.543094663176,31.865457723811,32.187820784445],\"x\":[1,2,3,4,5,6,7,8,9,10,11,12,13,14,15,16,17,18,19,20,21,22,23,24,25,26,27,28,29,30,31,32,33,34,35,36,37,38,39,40,41,42,43,44,45,46,47,48,49,50,51,52,53,54,55,56,57,58,59,60,61,62,63,64,65,66,67,68,69,70,71,72,73,74,75,76,77,78,79,80,81,82,83,84,85,86,87,88,89,90,91,92,93,94,95,96,97,98,99,100]},\"column_names\":[\"y\",\"x\"],\"cont_ranges\":{},\"discrete_ranges\":{},\"selected\":[],\"id\":\"db7be2dd-ce95-4c53-cc97-a730deddb705\",\"doc\":null,\"tags\":[]}},{\"id\":\"d2b302b0-cde8-4301-c30f-7fe5551c6a99\",\"type\":\"Circle\",\"attributes\":{\"fill_alpha\":{\"units\":\"data\",\"value\":0.2},\"line_alpha\":{\"units\":\"data\",\"value\":1},\"doc\":null,\"size\":{\"units\":\"screen\",\"value\":10},\"fill_color\":{\"value\":\"red\"},\"line_color\":{\"value\":\"red\"},\"x\":{\"units\":\"data\",\"field\":\"x\"},\"id\":\"d2b302b0-cde8-4301-c30f-7fe5551c6a99\",\"y\":{\"units\":\"data\",\"field\":\"y\"},\"tags\":[]}},{\"id\":\"dca56f1e-ca14-4806-c881-ade5dfc89657\",\"type\":\"Circle\",\"attributes\":{\"fill_alpha\":{\"units\":\"data\",\"value\":0.2},\"line_alpha\":{\"units\":\"data\",\"value\":1},\"doc\":null,\"size\":{\"units\":\"screen\",\"value\":10},\"fill_color\":{\"value\":\"red\"},\"line_color\":{\"value\":\"red\"},\"x\":{\"units\":\"data\",\"field\":\"x\"},\"id\":\"dca56f1e-ca14-4806-c881-ade5dfc89657\",\"y\":{\"units\":\"data\",\"field\":\"y\"},\"tags\":[]}},{\"id\":\"4709fc73-8cfd-40d8-c025-b01c47a729c8\",\"type\":\"GlyphRenderer\",\"attributes\":{\"name\":null,\"nonselection_glyph\":{\"type\":\"Circle\",\"id\":\"dca56f1e-ca14-4806-c881-ade5dfc89657\"},\"doc\":null,\"server_data_source\":null,\"data_source\":{\"type\":\"ColumnDataSource\",\"id\":\"db7be2dd-ce95-4c53-cc97-a730deddb705\"},\"glyph\":{\"type\":\"Circle\",\"id\":\"d2b302b0-cde8-4301-c30f-7fe5551c6a99\"},\"selection_glyph\":null,\"id\":\"4709fc73-8cfd-40d8-c025-b01c47a729c8\",\"tags\":[]}},{\"id\":\"634a7e6e-b108-4c60-cc8a-f922d1a57e36\",\"type\":\"ColumnDataSource\",\"attributes\":{\"data\":{\"y\":[0.2738777816469,0.59624084228123,0.91860390291555,1.2409669635499,1.5633300241842,1.8856930848185,2.2080561454529,2.5304192060872,2.8527822667215,3.1751453273558,3.4975083879902,3.8198714486245,4.1422345092588,4.4645975698931,4.7869606305275,5.1093236911618,5.4316867517961,5.7540498124304,6.0764128730648,6.3987759336991,6.7211389943334,7.0435020549677,7.3658651156021,7.6882281762364,8.0105912368707,8.332954297505,8.6553173581394,8.9776804187737,9.300043479408,9.6224065400423,9.9447696006767,10.267132661311,10.589495721945,10.91185878258,11.234221843214,11.556584903848,11.878947964483,12.201311025117,12.523674085751,12.846037146386,13.16840020702,13.490763267654,13.813126328289,14.135489388923,14.457852449557,14.780215510192,15.102578570826,15.42494163146,15.747304692095,16.069667752729,16.392030813363,16.714393873997,17.036756934632,17.359119995266,17.6814830559,18.003846116535,18.326209177169,18.648572237803,18.970935298438,19.293298359072,19.615661419706,19.938024480341,20.260387540975,20.582750601609,20.905113662244,21.227476722878,21.549839783512,21.872202844147,22.194565904781,22.516928965415,22.83929202605,23.161655086684,23.484018147318,23.806381207953,24.128744268587,24.451107329221,24.773470389856,25.09583345049,25.418196511124,25.740559571759,26.062922632393,26.385285693027,26.707648753662,27.030011814296,27.35237487493,27.674737935564,27.997100996199,28.319464056833,28.641827117467,28.964190178102,29.286553238736,29.60891629937,29.931279360005,30.253642420639,30.576005481273,30.898368541908,31.220731602542,31.543094663176,31.865457723811,32.187820784445],\"x\":[1,2,3,4,5,6,7,8,9,10,11,12,13,14,15,16,17,18,19,20,21,22,23,24,25,26,27,28,29,30,31,32,33,34,35,36,37,38,39,40,41,42,43,44,45,46,47,48,49,50,51,52,53,54,55,56,57,58,59,60,61,62,63,64,65,66,67,68,69,70,71,72,73,74,75,76,77,78,79,80,81,82,83,84,85,86,87,88,89,90,91,92,93,94,95,96,97,98,99,100]},\"column_names\":[\"y\",\"x\"],\"cont_ranges\":{},\"discrete_ranges\":{},\"selected\":[],\"id\":\"634a7e6e-b108-4c60-cc8a-f922d1a57e36\",\"doc\":null,\"tags\":[]}},{\"id\":\"57f5a8d7-aefb-49c0-c9ab-689aa4f9304c\",\"type\":\"Line\",\"attributes\":{\"fill_alpha\":{\"units\":\"data\",\"value\":0.2},\"line_alpha\":{\"units\":\"data\",\"value\":1},\"doc\":null,\"size\":{\"units\":\"screen\",\"value\":10},\"fill_color\":{\"value\":\"red\"},\"line_color\":{\"value\":\"red\"},\"x\":{\"units\":\"data\",\"field\":\"x\"},\"id\":\"57f5a8d7-aefb-49c0-c9ab-689aa4f9304c\",\"y\":{\"units\":\"data\",\"field\":\"y\"},\"tags\":[]}},{\"id\":\"f4295e77-845a-4df5-cdea-846e5b310a0d\",\"type\":\"Line\",\"attributes\":{\"fill_alpha\":{\"units\":\"data\",\"value\":0.2},\"line_alpha\":{\"units\":\"data\",\"value\":1},\"doc\":null,\"size\":{\"units\":\"screen\",\"value\":10},\"fill_color\":{\"value\":\"red\"},\"line_color\":{\"value\":\"red\"},\"x\":{\"units\":\"data\",\"field\":\"x\"},\"id\":\"f4295e77-845a-4df5-cdea-846e5b310a0d\",\"y\":{\"units\":\"data\",\"field\":\"y\"},\"tags\":[]}},{\"id\":\"e77b16b9-deaa-4e1a-ce58-67037845f1ad\",\"type\":\"GlyphRenderer\",\"attributes\":{\"name\":null,\"nonselection_glyph\":{\"type\":\"Line\",\"id\":\"f4295e77-845a-4df5-cdea-846e5b310a0d\"},\"doc\":null,\"server_data_source\":null,\"data_source\":{\"type\":\"ColumnDataSource\",\"id\":\"634a7e6e-b108-4c60-cc8a-f922d1a57e36\"},\"glyph\":{\"type\":\"Line\",\"id\":\"57f5a8d7-aefb-49c0-c9ab-689aa4f9304c\"},\"selection_glyph\":null,\"id\":\"e77b16b9-deaa-4e1a-ce58-67037845f1ad\",\"tags\":[]}},{\"id\":\"172a33f0-2d09-4956-c95a-e1460e695a29\",\"type\":\"DataRange1d\",\"attributes\":{\"sources\":[{\"columns\":[\"x\"],\"source\":{\"type\":\"ColumnDataSource\",\"id\":\"db7be2dd-ce95-4c53-cc97-a730deddb705\"}},{\"columns\":[\"x\"],\"source\":{\"type\":\"ColumnDataSource\",\"id\":\"634a7e6e-b108-4c60-cc8a-f922d1a57e36\"}}],\"id\":\"172a33f0-2d09-4956-c95a-e1460e695a29\",\"tags\":[],\"doc\":null}},{\"id\":\"dfc09552-d0e6-49a3-c9a9-522aa83dc0fb\",\"type\":\"DataRange1d\",\"attributes\":{\"sources\":[{\"columns\":[\"y\"],\"source\":{\"type\":\"ColumnDataSource\",\"id\":\"db7be2dd-ce95-4c53-cc97-a730deddb705\"}},{\"columns\":[\"y\"],\"source\":{\"type\":\"ColumnDataSource\",\"id\":\"634a7e6e-b108-4c60-cc8a-f922d1a57e36\"}}],\"id\":\"dfc09552-d0e6-49a3-c9a9-522aa83dc0fb\",\"tags\":[],\"doc\":null}},{\"id\":\"4e7815ea-3fbd-4378-c30f-86c7e4e399c2\",\"type\":\"ToolEvents\",\"attributes\":{\"tags\":[],\"id\":\"4e7815ea-3fbd-4378-c30f-86c7e4e399c2\",\"geometries\":[],\"doc\":null}},{\"id\":\"ce2a2493-c62f-49a1-c95f-e0b88ef12bdb\",\"type\":\"BasicTickFormatter\",\"attributes\":{\"id\":\"ce2a2493-c62f-49a1-c95f-e0b88ef12bdb\",\"tags\":[],\"doc\":null}},{\"id\":\"08ebcdf2-75b0-4069-c04f-ef9c5a8b367d\",\"type\":\"BasicTicker\",\"attributes\":{\"num_minor_ticks\":5,\"id\":\"08ebcdf2-75b0-4069-c04f-ef9c5a8b367d\",\"tags\":[],\"doc\":null}},{\"id\":\"a0225978-4165-4c89-cccd-a169123596c2\",\"type\":\"LinearAxis\",\"attributes\":{\"formatter\":{\"type\":\"BasicTickFormatter\",\"id\":\"ce2a2493-c62f-49a1-c95f-e0b88ef12bdb\"},\"ticker\":{\"type\":\"BasicTicker\",\"id\":\"08ebcdf2-75b0-4069-c04f-ef9c5a8b367d\"},\"plot\":{\"id\":\"ef2423b3-132b-4e85-cee7-acdcdf40bda9\",\"type\":\"Plot\",\"subtype\":\"Figure\"},\"axis_label\":null,\"id\":\"a0225978-4165-4c89-cccd-a169123596c2\",\"doc\":null,\"tags\":[]}},{\"id\":\"ffdb957c-654e-48e6-c873-ae2ee8f96007\",\"type\":\"Grid\",\"attributes\":{\"dimension\":0,\"plot\":{\"id\":\"ef2423b3-132b-4e85-cee7-acdcdf40bda9\",\"type\":\"Plot\",\"subtype\":\"Figure\"},\"ticker\":{\"type\":\"BasicTicker\",\"id\":\"08ebcdf2-75b0-4069-c04f-ef9c5a8b367d\"},\"id\":\"ffdb957c-654e-48e6-c873-ae2ee8f96007\",\"doc\":null,\"tags\":[]}},{\"id\":\"cce1acfe-1211-4fea-cfc1-f42059e1a89e\",\"type\":\"BasicTickFormatter\",\"attributes\":{\"id\":\"cce1acfe-1211-4fea-cfc1-f42059e1a89e\",\"tags\":[],\"doc\":null}},{\"id\":\"c0768301-0633-4135-c1ce-5030bb803c14\",\"type\":\"BasicTicker\",\"attributes\":{\"num_minor_ticks\":5,\"id\":\"c0768301-0633-4135-c1ce-5030bb803c14\",\"tags\":[],\"doc\":null}},{\"id\":\"44ae5ab9-acee-4fb1-cfbb-1ae6e88280ba\",\"type\":\"LinearAxis\",\"attributes\":{\"formatter\":{\"type\":\"BasicTickFormatter\",\"id\":\"cce1acfe-1211-4fea-cfc1-f42059e1a89e\"},\"ticker\":{\"type\":\"BasicTicker\",\"id\":\"c0768301-0633-4135-c1ce-5030bb803c14\"},\"plot\":{\"id\":\"ef2423b3-132b-4e85-cee7-acdcdf40bda9\",\"type\":\"Plot\",\"subtype\":\"Figure\"},\"axis_label\":null,\"id\":\"44ae5ab9-acee-4fb1-cfbb-1ae6e88280ba\",\"doc\":null,\"tags\":[]}},{\"id\":\"f265c227-281b-4cc3-cc3d-824df5a435d2\",\"type\":\"Grid\",\"attributes\":{\"dimension\":1,\"plot\":{\"id\":\"ef2423b3-132b-4e85-cee7-acdcdf40bda9\",\"type\":\"Plot\",\"subtype\":\"Figure\"},\"ticker\":{\"type\":\"BasicTicker\",\"id\":\"c0768301-0633-4135-c1ce-5030bb803c14\"},\"id\":\"f265c227-281b-4cc3-cc3d-824df5a435d2\",\"doc\":null,\"tags\":[]}},{\"id\":\"7ef9ca3e-03aa-4cee-cced-9e3812df4acf\",\"type\":\"PanTool\",\"attributes\":{\"plot\":{\"id\":\"ef2423b3-132b-4e85-cee7-acdcdf40bda9\",\"type\":\"Plot\",\"subtype\":\"Figure\"},\"dimensions\":[\"width\",\"height\"],\"id\":\"7ef9ca3e-03aa-4cee-cced-9e3812df4acf\",\"doc\":null,\"tags\":[]}},{\"id\":\"2f4c2b0d-a5f2-4687-c6c3-4087494ede67\",\"type\":\"WheelZoomTool\",\"attributes\":{\"plot\":{\"id\":\"ef2423b3-132b-4e85-cee7-acdcdf40bda9\",\"type\":\"Plot\",\"subtype\":\"Figure\"},\"dimensions\":[\"width\",\"height\"],\"id\":\"2f4c2b0d-a5f2-4687-c6c3-4087494ede67\",\"doc\":null,\"tags\":[]}},{\"id\":\"0c5caf5b-bcb7-46b4-c6c1-53d403643cb8\",\"type\":\"BoxZoomTool\",\"attributes\":{\"plot\":{\"id\":\"ef2423b3-132b-4e85-cee7-acdcdf40bda9\",\"type\":\"Plot\",\"subtype\":\"Figure\"},\"id\":\"0c5caf5b-bcb7-46b4-c6c1-53d403643cb8\",\"tags\":[],\"doc\":null}},{\"id\":\"31adcdcd-f81c-4325-c386-e2121ffb3801\",\"type\":\"PreviewSaveTool\",\"attributes\":{\"plot\":{\"id\":\"ef2423b3-132b-4e85-cee7-acdcdf40bda9\",\"type\":\"Plot\",\"subtype\":\"Figure\"},\"id\":\"31adcdcd-f81c-4325-c386-e2121ffb3801\",\"tags\":[],\"doc\":null}},{\"id\":\"699d7ea2-1d6b-4d79-cd69-1f1dcf963bdc\",\"type\":\"ResizeTool\",\"attributes\":{\"plot\":{\"id\":\"ef2423b3-132b-4e85-cee7-acdcdf40bda9\",\"type\":\"Plot\",\"subtype\":\"Figure\"},\"id\":\"699d7ea2-1d6b-4d79-cd69-1f1dcf963bdc\",\"tags\":[],\"doc\":null}},{\"id\":\"0f5f9099-faca-495b-c964-8a4b991e6dcf\",\"type\":\"ResetTool\",\"attributes\":{\"plot\":{\"id\":\"ef2423b3-132b-4e85-cee7-acdcdf40bda9\",\"type\":\"Plot\",\"subtype\":\"Figure\"},\"id\":\"0f5f9099-faca-495b-c964-8a4b991e6dcf\",\"tags\":[],\"doc\":null}},{\"id\":\"ef2423b3-132b-4e85-cee7-acdcdf40bda9\",\"type\":\"Plot\",\"attributes\":{\"x_range\":{\"type\":\"DataRange1d\",\"id\":\"172a33f0-2d09-4956-c95a-e1460e695a29\"},\"tool_events\":{\"type\":\"ToolEvents\",\"id\":\"4e7815ea-3fbd-4378-c30f-86c7e4e399c2\"},\"below\":[{\"type\":\"LinearAxis\",\"id\":\"a0225978-4165-4c89-cccd-a169123596c2\"}],\"renderers\":[{\"type\":\"GlyphRenderer\",\"id\":\"4709fc73-8cfd-40d8-c025-b01c47a729c8\"},{\"type\":\"GlyphRenderer\",\"id\":\"e77b16b9-deaa-4e1a-ce58-67037845f1ad\"},{\"type\":\"LinearAxis\",\"id\":\"a0225978-4165-4c89-cccd-a169123596c2\"},{\"type\":\"Grid\",\"id\":\"ffdb957c-654e-48e6-c873-ae2ee8f96007\"},{\"type\":\"LinearAxis\",\"id\":\"44ae5ab9-acee-4fb1-cfbb-1ae6e88280ba\"},{\"type\":\"Grid\",\"id\":\"f265c227-281b-4cc3-cc3d-824df5a435d2\"}],\"above\":[],\"tools\":[{\"type\":\"PanTool\",\"id\":\"7ef9ca3e-03aa-4cee-cced-9e3812df4acf\"},{\"type\":\"WheelZoomTool\",\"id\":\"2f4c2b0d-a5f2-4687-c6c3-4087494ede67\"},{\"type\":\"BoxZoomTool\",\"id\":\"0c5caf5b-bcb7-46b4-c6c1-53d403643cb8\"},{\"type\":\"PreviewSaveTool\",\"id\":\"31adcdcd-f81c-4325-c386-e2121ffb3801\"},{\"type\":\"ResizeTool\",\"id\":\"699d7ea2-1d6b-4d79-cd69-1f1dcf963bdc\"},{\"type\":\"ResetTool\",\"id\":\"0f5f9099-faca-495b-c964-8a4b991e6dcf\"}],\"doc\":null,\"right\":[],\"title\":\"Untitled Plot\",\"extra_x_ranges\":{},\"left\":[{\"type\":\"LinearAxis\",\"id\":\"44ae5ab9-acee-4fb1-cfbb-1ae6e88280ba\"}],\"y_range\":{\"type\":\"DataRange1d\",\"id\":\"dfc09552-d0e6-49a3-c9a9-522aa83dc0fb\"},\"id\":\"ef2423b3-132b-4e85-cee7-acdcdf40bda9\",\"extra_y_ranges\":{},\"tags\":[]}}];\n",
       "  Bokeh.load_models(all_models);\n",
       "  var model = Bokeh.Collections(modeltype).get(modelid);\n",
       "  $(\"#7c1b9af9-d2c5-41df-c1cd-b20a2dd907ab\").html(''); // clear any previous plot in window_id\n",
       "  var view = new model.default_view({model: model, el: \"#7c1b9af9-d2c5-41df-c1cd-b20a2dd907ab\"});\n",
       "    } else {\n",
       "  load_lib(bokehjs_url, function() {\n",
       "      console.log(\"Bokeh: BokehJS plotting callback run at\", new Date())\n",
       "      var modelid = \"ef2423b3-132b-4e85-cee7-acdcdf40bda9\";\n",
       "      var modeltype = \"Plot\";\n",
       "      var all_models = [{\"id\":\"db7be2dd-ce95-4c53-cc97-a730deddb705\",\"type\":\"ColumnDataSource\",\"attributes\":{\"data\":{\"y\":[0.2738777816469,0.59624084228123,0.91860390291555,1.2409669635499,1.5633300241842,1.8856930848185,2.2080561454529,2.5304192060872,2.8527822667215,3.1751453273558,3.4975083879902,3.8198714486245,4.1422345092588,4.4645975698931,4.7869606305275,5.1093236911618,5.4316867517961,5.7540498124304,6.0764128730648,6.3987759336991,6.7211389943334,7.0435020549677,7.3658651156021,7.6882281762364,8.0105912368707,8.332954297505,8.6553173581394,8.9776804187737,9.300043479408,9.6224065400423,9.9447696006767,10.267132661311,10.589495721945,10.91185878258,11.234221843214,11.556584903848,11.878947964483,12.201311025117,12.523674085751,12.846037146386,13.16840020702,13.490763267654,13.813126328289,14.135489388923,14.457852449557,14.780215510192,15.102578570826,15.42494163146,15.747304692095,16.069667752729,16.392030813363,16.714393873997,17.036756934632,17.359119995266,17.6814830559,18.003846116535,18.326209177169,18.648572237803,18.970935298438,19.293298359072,19.615661419706,19.938024480341,20.260387540975,20.582750601609,20.905113662244,21.227476722878,21.549839783512,21.872202844147,22.194565904781,22.516928965415,22.83929202605,23.161655086684,23.484018147318,23.806381207953,24.128744268587,24.451107329221,24.773470389856,25.09583345049,25.418196511124,25.740559571759,26.062922632393,26.385285693027,26.707648753662,27.030011814296,27.35237487493,27.674737935564,27.997100996199,28.319464056833,28.641827117467,28.964190178102,29.286553238736,29.60891629937,29.931279360005,30.253642420639,30.576005481273,30.898368541908,31.220731602542,31.543094663176,31.865457723811,32.187820784445],\"x\":[1,2,3,4,5,6,7,8,9,10,11,12,13,14,15,16,17,18,19,20,21,22,23,24,25,26,27,28,29,30,31,32,33,34,35,36,37,38,39,40,41,42,43,44,45,46,47,48,49,50,51,52,53,54,55,56,57,58,59,60,61,62,63,64,65,66,67,68,69,70,71,72,73,74,75,76,77,78,79,80,81,82,83,84,85,86,87,88,89,90,91,92,93,94,95,96,97,98,99,100]},\"column_names\":[\"y\",\"x\"],\"cont_ranges\":{},\"discrete_ranges\":{},\"selected\":[],\"id\":\"db7be2dd-ce95-4c53-cc97-a730deddb705\",\"doc\":null,\"tags\":[]}},{\"id\":\"d2b302b0-cde8-4301-c30f-7fe5551c6a99\",\"type\":\"Circle\",\"attributes\":{\"fill_alpha\":{\"units\":\"data\",\"value\":0.2},\"line_alpha\":{\"units\":\"data\",\"value\":1},\"doc\":null,\"size\":{\"units\":\"screen\",\"value\":10},\"fill_color\":{\"value\":\"red\"},\"line_color\":{\"value\":\"red\"},\"x\":{\"units\":\"data\",\"field\":\"x\"},\"id\":\"d2b302b0-cde8-4301-c30f-7fe5551c6a99\",\"y\":{\"units\":\"data\",\"field\":\"y\"},\"tags\":[]}},{\"id\":\"dca56f1e-ca14-4806-c881-ade5dfc89657\",\"type\":\"Circle\",\"attributes\":{\"fill_alpha\":{\"units\":\"data\",\"value\":0.2},\"line_alpha\":{\"units\":\"data\",\"value\":1},\"doc\":null,\"size\":{\"units\":\"screen\",\"value\":10},\"fill_color\":{\"value\":\"red\"},\"line_color\":{\"value\":\"red\"},\"x\":{\"units\":\"data\",\"field\":\"x\"},\"id\":\"dca56f1e-ca14-4806-c881-ade5dfc89657\",\"y\":{\"units\":\"data\",\"field\":\"y\"},\"tags\":[]}},{\"id\":\"4709fc73-8cfd-40d8-c025-b01c47a729c8\",\"type\":\"GlyphRenderer\",\"attributes\":{\"name\":null,\"nonselection_glyph\":{\"type\":\"Circle\",\"id\":\"dca56f1e-ca14-4806-c881-ade5dfc89657\"},\"doc\":null,\"server_data_source\":null,\"data_source\":{\"type\":\"ColumnDataSource\",\"id\":\"db7be2dd-ce95-4c53-cc97-a730deddb705\"},\"glyph\":{\"type\":\"Circle\",\"id\":\"d2b302b0-cde8-4301-c30f-7fe5551c6a99\"},\"selection_glyph\":null,\"id\":\"4709fc73-8cfd-40d8-c025-b01c47a729c8\",\"tags\":[]}},{\"id\":\"634a7e6e-b108-4c60-cc8a-f922d1a57e36\",\"type\":\"ColumnDataSource\",\"attributes\":{\"data\":{\"y\":[0.2738777816469,0.59624084228123,0.91860390291555,1.2409669635499,1.5633300241842,1.8856930848185,2.2080561454529,2.5304192060872,2.8527822667215,3.1751453273558,3.4975083879902,3.8198714486245,4.1422345092588,4.4645975698931,4.7869606305275,5.1093236911618,5.4316867517961,5.7540498124304,6.0764128730648,6.3987759336991,6.7211389943334,7.0435020549677,7.3658651156021,7.6882281762364,8.0105912368707,8.332954297505,8.6553173581394,8.9776804187737,9.300043479408,9.6224065400423,9.9447696006767,10.267132661311,10.589495721945,10.91185878258,11.234221843214,11.556584903848,11.878947964483,12.201311025117,12.523674085751,12.846037146386,13.16840020702,13.490763267654,13.813126328289,14.135489388923,14.457852449557,14.780215510192,15.102578570826,15.42494163146,15.747304692095,16.069667752729,16.392030813363,16.714393873997,17.036756934632,17.359119995266,17.6814830559,18.003846116535,18.326209177169,18.648572237803,18.970935298438,19.293298359072,19.615661419706,19.938024480341,20.260387540975,20.582750601609,20.905113662244,21.227476722878,21.549839783512,21.872202844147,22.194565904781,22.516928965415,22.83929202605,23.161655086684,23.484018147318,23.806381207953,24.128744268587,24.451107329221,24.773470389856,25.09583345049,25.418196511124,25.740559571759,26.062922632393,26.385285693027,26.707648753662,27.030011814296,27.35237487493,27.674737935564,27.997100996199,28.319464056833,28.641827117467,28.964190178102,29.286553238736,29.60891629937,29.931279360005,30.253642420639,30.576005481273,30.898368541908,31.220731602542,31.543094663176,31.865457723811,32.187820784445],\"x\":[1,2,3,4,5,6,7,8,9,10,11,12,13,14,15,16,17,18,19,20,21,22,23,24,25,26,27,28,29,30,31,32,33,34,35,36,37,38,39,40,41,42,43,44,45,46,47,48,49,50,51,52,53,54,55,56,57,58,59,60,61,62,63,64,65,66,67,68,69,70,71,72,73,74,75,76,77,78,79,80,81,82,83,84,85,86,87,88,89,90,91,92,93,94,95,96,97,98,99,100]},\"column_names\":[\"y\",\"x\"],\"cont_ranges\":{},\"discrete_ranges\":{},\"selected\":[],\"id\":\"634a7e6e-b108-4c60-cc8a-f922d1a57e36\",\"doc\":null,\"tags\":[]}},{\"id\":\"57f5a8d7-aefb-49c0-c9ab-689aa4f9304c\",\"type\":\"Line\",\"attributes\":{\"fill_alpha\":{\"units\":\"data\",\"value\":0.2},\"line_alpha\":{\"units\":\"data\",\"value\":1},\"doc\":null,\"size\":{\"units\":\"screen\",\"value\":10},\"fill_color\":{\"value\":\"red\"},\"line_color\":{\"value\":\"red\"},\"x\":{\"units\":\"data\",\"field\":\"x\"},\"id\":\"57f5a8d7-aefb-49c0-c9ab-689aa4f9304c\",\"y\":{\"units\":\"data\",\"field\":\"y\"},\"tags\":[]}},{\"id\":\"f4295e77-845a-4df5-cdea-846e5b310a0d\",\"type\":\"Line\",\"attributes\":{\"fill_alpha\":{\"units\":\"data\",\"value\":0.2},\"line_alpha\":{\"units\":\"data\",\"value\":1},\"doc\":null,\"size\":{\"units\":\"screen\",\"value\":10},\"fill_color\":{\"value\":\"red\"},\"line_color\":{\"value\":\"red\"},\"x\":{\"units\":\"data\",\"field\":\"x\"},\"id\":\"f4295e77-845a-4df5-cdea-846e5b310a0d\",\"y\":{\"units\":\"data\",\"field\":\"y\"},\"tags\":[]}},{\"id\":\"e77b16b9-deaa-4e1a-ce58-67037845f1ad\",\"type\":\"GlyphRenderer\",\"attributes\":{\"name\":null,\"nonselection_glyph\":{\"type\":\"Line\",\"id\":\"f4295e77-845a-4df5-cdea-846e5b310a0d\"},\"doc\":null,\"server_data_source\":null,\"data_source\":{\"type\":\"ColumnDataSource\",\"id\":\"634a7e6e-b108-4c60-cc8a-f922d1a57e36\"},\"glyph\":{\"type\":\"Line\",\"id\":\"57f5a8d7-aefb-49c0-c9ab-689aa4f9304c\"},\"selection_glyph\":null,\"id\":\"e77b16b9-deaa-4e1a-ce58-67037845f1ad\",\"tags\":[]}},{\"id\":\"172a33f0-2d09-4956-c95a-e1460e695a29\",\"type\":\"DataRange1d\",\"attributes\":{\"sources\":[{\"columns\":[\"x\"],\"source\":{\"type\":\"ColumnDataSource\",\"id\":\"db7be2dd-ce95-4c53-cc97-a730deddb705\"}},{\"columns\":[\"x\"],\"source\":{\"type\":\"ColumnDataSource\",\"id\":\"634a7e6e-b108-4c60-cc8a-f922d1a57e36\"}}],\"id\":\"172a33f0-2d09-4956-c95a-e1460e695a29\",\"tags\":[],\"doc\":null}},{\"id\":\"dfc09552-d0e6-49a3-c9a9-522aa83dc0fb\",\"type\":\"DataRange1d\",\"attributes\":{\"sources\":[{\"columns\":[\"y\"],\"source\":{\"type\":\"ColumnDataSource\",\"id\":\"db7be2dd-ce95-4c53-cc97-a730deddb705\"}},{\"columns\":[\"y\"],\"source\":{\"type\":\"ColumnDataSource\",\"id\":\"634a7e6e-b108-4c60-cc8a-f922d1a57e36\"}}],\"id\":\"dfc09552-d0e6-49a3-c9a9-522aa83dc0fb\",\"tags\":[],\"doc\":null}},{\"id\":\"4e7815ea-3fbd-4378-c30f-86c7e4e399c2\",\"type\":\"ToolEvents\",\"attributes\":{\"tags\":[],\"id\":\"4e7815ea-3fbd-4378-c30f-86c7e4e399c2\",\"geometries\":[],\"doc\":null}},{\"id\":\"ce2a2493-c62f-49a1-c95f-e0b88ef12bdb\",\"type\":\"BasicTickFormatter\",\"attributes\":{\"id\":\"ce2a2493-c62f-49a1-c95f-e0b88ef12bdb\",\"tags\":[],\"doc\":null}},{\"id\":\"08ebcdf2-75b0-4069-c04f-ef9c5a8b367d\",\"type\":\"BasicTicker\",\"attributes\":{\"num_minor_ticks\":5,\"id\":\"08ebcdf2-75b0-4069-c04f-ef9c5a8b367d\",\"tags\":[],\"doc\":null}},{\"id\":\"a0225978-4165-4c89-cccd-a169123596c2\",\"type\":\"LinearAxis\",\"attributes\":{\"formatter\":{\"type\":\"BasicTickFormatter\",\"id\":\"ce2a2493-c62f-49a1-c95f-e0b88ef12bdb\"},\"ticker\":{\"type\":\"BasicTicker\",\"id\":\"08ebcdf2-75b0-4069-c04f-ef9c5a8b367d\"},\"plot\":{\"id\":\"ef2423b3-132b-4e85-cee7-acdcdf40bda9\",\"type\":\"Plot\",\"subtype\":\"Figure\"},\"axis_label\":null,\"id\":\"a0225978-4165-4c89-cccd-a169123596c2\",\"doc\":null,\"tags\":[]}},{\"id\":\"ffdb957c-654e-48e6-c873-ae2ee8f96007\",\"type\":\"Grid\",\"attributes\":{\"dimension\":0,\"plot\":{\"id\":\"ef2423b3-132b-4e85-cee7-acdcdf40bda9\",\"type\":\"Plot\",\"subtype\":\"Figure\"},\"ticker\":{\"type\":\"BasicTicker\",\"id\":\"08ebcdf2-75b0-4069-c04f-ef9c5a8b367d\"},\"id\":\"ffdb957c-654e-48e6-c873-ae2ee8f96007\",\"doc\":null,\"tags\":[]}},{\"id\":\"cce1acfe-1211-4fea-cfc1-f42059e1a89e\",\"type\":\"BasicTickFormatter\",\"attributes\":{\"id\":\"cce1acfe-1211-4fea-cfc1-f42059e1a89e\",\"tags\":[],\"doc\":null}},{\"id\":\"c0768301-0633-4135-c1ce-5030bb803c14\",\"type\":\"BasicTicker\",\"attributes\":{\"num_minor_ticks\":5,\"id\":\"c0768301-0633-4135-c1ce-5030bb803c14\",\"tags\":[],\"doc\":null}},{\"id\":\"44ae5ab9-acee-4fb1-cfbb-1ae6e88280ba\",\"type\":\"LinearAxis\",\"attributes\":{\"formatter\":{\"type\":\"BasicTickFormatter\",\"id\":\"cce1acfe-1211-4fea-cfc1-f42059e1a89e\"},\"ticker\":{\"type\":\"BasicTicker\",\"id\":\"c0768301-0633-4135-c1ce-5030bb803c14\"},\"plot\":{\"id\":\"ef2423b3-132b-4e85-cee7-acdcdf40bda9\",\"type\":\"Plot\",\"subtype\":\"Figure\"},\"axis_label\":null,\"id\":\"44ae5ab9-acee-4fb1-cfbb-1ae6e88280ba\",\"doc\":null,\"tags\":[]}},{\"id\":\"f265c227-281b-4cc3-cc3d-824df5a435d2\",\"type\":\"Grid\",\"attributes\":{\"dimension\":1,\"plot\":{\"id\":\"ef2423b3-132b-4e85-cee7-acdcdf40bda9\",\"type\":\"Plot\",\"subtype\":\"Figure\"},\"ticker\":{\"type\":\"BasicTicker\",\"id\":\"c0768301-0633-4135-c1ce-5030bb803c14\"},\"id\":\"f265c227-281b-4cc3-cc3d-824df5a435d2\",\"doc\":null,\"tags\":[]}},{\"id\":\"7ef9ca3e-03aa-4cee-cced-9e3812df4acf\",\"type\":\"PanTool\",\"attributes\":{\"plot\":{\"id\":\"ef2423b3-132b-4e85-cee7-acdcdf40bda9\",\"type\":\"Plot\",\"subtype\":\"Figure\"},\"dimensions\":[\"width\",\"height\"],\"id\":\"7ef9ca3e-03aa-4cee-cced-9e3812df4acf\",\"doc\":null,\"tags\":[]}},{\"id\":\"2f4c2b0d-a5f2-4687-c6c3-4087494ede67\",\"type\":\"WheelZoomTool\",\"attributes\":{\"plot\":{\"id\":\"ef2423b3-132b-4e85-cee7-acdcdf40bda9\",\"type\":\"Plot\",\"subtype\":\"Figure\"},\"dimensions\":[\"width\",\"height\"],\"id\":\"2f4c2b0d-a5f2-4687-c6c3-4087494ede67\",\"doc\":null,\"tags\":[]}},{\"id\":\"0c5caf5b-bcb7-46b4-c6c1-53d403643cb8\",\"type\":\"BoxZoomTool\",\"attributes\":{\"plot\":{\"id\":\"ef2423b3-132b-4e85-cee7-acdcdf40bda9\",\"type\":\"Plot\",\"subtype\":\"Figure\"},\"id\":\"0c5caf5b-bcb7-46b4-c6c1-53d403643cb8\",\"tags\":[],\"doc\":null}},{\"id\":\"31adcdcd-f81c-4325-c386-e2121ffb3801\",\"type\":\"PreviewSaveTool\",\"attributes\":{\"plot\":{\"id\":\"ef2423b3-132b-4e85-cee7-acdcdf40bda9\",\"type\":\"Plot\",\"subtype\":\"Figure\"},\"id\":\"31adcdcd-f81c-4325-c386-e2121ffb3801\",\"tags\":[],\"doc\":null}},{\"id\":\"699d7ea2-1d6b-4d79-cd69-1f1dcf963bdc\",\"type\":\"ResizeTool\",\"attributes\":{\"plot\":{\"id\":\"ef2423b3-132b-4e85-cee7-acdcdf40bda9\",\"type\":\"Plot\",\"subtype\":\"Figure\"},\"id\":\"699d7ea2-1d6b-4d79-cd69-1f1dcf963bdc\",\"tags\":[],\"doc\":null}},{\"id\":\"0f5f9099-faca-495b-c964-8a4b991e6dcf\",\"type\":\"ResetTool\",\"attributes\":{\"plot\":{\"id\":\"ef2423b3-132b-4e85-cee7-acdcdf40bda9\",\"type\":\"Plot\",\"subtype\":\"Figure\"},\"id\":\"0f5f9099-faca-495b-c964-8a4b991e6dcf\",\"tags\":[],\"doc\":null}},{\"id\":\"ef2423b3-132b-4e85-cee7-acdcdf40bda9\",\"type\":\"Plot\",\"attributes\":{\"x_range\":{\"type\":\"DataRange1d\",\"id\":\"172a33f0-2d09-4956-c95a-e1460e695a29\"},\"tool_events\":{\"type\":\"ToolEvents\",\"id\":\"4e7815ea-3fbd-4378-c30f-86c7e4e399c2\"},\"below\":[{\"type\":\"LinearAxis\",\"id\":\"a0225978-4165-4c89-cccd-a169123596c2\"}],\"renderers\":[{\"type\":\"GlyphRenderer\",\"id\":\"4709fc73-8cfd-40d8-c025-b01c47a729c8\"},{\"type\":\"GlyphRenderer\",\"id\":\"e77b16b9-deaa-4e1a-ce58-67037845f1ad\"},{\"type\":\"LinearAxis\",\"id\":\"a0225978-4165-4c89-cccd-a169123596c2\"},{\"type\":\"Grid\",\"id\":\"ffdb957c-654e-48e6-c873-ae2ee8f96007\"},{\"type\":\"LinearAxis\",\"id\":\"44ae5ab9-acee-4fb1-cfbb-1ae6e88280ba\"},{\"type\":\"Grid\",\"id\":\"f265c227-281b-4cc3-cc3d-824df5a435d2\"}],\"above\":[],\"tools\":[{\"type\":\"PanTool\",\"id\":\"7ef9ca3e-03aa-4cee-cced-9e3812df4acf\"},{\"type\":\"WheelZoomTool\",\"id\":\"2f4c2b0d-a5f2-4687-c6c3-4087494ede67\"},{\"type\":\"BoxZoomTool\",\"id\":\"0c5caf5b-bcb7-46b4-c6c1-53d403643cb8\"},{\"type\":\"PreviewSaveTool\",\"id\":\"31adcdcd-f81c-4325-c386-e2121ffb3801\"},{\"type\":\"ResizeTool\",\"id\":\"699d7ea2-1d6b-4d79-cd69-1f1dcf963bdc\"},{\"type\":\"ResetTool\",\"id\":\"0f5f9099-faca-495b-c964-8a4b991e6dcf\"}],\"doc\":null,\"right\":[],\"title\":\"Untitled Plot\",\"extra_x_ranges\":{},\"left\":[{\"type\":\"LinearAxis\",\"id\":\"44ae5ab9-acee-4fb1-cfbb-1ae6e88280ba\"}],\"y_range\":{\"type\":\"DataRange1d\",\"id\":\"dfc09552-d0e6-49a3-c9a9-522aa83dc0fb\"},\"id\":\"ef2423b3-132b-4e85-cee7-acdcdf40bda9\",\"extra_y_ranges\":{},\"tags\":[]}}];\n",
       "      Bokeh.load_models(all_models);\n",
       "      var model = Bokeh.Collections(modeltype).get(modelid);\n",
       "      $(\"#7c1b9af9-d2c5-41df-c1cd-b20a2dd907ab\").html(''); // clear any previous plot in window_id\n",
       "      var view = new model.default_view({model: model, el: \"#7c1b9af9-d2c5-41df-c1cd-b20a2dd907ab\"});\n",
       "  });\n",
       "    }\n",
       "});\n",
       "</script>\n",
       "<div class=\"plotdiv\" id=\"e1408a38-77ae-4d66-cd57-980f4f4c0ece\"></div>\n"
      ]
     },
     "metadata": {},
     "output_type": "display_data"
    },
    {
     "data": {
      "text/html": [
       "<script type=\"text/javascript\">\n",
       "$(function() {\n",
       "    if (typeof (window._bokeh_onload_callbacks) === \"undefined\"){\n",
       "  window._bokeh_onload_callbacks = [];\n",
       "    }\n",
       "    function load_lib(url, callback){\n",
       "  window._bokeh_onload_callbacks.push(callback);\n",
       "  if (window._bokeh_is_loading){\n",
       "      console.log(\"Bokeh: BokehJS is being loaded, scheduling callback at\", new Date());\n",
       "      return null;\n",
       "  }\n",
       "  console.log(\"Bokeh: BokehJS not loaded, scheduling load and callback at\", new Date());\n",
       "  window._bokeh_is_loading = true;\n",
       "  var s = document.createElement('script');\n",
       "  s.src = url;\n",
       "  s.async = true;\n",
       "  s.onreadystatechange = s.onload = function(){\n",
       "      Bokeh.embed.inject_css(\"https://cdn.pydata.org/bokeh-0.7.0.min.css\");\n",
       "      window._bokeh_onload_callbacks.forEach(function(callback){callback()});\n",
       "  };\n",
       "  s.onerror = function(){\n",
       "      console.warn(\"failed to load library \" + url);\n",
       "  };\n",
       "  document.getElementsByTagName(\"head\")[0].appendChild(s);\n",
       "    }\n",
       "\n",
       "    bokehjs_url = \"https://cdn.pydata.org/bokeh-0.7.0.min.js\"\n",
       "\n",
       "    var elt = document.getElementById(\"7c1b9af9-d2c5-41df-c1cd-b20a2dd907ab\");\n",
       "    if(elt==null) {\n",
       "  console.log(\"Bokeh: ERROR: autoload.js configured with elementid '7c1b9af9-d2c5-41df-c1cd-b20a2dd907ab'\"\n",
       "        + \"but no matching script tag was found. \")\n",
       "  return false;\n",
       "    }\n",
       "\n",
       "    if(typeof(Bokeh) !== \"undefined\") {\n",
       "  console.log(\"Bokeh: BokehJS loaded, going straight to plotting\");\n",
       "  var modelid = \"9b1ac6be-c465-48e8-c8e2-05ea7785c99d\";\n",
       "  var modeltype = \"Plot\";\n",
       "  var all_models = [{\"id\":\"fd88a202-82e3-4eb0-ce56-b50cdae5ef4a\",\"type\":\"ColumnDataSource\",\"attributes\":{\"data\":{\"y\":[0.2738777816469,0.59624084228123,0.91860390291555,1.2409669635499,1.5633300241842,1.8856930848185,2.2080561454529,2.5304192060872,2.8527822667215,3.1751453273558,3.4975083879902,3.8198714486245,4.1422345092588,4.4645975698931,4.7869606305275,5.1093236911618,5.4316867517961,5.7540498124304,6.0764128730648,6.3987759336991,6.7211389943334,7.0435020549677,7.3658651156021,7.6882281762364,8.0105912368707,8.332954297505,8.6553173581394,8.9776804187737,9.300043479408,9.6224065400423,9.9447696006767,10.267132661311,10.589495721945,10.91185878258,11.234221843214,11.556584903848,11.878947964483,12.201311025117,12.523674085751,12.846037146386,13.16840020702,13.490763267654,13.813126328289,14.135489388923,14.457852449557,14.780215510192,15.102578570826,15.42494163146,15.747304692095,16.069667752729,16.392030813363,16.714393873997,17.036756934632,17.359119995266,17.6814830559,18.003846116535,18.326209177169,18.648572237803,18.970935298438,19.293298359072,19.615661419706,19.938024480341,20.260387540975,20.582750601609,20.905113662244,21.227476722878,21.549839783512,21.872202844147,22.194565904781,22.516928965415,22.83929202605,23.161655086684,23.484018147318,23.806381207953,24.128744268587,24.451107329221,24.773470389856,25.09583345049,25.418196511124,25.740559571759,26.062922632393,26.385285693027,26.707648753662,27.030011814296,27.35237487493,27.674737935564,27.997100996199,28.319464056833,28.641827117467,28.964190178102,29.286553238736,29.60891629937,29.931279360005,30.253642420639,30.576005481273,30.898368541908,31.220731602542,31.543094663176,31.865457723811,32.187820784445],\"x\":[1,2,3,4,5,6,7,8,9,10,11,12,13,14,15,16,17,18,19,20,21,22,23,24,25,26,27,28,29,30,31,32,33,34,35,36,37,38,39,40,41,42,43,44,45,46,47,48,49,50,51,52,53,54,55,56,57,58,59,60,61,62,63,64,65,66,67,68,69,70,71,72,73,74,75,76,77,78,79,80,81,82,83,84,85,86,87,88,89,90,91,92,93,94,95,96,97,98,99,100]},\"column_names\":[\"y\",\"x\"],\"cont_ranges\":{},\"discrete_ranges\":{},\"selected\":[],\"id\":\"fd88a202-82e3-4eb0-ce56-b50cdae5ef4a\",\"doc\":null,\"tags\":[]}},{\"id\":\"c430ffaf-48ab-49f5-c9b4-19ab57314ab1\",\"type\":\"Circle\",\"attributes\":{\"fill_alpha\":{\"units\":\"data\",\"value\":0.2},\"line_alpha\":{\"units\":\"data\",\"value\":1},\"doc\":null,\"size\":{\"units\":\"screen\",\"value\":10},\"fill_color\":{\"value\":\"red\"},\"line_color\":{\"value\":\"red\"},\"x\":{\"units\":\"data\",\"field\":\"x\"},\"id\":\"c430ffaf-48ab-49f5-c9b4-19ab57314ab1\",\"y\":{\"units\":\"data\",\"field\":\"y\"},\"tags\":[]}},{\"id\":\"b0803650-e0d8-43a2-c36f-0504eec9938e\",\"type\":\"Circle\",\"attributes\":{\"fill_alpha\":{\"units\":\"data\",\"value\":0.2},\"line_alpha\":{\"units\":\"data\",\"value\":1},\"doc\":null,\"size\":{\"units\":\"screen\",\"value\":10},\"fill_color\":{\"value\":\"red\"},\"line_color\":{\"value\":\"red\"},\"x\":{\"units\":\"data\",\"field\":\"x\"},\"id\":\"b0803650-e0d8-43a2-c36f-0504eec9938e\",\"y\":{\"units\":\"data\",\"field\":\"y\"},\"tags\":[]}},{\"id\":\"03a950d6-0486-4557-c554-3cbb20a60e6a\",\"type\":\"GlyphRenderer\",\"attributes\":{\"name\":null,\"nonselection_glyph\":{\"type\":\"Circle\",\"id\":\"b0803650-e0d8-43a2-c36f-0504eec9938e\"},\"doc\":null,\"server_data_source\":null,\"data_source\":{\"type\":\"ColumnDataSource\",\"id\":\"fd88a202-82e3-4eb0-ce56-b50cdae5ef4a\"},\"glyph\":{\"type\":\"Circle\",\"id\":\"c430ffaf-48ab-49f5-c9b4-19ab57314ab1\"},\"selection_glyph\":null,\"id\":\"03a950d6-0486-4557-c554-3cbb20a60e6a\",\"tags\":[]}},{\"id\":\"91bebb8d-9042-4b03-cbb1-95a13c1db995\",\"type\":\"ColumnDataSource\",\"attributes\":{\"data\":{\"y\":[0.2738777816469,0.59624084228123,0.91860390291555,1.2409669635499,1.5633300241842,1.8856930848185,2.2080561454529,2.5304192060872,2.8527822667215,3.1751453273558,3.4975083879902,3.8198714486245,4.1422345092588,4.4645975698931,4.7869606305275,5.1093236911618,5.4316867517961,5.7540498124304,6.0764128730648,6.3987759336991,6.7211389943334,7.0435020549677,7.3658651156021,7.6882281762364,8.0105912368707,8.332954297505,8.6553173581394,8.9776804187737,9.300043479408,9.6224065400423,9.9447696006767,10.267132661311,10.589495721945,10.91185878258,11.234221843214,11.556584903848,11.878947964483,12.201311025117,12.523674085751,12.846037146386,13.16840020702,13.490763267654,13.813126328289,14.135489388923,14.457852449557,14.780215510192,15.102578570826,15.42494163146,15.747304692095,16.069667752729,16.392030813363,16.714393873997,17.036756934632,17.359119995266,17.6814830559,18.003846116535,18.326209177169,18.648572237803,18.970935298438,19.293298359072,19.615661419706,19.938024480341,20.260387540975,20.582750601609,20.905113662244,21.227476722878,21.549839783512,21.872202844147,22.194565904781,22.516928965415,22.83929202605,23.161655086684,23.484018147318,23.806381207953,24.128744268587,24.451107329221,24.773470389856,25.09583345049,25.418196511124,25.740559571759,26.062922632393,26.385285693027,26.707648753662,27.030011814296,27.35237487493,27.674737935564,27.997100996199,28.319464056833,28.641827117467,28.964190178102,29.286553238736,29.60891629937,29.931279360005,30.253642420639,30.576005481273,30.898368541908,31.220731602542,31.543094663176,31.865457723811,32.187820784445],\"x\":[1,2,3,4,5,6,7,8,9,10,11,12,13,14,15,16,17,18,19,20,21,22,23,24,25,26,27,28,29,30,31,32,33,34,35,36,37,38,39,40,41,42,43,44,45,46,47,48,49,50,51,52,53,54,55,56,57,58,59,60,61,62,63,64,65,66,67,68,69,70,71,72,73,74,75,76,77,78,79,80,81,82,83,84,85,86,87,88,89,90,91,92,93,94,95,96,97,98,99,100]},\"column_names\":[\"y\",\"x\"],\"cont_ranges\":{},\"discrete_ranges\":{},\"selected\":[],\"id\":\"91bebb8d-9042-4b03-cbb1-95a13c1db995\",\"doc\":null,\"tags\":[]}},{\"id\":\"9088a2f7-68a4-48f4-c89c-4a1d91a4eca0\",\"type\":\"Line\",\"attributes\":{\"fill_alpha\":{\"units\":\"data\",\"value\":0.2},\"line_alpha\":{\"units\":\"data\",\"value\":1},\"doc\":null,\"size\":{\"units\":\"screen\",\"value\":10},\"fill_color\":{\"value\":\"red\"},\"line_color\":{\"value\":\"red\"},\"x\":{\"units\":\"data\",\"field\":\"x\"},\"id\":\"9088a2f7-68a4-48f4-c89c-4a1d91a4eca0\",\"y\":{\"units\":\"data\",\"field\":\"y\"},\"tags\":[]}},{\"id\":\"2452d15f-7820-4cf9-cc19-ead6fdc49eae\",\"type\":\"Line\",\"attributes\":{\"fill_alpha\":{\"units\":\"data\",\"value\":0.2},\"line_alpha\":{\"units\":\"data\",\"value\":1},\"doc\":null,\"size\":{\"units\":\"screen\",\"value\":10},\"fill_color\":{\"value\":\"red\"},\"line_color\":{\"value\":\"red\"},\"x\":{\"units\":\"data\",\"field\":\"x\"},\"id\":\"2452d15f-7820-4cf9-cc19-ead6fdc49eae\",\"y\":{\"units\":\"data\",\"field\":\"y\"},\"tags\":[]}},{\"id\":\"be824834-71c2-4dbc-cd88-838c48333cf1\",\"type\":\"GlyphRenderer\",\"attributes\":{\"name\":null,\"nonselection_glyph\":{\"type\":\"Line\",\"id\":\"2452d15f-7820-4cf9-cc19-ead6fdc49eae\"},\"doc\":null,\"server_data_source\":null,\"data_source\":{\"type\":\"ColumnDataSource\",\"id\":\"91bebb8d-9042-4b03-cbb1-95a13c1db995\"},\"glyph\":{\"type\":\"Line\",\"id\":\"9088a2f7-68a4-48f4-c89c-4a1d91a4eca0\"},\"selection_glyph\":null,\"id\":\"be824834-71c2-4dbc-cd88-838c48333cf1\",\"tags\":[]}},{\"id\":\"81097506-19af-4662-c607-ea0829f50386\",\"type\":\"DataRange1d\",\"attributes\":{\"sources\":[{\"columns\":[\"x\"],\"source\":{\"type\":\"ColumnDataSource\",\"id\":\"fd88a202-82e3-4eb0-ce56-b50cdae5ef4a\"}},{\"columns\":[\"x\"],\"source\":{\"type\":\"ColumnDataSource\",\"id\":\"91bebb8d-9042-4b03-cbb1-95a13c1db995\"}}],\"id\":\"81097506-19af-4662-c607-ea0829f50386\",\"tags\":[],\"doc\":null}},{\"id\":\"2c6e5480-4b34-4d29-cd10-fb0e8d51a299\",\"type\":\"DataRange1d\",\"attributes\":{\"sources\":[{\"columns\":[\"y\"],\"source\":{\"type\":\"ColumnDataSource\",\"id\":\"fd88a202-82e3-4eb0-ce56-b50cdae5ef4a\"}},{\"columns\":[\"y\"],\"source\":{\"type\":\"ColumnDataSource\",\"id\":\"91bebb8d-9042-4b03-cbb1-95a13c1db995\"}}],\"id\":\"2c6e5480-4b34-4d29-cd10-fb0e8d51a299\",\"tags\":[],\"doc\":null}},{\"id\":\"9e5f2044-7692-43b2-c36e-29e834f42dd1\",\"type\":\"ToolEvents\",\"attributes\":{\"tags\":[],\"id\":\"9e5f2044-7692-43b2-c36e-29e834f42dd1\",\"geometries\":[],\"doc\":null}},{\"id\":\"2a063abb-f069-461b-c6cd-b09fdedae501\",\"type\":\"BasicTickFormatter\",\"attributes\":{\"id\":\"2a063abb-f069-461b-c6cd-b09fdedae501\",\"tags\":[],\"doc\":null}},{\"id\":\"f16b1999-3765-4ab8-ca1e-3c8fe8acb238\",\"type\":\"BasicTicker\",\"attributes\":{\"num_minor_ticks\":5,\"id\":\"f16b1999-3765-4ab8-ca1e-3c8fe8acb238\",\"tags\":[],\"doc\":null}},{\"id\":\"da24d8c8-aede-4eb1-ce12-93232b52d6fd\",\"type\":\"LinearAxis\",\"attributes\":{\"formatter\":{\"type\":\"BasicTickFormatter\",\"id\":\"2a063abb-f069-461b-c6cd-b09fdedae501\"},\"ticker\":{\"type\":\"BasicTicker\",\"id\":\"f16b1999-3765-4ab8-ca1e-3c8fe8acb238\"},\"plot\":{\"id\":\"9b1ac6be-c465-48e8-c8e2-05ea7785c99d\",\"type\":\"Plot\",\"subtype\":\"Figure\"},\"axis_label\":null,\"id\":\"da24d8c8-aede-4eb1-ce12-93232b52d6fd\",\"doc\":null,\"tags\":[]}},{\"id\":\"00f0b298-fc75-4cad-cca5-2472e67054a9\",\"type\":\"Grid\",\"attributes\":{\"dimension\":0,\"plot\":{\"id\":\"9b1ac6be-c465-48e8-c8e2-05ea7785c99d\",\"type\":\"Plot\",\"subtype\":\"Figure\"},\"ticker\":{\"type\":\"BasicTicker\",\"id\":\"f16b1999-3765-4ab8-ca1e-3c8fe8acb238\"},\"id\":\"00f0b298-fc75-4cad-cca5-2472e67054a9\",\"doc\":null,\"tags\":[]}},{\"id\":\"37e891e5-2a5a-4eca-ce96-aab6145deeec\",\"type\":\"BasicTickFormatter\",\"attributes\":{\"id\":\"37e891e5-2a5a-4eca-ce96-aab6145deeec\",\"tags\":[],\"doc\":null}},{\"id\":\"74fb34bf-a5ab-450e-c551-bc70cb083b55\",\"type\":\"BasicTicker\",\"attributes\":{\"num_minor_ticks\":5,\"id\":\"74fb34bf-a5ab-450e-c551-bc70cb083b55\",\"tags\":[],\"doc\":null}},{\"id\":\"f5c9ff93-7bec-48fa-c87e-dc7af21869a8\",\"type\":\"LinearAxis\",\"attributes\":{\"formatter\":{\"type\":\"BasicTickFormatter\",\"id\":\"37e891e5-2a5a-4eca-ce96-aab6145deeec\"},\"ticker\":{\"type\":\"BasicTicker\",\"id\":\"74fb34bf-a5ab-450e-c551-bc70cb083b55\"},\"plot\":{\"id\":\"9b1ac6be-c465-48e8-c8e2-05ea7785c99d\",\"type\":\"Plot\",\"subtype\":\"Figure\"},\"axis_label\":null,\"id\":\"f5c9ff93-7bec-48fa-c87e-dc7af21869a8\",\"doc\":null,\"tags\":[]}},{\"id\":\"90d6afa5-28c6-463a-c689-82c1476e7602\",\"type\":\"Grid\",\"attributes\":{\"dimension\":1,\"plot\":{\"id\":\"9b1ac6be-c465-48e8-c8e2-05ea7785c99d\",\"type\":\"Plot\",\"subtype\":\"Figure\"},\"ticker\":{\"type\":\"BasicTicker\",\"id\":\"74fb34bf-a5ab-450e-c551-bc70cb083b55\"},\"id\":\"90d6afa5-28c6-463a-c689-82c1476e7602\",\"doc\":null,\"tags\":[]}},{\"id\":\"49238225-ea8d-46a0-c682-d8c09fb677cb\",\"type\":\"PanTool\",\"attributes\":{\"plot\":{\"id\":\"9b1ac6be-c465-48e8-c8e2-05ea7785c99d\",\"type\":\"Plot\",\"subtype\":\"Figure\"},\"dimensions\":[\"width\",\"height\"],\"id\":\"49238225-ea8d-46a0-c682-d8c09fb677cb\",\"doc\":null,\"tags\":[]}},{\"id\":\"95d5e156-c808-40a1-c060-1156eee77cd7\",\"type\":\"WheelZoomTool\",\"attributes\":{\"plot\":{\"id\":\"9b1ac6be-c465-48e8-c8e2-05ea7785c99d\",\"type\":\"Plot\",\"subtype\":\"Figure\"},\"dimensions\":[\"width\",\"height\"],\"id\":\"95d5e156-c808-40a1-c060-1156eee77cd7\",\"doc\":null,\"tags\":[]}},{\"id\":\"35d40707-e603-4c47-cca2-171910e57543\",\"type\":\"BoxZoomTool\",\"attributes\":{\"plot\":{\"id\":\"9b1ac6be-c465-48e8-c8e2-05ea7785c99d\",\"type\":\"Plot\",\"subtype\":\"Figure\"},\"id\":\"35d40707-e603-4c47-cca2-171910e57543\",\"tags\":[],\"doc\":null}},{\"id\":\"a73d5b5b-d802-4885-c8ed-2eec17964861\",\"type\":\"PreviewSaveTool\",\"attributes\":{\"plot\":{\"id\":\"9b1ac6be-c465-48e8-c8e2-05ea7785c99d\",\"type\":\"Plot\",\"subtype\":\"Figure\"},\"id\":\"a73d5b5b-d802-4885-c8ed-2eec17964861\",\"tags\":[],\"doc\":null}},{\"id\":\"6954c4c5-c4a5-49f6-c9c2-7a3ffeb26c28\",\"type\":\"ResizeTool\",\"attributes\":{\"plot\":{\"id\":\"9b1ac6be-c465-48e8-c8e2-05ea7785c99d\",\"type\":\"Plot\",\"subtype\":\"Figure\"},\"id\":\"6954c4c5-c4a5-49f6-c9c2-7a3ffeb26c28\",\"tags\":[],\"doc\":null}},{\"id\":\"4560efac-9067-4c4f-cc97-4741d6c829b6\",\"type\":\"ResetTool\",\"attributes\":{\"plot\":{\"id\":\"9b1ac6be-c465-48e8-c8e2-05ea7785c99d\",\"type\":\"Plot\",\"subtype\":\"Figure\"},\"id\":\"4560efac-9067-4c4f-cc97-4741d6c829b6\",\"tags\":[],\"doc\":null}},{\"id\":\"9b1ac6be-c465-48e8-c8e2-05ea7785c99d\",\"type\":\"Plot\",\"attributes\":{\"x_range\":{\"type\":\"DataRange1d\",\"id\":\"81097506-19af-4662-c607-ea0829f50386\"},\"tool_events\":{\"type\":\"ToolEvents\",\"id\":\"9e5f2044-7692-43b2-c36e-29e834f42dd1\"},\"below\":[{\"type\":\"LinearAxis\",\"id\":\"da24d8c8-aede-4eb1-ce12-93232b52d6fd\"}],\"renderers\":[{\"type\":\"GlyphRenderer\",\"id\":\"03a950d6-0486-4557-c554-3cbb20a60e6a\"},{\"type\":\"GlyphRenderer\",\"id\":\"be824834-71c2-4dbc-cd88-838c48333cf1\"},{\"type\":\"LinearAxis\",\"id\":\"da24d8c8-aede-4eb1-ce12-93232b52d6fd\"},{\"type\":\"Grid\",\"id\":\"00f0b298-fc75-4cad-cca5-2472e67054a9\"},{\"type\":\"LinearAxis\",\"id\":\"f5c9ff93-7bec-48fa-c87e-dc7af21869a8\"},{\"type\":\"Grid\",\"id\":\"90d6afa5-28c6-463a-c689-82c1476e7602\"}],\"above\":[],\"tools\":[{\"type\":\"PanTool\",\"id\":\"49238225-ea8d-46a0-c682-d8c09fb677cb\"},{\"type\":\"WheelZoomTool\",\"id\":\"95d5e156-c808-40a1-c060-1156eee77cd7\"},{\"type\":\"BoxZoomTool\",\"id\":\"35d40707-e603-4c47-cca2-171910e57543\"},{\"type\":\"PreviewSaveTool\",\"id\":\"a73d5b5b-d802-4885-c8ed-2eec17964861\"},{\"type\":\"ResizeTool\",\"id\":\"6954c4c5-c4a5-49f6-c9c2-7a3ffeb26c28\"},{\"type\":\"ResetTool\",\"id\":\"4560efac-9067-4c4f-cc97-4741d6c829b6\"}],\"doc\":null,\"right\":[],\"title\":\"Plot of Loss Function\",\"extra_x_ranges\":{},\"left\":[{\"type\":\"LinearAxis\",\"id\":\"f5c9ff93-7bec-48fa-c87e-dc7af21869a8\"}],\"y_range\":{\"type\":\"DataRange1d\",\"id\":\"2c6e5480-4b34-4d29-cd10-fb0e8d51a299\"},\"id\":\"9b1ac6be-c465-48e8-c8e2-05ea7785c99d\",\"extra_y_ranges\":{},\"tags\":[]}}];\n",
       "  Bokeh.load_models(all_models);\n",
       "  var model = Bokeh.Collections(modeltype).get(modelid);\n",
       "  $(\"#7c1b9af9-d2c5-41df-c1cd-b20a2dd907ab\").html(''); // clear any previous plot in window_id\n",
       "  var view = new model.default_view({model: model, el: \"#7c1b9af9-d2c5-41df-c1cd-b20a2dd907ab\"});\n",
       "    } else {\n",
       "  load_lib(bokehjs_url, function() {\n",
       "      console.log(\"Bokeh: BokehJS plotting callback run at\", new Date())\n",
       "      var modelid = \"9b1ac6be-c465-48e8-c8e2-05ea7785c99d\";\n",
       "      var modeltype = \"Plot\";\n",
       "      var all_models = [{\"id\":\"fd88a202-82e3-4eb0-ce56-b50cdae5ef4a\",\"type\":\"ColumnDataSource\",\"attributes\":{\"data\":{\"y\":[0.2738777816469,0.59624084228123,0.91860390291555,1.2409669635499,1.5633300241842,1.8856930848185,2.2080561454529,2.5304192060872,2.8527822667215,3.1751453273558,3.4975083879902,3.8198714486245,4.1422345092588,4.4645975698931,4.7869606305275,5.1093236911618,5.4316867517961,5.7540498124304,6.0764128730648,6.3987759336991,6.7211389943334,7.0435020549677,7.3658651156021,7.6882281762364,8.0105912368707,8.332954297505,8.6553173581394,8.9776804187737,9.300043479408,9.6224065400423,9.9447696006767,10.267132661311,10.589495721945,10.91185878258,11.234221843214,11.556584903848,11.878947964483,12.201311025117,12.523674085751,12.846037146386,13.16840020702,13.490763267654,13.813126328289,14.135489388923,14.457852449557,14.780215510192,15.102578570826,15.42494163146,15.747304692095,16.069667752729,16.392030813363,16.714393873997,17.036756934632,17.359119995266,17.6814830559,18.003846116535,18.326209177169,18.648572237803,18.970935298438,19.293298359072,19.615661419706,19.938024480341,20.260387540975,20.582750601609,20.905113662244,21.227476722878,21.549839783512,21.872202844147,22.194565904781,22.516928965415,22.83929202605,23.161655086684,23.484018147318,23.806381207953,24.128744268587,24.451107329221,24.773470389856,25.09583345049,25.418196511124,25.740559571759,26.062922632393,26.385285693027,26.707648753662,27.030011814296,27.35237487493,27.674737935564,27.997100996199,28.319464056833,28.641827117467,28.964190178102,29.286553238736,29.60891629937,29.931279360005,30.253642420639,30.576005481273,30.898368541908,31.220731602542,31.543094663176,31.865457723811,32.187820784445],\"x\":[1,2,3,4,5,6,7,8,9,10,11,12,13,14,15,16,17,18,19,20,21,22,23,24,25,26,27,28,29,30,31,32,33,34,35,36,37,38,39,40,41,42,43,44,45,46,47,48,49,50,51,52,53,54,55,56,57,58,59,60,61,62,63,64,65,66,67,68,69,70,71,72,73,74,75,76,77,78,79,80,81,82,83,84,85,86,87,88,89,90,91,92,93,94,95,96,97,98,99,100]},\"column_names\":[\"y\",\"x\"],\"cont_ranges\":{},\"discrete_ranges\":{},\"selected\":[],\"id\":\"fd88a202-82e3-4eb0-ce56-b50cdae5ef4a\",\"doc\":null,\"tags\":[]}},{\"id\":\"c430ffaf-48ab-49f5-c9b4-19ab57314ab1\",\"type\":\"Circle\",\"attributes\":{\"fill_alpha\":{\"units\":\"data\",\"value\":0.2},\"line_alpha\":{\"units\":\"data\",\"value\":1},\"doc\":null,\"size\":{\"units\":\"screen\",\"value\":10},\"fill_color\":{\"value\":\"red\"},\"line_color\":{\"value\":\"red\"},\"x\":{\"units\":\"data\",\"field\":\"x\"},\"id\":\"c430ffaf-48ab-49f5-c9b4-19ab57314ab1\",\"y\":{\"units\":\"data\",\"field\":\"y\"},\"tags\":[]}},{\"id\":\"b0803650-e0d8-43a2-c36f-0504eec9938e\",\"type\":\"Circle\",\"attributes\":{\"fill_alpha\":{\"units\":\"data\",\"value\":0.2},\"line_alpha\":{\"units\":\"data\",\"value\":1},\"doc\":null,\"size\":{\"units\":\"screen\",\"value\":10},\"fill_color\":{\"value\":\"red\"},\"line_color\":{\"value\":\"red\"},\"x\":{\"units\":\"data\",\"field\":\"x\"},\"id\":\"b0803650-e0d8-43a2-c36f-0504eec9938e\",\"y\":{\"units\":\"data\",\"field\":\"y\"},\"tags\":[]}},{\"id\":\"03a950d6-0486-4557-c554-3cbb20a60e6a\",\"type\":\"GlyphRenderer\",\"attributes\":{\"name\":null,\"nonselection_glyph\":{\"type\":\"Circle\",\"id\":\"b0803650-e0d8-43a2-c36f-0504eec9938e\"},\"doc\":null,\"server_data_source\":null,\"data_source\":{\"type\":\"ColumnDataSource\",\"id\":\"fd88a202-82e3-4eb0-ce56-b50cdae5ef4a\"},\"glyph\":{\"type\":\"Circle\",\"id\":\"c430ffaf-48ab-49f5-c9b4-19ab57314ab1\"},\"selection_glyph\":null,\"id\":\"03a950d6-0486-4557-c554-3cbb20a60e6a\",\"tags\":[]}},{\"id\":\"91bebb8d-9042-4b03-cbb1-95a13c1db995\",\"type\":\"ColumnDataSource\",\"attributes\":{\"data\":{\"y\":[0.2738777816469,0.59624084228123,0.91860390291555,1.2409669635499,1.5633300241842,1.8856930848185,2.2080561454529,2.5304192060872,2.8527822667215,3.1751453273558,3.4975083879902,3.8198714486245,4.1422345092588,4.4645975698931,4.7869606305275,5.1093236911618,5.4316867517961,5.7540498124304,6.0764128730648,6.3987759336991,6.7211389943334,7.0435020549677,7.3658651156021,7.6882281762364,8.0105912368707,8.332954297505,8.6553173581394,8.9776804187737,9.300043479408,9.6224065400423,9.9447696006767,10.267132661311,10.589495721945,10.91185878258,11.234221843214,11.556584903848,11.878947964483,12.201311025117,12.523674085751,12.846037146386,13.16840020702,13.490763267654,13.813126328289,14.135489388923,14.457852449557,14.780215510192,15.102578570826,15.42494163146,15.747304692095,16.069667752729,16.392030813363,16.714393873997,17.036756934632,17.359119995266,17.6814830559,18.003846116535,18.326209177169,18.648572237803,18.970935298438,19.293298359072,19.615661419706,19.938024480341,20.260387540975,20.582750601609,20.905113662244,21.227476722878,21.549839783512,21.872202844147,22.194565904781,22.516928965415,22.83929202605,23.161655086684,23.484018147318,23.806381207953,24.128744268587,24.451107329221,24.773470389856,25.09583345049,25.418196511124,25.740559571759,26.062922632393,26.385285693027,26.707648753662,27.030011814296,27.35237487493,27.674737935564,27.997100996199,28.319464056833,28.641827117467,28.964190178102,29.286553238736,29.60891629937,29.931279360005,30.253642420639,30.576005481273,30.898368541908,31.220731602542,31.543094663176,31.865457723811,32.187820784445],\"x\":[1,2,3,4,5,6,7,8,9,10,11,12,13,14,15,16,17,18,19,20,21,22,23,24,25,26,27,28,29,30,31,32,33,34,35,36,37,38,39,40,41,42,43,44,45,46,47,48,49,50,51,52,53,54,55,56,57,58,59,60,61,62,63,64,65,66,67,68,69,70,71,72,73,74,75,76,77,78,79,80,81,82,83,84,85,86,87,88,89,90,91,92,93,94,95,96,97,98,99,100]},\"column_names\":[\"y\",\"x\"],\"cont_ranges\":{},\"discrete_ranges\":{},\"selected\":[],\"id\":\"91bebb8d-9042-4b03-cbb1-95a13c1db995\",\"doc\":null,\"tags\":[]}},{\"id\":\"9088a2f7-68a4-48f4-c89c-4a1d91a4eca0\",\"type\":\"Line\",\"attributes\":{\"fill_alpha\":{\"units\":\"data\",\"value\":0.2},\"line_alpha\":{\"units\":\"data\",\"value\":1},\"doc\":null,\"size\":{\"units\":\"screen\",\"value\":10},\"fill_color\":{\"value\":\"red\"},\"line_color\":{\"value\":\"red\"},\"x\":{\"units\":\"data\",\"field\":\"x\"},\"id\":\"9088a2f7-68a4-48f4-c89c-4a1d91a4eca0\",\"y\":{\"units\":\"data\",\"field\":\"y\"},\"tags\":[]}},{\"id\":\"2452d15f-7820-4cf9-cc19-ead6fdc49eae\",\"type\":\"Line\",\"attributes\":{\"fill_alpha\":{\"units\":\"data\",\"value\":0.2},\"line_alpha\":{\"units\":\"data\",\"value\":1},\"doc\":null,\"size\":{\"units\":\"screen\",\"value\":10},\"fill_color\":{\"value\":\"red\"},\"line_color\":{\"value\":\"red\"},\"x\":{\"units\":\"data\",\"field\":\"x\"},\"id\":\"2452d15f-7820-4cf9-cc19-ead6fdc49eae\",\"y\":{\"units\":\"data\",\"field\":\"y\"},\"tags\":[]}},{\"id\":\"be824834-71c2-4dbc-cd88-838c48333cf1\",\"type\":\"GlyphRenderer\",\"attributes\":{\"name\":null,\"nonselection_glyph\":{\"type\":\"Line\",\"id\":\"2452d15f-7820-4cf9-cc19-ead6fdc49eae\"},\"doc\":null,\"server_data_source\":null,\"data_source\":{\"type\":\"ColumnDataSource\",\"id\":\"91bebb8d-9042-4b03-cbb1-95a13c1db995\"},\"glyph\":{\"type\":\"Line\",\"id\":\"9088a2f7-68a4-48f4-c89c-4a1d91a4eca0\"},\"selection_glyph\":null,\"id\":\"be824834-71c2-4dbc-cd88-838c48333cf1\",\"tags\":[]}},{\"id\":\"81097506-19af-4662-c607-ea0829f50386\",\"type\":\"DataRange1d\",\"attributes\":{\"sources\":[{\"columns\":[\"x\"],\"source\":{\"type\":\"ColumnDataSource\",\"id\":\"fd88a202-82e3-4eb0-ce56-b50cdae5ef4a\"}},{\"columns\":[\"x\"],\"source\":{\"type\":\"ColumnDataSource\",\"id\":\"91bebb8d-9042-4b03-cbb1-95a13c1db995\"}}],\"id\":\"81097506-19af-4662-c607-ea0829f50386\",\"tags\":[],\"doc\":null}},{\"id\":\"2c6e5480-4b34-4d29-cd10-fb0e8d51a299\",\"type\":\"DataRange1d\",\"attributes\":{\"sources\":[{\"columns\":[\"y\"],\"source\":{\"type\":\"ColumnDataSource\",\"id\":\"fd88a202-82e3-4eb0-ce56-b50cdae5ef4a\"}},{\"columns\":[\"y\"],\"source\":{\"type\":\"ColumnDataSource\",\"id\":\"91bebb8d-9042-4b03-cbb1-95a13c1db995\"}}],\"id\":\"2c6e5480-4b34-4d29-cd10-fb0e8d51a299\",\"tags\":[],\"doc\":null}},{\"id\":\"9e5f2044-7692-43b2-c36e-29e834f42dd1\",\"type\":\"ToolEvents\",\"attributes\":{\"tags\":[],\"id\":\"9e5f2044-7692-43b2-c36e-29e834f42dd1\",\"geometries\":[],\"doc\":null}},{\"id\":\"2a063abb-f069-461b-c6cd-b09fdedae501\",\"type\":\"BasicTickFormatter\",\"attributes\":{\"id\":\"2a063abb-f069-461b-c6cd-b09fdedae501\",\"tags\":[],\"doc\":null}},{\"id\":\"f16b1999-3765-4ab8-ca1e-3c8fe8acb238\",\"type\":\"BasicTicker\",\"attributes\":{\"num_minor_ticks\":5,\"id\":\"f16b1999-3765-4ab8-ca1e-3c8fe8acb238\",\"tags\":[],\"doc\":null}},{\"id\":\"da24d8c8-aede-4eb1-ce12-93232b52d6fd\",\"type\":\"LinearAxis\",\"attributes\":{\"formatter\":{\"type\":\"BasicTickFormatter\",\"id\":\"2a063abb-f069-461b-c6cd-b09fdedae501\"},\"ticker\":{\"type\":\"BasicTicker\",\"id\":\"f16b1999-3765-4ab8-ca1e-3c8fe8acb238\"},\"plot\":{\"id\":\"9b1ac6be-c465-48e8-c8e2-05ea7785c99d\",\"type\":\"Plot\",\"subtype\":\"Figure\"},\"axis_label\":null,\"id\":\"da24d8c8-aede-4eb1-ce12-93232b52d6fd\",\"doc\":null,\"tags\":[]}},{\"id\":\"00f0b298-fc75-4cad-cca5-2472e67054a9\",\"type\":\"Grid\",\"attributes\":{\"dimension\":0,\"plot\":{\"id\":\"9b1ac6be-c465-48e8-c8e2-05ea7785c99d\",\"type\":\"Plot\",\"subtype\":\"Figure\"},\"ticker\":{\"type\":\"BasicTicker\",\"id\":\"f16b1999-3765-4ab8-ca1e-3c8fe8acb238\"},\"id\":\"00f0b298-fc75-4cad-cca5-2472e67054a9\",\"doc\":null,\"tags\":[]}},{\"id\":\"37e891e5-2a5a-4eca-ce96-aab6145deeec\",\"type\":\"BasicTickFormatter\",\"attributes\":{\"id\":\"37e891e5-2a5a-4eca-ce96-aab6145deeec\",\"tags\":[],\"doc\":null}},{\"id\":\"74fb34bf-a5ab-450e-c551-bc70cb083b55\",\"type\":\"BasicTicker\",\"attributes\":{\"num_minor_ticks\":5,\"id\":\"74fb34bf-a5ab-450e-c551-bc70cb083b55\",\"tags\":[],\"doc\":null}},{\"id\":\"f5c9ff93-7bec-48fa-c87e-dc7af21869a8\",\"type\":\"LinearAxis\",\"attributes\":{\"formatter\":{\"type\":\"BasicTickFormatter\",\"id\":\"37e891e5-2a5a-4eca-ce96-aab6145deeec\"},\"ticker\":{\"type\":\"BasicTicker\",\"id\":\"74fb34bf-a5ab-450e-c551-bc70cb083b55\"},\"plot\":{\"id\":\"9b1ac6be-c465-48e8-c8e2-05ea7785c99d\",\"type\":\"Plot\",\"subtype\":\"Figure\"},\"axis_label\":null,\"id\":\"f5c9ff93-7bec-48fa-c87e-dc7af21869a8\",\"doc\":null,\"tags\":[]}},{\"id\":\"90d6afa5-28c6-463a-c689-82c1476e7602\",\"type\":\"Grid\",\"attributes\":{\"dimension\":1,\"plot\":{\"id\":\"9b1ac6be-c465-48e8-c8e2-05ea7785c99d\",\"type\":\"Plot\",\"subtype\":\"Figure\"},\"ticker\":{\"type\":\"BasicTicker\",\"id\":\"74fb34bf-a5ab-450e-c551-bc70cb083b55\"},\"id\":\"90d6afa5-28c6-463a-c689-82c1476e7602\",\"doc\":null,\"tags\":[]}},{\"id\":\"49238225-ea8d-46a0-c682-d8c09fb677cb\",\"type\":\"PanTool\",\"attributes\":{\"plot\":{\"id\":\"9b1ac6be-c465-48e8-c8e2-05ea7785c99d\",\"type\":\"Plot\",\"subtype\":\"Figure\"},\"dimensions\":[\"width\",\"height\"],\"id\":\"49238225-ea8d-46a0-c682-d8c09fb677cb\",\"doc\":null,\"tags\":[]}},{\"id\":\"95d5e156-c808-40a1-c060-1156eee77cd7\",\"type\":\"WheelZoomTool\",\"attributes\":{\"plot\":{\"id\":\"9b1ac6be-c465-48e8-c8e2-05ea7785c99d\",\"type\":\"Plot\",\"subtype\":\"Figure\"},\"dimensions\":[\"width\",\"height\"],\"id\":\"95d5e156-c808-40a1-c060-1156eee77cd7\",\"doc\":null,\"tags\":[]}},{\"id\":\"35d40707-e603-4c47-cca2-171910e57543\",\"type\":\"BoxZoomTool\",\"attributes\":{\"plot\":{\"id\":\"9b1ac6be-c465-48e8-c8e2-05ea7785c99d\",\"type\":\"Plot\",\"subtype\":\"Figure\"},\"id\":\"35d40707-e603-4c47-cca2-171910e57543\",\"tags\":[],\"doc\":null}},{\"id\":\"a73d5b5b-d802-4885-c8ed-2eec17964861\",\"type\":\"PreviewSaveTool\",\"attributes\":{\"plot\":{\"id\":\"9b1ac6be-c465-48e8-c8e2-05ea7785c99d\",\"type\":\"Plot\",\"subtype\":\"Figure\"},\"id\":\"a73d5b5b-d802-4885-c8ed-2eec17964861\",\"tags\":[],\"doc\":null}},{\"id\":\"6954c4c5-c4a5-49f6-c9c2-7a3ffeb26c28\",\"type\":\"ResizeTool\",\"attributes\":{\"plot\":{\"id\":\"9b1ac6be-c465-48e8-c8e2-05ea7785c99d\",\"type\":\"Plot\",\"subtype\":\"Figure\"},\"id\":\"6954c4c5-c4a5-49f6-c9c2-7a3ffeb26c28\",\"tags\":[],\"doc\":null}},{\"id\":\"4560efac-9067-4c4f-cc97-4741d6c829b6\",\"type\":\"ResetTool\",\"attributes\":{\"plot\":{\"id\":\"9b1ac6be-c465-48e8-c8e2-05ea7785c99d\",\"type\":\"Plot\",\"subtype\":\"Figure\"},\"id\":\"4560efac-9067-4c4f-cc97-4741d6c829b6\",\"tags\":[],\"doc\":null}},{\"id\":\"9b1ac6be-c465-48e8-c8e2-05ea7785c99d\",\"type\":\"Plot\",\"attributes\":{\"x_range\":{\"type\":\"DataRange1d\",\"id\":\"81097506-19af-4662-c607-ea0829f50386\"},\"tool_events\":{\"type\":\"ToolEvents\",\"id\":\"9e5f2044-7692-43b2-c36e-29e834f42dd1\"},\"below\":[{\"type\":\"LinearAxis\",\"id\":\"da24d8c8-aede-4eb1-ce12-93232b52d6fd\"}],\"renderers\":[{\"type\":\"GlyphRenderer\",\"id\":\"03a950d6-0486-4557-c554-3cbb20a60e6a\"},{\"type\":\"GlyphRenderer\",\"id\":\"be824834-71c2-4dbc-cd88-838c48333cf1\"},{\"type\":\"LinearAxis\",\"id\":\"da24d8c8-aede-4eb1-ce12-93232b52d6fd\"},{\"type\":\"Grid\",\"id\":\"00f0b298-fc75-4cad-cca5-2472e67054a9\"},{\"type\":\"LinearAxis\",\"id\":\"f5c9ff93-7bec-48fa-c87e-dc7af21869a8\"},{\"type\":\"Grid\",\"id\":\"90d6afa5-28c6-463a-c689-82c1476e7602\"}],\"above\":[],\"tools\":[{\"type\":\"PanTool\",\"id\":\"49238225-ea8d-46a0-c682-d8c09fb677cb\"},{\"type\":\"WheelZoomTool\",\"id\":\"95d5e156-c808-40a1-c060-1156eee77cd7\"},{\"type\":\"BoxZoomTool\",\"id\":\"35d40707-e603-4c47-cca2-171910e57543\"},{\"type\":\"PreviewSaveTool\",\"id\":\"a73d5b5b-d802-4885-c8ed-2eec17964861\"},{\"type\":\"ResizeTool\",\"id\":\"6954c4c5-c4a5-49f6-c9c2-7a3ffeb26c28\"},{\"type\":\"ResetTool\",\"id\":\"4560efac-9067-4c4f-cc97-4741d6c829b6\"}],\"doc\":null,\"right\":[],\"title\":\"Plot of Loss Function\",\"extra_x_ranges\":{},\"left\":[{\"type\":\"LinearAxis\",\"id\":\"f5c9ff93-7bec-48fa-c87e-dc7af21869a8\"}],\"y_range\":{\"type\":\"DataRange1d\",\"id\":\"2c6e5480-4b34-4d29-cd10-fb0e8d51a299\"},\"id\":\"9b1ac6be-c465-48e8-c8e2-05ea7785c99d\",\"extra_y_ranges\":{},\"tags\":[]}}];\n",
       "      Bokeh.load_models(all_models);\n",
       "      var model = Bokeh.Collections(modeltype).get(modelid);\n",
       "      $(\"#7c1b9af9-d2c5-41df-c1cd-b20a2dd907ab\").html(''); // clear any previous plot in window_id\n",
       "      var view = new model.default_view({model: model, el: \"#7c1b9af9-d2c5-41df-c1cd-b20a2dd907ab\"});\n",
       "  });\n",
       "    }\n",
       "});\n",
       "</script>\n",
       "<div class=\"plotdiv\" id=\"2048726b-6f8b-4f9b-cfe8-f5daf01032fd\"></div>\n"
      ]
     },
     "metadata": {},
     "output_type": "display_data"
    },
    {
     "data": {
      "text/html": [
       "<script type=\"text/javascript\">\n",
       "$(function() {\n",
       "    if (typeof (window._bokeh_onload_callbacks) === \"undefined\"){\n",
       "  window._bokeh_onload_callbacks = [];\n",
       "    }\n",
       "    function load_lib(url, callback){\n",
       "  window._bokeh_onload_callbacks.push(callback);\n",
       "  if (window._bokeh_is_loading){\n",
       "      console.log(\"Bokeh: BokehJS is being loaded, scheduling callback at\", new Date());\n",
       "      return null;\n",
       "  }\n",
       "  console.log(\"Bokeh: BokehJS not loaded, scheduling load and callback at\", new Date());\n",
       "  window._bokeh_is_loading = true;\n",
       "  var s = document.createElement('script');\n",
       "  s.src = url;\n",
       "  s.async = true;\n",
       "  s.onreadystatechange = s.onload = function(){\n",
       "      Bokeh.embed.inject_css(\"https://cdn.pydata.org/bokeh-0.7.0.min.css\");\n",
       "      window._bokeh_onload_callbacks.forEach(function(callback){callback()});\n",
       "  };\n",
       "  s.onerror = function(){\n",
       "      console.warn(\"failed to load library \" + url);\n",
       "  };\n",
       "  document.getElementsByTagName(\"head\")[0].appendChild(s);\n",
       "    }\n",
       "\n",
       "    bokehjs_url = \"https://cdn.pydata.org/bokeh-0.7.0.min.js\"\n",
       "\n",
       "    var elt = document.getElementById(\"7c1b9af9-d2c5-41df-c1cd-b20a2dd907ab\");\n",
       "    if(elt==null) {\n",
       "  console.log(\"Bokeh: ERROR: autoload.js configured with elementid '7c1b9af9-d2c5-41df-c1cd-b20a2dd907ab'\"\n",
       "        + \"but no matching script tag was found. \")\n",
       "  return false;\n",
       "    }\n",
       "\n",
       "    if(typeof(Bokeh) !== \"undefined\") {\n",
       "  console.log(\"Bokeh: BokehJS loaded, going straight to plotting\");\n",
       "  var modelid = \"f5ddec7b-330a-465c-c640-7e89167c08b3\";\n",
       "  var modeltype = \"Plot\";\n",
       "  var all_models = [{\"id\":\"e1a4784a-29d7-4805-c873-ca94e5df7299\",\"type\":\"ColumnDataSource\",\"attributes\":{\"data\":{\"y\":[0.2738777816469,0.59624084228123,0.91860390291555,1.2409669635499,1.5633300241842,1.8856930848185,2.2080561454529,2.5304192060872,2.8527822667215,3.1751453273558,3.4975083879902,3.8198714486245,4.1422345092588,4.4645975698931,4.7869606305275,5.1093236911618,5.4316867517961,5.7540498124304,6.0764128730648,6.3987759336991,6.7211389943334,7.0435020549677,7.3658651156021,7.6882281762364,8.0105912368707,8.332954297505,8.6553173581394,8.9776804187737,9.300043479408,9.6224065400423,9.9447696006767,10.267132661311,10.589495721945,10.91185878258,11.234221843214,11.556584903848,11.878947964483,12.201311025117,12.523674085751,12.846037146386,13.16840020702,13.490763267654,13.813126328289,14.135489388923,14.457852449557,14.780215510192,15.102578570826,15.42494163146,15.747304692095,16.069667752729,16.392030813363,16.714393873997,17.036756934632,17.359119995266,17.6814830559,18.003846116535,18.326209177169,18.648572237803,18.970935298438,19.293298359072,19.615661419706,19.938024480341,20.260387540975,20.582750601609,20.905113662244,21.227476722878,21.549839783512,21.872202844147,22.194565904781,22.516928965415,22.83929202605,23.161655086684,23.484018147318,23.806381207953,24.128744268587,24.451107329221,24.773470389856,25.09583345049,25.418196511124,25.740559571759,26.062922632393,26.385285693027,26.707648753662,27.030011814296,27.35237487493,27.674737935564,27.997100996199,28.319464056833,28.641827117467,28.964190178102,29.286553238736,29.60891629937,29.931279360005,30.253642420639,30.576005481273,30.898368541908,31.220731602542,31.543094663176,31.865457723811,32.187820784445],\"x\":[1,2,3,4,5,6,7,8,9,10,11,12,13,14,15,16,17,18,19,20,21,22,23,24,25,26,27,28,29,30,31,32,33,34,35,36,37,38,39,40,41,42,43,44,45,46,47,48,49,50,51,52,53,54,55,56,57,58,59,60,61,62,63,64,65,66,67,68,69,70,71,72,73,74,75,76,77,78,79,80,81,82,83,84,85,86,87,88,89,90,91,92,93,94,95,96,97,98,99,100]},\"column_names\":[\"y\",\"x\"],\"cont_ranges\":{},\"discrete_ranges\":{},\"selected\":[],\"id\":\"e1a4784a-29d7-4805-c873-ca94e5df7299\",\"doc\":null,\"tags\":[]}},{\"id\":\"d92f3a7b-b846-4b0e-cb8c-4433eb7de4a2\",\"type\":\"Circle\",\"attributes\":{\"fill_alpha\":{\"units\":\"data\",\"value\":0.2},\"line_alpha\":{\"units\":\"data\",\"value\":1},\"doc\":null,\"size\":{\"units\":\"screen\",\"value\":10},\"fill_color\":{\"value\":\"red\"},\"line_color\":{\"value\":\"red\"},\"x\":{\"units\":\"data\",\"field\":\"x\"},\"id\":\"d92f3a7b-b846-4b0e-cb8c-4433eb7de4a2\",\"y\":{\"units\":\"data\",\"field\":\"y\"},\"tags\":[]}},{\"id\":\"bc248ba3-049d-4d74-cd57-a4c376ff1856\",\"type\":\"Circle\",\"attributes\":{\"fill_alpha\":{\"units\":\"data\",\"value\":0.2},\"line_alpha\":{\"units\":\"data\",\"value\":1},\"doc\":null,\"size\":{\"units\":\"screen\",\"value\":10},\"fill_color\":{\"value\":\"red\"},\"line_color\":{\"value\":\"red\"},\"x\":{\"units\":\"data\",\"field\":\"x\"},\"id\":\"bc248ba3-049d-4d74-cd57-a4c376ff1856\",\"y\":{\"units\":\"data\",\"field\":\"y\"},\"tags\":[]}},{\"id\":\"5922128e-2f25-42e2-c206-d2ec72c7f76d\",\"type\":\"GlyphRenderer\",\"attributes\":{\"name\":null,\"nonselection_glyph\":{\"type\":\"Circle\",\"id\":\"bc248ba3-049d-4d74-cd57-a4c376ff1856\"},\"doc\":null,\"server_data_source\":null,\"data_source\":{\"type\":\"ColumnDataSource\",\"id\":\"e1a4784a-29d7-4805-c873-ca94e5df7299\"},\"glyph\":{\"type\":\"Circle\",\"id\":\"d92f3a7b-b846-4b0e-cb8c-4433eb7de4a2\"},\"selection_glyph\":null,\"id\":\"5922128e-2f25-42e2-c206-d2ec72c7f76d\",\"tags\":[]}},{\"id\":\"8ce94943-b41b-4080-c0f7-613b49396d47\",\"type\":\"ColumnDataSource\",\"attributes\":{\"data\":{\"y\":[0.2738777816469,0.59624084228123,0.91860390291555,1.2409669635499,1.5633300241842,1.8856930848185,2.2080561454529,2.5304192060872,2.8527822667215,3.1751453273558,3.4975083879902,3.8198714486245,4.1422345092588,4.4645975698931,4.7869606305275,5.1093236911618,5.4316867517961,5.7540498124304,6.0764128730648,6.3987759336991,6.7211389943334,7.0435020549677,7.3658651156021,7.6882281762364,8.0105912368707,8.332954297505,8.6553173581394,8.9776804187737,9.300043479408,9.6224065400423,9.9447696006767,10.267132661311,10.589495721945,10.91185878258,11.234221843214,11.556584903848,11.878947964483,12.201311025117,12.523674085751,12.846037146386,13.16840020702,13.490763267654,13.813126328289,14.135489388923,14.457852449557,14.780215510192,15.102578570826,15.42494163146,15.747304692095,16.069667752729,16.392030813363,16.714393873997,17.036756934632,17.359119995266,17.6814830559,18.003846116535,18.326209177169,18.648572237803,18.970935298438,19.293298359072,19.615661419706,19.938024480341,20.260387540975,20.582750601609,20.905113662244,21.227476722878,21.549839783512,21.872202844147,22.194565904781,22.516928965415,22.83929202605,23.161655086684,23.484018147318,23.806381207953,24.128744268587,24.451107329221,24.773470389856,25.09583345049,25.418196511124,25.740559571759,26.062922632393,26.385285693027,26.707648753662,27.030011814296,27.35237487493,27.674737935564,27.997100996199,28.319464056833,28.641827117467,28.964190178102,29.286553238736,29.60891629937,29.931279360005,30.253642420639,30.576005481273,30.898368541908,31.220731602542,31.543094663176,31.865457723811,32.187820784445],\"x\":[1,2,3,4,5,6,7,8,9,10,11,12,13,14,15,16,17,18,19,20,21,22,23,24,25,26,27,28,29,30,31,32,33,34,35,36,37,38,39,40,41,42,43,44,45,46,47,48,49,50,51,52,53,54,55,56,57,58,59,60,61,62,63,64,65,66,67,68,69,70,71,72,73,74,75,76,77,78,79,80,81,82,83,84,85,86,87,88,89,90,91,92,93,94,95,96,97,98,99,100]},\"column_names\":[\"y\",\"x\"],\"cont_ranges\":{},\"discrete_ranges\":{},\"selected\":[],\"id\":\"8ce94943-b41b-4080-c0f7-613b49396d47\",\"doc\":null,\"tags\":[]}},{\"id\":\"144427f4-0576-4c59-ccd3-d8f6ae8e111f\",\"type\":\"Line\",\"attributes\":{\"fill_alpha\":{\"units\":\"data\",\"value\":0.2},\"line_alpha\":{\"units\":\"data\",\"value\":1},\"doc\":null,\"size\":{\"units\":\"screen\",\"value\":10},\"fill_color\":{\"value\":\"red\"},\"line_color\":{\"value\":\"red\"},\"x\":{\"units\":\"data\",\"field\":\"x\"},\"id\":\"144427f4-0576-4c59-ccd3-d8f6ae8e111f\",\"y\":{\"units\":\"data\",\"field\":\"y\"},\"tags\":[]}},{\"id\":\"14ee033b-c8ef-46d1-c690-4c8af25f2ddb\",\"type\":\"Line\",\"attributes\":{\"fill_alpha\":{\"units\":\"data\",\"value\":0.2},\"line_alpha\":{\"units\":\"data\",\"value\":1},\"doc\":null,\"size\":{\"units\":\"screen\",\"value\":10},\"fill_color\":{\"value\":\"red\"},\"line_color\":{\"value\":\"red\"},\"x\":{\"units\":\"data\",\"field\":\"x\"},\"id\":\"14ee033b-c8ef-46d1-c690-4c8af25f2ddb\",\"y\":{\"units\":\"data\",\"field\":\"y\"},\"tags\":[]}},{\"id\":\"f19635c2-f8cb-4ed4-ce3a-cfc5ecccf8b9\",\"type\":\"GlyphRenderer\",\"attributes\":{\"name\":null,\"nonselection_glyph\":{\"type\":\"Line\",\"id\":\"14ee033b-c8ef-46d1-c690-4c8af25f2ddb\"},\"doc\":null,\"server_data_source\":null,\"data_source\":{\"type\":\"ColumnDataSource\",\"id\":\"8ce94943-b41b-4080-c0f7-613b49396d47\"},\"glyph\":{\"type\":\"Line\",\"id\":\"144427f4-0576-4c59-ccd3-d8f6ae8e111f\"},\"selection_glyph\":null,\"id\":\"f19635c2-f8cb-4ed4-ce3a-cfc5ecccf8b9\",\"tags\":[]}},{\"id\":\"5971e504-c7bd-4979-c94c-2ed037290425\",\"type\":\"DataRange1d\",\"attributes\":{\"sources\":[{\"columns\":[\"x\"],\"source\":{\"type\":\"ColumnDataSource\",\"id\":\"e1a4784a-29d7-4805-c873-ca94e5df7299\"}},{\"columns\":[\"x\"],\"source\":{\"type\":\"ColumnDataSource\",\"id\":\"8ce94943-b41b-4080-c0f7-613b49396d47\"}}],\"id\":\"5971e504-c7bd-4979-c94c-2ed037290425\",\"tags\":[],\"doc\":null}},{\"id\":\"5dbb1263-616a-4a09-cadf-b8bceabe79a7\",\"type\":\"DataRange1d\",\"attributes\":{\"sources\":[{\"columns\":[\"y\"],\"source\":{\"type\":\"ColumnDataSource\",\"id\":\"e1a4784a-29d7-4805-c873-ca94e5df7299\"}},{\"columns\":[\"y\"],\"source\":{\"type\":\"ColumnDataSource\",\"id\":\"8ce94943-b41b-4080-c0f7-613b49396d47\"}}],\"id\":\"5dbb1263-616a-4a09-cadf-b8bceabe79a7\",\"tags\":[],\"doc\":null}},{\"id\":\"5a1cd297-1d52-4eb4-ceb4-6fe9d6003bf5\",\"type\":\"ToolEvents\",\"attributes\":{\"tags\":[],\"id\":\"5a1cd297-1d52-4eb4-ceb4-6fe9d6003bf5\",\"geometries\":[],\"doc\":null}},{\"id\":\"2e3aa7b9-c0d4-4e28-cee2-934d5d5965b8\",\"type\":\"BasicTickFormatter\",\"attributes\":{\"id\":\"2e3aa7b9-c0d4-4e28-cee2-934d5d5965b8\",\"tags\":[],\"doc\":null}},{\"id\":\"faedd12a-d412-4dad-cde7-d735e5e3a650\",\"type\":\"BasicTicker\",\"attributes\":{\"num_minor_ticks\":5,\"id\":\"faedd12a-d412-4dad-cde7-d735e5e3a650\",\"tags\":[],\"doc\":null}},{\"id\":\"d94c9e4c-565c-4f2a-cf34-a1348b152ef3\",\"type\":\"LinearAxis\",\"attributes\":{\"formatter\":{\"type\":\"BasicTickFormatter\",\"id\":\"2e3aa7b9-c0d4-4e28-cee2-934d5d5965b8\"},\"ticker\":{\"type\":\"BasicTicker\",\"id\":\"faedd12a-d412-4dad-cde7-d735e5e3a650\"},\"plot\":{\"id\":\"f5ddec7b-330a-465c-c640-7e89167c08b3\",\"type\":\"Plot\",\"subtype\":\"Figure\"},\"axis_label\":\"Iterations\",\"id\":\"d94c9e4c-565c-4f2a-cf34-a1348b152ef3\",\"doc\":null,\"tags\":[]}},{\"id\":\"14bfcf65-bc87-45e7-c550-5960ddb613ed\",\"type\":\"Grid\",\"attributes\":{\"dimension\":0,\"plot\":{\"id\":\"f5ddec7b-330a-465c-c640-7e89167c08b3\",\"type\":\"Plot\",\"subtype\":\"Figure\"},\"ticker\":{\"type\":\"BasicTicker\",\"id\":\"faedd12a-d412-4dad-cde7-d735e5e3a650\"},\"id\":\"14bfcf65-bc87-45e7-c550-5960ddb613ed\",\"doc\":null,\"tags\":[]}},{\"id\":\"957f1c45-2cab-43a3-c3d6-a63931b6e4b7\",\"type\":\"BasicTickFormatter\",\"attributes\":{\"id\":\"957f1c45-2cab-43a3-c3d6-a63931b6e4b7\",\"tags\":[],\"doc\":null}},{\"id\":\"6d5d4594-954c-4468-c4c1-d08b22846fcf\",\"type\":\"BasicTicker\",\"attributes\":{\"num_minor_ticks\":5,\"id\":\"6d5d4594-954c-4468-c4c1-d08b22846fcf\",\"tags\":[],\"doc\":null}},{\"id\":\"c29cea54-7cb9-4a36-cab1-5104c5f91a8f\",\"type\":\"LinearAxis\",\"attributes\":{\"formatter\":{\"type\":\"BasicTickFormatter\",\"id\":\"957f1c45-2cab-43a3-c3d6-a63931b6e4b7\"},\"ticker\":{\"type\":\"BasicTicker\",\"id\":\"6d5d4594-954c-4468-c4c1-d08b22846fcf\"},\"plot\":{\"id\":\"f5ddec7b-330a-465c-c640-7e89167c08b3\",\"type\":\"Plot\",\"subtype\":\"Figure\"},\"axis_label\":\"Mean Squared Error\",\"id\":\"c29cea54-7cb9-4a36-cab1-5104c5f91a8f\",\"doc\":null,\"tags\":[]}},{\"id\":\"380e50c3-e58b-45b3-c514-769babe1c0cf\",\"type\":\"Grid\",\"attributes\":{\"dimension\":1,\"plot\":{\"id\":\"f5ddec7b-330a-465c-c640-7e89167c08b3\",\"type\":\"Plot\",\"subtype\":\"Figure\"},\"ticker\":{\"type\":\"BasicTicker\",\"id\":\"6d5d4594-954c-4468-c4c1-d08b22846fcf\"},\"id\":\"380e50c3-e58b-45b3-c514-769babe1c0cf\",\"doc\":null,\"tags\":[]}},{\"id\":\"d53e8bf3-a8b2-4029-c051-f499dd1daa92\",\"type\":\"PanTool\",\"attributes\":{\"plot\":{\"id\":\"f5ddec7b-330a-465c-c640-7e89167c08b3\",\"type\":\"Plot\",\"subtype\":\"Figure\"},\"dimensions\":[\"width\",\"height\"],\"id\":\"d53e8bf3-a8b2-4029-c051-f499dd1daa92\",\"doc\":null,\"tags\":[]}},{\"id\":\"5c6ec0c9-bacc-45d9-c591-eac00415a35c\",\"type\":\"WheelZoomTool\",\"attributes\":{\"plot\":{\"id\":\"f5ddec7b-330a-465c-c640-7e89167c08b3\",\"type\":\"Plot\",\"subtype\":\"Figure\"},\"dimensions\":[\"width\",\"height\"],\"id\":\"5c6ec0c9-bacc-45d9-c591-eac00415a35c\",\"doc\":null,\"tags\":[]}},{\"id\":\"32c1b4ec-06ae-4f28-cfe4-758d49968abb\",\"type\":\"BoxZoomTool\",\"attributes\":{\"plot\":{\"id\":\"f5ddec7b-330a-465c-c640-7e89167c08b3\",\"type\":\"Plot\",\"subtype\":\"Figure\"},\"id\":\"32c1b4ec-06ae-4f28-cfe4-758d49968abb\",\"tags\":[],\"doc\":null}},{\"id\":\"f733792f-9f26-490f-c9fd-40bf3097904b\",\"type\":\"PreviewSaveTool\",\"attributes\":{\"plot\":{\"id\":\"f5ddec7b-330a-465c-c640-7e89167c08b3\",\"type\":\"Plot\",\"subtype\":\"Figure\"},\"id\":\"f733792f-9f26-490f-c9fd-40bf3097904b\",\"tags\":[],\"doc\":null}},{\"id\":\"dfd9f9b9-efce-4685-c67a-31f50aa49585\",\"type\":\"ResizeTool\",\"attributes\":{\"plot\":{\"id\":\"f5ddec7b-330a-465c-c640-7e89167c08b3\",\"type\":\"Plot\",\"subtype\":\"Figure\"},\"id\":\"dfd9f9b9-efce-4685-c67a-31f50aa49585\",\"tags\":[],\"doc\":null}},{\"id\":\"8c6d51d4-016a-4445-c498-1b56940127c1\",\"type\":\"ResetTool\",\"attributes\":{\"plot\":{\"id\":\"f5ddec7b-330a-465c-c640-7e89167c08b3\",\"type\":\"Plot\",\"subtype\":\"Figure\"},\"id\":\"8c6d51d4-016a-4445-c498-1b56940127c1\",\"tags\":[],\"doc\":null}},{\"id\":\"f5ddec7b-330a-465c-c640-7e89167c08b3\",\"type\":\"Plot\",\"attributes\":{\"x_range\":{\"type\":\"DataRange1d\",\"id\":\"5971e504-c7bd-4979-c94c-2ed037290425\"},\"tool_events\":{\"type\":\"ToolEvents\",\"id\":\"5a1cd297-1d52-4eb4-ceb4-6fe9d6003bf5\"},\"below\":[{\"type\":\"LinearAxis\",\"id\":\"d94c9e4c-565c-4f2a-cf34-a1348b152ef3\"}],\"renderers\":[{\"type\":\"GlyphRenderer\",\"id\":\"5922128e-2f25-42e2-c206-d2ec72c7f76d\"},{\"type\":\"GlyphRenderer\",\"id\":\"f19635c2-f8cb-4ed4-ce3a-cfc5ecccf8b9\"},{\"type\":\"LinearAxis\",\"id\":\"d94c9e4c-565c-4f2a-cf34-a1348b152ef3\"},{\"type\":\"Grid\",\"id\":\"14bfcf65-bc87-45e7-c550-5960ddb613ed\"},{\"type\":\"LinearAxis\",\"id\":\"c29cea54-7cb9-4a36-cab1-5104c5f91a8f\"},{\"type\":\"Grid\",\"id\":\"380e50c3-e58b-45b3-c514-769babe1c0cf\"}],\"above\":[],\"tools\":[{\"type\":\"PanTool\",\"id\":\"d53e8bf3-a8b2-4029-c051-f499dd1daa92\"},{\"type\":\"WheelZoomTool\",\"id\":\"5c6ec0c9-bacc-45d9-c591-eac00415a35c\"},{\"type\":\"BoxZoomTool\",\"id\":\"32c1b4ec-06ae-4f28-cfe4-758d49968abb\"},{\"type\":\"PreviewSaveTool\",\"id\":\"f733792f-9f26-490f-c9fd-40bf3097904b\"},{\"type\":\"ResizeTool\",\"id\":\"dfd9f9b9-efce-4685-c67a-31f50aa49585\"},{\"type\":\"ResetTool\",\"id\":\"8c6d51d4-016a-4445-c498-1b56940127c1\"}],\"doc\":null,\"right\":[],\"title\":\"Plot of Loss Function\",\"extra_x_ranges\":{},\"left\":[{\"type\":\"LinearAxis\",\"id\":\"c29cea54-7cb9-4a36-cab1-5104c5f91a8f\"}],\"y_range\":{\"type\":\"DataRange1d\",\"id\":\"5dbb1263-616a-4a09-cadf-b8bceabe79a7\"},\"id\":\"f5ddec7b-330a-465c-c640-7e89167c08b3\",\"extra_y_ranges\":{},\"tags\":[]}}];\n",
       "  Bokeh.load_models(all_models);\n",
       "  var model = Bokeh.Collections(modeltype).get(modelid);\n",
       "  $(\"#7c1b9af9-d2c5-41df-c1cd-b20a2dd907ab\").html(''); // clear any previous plot in window_id\n",
       "  var view = new model.default_view({model: model, el: \"#7c1b9af9-d2c5-41df-c1cd-b20a2dd907ab\"});\n",
       "    } else {\n",
       "  load_lib(bokehjs_url, function() {\n",
       "      console.log(\"Bokeh: BokehJS plotting callback run at\", new Date())\n",
       "      var modelid = \"f5ddec7b-330a-465c-c640-7e89167c08b3\";\n",
       "      var modeltype = \"Plot\";\n",
       "      var all_models = [{\"id\":\"e1a4784a-29d7-4805-c873-ca94e5df7299\",\"type\":\"ColumnDataSource\",\"attributes\":{\"data\":{\"y\":[0.2738777816469,0.59624084228123,0.91860390291555,1.2409669635499,1.5633300241842,1.8856930848185,2.2080561454529,2.5304192060872,2.8527822667215,3.1751453273558,3.4975083879902,3.8198714486245,4.1422345092588,4.4645975698931,4.7869606305275,5.1093236911618,5.4316867517961,5.7540498124304,6.0764128730648,6.3987759336991,6.7211389943334,7.0435020549677,7.3658651156021,7.6882281762364,8.0105912368707,8.332954297505,8.6553173581394,8.9776804187737,9.300043479408,9.6224065400423,9.9447696006767,10.267132661311,10.589495721945,10.91185878258,11.234221843214,11.556584903848,11.878947964483,12.201311025117,12.523674085751,12.846037146386,13.16840020702,13.490763267654,13.813126328289,14.135489388923,14.457852449557,14.780215510192,15.102578570826,15.42494163146,15.747304692095,16.069667752729,16.392030813363,16.714393873997,17.036756934632,17.359119995266,17.6814830559,18.003846116535,18.326209177169,18.648572237803,18.970935298438,19.293298359072,19.615661419706,19.938024480341,20.260387540975,20.582750601609,20.905113662244,21.227476722878,21.549839783512,21.872202844147,22.194565904781,22.516928965415,22.83929202605,23.161655086684,23.484018147318,23.806381207953,24.128744268587,24.451107329221,24.773470389856,25.09583345049,25.418196511124,25.740559571759,26.062922632393,26.385285693027,26.707648753662,27.030011814296,27.35237487493,27.674737935564,27.997100996199,28.319464056833,28.641827117467,28.964190178102,29.286553238736,29.60891629937,29.931279360005,30.253642420639,30.576005481273,30.898368541908,31.220731602542,31.543094663176,31.865457723811,32.187820784445],\"x\":[1,2,3,4,5,6,7,8,9,10,11,12,13,14,15,16,17,18,19,20,21,22,23,24,25,26,27,28,29,30,31,32,33,34,35,36,37,38,39,40,41,42,43,44,45,46,47,48,49,50,51,52,53,54,55,56,57,58,59,60,61,62,63,64,65,66,67,68,69,70,71,72,73,74,75,76,77,78,79,80,81,82,83,84,85,86,87,88,89,90,91,92,93,94,95,96,97,98,99,100]},\"column_names\":[\"y\",\"x\"],\"cont_ranges\":{},\"discrete_ranges\":{},\"selected\":[],\"id\":\"e1a4784a-29d7-4805-c873-ca94e5df7299\",\"doc\":null,\"tags\":[]}},{\"id\":\"d92f3a7b-b846-4b0e-cb8c-4433eb7de4a2\",\"type\":\"Circle\",\"attributes\":{\"fill_alpha\":{\"units\":\"data\",\"value\":0.2},\"line_alpha\":{\"units\":\"data\",\"value\":1},\"doc\":null,\"size\":{\"units\":\"screen\",\"value\":10},\"fill_color\":{\"value\":\"red\"},\"line_color\":{\"value\":\"red\"},\"x\":{\"units\":\"data\",\"field\":\"x\"},\"id\":\"d92f3a7b-b846-4b0e-cb8c-4433eb7de4a2\",\"y\":{\"units\":\"data\",\"field\":\"y\"},\"tags\":[]}},{\"id\":\"bc248ba3-049d-4d74-cd57-a4c376ff1856\",\"type\":\"Circle\",\"attributes\":{\"fill_alpha\":{\"units\":\"data\",\"value\":0.2},\"line_alpha\":{\"units\":\"data\",\"value\":1},\"doc\":null,\"size\":{\"units\":\"screen\",\"value\":10},\"fill_color\":{\"value\":\"red\"},\"line_color\":{\"value\":\"red\"},\"x\":{\"units\":\"data\",\"field\":\"x\"},\"id\":\"bc248ba3-049d-4d74-cd57-a4c376ff1856\",\"y\":{\"units\":\"data\",\"field\":\"y\"},\"tags\":[]}},{\"id\":\"5922128e-2f25-42e2-c206-d2ec72c7f76d\",\"type\":\"GlyphRenderer\",\"attributes\":{\"name\":null,\"nonselection_glyph\":{\"type\":\"Circle\",\"id\":\"bc248ba3-049d-4d74-cd57-a4c376ff1856\"},\"doc\":null,\"server_data_source\":null,\"data_source\":{\"type\":\"ColumnDataSource\",\"id\":\"e1a4784a-29d7-4805-c873-ca94e5df7299\"},\"glyph\":{\"type\":\"Circle\",\"id\":\"d92f3a7b-b846-4b0e-cb8c-4433eb7de4a2\"},\"selection_glyph\":null,\"id\":\"5922128e-2f25-42e2-c206-d2ec72c7f76d\",\"tags\":[]}},{\"id\":\"8ce94943-b41b-4080-c0f7-613b49396d47\",\"type\":\"ColumnDataSource\",\"attributes\":{\"data\":{\"y\":[0.2738777816469,0.59624084228123,0.91860390291555,1.2409669635499,1.5633300241842,1.8856930848185,2.2080561454529,2.5304192060872,2.8527822667215,3.1751453273558,3.4975083879902,3.8198714486245,4.1422345092588,4.4645975698931,4.7869606305275,5.1093236911618,5.4316867517961,5.7540498124304,6.0764128730648,6.3987759336991,6.7211389943334,7.0435020549677,7.3658651156021,7.6882281762364,8.0105912368707,8.332954297505,8.6553173581394,8.9776804187737,9.300043479408,9.6224065400423,9.9447696006767,10.267132661311,10.589495721945,10.91185878258,11.234221843214,11.556584903848,11.878947964483,12.201311025117,12.523674085751,12.846037146386,13.16840020702,13.490763267654,13.813126328289,14.135489388923,14.457852449557,14.780215510192,15.102578570826,15.42494163146,15.747304692095,16.069667752729,16.392030813363,16.714393873997,17.036756934632,17.359119995266,17.6814830559,18.003846116535,18.326209177169,18.648572237803,18.970935298438,19.293298359072,19.615661419706,19.938024480341,20.260387540975,20.582750601609,20.905113662244,21.227476722878,21.549839783512,21.872202844147,22.194565904781,22.516928965415,22.83929202605,23.161655086684,23.484018147318,23.806381207953,24.128744268587,24.451107329221,24.773470389856,25.09583345049,25.418196511124,25.740559571759,26.062922632393,26.385285693027,26.707648753662,27.030011814296,27.35237487493,27.674737935564,27.997100996199,28.319464056833,28.641827117467,28.964190178102,29.286553238736,29.60891629937,29.931279360005,30.253642420639,30.576005481273,30.898368541908,31.220731602542,31.543094663176,31.865457723811,32.187820784445],\"x\":[1,2,3,4,5,6,7,8,9,10,11,12,13,14,15,16,17,18,19,20,21,22,23,24,25,26,27,28,29,30,31,32,33,34,35,36,37,38,39,40,41,42,43,44,45,46,47,48,49,50,51,52,53,54,55,56,57,58,59,60,61,62,63,64,65,66,67,68,69,70,71,72,73,74,75,76,77,78,79,80,81,82,83,84,85,86,87,88,89,90,91,92,93,94,95,96,97,98,99,100]},\"column_names\":[\"y\",\"x\"],\"cont_ranges\":{},\"discrete_ranges\":{},\"selected\":[],\"id\":\"8ce94943-b41b-4080-c0f7-613b49396d47\",\"doc\":null,\"tags\":[]}},{\"id\":\"144427f4-0576-4c59-ccd3-d8f6ae8e111f\",\"type\":\"Line\",\"attributes\":{\"fill_alpha\":{\"units\":\"data\",\"value\":0.2},\"line_alpha\":{\"units\":\"data\",\"value\":1},\"doc\":null,\"size\":{\"units\":\"screen\",\"value\":10},\"fill_color\":{\"value\":\"red\"},\"line_color\":{\"value\":\"red\"},\"x\":{\"units\":\"data\",\"field\":\"x\"},\"id\":\"144427f4-0576-4c59-ccd3-d8f6ae8e111f\",\"y\":{\"units\":\"data\",\"field\":\"y\"},\"tags\":[]}},{\"id\":\"14ee033b-c8ef-46d1-c690-4c8af25f2ddb\",\"type\":\"Line\",\"attributes\":{\"fill_alpha\":{\"units\":\"data\",\"value\":0.2},\"line_alpha\":{\"units\":\"data\",\"value\":1},\"doc\":null,\"size\":{\"units\":\"screen\",\"value\":10},\"fill_color\":{\"value\":\"red\"},\"line_color\":{\"value\":\"red\"},\"x\":{\"units\":\"data\",\"field\":\"x\"},\"id\":\"14ee033b-c8ef-46d1-c690-4c8af25f2ddb\",\"y\":{\"units\":\"data\",\"field\":\"y\"},\"tags\":[]}},{\"id\":\"f19635c2-f8cb-4ed4-ce3a-cfc5ecccf8b9\",\"type\":\"GlyphRenderer\",\"attributes\":{\"name\":null,\"nonselection_glyph\":{\"type\":\"Line\",\"id\":\"14ee033b-c8ef-46d1-c690-4c8af25f2ddb\"},\"doc\":null,\"server_data_source\":null,\"data_source\":{\"type\":\"ColumnDataSource\",\"id\":\"8ce94943-b41b-4080-c0f7-613b49396d47\"},\"glyph\":{\"type\":\"Line\",\"id\":\"144427f4-0576-4c59-ccd3-d8f6ae8e111f\"},\"selection_glyph\":null,\"id\":\"f19635c2-f8cb-4ed4-ce3a-cfc5ecccf8b9\",\"tags\":[]}},{\"id\":\"5971e504-c7bd-4979-c94c-2ed037290425\",\"type\":\"DataRange1d\",\"attributes\":{\"sources\":[{\"columns\":[\"x\"],\"source\":{\"type\":\"ColumnDataSource\",\"id\":\"e1a4784a-29d7-4805-c873-ca94e5df7299\"}},{\"columns\":[\"x\"],\"source\":{\"type\":\"ColumnDataSource\",\"id\":\"8ce94943-b41b-4080-c0f7-613b49396d47\"}}],\"id\":\"5971e504-c7bd-4979-c94c-2ed037290425\",\"tags\":[],\"doc\":null}},{\"id\":\"5dbb1263-616a-4a09-cadf-b8bceabe79a7\",\"type\":\"DataRange1d\",\"attributes\":{\"sources\":[{\"columns\":[\"y\"],\"source\":{\"type\":\"ColumnDataSource\",\"id\":\"e1a4784a-29d7-4805-c873-ca94e5df7299\"}},{\"columns\":[\"y\"],\"source\":{\"type\":\"ColumnDataSource\",\"id\":\"8ce94943-b41b-4080-c0f7-613b49396d47\"}}],\"id\":\"5dbb1263-616a-4a09-cadf-b8bceabe79a7\",\"tags\":[],\"doc\":null}},{\"id\":\"5a1cd297-1d52-4eb4-ceb4-6fe9d6003bf5\",\"type\":\"ToolEvents\",\"attributes\":{\"tags\":[],\"id\":\"5a1cd297-1d52-4eb4-ceb4-6fe9d6003bf5\",\"geometries\":[],\"doc\":null}},{\"id\":\"2e3aa7b9-c0d4-4e28-cee2-934d5d5965b8\",\"type\":\"BasicTickFormatter\",\"attributes\":{\"id\":\"2e3aa7b9-c0d4-4e28-cee2-934d5d5965b8\",\"tags\":[],\"doc\":null}},{\"id\":\"faedd12a-d412-4dad-cde7-d735e5e3a650\",\"type\":\"BasicTicker\",\"attributes\":{\"num_minor_ticks\":5,\"id\":\"faedd12a-d412-4dad-cde7-d735e5e3a650\",\"tags\":[],\"doc\":null}},{\"id\":\"d94c9e4c-565c-4f2a-cf34-a1348b152ef3\",\"type\":\"LinearAxis\",\"attributes\":{\"formatter\":{\"type\":\"BasicTickFormatter\",\"id\":\"2e3aa7b9-c0d4-4e28-cee2-934d5d5965b8\"},\"ticker\":{\"type\":\"BasicTicker\",\"id\":\"faedd12a-d412-4dad-cde7-d735e5e3a650\"},\"plot\":{\"id\":\"f5ddec7b-330a-465c-c640-7e89167c08b3\",\"type\":\"Plot\",\"subtype\":\"Figure\"},\"axis_label\":\"Iterations\",\"id\":\"d94c9e4c-565c-4f2a-cf34-a1348b152ef3\",\"doc\":null,\"tags\":[]}},{\"id\":\"14bfcf65-bc87-45e7-c550-5960ddb613ed\",\"type\":\"Grid\",\"attributes\":{\"dimension\":0,\"plot\":{\"id\":\"f5ddec7b-330a-465c-c640-7e89167c08b3\",\"type\":\"Plot\",\"subtype\":\"Figure\"},\"ticker\":{\"type\":\"BasicTicker\",\"id\":\"faedd12a-d412-4dad-cde7-d735e5e3a650\"},\"id\":\"14bfcf65-bc87-45e7-c550-5960ddb613ed\",\"doc\":null,\"tags\":[]}},{\"id\":\"957f1c45-2cab-43a3-c3d6-a63931b6e4b7\",\"type\":\"BasicTickFormatter\",\"attributes\":{\"id\":\"957f1c45-2cab-43a3-c3d6-a63931b6e4b7\",\"tags\":[],\"doc\":null}},{\"id\":\"6d5d4594-954c-4468-c4c1-d08b22846fcf\",\"type\":\"BasicTicker\",\"attributes\":{\"num_minor_ticks\":5,\"id\":\"6d5d4594-954c-4468-c4c1-d08b22846fcf\",\"tags\":[],\"doc\":null}},{\"id\":\"c29cea54-7cb9-4a36-cab1-5104c5f91a8f\",\"type\":\"LinearAxis\",\"attributes\":{\"formatter\":{\"type\":\"BasicTickFormatter\",\"id\":\"957f1c45-2cab-43a3-c3d6-a63931b6e4b7\"},\"ticker\":{\"type\":\"BasicTicker\",\"id\":\"6d5d4594-954c-4468-c4c1-d08b22846fcf\"},\"plot\":{\"id\":\"f5ddec7b-330a-465c-c640-7e89167c08b3\",\"type\":\"Plot\",\"subtype\":\"Figure\"},\"axis_label\":\"Mean Squared Error\",\"id\":\"c29cea54-7cb9-4a36-cab1-5104c5f91a8f\",\"doc\":null,\"tags\":[]}},{\"id\":\"380e50c3-e58b-45b3-c514-769babe1c0cf\",\"type\":\"Grid\",\"attributes\":{\"dimension\":1,\"plot\":{\"id\":\"f5ddec7b-330a-465c-c640-7e89167c08b3\",\"type\":\"Plot\",\"subtype\":\"Figure\"},\"ticker\":{\"type\":\"BasicTicker\",\"id\":\"6d5d4594-954c-4468-c4c1-d08b22846fcf\"},\"id\":\"380e50c3-e58b-45b3-c514-769babe1c0cf\",\"doc\":null,\"tags\":[]}},{\"id\":\"d53e8bf3-a8b2-4029-c051-f499dd1daa92\",\"type\":\"PanTool\",\"attributes\":{\"plot\":{\"id\":\"f5ddec7b-330a-465c-c640-7e89167c08b3\",\"type\":\"Plot\",\"subtype\":\"Figure\"},\"dimensions\":[\"width\",\"height\"],\"id\":\"d53e8bf3-a8b2-4029-c051-f499dd1daa92\",\"doc\":null,\"tags\":[]}},{\"id\":\"5c6ec0c9-bacc-45d9-c591-eac00415a35c\",\"type\":\"WheelZoomTool\",\"attributes\":{\"plot\":{\"id\":\"f5ddec7b-330a-465c-c640-7e89167c08b3\",\"type\":\"Plot\",\"subtype\":\"Figure\"},\"dimensions\":[\"width\",\"height\"],\"id\":\"5c6ec0c9-bacc-45d9-c591-eac00415a35c\",\"doc\":null,\"tags\":[]}},{\"id\":\"32c1b4ec-06ae-4f28-cfe4-758d49968abb\",\"type\":\"BoxZoomTool\",\"attributes\":{\"plot\":{\"id\":\"f5ddec7b-330a-465c-c640-7e89167c08b3\",\"type\":\"Plot\",\"subtype\":\"Figure\"},\"id\":\"32c1b4ec-06ae-4f28-cfe4-758d49968abb\",\"tags\":[],\"doc\":null}},{\"id\":\"f733792f-9f26-490f-c9fd-40bf3097904b\",\"type\":\"PreviewSaveTool\",\"attributes\":{\"plot\":{\"id\":\"f5ddec7b-330a-465c-c640-7e89167c08b3\",\"type\":\"Plot\",\"subtype\":\"Figure\"},\"id\":\"f733792f-9f26-490f-c9fd-40bf3097904b\",\"tags\":[],\"doc\":null}},{\"id\":\"dfd9f9b9-efce-4685-c67a-31f50aa49585\",\"type\":\"ResizeTool\",\"attributes\":{\"plot\":{\"id\":\"f5ddec7b-330a-465c-c640-7e89167c08b3\",\"type\":\"Plot\",\"subtype\":\"Figure\"},\"id\":\"dfd9f9b9-efce-4685-c67a-31f50aa49585\",\"tags\":[],\"doc\":null}},{\"id\":\"8c6d51d4-016a-4445-c498-1b56940127c1\",\"type\":\"ResetTool\",\"attributes\":{\"plot\":{\"id\":\"f5ddec7b-330a-465c-c640-7e89167c08b3\",\"type\":\"Plot\",\"subtype\":\"Figure\"},\"id\":\"8c6d51d4-016a-4445-c498-1b56940127c1\",\"tags\":[],\"doc\":null}},{\"id\":\"f5ddec7b-330a-465c-c640-7e89167c08b3\",\"type\":\"Plot\",\"attributes\":{\"x_range\":{\"type\":\"DataRange1d\",\"id\":\"5971e504-c7bd-4979-c94c-2ed037290425\"},\"tool_events\":{\"type\":\"ToolEvents\",\"id\":\"5a1cd297-1d52-4eb4-ceb4-6fe9d6003bf5\"},\"below\":[{\"type\":\"LinearAxis\",\"id\":\"d94c9e4c-565c-4f2a-cf34-a1348b152ef3\"}],\"renderers\":[{\"type\":\"GlyphRenderer\",\"id\":\"5922128e-2f25-42e2-c206-d2ec72c7f76d\"},{\"type\":\"GlyphRenderer\",\"id\":\"f19635c2-f8cb-4ed4-ce3a-cfc5ecccf8b9\"},{\"type\":\"LinearAxis\",\"id\":\"d94c9e4c-565c-4f2a-cf34-a1348b152ef3\"},{\"type\":\"Grid\",\"id\":\"14bfcf65-bc87-45e7-c550-5960ddb613ed\"},{\"type\":\"LinearAxis\",\"id\":\"c29cea54-7cb9-4a36-cab1-5104c5f91a8f\"},{\"type\":\"Grid\",\"id\":\"380e50c3-e58b-45b3-c514-769babe1c0cf\"}],\"above\":[],\"tools\":[{\"type\":\"PanTool\",\"id\":\"d53e8bf3-a8b2-4029-c051-f499dd1daa92\"},{\"type\":\"WheelZoomTool\",\"id\":\"5c6ec0c9-bacc-45d9-c591-eac00415a35c\"},{\"type\":\"BoxZoomTool\",\"id\":\"32c1b4ec-06ae-4f28-cfe4-758d49968abb\"},{\"type\":\"PreviewSaveTool\",\"id\":\"f733792f-9f26-490f-c9fd-40bf3097904b\"},{\"type\":\"ResizeTool\",\"id\":\"dfd9f9b9-efce-4685-c67a-31f50aa49585\"},{\"type\":\"ResetTool\",\"id\":\"8c6d51d4-016a-4445-c498-1b56940127c1\"}],\"doc\":null,\"right\":[],\"title\":\"Plot of Loss Function\",\"extra_x_ranges\":{},\"left\":[{\"type\":\"LinearAxis\",\"id\":\"c29cea54-7cb9-4a36-cab1-5104c5f91a8f\"}],\"y_range\":{\"type\":\"DataRange1d\",\"id\":\"5dbb1263-616a-4a09-cadf-b8bceabe79a7\"},\"id\":\"f5ddec7b-330a-465c-c640-7e89167c08b3\",\"extra_y_ranges\":{},\"tags\":[]}}];\n",
       "      Bokeh.load_models(all_models);\n",
       "      var model = Bokeh.Collections(modeltype).get(modelid);\n",
       "      $(\"#7c1b9af9-d2c5-41df-c1cd-b20a2dd907ab\").html(''); // clear any previous plot in window_id\n",
       "      var view = new model.default_view({model: model, el: \"#7c1b9af9-d2c5-41df-c1cd-b20a2dd907ab\"});\n",
       "  });\n",
       "    }\n",
       "});\n",
       "</script>\n",
       "<div class=\"plotdiv\" id=\"39af0032-51bb-4086-c028-c67916c82e2d\"></div>\n"
      ]
     },
     "metadata": {},
     "output_type": "display_data"
    },
    {
     "data": {
      "text/html": [
       "<script type=\"text/javascript\">\n",
       "$(function() {\n",
       "    if (typeof (window._bokeh_onload_callbacks) === \"undefined\"){\n",
       "  window._bokeh_onload_callbacks = [];\n",
       "    }\n",
       "    function load_lib(url, callback){\n",
       "  window._bokeh_onload_callbacks.push(callback);\n",
       "  if (window._bokeh_is_loading){\n",
       "      console.log(\"Bokeh: BokehJS is being loaded, scheduling callback at\", new Date());\n",
       "      return null;\n",
       "  }\n",
       "  console.log(\"Bokeh: BokehJS not loaded, scheduling load and callback at\", new Date());\n",
       "  window._bokeh_is_loading = true;\n",
       "  var s = document.createElement('script');\n",
       "  s.src = url;\n",
       "  s.async = true;\n",
       "  s.onreadystatechange = s.onload = function(){\n",
       "      Bokeh.embed.inject_css(\"https://cdn.pydata.org/bokeh-0.7.0.min.css\");\n",
       "      window._bokeh_onload_callbacks.forEach(function(callback){callback()});\n",
       "  };\n",
       "  s.onerror = function(){\n",
       "      console.warn(\"failed to load library \" + url);\n",
       "  };\n",
       "  document.getElementsByTagName(\"head\")[0].appendChild(s);\n",
       "    }\n",
       "\n",
       "    bokehjs_url = \"https://cdn.pydata.org/bokeh-0.7.0.min.js\"\n",
       "\n",
       "    var elt = document.getElementById(\"7c1b9af9-d2c5-41df-c1cd-b20a2dd907ab\");\n",
       "    if(elt==null) {\n",
       "  console.log(\"Bokeh: ERROR: autoload.js configured with elementid '7c1b9af9-d2c5-41df-c1cd-b20a2dd907ab'\"\n",
       "        + \"but no matching script tag was found. \")\n",
       "  return false;\n",
       "    }\n",
       "\n",
       "    if(typeof(Bokeh) !== \"undefined\") {\n",
       "  console.log(\"Bokeh: BokehJS loaded, going straight to plotting\");\n",
       "  var modelid = \"96f922a0-6b4d-4f25-cf5f-9ed468658b92\";\n",
       "  var modeltype = \"Plot\";\n",
       "  var all_models = [{\"id\":\"e1d85c29-6bd2-4de2-cd9e-36fe7e53f2a8\",\"type\":\"ColumnDataSource\",\"attributes\":{\"data\":{\"y\":[0.2738777816469,0.59624084228123,0.91860390291555,1.2409669635499,1.5633300241842,1.8856930848185,2.2080561454529,2.5304192060872,2.8527822667215,3.1751453273558,3.4975083879902,3.8198714486245,4.1422345092588,4.4645975698931,4.7869606305275,5.1093236911618,5.4316867517961,5.7540498124304,6.0764128730648,6.3987759336991,6.7211389943334,7.0435020549677,7.3658651156021,7.6882281762364,8.0105912368707,8.332954297505,8.6553173581394,8.9776804187737,9.300043479408,9.6224065400423,9.9447696006767,10.267132661311,10.589495721945,10.91185878258,11.234221843214,11.556584903848,11.878947964483,12.201311025117,12.523674085751,12.846037146386,13.16840020702,13.490763267654,13.813126328289,14.135489388923,14.457852449557,14.780215510192,15.102578570826,15.42494163146,15.747304692095,16.069667752729,16.392030813363,16.714393873997,17.036756934632,17.359119995266,17.6814830559,18.003846116535,18.326209177169,18.648572237803,18.970935298438,19.293298359072,19.615661419706,19.938024480341,20.260387540975,20.582750601609,20.905113662244,21.227476722878,21.549839783512,21.872202844147,22.194565904781,22.516928965415,22.83929202605,23.161655086684,23.484018147318,23.806381207953,24.128744268587,24.451107329221,24.773470389856,25.09583345049,25.418196511124,25.740559571759,26.062922632393,26.385285693027,26.707648753662,27.030011814296,27.35237487493,27.674737935564,27.997100996199,28.319464056833,28.641827117467,28.964190178102,29.286553238736,29.60891629937,29.931279360005,30.253642420639,30.576005481273,30.898368541908,31.220731602542,31.543094663176,31.865457723811,32.187820784445],\"x\":[1,2,3,4,5,6,7,8,9,10,11,12,13,14,15,16,17,18,19,20,21,22,23,24,25,26,27,28,29,30,31,32,33,34,35,36,37,38,39,40,41,42,43,44,45,46,47,48,49,50,51,52,53,54,55,56,57,58,59,60,61,62,63,64,65,66,67,68,69,70,71,72,73,74,75,76,77,78,79,80,81,82,83,84,85,86,87,88,89,90,91,92,93,94,95,96,97,98,99,100]},\"column_names\":[\"y\",\"x\"],\"cont_ranges\":{},\"discrete_ranges\":{},\"selected\":[],\"id\":\"e1d85c29-6bd2-4de2-cd9e-36fe7e53f2a8\",\"doc\":null,\"tags\":[]}},{\"id\":\"2dc16aa7-3a24-4b62-cb0a-b86c0bd14501\",\"type\":\"Circle\",\"attributes\":{\"fill_alpha\":{\"units\":\"data\",\"value\":0.2},\"line_alpha\":{\"units\":\"data\",\"value\":1},\"doc\":null,\"size\":{\"units\":\"screen\",\"value\":10},\"fill_color\":{\"value\":\"red\"},\"line_color\":{\"value\":\"red\"},\"x\":{\"units\":\"data\",\"field\":\"x\"},\"id\":\"2dc16aa7-3a24-4b62-cb0a-b86c0bd14501\",\"y\":{\"units\":\"data\",\"field\":\"y\"},\"tags\":[]}},{\"id\":\"da084b38-3559-4729-c7d5-43b0cd530bbf\",\"type\":\"Circle\",\"attributes\":{\"fill_alpha\":{\"units\":\"data\",\"value\":0.2},\"line_alpha\":{\"units\":\"data\",\"value\":1},\"doc\":null,\"size\":{\"units\":\"screen\",\"value\":10},\"fill_color\":{\"value\":\"red\"},\"line_color\":{\"value\":\"red\"},\"x\":{\"units\":\"data\",\"field\":\"x\"},\"id\":\"da084b38-3559-4729-c7d5-43b0cd530bbf\",\"y\":{\"units\":\"data\",\"field\":\"y\"},\"tags\":[]}},{\"id\":\"1839d4d1-40d7-4de1-cd2b-bb636e7862bf\",\"type\":\"GlyphRenderer\",\"attributes\":{\"name\":null,\"nonselection_glyph\":{\"type\":\"Circle\",\"id\":\"da084b38-3559-4729-c7d5-43b0cd530bbf\"},\"doc\":null,\"server_data_source\":null,\"data_source\":{\"type\":\"ColumnDataSource\",\"id\":\"e1d85c29-6bd2-4de2-cd9e-36fe7e53f2a8\"},\"glyph\":{\"type\":\"Circle\",\"id\":\"2dc16aa7-3a24-4b62-cb0a-b86c0bd14501\"},\"selection_glyph\":null,\"id\":\"1839d4d1-40d7-4de1-cd2b-bb636e7862bf\",\"tags\":[]}},{\"id\":\"a9bbf23b-033d-42b5-c252-9046becfc219\",\"type\":\"ColumnDataSource\",\"attributes\":{\"data\":{\"y\":[0.2738777816469,0.59624084228123,0.91860390291555,1.2409669635499,1.5633300241842,1.8856930848185,2.2080561454529,2.5304192060872,2.8527822667215,3.1751453273558,3.4975083879902,3.8198714486245,4.1422345092588,4.4645975698931,4.7869606305275,5.1093236911618,5.4316867517961,5.7540498124304,6.0764128730648,6.3987759336991,6.7211389943334,7.0435020549677,7.3658651156021,7.6882281762364,8.0105912368707,8.332954297505,8.6553173581394,8.9776804187737,9.300043479408,9.6224065400423,9.9447696006767,10.267132661311,10.589495721945,10.91185878258,11.234221843214,11.556584903848,11.878947964483,12.201311025117,12.523674085751,12.846037146386,13.16840020702,13.490763267654,13.813126328289,14.135489388923,14.457852449557,14.780215510192,15.102578570826,15.42494163146,15.747304692095,16.069667752729,16.392030813363,16.714393873997,17.036756934632,17.359119995266,17.6814830559,18.003846116535,18.326209177169,18.648572237803,18.970935298438,19.293298359072,19.615661419706,19.938024480341,20.260387540975,20.582750601609,20.905113662244,21.227476722878,21.549839783512,21.872202844147,22.194565904781,22.516928965415,22.83929202605,23.161655086684,23.484018147318,23.806381207953,24.128744268587,24.451107329221,24.773470389856,25.09583345049,25.418196511124,25.740559571759,26.062922632393,26.385285693027,26.707648753662,27.030011814296,27.35237487493,27.674737935564,27.997100996199,28.319464056833,28.641827117467,28.964190178102,29.286553238736,29.60891629937,29.931279360005,30.253642420639,30.576005481273,30.898368541908,31.220731602542,31.543094663176,31.865457723811,32.187820784445],\"x\":[1,2,3,4,5,6,7,8,9,10,11,12,13,14,15,16,17,18,19,20,21,22,23,24,25,26,27,28,29,30,31,32,33,34,35,36,37,38,39,40,41,42,43,44,45,46,47,48,49,50,51,52,53,54,55,56,57,58,59,60,61,62,63,64,65,66,67,68,69,70,71,72,73,74,75,76,77,78,79,80,81,82,83,84,85,86,87,88,89,90,91,92,93,94,95,96,97,98,99,100]},\"column_names\":[\"y\",\"x\"],\"cont_ranges\":{},\"discrete_ranges\":{},\"selected\":[],\"id\":\"a9bbf23b-033d-42b5-c252-9046becfc219\",\"doc\":null,\"tags\":[]}},{\"id\":\"e2552358-cdbd-48a1-c8de-54ffbe7ada85\",\"type\":\"Line\",\"attributes\":{\"fill_alpha\":{\"units\":\"data\",\"value\":0.2},\"line_alpha\":{\"units\":\"data\",\"value\":1},\"doc\":null,\"size\":{\"units\":\"screen\",\"value\":10},\"fill_color\":{\"value\":\"red\"},\"line_color\":{\"value\":\"red\"},\"x\":{\"units\":\"data\",\"field\":\"x\"},\"id\":\"e2552358-cdbd-48a1-c8de-54ffbe7ada85\",\"y\":{\"units\":\"data\",\"field\":\"y\"},\"tags\":[]}},{\"id\":\"0e014e04-7d9e-4c9d-cc8e-179ca2b2e1b8\",\"type\":\"Line\",\"attributes\":{\"fill_alpha\":{\"units\":\"data\",\"value\":0.2},\"line_alpha\":{\"units\":\"data\",\"value\":1},\"doc\":null,\"size\":{\"units\":\"screen\",\"value\":10},\"fill_color\":{\"value\":\"red\"},\"line_color\":{\"value\":\"red\"},\"x\":{\"units\":\"data\",\"field\":\"x\"},\"id\":\"0e014e04-7d9e-4c9d-cc8e-179ca2b2e1b8\",\"y\":{\"units\":\"data\",\"field\":\"y\"},\"tags\":[]}},{\"id\":\"b8641b82-3da2-4d70-cd3d-4fb389139f08\",\"type\":\"GlyphRenderer\",\"attributes\":{\"name\":null,\"nonselection_glyph\":{\"type\":\"Line\",\"id\":\"0e014e04-7d9e-4c9d-cc8e-179ca2b2e1b8\"},\"doc\":null,\"server_data_source\":null,\"data_source\":{\"type\":\"ColumnDataSource\",\"id\":\"a9bbf23b-033d-42b5-c252-9046becfc219\"},\"glyph\":{\"type\":\"Line\",\"id\":\"e2552358-cdbd-48a1-c8de-54ffbe7ada85\"},\"selection_glyph\":null,\"id\":\"b8641b82-3da2-4d70-cd3d-4fb389139f08\",\"tags\":[]}},{\"id\":\"db0e9cf9-adc8-41e4-c171-22244f55ade0\",\"type\":\"DataRange1d\",\"attributes\":{\"sources\":[{\"columns\":[\"x\"],\"source\":{\"type\":\"ColumnDataSource\",\"id\":\"e1d85c29-6bd2-4de2-cd9e-36fe7e53f2a8\"}},{\"columns\":[\"x\"],\"source\":{\"type\":\"ColumnDataSource\",\"id\":\"a9bbf23b-033d-42b5-c252-9046becfc219\"}}],\"id\":\"db0e9cf9-adc8-41e4-c171-22244f55ade0\",\"tags\":[],\"doc\":null}},{\"id\":\"9ea177f5-0792-494b-c994-6c42fb458846\",\"type\":\"DataRange1d\",\"attributes\":{\"sources\":[{\"columns\":[\"y\"],\"source\":{\"type\":\"ColumnDataSource\",\"id\":\"e1d85c29-6bd2-4de2-cd9e-36fe7e53f2a8\"}},{\"columns\":[\"y\"],\"source\":{\"type\":\"ColumnDataSource\",\"id\":\"a9bbf23b-033d-42b5-c252-9046becfc219\"}}],\"id\":\"9ea177f5-0792-494b-c994-6c42fb458846\",\"tags\":[],\"doc\":null}},{\"id\":\"be982d6d-2275-40e3-c0e9-6ecd25636567\",\"type\":\"ToolEvents\",\"attributes\":{\"tags\":[],\"id\":\"be982d6d-2275-40e3-c0e9-6ecd25636567\",\"geometries\":[],\"doc\":null}},{\"id\":\"6066ce1f-4bc1-4b96-cb38-f0e9521dcd99\",\"type\":\"BasicTickFormatter\",\"attributes\":{\"id\":\"6066ce1f-4bc1-4b96-cb38-f0e9521dcd99\",\"tags\":[],\"doc\":null}},{\"id\":\"04e419d5-2379-49ef-c950-1158d6839970\",\"type\":\"BasicTicker\",\"attributes\":{\"num_minor_ticks\":5,\"id\":\"04e419d5-2379-49ef-c950-1158d6839970\",\"tags\":[],\"doc\":null}},{\"id\":\"7103e152-ccec-437f-c306-5d0fe211a117\",\"type\":\"LinearAxis\",\"attributes\":{\"formatter\":{\"type\":\"BasicTickFormatter\",\"id\":\"6066ce1f-4bc1-4b96-cb38-f0e9521dcd99\"},\"ticker\":{\"type\":\"BasicTicker\",\"id\":\"04e419d5-2379-49ef-c950-1158d6839970\"},\"plot\":{\"id\":\"96f922a0-6b4d-4f25-cf5f-9ed468658b92\",\"type\":\"Plot\",\"subtype\":\"Figure\"},\"axis_label\":\"Iterations\",\"id\":\"7103e152-ccec-437f-c306-5d0fe211a117\",\"doc\":null,\"tags\":[]}},{\"id\":\"44335792-821c-43f6-c309-c0e40f5ae25c\",\"type\":\"Grid\",\"attributes\":{\"dimension\":0,\"plot\":{\"id\":\"96f922a0-6b4d-4f25-cf5f-9ed468658b92\",\"type\":\"Plot\",\"subtype\":\"Figure\"},\"ticker\":{\"type\":\"BasicTicker\",\"id\":\"04e419d5-2379-49ef-c950-1158d6839970\"},\"id\":\"44335792-821c-43f6-c309-c0e40f5ae25c\",\"doc\":null,\"tags\":[]}},{\"id\":\"408daed9-32d8-4b33-cb59-50f079edc3e5\",\"type\":\"BasicTickFormatter\",\"attributes\":{\"id\":\"408daed9-32d8-4b33-cb59-50f079edc3e5\",\"tags\":[],\"doc\":null}},{\"id\":\"4173d13f-5975-4fbf-cf61-ae74aa193675\",\"type\":\"BasicTicker\",\"attributes\":{\"num_minor_ticks\":5,\"id\":\"4173d13f-5975-4fbf-cf61-ae74aa193675\",\"tags\":[],\"doc\":null}},{\"id\":\"3c7156b2-b92d-46bf-c6bf-21df432af8c6\",\"type\":\"LinearAxis\",\"attributes\":{\"formatter\":{\"type\":\"BasicTickFormatter\",\"id\":\"408daed9-32d8-4b33-cb59-50f079edc3e5\"},\"ticker\":{\"type\":\"BasicTicker\",\"id\":\"4173d13f-5975-4fbf-cf61-ae74aa193675\"},\"plot\":{\"id\":\"96f922a0-6b4d-4f25-cf5f-9ed468658b92\",\"type\":\"Plot\",\"subtype\":\"Figure\"},\"axis_label\":\"Mean Squared Error\",\"id\":\"3c7156b2-b92d-46bf-c6bf-21df432af8c6\",\"doc\":null,\"tags\":[]}},{\"id\":\"b170f816-a23e-4672-c610-ebbaebca9838\",\"type\":\"Grid\",\"attributes\":{\"dimension\":1,\"plot\":{\"id\":\"96f922a0-6b4d-4f25-cf5f-9ed468658b92\",\"type\":\"Plot\",\"subtype\":\"Figure\"},\"ticker\":{\"type\":\"BasicTicker\",\"id\":\"4173d13f-5975-4fbf-cf61-ae74aa193675\"},\"id\":\"b170f816-a23e-4672-c610-ebbaebca9838\",\"doc\":null,\"tags\":[]}},{\"id\":\"21080547-9ae5-44a0-c45d-7bb252d67cc9\",\"type\":\"PanTool\",\"attributes\":{\"plot\":{\"id\":\"96f922a0-6b4d-4f25-cf5f-9ed468658b92\",\"type\":\"Plot\",\"subtype\":\"Figure\"},\"dimensions\":[\"width\",\"height\"],\"id\":\"21080547-9ae5-44a0-c45d-7bb252d67cc9\",\"doc\":null,\"tags\":[]}},{\"id\":\"1105f04e-1e62-4639-c66d-c10675df063a\",\"type\":\"WheelZoomTool\",\"attributes\":{\"plot\":{\"id\":\"96f922a0-6b4d-4f25-cf5f-9ed468658b92\",\"type\":\"Plot\",\"subtype\":\"Figure\"},\"dimensions\":[\"width\",\"height\"],\"id\":\"1105f04e-1e62-4639-c66d-c10675df063a\",\"doc\":null,\"tags\":[]}},{\"id\":\"8ad725c9-ffeb-4c57-cc56-279b26889a4b\",\"type\":\"BoxZoomTool\",\"attributes\":{\"plot\":{\"id\":\"96f922a0-6b4d-4f25-cf5f-9ed468658b92\",\"type\":\"Plot\",\"subtype\":\"Figure\"},\"id\":\"8ad725c9-ffeb-4c57-cc56-279b26889a4b\",\"tags\":[],\"doc\":null}},{\"id\":\"a3c2001e-77ce-434b-c35b-704dea49d350\",\"type\":\"PreviewSaveTool\",\"attributes\":{\"plot\":{\"id\":\"96f922a0-6b4d-4f25-cf5f-9ed468658b92\",\"type\":\"Plot\",\"subtype\":\"Figure\"},\"id\":\"a3c2001e-77ce-434b-c35b-704dea49d350\",\"tags\":[],\"doc\":null}},{\"id\":\"27b37149-6973-41df-c161-692478c6441d\",\"type\":\"ResizeTool\",\"attributes\":{\"plot\":{\"id\":\"96f922a0-6b4d-4f25-cf5f-9ed468658b92\",\"type\":\"Plot\",\"subtype\":\"Figure\"},\"id\":\"27b37149-6973-41df-c161-692478c6441d\",\"tags\":[],\"doc\":null}},{\"id\":\"b86da6fa-0f50-4864-c80b-73decd3ef808\",\"type\":\"ResetTool\",\"attributes\":{\"plot\":{\"id\":\"96f922a0-6b4d-4f25-cf5f-9ed468658b92\",\"type\":\"Plot\",\"subtype\":\"Figure\"},\"id\":\"b86da6fa-0f50-4864-c80b-73decd3ef808\",\"tags\":[],\"doc\":null}},{\"id\":\"e3df5e37-99fa-4bc3-cbc3-1c2694ede97c\",\"type\":\"Legend\",\"attributes\":{\"plot\":{\"id\":\"96f922a0-6b4d-4f25-cf5f-9ed468658b92\",\"type\":\"Plot\",\"subtype\":\"Figure\"},\"legends\":[[\"RMSE\",[{\"type\":\"GlyphRenderer\",\"id\":\"1839d4d1-40d7-4de1-cd2b-bb636e7862bf\"}]],[\"\",[{\"type\":\"GlyphRenderer\",\"id\":\"b8641b82-3da2-4d70-cd3d-4fb389139f08\"}]]],\"id\":\"e3df5e37-99fa-4bc3-cbc3-1c2694ede97c\",\"doc\":null,\"tags\":[]}},{\"id\":\"96f922a0-6b4d-4f25-cf5f-9ed468658b92\",\"type\":\"Plot\",\"attributes\":{\"x_range\":{\"type\":\"DataRange1d\",\"id\":\"db0e9cf9-adc8-41e4-c171-22244f55ade0\"},\"tool_events\":{\"type\":\"ToolEvents\",\"id\":\"be982d6d-2275-40e3-c0e9-6ecd25636567\"},\"below\":[{\"type\":\"LinearAxis\",\"id\":\"7103e152-ccec-437f-c306-5d0fe211a117\"}],\"renderers\":[{\"type\":\"GlyphRenderer\",\"id\":\"1839d4d1-40d7-4de1-cd2b-bb636e7862bf\"},{\"type\":\"GlyphRenderer\",\"id\":\"b8641b82-3da2-4d70-cd3d-4fb389139f08\"},{\"type\":\"LinearAxis\",\"id\":\"7103e152-ccec-437f-c306-5d0fe211a117\"},{\"type\":\"Grid\",\"id\":\"44335792-821c-43f6-c309-c0e40f5ae25c\"},{\"type\":\"LinearAxis\",\"id\":\"3c7156b2-b92d-46bf-c6bf-21df432af8c6\"},{\"type\":\"Grid\",\"id\":\"b170f816-a23e-4672-c610-ebbaebca9838\"},{\"type\":\"Legend\",\"id\":\"e3df5e37-99fa-4bc3-cbc3-1c2694ede97c\"}],\"above\":[],\"tools\":[{\"type\":\"PanTool\",\"id\":\"21080547-9ae5-44a0-c45d-7bb252d67cc9\"},{\"type\":\"WheelZoomTool\",\"id\":\"1105f04e-1e62-4639-c66d-c10675df063a\"},{\"type\":\"BoxZoomTool\",\"id\":\"8ad725c9-ffeb-4c57-cc56-279b26889a4b\"},{\"type\":\"PreviewSaveTool\",\"id\":\"a3c2001e-77ce-434b-c35b-704dea49d350\"},{\"type\":\"ResizeTool\",\"id\":\"27b37149-6973-41df-c161-692478c6441d\"},{\"type\":\"ResetTool\",\"id\":\"b86da6fa-0f50-4864-c80b-73decd3ef808\"}],\"doc\":null,\"right\":[],\"title\":\"Plot of Loss Function\",\"extra_x_ranges\":{},\"left\":[{\"type\":\"LinearAxis\",\"id\":\"3c7156b2-b92d-46bf-c6bf-21df432af8c6\"}],\"y_range\":{\"type\":\"DataRange1d\",\"id\":\"9ea177f5-0792-494b-c994-6c42fb458846\"},\"id\":\"96f922a0-6b4d-4f25-cf5f-9ed468658b92\",\"extra_y_ranges\":{},\"tags\":[]}}];\n",
       "  Bokeh.load_models(all_models);\n",
       "  var model = Bokeh.Collections(modeltype).get(modelid);\n",
       "  $(\"#7c1b9af9-d2c5-41df-c1cd-b20a2dd907ab\").html(''); // clear any previous plot in window_id\n",
       "  var view = new model.default_view({model: model, el: \"#7c1b9af9-d2c5-41df-c1cd-b20a2dd907ab\"});\n",
       "    } else {\n",
       "  load_lib(bokehjs_url, function() {\n",
       "      console.log(\"Bokeh: BokehJS plotting callback run at\", new Date())\n",
       "      var modelid = \"96f922a0-6b4d-4f25-cf5f-9ed468658b92\";\n",
       "      var modeltype = \"Plot\";\n",
       "      var all_models = [{\"id\":\"e1d85c29-6bd2-4de2-cd9e-36fe7e53f2a8\",\"type\":\"ColumnDataSource\",\"attributes\":{\"data\":{\"y\":[0.2738777816469,0.59624084228123,0.91860390291555,1.2409669635499,1.5633300241842,1.8856930848185,2.2080561454529,2.5304192060872,2.8527822667215,3.1751453273558,3.4975083879902,3.8198714486245,4.1422345092588,4.4645975698931,4.7869606305275,5.1093236911618,5.4316867517961,5.7540498124304,6.0764128730648,6.3987759336991,6.7211389943334,7.0435020549677,7.3658651156021,7.6882281762364,8.0105912368707,8.332954297505,8.6553173581394,8.9776804187737,9.300043479408,9.6224065400423,9.9447696006767,10.267132661311,10.589495721945,10.91185878258,11.234221843214,11.556584903848,11.878947964483,12.201311025117,12.523674085751,12.846037146386,13.16840020702,13.490763267654,13.813126328289,14.135489388923,14.457852449557,14.780215510192,15.102578570826,15.42494163146,15.747304692095,16.069667752729,16.392030813363,16.714393873997,17.036756934632,17.359119995266,17.6814830559,18.003846116535,18.326209177169,18.648572237803,18.970935298438,19.293298359072,19.615661419706,19.938024480341,20.260387540975,20.582750601609,20.905113662244,21.227476722878,21.549839783512,21.872202844147,22.194565904781,22.516928965415,22.83929202605,23.161655086684,23.484018147318,23.806381207953,24.128744268587,24.451107329221,24.773470389856,25.09583345049,25.418196511124,25.740559571759,26.062922632393,26.385285693027,26.707648753662,27.030011814296,27.35237487493,27.674737935564,27.997100996199,28.319464056833,28.641827117467,28.964190178102,29.286553238736,29.60891629937,29.931279360005,30.253642420639,30.576005481273,30.898368541908,31.220731602542,31.543094663176,31.865457723811,32.187820784445],\"x\":[1,2,3,4,5,6,7,8,9,10,11,12,13,14,15,16,17,18,19,20,21,22,23,24,25,26,27,28,29,30,31,32,33,34,35,36,37,38,39,40,41,42,43,44,45,46,47,48,49,50,51,52,53,54,55,56,57,58,59,60,61,62,63,64,65,66,67,68,69,70,71,72,73,74,75,76,77,78,79,80,81,82,83,84,85,86,87,88,89,90,91,92,93,94,95,96,97,98,99,100]},\"column_names\":[\"y\",\"x\"],\"cont_ranges\":{},\"discrete_ranges\":{},\"selected\":[],\"id\":\"e1d85c29-6bd2-4de2-cd9e-36fe7e53f2a8\",\"doc\":null,\"tags\":[]}},{\"id\":\"2dc16aa7-3a24-4b62-cb0a-b86c0bd14501\",\"type\":\"Circle\",\"attributes\":{\"fill_alpha\":{\"units\":\"data\",\"value\":0.2},\"line_alpha\":{\"units\":\"data\",\"value\":1},\"doc\":null,\"size\":{\"units\":\"screen\",\"value\":10},\"fill_color\":{\"value\":\"red\"},\"line_color\":{\"value\":\"red\"},\"x\":{\"units\":\"data\",\"field\":\"x\"},\"id\":\"2dc16aa7-3a24-4b62-cb0a-b86c0bd14501\",\"y\":{\"units\":\"data\",\"field\":\"y\"},\"tags\":[]}},{\"id\":\"da084b38-3559-4729-c7d5-43b0cd530bbf\",\"type\":\"Circle\",\"attributes\":{\"fill_alpha\":{\"units\":\"data\",\"value\":0.2},\"line_alpha\":{\"units\":\"data\",\"value\":1},\"doc\":null,\"size\":{\"units\":\"screen\",\"value\":10},\"fill_color\":{\"value\":\"red\"},\"line_color\":{\"value\":\"red\"},\"x\":{\"units\":\"data\",\"field\":\"x\"},\"id\":\"da084b38-3559-4729-c7d5-43b0cd530bbf\",\"y\":{\"units\":\"data\",\"field\":\"y\"},\"tags\":[]}},{\"id\":\"1839d4d1-40d7-4de1-cd2b-bb636e7862bf\",\"type\":\"GlyphRenderer\",\"attributes\":{\"name\":null,\"nonselection_glyph\":{\"type\":\"Circle\",\"id\":\"da084b38-3559-4729-c7d5-43b0cd530bbf\"},\"doc\":null,\"server_data_source\":null,\"data_source\":{\"type\":\"ColumnDataSource\",\"id\":\"e1d85c29-6bd2-4de2-cd9e-36fe7e53f2a8\"},\"glyph\":{\"type\":\"Circle\",\"id\":\"2dc16aa7-3a24-4b62-cb0a-b86c0bd14501\"},\"selection_glyph\":null,\"id\":\"1839d4d1-40d7-4de1-cd2b-bb636e7862bf\",\"tags\":[]}},{\"id\":\"a9bbf23b-033d-42b5-c252-9046becfc219\",\"type\":\"ColumnDataSource\",\"attributes\":{\"data\":{\"y\":[0.2738777816469,0.59624084228123,0.91860390291555,1.2409669635499,1.5633300241842,1.8856930848185,2.2080561454529,2.5304192060872,2.8527822667215,3.1751453273558,3.4975083879902,3.8198714486245,4.1422345092588,4.4645975698931,4.7869606305275,5.1093236911618,5.4316867517961,5.7540498124304,6.0764128730648,6.3987759336991,6.7211389943334,7.0435020549677,7.3658651156021,7.6882281762364,8.0105912368707,8.332954297505,8.6553173581394,8.9776804187737,9.300043479408,9.6224065400423,9.9447696006767,10.267132661311,10.589495721945,10.91185878258,11.234221843214,11.556584903848,11.878947964483,12.201311025117,12.523674085751,12.846037146386,13.16840020702,13.490763267654,13.813126328289,14.135489388923,14.457852449557,14.780215510192,15.102578570826,15.42494163146,15.747304692095,16.069667752729,16.392030813363,16.714393873997,17.036756934632,17.359119995266,17.6814830559,18.003846116535,18.326209177169,18.648572237803,18.970935298438,19.293298359072,19.615661419706,19.938024480341,20.260387540975,20.582750601609,20.905113662244,21.227476722878,21.549839783512,21.872202844147,22.194565904781,22.516928965415,22.83929202605,23.161655086684,23.484018147318,23.806381207953,24.128744268587,24.451107329221,24.773470389856,25.09583345049,25.418196511124,25.740559571759,26.062922632393,26.385285693027,26.707648753662,27.030011814296,27.35237487493,27.674737935564,27.997100996199,28.319464056833,28.641827117467,28.964190178102,29.286553238736,29.60891629937,29.931279360005,30.253642420639,30.576005481273,30.898368541908,31.220731602542,31.543094663176,31.865457723811,32.187820784445],\"x\":[1,2,3,4,5,6,7,8,9,10,11,12,13,14,15,16,17,18,19,20,21,22,23,24,25,26,27,28,29,30,31,32,33,34,35,36,37,38,39,40,41,42,43,44,45,46,47,48,49,50,51,52,53,54,55,56,57,58,59,60,61,62,63,64,65,66,67,68,69,70,71,72,73,74,75,76,77,78,79,80,81,82,83,84,85,86,87,88,89,90,91,92,93,94,95,96,97,98,99,100]},\"column_names\":[\"y\",\"x\"],\"cont_ranges\":{},\"discrete_ranges\":{},\"selected\":[],\"id\":\"a9bbf23b-033d-42b5-c252-9046becfc219\",\"doc\":null,\"tags\":[]}},{\"id\":\"e2552358-cdbd-48a1-c8de-54ffbe7ada85\",\"type\":\"Line\",\"attributes\":{\"fill_alpha\":{\"units\":\"data\",\"value\":0.2},\"line_alpha\":{\"units\":\"data\",\"value\":1},\"doc\":null,\"size\":{\"units\":\"screen\",\"value\":10},\"fill_color\":{\"value\":\"red\"},\"line_color\":{\"value\":\"red\"},\"x\":{\"units\":\"data\",\"field\":\"x\"},\"id\":\"e2552358-cdbd-48a1-c8de-54ffbe7ada85\",\"y\":{\"units\":\"data\",\"field\":\"y\"},\"tags\":[]}},{\"id\":\"0e014e04-7d9e-4c9d-cc8e-179ca2b2e1b8\",\"type\":\"Line\",\"attributes\":{\"fill_alpha\":{\"units\":\"data\",\"value\":0.2},\"line_alpha\":{\"units\":\"data\",\"value\":1},\"doc\":null,\"size\":{\"units\":\"screen\",\"value\":10},\"fill_color\":{\"value\":\"red\"},\"line_color\":{\"value\":\"red\"},\"x\":{\"units\":\"data\",\"field\":\"x\"},\"id\":\"0e014e04-7d9e-4c9d-cc8e-179ca2b2e1b8\",\"y\":{\"units\":\"data\",\"field\":\"y\"},\"tags\":[]}},{\"id\":\"b8641b82-3da2-4d70-cd3d-4fb389139f08\",\"type\":\"GlyphRenderer\",\"attributes\":{\"name\":null,\"nonselection_glyph\":{\"type\":\"Line\",\"id\":\"0e014e04-7d9e-4c9d-cc8e-179ca2b2e1b8\"},\"doc\":null,\"server_data_source\":null,\"data_source\":{\"type\":\"ColumnDataSource\",\"id\":\"a9bbf23b-033d-42b5-c252-9046becfc219\"},\"glyph\":{\"type\":\"Line\",\"id\":\"e2552358-cdbd-48a1-c8de-54ffbe7ada85\"},\"selection_glyph\":null,\"id\":\"b8641b82-3da2-4d70-cd3d-4fb389139f08\",\"tags\":[]}},{\"id\":\"db0e9cf9-adc8-41e4-c171-22244f55ade0\",\"type\":\"DataRange1d\",\"attributes\":{\"sources\":[{\"columns\":[\"x\"],\"source\":{\"type\":\"ColumnDataSource\",\"id\":\"e1d85c29-6bd2-4de2-cd9e-36fe7e53f2a8\"}},{\"columns\":[\"x\"],\"source\":{\"type\":\"ColumnDataSource\",\"id\":\"a9bbf23b-033d-42b5-c252-9046becfc219\"}}],\"id\":\"db0e9cf9-adc8-41e4-c171-22244f55ade0\",\"tags\":[],\"doc\":null}},{\"id\":\"9ea177f5-0792-494b-c994-6c42fb458846\",\"type\":\"DataRange1d\",\"attributes\":{\"sources\":[{\"columns\":[\"y\"],\"source\":{\"type\":\"ColumnDataSource\",\"id\":\"e1d85c29-6bd2-4de2-cd9e-36fe7e53f2a8\"}},{\"columns\":[\"y\"],\"source\":{\"type\":\"ColumnDataSource\",\"id\":\"a9bbf23b-033d-42b5-c252-9046becfc219\"}}],\"id\":\"9ea177f5-0792-494b-c994-6c42fb458846\",\"tags\":[],\"doc\":null}},{\"id\":\"be982d6d-2275-40e3-c0e9-6ecd25636567\",\"type\":\"ToolEvents\",\"attributes\":{\"tags\":[],\"id\":\"be982d6d-2275-40e3-c0e9-6ecd25636567\",\"geometries\":[],\"doc\":null}},{\"id\":\"6066ce1f-4bc1-4b96-cb38-f0e9521dcd99\",\"type\":\"BasicTickFormatter\",\"attributes\":{\"id\":\"6066ce1f-4bc1-4b96-cb38-f0e9521dcd99\",\"tags\":[],\"doc\":null}},{\"id\":\"04e419d5-2379-49ef-c950-1158d6839970\",\"type\":\"BasicTicker\",\"attributes\":{\"num_minor_ticks\":5,\"id\":\"04e419d5-2379-49ef-c950-1158d6839970\",\"tags\":[],\"doc\":null}},{\"id\":\"7103e152-ccec-437f-c306-5d0fe211a117\",\"type\":\"LinearAxis\",\"attributes\":{\"formatter\":{\"type\":\"BasicTickFormatter\",\"id\":\"6066ce1f-4bc1-4b96-cb38-f0e9521dcd99\"},\"ticker\":{\"type\":\"BasicTicker\",\"id\":\"04e419d5-2379-49ef-c950-1158d6839970\"},\"plot\":{\"id\":\"96f922a0-6b4d-4f25-cf5f-9ed468658b92\",\"type\":\"Plot\",\"subtype\":\"Figure\"},\"axis_label\":\"Iterations\",\"id\":\"7103e152-ccec-437f-c306-5d0fe211a117\",\"doc\":null,\"tags\":[]}},{\"id\":\"44335792-821c-43f6-c309-c0e40f5ae25c\",\"type\":\"Grid\",\"attributes\":{\"dimension\":0,\"plot\":{\"id\":\"96f922a0-6b4d-4f25-cf5f-9ed468658b92\",\"type\":\"Plot\",\"subtype\":\"Figure\"},\"ticker\":{\"type\":\"BasicTicker\",\"id\":\"04e419d5-2379-49ef-c950-1158d6839970\"},\"id\":\"44335792-821c-43f6-c309-c0e40f5ae25c\",\"doc\":null,\"tags\":[]}},{\"id\":\"408daed9-32d8-4b33-cb59-50f079edc3e5\",\"type\":\"BasicTickFormatter\",\"attributes\":{\"id\":\"408daed9-32d8-4b33-cb59-50f079edc3e5\",\"tags\":[],\"doc\":null}},{\"id\":\"4173d13f-5975-4fbf-cf61-ae74aa193675\",\"type\":\"BasicTicker\",\"attributes\":{\"num_minor_ticks\":5,\"id\":\"4173d13f-5975-4fbf-cf61-ae74aa193675\",\"tags\":[],\"doc\":null}},{\"id\":\"3c7156b2-b92d-46bf-c6bf-21df432af8c6\",\"type\":\"LinearAxis\",\"attributes\":{\"formatter\":{\"type\":\"BasicTickFormatter\",\"id\":\"408daed9-32d8-4b33-cb59-50f079edc3e5\"},\"ticker\":{\"type\":\"BasicTicker\",\"id\":\"4173d13f-5975-4fbf-cf61-ae74aa193675\"},\"plot\":{\"id\":\"96f922a0-6b4d-4f25-cf5f-9ed468658b92\",\"type\":\"Plot\",\"subtype\":\"Figure\"},\"axis_label\":\"Mean Squared Error\",\"id\":\"3c7156b2-b92d-46bf-c6bf-21df432af8c6\",\"doc\":null,\"tags\":[]}},{\"id\":\"b170f816-a23e-4672-c610-ebbaebca9838\",\"type\":\"Grid\",\"attributes\":{\"dimension\":1,\"plot\":{\"id\":\"96f922a0-6b4d-4f25-cf5f-9ed468658b92\",\"type\":\"Plot\",\"subtype\":\"Figure\"},\"ticker\":{\"type\":\"BasicTicker\",\"id\":\"4173d13f-5975-4fbf-cf61-ae74aa193675\"},\"id\":\"b170f816-a23e-4672-c610-ebbaebca9838\",\"doc\":null,\"tags\":[]}},{\"id\":\"21080547-9ae5-44a0-c45d-7bb252d67cc9\",\"type\":\"PanTool\",\"attributes\":{\"plot\":{\"id\":\"96f922a0-6b4d-4f25-cf5f-9ed468658b92\",\"type\":\"Plot\",\"subtype\":\"Figure\"},\"dimensions\":[\"width\",\"height\"],\"id\":\"21080547-9ae5-44a0-c45d-7bb252d67cc9\",\"doc\":null,\"tags\":[]}},{\"id\":\"1105f04e-1e62-4639-c66d-c10675df063a\",\"type\":\"WheelZoomTool\",\"attributes\":{\"plot\":{\"id\":\"96f922a0-6b4d-4f25-cf5f-9ed468658b92\",\"type\":\"Plot\",\"subtype\":\"Figure\"},\"dimensions\":[\"width\",\"height\"],\"id\":\"1105f04e-1e62-4639-c66d-c10675df063a\",\"doc\":null,\"tags\":[]}},{\"id\":\"8ad725c9-ffeb-4c57-cc56-279b26889a4b\",\"type\":\"BoxZoomTool\",\"attributes\":{\"plot\":{\"id\":\"96f922a0-6b4d-4f25-cf5f-9ed468658b92\",\"type\":\"Plot\",\"subtype\":\"Figure\"},\"id\":\"8ad725c9-ffeb-4c57-cc56-279b26889a4b\",\"tags\":[],\"doc\":null}},{\"id\":\"a3c2001e-77ce-434b-c35b-704dea49d350\",\"type\":\"PreviewSaveTool\",\"attributes\":{\"plot\":{\"id\":\"96f922a0-6b4d-4f25-cf5f-9ed468658b92\",\"type\":\"Plot\",\"subtype\":\"Figure\"},\"id\":\"a3c2001e-77ce-434b-c35b-704dea49d350\",\"tags\":[],\"doc\":null}},{\"id\":\"27b37149-6973-41df-c161-692478c6441d\",\"type\":\"ResizeTool\",\"attributes\":{\"plot\":{\"id\":\"96f922a0-6b4d-4f25-cf5f-9ed468658b92\",\"type\":\"Plot\",\"subtype\":\"Figure\"},\"id\":\"27b37149-6973-41df-c161-692478c6441d\",\"tags\":[],\"doc\":null}},{\"id\":\"b86da6fa-0f50-4864-c80b-73decd3ef808\",\"type\":\"ResetTool\",\"attributes\":{\"plot\":{\"id\":\"96f922a0-6b4d-4f25-cf5f-9ed468658b92\",\"type\":\"Plot\",\"subtype\":\"Figure\"},\"id\":\"b86da6fa-0f50-4864-c80b-73decd3ef808\",\"tags\":[],\"doc\":null}},{\"id\":\"e3df5e37-99fa-4bc3-cbc3-1c2694ede97c\",\"type\":\"Legend\",\"attributes\":{\"plot\":{\"id\":\"96f922a0-6b4d-4f25-cf5f-9ed468658b92\",\"type\":\"Plot\",\"subtype\":\"Figure\"},\"legends\":[[\"RMSE\",[{\"type\":\"GlyphRenderer\",\"id\":\"1839d4d1-40d7-4de1-cd2b-bb636e7862bf\"}]],[\"\",[{\"type\":\"GlyphRenderer\",\"id\":\"b8641b82-3da2-4d70-cd3d-4fb389139f08\"}]]],\"id\":\"e3df5e37-99fa-4bc3-cbc3-1c2694ede97c\",\"doc\":null,\"tags\":[]}},{\"id\":\"96f922a0-6b4d-4f25-cf5f-9ed468658b92\",\"type\":\"Plot\",\"attributes\":{\"x_range\":{\"type\":\"DataRange1d\",\"id\":\"db0e9cf9-adc8-41e4-c171-22244f55ade0\"},\"tool_events\":{\"type\":\"ToolEvents\",\"id\":\"be982d6d-2275-40e3-c0e9-6ecd25636567\"},\"below\":[{\"type\":\"LinearAxis\",\"id\":\"7103e152-ccec-437f-c306-5d0fe211a117\"}],\"renderers\":[{\"type\":\"GlyphRenderer\",\"id\":\"1839d4d1-40d7-4de1-cd2b-bb636e7862bf\"},{\"type\":\"GlyphRenderer\",\"id\":\"b8641b82-3da2-4d70-cd3d-4fb389139f08\"},{\"type\":\"LinearAxis\",\"id\":\"7103e152-ccec-437f-c306-5d0fe211a117\"},{\"type\":\"Grid\",\"id\":\"44335792-821c-43f6-c309-c0e40f5ae25c\"},{\"type\":\"LinearAxis\",\"id\":\"3c7156b2-b92d-46bf-c6bf-21df432af8c6\"},{\"type\":\"Grid\",\"id\":\"b170f816-a23e-4672-c610-ebbaebca9838\"},{\"type\":\"Legend\",\"id\":\"e3df5e37-99fa-4bc3-cbc3-1c2694ede97c\"}],\"above\":[],\"tools\":[{\"type\":\"PanTool\",\"id\":\"21080547-9ae5-44a0-c45d-7bb252d67cc9\"},{\"type\":\"WheelZoomTool\",\"id\":\"1105f04e-1e62-4639-c66d-c10675df063a\"},{\"type\":\"BoxZoomTool\",\"id\":\"8ad725c9-ffeb-4c57-cc56-279b26889a4b\"},{\"type\":\"PreviewSaveTool\",\"id\":\"a3c2001e-77ce-434b-c35b-704dea49d350\"},{\"type\":\"ResizeTool\",\"id\":\"27b37149-6973-41df-c161-692478c6441d\"},{\"type\":\"ResetTool\",\"id\":\"b86da6fa-0f50-4864-c80b-73decd3ef808\"}],\"doc\":null,\"right\":[],\"title\":\"Plot of Loss Function\",\"extra_x_ranges\":{},\"left\":[{\"type\":\"LinearAxis\",\"id\":\"3c7156b2-b92d-46bf-c6bf-21df432af8c6\"}],\"y_range\":{\"type\":\"DataRange1d\",\"id\":\"9ea177f5-0792-494b-c994-6c42fb458846\"},\"id\":\"96f922a0-6b4d-4f25-cf5f-9ed468658b92\",\"extra_y_ranges\":{},\"tags\":[]}}];\n",
       "      Bokeh.load_models(all_models);\n",
       "      var model = Bokeh.Collections(modeltype).get(modelid);\n",
       "      $(\"#7c1b9af9-d2c5-41df-c1cd-b20a2dd907ab\").html(''); // clear any previous plot in window_id\n",
       "      var view = new model.default_view({model: model, el: \"#7c1b9af9-d2c5-41df-c1cd-b20a2dd907ab\"});\n",
       "  });\n",
       "    }\n",
       "});\n",
       "</script>\n",
       "<div class=\"plotdiv\" id=\"1844c8e0-32da-4849-c8d7-35d8b1d06a2d\"></div>\n"
      ]
     },
     "metadata": {},
     "output_type": "display_data"
    }
   ],
   "source": [
    "-- scatter plots\n",
    "plot = Plot():circle(torch.range(1, #err), \n",
    "                err, 'red', 'RMSE'):draw()\n",
    "plot:line(torch.range(1, #err), \n",
    "                err, 'red', ''):redraw()\n",
    "plot:title('Plot of Loss Function'):redraw()\n",
    "plot:xaxis('Iterations'):yaxis('Mean Squared Error'):redraw()\n",
    "plot:legend(true)\n",
    "plot:redraw()"
   ]
  },
  {
   "cell_type": "markdown",
   "metadata": {
    "collapsed": true
   },
   "source": [
    "# Try 2"
   ]
  },
  {
   "cell_type": "code",
   "execution_count": null,
   "metadata": {
    "collapsed": true
   },
   "outputs": [],
   "source": [
    "-- scatter plots\n",
    "plot = Plot():circle(torch.range(1, #loss), \n",
    "                loss, 'red', 'Loss Function'):draw()\n",
    "plot:line(torch.range(1, #loss), \n",
    "                loss, 'red', ''):redraw()\n",
    "plot:title('Scatter Plot Demo'):redraw()\n",
    "plot:xaxis('Iterations'):yaxis('Negative Log-Likelihood'):redraw()\n",
    "plot:legend(true)\n",
    "plot:redraw()"
   ]
  },
  {
   "cell_type": "code",
   "execution_count": 178,
   "metadata": {
    "collapsed": false
   },
   "outputs": [
    {
     "data": {
      "text/plain": [
       "<csv>\tparsing file: /Users/franciscojavierarceo/GitHub/DeepNLPQLearning/DO_NOT_UPLOAD_THIS_DATA/0-output/2012_aurora_shooting_first_sentence_numtext.csv\t\n"
      ]
     },
     "execution_count": 178,
     "metadata": {},
     "output_type": "execute_result"
    },
    {
     "data": {
      "text/plain": [
       "<csv>\tparsing done\t\n",
       "<csv>\tparsing file: /Users/franciscojavierarceo/GitHub/DeepNLPQLearning/DO_NOT_UPLOAD_THIS_DATA/0-output/total_corpus_smry.csv\t\n"
      ]
     },
     "execution_count": 178,
     "metadata": {},
     "output_type": "execute_result"
    },
    {
     "data": {
      "text/plain": [
       "<csv>\tparsing done\t\n",
       "<csv>\tparsing file: /Users/franciscojavierarceo/GitHub/DeepNLPQLearning/DO_NOT_UPLOAD_THIS_DATA/0-output/aurora_nuggets_numtext.csv\t\n",
       "<csv>\tparsing done\t\n",
       "...Utils file loaded\t\n"
      ]
     },
     "execution_count": 178,
     "metadata": {},
     "output_type": "execute_result"
    },
    {
     "data": {
      "text/plain": [
       "1000\telements read out of \t12510\t\n"
      ]
     },
     "execution_count": 178,
     "metadata": {},
     "output_type": "execute_result"
    },
    {
     "data": {
      "text/plain": [
       "139\telements read out of \t140\t\n",
       "1000\telements read out of \t12510\t\n"
      ]
     },
     "execution_count": 178,
     "metadata": {},
     "output_type": "execute_result"
    },
    {
     "data": {
      "text/plain": [
       " 1000\n",
       "    1\n",
       "[torch.LongStorage of size 2]\n",
       "\n",
       " 0.1131\n",
       "[torch.DoubleTensor of size 1]\n",
       "\n"
      ]
     },
     "execution_count": 178,
     "metadata": {},
     "output_type": "execute_result"
    }
   ],
   "source": [
    "require 'torch'\n",
    "require 'nn'\n",
    "require 'rnn'\n",
    "require 'csvigo'\n",
    "\n",
    "aroraname = '~/GitHub/DeepNLPQLearning/DO_NOT_UPLOAD_THIS_DATA/0-output/2012_aurora_shooting_first_sentence_numtext.csv'\n",
    "wordfile = '~/GitHub/DeepNLPQLearning/DO_NOT_UPLOAD_THIS_DATA/0-output/total_corpus_smry.csv'\n",
    "nuggets = '~/GitHub/DeepNLPQLearning/DO_NOT_UPLOAD_THIS_DATA/0-output/aurora_nuggets_numtext.csv'\n",
    "\n",
    "m = csvigo.load({path = aroraname, mode = \"large\"})\n",
    "w = csvigo.load({path = wordfile, mode = \"large\"})\n",
    "q = csvigo.load({path = nuggets, mode = \"large\"})\n",
    "\n",
    "\n",
    "\n",
    "N = 1000 --- Breaks at 35\n",
    "K = 100\n",
    "embed_dim = 3\n",
    " \n",
    "dofile(\"utils.lua\")\n",
    "--- Extracting N samples\n",
    "out = grabNsamples(m, N, K)\n",
    "nuggs = grabNsamples(q, #q-1, nil)\n",
    "\n",
    "mxl = 0\n",
    "for k,v in pairs(out) do\n",
    "    mxl = math.max(mxl, #v)\n",
    "end\n",
    "\n",
    "--- getting the length of the dictionary\n",
    "vocab_size = 0\n",
    "for k,v in pairs(out) do\n",
    "    vocab_size = math.max(vocab_size, math.max(table.unpack(v)))\n",
    "    if (k % N)==0 then\n",
    "        print(k,'elements read out of ', #m)\n",
    "        break\n",
    "    end\n",
    "end\n",
    "\n",
    "--- Padding the data by the maximum length\n",
    "xs = padZeros(out, mxl)\n",
    "\n",
    "\n",
    "labels = torch.Tensor(torch.rand(#out)):reshape(#out,1)\n",
    "-- labels = torch.Tensor(torch.round(torch.rand(#out))):reshape(#out,1)\n",
    "\n",
    "--- This is the correct format to input it\n",
    "input = torch.LongTensor(xs)\n",
    "\n",
    "-- For batch inputs, it's a little easier to start with sequence-length x batch-size tensor, so we transpose songData\n",
    "myDataT = input:t()\n",
    "batchLSTM = nn.Sequential()\n",
    "batchLSTM:add(nn.LookupTableMaskZero(vocab_size, embed_dim)) -- will return a sequence-length x batch-size x embedDim tensor\n",
    "batchLSTM:add(nn.SplitTable(1, embed_dim)) -- splits into a sequence-length table with batch-size x embedDim entries\n",
    "-- print(batchLSTM:forward(myDataT)) -- sanity check\n",
    "-- now let's add the LSTM stuff\n",
    "batchLSTM:add(nn.Sequencer(nn.LSTM(embed_dim, embed_dim)))\n",
    "batchLSTM:add(nn.SelectTable(-1)) -- selects last state of the LSTM\n",
    "batchLSTM:add(nn.Linear(embed_dim, 1)) -- map last state to a score for classification\n",
    "--batchLSTM:add(nn.Sigmoid()) -- convert score to a probability\n",
    "myPreds = batchLSTM:forward(myDataT)\n",
    "print(#myPreds)\n",
    "\n",
    "print(myPreds[1])\n",
    "-- we can now call :backward() as follows\n",
    "-- crit = nn.BCECriterion()"
   ]
  },
  {
   "cell_type": "code",
   "execution_count": 188,
   "metadata": {
    "collapsed": true
   },
   "outputs": [],
   "source": [
    "crit = nn.MSECriterion()\n",
    "loss = 0"
   ]
  },
  {
   "cell_type": "code",
   "execution_count": 189,
   "metadata": {
    "collapsed": false
   },
   "outputs": [],
   "source": [
    "loss = loss + crit:forward(myPreds, labels)"
   ]
  },
  {
   "cell_type": "code",
   "execution_count": 190,
   "metadata": {
    "collapsed": true
   },
   "outputs": [],
   "source": [
    "grads = crit:backward(myPreds, labels)"
   ]
  },
  {
   "cell_type": "code",
   "execution_count": null,
   "metadata": {
    "collapsed": true
   },
   "outputs": [],
   "source": [
    "batchLSTM:backward(myDataT, grads)"
   ]
  },
  {
   "cell_type": "code",
   "execution_count": 192,
   "metadata": {
    "collapsed": false
   },
   "outputs": [
    {
     "data": {
      "text/plain": [
       "\n"
      ]
     },
     "execution_count": 192,
     "metadata": {},
     "output_type": "execute_result"
    }
   ],
   "source": [
    "batchLSTM:zeroGradParameters()"
   ]
  },
  {
   "cell_type": "code",
   "execution_count": null,
   "metadata": {
    "collapsed": true
   },
   "outputs": [],
   "source": [
    "loss = 0 \n",
    "for i=1, 5, 1 do\n",
    "    loss = loss + crit:forward(myPreds, labels)\n",
    "    grads = crit:backward(myPreds, labels)\n",
    "    batchLSTM:backward(myDataT, grads)\n",
    "\n",
    "    print('Current loss at iteration', i,' is ', loss)\n",
    "    \n",
    "    --We update params at the end of each batch\n",
    "    batchLSTM:updateParameters(0.05)\n",
    "    batchLSTM:zeroGradParameters()\n",
    "end\n",
    "\n",
    "\n",
    "\n",
    "preds = {}\n",
    "for i=1, myPreds:size()[1] do\n",
    "    preds[i] = (myPreds[i][1] > 0) and 1 or 0 --- lua is stupid\n",
    "end\n",
    "\n",
    "--- Unpacking predictions and concatenating predictions into a summary\n",
    "ys = unpackZeros(preds)\n",
    "predsummary = buildPredSummary(ys, xs)\n",
    "\n",
    "print(#predsummary)\n",
    "print('Rouge Recall =', rougeRecall(predsummary, nuggs))\n",
    "print('Rouge Precision =', rougePrecision(predsummary, nuggs))\n",
    "print('Rouge F1 =', rougeF1(predsummary, nuggs))"
   ]
  }
 ],
 "metadata": {
  "kernelspec": {
   "display_name": "iTorch",
   "language": "lua",
   "name": "itorch"
  },
  "language_info": {
   "name": "lua",
   "version": "5.1"
  }
 },
 "nbformat": 4,
 "nbformat_minor": 0
}
