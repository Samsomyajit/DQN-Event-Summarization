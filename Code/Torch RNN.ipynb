{
 "cells": [
  {
   "cell_type": "code",
   "execution_count": 16,
   "metadata": {
    "collapsed": false
   },
   "outputs": [],
   "source": [
    "inputs = {'test'}\n",
    "xtdm = {'Text',{1,2,2},{3, 2, 4},{4, 7, 1}, {5, 13, 7}, {6, 3, 2}}"
   ]
  },
  {
   "cell_type": "code",
   "execution_count": 20,
   "metadata": {
    "collapsed": true
   },
   "outputs": [],
   "source": [
    "xindices = {}\n",
    "for i=1, 5 do\n",
    "    xindices[i] = {math.random(1, #inputs), math.random(2, #xtdm)}\n",
    "end"
   ]
  },
  {
   "cell_type": "code",
   "execution_count": 23,
   "metadata": {
    "collapsed": false
   },
   "outputs": [
    {
     "data": {
      "text/plain": [
       "{\n",
       "  1 : 1\n",
       "  2 : 4\n",
       "}\n"
      ]
     },
     "execution_count": 23,
     "metadata": {},
     "output_type": "execute_result"
    }
   ],
   "source": [
    "xindices[2]"
   ]
  },
  {
   "cell_type": "code",
   "execution_count": 17,
   "metadata": {
    "collapsed": true
   },
   "outputs": [],
   "source": [
    "qindices = {}\n",
    "xindices = {}\n",
    "for i=1, 5 do\n",
    "    qindices[i] = math.random(1, #inputs)\n",
    "    xindices[i] = math.random(2, #xtdm)\n",
    "end\n"
   ]
  },
  {
   "cell_type": "code",
   "execution_count": null,
   "metadata": {
    "collapsed": true
   },
   "outputs": [],
   "source": [
    "action_query_list[qindices][xindices]"
   ]
  },
  {
   "cell_type": "code",
   "execution_count": 18,
   "metadata": {
    "collapsed": false
   },
   "outputs": [
    {
     "data": {
      "text/plain": [
       "{\n",
       "  1 : 1\n",
       "  2 : 1\n",
       "  3 : 1\n",
       "  4 : 1\n",
       "  5 : 1\n",
       "}\n",
       "{\n",
       "  1 : 5\n",
       "  2 : 4\n",
       "  3 : 4\n",
       "  4 : 6\n",
       "  5 : 2\n",
       "}\n"
      ]
     },
     "execution_count": 18,
     "metadata": {},
     "output_type": "execute_result"
    }
   ],
   "source": [
    "qindices, xindices"
   ]
  },
  {
   "cell_type": "code",
   "execution_count": 19,
   "metadata": {
    "collapsed": false
   },
   "outputs": [
    {
     "data": {
      "text/plain": [
       "1\t\n"
      ]
     },
     "execution_count": 19,
     "metadata": {},
     "output_type": "execute_result"
    }
   ],
   "source": [
    "qindices[1]"
   ]
  },
  {
   "cell_type": "code",
   "execution_count": null,
   "metadata": {
    "collapsed": true
   },
   "outputs": [],
   "source": []
  },
  {
   "cell_type": "code",
   "execution_count": 1,
   "metadata": {
    "collapsed": false
   },
   "outputs": [
    {
     "data": {
      "text/plain": [
       "{\n",
       "  deserialize : function: 0x0bc4f8a8\n",
       "  cat : function: 0x0c082b80\n",
       "  cdata : function: 0x0bc7abd0\n",
       "  newmetatable : function: 0x0bc4e3d8\n"
      ]
     },
     "execution_count": 1,
     "metadata": {},
     "output_type": "execute_result"
    },
    {
     "data": {
      "text/plain": [
       "  atan2 : function: 0x0bc9d600\n",
       "  log : function: 0x0bc9d268\n",
       "  zero : function: 0x0c082298\n",
       "  find : function: 0x0c7b6bb0\n",
       "  logNormal : function: 0x0c084b08\n",
       "  sigmoid : function: 0x0bc9d560\n",
       "  getnumcores : function: 0x0bc4e618\n",
       "  cross : function: 0x0c0829a0\n",
       "  deserializeFromStorage : function: 0x0bbade18\n",
       "  inverse : function: 0x0c084c48\n",
       "  updateerrorhandlers : function: 0x0bc36070\n",
       "  isTypeOf : function: 0x0c087870\n",
       "  ByteStorage : table: 0x0bc3bf70\n",
       "  CudaHalfTensor : table: 0x0c8e07f0\n",
       "  prod : function: 0x0c0828b0\n",
       "  ger : function: 0x0c082720\n",
       "  eq : function: 0x0c082db0\n",
       "  getnumthreads : function: 0x0bc4e5c8\n",
       "  ByteTensor : table: 0x0bc9a468\n",
       "  Timer : table: 0x0bc9c3c8\n",
       "  addmv : function: 0x0c082748\n",
       "  CudaDoubleTensor : table: 0x0c8df658\n",
       "  lerp : function: 0x0bc9d5d8\n",
       "  match : function: 0x0c082540\n",
       "  eig : function: 0x0c084bf8\n",
       "  CudaLongTensor : table: 0x0c8dd2e0\n",
       "  CudaIntTensor : table: 0x0c8dc178\n",
       "  CudaShortTensor : table: 0x0c8dafe0\n",
       "  CudaCharTensor : table: 0x0c8d9e48\n",
       "  Allocator : table: 0x0c0872d8\n",
       "  CudaByteTensor : table: 0x0c8d8cb0\n",
       "  xcorr2 : function: 0x0c082c98\n",
       "  CudaHalfStorage : table: 0x0c8d7ee0\n",
       "  DiskFile : table: 0x0bc9eae8\n",
       "  neg : function: 0x0bc9d588\n",
       "  histc : function: 0x0bc9d178\n",
       "  pstrf : function: 0x0c084ce8\n",
       "  bernoulli : function: 0x0c082bf8\n",
       "  cmax : function: 0x0c082950\n",
       "  CudaStorage : table: 0x0c8d6340\n",
       "  CudaIntStorage : table: 0x0c8d47a0\n",
       "  DoubleTensor : table: 0x0bca15b8\n",
       "  MemoryFile : table: 0x0bca21a0\n",
       "  cremainder : function: 0x0c082608\n",
       "  Storage : table: 0x0bc996e8\n",
       "  ge : function: 0x0c082d88\n",
       "  kthvalue : function: 0x0c082ab8\n",
       "  geometric : function: 0x0c082bd0\n",
       "  CudaCharStorage : table: 0x0c8d2c00\n",
       "  qr : function: 0x0c084d10\n",
       "  sin : function: 0x0bc9d358\n",
       "  topk : function: 0x0c082a90\n",
       "  baddbmm : function: 0x0c0827e8\n",
       "  log1p : function: 0x0bc9d290\n",
       "  AliasMultinomial : table: 0x0c7d6740\n",
       "  fill : function: 0x0c0822c0\n",
       "  group : function: 0x0c7b9c68\n",
       "  linspace : function: 0x0bc9d218\n",
       "  json : \n",
       "    {\n",
       "      addnewline : function: 0x0c7c3f08\n",
       "      encodeexception : function: 0x0c7c4018\n",
       "      use_lpeg : function: 0x0c7c46a0\n",
       "      decode : function: 0x0c7c4658\n",
       "      quotestring : function: 0x0c7cd2d0\n",
       "      null : table: 0x0c7bea38\n",
       "      encode : function: 0x0c7c41f0\n",
       "      version : dkjson 2.5\n",
       "    }\n",
       "  sum : function: 0x0c082888\n",
       "  numel : function: 0x0c082810\n",
       "  concat : function: 0x0c7ba6e0\n",
       "  orgqr : function: 0x0c084d60\n",
       "  trunc : function: 0x0bc9d4e8\n",
       "  treemax : function: 0x0c7b6960\n",
       "  test : function: 0x0c0e2700\n",
       "  md5 : \n",
       "    {\n",
       "      _URL : https://github.com/kikito/md5.lua\n",
       "      sumhexa : function: 0x0c7b5268\n",
       "      _VERSION : md5.lua 1.0.0\n",
       "      _DESCRIPTION : MD5 computation in Lua (5.1-3, LuaJIT)\n",
       "      sum : function: 0x0c7b5410\n",
       "      _LICENSE :     MIT LICENSE\n",
       "\n",
       "    Copyright (c) 2013 Enrique García Cota + Adam Baldwin + hanzao + Equi 4 Software\n",
       "\n",
       "    Permission is hereby granted, free of charge, to any person obtaining a\n",
       "    copy of this software and associated documentation files (the\n",
       "    \"Software\"), to deal in the Software without restriction, including\n",
       "    without limitation the rights to use, copy, modify, merge, publish,\n",
       "    distribute, sublicense, and/or sell copies of the Software, and to\n",
       "    permit persons to whom the Software is furnished to do so, subject to\n",
       "    the following conditions:\n",
       "\n",
       "    The above copyright notice and this permission notice shall be included\n",
       "    in all copies or substantial portions of the Software.\n",
       "\n",
       "    THE SOFTWARE IS PROVIDED \"AS IS\", WITHOUT WARRANTY OF ANY KIND, EXPRESS\n",
       "    OR IMPLIED, INCLUDING BUT NOT LIMITED TO THE WARRANTIES OF\n",
       "    MERCHANTABILITY, FITNESS FOR A PARTICULAR PURPOSE AND NONINFRINGEMENT.\n",
       "    IN NO EVENT SHALL THE AUTHORS OR COPYRIGHT HOLDERS BE LIABLE FOR ANY\n",
       "    CLAIM, DAMAGES OR OTHER LIABILITY, WHETHER IN AN ACTION OF CONTRACT,\n",
       "    TORT OR OTHERWISE, ARISING FROM, OUT OF OR IN CONNECTION WITH THE\n",
       "    SOFTWARE OR THE USE OR OTHER DEALINGS IN THE SOFTWARE.\n",
       "  \n",
       "    }\n",
       "  cmul : function: 0x0c082568\n",
       "  _heaptracking : true\n",
       "  getconstructortable : function: 0x0bc4e668\n",
       "  version : function: 0x0bc626b8\n",
       "  fmod : function: 0x0c0824a0\n",
       "  FloatTensor : table: 0x0bca"
      ]
     },
     "execution_count": 1,
     "metadata": {},
     "output_type": "execute_result"
    },
    {
     "data": {
      "text/plain": [
       "03d8\n",
       "  mean : function: 0x0bc9d100\n",
       "  isTensor : function: 0x0c0e2768\n",
       "  ShortStorage : table: 0x0bc7fd98\n",
       "  cmin : function: 0x0c082928\n",
       "  addcdiv : function: 0x0c082680\n",
       "  mm : function: 0x0c0826d0\n",
       "  Tester : table: 0x0c0a0690\n",
       "  xcorr3 : function: 0x0c082ce8\n",
       "  ShortTensor : table: 0x0bc9caa0\n",
       "  lt : function: 0x0c082d10\n",
       "  triu : function: 0x0c082b58\n",
       "  repeatTensor : function: 0x0bc7a0b8\n",
       "  data : function: 0x0bc7ab90\n",
       "  CmdLine : table: 0x0bc42b78\n",
       "  eye : function: 0x0c0829f0\n",
       "  loadobj : function: 0x0bca12c0\n",
       "  mul : function: 0x0c082450\n",
       "  sqrt : function: 0x0bc9d448\n",
       "  LongTensor : table: 0x0bc9f1c8\n",
       "  saveobj : function: 0x0bca0890\n",
       "  remap : function: 0x0c7aee20\n",
       "  isequal : function: 0x0bc6fbe0\n",
       "  floor : function: 0x0bc9d4c0\n",
       "  serialize : function: 0x0bc3fa10\n",
       "  load : function: 0x0bca12c0\n",
       "  save : function: 0x0bca0890\n",
       "  permute : function: 0x0bc372a0\n",
       "  totable : function: 0x0c0e2748\n",
       "  csub : function: 0x0c082428\n",
       "  gesv : function: 0x0c084b58\n",
       "  PipeFile : table: 0x0bc9fd48\n",
       "  LongStorage : table: 0x0bc97910\n",
       "  chunk : function: 0x0bc73138\n",
       "  split : function: 0x0bc4d738\n",
       "  Tensor : table: 0x0bca15b8\n",
       "  diag : function: 0x0c0829c8\n",
       "  std : function: 0x0bc9d150\n",
       "  viewAs : function: 0x0bc4d718\n",
       "  view : function: 0x0bba2458\n",
       "  conv3 : function: 0x0c082cc0\n",
       "  expandAs : function: 0x0bc7a098\n",
       "  File : table: 0x0bc41a08\n",
       "  expand : function: 0x0bc6ee00\n",
       "  uniform : function: 0x0c084a90\n",
       "  all : function: 0x0bc9d088\n",
       "  renorm : function: 0x0bc9d1c8\n",
       "  rsqrt : function: 0x0bc9d538\n",
       "  typename : function: 0x0bc4e818\n",
       "  scatter : function: 0x0c082388\n",
       "  setdefaulttensortype : function: 0x0c087830\n",
       "  addbmm : function: 0x0c0827c0\n",
       "  class : function: 0x0c087810\n",
       "  symeig : function: 0x0c084bd0\n",
       "  remainder : function: 0x0c0824c8\n",
       "  clamp : function: 0x0c082518\n",
       "  getmetatable : function: 0x0bc75770\n",
       "  packageLuaPath : function: 0x0c087328\n",
       "  updatethreadlocals : function: 0x0c0873d8\n",
       "  metatype : function: 0x0bc75798\n",
       "  setRNGState : function: 0x0c0850f8\n",
       "  getRNGState : function: 0x0c084ff0\n",
       "  manualSeed : function: 0x0c084fa0\n",
       "  initialSeed : function: 0x0c084f50\n",
       "  zeros : function: 0x0c0822e8\n",
       "  median : function: 0x0c082b08\n",
       "  cosh : function: 0x0bc9d330\n",
       "  pushudata : function: 0x0bc62690\n",
       "  geqrf : function: 0x0c084d38\n",
       "  _gen : torch.Generator\n",
       "  Generator : table: 0x0c085410\n",
       "  ormqr : function: 0x0c084d88\n",
       "  FloatStorage : table: 0x0bc97ce0\n",
       "  seed : function: 0x0c0854d8\n",
       "  CudaByteStorage : table: 0x0c8d1ea8\n",
       "  reshape : function: 0x0c082338\n",
       "  potrs : function: 0x0c084c98\n",
       "  cpow : function: 0x0c082590\n",
       "  abs : function: 0x0bc9d0d8\n",
       "  dist : function: 0x0bc9d1f0\n",
       "  svd : function: 0x0c084c20\n",
       "  mod : function: 0x0c0824f0\n",
       "  CudaTensor : table: 0x0c8de448\n",
       "  IntTensor : table: 0x0bc9dfb8\n",
       "  cdiv : function: 0x0c0825b8\n",
       "  pow : function: 0x0bc9d628\n",
       "  gt : function: 0x0c082d38\n",
       "  randperm : function: 0x0c082a40\n",
       "  include : function: 0x0c0877f0\n",
       "  exponential : function: 0x0c084b30\n",
       "  atan : function: 0x0bc9d3f8\n",
       "  nonzero : function: 0x0c082e00\n",
       "  normal : function: 0x0c084ab8\n",
       "  multinomial : function: 0x0c084a68\n",
       "  randn : function: 0x0c084a40\n",
       "  any : function: 0x0bc9d0b0\n",
       "  equal : function: 0x0c0823d8\n",
       "  dot : function: 0x0c0823b0\n",
       "  range : function: 0x0c082a18\n",
       "  rand : function: 0x0bc9d650\n",
       "  addr : function: 0x0c082798\n",
       "  trtrs : function: 0x0c084ba8\n",
       "  cinv : function: 0x0bc9d5b0\n",
       "  tan : function: 0x0bc9d3d0\n",
       "  frac : function: 0x0bc9d510\n",
       "  serializeToStorage : function: 0x0bbad988\n",
       "  ceil : function: 0x0bc9d498\n",
       "  squeeze : function: 0x0c082c20\n",
       "  var : function: 0x0bc9d128\n",
       "  tanh : function: 0x0bc9d420\n",
       "  setmetatable : function: 0x0bc4e400\n",
       "  cumsum : function: 0x0c082838\n",
       "  cauchy : function: 0x0c084ae0\n",
       "  ne : function: 0x0c082dd8\n",
       "  sinh : function: 0x0bc9d3a8\n",
       "  cos : function: 0x0bc9d2e0\n",
       "  potrf : function: 0x0c084c70\n",
       "  DoubleStorage : table: 0x0bc996e8\n",
       "  CharStorage : table: 0x0bc7f7f8\n",
       "  asin : function: 0x0bc9d380\n",
       "  exp : function: 0x0bc9d2b8\n",
       "  MultiCudaTensor : table: 0x0c7d8e68\n",
       "  pointer : function: 0x0bc626e0\n",
       "  addcmul : function: 0x0c082658\n",
       "  add : function: 0x0c082400\n",
       "  type : function: 0x0c087850\n",
       "  sign : function: 0x0c082c48\n",
       "  div : function: 0x0c082478\n",
       "  mode : function: 0x0c082a"
      ]
     },
     "execution_count": 1,
     "metadata": {},
     "output_type": "execute_result"
    },
    {
     "data": {
      "text/plain": [
       "e0\n",
       "  toc : function: 0x0bc4e460\n",
       "  norm : function: 0x0bc9d1a0\n",
       "  gather : function: 0x0c082360\n",
       "  tic : function: 0x0bc4e3b0\n",
       "  gels : function: 0x0c084b80\n",
       "  mv : function: 0x0c0826a8\n",
       "  getdefaulttensortype : function: 0x0bc4e340\n",
       "  isStorage : function: 0x0c0e2788\n",
       "  logspace : function: 0x0bc9d240\n",
       "  factory : function: 0x0bc4e640\n",
       "  CharTensor : table: 0x0bc9b890\n",
       "  setnumthreads : function: 0x0bc4e4b0\n",
       "  IntStorage : table: 0x0bc7f5a0\n",
       "  TestSuite : function: 0x0c0ab1d0\n",
       "  cumprod : function: 0x0c082860\n",
       "  potri : function: 0x0c084cc0\n",
       "  le : function: 0x0c082d60\n",
       "  setenv : function: 0x0bc3d9d8\n",
       "  tril : function: 0x0c082b30\n",
       "  getenv : function: 0x0bc3d9b0\n",
       "  acos : function: 0x0bc9d308\n",
       "  addmm : function: 0x0c082770\n",
       "  isatty : function: 0x0bc4e368\n",
       "  min : function: 0x0c0828d8\n",
       "  max : function: 0x0c082900\n",
       "  CudaLongStorage : table: 0x0c8d5570\n",
       "  CudaShortStorage : table: 0x0c8d39d0\n",
       "  sort : function: 0x0c082a68\n",
       "  trace : function: 0x0c082978\n",
       "  ones : function: 0x0c082310\n",
       "  cfmod : function: 0x0c0825e0\n",
       "  round : function: 0x0bc9d470\n",
       "  bmm : function: 0x0c0826f8\n",
       "  CudaDoubleStorage : table: 0x0c8d7110\n",
       "  conv2 : function: 0x0c082c70\n",
       "  setheaptracking : function: 0x0bc36048\n",
       "  cmod : function: 0x0c082630\n",
       "  random : function: 0x0c082ba8\n",
       "}\n"
      ]
     },
     "execution_count": 1,
     "metadata": {},
     "output_type": "execute_result"
    }
   ],
   "source": [
    "require 'torch'"
   ]
  },
  {
   "cell_type": "code",
   "execution_count": 222,
   "metadata": {
    "collapsed": true
   },
   "outputs": [],
   "source": [
    "K_sentences = 4"
   ]
  },
  {
   "cell_type": "code",
   "execution_count": 519,
   "metadata": {
    "collapsed": false
   },
   "outputs": [],
   "source": [
    "function getLastKElements(x, K)\n",
    "    --- This function grabs the last K elements from a table\n",
    "    --- e.g., getLastKElements({1,2,3,4,5}, 3) = {5,4,3}\n",
    "    if K == nil then\n",
    "        return x \n",
    "    end\n",
    "    local out = {}\n",
    "    if K > #x then \n",
    "        return x\n",
    "    end\n",
    "    for i=1, K, 1 do\n",
    "        out[i] = x[ #x - K + i ]\n",
    "    end \n",
    "    return out\n",
    "end\n",
    "\n",
    "function buildPredSummary(preds, xs, K)\n",
    "    --- This function is used to map the token indices to extract the summary\n",
    "    --- and produceds {token_id, 0, token_id} from any given *selected* sentence\n",
    "    local out = {}\n",
    "    for i=1, #xs do\n",
    "        if i == 1 then \n",
    "            out[i] = x_or_pass(preds[i], unpackZeros(xs[i]))\n",
    "        else \n",
    "            --- Update it by adding xs_i and out_{i-1}\n",
    "            local tmp = tableConcat(out[i-1], x_or_pass(preds[i], unpackZeros(xs[i])))\n",
    "            --- Getting the last K tokens because we want to keep last K tokens\n",
    "            out[i] =  getLastKElements(tmp, K)\n",
    "        end\n",
    "    end\n",
    "    return out\n",
    "end"
   ]
  },
  {
   "cell_type": "code",
   "execution_count": 547,
   "metadata": {
    "collapsed": false,
    "scrolled": true
   },
   "outputs": [
    {
     "data": {
      "text/plain": [
       "{\n",
       "  1 : \n",
       "    {\n",
       "      1 : 0.23713220027275\n",
       "      2 : 0.083152816863731\n",
       "    }\n",
       "  2 : \n",
       "    {\n",
       "      1 : 0.23540366790257\n",
       "      2 : 0.80236007552594\n",
       "    }\n",
       "  3 : \n",
       "    {\n",
       "      1 : 0.7743713837117\n",
       "      2 : 0.52951157814823\n",
       "    }\n",
       "  4 : \n",
       "    {\n",
       "      1 : 0.042601133463904\n",
       "      2 : 0.021750779822469\n",
       "    }\n",
       "}\n"
      ]
     },
     "execution_count": 547,
     "metadata": {},
     "output_type": "execute_result"
    }
   ],
   "source": [
    "preds = torch.totable(torch.rand(4,2))\n",
    "--- Let's say the first one is select and the second is skip\n",
    "print(preds)"
   ]
  },
  {
   "cell_type": "code",
   "execution_count": 548,
   "metadata": {
    "collapsed": false
   },
   "outputs": [
    {
     "data": {
      "text/plain": [
       " 0.2371  0.0832\n",
       " 0.2354  0.8024\n",
       " 0.7744  0.5295\n",
       " 0.0426  0.0218\n",
       "[torch.DoubleTensor of size 4x2]\n",
       "\n"
      ]
     },
     "execution_count": 548,
     "metadata": {},
     "output_type": "execute_result"
    }
   ],
   "source": [
    "torch.Tensor(preds)"
   ]
  },
  {
   "cell_type": "code",
   "execution_count": 437,
   "metadata": {
    "collapsed": true
   },
   "outputs": [],
   "source": [
    "opt_action = {1, 1, 1, 1}\n",
    "xout = {\n",
    "    {384, 444, 5390, 805}, \n",
    "    {1117, 958, 156, 90}, \n",
    "    {138, 24, 1052, 182},\n",
    "    {4, 120, 17, 854}\n",
    "}"
   ]
  },
  {
   "cell_type": "code",
   "execution_count": 549,
   "metadata": {
    "collapsed": false,
    "scrolled": true
   },
   "outputs": [],
   "source": [
    "curr_summarySel = buildPredSummary(opt_action, xout,  14)"
   ]
  },
  {
   "cell_type": "code",
   "execution_count": 552,
   "metadata": {
    "collapsed": false,
    "scrolled": true
   },
   "outputs": [
    {
     "data": {
      "text/plain": [
       "{\n",
       "  1 : 5390\n",
       "  2 : 805\n",
       "  3 : 1117\n",
       "  4 : 958\n",
       "  5 : 156\n",
       "  6 : 90\n",
       "  7 : 138\n",
       "  8 : 24\n",
       "  9 : 1052\n",
       "  10 : 182\n",
       "  11 : 4\n",
       "  12 : 120\n",
       "  13 : 17\n",
       "  14 : 854\n",
       "}\n"
      ]
     },
     "execution_count": 552,
     "metadata": {},
     "output_type": "execute_result"
    }
   ],
   "source": [
    "curr_summarySel[#curr_summarySel]"
   ]
  },
  {
   "cell_type": "code",
   "execution_count": 550,
   "metadata": {
    "collapsed": false
   },
   "outputs": [
    {
     "data": {
      "text/plain": [
       "0.875\t\n"
      ]
     },
     "execution_count": 550,
     "metadata": {},
     "output_type": "execute_result"
    }
   ],
   "source": [
    "print(rougePrecision({curr_summarySel[2]}, nuggets ))"
   ]
  },
  {
   "cell_type": "code",
   "execution_count": 542,
   "metadata": {
    "collapsed": false
   },
   "outputs": [],
   "source": [
    "best_action = {}\n",
    "f1_rougue_select,  re_rougue_select, pr_rougue_select = {}, {}, {}\n",
    "f1_rougue_skip, re_rougue_skip , pr_rougue_skip = {}, {}, {}\n",
    "\n",
    "fsel_t1, fskp_t1, rsel_t1, rskp_t1, psel_t1, pskp_t1 = 0., 0., 0., 0., 0., 0.\n",
    "\n",
    "for i=1, #preds do\n",
    "    if i ==1 then \n",
    "        curr_summarySkp = buildPredSummary({0}, {xout[i]},  nil)\n",
    "        curr_summarySel = buildPredSummary({1}, {xout[i]},  nil)\n",
    "    else\n",
    "        curr_summarySkp = buildPredSummary(tableConcat(geti_n(best_action, 1, i-1), {0}), \n",
    "                                            geti_n(xout, 1, i),  nil) \n",
    "        curr_summarySel = buildPredSummary(tableConcat(geti_n(best_action, 1, i-1), {1}), \n",
    "                                            geti_n(xout, 1, i),  nil) \n",
    "    end\n",
    "    f1_rougue_select[i] = rougeF1({curr_summarySel[i]}, nuggets ) - fsel_t1\n",
    "    f1_rougue_skip[i] = rougeF1({curr_summarySkp[i]}, nuggets )  - fskp_t1\n",
    "    re_rougue_select[i] = rougeRecall({curr_summarySel[i]}, nuggets ) - rsel_t1\n",
    "    re_rougue_skip[i] = rougeRecall({curr_summarySkp[i]}, nuggets )  - rskp_t1\n",
    "    pr_rougue_select[i] = rougePrecision({curr_summarySel[i]}, nuggets ) - psel_t1\n",
    "    pr_rougue_skip[i] = rougePrecision({curr_summarySkp[i]}, nuggets )  - pskp_t1\n",
    "    fsel_t1, fskp_t1, rsel_t1, rskp_t1, psel_t1, pskp_t1 = fsel_t1, fskp_t1, rsel_t1, rskp_t1, psel_t1, pskp_t1\n",
    "    best_action[i] = (f1_rougue_select[i] > f1_rougue_skip[i]) and 1 or 0        \n",
    "end"
   ]
  },
  {
   "cell_type": "code",
   "execution_count": 546,
   "metadata": {
    "collapsed": false
   },
   "outputs": [
    {
     "data": {
      "text/plain": [
       "{\n",
       "  1 : 0\n",
       "  2 : 0.0038259206121473\n",
       "  3 : 0.0066825775656325\n",
       "  4 : 0.009532888465205\n",
       "}\n"
      ]
     },
     "execution_count": 546,
     "metadata": {},
     "output_type": "execute_result"
    }
   ],
   "source": [
    "f1_rougue_skip"
   ]
  },
  {
   "cell_type": "code",
   "execution_count": 539,
   "metadata": {
    "collapsed": false
   },
   "outputs": [
    {
     "data": {
      "text/plain": [
       " 0.0000  1.0000\n",
       " 1.0000  0.8750\n",
       " 1.0000  1.0000\n",
       " 1.0000  0.6250\n",
       "[torch.DoubleTensor of size 4x2]\n",
       "\n"
      ]
     },
     "execution_count": 539,
     "metadata": {},
     "output_type": "execute_result"
    }
   ],
   "source": [
    "torch.Tensor(rougue_skip):cat(torch.Tensor(rougue_select), 2)"
   ]
  },
  {
   "cell_type": "code",
   "execution_count": 399,
   "metadata": {
    "collapsed": false
   },
   "outputs": [
    {
     "data": {
      "text/plain": [
       "0.55555555555556\t\n",
       "0.0095831336847149\t\n"
      ]
     },
     "execution_count": 399,
     "metadata": {},
     "output_type": "execute_result"
    },
    {
     "data": {
      "text/plain": [
       "0.018841262364578\t\n"
      ]
     },
     "execution_count": 399,
     "metadata": {},
     "output_type": "execute_result"
    }
   ],
   "source": [
    "print(rougePrecision(curr_summarySel, nuggets ))\n",
    "print(rougeRecall(curr_summarySel, nuggets ))\n",
    "print(rougeF1(curr_summarySel, nuggets ))"
   ]
  },
  {
   "cell_type": "code",
   "execution_count": 178,
   "metadata": {
    "collapsed": true
   },
   "outputs": [],
   "source": [
    "function rougePrecision(pred_summary, ref_summaries)\n",
    "    rsd = Tokenize(ref_summaries, true)\n",
    "    sws = Tokenize(pred_summary, true)\n",
    "    for k, v in pairs(rsd) do\n",
    "        if sws[k] == nil then\n",
    "            sws[k] = 0\n",
    "        end\n",
    "    end\n",
    "    for k, v in pairs(sws) do\n",
    "        if rsd[k] == nil then\n",
    "            rsd[k] = 0\n",
    "        end\n",
    "    end\n",
    "    num = 0.\n",
    "    den = 0.\n",
    "    for k, v in pairs(rsd) do\n",
    "        num = num + math.min(rsd[k], sws[k])\n",
    "        den = den + sws[k]\n",
    "    end\n",
    "    print(num)\n",
    "    return (den > 0) and num/den or 0\n",
    "end"
   ]
  },
  {
   "cell_type": "code",
   "execution_count": null,
   "metadata": {
    "collapsed": true
   },
   "outputs": [],
   "source": []
  },
  {
   "cell_type": "code",
   "execution_count": 11,
   "metadata": {
    "collapsed": true
   },
   "outputs": [],
   "source": [
    "Plot = require 'itorch.Plot'"
   ]
  },
  {
   "cell_type": "code",
   "execution_count": 211,
   "metadata": {
    "collapsed": false
   },
   "outputs": [
    {
     "data": {
      "text/plain": [
       "...Utils file loaded\t\n",
       "<csv>\tparsing file: /Users/franciscojavierarceo/GitHub/DeepNLPQLearning/DO_NOT_UPLOAD_THIS_DATA/0-output/2012_aurora_shooting_first_sentence_numtext2.csv\t\n",
       "<csv>\tparsing done\t\n",
       "<csv>\tparsing file: /Users/franciscojavierarceo/GitHub/DeepNLPQLearning/DO_NOT_UPLOAD_THIS_DATA/0-output/aurora_nuggets_numtext.csv\t\n",
       "<csv>\tparsing done\t\n",
       "<csv>\tparsing file: /Users/franciscojavierarceo/GitHub/DeepNLPQLearning/DO_NOT_UPLOAD_THIS_DATA/0-output/queries_numtext.csv\t\n"
      ]
     },
     "execution_count": 211,
     "metadata": {},
     "output_type": "execute_result"
    },
    {
     "data": {
      "text/plain": [
       "<csv>\tparsing done\t\n"
      ]
     },
     "execution_count": 211,
     "metadata": {},
     "output_type": "execute_result"
    }
   ],
   "source": [
    "require 'torch'\n",
    "require 'nn'\n",
    "require 'rnn'\n",
    "require 'csvigo'\n",
    "require 'cutorch'\n",
    "require 'cunn'\n",
    "require 'cunnx'\n",
    "\n",
    "--- Loading utility script\n",
    "dofile(\"utils.lua\")\n",
    "dofile(\"model_utils.lua\")\n",
    "\n",
    "aurora_fn = '~/GitHub/DeepNLPQLearning/DO_NOT_UPLOAD_THIS_DATA/0-output/2012_aurora_shooting_first_sentence_numtext2.csv'\n",
    "nugget_fn = '~/GitHub/DeepNLPQLearning/DO_NOT_UPLOAD_THIS_DATA/0-output/aurora_nuggets_numtext.csv'\n",
    "query_fn = '~/GitHub/DeepNLPQLearning/DO_NOT_UPLOAD_THIS_DATA/0-output/queries_numtext.csv'\n",
    "auroras_fn = '~/GitHub/DeepNLPQLearning/DO_NOT_UPLOAD_THIS_DATA/0-output/2012_aurora_sentence_numtext2.csv'\n",
    "\n",
    "data_file = csvigo.load({path = aurora_fn, mode = \"large\"})\n",
    "nugget_file = csvigo.load({path = nugget_fn, mode = \"large\"})\n",
    "query_file =  csvigo.load({path = query_fn, mode = \"large\"})\n",
    "-- sent_file =  csvigo.load({path = auroras_f})"
   ]
  },
  {
   "cell_type": "code",
   "execution_count": 221,
   "metadata": {
    "collapsed": false
   },
   "outputs": [],
   "source": [
    "mymodel = 'bow'\n",
    "rK = 100\n",
    "batch_size = 500\n",
    "nepochs = 1\n",
    "print_every = 1\n",
    "embed_dim = 10\n",
    "learning_rate = 0.00001\n",
    "usecuda=false\n",
    "\n",
    "epsilon = 0.1\n",
    "cuts = 4.                  --- This is the number of cuts we want\n",
    "base_explore_rate = 0.1\n",
    "delta = 1./(nepochs/cuts) --- Only using epsilon greedy strategy for (nepochs/cuts)% of the epochs\n",
    "\n",
    "torch.manualSeed(420)\n",
    "\n",
    "vocab_sized = getVocabSize(data_file)                       --- getting length of dictionary\n",
    "vocab_sizeq = getVocabSize(query_file)                      --- getting length of dictionary\n",
    "vocab_size = math.max(vocab_sized, vocab_sizeq)\n",
    "\n",
    "nuggets = buildTermDocumentTable(nugget_file, nil)"
   ]
  },
  {
   "cell_type": "code",
   "execution_count": 215,
   "metadata": {
    "collapsed": true
   },
   "outputs": [],
   "source": [
    "function makeInt(x)\n",
    "    local out = {}\n",
    "    for k,v in pairs(x) do\n",
    "        table.insert(out, tonumber(v))\n",
    "    end\n",
    "    return out \n",
    "end\n",
    "\n",
    "function buildTermDocumentTable(x, K)\n",
    "    --- If K == nil then getFirstKtokens() returns x\n",
    "    local out = {}\n",
    "    for k,v in pairs(x) do\n",
    "        out[k] = makeInt(getFirstKElements(split(x[k][1]), K))\n",
    "    end\n",
    "    return out\n",
    "end"
   ]
  },
  {
   "cell_type": "code",
   "execution_count": 216,
   "metadata": {
    "collapsed": false
   },
   "outputs": [],
   "source": [
    "nuggets = buildTermDocumentTable(nugget_file, nil)"
   ]
  },
  {
   "cell_type": "code",
   "execution_count": 3,
   "metadata": {
    "collapsed": false
   },
   "outputs": [
    {
     "data": {
      "text/plain": [
       "...running on CPU\t\n"
      ]
     },
     "execution_count": 3,
     "metadata": {},
     "output_type": "execute_result"
    }
   ],
   "source": [
    "if use_cuda then\n",
    "  Tensor = torch.CudaTensor\n",
    "  LongTensor = torch.CudaLongTensor\n",
    "  crit = crit:cuda()\n",
    "  print(\"...running on GPU\")\n",
    "else\n",
    "  Tensor = torch.Tensor\n",
    "  LongTensor = torch.LongTensor\n",
    "  print(\"...running on CPU\")\n",
    "end"
   ]
  },
  {
   "cell_type": "code",
   "execution_count": 4,
   "metadata": {
    "collapsed": false
   },
   "outputs": [],
   "source": [
    "yrouge = torch.totable(torch.randn(#x))\n",
    "action_list = torch.totable(torch.round(torch.rand(#x)))\n",
    "preds_list = torch.totable(torch.round(torch.rand(#x)))\n",
    "preds_list[1] = 0\n",
    "ss_list = grabNsamples(sent_file, 1, #sent_file)\n",
    "epoch = 0\n",
    "minibatch = 1"
   ]
  },
  {
   "cell_type": "code",
   "execution_count": 5,
   "metadata": {
    "collapsed": true
   },
   "outputs": [],
   "source": [
    "loss = 0.                    --- Compute a new MSE loss each time\n",
    "--- Reset the rougue each epoch\n",
    "--- Looping over each bach of sentences for a given query\n",
    "nbatches = torch.floor( #x / batch_size)\n",
    "-- for minibatch = 1, nbatches do\n",
    "if minibatch == 1 then          -- Need +1 to skip the first row\n",
    "    nstart = 2\n",
    "    nend = torch.round(batch_size * minibatch)\n",
    "end\n",
    "if minibatch == nbatches then \n",
    "    nstart = nend + 1\n",
    "    nend = #x\n",
    "end\n",
    "if minibatch > 1 and minibatch < nbatches then \n",
    "    nstart = nend + 1\n",
    "    nend = torch.round(batch_size * minibatch)\n",
    "end"
   ]
  },
  {
   "cell_type": "code",
   "execution_count": null,
   "metadata": {
    "collapsed": false
   },
   "outputs": [],
   "source": [
    "nstart= nend+1\n",
    "nend = nend + batch_size"
   ]
  },
  {
   "cell_type": "code",
   "execution_count": 6,
   "metadata": {
    "collapsed": false,
    "scrolled": true
   },
   "outputs": [
    {
     "data": {
      "text/plain": [
       "{\n",
       "  1 : \n",
       "    {\n",
       "      1 : 0.32737220974448\n",
       "    }\n",
       "  2 : \n",
       "    {\n",
       "      1 : 0.13720760825237\n",
       "    }\n",
       "  3 : \n",
       "    {\n",
       "      1 : 0.31425874763308\n",
       "    }\n",
       "  4 : \n",
       "    {\n",
       "      1 : 0.13559391343291\n",
       "    }\n",
       "  5 : \n",
       "    {\n",
       "      1 : 0.31896872188639\n",
       "    }\n",
       "}\n"
      ]
     },
     "execution_count": 6,
     "metadata": {},
     "output_type": "execute_result"
    },
    {
     "data": {
      "text/plain": [
       "Epoch 0, epsilon =0.100, minibatch 1/2, sum(y)/len(y) = 499/499, {Recall = 0.838028, Precision = 0.149110, F1 = 0.253174}\t\n"
      ]
     },
     "execution_count": 6,
     "metadata": {},
     "output_type": "execute_result"
    }
   ],
   "source": [
    "x_ss  = geti_n(x, nstart, nend)\n",
    "xout  = grabNsamples(x_ss, 1, #x_ss)     --- Extracting N samples\n",
    "xs  = padZeros(xout, mxl)                 --- Padding the data by the maximum length\n",
    "qs2 = padZeros({qs}, 5)\n",
    "qrep = repeatQuery(qs2[1], #xs)\n",
    "preds = geti_n(preds_list, nstart, nend)\n",
    "\n",
    "sumry_list = buildKSummary(preds_list, ss_list, K)\n",
    "sumry_ss = geti_n(sumry_list, nstart, nend)\n",
    "\n",
    "summary = LongTensor(sumry_ss):t()\n",
    "sentences = LongTensor(xs):t()\n",
    "query = LongTensor(qrep):t()\n",
    "actions = Tensor(geti_n(preds_list, nstart, nend)):resize(#xs, 1)\n",
    "\n",
    "rscores, pscores, fscores = {}, {}, {}\n",
    "\n",
    "yrouge = torch.totable(torch.randn(#x))\n",
    "action_list = torch.totable(torch.round(torch.rand(#x)))\n",
    "preds_list = torch.totable(torch.round(torch.ones(#x)))\n",
    "ss_list = grabNsamples(sent_file, 1, #sent_file)\n",
    "\n",
    "if use_cuda then\n",
    "     actions =  actions:cuda()\n",
    "end\n",
    "\n",
    "myPreds = model:forward({sentences, summary, query, actions})\n",
    "print(geti_n(torch.totable(myPreds), 1 , 5) )\n",
    "\n",
    "if use_cuda then\n",
    "    myPreds = myPreds:double()\n",
    "end\n",
    "\n",
    "preds = policy(myPreds, epsilon, #xs)\n",
    "--- Concatenating predictions into a summary\n",
    "\n",
    "predsummary = buildPredSummary(preds, xs, K)\n",
    "--- Initializing rouge metrics at time {t-1} and save scores\n",
    "r_t1 , p_t1, f_t1 = 0., 0., 0.\n",
    "for i=1, #predsummary do\n",
    "    --- Calculating rouge scores; Call get_i_n() to cumulatively compute rouge\n",
    "    rscores[i] = rougeRecall(buildPredSummary(geti_n(preds, 1, i), geti_n(xout, 1, i)), nuggets) - r_t1\n",
    "    pscores[i] = rougePrecision(buildPredSummary(geti_n(preds, 1, i), geti_n(xout, 1, i)), nuggets) - p_t1\n",
    "    fscores[i] = rougeF1(buildPredSummary(geti_n(preds, 1, i), geti_n(xout, 1, i)), nuggets) - f_t1\n",
    "    r_t1, p_t1, f_t1 = rscores[i], pscores[i], fscores[i]\n",
    "end\n",
    "\n",
    "labels = Tensor(fscores)\n",
    "\n",
    "if use_cuda then\n",
    "     labels = labels:cuda()\n",
    "     myPreds = myPreds:cuda()\n",
    "end\n",
    "\n",
    "-- print(#myPreds, #labels)\n",
    "loss = loss + crit:forward(myPreds, labels)\n",
    "grads = crit:backward(myPreds, labels)\n",
    "model:zeroGradParameters()\n",
    "model:backward({sentences, summary, query, actions}, grads)\n",
    "model:updateParameters(learning_rate)        -- Update parameters after each minibatch\n",
    "\n",
    "yrouge = updateTable(yrouge, fscores, nstart)\n",
    "preds_list = updateTable(preds_list, preds, nstart)\n",
    "predsummary2 = buildPredSummary(preds_list, xs, K)\n",
    "\n",
    "rscore = rougeRecall(predsummary2, nuggets, K)\n",
    "pscore = rougePrecision(predsummary2, nuggets, K)\n",
    "fscore = rougeF1(predsummary2, nuggets, K)\n",
    "--         if (epoch % print_every)==0 then\n",
    "perf_string = string.format(\n",
    "    \"Epoch %i, epsilon =%.3f, minibatch %i/%i, sum(y)/len(y) = %i/%i, {Recall = %.6f, Precision = %.6f, F1 = %.6f}\", \n",
    "    epoch, epsilon, minibatch, nbatches, sumTable(preds), #preds, rscore, pscore, fscore\n",
    "    )\n",
    "print(perf_string)"
   ]
  },
  {
   "cell_type": "code",
   "execution_count": 70,
   "metadata": {
    "collapsed": true
   },
   "outputs": [],
   "source": [
    "function buildPredSummary2(preds, xs, K)\n",
    "    local out = {}\n",
    "    for i=1, #xs do\n",
    "        if i == 1 then \n",
    "            out[i] = zero_or_x(preds[i], unpackZeros(xs[i]))\n",
    "        else \n",
    "            --- Update it by adding xs_i and out_{i-1}\n",
    "            out[i] =  getLastKTokens(tableConcat(zero_or_x(preds[i], \n",
    "                                    unpackZeros(xs[i]) ) , out[i-1]), K)\n",
    "        end\n",
    "    end\n",
    "    return out\n",
    "end"
   ]
  },
  {
   "cell_type": "code",
   "execution_count": 61,
   "metadata": {
    "collapsed": true
   },
   "outputs": [],
   "source": [
    "tst_preds = geti_n(preds_list, 1, 3)\n",
    "tst_xs = geti_n(xs, 1, 3)"
   ]
  },
  {
   "cell_type": "code",
   "execution_count": 47,
   "metadata": {
    "collapsed": false,
    "scrolled": true
   },
   "outputs": [],
   "source": [
    "test_samples = grabNsamples(geti_n(x, 2, 4), nil, 3)"
   ]
  },
  {
   "cell_type": "code",
   "execution_count": 66,
   "metadata": {
    "collapsed": false,
    "scrolled": false
   },
   "outputs": [
    {
     "data": {
      "text/plain": [
       "{\n",
       "  1 : \n",
       "    {\n",
       "      1 : 21\n",
       "      2 : 16\n",
       "      3 : 20\n",
       "    }\n",
       "  2 : \n",
       "    {\n",
       "      1 : 235\n",
       "      2 : 218\n",
       "      3 : 129\n",
       "    }\n",
       "  3 : \n",
       "    {\n",
       "      1 : 329\n",
       "      2 : 334\n",
       "      3 : 332\n",
       "    }\n",
       "}\n"
      ]
     },
     "execution_count": 66,
     "metadata": {},
     "output_type": "execute_result"
    }
   ],
   "source": [
    "test_samples"
   ]
  },
  {
   "cell_type": "code",
   "execution_count": 52,
   "metadata": {
    "collapsed": false,
    "scrolled": true
   },
   "outputs": [],
   "source": [
    "-- unpackZeros(tst_xs[1]), unpackZeros(tst_xs[2]), unpackZeros(tst_xs[3])"
   ]
  },
  {
   "cell_type": "code",
   "execution_count": 71,
   "metadata": {
    "collapsed": false
   },
   "outputs": [],
   "source": [
    "tst = buildPredSummary2(geti_n(preds_list, 2, 4), test_samples, 4)"
   ]
  },
  {
   "cell_type": "code",
   "execution_count": 76,
   "metadata": {
    "collapsed": false
   },
   "outputs": [
    {
     "data": {
      "text/plain": [
       "{\n",
       "  1 : \n",
       "    {\n",
       "      1 : 21\n",
       "      2 : 16\n",
       "      3 : 20\n",
       "    }\n",
       "  2 : \n",
       "    {\n",
       "      1 : 20\n",
       "      2 : 16\n",
       "      3 : 21\n",
       "      4 : 129\n",
       "    }\n",
       "  3 : \n",
       "    {\n",
       "      1 : 129\n",
       "      2 : 21\n",
       "      3 : 16\n",
       "      4 : 20\n",
       "    }\n",
       "}\n"
      ]
     },
     "execution_count": 76,
     "metadata": {},
     "output_type": "execute_result"
    }
   ],
   "source": [
    "tst"
   ]
  },
  {
   "cell_type": "code",
   "execution_count": 74,
   "metadata": {
    "collapsed": false
   },
   "outputs": [],
   "source": [
    "mx = 0\n",
    "for k,v in pairs(tst) do\n",
    "    mx = math.max(#v, mx)\n",
    "end"
   ]
  },
  {
   "cell_type": "code",
   "execution_count": null,
   "metadata": {
    "collapsed": false
   },
   "outputs": [],
   "source": [
    "query:t()[1]"
   ]
  },
  {
   "cell_type": "code",
   "execution_count": null,
   "metadata": {
    "collapsed": false,
    "scrolled": true
   },
   "outputs": [],
   "source": [
    "summary:t()[1]"
   ]
  },
  {
   "cell_type": "code",
   "execution_count": null,
   "metadata": {
    "collapsed": false
   },
   "outputs": [],
   "source": [
    "sentences:t()[1]"
   ]
  },
  {
   "cell_type": "code",
   "execution_count": null,
   "metadata": {
    "collapsed": false
   },
   "outputs": [],
   "source": [
    "myPreds2 = model:forward({sentences, summary, query, actions})"
   ]
  },
  {
   "cell_type": "code",
   "execution_count": null,
   "metadata": {
    "collapsed": false,
    "scrolled": true
   },
   "outputs": [],
   "source": [
    "myPreds2"
   ]
  },
  {
   "cell_type": "code",
   "execution_count": null,
   "metadata": {
    "collapsed": false
   },
   "outputs": [],
   "source": [
    "sent_test = LongTensor{{0, 0}, {9, 0}}\n",
    "sumry_test = LongTensor{{0, 1, 3, 5}, {4, 8, 3, 0}}\n",
    "query_test = LongTensor{{0, 1, 3, 5}, {4, 8, 3, 1}}\n",
    "action_test = Tensor({1, 0}):resize(2,1)"
   ]
  },
  {
   "cell_type": "code",
   "execution_count": null,
   "metadata": {
    "collapsed": false
   },
   "outputs": [],
   "source": [
    "action_test"
   ]
  },
  {
   "cell_type": "code",
   "execution_count": null,
   "metadata": {
    "collapsed": false
   },
   "outputs": [],
   "source": [
    "model:forward({sent_test:t(), sumry_test:t(), query_test:t(), action_test})"
   ]
  },
  {
   "cell_type": "code",
   "execution_count": null,
   "metadata": {
    "collapsed": false
   },
   "outputs": [],
   "source": [
    "mod = nn.Sequential()\n",
    ":add(nn.LookupTableMaskZero(5, 5))\n",
    ":add(nn.SplitTable(1,2))  -- convert tensor to list of subtensors\n",
    ":add(nn.Sequencer(nn.MaskZero(nn.FastLSTM(5, 3), 1)))"
   ]
  },
  {
   "cell_type": "code",
   "execution_count": null,
   "metadata": {
    "collapsed": true
   },
   "outputs": [],
   "source": [
    "xin = torch.LongTensor{{0, 1, 3, 5}, {0, 0, 4, 2}}:t()"
   ]
  },
  {
   "cell_type": "code",
   "execution_count": null,
   "metadata": {
    "collapsed": false
   },
   "outputs": [],
   "source": [
    "mod:forward(xin)"
   ]
  },
  {
   "cell_type": "code",
   "execution_count": null,
   "metadata": {
    "collapsed": true
   },
   "outputs": [],
   "source": []
  }
 ],
 "metadata": {
  "kernelspec": {
   "display_name": "iTorch",
   "language": "lua",
   "name": "itorch"
  },
  "language_info": {
   "name": "lua",
   "version": "5.1"
  }
 },
 "nbformat": 4,
 "nbformat_minor": 0
}
