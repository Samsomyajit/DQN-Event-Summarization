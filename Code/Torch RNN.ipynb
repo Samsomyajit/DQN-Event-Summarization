{
 "cells": [
  {
   "cell_type": "code",
   "execution_count": null,
   "metadata": {
    "collapsed": true
   },
   "outputs": [],
   "source": [
    "require 'nn'\n",
    "require 'rnn'\n",
    "require 'optim'"
   ]
  },
  {
   "cell_type": "code",
   "execution_count": null,
   "metadata": {
    "collapsed": true
   },
   "outputs": [],
   "source": [
    "nepochs = 250\n",
    "learning_rate = 0.1\n",
    "gamma =0.2\n",
    "cuts =4\n",
    "base_explore_rate = 0.1\n",
    "delta = 1./(nepochs/cuts) \n",
    "\n",
    "SKIP = 1\n",
    "SELECT = 2\n",
    "\n",
    "vocabSize = 16\n",
    "embeddingSize = 64\n",
    "\n",
    "torch.manualSeed(420)\n",
    "math.randomseed(420)\n",
    "\n",
    "sentenceLookup = nn.Sequential():add(\n",
    "    nn.LookupTableMaskZero(vocabSize, embeddingSize)):add(\n",
    "    nn.Sum(2, 3, false))\n",
    "\n",
    "queryLookup = sentenceLookup:clone() --\"weight\", \"gradWeight\")\n",
    "summaryLookup = sentenceLookup:clone() --\"weight\", \"gradWeight\")\n",
    "\n",
    "model = nn.Sequential():add(\n",
    "    nn.ParallelTable():add(\n",
    "        sentenceLookup):add(\n",
    "        queryLookup):add(\n",
    "        summaryLookup)):add(\n",
    "    nn.JoinTable(2)):add(\n",
    "    nn.Tanh()):add(\n",
    "    nn.Linear(embeddingSize * 3, 2)) --:add(\n",
    "    --nn.Tanh()):add(\n",
    "    --nn.Linear(embeddingSize, 2))\n",
    "criterion = nn.MSECriterion()\n",
    "params, gradParams = model:getParameters()\n",
    "\n",
    "function buildSummary(actions, sentences, buffer)\n",
    "    buffer:zero()\n",
    "\n",
    "     bufferSize = buffer:size(2)\n",
    "     actionsSize = actions:size(1)\n",
    "     sentencesSize = sentences:size(2)\n",
    "\n",
    "     mask1 = torch.eq(actions:select(2,2), 1):view(actionsSize, 1):expand(\n",
    "        actionsSize, sentencesSize)\n",
    "     allTokens = sentences:maskedSelect(mask1)\n",
    "     mask2 = torch.gt(allTokens,0)\n",
    "     allTokens = allTokens:maskedSelect(mask2)\n",
    "\n",
    "    if allTokens:dim() > 0 then\n",
    "         copySize = math.min(bufferSize, allTokens:size(1))\n",
    "\n",
    "        buffer[1]:narrow(1, bufferSize - copySize + 1, copySize):copy(\n",
    "            allTokens:narrow(1, allTokens:size(1) - copySize + 1, copySize))\n",
    "    end\n",
    "    return buffer\n",
    "end\n",
    "\n",
    "function buildTokenCounts(summary)\n",
    "    counts = {}\n",
    "    for i=1,summary:size(2) do\n",
    "        if summary[1][i] > 0 then\n",
    "             token = summary[1][i]\n",
    "            if counts[token] == nil then\n",
    "                counts[token] = 1\n",
    "            else\n",
    "                counts[token] = counts[token] + 1\n",
    "            end\n",
    "        end\n",
    "    end\n",
    "    return counts\n",
    "end\n",
    "\n",
    "function rougeScores(genSummary, refSummary)\n",
    "     genTotal = 0\n",
    "     refTotal = 0\n",
    "     intersection = 0\n",
    "    for k, refCount in pairs(refSummary) do\n",
    "         genCount = genSummary[k]\n",
    "        if genCount == nil then genCount = 0 end\n",
    "        intersection = intersection + math.min(refCount, genCount)\n",
    "        refTotal = refTotal + refCount\n",
    "    end\n",
    "    for k,genCount in pairs(genSummary) do\n",
    "        genTotal = genTotal + genCount\n",
    "    end\n",
    "\n",
    "    if genTotal == 0 then \n",
    "        genTotal = 1 \n",
    "    end\n",
    "     recall = intersection / refTotal\n",
    "     prec = intersection / genTotal\n",
    "    if recall > 0 and prec > 0 then\n",
    "        f1 = 2 * recall * prec / (recall + prec)\n",
    "    else \n",
    "        f1 = 0\n",
    "    end\n",
    "    return recall, prec, f1\n",
    "end"
   ]
  },
  {
   "cell_type": "code",
   "execution_count": null,
   "metadata": {
    "collapsed": true
   },
   "outputs": [],
   "source": []
  },
  {
   "cell_type": "code",
   "execution_count": null,
   "metadata": {
    "collapsed": false
   },
   "outputs": [],
   "source": [
    "optimParams = {\n",
    "    learningRate = learning_rate,\n",
    "}\n",
    "\n",
    "maxSummarySize = 36\n",
    "epsilon = 1.0\n",
    "query = torch.LongTensor{{0, 1, 4, 3}}\n",
    "sentenceStream = torch.Tensor{{0, 1, 3, 4}, \n",
    "                                {7, 6, 5 ,8}, \n",
    "                                {0, 2, 4, 3}, \n",
    "                                {7, 5, 8, 6}, \n",
    "                                {1, 4, 3, 2}, \n",
    "                                {13, 14, 15, 16}}\n",
    "\n",
    "refSummary = torch.Tensor{{1,3,4,2,4,3,1,4,3,2,9,10,12,11}}\n",
    "refCounts = buildTokenCounts(refSummary)\n",
    "\n",
    "\n",
    "streamSize = sentenceStream:size(1)\n",
    "bestActions = torch.ByteTensor{{0,1},{1,0},{0,1},{1,0},{0,1},{1,0}}\n",
    "\n",
    "\n",
    "buffer = torch.Tensor(1, maxSummarySize):zero()\n",
    "bestSummary = buildSummary(\n",
    "    bestActions:narrow(1, 1, 6), \n",
    "    sentenceStream:narrow(1, 1, 6),\n",
    "    buffer:narrow(1, 1, 1)\n",
    "    )\n",
    "\n",
    "generatedCounts = buildTokenCounts(bestSummary) \n",
    "bestrecall, bestprec, bestf1 = rougeScores(generatedCounts, refCounts)\n",
    "print(string.format(\"TRUE {RECALL = %.6f, PREC = %.6f, F1 = %.6f}\", bestrecall, bestprec, bestf1))"
   ]
  },
  {
   "cell_type": "code",
   "execution_count": null,
   "metadata": {
    "collapsed": true
   },
   "outputs": [],
   "source": [
    "epoch = 1"
   ]
  },
  {
   "cell_type": "code",
   "execution_count": null,
   "metadata": {
    "collapsed": true
   },
   "outputs": [],
   "source": [
    "actions = torch.ByteTensor(streamSize,2):fill(0)\n",
    "exploreDraws = torch.Tensor(streamSize)\n",
    "summaryBuffer = torch.LongTensor(streamSize + 1, maxSummarySize):zero()\n",
    "qValues = torch.Tensor(streamSize, 2):zero()\n",
    "rouge = torch.Tensor(streamSize + 1):zero()\n",
    "rougebp = torch.Tensor(streamSize + 1):zero()\n",
    "\n",
    "rouge[1] = 0\n",
    "exploreDraws:uniform(0, 1)\n",
    "summary = summaryBuffer:zero():narrow(1,1,1)"
   ]
  },
  {
   "cell_type": "code",
   "execution_count": null,
   "metadata": {
    "collapsed": true
   },
   "outputs": [],
   "source": [
    "for i=1, streamSize do\n",
    "    sentence = sentenceStream:narrow(1, i, 1)\n",
    "    qValues[i]:copy(model:forward({sentence, query, summary}))\n",
    "    \n",
    "    if exploreDraws[i] <= epsilon then\n",
    "        actions[i][torch.random(SKIP, SELECT)] = 1\n",
    "    else \n",
    "        if qValues[i][SKIP] > qValues[i][SELECT] then\n",
    "            actions[i][SKIP] = 1\n",
    "        else\n",
    "            actions[i][SELECT] = 1\n",
    "        end\n",
    "    end\n",
    "    summary = buildSummary(\n",
    "        actions:narrow(1, 1, i), \n",
    "        sentenceStream:narrow(1, 1, i),\n",
    "        summaryBuffer:narrow(1, i + 1, 1)\n",
    "        )\n",
    "\n",
    "    generatedCounts = buildTokenCounts(summary) \n",
    "    recall, prec, f1 = rougeScores(generatedCounts, refCounts)\n",
    "    rouge[i + 1] = f1\n",
    "    rougebp[i] = f1\n",
    "end\n",
    "\n",
    "max, argmax = torch.max(qValues, 2)\n",
    "rewards0 = rouge:narrow(1,2, streamSize) - rouge:narrow(1,1, streamSize) \n",
    "rewards = rewards0 + gamma * rewards0:narrow(1, 2, streamSize-1):resize(streamSize)\n",
    "\n",
    "querySize = query:size(2)\n",
    "summaryBatch = summaryBuffer:narrow(1, 1, streamSize)\n",
    "queryBatch = query:view(1, querySize):expand(streamSize, querySize) \n",
    "\n",
    "input = {sentenceStream, queryBatch, summaryBatch}"
   ]
  },
  {
   "cell_type": "code",
   "execution_count": null,
   "metadata": {
    "collapsed": false
   },
   "outputs": [],
   "source": [
    "function feval(params)\n",
    "    gradParams:zero()\n",
    "     predQ = model:forward(input)\n",
    "     maskLayer = nn.MaskedSelect()\n",
    "     predQOnActions = maskLayer:forward({predQ, actions})\n",
    "     loss = criterion:forward(predQOnActions, reward)\n",
    "     gradOutput = criterion(predQOnActions, reward)\n",
    "     gradMaskLayer = maskLayer:backward({predQ, actions}, gradOutput)\n",
    "    model:backward(input, gradMaskLayer[1])\n",
    "    return loss, gradParams    \n",
    "end\n",
    "\n",
    " _, loss = optim.adam(feval, params, optimParams)"
   ]
  },
  {
   "cell_type": "code",
   "execution_count": null,
   "metadata": {
    "collapsed": false
   },
   "outputs": [],
   "source": [
    "out = string.format(\"%i; %.3f;%.6f;%.6f; {min=%.3f, max=%.3f}; {min=%.3f, max=%.3f}; {%i,%i,%i,%i,%i,%i,%i,%i,%i,%i,%i,%i}\\n\", \n",
    "    epoch, epsilon, loss[1], rouge[streamSize + 1],\n",
    "    reward:min(), reward:max(),\n",
    "    qValues:min(), qValues:max(),\n",
    "    actions[1][1], \n",
    "    actions[1][2], \n",
    "    actions[2][1], \n",
    "    actions[2][2], \n",
    "    actions[3][1], \n",
    "    actions[3][2], \n",
    "    actions[4][1],\n",
    "    actions[4][2],\n",
    "    actions[5][1], \n",
    "    actions[5][2], \n",
    "    actions[6][1], \n",
    "    actions[6][2] \n",
    "    )\n"
   ]
  },
  {
   "cell_type": "code",
   "execution_count": null,
   "metadata": {
    "collapsed": false
   },
   "outputs": [],
   "source": [
    "out"
   ]
  },
  {
   "cell_type": "code",
   "execution_count": null,
   "metadata": {
    "collapsed": false
   },
   "outputs": [],
   "source": [
    "nepochs"
   ]
  },
  {
   "cell_type": "markdown",
   "metadata": {},
   "source": [
    "# Trying this separately"
   ]
  },
  {
   "cell_type": "code",
   "execution_count": 17,
   "metadata": {
    "collapsed": true
   },
   "outputs": [],
   "source": [
    "require 'nn'\n",
    "require 'rnn'\n",
    "require 'optim'"
   ]
  },
  {
   "cell_type": "code",
   "execution_count": 31,
   "metadata": {
    "collapsed": true
   },
   "outputs": [],
   "source": [
    "nepochs = 500\n",
    "learning_rate = 1e-6\n",
    "gamma =0.2\n",
    "cuts =4\n",
    "base_explore_rate = 0.1\n",
    "delta = 1./(nepochs/cuts) \n",
    "\n",
    "SKIP = 1\n",
    "SELECT = 2\n",
    "\n",
    "vocabSize = 16\n",
    "embeddingSize = 64\n",
    "\n",
    "torch.manualSeed(420)\n",
    "math.randomseed(420)\n",
    "\n",
    "sentenceLookup = nn.Sequential():add(\n",
    "    nn.LookupTableMaskZero(vocabSize, embeddingSize)):add(\n",
    "    nn.Sum(2, 3, false))\n",
    "\n",
    "queryLookup = sentenceLookup:clone() --\"weight\", \"gradWeight\")\n",
    "summaryLookup = sentenceLookup:clone() --\"weight\", \"gradWeight\")\n",
    "\n",
    "model = nn.Sequential():add(\n",
    "    nn.ParallelTable():add(\n",
    "        sentenceLookup):add(\n",
    "        queryLookup):add(\n",
    "        summaryLookup)):add(\n",
    "    nn.JoinTable(2)):add(\n",
    "    nn.Tanh()):add(\n",
    "    nn.Linear(embeddingSize * 3, 2)) --:add(\n",
    "    --nn.Tanh()):add(\n",
    "    --nn.Linear(embeddingSize, 2))\n",
    "criterion = nn.MSECriterion()\n",
    "params, gradParams = model:getParameters()\n",
    "\n",
    "function buildSummary(actions, sentences, buffer)\n",
    "    buffer:zero()\n",
    "\n",
    "     bufferSize = buffer:size(2)\n",
    "     actionsSize = actions:size(1)\n",
    "     sentencesSize = sentences:size(2)\n",
    "\n",
    "     mask1 = torch.eq(actions:select(2,2), 1):view(actionsSize, 1):expand(\n",
    "        actionsSize, sentencesSize)\n",
    "     allTokens = sentences:maskedSelect(mask1)\n",
    "     mask2 = torch.gt(allTokens,0)\n",
    "     allTokens = allTokens:maskedSelect(mask2)\n",
    "\n",
    "    if allTokens:dim() > 0 then\n",
    "         copySize = math.min(bufferSize, allTokens:size(1))\n",
    "\n",
    "        buffer[1]:narrow(1, bufferSize - copySize + 1, copySize):copy(\n",
    "            allTokens:narrow(1, allTokens:size(1) - copySize + 1, copySize))\n",
    "    end\n",
    "    return buffer\n",
    "end\n",
    "\n",
    "function buildTokenCounts(summary)\n",
    "    counts = {}\n",
    "    for i=1,summary:size(2) do\n",
    "        if summary[1][i] > 0 then\n",
    "             token = summary[1][i]\n",
    "            if counts[token] == nil then\n",
    "                counts[token] = 1\n",
    "            else\n",
    "                counts[token] = counts[token] + 1\n",
    "            end\n",
    "        end\n",
    "    end\n",
    "    return counts\n",
    "end\n",
    "\n",
    "function rougeScores(genSummary, refSummary)\n",
    "     genTotal = 0\n",
    "     refTotal = 0\n",
    "     intersection = 0\n",
    "    for k, refCount in pairs(refSummary) do\n",
    "         genCount = genSummary[k]\n",
    "        if genCount == nil then genCount = 0 end\n",
    "        intersection = intersection + math.min(refCount, genCount)\n",
    "        refTotal = refTotal + refCount\n",
    "    end\n",
    "    for k,genCount in pairs(genSummary) do\n",
    "        genTotal = genTotal + genCount\n",
    "    end\n",
    "\n",
    "    if genTotal == 0 then \n",
    "        genTotal = 1 \n",
    "    end\n",
    "     recall = intersection / refTotal\n",
    "     prec = intersection / genTotal\n",
    "    if recall > 0 and prec > 0 then\n",
    "        f1 = 2 * recall * prec / (recall + prec)\n",
    "    else \n",
    "        f1 = 0\n",
    "    end\n",
    "    return recall, prec, f1\n",
    "end"
   ]
  },
  {
   "cell_type": "code",
   "execution_count": 32,
   "metadata": {
    "collapsed": false
   },
   "outputs": [
    {
     "data": {
      "text/plain": [
       "TRUE {RECALL = 0.714286, PREC = 1.000000, F1 = 0.833333}\t\n"
      ]
     },
     "execution_count": 32,
     "metadata": {},
     "output_type": "execute_result"
    }
   ],
   "source": [
    "optimParams = {\n",
    "    learningRate = learning_rate,\n",
    "}\n",
    "\n",
    "maxSummarySize = 36\n",
    "epsilon = 1.0\n",
    "query = torch.LongTensor{{0, 1, 4, 3}}\n",
    "sentenceStream = torch.Tensor{{0, 1, 3, 4}, \n",
    "                                {7, 6, 5 ,8}, \n",
    "                                {0, 2, 4, 3}, \n",
    "                                {7, 5, 8, 6}, \n",
    "                                {1, 4, 3, 2}, \n",
    "                                {13, 14, 15, 16}}\n",
    "\n",
    "refSummary = torch.Tensor{{1,3,4,2,4,3,1,4,3,2,9,10,12,11}}\n",
    "refCounts = buildTokenCounts(refSummary)\n",
    "\n",
    "\n",
    "streamSize = sentenceStream:size(1)\n",
    "bestActions = torch.ByteTensor{{0,1},{1,0},{0,1},{1,0},{0,1},{1,0}}\n",
    "\n",
    "\n",
    "buffer = torch.Tensor(1, maxSummarySize):zero()\n",
    "bestSummary = buildSummary(\n",
    "    bestActions:narrow(1, 1, 6), \n",
    "    sentenceStream:narrow(1, 1, 6),\n",
    "    buffer:narrow(1, 1, 1)\n",
    "    )\n",
    "\n",
    "generatedCounts = buildTokenCounts(bestSummary) \n",
    "bestrecall, bestprec, bestf1 = rougeScores(generatedCounts, refCounts)\n",
    "print(string.format(\"TRUE {RECALL = %.6f, PREC = %.6f, F1 = %.6f}\", bestrecall, bestprec, bestf1))"
   ]
  },
  {
   "cell_type": "code",
   "execution_count": 33,
   "metadata": {
    "collapsed": false,
    "scrolled": true
   },
   "outputs": [
    {
     "data": {
      "text/plain": [
       "{\n",
       "  1 : DoubleTensor - size: 6x4\n",
       "  2 : LongTensor - size: 6x4\n",
       "  3 : LongTensor - size: 6x36\n",
       "}\n",
       "1; 1.000;0.102781;0.240000; {min=-1.000, max=0.286}; {min=-0.399, max=0.188}; {1,0,0,1,0,1,0,1,1,0,1,0}\n",
       "\t\n"
      ]
     },
     "execution_count": 33,
     "metadata": {},
     "output_type": "execute_result"
    },
    {
     "data": {
      "text/plain": [
       "2; 0.992;0.134963;0.424242; {min=-0.647, max=0.243}; {min=-0.458, max=0.455}; {0,1,0,1,1,0,0,1,0,1,0,1}\n",
       "\t\n"
      ]
     },
     "execution_count": 33,
     "metadata": {},
     "output_type": "execute_result"
    },
    {
     "data": {
      "text/plain": [
       "3; 0.984;0.090744;0.666667; {min=-1.000, max=0.353}; {min=-0.399, max=0.219}; {1,0,1,0,0,1,1,0,0,1,1,0}\n",
       "\t\n"
      ]
     },
     "execution_count": 33,
     "metadata": {},
     "output_type": "execute_result"
    },
    {
     "data": {
      "text/plain": [
       "4; 0.976;0.125147;0.625000; {min=-0.647, max=0.214}; {min=-0.399, max=0.566}; {0,1,0,1,0,1,0,1,0,1,1,0}\n",
       "\t\n"
      ]
     },
     "execution_count": 33,
     "metadata": {},
     "output_type": "execute_result"
    },
    {
     "data": {
      "text/plain": [
       "5; 0.968;0.130156;0.482759; {min=-1.000, max=0.353}; {min=-0.399, max=0.593}; {1,0,1,0,0,1,0,1,0,1,0,1}\n",
       "\t\n"
      ]
     },
     "execution_count": 33,
     "metadata": {},
     "output_type": "execute_result"
    },
    {
     "data": {
      "text/plain": [
       "6; 0.960;0.154560;0.444444; {min=-1.000, max=0.444}; {min=-0.399, max=0.303}; {1,0,1,0,1,0,1,0,0,1,1,0}\n",
       "\t\n"
      ]
     },
     "execution_count": 33,
     "metadata": {},
     "output_type": "execute_result"
    },
    {
     "data": {
      "text/plain": [
       "7; 0.952;0.160047;0.560000; {min=-0.647, max=0.274}; {min=-0.399, max=0.587}; {0,1,0,1,1,0,1,0,0,1,1,0}\n",
       "\t\n"
      ]
     },
     "execution_count": 33,
     "metadata": {},
     "output_type": "execute_result"
    },
    {
     "data": {
      "text/plain": [
       "8; 0.944;0.069787;0.000000; {min=-1.000, max=0.000}; {min=-0.399, max=0.183}; {1,0,0,1,1,0,1,0,1,0,1,0}\n",
       "\t\n"
      ]
     },
     "execution_count": 33,
     "metadata": {},
     "output_type": "execute_result"
    },
    {
     "data": {
      "text/plain": [
       "9; 0.936;0.059767;0.714286; {min=-0.647, max=0.247}; {min=-0.399, max=0.308}; {0,1,1,0,0,1,1,0,0,1,0,1}\n",
       "\t\n"
      ]
     },
     "execution_count": 33,
     "metadata": {},
     "output_type": "execute_result"
    },
    {
     "data": {
      "text/plain": [
       "10; 0.928;0.204151;0.560000; {min=-1.000, max=0.286}; {min=-0.399, max=0.593}; {1,0,0,1,0,1,1,0,0,1,1,0}\n",
       "\t\n"
      ]
     },
     "execution_count": 33,
     "metadata": {},
     "output_type": "execute_result"
    },
    {
     "data": {
      "text/plain": [
       "11; 0.920;0.216140;0.363636; {min=-1.000, max=0.364}; {min=-0.399, max=0.383}; {1,0,1,0,1,0,0,1,0,1,1,0}\n",
       "\t\n"
      ]
     },
     "execution_count": 33,
     "metadata": {},
     "output_type": "execute_result"
    },
    {
     "data": {
      "text/plain": [
       "12; 0.912;0.216150;0.363636; {min=-1.000, max=0.364}; {min=-0.399, max=0.383}; {1,0,1,0,1,0,0,1,0,1,1,0}\n",
       "\t\n"
      ]
     },
     "execution_count": 33,
     "metadata": {},
     "output_type": "execute_result"
    },
    {
     "data": {
      "text/plain": [
       "13; 0.904;0.103659;0.482759; {min=-0.647, max=0.274}; {min=-0.400, max=0.586}; {0,1,0,1,1,0,1,0,0,1,0,1}\n",
       "\t\n"
      ]
     },
     "execution_count": 33,
     "metadata": {},
     "output_type": "execute_result"
    },
    {
     "data": {
      "text/plain": [
       "14; 0.896;0.050814;0.352941; {min=-0.647, max=0.000}; {min=-0.400, max=0.243}; {0,1,1,0,1,0,1,0,1,0,1,0}\n",
       "\t\n"
      ]
     },
     "execution_count": 33,
     "metadata": {},
     "output_type": "execute_result"
    },
    {
     "data": {
      "text/plain": [
       "15; 0.888;0.062148;0.428571; {min=-0.647, max=0.214}; {min=-0.400, max=0.565}; {0,1,0,1,0,1,0,1,1,0,1,0}\n",
       "\t\n"
      ]
     },
     "execution_count": 33,
     "metadata": {},
     "output_type": "execute_result"
    },
    {
     "data": {
      "text/plain": [
       "16; 0.880;0.069952;0.833333; {min=-0.647, max=0.247}; {min=-0.400, max=0.308}; {0,1,1,0,0,1,1,0,0,1,1,0}\n",
       "\t\n"
      ]
     },
     "execution_count": 33,
     "metadata": {},
     "output_type": "execute_result"
    },
    {
     "data": {
      "text/plain": [
       "17; 0.872;0.057181;0.240000; {min=-0.647, max=0.000}; {min=-0.400, max=0.519}; {0,1,1,0,1,0,0,1,1,0,0,1}\n",
       "\t\n"
      ]
     },
     "execution_count": 33,
     "metadata": {},
     "output_type": "execute_result"
    },
    {
     "data": {
      "text/plain": [
       "18; 0.864;0.090692;0.666667; {min=-1.000, max=0.353}; {min=-0.400, max=0.218}; {1,0,1,0,0,1,1,0,0,1,1,0}\n",
       "\t\n"
      ]
     },
     "execution_count": 33,
     "metadata": {},
     "output_type": "execute_result"
    },
    {
     "data": {
      "text/plain": [
       "19; 0.856;0.050692;0.352941; {min=-0.647, max=0.000}; {min=-0.400, max=0.243}; {0,1,1,0,1,0,1,0,1,0,1,0}\n",
       "\t\n"
      ]
     },
     "execution_count": 33,
     "metadata": {},
     "output_type": "execute_result"
    },
    {
     "data": {
      "text/plain": [
       "20; 0.848;0.080184;0.000000; {min=-1.000, max=0.000}; {min=-0.483, max=0.187}; {1,0,0,1,1,0,0,1,1,0,1,0}\n",
       "\t\n"
      ]
     },
     "execution_count": 33,
     "metadata": {},
     "output_type": "execute_result"
    },
    {
     "data": {
      "text/plain": [
       "21; 0.840;0.145800;0.482759; {min=-1.000, max=0.286}; {min=-0.400, max=0.592}; {1,0,0,1,0,1,1,0,0,1,0,1}\n",
       "\t\n"
      ]
     },
     "execution_count": 33,
     "metadata": {},
     "output_type": "execute_result"
    },
    {
     "data": {
      "text/plain": [
       "22; 0.832;0.088881;0.240000; {min=-1.000, max=0.353}; {min=-0.400, max=0.294}; {1,0,1,0,0,1,0,1,1,0,0,1}\n",
       "\t\n"
      ]
     },
     "execution_count": 33,
     "metadata": {},
     "output_type": "execute_result"
    },
    {
     "data": {
      "text/plain": [
       "23; 0.824;0.103412;0.482759; {min=-0.647, max=0.274}; {min=-0.400, max=0.585}; {0,1,0,1,1,0,1,0,0,1,0,1}\n",
       "\t\n"
      ]
     },
     "execution_count": 33,
     "metadata": {},
     "output_type": "execute_result"
    },
    {
     "data": {
      "text/plain": [
       "24; 0.816;0.096208;0.240000; {min=-0.647, max=0.000}; {min=-0.400, max=0.519}; {0,1,0,1,1,0,1,0,1,0,0,1}\n",
       "\t\n"
      ]
     },
     "execution_count": 33,
     "metadata": {},
     "output_type": "execute_result"
    },
    {
     "data": {
      "text/plain": [
       "25; 0.808;0.130264;0.482759; {min=-1.000, max=0.353}; {min=-0.400, max=0.591}; {1,0,1,0,0,1,0,1,0,1,0,1}\n",
       "\t\n"
      ]
     },
     "execution_count": 33,
     "metadata": {},
     "output_type": "execute_result"
    },
    {
     "data": {
      "text/plain": [
       "26; 0.800;0.096114;0.240000; {min=-0.647, max=0.000}; {min=-0.400, max=0.518}; {0,1,0,1,1,0,1,0,1,0,0,1}\n",
       "\t\n"
      ]
     },
     "execution_count": 33,
     "metadata": {},
     "output_type": "execute_result"
    },
    {
     "data": {
      "text/plain": [
       "27; 0.792;0.188431;0.560000; {min=-1.000, max=0.353}; {min=-0.400, max=0.591}; {1,0,1,0,0,1,0,1,0,1,1,0}\n",
       "\t\n"
      ]
     },
     "execution_count": 33,
     "metadata": {},
     "output_type": "execute_result"
    },
    {
     "data": {
      "text/plain": [
       "28; 0.784;0.130279;0.482759; {min=-1.000, max=0.353}; {min=-0.400, max=0.591}; {1,0,1,0,0,1,0,1,0,1,0,1}\n",
       "\t\n"
      ]
     },
     "execution_count": 33,
     "metadata": {},
     "output_type": "execute_result"
    },
    {
     "data": {
      "text/plain": [
       "29; 0.776;0.130285;0.482759; {min=-1.000, max=0.353}; {min=-0.400, max=0.591}; {1,0,1,0,0,1,0,1,0,1,0,1}\n",
       "\t\n"
      ]
     },
     "execution_count": 33,
     "metadata": {},
     "output_type": "execute_result"
    },
    {
     "data": {
      "text/plain": [
       "30; 0.768;0.056813;0.240000; {min=-0.647, max=0.000}; {min=-0.401, max=0.518}; {0,1,1,0,1,0,0,1,1,0,0,1}\n",
       "\t\n"
      ]
     },
     "execution_count": 33,
     "metadata": {},
     "output_type": "execute_result"
    },
    {
     "data": {
      "text/plain": [
       "31; 0.760;0.059908;0.240000; {min=-0.647, max=0.000}; {min=-0.461, max=0.411}; {0,1,0,1,1,0,0,1,1,0,1,0}\n",
       "\t\n"
      ]
     },
     "execution_count": 33,
     "metadata": {},
     "output_type": "execute_result"
    },
    {
     "data": {
      "text/plain": [
       "32; 0.752;0.084312;0.428571; {min=-0.647, max=0.247}; {min=-0.401, max=0.671}; {0,1,1,0,0,1,0,1,1,0,0,1}\n",
       "\t\n"
      ]
     },
     "execution_count": 33,
     "metadata": {},
     "output_type": "execute_result"
    },
    {
     "data": {
      "text/plain": [
       "33; 0.744;0.044087;0.375000; {min=-0.647, max=0.214}; {min=-0.401, max=0.563}; {0,1,0,1,0,1,0,1,1,0,0,1}\n",
       "\t\n"
      ]
     },
     "execution_count": 33,
     "metadata": {},
     "output_type": "execute_result"
    },
    {
     "data": {
      "text/plain": [
       "34; 0.736;0.092985;0.560000; {min=-1.000, max=0.353}; {min=-0.401, max=0.217}; {1,0,1,0,0,1,1,0,0,1,0,1}\n",
       "\t\n"
      ]
     },
     "execution_count": 33,
     "metadata": {},
     "output_type": "execute_result"
    },
    {
     "data": {
      "text/plain": [
       "35; 0.728;0.092274;0.000000; {min=-1.000, max=0.000}; {min=-0.484, max=0.186}; {1,0,0,1,1,0,0,1,1,0,0,1}\n",
       "\t\n"
      ]
     },
     "execution_count": 33,
     "metadata": {},
     "output_type": "execute_result"
    },
    {
     "data": {
      "text/plain": [
       "36; 0.720;0.069289;0.000000; {min=-1.000, max=0.000}; {min=-0.401, max=0.181}; {1,0,0,1,1,0,1,0,1,0,1,0}\n",
       "\t\n"
      ]
     },
     "execution_count": 33,
     "metadata": {},
     "output_type": "execute_result"
    },
    {
     "data": {
      "text/plain": [
       "37; 0.712;0.064088;0.482759; {min=-0.647, max=0.274}; {min=-0.401, max=0.584}; {0,1,1,0,1,0,0,1,0,1,0,1}\n",
       "\t\n"
      ]
     },
     "execution_count": 33,
     "metadata": {},
     "output_type": "execute_result"
    },
    {
     "data": {
      "text/plain": [
       "38; 0.704;0.053566;0.500000; {min=-0.647, max=0.247}; {min=-0.401, max=0.270}; {0,1,1,0,0,1,1,0,1,0,0,1}\n",
       "\t\n"
      ]
     },
     "execution_count": 33,
     "metadata": {},
     "output_type": "execute_result"
    },
    {
     "data": {
      "text/plain": [
       "39; 0.696;0.064472;0.206897; {min=-0.647, max=0.000}; {min=-0.462, max=0.410}; {0,1,0,1,1,0,0,1,1,0,0,1}\n",
       "\t\n"
      ]
     },
     "execution_count": 33,
     "metadata": {},
     "output_type": "execute_result"
    },
    {
     "data": {
      "text/plain": [
       "40; 0.688;0.069226;0.000000; {min=-1.000, max=0.000}; {min=-0.401, max=0.181}; {1,0,0,1,1,0,1,0,1,0,1,0}\n",
       "\t\n"
      ]
     },
     "execution_count": 33,
     "metadata": {},
     "output_type": "execute_result"
    },
    {
     "data": {
      "text/plain": [
       "41; 0.680;0.182993;0.363636; {min=-1.000, max=0.364}; {min=-0.401, max=0.381}; {1,0,0,1,1,0,1,0,0,1,1,0}\n",
       "\t\n"
      ]
     },
     "execution_count": 33,
     "metadata": {},
     "output_type": "execute_result"
    },
    {
     "data": {
      "text/plain": [
       "42; 0.672;0.056107;0.600000; {min=-0.647, max=0.247}; {min=-0.401, max=0.270}; {0,1,1,0,0,1,1,0,1,0,1,0}\n",
       "\t\n"
      ]
     },
     "execution_count": 33,
     "metadata": {},
     "output_type": "execute_result"
    },
    {
     "data": {
      "text/plain": [
       "43; 0.664;0.158692;0.560000; {min=-0.647, max=0.274}; {min=-0.401, max=0.584}; {0,1,0,1,1,0,1,0,0,1,1,0}\n",
       "\t\n"
      ]
     },
     "execution_count": 33,
     "metadata": {},
     "output_type": "execute_result"
    },
    {
     "data": {
      "text/plain": [
       "44; 0.656;0.069156;0.000000; {min=-1.000, max=0.000}; {min=-0.401, max=0.181}; {1,0,0,1,1,0,1,0,1,0,1,0}\n",
       "\t\n"
      ]
     },
     "execution_count": 33,
     "metadata": {},
     "output_type": "execute_result"
    },
    {
     "data": {
      "text/plain": [
       "45; 0.648;0.118314;0.285714; {min=-1.000, max=0.286}; {min=-0.401, max=0.292}; {1,0,0,1,0,1,1,0,1,0,1,0}\n",
       "\t\n"
      ]
     },
     "execution_count": 33,
     "metadata": {},
     "output_type": "execute_result"
    },
    {
     "data": {
      "text/plain": [
       "46; 0.640;0.069561;0.833333; {min=-0.647, max=0.247}; {min=-0.401, max=0.306}; {0,1,1,0,0,1,1,0,0,1,1,0}\n",
       "\t\n"
      ]
     },
     "execution_count": 33,
     "metadata": {},
     "output_type": "execute_result"
    },
    {
     "data": {
      "text/plain": [
       "47; 0.632;0.069547;0.833333; {min=-0.647, max=0.247}; {min=-0.402, max=0.306}; {0,1,1,0,0,1,1,0,0,1,1,0}\n",
       "\t\n"
      ]
     },
     "execution_count": 33,
     "metadata": {},
     "output_type": "execute_result"
    },
    {
     "data": {
      "text/plain": [
       "48; 0.624;0.158482;0.560000; {min=-0.647, max=0.274}; {min=-0.402, max=0.583}; {0,1,0,1,1,0,1,0,0,1,1,0}\n",
       "\t\n"
      ]
     },
     "execution_count": 33,
     "metadata": {},
     "output_type": "execute_result"
    },
    {
     "data": {
      "text/plain": [
       "49; 0.616;0.069514;0.833333; {min=-0.647, max=0.247}; {min=-0.402, max=0.306}; {0,1,1,0,0,1,1,0,0,1,1,0}\n",
       "\t\n"
      ]
     },
     "execution_count": 33,
     "metadata": {},
     "output_type": "execute_result"
    },
    {
     "data": {
      "text/plain": [
       "50; 0.608;0.069497;0.833333; {min=-0.647, max=0.247}; {min=-0.402, max=0.305}; {0,1,1,0,0,1,1,0,0,1,1,0}\n",
       "\t\n"
      ]
     },
     "execution_count": 33,
     "metadata": {},
     "output_type": "execute_result"
    },
    {
     "data": {
      "text/plain": [
       "51; 0.600;0.106614;0.000000; {min=-1.000, max=0.000}; {min=-0.402, max=0.208}; {1,0,1,0,1,0,0,1,1,0,0,1}\n",
       "\t\n"
      ]
     },
     "execution_count": 33,
     "metadata": {},
     "output_type": "execute_result"
    },
    {
     "data": {
      "text/plain": [
       "52; 0.592;0.106619;0.000000; {min=-1.000, max=0.000}; {min=-0.402, max=0.208}; {1,0,1,0,1,0,0,1,1,0,0,1}\n",
       "\t\n"
      ]
     },
     "execution_count": 33,
     "metadata": {},
     "output_type": "execute_result"
    },
    {
     "data": {
      "text/plain": [
       "53; 0.584;0.102502;0.285714; {min=-1.000, max=0.353}; {min=-0.402, max=0.291}; {1,0,1,0,0,1,0,1,1,0,1,0}\n",
       "\t\n"
      ]
     },
     "execution_count": 33,
     "metadata": {},
     "output_type": "execute_result"
    },
    {
     "data": {
      "text/plain": [
       "54; 0.576;0.149255;0.714286; {min=-0.647, max=0.247}; {min=-0.402, max=0.727}; {0,1,1,0,0,1,0,1,0,1,1,0}\n",
       "\t\n"
      ]
     },
     "execution_count": 33,
     "metadata": {},
     "output_type": "execute_result"
    },
    {
     "data": {
      "text/plain": [
       "55; 0.568;0.102459;0.285714; {min=-1.000, max=0.353}; {min=-0.402, max=0.291}; {1,0,1,0,0,1,0,1,1,0,1,0}\n",
       "\t\n"
      ]
     },
     "execution_count": 33,
     "metadata": {},
     "output_type": "execute_result"
    },
    {
     "data": {
      "text/plain": [
       "56; 0.560;0.055789;0.600000; {min=-0.647, max=0.247}; {min=-0.402, max=0.269}; {0,1,1,0,0,1,1,0,1,0,1,0}\n",
       "\t\n"
      ]
     },
     "execution_count": 33,
     "metadata": {},
     "output_type": "execute_result"
    },
    {
     "data": {
      "text/plain": [
       "57; 0.552;0.043911;0.285714; {min=-0.647, max=0.000}; {min=-0.402, max=0.240}; {0,1,1,0,1,0,1,0,1,0,0,1}\n",
       "\t\n"
      ]
     },
     "execution_count": 33,
     "metadata": {},
     "output_type": "execute_result"
    },
    {
     "data": {
      "text/plain": [
       "58; 0.544;0.059150;0.240000; {min=-0.647, max=0.000}; {min=-0.463, max=0.408}; {0,1,0,1,1,0,0,1,1,0,1,0}\n",
       "\t\n"
      ]
     },
     "execution_count": 33,
     "metadata": {},
     "output_type": "execute_result"
    },
    {
     "data": {
      "text/plain": [
       "59; 0.536;0.079797;0.000000; {min=-1.000, max=0.000}; {min=-0.486, max=0.184}; {1,0,0,1,1,0,0,1,1,0,1,0}\n",
       "\t\n"
      ]
     },
     "execution_count": 33,
     "metadata": {},
     "output_type": "execute_result"
    },
    {
     "data": {
      "text/plain": [
       "60; 0.528;0.157970;0.560000; {min=-0.647, max=0.274}; {min=-0.402, max=0.582}; {0,1,0,1,1,0,1,0,0,1,1,0}\n",
       "\t\n"
      ]
     },
     "execution_count": 33,
     "metadata": {},
     "output_type": "execute_result"
    },
    {
     "data": {
      "text/plain": [
       "61; 0.520;0.079774;0.000000; {min=-1.000, max=0.000}; {min=-0.486, max=0.184}; {1,0,0,1,1,0,0,1,1,0,1,0}\n",
       "\t\n"
      ]
     },
     "execution_count": 33,
     "metadata": {},
     "output_type": "execute_result"
    },
    {
     "data": {
      "text/plain": [
       "62; 0.512;0.069305;0.833333; {min=-0.647, max=0.247}; {min=-0.402, max=0.304}; {0,1,1,0,0,1,1,0,0,1,1,0}\n",
       "\t\n"
      ]
     },
     "execution_count": 33,
     "metadata": {},
     "output_type": "execute_result"
    },
    {
     "data": {
      "text/plain": [
       "63; 0.504;0.053064;0.500000; {min=-0.647, max=0.247}; {min=-0.402, max=0.268}; {0,1,1,0,0,1,1,0,1,0,0,1}\n",
       "\t\n"
      ]
     },
     "execution_count": 33,
     "metadata": {},
     "output_type": "execute_result"
    },
    {
     "data": {
      "text/plain": [
       "64; 0.496;0.049717;0.352941; {min=-0.647, max=0.000}; {min=-0.403, max=0.240}; {0,1,1,0,1,0,1,0,1,0,1,0}\n",
       "\t\n"
      ]
     },
     "execution_count": 33,
     "metadata": {},
     "output_type": "execute_result"
    },
    {
     "data": {
      "text/plain": [
       "65; 0.488;0.068777;0.000000; {min=-1.000, max=0.000}; {min=-0.403, max=0.179}; {1,0,0,1,1,0,1,0,1,0,1,0}\n",
       "\t\n"
      ]
     },
     "execution_count": 33,
     "metadata": {},
     "output_type": "execute_result"
    },
    {
     "data": {
      "text/plain": [
       "66; 0.480;0.058926;0.240000; {min=-0.647, max=0.000}; {min=-0.464, max=0.407}; {0,1,0,1,1,0,0,1,1,0,1,0}\n",
       "\t"
      ]
     },
     "execution_count": 33,
     "metadata": {},
     "output_type": "execute_result"
    },
    {
     "data": {
      "text/plain": [
       "\n"
      ]
     },
     "execution_count": 33,
     "metadata": {},
     "output_type": "execute_result"
    },
    {
     "data": {
      "text/plain": [
       "67; 0.472;0.072881;0.000000; {min=-1.000, max=0.000}; {min=-0.403, max=0.179}; {1,0,0,1,1,0,1,0,1,0,0,1}\n",
       "\t\n"
      ]
     },
     "execution_count": 33,
     "metadata": {},
     "output_type": "execute_result"
    },
    {
     "data": {
      "text/plain": [
       "68; 0.464;0.055525;0.600000; {min=-0.647, max=0.247}; {min=-0.403, max=0.268}; {0,1,1,0,0,1,1,0,1,0,1,0}\n",
       "\t\n"
      ]
     },
     "execution_count": 33,
     "metadata": {},
     "output_type": "execute_result"
    },
    {
     "data": {
      "text/plain": [
       "69; 0.456;0.068710;0.000000; {min=-1.000, max=0.000}; {min=-0.403, max=0.179}; {1,0,0,1,1,0,1,0,1,0,1,0}\n",
       "\t\n"
      ]
     },
     "execution_count": 33,
     "metadata": {},
     "output_type": "execute_result"
    },
    {
     "data": {
      "text/plain": [
       "70; 0.448;0.049599;0.352941; {min=-0.647, max=0.000}; {min=-0.403, max=0.239}; {0,1,1,0,1,0,1,0,1,0,1,0}\n",
       "\t\n"
      ]
     },
     "execution_count": 33,
     "metadata": {},
     "output_type": "execute_result"
    },
    {
     "data": {
      "text/plain": [
       "71; 0.440;0.043667;0.285714; {min=-0.647, max=0.000}; {min=-0.403, max=0.239}; {0,1,1,0,1,0,1,0,1,0,0,1}\n",
       "\t\n"
      ]
     },
     "execution_count": 33,
     "metadata": {},
     "output_type": "execute_result"
    },
    {
     "data": {
      "text/plain": [
       "72; 0.432;0.043652;0.285714; {min=-0.647, max=0.000}; {min=-0.403, max=0.239}; {0,1,1,0,1,0,1,0,1,0,0,1}\n",
       "\t\n"
      ]
     },
     "execution_count": 33,
     "metadata": {},
     "output_type": "execute_result"
    },
    {
     "data": {
      "text/plain": [
       "73; 0.424;0.069143;0.833333; {min=-0.647, max=0.247}; {min=-0.403, max=0.304}; {0,1,1,0,0,1,1,0,0,1,1,0}\n",
       "\t\n"
      ]
     },
     "execution_count": 33,
     "metadata": {},
     "output_type": "execute_result"
    },
    {
     "data": {
      "text/plain": [
       "74; 0.416;0.055409;0.600000; {min=-0.647, max=0.247}; {min=-0.403, max=0.267}; {0,1,1,0,0,1,1,0,1,0,1,0}\n",
       "\t\n"
      ]
     },
     "execution_count": 33,
     "metadata": {},
     "output_type": "execute_result"
    },
    {
     "data": {
      "text/plain": [
       "75; 0.408;0.093926;0.240000; {min=-0.647, max=0.000}; {min=-0.403, max=0.515}; {0,1,0,1,1,0,1,0,1,0,0,1}\n",
       "\t\n"
      ]
     },
     "execution_count": 33,
     "metadata": {},
     "output_type": "execute_result"
    },
    {
     "data": {
      "text/plain": [
       "76; 0.400;0.192580;0.714286; {min=-0.647, max=0.214}; {min=-0.403, max=0.725}; {0,1,0,1,0,1,1,0,0,1,1,0}\n",
       "\t\n"
      ]
     },
     "execution_count": 33,
     "metadata": {},
     "output_type": "execute_result"
    },
    {
     "data": {
      "text/plain": [
       "77; 0.392;0.068588;0.000000; {min=-1.000, max=0.000}; {min=-0.403, max=0.178}; {1,0,0,1,1,0,1,0,1,0,1,0}\n",
       "\t\n"
      ]
     },
     "execution_count": 33,
     "metadata": {},
     "output_type": "execute_result"
    },
    {
     "data": {
      "text/plain": [
       "78; 0.384;0.069065;0.833333; {min=-0.647, max=0.247}; {min=-0.403, max=0.303}; {0,1,1,0,0,1,1,0,0,1,1,0}\n",
       "\t\n"
      ]
     },
     "execution_count": 33,
     "metadata": {},
     "output_type": "execute_result"
    },
    {
     "data": {
      "text/plain": [
       "79; 0.376;0.055299;0.600000; {min=-0.647, max=0.247}; {min=-0.403, max=0.267}; {0,1,1,0,0,1,1,0,1,0,1,0}\n",
       "\t\n"
      ]
     },
     "execution_count": 33,
     "metadata": {},
     "output_type": "execute_result"
    },
    {
     "data": {
      "text/plain": [
       "80; 0.368;0.063801;0.206897; {min=-0.647, max=0.000}; {min=-0.464, max=0.406}; {0,1,0,1,1,0,0,1,1,0,0,1}\n",
       "\t\n"
      ]
     },
     "execution_count": 33,
     "metadata": {},
     "output_type": "execute_result"
    },
    {
     "data": {
      "text/plain": [
       "81; 0.360;0.055254;0.600000; {min=-0.647, max=0.247}; {min=-0.403, max=0.267}; {0,1,1,0,0,1,1,0,1,0,1,0}\n",
       "\t\n"
      ]
     },
     "execution_count": 33,
     "metadata": {},
     "output_type": "execute_result"
    },
    {
     "data": {
      "text/plain": [
       "82; 0.352;0.058536;0.240000; {min=-0.647, max=0.000}; {min=-0.465, max=0.406}; {0,1,0,1,1,0,0,1,1,0,1,0}\n",
       "\t\n"
      ]
     },
     "execution_count": 33,
     "metadata": {},
     "output_type": "execute_result"
    },
    {
     "data": {
      "text/plain": [
       "83; 0.344;0.068986;0.833333; {min=-0.647, max=0.247}; {min=-0.404, max=0.303}; {0,1,1,0,0,1,1,0,0,1,1,0}\n",
       "\t\n"
      ]
     },
     "execution_count": 33,
     "metadata": {},
     "output_type": "execute_result"
    },
    {
     "data": {
      "text/plain": [
       "84; 0.336;0.052685;0.500000; {min=-0.647, max=0.247}; {min=-0.404, max=0.266}; {0,1,1,0,0,1,1,0,1,0,0,1}\n",
       "\t\n"
      ]
     },
     "execution_count": 33,
     "metadata": {},
     "output_type": "execute_result"
    },
    {
     "data": {
      "text/plain": [
       "85; 0.328;0.065598;0.560000; {min=-0.647, max=0.314}; {min=-0.404, max=0.378}; {0,1,1,0,1,0,1,0,0,1,0,1}\n",
       "\t\n"
      ]
     },
     "execution_count": 33,
     "metadata": {},
     "output_type": "execute_result"
    },
    {
     "data": {
      "text/plain": [
       "86; 0.320;0.055145;0.600000; {min=-0.647, max=0.247}; {min=-0.404, max=0.266}; {0,1,1,0,0,1,1,0,1,0,1,0}\n",
       "\t\n"
      ]
     },
     "execution_count": 33,
     "metadata": {},
     "output_type": "execute_result"
    },
    {
     "data": {
      "text/plain": [
       "87; 0.312;0.093434;0.240000; {min=-0.647, max=0.000}; {min=-0.404, max=0.514}; {0,1,0,1,1,0,1,0,1,0,0,1}\n",
       "\t\n"
      ]
     },
     "execution_count": 33,
     "metadata": {},
     "output_type": "execute_result"
    },
    {
     "data": {
      "text/plain": [
       "88; 0.304;0.055101;0.600000; {min=-0.647, max=0.247}; {min=-0.404, max=0.266}; {0,1,1,0,0,1,1,0,1,0,1,0}\n",
       "\t\n"
      ]
     },
     "execution_count": 33,
     "metadata": {},
     "output_type": "execute_result"
    },
    {
     "data": {
      "text/plain": [
       "89; 0.296;0.055079;0.600000; {min=-0.647, max=0.247}; {min=-0.404, max=0.266}; {0,1,1,0,0,1,1,0,1,0,1,0}\n",
       "\t\n"
      ]
     },
     "execution_count": 33,
     "metadata": {},
     "output_type": "execute_result"
    },
    {
     "data": {
      "text/plain": [
       "90; 0.288;0.049178;0.352941; {min=-0.647, max=0.000}; {min=-0.404, max=0.238}; {0,1,1,0,1,0,1,0,1,0,1,0}\n",
       "\t\n"
      ]
     },
     "execution_count": 33,
     "metadata": {},
     "output_type": "execute_result"
    },
    {
     "data": {
      "text/plain": [
       "91; 0.280;0.055033;0.600000; {min=-0.647, max=0.247}; {min=-0.404, max=0.266}; {0,1,1,0,0,1,1,0,1,0,1,0}\n",
       "\t\n"
      ]
     },
     "execution_count": 33,
     "metadata": {},
     "output_type": "execute_result"
    },
    {
     "data": {
      "text/plain": [
       "92; 0.272;0.055010;0.600000; {min=-0.647, max=0.247}; {min=-0.404, max=0.266}; {0,1,1,0,0,1,1,0,1,0,1,0}\n",
       "\t\n"
      ]
     },
     "execution_count": 33,
     "metadata": {},
     "output_type": "execute_result"
    },
    {
     "data": {
      "text/plain": [
       "93; 0.264;0.152834;0.500000; {min=-0.647, max=0.247}; {min=-0.404, max=0.666}; {0,1,1,0,0,1,0,1,1,0,1,0}\n",
       "\t\n"
      ]
     },
     "execution_count": 33,
     "metadata": {},
     "output_type": "execute_result"
    },
    {
     "data": {
      "text/plain": [
       "94; 0.256;0.052485;0.500000; {min=-0.647, max=0.247}; {min=-0.404, max=0.266}; {0,1,1,0,0,1,1,0,1,0,0,1}\n",
       "\t\n"
      ]
     },
     "execution_count": 33,
     "metadata": {},
     "output_type": "execute_result"
    },
    {
     "data": {
      "text/plain": [
       "95; 0.248;0.054937;0.600000; {min=-0.647, max=0.247}; {min=-0.404, max=0.266}; {0,1,1,0,0,1,1,0,1,0,1,0}\n",
       "\t\n"
      ]
     },
     "execution_count": 33,
     "metadata": {},
     "output_type": "execute_result"
    },
    {
     "data": {
      "text/plain": [
       "96; 0.240;0.068337;0.000000; {min=-1.000, max=0.000}; {min=-0.404, max=0.177}; {1,0,0,1,1,0,1,0,1,0,1,0}\n",
       "\t\n"
      ]
     },
     "execution_count": 33,
     "metadata": {},
     "output_type": "execute_result"
    },
    {
     "data": {
      "text/plain": [
       "97; 0.232;0.049017;0.352941; {min=-0.647, max=0.000}; {min=-0.404, max=0.237}; {0,1,1,0,1,0,1,0,1,0,1,0}\n",
       "\t\n"
      ]
     },
     "execution_count": 33,
     "metadata": {},
     "output_type": "execute_result"
    },
    {
     "data": {
      "text/plain": [
       "98; 0.224;0.054865;0.600000; {min=-0.647, max=0.247}; {min=-0.404, max=0.265}; {0,1,1,0,0,1,1,0,1,0,1,0}\n",
       "\t\n"
      ]
     },
     "execution_count": 33,
     "metadata": {},
     "output_type": "execute_result"
    },
    {
     "data": {
      "text/plain": [
       "99; 0.216;0.068297;0.000000; {min=-1.000, max=0.000}; {min=-0.404, max=0.177}; {1,0,0,1,1,0,1,0,1,0,1,0}\n",
       "\t\n"
      ]
     },
     "execution_count": 33,
     "metadata": {},
     "output_type": "execute_result"
    },
    {
     "data": {
      "text/plain": [
       "100; 0.208;0.054819;0.600000; {min=-0.647, max=0.247}; {min=-0.404, max=0.265}; {0,1,1,0,0,1,1,0,1,0,1,0}\n",
       "\t\n"
      ]
     },
     "execution_count": 33,
     "metadata": {},
     "output_type": "execute_result"
    },
    {
     "data": {
      "text/plain": [
       "101; 0.200;0.054796;0.600000; {min=-0.647, max=0.247}; {min=-0.404, max=0.265}; {0,1,1,0,0,1,1,0,1,0,1,0}\n",
       "\t\n"
      ]
     },
     "execution_count": 33,
     "metadata": {},
     "output_type": "execute_result"
    },
    {
     "data": {
      "text/plain": [
       "102; 0.192;0.195989;0.500000; {min=-0.647, max=0.214}; {min=-0.404, max=0.665}; {0,1,0,1,0,1,1,0,1,0,1,0}\n",
       "\t\n"
      ]
     },
     "execution_count": 33,
     "metadata": {},
     "output_type": "execute_result"
    },
    {
     "data": {
      "text/plain": [
       "103; 0.184;0.054747;0.600000; {min=-0.647, max=0.247}; {min=-0.404, max=0.265}; {0,1,1,0,0,1,1,0,1,0,1,0}\n",
       "\t\n"
      ]
     },
     "execution_count": 33,
     "metadata": {},
     "output_type": "execute_result"
    },
    {
     "data": {
      "text/plain": [
       "104; 0.176;0.054721;0.600000; {min=-0.647, max=0.247}; {min=-0.405, max=0.265}; {0,1,1,0,0,1,1,0,1,0,1,0}\n",
       "\t\n"
      ]
     },
     "execution_count": 33,
     "metadata": {},
     "output_type": "execute_result"
    },
    {
     "data": {
      "text/plain": [
       "105; 0.168;0.068209;0.000000; {min=-1.000, max=0.000}; {min=-0.405, max=0.177}; {1,0,0,1,1,0,1,0,1,0,1,0}\n",
       "\t\n"
      ]
     },
     "execution_count": 33,
     "metadata": {},
     "output_type": "execute_result"
    },
    {
     "data": {
      "text/plain": [
       "106; 0.160;0.054670;0.600000; {min=-0.647, max=0.247}; {min=-0.405, max=0.265}; {0,1,1,0,0,1,1,0,1,0,1,0}\n",
       "\t\n"
      ]
     },
     "execution_count": 33,
     "metadata": {},
     "output_type": "execute_result"
    },
    {
     "data": {
      "text/plain": [
       "107; 0.152;0.054646;0.600000; {min=-0.647, max=0.247}; {min=-0.405, max=0.264}; {0,1,1,0,0,1,1,0,1,0,1,0}\n",
       "\t\n"
      ]
     },
     "execution_count": 33,
     "metadata": {},
     "output_type": "execute_result"
    },
    {
     "data": {
      "text/plain": [
       "108; 0.144;0.048767;0.352941; {min=-0.647, max=0.000}; {min=-0.405, max=0.236}; {0,1,1,0,1,0,1,0,1,0,1,0}\n",
       "\t\n"
      ]
     },
     "execution_count": 33,
     "metadata": {},
     "output_type": "execute_result"
    },
    {
     "data": {
      "text/plain": [
       "109; 0.136;0.068532;0.833333; {min=-0.647, max=0.247}; {min=-0.405, max=0.301}; {0,1,1,0,0,1,1,0,0,1,1,0}\n",
       "\t\n"
      ]
     },
     "execution_count": 33,
     "metadata": {},
     "output_type": "execute_result"
    },
    {
     "data": {
      "text/plain": [
       "110; 0.128;0.054572;0.600000; {min=-0.647, max=0.247}; {min=-0.405, max=0.264}; {0,1,1,0,0,1,1,0,1,0,1,0}\n",
       "\t\n"
      ]
     },
     "execution_count": 33,
     "metadata": {},
     "output_type": "execute_result"
    },
    {
     "data": {
      "text/plain": [
       "111; 0.120;0.134426;0.285714; {min=-0.647, max=0.000}; {min=-0.405, max=0.512}; {0,1,0,1,1,0,1,0,1,0,1,0}\n",
       "\t\n"
      ]
     },
     "execution_count": 33,
     "metadata": {},
     "output_type": "execute_result"
    },
    {
     "data": {
      "text/plain": [
       "112; 0.112;0.054522;0.600000; {min=-0.647, max=0.247}; {min=-0.405, max=0.264}; {0,1,1,0,0,1,1,0,1,0,1,0}\n",
       "\t\n"
      ]
     },
     "execution_count": 33,
     "metadata": {},
     "output_type": "execute_result"
    },
    {
     "data": {
      "text/plain": [
       "113; 0.104;0.151876;0.500000; {min=-0.647, max=0.247}; {min=-0.405, max=0.664}; {0,1,1,0,0,1,0,1,1,0,1,0}\n",
       "\t\n"
      ]
     },
     "execution_count": 33,
     "metadata": {},
     "output_type": "execute_result"
    },
    {
     "data": {
      "text/plain": [
       "114; 0.100;0.151820;0.500000; {min=-0.647, max=0.247}; {min=-0.405, max=0.664}; {0,1,1,0,0,1,0,1,1,0,1,0}\n",
       "\t\n"
      ]
     },
     "execution_count": 33,
     "metadata": {},
     "output_type": "execute_result"
    },
    {
     "data": {
      "text/plain": [
       "115; 0.100;0.054439;0.600000; {min=-0.647, max=0.247}; {min=-0.405, max=0.264}; {0,1,1,0,0,1,1,0,1,0,1,0}\n",
       "\t\n"
      ]
     },
     "execution_count": 33,
     "metadata": {},
     "output_type": "execute_result"
    },
    {
     "data": {
      "text/plain": [
       "116; 0.100;0.054410;0.600000; {min=-0.647, max=0.247}; {min=-0.405, max=0.264}; {0,1,1,0,0,1,1,0,1,0,1,0}\n",
       "\t\n"
      ]
     },
     "execution_count": 33,
     "metadata": {},
     "output_type": "execute_result"
    },
    {
     "data": {
      "text/plain": [
       "117; 0.100;0.054382;0.600000; {min=-0.647, max=0.247}; {min=-0.405, max=0.263}; {0,1,1,0,0,1,1,0,1,0,1,0}\n",
       "\t\n"
      ]
     },
     "execution_count": 33,
     "metadata": {},
     "output_type": "execute_result"
    },
    {
     "data": {
      "text/plain": [
       "118; 0.100;0.054354;0.600000; {min=-0.647, max=0.247}; {min=-0.405, max=0.263}; {0,1,1,0,0,1,1,0,1,0,1,0}\n",
       "\t\n"
      ]
     },
     "execution_count": 33,
     "metadata": {},
     "output_type": "execute_result"
    },
    {
     "data": {
      "text/plain": [
       "119; 0.100;0.054326;0.600000; {min=-0.647, max=0.247}; {min=-0.405, max=0.263}; {0,1,1,0,0,1,1,0,1,0,1,0}\n",
       "\t\n"
      ]
     },
     "execution_count": 33,
     "metadata": {},
     "output_type": "execute_result"
    },
    {
     "data": {
      "text/plain": [
       "120; 0.100;0.067980;0.000000; {min=-1.000, max=0.000}; {min=-0.405, max=0.176}; {1,0,0,1,1,0,1,0,1,0,1,0}\n",
       "\t\n"
      ]
     },
     "execution_count": 33,
     "metadata": {},
     "output_type": "execute_result"
    },
    {
     "data": {
      "text/plain": [
       "121; 0.100;0.054274;0.600000; {min=-0.647, max=0.247}; {min=-0.405, max=0.263}; {0,1,1,0,0,1,1,0,1,0,1,0}\n",
       "\t\n"
      ]
     },
     "execution_count": 33,
     "metadata": {},
     "output_type": "execute_result"
    },
    {
     "data": {
      "text/plain": [
       "122; 0.100;0.054248;0.600000; {min=-0.647, max=0.247}; {min=-0.405, max=0.263}; {0,1,1,0,0,1,1,0,1,0,1,0}\n",
       "\t\n"
      ]
     },
     "execution_count": 33,
     "metadata": {},
     "output_type": "execute_result"
    },
    {
     "data": {
      "text/plain": [
       "123; 0.100;0.068252;0.833333; {min=-0.647, max=0.247}; {min=-0.406, max=0.299}; {0,1,1,0,0,1,1,0,0,1,1,0}\n",
       "\t\n"
      ]
     },
     "execution_count": 33,
     "metadata": {},
     "output_type": "execute_result"
    },
    {
     "data": {
      "text/plain": [
       "124; 0.100;0.054197;0.600000; {min=-0.647, max=0.247}; {min=-0.406, max=0.263}; {0,1,1,0,0,1,1,0,1,0,1,0}\n",
       "\t\n"
      ]
     },
     "execution_count": 33,
     "metadata": {},
     "output_type": "execute_result"
    },
    {
     "data": {
      "text/plain": [
       "125; 0.100;0.054172;0.600000; {min=-0.647, max=0.247}; {min=-0.406, max=0.263}; {0,1,1,0,0,1,1,0,1,0,1,0}\n",
       "\t\n"
      ]
     },
     "execution_count": 33,
     "metadata": {},
     "output_type": "execute_result"
    },
    {
     "data": {
      "text/plain": [
       "126; 0.100;0.054147;0.600000; {min=-0.647, max=0.247}; {min=-0.406, max=0.263}; {0,1,1,0,0,1,1,0,1,0,1,0}\n",
       "\t\n"
      ]
     },
     "execution_count": 33,
     "metadata": {},
     "output_type": "execute_result"
    },
    {
     "data": {
      "text/plain": [
       "127; 0.100;0.054122;0.600000; {min=-0.647, max=0.247}; {min=-0.406, max=0.262}; {0,1,1,0,0,1,1,0,1,0,1,0}\n",
       "\t\n"
      ]
     },
     "execution_count": 33,
     "metadata": {},
     "output_type": "execute_result"
    },
    {
     "data": {
      "text/plain": [
       "128; 0.100;0.068157;0.833333; {min=-0.647, max=0.247}; {min=-0.406, max=0.299}; {0,1,1,0,0,1,1,0,0,1,1,0}\n",
       "\t\n"
      ]
     },
     "execution_count": 33,
     "metadata": {},
     "output_type": "execute_result"
    },
    {
     "data": {
      "text/plain": [
       "129; 0.100;0.054072;0.600000; {min=-0.647, max=0.247}; {min=-0.406, max=0.262}; {0,1,1,0,0,1,1,0,1,0,1,0}\n",
       "\t\n"
      ]
     },
     "execution_count": 33,
     "metadata": {},
     "output_type": "execute_result"
    },
    {
     "data": {
      "text/plain": [
       "130; 0.100;0.054046;0.600000; {min=-0.647, max=0.247}; {min=-0.406, max=0.262}; {0,1,1,0,0,1,1,0,1,0,1,0}\n",
       "\t\n"
      ]
     },
     "execution_count": 33,
     "metadata": {},
     "output_type": "execute_result"
    },
    {
     "data": {
      "text/plain": [
       "131; 0.100;0.054021;0.600000; {min=-0.647, max=0.247}; {min=-0.406, max=0.262}; {0,1,1,0,0,1,1,0,1,0,1,0}\n",
       "\t\n"
      ]
     },
     "execution_count": 33,
     "metadata": {},
     "output_type": "execute_result"
    },
    {
     "data": {
      "text/plain": [
       "132; 0.100;0.053997;0.600000; {min=-0.647, max=0.247}; {min=-0.406, max=0.262}; {0,1,1,0,0,1,1,0,1,0,1,0}\n",
       "\t\n"
      ]
     },
     "execution_count": 33,
     "metadata": {},
     "output_type": "execute_result"
    },
    {
     "data": {
      "text/plain": [
       "133; 0.100;0.053972;0.600000; {min=-0.647, max=0.247}; {min=-0.406, max=0.262}; {0,1,1,0,0,1,1,0,1,0,1,0}\n",
       "\t\n"
      ]
     },
     "execution_count": 33,
     "metadata": {},
     "output_type": "execute_result"
    },
    {
     "data": {
      "text/plain": [
       "134; 0.100;0.053947;0.600000; {min=-0.647, max=0.247}; {min=-0.406, max=0.262}; {0,1,1,0,0,1,1,0,1,0,1,0}\n",
       "\t\n"
      ]
     },
     "execution_count": 33,
     "metadata": {},
     "output_type": "execute_result"
    },
    {
     "data": {
      "text/plain": [
       "135; 0.100;0.053922;0.600000; {min=-0.647, max=0.247}; {min=-0.406, max=0.262}; {0,1,1,0,0,1,1,0,1,0,1,0}\n",
       "\t\n"
      ]
     },
     "execution_count": 33,
     "metadata": {},
     "output_type": "execute_result"
    },
    {
     "data": {
      "text/plain": [
       "136; 0.100;0.053898;0.600000; {min=-0.647, max=0.247}; {min=-0.406, max=0.262}; {0,1,1,0,0,1,1,0,1,0,1,0}\n",
       "\t\n"
      ]
     },
     "execution_count": 33,
     "metadata": {},
     "output_type": "execute_result"
    },
    {
     "data": {
      "text/plain": [
       "137; 0.100;0.053873;0.600000; {min=-0.647, max=0.247}; {min=-0.406, max=0.262}; {0,1,1,0,0,1,1,0,1,0,1,0}\n",
       "\t\n"
      ]
     },
     "execution_count": 33,
     "metadata": {},
     "output_type": "execute_result"
    },
    {
     "data": {
      "text/plain": [
       "138; 0.100;0.053849;0.600000; {min=-0.647, max=0.247}; {min=-0.406, max=0.261}; {0,1,1,0,0,1,1,0,1,0,1,0}\n",
       "\t\n"
      ]
     },
     "execution_count": 33,
     "metadata": {},
     "output_type": "execute_result"
    },
    {
     "data": {
      "text/plain": [
       "139; 0.100;0.053824;0.600000; {min=-0.647, max=0.247}; {min=-0.406, max=0.261}; {0,1,1,0,0,1,1,0,1,0,1,0}\n",
       "\t\n"
      ]
     },
     "execution_count": 33,
     "metadata": {},
     "output_type": "execute_result"
    },
    {
     "data": {
      "text/plain": [
       "140; 0.100;0.053800;0.600000; {min=-0.647, max=0.247}; {min=-0.406, max=0.261}; {0,1,1,0,0,1,1,0,1,0,1,0}\n",
       "\t\n"
      ]
     },
     "execution_count": 33,
     "metadata": {},
     "output_type": "execute_result"
    },
    {
     "data": {
      "text/plain": [
       "141; 0.100;0.053775;0.600000; {min=-0.647, max=0.247}; {min=-0.406, max=0.261}; {0,1,1,0,0,1,1,0,1,0,1,0}\n",
       "\t\n"
      ]
     },
     "execution_count": 33,
     "metadata": {},
     "output_type": "execute_result"
    },
    {
     "data": {
      "text/plain": [
       "142; 0.100;0.053751;0.600000; {min=-0.647, max=0.247}; {min=-0.406, max=0.261}; {0,1,1,0,0,1,1,0,1,0,1,0}\n",
       "\t\n"
      ]
     },
     "execution_count": 33,
     "metadata": {},
     "output_type": "execute_result"
    },
    {
     "data": {
      "text/plain": [
       "143; 0.100;0.053727;0.600000; {min=-0.647, max=0.247}; {min=-0.406, max=0.261}; {0,1,1,0,0,1,1,0,1,0,1,0}\n",
       "\t\n"
      ]
     },
     "execution_count": 33,
     "metadata": {},
     "output_type": "execute_result"
    },
    {
     "data": {
      "text/plain": [
       "144; 0.100;0.053703;0.600000; {min=-0.647, max=0.247}; {min=-0.406, max=0.261}; {0,1,1,0,0,1,1,0,1,0,1,0}\n",
       "\t\n"
      ]
     },
     "execution_count": 33,
     "metadata": {},
     "output_type": "execute_result"
    },
    {
     "data": {
      "text/plain": [
       "145; 0.100;0.053678;0.600000; {min=-0.647, max=0.247}; {min=-0.406, max=0.261}; {0,1,1,0,0,1,1,0,1,0,1,0}\n",
       "\t\n"
      ]
     },
     "execution_count": 33,
     "metadata": {},
     "output_type": "execute_result"
    },
    {
     "data": {
      "text/plain": [
       "146; 0.100;0.053654;0.600000; {min=-0.647, max=0.247}; {min=-0.407, max=0.261}; {0,1,1,0,0,1,1,0,1,0,1,0}\n",
       "\t\n"
      ]
     },
     "execution_count": 33,
     "metadata": {},
     "output_type": "execute_result"
    },
    {
     "data": {
      "text/plain": [
       "147; 0.100;0.053630;0.600000; {min=-0.647, max=0.247}; {min=-0.407, max=0.261}; {0,1,1,0,0,1,1,0,1,0,1,0}\n",
       "\t\n"
      ]
     },
     "execution_count": 33,
     "metadata": {},
     "output_type": "execute_result"
    },
    {
     "data": {
      "text/plain": [
       "148; 0.100;0.053606;0.600000; {min=-0.647, max=0.247}; {min=-0.407, max=0.260}; {0,1,1,0,0,1,1,0,1,0,1,0}\n",
       "\t\n"
      ]
     },
     "execution_count": 33,
     "metadata": {},
     "output_type": "execute_result"
    },
    {
     "data": {
      "text/plain": [
       "149; 0.100;0.053582;0.600000; {min=-0.647, max=0.247}; {min=-0.407, max=0.260}; {0,1,1,0,0,1,1,0,1,0,1,0}\n",
       "\t\n"
      ]
     },
     "execution_count": 33,
     "metadata": {},
     "output_type": "execute_result"
    },
    {
     "data": {
      "text/plain": [
       "150; 0.100;0.053557;0.600000; {min=-0.647, max=0.247}; {min=-0.407, max=0.260}; {0,1,1,0,0,1,1,0,1,0,1,0}\n",
       "\t\n"
      ]
     },
     "execution_count": 33,
     "metadata": {},
     "output_type": "execute_result"
    },
    {
     "data": {
      "text/plain": [
       "151; 0.100;0.053533;0.600000; {min=-0.647, max=0.247}; {min=-0.407, max=0.260}; {0,1,1,0,0,1,1,0,1,0,1,0}\n",
       "\t\n"
      ]
     },
     "execution_count": 33,
     "metadata": {},
     "output_type": "execute_result"
    },
    {
     "data": {
      "text/plain": [
       "152; 0.100;0.053509;0.600000; {min=-0.647, max=0.247}; {min=-0.407, max=0.260}; {0,1,1,0,0,1,1,0,1,0,1,0}\n",
       "\t\n"
      ]
     },
     "execution_count": 33,
     "metadata": {},
     "output_type": "execute_result"
    },
    {
     "data": {
      "text/plain": [
       "153; 0.100;0.053485;0.600000; {min=-0.647, max=0.247}; {min=-0.407, max=0.260}; {0,1,1,0,0,1,1,0,1,0,1,0}\n",
       "\t\n"
      ]
     },
     "execution_count": 33,
     "metadata": {},
     "output_type": "execute_result"
    },
    {
     "data": {
      "text/plain": [
       "154; 0.100;0.053461;0.600000; {min=-0.647, max=0.247}; {min=-0.407, max=0.260}; {0,1,1,0,0,1,1,0,1,0,1,0}\n",
       "\t\n"
      ]
     },
     "execution_count": 33,
     "metadata": {},
     "output_type": "execute_result"
    },
    {
     "data": {
      "text/plain": [
       "155; 0.100;0.053437;0.600000; {min=-0.647, max=0.247}; {min=-0.407, max=0.260}; {0,1,1,0,0,1,1,0,1,0,1,0}\n",
       "\t\n"
      ]
     },
     "execution_count": 33,
     "metadata": {},
     "output_type": "execute_result"
    },
    {
     "data": {
      "text/plain": [
       "156; 0.100;0.053413;0.600000; {min=-0.647, max=0.247}; {min=-0.407, max=0.260}; {0,1,1,0,0,1,1,0,1,0,1,0}\n",
       "\t\n"
      ]
     },
     "execution_count": 33,
     "metadata": {},
     "output_type": "execute_result"
    },
    {
     "data": {
      "text/plain": [
       "157; 0.100;0.047623;0.352941; {min=-0.647, max=0.000}; {min=-0.407, max=0.232}; {0,1,1,0,1,0,1,0,1,0,1,0}\n",
       "\t\n"
      ]
     },
     "execution_count": 33,
     "metadata": {},
     "output_type": "execute_result"
    },
    {
     "data": {
      "text/plain": [
       "158; 0.100;0.132166;0.285714; {min=-0.647, max=0.000}; {min=-0.407, max=0.508}; {0,1,0,1,1,0,1,0,1,0,1,0}\n",
       "\t\n"
      ]
     },
     "execution_count": 33,
     "metadata": {},
     "output_type": "execute_result"
    },
    {
     "data": {
      "text/plain": [
       "159; 0.100;0.067526;0.000000; {min=-1.000, max=0.000}; {min=-0.407, max=0.174}; {1,0,0,1,1,0,1,0,1,0,1,0}\n",
       "\t\n"
      ]
     },
     "execution_count": 33,
     "metadata": {},
     "output_type": "execute_result"
    },
    {
     "data": {
      "text/plain": [
       "160; 0.100;0.067549;0.833333; {min=-0.647, max=0.247}; {min=-0.407, max=0.295}; {0,1,1,0,0,1,1,0,0,1,1,0}\n",
       "\t\n"
      ]
     },
     "execution_count": 33,
     "metadata": {},
     "output_type": "execute_result"
    },
    {
     "data": {
      "text/plain": [
       "161; 0.100;0.053292;0.600000; {min=-0.647, max=0.247}; {min=-0.407, max=0.259}; {0,1,1,0,0,1,1,0,1,0,1,0}\n",
       "\t\n"
      ]
     },
     "execution_count": 33,
     "metadata": {},
     "output_type": "execute_result"
    },
    {
     "data": {
      "text/plain": [
       "162; 0.100;0.146270;0.714286; {min=-0.647, max=0.247}; {min=-0.407, max=0.717}; {0,1,1,0,0,1,0,1,0,1,1,0}\n",
       "\t\n"
      ]
     },
     "execution_count": 33,
     "metadata": {},
     "output_type": "execute_result"
    },
    {
     "data": {
      "text/plain": [
       "163; 0.100;0.053241;0.600000; {min=-0.647, max=0.247}; {min=-0.407, max=0.259}; {0,1,1,0,0,1,1,0,1,0,1,0}\n",
       "\t\n"
      ]
     },
     "execution_count": 33,
     "metadata": {},
     "output_type": "execute_result"
    },
    {
     "data": {
      "text/plain": [
       "164; 0.100;0.131849;0.285714; {min=-0.647, max=0.000}; {min=-0.407, max=0.508}; {0,1,0,1,1,0,1,0,1,0,1,0}\n",
       "\t\n"
      ]
     },
     "execution_count": 33,
     "metadata": {},
     "output_type": "execute_result"
    },
    {
     "data": {
      "text/plain": [
       "165; 0.100;0.053188;0.600000; {min=-0.647, max=0.247}; {min=-0.407, max=0.259}; {0,1,1,0,0,1,1,0,1,0,1,0}\n",
       "\t\n"
      ]
     },
     "execution_count": 33,
     "metadata": {},
     "output_type": "execute_result"
    },
    {
     "data": {
      "text/plain": [
       "166; 0.100;0.053162;0.600000; {min=-0.647, max=0.247}; {min=-0.407, max=0.259}; {0,1,1,0,0,1,1,0,1,0,1,0}\n",
       "\t\n"
      ]
     },
     "execution_count": 33,
     "metadata": {},
     "output_type": "execute_result"
    },
    {
     "data": {
      "text/plain": [
       "167; 0.100;0.131668;0.285714; {min=-0.647, max=0.000}; {min=-0.407, max=0.507}; {0,1,0,1,1,0,1,0,1,0,1,0}\n",
       "\t\n"
      ]
     },
     "execution_count": 33,
     "metadata": {},
     "output_type": "execute_result"
    },
    {
     "data": {
      "text/plain": [
       "168; 0.100;0.149373;0.500000; {min=-0.647, max=0.247}; {min=-0.408, max=0.659}; {0,1,1,0,0,1,0,1,1,0,1,0}\n",
       "\t\n"
      ]
     },
     "execution_count": 33,
     "metadata": {},
     "output_type": "execute_result"
    },
    {
     "data": {
      "text/plain": [
       "169; 0.100;0.053079;0.600000; {min=-0.647, max=0.247}; {min=-0.408, max=0.258}; {0,1,1,0,0,1,1,0,1,0,1,0}\n",
       "\t\n"
      ]
     },
     "execution_count": 33,
     "metadata": {},
     "output_type": "execute_result"
    },
    {
     "data": {
      "text/plain": [
       "170; 0.100;0.053051;0.600000; {min=-0.647, max=0.247}; {min=-0.408, max=0.258}; {0,1,1,0,0,1,1,0,1,0,1,0}\n",
       "\t\n"
      ]
     },
     "execution_count": 33,
     "metadata": {},
     "output_type": "execute_result"
    },
    {
     "data": {
      "text/plain": [
       "171; 0.100;0.053023;0.600000; {min=-0.647, max=0.247}; {min=-0.408, max=0.258}; {0,1,1,0,0,1,1,0,1,0,1,0}\n",
       "\t\n"
      ]
     },
     "execution_count": 33,
     "metadata": {},
     "output_type": "execute_result"
    },
    {
     "data": {
      "text/plain": [
       "172; 0.100;0.050914;0.500000; {min=-0.647, max=0.247}; {min=-0.408, max=0.258}; {0,1,1,0,0,1,1,0,1,0,0,1}\n",
       "\t\n"
      ]
     },
     "execution_count": 33,
     "metadata": {},
     "output_type": "execute_result"
    },
    {
     "data": {
      "text/plain": [
       "173; 0.100;0.052969;0.600000; {min=-0.647, max=0.247}; {min=-0.408, max=0.258}; {0,1,1,0,0,1,1,0,1,0,1,0}\n",
       "\t\n"
      ]
     },
     "execution_count": 33,
     "metadata": {},
     "output_type": "execute_result"
    },
    {
     "data": {
      "text/plain": [
       "174; 0.100;0.067296;0.000000; {min=-1.000, max=0.000}; {min=-0.408, max=0.173}; {1,0,0,1,1,0,1,0,1,0,1,0}\n",
       "\t\n"
      ]
     },
     "execution_count": 33,
     "metadata": {},
     "output_type": "execute_result"
    },
    {
     "data": {
      "text/plain": [
       "175; 0.100;0.052918;0.600000; {min=-0.647, max=0.247}; {min=-0.408, max=0.258}; {0,1,1,0,0,1,1,0,1,0,1,0}\n",
       "\t\n"
      ]
     },
     "execution_count": 33,
     "metadata": {},
     "output_type": "execute_result"
    },
    {
     "data": {
      "text/plain": [
       "176; 0.100;0.052893;0.600000; {min=-0.647, max=0.247}; {min=-0.408, max=0.258}; {0,1,1,0,0,1,1,0,1,0,1,0}\n",
       "\t\n"
      ]
     },
     "execution_count": 33,
     "metadata": {},
     "output_type": "execute_result"
    },
    {
     "data": {
      "text/plain": [
       "177; 0.100;0.052869;0.600000; {min=-0.647, max=0.247}; {min=-0.408, max=0.258}; {0,1,1,0,0,1,1,0,1,0,1,0}\n",
       "\t\n"
      ]
     },
     "execution_count": 33,
     "metadata": {},
     "output_type": "execute_result"
    },
    {
     "data": {
      "text/plain": [
       "178; 0.100;0.052845;0.600000; {min=-0.647, max=0.247}; {min=-0.408, max=0.258}; {0,1,1,0,0,1,1,0,1,0,1,0}\n",
       "\t\n"
      ]
     },
     "execution_count": 33,
     "metadata": {},
     "output_type": "execute_result"
    },
    {
     "data": {
      "text/plain": [
       "179; 0.100;0.052820;0.600000; {min=-0.647, max=0.247}; {min=-0.408, max=0.257}; {0,1,1,0,0,1,1,0,1,0,1,0}\n",
       "\t\n"
      ]
     },
     "execution_count": 33,
     "metadata": {},
     "output_type": "execute_result"
    },
    {
     "data": {
      "text/plain": [
       "180; 0.100;0.052796;0.600000; {min=-0.647, max=0.247}; {min=-0.408, max=0.257}; {0,1,1,0,0,1,1,0,1,0,1,0}\n",
       "\t\n"
      ]
     },
     "execution_count": 33,
     "metadata": {},
     "output_type": "execute_result"
    },
    {
     "data": {
      "text/plain": [
       "181; 0.100;0.052772;0.600000; {min=-0.647, max=0.247}; {min=-0.408, max=0.257}; {0,1,1,0,0,1,1,0,1,0,1,0}\n",
       "\t\n"
      ]
     },
     "execution_count": 33,
     "metadata": {},
     "output_type": "execute_result"
    },
    {
     "data": {
      "text/plain": [
       "182; 0.100;0.067137;0.833333; {min=-0.647, max=0.247}; {min=-0.408, max=0.293}; {0,1,1,0,0,1,1,0,0,1,1,0}\n",
       "\t\n"
      ]
     },
     "execution_count": 33,
     "metadata": {},
     "output_type": "execute_result"
    },
    {
     "data": {
      "text/plain": [
       "183; 0.100;0.052724;0.600000; {min=-0.647, max=0.247}; {min=-0.408, max=0.257}; {0,1,1,0,0,1,1,0,1,0,1,0}\n",
       "\t\n"
      ]
     },
     "execution_count": 33,
     "metadata": {},
     "output_type": "execute_result"
    },
    {
     "data": {
      "text/plain": [
       "184; 0.100;0.052700;0.600000; {min=-0.647, max=0.247}; {min=-0.408, max=0.257}; {0,1,1,0,0,1,1,0,1,0,1,0}\n",
       "\t\n"
      ]
     },
     "execution_count": 33,
     "metadata": {},
     "output_type": "execute_result"
    },
    {
     "data": {
      "text/plain": [
       "185; 0.100;0.052676;0.600000; {min=-0.647, max=0.247}; {min=-0.408, max=0.257}; {0,1,1,0,0,1,1,0,1,0,1,0}\n",
       "\t\n"
      ]
     },
     "execution_count": 33,
     "metadata": {},
     "output_type": "execute_result"
    },
    {
     "data": {
      "text/plain": [
       "186; 0.100;0.052652;0.600000; {min=-0.647, max=0.247}; {min=-0.408, max=0.257}; {0,1,1,0,0,1,1,0,1,0,1,0}\n",
       "\t\n"
      ]
     },
     "execution_count": 33,
     "metadata": {},
     "output_type": "execute_result"
    },
    {
     "data": {
      "text/plain": [
       "187; 0.100;0.052628;0.600000; {min=-0.647, max=0.247}; {min=-0.409, max=0.257}; {0,1,1,0,0,1,1,0,1,0,1,0}\n",
       "\t\n"
      ]
     },
     "execution_count": 33,
     "metadata": {},
     "output_type": "execute_result"
    },
    {
     "data": {
      "text/plain": [
       "188; 0.100;0.052604;0.600000; {min=-0.647, max=0.247}; {min=-0.409, max=0.257}; {0,1,1,0,0,1,1,0,1,0,1,0}\n",
       "\t\n"
      ]
     },
     "execution_count": 33,
     "metadata": {},
     "output_type": "execute_result"
    },
    {
     "data": {
      "text/plain": [
       "189; 0.100;0.052580;0.600000; {min=-0.647, max=0.247}; {min=-0.409, max=0.256}; {0,1,1,0,0,1,1,0,1,0,1,0}\n",
       "\t\n"
      ]
     },
     "execution_count": 33,
     "metadata": {},
     "output_type": "execute_result"
    },
    {
     "data": {
      "text/plain": [
       "190; 0.100;0.052557;0.600000; {min=-0.647, max=0.247}; {min=-0.409, max=0.256}; {0,1,1,0,0,1,1,0,1,0,1,0}\n",
       "\t\n"
      ]
     },
     "execution_count": 33,
     "metadata": {},
     "output_type": "execute_result"
    },
    {
     "data": {
      "text/plain": [
       "191; 0.100;0.052533;0.600000; {min=-0.647, max=0.247}; {min=-0.409, max=0.256}; {0,1,1,0,0,1,1,0,1,0,1,0}\n",
       "\t\n"
      ]
     },
     "execution_count": 33,
     "metadata": {},
     "output_type": "execute_result"
    },
    {
     "data": {
      "text/plain": [
       "192; 0.100;0.052510;0.600000; {min=-0.647, max=0.247}; {min=-0.409, max=0.256}; {0,1,1,0,0,1,1,0,1,0,1,0}\n",
       "\t\n"
      ]
     },
     "execution_count": 33,
     "metadata": {},
     "output_type": "execute_result"
    },
    {
     "data": {
      "text/plain": [
       "193; 0.100;0.052486;0.600000; {min=-0.647, max=0.247}; {min=-0.409, max=0.256}; {0,1,1,0,0,1,1,0,1,0,1,0}\n",
       "\t\n"
      ]
     },
     "execution_count": 33,
     "metadata": {},
     "output_type": "execute_result"
    },
    {
     "data": {
      "text/plain": [
       "194; 0.100;0.145337;0.714286; {min=-0.647, max=0.247}; {min=-0.409, max=0.714}; {0,1,1,0,0,1,0,1,0,1,1,0}\n",
       "\t\n"
      ]
     },
     "execution_count": 33,
     "metadata": {},
     "output_type": "execute_result"
    },
    {
     "data": {
      "text/plain": [
       "195; 0.100;0.052437;0.600000; {min=-0.647, max=0.247}; {min=-0.409, max=0.256}; {0,1,1,0,0,1,1,0,1,0,1,0}\n",
       "\t\n"
      ]
     },
     "execution_count": 33,
     "metadata": {},
     "output_type": "execute_result"
    },
    {
     "data": {
      "text/plain": [
       "196; 0.100;0.052412;0.600000; {min=-0.647, max=0.247}; {min=-0.409, max=0.256}; {0,1,1,0,0,1,1,0,1,0,1,0}\n",
       "\t\n"
      ]
     },
     "execution_count": 33,
     "metadata": {},
     "output_type": "execute_result"
    },
    {
     "data": {
      "text/plain": [
       "197; 0.100;0.093740;0.285714; {min=-0.647, max=0.000}; {min=-0.409, max=0.505}; {0,1,1,0,1,0,0,1,1,0,1,0}\n",
       "\t\n"
      ]
     },
     "execution_count": 33,
     "metadata": {},
     "output_type": "execute_result"
    },
    {
     "data": {
      "text/plain": [
       "198; 0.100;0.052361;0.600000; {min=-0.647, max=0.247}; {min=-0.409, max=0.256}; {0,1,1,0,0,1,1,0,1,0,1,0}\n",
       "\t\n"
      ]
     },
     "execution_count": 33,
     "metadata": {},
     "output_type": "execute_result"
    },
    {
     "data": {
      "text/plain": [
       "199; 0.100;0.057601;0.714286; {min=-0.647, max=0.247}; {min=-0.409, max=0.292}; {0,1,1,0,0,1,1,0,0,1,0,1}\n",
       "\t\n"
      ]
     },
     "execution_count": 33,
     "metadata": {},
     "output_type": "execute_result"
    },
    {
     "data": {
      "text/plain": [
       "200; 0.100;0.052312;0.600000; {min=-0.647, max=0.247}; {min=-0.409, max=0.255}; {0,1,1,0,0,1,1,0,1,0,1,0}\n",
       "\t\n"
      ]
     },
     "execution_count": 33,
     "metadata": {},
     "output_type": "execute_result"
    },
    {
     "data": {
      "text/plain": [
       "201; 0.100;0.052287;0.600000; {min=-0.647, max=0.247}; {min=-0.409, max=0.255}; {0,1,1,0,0,1,1,0,1,0,1,0}\n",
       "\t\n"
      ]
     },
     "execution_count": 33,
     "metadata": {},
     "output_type": "execute_result"
    },
    {
     "data": {
      "text/plain": [
       "202; 0.100;0.129858;0.285714; {min=-0.647, max=0.000}; {min=-0.409, max=0.505}; {0,1,0,1,1,0,1,0,1,0,1,0}\n",
       "\t\n"
      ]
     },
     "execution_count": 33,
     "metadata": {},
     "output_type": "execute_result"
    },
    {
     "data": {
      "text/plain": [
       "203; 0.100;0.052238;0.600000; {min=-0.647, max=0.247}; {min=-0.409, max=0.255}; {0,1,1,0,0,1,1,0,1,0,1,0}\n",
       "\t\n"
      ]
     },
     "execution_count": 33,
     "metadata": {},
     "output_type": "execute_result"
    },
    {
     "data": {
      "text/plain": [
       "204; 0.100;0.052213;0.600000; {min=-0.647, max=0.247}; {min=-0.409, max=0.255}; {0,1,1,0,0,1,1,0,1,0,1,0}\n",
       "\t\n"
      ]
     },
     "execution_count": 33,
     "metadata": {},
     "output_type": "execute_result"
    },
    {
     "data": {
      "text/plain": [
       "205; 0.100;0.129694;0.285714; {min=-0.647, max=0.000}; {min=-0.409, max=0.504}; {0,1,0,1,1,0,1,0,1,0,1,0}\n",
       "\t\n"
      ]
     },
     "execution_count": 33,
     "metadata": {},
     "output_type": "execute_result"
    },
    {
     "data": {
      "text/plain": [
       "206; 0.100;0.052162;0.600000; {min=-0.647, max=0.247}; {min=-0.409, max=0.255}; {0,1,1,0,0,1,1,0,1,0,1,0}\n",
       "\t\n"
      ]
     },
     "execution_count": 33,
     "metadata": {},
     "output_type": "execute_result"
    },
    {
     "data": {
      "text/plain": [
       "207; 0.100;0.052136;0.600000; {min=-0.647, max=0.247}; {min=-0.409, max=0.255}; {0,1,1,0,0,1,1,0,1,0,1,0}\n",
       "\t\n"
      ]
     },
     "execution_count": 33,
     "metadata": {},
     "output_type": "execute_result"
    },
    {
     "data": {
      "text/plain": [
       "208; 0.100;0.052111;0.600000; {min=-0.647, max=0.247}; {min=-0.409, max=0.255}; {0,1,1,0,0,1,1,0,1,0,1,0}\n",
       "\t\n"
      ]
     },
     "execution_count": 33,
     "metadata": {},
     "output_type": "execute_result"
    },
    {
     "data": {
      "text/plain": [
       "209; 0.100;0.052085;0.600000; {min=-0.647, max=0.247}; {min=-0.410, max=0.255}; {0,1,1,0,0,1,1,0,1,0,1,0}\n",
       "\t\n"
      ]
     },
     "execution_count": 33,
     "metadata": {},
     "output_type": "execute_result"
    },
    {
     "data": {
      "text/plain": [
       "210; 0.100;0.066639;0.833333; {min=-0.647, max=0.247}; {min=-0.410, max=0.291}; {0,1,1,0,0,1,1,0,0,1,1,0}\n",
       "\t\n"
      ]
     },
     "execution_count": 33,
     "metadata": {},
     "output_type": "execute_result"
    },
    {
     "data": {
      "text/plain": [
       "211; 0.100;0.066621;0.833333; {min=-0.647, max=0.247}; {min=-0.410, max=0.290}; {0,1,1,0,0,1,1,0,0,1,1,0}\n",
       "\t\n"
      ]
     },
     "execution_count": 33,
     "metadata": {},
     "output_type": "execute_result"
    },
    {
     "data": {
      "text/plain": [
       "212; 0.100;0.129297;0.285714; {min=-0.647, max=0.000}; {min=-0.410, max=0.504}; {0,1,0,1,1,0,1,0,1,0,1,0}\n",
       "\t\n"
      ]
     },
     "execution_count": 33,
     "metadata": {},
     "output_type": "execute_result"
    },
    {
     "data": {
      "text/plain": [
       "213; 0.100;0.051984;0.600000; {min=-0.647, max=0.247}; {min=-0.410, max=0.254}; {0,1,1,0,0,1,1,0,1,0,1,0}\n",
       "\t\n"
      ]
     },
     "execution_count": 33,
     "metadata": {},
     "output_type": "execute_result"
    },
    {
     "data": {
      "text/plain": [
       "214; 0.100;0.051958;0.600000; {min=-0.647, max=0.247}; {min=-0.410, max=0.254}; {0,1,1,0,0,1,1,0,1,0,1,0}\n",
       "\t\n"
      ]
     },
     "execution_count": 33,
     "metadata": {},
     "output_type": "execute_result"
    },
    {
     "data": {
      "text/plain": [
       "215; 0.100;0.051932;0.600000; {min=-0.647, max=0.247}; {min=-0.410, max=0.254}; {0,1,1,0,0,1,1,0,1,0,1,0}\n",
       "\t\n"
      ]
     },
     "execution_count": 33,
     "metadata": {},
     "output_type": "execute_result"
    },
    {
     "data": {
      "text/plain": [
       "216; 0.100;0.129062;0.285714; {min=-0.647, max=0.000}; {min=-0.410, max=0.504}; {0,1,0,1,1,0,1,0,1,0,1,0}\n",
       "\t\n"
      ]
     },
     "execution_count": 33,
     "metadata": {},
     "output_type": "execute_result"
    },
    {
     "data": {
      "text/plain": [
       "217; 0.100;0.066511;0.833333; {min=-0.647, max=0.247}; {min=-0.410, max=0.290}; {0,1,1,0,0,1,1,0,0,1,1,0}\n",
       "\t\n"
      ]
     },
     "execution_count": 33,
     "metadata": {},
     "output_type": "execute_result"
    },
    {
     "data": {
      "text/plain": [
       "218; 0.100;0.051855;0.600000; {min=-0.647, max=0.247}; {min=-0.410, max=0.254}; {0,1,1,0,0,1,1,0,1,0,1,0}\n",
       "\t\n"
      ]
     },
     "execution_count": 33,
     "metadata": {},
     "output_type": "execute_result"
    },
    {
     "data": {
      "text/plain": [
       "219; 0.100;0.051829;0.600000; {min=-0.647, max=0.247}; {min=-0.410, max=0.254}; {0,1,1,0,0,1,1,0,1,0,1,0}\n",
       "\t\n"
      ]
     },
     "execution_count": 33,
     "metadata": {},
     "output_type": "execute_result"
    },
    {
     "data": {
      "text/plain": [
       "220; 0.100;0.128818;0.285714; {min=-0.647, max=0.000}; {min=-0.410, max=0.503}; {0,1,0,1,1,0,1,0,1,0,1,0}\n",
       "\t\n"
      ]
     },
     "execution_count": 33,
     "metadata": {},
     "output_type": "execute_result"
    },
    {
     "data": {
      "text/plain": [
       "221; 0.100;0.051777;0.600000; {min=-0.647, max=0.247}; {min=-0.410, max=0.253}; {0,1,1,0,0,1,1,0,1,0,1,0}\n",
       "\t\n"
      ]
     },
     "execution_count": 33,
     "metadata": {},
     "output_type": "execute_result"
    },
    {
     "data": {
      "text/plain": [
       "222; 0.100;0.051750;0.600000; {min=-0.647, max=0.247}; {min=-0.410, max=0.253}; {0,1,1,0,0,1,1,0,1,0,1,0}\n",
       "\t\n"
      ]
     },
     "execution_count": 33,
     "metadata": {},
     "output_type": "execute_result"
    },
    {
     "data": {
      "text/plain": [
       "223; 0.100;0.051725;0.600000; {min=-0.647, max=0.247}; {min=-0.410, max=0.253}; {0,1,1,0,0,1,1,0,1,0,1,0}\n",
       "\t\n"
      ]
     },
     "execution_count": 33,
     "metadata": {},
     "output_type": "execute_result"
    },
    {
     "data": {
      "text/plain": [
       "224; 0.100;0.051699;0.600000; {min=-0.647, max=0.247}; {min=-0.410, max=0.253}; {0,1,1,0,0,1,1,0,1,0,1,0}\n",
       "\t\n"
      ]
     },
     "execution_count": 33,
     "metadata": {},
     "output_type": "execute_result"
    },
    {
     "data": {
      "text/plain": [
       "225; 0.100;0.051674;0.600000; {min=-0.647, max=0.247}; {min=-0.410, max=0.253}; {0,1,1,0,0,1,1,0,1,0,1,0}\n",
       "\t\n"
      ]
     },
     "execution_count": 33,
     "metadata": {},
     "output_type": "execute_result"
    },
    {
     "data": {
      "text/plain": [
       "226; 0.100;0.051650;0.600000; {min=-0.647, max=0.247}; {min=-0.410, max=0.253}; {0,1,1,0,0,1,1,0,1,0,1,0}\n",
       "\t\n"
      ]
     },
     "execution_count": 33,
     "metadata": {},
     "output_type": "execute_result"
    },
    {
     "data": {
      "text/plain": [
       "227; 0.100;0.051625;0.600000; {min=-0.647, max=0.247}; {min=-0.410, max=0.253}; {0,1,1,0,0,1,1,0,1,0,1,0}\n",
       "\t\n"
      ]
     },
     "execution_count": 33,
     "metadata": {},
     "output_type": "execute_result"
    },
    {
     "data": {
      "text/plain": [
       "228; 0.100;0.051601;0.600000; {min=-0.647, max=0.247}; {min=-0.411, max=0.253}; {0,1,1,0,0,1,1,0,1,0,1,0}\n",
       "\t\n"
      ]
     },
     "execution_count": 33,
     "metadata": {},
     "output_type": "execute_result"
    },
    {
     "data": {
      "text/plain": [
       "229; 0.100;0.051577;0.600000; {min=-0.647, max=0.247}; {min=-0.411, max=0.253}; {0,1,1,0,0,1,1,0,1,0,1,0}\n",
       "\t\n"
      ]
     },
     "execution_count": 33,
     "metadata": {},
     "output_type": "execute_result"
    },
    {
     "data": {
      "text/plain": [
       "230; 0.100;0.146384;0.500000; {min=-0.647, max=0.247}; {min=-0.411, max=0.653}; {0,1,1,0,0,1,0,1,1,0,1,0}\n",
       "\t\n"
      ]
     },
     "execution_count": 33,
     "metadata": {},
     "output_type": "execute_result"
    },
    {
     "data": {
      "text/plain": [
       "231; 0.100;0.051527;0.600000; {min=-0.647, max=0.247}; {min=-0.411, max=0.252}; {0,1,1,0,0,1,1,0,1,0,1,0}\n",
       "\t\n"
      ]
     },
     "execution_count": 33,
     "metadata": {},
     "output_type": "execute_result"
    },
    {
     "data": {
      "text/plain": [
       "232; 0.100;0.051502;0.600000; {min=-0.647, max=0.247}; {min=-0.411, max=0.252}; {0,1,1,0,0,1,1,0,1,0,1,0}\n",
       "\t\n"
      ]
     },
     "execution_count": 33,
     "metadata": {},
     "output_type": "execute_result"
    },
    {
     "data": {
      "text/plain": [
       "233; 0.100;0.051477;0.600000; {min=-0.647, max=0.247}; {min=-0.411, max=0.252}; {0,1,1,0,0,1,1,0,1,0,1,0}\n",
       "\t\n"
      ]
     },
     "execution_count": 33,
     "metadata": {},
     "output_type": "execute_result"
    },
    {
     "data": {
      "text/plain": [
       "234; 0.100;0.051452;0.600000; {min=-0.647, max=0.247}; {min=-0.411, max=0.252}; {0,1,1,0,0,1,1,0,1,0,1,0}\n",
       "\t\n"
      ]
     },
     "execution_count": 33,
     "metadata": {},
     "output_type": "execute_result"
    },
    {
     "data": {
      "text/plain": [
       "235; 0.100;0.051427;0.600000; {min=-0.647, max=0.247}; {min=-0.411, max=0.252}; {0,1,1,0,0,1,1,0,1,0,1,0}\n",
       "\t\n"
      ]
     },
     "execution_count": 33,
     "metadata": {},
     "output_type": "execute_result"
    },
    {
     "data": {
      "text/plain": [
       "236; 0.100;0.051403;0.600000; {min=-0.647, max=0.247}; {min=-0.411, max=0.252}; {0,1,1,0,0,1,1,0,1,0,1,0}\n",
       "\t\n"
      ]
     },
     "execution_count": 33,
     "metadata": {},
     "output_type": "execute_result"
    },
    {
     "data": {
      "text/plain": [
       "237; 0.100;0.086219;0.666667; {min=-0.647, max=0.314}; {min=-0.411, max=0.363}; {0,1,1,0,1,0,1,0,0,1,1,0}\n",
       "\t\n"
      ]
     },
     "execution_count": 33,
     "metadata": {},
     "output_type": "execute_result"
    },
    {
     "data": {
      "text/plain": [
       "238; 0.100;0.066131;0.833333; {min=-0.647, max=0.247}; {min=-0.411, max=0.288}; {0,1,1,0,0,1,1,0,0,1,1,0}\n",
       "\t\n"
      ]
     },
     "execution_count": 33,
     "metadata": {},
     "output_type": "execute_result"
    },
    {
     "data": {
      "text/plain": [
       "239; 0.100;0.066113;0.833333; {min=-0.647, max=0.247}; {min=-0.411, max=0.288}; {0,1,1,0,0,1,1,0,0,1,1,0}\n",
       "\t\n"
      ]
     },
     "execution_count": 33,
     "metadata": {},
     "output_type": "execute_result"
    },
    {
     "data": {
      "text/plain": [
       "240; 0.100;0.051303;0.600000; {min=-0.647, max=0.247}; {min=-0.411, max=0.251}; {0,1,1,0,0,1,1,0,1,0,1,0}\n",
       "\t\n"
      ]
     },
     "execution_count": 33,
     "metadata": {},
     "output_type": "execute_result"
    },
    {
     "data": {
      "text/plain": [
       "241; 0.100;0.143969;0.714286; {min=-0.647, max=0.247}; {min=-0.411, max=0.709}; {0,1,1,0,0,1,0,1,0,1,1,0}\n",
       "\t\n"
      ]
     },
     "execution_count": 33,
     "metadata": {},
     "output_type": "execute_result"
    },
    {
     "data": {
      "text/plain": [
       "242; 0.100;0.051252;0.600000; {min=-0.647, max=0.247}; {min=-0.411, max=0.251}; {0,1,1,0,0,1,1,0,1,0,1,0}\n",
       "\t\n"
      ]
     },
     "execution_count": 33,
     "metadata": {},
     "output_type": "execute_result"
    },
    {
     "data": {
      "text/plain": [
       "243; 0.100;0.051226;0.600000; {min=-0.647, max=0.247}; {min=-0.411, max=0.251}; {0,1,1,0,0,1,1,0,1,0,1,0}\n",
       "\t\n"
      ]
     },
     "execution_count": 33,
     "metadata": {},
     "output_type": "execute_result"
    },
    {
     "data": {
      "text/plain": [
       "244; 0.100;0.051200;0.600000; {min=-0.647, max=0.247}; {min=-0.411, max=0.251}; {0,1,1,0,0,1,1,0,1,0,1,0}\n",
       "\t\n"
      ]
     },
     "execution_count": 33,
     "metadata": {},
     "output_type": "execute_result"
    },
    {
     "data": {
      "text/plain": [
       "245; 0.100;0.051175;0.600000; {min=-0.647, max=0.247}; {min=-0.411, max=0.251}; {0,1,1,0,0,1,1,0,1,0,1,0}\n",
       "\t\n"
      ]
     },
     "execution_count": 33,
     "metadata": {},
     "output_type": "execute_result"
    },
    {
     "data": {
      "text/plain": [
       "246; 0.100;0.145633;0.500000; {min=-0.647, max=0.247}; {min=-0.411, max=0.651}; {0,1,1,0,0,1,0,1,1,0,1,0}\n",
       "\t\n"
      ]
     },
     "execution_count": 33,
     "metadata": {},
     "output_type": "execute_result"
    },
    {
     "data": {
      "text/plain": [
       "247; 0.100;0.051123;0.600000; {min=-0.647, max=0.247}; {min=-0.411, max=0.251}; {0,1,1,0,0,1,1,0,1,0,1,0}\n",
       "\t\n"
      ]
     },
     "execution_count": 33,
     "metadata": {},
     "output_type": "execute_result"
    },
    {
     "data": {
      "text/plain": [
       "248; 0.100;0.051097;0.600000; {min=-0.647, max=0.247}; {min=-0.411, max=0.251}; {0,1,1,0,0,1,1,0,1,0,1,0}\n",
       "\t\n"
      ]
     },
     "execution_count": 33,
     "metadata": {},
     "output_type": "execute_result"
    },
    {
     "data": {
      "text/plain": [
       "249; 0.100;0.051071;0.600000; {min=-0.647, max=0.247}; {min=-0.412, max=0.251}; {0,1,1,0,0,1,1,0,1,0,1,0}\n",
       "\t\n"
      ]
     },
     "execution_count": 33,
     "metadata": {},
     "output_type": "execute_result"
    },
    {
     "data": {
      "text/plain": [
       "250; 0.100;0.045374;0.352941; {min=-0.647, max=0.000}; {min=-0.412, max=0.224}; {0,1,1,0,1,0,1,0,1,0,1,0}\n",
       "\t\n"
      ]
     },
     "execution_count": 33,
     "metadata": {},
     "output_type": "execute_result"
    },
    {
     "data": {
      "text/plain": [
       "251; 0.100;0.051021;0.600000; {min=-0.647, max=0.247}; {min=-0.412, max=0.250}; {0,1,1,0,0,1,1,0,1,0,1,0}\n",
       "\t\n"
      ]
     },
     "execution_count": 33,
     "metadata": {},
     "output_type": "execute_result"
    },
    {
     "data": {
      "text/plain": [
       "252; 0.100;0.050996;0.600000; {min=-0.647, max=0.247}; {min=-0.412, max=0.250}; {0,1,1,0,0,1,1,0,1,0,1,0}\n",
       "\t\n"
      ]
     },
     "execution_count": 33,
     "metadata": {},
     "output_type": "execute_result"
    },
    {
     "data": {
      "text/plain": [
       "253; 0.100;0.050972;0.600000; {min=-0.647, max=0.247}; {min=-0.412, max=0.250}; {0,1,1,0,0,1,1,0,1,0,1,0}\n",
       "\t\n"
      ]
     },
     "execution_count": 33,
     "metadata": {},
     "output_type": "execute_result"
    },
    {
     "data": {
      "text/plain": [
       "254; 0.100;0.050948;0.600000; {min=-0.647, max=0.247}; {min=-0.412, max=0.250}; {0,1,1,0,0,1,1,0,1,0,1,0}\n",
       "\t\n"
      ]
     },
     "execution_count": 33,
     "metadata": {},
     "output_type": "execute_result"
    },
    {
     "data": {
      "text/plain": [
       "255; 0.100;0.145212;0.500000; {min=-0.647, max=0.247}; {min=-0.412, max=0.651}; {0,1,1,0,0,1,0,1,1,0,1,0}\n",
       "\t\n"
      ]
     },
     "execution_count": 33,
     "metadata": {},
     "output_type": "execute_result"
    },
    {
     "data": {
      "text/plain": [
       "256; 0.100;0.050899;0.600000; {min=-0.647, max=0.247}; {min=-0.412, max=0.250}; {0,1,1,0,0,1,1,0,1,0,1,0}\n",
       "\t\n"
      ]
     },
     "execution_count": 33,
     "metadata": {},
     "output_type": "execute_result"
    },
    {
     "data": {
      "text/plain": [
       "257; 0.100;0.050874;0.600000; {min=-0.647, max=0.247}; {min=-0.412, max=0.250}; {0,1,1,0,0,1,1,0,1,0,1,0}\n",
       "\t\n"
      ]
     },
     "execution_count": 33,
     "metadata": {},
     "output_type": "execute_result"
    },
    {
     "data": {
      "text/plain": [
       "258; 0.100;0.050849;0.600000; {min=-0.647, max=0.247}; {min=-0.412, max=0.250}; {0,1,1,0,0,1,1,0,1,0,1,0}\n",
       "\t\n"
      ]
     },
     "execution_count": 33,
     "metadata": {},
     "output_type": "execute_result"
    },
    {
     "data": {
      "text/plain": [
       "259; 0.100;0.050825;0.600000; {min=-0.647, max=0.247}; {min=-0.412, max=0.250}; {0,1,1,0,0,1,1,0,1,0,1,0}\n",
       "\t\n"
      ]
     },
     "execution_count": 33,
     "metadata": {},
     "output_type": "execute_result"
    },
    {
     "data": {
      "text/plain": [
       "260; 0.100;0.045137;0.352941; {min=-0.647, max=0.000}; {min=-0.412, max=0.223}; {0,1,1,0,1,0,1,0,1,0,1,0}\n",
       "\t\n"
      ]
     },
     "execution_count": 33,
     "metadata": {},
     "output_type": "execute_result"
    },
    {
     "data": {
      "text/plain": [
       "261; 0.100;0.050777;0.600000; {min=-0.647, max=0.247}; {min=-0.412, max=0.249}; {0,1,1,0,0,1,1,0,1,0,1,0}\n",
       "\t\n"
      ]
     },
     "execution_count": 33,
     "metadata": {},
     "output_type": "execute_result"
    },
    {
     "data": {
      "text/plain": [
       "262; 0.100;0.065724;0.833333; {min=-0.647, max=0.247}; {min=-0.412, max=0.285}; {0,1,1,0,0,1,1,0,0,1,1,0}\n",
       "\t\n"
      ]
     },
     "execution_count": 33,
     "metadata": {},
     "output_type": "execute_result"
    },
    {
     "data": {
      "text/plain": [
       "263; 0.100;0.050730;0.600000; {min=-0.647, max=0.247}; {min=-0.412, max=0.249}; {0,1,1,0,0,1,1,0,1,0,1,0}\n",
       "\t\n"
      ]
     },
     "execution_count": 33,
     "metadata": {},
     "output_type": "execute_result"
    },
    {
     "data": {
      "text/plain": [
       "264; 0.100;0.050707;0.600000; {min=-0.647, max=0.247}; {min=-0.412, max=0.249}; {0,1,1,0,0,1,1,0,1,0,1,0}\n",
       "\t\n"
      ]
     },
     "execution_count": 33,
     "metadata": {},
     "output_type": "execute_result"
    },
    {
     "data": {
      "text/plain": [
       "265; 0.100;0.050683;0.600000; {min=-0.647, max=0.247}; {min=-0.412, max=0.249}; {0,1,1,0,0,1,1,0,1,0,1,0}\n",
       "\t\n"
      ]
     },
     "execution_count": 33,
     "metadata": {},
     "output_type": "execute_result"
    },
    {
     "data": {
      "text/plain": [
       "266; 0.100;0.050660;0.600000; {min=-0.647, max=0.247}; {min=-0.412, max=0.249}; {0,1,1,0,0,1,1,0,1,0,1,0}\n",
       "\t\n"
      ]
     },
     "execution_count": 33,
     "metadata": {},
     "output_type": "execute_result"
    },
    {
     "data": {
      "text/plain": [
       "267; 0.100;0.050637;0.600000; {min=-0.647, max=0.247}; {min=-0.412, max=0.249}; {0,1,1,0,0,1,1,0,1,0,1,0}\n",
       "\t\n"
      ]
     },
     "execution_count": 33,
     "metadata": {},
     "output_type": "execute_result"
    },
    {
     "data": {
      "text/plain": [
       "268; 0.100;0.050615;0.600000; {min=-0.647, max=0.247}; {min=-0.412, max=0.249}; {0,1,1,0,0,1,1,0,1,0,1,0}\n",
       "\t\n"
      ]
     },
     "execution_count": 33,
     "metadata": {},
     "output_type": "execute_result"
    },
    {
     "data": {
      "text/plain": [
       "269; 0.100;0.050592;0.600000; {min=-0.647, max=0.247}; {min=-0.412, max=0.249}; {0,1,1,0,0,1,1,0,1,0,1,0}\n",
       "\t\n"
      ]
     },
     "execution_count": 33,
     "metadata": {},
     "output_type": "execute_result"
    },
    {
     "data": {
      "text/plain": [
       "270; 0.100;0.050570;0.600000; {min=-0.647, max=0.247}; {min=-0.412, max=0.248}; {0,1,1,0,0,1,1,0,1,0,1,0}\n",
       "\t\n"
      ]
     },
     "execution_count": 33,
     "metadata": {},
     "output_type": "execute_result"
    },
    {
     "data": {
      "text/plain": [
       "271; 0.100;0.050547;0.600000; {min=-0.647, max=0.247}; {min=-0.413, max=0.248}; {0,1,1,0,0,1,1,0,1,0,1,0}\n",
       "\t\n"
      ]
     },
     "execution_count": 33,
     "metadata": {},
     "output_type": "execute_result"
    },
    {
     "data": {
      "text/plain": [
       "272; 0.100;0.050525;0.600000; {min=-0.647, max=0.247}; {min=-0.413, max=0.248}; {0,1,1,0,0,1,1,0,1,0,1,0}\n",
       "\t\n"
      ]
     },
     "execution_count": 33,
     "metadata": {},
     "output_type": "execute_result"
    },
    {
     "data": {
      "text/plain": [
       "273; 0.100;0.050503;0.600000; {min=-0.647, max=0.247}; {min=-0.413, max=0.248}; {0,1,1,0,0,1,1,0,1,0,1,0}\n",
       "\t\n"
      ]
     },
     "execution_count": 33,
     "metadata": {},
     "output_type": "execute_result"
    },
    {
     "data": {
      "text/plain": [
       "274; 0.100;0.050481;0.600000; {min=-0.647, max=0.247}; {min=-0.413, max=0.248}; {0,1,1,0,0,1,1,0,1,0,1,0}\n",
       "\t\n"
      ]
     },
     "execution_count": 33,
     "metadata": {},
     "output_type": "execute_result"
    },
    {
     "data": {
      "text/plain": [
       "275; 0.100;0.050459;0.600000; {min=-0.647, max=0.247}; {min=-0.413, max=0.248}; {0,1,1,0,0,1,1,0,1,0,1,0}\n",
       "\t\n"
      ]
     },
     "execution_count": 33,
     "metadata": {},
     "output_type": "execute_result"
    },
    {
     "data": {
      "text/plain": [
       "276; 0.100;0.144318;0.500000; {min=-0.647, max=0.247}; {min=-0.413, max=0.649}; {0,1,1,0,0,1,0,1,1,0,1,0}\n",
       "\t\n"
      ]
     },
     "execution_count": 33,
     "metadata": {},
     "output_type": "execute_result"
    },
    {
     "data": {
      "text/plain": [
       "277; 0.100;0.050413;0.600000; {min=-0.647, max=0.247}; {min=-0.413, max=0.248}; {0,1,1,0,0,1,1,0,1,0,1,0}\n",
       "\t\n"
      ]
     },
     "execution_count": 33,
     "metadata": {},
     "output_type": "execute_result"
    },
    {
     "data": {
      "text/plain": [
       "278; 0.100;0.065462;0.833333; {min=-0.647, max=0.247}; {min=-0.413, max=0.284}; {0,1,1,0,0,1,1,0,0,1,1,0}\n",
       "\t\n"
      ]
     },
     "execution_count": 33,
     "metadata": {},
     "output_type": "execute_result"
    },
    {
     "data": {
      "text/plain": [
       "279; 0.100;0.050366;0.600000; {min=-0.647, max=0.247}; {min=-0.413, max=0.248}; {0,1,1,0,0,1,1,0,1,0,1,0}\n",
       "\t\n"
      ]
     },
     "execution_count": 33,
     "metadata": {},
     "output_type": "execute_result"
    },
    {
     "data": {
      "text/plain": [
       "280; 0.100;0.050342;0.600000; {min=-0.647, max=0.247}; {min=-0.413, max=0.248}; {0,1,1,0,0,1,1,0,1,0,1,0}\n",
       "\t\n"
      ]
     },
     "execution_count": 33,
     "metadata": {},
     "output_type": "execute_result"
    },
    {
     "data": {
      "text/plain": [
       "281; 0.100;0.050319;0.600000; {min=-0.647, max=0.247}; {min=-0.413, max=0.247}; {0,1,1,0,0,1,1,0,1,0,1,0}\n",
       "\t\n"
      ]
     },
     "execution_count": 33,
     "metadata": {},
     "output_type": "execute_result"
    },
    {
     "data": {
      "text/plain": [
       "282; 0.100;0.050295;0.600000; {min=-0.647, max=0.247}; {min=-0.413, max=0.247}; {0,1,1,0,0,1,1,0,1,0,1,0}\n",
       "\t\n"
      ]
     },
     "execution_count": 33,
     "metadata": {},
     "output_type": "execute_result"
    },
    {
     "data": {
      "text/plain": [
       "283; 0.100;0.125686;0.285714; {min=-0.647, max=0.000}; {min=-0.413, max=0.498}; {0,1,0,1,1,0,1,0,1,0,1,0}\n",
       "\t\n"
      ]
     },
     "execution_count": 33,
     "metadata": {},
     "output_type": "execute_result"
    },
    {
     "data": {
      "text/plain": [
       "284; 0.100;0.050248;0.600000; {min=-0.647, max=0.247}; {min=-0.413, max=0.247}; {0,1,1,0,0,1,1,0,1,0,1,0}\n",
       "\t\n"
      ]
     },
     "execution_count": 33,
     "metadata": {},
     "output_type": "execute_result"
    },
    {
     "data": {
      "text/plain": [
       "285; 0.100;0.065876;0.000000; {min=-1.000, max=0.000}; {min=-0.413, max=0.167}; {1,0,0,1,1,0,1,0,1,0,1,0}\n",
       "\t\n"
      ]
     },
     "execution_count": 33,
     "metadata": {},
     "output_type": "execute_result"
    },
    {
     "data": {
      "text/plain": [
       "286; 0.100;0.050202;0.600000; {min=-0.647, max=0.247}; {min=-0.413, max=0.247}; {0,1,1,0,0,1,1,0,1,0,1,0}\n",
       "\t\n"
      ]
     },
     "execution_count": 33,
     "metadata": {},
     "output_type": "execute_result"
    },
    {
     "data": {
      "text/plain": [
       "287; 0.100;0.050180;0.600000; {min=-0.647, max=0.247}; {min=-0.413, max=0.247}; {0,1,1,0,0,1,1,0,1,0,1,0}\n",
       "\t\n"
      ]
     },
     "execution_count": 33,
     "metadata": {},
     "output_type": "execute_result"
    },
    {
     "data": {
      "text/plain": [
       "288; 0.100;0.048564;0.500000; {min=-0.647, max=0.247}; {min=-0.413, max=0.247}; {0,1,1,0,0,1,1,0,1,0,0,1}\n",
       "\t\n"
      ]
     },
     "execution_count": 33,
     "metadata": {},
     "output_type": "execute_result"
    },
    {
     "data": {
      "text/plain": [
       "289; 0.100;0.065821;0.000000; {min=-1.000, max=0.000}; {min=-0.413, max=0.167}; {1,0,0,1,1,0,1,0,1,0,1,0}\n",
       "\t\n"
      ]
     },
     "execution_count": 33,
     "metadata": {},
     "output_type": "execute_result"
    },
    {
     "data": {
      "text/plain": [
       "290; 0.100;0.050115;0.600000; {min=-0.647, max=0.247}; {min=-0.413, max=0.247}; {0,1,1,0,0,1,1,0,1,0,1,0}\n",
       "\t\n"
      ]
     },
     "execution_count": 33,
     "metadata": {},
     "output_type": "execute_result"
    },
    {
     "data": {
      "text/plain": [
       "291; 0.100;0.065254;0.833333; {min=-0.647, max=0.247}; {min=-0.413, max=0.282}; {0,1,1,0,0,1,1,0,0,1,1,0}\n",
       "\t\n"
      ]
     },
     "execution_count": 33,
     "metadata": {},
     "output_type": "execute_result"
    },
    {
     "data": {
      "text/plain": [
       "292; 0.100;0.050074;0.600000; {min=-0.647, max=0.247}; {min=-0.414, max=0.246}; {0,1,1,0,0,1,1,0,1,0,1,0}\n",
       "\t\n"
      ]
     },
     "execution_count": 33,
     "metadata": {},
     "output_type": "execute_result"
    },
    {
     "data": {
      "text/plain": [
       "293; 0.100;0.125174;0.285714; {min=-0.647, max=0.000}; {min=-0.414, max=0.498}; {0,1,0,1,1,0,1,0,1,0,1,0}\n",
       "\t\n"
      ]
     },
     "execution_count": 33,
     "metadata": {},
     "output_type": "execute_result"
    },
    {
     "data": {
      "text/plain": [
       "294; 0.100;0.050030;0.600000; {min=-0.647, max=0.247}; {min=-0.414, max=0.246}; {0,1,1,0,0,1,1,0,1,0,1,0}\n",
       "\t\n"
      ]
     },
     "execution_count": 33,
     "metadata": {},
     "output_type": "execute_result"
    },
    {
     "data": {
      "text/plain": [
       "295; 0.100;0.050008;0.600000; {min=-0.647, max=0.247}; {min=-0.414, max=0.246}; {0,1,1,0,0,1,1,0,1,0,1,0}\n",
       "\t\n"
      ]
     },
     "execution_count": 33,
     "metadata": {},
     "output_type": "execute_result"
    },
    {
     "data": {
      "text/plain": [
       "296; 0.100;0.049986;0.600000; {min=-0.647, max=0.247}; {min=-0.414, max=0.246}; {0,1,1,0,0,1,1,0,1,0,1,0}\n",
       "\t\n"
      ]
     },
     "execution_count": 33,
     "metadata": {},
     "output_type": "execute_result"
    },
    {
     "data": {
      "text/plain": [
       "297; 0.100;0.065708;0.000000; {min=-1.000, max=0.000}; {min=-0.414, max=0.167}; {1,0,0,1,1,0,1,0,1,0,1,0}\n",
       "\t\n"
      ]
     },
     "execution_count": 33,
     "metadata": {},
     "output_type": "execute_result"
    },
    {
     "data": {
      "text/plain": [
       "298; 0.100;0.049943;0.600000; {min=-0.647, max=0.247}; {min=-0.414, max=0.246}; {0,1,1,0,0,1,1,0,1,0,1,0}\n",
       "\t\n"
      ]
     },
     "execution_count": 33,
     "metadata": {},
     "output_type": "execute_result"
    },
    {
     "data": {
      "text/plain": [
       "299; 0.100;0.049922;0.600000; {min=-0.647, max=0.247}; {min=-0.414, max=0.246}; {0,1,1,0,0,1,1,0,1,0,1,0}\n",
       "\t\n"
      ]
     },
     "execution_count": 33,
     "metadata": {},
     "output_type": "execute_result"
    },
    {
     "data": {
      "text/plain": [
       "300; 0.100;0.049901;0.600000; {min=-0.647, max=0.247}; {min=-0.414, max=0.246}; {0,1,1,0,0,1,1,0,1,0,1,0}\n",
       "\t\n"
      ]
     },
     "execution_count": 33,
     "metadata": {},
     "output_type": "execute_result"
    },
    {
     "data": {
      "text/plain": [
       "301; 0.100;0.049880;0.600000; {min=-0.647, max=0.247}; {min=-0.414, max=0.246}; {0,1,1,0,0,1,1,0,1,0,1,0}\n",
       "\t\n"
      ]
     },
     "execution_count": 33,
     "metadata": {},
     "output_type": "execute_result"
    },
    {
     "data": {
      "text/plain": [
       "302; 0.100;0.049859;0.600000; {min=-0.647, max=0.247}; {min=-0.414, max=0.246}; {0,1,1,0,0,1,1,0,1,0,1,0}\n",
       "\t\n"
      ]
     },
     "execution_count": 33,
     "metadata": {},
     "output_type": "execute_result"
    },
    {
     "data": {
      "text/plain": [
       "303; 0.100;0.142325;0.714286; {min=-0.647, max=0.247}; {min=-0.414, max=0.703}; {0,1,1,0,0,1,0,1,0,1,1,0}\n",
       "\t\n"
      ]
     },
     "execution_count": 33,
     "metadata": {},
     "output_type": "execute_result"
    },
    {
     "data": {
      "text/plain": [
       "304; 0.100;0.065055;0.833333; {min=-0.647, max=0.247}; {min=-0.414, max=0.281}; {0,1,1,0,0,1,1,0,0,1,1,0}\n",
       "\t\n"
      ]
     },
     "execution_count": 33,
     "metadata": {},
     "output_type": "execute_result"
    },
    {
     "data": {
      "text/plain": [
       "305; 0.100;0.049793;0.600000; {min=-0.647, max=0.247}; {min=-0.414, max=0.245}; {0,1,1,0,0,1,1,0,1,0,1,0}\n",
       "\t\n"
      ]
     },
     "execution_count": 33,
     "metadata": {},
     "output_type": "execute_result"
    },
    {
     "data": {
      "text/plain": [
       "306; 0.100;0.049770;0.600000; {min=-0.647, max=0.247}; {min=-0.414, max=0.245}; {0,1,1,0,0,1,1,0,1,0,1,0}\n",
       "\t\n"
      ]
     },
     "execution_count": 33,
     "metadata": {},
     "output_type": "execute_result"
    },
    {
     "data": {
      "text/plain": [
       "307; 0.100;0.142925;0.500000; {min=-0.647, max=0.247}; {min=-0.414, max=0.646}; {0,1,1,0,0,1,0,1,1,0,1,0}\n",
       "\t\n"
      ]
     },
     "execution_count": 33,
     "metadata": {},
     "output_type": "execute_result"
    },
    {
     "data": {
      "text/plain": [
       "308; 0.100;0.048202;0.500000; {min=-0.647, max=0.247}; {min=-0.414, max=0.245}; {0,1,1,0,0,1,1,0,1,0,0,1}\n",
       "\t\n"
      ]
     },
     "execution_count": 33,
     "metadata": {},
     "output_type": "execute_result"
    },
    {
     "data": {
      "text/plain": [
       "309; 0.100;0.049699;0.600000; {min=-0.647, max=0.247}; {min=-0.414, max=0.245}; {0,1,1,0,0,1,1,0,1,0,1,0}\n",
       "\t\n"
      ]
     },
     "execution_count": 33,
     "metadata": {},
     "output_type": "execute_result"
    },
    {
     "data": {
      "text/plain": [
       "310; 0.100;0.049676;0.600000; {min=-0.647, max=0.247}; {min=-0.415, max=0.245}; {0,1,1,0,0,1,1,0,1,0,1,0}\n",
       "\t\n"
      ]
     },
     "execution_count": 33,
     "metadata": {},
     "output_type": "execute_result"
    },
    {
     "data": {
      "text/plain": [
       "311; 0.100;0.049653;0.600000; {min=-0.647, max=0.247}; {min=-0.415, max=0.245}; {0,1,1,0,0,1,1,0,1,0,1,0}\n",
       "\t\n"
      ]
     },
     "execution_count": 33,
     "metadata": {},
     "output_type": "execute_result"
    },
    {
     "data": {
      "text/plain": [
       "312; 0.100;0.048119;0.500000; {min=-0.647, max=0.247}; {min=-0.415, max=0.245}; {0,1,1,0,0,1,1,0,1,0,0,1}\n",
       "\t\n"
      ]
     },
     "execution_count": 33,
     "metadata": {},
     "output_type": "execute_result"
    },
    {
     "data": {
      "text/plain": [
       "313; 0.100;0.049608;0.600000; {min=-0.647, max=0.247}; {min=-0.415, max=0.244}; {0,1,1,0,0,1,1,0,1,0,1,0}\n",
       "\t\n"
      ]
     },
     "execution_count": 33,
     "metadata": {},
     "output_type": "execute_result"
    },
    {
     "data": {
      "text/plain": [
       "314; 0.100;0.049586;0.600000; {min=-0.647, max=0.247}; {min=-0.415, max=0.244}; {0,1,1,0,0,1,1,0,1,0,1,0}\n",
       "\t\n"
      ]
     },
     "execution_count": 33,
     "metadata": {},
     "output_type": "execute_result"
    },
    {
     "data": {
      "text/plain": [
       "315; 0.100;0.043947;0.352941; {min=-0.647, max=0.000}; {min=-0.415, max=0.219}; {0,1,1,0,1,0,1,0,1,0,1,0}\n",
       "\t\n"
      ]
     },
     "execution_count": 33,
     "metadata": {},
     "output_type": "execute_result"
    },
    {
     "data": {
      "text/plain": [
       "316; 0.100;0.043926;0.352941; {min=-0.647, max=0.000}; {min=-0.415, max=0.218}; {0,1,1,0,1,0,1,0,1,0,1,0}\n",
       "\t\n"
      ]
     },
     "execution_count": 33,
     "metadata": {},
     "output_type": "execute_result"
    },
    {
     "data": {
      "text/plain": [
       "317; 0.100;0.049522;0.600000; {min=-0.647, max=0.247}; {min=-0.415, max=0.244}; {0,1,1,0,0,1,1,0,1,0,1,0}\n",
       "\t\n"
      ]
     },
     "execution_count": 33,
     "metadata": {},
     "output_type": "execute_result"
    },
    {
     "data": {
      "text/plain": [
       "318; 0.100;0.049501;0.600000; {min=-0.647, max=0.247}; {min=-0.415, max=0.244}; {0,1,1,0,0,1,1,0,1,0,1,0}\n",
       "\t\n"
      ]
     },
     "execution_count": 33,
     "metadata": {},
     "output_type": "execute_result"
    },
    {
     "data": {
      "text/plain": [
       "319; 0.100;0.049480;0.600000; {min=-0.647, max=0.247}; {min=-0.415, max=0.244}; {0,1,1,0,0,1,1,0,1,0,1,0}\n",
       "\t\n"
      ]
     },
     "execution_count": 33,
     "metadata": {},
     "output_type": "execute_result"
    },
    {
     "data": {
      "text/plain": [
       "320; 0.100;0.049459;0.600000; {min=-0.647, max=0.247}; {min=-0.415, max=0.244}; {0,1,1,0,0,1,1,0,1,0,1,0}\n",
       "\t\n"
      ]
     },
     "execution_count": 33,
     "metadata": {},
     "output_type": "execute_result"
    },
    {
     "data": {
      "text/plain": [
       "321; 0.100;0.049438;0.600000; {min=-0.647, max=0.247}; {min=-0.415, max=0.244}; {0,1,1,0,0,1,1,0,1,0,1,0}\n",
       "\t\n"
      ]
     },
     "execution_count": 33,
     "metadata": {},
     "output_type": "execute_result"
    },
    {
     "data": {
      "text/plain": [
       "322; 0.100;0.049417;0.600000; {min=-0.647, max=0.247}; {min=-0.415, max=0.244}; {0,1,1,0,0,1,1,0,1,0,1,0}\n",
       "\t\n"
      ]
     },
     "execution_count": 33,
     "metadata": {},
     "output_type": "execute_result"
    },
    {
     "data": {
      "text/plain": [
       "323; 0.100;0.049396;0.600000; {min=-0.647, max=0.247}; {min=-0.415, max=0.244}; {0,1,1,0,0,1,1,0,1,0,1,0}\n",
       "\t\n"
      ]
     },
     "execution_count": 33,
     "metadata": {},
     "output_type": "execute_result"
    },
    {
     "data": {
      "text/plain": [
       "324; 0.100;0.049375;0.600000; {min=-0.647, max=0.247}; {min=-0.415, max=0.244}; {0,1,1,0,0,1,1,0,1,0,1,0}\n",
       "\t\n"
      ]
     },
     "execution_count": 33,
     "metadata": {},
     "output_type": "execute_result"
    },
    {
     "data": {
      "text/plain": [
       "325; 0.100;0.049355;0.600000; {min=-0.647, max=0.247}; {min=-0.415, max=0.243}; {0,1,1,0,0,1,1,0,1,0,1,0}\n",
       "\t\n"
      ]
     },
     "execution_count": 33,
     "metadata": {},
     "output_type": "execute_result"
    },
    {
     "data": {
      "text/plain": [
       "326; 0.100;0.049334;0.600000; {min=-0.647, max=0.247}; {min=-0.415, max=0.243}; {0,1,1,0,0,1,1,0,1,0,1,0}\n",
       "\t\n"
      ]
     },
     "execution_count": 33,
     "metadata": {},
     "output_type": "execute_result"
    },
    {
     "data": {
      "text/plain": [
       "327; 0.100;0.049313;0.600000; {min=-0.647, max=0.247}; {min=-0.415, max=0.243}; {0,1,1,0,0,1,1,0,1,0,1,0}\n",
       "\t\n"
      ]
     },
     "execution_count": 33,
     "metadata": {},
     "output_type": "execute_result"
    },
    {
     "data": {
      "text/plain": [
       "328; 0.100;0.049293;0.600000; {min=-0.647, max=0.247}; {min=-0.415, max=0.243}; {0,1,1,0,0,1,1,0,1,0,1,0}\n",
       "\t\n"
      ]
     },
     "execution_count": 33,
     "metadata": {},
     "output_type": "execute_result"
    },
    {
     "data": {
      "text/plain": [
       "329; 0.100;0.064690;0.833333; {min=-0.647, max=0.247}; {min=-0.415, max=0.279}; {0,1,1,0,0,1,1,0,0,1,1,0}\n",
       "\t\n"
      ]
     },
     "execution_count": 33,
     "metadata": {},
     "output_type": "execute_result"
    },
    {
     "data": {
      "text/plain": [
       "330; 0.100;0.049251;0.600000; {min=-0.647, max=0.247}; {min=-0.415, max=0.243}; {0,1,1,0,0,1,1,0,1,0,1,0}\n",
       "\t\n"
      ]
     },
     "execution_count": 33,
     "metadata": {},
     "output_type": "execute_result"
    },
    {
     "data": {
      "text/plain": [
       "331; 0.100;0.049230;0.600000; {min=-0.647, max=0.247}; {min=-0.415, max=0.243}; {0,1,1,0,0,1,1,0,1,0,1,0}\n",
       "\t\n"
      ]
     },
     "execution_count": 33,
     "metadata": {},
     "output_type": "execute_result"
    },
    {
     "data": {
      "text/plain": [
       "332; 0.100;0.064646;0.833333; {min=-0.647, max=0.247}; {min=-0.415, max=0.279}; {0,1,1,0,0,1,1,0,0,1,1,0}\n",
       "\t\n"
      ]
     },
     "execution_count": 33,
     "metadata": {},
     "output_type": "execute_result"
    },
    {
     "data": {
      "text/plain": [
       "333; 0.100;0.049188;0.600000; {min=-0.647, max=0.247}; {min=-0.416, max=0.243}; {0,1,1,0,0,1,1,0,1,0,1,0}\n",
       "\t\n"
      ]
     },
     "execution_count": 33,
     "metadata": {},
     "output_type": "execute_result"
    },
    {
     "data": {
      "text/plain": [
       "334; 0.100;0.049167;0.600000; {min=-0.647, max=0.247}; {min=-0.416, max=0.243}; {0,1,1,0,0,1,1,0,1,0,1,0}\n",
       "\t\n"
      ]
     },
     "execution_count": 33,
     "metadata": {},
     "output_type": "execute_result"
    },
    {
     "data": {
      "text/plain": [
       "335; 0.100;0.049146;0.600000; {min=-0.647, max=0.247}; {min=-0.416, max=0.243}; {0,1,1,0,0,1,1,0,1,0,1,0}\n",
       "\t\n"
      ]
     },
     "execution_count": 33,
     "metadata": {},
     "output_type": "execute_result"
    },
    {
     "data": {
      "text/plain": [
       "336; 0.100;0.049125;0.600000; {min=-0.647, max=0.247}; {min=-0.416, max=0.242}; {0,1,1,0,0,1,1,0,1,0,1,0}\n",
       "\t\n"
      ]
     },
     "execution_count": 33,
     "metadata": {},
     "output_type": "execute_result"
    },
    {
     "data": {
      "text/plain": [
       "337; 0.100;0.141711;0.500000; {min=-0.647, max=0.247}; {min=-0.416, max=0.644}; {0,1,1,0,0,1,0,1,1,0,1,0}\n",
       "\t\n"
      ]
     },
     "execution_count": 33,
     "metadata": {},
     "output_type": "execute_result"
    },
    {
     "data": {
      "text/plain": [
       "338; 0.100;0.043484;0.352941; {min=-0.647, max=0.000}; {min=-0.416, max=0.217}; {0,1,1,0,1,0,1,0,1,0,1,0}\n",
       "\t\n"
      ]
     },
     "execution_count": 33,
     "metadata": {},
     "output_type": "execute_result"
    },
    {
     "data": {
      "text/plain": [
       "339; 0.100;0.049058;0.600000; {min=-0.647, max=0.247}; {min=-0.416, max=0.242}; {0,1,1,0,0,1,1,0,1,0,1,0}\n",
       "\t\n"
      ]
     },
     "execution_count": 33,
     "metadata": {},
     "output_type": "execute_result"
    },
    {
     "data": {
      "text/plain": [
       "340; 0.100;0.049036;0.600000; {min=-0.647, max=0.247}; {min=-0.416, max=0.242}; {0,1,1,0,0,1,1,0,1,0,1,0}\n",
       "\t\n"
      ]
     },
     "execution_count": 33,
     "metadata": {},
     "output_type": "execute_result"
    },
    {
     "data": {
      "text/plain": [
       "341; 0.100;0.065187;0.000000; {min=-1.000, max=0.000}; {min=-0.416, max=0.165}; {1,0,0,1,1,0,1,0,1,0,1,0}\n",
       "\t\n"
      ]
     },
     "execution_count": 33,
     "metadata": {},
     "output_type": "execute_result"
    },
    {
     "data": {
      "text/plain": [
       "342; 0.100;0.048993;0.600000; {min=-0.647, max=0.247}; {min=-0.416, max=0.242}; {0,1,1,0,0,1,1,0,1,0,1,0}\n",
       "\t\n"
      ]
     },
     "execution_count": 33,
     "metadata": {},
     "output_type": "execute_result"
    },
    {
     "data": {
      "text/plain": [
       "343; 0.100;0.048972;0.600000; {min=-0.647, max=0.247}; {min=-0.416, max=0.242}; {0,1,1,0,0,1,1,0,1,0,1,0}\n",
       "\t\n"
      ]
     },
     "execution_count": 33,
     "metadata": {},
     "output_type": "execute_result"
    },
    {
     "data": {
      "text/plain": [
       "344; 0.100;0.048952;0.600000; {min=-0.647, max=0.247}; {min=-0.416, max=0.242}; {0,1,1,0,0,1,1,0,1,0,1,0}\n",
       "\t\n"
      ]
     },
     "execution_count": 33,
     "metadata": {},
     "output_type": "execute_result"
    },
    {
     "data": {
      "text/plain": [
       "345; 0.100;0.048931;0.600000; {min=-0.647, max=0.247}; {min=-0.416, max=0.242}; {0,1,1,0,0,1,1,0,1,0,1,0}\n",
       "\t\n"
      ]
     },
     "execution_count": 33,
     "metadata": {},
     "output_type": "execute_result"
    },
    {
     "data": {
      "text/plain": [
       "346; 0.100;0.043320;0.352941; {min=-0.647, max=0.000}; {min=-0.416, max=0.216}; {0,1,1,0,1,0,1,0,1,0,1,0}\n",
       "\t\n"
      ]
     },
     "execution_count": 33,
     "metadata": {},
     "output_type": "execute_result"
    },
    {
     "data": {
      "text/plain": [
       "347; 0.100;0.048890;0.600000; {min=-0.647, max=0.247}; {min=-0.416, max=0.241}; {0,1,1,0,0,1,1,0,1,0,1,0}\n",
       "\t\n"
      ]
     },
     "execution_count": 33,
     "metadata": {},
     "output_type": "execute_result"
    },
    {
     "data": {
      "text/plain": [
       "348; 0.100;0.048870;0.600000; {min=-0.647, max=0.247}; {min=-0.416, max=0.241}; {0,1,1,0,0,1,1,0,1,0,1,0}\n",
       "\t\n"
      ]
     },
     "execution_count": 33,
     "metadata": {},
     "output_type": "execute_result"
    },
    {
     "data": {
      "text/plain": [
       "349; 0.100;0.048849;0.600000; {min=-0.647, max=0.247}; {min=-0.416, max=0.241}; {0,1,1,0,0,1,1,0,1,0,1,0}\n",
       "\t\n"
      ]
     },
     "execution_count": 33,
     "metadata": {},
     "output_type": "execute_result"
    },
    {
     "data": {
      "text/plain": [
       "350; 0.100;0.048829;0.600000; {min=-0.647, max=0.247}; {min=-0.416, max=0.241}; {0,1,1,0,0,1,1,0,1,0,1,0}\n",
       "\t\n"
      ]
     },
     "execution_count": 33,
     "metadata": {},
     "output_type": "execute_result"
    },
    {
     "data": {
      "text/plain": [
       "351; 0.100;0.048809;0.600000; {min=-0.647, max=0.247}; {min=-0.416, max=0.241}; {0,1,1,0,0,1,1,0,1,0,1,0}\n",
       "\t\n"
      ]
     },
     "execution_count": 33,
     "metadata": {},
     "output_type": "execute_result"
    },
    {
     "data": {
      "text/plain": [
       "352; 0.100;0.048788;0.600000; {min=-0.647, max=0.247}; {min=-0.416, max=0.241}; {0,1,1,0,0,1,1,0,1,0,1,0}\n",
       "\t\n"
      ]
     },
     "execution_count": 33,
     "metadata": {},
     "output_type": "execute_result"
    },
    {
     "data": {
      "text/plain": [
       "353; 0.100;0.048768;0.600000; {min=-0.647, max=0.247}; {min=-0.416, max=0.241}; {0,1,1,0,0,1,1,0,1,0,1,0}\n",
       "\t\n"
      ]
     },
     "execution_count": 33,
     "metadata": {},
     "output_type": "execute_result"
    },
    {
     "data": {
      "text/plain": [
       "354; 0.100;0.048748;0.600000; {min=-0.647, max=0.247}; {min=-0.417, max=0.241}; {0,1,1,0,0,1,1,0,1,0,1,0}\n",
       "\t\n"
      ]
     },
     "execution_count": 33,
     "metadata": {},
     "output_type": "execute_result"
    },
    {
     "data": {
      "text/plain": [
       "355; 0.100;0.048728;0.600000; {min=-0.647, max=0.247}; {min=-0.417, max=0.241}; {0,1,1,0,0,1,1,0,1,0,1,0}\n",
       "\t\n"
      ]
     },
     "execution_count": 33,
     "metadata": {},
     "output_type": "execute_result"
    },
    {
     "data": {
      "text/plain": [
       "356; 0.100;0.140941;0.500000; {min=-0.647, max=0.247}; {min=-0.417, max=0.642}; {0,1,1,0,0,1,0,1,1,0,1,0}\n",
       "\t\n"
      ]
     },
     "execution_count": 33,
     "metadata": {},
     "output_type": "execute_result"
    },
    {
     "data": {
      "text/plain": [
       "357; 0.100;0.048686;0.600000; {min=-0.647, max=0.247}; {min=-0.417, max=0.241}; {0,1,1,0,0,1,1,0,1,0,1,0}\n",
       "\t\n"
      ]
     },
     "execution_count": 33,
     "metadata": {},
     "output_type": "execute_result"
    },
    {
     "data": {
      "text/plain": [
       "358; 0.100;0.048664;0.600000; {min=-0.647, max=0.247}; {min=-0.417, max=0.240}; {0,1,1,0,0,1,1,0,1,0,1,0}\n",
       "\t\n"
      ]
     },
     "execution_count": 33,
     "metadata": {},
     "output_type": "execute_result"
    },
    {
     "data": {
      "text/plain": [
       "359; 0.100;0.048642;0.600000; {min=-0.647, max=0.247}; {min=-0.417, max=0.240}; {0,1,1,0,0,1,1,0,1,0,1,0}\n",
       "\t\n"
      ]
     },
     "execution_count": 33,
     "metadata": {},
     "output_type": "execute_result"
    },
    {
     "data": {
      "text/plain": [
       "360; 0.100;0.064961;0.000000; {min=-1.000, max=0.000}; {min=-0.417, max=0.164}; {1,0,0,1,1,0,1,0,1,0,1,0}\n",
       "\t\n"
      ]
     },
     "execution_count": 33,
     "metadata": {},
     "output_type": "execute_result"
    },
    {
     "data": {
      "text/plain": [
       "361; 0.100;0.048600;0.600000; {min=-0.647, max=0.247}; {min=-0.417, max=0.240}; {0,1,1,0,0,1,1,0,1,0,1,0}\n",
       "\t\n"
      ]
     },
     "execution_count": 33,
     "metadata": {},
     "output_type": "execute_result"
    },
    {
     "data": {
      "text/plain": [
       "362; 0.100;0.048579;0.600000; {min=-0.647, max=0.247}; {min=-0.417, max=0.240}; {0,1,1,0,0,1,1,0,1,0,1,0}\n",
       "\t\n"
      ]
     },
     "execution_count": 33,
     "metadata": {},
     "output_type": "execute_result"
    },
    {
     "data": {
      "text/plain": [
       "363; 0.100;0.121939;0.285714; {min=-0.647, max=0.000}; {min=-0.417, max=0.493}; {0,1,0,1,1,0,1,0,1,0,1,0}\n",
       "\t\n"
      ]
     },
     "execution_count": 33,
     "metadata": {},
     "output_type": "execute_result"
    },
    {
     "data": {
      "text/plain": [
       "364; 0.100;0.084272;0.666667; {min=-0.647, max=0.314}; {min=-0.417, max=0.352}; {0,1,1,0,1,0,1,0,0,1,1,0}\n",
       "\t\n"
      ]
     },
     "execution_count": 33,
     "metadata": {},
     "output_type": "execute_result"
    },
    {
     "data": {
      "text/plain": [
       "365; 0.100;0.048514;0.600000; {min=-0.647, max=0.247}; {min=-0.417, max=0.240}; {0,1,1,0,0,1,1,0,1,0,1,0}\n",
       "\t\n"
      ]
     },
     "execution_count": 33,
     "metadata": {},
     "output_type": "execute_result"
    },
    {
     "data": {
      "text/plain": [
       "366; 0.100;0.048492;0.600000; {min=-0.647, max=0.247}; {min=-0.417, max=0.240}; {0,1,1,0,0,1,1,0,1,0,1,0}\n",
       "\t\n"
      ]
     },
     "execution_count": 33,
     "metadata": {},
     "output_type": "execute_result"
    },
    {
     "data": {
      "text/plain": [
       "367; 0.100;0.048470;0.600000; {min=-0.647, max=0.247}; {min=-0.417, max=0.240}; {0,1,1,0,0,1,1,0,1,0,1,0}\n",
       "\t\n"
      ]
     },
     "execution_count": 33,
     "metadata": {},
     "output_type": "execute_result"
    },
    {
     "data": {
      "text/plain": [
       "368; 0.100;0.047150;0.500000; {min=-0.647, max=0.247}; {min=-0.417, max=0.239}; {0,1,1,0,0,1,1,0,1,0,0,1}\n",
       "\t\n"
      ]
     },
     "execution_count": 33,
     "metadata": {},
     "output_type": "execute_result"
    },
    {
     "data": {
      "text/plain": [
       "369; 0.100;0.048426;0.600000; {min=-0.647, max=0.247}; {min=-0.417, max=0.239}; {0,1,1,0,0,1,1,0,1,0,1,0}\n",
       "\t\n"
      ]
     },
     "execution_count": 33,
     "metadata": {},
     "output_type": "execute_result"
    },
    {
     "data": {
      "text/plain": [
       "370; 0.100;0.048405;0.600000; {min=-0.647, max=0.247}; {min=-0.417, max=0.239}; {0,1,1,0,0,1,1,0,1,0,1,0}\n",
       "\t\n"
      ]
     },
     "execution_count": 33,
     "metadata": {},
     "output_type": "execute_result"
    },
    {
     "data": {
      "text/plain": [
       "371; 0.100;0.048384;0.600000; {min=-0.647, max=0.247}; {min=-0.417, max=0.239}; {0,1,1,0,0,1,1,0,1,0,1,0}\n",
       "\t\n"
      ]
     },
     "execution_count": 33,
     "metadata": {},
     "output_type": "execute_result"
    },
    {
     "data": {
      "text/plain": [
       "372; 0.100;0.048363;0.600000; {min=-0.647, max=0.247}; {min=-0.417, max=0.239}; {0,1,1,0,0,1,1,0,1,0,1,0}\n",
       "\t\n"
      ]
     },
     "execution_count": 33,
     "metadata": {},
     "output_type": "execute_result"
    },
    {
     "data": {
      "text/plain": [
       "373; 0.100;0.048343;0.600000; {min=-0.647, max=0.247}; {min=-0.418, max=0.239}; {0,1,1,0,0,1,1,0,1,0,1,0}\n",
       "\t\n"
      ]
     },
     "execution_count": 33,
     "metadata": {},
     "output_type": "execute_result"
    },
    {
     "data": {
      "text/plain": [
       "374; 0.100;0.048322;0.600000; {min=-0.647, max=0.247}; {min=-0.418, max=0.239}; {0,1,1,0,0,1,1,0,1,0,1,0}\n",
       "\t\n"
      ]
     },
     "execution_count": 33,
     "metadata": {},
     "output_type": "execute_result"
    },
    {
     "data": {
      "text/plain": [
       "375; 0.100;0.048302;0.600000; {min=-0.647, max=0.247}; {min=-0.418, max=0.239}; {0,1,1,0,0,1,1,0,1,0,1,0}\n",
       "\t\n"
      ]
     },
     "execution_count": 33,
     "metadata": {},
     "output_type": "execute_result"
    },
    {
     "data": {
      "text/plain": [
       "376; 0.100;0.048281;0.600000; {min=-0.647, max=0.247}; {min=-0.418, max=0.239}; {0,1,1,0,0,1,1,0,1,0,1,0}\n",
       "\t\n"
      ]
     },
     "execution_count": 33,
     "metadata": {},
     "output_type": "execute_result"
    },
    {
     "data": {
      "text/plain": [
       "377; 0.100;0.048261;0.600000; {min=-0.647, max=0.247}; {min=-0.418, max=0.239}; {0,1,1,0,0,1,1,0,1,0,1,0}\n",
       "\t\n"
      ]
     },
     "execution_count": 33,
     "metadata": {},
     "output_type": "execute_result"
    },
    {
     "data": {
      "text/plain": [
       "378; 0.100;0.048241;0.600000; {min=-0.647, max=0.247}; {min=-0.418, max=0.239}; {0,1,1,0,0,1,1,0,1,0,1,0}\n",
       "\t\n"
      ]
     },
     "execution_count": 33,
     "metadata": {},
     "output_type": "execute_result"
    },
    {
     "data": {
      "text/plain": [
       "379; 0.100;0.048221;0.600000; {min=-0.647, max=0.247}; {min=-0.418, max=0.238}; {0,1,1,0,0,1,1,0,1,0,1,0}\n",
       "\t\n"
      ]
     },
     "execution_count": 33,
     "metadata": {},
     "output_type": "execute_result"
    },
    {
     "data": {
      "text/plain": [
       "380; 0.100;0.048200;0.600000; {min=-0.647, max=0.247}; {min=-0.418, max=0.238}; {0,1,1,0,0,1,1,0,1,0,1,0}\n",
       "\t\n"
      ]
     },
     "execution_count": 33,
     "metadata": {},
     "output_type": "execute_result"
    },
    {
     "data": {
      "text/plain": [
       "381; 0.100;0.048180;0.600000; {min=-0.647, max=0.247}; {min=-0.418, max=0.238}; {0,1,1,0,0,1,1,0,1,0,1,0}\n",
       "\t\n"
      ]
     },
     "execution_count": 33,
     "metadata": {},
     "output_type": "execute_result"
    },
    {
     "data": {
      "text/plain": [
       "382; 0.100;0.048160;0.600000; {min=-0.647, max=0.247}; {min=-0.418, max=0.238}; {0,1,1,0,0,1,1,0,1,0,1,0}\n",
       "\t\n"
      ]
     },
     "execution_count": 33,
     "metadata": {},
     "output_type": "execute_result"
    },
    {
     "data": {
      "text/plain": [
       "383; 0.100;0.048141;0.600000; {min=-0.647, max=0.247}; {min=-0.418, max=0.238}; {0,1,1,0,0,1,1,0,1,0,1,0}\n",
       "\t\n"
      ]
     },
     "execution_count": 33,
     "metadata": {},
     "output_type": "execute_result"
    },
    {
     "data": {
      "text/plain": [
       "384; 0.100;0.048121;0.600000; {min=-0.647, max=0.247}; {min=-0.418, max=0.238}; {0,1,1,0,0,1,1,0,1,0,1,0}\n",
       "\t\n"
      ]
     },
     "execution_count": 33,
     "metadata": {},
     "output_type": "execute_result"
    },
    {
     "data": {
      "text/plain": [
       "385; 0.100;0.139721;0.500000; {min=-0.647, max=0.247}; {min=-0.418, max=0.640}; {0,1,1,0,0,1,0,1,1,0,1,0}\n",
       "\t\n"
      ]
     },
     "execution_count": 33,
     "metadata": {},
     "output_type": "execute_result"
    },
    {
     "data": {
      "text/plain": [
       "386; 0.100;0.048079;0.600000; {min=-0.647, max=0.247}; {min=-0.418, max=0.238}; {0,1,1,0,0,1,1,0,1,0,1,0}\n",
       "\t\n"
      ]
     },
     "execution_count": 33,
     "metadata": {},
     "output_type": "execute_result"
    },
    {
     "data": {
      "text/plain": [
       "387; 0.100;0.048057;0.600000; {min=-0.647, max=0.247}; {min=-0.418, max=0.238}; {0,1,1,0,0,1,1,0,1,0,1,0}\n",
       "\t\n"
      ]
     },
     "execution_count": 33,
     "metadata": {},
     "output_type": "execute_result"
    },
    {
     "data": {
      "text/plain": [
       "388; 0.100;0.120765;0.285714; {min=-0.647, max=0.000}; {min=-0.418, max=0.491}; {0,1,0,1,1,0,1,0,1,0,1,0}\n",
       "\t\n"
      ]
     },
     "execution_count": 33,
     "metadata": {},
     "output_type": "execute_result"
    },
    {
     "data": {
      "text/plain": [
       "389; 0.100;0.048014;0.600000; {min=-0.647, max=0.247}; {min=-0.418, max=0.238}; {0,1,1,0,0,1,1,0,1,0,1,0}\n",
       "\t\n"
      ]
     },
     "execution_count": 33,
     "metadata": {},
     "output_type": "execute_result"
    },
    {
     "data": {
      "text/plain": [
       "390; 0.100;0.047991;0.600000; {min=-0.647, max=0.247}; {min=-0.418, max=0.237}; {0,1,1,0,0,1,1,0,1,0,1,0}\n",
       "\t\n"
      ]
     },
     "execution_count": 33,
     "metadata": {},
     "output_type": "execute_result"
    },
    {
     "data": {
      "text/plain": [
       "391; 0.100;0.063770;0.833333; {min=-0.647, max=0.247}; {min=-0.418, max=0.273}; {0,1,1,0,0,1,1,0,0,1,1,0}\n",
       "\t\n"
      ]
     },
     "execution_count": 33,
     "metadata": {},
     "output_type": "execute_result"
    },
    {
     "data": {
      "text/plain": [
       "392; 0.100;0.047947;0.600000; {min=-0.647, max=0.247}; {min=-0.418, max=0.237}; {0,1,1,0,0,1,1,0,1,0,1,0}\n",
       "\t\n"
      ]
     },
     "execution_count": 33,
     "metadata": {},
     "output_type": "execute_result"
    },
    {
     "data": {
      "text/plain": [
       "393; 0.100;0.047926;0.600000; {min=-0.647, max=0.247}; {min=-0.418, max=0.237}; {0,1,1,0,0,1,1,0,1,0,1,0}\n",
       "\t\n"
      ]
     },
     "execution_count": 33,
     "metadata": {},
     "output_type": "execute_result"
    },
    {
     "data": {
      "text/plain": [
       "394; 0.100;0.047904;0.600000; {min=-0.647, max=0.247}; {min=-0.419, max=0.237}; {0,1,1,0,0,1,1,0,1,0,1,0}\n",
       "\t\n"
      ]
     },
     "execution_count": 33,
     "metadata": {},
     "output_type": "execute_result"
    },
    {
     "data": {
      "text/plain": [
       "395; 0.100;0.047883;0.600000; {min=-0.647, max=0.247}; {min=-0.419, max=0.237}; {0,1,1,0,0,1,1,0,1,0,1,0}\n",
       "\t\n"
      ]
     },
     "execution_count": 33,
     "metadata": {},
     "output_type": "execute_result"
    },
    {
     "data": {
      "text/plain": [
       "396; 0.100;0.047862;0.600000; {min=-0.647, max=0.247}; {min=-0.419, max=0.237}; {0,1,1,0,0,1,1,0,1,0,1,0}\n",
       "\t\n"
      ]
     },
     "execution_count": 33,
     "metadata": {},
     "output_type": "execute_result"
    },
    {
     "data": {
      "text/plain": [
       "397; 0.100;0.047841;0.600000; {min=-0.647, max=0.247}; {min=-0.419, max=0.237}; {0,1,1,0,0,1,1,0,1,0,1,0}\n",
       "\t\n"
      ]
     },
     "execution_count": 33,
     "metadata": {},
     "output_type": "execute_result"
    },
    {
     "data": {
      "text/plain": [
       "398; 0.100;0.047820;0.600000; {min=-0.647, max=0.247}; {min=-0.419, max=0.237}; {0,1,1,0,0,1,1,0,1,0,1,0}\n",
       "\t\n"
      ]
     },
     "execution_count": 33,
     "metadata": {},
     "output_type": "execute_result"
    },
    {
     "data": {
      "text/plain": [
       "399; 0.100;0.047800;0.600000; {min=-0.647, max=0.247}; {min=-0.419, max=0.237}; {0,1,1,0,0,1,1,0,1,0,1,0}\n",
       "\t\n"
      ]
     },
     "execution_count": 33,
     "metadata": {},
     "output_type": "execute_result"
    },
    {
     "data": {
      "text/plain": [
       "400; 0.100;0.047779;0.600000; {min=-0.647, max=0.247}; {min=-0.419, max=0.236}; {0,1,1,0,0,1,1,0,1,0,1,0}\n",
       "\t\n"
      ]
     },
     "execution_count": 33,
     "metadata": {},
     "output_type": "execute_result"
    },
    {
     "data": {
      "text/plain": [
       "401; 0.100;0.139021;0.500000; {min=-0.647, max=0.247}; {min=-0.419, max=0.638}; {0,1,1,0,0,1,0,1,1,0,1,0}\n",
       "\t\n"
      ]
     },
     "execution_count": 33,
     "metadata": {},
     "output_type": "execute_result"
    },
    {
     "data": {
      "text/plain": [
       "402; 0.100;0.047737;0.600000; {min=-0.647, max=0.247}; {min=-0.419, max=0.236}; {0,1,1,0,0,1,1,0,1,0,1,0}\n",
       "\t\n"
      ]
     },
     "execution_count": 33,
     "metadata": {},
     "output_type": "execute_result"
    },
    {
     "data": {
      "text/plain": [
       "403; 0.100;0.047715;0.600000; {min=-0.647, max=0.247}; {min=-0.419, max=0.236}; {0,1,1,0,0,1,1,0,1,0,1,0}\n",
       "\t\n"
      ]
     },
     "execution_count": 33,
     "metadata": {},
     "output_type": "execute_result"
    },
    {
     "data": {
      "text/plain": [
       "404; 0.100;0.047693;0.600000; {min=-0.647, max=0.247}; {min=-0.419, max=0.236}; {0,1,1,0,0,1,1,0,1,0,1,0}\n",
       "\t\n"
      ]
     },
     "execution_count": 33,
     "metadata": {},
     "output_type": "execute_result"
    },
    {
     "data": {
      "text/plain": [
       "405; 0.100;0.042135;0.352941; {min=-0.647, max=0.000}; {min=-0.419, max=0.211}; {0,1,1,0,1,0,1,0,1,0,1,0}\n",
       "\t\n"
      ]
     },
     "execution_count": 33,
     "metadata": {},
     "output_type": "execute_result"
    },
    {
     "data": {
      "text/plain": [
       "406; 0.100;0.055591;0.714286; {min=-0.647, max=0.247}; {min=-0.419, max=0.272}; {0,1,1,0,0,1,1,0,0,1,0,1}\n",
       "\t\n"
      ]
     },
     "execution_count": 33,
     "metadata": {},
     "output_type": "execute_result"
    },
    {
     "data": {
      "text/plain": [
       "407; 0.100;0.047631;0.600000; {min=-0.647, max=0.247}; {min=-0.419, max=0.236}; {0,1,1,0,0,1,1,0,1,0,1,0}\n",
       "\t\n"
      ]
     },
     "execution_count": 33,
     "metadata": {},
     "output_type": "execute_result"
    },
    {
     "data": {
      "text/plain": [
       "408; 0.100;0.047610;0.600000; {min=-0.647, max=0.247}; {min=-0.419, max=0.236}; {0,1,1,0,0,1,1,0,1,0,1,0}\n",
       "\t\n"
      ]
     },
     "execution_count": 33,
     "metadata": {},
     "output_type": "execute_result"
    },
    {
     "data": {
      "text/plain": [
       "409; 0.100;0.047590;0.600000; {min=-0.647, max=0.247}; {min=-0.419, max=0.236}; {0,1,1,0,0,1,1,0,1,0,1,0}\n",
       "\t\n"
      ]
     },
     "execution_count": 33,
     "metadata": {},
     "output_type": "execute_result"
    },
    {
     "data": {
      "text/plain": [
       "410; 0.100;0.046428;0.500000; {min=-0.647, max=0.247}; {min=-0.419, max=0.236}; {0,1,1,0,0,1,1,0,1,0,0,1}\n",
       "\t\n"
      ]
     },
     "execution_count": 33,
     "metadata": {},
     "output_type": "execute_result"
    },
    {
     "data": {
      "text/plain": [
       "411; 0.100;0.047551;0.600000; {min=-0.647, max=0.247}; {min=-0.419, max=0.235}; {0,1,1,0,0,1,1,0,1,0,1,0}\n",
       "\t\n"
      ]
     },
     "execution_count": 33,
     "metadata": {},
     "output_type": "execute_result"
    },
    {
     "data": {
      "text/plain": [
       "412; 0.100;0.041997;0.352941; {min=-0.647, max=0.000}; {min=-0.419, max=0.211}; {0,1,1,0,1,0,1,0,1,0,1,0}\n",
       "\t\n"
      ]
     },
     "execution_count": 33,
     "metadata": {},
     "output_type": "execute_result"
    },
    {
     "data": {
      "text/plain": [
       "413; 0.100;0.041978;0.352941; {min=-0.647, max=0.000}; {min=-0.419, max=0.211}; {0,1,1,0,1,0,1,0,1,0,1,0}\n",
       "\t\n"
      ]
     },
     "execution_count": 33,
     "metadata": {},
     "output_type": "execute_result"
    },
    {
     "data": {
      "text/plain": [
       "414; 0.100;0.047493;0.600000; {min=-0.647, max=0.247}; {min=-0.419, max=0.235}; {0,1,1,0,0,1,1,0,1,0,1,0}\n",
       "\t\n"
      ]
     },
     "execution_count": 33,
     "metadata": {},
     "output_type": "execute_result"
    },
    {
     "data": {
      "text/plain": [
       "415; 0.100;0.047474;0.600000; {min=-0.647, max=0.247}; {min=-0.420, max=0.235}; {0,1,1,0,0,1,1,0,1,0,1,0}\n",
       "\t\n"
      ]
     },
     "execution_count": 33,
     "metadata": {},
     "output_type": "execute_result"
    },
    {
     "data": {
      "text/plain": [
       "416; 0.100;0.047455;0.600000; {min=-0.647, max=0.247}; {min=-0.420, max=0.235}; {0,1,1,0,0,1,1,0,1,0,1,0}\n",
       "\t\n"
      ]
     },
     "execution_count": 33,
     "metadata": {},
     "output_type": "execute_result"
    },
    {
     "data": {
      "text/plain": [
       "417; 0.100;0.064281;0.000000; {min=-1.000, max=0.000}; {min=-0.420, max=0.161}; {1,0,0,1,1,0,1,0,1,0,1,0}\n",
       "\t\n"
      ]
     },
     "execution_count": 33,
     "metadata": {},
     "output_type": "execute_result"
    },
    {
     "data": {
      "text/plain": [
       "418; 0.100;0.047418;0.600000; {min=-0.647, max=0.247}; {min=-0.420, max=0.235}; {0,1,1,0,0,1,1,0,1,0,1,0}\n",
       "\t\n"
      ]
     },
     "execution_count": 33,
     "metadata": {},
     "output_type": "execute_result"
    },
    {
     "data": {
      "text/plain": [
       "419; 0.100;0.047400;0.600000; {min=-0.647, max=0.247}; {min=-0.420, max=0.235}; {0,1,1,0,0,1,1,0,1,0,1,0}\n",
       "\t\n"
      ]
     },
     "execution_count": 33,
     "metadata": {},
     "output_type": "execute_result"
    },
    {
     "data": {
      "text/plain": [
       "420; 0.100;0.047382;0.600000; {min=-0.647, max=0.247}; {min=-0.420, max=0.235}; {0,1,1,0,0,1,1,0,1,0,1,0}\n",
       "\t\n"
      ]
     },
     "execution_count": 33,
     "metadata": {},
     "output_type": "execute_result"
    },
    {
     "data": {
      "text/plain": [
       "421; 0.100;0.064234;0.000000; {min=-1.000, max=0.000}; {min=-0.420, max=0.161}; {1,0,0,1,1,0,1,0,1,0,1,0}\n",
       "\t\n"
      ]
     },
     "execution_count": 33,
     "metadata": {},
     "output_type": "execute_result"
    },
    {
     "data": {
      "text/plain": [
       "422; 0.100;0.047346;0.600000; {min=-0.647, max=0.247}; {min=-0.420, max=0.235}; {0,1,1,0,0,1,1,0,1,0,1,0}\n",
       "\t\n"
      ]
     },
     "execution_count": 33,
     "metadata": {},
     "output_type": "execute_result"
    },
    {
     "data": {
      "text/plain": [
       "423; 0.100;0.047328;0.600000; {min=-0.647, max=0.247}; {min=-0.420, max=0.234}; {0,1,1,0,0,1,1,0,1,0,1,0}\n",
       "\t\n"
      ]
     },
     "execution_count": 33,
     "metadata": {},
     "output_type": "execute_result"
    },
    {
     "data": {
      "text/plain": [
       "424; 0.100;0.064197;0.000000; {min=-1.000, max=0.000}; {min=-0.420, max=0.161}; {1,0,0,1,1,0,1,0,1,0,1,0}\n",
       "\t\n"
      ]
     },
     "execution_count": 33,
     "metadata": {},
     "output_type": "execute_result"
    },
    {
     "data": {
      "text/plain": [
       "425; 0.100;0.064184;0.000000; {min=-1.000, max=0.000}; {min=-0.420, max=0.161}; {1,0,0,1,1,0,1,0,1,0,1,0}\n",
       "\t\n"
      ]
     },
     "execution_count": 33,
     "metadata": {},
     "output_type": "execute_result"
    },
    {
     "data": {
      "text/plain": [
       "426; 0.100;0.047277;0.600000; {min=-0.647, max=0.247}; {min=-0.420, max=0.234}; {0,1,1,0,0,1,1,0,1,0,1,0}\n",
       "\t\n"
      ]
     },
     "execution_count": 33,
     "metadata": {},
     "output_type": "execute_result"
    },
    {
     "data": {
      "text/plain": [
       "427; 0.100;0.047261;0.600000; {min=-0.647, max=0.247}; {min=-0.420, max=0.234}; {0,1,1,0,0,1,1,0,1,0,1,0}\n",
       "\t\n"
      ]
     },
     "execution_count": 33,
     "metadata": {},
     "output_type": "execute_result"
    },
    {
     "data": {
      "text/plain": [
       "428; 0.100;0.047244;0.600000; {min=-0.647, max=0.247}; {min=-0.420, max=0.234}; {0,1,1,0,0,1,1,0,1,0,1,0}\n",
       "\t\n"
      ]
     },
     "execution_count": 33,
     "metadata": {},
     "output_type": "execute_result"
    },
    {
     "data": {
      "text/plain": [
       "429; 0.100;0.047227;0.600000; {min=-0.647, max=0.247}; {min=-0.420, max=0.234}; {0,1,1,0,0,1,1,0,1,0,1,0}\n",
       "\t\n"
      ]
     },
     "execution_count": 33,
     "metadata": {},
     "output_type": "execute_result"
    },
    {
     "data": {
      "text/plain": [
       "430; 0.100;0.047209;0.600000; {min=-0.647, max=0.247}; {min=-0.420, max=0.234}; {0,1,1,0,0,1,1,0,1,0,1,0}\n",
       "\t\n"
      ]
     },
     "execution_count": 33,
     "metadata": {},
     "output_type": "execute_result"
    },
    {
     "data": {
      "text/plain": [
       "431; 0.100;0.046122;0.500000; {min=-0.647, max=0.247}; {min=-0.420, max=0.234}; {0,1,1,0,0,1,1,0,1,0,0,1}\n",
       "\t\n"
      ]
     },
     "execution_count": 33,
     "metadata": {},
     "output_type": "execute_result"
    },
    {
     "data": {
      "text/plain": [
       "432; 0.100;0.047175;0.600000; {min=-0.647, max=0.247}; {min=-0.420, max=0.234}; {0,1,1,0,0,1,1,0,1,0,1,0}\n",
       "\t\n"
      ]
     },
     "execution_count": 33,
     "metadata": {},
     "output_type": "execute_result"
    },
    {
     "data": {
      "text/plain": [
       "433; 0.100;0.047158;0.600000; {min=-0.647, max=0.247}; {min=-0.420, max=0.234}; {0,1,1,0,0,1,1,0,1,0,1,0}\n",
       "\t\n"
      ]
     },
     "execution_count": 33,
     "metadata": {},
     "output_type": "execute_result"
    },
    {
     "data": {
      "text/plain": [
       "434; 0.100;0.064067;0.000000; {min=-1.000, max=0.000}; {min=-0.421, max=0.160}; {1,0,0,1,1,0,1,0,1,0,1,0}\n",
       "\t\n"
      ]
     },
     "execution_count": 33,
     "metadata": {},
     "output_type": "execute_result"
    },
    {
     "data": {
      "text/plain": [
       "435; 0.100;0.047124;0.600000; {min=-0.647, max=0.247}; {min=-0.421, max=0.233}; {0,1,1,0,0,1,1,0,1,0,1,0}\n",
       "\t\n"
      ]
     },
     "execution_count": 33,
     "metadata": {},
     "output_type": "execute_result"
    },
    {
     "data": {
      "text/plain": [
       "436; 0.100;0.064041;0.000000; {min=-1.000, max=0.000}; {min=-0.421, max=0.160}; {1,0,0,1,1,0,1,0,1,0,1,0}\n",
       "\t\n"
      ]
     },
     "execution_count": 33,
     "metadata": {},
     "output_type": "execute_result"
    },
    {
     "data": {
      "text/plain": [
       "437; 0.100;0.047091;0.600000; {min=-0.647, max=0.247}; {min=-0.421, max=0.233}; {0,1,1,0,0,1,1,0,1,0,1,0}\n",
       "\t\n"
      ]
     },
     "execution_count": 33,
     "metadata": {},
     "output_type": "execute_result"
    },
    {
     "data": {
      "text/plain": [
       "438; 0.100;0.064013;0.000000; {min=-1.000, max=0.000}; {min=-0.421, max=0.160}; {1,0,0,1,1,0,1,0,1,0,1,0}\n",
       "\t\n"
      ]
     },
     "execution_count": 33,
     "metadata": {},
     "output_type": "execute_result"
    },
    {
     "data": {
      "text/plain": [
       "439; 0.100;0.047058;0.600000; {min=-0.647, max=0.247}; {min=-0.421, max=0.233}; {0,1,1,0,0,1,1,0,1,0,1,0}\n",
       "\t\n"
      ]
     },
     "execution_count": 33,
     "metadata": {},
     "output_type": "execute_result"
    },
    {
     "data": {
      "text/plain": [
       "440; 0.100;0.041537;0.352941; {min=-0.647, max=0.000}; {min=-0.421, max=0.209}; {0,1,1,0,1,0,1,0,1,0,1,0}\n",
       "\t\n"
      ]
     },
     "execution_count": 33,
     "metadata": {},
     "output_type": "execute_result"
    },
    {
     "data": {
      "text/plain": [
       "441; 0.100;0.047026;0.600000; {min=-0.647, max=0.247}; {min=-0.421, max=0.233}; {0,1,1,0,0,1,1,0,1,0,1,0}\n",
       "\t\n"
      ]
     },
     "execution_count": 33,
     "metadata": {},
     "output_type": "execute_result"
    },
    {
     "data": {
      "text/plain": [
       "442; 0.100;0.041507;0.352941; {min=-0.647, max=0.000}; {min=-0.421, max=0.209}; {0,1,1,0,1,0,1,0,1,0,1,0}\n",
       "\t\n"
      ]
     },
     "execution_count": 33,
     "metadata": {},
     "output_type": "execute_result"
    },
    {
     "data": {
      "text/plain": [
       "443; 0.100;0.069887;0.000000; {min=-1.000, max=0.000}; {min=-0.421, max=0.160}; {1,0,0,1,1,0,1,0,1,0,0,1}\n",
       "\t\n"
      ]
     },
     "execution_count": 33,
     "metadata": {},
     "output_type": "execute_result"
    },
    {
     "data": {
      "text/plain": [
       "444; 0.100;0.046977;0.600000; {min=-0.647, max=0.247}; {min=-0.421, max=0.233}; {0,1,1,0,0,1,1,0,1,0,1,0}\n",
       "\t\n"
      ]
     },
     "execution_count": 33,
     "metadata": {},
     "output_type": "execute_result"
    },
    {
     "data": {
      "text/plain": [
       "445; 0.100;0.046961;0.600000; {min=-0.647, max=0.247}; {min=-0.421, max=0.233}; {0,1,1,0,0,1,1,0,1,0,1,0}\n",
       "\t\n"
      ]
     },
     "execution_count": 33,
     "metadata": {},
     "output_type": "execute_result"
    },
    {
     "data": {
      "text/plain": [
       "446; 0.100;0.118128;0.285714; {min=-0.647, max=0.000}; {min=-0.421, max=0.487}; {0,1,0,1,1,0,1,0,1,0,1,0}\n",
       "\t\n"
      ]
     },
     "execution_count": 33,
     "metadata": {},
     "output_type": "execute_result"
    },
    {
     "data": {
      "text/plain": [
       "447; 0.100;0.036976;0.285714; {min=-0.647, max=0.000}; {min=-0.421, max=0.208}; {0,1,1,0,1,0,1,0,1,0,0,1}\n",
       "\t\n"
      ]
     },
     "execution_count": 33,
     "metadata": {},
     "output_type": "execute_result"
    },
    {
     "data": {
      "text/plain": [
       "448; 0.100;0.046910;0.600000; {min=-0.647, max=0.247}; {min=-0.421, max=0.232}; {0,1,1,0,0,1,1,0,1,0,1,0}\n",
       "\t\n"
      ]
     },
     "execution_count": 33,
     "metadata": {},
     "output_type": "execute_result"
    },
    {
     "data": {
      "text/plain": [
       "449; 0.100;0.046892;0.600000; {min=-0.647, max=0.247}; {min=-0.421, max=0.232}; {0,1,1,0,0,1,1,0,1,0,1,0}\n",
       "\t\n"
      ]
     },
     "execution_count": 33,
     "metadata": {},
     "output_type": "execute_result"
    },
    {
     "data": {
      "text/plain": [
       "450; 0.100;0.046875;0.600000; {min=-0.647, max=0.247}; {min=-0.422, max=0.232}; {0,1,1,0,0,1,1,0,1,0,1,0}\n",
       "\t\n"
      ]
     },
     "execution_count": 33,
     "metadata": {},
     "output_type": "execute_result"
    },
    {
     "data": {
      "text/plain": [
       "451; 0.100;0.046857;0.600000; {min=-0.647, max=0.247}; {min=-0.422, max=0.232}; {0,1,1,0,0,1,1,0,1,0,1,0}\n",
       "\t\n"
      ]
     },
     "execution_count": 33,
     "metadata": {},
     "output_type": "execute_result"
    },
    {
     "data": {
      "text/plain": [
       "452; 0.100;0.046840;0.600000; {min=-0.647, max=0.247}; {min=-0.422, max=0.232}; {0,1,1,0,0,1,1,0,1,0,1,0}\n",
       "\t\n"
      ]
     },
     "execution_count": 33,
     "metadata": {},
     "output_type": "execute_result"
    },
    {
     "data": {
      "text/plain": [
       "453; 0.100;0.063808;0.000000; {min=-1.000, max=0.000}; {min=-0.422, max=0.159}; {1,0,0,1,1,0,1,0,1,0,1,0}\n",
       "\t\n"
      ]
     },
     "execution_count": 33,
     "metadata": {},
     "output_type": "execute_result"
    },
    {
     "data": {
      "text/plain": [
       "454; 0.100;0.046805;0.600000; {min=-0.647, max=0.247}; {min=-0.422, max=0.232}; {0,1,1,0,0,1,1,0,1,0,1,0}\n",
       "\t\n"
      ]
     },
     "execution_count": 33,
     "metadata": {},
     "output_type": "execute_result"
    },
    {
     "data": {
      "text/plain": [
       "455; 0.100;0.046788;0.600000; {min=-0.647, max=0.247}; {min=-0.422, max=0.232}; {0,1,1,0,0,1,1,0,1,0,1,0}\n",
       "\t\n"
      ]
     },
     "execution_count": 33,
     "metadata": {},
     "output_type": "execute_result"
    },
    {
     "data": {
      "text/plain": [
       "456; 0.100;0.046770;0.600000; {min=-0.647, max=0.247}; {min=-0.422, max=0.232}; {0,1,1,0,0,1,1,0,1,0,1,0}\n",
       "\t\n"
      ]
     },
     "execution_count": 33,
     "metadata": {},
     "output_type": "execute_result"
    },
    {
     "data": {
      "text/plain": [
       "457; 0.100;0.046753;0.600000; {min=-0.647, max=0.247}; {min=-0.422, max=0.232}; {0,1,1,0,0,1,1,0,1,0,1,0}\n",
       "\t\n"
      ]
     },
     "execution_count": 33,
     "metadata": {},
     "output_type": "execute_result"
    },
    {
     "data": {
      "text/plain": [
       "458; 0.100;0.136779;0.500000; {min=-0.647, max=0.247}; {min=-0.422, max=0.634}; {0,1,1,0,0,1,0,1,1,0,1,0}\n",
       "\t\n"
      ]
     },
     "execution_count": 33,
     "metadata": {},
     "output_type": "execute_result"
    },
    {
     "data": {
      "text/plain": [
       "459; 0.100;0.046716;0.600000; {min=-0.647, max=0.247}; {min=-0.422, max=0.231}; {0,1,1,0,0,1,1,0,1,0,1,0}\n",
       "\t\n"
      ]
     },
     "execution_count": 33,
     "metadata": {},
     "output_type": "execute_result"
    },
    {
     "data": {
      "text/plain": [
       "460; 0.100;0.046697;0.600000; {min=-0.647, max=0.247}; {min=-0.422, max=0.231}; {0,1,1,0,0,1,1,0,1,0,1,0}\n",
       "\t\n"
      ]
     },
     "execution_count": 33,
     "metadata": {},
     "output_type": "execute_result"
    },
    {
     "data": {
      "text/plain": [
       "461; 0.100;0.046677;0.600000; {min=-0.647, max=0.247}; {min=-0.422, max=0.231}; {0,1,1,0,0,1,1,0,1,0,1,0}\n",
       "\t\n"
      ]
     },
     "execution_count": 33,
     "metadata": {},
     "output_type": "execute_result"
    },
    {
     "data": {
      "text/plain": [
       "462; 0.100;0.046658;0.600000; {min=-0.647, max=0.247}; {min=-0.422, max=0.231}; {0,1,1,0,0,1,1,0,1,0,1,0}\n",
       "\t\n"
      ]
     },
     "execution_count": 33,
     "metadata": {},
     "output_type": "execute_result"
    },
    {
     "data": {
      "text/plain": [
       "463; 0.100;0.046639;0.600000; {min=-0.647, max=0.247}; {min=-0.422, max=0.231}; {0,1,1,0,0,1,1,0,1,0,1,0}\n",
       "\t\n"
      ]
     },
     "execution_count": 33,
     "metadata": {},
     "output_type": "execute_result"
    },
    {
     "data": {
      "text/plain": [
       "464; 0.100;0.046620;0.600000; {min=-0.647, max=0.247}; {min=-0.422, max=0.231}; {0,1,1,0,0,1,1,0,1,0,1,0}\n",
       "\t\n"
      ]
     },
     "execution_count": 33,
     "metadata": {},
     "output_type": "execute_result"
    },
    {
     "data": {
      "text/plain": [
       "465; 0.100;0.046601;0.600000; {min=-0.647, max=0.247}; {min=-0.422, max=0.231}; {0,1,1,0,0,1,1,0,1,0,1,0}\n",
       "\t\n"
      ]
     },
     "execution_count": 33,
     "metadata": {},
     "output_type": "execute_result"
    },
    {
     "data": {
      "text/plain": [
       "466; 0.100;0.046582;0.600000; {min=-0.647, max=0.247}; {min=-0.422, max=0.231}; {0,1,1,0,0,1,1,0,1,0,1,0}\n",
       "\t\n"
      ]
     },
     "execution_count": 33,
     "metadata": {},
     "output_type": "execute_result"
    },
    {
     "data": {
      "text/plain": [
       "467; 0.100;0.046563;0.600000; {min=-0.647, max=0.247}; {min=-0.422, max=0.231}; {0,1,1,0,0,1,1,0,1,0,1,0}\n",
       "\t\n"
      ]
     },
     "execution_count": 33,
     "metadata": {},
     "output_type": "execute_result"
    },
    {
     "data": {
      "text/plain": [
       "468; 0.100;0.046545;0.600000; {min=-0.647, max=0.247}; {min=-0.423, max=0.231}; {0,1,1,0,0,1,1,0,1,0,1,0}\n",
       "\t\n"
      ]
     },
     "execution_count": 33,
     "metadata": {},
     "output_type": "execute_result"
    },
    {
     "data": {
      "text/plain": [
       "469; 0.100;0.046526;0.600000; {min=-0.647, max=0.247}; {min=-0.423, max=0.231}; {0,1,1,0,0,1,1,0,1,0,1,0}\n",
       "\t\n"
      ]
     },
     "execution_count": 33,
     "metadata": {},
     "output_type": "execute_result"
    },
    {
     "data": {
      "text/plain": [
       "470; 0.100;0.046508;0.600000; {min=-0.647, max=0.247}; {min=-0.423, max=0.230}; {0,1,1,0,0,1,1,0,1,0,1,0}\n",
       "\t\n"
      ]
     },
     "execution_count": 33,
     "metadata": {},
     "output_type": "execute_result"
    },
    {
     "data": {
      "text/plain": [
       "471; 0.100;0.046489;0.600000; {min=-0.647, max=0.247}; {min=-0.423, max=0.230}; {0,1,1,0,0,1,1,0,1,0,1,0}\n",
       "\t\n"
      ]
     },
     "execution_count": 33,
     "metadata": {},
     "output_type": "execute_result"
    },
    {
     "data": {
      "text/plain": [
       "472; 0.100;0.046470;0.600000; {min=-0.647, max=0.247}; {min=-0.423, max=0.230}; {0,1,1,0,0,1,1,0,1,0,1,0}\n",
       "\t\n"
      ]
     },
     "execution_count": 33,
     "metadata": {},
     "output_type": "execute_result"
    },
    {
     "data": {
      "text/plain": [
       "473; 0.100;0.046452;0.600000; {min=-0.647, max=0.247}; {min=-0.423, max=0.230}; {0,1,1,0,0,1,1,0,1,0,1,0}\n",
       "\t\n"
      ]
     },
     "execution_count": 33,
     "metadata": {},
     "output_type": "execute_result"
    },
    {
     "data": {
      "text/plain": [
       "474; 0.100;0.040961;0.352941; {min=-0.647, max=0.000}; {min=-0.423, max=0.206}; {0,1,1,0,1,0,1,0,1,0,1,0}\n",
       "\t\n"
      ]
     },
     "execution_count": 33,
     "metadata": {},
     "output_type": "execute_result"
    },
    {
     "data": {
      "text/plain": [
       "475; 0.100;0.046415;0.600000; {min=-0.647, max=0.247}; {min=-0.423, max=0.230}; {0,1,1,0,0,1,1,0,1,0,1,0}\n",
       "\t\n"
      ]
     },
     "execution_count": 33,
     "metadata": {},
     "output_type": "execute_result"
    },
    {
     "data": {
      "text/plain": [
       "476; 0.100;0.046397;0.600000; {min=-0.647, max=0.247}; {min=-0.423, max=0.230}; {0,1,1,0,0,1,1,0,1,0,1,0}\n",
       "\t\n"
      ]
     },
     "execution_count": 33,
     "metadata": {},
     "output_type": "execute_result"
    },
    {
     "data": {
      "text/plain": [
       "477; 0.100;0.046379;0.600000; {min=-0.647, max=0.247}; {min=-0.423, max=0.230}; {0,1,1,0,0,1,1,0,1,0,1,0}\n",
       "\t\n"
      ]
     },
     "execution_count": 33,
     "metadata": {},
     "output_type": "execute_result"
    },
    {
     "data": {
      "text/plain": [
       "478; 0.100;0.036544;0.285714; {min=-0.647, max=0.000}; {min=-0.423, max=0.206}; {0,1,1,0,1,0,1,0,1,0,0,1}\n",
       "\t\n"
      ]
     },
     "execution_count": 33,
     "metadata": {},
     "output_type": "execute_result"
    },
    {
     "data": {
      "text/plain": [
       "479; 0.100;0.062624;0.833333; {min=-0.647, max=0.247}; {min=-0.423, max=0.265}; {0,1,1,0,0,1,1,0,0,1,1,0}\n",
       "\t\n"
      ]
     },
     "execution_count": 33,
     "metadata": {},
     "output_type": "execute_result"
    },
    {
     "data": {
      "text/plain": [
       "480; 0.100;0.046325;0.600000; {min=-0.647, max=0.247}; {min=-0.423, max=0.230}; {0,1,1,0,0,1,1,0,1,0,1,0}\n",
       "\t\n"
      ]
     },
     "execution_count": 33,
     "metadata": {},
     "output_type": "execute_result"
    },
    {
     "data": {
      "text/plain": [
       "481; 0.100;0.046307;0.600000; {min=-0.647, max=0.247}; {min=-0.423, max=0.230}; {0,1,1,0,0,1,1,0,1,0,1,0}\n",
       "\t\n"
      ]
     },
     "execution_count": 33,
     "metadata": {},
     "output_type": "execute_result"
    },
    {
     "data": {
      "text/plain": [
       "482; 0.100;0.046289;0.600000; {min=-0.647, max=0.247}; {min=-0.423, max=0.229}; {0,1,1,0,0,1,1,0,1,0,1,0}\n",
       "\t\n"
      ]
     },
     "execution_count": 33,
     "metadata": {},
     "output_type": "execute_result"
    },
    {
     "data": {
      "text/plain": [
       "483; 0.100;0.046271;0.600000; {min=-0.647, max=0.247}; {min=-0.423, max=0.229}; {0,1,1,0,0,1,1,0,1,0,1,0}\n",
       "\t\n"
      ]
     },
     "execution_count": 33,
     "metadata": {},
     "output_type": "execute_result"
    },
    {
     "data": {
      "text/plain": [
       "484; 0.100;0.046253;0.600000; {min=-0.647, max=0.247}; {min=-0.423, max=0.229}; {0,1,1,0,0,1,1,0,1,0,1,0}\n",
       "\t\n"
      ]
     },
     "execution_count": 33,
     "metadata": {},
     "output_type": "execute_result"
    },
    {
     "data": {
      "text/plain": [
       "485; 0.100;0.046235;0.600000; {min=-0.647, max=0.247}; {min=-0.423, max=0.229}; {0,1,1,0,0,1,1,0,1,0,1,0}\n",
       "\t\n"
      ]
     },
     "execution_count": 33,
     "metadata": {},
     "output_type": "execute_result"
    },
    {
     "data": {
      "text/plain": [
       "486; 0.100;0.062538;0.833333; {min=-0.647, max=0.247}; {min=-0.423, max=0.265}; {0,1,1,0,0,1,1,0,0,1,1,0}\n",
       "\t\n"
      ]
     },
     "execution_count": 33,
     "metadata": {},
     "output_type": "execute_result"
    },
    {
     "data": {
      "text/plain": [
       "487; 0.100;0.046199;0.600000; {min=-0.647, max=0.247}; {min=-0.423, max=0.229}; {0,1,1,0,0,1,1,0,1,0,1,0}\n",
       "\t\n"
      ]
     },
     "execution_count": 33,
     "metadata": {},
     "output_type": "execute_result"
    },
    {
     "data": {
      "text/plain": [
       "488; 0.100;0.046180;0.600000; {min=-0.647, max=0.247}; {min=-0.423, max=0.229}; {0,1,1,0,0,1,1,0,1,0,1,0}\n",
       "\t\n"
      ]
     },
     "execution_count": 33,
     "metadata": {},
     "output_type": "execute_result"
    },
    {
     "data": {
      "text/plain": [
       "489; 0.100;0.046162;0.600000; {min=-0.647, max=0.247}; {min=-0.423, max=0.229}; {0,1,1,0,0,1,1,0,1,0,1,0}\n",
       "\t\n"
      ]
     },
     "execution_count": 33,
     "metadata": {},
     "output_type": "execute_result"
    },
    {
     "data": {
      "text/plain": [
       "490; 0.100;0.046144;0.600000; {min=-0.647, max=0.247}; {min=-0.423, max=0.229}; {0,1,1,0,0,1,1,0,1,0,1,0}\n",
       "\t\n"
      ]
     },
     "execution_count": 33,
     "metadata": {},
     "output_type": "execute_result"
    },
    {
     "data": {
      "text/plain": [
       "491; 0.100;0.046125;0.600000; {min=-0.647, max=0.247}; {min=-0.424, max=0.229}; {0,1,1,0,0,1,1,0,1,0,1,0}\n",
       "\t\n"
      ]
     },
     "execution_count": 33,
     "metadata": {},
     "output_type": "execute_result"
    },
    {
     "data": {
      "text/plain": [
       "492; 0.100;0.046107;0.600000; {min=-0.647, max=0.247}; {min=-0.424, max=0.229}; {0,1,1,0,0,1,1,0,1,0,1,0}\n",
       "\t\n"
      ]
     },
     "execution_count": 33,
     "metadata": {},
     "output_type": "execute_result"
    },
    {
     "data": {
      "text/plain": [
       "493; 0.100;0.046089;0.600000; {min=-0.647, max=0.247}; {min=-0.424, max=0.228}; {0,1,1,0,0,1,1,0,1,0,1,0}\n",
       "\t\n"
      ]
     },
     "execution_count": 33,
     "metadata": {},
     "output_type": "execute_result"
    },
    {
     "data": {
      "text/plain": [
       "494; 0.100;0.046071;0.600000; {min=-0.647, max=0.247}; {min=-0.424, max=0.228}; {0,1,1,0,0,1,1,0,1,0,1,0}\n",
       "\t\n"
      ]
     },
     "execution_count": 33,
     "metadata": {},
     "output_type": "execute_result"
    },
    {
     "data": {
      "text/plain": [
       "495; 0.100;0.046053;0.600000; {min=-0.647, max=0.247}; {min=-0.424, max=0.228}; {0,1,1,0,0,1,1,0,1,0,1,0}\n",
       "\t\n"
      ]
     },
     "execution_count": 33,
     "metadata": {},
     "output_type": "execute_result"
    },
    {
     "data": {
      "text/plain": [
       "496; 0.100;0.046035;0.600000; {min=-0.647, max=0.247}; {min=-0.424, max=0.228}; {0,1,1,0,0,1,1,0,1,0,1,0}\n",
       "\t\n"
      ]
     },
     "execution_count": 33,
     "metadata": {},
     "output_type": "execute_result"
    },
    {
     "data": {
      "text/plain": [
       "497; 0.100;0.084175;0.285714; {min=-0.647, max=0.000}; {min=-0.424, max=0.483}; {0,1,1,0,1,0,0,1,1,0,1,0}\n",
       "\t\n"
      ]
     },
     "execution_count": 33,
     "metadata": {},
     "output_type": "execute_result"
    },
    {
     "data": {
      "text/plain": [
       "498; 0.100;0.045998;0.600000; {min=-0.647, max=0.247}; {min=-0.424, max=0.228}; {0,1,1,0,0,1,1,0,1,0,1,0}\n",
       "\t\n"
      ]
     },
     "execution_count": 33,
     "metadata": {},
     "output_type": "execute_result"
    },
    {
     "data": {
      "text/plain": [
       "499; 0.100;0.045979;0.600000; {min=-0.647, max=0.247}; {min=-0.424, max=0.228}; {0,1,1,0,0,1,1,0,1,0,1,0}\n",
       "\t\n"
      ]
     },
     "execution_count": 33,
     "metadata": {},
     "output_type": "execute_result"
    },
    {
     "data": {
      "text/plain": [
       "500; 0.100;0.045961;0.600000; {min=-0.647, max=0.247}; {min=-0.424, max=0.228}; {0,1,1,0,0,1,1,0,1,0,1,0}\n",
       "\t\n"
      ]
     },
     "execution_count": 33,
     "metadata": {},
     "output_type": "execute_result"
    }
   ],
   "source": [
    "tmp0 = {}\n",
    "tmp1 = {}\n",
    "for epoch=1,nepochs do\n",
    "    actions = torch.ByteTensor(streamSize,2):fill(0)\n",
    "    exploreDraws = torch.Tensor(streamSize)\n",
    "    summaryBuffer = torch.LongTensor(streamSize + 1, maxSummarySize):zero()\n",
    "    qValues = torch.Tensor(streamSize, 2):zero()\n",
    "    rouge = torch.Tensor(streamSize + 1):zero()\n",
    "\n",
    "    rouge[1] = 1\n",
    "    exploreDraws:uniform(0, 1)\n",
    "\n",
    "    summary = summaryBuffer:zero():narrow(1,1,1)\n",
    "    for i=1, streamSize do\n",
    "        --- the i extracts individual sentences from the stream\n",
    "         sentence = sentenceStream:narrow(1, i, 1)\n",
    "        qValues[i]:copy(model:forward({sentence, query, summary}))\n",
    "\n",
    "        if exploreDraws[i] <= epsilon then\n",
    "            actions[i][torch.random(SKIP, SELECT)] = 1\n",
    "        else \n",
    "            if qValues[i][SKIP] > qValues[i][SELECT] then\n",
    "                actions[i][SKIP] = 1\n",
    "            else\n",
    "                actions[i][SELECT] = 1\n",
    "            end\n",
    "        end\n",
    "\n",
    "        summary = buildSummary(\n",
    "            actions:narrow(1, 1, i), \n",
    "            sentenceStream:narrow(1, 1, i),\n",
    "            summaryBuffer:narrow(1, i + 1, 1)\n",
    "            )\n",
    "\n",
    "         generatedCounts = buildTokenCounts(summary) \n",
    "         recall, prec, f1 = rougeScores(generatedCounts, refCounts)\n",
    "        rouge[i + 1] = f1\n",
    "    end\n",
    "\n",
    "     max, argmax = torch.max(qValues, 2)\n",
    "     reward0 = rouge:narrow(1,2, streamSize) - rouge:narrow(1,1, streamSize)\n",
    "--      rewards0 = rouge:narrow(1,2, streamSize) - rouge:narrow(1,1, streamSize) \n",
    "     reward = reward0 --- + gamma * reward0:narrow(1, 2, streamSize-1):resize(streamSize)\n",
    "    tmp0[epoch] = reward0\n",
    "    tmp1[epoch] = gamma * reward0:narrow(1, 2, streamSize-1):resize(streamSize)\n",
    "--      reward = rewards0 + gamma * rewards0:narrow(1, 2, streamSize-1):resize(streamSize)\n",
    "    \n",
    "     querySize = query:size(2)\n",
    "     summaryBatch = summaryBuffer:narrow(1, 1, streamSize)\n",
    "     queryBatch = query:view(1, querySize):expand(streamSize, querySize) \n",
    "\n",
    "     input = {sentenceStream, queryBatch, summaryBatch}\n",
    "    if epoch == 1 then\n",
    "        print(input)\n",
    "    end\n",
    "\n",
    "     function feval(params)\n",
    "        gradParams:zero()\n",
    "         predQ = model:forward(input)\n",
    "         maskLayer = nn.MaskedSelect()\n",
    "         predQOnActions = maskLayer:forward({predQ, actions})\n",
    "\n",
    "         loss = criterion:forward(predQOnActions, reward)\n",
    "         gradOutput = criterion(predQOnActions, reward)\n",
    "         gradMaskLayer = maskLayer:backward({predQ, actions}, gradOutput)\n",
    "        model:backward(input, gradMaskLayer[1])\n",
    "        return loss, gradParams    \n",
    "    end\n",
    "\n",
    "     _, loss = optim.adam(feval, params, optimParams)\n",
    "    out = string.format(\"%i; %.3f;%.6f;%.6f; {min=%.3f, max=%.3f}; {min=%.3f, max=%.3f}; {%i,%i,%i,%i,%i,%i,%i,%i,%i,%i,%i,%i}\\n\", \n",
    "            epoch, epsilon, loss[1], rouge[streamSize + 1],\n",
    "            reward:min(), reward:max(),\n",
    "            qValues:min(), qValues:max(),\n",
    "            actions[1][1], \n",
    "            actions[1][2], \n",
    "            actions[2][1], \n",
    "            actions[2][2], \n",
    "            actions[3][1], \n",
    "            actions[3][2], \n",
    "            actions[4][1],\n",
    "            actions[4][2],\n",
    "            actions[5][1], \n",
    "            actions[5][2], \n",
    "            actions[6][1], \n",
    "            actions[6][2] \n",
    "        )\n",
    "    print(out)\n",
    "\n",
    "    if (epsilon - delta) <= base_explore_rate then\n",
    "        epsilon = base_explore_rate\n",
    "    else \n",
    "        epsilon = epsilon - delta\n",
    "    end\n",
    "end\n"
   ]
  },
  {
   "cell_type": "code",
   "execution_count": 34,
   "metadata": {
    "collapsed": false
   },
   "outputs": [
    {
     "data": {
      "text/plain": [
       "-0.6471\n",
       " 0.0000\n",
       " 0.0000\n",
       "-0.0672\n",
       " 0.0000\n",
       "-0.0457\n",
       "[torch.DoubleTensor of size 6]\n",
       "\n"
      ]
     },
     "execution_count": 34,
     "metadata": {},
     "output_type": "execute_result"
    }
   ],
   "source": [
    "tmp0[30]"
   ]
  },
  {
   "cell_type": "code",
   "execution_count": 35,
   "metadata": {
    "collapsed": false
   },
   "outputs": [
    {
     "data": {
      "text/plain": [
       "0.01 *\n",
       " 0.0000\n",
       " 0.0000\n",
       "-1.3445\n",
       " 0.0000\n",
       "-0.9143\n",
       " 0.0000\n",
       "[torch.DoubleTensor of size 6]\n",
       "\n"
      ]
     },
     "execution_count": 35,
     "metadata": {},
     "output_type": "execute_result"
    }
   ],
   "source": [
    "tmp1[30]"
   ]
  },
  {
   "cell_type": "code",
   "execution_count": 37,
   "metadata": {
    "collapsed": false
   },
   "outputs": [
    {
     "data": {
      "text/plain": [
       "-1.0000\n",
       " 0.0571\n",
       " 0.2766\n",
       "-0.0457\n",
       " 0.0000\n",
       " 0.0000\n",
       "[torch.DoubleTensor of size 6]\n",
       "\n",
       "-0.6605\n",
       "-0.0672\n",
       "-0.0091\n",
       " 0.0028\n",
       " 0.2311\n",
       "-0.0585\n",
       "[torch.DoubleTensor of size 6]\n",
       "\n",
       "-1.0000e+00\n",
       " 7.0588e-02\n",
       " 3.5294e-01\n",
       " 6.2745e-02\n",
       " 3.1373e-01\n",
       " 3.4545e-78\n",
       "[torch.DoubleTensor of size 6]\n",
       "\n",
       "-6.6050e-01\n",
       "-2.4370e-02\n",
       " 2.0000e-01\n",
       "-3.2143e-02\n",
       " 1.9643e-01\n",
       " 3.4545e-78\n",
       "[torch.DoubleTensor of size 6]\n",
       "\n",
       "-1.0000\n",
       " 0.0706\n",
       " 0.3395\n",
       "-0.0124\n",
       " 0.2588\n",
       "-0.0772\n",
       "[torch.DoubleTensor of size 6]\n",
       "\n",
       "-1.0000\n",
       " 0.0000\n",
       " 0.0000\n",
       " 0.0889\n",
       " 0.4444\n",
       " 0.0000\n",
       "[torch.DoubleTensor of size 6]\n",
       "\n",
       "-0.6605\n",
       "-0.0672\n",
       " 0.0000\n",
       " 0.0549\n",
       " 0.2743\n",
       " 0.0000\n",
       "[torch.DoubleTensor of size 6]\n",
       "\n",
       "-1.0000\n",
       " 0.0000\n",
       " 0.0000\n",
       " 0.0000\n",
       " 0.0000\n",
       " 0.0000\n",
       "[torch.DoubleTensor of size 6]\n",
       "\n",
       "-0.6471\n",
       " 0.0494\n",
       " 0.2471\n",
       " 0.0467\n",
       " 0.2095\n",
       "-0.1190\n",
       "[torch.DoubleTensor of size 6]\n",
       "\n",
       "-1.0000e+00\n",
       " 5.7143e-02\n",
       " 2.8571e-01\n",
       " 5.4857e-02\n",
       " 2.7429e-01\n",
       " 3.4545e-78\n",
       "[torch.DoubleTensor of size 6]\n",
       "\n",
       "-1.0000\n",
       " 0.0000\n",
       " 0.0000\n",
       " 0.0727\n",
       " 0.3636\n",
       " 0.0000\n",
       "[torch.DoubleTensor of size 6]\n",
       "\n",
       "-1.0000\n",
       " 0.0000\n",
       " 0.0000\n",
       " 0.0727\n",
       " 0.3636\n",
       " 0.0000\n",
       "[torch.DoubleTensor of size 6]\n",
       "\n",
       "-0.6605\n",
       "-0.0672\n",
       " 0.0000\n",
       " 0.0549\n",
       " 0.2588\n",
       "-0.0772\n",
       "[torch.DoubleTensor of size 6]\n",
       "\n",
       "-0.6471\n",
       " 0.0000\n",
       " 0.0000\n",
       " 0.0000\n",
       " 0.0000\n",
       " 0.0000\n",
       "[torch.DoubleTensor of size 6]\n",
       "\n",
       "-0.6605\n",
       "-0.0244\n",
       " 0.2000\n",
       "-0.0714\n",
       " 0.0000\n",
       " 0.0000\n",
       "[torch.DoubleTensor of size 6]\n",
       "\n",
       " -6.4706e-01\n",
       "  4.9412e-02\n",
       "  2.4706e-01\n",
       "  4.6667e-02\n",
       "  2.3333e-01\n",
       " 2.9708e-314\n",
       "[torch.DoubleTensor of size 6]\n",
       "\n",
       "-0.6471\n",
       " 0.0000\n",
       "-0.0134\n",
       "-0.0672\n",
       "-0.0091\n",
       "-0.0457\n",
       "[torch.DoubleTensor of size 6]\n",
       "\n",
       "-1.0000e+00\n",
       " 7.0588e-02\n",
       " 3.5294e-01\n",
       " 6.2745e-02\n",
       " 3.1373e-01\n",
       " 3.4545e-78\n",
       "[torch.DoubleTensor of size 6]\n",
       "\n",
       "-0.6471\n",
       " 0.0000\n",
       " 0.0000\n",
       " 0.0000\n",
       " 0.0000\n",
       " 0.0000\n",
       "[torch.DoubleTensor of size 6]\n",
       "\n",
       "-1.0000\n",
       " 0.0000\n",
       " 0.0000\n",
       " 0.0000\n",
       " 0.0000\n",
       " 0.0000\n",
       "[torch.DoubleTensor of size 6]\n",
       "\n",
       "-1.0000\n",
       " 0.0571\n",
       " 0.2857\n",
       " 0.0549\n",
       " 0.2588\n",
       "-0.0772\n",
       "[torch.DoubleTensor of size 6]\n",
       "\n",
       "-1.0000\n",
       " 0.0706\n",
       " 0.3395\n",
       "-0.0672\n",
       "-0.0091\n",
       "-0.0457\n",
       "[torch.DoubleTensor of size 6]\n",
       "\n",
       "-0.6605\n",
       "-0.0672\n",
       " 0.0000\n",
       " 0.0549\n",
       " 0.2588\n",
       "-0.0772\n",
       "[torch.DoubleTensor of size 6]\n",
       "\n",
       "-0.6605\n",
       "-0.0672\n",
       " 0.0000\n",
       " 0.0000\n",
       "-0.0091\n",
       "-0.0457\n",
       "[torch.DoubleTensor of size 6]\n",
       "\n",
       "-1.0000\n",
       " 0.0706\n",
       " 0.3395\n",
       "-0.0124\n",
       " 0.2588\n",
       "-0.0772\n",
       "[torch.DoubleTensor of size 6]\n",
       "\n",
       "-0.6605\n",
       "-0.0672\n",
       " 0.0000\n",
       " 0.0000\n",
       "-0.0091\n",
       "-0.0457\n",
       "[torch.DoubleTensor of size 6]\n",
       "\n",
       "-1.0000e+00\n",
       " 7.0588e-02\n",
       " 3.3950e-01\n",
       "-1.2370e-02\n",
       " 2.7429e-01\n",
       " 3.4545e-78\n",
       "[torch.DoubleTensor of size 6]\n",
       "\n",
       "-1.0000\n",
       " 0.0706\n",
       " 0.3395\n",
       "-0.0124\n",
       " 0.2588\n",
       "-0.0772\n",
       "[torch.DoubleTensor of size 6]\n",
       "\n",
       "-1.0000\n",
       " 0.0706\n",
       " 0.3395\n",
       "-0.0124\n",
       " 0.2588\n",
       "-0.0772\n",
       "[torch.DoubleTensor of size 6]\n",
       "\n",
       "-0.6471\n",
       " 0.0000\n",
       "-0.0134\n",
       "-0.0672\n",
       "-0.0091\n",
       "-0.0457\n",
       "[torch.DoubleTensor of size 6]\n",
       "\n",
       "-0.6605\n",
       "-0.0672\n",
       "-0.0091\n",
       "-0.0457\n",
       " 0.0000\n",
       " 0.0000\n",
       "[torch.DoubleTensor of size 6]\n",
       "\n",
       "-0.6471\n",
       " 0.0494\n",
       " 0.2271\n",
       "-0.1000\n",
       "-0.0143\n",
       "-0.0714\n",
       "[torch.DoubleTensor of size 6]\n",
       "\n",
       "-0.6605\n",
       "-0.0244\n",
       " 0.2000\n",
       "-0.0714\n",
       "-0.0107\n",
       "-0.0536\n",
       "[torch.DoubleTensor of size 6]\n",
       "\n",
       "-1.0000\n",
       " 0.0706\n",
       " 0.3529\n",
       " 0.0627\n",
       " 0.2924\n",
       "-0.1067\n",
       "[torch.DoubleTensor of size 6]\n",
       "\n",
       "-1.0000\n",
       " 0.0000\n",
       " 0.0000\n",
       " 0.0000\n",
       " 0.0000\n",
       " 0.0000\n",
       "[torch.DoubleTensor of size 6]\n",
       "\n",
       "-1.0000\n",
       " 0.0000\n",
       " 0.0000\n",
       " 0.0000\n",
       " 0.0000\n",
       " 0.0000\n",
       "[torch.DoubleTensor of size 6]\n",
       "\n",
       "-0.6471\n",
       " 0.0000\n",
       "-0.0134\n",
       "-0.0124\n",
       " 0.2588\n",
       "-0.0772\n",
       "[torch.DoubleTensor of size 6]\n",
       "\n",
       "-0.6471\n",
       " 0.0494\n",
       " 0.2471\n",
       " 0.0000\n",
       "-0.0200\n",
       "-0.1000\n",
       "[torch.DoubleTensor of size 6]\n",
       "\n",
       "-0.6605\n",
       "-0.0672\n",
       "-0.0091\n",
       "-0.0457\n",
       "-0.0066\n",
       "-0.0331\n",
       "[torch.DoubleTensor of size 6]\n",
       "\n",
       "-1.0000\n",
       " 0.0000\n",
       " 0.0000\n",
       " 0.0000\n",
       " 0.0000\n",
       " 0.0000\n",
       "[torch.DoubleTensor of size 6]\n",
       "\n",
       "-1.0000\n",
       " 0.0000\n",
       " 0.0000\n",
       " 0.0727\n",
       " 0.3636\n",
       " 0.0000\n",
       "[torch.DoubleTensor of size 6]\n",
       "\n",
       "-0.6471\n",
       " 0.0494\n",
       " 0.2471\n",
       " 0.0000\n",
       " 0.0000\n",
       " 0.0000\n",
       "[torch.DoubleTensor of size 6]\n",
       "\n",
       "-0.6605\n",
       "-0.0672\n",
       " 0.0000\n",
       " 0.0549\n",
       " 0.2743\n",
       " 1.6000\n",
       "[torch.DoubleTensor of size 6]\n",
       "\n",
       "-1.0000\n",
       " 0.0000\n",
       " 0.0000\n",
       " 0.0000\n",
       " 0.0000\n",
       " 0.0000\n",
       "[torch.DoubleTensor of size 6]\n",
       "\n",
       "-1.0000\n",
       " 0.0571\n",
       " 0.2857\n",
       " 0.0000\n",
       " 0.0000\n",
       " 0.0000\n",
       "[torch.DoubleTensor of size 6]\n",
       "\n"
      ]
     },
     "execution_count": 37,
     "metadata": {},
     "output_type": "execute_result"
    },
    {
     "data": {
      "text/plain": [
       "-6.4706e-01\n",
       " 4.9412e-02\n",
       " 2.4706e-01\n",
       " 4.6667e-02\n",
       " 2.3333e-01\n",
       " 3.4545e-78\n",
       "[torch.DoubleTensor of size 6]\n",
       "\n",
       " -6.4706e-01\n",
       "  4.9412e-02\n",
       "  2.4706e-01\n",
       "  4.6667e-02\n",
       "  2.3333e-01\n",
       " 1.3896e-310\n",
       "[torch.DoubleTensor of size 6]\n",
       "\n",
       "-0.6605\n",
       "-0.0672\n",
       " 0.0000\n",
       " 0.0549\n",
       " 0.2743\n",
       " 0.0000\n",
       "[torch.DoubleTensor of size 6]\n",
       "\n",
       " -6.4706e-01\n",
       "  4.9412e-02\n",
       "  2.4706e-01\n",
       "  4.6667e-02\n",
       "  2.3333e-01\n",
       "-2.9892e-155\n",
       "[torch.DoubleTensor of size 6]\n",
       "\n",
       "-6.4706e-01\n",
       " 4.9412e-02\n",
       " 2.4706e-01\n",
       " 4.6667e-02\n",
       " 2.3333e-01\n",
       " 3.4545e-78\n",
       "[torch.DoubleTensor of size 6]\n",
       "\n",
       "-1.0000\n",
       " 0.0000\n",
       " 0.0000\n",
       " 0.0000\n",
       " 0.0000\n",
       " 0.0000\n",
       "[torch.DoubleTensor of size 6]\n",
       "\n",
       "-1.0000\n",
       " 0.0000\n",
       " 0.0000\n",
       " 0.0000\n",
       " 0.0000\n",
       " 0.0000\n",
       "[torch.DoubleTensor of size 6]\n",
       "\n",
       "-1.0000\n",
       " 0.0706\n",
       " 0.3395\n",
       "-0.0672\n",
       " 0.0000\n",
       " 1.4000\n",
       "[torch.DoubleTensor of size 6]\n",
       "\n",
       "-6.4706e-01\n",
       " 4.9412e-02\n",
       " 2.2706e-01\n",
       "-5.7143e-02\n",
       " 2.1429e-01\n",
       " 3.4545e-78\n",
       "[torch.DoubleTensor of size 6]\n",
       "\n",
       "-1.0000\n",
       " 0.0706\n",
       " 0.3395\n",
       "-0.0672\n",
       " 0.0000\n",
       " 0.0000\n",
       "[torch.DoubleTensor of size 6]\n",
       "\n",
       "-6.4706e-01\n",
       " 4.9412e-02\n",
       " 2.4706e-01\n",
       " 0.0000e+00\n",
       " 0.0000e+00\n",
       "-4.6407e+76\n",
       "[torch.DoubleTensor of size 6]\n",
       "\n",
       "-0.6471\n",
       " 0.0000\n",
       " 0.0000\n",
       " 0.0000\n",
       "-0.0134\n",
       "-0.0672\n",
       "[torch.DoubleTensor of size 6]\n",
       "\n",
       "-0.6605\n",
       "-0.0672\n",
       "-0.0091\n",
       "-0.0457\n",
       " 0.0000\n",
       " 0.0000\n",
       "[torch.DoubleTensor of size 6]\n",
       "\n",
       "-1.0000\n",
       " 0.0000\n",
       " 0.0000\n",
       " 0.0000\n",
       " 0.0000\n",
       " 0.0000\n",
       "[torch.DoubleTensor of size 6]\n",
       "\n",
       "-0.6605\n",
       "-0.0672\n",
       " 0.0000\n",
       " 0.0549\n",
       " 0.2743\n",
       " 0.0000\n",
       "[torch.DoubleTensor of size 6]\n",
       "\n",
       "-1.0000\n",
       " 0.0000\n",
       " 0.0000\n",
       " 0.0000\n",
       " 0.0000\n",
       " 0.0000\n",
       "[torch.DoubleTensor of size 6]\n",
       "\n",
       " -6.4706e-01\n",
       "  4.9412e-02\n",
       "  2.4706e-01\n",
       "  4.6667e-02\n",
       "  2.3333e-01\n",
       "-5.3736e+153\n",
       "[torch.DoubleTensor of size 6]\n",
       "\n",
       "-0.6471\n",
       " 0.0494\n",
       " 0.2471\n",
       " 0.0000\n",
       "-0.0200\n",
       "-0.1000\n",
       "[torch.DoubleTensor of size 6]\n",
       "\n",
       "-0.6471\n",
       " 0.0000\n",
       " 0.0000\n",
       " 0.0000\n",
       " 0.0000\n",
       " 0.0000\n",
       "[torch.DoubleTensor of size 6]\n",
       "\n",
       "-1.0000\n",
       " 0.0000\n",
       " 0.0000\n",
       " 0.0000\n",
       " 0.0000\n",
       "-0.0000\n",
       "[torch.DoubleTensor of size 6]\n",
       "\n",
       "-0.6605\n",
       "-0.0672\n",
       "-0.0091\n",
       "-0.0457\n",
       " 0.0000\n",
       " 0.0000\n",
       "[torch.DoubleTensor of size 6]\n",
       "\n",
       "-1.0000\n",
       " 0.0000\n",
       " 0.0000\n",
       " 0.0000\n",
       " 0.0000\n",
       " 0.0000\n",
       "[torch.DoubleTensor of size 6]\n",
       "\n",
       "-0.6471\n",
       " 0.0494\n",
       " 0.2471\n",
       " 0.0000\n",
       " 0.0000\n",
       " 0.0000\n",
       "[torch.DoubleTensor of size 6]\n",
       "\n",
       "-1.0000\n",
       " 0.0000\n",
       " 0.0000\n",
       " 0.0000\n",
       " 0.0000\n",
       " 0.0000\n",
       "[torch.DoubleTensor of size 6]\n",
       "\n",
       "-0.6471\n",
       " 0.0000\n",
       " 0.0000\n",
       " 0.0000\n",
       " 0.0000\n",
       " 0.0000\n",
       "[torch.DoubleTensor of size 6]\n",
       "\n",
       "-0.6471\n",
       " 0.0000\n",
       " 0.0000\n",
       " 0.0000\n",
       "-0.0134\n",
       "-0.0672\n",
       "[torch.DoubleTensor of size 6]\n",
       "\n",
       "-0.6471\n",
       " 0.0000\n",
       " 0.0000\n",
       " 0.0000\n",
       "-0.0134\n",
       "-0.0672\n",
       "[torch.DoubleTensor of size 6]\n",
       "\n",
       "-6.4706e-01\n",
       " 4.9412e-02\n",
       " 2.4706e-01\n",
       " 4.6667e-02\n",
       " 2.3333e-01\n",
       " 3.4545e-78\n",
       "[torch.DoubleTensor of size 6]\n",
       "\n",
       "-0.6471\n",
       " 0.0494\n",
       " 0.2471\n",
       " 0.0000\n",
       " 0.0000\n",
       " 0.0000\n",
       "[torch.DoubleTensor of size 6]\n",
       "\n",
       "-0.6605\n",
       "-0.0672\n",
       " 0.0000\n",
       " 0.0000\n",
       "-0.0091\n",
       "-0.0457\n",
       "[torch.DoubleTensor of size 6]\n",
       "\n",
       "-6.6050e-01\n",
       "-2.4370e-02\n",
       " 2.1429e-01\n",
       " 4.2857e-02\n",
       " 2.1429e-01\n",
       " 3.4545e-78\n",
       "[torch.DoubleTensor of size 6]\n",
       "\n",
       "-1\n",
       " 0\n",
       " 0\n",
       " 0\n",
       " 0\n",
       " 0\n",
       "[torch.DoubleTensor of size 6]\n",
       "\n",
       "-6.4706e-01\n",
       " 4.9412e-02\n",
       " 2.4706e-01\n",
       " 4.6667e-02\n",
       " 2.3333e-01\n",
       " 3.4545e-78\n",
       "[torch.DoubleTensor of size 6]\n",
       "\n",
       "-0.6471\n",
       " 0.0494\n",
       " 0.2471\n",
       " 0.0000\n",
       " 0.0000\n",
       " 0.0000\n",
       "[torch.DoubleTensor of size 6]\n",
       "\n",
       "-0.6605\n",
       "-0.0672\n",
       "-0.0091\n",
       "-0.0457\n",
       "-0.0066\n",
       "-0.0331\n",
       "[torch.DoubleTensor of size 6]\n",
       "\n",
       "-0.6471\n",
       " 0.0494\n",
       " 0.2471\n",
       " 0.0000\n",
       " 0.0000\n",
       " 0.0000\n",
       "[torch.DoubleTensor of size 6]\n",
       "\n",
       "-0.6605\n",
       "-0.0672\n",
       "-0.0091\n",
       "-0.0457\n",
       " 0.0000\n",
       " 0.0000\n",
       "[torch.DoubleTensor of size 6]\n",
       "\n",
       "-0.6471\n",
       " 0.0494\n",
       " 0.2471\n",
       " 0.0467\n",
       " 0.2333\n",
       "-0.0040\n",
       "[torch.DoubleTensor of size 6]\n",
       "\n",
       "-0.6471\n",
       " 0.0494\n",
       " 0.2471\n",
       " 0.0000\n",
       "-0.0200\n",
       "-0.1000\n",
       "[torch.DoubleTensor of size 6]\n",
       "\n",
       " -6.4706e-01\n",
       "  0.0000e+00\n",
       "  0.0000e+00\n",
       "  6.2745e-02\n",
       "  2.9239e-01\n",
       "-6.2222e+230\n",
       "[torch.DoubleTensor of size 6]\n",
       "\n",
       "-0.6471\n",
       " 0.0494\n",
       " 0.2471\n",
       " 0.0000\n",
       " 0.0000\n",
       " 0.0000\n",
       "[torch.DoubleTensor of size 6]\n",
       "\n",
       "-6.6050e-01\n",
       "-6.7227e-02\n",
       " 0.0000e+00\n",
       " 0.0000e+00\n",
       "-9.1429e-03\n",
       " 4.6407e+76\n",
       "[torch.DoubleTensor of size 6]\n",
       "\n",
       "-0.6471\n",
       " 0.0494\n",
       " 0.2471\n",
       " 0.0000\n",
       " 0.0000\n",
       " 0.0000\n",
       "[torch.DoubleTensor of size 6]\n",
       "\n",
       "-0.6471\n",
       " 0.0494\n",
       " 0.2471\n",
       " 0.0000\n",
       " 0.0000\n",
       " 0.0000\n",
       "[torch.DoubleTensor of size 6]\n",
       "\n",
       "-0.6471\n",
       " 0.0000\n",
       " 0.0000\n",
       " 0.0000\n",
       " 0.0000\n",
       " 0.0000\n",
       "[torch.DoubleTensor of size 6]\n",
       "\n",
       "-0.6471\n",
       " 0.0494\n",
       " 0.2471\n",
       " 0.0000\n",
       " 0.0000\n",
       " 0.0000\n",
       "[torch.DoubleTensor of size 6]\n",
       "\n",
       "-0.6471\n",
       " 0.0494\n",
       " 0.2471\n",
       " 0.0000\n",
       " 0.0000\n",
       " 0.0000\n",
       "[torch.DoubleTensor of size 6]\n",
       "\n",
       "-0.6471\n",
       " 0.0494\n",
       " 0.2271\n",
       "-0.1000\n",
       " 0.0000\n",
       " 0.0000\n",
       "[torch"
      ]
     },
     "execution_count": 37,
     "metadata": {},
     "output_type": "execute_result"
    },
    {
     "data": {
      "text/plain": [
       ".DoubleTensor of size 6]\n",
       "\n",
       "-0.6471\n",
       " 0.0494\n",
       " 0.2471\n",
       " 0.0000\n",
       "-0.0200\n",
       "-0.1000\n",
       "[torch.DoubleTensor of size 6]\n",
       "\n",
       "-0.6471\n",
       " 0.0494\n",
       " 0.2471\n",
       " 0.0000\n",
       " 0.0000\n",
       " 0.0000\n",
       "[torch.DoubleTensor of size 6]\n",
       "\n",
       "-1.0000\n",
       " 0.0000\n",
       " 0.0000\n",
       " 0.0000\n",
       " 0.0000\n",
       " 0.0000\n",
       "[torch.DoubleTensor of size 6]\n",
       "\n",
       "-0.6471\n",
       " 0.0000\n",
       " 0.0000\n",
       " 0.0000\n",
       " 0.0000\n",
       " 0.0000\n",
       "[torch.DoubleTensor of size 6]\n",
       "\n",
       "-0.6471\n",
       " 0.0494\n",
       " 0.2471\n",
       " 0.0000\n",
       " 0.0000\n",
       " 0.0000\n",
       "[torch.DoubleTensor of size 6]\n",
       "\n",
       "-1.0000\n",
       " 0.0000\n",
       " 0.0000\n",
       " 0.0000\n",
       " 0.0000\n",
       " 0.0000\n",
       "[torch.DoubleTensor of size 6]\n",
       "\n",
       "-0.6471\n",
       " 0.0494\n",
       " 0.2471\n",
       " 0.0000\n",
       " 0.0000\n",
       " 0.0000\n",
       "[torch.DoubleTensor of size 6]\n",
       "\n",
       "-0.6471\n",
       " 0.0494\n",
       " 0.2471\n",
       " 0.0000\n",
       " 0.0000\n",
       " 0.0000\n",
       "[torch.DoubleTensor of size 6]\n",
       "\n",
       "-0.6605\n",
       "-0.0244\n",
       " 0.2143\n",
       " 0.0000\n",
       " 0.0000\n",
       " 0.0000\n",
       "[torch.DoubleTensor of size 6]\n",
       "\n",
       "-0.6471\n",
       " 0.0494\n",
       " 0.2471\n",
       " 0.0000\n",
       " 0.0000\n",
       " 0.0000\n",
       "[torch.DoubleTensor of size 6]\n",
       "\n",
       "-0.6471\n",
       " 0.0494\n",
       " 0.2471\n",
       " 0.0000\n",
       " 0.0000\n",
       " 0.0000\n",
       "[torch.DoubleTensor of size 6]\n",
       "\n",
       "-1.0000\n",
       " 0.0000\n",
       " 0.0000\n",
       " 0.0000\n",
       " 0.0000\n",
       " 0.0000\n",
       "[torch.DoubleTensor of size 6]\n",
       "\n",
       "-0.6471\n",
       " 0.0494\n",
       " 0.2471\n",
       " 0.0000\n",
       " 0.0000\n",
       " 0.0000\n",
       "[torch.DoubleTensor of size 6]\n",
       "\n",
       "-0.6471\n",
       " 0.0494\n",
       " 0.2471\n",
       " 0.0000\n",
       " 0.0000\n",
       " 0.0000\n",
       "[torch.DoubleTensor of size 6]\n",
       "\n",
       "-0.6471\n",
       " 0.0000\n",
       " 0.0000\n",
       " 0.0000\n",
       " 0.0000\n",
       " 0.0000\n",
       "[torch.DoubleTensor of size 6]\n",
       "\n",
       "-6.4706e-01\n",
       " 4.9412e-02\n",
       " 2.4706e-01\n",
       " 4.6667e-02\n",
       " 2.3333e-01\n",
       " 3.4545e-78\n",
       "[torch.DoubleTensor of size 6]\n",
       "\n",
       "-0.6471\n",
       " 0.0494\n",
       " 0.2471\n",
       " 0.0000\n",
       " 0.0000\n",
       " 0.0000\n",
       "[torch.DoubleTensor of size 6]\n",
       "\n",
       "-0.6605\n",
       "-0.0672\n",
       " 0.0000\n",
       " 0.0000\n",
       " 0.0000\n",
       "-0.4008\n",
       "[torch.DoubleTensor of size 6]\n",
       "\n",
       "-0.6471\n",
       " 0.0494\n",
       " 0.2471\n",
       " 0.0000\n",
       " 0.0000\n",
       " 0.0000\n",
       "[torch.DoubleTensor of size 6]\n",
       "\n",
       "-0.6471\n",
       " 0.0494\n",
       " 0.2271\n",
       "-0.1000\n",
       " 0.0000\n",
       " 0.0000\n",
       "[torch.DoubleTensor of size 6]\n",
       "\n",
       "-0.6471\n",
       " 0.0494\n",
       " 0.2271\n",
       "-0.1000\n",
       " 0.0000\n",
       " 0.0000\n",
       "[torch.DoubleTensor of size 6]\n",
       "\n",
       "-0.6471\n",
       " 0.0494\n",
       " 0.2471\n",
       " 0.0000\n",
       " 0.0000\n",
       " 0.0000\n",
       "[torch.DoubleTensor of size 6]\n",
       "\n",
       "-0.6471\n",
       " 0.0494\n",
       " 0.2471\n",
       " 0.0000\n",
       " 0.0000\n",
       " 0.0000\n",
       "[torch.DoubleTensor of size 6]\n",
       "\n",
       "-0.6471\n",
       " 0.0494\n",
       " 0.2471\n",
       " 0.0000\n",
       " 0.0000\n",
       " 0.0000\n",
       "[torch.DoubleTensor of size 6]\n",
       "\n",
       "-0.6471\n",
       " 0.0494\n",
       " 0.2471\n",
       " 0.0000\n",
       " 0.0000\n",
       " 0.0000\n",
       "[torch.DoubleTensor of size 6]\n",
       "\n",
       "-0.6471\n",
       " 0.0494\n",
       " 0.2471\n",
       " 0.0000\n",
       " 0.0000\n",
       " 0.0000\n",
       "[torch.DoubleTensor of size 6]\n",
       "\n",
       "-1.0000e+00\n",
       " 0.0000e+00\n",
       " 0.0000e+00\n",
       " 0.0000e+00\n",
       " 0.0000e+00\n",
       "6.2222e+230\n",
       "[torch.DoubleTensor of size 6]\n",
       "\n",
       "-0.6471\n",
       " 0.0494\n",
       " 0.2471\n",
       " 0.0000\n",
       " 0.0000\n",
       " 0.0000\n",
       "[torch.DoubleTensor of size 6]\n",
       "\n",
       "-0.6471\n",
       " 0.0494\n",
       " 0.2471\n",
       " 0.0000\n",
       " 0.0000\n",
       " 0.0000\n",
       "[torch.DoubleTensor of size 6]\n",
       "\n",
       " -6.4706e-01\n",
       "  4.9412e-02\n",
       "  2.4706e-01\n",
       "  4.6667e-02\n",
       "  2.3333e-01\n",
       " 1.8676e-321\n",
       "[torch.DoubleTensor of size 6]\n",
       "\n",
       "-0.6471\n",
       " 0.0494\n",
       " 0.2471\n",
       " 0.0000\n",
       " 0.0000\n",
       " 0.0000\n",
       "[torch.DoubleTensor of size 6]\n",
       "\n",
       "-0.6471\n",
       " 0.0494\n",
       " 0.2471\n",
       " 0.0000\n",
       " 0.0000\n",
       " 0.0000\n",
       "[torch.DoubleTensor of size 6]\n",
       "\n",
       "-0.6471\n",
       " 0.0494\n",
       " 0.2471\n",
       " 0.0000\n",
       " 0.0000\n",
       " 0.0000\n",
       "[torch.DoubleTensor of size 6]\n",
       "\n",
       "-0.6471\n",
       " 0.0494\n",
       " 0.2471\n",
       " 0.0000\n",
       " 0.0000\n",
       " 0.0000\n",
       "[torch.DoubleTensor of size 6]\n",
       "\n",
       " -6.4706e-01\n",
       "  4.9412e-02\n",
       "  2.4706e-01\n",
       "  4.6667e-02\n",
       "  2.3333e-01\n",
       " 2.4703e-323\n",
       "[torch.DoubleTensor of size 6]\n",
       "\n",
       "-0.6471\n",
       " 0.0494\n",
       " 0.2471\n",
       " 0.0000\n",
       " 0.0000\n",
       " 0.0000\n",
       "[torch.DoubleTensor of size 6]\n",
       "\n",
       "-0.6471\n",
       " 0.0494\n",
       " 0.2471\n",
       " 0.0000\n",
       " 0.0000\n",
       " 0.0000\n",
       "[torch.DoubleTensor of size 6]\n",
       "\n",
       "-0.6471\n",
       " 0.0494\n",
       " 0.2471\n",
       " 0.0000\n",
       " 0.0000\n",
       " 0.0000\n",
       "[torch.DoubleTensor of size 6]\n",
       "\n",
       "-0.6471\n",
       " 0.0494\n",
       " 0.2471\n",
       " 0.0000\n",
       " 0.0000\n",
       " 0.0000\n",
       "[torch.DoubleTensor of size 6]\n",
       "\n",
       "-0.6471\n",
       " 0.0494\n",
       " 0.2471\n",
       " 0.0000\n",
       " 0.0000\n",
       " 0.0000\n",
       "[torch.DoubleTensor of size 6]\n",
       "\n",
       "-0.6471\n",
       " 0.0494\n",
       " 0.2471\n",
       " 0.0000\n",
       " 0.0000\n",
       " 0.0000\n",
       "[torch.DoubleTensor of size 6]\n",
       "\n",
       "-0.6471\n",
       " 0.0494\n",
       " 0.2471\n",
       " 0.0000\n",
       " 0.0000\n",
       " 0.0000\n",
       "[torch.DoubleTensor of size 6]\n",
       "\n",
       "-0.6471\n",
       " 0.0494\n",
       " 0.2471\n",
       " 0.0000\n",
       " 0.0000\n",
       " 0.0000\n",
       "[torch.DoubleTensor of size 6]\n",
       "\n",
       "-0.6471\n",
       " 0.0494\n",
       " 0.2471\n",
       " 0.0000\n",
       " 0.0000\n",
       " 0.0000\n",
       "[torch.DoubleTensor of size 6]\n",
       "\n",
       "-0.6471\n",
       " 0.0494\n",
       " 0.2471\n",
       " 0.0000\n",
       " 0.0000\n",
       " 0.0000\n",
       "[torch.DoubleTensor of size 6]\n",
       "\n",
       "-0.6471\n",
       " 0.0494\n",
       " 0.2471\n",
       " 0.0000\n",
       " 0.0000\n",
       " 0.0000\n",
       "[torch.DoubleTensor of size 6]\n",
       "\n",
       "-0.6471\n",
       " 0.0494\n",
       " 0.2471\n",
       " 0.0000\n",
       " 0.0000\n",
       " 0.0000\n",
       "[torch.DoubleTensor of size 6]\n",
       "\n",
       "-0.6471\n",
       " 0.0494\n",
       " 0.2471\n",
       " 0.0000\n",
       " 0.0000\n",
       " 0.0000\n",
       "[torch.DoubleTensor of size 6]\n",
       "\n",
       "-0.6471\n",
       " 0.0494\n",
       " 0.2471\n",
       " 0.0000\n",
       " 0.0000\n",
       " 0.0000\n",
       "[torch.DoubleTensor of size 6]\n",
       "\n",
       "-0.6471\n",
       " 0.0494\n",
       " 0.2471\n",
       " 0.0000\n",
       " 0.0000\n",
       " 0"
      ]
     },
     "execution_count": 37,
     "metadata": {},
     "output_type": "execute_result"
    },
    {
     "data": {
      "text/plain": [
       ".0000\n",
       "[torch.DoubleTensor of size 6]\n",
       "\n",
       "-0.6471\n",
       " 0.0494\n",
       " 0.2471\n",
       " 0.0000\n",
       " 0.0000\n",
       " 0.0000\n",
       "[torch.DoubleTensor of size 6]\n",
       "\n",
       "-0.6471\n",
       " 0.0494\n",
       " 0.2471\n",
       " 0.0000\n",
       " 0.0000\n",
       " 0.0000\n",
       "[torch.DoubleTensor of size 6]\n",
       "\n",
       "-0.6471\n",
       " 0.0494\n",
       " 0.2471\n",
       " 0.0000\n",
       " 0.0000\n",
       " 0.0000\n",
       "[torch.DoubleTensor of size 6]\n",
       "\n",
       "-0.6471\n",
       " 0.0494\n",
       " 0.2471\n",
       " 0.0000\n",
       " 0.0000\n",
       " 0.0000\n",
       "[torch.DoubleTensor of size 6]\n",
       "\n",
       "-0.6471\n",
       " 0.0494\n",
       " 0.2471\n",
       " 0.0000\n",
       " 0.0000\n",
       " 0.0000\n",
       "[torch.DoubleTensor of size 6]\n",
       "\n",
       "-0.6471\n",
       " 0.0494\n",
       " 0.2471\n",
       " 0.0000\n",
       " 0.0000\n",
       "-0.4008\n",
       "[torch.DoubleTensor of size 6]\n",
       "\n",
       "-0.6471\n",
       " 0.0494\n",
       " 0.2471\n",
       " 0.0000\n",
       " 0.0000\n",
       " 0.0000\n",
       "[torch.DoubleTensor of size 6]\n",
       "\n",
       "-0.6471\n",
       " 0.0494\n",
       " 0.2471\n",
       " 0.0000\n",
       " 0.0000\n",
       " 0.0000\n",
       "[torch.DoubleTensor of size 6]\n",
       "\n",
       "-0.6471\n",
       " 0.0494\n",
       " 0.2471\n",
       " 0.0000\n",
       " 0.0000\n",
       " 0.0000\n",
       "[torch.DoubleTensor of size 6]\n",
       "\n",
       "-0.6471\n",
       " 0.0494\n",
       " 0.2471\n",
       " 0.0000\n",
       " 0.0000\n",
       " 0.0000\n",
       "[torch.DoubleTensor of size 6]\n",
       "\n",
       "-0.6471\n",
       " 0.0494\n",
       " 0.2471\n",
       " 0.0000\n",
       " 0.0000\n",
       " 0.0000\n",
       "[torch.DoubleTensor of size 6]\n",
       "\n",
       "-0.6471\n",
       " 0.0494\n",
       " 0.2471\n",
       " 0.0000\n",
       " 0.0000\n",
       " 0.0000\n",
       "[torch.DoubleTensor of size 6]\n",
       "\n",
       "-0.6471\n",
       " 0.0494\n",
       " 0.2471\n",
       " 0.0000\n",
       " 0.0000\n",
       " 0.0000\n",
       "[torch.DoubleTensor of size 6]\n",
       "\n",
       "-0.6471\n",
       " 0.0000\n",
       " 0.0000\n",
       " 0.0000\n",
       " 0.0000\n",
       " 0.0000\n",
       "[torch.DoubleTensor of size 6]\n",
       "\n",
       "-0.6605\n",
       "-0.0672\n",
       " 0.0000\n",
       " 0.0000\n",
       " 0.0000\n",
       " 0.0000\n",
       "[torch.DoubleTensor of size 6]\n",
       "\n",
       "-1.0000\n",
       " 0.0000\n",
       " 0.0000\n",
       " 0.0000\n",
       " 0.0000\n",
       " 0.0000\n",
       "[torch.DoubleTensor of size 6]\n",
       "\n",
       "-6.4706e-01\n",
       " 4.9412e-02\n",
       " 2.4706e-01\n",
       " 4.6667e-02\n",
       " 2.3333e-01\n",
       " 3.4545e-78\n",
       "[torch.DoubleTensor of size 6]\n",
       "\n",
       "-0.6471\n",
       " 0.0494\n",
       " 0.2471\n",
       " 0.0000\n",
       " 0.0000\n",
       " 0.0000\n",
       "[torch.DoubleTensor of size 6]\n",
       "\n",
       "-0.6471\n",
       " 0.0494\n",
       " 0.2271\n",
       "-0.0571\n",
       " 0.2143\n",
       " 0.0000\n",
       "[torch.DoubleTensor of size 6]\n",
       "\n",
       "-0.6471\n",
       " 0.0494\n",
       " 0.2471\n",
       " 0.0000\n",
       " 0.0000\n",
       " 0.0000\n",
       "[torch.DoubleTensor of size 6]\n",
       "\n",
       "-0.6605\n",
       "-0.0672\n",
       " 0.0000\n",
       " 0.0000\n",
       " 0.0000\n",
       " 0.0000\n",
       "[torch.DoubleTensor of size 6]\n",
       "\n",
       "-0.6471\n",
       " 0.0494\n",
       " 0.2471\n",
       " 0.0000\n",
       " 0.0000\n",
       " 0.0000\n",
       "[torch.DoubleTensor of size 6]\n",
       "\n",
       "-0.6471\n",
       " 0.0494\n",
       " 0.2471\n",
       " 0.0000\n",
       " 0.0000\n",
       " 0.0000\n",
       "[torch.DoubleTensor of size 6]\n",
       "\n",
       "-0.660504\n",
       "-0.067227\n",
       "0.000000\n",
       "0.000000\n",
       "0.000000\n",
       "nan\n",
       "[torch.DoubleTensor of size 6]\n",
       "\n",
       "-0.6471\n",
       " 0.0494\n",
       " 0.2271\n",
       "-0.1000\n",
       " 0.0000\n",
       " 0.0000\n",
       "[torch.DoubleTensor of size 6]\n",
       "\n",
       "-0.647059\n",
       "0.049412\n",
       "0.247059\n",
       "0.000000\n",
       "0.000000\n",
       "nan\n",
       "[torch.DoubleTensor of size 6]\n",
       "\n",
       "-0.6471\n",
       " 0.0494\n",
       " 0.2471\n",
       " 0.0000\n",
       " 0.0000\n",
       " 0.0000\n",
       "[torch.DoubleTensor of size 6]\n",
       "\n",
       "-0.6471\n",
       " 0.0494\n",
       " 0.2471\n",
       " 0.0000\n",
       " 0.0000\n",
       " 0.0000\n",
       "[torch.DoubleTensor of size 6]\n",
       "\n",
       " -6.4706e-01\n",
       "  4.9412e-02\n",
       "  2.4706e-01\n",
       "  0.0000e+00\n",
       " -2.0000e-02\n",
       " 5.3736e+153\n",
       "[torch.DoubleTensor of size 6]\n",
       "\n",
       "-6.4706e-01\n",
       " 4.9412e-02\n",
       " 2.4706e-01\n",
       " 0.0000e+00\n",
       " 0.0000e+00\n",
       " 4.6407e+76\n",
       "[torch.DoubleTensor of size 6]\n",
       "\n",
       "-1\n",
       " 0\n",
       " 0\n",
       " 0\n",
       " 0\n",
       " 0\n",
       "[torch.DoubleTensor of size 6]\n",
       "\n",
       "-0.6471\n",
       " 0.0494\n",
       " 0.2471\n",
       " 0.0000\n",
       " 0.0000\n",
       " 0.0000\n",
       "[torch.DoubleTensor of size 6]\n",
       "\n",
       "-0.6471\n",
       " 0.0494\n",
       " 0.2471\n",
       " 0.0000\n",
       " 0.0000\n",
       " 0.0000\n",
       "[torch.DoubleTensor of size 6]\n",
       "\n",
       "-0.6471\n",
       " 0.0494\n",
       " 0.2471\n",
       " 0.0000\n",
       " 0.0000\n",
       " 0.0000\n",
       "[torch.DoubleTensor of size 6]\n",
       "\n",
       "-0.6471\n",
       " 0.0494\n",
       " 0.2471\n",
       " 0.0000\n",
       " 0.0000\n",
       " 0.0000\n",
       "[torch.DoubleTensor of size 6]\n",
       "\n",
       "-0.6471\n",
       " 0.0494\n",
       " 0.2471\n",
       " 0.0000\n",
       " 0.0000\n",
       " 0.0000\n",
       "[torch.DoubleTensor of size 6]\n",
       "\n",
       "-0.6471\n",
       " 0.0494\n",
       " 0.2471\n",
       " 0.0000\n",
       " 0.0000\n",
       " 0.0000\n",
       "[torch.DoubleTensor of size 6]\n",
       "\n",
       "-0.6471\n",
       " 0.0494\n",
       " 0.2471\n",
       " 0.0000\n",
       " 0.0000\n",
       " 0.0000\n",
       "[torch.DoubleTensor of size 6]\n",
       "\n",
       " -6.4706e-01\n",
       "  4.9412e-02\n",
       "  2.4706e-01\n",
       "  4.6667e-02\n",
       "  2.3333e-01\n",
       " 1.7786e-322\n",
       "[torch.DoubleTensor of size 6]\n",
       "\n",
       "-0.6471\n",
       " 0.0494\n",
       " 0.2471\n",
       " 0.0000\n",
       " 0.0000\n",
       " 0.0000\n",
       "[torch.DoubleTensor of size 6]\n",
       "\n",
       "-0.6471\n",
       " 0.0494\n",
       " 0.2471\n",
       " 0.0000\n",
       " 0.0000\n",
       " 0.0000\n",
       "[torch.DoubleTensor of size 6]\n",
       "\n",
       "-0.6471\n",
       " 0.0494\n",
       " 0.2471\n",
       " 0.0000\n",
       " 0.0000\n",
       " 0.0000\n",
       "[torch.DoubleTensor of size 6]\n",
       "\n",
       "-0.6471\n",
       " 0.0494\n",
       " 0.2471\n",
       " 0.0000\n",
       " 0.0000\n",
       " 0.0000\n",
       "[torch.DoubleTensor of size 6]\n",
       "\n",
       "-0.6471\n",
       " 0.0494\n",
       " 0.2471\n",
       " 0.0000\n",
       " 0.0000\n",
       " 0.0000\n",
       "[torch.DoubleTensor of size 6]\n",
       "\n",
       "-0.6471\n",
       " 0.0494\n",
       " 0.2471\n",
       " 0.0000\n",
       " 0.0000\n",
       " 0.0000\n",
       "[torch.DoubleTensor of size 6]\n",
       "\n",
       "-0.6471\n",
       " 0.0494\n",
       " 0.2471\n",
       " 0.0000\n",
       " 0.0000\n",
       " 0.0000\n",
       "[torch.DoubleTensor of size 6]\n",
       "\n",
       "-0.6471\n",
       " 0.0494\n",
       " 0.2471\n",
       " 0.0000\n",
       " 0.0000\n",
       " 0.0000\n",
       "[torch.DoubleTensor of size 6]\n",
       "\n",
       "-0.6471\n",
       " 0.0494\n",
       " 0.2471\n",
       " 0.0000\n",
       " 0.0000\n",
       " 0.0000\n",
       "[torch.DoubleTensor of size 6]\n",
       "\n",
       "-0.6471\n",
       " 0.0494\n",
       " 0.2471\n",
       " 0.0000\n",
       " 0.0000\n",
       " 0.0000\n",
       "[torch.DoubleTensor of size 6]\n",
       "\n",
       "-0.6471\n",
       " 0.0494\n",
       " 0.2471\n",
       " 0.0000\n",
       " 0.0000\n",
       " 0.0000\n",
       "[torch."
      ]
     },
     "execution_count": 37,
     "metadata": {},
     "output_type": "execute_result"
    },
    {
     "data": {
      "text/plain": [
       "DoubleTensor of size 6]\n",
       "\n",
       " -6.4706e-01\n",
       "  4.9412e-02\n",
       "  2.2706e-01\n",
       " -5.7143e-02\n",
       "  2.1429e-01\n",
       " 1.0375e-322\n",
       "[torch.DoubleTensor of size 6]\n",
       "\n",
       "-0.6471\n",
       " 0.0494\n",
       " 0.2471\n",
       " 0.0000\n",
       " 0.0000\n",
       " 0.0000\n",
       "[torch.DoubleTensor of size 6]\n",
       "\n",
       "-0.6471\n",
       " 0.0494\n",
       " 0.2471\n",
       " 0.0000\n",
       " 0.0000\n",
       "-0.0000\n",
       "[torch.DoubleTensor of size 6]\n",
       "\n",
       "-0.6471\n",
       " 0.0000\n",
       "-0.0134\n",
       "-0.0672\n",
       " 0.0000\n",
       " 0.0000\n",
       "[torch.DoubleTensor of size 6]\n",
       "\n",
       "-0.6471\n",
       " 0.0494\n",
       " 0.2471\n",
       " 0.0000\n",
       " 0.0000\n",
       " 0.0000\n",
       "[torch.DoubleTensor of size 6]\n",
       "\n",
       "-0.6471\n",
       " 0.0494\n",
       " 0.2471\n",
       " 0.0467\n",
       " 0.2095\n",
       "-0.1190\n",
       "[torch.DoubleTensor of size 6]\n",
       "\n",
       "-0.6471\n",
       " 0.0494\n",
       " 0.2471\n",
       " 0.0000\n",
       " 0.0000\n",
       " 0.0000\n",
       "[torch.DoubleTensor of size 6]\n",
       "\n",
       "-0.6471\n",
       " 0.0494\n",
       " 0.2471\n",
       " 0.0000\n",
       " 0.0000\n",
       " 0.0000\n",
       "[torch.DoubleTensor of size 6]\n",
       "\n",
       "-0.6605\n",
       "-0.0672\n",
       " 0.0000\n",
       " 0.0000\n",
       " 0.0000\n",
       " 0.0000\n",
       "[torch.DoubleTensor of size 6]\n",
       "\n",
       "-0.6471\n",
       " 0.0494\n",
       " 0.2471\n",
       " 0.0000\n",
       " 0.0000\n",
       "-0.0000\n",
       "[torch.DoubleTensor of size 6]\n",
       "\n",
       "-0.6471\n",
       " 0.0494\n",
       " 0.2471\n",
       " 0.0000\n",
       " 0.0000\n",
       " 0.0000\n",
       "[torch.DoubleTensor of size 6]\n",
       "\n",
       "-0.6605\n",
       "-0.0672\n",
       " 0.0000\n",
       " 0.0000\n",
       " 0.0000\n",
       " 0.0000\n",
       "[torch.DoubleTensor of size 6]\n",
       "\n",
       "-0.6471\n",
       " 0.0494\n",
       " 0.2471\n",
       " 0.0000\n",
       " 0.0000\n",
       " 0.0000\n",
       "[torch.DoubleTensor of size 6]\n",
       "\n",
       "-0.6471\n",
       " 0.0494\n",
       " 0.2471\n",
       " 0.0000\n",
       " 0.0000\n",
       " 0.0000\n",
       "[torch.DoubleTensor of size 6]\n",
       "\n",
       "-0.6471\n",
       " 0.0494\n",
       " 0.2471\n",
       " 0.0000\n",
       " 0.0000\n",
       " 0.0000\n",
       "[torch.DoubleTensor of size 6]\n",
       "\n",
       "-0.6471\n",
       " 0.0494\n",
       " 0.2471\n",
       " 0.0000\n",
       " 0.0000\n",
       " 0.0000\n",
       "[torch.DoubleTensor of size 6]\n",
       "\n",
       "-6.4706e-01\n",
       " 4.9412e-02\n",
       " 2.4706e-01\n",
       " 4.6667e-02\n",
       " 2.3333e-01\n",
       " 4.6407e+76\n",
       "[torch.DoubleTensor of size 6]\n",
       "\n",
       "-0.6471\n",
       " 0.0494\n",
       " 0.2471\n",
       " 0.0467\n",
       " 0.2333\n",
       " 0.0000\n",
       "[torch.DoubleTensor of size 6]\n",
       "\n",
       "-0.6605\n",
       "-0.0672\n",
       " 0.0000\n",
       " 0.0000\n",
       " 0.0000\n",
       " 0.0000\n",
       "[torch.DoubleTensor of size 6]\n",
       "\n",
       "-0.6471\n",
       " 0.0494\n",
       " 0.2471\n",
       " 0.0000\n",
       " 0.0000\n",
       "-0.0000\n",
       "[torch.DoubleTensor of size 6]\n",
       "\n",
       "-0.6471\n",
       " 0.0494\n",
       " 0.2471\n",
       " 0.0000\n",
       " 0.0000\n",
       " 0.0000\n",
       "[torch.DoubleTensor of size 6]\n",
       "\n",
       "-0.6471\n",
       " 0.0494\n",
       " 0.2471\n",
       " 0.0000\n",
       " 0.0000\n",
       " 0.0000\n",
       "[torch.DoubleTensor of size 6]\n",
       "\n",
       "-0.6605\n",
       "-0.0672\n",
       " 0.0000\n",
       " 0.0000\n",
       " 0.0000\n",
       " 0.0000\n",
       "[torch.DoubleTensor of size 6]\n",
       "\n",
       "-0.6471\n",
       " 0.0494\n",
       " 0.2471\n",
       " 0.0467\n",
       " 0.2333\n",
       " 0.0000\n",
       "[torch.DoubleTensor of size 6]\n",
       "\n",
       "-0.6471\n",
       " 0.0494\n",
       " 0.2471\n",
       " 0.0000\n",
       " 0.0000\n",
       " 0.0000\n",
       "[torch.DoubleTensor of size 6]\n",
       "\n",
       "-0.6471\n",
       " 0.0494\n",
       " 0.2471\n",
       " 0.0000\n",
       " 0.0000\n",
       " 0.0000\n",
       "[torch.DoubleTensor of size 6]\n",
       "\n",
       "-0.6605\n",
       "-0.0672\n",
       " 0.0000\n",
       " 0.0000\n",
       " 0.0000\n",
       " 0.0000\n",
       "[torch.DoubleTensor of size 6]\n",
       "\n",
       "-0.6471\n",
       " 0.0494\n",
       " 0.2471\n",
       " 0.0000\n",
       " 0.0000\n",
       " 0.0000\n",
       "[torch.DoubleTensor of size 6]\n",
       "\n",
       "-0.6471\n",
       " 0.0494\n",
       " 0.2471\n",
       " 0.0000\n",
       " 0.0000\n",
       " 0.0000\n",
       "[torch.DoubleTensor of size 6]\n",
       "\n",
       "-0.6471\n",
       " 0.0494\n",
       " 0.2471\n",
       " 0.0000\n",
       " 0.0000\n",
       " 0.0000\n",
       "[torch.DoubleTensor of size 6]\n",
       "\n",
       "-0.6471\n",
       " 0.0494\n",
       " 0.2471\n",
       " 0.0000\n",
       " 0.0000\n",
       " 0.0000\n",
       "[torch.DoubleTensor of size 6]\n",
       "\n",
       "-0.6471\n",
       " 0.0494\n",
       " 0.2471\n",
       " 0.0000\n",
       " 0.0000\n",
       " 0.0000\n",
       "[torch.DoubleTensor of size 6]\n",
       "\n",
       "-0.6471\n",
       " 0.0494\n",
       " 0.2471\n",
       " 0.0000\n",
       " 0.0000\n",
       " 0.0000\n",
       "[torch.DoubleTensor of size 6]\n",
       "\n",
       "-0.6471\n",
       " 0.0494\n",
       " 0.2471\n",
       " 0.0000\n",
       " 0.0000\n",
       " 0.0000\n",
       "[torch.DoubleTensor of size 6]\n",
       "\n",
       "-0.6471\n",
       " 0.0494\n",
       " 0.2471\n",
       " 0.0000\n",
       " 0.0000\n",
       " 0.0000\n",
       "[torch.DoubleTensor of size 6]\n",
       "\n",
       "-0.6471\n",
       " 0.0494\n",
       " 0.2471\n",
       " 0.0000\n",
       " 0.0000\n",
       " 0.0000\n",
       "[torch.DoubleTensor of size 6]\n",
       "\n",
       "-0.6471\n",
       " 0.0494\n",
       " 0.2271\n",
       "-0.1000\n",
       " 0.0000\n",
       " 0.0000\n",
       "[torch.DoubleTensor of size 6]\n",
       "\n",
       "-0.6471\n",
       " 0.0494\n",
       " 0.2471\n",
       " 0.0000\n",
       " 0.0000\n",
       " 0.0000\n",
       "[torch.DoubleTensor of size 6]\n",
       "\n",
       "-0.6471\n",
       " 0.0494\n",
       " 0.2471\n",
       " 0.0000\n",
       " 0.0000\n",
       " 0.0000\n",
       "[torch.DoubleTensor of size 6]\n",
       "\n",
       "-0.6471\n",
       " 0.0494\n",
       " 0.2471\n",
       " 0.0000\n",
       " 0.0000\n",
       " 0.0000\n",
       "[torch.DoubleTensor of size 6]\n",
       "\n",
       "-0.6471\n",
       " 0.0494\n",
       " 0.2471\n",
       " 0.0000\n",
       " 0.0000\n",
       " 0.0000\n",
       "[torch.DoubleTensor of size 6]\n",
       "\n",
       "-0.6471\n",
       " 0.0494\n",
       " 0.2471\n",
       " 0.0000\n",
       " 0.0000\n",
       " 0.0000\n",
       "[torch.DoubleTensor of size 6]\n",
       "\n",
       "-0.6471\n",
       " 0.0494\n",
       " 0.2471\n",
       " 0.0000\n",
       " 0.0000\n",
       " 0.0000\n",
       "[torch.DoubleTensor of size 6]\n",
       "\n",
       "-0.6471\n",
       " 0.0000\n",
       " 0.0000\n",
       " 0.0627\n",
       " 0.3137\n",
       " 0.0000\n",
       "[torch.DoubleTensor of size 6]\n",
       "\n",
       "-0.6471\n",
       " 0.0494\n",
       " 0.2471\n",
       " 0.0467\n",
       " 0.2333\n",
       " 0.0000\n",
       "[torch.DoubleTensor of size 6]\n",
       "\n",
       "-6.4706e-01\n",
       " 4.9412e-02\n",
       " 2.4706e-01\n",
       " 4.6667e-02\n",
       " 2.3333e-01\n",
       " 3.4545e-78\n",
       "[torch.DoubleTensor of size 6]\n",
       "\n",
       "-0.6471\n",
       " 0.0494\n",
       " 0.2471\n",
       " 0.0000\n",
       " 0.0000\n",
       " 0.0000\n",
       "[torch.DoubleTensor of size 6]\n",
       "\n",
       "-6.4706e-01\n",
       " 4.9412e-02\n",
       " 2.2706e-01\n",
       "-5.7143e-02\n",
       " 2.1429e-01\n",
       " 3.4545e-78\n",
       "[torch.DoubleTensor of size 6]\n",
       "\n",
       "-0.6471\n",
       " 0.0494\n",
       " 0.2471\n",
       " 0.0000\n",
       " 0.0000\n",
       " 0.0000\n",
       "[torch.DoubleTensor of size 6]\n",
       "\n",
       " -6.4706e-01\n",
       "  4.9412e-02\n",
       "  2.4706e-01\n",
       "  0.0000e+"
      ]
     },
     "execution_count": 37,
     "metadata": {},
     "output_type": "execute_result"
    },
    {
     "data": {
      "text/plain": [
       "00\n",
       "  0.0000e+00\n",
       "-5.3736e+153\n",
       "[torch.DoubleTensor of size 6]\n",
       "\n",
       "-0.6471\n",
       " 0.0494\n",
       " 0.2471\n",
       " 0.0000\n",
       " 0.0000\n",
       " 0.0000\n",
       "[torch.DoubleTensor of size 6]\n",
       "\n",
       "-0.6471\n",
       " 0.0494\n",
       " 0.2471\n",
       " 0.0000\n",
       " 0.0000\n",
       " 0.0000\n",
       "[torch.DoubleTensor of size 6]\n",
       "\n",
       "-0.6471\n",
       " 0.0494\n",
       " 0.2271\n",
       "-0.1000\n",
       " 0.0000\n",
       " 0.0000\n",
       "[torch.DoubleTensor of size 6]\n",
       "\n",
       "-0.6471\n",
       " 0.0494\n",
       " 0.2471\n",
       " 0.0000\n",
       " 0.0000\n",
       " 0.0000\n",
       "[torch.DoubleTensor of size 6]\n",
       "\n",
       "-0.6471\n",
       " 0.0494\n",
       " 0.2471\n",
       " 0.0000\n",
       " 0.0000\n",
       " 0.0000\n",
       "[torch.DoubleTensor of size 6]\n",
       "\n",
       "-0.6471\n",
       " 0.0494\n",
       " 0.2471\n",
       " 0.0000\n",
       " 0.0000\n",
       " 0.0000\n",
       "[torch.DoubleTensor of size 6]\n",
       "\n",
       "-0.6471\n",
       " 0.0000\n",
       " 0.0000\n",
       " 0.0000\n",
       " 0.0000\n",
       " 0.0000\n",
       "[torch.DoubleTensor of size 6]\n",
       "\n",
       "-0.6471\n",
       " 0.0494\n",
       " 0.2471\n",
       " 0.0000\n",
       " 0.0000\n",
       " 0.0000\n",
       "[torch.DoubleTensor of size 6]\n",
       "\n",
       "-0.6471\n",
       " 0.0494\n",
       " 0.2471\n",
       " 0.0000\n",
       " 0.0000\n",
       " 0.0000\n",
       "[torch.DoubleTensor of size 6]\n",
       "\n",
       "-0.6471\n",
       " 0.0494\n",
       " 0.2471\n",
       " 0.0000\n",
       " 0.0000\n",
       " 0.0000\n",
       "[torch.DoubleTensor of size 6]\n",
       "\n",
       "-0.6471\n",
       " 0.0494\n",
       " 0.2471\n",
       " 0.0000\n",
       " 0.0000\n",
       " 0.0000\n",
       "[torch.DoubleTensor of size 6]\n",
       "\n",
       "-0.6471\n",
       " 0.0494\n",
       " 0.2271\n",
       "-0.1000\n",
       " 0.0000\n",
       " 0.0000\n",
       "[torch.DoubleTensor of size 6]\n",
       "\n",
       "-0.6471\n",
       " 0.0494\n",
       " 0.2471\n",
       " 0.0000\n",
       " 0.0000\n",
       " 0.0000\n",
       "[torch.DoubleTensor of size 6]\n",
       "\n",
       "-0.6471\n",
       " 0.0494\n",
       " 0.2471\n",
       " 0.0000\n",
       " 0.0000\n",
       " 0.0000\n",
       "[torch.DoubleTensor of size 6]\n",
       "\n",
       "-0.6471\n",
       " 0.0494\n",
       " 0.2471\n",
       " 0.0000\n",
       " 0.0000\n",
       " 0.0000\n",
       "[torch.DoubleTensor of size 6]\n",
       "\n",
       "-0.6471\n",
       " 0.0494\n",
       " 0.2471\n",
       " 0.0000\n",
       " 0.0000\n",
       " 0.0000\n",
       "[torch.DoubleTensor of size 6]\n",
       "\n",
       "-0.6471\n",
       " 0.0000\n",
       " 0.0000\n",
       " 0.0000\n",
       " 0.0000\n",
       " 0.0000\n",
       "[torch.DoubleTensor of size 6]\n",
       "\n",
       "-0.6471\n",
       " 0.0494\n",
       " 0.2471\n",
       " 0.0000\n",
       " 0.0000\n",
       " 0.0000\n",
       "[torch.DoubleTensor of size 6]\n",
       "\n",
       "-0.6471\n",
       " 0.0494\n",
       " 0.2471\n",
       " 0.0467\n",
       " 0.2333\n",
       " 0.0000\n",
       "[torch.DoubleTensor of size 6]\n",
       "\n",
       "-0.6471\n",
       " 0.0494\n",
       " 0.2471\n",
       " 0.0000\n",
       " 0.0000\n",
       " 0.0000\n",
       "[torch.DoubleTensor of size 6]\n",
       "\n",
       "-0.6471\n",
       " 0.0494\n",
       " 0.2471\n",
       " 0.0000\n",
       " 0.0000\n",
       " 0.0000\n",
       "[torch.DoubleTensor of size 6]\n",
       "\n",
       "-0.6471\n",
       " 0.0494\n",
       " 0.2471\n",
       " 0.0000\n",
       " 0.0000\n",
       " 0.0000\n",
       "[torch.DoubleTensor of size 6]\n",
       "\n",
       "-0.6471\n",
       " 0.0494\n",
       " 0.2471\n",
       " 0.0000\n",
       " 0.0000\n",
       " 0.0000\n",
       "[torch.DoubleTensor of size 6]\n",
       "\n",
       "-0.6471\n",
       " 0.0494\n",
       " 0.2471\n",
       " 0.0000\n",
       " 0.0000\n",
       " 0.0000\n",
       "[torch.DoubleTensor of size 6]\n",
       "\n",
       "-0.6471\n",
       " 0.0494\n",
       " 0.2471\n",
       " 0.0000\n",
       " 0.0000\n",
       " 0.0000\n",
       "[torch.DoubleTensor of size 6]\n",
       "\n",
       "-0.6471\n",
       " 0.0494\n",
       " 0.2471\n",
       " 0.0000\n",
       " 0.0000\n",
       " 0.0000\n",
       "[torch.DoubleTensor of size 6]\n",
       "\n",
       "-0.6471\n",
       " 0.0494\n",
       " 0.2471\n",
       " 0.0000\n",
       " 0.0000\n",
       " 0.0000\n",
       "[torch.DoubleTensor of size 6]\n",
       "\n",
       "-0.6471\n",
       " 0.0494\n",
       " 0.2471\n",
       " 0.0000\n",
       " 0.0000\n",
       " 0.0000\n",
       "[torch.DoubleTensor of size 6]\n",
       "\n",
       "-0.6471\n",
       " 0.0494\n",
       " 0.2471\n",
       " 0.0000\n",
       " 0.0000\n",
       " 0.0000\n",
       "[torch.DoubleTensor of size 6]\n",
       "\n",
       "-0.6471\n",
       " 0.0494\n",
       " 0.2471\n",
       " 0.0000\n",
       " 0.0000\n",
       " 0.0000\n",
       "[torch.DoubleTensor of size 6]\n",
       "\n",
       "-0.6471\n",
       " 0.0494\n",
       " 0.2471\n",
       " 0.0000\n",
       " 0.0000\n",
       " 0.0000\n",
       "[torch.DoubleTensor of size 6]\n",
       "\n",
       "-0.6471\n",
       " 0.0494\n",
       " 0.2471\n",
       " 0.0000\n",
       " 0.0000\n",
       " 0.0000\n",
       "[torch.DoubleTensor of size 6]\n",
       "\n",
       "-0.6471\n",
       " 0.0494\n",
       " 0.2271\n",
       "-0.1000\n",
       " 0.0000\n",
       " 0.0000\n",
       "[torch.DoubleTensor of size 6]\n",
       "\n",
       "-0.6471\n",
       " 0.0494\n",
       " 0.2471\n",
       " 0.0000\n",
       " 0.0000\n",
       " 0.0000\n",
       "[torch.DoubleTensor of size 6]\n",
       "\n",
       " -6.4706e-01\n",
       "  4.9412e-02\n",
       "  2.4706e-01\n",
       "  4.6667e-02\n",
       "  2.3333e-01\n",
       " 1.7786e-322\n",
       "[torch.DoubleTensor of size 6]\n",
       "\n",
       "-0.6471\n",
       " 0.0494\n",
       " 0.2471\n",
       " 0.0000\n",
       " 0.0000\n",
       " 0.0000\n",
       "[torch.DoubleTensor of size 6]\n",
       "\n",
       "-0.6471\n",
       " 0.0494\n",
       " 0.2471\n",
       " 0.0000\n",
       " 0.0000\n",
       " 0.0000\n",
       "[torch.DoubleTensor of size 6]\n",
       "\n",
       "-0.6471\n",
       " 0.0494\n",
       " 0.2471\n",
       " 0.0000\n",
       " 0.0000\n",
       " 0.0000\n",
       "[torch.DoubleTensor of size 6]\n",
       "\n",
       "-0.6471\n",
       " 0.0494\n",
       " 0.2471\n",
       " 0.0000\n",
       " 0.0000\n",
       " 0.0000\n",
       "[torch.DoubleTensor of size 6]\n",
       "\n",
       "-0.6605\n",
       "-0.0672\n",
       " 0.0000\n",
       " 0.0000\n",
       " 0.0000\n",
       " 0.0000\n",
       "[torch.DoubleTensor of size 6]\n",
       "\n",
       "-0.6471\n",
       " 0.0494\n",
       " 0.2471\n",
       " 0.0000\n",
       " 0.0000\n",
       " 0.0000\n",
       "[torch.DoubleTensor of size 6]\n",
       "\n",
       "-1.0000\n",
       " 0.0000\n",
       " 0.0000\n",
       " 0.0000\n",
       " 0.0000\n",
       " 0.0000\n",
       "[torch.DoubleTensor of size 6]\n",
       "\n",
       "-0.6471\n",
       " 0.0494\n",
       " 0.2471\n",
       " 0.0000\n",
       " 0.0000\n",
       " 0.0000\n",
       "[torch.DoubleTensor of size 6]\n",
       "\n",
       "-0.6471\n",
       " 0.0494\n",
       " 0.2471\n",
       " 0.0000\n",
       " 0.0000\n",
       " 0.0000\n",
       "[torch.DoubleTensor of size 6]\n",
       "\n",
       "-0.6471\n",
       " 0.0494\n",
       " 0.2471\n",
       " 0.0000\n",
       "-0.0200\n",
       "-0.1000\n",
       "[torch.DoubleTensor of size 6]\n",
       "\n",
       "-1.0000\n",
       " 0.0000\n",
       " 0.0000\n",
       " 0.0000\n",
       " 0.0000\n",
       " 0.0000\n",
       "[torch.DoubleTensor of size 6]\n",
       "\n",
       "-0.6471\n",
       " 0.0494\n",
       " 0.2471\n",
       " 0.0000\n",
       " 0.0000\n",
       " 0.0000\n",
       "[torch.DoubleTensor of size 6]\n",
       "\n",
       "-0.6471\n",
       " 0.0494\n",
       " 0.2471\n",
       " 0.0467\n",
       " 0.2333\n",
       " 0.0000\n",
       "[torch.DoubleTensor of size 6]\n",
       "\n",
       "-0.6471\n",
       " 0.0494\n",
       " 0.2471\n",
       " 0.0000\n",
       " 0.0000\n",
       " 0.0000\n",
       "[torch.DoubleTensor of size 6]\n",
       "\n",
       "-0.6605\n",
       "-0.0672\n",
       " 0.0000\n",
       " 0.0000\n",
       " 0.0000\n",
       " 0.0000\n",
       "[torch.DoubleTensor of size 6]\n",
       "\n",
       "-0.64"
      ]
     },
     "execution_count": 37,
     "metadata": {},
     "output_type": "execute_result"
    },
    {
     "data": {
      "text/plain": [
       "71\n",
       " 0.0494\n",
       " 0.2471\n",
       " 0.0000\n",
       " 0.0000\n",
       " 0.0000\n",
       "[torch.DoubleTensor of size 6]\n",
       "\n",
       "-0.6471\n",
       " 0.0494\n",
       " 0.2471\n",
       " 0.0000\n",
       " 0.0000\n",
       " 0.0000\n",
       "[torch.DoubleTensor of size 6]\n",
       "\n",
       "-0.6471\n",
       " 0.0494\n",
       " 0.2471\n",
       " 0.0000\n",
       " 0.0000\n",
       "-0.0000\n",
       "[torch.DoubleTensor of size 6]\n",
       "\n",
       "-1.0000\n",
       " 0.0000\n",
       " 0.0000\n",
       " 0.0000\n",
       " 0.0000\n",
       " 0.0000\n",
       "[torch.DoubleTensor of size 6]\n",
       "\n",
       "-0.6471\n",
       " 0.0494\n",
       " 0.2471\n",
       " 0.0000\n",
       " 0.0000\n",
       " 0.0000\n",
       "[torch.DoubleTensor of size 6]\n",
       "\n",
       "-0.6471\n",
       " 0.0494\n",
       " 0.2471\n",
       " 0.0000\n",
       " 0.0000\n",
       "-0.0000\n",
       "[torch.DoubleTensor of size 6]\n",
       "\n",
       "-0.6471\n",
       " 0.0494\n",
       " 0.2471\n",
       " 0.0000\n",
       " 0.0000\n",
       " 0.0000\n",
       "[torch.DoubleTensor of size 6]\n",
       "\n",
       "-0.6471\n",
       " 0.0494\n",
       " 0.2471\n",
       " 0.0000\n",
       " 0.0000\n",
       " 0.0000\n",
       "[torch.DoubleTensor of size 6]\n",
       "\n",
       "-0.6471\n",
       " 0.0494\n",
       " 0.2471\n",
       " 0.0000\n",
       " 0.0000\n",
       " 0.0000\n",
       "[torch.DoubleTensor of size 6]\n",
       "\n",
       " -6.4706e-01\n",
       "  4.9412e-02\n",
       "  2.2706e-01\n",
       " -5.7143e-02\n",
       "  2.1429e-01\n",
       " 2.1245e-322\n",
       "[torch.DoubleTensor of size 6]\n",
       "\n",
       " -6.4706e-01\n",
       "  4.9412e-02\n",
       "  2.4706e-01\n",
       "  4.6667e-02\n",
       "  2.3333e-01\n",
       " 2.3567e-321\n",
       "[torch.DoubleTensor of size 6]\n",
       "\n",
       "-0.6471\n",
       " 0.0494\n",
       " 0.2471\n",
       " 0.0000\n",
       " 0.0000\n",
       " 0.0000\n",
       "[torch.DoubleTensor of size 6]\n",
       "\n",
       "-0.6471\n",
       " 0.0494\n",
       " 0.2471\n",
       " 0.0000\n",
       " 0.0000\n",
       " 0.0000\n",
       "[torch.DoubleTensor of size 6]\n",
       "\n",
       "-0.6471\n",
       " 0.0494\n",
       " 0.2271\n",
       "-0.1000\n",
       " 0.0000\n",
       " 0.0000\n",
       "[torch.DoubleTensor of size 6]\n",
       "\n",
       "-0.6471\n",
       " 0.0494\n",
       " 0.2471\n",
       " 0.0000\n",
       "-0.0200\n",
       "-0.1000\n",
       "[torch.DoubleTensor of size 6]\n",
       "\n",
       "-0.6471\n",
       " 0.0494\n",
       " 0.2471\n",
       " 0.0000\n",
       " 0.0000\n",
       " 0.0000\n",
       "[torch.DoubleTensor of size 6]\n",
       "\n",
       "-0.6471\n",
       " 0.0494\n",
       " 0.2471\n",
       " 0.0000\n",
       " 0.0000\n",
       " 0.0000\n",
       "[torch.DoubleTensor of size 6]\n",
       "\n",
       "-0.6471\n",
       " 0.0494\n",
       " 0.2471\n",
       " 0.0000\n",
       " 0.0000\n",
       " 0.0000\n",
       "[torch.DoubleTensor of size 6]\n",
       "\n",
       "-0.6471\n",
       " 0.0494\n",
       " 0.2471\n",
       " 0.0000\n",
       "-0.0200\n",
       "-0.1000\n",
       "[torch.DoubleTensor of size 6]\n",
       "\n",
       "-0.6471\n",
       " 0.0494\n",
       " 0.2471\n",
       " 0.0000\n",
       " 0.0000\n",
       " 0.0000\n",
       "[torch.DoubleTensor of size 6]\n",
       "\n",
       "-0.6471\n",
       " 0.0494\n",
       " 0.2471\n",
       " 0.0000\n",
       " 0.0000\n",
       " 0.0000\n",
       "[torch.DoubleTensor of size 6]\n",
       "\n",
       "-0.6471\n",
       " 0.0000\n",
       " 0.0000\n",
       " 0.0000\n",
       " 0.0000\n",
       " 0.0000\n",
       "[torch.DoubleTensor of size 6]\n",
       "\n",
       "-0.6471\n",
       " 0.0000\n",
       " 0.0000\n",
       " 0.0000\n",
       " 0.0000\n",
       " 0.0000\n",
       "[torch.DoubleTensor of size 6]\n",
       "\n",
       "-0.6471\n",
       " 0.0494\n",
       " 0.2471\n",
       " 0.0000\n",
       " 0.0000\n",
       " 0.0000\n",
       "[torch.DoubleTensor of size 6]\n",
       "\n",
       "-0.6471\n",
       " 0.0494\n",
       " 0.2471\n",
       " 0.0000\n",
       " 0.0000\n",
       " 0.0000\n",
       "[torch.DoubleTensor of size 6]\n",
       "\n",
       "-0.6471\n",
       " 0.0494\n",
       " 0.2471\n",
       " 0.0000\n",
       " 0.0000\n",
       " 0.0000\n",
       "[torch.DoubleTensor of size 6]\n",
       "\n",
       "-0.6471\n",
       " 0.0494\n",
       " 0.2471\n",
       " 0.0000\n",
       " 0.0000\n",
       " 0.0000\n",
       "[torch.DoubleTensor of size 6]\n",
       "\n",
       "-0.6471\n",
       " 0.0494\n",
       " 0.2471\n",
       " 0.0000\n",
       " 0.0000\n",
       " 0.0000\n",
       "[torch.DoubleTensor of size 6]\n",
       "\n",
       "-0.6471\n",
       " 0.0494\n",
       " 0.2471\n",
       " 0.0000\n",
       " 0.0000\n",
       " 0.0000\n",
       "[torch.DoubleTensor of size 6]\n",
       "\n",
       "-0.6471\n",
       " 0.0494\n",
       " 0.2471\n",
       " 0.0000\n",
       " 0.0000\n",
       " 0.0000\n",
       "[torch.DoubleTensor of size 6]\n",
       "\n",
       "-0.6471\n",
       " 0.0494\n",
       " 0.2471\n",
       " 0.0000\n",
       " 0.0000\n",
       " 0.0000\n",
       "[torch.DoubleTensor of size 6]\n",
       "\n",
       "-0.6471\n",
       " 0.0494\n",
       " 0.2471\n",
       " 0.0000\n",
       " 0.0000\n",
       " 0.0000\n",
       "[torch.DoubleTensor of size 6]\n",
       "\n",
       "-0.6471\n",
       " 0.0494\n",
       " 0.2471\n",
       " 0.0000\n",
       " 0.0000\n",
       " 0.0000\n",
       "[torch.DoubleTensor of size 6]\n",
       "\n",
       "-0.6471\n",
       " 0.0494\n",
       " 0.2471\n",
       " 0.0000\n",
       " 0.0000\n",
       " 0.0000\n",
       "[torch.DoubleTensor of size 6]\n",
       "\n",
       "-0.6471\n",
       " 0.0494\n",
       " 0.2471\n",
       " 0.0000\n",
       " 0.0000\n",
       " 0.0000\n",
       "[torch.DoubleTensor of size 6]\n",
       "\n",
       " -6.4706e-01\n",
       "  4.9412e-02\n",
       "  2.4706e-01\n",
       "  4.6667e-02\n",
       "  2.3333e-01\n",
       " 2.9708e-314\n",
       "[torch.DoubleTensor of size 6]\n",
       "\n",
       " -6.4706e-01\n",
       "  4.9412e-02\n",
       "  2.4706e-01\n",
       "  0.0000e+00\n",
       "  0.0000e+00\n",
       " 6.2222e+230\n",
       "[torch.DoubleTensor of size 6]\n",
       "\n",
       "-0.6471\n",
       " 0.0494\n",
       " 0.2471\n",
       " 0.0000\n",
       " 0.0000\n",
       " 0.0000\n",
       "[torch.DoubleTensor of size 6]\n",
       "\n",
       "-0.6471\n",
       " 0.0494\n",
       " 0.2471\n",
       " 0.0467\n",
       " 0.2333\n",
       " 0.0000\n",
       "[torch.DoubleTensor of size 6]\n",
       "\n",
       "-0.6471\n",
       " 0.0494\n",
       " 0.2471\n",
       " 0.0000\n",
       " 0.0000\n",
       "-0.0000\n",
       "[torch.DoubleTensor of size 6]\n",
       "\n",
       "-0.6471\n",
       " 0.0494\n",
       " 0.2471\n",
       " 0.0000\n",
       " 0.0000\n",
       " 0.0000\n",
       "[torch.DoubleTensor of size 6]\n",
       "\n",
       "-0.6471\n",
       " 0.0494\n",
       " 0.2471\n",
       " 0.0000\n",
       " 0.0000\n",
       " 0.0000\n",
       "[torch.DoubleTensor of size 6]\n",
       "\n",
       "-0.6471\n",
       " 0.0494\n",
       " 0.2471\n",
       " 0.0000\n",
       " 0.0000\n",
       "-0.0000\n",
       "[torch.DoubleTensor of size 6]\n",
       "\n",
       "-0.6471\n",
       " 0.0494\n",
       " 0.2271\n",
       "-0.1000\n",
       " 0.0000\n",
       " 0.0000\n",
       "[torch.DoubleTensor of size 6]\n",
       "\n",
       "-0.6471\n",
       " 0.0000\n",
       " 0.0000\n",
       " 0.0000\n",
       " 0.0000\n",
       " 0.0000\n",
       "[torch.DoubleTensor of size 6]\n",
       "\n",
       "-0.6471\n",
       " 0.0494\n",
       " 0.2471\n",
       " 0.0000\n",
       " 0.0000\n",
       " 0.0000\n",
       "[torch.DoubleTensor of size 6]\n",
       "\n",
       "-0.6471\n",
       " 0.0494\n",
       " 0.2471\n",
       " 0.0000\n",
       " 0.0000\n",
       " 0.0000\n",
       "[torch.DoubleTensor of size 6]\n",
       "\n",
       "-1.0000\n",
       " 0.0000\n",
       " 0.0000\n",
       " 0.0000\n",
       " 0.0000\n",
       " 0.0000\n",
       "[torch.DoubleTensor of size 6]\n",
       "\n",
       "-0.6471\n",
       " 0.0494\n",
       " 0.2471\n",
       " 0.0000\n",
       " 0.0000\n",
       " 0.0000\n",
       "[torch.DoubleTensor of size 6]\n",
       "\n",
       "-0.6471\n",
       " 0.0494\n",
       " 0.2471\n",
       " 0.0000\n",
       " 0.0000\n",
       " 0.6000\n",
       "[torch.Double"
      ]
     },
     "execution_count": 37,
     "metadata": {},
     "output_type": "execute_result"
    },
    {
     "data": {
      "text/plain": [
       "Tensor of size 6]\n",
       "\n",
       "-0.6471\n",
       " 0.0494\n",
       " 0.2471\n",
       " 0.0000\n",
       " 0.0000\n",
       " 0.0000\n",
       "[torch.DoubleTensor of size 6]\n",
       "\n",
       "-0.6471\n",
       " 0.0494\n",
       " 0.2471\n",
       " 0.0000\n",
       " 0.0000\n",
       " 0.0000\n",
       "[torch.DoubleTensor of size 6]\n",
       "\n",
       "-0.6471\n",
       " 0.0000\n",
       " 0.0000\n",
       " 0.0000\n",
       " 0.0000\n",
       " 0.4008\n",
       "[torch.DoubleTensor of size 6]\n",
       "\n",
       "-0.6471\n",
       " 0.0494\n",
       " 0.2471\n",
       " 0.0000\n",
       " 0.0000\n",
       " 0.0000\n",
       "[torch.DoubleTensor of size 6]\n",
       "\n",
       "-0.6471\n",
       " 0.0494\n",
       " 0.2471\n",
       " 0.0000\n",
       " 0.0000\n",
       " 0.0000\n",
       "[torch.DoubleTensor of size 6]\n",
       "\n",
       "-0.6471\n",
       " 0.0494\n",
       " 0.2471\n",
       " 0.0000\n",
       " 0.0000\n",
       " 0.0000\n",
       "[torch.DoubleTensor of size 6]\n",
       "\n",
       "-0.6471\n",
       " 0.0494\n",
       " 0.2471\n",
       " 0.0000\n",
       " 0.0000\n",
       " 0.0000\n",
       "[torch.DoubleTensor of size 6]\n",
       "\n",
       "-0.6471\n",
       " 0.0494\n",
       " 0.2471\n",
       " 0.0000\n",
       " 0.0000\n",
       " 0.0000\n",
       "[torch.DoubleTensor of size 6]\n",
       "\n",
       "-0.6471\n",
       " 0.0494\n",
       " 0.2471\n",
       " 0.0000\n",
       " 0.0000\n",
       " 0.0000\n",
       "[torch.DoubleTensor of size 6]\n",
       "\n",
       "-0.6471\n",
       " 0.0494\n",
       " 0.2471\n",
       " 0.0000\n",
       " 0.0000\n",
       " 0.0000\n",
       "[torch.DoubleTensor of size 6]\n",
       "\n",
       "-0.6471\n",
       " 0.0494\n",
       " 0.2471\n",
       " 0.0000\n",
       " 0.0000\n",
       " 0.0000\n",
       "[torch.DoubleTensor of size 6]\n",
       "\n",
       "-0.6471\n",
       " 0.0494\n",
       " 0.2471\n",
       " 0.0000\n",
       " 0.0000\n",
       " 0.0000\n",
       "[torch.DoubleTensor of size 6]\n",
       "\n",
       "-0.6471\n",
       " 0.0494\n",
       " 0.2271\n",
       "-0.1000\n",
       " 0.0000\n",
       " 0.0000\n",
       "[torch.DoubleTensor of size 6]\n",
       "\n",
       "-0.6471\n",
       " 0.0494\n",
       " 0.2471\n",
       " 0.0000\n",
       " 0.0000\n",
       " 0.0000\n",
       "[torch.DoubleTensor of size 6]\n",
       "\n",
       "-0.6471\n",
       " 0.0494\n",
       " 0.2471\n",
       " 0.0000\n",
       " 0.0000\n",
       " 0.0000\n",
       "[torch.DoubleTensor of size 6]\n",
       "\n",
       "-0.6471\n",
       " 0.0494\n",
       " 0.2471\n",
       " 0.0000\n",
       " 0.0000\n",
       " 0.6000\n",
       "[torch.DoubleTensor of size 6]\n",
       "\n",
       "-1.0000\n",
       " 0.0000\n",
       " 0.0000\n",
       " 0.0000\n",
       " 0.0000\n",
       " 0.0000\n",
       "[torch.DoubleTensor of size 6]\n",
       "\n",
       "-0.6471\n",
       " 0.0494\n",
       " 0.2471\n",
       " 0.0000\n",
       " 0.0000\n",
       " 0.0000\n",
       "[torch.DoubleTensor of size 6]\n",
       "\n",
       "-0.6471\n",
       " 0.0494\n",
       " 0.2471\n",
       " 0.0000\n",
       " 0.0000\n",
       " 0.0000\n",
       "[torch.DoubleTensor of size 6]\n",
       "\n",
       "-0.6605\n",
       "-0.0672\n",
       " 0.0000\n",
       " 0.0000\n",
       " 0.0000\n",
       " 0.0000\n",
       "[torch.DoubleTensor of size 6]\n",
       "\n",
       "-0.6471\n",
       " 0.0000\n",
       " 0.0000\n",
       " 0.0627\n",
       " 0.3137\n",
       " 0.0000\n",
       "[torch.DoubleTensor of size 6]\n",
       "\n",
       "-0.6471\n",
       " 0.0494\n",
       " 0.2471\n",
       " 0.0000\n",
       " 0.0000\n",
       " 0.0000\n",
       "[torch.DoubleTensor of size 6]\n",
       "\n",
       "-0.6471\n",
       " 0.0494\n",
       " 0.2471\n",
       " 0.0000\n",
       " 0.0000\n",
       " 0.0000\n",
       "[torch.DoubleTensor of size 6]\n",
       "\n",
       "-0.6471\n",
       " 0.0494\n",
       " 0.2471\n",
       " 0.0000\n",
       " 0.0000\n",
       " 0.0000\n",
       "[torch.DoubleTensor of size 6]\n",
       "\n",
       "-0.6471\n",
       " 0.0494\n",
       " 0.2471\n",
       " 0.0000\n",
       "-0.0200\n",
       "-0.1000\n",
       "[torch.DoubleTensor of size 6]\n",
       "\n",
       "-0.6471\n",
       " 0.0494\n",
       " 0.2471\n",
       " 0.0000\n",
       " 0.0000\n",
       " 0.0000\n",
       "[torch.DoubleTensor of size 6]\n",
       "\n",
       "-0.6471\n",
       " 0.0494\n",
       " 0.2471\n",
       " 0.0000\n",
       " 0.0000\n",
       " 0.0000\n",
       "[torch.DoubleTensor of size 6]\n",
       "\n",
       "-0.6471\n",
       " 0.0494\n",
       " 0.2471\n",
       " 0.0000\n",
       " 0.0000\n",
       " 0.0000\n",
       "[torch.DoubleTensor of size 6]\n",
       "\n",
       "-0.6471\n",
       " 0.0494\n",
       " 0.2471\n",
       " 0.0000\n",
       " 0.0000\n",
       " 0.0000\n",
       "[torch.DoubleTensor of size 6]\n",
       "\n",
       "-0.6471\n",
       " 0.0494\n",
       " 0.2471\n",
       " 0.0000\n",
       " 0.0000\n",
       " 0.0000\n",
       "[torch.DoubleTensor of size 6]\n",
       "\n",
       "-0.6471\n",
       " 0.0494\n",
       " 0.2471\n",
       " 0.0000\n",
       " 0.0000\n",
       " 0.0000\n",
       "[torch.DoubleTensor of size 6]\n",
       "\n",
       "-0.6471\n",
       " 0.0494\n",
       " 0.2471\n",
       " 0.0000\n",
       " 0.0000\n",
       " 0.0000\n",
       "[torch.DoubleTensor of size 6]\n",
       "\n",
       "-0.6471\n",
       " 0.0494\n",
       " 0.2471\n",
       " 0.0000\n",
       " 0.0000\n",
       " 0.0000\n",
       "[torch.DoubleTensor of size 6]\n",
       "\n",
       "-0.6471\n",
       " 0.0494\n",
       " 0.2471\n",
       " 0.0000\n",
       " 0.0000\n",
       " 0.0000\n",
       "[torch.DoubleTensor of size 6]\n",
       "\n",
       "-0.6471\n",
       " 0.0494\n",
       " 0.2471\n",
       " 0.0000\n",
       " 0.0000\n",
       " 0.0000\n",
       "[torch.DoubleTensor of size 6]\n",
       "\n",
       "-0.6471\n",
       " 0.0494\n",
       " 0.2471\n",
       " 0.0000\n",
       " 0.0000\n",
       " 0.0000\n",
       "[torch.DoubleTensor of size 6]\n",
       "\n",
       "-0.6471\n",
       " 0.0494\n",
       " 0.2471\n",
       " 0.0000\n",
       " 0.0000\n",
       " 0.0000\n",
       "[torch.DoubleTensor of size 6]\n",
       "\n",
       "-0.6471\n",
       " 0.0494\n",
       " 0.2471\n",
       " 0.0000\n",
       " 0.0000\n",
       " 0.0000\n",
       "[torch.DoubleTensor of size 6]\n",
       "\n",
       "-0.6471\n",
       " 0.0494\n",
       " 0.2471\n",
       " 0.0000\n",
       " 0.0000\n",
       " 0.0000\n",
       "[torch.DoubleTensor of size 6]\n",
       "\n",
       "-0.6471\n",
       " 0.0494\n",
       " 0.2471\n",
       " 0.0000\n",
       " 0.0000\n",
       " 0.0000\n",
       "[torch.DoubleTensor of size 6]\n",
       "\n",
       "-0.6471\n",
       " 0.0494\n",
       " 0.2471\n",
       " 0.0000\n",
       " 0.0000\n",
       " 0.0000\n",
       "[torch.DoubleTensor of size 6]\n",
       "\n",
       "-0.6471\n",
       " 0.0494\n",
       " 0.2271\n",
       "-0.1000\n",
       " 0.0000\n",
       " 0.0000\n",
       "[torch.DoubleTensor of size 6]\n",
       "\n",
       "-0.6471\n",
       " 0.0494\n",
       " 0.2471\n",
       " 0.0000\n",
       " 0.0000\n",
       " 0.0000\n",
       "[torch.DoubleTensor of size 6]\n",
       "\n",
       "-0.6471\n",
       " 0.0494\n",
       " 0.2471\n",
       " 0.0000\n",
       " 0.0000\n",
       " 0.0000\n",
       "[torch.DoubleTensor of size 6]\n",
       "\n",
       "-0.6605\n",
       "-0.0672\n",
       " 0.0000\n",
       " 0.0000\n",
       " 0.0000\n",
       " 0.0000\n",
       "[torch.DoubleTensor of size 6]\n",
       "\n",
       "-0.6471\n",
       " 0.0494\n",
       " 0.2471\n",
       " 0.0000\n",
       " 0.0000\n",
       " 0.0000\n",
       "[torch.DoubleTensor of size 6]\n",
       "\n",
       "-0.6471\n",
       " 0.0494\n",
       " 0.2471\n",
       " 0.0000\n",
       " 0.0000\n",
       " 0.0000\n",
       "[torch.DoubleTensor of size 6]\n",
       "\n",
       " -6.4706e-01\n",
       "  4.9412e-02\n",
       "  2.4706e-01\n",
       "  4.6667e-02\n",
       "  2.3333e-01\n",
       " 4.1996e-322\n",
       "[torch.DoubleTensor of size 6]\n",
       "\n",
       "-0.6471\n",
       " 0.0494\n",
       " 0.2471\n",
       " 0.0000\n",
       " 0.0000\n",
       " 0.0000\n",
       "[torch.DoubleTensor of size 6]\n",
       "\n",
       "-0.6471\n",
       " 0.0494\n",
       " 0.2471\n",
       " 0.0000\n",
       " 0.0000\n",
       " 0.0000\n",
       "[torch.DoubleTensor of size 6]\n",
       "\n",
       "-0.6471\n",
       " 0.0494\n",
       " 0.2471\n",
       " 0.0000\n",
       " 0.0000\n",
       " 0.0000"
      ]
     },
     "execution_count": 37,
     "metadata": {},
     "output_type": "execute_result"
    },
    {
     "data": {
      "text/plain": [
       "\n",
       "[torch.DoubleTensor of size 6]\n",
       "\n",
       "-0.6471\n",
       " 0.0494\n",
       " 0.2471\n",
       " 0.0000\n",
       " 0.0000\n",
       " 0.0000\n",
       "[torch.DoubleTensor of size 6]\n",
       "\n",
       "-0.6471\n",
       " 0.0494\n",
       " 0.2471\n",
       " 0.0000\n",
       " 0.0000\n",
       " 0.0000\n",
       "[torch.DoubleTensor of size 6]\n",
       "\n",
       "-0.6471\n",
       " 0.0494\n",
       " 0.2471\n",
       " 0.0000\n",
       " 0.0000\n",
       " 0.0000\n",
       "[torch.DoubleTensor of size 6]\n",
       "\n",
       "-0.6471\n",
       " 0.0494\n",
       " 0.2471\n",
       " 0.0000\n",
       " 0.0000\n",
       " 0.0000\n",
       "[torch.DoubleTensor of size 6]\n",
       "\n",
       "-0.6471\n",
       " 0.0494\n",
       " 0.2471\n",
       " 0.0000\n",
       " 0.0000\n",
       " 0.0000\n",
       "[torch.DoubleTensor of size 6]\n",
       "\n",
       "-0.6471\n",
       " 0.0494\n",
       " 0.2471\n",
       " 0.0000\n",
       " 0.0000\n",
       " 0.0000\n",
       "[torch.DoubleTensor of size 6]\n",
       "\n",
       "-0.6471\n",
       " 0.0494\n",
       " 0.2271\n",
       "-0.1000\n",
       " 0.0000\n",
       " 0.0000\n",
       "[torch.DoubleTensor of size 6]\n",
       "\n",
       "-0.6471\n",
       " 0.0494\n",
       " 0.2471\n",
       " 0.0000\n",
       " 0.0000\n",
       " 0.0000\n",
       "[torch.DoubleTensor of size 6]\n",
       "\n",
       "-0.6471\n",
       " 0.0494\n",
       " 0.2471\n",
       " 0.0000\n",
       " 0.0000\n",
       " 0.0000\n",
       "[torch.DoubleTensor of size 6]\n",
       "\n",
       "-0.647059\n",
       "0.049412\n",
       "0.247059\n",
       "0.000000\n",
       "0.000000\n",
       "nan\n",
       "[torch.DoubleTensor of size 6]\n",
       "\n",
       "-0.6471\n",
       " 0.0000\n",
       " 0.0000\n",
       " 0.0000\n",
       " 0.0000\n",
       " 0.0000\n",
       "[torch.DoubleTensor of size 6]\n",
       "\n",
       "-0.6471\n",
       " 0.0494\n",
       " 0.2471\n",
       " 0.0467\n",
       " 0.2095\n",
       "-0.1190\n",
       "[torch.DoubleTensor of size 6]\n",
       "\n",
       "-0.6471\n",
       " 0.0494\n",
       " 0.2471\n",
       " 0.0000\n",
       " 0.0000\n",
       " 0.0000\n",
       "[torch.DoubleTensor of size 6]\n",
       "\n",
       "-0.6471\n",
       " 0.0494\n",
       " 0.2471\n",
       " 0.0000\n",
       " 0.0000\n",
       " 0.6000\n",
       "[torch.DoubleTensor of size 6]\n",
       "\n",
       "-0.6471\n",
       " 0.0494\n",
       " 0.2471\n",
       " 0.0000\n",
       " 0.0000\n",
       " 0.0000\n",
       "[torch.DoubleTensor of size 6]\n",
       "\n",
       "-0.6471\n",
       " 0.0494\n",
       " 0.2471\n",
       " 0.0000\n",
       "-0.0200\n",
       "-0.1000\n",
       "[torch.DoubleTensor of size 6]\n",
       "\n",
       "-0.6471\n",
       " 0.0494\n",
       " 0.2471\n",
       " 0.0000\n",
       " 0.0000\n",
       " 0.0000\n",
       "[torch.DoubleTensor of size 6]\n",
       "\n",
       "-0.6471\n",
       " 0.0000\n",
       " 0.0000\n",
       " 0.0000\n",
       " 0.0000\n",
       " 0.0000\n",
       "[torch.DoubleTensor of size 6]\n",
       "\n",
       "-0.6471\n",
       " 0.0000\n",
       " 0.0000\n",
       " 0.0000\n",
       " 0.0000\n",
       " 0.0000\n",
       "[torch.DoubleTensor of size 6]\n",
       "\n",
       "-0.6471\n",
       " 0.0494\n",
       " 0.2471\n",
       " 0.0000\n",
       " 0.0000\n",
       " 0.0000\n",
       "[torch.DoubleTensor of size 6]\n",
       "\n",
       "-0.6471\n",
       " 0.0494\n",
       " 0.2471\n",
       " 0.0000\n",
       " 0.0000\n",
       " 0.0000\n",
       "[torch.DoubleTensor of size 6]\n",
       "\n",
       "-0.6471\n",
       " 0.0494\n",
       " 0.2471\n",
       " 0.0000\n",
       " 0.0000\n",
       " 0.0000\n",
       "[torch.DoubleTensor of size 6]\n",
       "\n",
       "-1.0000\n",
       " 0.0000\n",
       " 0.0000\n",
       " 0.0000\n",
       " 0.0000\n",
       " 0.0000\n",
       "[torch.DoubleTensor of size 6]\n",
       "\n",
       "-0.6471\n",
       " 0.0494\n",
       " 0.2471\n",
       " 0.0000\n",
       " 0.0000\n",
       " 0.0000\n",
       "[torch.DoubleTensor of size 6]\n",
       "\n",
       "-0.6471\n",
       " 0.0494\n",
       " 0.2471\n",
       " 0.0000\n",
       " 0.0000\n",
       " 0.0000\n",
       "[torch.DoubleTensor of size 6]\n",
       "\n",
       "-0.6471\n",
       " 0.0494\n",
       " 0.2471\n",
       " 0.0000\n",
       " 0.0000\n",
       " 0.0000\n",
       "[torch.DoubleTensor of size 6]\n",
       "\n",
       "-1.0000\n",
       " 0.0000\n",
       " 0.0000\n",
       " 0.0000\n",
       " 0.0000\n",
       " 0.0000\n",
       "[torch.DoubleTensor of size 6]\n",
       "\n",
       "-0.6471\n",
       " 0.0494\n",
       " 0.2471\n",
       " 0.0000\n",
       " 0.0000\n",
       " 0.0000\n",
       "[torch.DoubleTensor of size 6]\n",
       "\n",
       "-0.6471\n",
       " 0.0494\n",
       " 0.2471\n",
       " 0.0000\n",
       " 0.0000\n",
       " 0.0000\n",
       "[torch.DoubleTensor of size 6]\n",
       "\n",
       "-1.0000\n",
       " 0.0000\n",
       " 0.0000\n",
       " 0.0000\n",
       " 0.0000\n",
       " 0.0000\n",
       "[torch.DoubleTensor of size 6]\n",
       "\n",
       "-1\n",
       " 0\n",
       " 0\n",
       " 0\n",
       " 0\n",
       " 0\n",
       "[torch.DoubleTensor of size 6]\n",
       "\n",
       "-0.6471\n",
       " 0.0494\n",
       " 0.2471\n",
       " 0.0000\n",
       " 0.0000\n",
       " 0.0000\n",
       "[torch.DoubleTensor of size 6]\n",
       "\n",
       "-0.6471\n",
       " 0.0494\n",
       " 0.2471\n",
       " 0.0000\n",
       " 0.0000\n",
       " 0.0000\n",
       "[torch.DoubleTensor of size 6]\n",
       "\n",
       "-0.6471\n",
       " 0.0494\n",
       " 0.2471\n",
       " 0.0000\n",
       " 0.0000\n",
       " 0.0000\n",
       "[torch.DoubleTensor of size 6]\n",
       "\n",
       "-0.6471\n",
       " 0.0494\n",
       " 0.2471\n",
       " 0.0000\n",
       " 0.0000\n",
       " 0.0000\n",
       "[torch.DoubleTensor of size 6]\n",
       "\n",
       "-0.6471\n",
       " 0.0494\n",
       " 0.2471\n",
       " 0.0000\n",
       " 0.0000\n",
       " 0.0000\n",
       "[torch.DoubleTensor of size 6]\n",
       "\n",
       "-0.6471\n",
       " 0.0494\n",
       " 0.2471\n",
       " 0.0000\n",
       "-0.0200\n",
       "-0.1000\n",
       "[torch.DoubleTensor of size 6]\n",
       "\n",
       "-0.6471\n",
       " 0.0494\n",
       " 0.2471\n",
       " 0.0000\n",
       " 0.0000\n",
       " 0.0000\n",
       "[torch.DoubleTensor of size 6]\n",
       "\n",
       "-0.6471\n",
       " 0.0494\n",
       " 0.2471\n",
       " 0.0000\n",
       " 0.0000\n",
       " 0.0000\n",
       "[torch.DoubleTensor of size 6]\n",
       "\n",
       "-1.0000\n",
       " 0.0000\n",
       " 0.0000\n",
       " 0.0000\n",
       " 0.0000\n",
       " 0.0000\n",
       "[torch.DoubleTensor of size 6]\n",
       "\n",
       "-0.6471\n",
       " 0.0494\n",
       " 0.2471\n",
       " 0.0000\n",
       " 0.0000\n",
       " 0.0000\n",
       "[torch.DoubleTensor of size 6]\n",
       "\n",
       "-1.0000\n",
       " 0.0000\n",
       " 0.0000\n",
       " 0.0000\n",
       " 0.0000\n",
       " 0.0000\n",
       "[torch.DoubleTensor of size 6]\n",
       "\n",
       "-0.6471\n",
       " 0.0494\n",
       " 0.2471\n",
       " 0.0000\n",
       " 0.0000\n",
       " 0.0000\n",
       "[torch.DoubleTensor of size 6]\n",
       "\n",
       "-1.0000\n",
       " 0.0000\n",
       " 0.0000\n",
       " 0.0000\n",
       " 0.0000\n",
       " 0.0000\n",
       "[torch.DoubleTensor of size 6]\n",
       "\n",
       "-0.6471\n",
       " 0.0494\n",
       " 0.2471\n",
       " 0.0000\n",
       " 0.0000\n",
       " 0.0000\n",
       "[torch.DoubleTensor of size 6]\n",
       "\n",
       "-0.6471\n",
       " 0.0000\n",
       " 0.0000\n",
       " 0.0000\n",
       " 0.0000\n",
       " 0.0000\n",
       "[torch.DoubleTensor of size 6]\n",
       "\n",
       "-0.6471\n",
       " 0.0494\n",
       " 0.2471\n",
       " 0.0000\n",
       " 0.0000\n",
       " 0.0000\n",
       "[torch.DoubleTensor of size 6]\n",
       "\n",
       "-0.6471\n",
       " 0.0000\n",
       " 0.0000\n",
       " 0.0000\n",
       " 0.0000\n",
       " 0.0000\n",
       "[torch.DoubleTensor of size 6]\n",
       "\n",
       "-1\n",
       " 0\n",
       " 0\n",
       " 0\n",
       " 0\n",
       " 0\n",
       "[torch.DoubleTensor of size 6]\n",
       "\n",
       "-0.6471\n",
       " 0.0494\n",
       " 0.2471\n",
       " 0.0000\n",
       " 0.0000\n",
       " 0.0000\n",
       "[torch.DoubleTensor of size 6]\n",
       "\n",
       "-0.6471\n",
       " 0.0494\n",
       " 0.2471\n",
       " 0.0000\n",
       " 0.0000\n",
       " 0.0000\n",
       "[torch.DoubleTensor of size 6]\n",
       "\n",
       "-0.6605\n",
       "-0.0672\n",
       " 0.0000\n",
       " 0.0000\n",
       " 0.0000\n",
       " "
      ]
     },
     "execution_count": 37,
     "metadata": {},
     "output_type": "execute_result"
    },
    {
     "data": {
      "text/plain": [
       "0.0000\n",
       "[torch.DoubleTensor of size 6]\n",
       "\n",
       "-0.6471\n",
       " 0.0000\n",
       " 0.0000\n",
       " 0.0000\n",
       "-0.0134\n",
       "-0.0672\n",
       "[torch.DoubleTensor of size 6]\n",
       "\n",
       "-0.6471\n",
       " 0.0494\n",
       " 0.2471\n",
       " 0.0000\n",
       " 0.0000\n",
       " 0.0000\n",
       "[torch.DoubleTensor of size 6]\n",
       "\n",
       "-0.6471\n",
       " 0.0494\n",
       " 0.2471\n",
       " 0.0000\n",
       " 0.0000\n",
       " 0.0000\n",
       "[torch.DoubleTensor of size 6]\n",
       "\n",
       "-0.6471\n",
       " 0.0494\n",
       " 0.2471\n",
       " 0.0000\n",
       " 0.0000\n",
       " 0.0000\n",
       "[torch.DoubleTensor of size 6]\n",
       "\n",
       "-0.6471\n",
       " 0.0494\n",
       " 0.2471\n",
       " 0.0000\n",
       " 0.0000\n",
       " 0.0000\n",
       "[torch.DoubleTensor of size 6]\n",
       "\n",
       "-0.6471\n",
       " 0.0494\n",
       " 0.2471\n",
       " 0.0000\n",
       " 0.0000\n",
       " 0.0000\n",
       "[torch.DoubleTensor of size 6]\n",
       "\n",
       "-1.0000\n",
       " 0.0000\n",
       " 0.0000\n",
       " 0.0000\n",
       " 0.0000\n",
       " 0.0000\n",
       "[torch.DoubleTensor of size 6]\n",
       "\n",
       "-0.6471\n",
       " 0.0494\n",
       " 0.2471\n",
       " 0.0000\n",
       " 0.0000\n",
       " 0.0000\n",
       "[torch.DoubleTensor of size 6]\n",
       "\n",
       "-0.6471\n",
       " 0.0494\n",
       " 0.2471\n",
       " 0.0000\n",
       " 0.0000\n",
       " 0.0000\n",
       "[torch.DoubleTensor of size 6]\n",
       "\n",
       "-0.6471\n",
       " 0.0494\n",
       " 0.2471\n",
       " 0.0000\n",
       " 0.0000\n",
       " 0.0000\n",
       "[torch.DoubleTensor of size 6]\n",
       "\n",
       "-0.6471\n",
       " 0.0494\n",
       " 0.2471\n",
       " 0.0000\n",
       " 0.0000\n",
       " 0.0000\n",
       "[torch.DoubleTensor of size 6]\n",
       "\n",
       "-0.6471\n",
       " 0.0494\n",
       " 0.2271\n",
       "-0.1000\n",
       " 0.0000\n",
       " 0.0000\n",
       "[torch.DoubleTensor of size 6]\n",
       "\n",
       "-0.6471\n",
       " 0.0494\n",
       " 0.2471\n",
       " 0.0000\n",
       " 0.0000\n",
       " 0.0000\n",
       "[torch.DoubleTensor of size 6]\n",
       "\n",
       "-0.6471\n",
       " 0.0494\n",
       " 0.2471\n",
       " 0.0000\n",
       " 0.0000\n",
       " 0.0000\n",
       "[torch.DoubleTensor of size 6]\n",
       "\n",
       "-0.6471\n",
       " 0.0494\n",
       " 0.2471\n",
       " 0.0000\n",
       " 0.0000\n",
       " 0.0000\n",
       "[torch.DoubleTensor of size 6]\n",
       "\n",
       "-0.6471\n",
       " 0.0494\n",
       " 0.2471\n",
       " 0.0000\n",
       " 0.0000\n",
       " 0.0000\n",
       "[torch.DoubleTensor of size 6]\n",
       "\n",
       "-0.6471\n",
       " 0.0494\n",
       " 0.2471\n",
       " 0.0000\n",
       " 0.0000\n",
       " 0.0000\n",
       "[torch.DoubleTensor of size 6]\n",
       "\n",
       " -6.4706e-01\n",
       "  4.9412e-02\n",
       "  2.4706e-01\n",
       "  0.0000e+00\n",
       "  0.0000e+00\n",
       " 6.2222e+230\n",
       "[torch.DoubleTensor of size 6]\n",
       "\n",
       "-0.6471\n",
       " 0.0494\n",
       " 0.2471\n",
       " 0.0000\n",
       " 0.0000\n",
       " 0.0000\n",
       "[torch.DoubleTensor of size 6]\n",
       "\n",
       "-0.6471\n",
       " 0.0494\n",
       " 0.2471\n",
       " 0.0000\n",
       " 0.0000\n",
       " 0.0000\n",
       "[torch.DoubleTensor of size 6]\n",
       "\n",
       "-0.6471\n",
       " 0.0494\n",
       " 0.2471\n",
       " 0.0000\n",
       " 0.0000\n",
       " 0.0000\n",
       "[torch.DoubleTensor of size 6]\n",
       "\n",
       "-0.6471\n",
       " 0.0494\n",
       " 0.2471\n",
       " 0.0000\n",
       " 0.0000\n",
       " 0.0000\n",
       "[torch.DoubleTensor of size 6]\n",
       "\n",
       "-0.6471\n",
       " 0.0494\n",
       " 0.2471\n",
       " 0.0000\n",
       " 0.0000\n",
       " 0.0000\n",
       "[torch.DoubleTensor of size 6]\n",
       "\n",
       "-0.6471\n",
       " 0.0494\n",
       " 0.2471\n",
       " 0.0000\n",
       " 0.0000\n",
       " 0.0000\n",
       "[torch.DoubleTensor of size 6]\n",
       "\n",
       "-0.6471\n",
       " 0.0494\n",
       " 0.2471\n",
       " 0.0000\n",
       " 0.0000\n",
       " 0.0000\n",
       "[torch.DoubleTensor of size 6]\n",
       "\n",
       "-0.6471\n",
       " 0.0494\n",
       " 0.2471\n",
       " 0.0000\n",
       " 0.0000\n",
       " 0.0000\n",
       "[torch.DoubleTensor of size 6]\n",
       "\n",
       "-0.6471\n",
       " 0.0494\n",
       " 0.2471\n",
       " 0.0000\n",
       " 0.0000\n",
       " 0.0000\n",
       "[torch.DoubleTensor of size 6]\n",
       "\n",
       "-0.6471\n",
       " 0.0000\n",
       " 0.0000\n",
       " 0.0000\n",
       " 0.0000\n",
       " 0.0000\n",
       "[torch.DoubleTensor of size 6]\n",
       "\n",
       "-0.6471\n",
       " 0.0494\n",
       " 0.2471\n",
       " 0.0000\n",
       " 0.0000\n",
       "-0.0000\n",
       "[torch.DoubleTensor of size 6]\n",
       "\n",
       "-0.6471\n",
       " 0.0494\n",
       " 0.2471\n",
       " 0.0000\n",
       " 0.0000\n",
       " 0.0000\n",
       "[torch.DoubleTensor of size 6]\n",
       "\n",
       "-0.6471\n",
       " 0.0494\n",
       " 0.2471\n",
       " 0.0000\n",
       " 0.0000\n",
       " 0.0000\n",
       "[torch.DoubleTensor of size 6]\n",
       "\n",
       "-0.6471\n",
       " 0.0000\n",
       " 0.0000\n",
       " 0.0000\n",
       "-0.0134\n",
       "-0.0672\n",
       "[torch.DoubleTensor of size 6]\n",
       "\n",
       "-6.4706e-01\n",
       " 4.9412e-02\n",
       " 2.4706e-01\n",
       " 4.6667e-02\n",
       " 2.3333e-01\n",
       " 3.4545e-78\n",
       "[torch.DoubleTensor of size 6]\n",
       "\n",
       "-0.6471\n",
       " 0.0494\n",
       " 0.2471\n",
       " 0.0000\n",
       " 0.0000\n",
       " 0.0000\n",
       "[torch.DoubleTensor of size 6]\n",
       "\n",
       "-0.6471\n",
       " 0.0494\n",
       " 0.2471\n",
       " 0.0000\n",
       " 0.0000\n",
       " 0.0000\n",
       "[torch.DoubleTensor of size 6]\n",
       "\n",
       "-0.6471\n",
       " 0.0494\n",
       " 0.2471\n",
       " 0.0000\n",
       " 0.0000\n",
       " 0.0000\n",
       "[torch.DoubleTensor of size 6]\n",
       "\n",
       "-0.6471\n",
       " 0.0494\n",
       " 0.2471\n",
       " 0.0000\n",
       " 0.0000\n",
       " 0.0000\n",
       "[torch.DoubleTensor of size 6]\n",
       "\n",
       "-0.6471\n",
       " 0.0494\n",
       " 0.2471\n",
       " 0.0000\n",
       " 0.0000\n",
       " 0.8000\n",
       "[torch.DoubleTensor of size 6]\n",
       "\n",
       "-0.6471\n",
       " 0.0494\n",
       " 0.2471\n",
       " 0.0000\n",
       " 0.0000\n",
       " 0.0000\n",
       "[torch.DoubleTensor of size 6]\n",
       "\n",
       "-6.4706e-01\n",
       " 4.9412e-02\n",
       " 2.4706e-01\n",
       " 4.6667e-02\n",
       " 2.3333e-01\n",
       " 3.4545e-78\n",
       "[torch.DoubleTensor of size 6]\n",
       "\n",
       "-0.6471\n",
       " 0.0494\n",
       " 0.2471\n",
       " 0.0000\n",
       " 0.0000\n",
       " 0.0000\n",
       "[torch.DoubleTensor of size 6]\n",
       "\n",
       "-0.6471\n",
       " 0.0494\n",
       " 0.2471\n",
       " 0.0000\n",
       " 0.0000\n",
       " 0.0000\n",
       "[torch.DoubleTensor of size 6]\n",
       "\n",
       "-0.6471\n",
       " 0.0494\n",
       " 0.2471\n",
       " 0.0000\n",
       " 0.0000\n",
       " 0.0000\n",
       "[torch.DoubleTensor of size 6]\n",
       "\n",
       "-0.6471\n",
       " 0.0494\n",
       " 0.2471\n",
       " 0.0000\n",
       " 0.0000\n",
       " 0.0000\n",
       "[torch.DoubleTensor of size 6]\n",
       "\n",
       "-0.6471\n",
       " 0.0494\n",
       " 0.2471\n",
       " 0.0000\n",
       " 0.0000\n",
       " 0.0000\n",
       "[torch.DoubleTensor of size 6]\n",
       "\n",
       "-0.6471\n",
       " 0.0494\n",
       " 0.2471\n",
       " 0.0000\n",
       " 0.0000\n",
       " 0.0000\n",
       "[torch.DoubleTensor of size 6]\n",
       "\n",
       "-0.6471\n",
       " 0.0494\n",
       " 0.2471\n",
       " 0.0000\n",
       " 0.0000\n",
       " 0.0000\n",
       "[torch.DoubleTensor of size 6]\n",
       "\n",
       "-0.6471\n",
       " 0.0494\n",
       " 0.2471\n",
       " 0.0000\n",
       " 0.0000\n",
       " 0.0000\n",
       "[torch.DoubleTensor of size 6]\n",
       "\n",
       "-0.6471\n",
       " 0.0494\n",
       " 0.2471\n",
       " 0.0000\n",
       " 0.0000\n",
       " 0.4008\n",
       "[torch.DoubleTensor of size 6]\n",
       "\n",
       "-0.6471\n",
       " 0.0494\n",
       " 0.2471\n",
       " 0.0000\n",
       " 0.0000\n",
       " 0.0000\n",
       "[torch.Doub"
      ]
     },
     "execution_count": 37,
     "metadata": {},
     "output_type": "execute_result"
    },
    {
     "data": {
      "text/plain": [
       "leTensor of size 6]\n",
       "\n",
       "-0.6471\n",
       " 0.0000\n",
       "-0.0134\n",
       "-0.0672\n",
       " 0.0000\n",
       " 0.0000\n",
       "[torch.DoubleTensor of size 6]\n",
       "\n",
       "-0.6471\n",
       " 0.0494\n",
       " 0.2471\n",
       " 0.0000\n",
       " 0.0000\n",
       " 0.0000\n",
       "[torch.DoubleTensor of size 6]\n",
       "\n",
       "-0.6471\n",
       " 0.0494\n",
       " 0.2471\n",
       " 0.0000\n",
       " 0.0000\n",
       " 0.0000\n",
       "[torch.DoubleTensor of size 6]\n",
       "\n",
       "-0.6471\n",
       " 0.0494\n",
       " 0.2471\n",
       " 0.0000\n",
       " 0.0000\n",
       " 0.0000\n",
       "[torch.DoubleTensor of size 6]\n",
       "\n"
      ]
     },
     "execution_count": 37,
     "metadata": {},
     "output_type": "execute_result"
    }
   ],
   "source": [
    "for i = 1, 500 do\n",
    "print(tmp0[i] + tmp1[i])\n",
    "end"
   ]
  },
  {
   "cell_type": "code",
   "execution_count": null,
   "metadata": {
    "collapsed": true
   },
   "outputs": [],
   "source": []
  }
 ],
 "metadata": {
  "kernelspec": {
   "display_name": "iTorch",
   "language": "lua",
   "name": "itorch"
  },
  "language_info": {
   "name": "lua",
   "version": "5.1"
  }
 },
 "nbformat": 4,
 "nbformat_minor": 0
}
