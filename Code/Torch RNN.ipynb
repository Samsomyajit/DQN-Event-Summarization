{
 "cells": [
  {
   "cell_type": "code",
   "execution_count": 1,
   "metadata": {
    "collapsed": false
   },
   "outputs": [
    {
     "data": {
      "text/plain": [
       "...Utils file loaded\t\n",
       "<csv>\tparsing file: /Users/franciscojavierarceo/GitHub/DeepNLPQLearning/DO_NOT_UPLOAD_THIS_DATA/0-output/2012_aurora_shooting_first_sentence_numtext.csv\t\n"
      ]
     },
     "execution_count": 1,
     "metadata": {},
     "output_type": "execute_result"
    },
    {
     "data": {
      "text/plain": [
       "<csv>\tparsing done\t\n",
       "<csv>\tparsing file: /Users/franciscojavierarceo/GitHub/DeepNLPQLearning/DO_NOT_UPLOAD_THIS_DATA/0-output/aurora_nuggets_numtext.csv\t\n",
       "<csv>\tparsing done\t\n",
       "<csv>\tparsing file: /Users/franciscojavierarceo/GitHub/DeepNLPQLearning/DO_NOT_UPLOAD_THIS_DATA/0-output/queries_numtext.csv\t\n",
       "<csv>\tparsing done\t\n"
      ]
     },
     "execution_count": 1,
     "metadata": {},
     "output_type": "execute_result"
    }
   ],
   "source": [
    "require 'torch'\n",
    "require 'nn'\n",
    "require 'rnn'\n",
    "require 'csvigo'\n",
    "\n",
    "--- Loading utility script\n",
    "dofile(\"utils.lua\")\n",
    "dofile(\"model_utils.lua\")\n",
    "\n",
    "aurora_fn = '~/GitHub/DeepNLPQLearning/DO_NOT_UPLOAD_THIS_DATA/0-output/2012_aurora_shooting_first_sentence_numtext.csv'\n",
    "nugget_fn = '~/GitHub/DeepNLPQLearning/DO_NOT_UPLOAD_THIS_DATA/0-output/aurora_nuggets_numtext.csv'\n",
    "query_fn = '~/GitHub/DeepNLPQLearning/DO_NOT_UPLOAD_THIS_DATA/0-output/queries_numtext.csv'\n",
    "\n",
    "data_file = csvigo.load({path = aurora_fn, mode = \"large\"})\n",
    "nugget_file = csvigo.load({path = nugget_fn, mode = \"large\"})\n",
    "query_file =  csvigo.load({path = query_fn, mode = \"large\"})\n",
    "\n",
    "rK = 100\n",
    "nbatches = 50\n",
    "nepochs = 100\n",
    "print_every = 10\n",
    "embed_dim = 10\n",
    "learning_rate = 0.1\n",
    "\n",
    "cuts = 4.                  --- This is the number of cuts we want\n",
    "epsilon = 1.\n",
    "base_explore_rate = 0.1\n",
    "delta = 1./(nepochs/cuts) --- Only using epsilon greedy strategy for (nepochs/cuts)% of the epochs\n",
    "\n",
    "cuda = true\n",
    "torch.manualSeed(420)"
   ]
  },
  {
   "cell_type": "code",
   "execution_count": 2,
   "metadata": {
    "collapsed": true
   },
   "outputs": [],
   "source": [
    "function build_network(vocab_size, embed_dim)\n",
    "    model = nn.Sequential()\n",
    "    :add(nn.LookupTableMaskZero(vocab_size, embed_dim)) -- will return a sequence-length x batch-size x embedDim tensor\n",
    "    :add(nn.SplitTable(1, embed_dim)) -- splits into a sequence-length table with batch-size x embedDim entries\n",
    "    :add(nn.Sequencer(nn.LSTM(embed_dim, embed_dim)))\n",
    "    :add(nn.SelectTable(-1)) -- selects last state of the LSTM\n",
    "    :add(nn.Linear(embed_dim, embed_dim)) -- map last state to a score for classification\n",
    "    :add(nn.ReLU())\n",
    "   return model\n",
    "end\n",
    "function build_model(vocab_size, embed_dim, outputSize)\n",
    "    lstm1 = build_network(vocab_size, embed_dim)\n",
    "    lstm2 = build_network(vocab_size, embed_dim)\n",
    "    lstm3 = build_network(vocab_size, embed_dim)\n",
    "\n",
    "    mlp1 = nn.Sequential()\n",
    "    mlp1:add(nn.Linear(1, embed_dim))\n",
    "    mlp1:add(nn.ReLU())\n",
    "\n",
    "    ParallelModel = nn.ParallelTable()\n",
    "    ParallelModel:add(lstm1)\n",
    "    ParallelModel:add(lstm2)\n",
    "    ParallelModel:add(lstm3)\n",
    "    ParallelModel:add(mlp1)\n",
    "\n",
    "    FinalMLP = nn.Sequential()\n",
    "    FinalMLP:add(ParallelModel)\n",
    "    FinalMLP:add(nn.JoinTable(2))\n",
    "    FinalMLP:add( nn.Linear(embed_dim * 4, outputSize) )\n",
    "    return FinalMLP\n",
    "end"
   ]
  },
  {
   "cell_type": "code",
   "execution_count": 3,
   "metadata": {
    "collapsed": true
   },
   "outputs": [],
   "source": [
    "vocab_sized = getVocabSize(data_file)                       --- getting length of dictionary\n",
    "vocab_sizeq = getVocabSize(query_file)                      --- getting length of dictionary\n",
    "vocab_size = math.max(vocab_sized, vocab_sizeq)\n",
    "\n",
    "queries = grabNsamples(query_file, #query_file-1, nil)      --- Extracting all queries\n",
    "nuggets = grabNsamples(nugget_file, #nugget_file-1, nil)    --- Extracting all samples\n",
    "maxlend = getMaxseq(data_file)                             --- Extracting maximum sequence length\n",
    "maxlenq = getMaxseq(query_file)                            --- Extracting maximum sequence length\n",
    "maxlen = math.max(maxlenq, maxlend)\n",
    "\n",
    "batchLSTM = build_model(vocab_size, embed_dim, 1)\n",
    "crit = nn.MSECriterion()"
   ]
  },
  {
   "cell_type": "code",
   "execution_count": null,
   "metadata": {
    "collapsed": true
   },
   "outputs": [],
   "source": [
    "dofile(\"model_utils.lua\")"
   ]
  },
  {
   "cell_type": "code",
   "execution_count": 4,
   "metadata": {
    "collapsed": false
   },
   "outputs": [
    {
     "ename": "utils.lua:250: bad argument #1 to 'pairs' (table expected, got userdata)\nstack traceback:\n\t[C]: in function 'pairs'\n\tutils.lua:250: in function 'geti_n'\n\tmodel_utils.lua:71: in function 'iterateModel'\n\t[string \"out = iterateModel( nbatches, nepochs, querie...\"]:1: in main chunk\n\t[C]: in function 'xpcall'\n\t...ojavierarceo/torch/install/share/lua/5.1/itorch/main.lua:210: in function <...ojavierarceo/torch/install/share/lua/5.1/itorch/main.lua:174>\n\t...ojavierarceo/torch/install/share/lua/5.1/lzmq/poller.lua:75: in function 'poll'\n\t...vierarceo/torch/install/share/lua/5.1/lzmq/impl/loop.lua:307: in function 'poll'\n\t...vierarceo/torch/install/share/lua/5.1/lzmq/impl/loop.lua:325: in function 'sleep_ex'\n\t...vierarceo/torch/install/share/lua/5.1/lzmq/impl/loop.lua:370: in function 'start'\n\t...ojavierarceo/torch/install/share/lua/5.1/itorch/main.lua:389: in main chunk\n\t[C]: in function 'require'\n\t(command line):1: in main chunk\n\t[C]: at 0x0102933b90",
     "evalue": "",
     "output_type": "error",
     "traceback": [
      "utils.lua:250: bad argument #1 to 'pairs' (table expected, got userdata)\nstack traceback:\n\t[C]: in function 'pairs'\n\tutils.lua:250: in function 'geti_n'\n\tmodel_utils.lua:71: in function 'iterateModel'\n\t[string \"out = iterateModel( nbatches, nepochs, querie...\"]:1: in main chunk\n\t[C]: in function 'xpcall'\n\t...ojavierarceo/torch/install/share/lua/5.1/itorch/main.lua:210: in function <...ojavierarceo/torch/install/share/lua/5.1/itorch/main.lua:174>\n\t...ojavierarceo/torch/install/share/lua/5.1/lzmq/poller.lua:75: in function 'poll'\n\t...vierarceo/torch/install/share/lua/5.1/lzmq/impl/loop.lua:307: in function 'poll'\n\t...vierarceo/torch/install/share/lua/5.1/lzmq/impl/loop.lua:325: in function 'sleep_ex'\n\t...vierarceo/torch/install/share/lua/5.1/lzmq/impl/loop.lua:370: in function 'start'\n\t...ojavierarceo/torch/install/share/lua/5.1/itorch/main.lua:389: in main chunk\n\t[C]: in function 'require'\n\t(command line):1: in main chunk\n\t[C]: at 0x0102933b90"
     ]
    }
   ],
   "source": [
    "out = iterateModel( nbatches, nepochs, queries[3], data_file, batchLSTM, crit, epsilon, delta, \n",
    "                    maxlen, base_explore_rate, print_every, nuggets, learning_rate, rK)"
   ]
  },
  {
   "cell_type": "code",
   "execution_count": 13,
   "metadata": {
    "collapsed": true
   },
   "outputs": [],
   "source": [
    "rscores, pscores, fscores = {}, {}, {}"
   ]
  },
  {
   "cell_type": "code",
   "execution_count": 14,
   "metadata": {
    "collapsed": true
   },
   "outputs": [],
   "source": [
    "x = data_file\n",
    "K = rK"
   ]
  },
  {
   "cell_type": "code",
   "execution_count": 22,
   "metadata": {
    "collapsed": true
   },
   "outputs": [],
   "source": [
    "preds_list = torch.totable(torch.round(torch.rand(#x)))\n",
    "yrouge = torch.totable(torch.randn(#x))\n",
    "summary_list = populateOnes(#x, K)\n",
    "action_list = torch.totable(torch.round(torch.randn(#x)))"
   ]
  },
  {
   "cell_type": "code",
   "execution_count": 16,
   "metadata": {
    "collapsed": true
   },
   "outputs": [],
   "source": [
    "qs = queries[3]"
   ]
  },
  {
   "cell_type": "code",
   "execution_count": 17,
   "metadata": {
    "collapsed": true
   },
   "outputs": [],
   "source": [
    "nstart = 2\n",
    "nend = 20"
   ]
  },
  {
   "cell_type": "code",
   "execution_count": 19,
   "metadata": {
    "collapsed": false
   },
   "outputs": [],
   "source": [
    "x_ss  = geti_n(x, nstart, nend)\n",
    "xout  = grabNsamples(x_ss, 1, #x_ss)\n",
    "xs  = padZeros(xout, maxlen)\n",
    "qs2 = padZeros({qs}, 5)\n",
    "qrep = repeatQuery(qs2[1], #xs)"
   ]
  },
  {
   "cell_type": "code",
   "execution_count": 28,
   "metadata": {
    "collapsed": false
   },
   "outputs": [],
   "source": [
    "preds = geti_n(preds_list, nstart, nend)"
   ]
  },
  {
   "cell_type": "code",
   "execution_count": 33,
   "metadata": {
    "collapsed": true
   },
   "outputs": [],
   "source": [
    "sumry_ss = buildPredSummary(preds, xs)"
   ]
  },
  {
   "cell_type": "code",
   "execution_count": 37,
   "metadata": {
    "collapsed": false
   },
   "outputs": [],
   "source": [
    "sumry_ss2 = padZeros(sumry_ss, maxlen)"
   ]
  },
  {
   "cell_type": "code",
   "execution_count": 49,
   "metadata": {
    "collapsed": false
   },
   "outputs": [],
   "source": [
    "yr_ss = geti_n(yrouge, nstart, nend)\n",
    "as_ss = geti_n(action_list, nstart, nend)\n",
    "sentences = torch.LongTensor(xs):t()\n",
    "summary = torch.LongTensor(sumry_ss2):t()\n",
    "query = torch.LongTensor(qrep):t()\n",
    "actions = torch.Tensor(as_ss):resize(#xs, 1)\n",
    "labels = torch.Tensor(yr_ss)"
   ]
  },
  {
   "cell_type": "code",
   "execution_count": 39,
   "metadata": {
    "collapsed": true
   },
   "outputs": [],
   "source": [
    "model = batchLSTM"
   ]
  },
  {
   "cell_type": "code",
   "execution_count": 50,
   "metadata": {
    "collapsed": false,
    "scrolled": true
   },
   "outputs": [],
   "source": [
    "myPreds = model:forward({sentences, summary, query, actions})"
   ]
  },
  {
   "cell_type": "code",
   "execution_count": null,
   "metadata": {
    "collapsed": true
   },
   "outputs": [],
   "source": [
    "loss = loss + crit:forward(myPreds, labels)\n",
    "grads = crit:backward(myPreds, labels)\n",
    "model:backward({sentences, summary, query, actions}, grads)\n",
    "model:updateParameters(learning_rate)        -- Update parameters after each minibatch\n",
    "model:zeroGradParameters()"
   ]
  },
  {
   "cell_type": "code",
   "execution_count": null,
   "metadata": {
    "collapsed": true
   },
   "outputs": [],
   "source": [
    "preds = policy(myPreds, epsilon, #xs)\n",
    "--- Concatenating predictions into a summary\n",
    "predsummary = buildPredSummary(preds, xs)\n",
    "--- Initializing rouge metrics at time {t-1} and save scores\n",
    "for i=1, #predsummary do\n",
    "    --- Calculating rouge scores; Call get_i_n() to cumulatively compute rouge\n",
    "    rscores[i] = rougeRecall(geti_n(predsummary, 1, i), nuggets, K) - r_t1\n",
    "    pscores[i] = rougePrecision(geti_n(predsummary, 1, i), nuggets, K) - p_t1\n",
    "    fscores[i] = rougeF1(geti_n(predsummary, 1, i), nuggets, K) - f_t1\n",
    "    r_t1, p_t1, f_t1 = rscores[i], pscores[i], fscores[i]\n",
    "end\n",
    "--- Updating change in rouge\n",
    "yrouge = updateTable(yrouge, fscores, nstart)\n",
    "preds_list = updateTable(preds_list, preds, nstart)\n",
    "--- Calculating last one to see actual last rouge, without delta\n",
    "rscore = rougeRecall(predsummary, nuggets, K)\n",
    "pscore = rougePrecision(predsummary, nuggets, K)\n",
    "fscore = rougeF1(predsummary, nuggets, K)\n"
   ]
  }
 ],
 "metadata": {
  "kernelspec": {
   "display_name": "iTorch",
   "language": "lua",
   "name": "itorch"
  },
  "language_info": {
   "name": "lua",
   "version": "5.1"
  }
 },
 "nbformat": 4,
 "nbformat_minor": 0
}
