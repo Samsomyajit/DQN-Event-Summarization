{
 "cells": [
  {
   "cell_type": "code",
   "execution_count": 1,
   "metadata": {
    "collapsed": false
   },
   "outputs": [],
   "source": [
    "require 'torch'\n",
    "require 'gnuplot'\n",
    "require 'rnn'\n",
    "require 'image'\n",
    "Plot = require 'itorch.Plot'"
   ]
  },
  {
   "cell_type": "code",
   "execution_count": 2,
   "metadata": {
    "collapsed": false,
    "scrolled": true
   },
   "outputs": [
    {
     "data": {
      "text/plain": [
       "<csv>\tparsing file: /Users/franciscojavierarceo/GitHub/DeepNLPQLearning/DO_NOT_UPLOAD_THIS_DATA/0-output/2012_aurora_shooting_first_sentence_numtext.csv\t\n"
      ]
     },
     "execution_count": 2,
     "metadata": {},
     "output_type": "execute_result"
    },
    {
     "data": {
      "text/plain": [
       "<csv>\tparsing done\t\n",
       "<csv>\tparsing file: /Users/franciscojavierarceo/GitHub/DeepNLPQLearning/DO_NOT_UPLOAD_THIS_DATA/0-output/aurora_nuggets_numtext.csv\t\n",
       "<csv>\tparsing done\t\n",
       "...Utils file loaded\t\n"
      ]
     },
     "execution_count": 2,
     "metadata": {},
     "output_type": "execute_result"
    },
    {
     "data": {
      "text/plain": [
       "1000\telements read out of \t12510\t\n"
      ]
     },
     "execution_count": 2,
     "metadata": {},
     "output_type": "execute_result"
    },
    {
     "data": {
      "text/plain": [
       "139\telements read out of \t140\t\n",
       "1000\telements read out of \t12510\t\n"
      ]
     },
     "execution_count": 2,
     "metadata": {},
     "output_type": "execute_result"
    },
    {
     "data": {
      "text/plain": [
       "Epoch 1, Rouge \t {Recall = 0.955330, Precision =      0, F1 = 0.167961}\t\n"
      ]
     },
     "execution_count": 2,
     "metadata": {},
     "output_type": "execute_result"
    },
    {
     "data": {
      "text/plain": [
       "Epoch 2, Rouge \t {Recall = 0.960406, Precision =      0, F1 = 0.160149}\t\n"
      ]
     },
     "execution_count": 2,
     "metadata": {},
     "output_type": "execute_result"
    },
    {
     "data": {
      "text/plain": [
       "Epoch 3, Rouge \t {Recall = 0.960406, Precision =      0, F1 = 0.160149}\t\n"
      ]
     },
     "execution_count": 2,
     "metadata": {},
     "output_type": "execute_result"
    },
    {
     "data": {
      "text/plain": [
       "Epoch 4, Rouge \t {Recall = 0.960406, Precision =      0, F1 = 0.160149}\t\n"
      ]
     },
     "execution_count": 2,
     "metadata": {},
     "output_type": "execute_result"
    },
    {
     "data": {
      "text/plain": [
       "Epoch 5, Rouge \t {Recall = 0.960406, Precision =      0, F1 = 0.160149}\t\n"
      ]
     },
     "execution_count": 2,
     "metadata": {},
     "output_type": "execute_result"
    },
    {
     "data": {
      "text/plain": [
       "Epoch 6, Rouge \t {Recall = 0.960406, Precision =      0, F1 = 0.160149}\t\n"
      ]
     },
     "execution_count": 2,
     "metadata": {},
     "output_type": "execute_result"
    },
    {
     "data": {
      "text/plain": [
       "Epoch 7, Rouge \t {Recall = 0.960406, Precision =      0, F1 = 0.160149}\t\n"
      ]
     },
     "execution_count": 2,
     "metadata": {},
     "output_type": "execute_result"
    },
    {
     "data": {
      "text/plain": [
       "Epoch 8, Rouge \t {Recall = 0.960406, Precision =      0, F1 = 0.160149}\t\n"
      ]
     },
     "execution_count": 2,
     "metadata": {},
     "output_type": "execute_result"
    },
    {
     "data": {
      "text/plain": [
       "Epoch 9, Rouge \t {Recall = 0.960406, Precision =      0, F1 = 0.160149}\t\n"
      ]
     },
     "execution_count": 2,
     "metadata": {},
     "output_type": "execute_result"
    },
    {
     "data": {
      "text/plain": [
       "Epoch 10, Rouge \t {Recall = 0.960406, Precision =      0, F1 = 0.160149}\t\n"
      ]
     },
     "execution_count": 2,
     "metadata": {},
     "output_type": "execute_result"
    },
    {
     "data": {
      "text/plain": [
       "Epoch 11, Rouge \t {Recall = 0.960406, Precision =      0, F1 = 0.160149}\t\n"
      ]
     },
     "execution_count": 2,
     "metadata": {},
     "output_type": "execute_result"
    },
    {
     "data": {
      "text/plain": [
       "Epoch 12, Rouge \t {Recall = 0.960406, Precision =      0, F1 = 0.160149}\t\n"
      ]
     },
     "execution_count": 2,
     "metadata": {},
     "output_type": "execute_result"
    },
    {
     "data": {
      "text/plain": [
       "Epoch 13, Rouge \t {Recall = 0.960406, Precision =      0, F1 = 0.160149}\t\n"
      ]
     },
     "execution_count": 2,
     "metadata": {},
     "output_type": "execute_result"
    },
    {
     "data": {
      "text/plain": [
       "Epoch 14, Rouge \t {Recall = 0.960406, Precision =      0, F1 = 0.160149}\t\n"
      ]
     },
     "execution_count": 2,
     "metadata": {},
     "output_type": "execute_result"
    },
    {
     "data": {
      "text/plain": [
       "Epoch 15, Rouge \t {Recall = 0.960406, Precision =      0, F1 = 0.160149}\t\n"
      ]
     },
     "execution_count": 2,
     "metadata": {},
     "output_type": "execute_result"
    },
    {
     "data": {
      "text/plain": [
       "Epoch 16, Rouge \t {Recall = 0.960406, Precision =      0, F1 = 0.160149}\t\n"
      ]
     },
     "execution_count": 2,
     "metadata": {},
     "output_type": "execute_result"
    },
    {
     "data": {
      "text/plain": [
       "Epoch 17, Rouge \t {Recall = 0.960406, Precision =      0, F1 = 0.160149}\t\n"
      ]
     },
     "execution_count": 2,
     "metadata": {},
     "output_type": "execute_result"
    },
    {
     "data": {
      "text/plain": [
       "Epoch 18, Rouge \t {Recall = 0.960406, Precision =      0, F1 = 0.160149}\t\n"
      ]
     },
     "execution_count": 2,
     "metadata": {},
     "output_type": "execute_result"
    },
    {
     "data": {
      "text/plain": [
       "Epoch 19, Rouge \t {Recall = 0.960406, Precision =      0, F1 = 0.160149}\t\n"
      ]
     },
     "execution_count": 2,
     "metadata": {},
     "output_type": "execute_result"
    },
    {
     "data": {
      "text/plain": [
       "Epoch 20, Rouge \t {Recall = 0.960406, Precision =      0, F1 = 0.160149}\t\n"
      ]
     },
     "execution_count": 2,
     "metadata": {},
     "output_type": "execute_result"
    },
    {
     "data": {
      "text/plain": [
       "Epoch 21, Rouge \t {Recall = 0.960406, Precision =      0, F1 = 0.160149}\t\n"
      ]
     },
     "execution_count": 2,
     "metadata": {},
     "output_type": "execute_result"
    },
    {
     "data": {
      "text/plain": [
       "Epoch 22, Rouge \t {Recall = 0.960406, Precision =      0, F1 = 0.160149}\t\n"
      ]
     },
     "execution_count": 2,
     "metadata": {},
     "output_type": "execute_result"
    },
    {
     "data": {
      "text/plain": [
       "Epoch 23, Rouge \t {Recall = 0.960406, Precision =      0, F1 = 0.160149}\t\n"
      ]
     },
     "execution_count": 2,
     "metadata": {},
     "output_type": "execute_result"
    },
    {
     "data": {
      "text/plain": [
       "Epoch 24, Rouge \t {Recall = 0.960406, Precision =      0, F1 = 0.160149}\t\n"
      ]
     },
     "execution_count": 2,
     "metadata": {},
     "output_type": "execute_result"
    },
    {
     "data": {
      "text/plain": [
       "Epoch 25, Rouge \t {Recall = 0.960406, Precision =      0, F1 = 0.160149}\t\n"
      ]
     },
     "execution_count": 2,
     "metadata": {},
     "output_type": "execute_result"
    },
    {
     "data": {
      "text/plain": [
       "Epoch 26, Rouge \t {Recall = 0.960406, Precision =      0, F1 = 0.160149}\t\n"
      ]
     },
     "execution_count": 2,
     "metadata": {},
     "output_type": "execute_result"
    },
    {
     "data": {
      "text/plain": [
       "Epoch 27, Rouge \t {Recall = 0.960406, Precision =      0, F1 = 0.160149}\t\n"
      ]
     },
     "execution_count": 2,
     "metadata": {},
     "output_type": "execute_result"
    },
    {
     "data": {
      "text/plain": [
       "Epoch 28, Rouge \t {Recall = 0.960406, Precision =      0, F1 = 0.160149}\t\n"
      ]
     },
     "execution_count": 2,
     "metadata": {},
     "output_type": "execute_result"
    },
    {
     "data": {
      "text/plain": [
       "Epoch 29, Rouge \t {Recall = 0.960406, Precision =      0, F1 = 0.160149}\t\n"
      ]
     },
     "execution_count": 2,
     "metadata": {},
     "output_type": "execute_result"
    },
    {
     "data": {
      "text/plain": [
       "Epoch 30, Rouge \t {Recall = 0.960406, Precision =      0, F1 = 0.160149}\t\n"
      ]
     },
     "execution_count": 2,
     "metadata": {},
     "output_type": "execute_result"
    },
    {
     "data": {
      "text/plain": [
       "Epoch 31, Rouge \t {Recall = 0.960406, Precision =      0, F1 = 0.160149}\t\n"
      ]
     },
     "execution_count": 2,
     "metadata": {},
     "output_type": "execute_result"
    },
    {
     "data": {
      "text/plain": [
       "Epoch 32, Rouge \t {Recall = 0.960406, Precision =      0, F1 = 0.160149}\t\n"
      ]
     },
     "execution_count": 2,
     "metadata": {},
     "output_type": "execute_result"
    },
    {
     "data": {
      "text/plain": [
       "Epoch 33, Rouge \t {Recall = 0.960406, Precision =      0, F1 = 0.160149}\t\n"
      ]
     },
     "execution_count": 2,
     "metadata": {},
     "output_type": "execute_result"
    },
    {
     "data": {
      "text/plain": [
       "Epoch 34, Rouge \t {Recall = 0.960406, Precision =      0, F1 = 0.160149}\t\n"
      ]
     },
     "execution_count": 2,
     "metadata": {},
     "output_type": "execute_result"
    },
    {
     "data": {
      "text/plain": [
       "Epoch 35, Rouge \t {Recall = 0.960406, Precision =      0, F1 = 0.160149}\t\n"
      ]
     },
     "execution_count": 2,
     "metadata": {},
     "output_type": "execute_result"
    },
    {
     "data": {
      "text/plain": [
       "Epoch 36, Rouge \t {Recall = 0.960406, Precision =      0, F1 = 0.160149}\t\n"
      ]
     },
     "execution_count": 2,
     "metadata": {},
     "output_type": "execute_result"
    },
    {
     "data": {
      "text/plain": [
       "Epoch 37, Rouge \t {Recall = 0.960406, Precision =      0, F1 = 0.160149}\t\n"
      ]
     },
     "execution_count": 2,
     "metadata": {},
     "output_type": "execute_result"
    },
    {
     "data": {
      "text/plain": [
       "Epoch 38, Rouge \t {Recall = 0.960406, Precision =      0, F1 = 0.160149}\t\n"
      ]
     },
     "execution_count": 2,
     "metadata": {},
     "output_type": "execute_result"
    },
    {
     "data": {
      "text/plain": [
       "Epoch 39, Rouge \t {Recall = 0.960406, Precision =      0, F1 = 0.160149}\t\n"
      ]
     },
     "execution_count": 2,
     "metadata": {},
     "output_type": "execute_result"
    },
    {
     "data": {
      "text/plain": [
       "Epoch 40, Rouge \t {Recall = 0.960406, Precision =      0, F1 = 0.160149}\t\n"
      ]
     },
     "execution_count": 2,
     "metadata": {},
     "output_type": "execute_result"
    },
    {
     "data": {
      "text/plain": [
       "Epoch 41, Rouge \t {Recall = 0.960406, Precision =      0, F1 = 0.160149}\t\n"
      ]
     },
     "execution_count": 2,
     "metadata": {},
     "output_type": "execute_result"
    },
    {
     "data": {
      "text/plain": [
       "Epoch 42, Rouge \t {Recall = 0.960406, Precision =      0, F1 = 0.160149}\t\n"
      ]
     },
     "execution_count": 2,
     "metadata": {},
     "output_type": "execute_result"
    },
    {
     "data": {
      "text/plain": [
       "Epoch 43, Rouge \t {Recall = 0.960406, Precision =      0, F1 = 0.160149}\t\n"
      ]
     },
     "execution_count": 2,
     "metadata": {},
     "output_type": "execute_result"
    },
    {
     "data": {
      "text/plain": [
       "Epoch 44, Rouge \t {Recall = 0.960406, Precision =      0, F1 = 0.160149}\t\n"
      ]
     },
     "execution_count": 2,
     "metadata": {},
     "output_type": "execute_result"
    },
    {
     "data": {
      "text/plain": [
       "Epoch 45, Rouge \t {Recall = 0.960406, Precision =      0, F1 = 0.160149}\t\n"
      ]
     },
     "execution_count": 2,
     "metadata": {},
     "output_type": "execute_result"
    },
    {
     "data": {
      "text/plain": [
       "Epoch 46, Rouge \t {Recall = 0.960406, Precision =      0, F1 = 0.160149}\t\n"
      ]
     },
     "execution_count": 2,
     "metadata": {},
     "output_type": "execute_result"
    },
    {
     "data": {
      "text/plain": [
       "Epoch 47, Rouge \t {Recall = 0.960406, Precision =      0, F1 = 0.160149}\t\n"
      ]
     },
     "execution_count": 2,
     "metadata": {},
     "output_type": "execute_result"
    },
    {
     "data": {
      "text/plain": [
       "Epoch 48, Rouge \t {Recall = 0.960406, Precision =      0, F1 = 0.160149}\t\n"
      ]
     },
     "execution_count": 2,
     "metadata": {},
     "output_type": "execute_result"
    },
    {
     "data": {
      "text/plain": [
       "Epoch 49, Rouge \t {Recall = 0.960406, Precision =      0, F1 = 0.160149}\t\n"
      ]
     },
     "execution_count": 2,
     "metadata": {},
     "output_type": "execute_result"
    },
    {
     "data": {
      "text/plain": [
       "Epoch 50, Rouge \t {Recall = 0.960406, Precision =      0, F1 = 0.160149}\t\n"
      ]
     },
     "execution_count": 2,
     "metadata": {},
     "output_type": "execute_result"
    },
    {
     "data": {
      "text/plain": [
       "Epoch 51, Rouge \t {Recall = 0.960406, Precision =      0, F1 = 0.160149}\t\n"
      ]
     },
     "execution_count": 2,
     "metadata": {},
     "output_type": "execute_result"
    },
    {
     "data": {
      "text/plain": [
       "Epoch 52, Rouge \t {Recall = 0.960406, Precision =      0, F1 = 0.160149}\t\n"
      ]
     },
     "execution_count": 2,
     "metadata": {},
     "output_type": "execute_result"
    },
    {
     "data": {
      "text/plain": [
       "Epoch 53, Rouge \t {Recall = 0.960406, Precision =      0, F1 = 0.160149}\t\n"
      ]
     },
     "execution_count": 2,
     "metadata": {},
     "output_type": "execute_result"
    },
    {
     "data": {
      "text/plain": [
       "Epoch 54, Rouge \t {Recall = 0.960406, Precision =      0, F1 = 0.160149}\t\n"
      ]
     },
     "execution_count": 2,
     "metadata": {},
     "output_type": "execute_result"
    },
    {
     "data": {
      "text/plain": [
       "Epoch 55, Rouge \t {Recall = 0.960406, Precision =      0, F1 = 0.160149}\t\n"
      ]
     },
     "execution_count": 2,
     "metadata": {},
     "output_type": "execute_result"
    },
    {
     "data": {
      "text/plain": [
       "Epoch 56, Rouge \t {Recall = 0.960406, Precision =      0, F1 = 0.160149}\t\n"
      ]
     },
     "execution_count": 2,
     "metadata": {},
     "output_type": "execute_result"
    },
    {
     "data": {
      "text/plain": [
       "Epoch 57, Rouge \t {Recall = 0.960406, Precision =      0, F1 = 0.160149}\t\n"
      ]
     },
     "execution_count": 2,
     "metadata": {},
     "output_type": "execute_result"
    },
    {
     "data": {
      "text/plain": [
       "Epoch 58, Rouge \t {Recall = 0.960406, Precision =      0, F1 = 0.160149}\t\n"
      ]
     },
     "execution_count": 2,
     "metadata": {},
     "output_type": "execute_result"
    },
    {
     "data": {
      "text/plain": [
       "Epoch 59, Rouge \t {Recall = 0.960406, Precision =      0, F1 = 0.160149}\t\n"
      ]
     },
     "execution_count": 2,
     "metadata": {},
     "output_type": "execute_result"
    },
    {
     "data": {
      "text/plain": [
       "Epoch 60, Rouge \t {Recall = 0.960406, Precision =      0, F1 = 0.160149}\t\n"
      ]
     },
     "execution_count": 2,
     "metadata": {},
     "output_type": "execute_result"
    },
    {
     "data": {
      "text/plain": [
       "Epoch 61, Rouge \t {Recall = 0.960406, Precision =      0, F1 = 0.160149}\t\n"
      ]
     },
     "execution_count": 2,
     "metadata": {},
     "output_type": "execute_result"
    },
    {
     "data": {
      "text/plain": [
       "Epoch 62, Rouge \t {Recall = 0.960406, Precision =      0, F1 = 0.160149}\t\n"
      ]
     },
     "execution_count": 2,
     "metadata": {},
     "output_type": "execute_result"
    },
    {
     "data": {
      "text/plain": [
       "Epoch 63, Rouge \t {Recall = 0.960406, Precision =      0, F1 = 0.160149}\t\n"
      ]
     },
     "execution_count": 2,
     "metadata": {},
     "output_type": "execute_result"
    },
    {
     "data": {
      "text/plain": [
       "Epoch 64, Rouge \t {Recall = 0.960406, Precision =      0, F1 = 0.160149}\t\n"
      ]
     },
     "execution_count": 2,
     "metadata": {},
     "output_type": "execute_result"
    },
    {
     "data": {
      "text/plain": [
       "Epoch 65, Rouge \t {Recall = 0.960406, Precision =      0, F1 = 0.160149}\t\n"
      ]
     },
     "execution_count": 2,
     "metadata": {},
     "output_type": "execute_result"
    },
    {
     "data": {
      "text/plain": [
       "Epoch 66, Rouge \t {Recall = 0.960406, Precision =      0, F1 = 0.160149}\t\n"
      ]
     },
     "execution_count": 2,
     "metadata": {},
     "output_type": "execute_result"
    },
    {
     "data": {
      "text/plain": [
       "Epoch 67, Rouge \t {Recall = 0.960406, Precision =      0, F1 = 0.160149}\t\n"
      ]
     },
     "execution_count": 2,
     "metadata": {},
     "output_type": "execute_result"
    },
    {
     "data": {
      "text/plain": [
       "Epoch 68, Rouge \t {Recall = 0.960406, Precision =      0, F1 = 0.160149}\t\n"
      ]
     },
     "execution_count": 2,
     "metadata": {},
     "output_type": "execute_result"
    },
    {
     "data": {
      "text/plain": [
       "Epoch 69, Rouge \t {Recall = 0.960406, Precision =      0, F1 = 0.160149}\t\n"
      ]
     },
     "execution_count": 2,
     "metadata": {},
     "output_type": "execute_result"
    },
    {
     "data": {
      "text/plain": [
       "Epoch 70, Rouge \t {Recall = 0.960406, Precision =      0, F1 = 0.160149}\t\n"
      ]
     },
     "execution_count": 2,
     "metadata": {},
     "output_type": "execute_result"
    },
    {
     "data": {
      "text/plain": [
       "Epoch 71, Rouge \t {Recall = 0.960406, Precision =      0, F1 = 0.160149}\t\n"
      ]
     },
     "execution_count": 2,
     "metadata": {},
     "output_type": "execute_result"
    },
    {
     "data": {
      "text/plain": [
       "Epoch 72, Rouge \t {Recall = 0.960406, Precision =      0, F1 = 0.160149}\t\n"
      ]
     },
     "execution_count": 2,
     "metadata": {},
     "output_type": "execute_result"
    },
    {
     "data": {
      "text/plain": [
       "Epoch 73, Rouge \t {Recall = 0.960406, Precision =      0, F1 = 0.160149}\t\n"
      ]
     },
     "execution_count": 2,
     "metadata": {},
     "output_type": "execute_result"
    },
    {
     "data": {
      "text/plain": [
       "Epoch 74, Rouge \t {Recall = 0.960406, Precision =      0, F1 = 0.160149}\t\n"
      ]
     },
     "execution_count": 2,
     "metadata": {},
     "output_type": "execute_result"
    },
    {
     "data": {
      "text/plain": [
       "Epoch 75, Rouge \t {Recall = 0.960406, Precision =      0, F1 = 0.160149}\t\n"
      ]
     },
     "execution_count": 2,
     "metadata": {},
     "output_type": "execute_result"
    },
    {
     "data": {
      "text/plain": [
       "Epoch 76, Rouge \t {Recall = 0.960406, Precision =      0, F1 = 0.160149}\t\n"
      ]
     },
     "execution_count": 2,
     "metadata": {},
     "output_type": "execute_result"
    },
    {
     "data": {
      "text/plain": [
       "Epoch 77, Rouge \t {Recall = 0.960406, Precision =      0, F1 = 0.160149}\t\n"
      ]
     },
     "execution_count": 2,
     "metadata": {},
     "output_type": "execute_result"
    },
    {
     "data": {
      "text/plain": [
       "Epoch 78, Rouge \t {Recall = 0.960406, Precision =      0, F1 = 0.160149}\t\n"
      ]
     },
     "execution_count": 2,
     "metadata": {},
     "output_type": "execute_result"
    },
    {
     "data": {
      "text/plain": [
       "Epoch 79, Rouge \t {Recall = 0.960406, Precision =      0, F1 = 0.160149}\t\n"
      ]
     },
     "execution_count": 2,
     "metadata": {},
     "output_type": "execute_result"
    },
    {
     "data": {
      "text/plain": [
       "Epoch 80, Rouge \t {Recall = 0.960406, Precision =      0, F1 = 0.160149}\t\n"
      ]
     },
     "execution_count": 2,
     "metadata": {},
     "output_type": "execute_result"
    },
    {
     "data": {
      "text/plain": [
       "Epoch 81, Rouge \t {Recall = 0.960406, Precision =      0, F1 = 0.160149}\t\n"
      ]
     },
     "execution_count": 2,
     "metadata": {},
     "output_type": "execute_result"
    },
    {
     "data": {
      "text/plain": [
       "Epoch 82, Rouge \t {Recall = 0.960406, Precision =      0, F1 = 0.160149}\t\n"
      ]
     },
     "execution_count": 2,
     "metadata": {},
     "output_type": "execute_result"
    },
    {
     "data": {
      "text/plain": [
       "Epoch 83, Rouge \t {Recall = 0.960406, Precision =      0, F1 = 0.160149}\t\n"
      ]
     },
     "execution_count": 2,
     "metadata": {},
     "output_type": "execute_result"
    },
    {
     "data": {
      "text/plain": [
       "Epoch 84, Rouge \t {Recall = 0.960406, Precision =      0, F1 = 0.160149}\t\n"
      ]
     },
     "execution_count": 2,
     "metadata": {},
     "output_type": "execute_result"
    },
    {
     "data": {
      "text/plain": [
       "Epoch 85, Rouge \t {Recall = 0.960406, Precision =      0, F1 = 0.160149}\t\n"
      ]
     },
     "execution_count": 2,
     "metadata": {},
     "output_type": "execute_result"
    },
    {
     "data": {
      "text/plain": [
       "Epoch 86, Rouge \t {Recall = 0.960406, Precision =      0, F1 = 0.160149}\t\n"
      ]
     },
     "execution_count": 2,
     "metadata": {},
     "output_type": "execute_result"
    },
    {
     "data": {
      "text/plain": [
       "Epoch 87, Rouge \t {Recall = 0.960406, Precision =      0, F1 = 0.160149}\t\n"
      ]
     },
     "execution_count": 2,
     "metadata": {},
     "output_type": "execute_result"
    },
    {
     "data": {
      "text/plain": [
       "Epoch 88, Rouge \t {Recall = 0.960406, Precision =      0, F1 = 0.160149}\t\n"
      ]
     },
     "execution_count": 2,
     "metadata": {},
     "output_type": "execute_result"
    },
    {
     "data": {
      "text/plain": [
       "Epoch 89, Rouge \t {Recall = 0.960406, Precision =      0, F1 = 0.160149}\t\n"
      ]
     },
     "execution_count": 2,
     "metadata": {},
     "output_type": "execute_result"
    },
    {
     "data": {
      "text/plain": [
       "Epoch 90, Rouge \t {Recall = 0.960406, Precision =      0, F1 = 0.160149}\t\n"
      ]
     },
     "execution_count": 2,
     "metadata": {},
     "output_type": "execute_result"
    },
    {
     "data": {
      "text/plain": [
       "Epoch 91, Rouge \t {Recall = 0.960406, Precision =      0, F1 = 0.160149}\t\n"
      ]
     },
     "execution_count": 2,
     "metadata": {},
     "output_type": "execute_result"
    },
    {
     "data": {
      "text/plain": [
       "Epoch 92, Rouge \t {Recall = 0.960406, Precision =      0, F1 = 0.160149}\t\n"
      ]
     },
     "execution_count": 2,
     "metadata": {},
     "output_type": "execute_result"
    },
    {
     "data": {
      "text/plain": [
       "Epoch 93, Rouge \t {Recall = 0.960406, Precision =      0, F1 = 0.160149}\t\n"
      ]
     },
     "execution_count": 2,
     "metadata": {},
     "output_type": "execute_result"
    },
    {
     "data": {
      "text/plain": [
       "Epoch 94, Rouge \t {Recall = 0.960406, Precision =      0, F1 = 0.160149}\t\n"
      ]
     },
     "execution_count": 2,
     "metadata": {},
     "output_type": "execute_result"
    },
    {
     "data": {
      "text/plain": [
       "Epoch 95, Rouge \t {Recall = 0.960406, Precision =      0, F1 = 0.160149}\t\n"
      ]
     },
     "execution_count": 2,
     "metadata": {},
     "output_type": "execute_result"
    },
    {
     "data": {
      "text/plain": [
       "Epoch 96, Rouge \t {Recall = 0.960406, Precision =      0, F1 = 0.160149}\t\n"
      ]
     },
     "execution_count": 2,
     "metadata": {},
     "output_type": "execute_result"
    },
    {
     "data": {
      "text/plain": [
       "Epoch 97, Rouge \t {Recall = 0.960406, Precision =      0, F1 = 0.160149}\t\n"
      ]
     },
     "execution_count": 2,
     "metadata": {},
     "output_type": "execute_result"
    },
    {
     "data": {
      "text/plain": [
       "Epoch 98, Rouge \t {Recall = 0.960406, Precision =      0, F1 = 0.160149}\t\n"
      ]
     },
     "execution_count": 2,
     "metadata": {},
     "output_type": "execute_result"
    },
    {
     "data": {
      "text/plain": [
       "Epoch 99, Rouge \t {Recall = 0.960406, Precision =      0, F1 = 0.160149}\t\n"
      ]
     },
     "execution_count": 2,
     "metadata": {},
     "output_type": "execute_result"
    },
    {
     "data": {
      "text/plain": [
       "Epoch 100, Rouge \t {Recall = 0.960406, Precision =      0, F1 = 0.160149}\t\n"
      ]
     },
     "execution_count": 2,
     "metadata": {},
     "output_type": "execute_result"
    }
   ],
   "source": [
    "require 'torch'\n",
    "require 'nn'\n",
    "require 'rnn'\n",
    "require 'csvigo'\n",
    "\n",
    "aurora_fn = '~/GitHub/DeepNLPQLearning/DO_NOT_UPLOAD_THIS_DATA/0-output/2012_aurora_shooting_first_sentence_numtext.csv'\n",
    "nugget_fn = '~/GitHub/DeepNLPQLearning/DO_NOT_UPLOAD_THIS_DATA/0-output/aurora_nuggets_numtext.csv'\n",
    "\n",
    "m = csvigo.load({path = aurora_fn, mode = \"large\"})\n",
    "q = csvigo.load({path = nugget_fn, mode = \"large\"})\n",
    "\n",
    "N = 1000 --- Breaks at 35\n",
    "K = 100\n",
    "nepochs = 100\n",
    "embed_dim = 6\n",
    "cuda = true\n",
    "\n",
    "torch.manualSeed(420)\n",
    "\n",
    "dofile(\"utils.lua\")\n",
    "\n",
    "out = grabNsamples(m, N, K)             --- Extracting N samples\n",
    "nggs = grabNsamples(q, #q-1, nil)       --- Extracting all samples\n",
    "\n",
    "mxl = 0\n",
    "for k,v in pairs(out) do\n",
    "    mxl = math.max(mxl, #v)\n",
    "end\n",
    "\n",
    "vocab_size = 0                  --- getting the length of the dictionary\n",
    "for k,v in pairs(out) do\n",
    "    vocab_size = math.max(vocab_size, math.max(table.unpack(v)))\n",
    "    if (k % N)==0 then\n",
    "        print(k,'elements read out of ', #m)\n",
    "        break\n",
    "    end\n",
    "end\n",
    "\n",
    "function build_network(vocab_size, embed_dim, outputSize, cuda)\n",
    "    batchLSTM = nn.Sequential()\n",
    "    :add(nn.LookupTableMaskZero(vocab_size, embed_dim)) -- will return a sequence-length x batch-size x embedDim tensor\n",
    "    :add(nn.SplitTable(1, embed_dim)) -- splits into a sequence-length table with batch-size x embedDim entries\n",
    "    :add(nn.Sequencer(nn.LSTM(embed_dim, embed_dim)))\n",
    "    :add(nn.SelectTable(-1)) -- selects last state of the LSTM\n",
    "    :add(nn.Linear(embed_dim, outputSize)) -- map last state to a score for classification\n",
    "    :add(nn.ReLU())\n",
    "\n",
    "   return batchLSTM\n",
    "\n",
    "end\n",
    "\n",
    "xs = padZeros(out, mxl)             --- Padding the data by the maximum length\n",
    "input = torch.LongTensor(xs)        --- This is the correct format to input it\n",
    "labels = torch.rand(#out)\n",
    "\n",
    "-- For batch inputs, it's a little easier to start with sequence-length x batch-size tensor, so we transpose songData\n",
    "myDataT = input:t()\n",
    "batchLSTM = build_network(vocab_size, embed_dim, 1, true)\n",
    "crit = nn.MSECriterion()\n",
    "\n",
    "err = {}\n",
    "loss = 0\n",
    "for epoch=1, nepochs, 1 do\n",
    "    myPreds = batchLSTM:forward(myDataT)\n",
    "    loss = loss + crit:forward(myPreds, labels)\n",
    "    grads = crit:backward(myPreds, labels)\n",
    "    batchLSTM:backward(myDataT, grads)\n",
    "    err[epoch] = loss\n",
    "    \n",
    "    --We update params at the end of each batch\n",
    "    batchLSTM:updateParameters(0.1)\n",
    "    batchLSTM:zeroGradParameters()\n",
    "    \n",
    "    preds = {}\n",
    "    for i=1, myPreds:size()[1] do\n",
    "        preds[i] = (myPreds[i][1] > 0) and 1 or 0 --- lua is stupid\n",
    "    end\n",
    "\n",
    "    ys = unpackZeros(preds)\n",
    "    predsummary = buildPredSummary(ys, xs)\n",
    "\n",
    "    rscore = rougeRecall(predsummary, nggs)\n",
    "    pscore = rougePrecision(predsummary, nggs)\n",
    "    fscore = rougeF1(predsummary, nggs)\n",
    "    print(string.format(\"Epoch %i, Rouge \\t {Recall = %.6f, Precision = %6.f, F1 = %.6f}\", epoch, rscore, pscore, fscore))\n",
    "end"
   ]
  },
  {
   "cell_type": "code",
   "execution_count": 4,
   "metadata": {
    "collapsed": false
   },
   "outputs": [],
   "source": [
    "function geti_n(x, n)\n",
    "    local out = {}\n",
    "    for k,v in pairs(x) do\n",
    "        if k <= n then\n",
    "        out[k] = v\n",
    "        else\n",
    "            break\n",
    "        end\n",
    "    end\n",
    "    return out\n",
    "end"
   ]
  },
  {
   "cell_type": "code",
   "execution_count": 8,
   "metadata": {
    "collapsed": false
   },
   "outputs": [
    {
     "data": {
      "text/plain": [
       "{Recall = 0.005076, Precision =      0, F1 = 0.010030}\t\n",
       "{Recall = 0.027411, Precision =      1, F1 = 0.052224}\t\n"
      ]
     },
     "execution_count": 8,
     "metadata": {},
     "output_type": "execute_result"
    },
    {
     "data": {
      "text/plain": [
       "{Recall = 0.031472, Precision =      1, F1 = 0.059673}\t\n",
       "{Recall = 0.035533, Precision =      1, F1 = 0.066667}\t\n"
      ]
     },
     "execution_count": 8,
     "metadata": {},
     "output_type": "execute_result"
    }
   ],
   "source": [
    "rscores = {}\n",
    "pscores = {}\n",
    "fscores = {}\n",
    "out = {}\n",
    "for i=1, 4 do\n",
    "    rscores[i] = rougeRecall(geti_n(predsummary, i), nggs)\n",
    "    pscores[i] = rougePrecision(geti_n(predsummary, i), nggs)\n",
    "    fscores[i] = rougeF1(geti_n(predsummary, i), nggs)\n",
    "    print(string.format(\"{Recall = %.6f, Precision = %6.f, F1 = %.6f}\", rscores[i], pscores[i], fscores[i]))\n",
    "end"
   ]
  },
  {
   "cell_type": "code",
   "execution_count": null,
   "metadata": {
    "collapsed": true
   },
   "outputs": [],
   "source": []
  },
  {
   "cell_type": "code",
   "execution_count": null,
   "metadata": {
    "collapsed": true
   },
   "outputs": [],
   "source": [
    "rscore = rougeRecall(predsummary, nggs)\n",
    "pscore = rougePrecision(predsummary, nggs)\n",
    "fscore = rougeF1(predsummary, nggs)"
   ]
  },
  {
   "cell_type": "code",
   "execution_count": null,
   "metadata": {
    "collapsed": false
   },
   "outputs": [],
   "source": [
    "-- scatter plots\n",
    "plot = Plot():circle(torch.range(1, #err), \n",
    "                err, 'red', 'RMSE'):draw()\n",
    "plot:line(torch.range(1, #err), \n",
    "                err, 'red', ''):redraw()\n",
    "plot:title('Plot of Loss Function'):redraw()\n",
    "plot:xaxis('Iterations'):yaxis('Mean Squared Error'):redraw()\n",
    "plot:legend(true)\n",
    "plot:redraw()"
   ]
  },
  {
   "cell_type": "code",
   "execution_count": null,
   "metadata": {
    "collapsed": true
   },
   "outputs": [],
   "source": []
  }
 ],
 "metadata": {
  "kernelspec": {
   "display_name": "iTorch",
   "language": "lua",
   "name": "itorch"
  },
  "language_info": {
   "name": "lua",
   "version": "5.1"
  }
 },
 "nbformat": 4,
 "nbformat_minor": 0
}
