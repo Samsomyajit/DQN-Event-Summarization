{
 "cells": [
  {
   "cell_type": "code",
   "execution_count": null,
   "metadata": {
    "collapsed": true
   },
   "outputs": [],
   "source": [
    "require 'nn'\n",
    "require 'rnn'\n",
    "require 'optim'"
   ]
  },
  {
   "cell_type": "code",
   "execution_count": null,
   "metadata": {
    "collapsed": true
   },
   "outputs": [],
   "source": [
    "nepochs = 250\n",
    "learning_rate = 0.1\n",
    "gamma =0.2\n",
    "cuts =4\n",
    "base_explore_rate = 0.1\n",
    "delta = 1./(nepochs/cuts) \n",
    "\n",
    "SKIP = 1\n",
    "SELECT = 2\n",
    "\n",
    "vocabSize = 16\n",
    "embeddingSize = 64\n",
    "\n",
    "torch.manualSeed(420)\n",
    "math.randomseed(420)\n",
    "\n",
    "sentenceLookup = nn.Sequential():add(\n",
    "    nn.LookupTableMaskZero(vocabSize, embeddingSize)):add(\n",
    "    nn.Sum(2, 3, false))\n",
    "\n",
    "queryLookup = sentenceLookup:clone() --\"weight\", \"gradWeight\")\n",
    "summaryLookup = sentenceLookup:clone() --\"weight\", \"gradWeight\")\n",
    "\n",
    "model = nn.Sequential():add(\n",
    "    nn.ParallelTable():add(\n",
    "        sentenceLookup):add(\n",
    "        queryLookup):add(\n",
    "        summaryLookup)):add(\n",
    "    nn.JoinTable(2)):add(\n",
    "    nn.Tanh()):add(\n",
    "    nn.Linear(embeddingSize * 3, 2)) --:add(\n",
    "    --nn.Tanh()):add(\n",
    "    --nn.Linear(embeddingSize, 2))\n",
    "criterion = nn.MSECriterion()\n",
    "params, gradParams = model:getParameters()\n",
    "\n",
    "function buildSummary(actions, sentences, buffer)\n",
    "    buffer:zero()\n",
    "\n",
    "     bufferSize = buffer:size(2)\n",
    "     actionsSize = actions:size(1)\n",
    "     sentencesSize = sentences:size(2)\n",
    "\n",
    "     mask1 = torch.eq(actions:select(2,2), 1):view(actionsSize, 1):expand(\n",
    "        actionsSize, sentencesSize)\n",
    "     allTokens = sentences:maskedSelect(mask1)\n",
    "     mask2 = torch.gt(allTokens,0)\n",
    "     allTokens = allTokens:maskedSelect(mask2)\n",
    "\n",
    "    if allTokens:dim() > 0 then\n",
    "         copySize = math.min(bufferSize, allTokens:size(1))\n",
    "\n",
    "        buffer[1]:narrow(1, bufferSize - copySize + 1, copySize):copy(\n",
    "            allTokens:narrow(1, allTokens:size(1) - copySize + 1, copySize))\n",
    "    end\n",
    "    return buffer\n",
    "end\n",
    "\n",
    "function buildTokenCounts(summary)\n",
    "    counts = {}\n",
    "    for i=1,summary:size(2) do\n",
    "        if summary[1][i] > 0 then\n",
    "             token = summary[1][i]\n",
    "            if counts[token] == nil then\n",
    "                counts[token] = 1\n",
    "            else\n",
    "                counts[token] = counts[token] + 1\n",
    "            end\n",
    "        end\n",
    "    end\n",
    "    return counts\n",
    "end\n",
    "\n",
    "function rougeScores(genSummary, refSummary)\n",
    "     genTotal = 0\n",
    "     refTotal = 0\n",
    "     intersection = 0\n",
    "    for k, refCount in pairs(refSummary) do\n",
    "         genCount = genSummary[k]\n",
    "        if genCount == nil then genCount = 0 end\n",
    "        intersection = intersection + math.min(refCount, genCount)\n",
    "        refTotal = refTotal + refCount\n",
    "    end\n",
    "    for k,genCount in pairs(genSummary) do\n",
    "        genTotal = genTotal + genCount\n",
    "    end\n",
    "\n",
    "    if genTotal == 0 then \n",
    "        genTotal = 1 \n",
    "    end\n",
    "     recall = intersection / refTotal\n",
    "     prec = intersection / genTotal\n",
    "    if recall > 0 and prec > 0 then\n",
    "        f1 = 2 * recall * prec / (recall + prec)\n",
    "    else \n",
    "        f1 = 0\n",
    "    end\n",
    "    return recall, prec, f1\n",
    "end"
   ]
  },
  {
   "cell_type": "code",
   "execution_count": null,
   "metadata": {
    "collapsed": true
   },
   "outputs": [],
   "source": []
  },
  {
   "cell_type": "code",
   "execution_count": null,
   "metadata": {
    "collapsed": false
   },
   "outputs": [],
   "source": [
    "optimParams = {\n",
    "    learningRate = learning_rate,\n",
    "}\n",
    "\n",
    "maxSummarySize = 36\n",
    "epsilon = 1.0\n",
    "query = torch.LongTensor{{0, 1, 4, 3}}\n",
    "sentenceStream = torch.Tensor{{0, 1, 3, 4}, \n",
    "                                {7, 6, 5 ,8}, \n",
    "                                {0, 2, 4, 3}, \n",
    "                                {7, 5, 8, 6}, \n",
    "                                {1, 4, 3, 2}, \n",
    "                                {13, 14, 15, 16}}\n",
    "\n",
    "refSummary = torch.Tensor{{1,3,4,2,4,3,1,4,3,2,9,10,12,11}}\n",
    "refCounts = buildTokenCounts(refSummary)\n",
    "\n",
    "\n",
    "streamSize = sentenceStream:size(1)\n",
    "bestActions = torch.ByteTensor{{0,1},{1,0},{0,1},{1,0},{0,1},{1,0}}\n",
    "\n",
    "\n",
    "buffer = torch.Tensor(1, maxSummarySize):zero()\n",
    "bestSummary = buildSummary(\n",
    "    bestActions:narrow(1, 1, 6), \n",
    "    sentenceStream:narrow(1, 1, 6),\n",
    "    buffer:narrow(1, 1, 1)\n",
    "    )\n",
    "\n",
    "generatedCounts = buildTokenCounts(bestSummary) \n",
    "bestrecall, bestprec, bestf1 = rougeScores(generatedCounts, refCounts)\n",
    "print(string.format(\"TRUE {RECALL = %.6f, PREC = %.6f, F1 = %.6f}\", bestrecall, bestprec, bestf1))"
   ]
  },
  {
   "cell_type": "code",
   "execution_count": null,
   "metadata": {
    "collapsed": true
   },
   "outputs": [],
   "source": [
    "epoch = 1"
   ]
  },
  {
   "cell_type": "code",
   "execution_count": null,
   "metadata": {
    "collapsed": true
   },
   "outputs": [],
   "source": [
    "actions = torch.ByteTensor(streamSize,2):fill(0)\n",
    "exploreDraws = torch.Tensor(streamSize)\n",
    "summaryBuffer = torch.LongTensor(streamSize + 1, maxSummarySize):zero()\n",
    "qValues = torch.Tensor(streamSize, 2):zero()\n",
    "rouge = torch.Tensor(streamSize + 1):zero()\n",
    "rougebp = torch.Tensor(streamSize + 1):zero()\n",
    "\n",
    "rouge[1] = 0\n",
    "exploreDraws:uniform(0, 1)\n",
    "summary = summaryBuffer:zero():narrow(1,1,1)"
   ]
  },
  {
   "cell_type": "code",
   "execution_count": null,
   "metadata": {
    "collapsed": true
   },
   "outputs": [],
   "source": [
    "for i=1, streamSize do\n",
    "    sentence = sentenceStream:narrow(1, i, 1)\n",
    "    qValues[i]:copy(model:forward({sentence, query, summary}))\n",
    "    \n",
    "    if exploreDraws[i] <= epsilon then\n",
    "        actions[i][torch.random(SKIP, SELECT)] = 1\n",
    "    else \n",
    "        if qValues[i][SKIP] > qValues[i][SELECT] then\n",
    "            actions[i][SKIP] = 1\n",
    "        else\n",
    "            actions[i][SELECT] = 1\n",
    "        end\n",
    "    end\n",
    "    summary = buildSummary(\n",
    "        actions:narrow(1, 1, i), \n",
    "        sentenceStream:narrow(1, 1, i),\n",
    "        summaryBuffer:narrow(1, i + 1, 1)\n",
    "        )\n",
    "\n",
    "    generatedCounts = buildTokenCounts(summary) \n",
    "    recall, prec, f1 = rougeScores(generatedCounts, refCounts)\n",
    "    rouge[i + 1] = f1\n",
    "    rougebp[i] = f1\n",
    "end\n",
    "\n",
    "max, argmax = torch.max(qValues, 2)\n",
    "rewards0 = rouge:narrow(1,2, streamSize) - rouge:narrow(1,1, streamSize) \n",
    "rewards = rewards0 + gamma * rewards0:narrow(1, 2, streamSize-1):resize(streamSize)\n",
    "\n",
    "querySize = query:size(2)\n",
    "summaryBatch = summaryBuffer:narrow(1, 1, streamSize)\n",
    "queryBatch = query:view(1, querySize):expand(streamSize, querySize) \n",
    "\n",
    "input = {sentenceStream, queryBatch, summaryBatch}"
   ]
  },
  {
   "cell_type": "code",
   "execution_count": null,
   "metadata": {
    "collapsed": false
   },
   "outputs": [],
   "source": [
    "function feval(params)\n",
    "    gradParams:zero()\n",
    "     predQ = model:forward(input)\n",
    "     maskLayer = nn.MaskedSelect()\n",
    "     predQOnActions = maskLayer:forward({predQ, actions})\n",
    "     loss = criterion:forward(predQOnActions, reward)\n",
    "     gradOutput = criterion(predQOnActions, reward)\n",
    "     gradMaskLayer = maskLayer:backward({predQ, actions}, gradOutput)\n",
    "    model:backward(input, gradMaskLayer[1])\n",
    "    return loss, gradParams    \n",
    "end\n",
    "\n",
    " _, loss = optim.adam(feval, params, optimParams)"
   ]
  },
  {
   "cell_type": "code",
   "execution_count": null,
   "metadata": {
    "collapsed": false
   },
   "outputs": [],
   "source": [
    "out = string.format(\"%i; %.3f;%.6f;%.6f; {min=%.3f, max=%.3f}; {min=%.3f, max=%.3f}; {%i,%i,%i,%i,%i,%i,%i,%i,%i,%i,%i,%i}\\n\", \n",
    "    epoch, epsilon, loss[1], rouge[streamSize + 1],\n",
    "    reward:min(), reward:max(),\n",
    "    qValues:min(), qValues:max(),\n",
    "    actions[1][1], \n",
    "    actions[1][2], \n",
    "    actions[2][1], \n",
    "    actions[2][2], \n",
    "    actions[3][1], \n",
    "    actions[3][2], \n",
    "    actions[4][1],\n",
    "    actions[4][2],\n",
    "    actions[5][1], \n",
    "    actions[5][2], \n",
    "    actions[6][1], \n",
    "    actions[6][2] \n",
    "    )\n"
   ]
  },
  {
   "cell_type": "code",
   "execution_count": null,
   "metadata": {
    "collapsed": false
   },
   "outputs": [],
   "source": [
    "out"
   ]
  },
  {
   "cell_type": "code",
   "execution_count": null,
   "metadata": {
    "collapsed": false
   },
   "outputs": [],
   "source": [
    "nepochs"
   ]
  },
  {
   "cell_type": "markdown",
   "metadata": {},
   "source": [
    "# Trying this separately"
   ]
  },
  {
   "cell_type": "code",
   "execution_count": 65,
   "metadata": {
    "collapsed": true
   },
   "outputs": [],
   "source": [
    "require 'nn'\n",
    "require 'rnn'\n",
    "require 'optim'"
   ]
  },
  {
   "cell_type": "code",
   "execution_count": 84,
   "metadata": {
    "collapsed": true
   },
   "outputs": [],
   "source": [
    "nepochs = 1000\n",
    "learning_rate = 1e-6\n",
    "gamma =0.2\n",
    "cuts =4\n",
    "base_explore_rate = 0.1 \n",
    "delta = 1./(nepochs/cuts) \n",
    "\n",
    "SKIP = 1\n",
    "SELECT = 2\n",
    "\n",
    "vocabSize = 16\n",
    "embeddingSize = 64\n",
    "\n",
    "torch.manualSeed(420)\n",
    "math.randomseed(420)\n",
    "\n",
    "sentenceLookup = nn.Sequential():add(\n",
    "    nn.LookupTableMaskZero(vocabSize, embeddingSize)):add(\n",
    "    nn.Sum(2, 3, false))\n",
    "\n",
    "queryLookup = sentenceLookup:clone() --\"weight\", \"gradWeight\")\n",
    "summaryLookup = sentenceLookup:clone() --\"weight\", \"gradWeight\")\n",
    "\n",
    "model = nn.Sequential():add(\n",
    "    nn.ParallelTable():add(\n",
    "        sentenceLookup):add(\n",
    "        queryLookup):add(\n",
    "        summaryLookup)):add(\n",
    "    nn.JoinTable(2)):add(\n",
    "    nn.Tanh()):add(\n",
    "    nn.Linear(embeddingSize * 3, 2)) --:add(\n",
    "    --nn.Tanh()):add(\n",
    "    --nn.Linear(embeddingSize, 2))\n",
    "criterion = nn.MSECriterion()\n",
    "params, gradParams = model:getParameters()\n",
    "\n",
    "function buildSummary(actions, sentences, buffer)\n",
    "    buffer:zero()\n",
    "\n",
    "     bufferSize = buffer:size(2)\n",
    "     actionsSize = actions:size(1)\n",
    "     sentencesSize = sentences:size(2)\n",
    "\n",
    "     mask1 = torch.eq(actions:select(2,2), 1):view(actionsSize, 1):expand(\n",
    "        actionsSize, sentencesSize)\n",
    "     allTokens = sentences:maskedSelect(mask1)\n",
    "     mask2 = torch.gt(allTokens,0)\n",
    "     allTokens = allTokens:maskedSelect(mask2)\n",
    "\n",
    "    if allTokens:dim() > 0 then\n",
    "         copySize = math.min(bufferSize, allTokens:size(1))\n",
    "\n",
    "        buffer[1]:narrow(1, bufferSize - copySize + 1, copySize):copy(\n",
    "            allTokens:narrow(1, allTokens:size(1) - copySize + 1, copySize))\n",
    "    end\n",
    "    return buffer\n",
    "end\n",
    "\n",
    "function buildTokenCounts(summary)\n",
    "    counts = {}\n",
    "    for i=1,summary:size(2) do\n",
    "        if summary[1][i] > 0 then\n",
    "             token = summary[1][i]\n",
    "            if counts[token] == nil then\n",
    "                counts[token] = 1\n",
    "            else\n",
    "                counts[token] = counts[token] + 1\n",
    "            end\n",
    "        end\n",
    "    end\n",
    "    return counts\n",
    "end\n",
    "\n",
    "function rougeScores(genSummary, refSummary)\n",
    "     genTotal = 0\n",
    "     refTotal = 0\n",
    "     intersection = 0\n",
    "    for k, refCount in pairs(refSummary) do\n",
    "         genCount = genSummary[k]\n",
    "        if genCount == nil then genCount = 0 end\n",
    "        intersection = intersection + math.min(refCount, genCount)\n",
    "        refTotal = refTotal + refCount\n",
    "    end\n",
    "    for k,genCount in pairs(genSummary) do\n",
    "        genTotal = genTotal + genCount\n",
    "    end\n",
    "\n",
    "    if genTotal == 0 then \n",
    "        genTotal = 1 \n",
    "    end\n",
    "     recall = intersection / refTotal\n",
    "     prec = intersection / genTotal\n",
    "    if recall > 0 and prec > 0 then\n",
    "        f1 = 2 * recall * prec / (recall + prec)\n",
    "    else \n",
    "        f1 = 0\n",
    "    end\n",
    "    return recall, prec, f1\n",
    "end"
   ]
  },
  {
   "cell_type": "code",
   "execution_count": 85,
   "metadata": {
    "collapsed": false
   },
   "outputs": [
    {
     "data": {
      "text/plain": [
       "TRUE {RECALL = 0.714286, PREC = 1.000000, F1 = 0.833333}\t\n"
      ]
     },
     "execution_count": 85,
     "metadata": {},
     "output_type": "execute_result"
    }
   ],
   "source": [
    "optimParams = {\n",
    "    learningRate = learning_rate,\n",
    "}\n",
    "\n",
    "maxSummarySize = 36\n",
    "epsilon = 1.0\n",
    "query = torch.LongTensor{{0, 1, 4, 3}}\n",
    "sentenceStream = torch.Tensor{{0, 1, 3, 4}, \n",
    "                                {7, 6, 5 ,8}, \n",
    "                                {0, 2, 4, 3}, \n",
    "                                {7, 5, 8, 6}, \n",
    "                                {1, 4, 3, 2}, \n",
    "                                {13, 14, 15, 16}}\n",
    "\n",
    "refSummary = torch.Tensor{{1,3,4,2,4,3,1,4,3,2,9,10,12,11}}\n",
    "refCounts = buildTokenCounts(refSummary)\n",
    "\n",
    "\n",
    "streamSize = sentenceStream:size(1)\n",
    "bestActions = torch.ByteTensor{{0,1},{1,0},{0,1},{1,0},{0,1},{1,0}}\n",
    "\n",
    "\n",
    "buffer = torch.Tensor(1, maxSummarySize):zero()\n",
    "bestSummary = buildSummary(\n",
    "    bestActions:narrow(1, 1, 6), \n",
    "    sentenceStream:narrow(1, 1, 6),\n",
    "    buffer:narrow(1, 1, 1)\n",
    "    )\n",
    "\n",
    "generatedCounts = buildTokenCounts(bestSummary) \n",
    "bestrecall, bestprec, bestf1 = rougeScores(generatedCounts, refCounts)\n",
    "print(string.format(\"TRUE {RECALL = %.6f, PREC = %.6f, F1 = %.6f}\", bestrecall, bestprec, bestf1))"
   ]
  },
  {
   "cell_type": "code",
   "execution_count": 86,
   "metadata": {
    "collapsed": false,
    "scrolled": true
   },
   "outputs": [
    {
     "data": {
      "text/plain": [
       "{\n",
       "  1 : DoubleTensor - size: 6x4\n",
       "  2 : LongTensor - size: 6x4\n",
       "  3 : LongTensor - size: 6x36\n",
       "}\n"
      ]
     },
     "execution_count": 86,
     "metadata": {},
     "output_type": "execute_result"
    },
    {
     "data": {
      "text/plain": [
       "1; 1.000;0.128764;0.240000; {min=-1.000, max=0.600}; {min=-0.399, max=0.188}; {1,0,0,1,0,1,0,1,1,0,1,0}\n",
       "\t\n"
      ]
     },
     "execution_count": 86,
     "metadata": {},
     "output_type": "execute_result"
    },
    {
     "data": {
      "text/plain": [
       "2; 0.996;0.134296;0.424242; {min=-0.661, max=0.231}; {min=-0.458, max=0.455}; {0,1,0,1,1,0,0,1,0,1,0,1}\n",
       "\t\n"
      ]
     },
     "execution_count": 86,
     "metadata": {},
     "output_type": "execute_result"
    },
    {
     "data": {
      "text/plain": [
       "3; 0.992;0.098293;0.666667; {min=-1.000, max=0.353}; {min=-0.399, max=0.219}; {1,0,1,0,0,1,1,0,0,1,1,0}\n",
       "\t\n"
      ]
     },
     "execution_count": 86,
     "metadata": {},
     "output_type": "execute_result"
    },
    {
     "data": {
      "text/plain": [
       "4; 0.988;0.123964;0.625000; {min=-0.661, max=0.200}; {min=-0.399, max=0.566}; {0,1,0,1,0,1,0,1,0,1,1,0}\n",
       "\t\n"
      ]
     },
     "execution_count": 86,
     "metadata": {},
     "output_type": "execute_result"
    },
    {
     "data": {
      "text/plain": [
       "5; 0.984;0.129090;0.482759; {min=-1.000, max=0.339}; {min=-0.399, max=0.593}; {1,0,1,0,0,1,0,1,0,1,0,1}\n",
       "\t\n"
      ]
     },
     "execution_count": 86,
     "metadata": {},
     "output_type": "execute_result"
    },
    {
     "data": {
      "text/plain": [
       "6; 0.980;0.163422;0.444444; {min=-1.000, max=0.444}; {min=-0.399, max=0.303}; {1,0,1,0,1,0,1,0,0,1,1,0}\n",
       "\t\n"
      ]
     },
     "execution_count": 86,
     "metadata": {},
     "output_type": "execute_result"
    },
    {
     "data": {
      "text/plain": [
       "7; 0.976;0.155080;0.560000; {min=-0.661, max=0.274}; {min=-0.399, max=0.587}; {0,1,0,1,1,0,1,0,0,1,1,0}\n",
       "\t\n"
      ]
     },
     "execution_count": 86,
     "metadata": {},
     "output_type": "execute_result"
    },
    {
     "data": {
      "text/plain": [
       "8; 0.972;0.069789;0.000000; {min=-1.000, max=0.000}; {min=-0.399, max=0.183}; {1,0,0,1,1,0,1,0,1,0,1,0}\n",
       "\t\n"
      ]
     },
     "execution_count": 86,
     "metadata": {},
     "output_type": "execute_result"
    },
    {
     "data": {
      "text/plain": [
       "9; 0.968;0.053866;0.714286; {min=-0.647, max=0.247}; {min=-0.399, max=0.308}; {0,1,1,0,0,1,1,0,0,1,0,1}\n",
       "\t\n"
      ]
     },
     "execution_count": 86,
     "metadata": {},
     "output_type": "execute_result"
    },
    {
     "data": {
      "text/plain": [
       "10; 0.964;0.199435;0.560000; {min=-1.000, max=0.286}; {min=-0.399, max=0.593}; {1,0,0,1,0,1,1,0,0,1,1,0}\n",
       "\t\n"
      ]
     },
     "execution_count": 86,
     "metadata": {},
     "output_type": "execute_result"
    },
    {
     "data": {
      "text/plain": [
       "11; 0.960;0.214048;0.363636; {min=-1.000, max=0.364}; {min=-0.399, max=0.383}; {1,0,1,0,1,0,0,1,0,1,1,0}\n",
       "\t\n"
      ]
     },
     "execution_count": 86,
     "metadata": {},
     "output_type": "execute_result"
    },
    {
     "data": {
      "text/plain": [
       "12; 0.956;0.214060;0.363636; {min=-1.000, max=0.364}; {min=-0.399, max=0.383}; {1,0,1,0,1,0,0,1,0,1,1,0}\n",
       "\t\n"
      ]
     },
     "execution_count": 86,
     "metadata": {},
     "output_type": "execute_result"
    },
    {
     "data": {
      "text/plain": [
       "13; 0.952;0.171179;0.482759; {min=-0.661, max=0.243}; {min=-0.459, max=0.454}; {0,1,0,1,1,0,0,1,0,1,1,0}\n",
       "\t\n"
      ]
     },
     "execution_count": 86,
     "metadata": {},
     "output_type": "execute_result"
    },
    {
     "data": {
      "text/plain": [
       "14; 0.948;0.131527;0.000000; {min=-1.000, max=0.000}; {min=-0.400, max=0.210}; {1,0,1,0,1,0,1,0,1,0,0,1}\n",
       "\t\n"
      ]
     },
     "execution_count": 86,
     "metadata": {},
     "output_type": "execute_result"
    },
    {
     "data": {
      "text/plain": [
       "15; 0.944;0.154742;0.560000; {min=-0.661, max=0.274}; {min=-0.400, max=0.586}; {0,1,0,1,1,0,1,0,0,1,1,0}\n",
       "\t\n"
      ]
     },
     "execution_count": 86,
     "metadata": {},
     "output_type": "execute_result"
    },
    {
     "data": {
      "text/plain": [
       "16; 0.940;0.171127;0.482759; {min=-0.661, max=0.243}; {min=-0.459, max=0.454}; {0,1,0,1,1,0,0,1,0,1,1,0}\n",
       "\t\n"
      ]
     },
     "execution_count": 86,
     "metadata": {},
     "output_type": "execute_result"
    },
    {
     "data": {
      "text/plain": [
       "17; 0.936;0.054797;0.600000; {min=-0.647, max=0.247}; {min=-0.400, max=0.271}; {0,1,1,0,0,1,1,0,1,0,1,0}\n",
       "\t\n"
      ]
     },
     "execution_count": 86,
     "metadata": {},
     "output_type": "execute_result"
    },
    {
     "data": {
      "text/plain": [
       "18; 0.932;0.080201;0.000000; {min=-1.000, max=0.000}; {min=-0.482, max=0.187}; {1,0,0,1,1,0,0,1,1,0,1,0}\n",
       "\t\n"
      ]
     },
     "execution_count": 86,
     "metadata": {},
     "output_type": "execute_result"
    },
    {
     "data": {
      "text/plain": [
       "19; 0.928;0.109388;0.285714; {min=-1.000, max=0.339}; {min=-0.400, max=0.294}; {1,0,1,0,0,1,0,1,1,0,1,0}\n",
       "\t\n"
      ]
     },
     "execution_count": 86,
     "metadata": {},
     "output_type": "execute_result"
    },
    {
     "data": {
      "text/plain": [
       "20; 0.924;0.146500;0.363636; {min=-1.000, max=0.428}; {min=-0.400, max=0.302}; {1,0,1,0,1,0,1,0,0,1,0,1}\n",
       "\t\n"
      ]
     },
     "execution_count": 86,
     "metadata": {},
     "output_type": "execute_result"
    },
    {
     "data": {
      "text/plain": [
       "21; 0.920;0.044869;0.375000; {min=-0.661, max=0.200}; {min=-0.400, max=0.564}; {0,1,0,1,0,1,0,1,1,0,0,1}\n",
       "\t\n"
      ]
     },
     "execution_count": 86,
     "metadata": {},
     "output_type": "execute_result"
    },
    {
     "data": {
      "text/plain": [
       "22; 0.916;0.073270;0.000000; {min=-1.000, max=0.000}; {min=-0.400, max=0.182}; {1,0,0,1,1,0,1,0,1,0,0,1}\n",
       "\t\n"
      ]
     },
     "execution_count": 86,
     "metadata": {},
     "output_type": "execute_result"
    },
    {
     "data": {
      "text/plain": [
       "23; 0.912;0.106485;0.000000; {min=-1.000, max=0.000}; {min=-0.400, max=0.210}; {1,0,1,0,1,0,0,1,1,0,0,1}\n",
       "\t\n"
      ]
     },
     "execution_count": 86,
     "metadata": {},
     "output_type": "execute_result"
    },
    {
     "data": {
      "text/plain": [
       "24; 0.908;0.102704;0.000000; {min=-1.000, max=0.000}; {min=-0.400, max=0.210}; {1,0,1,0,1,0,0,1,1,0,1,0}\n",
       "\t\n"
      ]
     },
     "execution_count": 86,
     "metadata": {},
     "output_type": "execute_result"
    },
    {
     "data": {
      "text/plain": [
       "25; 0.904;0.199301;0.560000; {min=-1.000, max=0.286}; {min=-0.400, max=0.591}; {1,0,0,1,0,1,1,0,0,1,1,0}\n",
       "\t\n"
      ]
     },
     "execution_count": 86,
     "metadata": {},
     "output_type": "execute_result"
    },
    {
     "data": {
      "text/plain": [
       "26; 0.900;0.054614;0.600000; {min=-0.647, max=0.247}; {min=-0.400, max=0.271}; {0,1,1,0,0,1,1,0,1,0,1,0}\n",
       "\t\n"
      ]
     },
     "execution_count": 86,
     "metadata": {},
     "output_type": "execute_result"
    },
    {
     "data": {
      "text/plain": [
       "27; 0.896;0.131766;0.000000; {min=-1.000, max=0.000}; {min=-0.400, max=0.210}; {1,0,1,0,1,0,1,0,1,0,1,0}\n",
       "\t\n"
      ]
     },
     "execution_count": 86,
     "metadata": {},
     "output_type": "execute_result"
    },
    {
     "data": {
      "text/plain": [
       "28; 0.892;0.065787;0.833333; {min=-0.647, max=0.247}; {min=-0.401, max=0.307}; {0,1,1,0,0,1,1,0,0,1,1,0}\n",
       "\t\n"
      ]
     },
     "execution_count": 86,
     "metadata": {},
     "output_type": "execute_result"
    },
    {
     "data": {
      "text/plain": [
       "29; 0.888;0.055730;0.625000; {min=-0.647, max=0.227}; {min=-0.401, max=0.728}; {0,1,1,0,0,1,0,1,0,1,0,1}\n",
       "\t\n"
      ]
     },
     "execution_count": 86,
     "metadata": {},
     "output_type": "execute_result"
    },
    {
     "data": {
      "text/plain": [
       "30; 0.884;0.053669;0.714286; {min=-0.647, max=0.247}; {min=-0.401, max=0.307}; {0,1,1,0,0,1,1,0,0,1,0,1}\n",
       "\t\n"
      ]
     },
     "execution_count": 86,
     "metadata": {},
     "output_type": "execute_result"
    },
    {
     "data": {
      "text/plain": [
       "31; 0.880;0.151427;0.444444; {min=-1.000, max=0.444}; {min=-0.401, max=0.301}; {1,0,1,0,1,0,1,0,0,1,1,0}\n",
       "\t\n"
      ]
     },
     "execution_count": 86,
     "metadata": {},
     "output_type": "execute_result"
    },
    {
     "data": {
      "text/plain": [
       "32; 0.876;0.188567;0.307692; {min=-1.000, max=0.352}; {min=-0.401, max=0.381}; {1,0,1,0,1,0,0,1,0,1,0,1}\n",
       "\t\n"
      ]
     },
     "execution_count": 86,
     "metadata": {},
     "output_type": "execute_result"
    },
    {
     "data": {
      "text/plain": [
       "33; 0.872;0.054475;0.600000; {min=-0.647, max=0.247}; {min=-0.401, max=0.270}; {0,1,1,0,0,1,1,0,1,0,1,0}\n",
       "\t\n"
      ]
     },
     "execution_count": 86,
     "metadata": {},
     "output_type": "execute_result"
    },
    {
     "data": {
      "text/plain": [
       "34; 0.868;0.087595;0.666667; {min=-0.647, max=0.314}; {min=-0.401, max=0.381}; {0,1,1,0,1,0,1,0,0,1,1,0}\n",
       "\t\n"
      ]
     },
     "execution_count": 86,
     "metadata": {},
     "output_type": "execute_result"
    },
    {
     "data": {
      "text/plain": [
       "35; 0.864;0.069266;0.000000; {min=-1.000, max=0.000}; {min=-0.401, max=0.181}; {1,0,0,1,1,0,1,0,1,0,1,0}\n",
       "\t\n"
      ]
     },
     "execution_count": 86,
     "metadata": {},
     "output_type": "execute_result"
    },
    {
     "data": {
      "text/plain": [
       "36; 0.860;0.060555;0.482759; {min=-0.647, max=0.259}; {min=-0.401, max=0.584}; {0,1,1,0,1,0,0,1,0,1,0,1}\n",
       "\t\n"
      ]
     },
     "execution_count": 86,
     "metadata": {},
     "output_type": "execute_result"
    },
    {
     "data": {
      "text/plain": [
       "37; 0.856;0.065674;0.833333; {min=-0.647, max=0.247}; {min=-0.401, max=0.306}; {0,1,1,0,0,1,1,0,0,1,1,0}\n",
       "\t\n"
      ]
     },
     "execution_count": 86,
     "metadata": {},
     "output_type": "execute_result"
    },
    {
     "data": {
      "text/plain": [
       "38; 0.852;0.098557;0.206897; {min=-1.000, max=0.277}; {min=-0.401, max=0.185}; {1,0,0,1,0,1,0,1,1,0,0,1}\n",
       "\t\n"
      ]
     },
     "execution_count": 86,
     "metadata": {},
     "output_type": "execute_result"
    },
    {
     "data": {
      "text/plain": [
       "39; 0.848;0.069205;0.000000; {min=-1.000, max=0.000}; {min=-0.401, max=0.181}; {1,0,0,1,1,0,1,0,1,0,1,0}\n",
       "\t\n"
      ]
     },
     "execution_count": 86,
     "metadata": {},
     "output_type": "execute_result"
    },
    {
     "data": {
      "text/plain": [
       "40; 0.844;0.156433;0.307692; {min=-1.000, max=0.352}; {min=-0.401, max=0.380}; {1,0,0,1,1,0,1,0,0,1,0,1}\n",
       "\t\n"
      ]
     },
     "execution_count": 86,
     "metadata": {},
     "output_type": "execute_result"
    },
    {
     "data": {
      "text/plain": [
       "41; 0.840;0.140304;0.285714; {min=-0.661, max=0.000}; {min=-0.401, max=0.517}; {0,1,0,1,1,0,1,0,1,0,1,0}\n",
       "\t\n"
      ]
     },
     "execution_count": 86,
     "metadata": {},
     "output_type": "execute_result"
    },
    {
     "data": {
      "text/plain": [
       "42; 0.836;0.079945;0.000000; {min=-1.000, max=0.000}; {min=-0.484, max=0.185}; {1,0,0,1,1,0,0,1,1,0,1,0}\n",
       "\t\n"
      ]
     },
     "execution_count": 86,
     "metadata": {},
     "output_type": "execute_result"
    },
    {
     "data": {
      "text/plain": [
       "43; 0.832;0.116506;0.285714; {min=-1.000, max=0.286}; {min=-0.401, max=0.292}; {1,0,0,1,0,1,1,0,1,0,1,0}\n",
       "\t\n"
      ]
     },
     "execution_count": 86,
     "metadata": {},
     "output_type": "execute_result"
    },
    {
     "data": {
      "text/plain": [
       "44; 0.828;0.079923;0.000000; {min=-1.000, max=0.000}; {min=-0.484, max=0.185}; {1,0,0,1,1,0,0,1,1,0,1,0}\n",
       "\t\n"
      ]
     },
     "execution_count": 86,
     "metadata": {},
     "output_type": "execute_result"
    },
    {
     "data": {
      "text/plain": [
       "45; 0.824;0.116464;0.285714; {min=-1.000, max=0.286}; {min=-0.402, max=0.292}; {1,0,0,1,0,1,1,0,1,0,1,0}\n",
       "\t\n"
      ]
     },
     "execution_count": 86,
     "metadata": {},
     "output_type": "execute_result"
    },
    {
     "data": {
      "text/plain": [
       "46; 0.820;0.099216;0.285714; {min=-0.647, max=0.000}; {min=-0.402, max=0.517}; {0,1,1,0,1,0,0,1,1,0,1,0}\n",
       "\t\n"
      ]
     },
     "execution_count": 86,
     "metadata": {},
     "output_type": "execute_result"
    },
    {
     "data": {
      "text/plain": [
       "47; 0.816;0.199859;0.500000; {min=-0.661, max=0.214}; {min=-0.402, max=0.669}; {0,1,0,1,0,1,1,0,1,0,1,0}\n",
       "\t\n"
      ]
     },
     "execution_count": 86,
     "metadata": {},
     "output_type": "execute_result"
    },
    {
     "data": {
      "text/plain": [
       "48; 0.812;0.054187;0.600000; {min=-0.647, max=0.247}; {min=-0.402, max=0.269}; {0,1,1,0,0,1,1,0,1,0,1,0}\n",
       "\t\n"
      ]
     },
     "execution_count": 86,
     "metadata": {},
     "output_type": "execute_result"
    },
    {
     "data": {
      "text/plain": [
       "49; 0.808;0.199723;0.500000; {min=-0.661, max=0.214}; {min=-0.402, max=0.669}; {0,1,0,1,0,1,1,0,1,0,1,0}\n",
       "\t\n"
      ]
     },
     "execution_count": 86,
     "metadata": {},
     "output_type": "execute_result"
    },
    {
     "data": {
      "text/plain": [
       "50; 0.804;0.267175;0.500000; {min=-0.647, max=1.300}; {min=-0.402, max=0.269}; {0,1,1,0,0,1,1,0,1,0,0,1}\n",
       "\t\n"
      ]
     },
     "execution_count": 86,
     "metadata": {},
     "output_type": "execute_result"
    },
    {
     "data": {
      "text/plain": [
       "51; 0.800;0.152340;0.500000; {min=-0.647, max=0.227}; {min=-0.402, max=0.669}; {0,1,1,0,0,1,0,1,1,0,1,0}\n",
       "\t\n"
      ]
     },
     "execution_count": 86,
     "metadata": {},
     "output_type": "execute_result"
    },
    {
     "data": {
      "text/plain": [
       "52; 0.796;0.170557;0.482759; {min=-0.661, max=0.243}; {min=-0.462, max=0.450}; {0,1,0,1,1,0,0,1,0,1,1,0}\n",
       "\t\n"
      ]
     },
     "execution_count": 86,
     "metadata": {},
     "output_type": "execute_result"
    },
    {
     "data": {
      "text/plain": [
       "53; 0.792;0.051916;0.500000; {min=-0.647, max=0.247}; {min=-0.402, max=0.269}; {0,1,1,0,0,1,1,0,1,0,0,1}\n",
       "\t\n"
      ]
     },
     "execution_count": 86,
     "metadata": {},
     "output_type": "execute_result"
    },
    {
     "data": {
      "text/plain": [
       "54; 0.788;0.186232;0.714286; {min=-0.661, max=0.214}; {min=-0.402, max=0.726}; {0,1,0,1,0,1,1,0,0,1,1,0}\n",
       "\t\n"
      ]
     },
     "execution_count": 86,
     "metadata": {},
     "output_type": "execute_result"
    },
    {
     "data": {
      "text/plain": [
       "55; 0.784;0.188448;0.266667; {min=-1.000, max=0.299}; {min=-0.485, max=0.164}; {1,0,0,1,1,0,0,1,0,1,0,1}\n",
       "\t\n"
      ]
     },
     "execution_count": 86,
     "metadata": {},
     "output_type": "execute_result"
    },
    {
     "data": {
      "text/plain": [
       "56; 0.780;0.198987;0.560000; {min=-1.000, max=0.286}; {min=-0.402, max=0.588}; {1,0,0,1,0,1,1,0,0,1,1,0}\n",
       "\t\n"
      ]
     },
     "execution_count": 86,
     "metadata": {},
     "output_type": "execute_result"
    },
    {
     "data": {
      "text/plain": [
       "57; 0.776;0.116222;0.285714; {min=-1.000, max=0.286}; {min=-0.402, max=0.291}; {1,0,0,1,0,1,1,0,1,0,1,0}\n",
       "\t\n"
      ]
     },
     "execution_count": 86,
     "metadata": {},
     "output_type": "execute_result"
    },
    {
     "data": {
      "text/plain": [
       "58; 0.772;0.151901;0.500000; {min=-0.647, max=0.227}; {min=-0.402, max=0.668}; {0,1,1,0,0,1,0,1,1,0,1,0}\n",
       "\t\n"
      ]
     },
     "execution_count": 86,
     "metadata": {},
     "output_type": "execute_result"
    },
    {
     "data": {
      "text/plain": [
       "59; 0.768;0.060413;0.482759; {min=-0.647, max=0.259}; {min=-0.402, max=0.582}; {0,1,1,0,1,0,0,1,0,1,0,1}\n",
       "\t\n"
      ]
     },
     "execution_count": 86,
     "metadata": {},
     "output_type": "execute_result"
    },
    {
     "data": {
      "text/plain": [
       "60; 0.764;0.053871;0.600000; {min=-0.647, max=0.247}; {min=-0.402, max=0.268}; {0,1,1,0,0,1,1,0,1,0,1,0}\n",
       "\t\n"
      ]
     },
     "execution_count": 86,
     "metadata": {},
     "output_type": "execute_result"
    },
    {
     "data": {
      "text/plain": [
       "61; 0.760;0.156648;0.307692; {min=-1.000, max=0.352}; {min=-0.403, max=0.378}; {1,0,0,1,1,0,1,0,0,1,0,1}\n",
       "\t\n"
      ]
     },
     "execution_count": 86,
     "metadata": {},
     "output_type": "execute_result"
    },
    {
     "data": {
      "text/plain": [
       "62; 0.756;0.085125;0.352941; {min=-1.000, max=0.353}; {min=-0.403, max=0.241}; {1,0,1,0,0,1,1,0,1,0,1,0}\n",
       "\t\n"
      ]
     },
     "execution_count": 86,
     "metadata": {},
     "output_type": "execute_result"
    },
    {
     "data": {
      "text/plain": [
       "63; 0.752;0.170385;0.482759; {min=-0.661, max=0.243}; {min=-0.464, max=0.449}; {0,1,0,1,1,0,0,1,0,1,1,0}\n",
       "\t\n"
      ]
     },
     "execution_count": 86,
     "metadata": {},
     "output_type": "execute_result"
    },
    {
     "data": {
      "text/plain": [
       "64; 0.748;0.068728;0.000000; {min=-1.000, max=0.000}; {min=-0.403, max=0.179}; {1,0,0,1,1,0,1,0,1,0,1,0}\n",
       "\t\n"
      ]
     },
     "execution_count": 86,
     "metadata": {},
     "output_type": "execute_result"
    },
    {
     "data": {
      "text/plain": [
       "65; 0.744;0.068709;0.000000; {min=-1.000, max=0.000}; {min=-0.403, max=0.179}; {1,0,0,1,1,0,1,0,1,0,1,0}\n",
       "\t\n"
      ]
     },
     "execution_count": 86,
     "metadata": {},
     "output_type": "execute_result"
    },
    {
     "data": {
      "text/plain": [
       "66; 0.740;0.095552;0.482759; {min=-0.661, max=0.259}; {min=-0.403, max=0.581}; {0,1,0,1,1,0,1,0,0,1,0,1}\n",
       "\t\n"
      ]
     },
     "execution_count": 86,
     "metadata": {},
     "output_type": "execute_result"
    },
    {
     "data": {
      "text/plain": [
       "67; 0.736;0.051585;0.500000; {min=-0.647, max=0.247}; {min=-0.403, max=0.267}; {0,1,1,0,0,1,1,0,1,0,0,1}\n",
       "\t\n"
      ]
     },
     "execution_count": 86,
     "metadata": {},
     "output_type": "execute_result"
    },
    {
     "data": {
      "text/plain": [
       "68; 0.732;0.138555;0.285714; {min=-0.661, max=0.000}; {min=-0.403, max=0.515}; {0,1,0,1,1,0,1,0,1,0,1,0}\n",
       "\t\n"
      ]
     },
     "execution_count": 86,
     "metadata": {},
     "output_type": "execute_result"
    },
    {
     "data": {
      "text/plain": [
       "69; 0.728;1.084424;0.428571; {min=-0.647, max=2.529}; {min=-0.403, max=0.667}; {0,1,1,0,0,1,0,1,1,0,0,1}\n",
       "\t\n"
      ]
     },
     "execution_count": 86,
     "metadata": {},
     "output_type": "execute_result"
    },
    {
     "data": {
      "text/plain": [
       "70; 0.724;0.129463;0.482759; {min=-1.000, max=0.339}; {min=-0.403, max=0.587}; {1,0,1,0,0,1,0,1,0,1,0,1}\n",
       "\t\n"
      ]
     },
     "execution_count": 86,
     "metadata": {},
     "output_type": "execute_result"
    },
    {
     "data": {
      "text/plain": [
       "71; 0.720;0.181904;0.363636; {min=-1.000, max=0.364}; {min=-0.403, max=0.377}; {1,0,0,1,1,0,1,0,0,1,1,0}\n",
       "\t\n"
      ]
     },
     "execution_count": 86,
     "metadata": {},
     "output_type": "execute_result"
    },
    {
     "data": {
      "text/plain": [
       "72; 0.716;0.115961;0.285714; {min=-1.000, max=0.286}; {min=-0.403, max=0.289}; {1,0,0,1,0,1,1,0,1,0,1,0}\n",
       "\t\n"
      ]
     },
     "execution_count": 86,
     "metadata": {},
     "output_type": "execute_result"
    },
    {
     "data": {
      "text/plain": [
       "73; 0.712;0.060325;0.482759; {min=-0.647, max=0.259}; {min=-0.403, max=0.581}; {0,1,1,0,1,0,0,1,0,1,0,1}\n",
       "\t\n"
      ]
     },
     "execution_count": 86,
     "metadata": {},
     "output_type": "execute_result"
    },
    {
     "data": {
      "text/plain": [
       "74; 0.708;0.096722;0.240000; {min=-0.661, max=0.000}; {min=-0.403, max=0.514}; {0,1,0,1,1,0,1,0,1,0,0,1}\n",
       "\t\n"
      ]
     },
     "execution_count": 86,
     "metadata": {},
     "output_type": "execute_result"
    },
    {
     "data": {
      "text/plain": [
       "75; 0.704;0.061485;0.240000; {min=-0.661, max=0.000}; {min=-0.465, max=0.406}; {0,1,0,1,1,0,0,1,1,0,1,0}\n",
       "\t\n"
      ]
     },
     "execution_count": 86,
     "metadata": {},
     "output_type": "execute_result"
    },
    {
     "data": {
      "text/plain": [
       "76; 0.700;0.051371;0.500000; {min=-0.647, max=0.247}; {min=-0.404, max=0.267}; {0,1,1,0,0,1,1,0,1,0,0,1}\n",
       "\t\n"
      ]
     },
     "execution_count": 86,
     "metadata": {},
     "output_type": "execute_result"
    },
    {
     "data": {
      "text/plain": [
       "77; 0.696;0.049349;0.352941; {min=-0.647, max=0.000}; {min=-0.404, max=0.238}; {0,1,1,0,1,0,1,0,1,0,1,0}\n",
       "\t\n"
      ]
     },
     "execution_count": 86,
     "metadata": {},
     "output_type": "execute_result"
    },
    {
     "data": {
      "text/plain": [
       "78; 0.692;0.132322;0.000000; {min=-1.000, max=0.000}; {min=-0.404, max=0.206}; {1,0,1,0,1,0,1,0,1,0,0,1}\n",
       "\t\n"
      ]
     },
     "execution_count": 86,
     "metadata": {},
     "output_type": "execute_result"
    },
    {
     "data": {
      "text/plain": [
       "79; 0.688;0.079552;0.000000; {min=-1.000, max=0.000}; {min=-0.488, max=0.182}; {1,0,0,1,1,0,0,1,1,0,1,0}\n",
       "\t\n"
      ]
     },
     "execution_count": 86,
     "metadata": {},
     "output_type": "execute_result"
    },
    {
     "data": {
      "text/plain": [
       "80; 0.684;0.053421;0.600000; {min=-0.647, max=0.247}; {min=-0.404, max=0.266}; {0,1,1,0,0,1,1,0,1,0,1,0}\n",
       "\t\n"
      ]
     },
     "execution_count": 86,
     "metadata": {},
     "output_type": "execute_result"
    },
    {
     "data": {
      "text/plain": [
       "81; 0.680;0.068410;0.000000; {min=-1.000, max=0.000}; {min=-0.404, max=0.178}; {1,0,0,1,1,0,1,0,1,0,1,0}\n",
       "\t\n"
      ]
     },
     "execution_count": 86,
     "metadata": {},
     "output_type": "execute_result"
    },
    {
     "data": {
      "text/plain": [
       "82; 0.676;0.053388;0.600000; {min=-0.647, max=0.247}; {min=-0.404, max=0.266}; {0,1,1,0,0,1,1,0,1,0,1,0}\n",
       "\t\n"
      ]
     },
     "execution_count": 86,
     "metadata": {},
     "output_type": "execute_result"
    },
    {
     "data": {
      "text/plain": [
       "83; 0.672;0.055366;0.625000; {min=-0.647, max=0.227}; {min=-0.404, max=0.723}; {0,1,1,0,0,1,0,1,0,1,0,1}\n",
       "\t\n"
      ]
     },
     "execution_count": 86,
     "metadata": {},
     "output_type": "execute_result"
    },
    {
     "data": {
      "text/plain": [
       "84; 0.668;0.095105;0.482759; {min=-0.661, max=0.259}; {min=-0.404, max=0.580}; {0,1,0,1,1,0,1,0,0,1,0,1}\n",
       "\t\n"
      ]
     },
     "execution_count": 86,
     "metadata": {},
     "output_type": "execute_result"
    },
    {
     "data": {
      "text/plain": [
       "85; 0.664;0.102270;0.240000; {min=-1.000, max=0.286}; {min=-0.404, max=0.288}; {1,0,0,1,0,1,1,0,1,0,0,1}\n",
       "\t\n"
      ]
     },
     "execution_count": 86,
     "metadata": {},
     "output_type": "execute_result"
    },
    {
     "data": {
      "text/plain": [
       "86; 0.660;0.099385;0.240000; {min=-1.000, max=0.277}; {min=-0.404, max=0.180}; {1,0,0,1,0,1,0,1,1,0,1,0}\n",
       "\t\n"
      ]
     },
     "execution_count": 86,
     "metadata": {},
     "output_type": "execute_result"
    },
    {
     "data": {
      "text/plain": [
       "87; 0.656;0.049175;0.352941; {min=-0.647, max=0.000}; {min=-0.404, max=0.238}; {0,1,1,0,1,0,1,0,1,0,1,0}\n",
       "\t\n"
      ]
     },
     "execution_count": 86,
     "metadata": {},
     "output_type": "execute_result"
    },
    {
     "data": {
      "text/plain": [
       "88; 0.652;0.043413;0.285714; {min=-0.647, max=0.000}; {min=-0.404, max=0.238}; {0,1,1,0,1,0,1,0,1,0,0,1}\n",
       "\t\n"
      ]
     },
     "execution_count": 86,
     "metadata": {},
     "output_type": "execute_result"
    },
    {
     "data": {
      "text/plain": [
       "89; 0.648;0.072670;0.000000; {min=-1.000, max=0.000}; {min=-0.404, max=0.177}; {1,0,0,1,1,0,1,0,1,0,0,1}\n",
       "\t\n"
      ]
     },
     "execution_count": 86,
     "metadata": {},
     "output_type": "execute_result"
    },
    {
     "data": {
      "text/plain": [
       "90; 0.644;0.137332;0.285714; {min=-0.661, max=0.000}; {min=-0.404, max=0.513}; {0,1,0,1,1,0,1,0,1,0,1,0}\n",
       "\t\n"
      ]
     },
     "execution_count": 86,
     "metadata": {},
     "output_type": "execute_result"
    },
    {
     "data": {
      "text/plain": [
       "91; 0.640;0.068270;0.000000; {min=-1.000, max=0.000}; {min=-0.404, max=0.177}; {1,0,0,1,1,0,1,0,1,0,1,0}\n",
       "\t\n"
      ]
     },
     "execution_count": 86,
     "metadata": {},
     "output_type": "execute_result"
    },
    {
     "data": {
      "text/plain": [
       "92; 0.636;0.164230;0.444444; {min=-1.000, max=0.444}; {min=-0.404, max=0.297}; {1,0,1,0,1,0,1,0,0,1,1,0}\n",
       "\t\n"
      ]
     },
     "execution_count": 86,
     "metadata": {},
     "output_type": "execute_result"
    },
    {
     "data": {
      "text/plain": [
       "93; 0.632;0.068240;0.000000; {min=-1.000, max=0.000}; {min=-0.404, max=0.177}; {1,0,0,1,1,0,1,0,1,0,1,0}\n",
       "\t\n"
      ]
     },
     "execution_count": 86,
     "metadata": {},
     "output_type": "execute_result"
    },
    {
     "data": {
      "text/plain": [
       "94; 0.628;0.184759;0.714286; {min=-0.661, max=0.214}; {min=-0.405, max=0.723}; {0,1,0,1,0,1,1,0,0,1,1,0}\n",
       "\t\n"
      ]
     },
     "execution_count": 86,
     "metadata": {},
     "output_type": "execute_result"
    },
    {
     "data": {
      "text/plain": [
       "95; 0.624;0.049058;0.352941; {min=-0.647, max=0.000}; {min=-0.405, max=0.237}; {0,1,1,0,1,0,1,0,1,0,1,0}\n",
       "\t\n"
      ]
     },
     "execution_count": 86,
     "metadata": {},
     "output_type": "execute_result"
    },
    {
     "data": {
      "text/plain": [
       "96; 0.620;0.102153;0.240000; {min=-1.000, max=0.286}; {min=-0.405, max=0.288}; {1,0,0,1,0,1,1,0,1,0,0,1}\n",
       "\t\n"
      ]
     },
     "execution_count": 86,
     "metadata": {},
     "output_type": "execute_result"
    },
    {
     "data": {
      "text/plain": [
       "97; 0.616;0.107855;0.285714; {min=-1.000, max=0.339}; {min=-0.405, max=0.287}; {1,0,1,0,0,1,0,1,1,0,1,0}\n",
       "\t\n"
      ]
     },
     "execution_count": 86,
     "metadata": {},
     "output_type": "execute_result"
    },
    {
     "data": {
      "text/plain": [
       "98; 0.612;0.184632;0.714286; {min=-0.661, max=0.214}; {min=-0.405, max=0.722}; {0,1,0,1,0,1,1,0,0,1,1,0}\n",
       "\t\n"
      ]
     },
     "execution_count": 86,
     "metadata": {},
     "output_type": "execute_result"
    },
    {
     "data": {
      "text/plain": [
       "99; 0.608;0.064926;0.833333; {min=-0.647, max=0.247}; {min=-0.405, max=0.301}; {0,1,1,0,0,1,1,0,0,1,1,0}\n",
       "\t\n"
      ]
     },
     "execution_count": 86,
     "metadata": {},
     "output_type": "execute_result"
    },
    {
     "data": {
      "text/plain": [
       "100; 0.604;0.051029;0.500000; {min=-0.647, max=0.247}; {min=-0.405, max=0.265}; {0,1,1,0,0,1,1,0,1,0,0,1}\n",
       "\t\n"
      ]
     },
     "execution_count": 86,
     "metadata": {},
     "output_type": "execute_result"
    },
    {
     "data": {
      "text/plain": [
       "101; 0.600;0.060206;0.428571; {min=-0.661, max=0.200}; {min=-0.405, max=0.557}; {0,1,0,1,0,1,0,1,1,0,1,0}\n",
       "\t\n"
      ]
     },
     "execution_count": 86,
     "metadata": {},
     "output_type": "execute_result"
    },
    {
     "data": {
      "text/plain": [
       "102; 0.596;0.136775;0.285714; {min=-0.661, max=0.000}; {min=-0.405, max=0.512}; {0,1,0,1,1,0,1,0,1,0,1,0}\n",
       "\t\n"
      ]
     },
     "execution_count": 86,
     "metadata": {},
     "output_type": "execute_result"
    },
    {
     "data": {
      "text/plain": [
       "103; 0.592;0.169771;0.482759; {min=-0.661, max=0.243}; {min=-0.467, max=0.446}; {0,1,0,1,1,0,0,1,0,1,1,0}\n",
       "\t\n"
      ]
     },
     "execution_count": 86,
     "metadata": {},
     "output_type": "execute_result"
    },
    {
     "data": {
      "text/plain": [
       "104; 0.588;0.181676;0.363636; {min=-1.000, max=0.364}; {min=-0.405, max=0.375}; {1,0,0,1,1,0,1,0,0,1,1,0}\n",
       "\t\n"
      ]
     },
     "execution_count": 86,
     "metadata": {},
     "output_type": "execute_result"
    },
    {
     "data": {
      "text/plain": [
       "105; 0.584;0.064861;0.833333; {min=-0.647, max=0.247}; {min=-0.405, max=0.301}; {0,1,1,0,0,1,1,0,0,1,1,0}\n",
       "\t\n"
      ]
     },
     "execution_count": 86,
     "metadata": {},
     "output_type": "execute_result"
    },
    {
     "data": {
      "text/plain": [
       "106; 0.580;0.055794;0.240000; {min=-0.647, max=0.000}; {min=-0.405, max=0.512}; {0,1,1,0,1,0,0,1,1,0,0,1}\n",
       "\t\n"
      ]
     },
     "execution_count": 86,
     "metadata": {},
     "output_type": "execute_result"
    },
    {
     "data": {
      "text/plain": [
       "107; 0.576;0.053000;0.600000; {min=-0.647, max=0.247}; {min=-0.405, max=0.265}; {0,1,1,0,0,1,1,0,1,0,1,0}\n",
       "\t\n"
      ]
     },
     "execution_count": 86,
     "metadata": {},
     "output_type": "execute_result"
    },
    {
     "data": {
      "text/plain": [
       "108; 0.572;0.094658;0.482759; {min=-0.661, max=0.259}; {min=-0.405, max=0.578}; {0,1,0,1,1,0,1,0,0,1,0,1}\n",
       "\t\n"
      ]
     },
     "execution_count": 86,
     "metadata": {},
     "output_type": "execute_result"
    },
    {
     "data": {
      "text/plain": [
       "109; 0.568;0.149583;0.500000; {min=-0.647, max=0.227}; {min=-0.405, max=0.664}; {0,1,1,0,0,1,0,1,1,0,1,0}\n",
       "\t\n"
      ]
     },
     "execution_count": 86,
     "metadata": {},
     "output_type": "execute_result"
    },
    {
     "data": {
      "text/plain": [
       "110; 0.564;0.136372;0.285714; {min=-0.661, max=0.000}; {min=-0.405, max=0.511}; {0,1,0,1,1,0,1,0,1,0,1,0}\n",
       "\t\n"
      ]
     },
     "execution_count": 86,
     "metadata": {},
     "output_type": "execute_result"
    },
    {
     "data": {
      "text/plain": [
       "111; 0.560;0.189746;0.307692; {min=-1.000, max=0.308}; {min=-0.489, max=0.159}; {1,0,0,1,1,0,0,1,0,1,1,0}\n",
       "\t\n"
      ]
     },
     "execution_count": 86,
     "metadata": {},
     "output_type": "execute_result"
    },
    {
     "data": {
      "text/plain": [
       "112; 0.556;0.064784;0.833333; {min=-0.647, max=0.247}; {min=-0.405, max=0.300}; {0,1,1,0,0,1,1,0,0,1,1,0}\n",
       "\t\n"
      ]
     },
     "execution_count": 86,
     "metadata": {},
     "output_type": "execute_result"
    },
    {
     "data": {
      "text/plain": [
       "113; 0.552;0.052895;0.600000; {min=-0.647, max=0.247}; {min=-0.405, max=0.264}; {0,1,1,0,0,1,1,0,1,0,1,0}\n",
       "\t\n"
      ]
     },
     "execution_count": 86,
     "metadata": {},
     "output_type": "execute_result"
    },
    {
     "data": {
      "text/plain": [
       "114; 0.548;0.067933;0.000000; {min=-1.000, max=0.000}; {min=-0.405, max=0.175}; {1,0,0,1,1,0,1,0,1,0,1,0}\n",
       "\t\n"
      ]
     },
     "execution_count": 86,
     "metadata": {},
     "output_type": "execute_result"
    },
    {
     "data": {
      "text/plain": [
       "115; 0.544;0.092273;0.000000; {min=-1.000, max=0.000}; {min=-0.489, max=0.179}; {1,0,0,1,1,0,0,1,1,0,0,1}\n",
       "\t\n"
      ]
     },
     "execution_count": 86,
     "metadata": {},
     "output_type": "execute_result"
    },
    {
     "data": {
      "text/plain": [
       "116; 0.540;0.052845;0.600000; {min=-0.647, max=0.247}; {min=-0.406, max=0.264}; {0,1,1,0,0,1,1,0,1,0,1,0}\n",
       "\t\n"
      ]
     },
     "execution_count": 86,
     "metadata": {},
     "output_type": "execute_result"
    },
    {
     "data": {
      "text/plain": [
       "117; 0.536;0.050790;0.500000; {min=-0.647, max=0.247}; {min=-0.406, max=0.264}; {0,1,1,0,0,1,1,0,1,0,0,1}\n",
       "\t\n"
      ]
     },
     "execution_count": 86,
     "metadata": {},
     "output_type": "execute_result"
    },
    {
     "data": {
      "text/plain": [
       "118; 0.532;0.092270;0.000000; {min=-1.000, max=0.000}; {min=-0.490, max=0.179}; {1,0,0,1,1,0,0,1,1,0,0,1}\n",
       "\t\n"
      ]
     },
     "execution_count": 86,
     "metadata": {},
     "output_type": "execute_result"
    },
    {
     "data": {
      "text/plain": [
       "119; 0.528;0.107501;0.285714; {min=-1.000, max=0.339}; {min=-0.406, max=0.286}; {1,0,1,0,0,1,0,1,1,0,1,0}\n",
       "\t\n"
      ]
     },
     "execution_count": 86,
     "metadata": {},
     "output_type": "execute_result"
    },
    {
     "data": {
      "text/plain": [
       "120; 0.524;0.096660;0.625000; {min=-0.661, max=0.214}; {min=-0.406, max=0.721}; {0,1,0,1,0,1,1,0,0,1,0,1}\n",
       "\t\n"
      ]
     },
     "execution_count": 86,
     "metadata": {},
     "output_type": "execute_result"
    },
    {
     "data": {
      "text/plain": [
       "121; 0.520;0.052771;0.600000; {min=-0.647, max=0.247}; {min=-0.406, max=0.264}; {0,1,1,0,0,1,1,0,1,0,1,0}\n",
       "\t\n"
      ]
     },
     "execution_count": 86,
     "metadata": {},
     "output_type": "execute_result"
    },
    {
     "data": {
      "text/plain": [
       "122; 0.516;0.059780;0.428571; {min=-0.661, max=0.200}; {min=-0.406, max=0.555}; {0,1,0,1,0,1,0,1,1,0,1,0}\n",
       "\t\n"
      ]
     },
     "execution_count": 86,
     "metadata": {},
     "output_type": "execute_result"
    },
    {
     "data": {
      "text/plain": [
       "123; 0.512;0.052743;0.600000; {min=-0.647, max=0.247}; {min=-0.406, max=0.264}; {0,1,1,0,0,1,1,0,1,0,1,0}\n",
       "\t\n"
      ]
     },
     "execution_count": 86,
     "metadata": {},
     "output_type": "execute_result"
    },
    {
     "data": {
      "text/plain": [
       "124; 0.508;0.042928;0.285714; {min=-0.647, max=0.000}; {min=-0.406, max=0.235}; {0,1,1,0,1,0,1,0,1,0,0,1}\n",
       "\t\n"
      ]
     },
     "execution_count": 86,
     "metadata": {},
     "output_type": "execute_result"
    },
    {
     "data": {
      "text/plain": [
       "125; 0.504;0.050694;0.500000; {min=-0.647, max=0.247}; {min=-0.406, max=0.263}; {0,1,1,0,0,1,1,0,1,0,0,1}\n",
       "\t\n"
      ]
     },
     "execution_count": 86,
     "metadata": {},
     "output_type": "execute_result"
    },
    {
     "data": {
      "text/plain": [
       "126; 0.500;0.064647;0.833333; {min=-0.647, max=0.247}; {min=-0.406, max=0.300}; {0,1,1,0,0,1,1,0,0,1,1,0}\n",
       "\t\n"
      ]
     },
     "execution_count": 86,
     "metadata": {},
     "output_type": "execute_result"
    },
    {
     "data": {
      "text/plain": [
       "127; 0.496;0.052688;0.600000; {min=-0.647, max=0.247}; {min=-0.406, max=0.263}; {0,1,1,0,0,1,1,0,1,0,1,0}\n",
       "\t\n"
      ]
     },
     "execution_count": 86,
     "metadata": {},
     "output_type": "execute_result"
    },
    {
     "data": {
      "text/plain": [
       "128; 0.492;0.181538;0.363636; {min=-1.000, max=0.364}; {min=-0.406, max=0.373}; {1,0,0,1,1,0,1,0,0,1,1,0}\n",
       "\t\n"
      ]
     },
     "execution_count": 86,
     "metadata": {},
     "output_type": "execute_result"
    },
    {
     "data": {
      "text/plain": [
       "129; 0.488;0.064619;0.833333; {min=-0.647, max=0.247}; {min=-0.406, max=0.299}; {0,1,1,0,0,1,1,0,0,1,1,0}\n",
       "\t\n"
      ]
     },
     "execution_count": 86,
     "metadata": {},
     "output_type": "execute_result"
    },
    {
     "data": {
      "text/plain": [
       "130; 0.484;0.096116;0.285714; {min=-0.647, max=0.000}; {min=-0.406, max=0.510}; {0,1,1,0,1,0,0,1,1,0,1,0}\n",
       "\t\n"
      ]
     },
     "execution_count": 86,
     "metadata": {},
     "output_type": "execute_result"
    },
    {
     "data": {
      "text/plain": [
       "131; 0.480;0.099215;0.240000; {min=-1.000, max=0.277}; {min=-0.406, max=0.177}; {1,0,0,1,0,1,0,1,1,0,1,0}\n",
       "\t\n"
      ]
     },
     "execution_count": 86,
     "metadata": {},
     "output_type": "execute_result"
    },
    {
     "data": {
      "text/plain": [
       "132; 0.476;0.148733;0.500000; {min=-0.647, max=0.227}; {min=-0.406, max=0.662}; {0,1,1,0,0,1,0,1,1,0,1,0}\n",
       "\t\n"
      ]
     },
     "execution_count": 86,
     "metadata": {},
     "output_type": "execute_result"
    },
    {
     "data": {
      "text/plain": [
       "133; 0.472;0.050595;0.500000; {min=-0.647, max=0.247}; {min=-0.406, max=0.263}; {0,1,1,0,0,1,1,0,1,0,0,1}\n",
       "\t\n"
      ]
     },
     "execution_count": 86,
     "metadata": {},
     "output_type": "execute_result"
    },
    {
     "data": {
      "text/plain": [
       "134; 0.468;0.150461;0.560000; {min=-0.661, max=0.274}; {min=-0.406, max=0.576}; {0,1,0,1,1,0,1,0,0,1,1,0}\n",
       "\t\n"
      ]
     },
     "execution_count": 86,
     "metadata": {},
     "output_type": "execute_result"
    },
    {
     "data": {
      "text/plain": [
       "135; 0.464;0.052562;0.600000; {min=-0.647, max=0.247}; {min=-0.406, max=0.263}; {0,1,1,0,0,1,1,0,1,0,1,0}\n",
       "\t\n"
      ]
     },
     "execution_count": 86,
     "metadata": {},
     "output_type": "execute_result"
    },
    {
     "data": {
      "text/plain": [
       "136; 0.460;0.079055;0.000000; {min=-1.000, max=0.000}; {min=-0.490, max=0.178}; {1,0,0,1,1,0,0,1,1,0,1,0}\n",
       "\t\n"
      ]
     },
     "execution_count": 86,
     "metadata": {},
     "output_type": "execute_result"
    },
    {
     "data": {
      "text/plain": [
       "137; 0.456;0.064533;0.833333; {min=-0.647, max=0.247}; {min=-0.407, max=0.299}; {0,1,1,0,0,1,1,0,0,1,1,0}\n",
       "\t\n"
      ]
     },
     "execution_count": 86,
     "metadata": {},
     "output_type": "execute_result"
    },
    {
     "data": {
      "text/plain": [
       "138; 0.452;0.055168;0.240000; {min=-0.647, max=0.000}; {min=-0.407, max=0.509}; {0,1,1,0,1,0,0,1,1,0,0,1}\n",
       "\t\n"
      ]
     },
     "execution_count": 86,
     "metadata": {},
     "output_type": "execute_result"
    },
    {
     "data": {
      "text/plain": [
       "139; 0.448;0.052496;0.600000; {min=-0.647, max=0.247}; {min=-0.407, max=0.262}; {0,1,1,0,0,1,1,0,1,0,1,0}\n",
       "\t\n"
      ]
     },
     "execution_count": 86,
     "metadata": {},
     "output_type": "execute_result"
    },
    {
     "data": {
      "text/plain": [
       "140; 0.444;0.094369;0.240000; {min=-0.661, max=0.000}; {min=-0.407, max=0.509}; {0,1,0,1,1,0,1,0,1,0,0,1}\n",
       "\t\n"
      ]
     },
     "execution_count": 86,
     "metadata": {},
     "output_type": "execute_result"
    },
    {
     "data": {
      "text/plain": [
       "141; 0.440;0.048300;0.352941; {min=-0.647, max=0.000}; {min=-0.407, max=0.234}; {0,1,1,0,1,0,1,0,1,0,1,0}\n",
       "\t\n"
      ]
     },
     "execution_count": 86,
     "metadata": {},
     "output_type": "execute_result"
    },
    {
     "data": {
      "text/plain": [
       "142; 0.436;0.052449;0.600000; {min=-0.647, max=0.247}; {min=-0.407, max=0.262}; {0,1,1,0,0,1,1,0,1,0,1,0}\n",
       "\t\n"
      ]
     },
     "execution_count": 86,
     "metadata": {},
     "output_type": "execute_result"
    },
    {
     "data": {
      "text/plain": [
       "143; 0.432;0.134929;0.285714; {min=-0.661, max=0.000}; {min=-0.407, max=0.509}; {0,1,0,1,1,0,1,0,1,0,1,0}\n",
       "\t\n"
      ]
     },
     "execution_count": 86,
     "metadata": {},
     "output_type": "execute_result"
    },
    {
     "data": {
      "text/plain": [
       "144; 0.428;0.052417;0.600000; {min=-0.647, max=0.247}; {min=-0.407, max=0.262}; {0,1,1,0,0,1,1,0,1,0,1,0}\n",
       "\t\n"
      ]
     },
     "execution_count": 86,
     "metadata": {},
     "output_type": "execute_result"
    },
    {
     "data": {
      "text/plain": [
       "145; 0.424;0.134838;0.285714; {min=-0.661, max=0.000}; {min=-0.407, max=0.509}; {0,1,0,1,1,0,1,0,1,0,1,0}\n",
       "\t\n"
      ]
     },
     "execution_count": 86,
     "metadata": {},
     "output_type": "execute_result"
    },
    {
     "data": {
      "text/plain": [
       "146; 0.420;0.042642;0.285714; {min=-0.647, max=0.000}; {min=-0.407, max=0.234}; {0,1,1,0,1,0,1,0,1,0,0,1}\n",
       "\t\n"
      ]
     },
     "execution_count": 86,
     "metadata": {},
     "output_type": "execute_result"
    },
    {
     "data": {
      "text/plain": [
       "147; 0.416;0.080799;0.428571; {min=-0.647, max=0.227}; {min=-0.407, max=0.661}; {0,1,1,0,0,1,0,1,1,0,0,1}\n",
       "\t\n"
      ]
     },
     "execution_count": 86,
     "metadata": {},
     "output_type": "execute_result"
    },
    {
     "data": {
      "text/plain": [
       "148; 0.412;0.086152;0.666667; {min=-0.647, max=0.314}; {min=-0.407, max=0.373}; {0,1,1,0,1,0,1,0,0,1,1,0}\n",
       "\t\n"
      ]
     },
     "execution_count": 86,
     "metadata": {},
     "output_type": "execute_result"
    },
    {
     "data": {
      "text/plain": [
       "149; 0.408;0.148097;0.500000; {min=-0.647, max=0.227}; {min=-0.407, max=0.661}; {0,1,1,0,0,1,0,1,1,0,1,0}\n",
       "\t\n"
      ]
     },
     "execution_count": 86,
     "metadata": {},
     "output_type": "execute_result"
    },
    {
     "data": {
      "text/plain": [
       "150; 0.404;0.067487;0.000000; {min=-1.000, max=0.000}; {min=-0.407, max=0.173}; {1,0,0,1,1,0,1,0,1,0,1,0}\n",
       "\t\n"
      ]
     },
     "execution_count": 86,
     "metadata": {},
     "output_type": "execute_result"
    },
    {
     "data": {
      "text/plain": [
       "151; 0.400;0.052298;0.600000; {min=-0.647, max=0.247}; {min=-0.407, max=0.262}; {0,1,1,0,0,1,1,0,1,0,1,0}\n",
       "\t\n"
      ]
     },
     "execution_count": 86,
     "metadata": {},
     "output_type": "execute_result"
    },
    {
     "data": {
      "text/plain": [
       "152; 0.396;0.052280;0.600000; {min=-0.647, max=0.247}; {min=-0.407, max=0.262}; {0,1,1,0,0,1,1,0,1,0,1,0}\n",
       "\t\n"
      ]
     },
     "execution_count": 86,
     "metadata": {},
     "output_type": "execute_result"
    },
    {
     "data": {
      "text/plain": [
       "153; 0.392;0.052263;0.600000; {min=-0.647, max=0.247}; {min=-0.407, max=0.261}; {0,1,1,0,0,1,1,0,1,0,1,0}\n",
       "\t\n"
      ]
     },
     "execution_count": 86,
     "metadata": {},
     "output_type": "execute_result"
    },
    {
     "data": {
      "text/plain": [
       "154; 0.388;0.052246;0.600000; {min=-0.647, max=0.247}; {min=-0.407, max=0.261}; {0,1,1,0,0,1,1,0,1,0,1,0}\n",
       "\t\n"
      ]
     },
     "execution_count": 86,
     "metadata": {},
     "output_type": "execute_result"
    },
    {
     "data": {
      "text/plain": [
       "155; 0.384;0.067427;0.000000; {min=-1.000, max=0.000}; {min=-0.407, max=0.173}; {1,0,0,1,1,0,1,0,1,0,1,0}\n",
       "\t\n"
      ]
     },
     "execution_count": 86,
     "metadata": {},
     "output_type": "execute_result"
    },
    {
     "data": {
      "text/plain": [
       "156; 0.380;0.052213;0.600000; {min=-0.647, max=0.247}; {min=-0.407, max=0.261}; {0,1,1,0,0,1,1,0,1,0,1,0}\n",
       "\t\n"
      ]
     },
     "execution_count": 86,
     "metadata": {},
     "output_type": "execute_result"
    },
    {
     "data": {
      "text/plain": [
       "157; 0.376;0.072170;0.000000; {min=-1.000, max=0.000}; {min=-0.407, max=0.173}; {1,0,0,1,1,0,1,0,1,0,0,1}\n",
       "\t\n"
      ]
     },
     "execution_count": 86,
     "metadata": {},
     "output_type": "execute_result"
    },
    {
     "data": {
      "text/plain": [
       "158; 0.372;0.052182;0.600000; {min=-0.647, max=0.247}; {min=-0.407, max=0.261}; {0,1,1,0,0,1,1,0,1,0,1,0}\n",
       "\t\n"
      ]
     },
     "execution_count": 86,
     "metadata": {},
     "output_type": "execute_result"
    },
    {
     "data": {
      "text/plain": [
       "159; 0.368;0.054778;0.240000; {min=-0.647, max=0.000}; {min=-0.407, max=0.508}; {0,1,1,0,1,0,0,1,1,0,0,1}\n",
       "\t\n"
      ]
     },
     "execution_count": 86,
     "metadata": {},
     "output_type": "execute_result"
    },
    {
     "data": {
      "text/plain": [
       "160; 0.364;0.067370;0.000000; {min=-1.000, max=0.000}; {min=-0.407, max=0.173}; {1,0,0,1,1,0,1,0,1,0,1,0}\n",
       "\t\n"
      ]
     },
     "execution_count": 86,
     "metadata": {},
     "output_type": "execute_result"
    },
    {
     "data": {
      "text/plain": [
       "161; 0.360;0.114528;0.285714; {min=-1.000, max=0.286}; {min=-0.408, max=0.283}; {1,0,0,1,0,1,1,0,1,0,1,0}\n",
       "\t\n"
      ]
     },
     "execution_count": 86,
     "metadata": {},
     "output_type": "execute_result"
    },
    {
     "data": {
      "text/plain": [
       "162; 0.356;0.134096;0.285714; {min=-0.661, max=0.000}; {min=-0.408, max=0.508}; {0,1,0,1,1,0,1,0,1,0,1,0}\n",
       "\t\n"
      ]
     },
     "execution_count": 86,
     "metadata": {},
     "output_type": "execute_result"
    },
    {
     "data": {
      "text/plain": [
       "163; 0.352;0.052109;0.600000; {min=-0.647, max=0.247}; {min=-0.408, max=0.261}; {0,1,1,0,0,1,1,0,1,0,1,0}\n",
       "\t\n"
      ]
     },
     "execution_count": 86,
     "metadata": {},
     "output_type": "execute_result"
    },
    {
     "data": {
      "text/plain": [
       "164; 0.348;0.072117;0.000000; {min=-1.000, max=0.000}; {min=-0.408, max=0.172}; {1,0,0,1,1,0,1,0,1,0,0,1}\n",
       "\t\n"
      ]
     },
     "execution_count": 86,
     "metadata": {},
     "output_type": "execute_result"
    },
    {
     "data": {
      "text/plain": [
       "165; 0.344;0.067304;0.000000; {min=-1.000, max=0.000}; {min=-0.408, max=0.172}; {1,0,0,1,1,0,1,0,1,0,1,0}\n",
       "\t\n"
      ]
     },
     "execution_count": 86,
     "metadata": {},
     "output_type": "execute_result"
    },
    {
     "data": {
      "text/plain": [
       "166; 0.340;0.050175;0.500000; {min=-0.647, max=0.247}; {min=-0.408, max=0.261}; {0,1,1,0,0,1,1,0,1,0,0,1}\n",
       "\t\n"
      ]
     },
     "execution_count": 86,
     "metadata": {},
     "output_type": "execute_result"
    },
    {
     "data": {
      "text/plain": [
       "167; 0.336;0.133872;0.285714; {min=-0.661, max=0.000}; {min=-0.408, max=0.507}; {0,1,0,1,1,0,1,0,1,0,1,0}\n",
       "\t\n"
      ]
     },
     "execution_count": 86,
     "metadata": {},
     "output_type": "execute_result"
    },
    {
     "data": {
      "text/plain": [
       "168; 0.332;0.064192;0.833333; {min=-0.647, max=0.247}; {min=-0.408, max=0.297}; {0,1,1,0,0,1,1,0,0,1,1,0}\n",
       "\t\n"
      ]
     },
     "execution_count": 86,
     "metadata": {},
     "output_type": "execute_result"
    },
    {
     "data": {
      "text/plain": [
       "169; 0.328;0.047851;0.352941; {min=-0.647, max=0.000}; {min=-0.408, max=0.233}; {0,1,1,0,1,0,1,0,1,0,1,0}\n",
       "\t\n"
      ]
     },
     "execution_count": 86,
     "metadata": {},
     "output_type": "execute_result"
    },
    {
     "data": {
      "text/plain": [
       "170; 0.324;0.091759;0.833333; {min=-0.647, max=0.800}; {min=-0.408, max=0.297}; {0,1,1,0,0,1,1,0,0,1,1,0}\n",
       "\t\n"
      ]
     },
     "execution_count": 86,
     "metadata": {},
     "output_type": "execute_result"
    },
    {
     "data": {
      "text/plain": [
       "171; 0.320;0.051989;0.600000; {min=-0.647, max=0.247}; {min=-0.408, max=0.260}; {0,1,1,0,0,1,1,0,1,0,1,0}\n",
       "\t\n"
      ]
     },
     "execution_count": 86,
     "metadata": {},
     "output_type": "execute_result"
    },
    {
     "data": {
      "text/plain": [
       "172; 0.316;0.051973;0.600000; {min=-0.647, max=0.247}; {min=-0.408, max=0.260}; {0,1,1,0,0,1,1,0,1,0,1,0}\n",
       "\t\n"
      ]
     },
     "execution_count": 86,
     "metadata": {},
     "output_type": "execute_result"
    },
    {
     "data": {
      "text/plain": [
       "173; 0.312;0.064136;0.833333; {min=-0.647, max=0.247}; {min=-0.408, max=0.296}; {0,1,1,0,0,1,1,0,0,1,1,0}\n",
       "\t\n"
      ]
     },
     "execution_count": 86,
     "metadata": {},
     "output_type": "execute_result"
    },
    {
     "data": {
      "text/plain": [
       "174; 0.308;0.064125;0.833333; {min=-0.647, max=0.247}; {min=-0.408, max=0.296}; {0,1,1,0,0,1,1,0,0,1,1,0}\n",
       "\t\n"
      ]
     },
     "execution_count": 86,
     "metadata": {},
     "output_type": "execute_result"
    },
    {
     "data": {
      "text/plain": [
       "175; 0.304;0.157089;0.307692; {min=-1.000, max=0.352}; {min=-0.408, max=0.370}; {1,0,0,1,1,0,1,0,0,1,0,1}\n",
       "\t\n"
      ]
     },
     "execution_count": 86,
     "metadata": {},
     "output_type": "execute_result"
    },
    {
     "data": {
      "text/plain": [
       "176; 0.300;0.147127;0.500000; {min=-0.647, max=0.227}; {min=-0.408, max=0.659}; {0,1,1,0,0,1,0,1,1,0,1,0}\n",
       "\t\n"
      ]
     },
     "execution_count": 86,
     "metadata": {},
     "output_type": "execute_result"
    },
    {
     "data": {
      "text/plain": [
       "177; 0.296;0.067154;0.000000; {min=-1.000, max=0.000}; {min=-0.408, max=0.172}; {1,0,0,1,1,0,1,0,1,0,1,0}\n",
       "\t\n"
      ]
     },
     "execution_count": 86,
     "metadata": {},
     "output_type": "execute_result"
    },
    {
     "data": {
      "text/plain": [
       "178; 0.292;0.064080;0.833333; {min=-0.647, max=0.247}; {min=-0.408, max=0.296}; {0,1,1,0,0,1,1,0,0,1,1,0}\n",
       "\t\n"
      ]
     },
     "execution_count": 86,
     "metadata": {},
     "output_type": "execute_result"
    },
    {
     "data": {
      "text/plain": [
       "179; 0.288;0.078676;0.000000; {min=-1.000, max=0.000}; {min=-0.492, max=0.176}; {1,0,0,1,1,0,0,1,1,0,1,0}\n",
       "\t\n"
      ]
     },
     "execution_count": 86,
     "metadata": {},
     "output_type": "execute_result"
    },
    {
     "data": {
      "text/plain": [
       "180; 0.284;0.051838;0.600000; {min=-0.647, max=0.247}; {min=-0.408, max=0.260}; {0,1,1,0,0,1,1,0,1,0,1,0}\n",
       "\t\n"
      ]
     },
     "execution_count": 86,
     "metadata": {},
     "output_type": "execute_result"
    },
    {
     "data": {
      "text/plain": [
       "181; 0.280;0.051822;0.600000; {min=-0.647, max=0.247}; {min=-0.408, max=0.260}; {0,1,1,0,0,1,1,0,1,0,1,0}\n",
       "\t\n"
      ]
     },
     "execution_count": 86,
     "metadata": {},
     "output_type": "execute_result"
    },
    {
     "data": {
      "text/plain": [
       "182; 0.276;0.051806;0.600000; {min=-0.647, max=0.247}; {min=-0.409, max=0.260}; {0,1,1,0,0,1,1,0,1,0,1,0}\n",
       "\t\n"
      ]
     },
     "execution_count": 86,
     "metadata": {},
     "output_type": "execute_result"
    },
    {
     "data": {
      "text/plain": [
       "183; 0.272;0.047617;0.352941; {min=-0.647, max=0.000}; {min=-0.409, max=0.232}; {0,1,1,0,1,0,1,0,1,0,1,0}\n",
       "\t\n"
      ]
     },
     "execution_count": 86,
     "metadata": {},
     "output_type": "execute_result"
    },
    {
     "data": {
      "text/plain": [
       "184; 0.268;0.106680;0.285714; {min=-1.000, max=0.339}; {min=-0.409, max=0.281}; {1,0,1,0,0,1,0,1,1,0,1,0}\n",
       "\t\n"
      ]
     },
     "execution_count": 86,
     "metadata": {},
     "output_type": "execute_result"
    },
    {
     "data": {
      "text/plain": [
       "185; 0.264;0.133088;0.285714; {min=-0.661, max=0.000}; {min=-0.409, max=0.506}; {0,1,0,1,1,0,1,0,1,0,1,0}\n",
       "\t\n"
      ]
     },
     "execution_count": 86,
     "metadata": {},
     "output_type": "execute_result"
    },
    {
     "data": {
      "text/plain": [
       "186; 0.260;0.049918;0.500000; {min=-0.647, max=0.247}; {min=-0.409, max=0.259}; {0,1,1,0,0,1,1,0,1,0,0,1}\n",
       "\t\n"
      ]
     },
     "execution_count": 86,
     "metadata": {},
     "output_type": "execute_result"
    },
    {
     "data": {
      "text/plain": [
       "187; 0.256;0.051724;0.600000; {min=-0.647, max=0.247}; {min=-0.409, max=0.259}; {0,1,1,0,0,1,1,0,1,0,1,0}\n",
       "\t\n"
      ]
     },
     "execution_count": 86,
     "metadata": {},
     "output_type": "execute_result"
    },
    {
     "data": {
      "text/plain": [
       "188; 0.252;0.051707;0.600000; {min=-0.647, max=0.247}; {min=-0.409, max=0.259}; {0,1,1,0,0,1,1,0,1,0,1,0}\n",
       "\t\n"
      ]
     },
     "execution_count": 86,
     "metadata": {},
     "output_type": "execute_result"
    },
    {
     "data": {
      "text/plain": [
       "189; 0.248;0.105866;0.285714; {min=-0.661, max=0.200}; {min=-0.409, max=0.506}; {0,1,0,1,1,0,1,0,1,0,1,0}\n",
       "\t\n"
      ]
     },
     "execution_count": 86,
     "metadata": {},
     "output_type": "execute_result"
    },
    {
     "data": {
      "text/plain": [
       "190; 0.244;0.051674;0.600000; {min=-0.647, max=0.247}; {min=-0.409, max=0.259}; {0,1,1,0,0,1,1,0,1,0,1,0}\n",
       "\t\n"
      ]
     },
     "execution_count": 86,
     "metadata": {},
     "output_type": "execute_result"
    },
    {
     "data": {
      "text/plain": [
       "191; 0.240;0.181038;0.363636; {min=-1.000, max=0.364}; {min=-0.409, max=0.368}; {1,0,0,1,1,0,1,0,0,1,1,0}\n",
       "\t\n"
      ]
     },
     "execution_count": 86,
     "metadata": {},
     "output_type": "execute_result"
    },
    {
     "data": {
      "text/plain": [
       "192; 0.236;0.051639;0.600000; {min=-0.647, max=0.247}; {min=-0.409, max=0.259}; {0,1,1,0,0,1,1,0,1,0,1,0}\n",
       "\t\n"
      ]
     },
     "execution_count": 86,
     "metadata": {},
     "output_type": "execute_result"
    },
    {
     "data": {
      "text/plain": [
       "193; 0.232;0.051621;0.600000; {min=-0.647, max=0.247}; {min=-0.409, max=0.259}; {0,1,1,0,0,1,1,0,1,0,1,0}\n",
       "\t\n"
      ]
     },
     "execution_count": 86,
     "metadata": {},
     "output_type": "execute_result"
    },
    {
     "data": {
      "text/plain": [
       "194; 0.228;0.051604;0.600000; {min=-0.647, max=0.247}; {min=-0.409, max=0.259}; {0,1,1,0,0,1,1,0,1,0,1,0}\n",
       "\t\n"
      ]
     },
     "execution_count": 86,
     "metadata": {},
     "output_type": "execute_result"
    },
    {
     "data": {
      "text/plain": [
       "195; 0.224;0.059054;0.240000; {min=-0.661, max=0.000}; {min=-0.471, max=0.397}; {0,1,0,1,1,0,0,1,1,0,1,0}\n",
       "\t\n"
      ]
     },
     "execution_count": 86,
     "metadata": {},
     "output_type": "execute_result"
    },
    {
     "data": {
      "text/plain": [
       "196; 0.220;0.047397;0.352941; {min=-0.647, max=0.000}; {min=-0.409, max=0.231}; {0,1,1,0,1,0,1,0,1,0,1,0}\n",
       "\t\n"
      ]
     },
     "execution_count": 86,
     "metadata": {},
     "output_type": "execute_result"
    },
    {
     "data": {
      "text/plain": [
       "197; 0.216;0.132542;0.285714; {min=-0.661, max=0.000}; {min=-0.409, max=0.505}; {0,1,0,1,1,0,1,0,1,0,1,0}\n",
       "\t\n"
      ]
     },
     "execution_count": 86,
     "metadata": {},
     "output_type": "execute_result"
    },
    {
     "data": {
      "text/plain": [
       "198; 0.212;0.051536;0.600000; {min=-0.647, max=0.247}; {min=-0.409, max=0.258}; {0,1,1,0,0,1,1,0,1,0,1,0}\n",
       "\t\n"
      ]
     },
     "execution_count": 86,
     "metadata": {},
     "output_type": "execute_result"
    },
    {
     "data": {
      "text/plain": [
       "199; 0.208;0.085511;0.666667; {min=-0.647, max=0.314}; {min=-0.409, max=0.369}; {0,1,1,0,1,0,1,0,0,1,1,0}\n",
       "\t\n"
      ]
     },
     "execution_count": 86,
     "metadata": {},
     "output_type": "execute_result"
    },
    {
     "data": {
      "text/plain": [
       "200; 0.204;0.051501;0.600000; {min=-0.647, max=0.247}; {min=-0.409, max=0.258}; {0,1,1,0,0,1,1,0,1,0,1,0}\n",
       "\t\n"
      ]
     },
     "execution_count": 86,
     "metadata": {},
     "output_type": "execute_result"
    },
    {
     "data": {
      "text/plain": [
       "201; 0.200;0.051483;0.600000; {min=-0.647, max=0.247}; {min=-0.409, max=0.258}; {0,1,1,0,0,1,1,0,1,0,1,0}\n",
       "\t\n"
      ]
     },
     "execution_count": 86,
     "metadata": {},
     "output_type": "execute_result"
    },
    {
     "data": {
      "text/plain": [
       "202; 0.196;0.051465;0.600000; {min=-0.647, max=0.247}; {min=-0.409, max=0.258}; {0,1,1,0,0,1,1,0,1,0,1,0}\n",
       "\t\n"
      ]
     },
     "execution_count": 86,
     "metadata": {},
     "output_type": "execute_result"
    },
    {
     "data": {
      "text/plain": [
       "203; 0.192;0.063784;0.833333; {min=-0.647, max=0.247}; {min=-0.410, max=0.294}; {0,1,1,0,0,1,1,0,0,1,1,0}\n",
       "\t\n"
      ]
     },
     "execution_count": 86,
     "metadata": {},
     "output_type": "execute_result"
    },
    {
     "data": {
      "text/plain": [
       "204; 0.188;0.051430;0.600000; {min=-0.647, max=0.247}; {min=-0.410, max=0.258}; {0,1,1,0,0,1,1,0,1,0,1,0}\n",
       "\t\n"
      ]
     },
     "execution_count": 86,
     "metadata": {},
     "output_type": "execute_result"
    },
    {
     "data": {
      "text/plain": [
       "205; 0.184;0.051413;0.600000; {min=-0.647, max=0.247}; {min=-0.410, max=0.258}; {0,1,1,0,0,1,1,0,1,0,1,0}\n",
       "\t\n"
      ]
     },
     "execution_count": 86,
     "metadata": {},
     "output_type": "execute_result"
    },
    {
     "data": {
      "text/plain": [
       "206; 0.180;0.051395;0.600000; {min=-0.647, max=0.247}; {min=-0.410, max=0.258}; {0,1,1,0,0,1,1,0,1,0,1,0}\n",
       "\t\n"
      ]
     },
     "execution_count": 86,
     "metadata": {},
     "output_type": "execute_result"
    },
    {
     "data": {
      "text/plain": [
       "207; 0.176;0.132107;0.285714; {min=-0.661, max=0.000}; {min=-0.410, max=0.504}; {0,1,0,1,1,0,1,0,1,0,1,0}\n",
       "\t\n"
      ]
     },
     "execution_count": 86,
     "metadata": {},
     "output_type": "execute_result"
    },
    {
     "data": {
      "text/plain": [
       "208; 0.172;0.066776;0.000000; {min=-1.000, max=0.000}; {min=-0.410, max=0.170}; {1,0,0,1,1,0,1,0,1,0,1,0}\n",
       "\t\n"
      ]
     },
     "execution_count": 86,
     "metadata": {},
     "output_type": "execute_result"
    },
    {
     "data": {
      "text/plain": [
       "209; 0.168;0.145899;0.500000; {min=-0.647, max=0.227}; {min=-0.410, max=0.656}; {0,1,1,0,0,1,0,1,1,0,1,0}\n",
       "\t\n"
      ]
     },
     "execution_count": 86,
     "metadata": {},
     "output_type": "execute_result"
    },
    {
     "data": {
      "text/plain": [
       "210; 0.164;0.051324;0.600000; {min=-0.647, max=0.247}; {min=-0.410, max=0.257}; {0,1,1,0,0,1,1,0,1,0,1,0}\n",
       "\t\n"
      ]
     },
     "execution_count": 86,
     "metadata": {},
     "output_type": "execute_result"
    },
    {
     "data": {
      "text/plain": [
       "211; 0.160;0.049592;0.500000; {min=-0.647, max=0.247}; {min=-0.410, max=0.257}; {0,1,1,0,0,1,1,0,1,0,0,1}\n",
       "\t\n"
      ]
     },
     "execution_count": 86,
     "metadata": {},
     "output_type": "execute_result"
    },
    {
     "data": {
      "text/plain": [
       "212; 0.156;0.051288;0.600000; {min=-0.647, max=0.247}; {min=-0.410, max=0.257}; {0,1,1,0,0,1,1,0,1,0,1,0}\n",
       "\t\n"
      ]
     },
     "execution_count": 86,
     "metadata": {},
     "output_type": "execute_result"
    },
    {
     "data": {
      "text/plain": [
       "213; 0.152;0.051270;0.600000; {min=-0.647, max=0.247}; {min=-0.410, max=0.257}; {0,1,1,0,0,1,1,0,1,0,1,0}\n",
       "\t\n"
      ]
     },
     "execution_count": 86,
     "metadata": {},
     "output_type": "execute_result"
    },
    {
     "data": {
      "text/plain": [
       "214; 0.148;0.051253;0.600000; {min=-0.647, max=0.247}; {min=-0.410, max=0.257}; {0,1,1,0,0,1,1,0,1,0,1,0}\n",
       "\t\n"
      ]
     },
     "execution_count": 86,
     "metadata": {},
     "output_type": "execute_result"
    },
    {
     "data": {
      "text/plain": [
       "215; 0.144;0.051235;0.600000; {min=-0.647, max=0.247}; {min=-0.410, max=0.257}; {0,1,1,0,0,1,1,0,1,0,1,0}\n",
       "\t\n"
      ]
     },
     "execution_count": 86,
     "metadata": {},
     "output_type": "execute_result"
    },
    {
     "data": {
      "text/plain": [
       "216; 0.140;0.091892;0.240000; {min=-0.661, max=0.000}; {min=-0.410, max=0.504}; {0,1,0,1,1,0,1,0,1,0,0,1}\n",
       "\t\n"
      ]
     },
     "execution_count": 86,
     "metadata": {},
     "output_type": "execute_result"
    },
    {
     "data": {
      "text/plain": [
       "217; 0.136;0.051201;0.600000; {min=-0.647, max=0.247}; {min=-0.410, max=0.257}; {0,1,1,0,0,1,1,0,1,0,1,0}\n",
       "\t\n"
      ]
     },
     "execution_count": 86,
     "metadata": {},
     "output_type": "execute_result"
    },
    {
     "data": {
      "text/plain": [
       "218; 0.132;0.145567;0.500000; {min=-0.647, max=0.227}; {min=-0.410, max=0.655}; {0,1,1,0,0,1,0,1,1,0,1,0}\n",
       "\t\n"
      ]
     },
     "execution_count": 86,
     "metadata": {},
     "output_type": "execute_result"
    },
    {
     "data": {
      "text/plain": [
       "219; 0.128;0.051166;0.600000; {min=-0.647, max=0.247}; {min=-0.410, max=0.257}; {0,1,1,0,0,1,1,0,1,0,1,0}\n",
       "\t\n"
      ]
     },
     "execution_count": 86,
     "metadata": {},
     "output_type": "execute_result"
    },
    {
     "data": {
      "text/plain": [
       "220; 0.124;0.051147;0.600000; {min=-0.647, max=0.247}; {min=-0.410, max=0.257}; {0,1,1,0,0,1,1,0,1,0,1,0}\n",
       "\t\n"
      ]
     },
     "execution_count": 86,
     "metadata": {},
     "output_type": "execute_result"
    },
    {
     "data": {
      "text/plain": [
       "221; 0.120;0.051129;0.600000; {min=-0.647, max=0.247}; {min=-0.410, max=0.256}; {0,1,1,0,0,1,1,0,1,0,1,0}\n",
       "\t\n"
      ]
     },
     "execution_count": 86,
     "metadata": {},
     "output_type": "execute_result"
    },
    {
     "data": {
      "text/plain": [
       "222; 0.116;0.066622;0.000000; {min=-1.000, max=0.000}; {min=-0.410, max=0.169}; {1,0,0,1,1,0,1,0,1,0,1,0}\n",
       "\t\n"
      ]
     },
     "execution_count": 86,
     "metadata": {},
     "output_type": "execute_result"
    },
    {
     "data": {
      "text/plain": [
       "223; 0.112;0.051095;0.600000; {min=-0.647, max=0.247}; {min=-0.410, max=0.256}; {0,1,1,0,0,1,1,0,1,0,1,0}\n",
       "\t\n"
      ]
     },
     "execution_count": 86,
     "metadata": {},
     "output_type": "execute_result"
    },
    {
     "data": {
      "text/plain": [
       "224; 0.108;0.051078;0.600000; {min=-0.647, max=0.247}; {min=-0.410, max=0.256}; {0,1,1,0,0,1,1,0,1,0,1,0}\n",
       "\t\n"
      ]
     },
     "execution_count": 86,
     "metadata": {},
     "output_type": "execute_result"
    },
    {
     "data": {
      "text/plain": [
       "225; 0.104;0.046889;0.352941; {min=-0.647, max=0.000}; {min=-0.410, max=0.229}; {0,1,1,0,1,0,1,0,1,0,1,0}\n",
       "\t\n"
      ]
     },
     "execution_count": 86,
     "metadata": {},
     "output_type": "execute_result"
    },
    {
     "data": {
      "text/plain": [
       "226; 0.100;0.051044;0.600000; {min=-0.647, max=0.247}; {min=-0.410, max=0.256}; {0,1,1,0,0,1,1,0,1,0,1,0}\n",
       "\t\n"
      ]
     },
     "execution_count": 86,
     "metadata": {},
     "output_type": "execute_result"
    },
    {
     "data": {
      "text/plain": [
       "227; 0.100;0.051028;0.600000; {min=-0.647, max=0.247}; {min=-0.410, max=0.256}; {0,1,1,0,0,1,1,0,1,0,1,0}\n",
       "\t\n"
      ]
     },
     "execution_count": 86,
     "metadata": {},
     "output_type": "execute_result"
    },
    {
     "data": {
      "text/plain": [
       "228; 0.100;0.051011;0.600000; {min=-0.647, max=0.247}; {min=-0.411, max=0.256}; {0,1,1,0,0,1,1,0,1,0,1,0}\n",
       "\t\n"
      ]
     },
     "execution_count": 86,
     "metadata": {},
     "output_type": "execute_result"
    },
    {
     "data": {
      "text/plain": [
       "229; 0.100;0.050995;0.600000; {min=-0.647, max=0.247}; {min=-0.411, max=0.256}; {0,1,1,0,0,1,1,0,1,0,1,0}\n",
       "\t\n"
      ]
     },
     "execution_count": 86,
     "metadata": {},
     "output_type": "execute_result"
    },
    {
     "data": {
      "text/plain": [
       "230; 0.100;0.050978;0.600000; {min=-0.647, max=0.247}; {min=-0.411, max=0.256}; {0,1,1,0,0,1,1,0,1,0,1,0}\n",
       "\t\n"
      ]
     },
     "execution_count": 86,
     "metadata": {},
     "output_type": "execute_result"
    },
    {
     "data": {
      "text/plain": [
       "231; 0.100;0.145120;0.500000; {min=-0.647, max=0.227}; {min=-0.411, max=0.654}; {0,1,1,0,0,1,0,1,1,0,1,0}\n",
       "\t\n"
      ]
     },
     "execution_count": 86,
     "metadata": {},
     "output_type": "execute_result"
    },
    {
     "data": {
      "text/plain": [
       "232; 0.100;0.050944;0.600000; {min=-0.647, max=0.247}; {min=-0.411, max=0.256}; {0,1,1,0,0,1,1,0,1,0,1,0}\n",
       "\t\n"
      ]
     },
     "execution_count": 86,
     "metadata": {},
     "output_type": "execute_result"
    },
    {
     "data": {
      "text/plain": [
       "233; 0.100;0.063421;0.833333; {min=-0.647, max=0.247}; {min=-0.411, max=0.292}; {0,1,1,0,0,1,1,0,0,1,1,0}\n",
       "\t\n"
      ]
     },
     "execution_count": 86,
     "metadata": {},
     "output_type": "execute_result"
    },
    {
     "data": {
      "text/plain": [
       "234; 0.100;0.050908;0.600000; {min=-0.647, max=0.247}; {min=-0.411, max=0.255}; {0,1,1,0,0,1,1,0,1,0,1,0}\n",
       "\t\n"
      ]
     },
     "execution_count": 86,
     "metadata": {},
     "output_type": "execute_result"
    },
    {
     "data": {
      "text/plain": [
       "235; 0.100;0.050890;0.600000; {min=-0.647, max=0.247}; {min=-0.411, max=0.255}; {0,1,1,0,0,1,1,0,1,0,1,0}\n",
       "\t\n"
      ]
     },
     "execution_count": 86,
     "metadata": {},
     "output_type": "execute_result"
    },
    {
     "data": {
      "text/plain": [
       "236; 0.100;0.050872;0.600000; {min=-0.647, max=0.247}; {min=-0.411, max=0.255}; {0,1,1,0,0,1,1,0,1,0,1,0}\n",
       "\t\n"
      ]
     },
     "execution_count": 86,
     "metadata": {},
     "output_type": "execute_result"
    },
    {
     "data": {
      "text/plain": [
       "237; 0.100;0.050855;0.600000; {min=-0.647, max=0.247}; {min=-0.411, max=0.255}; {0,1,1,0,0,1,1,0,1,0,1,0}\n",
       "\t\n"
      ]
     },
     "execution_count": 86,
     "metadata": {},
     "output_type": "execute_result"
    },
    {
     "data": {
      "text/plain": [
       "238; 0.100;0.130861;0.285714; {min=-0.661, max=0.000}; {min=-0.411, max=0.502}; {0,1,0,1,1,0,1,0,1,0,1,0}\n",
       "\t\n"
      ]
     },
     "execution_count": 86,
     "metadata": {},
     "output_type": "execute_result"
    },
    {
     "data": {
      "text/plain": [
       "239; 0.100;0.050819;0.600000; {min=-0.647, max=0.247}; {min=-0.411, max=0.255}; {0,1,1,0,0,1,1,0,1,0,1,0}\n",
       "\t\n"
      ]
     },
     "execution_count": 86,
     "metadata": {},
     "output_type": "execute_result"
    },
    {
     "data": {
      "text/plain": [
       "240; 0.100;0.066446;0.000000; {min=-1.000, max=0.000}; {min=-0.411, max=0.168}; {1,0,0,1,1,0,1,0,1,0,1,0}\n",
       "\t\n"
      ]
     },
     "execution_count": 86,
     "metadata": {},
     "output_type": "execute_result"
    },
    {
     "data": {
      "text/plain": [
       "241; 0.100;0.050784;0.600000; {min=-0.647, max=0.247}; {min=-0.411, max=0.255}; {0,1,1,0,0,1,1,0,1,0,1,0}\n",
       "\t\n"
      ]
     },
     "execution_count": 86,
     "metadata": {},
     "output_type": "execute_result"
    },
    {
     "data": {
      "text/plain": [
       "242; 0.100;0.050767;0.600000; {min=-0.647, max=0.247}; {min=-0.411, max=0.255}; {0,1,1,0,0,1,1,0,1,0,1,0}\n",
       "\t\n"
      ]
     },
     "execution_count": 86,
     "metadata": {},
     "output_type": "execute_result"
    },
    {
     "data": {
      "text/plain": [
       "243; 0.100;0.049168;0.500000; {min=-0.647, max=0.247}; {min=-0.411, max=0.255}; {0,1,1,0,0,1,1,0,1,0,0,1}\n",
       "\t\n"
      ]
     },
     "execution_count": 86,
     "metadata": {},
     "output_type": "execute_result"
    },
    {
     "data": {
      "text/plain": [
       "244; 0.100;0.066404;0.000000; {min=-1.000, max=0.000}; {min=-0.411, max=0.168}; {1,0,0,1,1,0,1,0,1,0,1,0}\n",
       "\t\n"
      ]
     },
     "execution_count": 86,
     "metadata": {},
     "output_type": "execute_result"
    },
    {
     "data": {
      "text/plain": [
       "245; 0.100;0.050717;0.600000; {min=-0.647, max=0.247}; {min=-0.411, max=0.255}; {0,1,1,0,0,1,1,0,1,0,1,0}\n",
       "\t\n"
      ]
     },
     "execution_count": 86,
     "metadata": {},
     "output_type": "execute_result"
    },
    {
     "data": {
      "text/plain": [
       "246; 0.100;0.063266;0.833333; {min=-0.647, max=0.247}; {min=-0.411, max=0.291}; {0,1,1,0,0,1,1,0,0,1,1,0}\n",
       "\t\n"
      ]
     },
     "execution_count": 86,
     "metadata": {},
     "output_type": "execute_result"
    },
    {
     "data": {
      "text/plain": [
       "247; 0.100;0.050686;0.600000; {min=-0.647, max=0.247}; {min=-0.411, max=0.254}; {0,1,1,0,0,1,1,0,1,0,1,0}\n",
       "\t\n"
      ]
     },
     "execution_count": 86,
     "metadata": {},
     "output_type": "execute_result"
    },
    {
     "data": {
      "text/plain": [
       "248; 0.100;0.130465;0.285714; {min=-0.661, max=0.000}; {min=-0.411, max=0.502}; {0,1,0,1,1,0,1,0,1,0,1,0}\n",
       "\t\n"
      ]
     },
     "execution_count": 86,
     "metadata": {},
     "output_type": "execute_result"
    },
    {
     "data": {
      "text/plain": [
       "249; 0.100;0.050652;0.600000; {min=-0.647, max=0.247}; {min=-0.411, max=0.254}; {0,1,1,0,0,1,1,0,1,0,1,0}\n",
       "\t\n"
      ]
     },
     "execution_count": 86,
     "metadata": {},
     "output_type": "execute_result"
    },
    {
     "data": {
      "text/plain": [
       "250; 0.100;0.050635;0.600000; {min=-0.647, max=0.247}; {min=-0.411, max=0.254}; {0,1,1,0,0,1,1,0,1,0,1,0}\n",
       "\t\n"
      ]
     },
     "execution_count": 86,
     "metadata": {},
     "output_type": "execute_result"
    },
    {
     "data": {
      "text/plain": [
       "251; 0.100;0.050618;0.600000; {min=-0.647, max=0.247}; {min=-0.411, max=0.254}; {0,1,1,0,0,1,1,0,1,0,1,0}\n",
       "\t\n"
      ]
     },
     "execution_count": 86,
     "metadata": {},
     "output_type": "execute_result"
    },
    {
     "data": {
      "text/plain": [
       "252; 0.100;0.066320;0.000000; {min=-1.000, max=0.000}; {min=-0.411, max=0.168}; {1,0,0,1,1,0,1,0,1,0,1,0}\n",
       "\t\n"
      ]
     },
     "execution_count": 86,
     "metadata": {},
     "output_type": "execute_result"
    },
    {
     "data": {
      "text/plain": [
       "253; 0.100;0.050585;0.600000; {min=-0.647, max=0.247}; {min=-0.411, max=0.254}; {0,1,1,0,0,1,1,0,1,0,1,0}\n",
       "\t\n"
      ]
     },
     "execution_count": 86,
     "metadata": {},
     "output_type": "execute_result"
    },
    {
     "data": {
      "text/plain": [
       "254; 0.100;0.050569;0.600000; {min=-0.647, max=0.247}; {min=-0.411, max=0.254}; {0,1,1,0,0,1,1,0,1,0,1,0}\n",
       "\t\n"
      ]
     },
     "execution_count": 86,
     "metadata": {},
     "output_type": "execute_result"
    },
    {
     "data": {
      "text/plain": [
       "255; 0.100;0.050553;0.600000; {min=-0.647, max=0.247}; {min=-0.412, max=0.254}; {0,1,1,0,0,1,1,0,1,0,1,0}\n",
       "\t\n"
      ]
     },
     "execution_count": 86,
     "metadata": {},
     "output_type": "execute_result"
    },
    {
     "data": {
      "text/plain": [
       "256; 0.100;0.050537;0.600000; {min=-0.647, max=0.247}; {min=-0.412, max=0.254}; {0,1,1,0,0,1,1,0,1,0,1,0}\n",
       "\t\n"
      ]
     },
     "execution_count": 86,
     "metadata": {},
     "output_type": "execute_result"
    },
    {
     "data": {
      "text/plain": [
       "257; 0.100;0.050521;0.600000; {min=-0.647, max=0.247}; {min=-0.412, max=0.254}; {0,1,1,0,0,1,1,0,1,0,1,0}\n",
       "\t\n"
      ]
     },
     "execution_count": 86,
     "metadata": {},
     "output_type": "execute_result"
    },
    {
     "data": {
      "text/plain": [
       "258; 0.100;0.139549;0.714286; {min=-0.647, max=0.227}; {min=-0.412, max=0.710}; {0,1,1,0,0,1,0,1,0,1,1,0}\n",
       "\t\n"
      ]
     },
     "execution_count": 86,
     "metadata": {},
     "output_type": "execute_result"
    },
    {
     "data": {
      "text/plain": [
       "259; 0.100;0.063117;0.833333; {min=-0.647, max=0.247}; {min=-0.412, max=0.290}; {0,1,1,0,0,1,1,0,0,1,1,0}\n",
       "\t\n"
      ]
     },
     "execution_count": 86,
     "metadata": {},
     "output_type": "execute_result"
    },
    {
     "data": {
      "text/plain": [
       "260; 0.100;0.050469;0.600000; {min=-0.647, max=0.247}; {min=-0.412, max=0.253}; {0,1,1,0,0,1,1,0,1,0,1,0}\n",
       "\t\n"
      ]
     },
     "execution_count": 86,
     "metadata": {},
     "output_type": "execute_result"
    },
    {
     "data": {
      "text/plain": [
       "261; 0.100;0.050452;0.600000; {min=-0.647, max=0.247}; {min=-0.412, max=0.253}; {0,1,1,0,0,1,1,0,1,0,1,0}\n",
       "\t\n"
      ]
     },
     "execution_count": 86,
     "metadata": {},
     "output_type": "execute_result"
    },
    {
     "data": {
      "text/plain": [
       "262; 0.100;0.144061;0.500000; {min=-0.647, max=0.227}; {min=-0.412, max=0.652}; {0,1,1,0,0,1,0,1,1,0,1,0}\n",
       "\t\n"
      ]
     },
     "execution_count": 86,
     "metadata": {},
     "output_type": "execute_result"
    },
    {
     "data": {
      "text/plain": [
       "263; 0.100;0.048913;0.500000; {min=-0.647, max=0.247}; {min=-0.412, max=0.253}; {0,1,1,0,0,1,1,0,1,0,0,1}\n",
       "\t\n"
      ]
     },
     "execution_count": 86,
     "metadata": {},
     "output_type": "execute_result"
    },
    {
     "data": {
      "text/plain": [
       "264; 0.100;0.050397;0.600000; {min=-0.647, max=0.247}; {min=-0.412, max=0.253}; {0,1,1,0,0,1,1,0,1,0,1,0}\n",
       "\t\n"
      ]
     },
     "execution_count": 86,
     "metadata": {},
     "output_type": "execute_result"
    },
    {
     "data": {
      "text/plain": [
       "265; 0.100;0.050379;0.600000; {min=-0.647, max=0.247}; {min=-0.412, max=0.253}; {0,1,1,0,0,1,1,0,1,0,1,0}\n",
       "\t\n"
      ]
     },
     "execution_count": 86,
     "metadata": {},
     "output_type": "execute_result"
    },
    {
     "data": {
      "text/plain": [
       "266; 0.100;0.050361;0.600000; {min=-0.647, max=0.247}; {min=-0.412, max=0.253}; {0,1,1,0,0,1,1,0,1,0,1,0}\n",
       "\t\n"
      ]
     },
     "execution_count": 86,
     "metadata": {},
     "output_type": "execute_result"
    },
    {
     "data": {
      "text/plain": [
       "267; 0.100;0.048855;0.500000; {min=-0.647, max=0.247}; {min=-0.412, max=0.253}; {0,1,1,0,0,1,1,0,1,0,0,1}\n",
       "\t\n"
      ]
     },
     "execution_count": 86,
     "metadata": {},
     "output_type": "execute_result"
    },
    {
     "data": {
      "text/plain": [
       "268; 0.100;0.050326;0.600000; {min=-0.647, max=0.247}; {min=-0.412, max=0.253}; {0,1,1,0,0,1,1,0,1,0,1,0}\n",
       "\t\n"
      ]
     },
     "execution_count": 86,
     "metadata": {},
     "output_type": "execute_result"
    },
    {
     "data": {
      "text/plain": [
       "269; 0.100;0.050308;0.600000; {min=-0.647, max=0.247}; {min=-0.412, max=0.253}; {0,1,1,0,0,1,1,0,1,0,1,0}\n",
       "\t\n"
      ]
     },
     "execution_count": 86,
     "metadata": {},
     "output_type": "execute_result"
    },
    {
     "data": {
      "text/plain": [
       "270; 0.100;0.046124;0.352941; {min=-0.647, max=0.000}; {min=-0.412, max=0.226}; {0,1,1,0,1,0,1,0,1,0,1,0}\n",
       "\t\n"
      ]
     },
     "execution_count": 86,
     "metadata": {},
     "output_type": "execute_result"
    },
    {
     "data": {
      "text/plain": [
       "271; 0.100;0.046107;0.352941; {min=-0.647, max=0.000}; {min=-0.412, max=0.226}; {0,1,1,0,1,0,1,0,1,0,1,0}\n",
       "\t\n"
      ]
     },
     "execution_count": 86,
     "metadata": {},
     "output_type": "execute_result"
    },
    {
     "data": {
      "text/plain": [
       "272; 0.100;0.050258;0.600000; {min=-0.647, max=0.247}; {min=-0.412, max=0.253}; {0,1,1,0,0,1,1,0,1,0,1,0}\n",
       "\t\n"
      ]
     },
     "execution_count": 86,
     "metadata": {},
     "output_type": "execute_result"
    },
    {
     "data": {
      "text/plain": [
       "273; 0.100;0.050241;0.600000; {min=-0.647, max=0.247}; {min=-0.412, max=0.252}; {0,1,1,0,0,1,1,0,1,0,1,0}\n",
       "\t\n"
      ]
     },
     "execution_count": 86,
     "metadata": {},
     "output_type": "execute_result"
    },
    {
     "data": {
      "text/plain": [
       "274; 0.100;0.050225;0.600000; {min=-0.647, max=0.247}; {min=-0.412, max=0.252}; {0,1,1,0,0,1,1,0,1,0,1,0}\n",
       "\t\n"
      ]
     },
     "execution_count": 86,
     "metadata": {},
     "output_type": "execute_result"
    },
    {
     "data": {
      "text/plain": [
       "275; 0.100;0.050208;0.600000; {min=-0.647, max=0.247}; {min=-0.412, max=0.252}; {0,1,1,0,0,1,1,0,1,0,1,0}\n",
       "\t\n"
      ]
     },
     "execution_count": 86,
     "metadata": {},
     "output_type": "execute_result"
    },
    {
     "data": {
      "text/plain": [
       "276; 0.100;0.050191;0.600000; {min=-0.647, max=0.247}; {min=-0.412, max=0.252}; {0,1,1,0,0,1,1,0,1,0,1,0}\n",
       "\t\n"
      ]
     },
     "execution_count": 86,
     "metadata": {},
     "output_type": "execute_result"
    },
    {
     "data": {
      "text/plain": [
       "277; 0.100;0.050175;0.600000; {min=-0.647, max=0.247}; {min=-0.412, max=0.252}; {0,1,1,0,0,1,1,0,1,0,1,0}\n",
       "\t\n"
      ]
     },
     "execution_count": 86,
     "metadata": {},
     "output_type": "execute_result"
    },
    {
     "data": {
      "text/plain": [
       "278; 0.100;0.050158;0.600000; {min=-0.647, max=0.247}; {min=-0.412, max=0.252}; {0,1,1,0,0,1,1,0,1,0,1,0}\n",
       "\t\n"
      ]
     },
     "execution_count": 86,
     "metadata": {},
     "output_type": "execute_result"
    },
    {
     "data": {
      "text/plain": [
       "279; 0.100;0.050142;0.600000; {min=-0.647, max=0.247}; {min=-0.412, max=0.252}; {0,1,1,0,0,1,1,0,1,0,1,0}\n",
       "\t\n"
      ]
     },
     "execution_count": 86,
     "metadata": {},
     "output_type": "execute_result"
    },
    {
     "data": {
      "text/plain": [
       "280; 0.100;0.050125;0.600000; {min=-0.647, max=0.247}; {min=-0.412, max=0.252}; {0,1,1,0,0,1,1,0,1,0,1,0}\n",
       "\t\n"
      ]
     },
     "execution_count": 86,
     "metadata": {},
     "output_type": "execute_result"
    },
    {
     "data": {
      "text/plain": [
       "281; 0.100;0.050109;0.600000; {min=-0.647, max=0.247}; {min=-0.412, max=0.252}; {0,1,1,0,0,1,1,0,1,0,1,0}\n",
       "\t\n"
      ]
     },
     "execution_count": 86,
     "metadata": {},
     "output_type": "execute_result"
    },
    {
     "data": {
      "text/plain": [
       "282; 0.100;0.050092;0.600000; {min=-0.647, max=0.247}; {min=-0.412, max=0.252}; {0,1,1,0,0,1,1,0,1,0,1,0}\n",
       "\t\n"
      ]
     },
     "execution_count": 86,
     "metadata": {},
     "output_type": "execute_result"
    },
    {
     "data": {
      "text/plain": [
       "283; 0.100;0.050076;0.600000; {min=-0.647, max=0.247}; {min=-0.412, max=0.252}; {0,1,1,0,0,1,1,0,1,0,1,0}\n",
       "\t\n"
      ]
     },
     "execution_count": 86,
     "metadata": {},
     "output_type": "execute_result"
    },
    {
     "data": {
      "text/plain": [
       "284; 0.100;0.062832;0.833333; {min=-0.647, max=0.247}; {min=-0.413, max=0.288}; {0,1,1,0,0,1,1,0,0,1,1,0}\n",
       "\t\n"
      ]
     },
     "execution_count": 86,
     "metadata": {},
     "output_type": "execute_result"
    },
    {
     "data": {
      "text/plain": [
       "285; 0.100;0.050042;0.600000; {min=-0.647, max=0.247}; {min=-0.413, max=0.252}; {0,1,1,0,0,1,1,0,1,0,1,0}\n",
       "\t\n"
      ]
     },
     "execution_count": 86,
     "metadata": {},
     "output_type": "execute_result"
    },
    {
     "data": {
      "text/plain": [
       "286; 0.100;0.050026;0.600000; {min=-0.647, max=0.247}; {min=-0.413, max=0.252}; {0,1,1,0,0,1,1,0,1,0,1,0}\n",
       "\t\n"
      ]
     },
     "execution_count": 86,
     "metadata": {},
     "output_type": "execute_result"
    },
    {
     "data": {
      "text/plain": [
       "287; 0.100;0.062798;0.833333; {min=-0.647, max=0.247}; {min=-0.413, max=0.287}; {0,1,1,0,0,1,1,0,0,1,1,0}\n",
       "\t\n"
      ]
     },
     "execution_count": 86,
     "metadata": {},
     "output_type": "execute_result"
    },
    {
     "data": {
      "text/plain": [
       "288; 0.100;0.049992;0.600000; {min=-0.647, max=0.247}; {min=-0.413, max=0.251}; {0,1,1,0,0,1,1,0,1,0,1,0}\n",
       "\t\n"
      ]
     },
     "execution_count": 86,
     "metadata": {},
     "output_type": "execute_result"
    },
    {
     "data": {
      "text/plain": [
       "289; 0.100;0.049975;0.600000; {min=-0.647, max=0.247}; {min=-0.413, max=0.251}; {0,1,1,0,0,1,1,0,1,0,1,0}\n",
       "\t\n"
      ]
     },
     "execution_count": 86,
     "metadata": {},
     "output_type": "execute_result"
    },
    {
     "data": {
      "text/plain": [
       "290; 0.100;0.049958;0.600000; {min=-0.647, max=0.247}; {min=-0.413, max=0.251}; {0,1,1,0,0,1,1,0,1,0,1,0}\n",
       "\t\n"
      ]
     },
     "execution_count": 86,
     "metadata": {},
     "output_type": "execute_result"
    },
    {
     "data": {
      "text/plain": [
       "291; 0.100;0.049941;0.600000; {min=-0.647, max=0.247}; {min=-0.413, max=0.251}; {0,1,1,0,0,1,1,0,1,0,1,0}\n",
       "\t\n"
      ]
     },
     "execution_count": 86,
     "metadata": {},
     "output_type": "execute_result"
    },
    {
     "data": {
      "text/plain": [
       "292; 0.100;0.143131;0.500000; {min=-0.647, max=0.227}; {min=-0.413, max=0.650}; {0,1,1,0,0,1,0,1,1,0,1,0}\n",
       "\t\n"
      ]
     },
     "execution_count": 86,
     "metadata": {},
     "output_type": "execute_result"
    },
    {
     "data": {
      "text/plain": [
       "293; 0.100;0.045742;0.352941; {min=-0.647, max=0.000}; {min=-0.413, max=0.224}; {0,1,1,0,1,0,1,0,1,0,1,0}\n",
       "\t\n"
      ]
     },
     "execution_count": 86,
     "metadata": {},
     "output_type": "execute_result"
    },
    {
     "data": {
      "text/plain": [
       "294; 0.100;0.049888;0.600000; {min=-0.647, max=0.247}; {min=-0.413, max=0.251}; {0,1,1,0,0,1,1,0,1,0,1,0}\n",
       "\t\n"
      ]
     },
     "execution_count": 86,
     "metadata": {},
     "output_type": "execute_result"
    },
    {
     "data": {
      "text/plain": [
       "295; 0.100;0.049870;0.600000; {min=-0.647, max=0.247}; {min=-0.413, max=0.251}; {0,1,1,0,0,1,1,0,1,0,1,0}\n",
       "\t\n"
      ]
     },
     "execution_count": 86,
     "metadata": {},
     "output_type": "execute_result"
    },
    {
     "data": {
      "text/plain": [
       "296; 0.100;0.065934;0.000000; {min=-1.000, max=0.000}; {min=-0.413, max=0.166}; {1,0,0,1,1,0,1,0,1,0,1,0}\n",
       "\t\n"
      ]
     },
     "execution_count": 86,
     "metadata": {},
     "output_type": "execute_result"
    },
    {
     "data": {
      "text/plain": [
       "297; 0.100;0.049836;0.600000; {min=-0.647, max=0.247}; {min=-0.413, max=0.251}; {0,1,1,0,0,1,1,0,1,0,1,0}\n",
       "\t\n"
      ]
     },
     "execution_count": 86,
     "metadata": {},
     "output_type": "execute_result"
    },
    {
     "data": {
      "text/plain": [
       "298; 0.100;0.049819;0.600000; {min=-0.647, max=0.247}; {min=-0.413, max=0.251}; {0,1,1,0,0,1,1,0,1,0,1,0}\n",
       "\t\n"
      ]
     },
     "execution_count": 86,
     "metadata": {},
     "output_type": "execute_result"
    },
    {
     "data": {
      "text/plain": [
       "299; 0.100;0.049802;0.600000; {min=-0.647, max=0.247}; {min=-0.413, max=0.250}; {0,1,1,0,0,1,1,0,1,0,1,0}\n",
       "\t\n"
      ]
     },
     "execution_count": 86,
     "metadata": {},
     "output_type": "execute_result"
    },
    {
     "data": {
      "text/plain": [
       "300; 0.100;0.049786;0.600000; {min=-0.647, max=0.247}; {min=-0.413, max=0.250}; {0,1,1,0,0,1,1,0,1,0,1,0}\n",
       "\t\n"
      ]
     },
     "execution_count": 86,
     "metadata": {},
     "output_type": "execute_result"
    },
    {
     "data": {
      "text/plain": [
       "301; 0.100;0.045606;0.352941; {min=-0.647, max=0.000}; {min=-0.413, max=0.224}; {0,1,1,0,1,0,1,0,1,0,1,0}\n",
       "\t\n"
      ]
     },
     "execution_count": 86,
     "metadata": {},
     "output_type": "execute_result"
    },
    {
     "data": {
      "text/plain": [
       "302; 0.100;0.049752;0.600000; {min=-0.647, max=0.247}; {min=-0.413, max=0.250}; {0,1,1,0,0,1,1,0,1,0,1,0}\n",
       "\t\n"
      ]
     },
     "execution_count": 86,
     "metadata": {},
     "output_type": "execute_result"
    },
    {
     "data": {
      "text/plain": [
       "303; 0.100;0.049736;0.600000; {min=-0.647, max=0.247}; {min=-0.413, max=0.250}; {0,1,1,0,0,1,1,0,1,0,1,0}\n",
       "\t\n"
      ]
     },
     "execution_count": 86,
     "metadata": {},
     "output_type": "execute_result"
    },
    {
     "data": {
      "text/plain": [
       "304; 0.100;0.049719;0.600000; {min=-0.647, max=0.247}; {min=-0.413, max=0.250}; {0,1,1,0,0,1,1,0,1,0,1,0}\n",
       "\t\n"
      ]
     },
     "execution_count": 86,
     "metadata": {},
     "output_type": "execute_result"
    },
    {
     "data": {
      "text/plain": [
       "305; 0.100;0.049703;0.600000; {min=-0.647, max=0.247}; {min=-0.413, max=0.250}; {0,1,1,0,0,1,1,0,1,0,1,0}\n",
       "\t\n"
      ]
     },
     "execution_count": 86,
     "metadata": {},
     "output_type": "execute_result"
    },
    {
     "data": {
      "text/plain": [
       "306; 0.100;0.049687;0.600000; {min=-0.647, max=0.247}; {min=-0.413, max=0.250}; {0,1,1,0,0,1,1,0,1,0,1,0}\n",
       "\t\n"
      ]
     },
     "execution_count": 86,
     "metadata": {},
     "output_type": "execute_result"
    },
    {
     "data": {
      "text/plain": [
       "307; 0.100;0.049670;0.600000; {min=-0.647, max=0.247}; {min=-0.413, max=0.250}; {0,1,1,0,0,1,1,0,1,0,1,0}\n",
       "\t\n"
      ]
     },
     "execution_count": 86,
     "metadata": {},
     "output_type": "execute_result"
    },
    {
     "data": {
      "text/plain": [
       "308; 0.100;0.049654;0.600000; {min=-0.647, max=0.247}; {min=-0.413, max=0.250}; {0,1,1,0,0,1,1,0,1,0,1,0}\n",
       "\t\n"
      ]
     },
     "execution_count": 86,
     "metadata": {},
     "output_type": "execute_result"
    },
    {
     "data": {
      "text/plain": [
       "309; 0.100;0.049637;0.600000; {min=-0.647, max=0.247}; {min=-0.413, max=0.250}; {0,1,1,0,0,1,1,0,1,0,1,0}\n",
       "\t\n"
      ]
     },
     "execution_count": 86,
     "metadata": {},
     "output_type": "execute_result"
    },
    {
     "data": {
      "text/plain": [
       "310; 0.100;0.049621;0.600000; {min=-0.647, max=0.247}; {min=-0.413, max=0.250}; {0,1,1,0,0,1,1,0,1,0,1,0}\n",
       "\t\n"
      ]
     },
     "execution_count": 86,
     "metadata": {},
     "output_type": "execute_result"
    },
    {
     "data": {
      "text/plain": [
       "311; 0.100;0.142530;0.500000; {min=-0.647, max=0.227}; {min=-0.413, max=0.649}; {0,1,1,0,0,1,0,1,1,0,1,0}\n",
       "\t\n"
      ]
     },
     "execution_count": 86,
     "metadata": {},
     "output_type": "execute_result"
    },
    {
     "data": {
      "text/plain": [
       "312; 0.100;0.049586;0.600000; {min=-0.647, max=0.247}; {min=-0.413, max=0.249}; {0,1,1,0,0,1,1,0,1,0,1,0}\n",
       "\t\n"
      ]
     },
     "execution_count": 86,
     "metadata": {},
     "output_type": "execute_result"
    },
    {
     "data": {
      "text/plain": [
       "313; 0.100;0.049568;0.600000; {min=-0.647, max=0.247}; {min=-0.413, max=0.249}; {0,1,1,0,0,1,1,0,1,0,1,0}\n",
       "\t\n"
      ]
     },
     "execution_count": 86,
     "metadata": {},
     "output_type": "execute_result"
    },
    {
     "data": {
      "text/plain": [
       "314; 0.100;0.049550;0.600000; {min=-0.647, max=0.247}; {min=-0.414, max=0.249}; {0,1,1,0,0,1,1,0,1,0,1,0}\n",
       "\t\n"
      ]
     },
     "execution_count": 86,
     "metadata": {},
     "output_type": "execute_result"
    },
    {
     "data": {
      "text/plain": [
       "315; 0.100;0.065763;0.000000; {min=-1.000, max=0.000}; {min=-0.414, max=0.165}; {1,0,0,1,1,0,1,0,1,0,1,0}\n",
       "\t\n"
      ]
     },
     "execution_count": 86,
     "metadata": {},
     "output_type": "execute_result"
    },
    {
     "data": {
      "text/plain": [
       "316; 0.100;0.049516;0.600000; {min=-0.647, max=0.247}; {min=-0.414, max=0.249}; {0,1,1,0,0,1,1,0,1,0,1,0}\n",
       "\t\n"
      ]
     },
     "execution_count": 86,
     "metadata": {},
     "output_type": "execute_result"
    },
    {
     "data": {
      "text/plain": [
       "317; 0.100;0.049499;0.600000; {min=-0.647, max=0.247}; {min=-0.414, max=0.249}; {0,1,1,0,0,1,1,0,1,0,1,0}\n",
       "\t\n"
      ]
     },
     "execution_count": 86,
     "metadata": {},
     "output_type": "execute_result"
    },
    {
     "data": {
      "text/plain": [
       "318; 0.100;0.127956;0.285714; {min=-0.661, max=0.000}; {min=-0.414, max=0.497}; {0,1,0,1,1,0,1,0,1,0,1,0}\n",
       "\t\n"
      ]
     },
     "execution_count": 86,
     "metadata": {},
     "output_type": "execute_result"
    },
    {
     "data": {
      "text/plain": [
       "319; 0.100;0.083989;0.666667; {min=-0.647, max=0.314}; {min=-0.414, max=0.360}; {0,1,1,0,1,0,1,0,0,1,1,0}\n",
       "\t\n"
      ]
     },
     "execution_count": 86,
     "metadata": {},
     "output_type": "execute_result"
    },
    {
     "data": {
      "text/plain": [
       "320; 0.100;0.049447;0.600000; {min=-0.647, max=0.247}; {min=-0.414, max=0.249}; {0,1,1,0,0,1,1,0,1,0,1,0}\n",
       "\t\n"
      ]
     },
     "execution_count": 86,
     "metadata": {},
     "output_type": "execute_result"
    },
    {
     "data": {
      "text/plain": [
       "321; 0.100;0.049428;0.600000; {min=-0.647, max=0.247}; {min=-0.414, max=0.249}; {0,1,1,0,0,1,1,0,1,0,1,0}\n",
       "\t\n"
      ]
     },
     "execution_count": 86,
     "metadata": {},
     "output_type": "execute_result"
    },
    {
     "data": {
      "text/plain": [
       "322; 0.100;0.049410;0.600000; {min=-0.647, max=0.247}; {min=-0.414, max=0.249}; {0,1,1,0,0,1,1,0,1,0,1,0}\n",
       "\t\n"
      ]
     },
     "execution_count": 86,
     "metadata": {},
     "output_type": "execute_result"
    },
    {
     "data": {
      "text/plain": [
       "323; 0.100;0.048139;0.500000; {min=-0.647, max=0.247}; {min=-0.414, max=0.249}; {0,1,1,0,0,1,1,0,1,0,0,1}\n",
       "\t\n"
      ]
     },
     "execution_count": 86,
     "metadata": {},
     "output_type": "execute_result"
    },
    {
     "data": {
      "text/plain": [
       "324; 0.100;0.049375;0.600000; {min=-0.647, max=0.247}; {min=-0.414, max=0.248}; {0,1,1,0,0,1,1,0,1,0,1,0}\n",
       "\t\n"
      ]
     },
     "execution_count": 86,
     "metadata": {},
     "output_type": "execute_result"
    },
    {
     "data": {
      "text/plain": [
       "325; 0.100;0.049358;0.600000; {min=-0.647, max=0.247}; {min=-0.414, max=0.248}; {0,1,1,0,0,1,1,0,1,0,1,0}\n",
       "\t\n"
      ]
     },
     "execution_count": 86,
     "metadata": {},
     "output_type": "execute_result"
    },
    {
     "data": {
      "text/plain": [
       "326; 0.100;0.049340;0.600000; {min=-0.647, max=0.247}; {min=-0.414, max=0.248}; {0,1,1,0,0,1,1,0,1,0,1,0}\n",
       "\t\n"
      ]
     },
     "execution_count": 86,
     "metadata": {},
     "output_type": "execute_result"
    },
    {
     "data": {
      "text/plain": [
       "327; 0.100;0.049323;0.600000; {min=-0.647, max=0.247}; {min=-0.414, max=0.248}; {0,1,1,0,0,1,1,0,1,0,1,0}\n",
       "\t\n"
      ]
     },
     "execution_count": 86,
     "metadata": {},
     "output_type": "execute_result"
    },
    {
     "data": {
      "text/plain": [
       "328; 0.100;0.049306;0.600000; {min=-0.647, max=0.247}; {min=-0.414, max=0.248}; {0,1,1,0,0,1,1,0,1,0,1,0}\n",
       "\t\n"
      ]
     },
     "execution_count": 86,
     "metadata": {},
     "output_type": "execute_result"
    },
    {
     "data": {
      "text/plain": [
       "329; 0.100;0.049289;0.600000; {min=-0.647, max=0.247}; {min=-0.414, max=0.248}; {0,1,1,0,0,1,1,0,1,0,1,0}\n",
       "\t\n"
      ]
     },
     "execution_count": 86,
     "metadata": {},
     "output_type": "execute_result"
    },
    {
     "data": {
      "text/plain": [
       "330; 0.100;0.049272;0.600000; {min=-0.647, max=0.247}; {min=-0.414, max=0.248}; {0,1,1,0,0,1,1,0,1,0,1,0}\n",
       "\t\n"
      ]
     },
     "execution_count": 86,
     "metadata": {},
     "output_type": "execute_result"
    },
    {
     "data": {
      "text/plain": [
       "331; 0.100;0.049256;0.600000; {min=-0.647, max=0.247}; {min=-0.414, max=0.248}; {0,1,1,0,0,1,1,0,1,0,1,0}\n",
       "\t\n"
      ]
     },
     "execution_count": 86,
     "metadata": {},
     "output_type": "execute_result"
    },
    {
     "data": {
      "text/plain": [
       "332; 0.100;0.049239;0.600000; {min=-0.647, max=0.247}; {min=-0.414, max=0.248}; {0,1,1,0,0,1,1,0,1,0,1,0}\n",
       "\t\n"
      ]
     },
     "execution_count": 86,
     "metadata": {},
     "output_type": "execute_result"
    },
    {
     "data": {
      "text/plain": [
       "333; 0.100;0.049222;0.600000; {min=-0.647, max=0.247}; {min=-0.414, max=0.248}; {0,1,1,0,0,1,1,0,1,0,1,0}\n",
       "\t\n"
      ]
     },
     "execution_count": 86,
     "metadata": {},
     "output_type": "execute_result"
    },
    {
     "data": {
      "text/plain": [
       "334; 0.100;0.049205;0.600000; {min=-0.647, max=0.247}; {min=-0.414, max=0.248}; {0,1,1,0,0,1,1,0,1,0,1,0}\n",
       "\t\n"
      ]
     },
     "execution_count": 86,
     "metadata": {},
     "output_type": "execute_result"
    },
    {
     "data": {
      "text/plain": [
       "335; 0.100;0.049189;0.600000; {min=-0.647, max=0.247}; {min=-0.414, max=0.248}; {0,1,1,0,0,1,1,0,1,0,1,0}\n",
       "\t\n"
      ]
     },
     "execution_count": 86,
     "metadata": {},
     "output_type": "execute_result"
    },
    {
     "data": {
      "text/plain": [
       "336; 0.100;0.049172;0.600000; {min=-0.647, max=0.247}; {min=-0.414, max=0.248}; {0,1,1,0,0,1,1,0,1,0,1,0}\n",
       "\t\n"
      ]
     },
     "execution_count": 86,
     "metadata": {},
     "output_type": "execute_result"
    },
    {
     "data": {
      "text/plain": [
       "337; 0.100;0.049155;0.600000; {min=-0.647, max=0.247}; {min=-0.414, max=0.247}; {0,1,1,0,0,1,1,0,1,0,1,0}\n",
       "\t\n"
      ]
     },
     "execution_count": 86,
     "metadata": {},
     "output_type": "execute_result"
    },
    {
     "data": {
      "text/plain": [
       "338; 0.100;0.049139;0.600000; {min=-0.647, max=0.247}; {min=-0.414, max=0.247}; {0,1,1,0,0,1,1,0,1,0,1,0}\n",
       "\t\n"
      ]
     },
     "execution_count": 86,
     "metadata": {},
     "output_type": "execute_result"
    },
    {
     "data": {
      "text/plain": [
       "339; 0.100;0.049122;0.600000; {min=-0.647, max=0.247}; {min=-0.414, max=0.247}; {0,1,1,0,0,1,1,0,1,0,1,0}\n",
       "\t\n"
      ]
     },
     "execution_count": 86,
     "metadata": {},
     "output_type": "execute_result"
    },
    {
     "data": {
      "text/plain": [
       "340; 0.100;0.141562;0.500000; {min=-0.647, max=0.227}; {min=-0.414, max=0.647}; {0,1,1,0,0,1,0,1,1,0,1,0}\n",
       "\t\n"
      ]
     },
     "execution_count": 86,
     "metadata": {},
     "output_type": "execute_result"
    },
    {
     "data": {
      "text/plain": [
       "341; 0.100;0.049088;0.600000; {min=-0.647, max=0.247}; {min=-0.415, max=0.247}; {0,1,1,0,0,1,1,0,1,0,1,0}\n",
       "\t\n"
      ]
     },
     "execution_count": 86,
     "metadata": {},
     "output_type": "execute_result"
    },
    {
     "data": {
      "text/plain": [
       "342; 0.100;0.049070;0.600000; {min=-0.647, max=0.247}; {min=-0.415, max=0.247}; {0,1,1,0,0,1,1,0,1,0,1,0}\n",
       "\t\n"
      ]
     },
     "execution_count": 86,
     "metadata": {},
     "output_type": "execute_result"
    },
    {
     "data": {
      "text/plain": [
       "343; 0.100;0.127015;0.285714; {min=-0.661, max=0.000}; {min=-0.415, max=0.496}; {0,1,0,1,1,0,1,0,1,0,1,0}\n",
       "\t\n"
      ]
     },
     "execution_count": 86,
     "metadata": {},
     "output_type": "execute_result"
    },
    {
     "data": {
      "text/plain": [
       "344; 0.100;0.049033;0.600000; {min=-0.647, max=0.247}; {min=-0.415, max=0.247}; {0,1,1,0,0,1,1,0,1,0,1,0}\n",
       "\t\n"
      ]
     },
     "execution_count": 86,
     "metadata": {},
     "output_type": "execute_result"
    },
    {
     "data": {
      "text/plain": [
       "345; 0.100;0.049015;0.600000; {min=-0.647, max=0.247}; {min=-0.415, max=0.247}; {0,1,1,0,0,1,1,0,1,0,1,0}\n",
       "\t\n"
      ]
     },
     "execution_count": 86,
     "metadata": {},
     "output_type": "execute_result"
    },
    {
     "data": {
      "text/plain": [
       "346; 0.100;0.062103;0.833333; {min=-0.647, max=0.247}; {min=-0.415, max=0.283}; {0,1,1,0,0,1,1,0,0,1,1,0}\n",
       "\t\n"
      ]
     },
     "execution_count": 86,
     "metadata": {},
     "output_type": "execute_result"
    },
    {
     "data": {
      "text/plain": [
       "347; 0.100;0.048978;0.600000; {min=-0.647, max=0.247}; {min=-0.415, max=0.247}; {0,1,1,0,0,1,1,0,1,0,1,0}\n",
       "\t\n"
      ]
     },
     "execution_count": 86,
     "metadata": {},
     "output_type": "execute_result"
    },
    {
     "data": {
      "text/plain": [
       "348; 0.100;0.048960;0.600000; {min=-0.647, max=0.247}; {min=-0.415, max=0.247}; {0,1,1,0,0,1,1,0,1,0,1,0}\n",
       "\t\n"
      ]
     },
     "execution_count": 86,
     "metadata": {},
     "output_type": "execute_result"
    },
    {
     "data": {
      "text/plain": [
       "349; 0.100;0.048942;0.600000; {min=-0.647, max=0.247}; {min=-0.415, max=0.246}; {0,1,1,0,0,1,1,0,1,0,1,0}\n",
       "\t\n"
      ]
     },
     "execution_count": 86,
     "metadata": {},
     "output_type": "execute_result"
    },
    {
     "data": {
      "text/plain": [
       "350; 0.100;0.048924;0.600000; {min=-0.647, max=0.247}; {min=-0.415, max=0.246}; {0,1,1,0,0,1,1,0,1,0,1,0}\n",
       "\t\n"
      ]
     },
     "execution_count": 86,
     "metadata": {},
     "output_type": "execute_result"
    },
    {
     "data": {
      "text/plain": [
       "351; 0.100;0.048907;0.600000; {min=-0.647, max=0.247}; {min=-0.415, max=0.246}; {0,1,1,0,0,1,1,0,1,0,1,0}\n",
       "\t\n"
      ]
     },
     "execution_count": 86,
     "metadata": {},
     "output_type": "execute_result"
    },
    {
     "data": {
      "text/plain": [
       "352; 0.100;0.048889;0.600000; {min=-0.647, max=0.247}; {min=-0.415, max=0.246}; {0,1,1,0,0,1,1,0,1,0,1,0}\n",
       "\t\n"
      ]
     },
     "execution_count": 86,
     "metadata": {},
     "output_type": "execute_result"
    },
    {
     "data": {
      "text/plain": [
       "353; 0.100;0.048872;0.600000; {min=-0.647, max=0.247}; {min=-0.415, max=0.246}; {0,1,1,0,0,1,1,0,1,0,1,0}\n",
       "\t\n"
      ]
     },
     "execution_count": 86,
     "metadata": {},
     "output_type": "execute_result"
    },
    {
     "data": {
      "text/plain": [
       "354; 0.100;0.048855;0.600000; {min=-0.647, max=0.247}; {min=-0.415, max=0.246}; {0,1,1,0,0,1,1,0,1,0,1,0}\n",
       "\t\n"
      ]
     },
     "execution_count": 86,
     "metadata": {},
     "output_type": "execute_result"
    },
    {
     "data": {
      "text/plain": [
       "355; 0.100;0.048838;0.600000; {min=-0.647, max=0.247}; {min=-0.415, max=0.246}; {0,1,1,0,0,1,1,0,1,0,1,0}\n",
       "\t\n"
      ]
     },
     "execution_count": 86,
     "metadata": {},
     "output_type": "execute_result"
    },
    {
     "data": {
      "text/plain": [
       "356; 0.100;0.140999;0.500000; {min=-0.647, max=0.227}; {min=-0.415, max=0.645}; {0,1,1,0,0,1,0,1,1,0,1,0}\n",
       "\t\n"
      ]
     },
     "execution_count": 86,
     "metadata": {},
     "output_type": "execute_result"
    },
    {
     "data": {
      "text/plain": [
       "357; 0.100;0.048802;0.600000; {min=-0.647, max=0.247}; {min=-0.415, max=0.246}; {0,1,1,0,0,1,1,0,1,0,1,0}\n",
       "\t\n"
      ]
     },
     "execution_count": 86,
     "metadata": {},
     "output_type": "execute_result"
    },
    {
     "data": {
      "text/plain": [
       "358; 0.100;0.048784;0.600000; {min=-0.647, max=0.247}; {min=-0.415, max=0.246}; {0,1,1,0,0,1,1,0,1,0,1,0}\n",
       "\t\n"
      ]
     },
     "execution_count": 86,
     "metadata": {},
     "output_type": "execute_result"
    },
    {
     "data": {
      "text/plain": [
       "359; 0.100;0.048766;0.600000; {min=-0.647, max=0.247}; {min=-0.415, max=0.246}; {0,1,1,0,0,1,1,0,1,0,1,0}\n",
       "\t\n"
      ]
     },
     "execution_count": 86,
     "metadata": {},
     "output_type": "execute_result"
    },
    {
     "data": {
      "text/plain": [
       "360; 0.100;inf;0.352941; {min=-622072674255507679535513350228653009488213026317545499938367300776070086714390181748131608679546170866736705247725708658695004592787171617839161044161408950648829540733586989363521260782031555071105507066051028238896983047915175936.000, max=0.000}; {min=-0.415, max=0.219}; {0,1,1,0,1,0,1,0,1,0,1,0}\n",
       "\t\n"
      ]
     },
     "execution_count": 86,
     "metadata": {},
     "output_type": "execute_result"
    },
    {
     "data": {
      "text/plain": [
       "361; 0.100;nan;0.625000; {min=-0.647, max=0.227}; {min=nan, max=nan}; {0,1,1,0,0,1,0,1,0,1,0,1}\n",
       "\t\n"
      ]
     },
     "execution_count": 86,
     "metadata": {},
     "output_type": "execute_result"
    },
    {
     "data": {
      "text/plain": [
       "362; 0.100;nan;0.555556; {min=-0.661, max=0.200}; {min=nan, max=nan}; {0,1,0,1,0,1,0,1,0,1,0,1}\n",
       "\t\n"
      ]
     },
     "execution_count": 86,
     "metadata": {},
     "output_type": "execute_result"
    },
    {
     "data": {
      "text/plain": [
       "363; 0.100;nan;0.555556; {min=-0.661, max=0.200}; {min=nan, max=nan}; {0,1,0,1,0,1,0,1,0,1,0,1}\n",
       "\t\n"
      ]
     },
     "execution_count": 86,
     "metadata": {},
     "output_type": "execute_result"
    },
    {
     "data": {
      "text/plain": [
       "364; 0.100;nan;0.555556; {min=-0.661, max=0.200}; {min=nan, max=nan}; {0,1,0,1,0,1,0,1,0,1,0,1}\n",
       "\t\n"
      ]
     },
     "execution_count": 86,
     "metadata": {},
     "output_type": "execute_result"
    },
    {
     "data": {
      "text/plain": [
       "365; 0.100;nan;0.555556; {min=-0.661, max=0.200}; {min=nan, max=nan}; {0,1,0,1,0,1,0,1,0,1,0,1}\n",
       "\t\n"
      ]
     },
     "execution_count": 86,
     "metadata": {},
     "output_type": "execute_result"
    },
    {
     "data": {
      "text/plain": [
       "366; 0.100;nan;0.555556; {min=-0.661, max=0.200}; {min=nan, max=nan}; {0,1,0,1,0,1,0,1,0,1,0,1}\n",
       "\t\n"
      ]
     },
     "execution_count": 86,
     "metadata": {},
     "output_type": "execute_result"
    },
    {
     "data": {
      "text/plain": [
       "367; 0.100;nan;0.482759; {min=-0.661, max=0.259}; {min=nan, max=nan}; {0,1,0,1,1,0,1,0,0,1,0,1}\n",
       "\t\n"
      ]
     },
     "execution_count": 86,
     "metadata": {},
     "output_type": "execute_result"
    },
    {
     "data": {
      "text/plain": [
       "368; 0.100;nan;0.424242; {min=-0.661, max=0.231}; {min=nan, max=nan}; {0,1,0,1,1,0,0,1,0,1,0,1}\n",
       "\t\n"
      ]
     },
     "execution_count": 86,
     "metadata": {},
     "output_type": "execute_result"
    },
    {
     "data": {
      "text/plain": [
       "369; 0.100;nan;0.555556; {min=-0.661, max=0.200}; {min=nan, max=nan}; {0,1,0,1,0,1,0,1,0,1,0,1}\n",
       "\t\n"
      ]
     },
     "execution_count": 86,
     "metadata": {},
     "output_type": "execute_result"
    },
    {
     "data": {
      "text/plain": [
       "370; 0.100;nan;0.555556; {min=-0.661, max=0.200}; {min=nan, max=nan}; {0,1,0,1,0,1,0,1,0,1,0,1}\n",
       "\t\n"
      ]
     },
     "execution_count": 86,
     "metadata": {},
     "output_type": "execute_result"
    },
    {
     "data": {
      "text/plain": [
       "371; 0.100;nan;0.555556; {min=-0.661, max=0.200}; {min=nan, max=nan}; {0,1,0,1,0,1,0,1,0,1,0,1}\n",
       "\t\n"
      ]
     },
     "execution_count": 86,
     "metadata": {},
     "output_type": "execute_result"
    },
    {
     "data": {
      "text/plain": [
       "372; 0.100;nan;0.424242; {min=-1.000, max=0.277}; {min=nan, max=nan}; {1,0,0,1,0,1,0,1,0,1,0,1}\n",
       "\t\n"
      ]
     },
     "execution_count": 86,
     "metadata": {},
     "output_type": "execute_result"
    },
    {
     "data": {
      "text/plain": [
       "373; 0.100;nan;0.555556; {min=-0.661, max=0.200}; {min=nan, max=nan}; {0,1,0,1,0,1,0,1,0,1,0,1}\n",
       "\t\n"
      ]
     },
     "execution_count": 86,
     "metadata": {},
     "output_type": "execute_result"
    },
    {
     "data": {
      "text/plain": [
       "374; 0.100;nan;0.555556; {min=-0.661, max=0.200}; {min=nan, max=nan}; {0,1,0,1,0,1,0,1,0,1,0,1}\n",
       "\t\n"
      ]
     },
     "execution_count": 86,
     "metadata": {},
     "output_type": "execute_result"
    },
    {
     "data": {
      "text/plain": [
       "375; 0.100;nan;0.555556; {min=-0.661, max=0.200}; {min=nan, max=nan}; {0,1,0,1,0,1,0,1,0,1,0,1}\n",
       "\t\n"
      ]
     },
     "execution_count": 86,
     "metadata": {},
     "output_type": "execute_result"
    },
    {
     "data": {
      "text/plain": [
       "376; 0.100;nan;0.424242; {min=-1.000, max=0.277}; {min=nan, max=nan}; {1,0,0,1,0,1,0,1,0,1,0,1}\n",
       "\t\n"
      ]
     },
     "execution_count": 86,
     "metadata": {},
     "output_type": "execute_result"
    },
    {
     "data": {
      "text/plain": [
       "377; 0.100;nan;0.555556; {min=-0.661, max=0.200}; {min=nan, max=nan}; {0,1,0,1,0,1,0,1,0,1,0,1}\n",
       "\t\n"
      ]
     },
     "execution_count": 86,
     "metadata": {},
     "output_type": "execute_result"
    },
    {
     "data": {
      "text/plain": [
       "378; 0.100;nan;0.625000; {min=-0.661, max=0.214}; {min=nan, max=nan}; {0,1,0,1,0,1,1,0,0,1,0,1}\n",
       "\t\n"
      ]
     },
     "execution_count": 86,
     "metadata": {},
     "output_type": "execute_result"
    },
    {
     "data": {
      "text/plain": [
       "379; 0.100;nan;0.424242; {min=-1.000, max=0.277}; {min=nan, max=nan}; {1,0,0,1,0,1,0,1,0,1,0,1}\n",
       "\t\n"
      ]
     },
     "execution_count": 86,
     "metadata": {},
     "output_type": "execute_result"
    },
    {
     "data": {
      "text/plain": [
       "380; 0.100;nan;0.424242; {min=-1.000, max=0.277}; {min=nan, max=nan}; {1,0,0,1,0,1,0,1,0,1,0,1}\n",
       "\t\n"
      ]
     },
     "execution_count": 86,
     "metadata": {},
     "output_type": "execute_result"
    },
    {
     "data": {
      "text/plain": [
       "381; 0.100;nan;0.555556; {min=-0.661, max=0.200}; {min=nan, max=nan}; {0,1,0,1,0,1,0,1,0,1,0,1}\n",
       "\t\n"
      ]
     },
     "execution_count": 86,
     "metadata": {},
     "output_type": "execute_result"
    },
    {
     "data": {
      "text/plain": [
       "382; 0.100;nan;0.555556; {min=-0.661, max=0.200}; {min=nan, max=nan}; {0,1,0,1,0,1,0,1,0,1,0,1}\n",
       "\t\n"
      ]
     },
     "execution_count": 86,
     "metadata": {},
     "output_type": "execute_result"
    },
    {
     "data": {
      "text/plain": [
       "383; 0.100;nan;0.555556; {min=-5373556972792925947840975863185952851438926810631685305543217370369508691981423648398544411634895763240544206927757961394914213335985104633177681789190144.000, max=0.200}; {min=nan, max=nan}; {0,1,0,1,0,1,0,1,0,1,0,1}\n",
       "\t\n"
      ]
     },
     "execution_count": 86,
     "metadata": {},
     "output_type": "execute_result"
    },
    {
     "data": {
      "text/plain": [
       "384; 0.100;nan;0.555556; {min=-5373556975377364053277800975612341177122950517287058272980482570893451510041980464510383105814595028791713052881641599270439635207183737332447169921155072.000, max=0.200}; {min=nan, max=nan}; {0,1,0,1,0,1,0,1,0,1,0,1}\n",
       "\t\n"
      ]
     },
     "execution_count": 86,
     "metadata": {},
     "output_type": "execute_result"
    },
    {
     "data": {
      "text/plain": [
       "385; 0.100;nan;0.555556; {min=-0.661, max=0.200}; {min=nan, max=nan}; {0,1,0,1,0,1,0,1,0,1,0,1}\n",
       "\t\n"
      ]
     },
     "execution_count": 86,
     "metadata": {},
     "output_type": "execute_result"
    },
    {
     "data": {
      "text/plain": [
       "386; 0.100;nan;0.555556; {min=-0.661, max=0.200}; {min=nan, max=nan}; {0,1,0,1,0,1,0,1,0,1,0,1}\n",
       "\t\n"
      ]
     },
     "execution_count": 86,
     "metadata": {},
     "output_type": "execute_result"
    },
    {
     "data": {
      "text/plain": [
       "387; 0.100;nan;0.555556; {min=-0.661, max=0.200}; {min=nan, max=nan}; {0,1,0,1,0,1,0,1,0,1,0,1}\n",
       "\t\n"
      ]
     },
     "execution_count": 86,
     "metadata": {},
     "output_type": "execute_result"
    },
    {
     "data": {
      "text/plain": [
       "388; 0.100;nan;0.555556; {min=-0.661, max=0.200}; {min=nan, max=nan}; {0,1,0,1,0,1,0,1,0,1,0,1}\n",
       "\t\n"
      ]
     },
     "execution_count": 86,
     "metadata": {},
     "output_type": "execute_result"
    },
    {
     "data": {
      "text/plain": [
       "389; 0.100;nan;0.424242; {min=-1.000, max=0.277}; {min=nan, max=nan}; {1,0,0,1,0,1,0,1,0,1,0,1}\n",
       "\t\n"
      ]
     },
     "execution_count": 86,
     "metadata": {},
     "output_type": "execute_result"
    },
    {
     "data": {
      "text/plain": [
       "390; 0.100;nan;0.555556; {min=-0.661, max=0.200}; {min=nan, max=nan}; {0,1,0,1,0,1,0,1,0,1,0,1}\n",
       "\t\n"
      ]
     },
     "execution_count": 86,
     "metadata": {},
     "output_type": "execute_result"
    },
    {
     "data": {
      "text/plain": [
       "391; 0.100;nan;0.424242; {min=-1.000, max=0.277}; {min=nan, max=nan}; {1,0,0,1,0,1,0,1,0,1,0,1}\n",
       "\t\n"
      ]
     },
     "execution_count": 86,
     "metadata": {},
     "output_type": "execute_result"
    },
    {
     "data": {
      "text/plain": [
       "392; 0.100;nan;0.555556; {min=-0.661, max=0.200}; {min=nan, max=nan}; {0,1,0,1,0,1,0,1,0,1,0,1}\n",
       "\t\n"
      ]
     },
     "execution_count": 86,
     "metadata": {},
     "output_type": "execute_result"
    },
    {
     "data": {
      "text/plain": [
       "393; 0.100;nan;0.424242; {min=-1.000, max=0.277}; {min=nan, max=nan}; {1,0,0,1,0,1,0,1,0,1,0,1}\n",
       "\t\n"
      ]
     },
     "execution_count": 86,
     "metadata": {},
     "output_type": "execute_result"
    },
    {
     "data": {
      "text/plain": [
       "394; 0.100;nan;0.555556; {min=-0.661, max=0.200}; {min=nan, max=nan}; {0,1,0,1,0,1,0,1,0,1,0,1}\n",
       "\t\n"
      ]
     },
     "execution_count": 86,
     "metadata": {},
     "output_type": "execute_result"
    },
    {
     "data": {
      "text/plain": [
       "395; 0.100;nan;0.424242; {min=-0.661, max=0.231}; {min=nan, max=nan}; {0,1,0,1,1,0,0,1,0,1,0,1}\n",
       "\t\n"
      ]
     },
     "execution_count": 86,
     "metadata": {},
     "output_type": "execute_result"
    },
    {
     "data": {
      "text/plain": [
       "396; 0.100;nan;0.714286; {min=-0.661, max=0.214}; {min=nan, max=nan}; {0,1,0,1,0,1,1,0,0,1,1,0}\n",
       "\t\n"
      ]
     },
     "execution_count": 86,
     "metadata": {},
     "output_type": "execute_result"
    },
    {
     "data": {
      "text/plain": [
       "397; 0.100;nan;0.424242; {min=-0.661, max=0.231}; {min=nan, max=nan}; {0,1,0,1,1,0,0,1,0,1,0,1}\n",
       "\t\n"
      ]
     },
     "execution_count": 86,
     "metadata": {},
     "output_type": "execute_result"
    },
    {
     "data": {
      "text/plain": [
       "398; 0.100;nan;0.424242; {min=-1.000, max=0.277}; {min=nan, max=nan}; {1,0,0,1,0,1,0,1,0,1,0,1}\n",
       "\t\n"
      ]
     },
     "execution_count": 86,
     "metadata": {},
     "output_type": "execute_result"
    },
    {
     "data": {
      "text/plain": [
       "399; 0.100;nan;0.555556; {min=-0.661, max=0.200}; {min=nan, max=nan}; {0,1,0,1,0,1,0,1,0,1,0,1}\n",
       "\t\n"
      ]
     },
     "execution_count": 86,
     "metadata": {},
     "output_type": "execute_result"
    },
    {
     "data": {
      "text/plain": [
       "400; 0.100;nan;0.555556; {min=-0.661, max=0.200}; {min=nan, max=nan}; {0,1,0,1,0,1,0,1,0,1,0,1}\n",
       "\t\n"
      ]
     },
     "execution_count": 86,
     "metadata": {},
     "output_type": "execute_result"
    },
    {
     "data": {
      "text/plain": [
       "401; 0.100;nan;0.555556; {min=-0.661, max=0.200}; {min=nan, max=nan}; {0,1,0,1,0,1,0,1,0,1,0,1}\n",
       "\t\n"
      ]
     },
     "execution_count": 86,
     "metadata": {},
     "output_type": "execute_result"
    },
    {
     "data": {
      "text/plain": [
       "402; 0.100;nan;0.482759; {min=-0.661, max=0.259}; {min=nan, max=nan}; {0,1,0,1,1,0,1,0,0,1,0,1}\n",
       "\t\n"
      ]
     },
     "execution_count": 86,
     "metadata": {},
     "output_type": "execute_result"
    },
    {
     "data": {
      "text/plain": [
       "403; 0.100;nan;0.555556; {min=-0.661, max=0.200}; {min=nan, max=nan}; {0,1,0,1,0,1,0,1,0,1,0,1}\n",
       "\t\n"
      ]
     },
     "execution_count": 86,
     "metadata": {},
     "output_type": "execute_result"
    },
    {
     "data": {
      "text/plain": [
       "404; 0.100;nan;0.555556; {min=-0.661, max=0.200}; {min=nan, max=nan}; {0,1,0,1,0,1,0,1,0,1,0,1}\n",
       "\t\n"
      ]
     },
     "execution_count": 86,
     "metadata": {},
     "output_type": "execute_result"
    },
    {
     "data": {
      "text/plain": [
       "405; 0.100;nan;0.555556; {min=-0.661, max=0.200}; {min=nan, max=nan}; {0,1,0,1,0,1,0,1,0,1,0,1}\n",
       "\t\n"
      ]
     },
     "execution_count": 86,
     "metadata": {},
     "output_type": "execute_result"
    },
    {
     "data": {
      "text/plain": [
       "406; 0.100;nan;0.555556; {min=-0.661, max=0.200}; {min=nan, max=nan}; {0,1,0,1,0,1,0,1,0,1,0,1}\n",
       "\t\n"
      ]
     },
     "execution_count": 86,
     "metadata": {},
     "output_type": "execute_result"
    },
    {
     "data": {
      "text/plain": [
       "407; 0.100;nan;0.555556; {min=-0.661, max=0.200}; {min=nan, max=nan}; {0,1,0,1,0,1,0,1,0,1,0,1}\n",
       "\t\n"
      ]
     },
     "execution_count": 86,
     "metadata": {},
     "output_type": "execute_result"
    },
    {
     "data": {
      "text/plain": [
       "408; 0.100;nan;0.424242; {min=-1.000, max=0.277}; {min=nan, max=nan}; {1,0,0,1,0,1,0,1,0,1,0,1}\n",
       "\t\n"
      ]
     },
     "execution_count": 86,
     "metadata": {},
     "output_type": "execute_result"
    },
    {
     "data": {
      "text/plain": [
       "409; 0.100;nan;0.555556; {min=-0.661, max=0.200}; {min=nan, max=nan}; {0,1,0,1,0,1,0,1,0,1,0,1}\n",
       "\t\n"
      ]
     },
     "execution_count": 86,
     "metadata": {},
     "output_type": "execute_result"
    },
    {
     "data": {
      "text/plain": [
       "410; 0.100;nan;0.555556; {min=-0.661, max=0.200}; {min=nan, max=nan}; {0,1,0,1,0,1,0,1,0,1,0,1}\n",
       "\t\n"
      ]
     },
     "execution_count": 86,
     "metadata": {},
     "output_type": "execute_result"
    },
    {
     "data": {
      "text/plain": [
       "411; 0.100;nan;0.714286; {min=-0.661, max=0.214}; {min=nan, max=nan}; {0,1,0,1,0,1,1,0,0,1,1,0}\n",
       "\t\n"
      ]
     },
     "execution_count": 86,
     "metadata": {},
     "output_type": "execute_result"
    },
    {
     "data": {
      "text/plain": [
       "412; 0.100;nan;0.625000; {min=-0.647, max=0.227}; {min=nan, max=nan}; {0,1,1,0,0,1,0,1,0,1,0,1}\n",
       "\t\n"
      ]
     },
     "execution_count": 86,
     "metadata": {},
     "output_type": "execute_result"
    },
    {
     "data": {
      "text/plain": [
       "413; 0.100;nan;0.555556; {min=-0.661, max=0.200}; {min=nan, max=nan}; {0,1,0,1,0,1,0,1,0,1,0,1}\n",
       "\t\n"
      ]
     },
     "execution_count": 86,
     "metadata": {},
     "output_type": "execute_result"
    },
    {
     "data": {
      "text/plain": [
       "414; 0.100;nan;0.625000; {min=-0.647, max=0.227}; {min=nan, max=nan}; {0,1,1,0,0,1,0,1,0,1,0,1}\n",
       "\t\n"
      ]
     },
     "execution_count": 86,
     "metadata": {},
     "output_type": "execute_result"
    },
    {
     "data": {
      "text/plain": [
       "415; 0.100;nan;0.625000; {min=-0.661, max=0.214}; {min=nan, max=nan}; {0,1,0,1,0,1,1,0,0,1,0,1}\n",
       "\t\n"
      ]
     },
     "execution_count": 86,
     "metadata": {},
     "output_type": "execute_result"
    },
    {
     "data": {
      "text/plain": [
       "416; 0.100;nan;0.375000; {min=-0.661, max=0.200}; {min=nan, max=nan}; {0,1,0,1,0,1,0,1,1,0,0,1}\n",
       "\t\n"
      ]
     },
     "execution_count": 86,
     "metadata": {},
     "output_type": "execute_result"
    },
    {
     "data": {
      "text/plain": [
       "417; 0.100;nan;0.555556; {min=-0.661, max=0.200}; {min=nan, max=nan}; {0,1,0,1,0,1,0,1,0,1,0,1}\n",
       "\t\n"
      ]
     },
     "execution_count": 86,
     "metadata": {},
     "output_type": "execute_result"
    },
    {
     "data": {
      "text/plain": [
       "418; 0.100;nan;0.555556; {min=-0.661, max=0.200}; {min=nan, max=nan}; {0,1,0,1,0,1,0,1,0,1,0,1}\n",
       "\t\n"
      ]
     },
     "execution_count": 86,
     "metadata": {},
     "output_type": "execute_result"
    },
    {
     "data": {
      "text/plain": [
       "419; 0.100;nan;0.555556; {min=-0.661, max=0.200}; {min=nan, max=nan}; {0,1,0,1,0,1,0,1,0,1,0,1}\n",
       "\t\n"
      ]
     },
     "execution_count": 86,
     "metadata": {},
     "output_type": "execute_result"
    },
    {
     "data": {
      "text/plain": [
       "420; 0.100;nan;0.555556; {min=-0.661, max=0.200}; {min=nan, max=nan}; {0,1,0,1,0,1,0,1,0,1,0,1}\n",
       "\t\n"
      ]
     },
     "execution_count": 86,
     "metadata": {},
     "output_type": "execute_result"
    },
    {
     "data": {
      "text/plain": [
       "421; 0.100;nan;0.555556; {min=-0.661, max=0.200}; {min=nan, max=nan}; {0,1,0,1,0,1,0,1,0,1,0,1}\n",
       "\t\n"
      ]
     },
     "execution_count": 86,
     "metadata": {},
     "output_type": "execute_result"
    },
    {
     "data": {
      "text/plain": [
       "422; 0.100;nan;0.555556; {min=-0.661, max=0.200}; {min=nan, max=nan}; {0,1,0,1,0,1,0,1,0,1,0,1}\n",
       "\t\n"
      ]
     },
     "execution_count": 86,
     "metadata": {},
     "output_type": "execute_result"
    },
    {
     "data": {
      "text/plain": [
       "423; 0.100;nan;0.625000; {min=-0.647, max=0.227}; {min=nan, max=nan}; {0,1,1,0,0,1,0,1,0,1,0,1}\n",
       "\t\n"
      ]
     },
     "execution_count": 86,
     "metadata": {},
     "output_type": "execute_result"
    },
    {
     "data": {
      "text/plain": [
       "424; 0.100;nan;0.555556; {min=-0.661, max=0.200}; {min=nan, max=nan}; {0,1,0,1,0,1,0,1,0,1,0,1}\n",
       "\t\n"
      ]
     },
     "execution_count": 86,
     "metadata": {},
     "output_type": "execute_result"
    },
    {
     "data": {
      "text/plain": [
       "425; 0.100;nan;0.625000; {min=-0.661, max=0.200}; {min=nan, max=nan}; {0,1,0,1,0,1,0,1,0,1,1,0}\n",
       "\t\n"
      ]
     },
     "execution_count": 86,
     "metadata": {},
     "output_type": "execute_result"
    },
    {
     "data": {
      "text/plain": [
       "426; 0.100;nan;0.555556; {min=-0.661, max=0.200}; {min=nan, max=nan}; {0,1,0,1,0,1,0,1,0,1,0,1}\n",
       "\t\n"
      ]
     },
     "execution_count": 86,
     "metadata": {},
     "output_type": "execute_result"
    },
    {
     "data": {
      "text/plain": [
       "427; 0.100;nan;0.555556; {min=-0.661, max=0.200}; {min=nan, max=nan}; {0,1,0,1,0,1,0,1,0,1,0,1}\n",
       "\t\n"
      ]
     },
     "execution_count": 86,
     "metadata": {},
     "output_type": "execute_result"
    },
    {
     "data": {
      "text/plain": [
       "428; 0.100;nan;0.555556; {min=-0.661, max=0.200}; {min=nan, max=nan}; {0,1,0,1,0,1,0,1,0,1,0,1}\n",
       "\t\n"
      ]
     },
     "execution_count": 86,
     "metadata": {},
     "output_type": "execute_result"
    },
    {
     "data": {
      "text/plain": [
       "429; 0.100;nan;0.424242; {min=-0.661, max=0.231}; {min=nan, max=nan}; {0,1,0,1,1,0,0,1,0,1,0,1}\n",
       "\t\n"
      ]
     },
     "execution_count": 86,
     "metadata": {},
     "output_type": "execute_result"
    },
    {
     "data": {
      "text/plain": [
       "430; 0.100;nan;0.555556; {min=-0.661, max=0.200}; {min=nan, max=nan}; {0,1,0,1,0,1,0,1,0,1,0,1}\n",
       "\t\n"
      ]
     },
     "execution_count": 86,
     "metadata": {},
     "output_type": "execute_result"
    },
    {
     "data": {
      "text/plain": [
       "431; 0.100;nan;0.555556; {min=-0.661, max=0.200}; {min=nan, max=nan}; {0,1,0,1,0,1,0,1,0,1,0,1}\n",
       "\t\n"
      ]
     },
     "execution_count": 86,
     "metadata": {},
     "output_type": "execute_result"
    },
    {
     "data": {
      "text/plain": [
       "432; 0.100;nan;0.555556; {min=-0.661, max=0.200}; {min=nan, max=nan}; {0,1,0,1,0,1,0,1,0,1,0,1}\n",
       "\t\n"
      ]
     },
     "execution_count": 86,
     "metadata": {},
     "output_type": "execute_result"
    },
    {
     "data": {
      "text/plain": [
       "433; 0.100;nan;0.424242; {min=-0.661, max=0.231}; {min=nan, max=nan}; {0,1,0,1,1,0,0,1,0,1,0,1}\n",
       "\t\n"
      ]
     },
     "execution_count": 86,
     "metadata": {},
     "output_type": "execute_result"
    },
    {
     "data": {
      "text/plain": [
       "434; 0.100;nan;0.555556; {min=-0.661, max=0.200}; {min=nan, max=nan}; {0,1,0,1,0,1,0,1,0,1,0,1}\n",
       "\t\n"
      ]
     },
     "execution_count": 86,
     "metadata": {},
     "output_type": "execute_result"
    },
    {
     "data": {
      "text/plain": [
       "435; 0.100;nan;0.555556; {min=-0.661, max=0.200}; {min=nan, max=nan}; {0,1,0,1,0,1,0,1,0,1,0,1}\n",
       "\t\n"
      ]
     },
     "execution_count": 86,
     "metadata": {},
     "output_type": "execute_result"
    },
    {
     "data": {
      "text/plain": [
       "436; 0.100;nan;0.555556; {min=-0.661, max=0.200}; {min=nan, max=nan}; {0,1,0,1,0,1,0,1,0,1,0,1}\n",
       "\t\n"
      ]
     },
     "execution_count": 86,
     "metadata": {},
     "output_type": "execute_result"
    },
    {
     "data": {
      "text/plain": [
       "437; 0.100;nan;0.555556; {min=-0.661, max=5373556969557530615748221670395180171843169194686289149143919275173904671380958810243202144749588863907856254848973450280802974497159005253175865430245376.000}; {min=nan, max=nan}; {0,1,0,1,0,1,0,1,0,1,0,1}\n",
       "\t\n"
      ]
     },
     "execution_count": 86,
     "metadata": {},
     "output_type": "execute_result"
    },
    {
     "data": {
      "text/plain": [
       "438; 0.100;nan;0.555556; {min=-0.661, max=0.200}; {min=nan, max=nan}; {0,1,0,1,0,1,0,1,0,1,0,1}\n",
       "\t\n"
      ]
     },
     "execution_count": 86,
     "metadata": {},
     "output_type": "execute_result"
    },
    {
     "data": {
      "text/plain": [
       "439; 0.100;nan;0.555556; {min=-0.661, max=0.200}; {min=nan, max=nan}; {0,1,0,1,0,1,0,1,0,1,0,1}\n",
       "\t\n"
      ]
     },
     "execution_count": 86,
     "metadata": {},
     "output_type": "execute_result"
    },
    {
     "data": {
      "text/plain": [
       "440; 0.100;nan;0.555556; {min=-0.661, max=0.200}; {min=nan, max=nan}; {0,1,0,1,0,1,0,1,0,1,0,1}\n",
       "\t\n"
      ]
     },
     "execution_count": 86,
     "metadata": {},
     "output_type": "execute_result"
    },
    {
     "data": {
      "text/plain": [
       "441; 0.100;nan;0.555556; {min=-0.661, max=0.200}; {min=nan, max=nan}; {0,1,0,1,0,1,0,1,0,1,0,1}\n",
       "\t\n"
      ]
     },
     "execution_count": 86,
     "metadata": {},
     "output_type": "execute_result"
    },
    {
     "data": {
      "text/plain": [
       "442; 0.100;nan;0.555556; {min=-0.661, max=0.200}; {min=nan, max=nan}; {0,1,0,1,0,1,0,1,0,1,0,1}\n",
       "\t\n"
      ]
     },
     "execution_count": 86,
     "metadata": {},
     "output_type": "execute_result"
    },
    {
     "data": {
      "text/plain": [
       "443; 0.100;nan;0.555556; {min=-0.661, max=0.200}; {min=nan, max=nan}; {0,1,0,1,0,1,0,1,0,1,0,1}\n",
       "\t\n"
      ]
     },
     "execution_count": 86,
     "metadata": {},
     "output_type": "execute_result"
    },
    {
     "data": {
      "text/plain": [
       "444; 0.100;nan;0.555556; {min=-0.661, max=0.200}; {min=nan, max=nan}; {0,1,0,1,0,1,0,1,0,1,0,1}\n",
       "\t\n"
      ]
     },
     "execution_count": 86,
     "metadata": {},
     "output_type": "execute_result"
    },
    {
     "data": {
      "text/plain": [
       "445; 0.100;nan;0.555556; {min=-0.661, max=0.200}; {min=nan, max=nan}; {0,1,0,1,0,1,0,1,0,1,0,1}\n",
       "\t\n"
      ]
     },
     "execution_count": 86,
     "metadata": {},
     "output_type": "execute_result"
    },
    {
     "data": {
      "text/plain": [
       "446; 0.100;nan;0.555556; {min=-0.661, max=0.200}; {min=nan, max=nan}; {0,1,0,1,0,1,0,1,0,1,0,1}\n",
       "\t\n"
      ]
     },
     "execution_count": 86,
     "metadata": {},
     "output_type": "execute_result"
    },
    {
     "data": {
      "text/plain": [
       "447; 0.100;nan;0.555556; {min=-0.661, max=0.200}; {min=nan, max=nan}; {0,1,0,1,0,1,0,1,0,1,0,1}\n",
       "\t\n"
      ]
     },
     "execution_count": 86,
     "metadata": {},
     "output_type": "execute_result"
    },
    {
     "data": {
      "text/plain": [
       "448; 0.100;nan;0.555556; {min=-0.661, max=0.200}; {min=nan, max=nan}; {0,1,0,1,0,1,0,1,0,1,0,1}\n",
       "\t\n"
      ]
     },
     "execution_count": 86,
     "metadata": {},
     "output_type": "execute_result"
    },
    {
     "data": {
      "text/plain": [
       "449; 0.100;nan;0.555556; {min=-0.661, max=0.200}; {min=nan, max=nan}; {0,1,0,1,0,1,0,1,0,1,0,1}\n",
       "\t\n"
      ]
     },
     "execution_count": 86,
     "metadata": {},
     "output_type": "execute_result"
    },
    {
     "data": {
      "text/plain": [
       "450; 0.100;nan;0.555556; {min=-0.661, max=0.200}; {min=nan, max=nan}; {0,1,0,1,0,1,0,1,0,1,0,1}\n",
       "\t\n"
      ]
     },
     "execution_count": 86,
     "metadata": {},
     "output_type": "execute_result"
    },
    {
     "data": {
      "text/plain": [
       "451; 0.100;nan;0.555556; {min=-0.661, max=0.200}; {min=nan, max=nan}; {0,1,0,1,0,1,0,1,0,1,0,1}\n",
       "\t\n"
      ]
     },
     "execution_count": 86,
     "metadata": {},
     "output_type": "execute_result"
    },
    {
     "data": {
      "text/plain": [
       "452; 0.100;nan;0.424242; {min=-0.661, max=0.231}; {min=nan, max=nan}; {0,1,0,1,1,0,0,1,0,1,0,1}\n",
       "\t\n"
      ]
     },
     "execution_count": 86,
     "metadata": {},
     "output_type": "execute_result"
    },
    {
     "data": {
      "text/plain": [
       "453; 0.100;nan;0.555556; {min=-0.661, max=0.200}; {min=nan, max=nan}; {0,1,0,1,0,1,0,1,0,1,0,1}\n",
       "\t\n"
      ]
     },
     "execution_count": 86,
     "metadata": {},
     "output_type": "execute_result"
    },
    {
     "data": {
      "text/plain": [
       "454; 0.100;nan;0.555556; {min=-0.661, max=0.200}; {min=nan, max=nan}; {0,1,0,1,0,1,0,1,0,1,0,1}\n",
       "\t\n"
      ]
     },
     "execution_count": 86,
     "metadata": {},
     "output_type": "execute_result"
    },
    {
     "data": {
      "text/plain": [
       "455; 0.100;nan;0.555556; {min=-0.661, max=0.200}; {min=nan, max=nan}; {0,1,0,1,0,1,0,1,0,1,0,1}\n",
       "\t\n"
      ]
     },
     "execution_count": 86,
     "metadata": {},
     "output_type": "execute_result"
    },
    {
     "data": {
      "text/plain": [
       "456; 0.100;nan;0.555556; {min=-0.661, max=0.200}; {min=nan, max=nan}; {0,1,0,1,0,1,0,1,0,1,0,1}\n",
       "\t\n"
      ]
     },
     "execution_count": 86,
     "metadata": {},
     "output_type": "execute_result"
    },
    {
     "data": {
      "text/plain": [
       "457; 0.100;nan;0.555556; {min=-0.661, max=0.200}; {min=nan, max=nan}; {0,1,0,1,0,1,0,1,0,1,0,1}\n",
       "\t\n"
      ]
     },
     "execution_count": 86,
     "metadata": {},
     "output_type": "execute_result"
    },
    {
     "data": {
      "text/plain": [
       "458; 0.100;nan;0.555556; {min=-0.661, max=0.200}; {min=nan, max=nan}; {0,1,0,1,0,1,0,1,0,1,0,1}\n",
       "\t\n"
      ]
     },
     "execution_count": 86,
     "metadata": {},
     "output_type": "execute_result"
    },
    {
     "data": {
      "text/plain": [
       "459; 0.100;nan;0.625000; {min=-0.647, max=0.227}; {min=nan, max=nan}; {0,1,1,0,0,1,0,1,0,1,0,1}\n",
       "\t\n"
      ]
     },
     "execution_count": 86,
     "metadata": {},
     "output_type": "execute_result"
    },
    {
     "data": {
      "text/plain": [
       "460; 0.100;nan;0.555556; {min=-0.661, max=0.200}; {min=nan, max=nan}; {0,1,0,1,0,1,0,1,0,1,0,1}\n",
       "\t\n"
      ]
     },
     "execution_count": 86,
     "metadata": {},
     "output_type": "execute_result"
    },
    {
     "data": {
      "text/plain": [
       "461; 0.100;nan;0.555556; {min=-0.661, max=0.200}; {min=nan, max=nan}; {0,1,0,1,0,1,0,1,0,1,0,1}\n",
       "\t\n"
      ]
     },
     "execution_count": 86,
     "metadata": {},
     "output_type": "execute_result"
    },
    {
     "data": {
      "text/plain": [
       "462; 0.100;nan;0.555556; {min=-0.661, max=0.200}; {min=nan, max=nan}; {0,1,0,1,0,1,0,1,0,1,0,1}\n",
       "\t\n"
      ]
     },
     "execution_count": 86,
     "metadata": {},
     "output_type": "execute_result"
    },
    {
     "data": {
      "text/plain": [
       "463; 0.100;nan;0.424242; {min=-1.000, max=0.277}; {min=nan, max=nan}; {1,0,0,1,0,1,0,1,0,1,0,1}\n",
       "\t\n"
      ]
     },
     "execution_count": 86,
     "metadata": {},
     "output_type": "execute_result"
    },
    {
     "data": {
      "text/plain": [
       "464; 0.100;nan;0.555556; {min=-0.661, max=0.200}; {min=nan, max=nan}; {0,1,0,1,0,1,0,1,0,1,0,1}\n",
       "\t\n"
      ]
     },
     "execution_count": 86,
     "metadata": {},
     "output_type": "execute_result"
    },
    {
     "data": {
      "text/plain": [
       "465; 0.100;nan;0.555556; {min=-0.661, max=0.200}; {min=nan, max=nan}; {0,1,0,1,0,1,0,1,0,1,0,1}\n",
       "\t\n"
      ]
     },
     "execution_count": 86,
     "metadata": {},
     "output_type": "execute_result"
    },
    {
     "data": {
      "text/plain": [
       "466; 0.100;nan;0.555556; {min=-0.661, max=0.200}; {min=nan, max=nan}; {0,1,0,1,0,1,0,1,0,1,0,1}\n",
       "\t\n"
      ]
     },
     "execution_count": 86,
     "metadata": {},
     "output_type": "execute_result"
    },
    {
     "data": {
      "text/plain": [
       "467; 0.100;nan;0.555556; {min=-0.661, max=0.200}; {min=nan, max=nan}; {0,1,0,1,0,1,0,1,0,1,0,1}\n",
       "\t\n"
      ]
     },
     "execution_count": 86,
     "metadata": {},
     "output_type": "execute_result"
    },
    {
     "data": {
      "text/plain": [
       "468; 0.100;nan;0.424242; {min=-1.000, max=0.277}; {min=nan, max=nan}; {1,0,0,1,0,1,0,1,0,1,0,1}\n",
       "\t\n"
      ]
     },
     "execution_count": 86,
     "metadata": {},
     "output_type": "execute_result"
    },
    {
     "data": {
      "text/plain": [
       "469; 0.100;nan;0.555556; {min=-0.661, max=0.200}; {min=nan, max=nan}; {0,1,0,1,0,1,0,1,0,1,0,1}\n",
       "\t\n"
      ]
     },
     "execution_count": 86,
     "metadata": {},
     "output_type": "execute_result"
    },
    {
     "data": {
      "text/plain": [
       "470; 0.100;nan;0.555556; {min=-0.661, max=0.200}; {min=nan, max=nan}; {0,1,0,1,0,1,0,1,0,1,0,1}\n",
       "\t\n"
      ]
     },
     "execution_count": 86,
     "metadata": {},
     "output_type": "execute_result"
    },
    {
     "data": {
      "text/plain": [
       "471; 0.100;nan;0.625000; {min=-0.661, max=0.200}; {min=nan, max=nan}; {0,1,0,1,0,1,0,1,0,1,1,0}\n",
       "\t\n"
      ]
     },
     "execution_count": 86,
     "metadata": {},
     "output_type": "execute_result"
    },
    {
     "data": {
      "text/plain": [
       "472; 0.100;nan;0.375000; {min=-0.661, max=0.200}; {min=nan, max=nan}; {0,1,0,1,0,1,0,1,1,0,0,1}\n",
       "\t\n"
      ]
     },
     "execution_count": 86,
     "metadata": {},
     "output_type": "execute_result"
    },
    {
     "data": {
      "text/plain": [
       "473; 0.100;nan;0.555556; {min=-0.661, max=0.200}; {min=nan, max=nan}; {0,1,0,1,0,1,0,1,0,1,0,1}\n",
       "\t\n"
      ]
     },
     "execution_count": 86,
     "metadata": {},
     "output_type": "execute_result"
    },
    {
     "data": {
      "text/plain": [
       "474; 0.100;nan;0.555556; {min=-0.661, max=0.200}; {min=nan, max=nan}; {0,1,0,1,0,1,0,1,0,1,0,1}\n",
       "\t\n"
      ]
     },
     "execution_count": 86,
     "metadata": {},
     "output_type": "execute_result"
    },
    {
     "data": {
      "text/plain": [
       "475; 0.100;nan;0.625000; {min=-0.647, max=0.227}; {min=nan, max=nan}; {0,1,1,0,0,1,0,1,0,1,0,1}\n",
       "\t\n"
      ]
     },
     "execution_count": 86,
     "metadata": {},
     "output_type": "execute_result"
    },
    {
     "data": {
      "text/plain": [
       "476; 0.100;nan;0.555556; {min=-0.661, max=0.200}; {min=nan, max=nan}; {0,1,0,1,0,1,0,1,0,1,0,1}\n",
       "\t\n"
      ]
     },
     "execution_count": 86,
     "metadata": {},
     "output_type": "execute_result"
    },
    {
     "data": {
      "text/plain": [
       "477; 0.100;nan;0.555556; {min=-0.661, max=0.200}; {min=nan, max=nan}; {0,1,0,1,0,1,0,1,0,1,0,1}\n",
       "\t\n"
      ]
     },
     "execution_count": 86,
     "metadata": {},
     "output_type": "execute_result"
    },
    {
     "data": {
      "text/plain": [
       "478; 0.100;nan;0.555556; {min=-0.661, max=0.200}; {min=nan, max=nan}; {0,1,0,1,0,1,0,1,0,1,0,1}\n",
       "\t\n"
      ]
     },
     "execution_count": 86,
     "metadata": {},
     "output_type": "execute_result"
    },
    {
     "data": {
      "text/plain": [
       "479; 0.100;nan;0.375000; {min=-0.661, max=0.200}; {min=nan, max=nan}; {0,1,0,1,0,1,0,1,1,0,0,1}\n",
       "\t\n"
      ]
     },
     "execution_count": 86,
     "metadata": {},
     "output_type": "execute_result"
    },
    {
     "data": {
      "text/plain": [
       "480; 0.100;nan;0.307692; {min=-1.000, max=0.352}; {min=nan, max=nan}; {1,0,1,0,1,0,0,1,0,1,0,1}\n",
       "\t\n"
      ]
     },
     "execution_count": 86,
     "metadata": {},
     "output_type": "execute_result"
    },
    {
     "data": {
      "text/plain": [
       "481; 0.100;nan;0.555556; {min=-0.661, max=0.200}; {min=nan, max=nan}; {0,1,0,1,0,1,0,1,0,1,0,1}\n",
       "\t\n"
      ]
     },
     "execution_count": 86,
     "metadata": {},
     "output_type": "execute_result"
    },
    {
     "data": {
      "text/plain": [
       "482; 0.100;nan;0.555556; {min=-0.661, max=0.200}; {min=nan, max=nan}; {0,1,0,1,0,1,0,1,0,1,0,1}\n",
       "\t\n"
      ]
     },
     "execution_count": 86,
     "metadata": {},
     "output_type": "execute_result"
    },
    {
     "data": {
      "text/plain": [
       "483; 0.100;nan;0.555556; {min=-0.661, max=0.200}; {min=nan, max=nan}; {0,1,0,1,0,1,0,1,0,1,0,1}\n",
       "\t\n"
      ]
     },
     "execution_count": 86,
     "metadata": {},
     "output_type": "execute_result"
    },
    {
     "data": {
      "text/plain": [
       "484; 0.100;nan;0.555556; {min=-0.661, max=0.200}; {min=nan, max=nan}; {0,1,0,1,0,1,0,1,0,1,0,1}\n",
       "\t\n"
      ]
     },
     "execution_count": 86,
     "metadata": {},
     "output_type": "execute_result"
    },
    {
     "data": {
      "text/plain": [
       "485; 0.100;nan;0.555556; {min=-0.661, max=0.200}; {min=nan, max=nan}; {0,1,0,1,0,1,0,1,0,1,0,1}\n",
       "\t\n"
      ]
     },
     "execution_count": 86,
     "metadata": {},
     "output_type": "execute_result"
    },
    {
     "data": {
      "text/plain": [
       "486; 0.100;nan;0.555556; {min=-0.661, max=0.200}; {min=nan, max=nan}; {0,1,0,1,0,1,0,1,0,1,0,1}\n",
       "\t\n"
      ]
     },
     "execution_count": 86,
     "metadata": {},
     "output_type": "execute_result"
    },
    {
     "data": {
      "text/plain": [
       "487; 0.100;nan;0.424242; {min=-0.661, max=0.231}; {min=nan, max=nan}; {0,1,0,1,1,0,0,1,0,1,0,1}\n",
       "\t\n"
      ]
     },
     "execution_count": 86,
     "metadata": {},
     "output_type": "execute_result"
    },
    {
     "data": {
      "text/plain": [
       "488; 0.100;nan;0.555556; {min=-0.661, max=0.200}; {min=nan, max=nan}; {0,1,0,1,0,1,0,1,0,1,0,1}\n",
       "\t\n"
      ]
     },
     "execution_count": 86,
     "metadata": {},
     "output_type": "execute_result"
    },
    {
     "data": {
      "text/plain": [
       "489; 0.100;nan;0.714286; {min=-0.647, max=0.227}; {min=nan, max=nan}; {0,1,1,0,0,1,0,1,0,1,1,0}\n",
       "\t\n"
      ]
     },
     "execution_count": 86,
     "metadata": {},
     "output_type": "execute_result"
    },
    {
     "data": {
      "text/plain": [
       "490; 0.100;nan;0.375000; {min=-0.661, max=0.200}; {min=nan, max=nan}; {0,1,0,1,0,1,0,1,1,0,0,1}\n",
       "\t\n"
      ]
     },
     "execution_count": 86,
     "metadata": {},
     "output_type": "execute_result"
    },
    {
     "data": {
      "text/plain": [
       "491; 0.100;nan;0.555556; {min=-0.661, max=0.200}; {min=nan, max=nan}; {0,1,0,1,0,1,0,1,0,1,0,1}\n",
       "\t\n"
      ]
     },
     "execution_count": 86,
     "metadata": {},
     "output_type": "execute_result"
    },
    {
     "data": {
      "text/plain": [
       "492; 0.100;nan;0.424242; {min=-1.000, max=0.277}; {min=nan, max=nan}; {1,0,0,1,0,1,0,1,0,1,0,1}\n",
       "\t\n"
      ]
     },
     "execution_count": 86,
     "metadata": {},
     "output_type": "execute_result"
    },
    {
     "data": {
      "text/plain": [
       "493; 0.100;nan;0.555556; {min=-0.661, max=0.200}; {min=nan, max=nan}; {0,1,0,1,0,1,0,1,0,1,0,1}\n",
       "\t\n"
      ]
     },
     "execution_count": 86,
     "metadata": {},
     "output_type": "execute_result"
    },
    {
     "data": {
      "text/plain": [
       "494; 0.100;nan;0.555556; {min=-0.661, max=0.200}; {min=nan, max=nan}; {0,1,0,1,0,1,0,1,0,1,0,1}\n",
       "\t\n"
      ]
     },
     "execution_count": 86,
     "metadata": {},
     "output_type": "execute_result"
    },
    {
     "data": {
      "text/plain": [
       "495; 0.100;nan;0.625000; {min=-0.647, max=0.227}; {min=nan, max=nan}; {0,1,1,0,0,1,0,1,0,1,0,1}\n",
       "\t\n"
      ]
     },
     "execution_count": 86,
     "metadata": {},
     "output_type": "execute_result"
    },
    {
     "data": {
      "text/plain": [
       "496; 0.100;nan;0.555556; {min=-0.661, max=0.200}; {min=nan, max=nan}; {0,1,0,1,0,1,0,1,0,1,0,1}\n",
       "\t\n"
      ]
     },
     "execution_count": 86,
     "metadata": {},
     "output_type": "execute_result"
    },
    {
     "data": {
      "text/plain": [
       "497; 0.100;nan;0.555556; {min=-0.661, max=0.200}; {min=nan, max=nan}; {0,1,0,1,0,1,0,1,0,1,0,1}\n",
       "\t\n"
      ]
     },
     "execution_count": 86,
     "metadata": {},
     "output_type": "execute_result"
    },
    {
     "data": {
      "text/plain": [
       "498; 0.100;nan;0.555556; {min=-0.661, max=0.200}; {min=nan, max=nan}; {0,1,0,1,0,1,0,1,0,1,0,1}\n",
       "\t\n"
      ]
     },
     "execution_count": 86,
     "metadata": {},
     "output_type": "execute_result"
    },
    {
     "data": {
      "text/plain": [
       "499; 0.100;nan;0.555556; {min=-0.661, max=0.200}; {min=nan, max=nan}; {0,1,0,1,0,1,0,1,0,1,0,1}\n",
       "\t\n"
      ]
     },
     "execution_count": 86,
     "metadata": {},
     "output_type": "execute_result"
    },
    {
     "data": {
      "text/plain": [
       "500; 0.100;nan;0.375000; {min=-0.661, max=0.200}; {min=nan, max=nan}; {0,1,0,1,0,1,0,1,1,0,0,1}\n",
       "\t\n"
      ]
     },
     "execution_count": 86,
     "metadata": {},
     "output_type": "execute_result"
    },
    {
     "data": {
      "text/plain": [
       "501; 0.100;nan;0.555556; {min=-0.661, max=0.200}; {min=nan, max=nan}; {0,1,0,1,0,1,0,1,0,1,0,1}\n",
       "\t\n"
      ]
     },
     "execution_count": 86,
     "metadata": {},
     "output_type": "execute_result"
    },
    {
     "data": {
      "text/plain": [
       "502; 0.100;nan;0.555556; {min=-0.661, max=0.200}; {min=nan, max=nan}; {0,1,0,1,0,1,0,1,0,1,0,1}\n",
       "\t\n"
      ]
     },
     "execution_count": 86,
     "metadata": {},
     "output_type": "execute_result"
    },
    {
     "data": {
      "text/plain": [
       "503; 0.100;nan;0.482759; {min=-1.000, max=0.339}; {min=nan, max=nan}; {1,0,1,0,0,1,0,1,0,1,0,1}\n",
       "\t\n"
      ]
     },
     "execution_count": 86,
     "metadata": {},
     "output_type": "execute_result"
    },
    {
     "data": {
      "text/plain": [
       "504; 0.100;nan;0.555556; {min=-0.661, max=0.200}; {min=nan, max=nan}; {0,1,0,1,0,1,0,1,0,1,0,1}\n",
       "\t\n"
      ]
     },
     "execution_count": 86,
     "metadata": {},
     "output_type": "execute_result"
    },
    {
     "data": {
      "text/plain": [
       "505; 0.100;nan;0.555556; {min=-0.661, max=0.200}; {min=nan, max=nan}; {0,1,0,1,0,1,0,1,0,1,0,1}\n",
       "\t\n"
      ]
     },
     "execution_count": 86,
     "metadata": {},
     "output_type": "execute_result"
    },
    {
     "data": {
      "text/plain": [
       "506; 0.100;nan;0.555556; {min=-0.661, max=0.200}; {min=nan, max=nan}; {0,1,0,1,0,1,0,1,0,1,0,1}\n",
       "\t\n"
      ]
     },
     "execution_count": 86,
     "metadata": {},
     "output_type": "execute_result"
    },
    {
     "data": {
      "text/plain": [
       "507; 0.100;nan;0.555556; {min=-0.661, max=0.200}; {min=nan, max=nan}; {0,1,0,1,0,1,0,1,0,1,0,1}\n",
       "\t\n"
      ]
     },
     "execution_count": 86,
     "metadata": {},
     "output_type": "execute_result"
    },
    {
     "data": {
      "text/plain": [
       "508; 0.100;nan;0.555556; {min=-0.661, max=46396299641664982420934058347987608419282875424274357910604179809638505512960.000}; {min=nan, max=nan}; {0,1,0,1,0,1,0,1,0,1,0,1}\n",
       "\t\n"
      ]
     },
     "execution_count": 86,
     "metadata": {},
     "output_type": "execute_result"
    },
    {
     "data": {
      "text/plain": [
       "509; 0.100;nan;0.555556; {min=-0.661, max=0.200}; {min=nan, max=nan}; {0,1,0,1,0,1,0,1,0,1,0,1}\n",
       "\t\n"
      ]
     },
     "execution_count": 86,
     "metadata": {},
     "output_type": "execute_result"
    },
    {
     "data": {
      "text/plain": [
       "510; 0.100;nan;0.555556; {min=-0.661, max=0.200}; {min=nan, max=nan}; {0,1,0,1,0,1,0,1,0,1,0,1}\n",
       "\t\n"
      ]
     },
     "execution_count": 86,
     "metadata": {},
     "output_type": "execute_result"
    },
    {
     "data": {
      "text/plain": [
       "511; 0.100;nan;0.555556; {min=-0.661, max=0.200}; {min=nan, max=nan}; {0,1,0,1,0,1,0,1,0,1,0,1}\n",
       "\t\n"
      ]
     },
     "execution_count": 86,
     "metadata": {},
     "output_type": "execute_result"
    },
    {
     "data": {
      "text/plain": [
       "512; 0.100;nan;0.625000; {min=-0.661, max=0.200}; {min=nan, max=nan}; {0,1,0,1,0,1,0,1,0,1,1,0}\n",
       "\t\n"
      ]
     },
     "execution_count": 86,
     "metadata": {},
     "output_type": "execute_result"
    },
    {
     "data": {
      "text/plain": [
       "513; 0.100;nan;0.555556; {min=-0.661, max=0.200}; {min=nan, max=nan}; {0,1,0,1,0,1,0,1,0,1,0,1}\n",
       "\t\n"
      ]
     },
     "execution_count": 86,
     "metadata": {},
     "output_type": "execute_result"
    },
    {
     "data": {
      "text/plain": [
       "514; 0.100;nan;0.625000; {min=-0.661, max=0.214}; {min=nan, max=nan}; {0,1,0,1,0,1,1,0,0,1,0,1}\n",
       "\t\n"
      ]
     },
     "execution_count": 86,
     "metadata": {},
     "output_type": "execute_result"
    },
    {
     "data": {
      "text/plain": [
       "515; 0.100;nan;0.555556; {min=-0.661, max=0.200}; {min=nan, max=nan}; {0,1,0,1,0,1,0,1,0,1,0,1}\n",
       "\t\n"
      ]
     },
     "execution_count": 86,
     "metadata": {},
     "output_type": "execute_result"
    },
    {
     "data": {
      "text/plain": [
       "516; 0.100;nan;0.555556; {min=-0.661, max=0.200}; {min=nan, max=nan}; {0,1,0,1,0,1,0,1,0,1,0,1}\n",
       "\t\n"
      ]
     },
     "execution_count": 86,
     "metadata": {},
     "output_type": "execute_result"
    },
    {
     "data": {
      "text/plain": [
       "517; 0.100;nan;0.555556; {min=-0.661, max=0.200}; {min=nan, max=nan}; {0,1,0,1,0,1,0,1,0,1,0,1}\n",
       "\t\n"
      ]
     },
     "execution_count": 86,
     "metadata": {},
     "output_type": "execute_result"
    },
    {
     "data": {
      "text/plain": [
       "518; 0.100;nan;0.555556; {min=-0.661, max=0.200}; {min=nan, max=nan}; {0,1,0,1,0,1,0,1,0,1,0,1}\n",
       "\t\n"
      ]
     },
     "execution_count": 86,
     "metadata": {},
     "output_type": "execute_result"
    },
    {
     "data": {
      "text/plain": [
       "519; 0.100;nan;0.555556; {min=-0.661, max=0.200}; {min=nan, max=nan}; {0,1,0,1,0,1,0,1,0,1,0,1}\n",
       "\t\n"
      ]
     },
     "execution_count": 86,
     "metadata": {},
     "output_type": "execute_result"
    },
    {
     "data": {
      "text/plain": [
       "520; 0.100;nan;0.555556; {min=-0.661, max=0.200}; {min=nan, max=nan}; {0,1,0,1,0,1,0,1,0,1,0,1}\n",
       "\t\n"
      ]
     },
     "execution_count": 86,
     "metadata": {},
     "output_type": "execute_result"
    },
    {
     "data": {
      "text/plain": [
       "521; 0.100;nan;0.555556; {min=-0.661, max=0.200}; {min=nan, max=nan}; {0,1,0,1,0,1,0,1,0,1,0,1}\n",
       "\t\n"
      ]
     },
     "execution_count": 86,
     "metadata": {},
     "output_type": "execute_result"
    },
    {
     "data": {
      "text/plain": [
       "522; 0.100;nan;0.625000; {min=-0.661, max=0.200}; {min=nan, max=nan}; {0,1,0,1,0,1,0,1,0,1,1,0}\n",
       "\t\n"
      ]
     },
     "execution_count": 86,
     "metadata": {},
     "output_type": "execute_result"
    },
    {
     "data": {
      "text/plain": [
       "523; 0.100;nan;0.555556; {min=-0.661, max=0.200}; {min=nan, max=nan}; {0,1,0,1,0,1,0,1,0,1,0,1}\n",
       "\t\n"
      ]
     },
     "execution_count": 86,
     "metadata": {},
     "output_type": "execute_result"
    },
    {
     "data": {
      "text/plain": [
       "524; 0.100;nan;0.625000; {min=-0.661, max=0.214}; {min=nan, max=nan}; {0,1,0,1,0,1,1,0,0,1,0,1}\n",
       "\t\n"
      ]
     },
     "execution_count": 86,
     "metadata": {},
     "output_type": "execute_result"
    },
    {
     "data": {
      "text/plain": [
       "525; 0.100;nan;0.555556; {min=-0.661, max=0.200}; {min=nan, max=nan}; {0,1,0,1,0,1,0,1,0,1,0,1}\n",
       "\t\n"
      ]
     },
     "execution_count": 86,
     "metadata": {},
     "output_type": "execute_result"
    },
    {
     "data": {
      "text/plain": [
       "526; 0.100;nan;0.555556; {min=-0.661, max=0.200}; {min=nan, max=nan}; {0,1,0,1,0,1,0,1,0,1,0,1}\n",
       "\t\n"
      ]
     },
     "execution_count": 86,
     "metadata": {},
     "output_type": "execute_result"
    },
    {
     "data": {
      "text/plain": [
       "527; 0.100;nan;0.555556; {min=-46406900724062670863215939586418407421640058932180966227554018480237972553728.000, max=0.200}; {min=nan, max=nan}; {0,1,0,1,0,1,0,1,0,1,0,1}\n",
       "\t\n"
      ]
     },
     "execution_count": 86,
     "metadata": {},
     "output_type": "execute_result"
    },
    {
     "data": {
      "text/plain": [
       "528; 0.100;nan;0.560000; {min=-0.661, max=0.274}; {min=nan, max=nan}; {0,1,0,1,1,0,1,0,0,1,1,0}\n",
       "\t\n"
      ]
     },
     "execution_count": 86,
     "metadata": {},
     "output_type": "execute_result"
    },
    {
     "data": {
      "text/plain": [
       "529; 0.100;nan;0.555556; {min=-0.661, max=0.200}; {min=nan, max=nan}; {0,1,0,1,0,1,0,1,0,1,0,1}\n",
       "\t\n"
      ]
     },
     "execution_count": 86,
     "metadata": {},
     "output_type": "execute_result"
    },
    {
     "data": {
      "text/plain": [
       "530; 0.100;nan;0.555556; {min=-0.661, max=0.200}; {min=nan, max=nan}; {0,1,0,1,0,1,0,1,0,1,0,1}\n",
       "\t\n"
      ]
     },
     "execution_count": 86,
     "metadata": {},
     "output_type": "execute_result"
    },
    {
     "data": {
      "text/plain": [
       "531; 0.100;nan;0.555556; {min=-0.661, max=0.200}; {min=nan, max=nan}; {0,1,0,1,0,1,0,1,0,1,0,1}\n",
       "\t\n"
      ]
     },
     "execution_count": 86,
     "metadata": {},
     "output_type": "execute_result"
    },
    {
     "data": {
      "text/plain": [
       "532; 0.100;nan;0.555556; {min=-0.661, max=0.200}; {min=nan, max=nan}; {0,1,0,1,0,1,0,1,0,1,0,1}\n",
       "\t\n"
      ]
     },
     "execution_count": 86,
     "metadata": {},
     "output_type": "execute_result"
    },
    {
     "data": {
      "text/plain": [
       "533; 0.100;nan;0.555556; {min=-0.661, max=0.200}; {min=nan, max=nan}; {0,1,0,1,0,1,0,1,0,1,0,1}\n",
       "\t\n"
      ]
     },
     "execution_count": 86,
     "metadata": {},
     "output_type": "execute_result"
    },
    {
     "data": {
      "text/plain": [
       "534; 0.100;nan;0.424242; {min=-1.000, max=0.277}; {min=nan, max=nan}; {1,0,0,1,0,1,0,1,0,1,0,1}\n",
       "\t\n"
      ]
     },
     "execution_count": 86,
     "metadata": {},
     "output_type": "execute_result"
    },
    {
     "data": {
      "text/plain": [
       "535; 0.100;nan;0.555556; {min=-0.661, max=0.200}; {min=nan, max=nan}; {0,1,0,1,0,1,0,1,0,1,0,1}\n",
       "\t\n"
      ]
     },
     "execution_count": 86,
     "metadata": {},
     "output_type": "execute_result"
    },
    {
     "data": {
      "text/plain": [
       "536; 0.100;nan;0.555556; {min=-0.661, max=0.200}; {min=nan, max=nan}; {0,1,0,1,0,1,0,1,0,1,0,1}\n",
       "\t\n"
      ]
     },
     "execution_count": 86,
     "metadata": {},
     "output_type": "execute_result"
    },
    {
     "data": {
      "text/plain": [
       "537; 0.100;nan;0.625000; {min=-0.661, max=0.200}; {min=nan, max=nan}; {0,1,0,1,0,1,0,1,0,1,1,0}\n",
       "\t\n"
      ]
     },
     "execution_count": 86,
     "metadata": {},
     "output_type": "execute_result"
    },
    {
     "data": {
      "text/plain": [
       "538; 0.100;nan;0.424242; {min=-1.000, max=0.277}; {min=nan, max=nan}; {1,0,0,1,0,1,0,1,0,1,0,1}\n",
       "\t\n"
      ]
     },
     "execution_count": 86,
     "metadata": {},
     "output_type": "execute_result"
    },
    {
     "data": {
      "text/plain": [
       "539; 0.100;nan;0.555556; {min=-0.661, max=0.200}; {min=nan, max=nan}; {0,1,0,1,0,1,0,1,0,1,0,1}\n",
       "\t\n"
      ]
     },
     "execution_count": 86,
     "metadata": {},
     "output_type": "execute_result"
    },
    {
     "data": {
      "text/plain": [
       "540; 0.100;nan;0.714286; {min=-0.661, max=0.214}; {min=nan, max=nan}; {0,1,0,1,0,1,1,0,0,1,1,0}\n",
       "\t\n"
      ]
     },
     "execution_count": 86,
     "metadata": {},
     "output_type": "execute_result"
    },
    {
     "data": {
      "text/plain": [
       "541; 0.100;nan;0.555556; {min=-0.661, max=0.200}; {min=nan, max=nan}; {0,1,0,1,0,1,0,1,0,1,0,1}\n",
       "\t\n"
      ]
     },
     "execution_count": 86,
     "metadata": {},
     "output_type": "execute_result"
    },
    {
     "data": {
      "text/plain": [
       "542; 0.100;nan;0.555556; {min=-0.661, max=0.200}; {min=nan, max=nan}; {0,1,0,1,0,1,0,1,0,1,0,1}\n",
       "\t\n"
      ]
     },
     "execution_count": 86,
     "metadata": {},
     "output_type": "execute_result"
    },
    {
     "data": {
      "text/plain": [
       "543; 0.100;nan;0.555556; {min=-0.661, max=0.200}; {min=nan, max=nan}; {0,1,0,1,0,1,0,1,0,1,0,1}\n",
       "\t\n"
      ]
     },
     "execution_count": 86,
     "metadata": {},
     "output_type": "execute_result"
    },
    {
     "data": {
      "text/plain": [
       "544; 0.100;nan;0.555556; {min=-0.661, max=0.200}; {min=nan, max=nan}; {0,1,0,1,0,1,0,1,0,1,0,1}\n",
       "\t\n"
      ]
     },
     "execution_count": 86,
     "metadata": {},
     "output_type": "execute_result"
    },
    {
     "data": {
      "text/plain": [
       "545; 0.100;nan;0.555556; {min=-0.661, max=0.200}; {min=nan, max=nan}; {0,1,0,1,0,1,0,1,0,1,0,1}\n",
       "\t\n"
      ]
     },
     "execution_count": 86,
     "metadata": {},
     "output_type": "execute_result"
    },
    {
     "data": {
      "text/plain": [
       "546; 0.100;nan;0.625000; {min=-0.661, max=0.214}; {min=nan, max=nan}; {0,1,0,1,0,1,1,0,0,1,0,1}\n",
       "\t\n"
      ]
     },
     "execution_count": 86,
     "metadata": {},
     "output_type": "execute_result"
    },
    {
     "data": {
      "text/plain": [
       "547; 0.100;nan;0.555556; {min=-0.661, max=0.200}; {min=nan, max=nan}; {0,1,0,1,0,1,0,1,0,1,0,1}\n",
       "\t\n"
      ]
     },
     "execution_count": 86,
     "metadata": {},
     "output_type": "execute_result"
    },
    {
     "data": {
      "text/plain": [
       "548; 0.100;nan;0.555556; {min=-0.661, max=0.200}; {min=nan, max=nan}; {0,1,0,1,0,1,0,1,0,1,0,1}\n",
       "\t\n"
      ]
     },
     "execution_count": 86,
     "metadata": {},
     "output_type": "execute_result"
    },
    {
     "data": {
      "text/plain": [
       "549; 0.100;nan;0.555556; {min=-0.661, max=0.200}; {min=nan, max=nan}; {0,1,0,1,0,1,0,1,0,1,0,1}\n",
       "\t\n"
      ]
     },
     "execution_count": 86,
     "metadata": {},
     "output_type": "execute_result"
    },
    {
     "data": {
      "text/plain": [
       "550; 0.100;nan;0.555556; {min=-0.661, max=0.200}; {min=nan, max=nan}; {0,1,0,1,0,1,0,1,0,1,0,1}\n",
       "\t\n"
      ]
     },
     "execution_count": 86,
     "metadata": {},
     "output_type": "execute_result"
    },
    {
     "data": {
      "text/plain": [
       "551; 0.100;nan;0.555556; {min=-0.661, max=0.200}; {min=nan, max=nan}; {0,1,0,1,0,1,0,1,0,1,0,1}\n",
       "\t\n"
      ]
     },
     "execution_count": 86,
     "metadata": {},
     "output_type": "execute_result"
    },
    {
     "data": {
      "text/plain": [
       "552; 0.100;nan;0.555556; {min=-0.661, max=0.200}; {min=nan, max=nan}; {0,1,0,1,0,1,0,1,0,1,0,1}\n",
       "\t\n"
      ]
     },
     "execution_count": 86,
     "metadata": {},
     "output_type": "execute_result"
    },
    {
     "data": {
      "text/plain": [
       "553; 0.100;nan;0.555556; {min=-0.661, max=0.200}; {min=nan, max=nan}; {0,1,0,1,0,1,0,1,0,1,0,1}\n",
       "\t\n"
      ]
     },
     "execution_count": 86,
     "metadata": {},
     "output_type": "execute_result"
    },
    {
     "data": {
      "text/plain": [
       "554; 0.100;nan;0.375000; {min=-0.661, max=0.200}; {min=nan, max=nan}; {0,1,0,1,0,1,0,1,1,0,0,1}\n",
       "\t\n"
      ]
     },
     "execution_count": 86,
     "metadata": {},
     "output_type": "execute_result"
    },
    {
     "data": {
      "text/plain": [
       "555; 0.100;nan;0.424242; {min=-0.661, max=0.231}; {min=nan, max=nan}; {0,1,0,1,1,0,0,1,0,1,0,1}\n",
       "\t\n"
      ]
     },
     "execution_count": 86,
     "metadata": {},
     "output_type": "execute_result"
    },
    {
     "data": {
      "text/plain": [
       "556; 0.100;nan;0.625000; {min=-0.647, max=0.227}; {min=nan, max=nan}; {0,1,1,0,0,1,0,1,0,1,0,1}\n",
       "\t\n"
      ]
     },
     "execution_count": 86,
     "metadata": {},
     "output_type": "execute_result"
    },
    {
     "data": {
      "text/plain": [
       "557; 0.100;nan;0.555556; {min=-0.661, max=0.200}; {min=nan, max=nan}; {0,1,0,1,0,1,0,1,0,1,0,1}\n",
       "\t\n"
      ]
     },
     "execution_count": 86,
     "metadata": {},
     "output_type": "execute_result"
    },
    {
     "data": {
      "text/plain": [
       "558; 0.100;nan;0.555556; {min=-0.661, max=0.200}; {min=nan, max=nan}; {0,1,0,1,0,1,0,1,0,1,0,1}\n",
       "\t\n"
      ]
     },
     "execution_count": 86,
     "metadata": {},
     "output_type": "execute_result"
    },
    {
     "data": {
      "text/plain": [
       "559; 0.100;nan;0.555556; {min=-0.661, max=0.200}; {min=nan, max=nan}; {0,1,0,1,0,1,0,1,0,1,0,1}\n",
       "\t\n"
      ]
     },
     "execution_count": 86,
     "metadata": {},
     "output_type": "execute_result"
    },
    {
     "data": {
      "text/plain": [
       "560; 0.100;nan;0.625000; {min=-0.661, max=0.214}; {min=nan, max=nan}; {0,1,0,1,0,1,1,0,0,1,0,1}\n",
       "\t\n"
      ]
     },
     "execution_count": 86,
     "metadata": {},
     "output_type": "execute_result"
    },
    {
     "data": {
      "text/plain": [
       "561; 0.100;nan;0.555556; {min=-0.661, max=0.200}; {min=nan, max=nan}; {0,1,0,1,0,1,0,1,0,1,0,1}\n",
       "\t\n"
      ]
     },
     "execution_count": 86,
     "metadata": {},
     "output_type": "execute_result"
    },
    {
     "data": {
      "text/plain": [
       "562; 0.100;nan;0.424242; {min=-0.661, max=0.231}; {min=nan, max=nan}; {0,1,0,1,1,0,0,1,0,1,0,1}\n",
       "\t\n"
      ]
     },
     "execution_count": 86,
     "metadata": {},
     "output_type": "execute_result"
    },
    {
     "data": {
      "text/plain": [
       "563; 0.100;nan;0.625000; {min=-0.661, max=0.214}; {min=nan, max=nan}; {0,1,0,1,0,1,1,0,0,1,0,1}\n",
       "\t\n"
      ]
     },
     "execution_count": 86,
     "metadata": {},
     "output_type": "execute_result"
    },
    {
     "data": {
      "text/plain": [
       "564; 0.100;nan;0.555556; {min=-0.661, max=0.200}; {min=nan, max=nan}; {0,1,0,1,0,1,0,1,0,1,0,1}\n",
       "\t\n"
      ]
     },
     "execution_count": 86,
     "metadata": {},
     "output_type": "execute_result"
    },
    {
     "data": {
      "text/plain": [
       "565; 0.100;nan;0.555556; {min=-0.661, max=0.200}; {min=nan, max=nan}; {0,1,0,1,0,1,0,1,0,1,0,1}\n",
       "\t\n"
      ]
     },
     "execution_count": 86,
     "metadata": {},
     "output_type": "execute_result"
    },
    {
     "data": {
      "text/plain": [
       "566; 0.100;nan;0.555556; {min=-0.661, max=0.200}; {min=nan, max=nan}; {0,1,0,1,0,1,0,1,0,1,0,1}\n",
       "\t\n"
      ]
     },
     "execution_count": 86,
     "metadata": {},
     "output_type": "execute_result"
    },
    {
     "data": {
      "text/plain": [
       "567; 0.100;nan;0.555556; {min=-0.661, max=0.200}; {min=nan, max=nan}; {0,1,0,1,0,1,0,1,0,1,0,1}\n",
       "\t\n"
      ]
     },
     "execution_count": 86,
     "metadata": {},
     "output_type": "execute_result"
    },
    {
     "data": {
      "text/plain": [
       "568; 0.100;nan;0.625000; {min=-0.661, max=0.214}; {min=nan, max=nan}; {0,1,0,1,0,1,1,0,0,1,0,1}\n",
       "\t\n"
      ]
     },
     "execution_count": 86,
     "metadata": {},
     "output_type": "execute_result"
    },
    {
     "data": {
      "text/plain": [
       "569; 0.100;nan;0.555556; {min=-0.661, max=0.200}; {min=nan, max=nan}; {0,1,0,1,0,1,0,1,0,1,0,1}\n",
       "\t\n"
      ]
     },
     "execution_count": 86,
     "metadata": {},
     "output_type": "execute_result"
    },
    {
     "data": {
      "text/plain": [
       "570; 0.100;nan;0.555556; {min=-0.661, max=0.200}; {min=nan, max=nan}; {0,1,0,1,0,1,0,1,0,1,0,1}\n",
       "\t\n"
      ]
     },
     "execution_count": 86,
     "metadata": {},
     "output_type": "execute_result"
    },
    {
     "data": {
      "text/plain": [
       "571; 0.100;nan;0.555556; {min=-0.661, max=0.200}; {min=nan, max=nan}; {0,1,0,1,0,1,0,1,0,1,0,1}\n",
       "\t\n"
      ]
     },
     "execution_count": 86,
     "metadata": {},
     "output_type": "execute_result"
    },
    {
     "data": {
      "text/plain": [
       "572; 0.100;nan;0.555556; {min=-0.661, max=0.200}; {min=nan, max=nan}; {0,1,0,1,0,1,0,1,0,1,0,1}\n",
       "\t\n"
      ]
     },
     "execution_count": 86,
     "metadata": {},
     "output_type": "execute_result"
    },
    {
     "data": {
      "text/plain": [
       "573; 0.100;nan;0.555556; {min=-0.661, max=0.200}; {min=nan, max=nan}; {0,1,0,1,0,1,0,1,0,1,0,1}\n",
       "\t\n"
      ]
     },
     "execution_count": 86,
     "metadata": {},
     "output_type": "execute_result"
    },
    {
     "data": {
      "text/plain": [
       "574; 0.100;nan;0.555556; {min=-0.661, max=0.200}; {min=nan, max=nan}; {0,1,0,1,0,1,0,1,0,1,0,1}\n",
       "\t\n"
      ]
     },
     "execution_count": 86,
     "metadata": {},
     "output_type": "execute_result"
    },
    {
     "data": {
      "text/plain": [
       "575; 0.100;nan;0.424242; {min=-1.000, max=0.277}; {min=nan, max=nan}; {1,0,0,1,0,1,0,1,0,1,0,1}\n",
       "\t\n"
      ]
     },
     "execution_count": 86,
     "metadata": {},
     "output_type": "execute_result"
    },
    {
     "data": {
      "text/plain": [
       "576; 0.100;nan;0.424242; {min=-1.000, max=0.277}; {min=nan, max=nan}; {1,0,0,1,0,1,0,1,0,1,0,1}\n",
       "\t\n"
      ]
     },
     "execution_count": 86,
     "metadata": {},
     "output_type": "execute_result"
    },
    {
     "data": {
      "text/plain": [
       "577; 0.100;nan;0.555556; {min=-0.661, max=0.200}; {min=nan, max=nan}; {0,1,0,1,0,1,0,1,0,1,0,1}\n",
       "\t\n"
      ]
     },
     "execution_count": 86,
     "metadata": {},
     "output_type": "execute_result"
    },
    {
     "data": {
      "text/plain": [
       "578; 0.100;nan;0.555556; {min=-0.661, max=0.200}; {min=nan, max=nan}; {0,1,0,1,0,1,0,1,0,1,0,1}\n",
       "\t\n"
      ]
     },
     "execution_count": 86,
     "metadata": {},
     "output_type": "execute_result"
    },
    {
     "data": {
      "text/plain": [
       "579; 0.100;nan;0.555556; {min=-0.661, max=0.200}; {min=nan, max=nan}; {0,1,0,1,0,1,0,1,0,1,0,1}\n",
       "\t\n"
      ]
     },
     "execution_count": 86,
     "metadata": {},
     "output_type": "execute_result"
    },
    {
     "data": {
      "text/plain": [
       "580; 0.100;nan;0.424242; {min=-1.000, max=0.277}; {min=nan, max=nan}; {1,0,0,1,0,1,0,1,0,1,0,1}\n",
       "\t\n"
      ]
     },
     "execution_count": 86,
     "metadata": {},
     "output_type": "execute_result"
    },
    {
     "data": {
      "text/plain": [
       "581; 0.100;nan;0.555556; {min=-0.661, max=0.200}; {min=nan, max=nan}; {0,1,0,1,0,1,0,1,0,1,0,1}\n",
       "\t\n"
      ]
     },
     "execution_count": 86,
     "metadata": {},
     "output_type": "execute_result"
    },
    {
     "data": {
      "text/plain": [
       "582; 0.100;nan;0.555556; {min=-0.661, max=0.200}; {min=nan, max=nan}; {0,1,0,1,0,1,0,1,0,1,0,1}\n",
       "\t\n"
      ]
     },
     "execution_count": 86,
     "metadata": {},
     "output_type": "execute_result"
    },
    {
     "data": {
      "text/plain": [
       "583; 0.100;nan;0.375000; {min=-0.661, max=0.200}; {min=nan, max=nan}; {0,1,0,1,0,1,0,1,1,0,0,1}\n",
       "\t\n"
      ]
     },
     "execution_count": 86,
     "metadata": {},
     "output_type": "execute_result"
    },
    {
     "data": {
      "text/plain": [
       "584; 0.100;nan;0.625000; {min=-0.647, max=0.227}; {min=nan, max=nan}; {0,1,1,0,0,1,0,1,0,1,0,1}\n",
       "\t\n"
      ]
     },
     "execution_count": 86,
     "metadata": {},
     "output_type": "execute_result"
    },
    {
     "data": {
      "text/plain": [
       "585; 0.100;nan;0.555556; {min=-0.661, max=0.200}; {min=nan, max=nan}; {0,1,0,1,0,1,0,1,0,1,0,1}\n",
       "\t\n"
      ]
     },
     "execution_count": 86,
     "metadata": {},
     "output_type": "execute_result"
    },
    {
     "data": {
      "text/plain": [
       "586; 0.100;nan;0.375000; {min=-0.661, max=0.200}; {min=nan, max=nan}; {0,1,0,1,0,1,0,1,1,0,0,1}\n",
       "\t\n"
      ]
     },
     "execution_count": 86,
     "metadata": {},
     "output_type": "execute_result"
    },
    {
     "data": {
      "text/plain": [
       "587; 0.100;nan;0.555556; {min=-0.661, max=0.200}; {min=nan, max=nan}; {0,1,0,1,0,1,0,1,0,1,0,1}\n",
       "\t\n"
      ]
     },
     "execution_count": 86,
     "metadata": {},
     "output_type": "execute_result"
    },
    {
     "data": {
      "text/plain": [
       "588; 0.100;nan;0.555556; {min=-0.661, max=0.200}; {min=nan, max=nan}; {0,1,0,1,0,1,0,1,0,1,0,1}\n",
       "\t\n"
      ]
     },
     "execution_count": 86,
     "metadata": {},
     "output_type": "execute_result"
    },
    {
     "data": {
      "text/plain": [
       "589; 0.100;nan;0.555556; {min=-0.661, max=0.200}; {min=nan, max=nan}; {0,1,0,1,0,1,0,1,0,1,0,1}\n",
       "\t\n"
      ]
     },
     "execution_count": 86,
     "metadata": {},
     "output_type": "execute_result"
    },
    {
     "data": {
      "text/plain": [
       "590; 0.100;nan;0.555556; {min=-0.661, max=0.200}; {min=nan, max=nan}; {0,1,0,1,0,1,0,1,0,1,0,1}\n",
       "\t\n"
      ]
     },
     "execution_count": 86,
     "metadata": {},
     "output_type": "execute_result"
    },
    {
     "data": {
      "text/plain": [
       "591; 0.100;nan;0.555556; {min=-0.661, max=0.200}; {min=nan, max=nan}; {0,1,0,1,0,1,0,1,0,1,0,1}\n",
       "\t\n"
      ]
     },
     "execution_count": 86,
     "metadata": {},
     "output_type": "execute_result"
    },
    {
     "data": {
      "text/plain": [
       "592; 0.100;nan;0.555556; {min=-0.661, max=1.531}; {min=nan, max=nan}; {0,1,0,1,0,1,0,1,0,1,0,1}\n",
       "\t\n"
      ]
     },
     "execution_count": 86,
     "metadata": {},
     "output_type": "execute_result"
    },
    {
     "data": {
      "text/plain": [
       "593; 0.100;nan;0.555556; {min=-0.661, max=0.200}; {min=nan, max=nan}; {0,1,0,1,0,1,0,1,0,1,0,1}\n",
       "\t\n"
      ]
     },
     "execution_count": 86,
     "metadata": {},
     "output_type": "execute_result"
    },
    {
     "data": {
      "text/plain": [
       "594; 0.100;nan;0.555556; {min=-0.661, max=0.200}; {min=nan, max=nan}; {0,1,0,1,0,1,0,1,0,1,0,1}\n",
       "\t\n"
      ]
     },
     "execution_count": 86,
     "metadata": {},
     "output_type": "execute_result"
    },
    {
     "data": {
      "text/plain": [
       "595; 0.100;nan;0.555556; {min=-0.661, max=0.200}; {min=nan, max=nan}; {0,1,0,1,0,1,0,1,0,1,0,1}\n",
       "\t\n"
      ]
     },
     "execution_count": 86,
     "metadata": {},
     "output_type": "execute_result"
    },
    {
     "data": {
      "text/plain": [
       "596; 0.100;nan;0.555556; {min=-0.661, max=0.200}; {min=nan, max=nan}; {0,1,0,1,0,1,0,1,0,1,0,1}\n",
       "\t\n"
      ]
     },
     "execution_count": 86,
     "metadata": {},
     "output_type": "execute_result"
    },
    {
     "data": {
      "text/plain": [
       "597; 0.100;nan;0.555556; {min=-0.661, max=0.200}; {min=nan, max=nan}; {0,1,0,1,0,1,0,1,0,1,0,1}\n",
       "\t\n"
      ]
     },
     "execution_count": 86,
     "metadata": {},
     "output_type": "execute_result"
    },
    {
     "data": {
      "text/plain": [
       "598; 0.100;nan;0.555556; {min=-0.661, max=0.200}; {min=nan, max=nan}; {0,1,0,1,0,1,0,1,0,1,0,1}\n",
       "\t\n"
      ]
     },
     "execution_count": 86,
     "metadata": {},
     "output_type": "execute_result"
    },
    {
     "data": {
      "text/plain": [
       "599; 0.100;nan;0.555556; {min=-0.661, max=0.200}; {min=nan, max=nan}; {0,1,0,1,0,1,0,1,0,1,0,1}\n",
       "\t\n"
      ]
     },
     "execution_count": 86,
     "metadata": {},
     "output_type": "execute_result"
    },
    {
     "data": {
      "text/plain": [
       "600; 0.100;nan;0.625000; {min=-0.661, max=0.214}; {min=nan, max=nan}; {0,1,0,1,0,1,1,0,0,1,0,1}\n",
       "\t\n"
      ]
     },
     "execution_count": 86,
     "metadata": {},
     "output_type": "execute_result"
    },
    {
     "data": {
      "text/plain": [
       "601; 0.100;nan;0.555556; {min=-0.661, max=0.200}; {min=nan, max=nan}; {0,1,0,1,0,1,0,1,0,1,0,1}\n",
       "\t\n"
      ]
     },
     "execution_count": 86,
     "metadata": {},
     "output_type": "execute_result"
    },
    {
     "data": {
      "text/plain": [
       "602; 0.100;nan;0.555556; {min=-0.661, max=0.200}; {min=nan, max=nan}; {0,1,0,1,0,1,0,1,0,1,0,1}\n",
       "\t\n"
      ]
     },
     "execution_count": 86,
     "metadata": {},
     "output_type": "execute_result"
    },
    {
     "data": {
      "text/plain": [
       "603; 0.100;nan;0.424242; {min=-1.000, max=0.277}; {min=nan, max=nan}; {1,0,0,1,0,1,0,1,0,1,0,1}\n",
       "\t\n"
      ]
     },
     "execution_count": 86,
     "metadata": {},
     "output_type": "execute_result"
    },
    {
     "data": {
      "text/plain": [
       "604; 0.100;nan;0.555556; {min=-0.661, max=0.200}; {min=nan, max=nan}; {0,1,0,1,0,1,0,1,0,1,0,1}\n",
       "\t\n"
      ]
     },
     "execution_count": 86,
     "metadata": {},
     "output_type": "execute_result"
    },
    {
     "data": {
      "text/plain": [
       "605; 0.100;nan;0.625000; {min=-0.647, max=0.227}; {min=nan, max=nan}; {0,1,1,0,0,1,0,1,0,1,0,1}\n",
       "\t\n"
      ]
     },
     "execution_count": 86,
     "metadata": {},
     "output_type": "execute_result"
    },
    {
     "data": {
      "text/plain": [
       "606; 0.100;nan;0.625000; {min=-0.647, max=0.227}; {min=nan, max=nan}; {0,1,1,0,0,1,0,1,0,1,0,1}\n",
       "\t\n"
      ]
     },
     "execution_count": 86,
     "metadata": {},
     "output_type": "execute_result"
    },
    {
     "data": {
      "text/plain": [
       "607; 0.100;nan;0.555556; {min=-0.661, max=0.200}; {min=nan, max=nan}; {0,1,0,1,0,1,0,1,0,1,0,1}\n",
       "\t\n"
      ]
     },
     "execution_count": 86,
     "metadata": {},
     "output_type": "execute_result"
    },
    {
     "data": {
      "text/plain": [
       "608; 0.100;nan;0.555556; {min=-0.661, max=0.200}; {min=nan, max=nan}; {0,1,0,1,0,1,0,1,0,1,0,1}\n",
       "\t\n"
      ]
     },
     "execution_count": 86,
     "metadata": {},
     "output_type": "execute_result"
    },
    {
     "data": {
      "text/plain": [
       "609; 0.100;nan;0.424242; {min=-0.661, max=0.231}; {min=nan, max=nan}; {0,1,0,1,1,0,0,1,0,1,0,1}\n",
       "\t\n"
      ]
     },
     "execution_count": 86,
     "metadata": {},
     "output_type": "execute_result"
    },
    {
     "data": {
      "text/plain": [
       "610; 0.100;nan;0.555556; {min=-0.661, max=0.200}; {min=nan, max=nan}; {0,1,0,1,0,1,0,1,0,1,0,1}\n",
       "\t\n"
      ]
     },
     "execution_count": 86,
     "metadata": {},
     "output_type": "execute_result"
    },
    {
     "data": {
      "text/plain": [
       "611; 0.100;nan;0.555556; {min=-0.661, max=0.200}; {min=nan, max=nan}; {0,1,0,1,0,1,0,1,0,1,0,1}\n",
       "\t\n"
      ]
     },
     "execution_count": 86,
     "metadata": {},
     "output_type": "execute_result"
    },
    {
     "data": {
      "text/plain": [
       "612; 0.100;nan;0.555556; {min=-0.661, max=1.331}; {min=nan, max=nan}; {0,1,0,1,0,1,0,1,0,1,0,1}\n",
       "\t\n"
      ]
     },
     "execution_count": 86,
     "metadata": {},
     "output_type": "execute_result"
    },
    {
     "data": {
      "text/plain": [
       "613; 0.100;nan;0.555556; {min=-0.661, max=0.200}; {min=nan, max=nan}; {0,1,0,1,0,1,0,1,0,1,0,1}\n",
       "\t\n"
      ]
     },
     "execution_count": 86,
     "metadata": {},
     "output_type": "execute_result"
    },
    {
     "data": {
      "text/plain": [
       "614; 0.100;nan;0.555556; {min=-0.661, max=0.200}; {min=nan, max=nan}; {0,1,0,1,0,1,0,1,0,1,0,1}\n",
       "\t\n"
      ]
     },
     "execution_count": 86,
     "metadata": {},
     "output_type": "execute_result"
    },
    {
     "data": {
      "text/plain": [
       "615; 0.100;nan;0.424242; {min=-1.000, max=0.277}; {min=nan, max=nan}; {1,0,0,1,0,1,0,1,0,1,0,1}\n",
       "\t\n"
      ]
     },
     "execution_count": 86,
     "metadata": {},
     "output_type": "execute_result"
    },
    {
     "data": {
      "text/plain": [
       "616; 0.100;nan;0.625000; {min=-0.661, max=0.200}; {min=nan, max=nan}; {0,1,0,1,0,1,0,1,0,1,1,0}\n",
       "\t\n"
      ]
     },
     "execution_count": 86,
     "metadata": {},
     "output_type": "execute_result"
    },
    {
     "data": {
      "text/plain": [
       "617; 0.100;nan;0.555556; {min=-0.661, max=0.200}; {min=nan, max=nan}; {0,1,0,1,0,1,0,1,0,1,0,1}\n",
       "\t\n"
      ]
     },
     "execution_count": 86,
     "metadata": {},
     "output_type": "execute_result"
    },
    {
     "data": {
      "text/plain": [
       "618; 0.100;nan;0.625000; {min=-0.661, max=0.200}; {min=nan, max=nan}; {0,1,0,1,0,1,0,1,0,1,1,0}\n",
       "\t\n"
      ]
     },
     "execution_count": 86,
     "metadata": {},
     "output_type": "execute_result"
    },
    {
     "data": {
      "text/plain": [
       "619; 0.100;nan;0.555556; {min=-0.661, max=0.200}; {min=nan, max=nan}; {0,1,0,1,0,1,0,1,0,1,0,1}\n",
       "\t\n"
      ]
     },
     "execution_count": 86,
     "metadata": {},
     "output_type": "execute_result"
    },
    {
     "data": {
      "text/plain": [
       "620; 0.100;nan;0.555556; {min=-0.661, max=0.200}; {min=nan, max=nan}; {0,1,0,1,0,1,0,1,0,1,0,1}\n",
       "\t\n"
      ]
     },
     "execution_count": 86,
     "metadata": {},
     "output_type": "execute_result"
    },
    {
     "data": {
      "text/plain": [
       "621; 0.100;nan;0.555556; {min=-0.661, max=0.200}; {min=nan, max=nan}; {0,1,0,1,0,1,0,1,0,1,0,1}\n",
       "\t\n"
      ]
     },
     "execution_count": 86,
     "metadata": {},
     "output_type": "execute_result"
    },
    {
     "data": {
      "text/plain": [
       "622; 0.100;nan;0.625000; {min=-0.647, max=0.227}; {min=nan, max=nan}; {0,1,1,0,0,1,0,1,0,1,0,1}\n",
       "\t\n"
      ]
     },
     "execution_count": 86,
     "metadata": {},
     "output_type": "execute_result"
    },
    {
     "data": {
      "text/plain": [
       "623; 0.100;nan;0.555556; {min=-0.661, max=0.200}; {min=nan, max=nan}; {0,1,0,1,0,1,0,1,0,1,0,1}\n",
       "\t\n"
      ]
     },
     "execution_count": 86,
     "metadata": {},
     "output_type": "execute_result"
    },
    {
     "data": {
      "text/plain": [
       "624; 0.100;nan;0.555556; {min=-0.661, max=0.200}; {min=nan, max=nan}; {0,1,0,1,0,1,0,1,0,1,0,1}\n",
       "\t\n"
      ]
     },
     "execution_count": 86,
     "metadata": {},
     "output_type": "execute_result"
    },
    {
     "data": {
      "text/plain": [
       "625; 0.100;nan;0.555556; {min=-0.661, max=0.200}; {min=nan, max=nan}; {0,1,0,1,0,1,0,1,0,1,0,1}\n",
       "\t\n"
      ]
     },
     "execution_count": 86,
     "metadata": {},
     "output_type": "execute_result"
    },
    {
     "data": {
      "text/plain": [
       "626; 0.100;nan;0.555556; {min=-0.661, max=0.200}; {min=nan, max=nan}; {0,1,0,1,0,1,0,1,0,1,0,1}\n",
       "\t\n"
      ]
     },
     "execution_count": 86,
     "metadata": {},
     "output_type": "execute_result"
    },
    {
     "data": {
      "text/plain": [
       "627; 0.100;nan;0.555556; {min=-0.661, max=0.200}; {min=nan, max=nan}; {0,1,0,1,0,1,0,1,0,1,0,1}\n",
       "\t\n"
      ]
     },
     "execution_count": 86,
     "metadata": {},
     "output_type": "execute_result"
    },
    {
     "data": {
      "text/plain": [
       "628; 0.100;nan;0.555556; {min=-0.661, max=0.200}; {min=nan, max=nan}; {0,1,0,1,0,1,0,1,0,1,0,1}\n",
       "\t\n"
      ]
     },
     "execution_count": 86,
     "metadata": {},
     "output_type": "execute_result"
    },
    {
     "data": {
      "text/plain": [
       "629; 0.100;nan;0.555556; {min=-0.661, max=0.200}; {min=nan, max=nan}; {0,1,0,1,0,1,0,1,0,1,0,1}\n",
       "\t\n"
      ]
     },
     "execution_count": 86,
     "metadata": {},
     "output_type": "execute_result"
    },
    {
     "data": {
      "text/plain": [
       "630; 0.100;nan;0.555556; {min=-0.661, max=0.200}; {min=nan, max=nan}; {0,1,0,1,0,1,0,1,0,1,0,1}\n",
       "\t\n"
      ]
     },
     "execution_count": 86,
     "metadata": {},
     "output_type": "execute_result"
    },
    {
     "data": {
      "text/plain": [
       "631; 0.100;nan;0.555556; {min=-0.661, max=0.200}; {min=nan, max=nan}; {0,1,0,1,0,1,0,1,0,1,0,1}\n",
       "\t\n"
      ]
     },
     "execution_count": 86,
     "metadata": {},
     "output_type": "execute_result"
    },
    {
     "data": {
      "text/plain": [
       "632; 0.100;nan;0.555556; {min=-0.661, max=0.200}; {min=nan, max=nan}; {0,1,0,1,0,1,0,1,0,1,0,1}\n",
       "\t\n"
      ]
     },
     "execution_count": 86,
     "metadata": {},
     "output_type": "execute_result"
    },
    {
     "data": {
      "text/plain": [
       "633; 0.100;nan;0.555556; {min=-0.661, max=0.200}; {min=nan, max=nan}; {0,1,0,1,0,1,0,1,0,1,0,1}\n",
       "\t\n"
      ]
     },
     "execution_count": 86,
     "metadata": {},
     "output_type": "execute_result"
    },
    {
     "data": {
      "text/plain": [
       "634; 0.100;nan;0.555556; {min=-0.661, max=0.200}; {min=nan, max=nan}; {0,1,0,1,0,1,0,1,0,1,0,1}\n",
       "\t\n"
      ]
     },
     "execution_count": 86,
     "metadata": {},
     "output_type": "execute_result"
    },
    {
     "data": {
      "text/plain": [
       "635; 0.100;nan;0.555556; {min=-0.661, max=0.200}; {min=nan, max=nan}; {0,1,0,1,0,1,0,1,0,1,0,1}\n",
       "\t\n"
      ]
     },
     "execution_count": 86,
     "metadata": {},
     "output_type": "execute_result"
    },
    {
     "data": {
      "text/plain": [
       "636; 0.100;nan;0.555556; {min=-0.661, max=0.200}; {min=nan, max=nan}; {0,1,0,1,0,1,0,1,0,1,0,1}\n",
       "\t\n"
      ]
     },
     "execution_count": 86,
     "metadata": {},
     "output_type": "execute_result"
    },
    {
     "data": {
      "text/plain": [
       "637; 0.100;nan;0.555556; {min=-0.661, max=0.200}; {min=nan, max=nan}; {0,1,0,1,0,1,0,1,0,1,0,1}\n",
       "\t\n"
      ]
     },
     "execution_count": 86,
     "metadata": {},
     "output_type": "execute_result"
    },
    {
     "data": {
      "text/plain": [
       "638; 0.100;nan;0.375000; {min=-0.661, max=0.200}; {min=nan, max=nan}; {0,1,0,1,0,1,0,1,1,0,0,1}\n",
       "\t\n"
      ]
     },
     "execution_count": 86,
     "metadata": {},
     "output_type": "execute_result"
    },
    {
     "data": {
      "text/plain": [
       "639; 0.100;nan;0.555556; {min=-0.661, max=0.200}; {min=nan, max=nan}; {0,1,0,1,0,1,0,1,0,1,0,1}\n",
       "\t\n"
      ]
     },
     "execution_count": 86,
     "metadata": {},
     "output_type": "execute_result"
    },
    {
     "data": {
      "text/plain": [
       "640; 0.100;nan;0.555556; {min=-0.661, max=0.200}; {min=nan, max=nan}; {0,1,0,1,0,1,0,1,0,1,0,1}\n",
       "\t\n"
      ]
     },
     "execution_count": 86,
     "metadata": {},
     "output_type": "execute_result"
    },
    {
     "data": {
      "text/plain": [
       "641; 0.100;nan;0.555556; {min=-0.661, max=0.200}; {min=nan, max=nan}; {0,1,0,1,0,1,0,1,0,1,0,1}\n",
       "\t\n"
      ]
     },
     "execution_count": 86,
     "metadata": {},
     "output_type": "execute_result"
    },
    {
     "data": {
      "text/plain": [
       "642; 0.100;nan;0.375000; {min=-0.661, max=0.200}; {min=nan, max=nan}; {0,1,0,1,0,1,0,1,1,0,0,1}\n",
       "\t\n"
      ]
     },
     "execution_count": 86,
     "metadata": {},
     "output_type": "execute_result"
    },
    {
     "data": {
      "text/plain": [
       "643; 0.100;nan;0.555556; {min=-0.661, max=0.200}; {min=nan, max=nan}; {0,1,0,1,0,1,0,1,0,1,0,1}\n",
       "\t\n"
      ]
     },
     "execution_count": 86,
     "metadata": {},
     "output_type": "execute_result"
    },
    {
     "data": {
      "text/plain": [
       "644; 0.100;nan;0.424242; {min=-1.000, max=0.277}; {min=nan, max=nan}; {1,0,0,1,0,1,0,1,0,1,0,1}\n",
       "\t\n"
      ]
     },
     "execution_count": 86,
     "metadata": {},
     "output_type": "execute_result"
    },
    {
     "data": {
      "text/plain": [
       "645; 0.100;nan;0.555556; {min=-0.661, max=0.200}; {min=nan, max=nan}; {0,1,0,1,0,1,0,1,0,1,0,1}\n",
       "\t\n"
      ]
     },
     "execution_count": 86,
     "metadata": {},
     "output_type": "execute_result"
    },
    {
     "data": {
      "text/plain": [
       "646; 0.100;nan;0.424242; {min=-1.000, max=0.277}; {min=nan, max=nan}; {1,0,0,1,0,1,0,1,0,1,0,1}\n",
       "\t\n"
      ]
     },
     "execution_count": 86,
     "metadata": {},
     "output_type": "execute_result"
    },
    {
     "data": {
      "text/plain": [
       "647; 0.100;nan;0.555556; {min=-0.661, max=0.200}; {min=nan, max=nan}; {0,1,0,1,0,1,0,1,0,1,0,1}\n",
       "\t\n"
      ]
     },
     "execution_count": 86,
     "metadata": {},
     "output_type": "execute_result"
    },
    {
     "data": {
      "text/plain": [
       "648; 0.100;nan;0.555556; {min=-0.661, max=0.200}; {min=nan, max=nan}; {0,1,0,1,0,1,0,1,0,1,0,1}\n",
       "\t\n"
      ]
     },
     "execution_count": 86,
     "metadata": {},
     "output_type": "execute_result"
    },
    {
     "data": {
      "text/plain": [
       "649; 0.100;nan;0.555556; {min=-0.661, max=0.200}; {min=nan, max=nan}; {0,1,0,1,0,1,0,1,0,1,0,1}\n",
       "\t\n"
      ]
     },
     "execution_count": 86,
     "metadata": {},
     "output_type": "execute_result"
    },
    {
     "data": {
      "text/plain": [
       "650; 0.100;nan;0.555556; {min=-0.661, max=0.200}; {min=nan, max=nan}; {0,1,0,1,0,1,0,1,0,1,0,1}\n",
       "\t\n"
      ]
     },
     "execution_count": 86,
     "metadata": {},
     "output_type": "execute_result"
    },
    {
     "data": {
      "text/plain": [
       "651; 0.100;nan;0.555556; {min=-0.661, max=0.200}; {min=nan, max=nan}; {0,1,0,1,0,1,0,1,0,1,0,1}\n",
       "\t\n"
      ]
     },
     "execution_count": 86,
     "metadata": {},
     "output_type": "execute_result"
    },
    {
     "data": {
      "text/plain": [
       "652; 0.100;nan;0.555556; {min=-0.661, max=0.200}; {min=nan, max=nan}; {0,1,0,1,0,1,0,1,0,1,0,1}\n",
       "\t\n"
      ]
     },
     "execution_count": 86,
     "metadata": {},
     "output_type": "execute_result"
    },
    {
     "data": {
      "text/plain": [
       "653; 0.100;nan;0.555556; {min=-0.661, max=0.200}; {min=nan, max=nan}; {0,1,0,1,0,1,0,1,0,1,0,1}\n",
       "\t\n"
      ]
     },
     "execution_count": 86,
     "metadata": {},
     "output_type": "execute_result"
    },
    {
     "data": {
      "text/plain": [
       "654; 0.100;nan;0.482759; {min=-46406943779961131085294243403328773498898079159800141801826894984107912069120.000, max=0.277}; {min=nan, max=nan}; {1,0,0,1,0,1,0,1,0,1,1,0}\n",
       "\t\n"
      ]
     },
     "execution_count": 86,
     "metadata": {},
     "output_type": "execute_result"
    },
    {
     "data": {
      "text/plain": [
       "655; 0.100;nan;0.625000; {min=-0.661, max=0.200}; {min=nan, max=nan}; {0,1,0,1,0,1,0,1,0,1,1,0}\n",
       "\t\n"
      ]
     },
     "execution_count": 86,
     "metadata": {},
     "output_type": "execute_result"
    },
    {
     "data": {
      "text/plain": [
       "656; 0.100;nan;0.555556; {min=-0.661, max=0.200}; {min=nan, max=nan}; {0,1,0,1,0,1,0,1,0,1,0,1}\n",
       "\t\n"
      ]
     },
     "execution_count": 86,
     "metadata": {},
     "output_type": "execute_result"
    },
    {
     "data": {
      "text/plain": [
       "657; 0.100;nan;0.555556; {min=-0.661, max=0.200}; {min=nan, max=nan}; {0,1,0,1,0,1,0,1,0,1,0,1}\n",
       "\t\n"
      ]
     },
     "execution_count": 86,
     "metadata": {},
     "output_type": "execute_result"
    },
    {
     "data": {
      "text/plain": [
       "658; 0.100;nan;0.555556; {min=-0.661, max=0.200}; {min=nan, max=nan}; {0,1,0,1,0,1,0,1,0,1,0,1}\n",
       "\t\n"
      ]
     },
     "execution_count": 86,
     "metadata": {},
     "output_type": "execute_result"
    },
    {
     "data": {
      "text/plain": [
       "659; 0.100;nan;0.555556; {min=-0.661, max=0.200}; {min=nan, max=nan}; {0,1,0,1,0,1,0,1,0,1,0,1}\n",
       "\t\n"
      ]
     },
     "execution_count": 86,
     "metadata": {},
     "output_type": "execute_result"
    },
    {
     "data": {
      "text/plain": [
       "660; 0.100;nan;0.625000; {min=-0.647, max=0.227}; {min=nan, max=nan}; {0,1,1,0,0,1,0,1,0,1,0,1}\n",
       "\t\n"
      ]
     },
     "execution_count": 86,
     "metadata": {},
     "output_type": "execute_result"
    },
    {
     "data": {
      "text/plain": [
       "661; 0.100;nan;0.555556; {min=-0.661, max=0.200}; {min=nan, max=nan}; {0,1,0,1,0,1,0,1,0,1,0,1}\n",
       "\t\n"
      ]
     },
     "execution_count": 86,
     "metadata": {},
     "output_type": "execute_result"
    },
    {
     "data": {
      "text/plain": [
       "662; 0.100;nan;0.555556; {min=-0.661, max=0.200}; {min=nan, max=nan}; {0,1,0,1,0,1,0,1,0,1,0,1}\n",
       "\t\n"
      ]
     },
     "execution_count": 86,
     "metadata": {},
     "output_type": "execute_result"
    },
    {
     "data": {
      "text/plain": [
       "663; 0.100;nan;0.555556; {min=-0.661, max=0.200}; {min=nan, max=nan}; {0,1,0,1,0,1,0,1,0,1,0,1}\n",
       "\t\n"
      ]
     },
     "execution_count": 86,
     "metadata": {},
     "output_type": "execute_result"
    },
    {
     "data": {
      "text/plain": [
       "664; 0.100;nan;0.555556; {min=-0.661, max=0.200}; {min=nan, max=nan}; {0,1,0,1,0,1,0,1,0,1,0,1}\n",
       "\t\n"
      ]
     },
     "execution_count": 86,
     "metadata": {},
     "output_type": "execute_result"
    },
    {
     "data": {
      "text/plain": [
       "665; 0.100;nan;0.555556; {min=-0.661, max=0.200}; {min=nan, max=nan}; {0,1,0,1,0,1,0,1,0,1,0,1}\n",
       "\t\n"
      ]
     },
     "execution_count": 86,
     "metadata": {},
     "output_type": "execute_result"
    },
    {
     "data": {
      "text/plain": [
       "666; 0.100;nan;0.424242; {min=-0.661, max=0.231}; {min=nan, max=nan}; {0,1,0,1,1,0,0,1,0,1,0,1}\n",
       "\t\n"
      ]
     },
     "execution_count": 86,
     "metadata": {},
     "output_type": "execute_result"
    },
    {
     "data": {
      "text/plain": [
       "667; 0.100;nan;0.424242; {min=-0.661, max=0.231}; {min=nan, max=nan}; {0,1,0,1,1,0,0,1,0,1,0,1}\n",
       "\t\n"
      ]
     },
     "execution_count": 86,
     "metadata": {},
     "output_type": "execute_result"
    },
    {
     "data": {
      "text/plain": [
       "668; 0.100;nan;0.555556; {min=-0.661, max=0.200}; {min=nan, max=nan}; {0,1,0,1,0,1,0,1,0,1,0,1}\n",
       "\t\n"
      ]
     },
     "execution_count": 86,
     "metadata": {},
     "output_type": "execute_result"
    },
    {
     "data": {
      "text/plain": [
       "669; 0.100;nan;0.625000; {min=-0.661, max=0.200}; {min=nan, max=nan}; {0,1,0,1,0,1,0,1,0,1,1,0}\n",
       "\t\n"
      ]
     },
     "execution_count": 86,
     "metadata": {},
     "output_type": "execute_result"
    },
    {
     "data": {
      "text/plain": [
       "670; 0.100;nan;0.555556; {min=-0.661, max=0.200}; {min=nan, max=nan}; {0,1,0,1,0,1,0,1,0,1,0,1}\n",
       "\t\n"
      ]
     },
     "execution_count": 86,
     "metadata": {},
     "output_type": "execute_result"
    },
    {
     "data": {
      "text/plain": [
       "671; 0.100;nan;0.555556; {min=-0.661, max=0.200}; {min=nan, max=nan}; {0,1,0,1,0,1,0,1,0,1,0,1}\n",
       "\t\n"
      ]
     },
     "execution_count": 86,
     "metadata": {},
     "output_type": "execute_result"
    },
    {
     "data": {
      "text/plain": [
       "672; 0.100;nan;0.555556; {min=-0.661, max=0.200}; {min=nan, max=nan}; {0,1,0,1,0,1,0,1,0,1,0,1}\n",
       "\t\n"
      ]
     },
     "execution_count": 86,
     "metadata": {},
     "output_type": "execute_result"
    },
    {
     "data": {
      "text/plain": [
       "673; 0.100;nan;0.428571; {min=-0.661, max=0.200}; {min=nan, max=nan}; {0,1,0,1,0,1,0,1,1,0,1,0}\n",
       "\t\n"
      ]
     },
     "execution_count": 86,
     "metadata": {},
     "output_type": "execute_result"
    },
    {
     "data": {
      "text/plain": [
       "674; 0.100;nan;0.555556; {min=-0.661, max=0.200}; {min=nan, max=nan}; {0,1,0,1,0,1,0,1,0,1,0,1}\n",
       "\t\n"
      ]
     },
     "execution_count": 86,
     "metadata": {},
     "output_type": "execute_result"
    },
    {
     "data": {
      "text/plain": [
       "675; 0.100;nan;0.555556; {min=-0.661, max=0.200}; {min=nan, max=nan}; {0,1,0,1,0,1,0,1,0,1,0,1}\n",
       "\t\n"
      ]
     },
     "execution_count": 86,
     "metadata": {},
     "output_type": "execute_result"
    },
    {
     "data": {
      "text/plain": [
       "676; 0.100;nan;0.555556; {min=-0.661, max=0.200}; {min=nan, max=nan}; {0,1,0,1,0,1,0,1,0,1,0,1}\n",
       "\t\n"
      ]
     },
     "execution_count": 86,
     "metadata": {},
     "output_type": "execute_result"
    },
    {
     "data": {
      "text/plain": [
       "677; 0.100;nan;0.555556; {min=-0.661, max=0.200}; {min=nan, max=nan}; {0,1,0,1,0,1,0,1,0,1,0,1}\n",
       "\t\n"
      ]
     },
     "execution_count": 86,
     "metadata": {},
     "output_type": "execute_result"
    },
    {
     "data": {
      "text/plain": [
       "678; 0.100;nan;0.555556; {min=-0.661, max=0.200}; {min=nan, max=nan}; {0,1,0,1,0,1,0,1,0,1,0,1}\n",
       "\t\n"
      ]
     },
     "execution_count": 86,
     "metadata": {},
     "output_type": "execute_result"
    },
    {
     "data": {
      "text/plain": [
       "679; 0.100;nan;0.555556; {min=-0.661, max=0.200}; {min=nan, max=nan}; {0,1,0,1,0,1,0,1,0,1,0,1}\n",
       "\t\n"
      ]
     },
     "execution_count": 86,
     "metadata": {},
     "output_type": "execute_result"
    },
    {
     "data": {
      "text/plain": [
       "680; 0.100;nan;0.424242; {min=-1.000, max=0.277}; {min=nan, max=nan}; {1,0,0,1,0,1,0,1,0,1,0,1}\n",
       "\t\n"
      ]
     },
     "execution_count": 86,
     "metadata": {},
     "output_type": "execute_result"
    },
    {
     "data": {
      "text/plain": [
       "681; 0.100;nan;0.555556; {min=-0.661, max=0.200}; {min=nan, max=nan}; {0,1,0,1,0,1,0,1,0,1,0,1}\n",
       "\t\n"
      ]
     },
     "execution_count": 86,
     "metadata": {},
     "output_type": "execute_result"
    },
    {
     "data": {
      "text/plain": [
       "682; 0.100;nan;0.555556; {min=-0.661, max=0.200}; {min=nan, max=nan}; {0,1,0,1,0,1,0,1,0,1,0,1}\n",
       "\t\n"
      ]
     },
     "execution_count": 86,
     "metadata": {},
     "output_type": "execute_result"
    },
    {
     "data": {
      "text/plain": [
       "683; 0.100;nan;0.555556; {min=-0.661, max=0.200}; {min=nan, max=nan}; {0,1,0,1,0,1,0,1,0,1,0,1}\n",
       "\t\n"
      ]
     },
     "execution_count": 86,
     "metadata": {},
     "output_type": "execute_result"
    },
    {
     "data": {
      "text/plain": [
       "684; 0.100;nan;0.375000; {min=-0.661, max=0.200}; {min=nan, max=nan}; {0,1,0,1,0,1,0,1,1,0,0,1}\n",
       "\t\n"
      ]
     },
     "execution_count": 86,
     "metadata": {},
     "output_type": "execute_result"
    },
    {
     "data": {
      "text/plain": [
       "685; 0.100;nan;0.625000; {min=-0.661, max=0.200}; {min=nan, max=nan}; {0,1,0,1,0,1,0,1,0,1,1,0}\n",
       "\t\n"
      ]
     },
     "execution_count": 86,
     "metadata": {},
     "output_type": "execute_result"
    },
    {
     "data": {
      "text/plain": [
       "686; 0.100;nan;0.424242; {min=-1.000, max=0.277}; {min=nan, max=nan}; {1,0,0,1,0,1,0,1,0,1,0,1}\n",
       "\t\n"
      ]
     },
     "execution_count": 86,
     "metadata": {},
     "output_type": "execute_result"
    },
    {
     "data": {
      "text/plain": [
       "687; 0.100;nan;0.555556; {min=-0.661, max=0.200}; {min=nan, max=nan}; {0,1,0,1,0,1,0,1,0,1,0,1}\n",
       "\t\n"
      ]
     },
     "execution_count": 86,
     "metadata": {},
     "output_type": "execute_result"
    },
    {
     "data": {
      "text/plain": [
       "688; 0.100;nan;0.555556; {min=-0.661, max=0.200}; {min=nan, max=nan}; {0,1,0,1,0,1,0,1,0,1,0,1}\n",
       "\t\n"
      ]
     },
     "execution_count": 86,
     "metadata": {},
     "output_type": "execute_result"
    },
    {
     "data": {
      "text/plain": [
       "689; 0.100;nan;0.555556; {min=-0.661, max=0.200}; {min=nan, max=nan}; {0,1,0,1,0,1,0,1,0,1,0,1}\n",
       "\t\n"
      ]
     },
     "execution_count": 86,
     "metadata": {},
     "output_type": "execute_result"
    },
    {
     "data": {
      "text/plain": [
       "690; 0.100;nan;0.555556; {min=-0.661, max=0.200}; {min=nan, max=nan}; {0,1,0,1,0,1,0,1,0,1,0,1}\n",
       "\t\n"
      ]
     },
     "execution_count": 86,
     "metadata": {},
     "output_type": "execute_result"
    },
    {
     "data": {
      "text/plain": [
       "691; 0.100;nan;0.625000; {min=-0.647, max=0.227}; {min=nan, max=nan}; {0,1,1,0,0,1,0,1,0,1,0,1}\n",
       "\t\n"
      ]
     },
     "execution_count": 86,
     "metadata": {},
     "output_type": "execute_result"
    },
    {
     "data": {
      "text/plain": [
       "692; 0.100;nan;0.555556; {min=-0.661, max=0.200}; {min=nan, max=nan}; {0,1,0,1,0,1,0,1,0,1,0,1}\n",
       "\t\n"
      ]
     },
     "execution_count": 86,
     "metadata": {},
     "output_type": "execute_result"
    },
    {
     "data": {
      "text/plain": [
       "693; 0.100;nan;0.625000; {min=-0.661, max=0.214}; {min=nan, max=nan}; {0,1,0,1,0,1,1,0,0,1,0,1}\n",
       "\t\n"
      ]
     },
     "execution_count": 86,
     "metadata": {},
     "output_type": "execute_result"
    },
    {
     "data": {
      "text/plain": [
       "694; 0.100;nan;0.555556; {min=-0.661, max=0.200}; {min=nan, max=nan}; {0,1,0,1,0,1,0,1,0,1,0,1}\n",
       "\t\n"
      ]
     },
     "execution_count": 86,
     "metadata": {},
     "output_type": "execute_result"
    },
    {
     "data": {
      "text/plain": [
       "695; 0.100;nan;0.555556; {min=-0.661, max=0.200}; {min=nan, max=nan}; {0,1,0,1,0,1,0,1,0,1,0,1}\n",
       "\t\n"
      ]
     },
     "execution_count": 86,
     "metadata": {},
     "output_type": "execute_result"
    },
    {
     "data": {
      "text/plain": [
       "696; 0.100;nan;0.375000; {min=-0.661, max=0.200}; {min=nan, max=nan}; {0,1,0,1,0,1,0,1,1,0,0,1}\n",
       "\t\n"
      ]
     },
     "execution_count": 86,
     "metadata": {},
     "output_type": "execute_result"
    },
    {
     "data": {
      "text/plain": [
       "697; 0.100;nan;0.555556; {min=-0.661, max=0.200}; {min=nan, max=nan}; {0,1,0,1,0,1,0,1,0,1,0,1}\n",
       "\t\n"
      ]
     },
     "execution_count": 86,
     "metadata": {},
     "output_type": "execute_result"
    },
    {
     "data": {
      "text/plain": [
       "698; 0.100;nan;0.555556; {min=-0.661, max=0.200}; {min=nan, max=nan}; {0,1,0,1,0,1,0,1,0,1,0,1}\n",
       "\t\n"
      ]
     },
     "execution_count": 86,
     "metadata": {},
     "output_type": "execute_result"
    },
    {
     "data": {
      "text/plain": [
       "699; 0.100;nan;0.555556; {min=-0.661, max=1.531}; {min=nan, max=nan}; {0,1,0,1,0,1,0,1,0,1,0,1}\n",
       "\t\n"
      ]
     },
     "execution_count": 86,
     "metadata": {},
     "output_type": "execute_result"
    },
    {
     "data": {
      "text/plain": [
       "700; 0.100;nan;0.424242; {min=-0.661, max=0.231}; {min=nan, max=nan}; {0,1,0,1,1,0,0,1,0,1,0,1}\n",
       "\t\n"
      ]
     },
     "execution_count": 86,
     "metadata": {},
     "output_type": "execute_result"
    },
    {
     "data": {
      "text/plain": [
       "701; 0.100;nan;0.555556; {min=-0.661, max=0.200}; {min=nan, max=nan}; {0,1,0,1,0,1,0,1,0,1,0,1}\n",
       "\t\n"
      ]
     },
     "execution_count": 86,
     "metadata": {},
     "output_type": "execute_result"
    },
    {
     "data": {
      "text/plain": [
       "702; 0.100;nan;0.555556; {min=-0.661, max=0.200}; {min=nan, max=nan}; {0,1,0,1,0,1,0,1,0,1,0,1}\n",
       "\t\n"
      ]
     },
     "execution_count": 86,
     "metadata": {},
     "output_type": "execute_result"
    },
    {
     "data": {
      "text/plain": [
       "703; 0.100;nan;0.555556; {min=-0.661, max=0.200}; {min=nan, max=nan}; {0,1,0,1,0,1,0,1,0,1,0,1}\n",
       "\t\n"
      ]
     },
     "execution_count": 86,
     "metadata": {},
     "output_type": "execute_result"
    },
    {
     "data": {
      "text/plain": [
       "704; 0.100;nan;0.555556; {min=-0.661, max=0.200}; {min=nan, max=nan}; {0,1,0,1,0,1,0,1,0,1,0,1}\n",
       "\t\n"
      ]
     },
     "execution_count": 86,
     "metadata": {},
     "output_type": "execute_result"
    },
    {
     "data": {
      "text/plain": [
       "705; 0.100;nan;0.375000; {min=-0.661, max=0.200}; {min=nan, max=nan}; {0,1,0,1,0,1,0,1,1,0,0,1}\n",
       "\t\n"
      ]
     },
     "execution_count": 86,
     "metadata": {},
     "output_type": "execute_result"
    },
    {
     "data": {
      "text/plain": [
       "706; 0.100;nan;0.555556; {min=-0.661, max=0.200}; {min=nan, max=nan}; {0,1,0,1,0,1,0,1,0,1,0,1}\n",
       "\t\n"
      ]
     },
     "execution_count": 86,
     "metadata": {},
     "output_type": "execute_result"
    },
    {
     "data": {
      "text/plain": [
       "707; 0.100;nan;0.555556; {min=-0.661, max=0.200}; {min=nan, max=nan}; {0,1,0,1,0,1,0,1,0,1,0,1}\n",
       "\t\n"
      ]
     },
     "execution_count": 86,
     "metadata": {},
     "output_type": "execute_result"
    },
    {
     "data": {
      "text/plain": [
       "708; 0.100;nan;0.555556; {min=-0.661, max=0.200}; {min=nan, max=nan}; {0,1,0,1,0,1,0,1,0,1,0,1}\n",
       "\t\n"
      ]
     },
     "execution_count": 86,
     "metadata": {},
     "output_type": "execute_result"
    },
    {
     "data": {
      "text/plain": [
       "709; 0.100;nan;0.555556; {min=-0.661, max=0.200}; {min=nan, max=nan}; {0,1,0,1,0,1,0,1,0,1,0,1}\n",
       "\t\n"
      ]
     },
     "execution_count": 86,
     "metadata": {},
     "output_type": "execute_result"
    },
    {
     "data": {
      "text/plain": [
       "710; 0.100;nan;0.555556; {min=-0.661, max=0.200}; {min=nan, max=nan}; {0,1,0,1,0,1,0,1,0,1,0,1}\n",
       "\t\n"
      ]
     },
     "execution_count": 86,
     "metadata": {},
     "output_type": "execute_result"
    },
    {
     "data": {
      "text/plain": [
       "711; 0.100;nan;0.625000; {min=-0.661, max=0.200}; {min=nan, max=nan}; {0,1,0,1,0,1,0,1,0,1,1,0}\n",
       "\t\n"
      ]
     },
     "execution_count": 86,
     "metadata": {},
     "output_type": "execute_result"
    },
    {
     "data": {
      "text/plain": [
       "712; 0.100;nan;0.555556; {min=-0.661, max=622215388145999148368461393873456339583124283305621242462947806476367981739662448318325872194802247634832119420465289573904342966429740862277349532110037285607338966132279667235033431234202277191926107051355851406422687609757106176.000}; {min=nan, max=nan}; {0,1,0,1,0,1,0,1,0,1,0,1}\n",
       "\t\n"
      ]
     },
     "execution_count": 86,
     "metadata": {},
     "output_type": "execute_result"
    },
    {
     "data": {
      "text/plain": [
       "713; 0.100;nan;0.625000; {min=-0.661, max=0.214}; {min=nan, max=nan}; {0,1,0,1,0,1,1,0,0,1,0,1}\n",
       "\t\n"
      ]
     },
     "execution_count": 86,
     "metadata": {},
     "output_type": "execute_result"
    },
    {
     "data": {
      "text/plain": [
       "714; 0.100;nan;0.424242; {min=-1.000, max=0.277}; {min=nan, max=nan}; {1,0,0,1,0,1,0,1,0,1,0,1}\n",
       "\t\n"
      ]
     },
     "execution_count": 86,
     "metadata": {},
     "output_type": "execute_result"
    },
    {
     "data": {
      "text/plain": [
       "715; 0.100;nan;0.555556; {min=-0.661, max=0.200}; {min=nan, max=nan}; {0,1,0,1,0,1,0,1,0,1,0,1}\n",
       "\t\n"
      ]
     },
     "execution_count": 86,
     "metadata": {},
     "output_type": "execute_result"
    },
    {
     "data": {
      "text/plain": [
       "716; 0.100;nan;0.555556; {min=-0.661, max=0.200}; {min=nan, max=nan}; {0,1,0,1,0,1,0,1,0,1,0,1}\n",
       "\t\n"
      ]
     },
     "execution_count": 86,
     "metadata": {},
     "output_type": "execute_result"
    },
    {
     "data": {
      "text/plain": [
       "717; 0.100;nan;0.555556; {min=-0.661, max=0.200}; {min=nan, max=nan}; {0,1,0,1,0,1,0,1,0,1,0,1}\n",
       "\t\n"
      ]
     },
     "execution_count": 86,
     "metadata": {},
     "output_type": "execute_result"
    },
    {
     "data": {
      "text/plain": [
       "718; 0.100;nan;0.625000; {min=-0.661, max=0.200}; {min=nan, max=nan}; {0,1,0,1,0,1,0,1,0,1,1,0}\n",
       "\t\n"
      ]
     },
     "execution_count": 86,
     "metadata": {},
     "output_type": "execute_result"
    },
    {
     "data": {
      "text/plain": [
       "719; 0.100;nan;0.555556; {min=-0.661, max=0.200}; {min=nan, max=nan}; {0,1,0,1,0,1,0,1,0,1,0,1}\n",
       "\t\n"
      ]
     },
     "execution_count": 86,
     "metadata": {},
     "output_type": "execute_result"
    },
    {
     "data": {
      "text/plain": [
       "720; 0.100;nan;0.555556; {min=-0.661, max=0.200}; {min=nan, max=nan}; {0,1,0,1,0,1,0,1,0,1,0,1}\n",
       "\t\n"
      ]
     },
     "execution_count": 86,
     "metadata": {},
     "output_type": "execute_result"
    },
    {
     "data": {
      "text/plain": [
       "721; 0.100;nan;0.555556; {min=-0.661, max=0.200}; {min=nan, max=nan}; {0,1,0,1,0,1,0,1,0,1,0,1}\n",
       "\t\n"
      ]
     },
     "execution_count": 86,
     "metadata": {},
     "output_type": "execute_result"
    },
    {
     "data": {
      "text/plain": [
       "722; 0.100;nan;0.555556; {min=-0.661, max=0.200}; {min=nan, max=nan}; {0,1,0,1,0,1,0,1,0,1,0,1}\n",
       "\t\n"
      ]
     },
     "execution_count": 86,
     "metadata": {},
     "output_type": "execute_result"
    },
    {
     "data": {
      "text/plain": [
       "723; 0.100;nan;0.555556; {min=-0.661, max=0.200}; {min=nan, max=nan}; {0,1,0,1,0,1,0,1,0,1,0,1}\n",
       "\t\n"
      ]
     },
     "execution_count": 86,
     "metadata": {},
     "output_type": "execute_result"
    },
    {
     "data": {
      "text/plain": [
       "724; 0.100;nan;0.424242; {min=-0.661, max=0.231}; {min=nan, max=nan}; {0,1,0,1,1,0,0,1,0,1,0,1}\n",
       "\t\n"
      ]
     },
     "execution_count": 86,
     "metadata": {},
     "output_type": "execute_result"
    },
    {
     "data": {
      "text/plain": [
       "725; 0.100;nan;0.555556; {min=-0.661, max=0.200}; {min=nan, max=nan}; {0,1,0,1,0,1,0,1,0,1,0,1}\n",
       "\t\n"
      ]
     },
     "execution_count": 86,
     "metadata": {},
     "output_type": "execute_result"
    },
    {
     "data": {
      "text/plain": [
       "726; 0.100;nan;0.555556; {min=-0.661, max=0.200}; {min=nan, max=nan}; {0,1,0,1,0,1,0,1,0,1,0,1}\n",
       "\t\n"
      ]
     },
     "execution_count": 86,
     "metadata": {},
     "output_type": "execute_result"
    },
    {
     "data": {
      "text/plain": [
       "727; 0.100;nan;0.555556; {min=-0.661, max=0.200}; {min=nan, max=nan}; {0,1,0,1,0,1,0,1,0,1,0,1}\n",
       "\t\n"
      ]
     },
     "execution_count": 86,
     "metadata": {},
     "output_type": "execute_result"
    },
    {
     "data": {
      "text/plain": [
       "728; 0.100;nan;0.375000; {min=-5373556972749858764795711482140452872871624160390826063359730934795617467522785812348733306421100723027038962811167407743483827549160353336012207531491328.000, max=0.200}; {min=nan, max=nan}; {0,1,0,1,0,1,0,1,1,0,0,1}\n",
       "\t\n"
      ]
     },
     "execution_count": 86,
     "metadata": {},
     "output_type": "execute_result"
    },
    {
     "data": {
      "text/plain": [
       "729; 0.100;nan;0.555556; {min=-0.661, max=0.200}; {min=nan, max=nan}; {0,1,0,1,0,1,0,1,0,1,0,1}\n",
       "\t\n"
      ]
     },
     "execution_count": 86,
     "metadata": {},
     "output_type": "execute_result"
    },
    {
     "data": {
      "text/plain": [
       "730; 0.100;nan;0.555556; {min=-0.661, max=0.200}; {min=nan, max=nan}; {0,1,0,1,0,1,0,1,0,1,0,1}\n",
       "\t\n"
      ]
     },
     "execution_count": 86,
     "metadata": {},
     "output_type": "execute_result"
    },
    {
     "data": {
      "text/plain": [
       "731; 0.100;nan;0.555556; {min=-0.661, max=0.200}; {min=nan, max=nan}; {0,1,0,1,0,1,0,1,0,1,0,1}\n",
       "\t\n"
      ]
     },
     "execution_count": 86,
     "metadata": {},
     "output_type": "execute_result"
    },
    {
     "data": {
      "text/plain": [
       "732; 0.100;nan;0.555556; {min=-0.661, max=0.200}; {min=nan, max=nan}; {0,1,0,1,0,1,0,1,0,1,0,1}\n",
       "\t\n"
      ]
     },
     "execution_count": 86,
     "metadata": {},
     "output_type": "execute_result"
    },
    {
     "data": {
      "text/plain": [
       "733; 0.100;nan;0.555556; {min=-0.661, max=0.200}; {min=nan, max=nan}; {0,1,0,1,0,1,0,1,0,1,0,1}\n",
       "\t\n"
      ]
     },
     "execution_count": 86,
     "metadata": {},
     "output_type": "execute_result"
    },
    {
     "data": {
      "text/plain": [
       "734; 0.100;nan;0.625000; {min=-0.647, max=0.227}; {min=nan, max=nan}; {0,1,1,0,0,1,0,1,0,1,0,1}\n",
       "\t\n"
      ]
     },
     "execution_count": 86,
     "metadata": {},
     "output_type": "execute_result"
    },
    {
     "data": {
      "text/plain": [
       "735; 0.100;nan;0.555556; {min=-0.661, max=0.200}; {min=nan, max=nan}; {0,1,0,1,0,1,0,1,0,1,0,1}\n",
       "\t\n"
      ]
     },
     "execution_count": 86,
     "metadata": {},
     "output_type": "execute_result"
    },
    {
     "data": {
      "text/plain": [
       "736; 0.100;nan;0.555556; {min=-0.661, max=0.200}; {min=nan, max=nan}; {0,1,0,1,0,1,0,1,0,1,0,1}\n",
       "\t\n"
      ]
     },
     "execution_count": 86,
     "metadata": {},
     "output_type": "execute_result"
    },
    {
     "data": {
      "text/plain": [
       "737; 0.100;nan;0.555556; {min=-0.661, max=0.200}; {min=nan, max=nan}; {0,1,0,1,0,1,0,1,0,1,0,1}\n",
       "\t\n"
      ]
     },
     "execution_count": 86,
     "metadata": {},
     "output_type": "execute_result"
    },
    {
     "data": {
      "text/plain": [
       "738; 0.100;nan;0.555556; {min=-0.661, max=0.200}; {min=nan, max=nan}; {0,1,0,1,0,1,0,1,0,1,0,1}\n",
       "\t\n"
      ]
     },
     "execution_count": 86,
     "metadata": {},
     "output_type": "execute_result"
    },
    {
     "data": {
      "text/plain": [
       "739; 0.100;nan;0.555556; {min=-0.661, max=0.200}; {min=nan, max=nan}; {0,1,0,1,0,1,0,1,0,1,0,1}\n",
       "\t\n"
      ]
     },
     "execution_count": 86,
     "metadata": {},
     "output_type": "execute_result"
    },
    {
     "data": {
      "text/plain": [
       "740; 0.100;nan;0.424242; {min=-1.000, max=0.277}; {min=nan, max=nan}; {1,0,0,1,0,1,0,1,0,1,0,1}\n",
       "\t\n"
      ]
     },
     "execution_count": 86,
     "metadata": {},
     "output_type": "execute_result"
    },
    {
     "data": {
      "text/plain": [
       "741; 0.100;nan;0.555556; {min=-0.661, max=0.200}; {min=nan, max=nan}; {0,1,0,1,0,1,0,1,0,1,0,1}\n",
       "\t\n"
      ]
     },
     "execution_count": 86,
     "metadata": {},
     "output_type": "execute_result"
    },
    {
     "data": {
      "text/plain": [
       "742; 0.100;nan;0.555556; {min=-0.661, max=0.200}; {min=nan, max=nan}; {0,1,0,1,0,1,0,1,0,1,0,1}\n",
       "\t\n"
      ]
     },
     "execution_count": 86,
     "metadata": {},
     "output_type": "execute_result"
    },
    {
     "data": {
      "text/plain": [
       "743; 0.100;nan;0.555556; {min=-0.661, max=0.200}; {min=nan, max=nan}; {0,1,0,1,0,1,0,1,0,1,0,1}\n",
       "\t\n"
      ]
     },
     "execution_count": 86,
     "metadata": {},
     "output_type": "execute_result"
    },
    {
     "data": {
      "text/plain": [
       "744; 0.100;nan;0.555556; {min=-0.661, max=0.200}; {min=nan, max=nan}; {0,1,0,1,0,1,0,1,0,1,0,1}\n",
       "\t\n"
      ]
     },
     "execution_count": 86,
     "metadata": {},
     "output_type": "execute_result"
    },
    {
     "data": {
      "text/plain": [
       "745; 0.100;nan;0.555556; {min=-0.661, max=0.200}; {min=nan, max=nan}; {0,1,0,1,0,1,0,1,0,1,0,1}\n",
       "\t\n"
      ]
     },
     "execution_count": 86,
     "metadata": {},
     "output_type": "execute_result"
    },
    {
     "data": {
      "text/plain": [
       "746; 0.100;nan;0.555556; {min=-0.661, max=0.200}; {min=nan, max=nan}; {0,1,0,1,0,1,0,1,0,1,0,1}\n",
       "\t\n"
      ]
     },
     "execution_count": 86,
     "metadata": {},
     "output_type": "execute_result"
    },
    {
     "data": {
      "text/plain": [
       "747; 0.100;nan;0.375000; {min=-0.661, max=0.200}; {min=nan, max=nan}; {0,1,0,1,0,1,0,1,1,0,0,1}\n",
       "\t\n"
      ]
     },
     "execution_count": 86,
     "metadata": {},
     "output_type": "execute_result"
    },
    {
     "data": {
      "text/plain": [
       "748; 0.100;nan;0.555556; {min=-0.661, max=0.200}; {min=nan, max=nan}; {0,1,0,1,0,1,0,1,0,1,0,1}\n",
       "\t\n"
      ]
     },
     "execution_count": 86,
     "metadata": {},
     "output_type": "execute_result"
    },
    {
     "data": {
      "text/plain": [
       "749; 0.100;nan;0.266667; {min=-1.000, max=0.299}; {min=nan, max=nan}; {1,0,0,1,1,0,0,1,0,1,0,1}\n",
       "\t\n"
      ]
     },
     "execution_count": 86,
     "metadata": {},
     "output_type": "execute_result"
    },
    {
     "data": {
      "text/plain": [
       "750; 0.100;nan;0.555556; {min=-0.661, max=0.200}; {min=nan, max=nan}; {0,1,0,1,0,1,0,1,0,1,0,1}\n",
       "\t\n"
      ]
     },
     "execution_count": 86,
     "metadata": {},
     "output_type": "execute_result"
    },
    {
     "data": {
      "text/plain": [
       "751; 0.100;nan;0.555556; {min=-0.661, max=0.200}; {min=nan, max=nan}; {0,1,0,1,0,1,0,1,0,1,0,1}\n",
       "\t\n"
      ]
     },
     "execution_count": 86,
     "metadata": {},
     "output_type": "execute_result"
    },
    {
     "data": {
      "text/plain": [
       "752; 0.100;nan;0.555556; {min=-0.661, max=0.200}; {min=nan, max=nan}; {0,1,0,1,0,1,0,1,0,1,0,1}\n",
       "\t\n"
      ]
     },
     "execution_count": 86,
     "metadata": {},
     "output_type": "execute_result"
    },
    {
     "data": {
      "text/plain": [
       "753; 0.100;nan;0.625000; {min=-0.661, max=0.214}; {min=nan, max=nan}; {0,1,0,1,0,1,1,0,0,1,0,1}\n",
       "\t\n"
      ]
     },
     "execution_count": 86,
     "metadata": {},
     "output_type": "execute_result"
    },
    {
     "data": {
      "text/plain": [
       "754; 0.100;nan;0.555556; {min=-0.661, max=0.200}; {min=nan, max=nan}; {0,1,0,1,0,1,0,1,0,1,0,1}\n",
       "\t\n"
      ]
     },
     "execution_count": 86,
     "metadata": {},
     "output_type": "execute_result"
    },
    {
     "data": {
      "text/plain": [
       "755; 0.100;nan;0.555556; {min=-0.661, max=0.200}; {min=nan, max=nan}; {0,1,0,1,0,1,0,1,0,1,0,1}\n",
       "\t\n"
      ]
     },
     "execution_count": 86,
     "metadata": {},
     "output_type": "execute_result"
    },
    {
     "data": {
      "text/plain": [
       "756; 0.100;nan;0.555556; {min=-0.661, max=0.200}; {min=nan, max=nan}; {0,1,0,1,0,1,0,1,0,1,0,1}\n",
       "\t\n"
      ]
     },
     "execution_count": 86,
     "metadata": {},
     "output_type": "execute_result"
    },
    {
     "data": {
      "text/plain": [
       "757; 0.100;nan;0.555556; {min=-0.661, max=0.200}; {min=nan, max=nan}; {0,1,0,1,0,1,0,1,0,1,0,1}\n",
       "\t\n"
      ]
     },
     "execution_count": 86,
     "metadata": {},
     "output_type": "execute_result"
    },
    {
     "data": {
      "text/plain": [
       "758; 0.100;nan;0.555556; {min=-0.661, max=0.200}; {min=nan, max=nan}; {0,1,0,1,0,1,0,1,0,1,0,1}\n",
       "\t\n"
      ]
     },
     "execution_count": 86,
     "metadata": {},
     "output_type": "execute_result"
    },
    {
     "data": {
      "text/plain": [
       "759; 0.100;nan;0.555556; {min=-0.661, max=0.200}; {min=nan, max=nan}; {0,1,0,1,0,1,0,1,0,1,0,1}\n",
       "\t\n"
      ]
     },
     "execution_count": 86,
     "metadata": {},
     "output_type": "execute_result"
    },
    {
     "data": {
      "text/plain": [
       "760; 0.100;nan;0.555556; {min=-0.661, max=0.331}; {min=nan, max=nan}; {0,1,0,1,0,1,0,1,0,1,0,1}\n",
       "\t\n"
      ]
     },
     "execution_count": 86,
     "metadata": {},
     "output_type": "execute_result"
    },
    {
     "data": {
      "text/plain": [
       "761; 0.100;nan;0.555556; {min=-0.661, max=0.200}; {min=nan, max=nan}; {0,1,0,1,0,1,0,1,0,1,0,1}\n",
       "\t\n"
      ]
     },
     "execution_count": 86,
     "metadata": {},
     "output_type": "execute_result"
    },
    {
     "data": {
      "text/plain": [
       "762; 0.100;nan;0.555556; {min=-0.661, max=0.200}; {min=nan, max=nan}; {0,1,0,1,0,1,0,1,0,1,0,1}\n",
       "\t\n"
      ]
     },
     "execution_count": 86,
     "metadata": {},
     "output_type": "execute_result"
    },
    {
     "data": {
      "text/plain": [
       "763; 0.100;nan;0.555556; {min=-0.661, max=0.200}; {min=nan, max=nan}; {0,1,0,1,0,1,0,1,0,1,0,1}\n",
       "\t\n"
      ]
     },
     "execution_count": 86,
     "metadata": {},
     "output_type": "execute_result"
    },
    {
     "data": {
      "text/plain": [
       "764; 0.100;nan;0.424242; {min=-0.661, max=0.231}; {min=nan, max=nan}; {0,1,0,1,1,0,0,1,0,1,0,1}\n",
       "\t\n"
      ]
     },
     "execution_count": 86,
     "metadata": {},
     "output_type": "execute_result"
    },
    {
     "data": {
      "text/plain": [
       "765; 0.100;nan;0.555556; {min=-0.661, max=0.200}; {min=nan, max=nan}; {0,1,0,1,0,1,0,1,0,1,0,1}\n",
       "\t\n"
      ]
     },
     "execution_count": 86,
     "metadata": {},
     "output_type": "execute_result"
    },
    {
     "data": {
      "text/plain": [
       "766; 0.100;nan;0.555556; {min=-0.661, max=0.200}; {min=nan, max=nan}; {0,1,0,1,0,1,0,1,0,1,0,1}\n",
       "\t\n"
      ]
     },
     "execution_count": 86,
     "metadata": {},
     "output_type": "execute_result"
    },
    {
     "data": {
      "text/plain": [
       "767; 0.100;nan;0.555556; {min=-0.661, max=0.200}; {min=nan, max=nan}; {0,1,0,1,0,1,0,1,0,1,0,1}\n",
       "\t\n"
      ]
     },
     "execution_count": 86,
     "metadata": {},
     "output_type": "execute_result"
    },
    {
     "data": {
      "text/plain": [
       "768; 0.100;nan;0.555556; {min=-0.661, max=0.200}; {min=nan, max=nan}; {0,1,0,1,0,1,0,1,0,1,0,1}\n",
       "\t\n"
      ]
     },
     "execution_count": 86,
     "metadata": {},
     "output_type": "execute_result"
    },
    {
     "data": {
      "text/plain": [
       "769; 0.100;nan;0.625000; {min=-0.661, max=0.214}; {min=nan, max=nan}; {0,1,0,1,0,1,1,0,0,1,0,1}\n",
       "\t\n"
      ]
     },
     "execution_count": 86,
     "metadata": {},
     "output_type": "execute_result"
    },
    {
     "data": {
      "text/plain": [
       "770; 0.100;nan;0.555556; {min=-0.661, max=0.200}; {min=nan, max=nan}; {0,1,0,1,0,1,0,1,0,1,0,1}\n",
       "\t\n"
      ]
     },
     "execution_count": 86,
     "metadata": {},
     "output_type": "execute_result"
    },
    {
     "data": {
      "text/plain": [
       "771; 0.100;nan;0.266667; {min=-1.000, max=0.299}; {min=nan, max=nan}; {1,0,0,1,1,0,0,1,0,1,0,1}\n",
       "\t\n"
      ]
     },
     "execution_count": 86,
     "metadata": {},
     "output_type": "execute_result"
    },
    {
     "data": {
      "text/plain": [
       "772; 0.100;nan;0.555556; {min=-0.661, max=0.200}; {min=nan, max=nan}; {0,1,0,1,0,1,0,1,0,1,0,1}\n",
       "\t\n"
      ]
     },
     "execution_count": 86,
     "metadata": {},
     "output_type": "execute_result"
    },
    {
     "data": {
      "text/plain": [
       "773; 0.100;nan;0.555556; {min=-0.661, max=0.200}; {min=nan, max=nan}; {0,1,0,1,0,1,0,1,0,1,0,1}\n",
       "\t\n"
      ]
     },
     "execution_count": 86,
     "metadata": {},
     "output_type": "execute_result"
    },
    {
     "data": {
      "text/plain": [
       "774; 0.100;nan;0.625000; {min=-0.661, max=0.200}; {min=nan, max=nan}; {0,1,0,1,0,1,0,1,0,1,1,0}\n",
       "\t\n"
      ]
     },
     "execution_count": 86,
     "metadata": {},
     "output_type": "execute_result"
    },
    {
     "data": {
      "text/plain": [
       "775; 0.100;nan;0.555556; {min=-0.661, max=0.200}; {min=nan, max=nan}; {0,1,0,1,0,1,0,1,0,1,0,1}\n",
       "\t\n"
      ]
     },
     "execution_count": 86,
     "metadata": {},
     "output_type": "execute_result"
    },
    {
     "data": {
      "text/plain": [
       "776; 0.100;nan;0.555556; {min=-0.661, max=0.200}; {min=nan, max=nan}; {0,1,0,1,0,1,0,1,0,1,0,1}\n",
       "\t\n"
      ]
     },
     "execution_count": 86,
     "metadata": {},
     "output_type": "execute_result"
    },
    {
     "data": {
      "text/plain": [
       "777; 0.100;nan;0.555556; {min=-0.661, max=0.200}; {min=nan, max=nan}; {0,1,0,1,0,1,0,1,0,1,0,1}\n",
       "\t\n"
      ]
     },
     "execution_count": 86,
     "metadata": {},
     "output_type": "execute_result"
    },
    {
     "data": {
      "text/plain": [
       "778; 0.100;nan;0.555556; {min=-0.661, max=0.200}; {min=nan, max=nan}; {0,1,0,1,0,1,0,1,0,1,0,1}\n",
       "\t\n"
      ]
     },
     "execution_count": 86,
     "metadata": {},
     "output_type": "execute_result"
    },
    {
     "data": {
      "text/plain": [
       "779; 0.100;nan;0.206897; {min=-1.000, max=46406943779763516272363449815203725168630332347592371366463462252393890054144.000}; {min=nan, max=nan}; {1,0,0,1,0,1,0,1,1,0,0,1}\n",
       "\t\n"
      ]
     },
     "execution_count": 86,
     "metadata": {},
     "output_type": "execute_result"
    },
    {
     "data": {
      "text/plain": [
       "780; 0.100;nan;0.424242; {min=-1.000, max=0.277}; {min=nan, max=nan}; {1,0,0,1,0,1,0,1,0,1,0,1}\n",
       "\t\n"
      ]
     },
     "execution_count": 86,
     "metadata": {},
     "output_type": "execute_result"
    },
    {
     "data": {
      "text/plain": [
       "781; 0.100;nan;0.555556; {min=-0.661, max=0.200}; {min=nan, max=nan}; {0,1,0,1,0,1,0,1,0,1,0,1}\n",
       "\t\n"
      ]
     },
     "execution_count": 86,
     "metadata": {},
     "output_type": "execute_result"
    },
    {
     "data": {
      "text/plain": [
       "782; 0.100;nan;0.555556; {min=-0.661, max=0.200}; {min=nan, max=nan}; {0,1,0,1,0,1,0,1,0,1,0,1}\n",
       "\t\n"
      ]
     },
     "execution_count": 86,
     "metadata": {},
     "output_type": "execute_result"
    },
    {
     "data": {
      "text/plain": [
       "783; 0.100;nan;0.555556; {min=-0.661, max=0.200}; {min=nan, max=nan}; {0,1,0,1,0,1,0,1,0,1,0,1}\n",
       "\t\n"
      ]
     },
     "execution_count": 86,
     "metadata": {},
     "output_type": "execute_result"
    },
    {
     "data": {
      "text/plain": [
       "784; 0.100;nan;0.555556; {min=-0.661, max=0.200}; {min=nan, max=nan}; {0,1,0,1,0,1,0,1,0,1,0,1}\n",
       "\t\n"
      ]
     },
     "execution_count": 86,
     "metadata": {},
     "output_type": "execute_result"
    },
    {
     "data": {
      "text/plain": [
       "785; 0.100;nan;0.555556; {min=-0.661, max=0.200}; {min=nan, max=nan}; {0,1,0,1,0,1,0,1,0,1,0,1}\n",
       "\t\n"
      ]
     },
     "execution_count": 86,
     "metadata": {},
     "output_type": "execute_result"
    },
    {
     "data": {
      "text/plain": [
       "786; 0.100;nan;0.428571; {min=-0.661, max=0.200}; {min=nan, max=nan}; {0,1,0,1,0,1,0,1,1,0,1,0}\n",
       "\t\n"
      ]
     },
     "execution_count": 86,
     "metadata": {},
     "output_type": "execute_result"
    },
    {
     "data": {
      "text/plain": [
       "787; 0.100;nan;0.555556; {min=-0.661, max=0.200}; {min=nan, max=nan}; {0,1,0,1,0,1,0,1,0,1,0,1}\n",
       "\t\n"
      ]
     },
     "execution_count": 86,
     "metadata": {},
     "output_type": "execute_result"
    },
    {
     "data": {
      "text/plain": [
       "788; 0.100;nan;0.555556; {min=-0.661, max=0.200}; {min=nan, max=nan}; {0,1,0,1,0,1,0,1,0,1,0,1}\n",
       "\t\n"
      ]
     },
     "execution_count": 86,
     "metadata": {},
     "output_type": "execute_result"
    },
    {
     "data": {
      "text/plain": [
       "789; 0.100;nan;0.555556; {min=-0.661, max=0.200}; {min=nan, max=nan}; {0,1,0,1,0,1,0,1,0,1,0,1}\n",
       "\t\n"
      ]
     },
     "execution_count": 86,
     "metadata": {},
     "output_type": "execute_result"
    },
    {
     "data": {
      "text/plain": [
       "790; 0.100;nan;0.555556; {min=-0.661, max=0.200}; {min=nan, max=nan}; {0,1,0,1,0,1,0,1,0,1,0,1}\n",
       "\t\n"
      ]
     },
     "execution_count": 86,
     "metadata": {},
     "output_type": "execute_result"
    },
    {
     "data": {
      "text/plain": [
       "791; 0.100;nan;0.424242; {min=-0.661, max=0.231}; {min=nan, max=nan}; {0,1,0,1,1,0,0,1,0,1,0,1}\n",
       "\t\n"
      ]
     },
     "execution_count": 86,
     "metadata": {},
     "output_type": "execute_result"
    },
    {
     "data": {
      "text/plain": [
       "792; 0.100;nan;0.625000; {min=-0.661, max=0.200}; {min=nan, max=nan}; {0,1,0,1,0,1,0,1,0,1,1,0}\n",
       "\t\n"
      ]
     },
     "execution_count": 86,
     "metadata": {},
     "output_type": "execute_result"
    },
    {
     "data": {
      "text/plain": [
       "793; 0.100;nan;0.555556; {min=-0.661, max=0.200}; {min=nan, max=nan}; {0,1,0,1,0,1,0,1,0,1,0,1}\n",
       "\t\n"
      ]
     },
     "execution_count": 86,
     "metadata": {},
     "output_type": "execute_result"
    },
    {
     "data": {
      "text/plain": [
       "794; 0.100;nan;0.424242; {min=-0.661, max=0.231}; {min=nan, max=nan}; {0,1,0,1,1,0,0,1,0,1,0,1}\n",
       "\t\n"
      ]
     },
     "execution_count": 86,
     "metadata": {},
     "output_type": "execute_result"
    },
    {
     "data": {
      "text/plain": [
       "795; 0.100;nan;0.375000; {min=-0.661, max=0.200}; {min=nan, max=nan}; {0,1,0,1,0,1,0,1,1,0,0,1}\n",
       "\t\n"
      ]
     },
     "execution_count": 86,
     "metadata": {},
     "output_type": "execute_result"
    },
    {
     "data": {
      "text/plain": [
       "796; 0.100;nan;0.375000; {min=-0.661, max=0.200}; {min=nan, max=nan}; {0,1,0,1,0,1,0,1,1,0,0,1}\n",
       "\t\n"
      ]
     },
     "execution_count": 86,
     "metadata": {},
     "output_type": "execute_result"
    },
    {
     "data": {
      "text/plain": [
       "797; 0.100;nan;0.555556; {min=-0.661, max=0.200}; {min=nan, max=nan}; {0,1,0,1,0,1,0,1,0,1,0,1}\n",
       "\t\n"
      ]
     },
     "execution_count": 86,
     "metadata": {},
     "output_type": "execute_result"
    },
    {
     "data": {
      "text/plain": [
       "798; 0.100;nan;0.555556; {min=-0.661, max=0.200}; {min=nan, max=nan}; {0,1,0,1,0,1,0,1,0,1,0,1}\n",
       "\t\n"
      ]
     },
     "execution_count": 86,
     "metadata": {},
     "output_type": "execute_result"
    },
    {
     "data": {
      "text/plain": [
       "799; 0.100;nan;0.555556; {min=-0.661, max=0.200}; {min=nan, max=nan}; {0,1,0,1,0,1,0,1,0,1,0,1}\n",
       "\t\n"
      ]
     },
     "execution_count": 86,
     "metadata": {},
     "output_type": "execute_result"
    },
    {
     "data": {
      "text/plain": [
       "800; 0.100;nan;0.555556; {min=-0.661, max=0.200}; {min=nan, max=nan}; {0,1,0,1,0,1,0,1,0,1,0,1}\n",
       "\t\n"
      ]
     },
     "execution_count": 86,
     "metadata": {},
     "output_type": "execute_result"
    },
    {
     "data": {
      "text/plain": [
       "801; 0.100;nan;0.714286; {min=-0.647, max=0.247}; {min=nan, max=nan}; {0,1,1,0,0,1,1,0,0,1,0,1}\n",
       "\t\n"
      ]
     },
     "execution_count": 86,
     "metadata": {},
     "output_type": "execute_result"
    },
    {
     "data": {
      "text/plain": [
       "802; 0.100;nan;0.555556; {min=-0.661, max=0.200}; {min=nan, max=nan}; {0,1,0,1,0,1,0,1,0,1,0,1}\n",
       "\t\n"
      ]
     },
     "execution_count": 86,
     "metadata": {},
     "output_type": "execute_result"
    },
    {
     "data": {
      "text/plain": [
       "803; 0.100;nan;0.625000; {min=-0.661, max=0.214}; {min=nan, max=nan}; {0,1,0,1,0,1,1,0,0,1,0,1}\n",
       "\t\n"
      ]
     },
     "execution_count": 86,
     "metadata": {},
     "output_type": "execute_result"
    },
    {
     "data": {
      "text/plain": [
       "804; 0.100;nan;0.625000; {min=-0.647, max=0.227}; {min=nan, max=nan}; {0,1,1,0,0,1,0,1,0,1,0,1}\n",
       "\t\n"
      ]
     },
     "execution_count": 86,
     "metadata": {},
     "output_type": "execute_result"
    },
    {
     "data": {
      "text/plain": [
       "805; 0.100;nan;0.555556; {min=-0.661, max=0.200}; {min=nan, max=nan}; {0,1,0,1,0,1,0,1,0,1,0,1}\n",
       "\t\n"
      ]
     },
     "execution_count": 86,
     "metadata": {},
     "output_type": "execute_result"
    },
    {
     "data": {
      "text/plain": [
       "806; 0.100;nan;0.555556; {min=-0.661, max=0.200}; {min=nan, max=nan}; {0,1,0,1,0,1,0,1,0,1,0,1}\n",
       "\t\n"
      ]
     },
     "execution_count": 86,
     "metadata": {},
     "output_type": "execute_result"
    },
    {
     "data": {
      "text/plain": [
       "807; 0.100;nan;0.555556; {min=-0.661, max=0.200}; {min=nan, max=nan}; {0,1,0,1,0,1,0,1,0,1,0,1}\n",
       "\t\n"
      ]
     },
     "execution_count": 86,
     "metadata": {},
     "output_type": "execute_result"
    },
    {
     "data": {
      "text/plain": [
       "808; 0.100;nan;0.555556; {min=-0.661, max=0.200}; {min=nan, max=nan}; {0,1,0,1,0,1,0,1,0,1,0,1}\n",
       "\t\n"
      ]
     },
     "execution_count": 86,
     "metadata": {},
     "output_type": "execute_result"
    },
    {
     "data": {
      "text/plain": [
       "809; 0.100;nan;0.555556; {min=-0.661, max=0.200}; {min=nan, max=nan}; {0,1,0,1,0,1,0,1,0,1,0,1}\n",
       "\t\n"
      ]
     },
     "execution_count": 86,
     "metadata": {},
     "output_type": "execute_result"
    },
    {
     "data": {
      "text/plain": [
       "810; 0.100;nan;0.555556; {min=-0.661, max=0.200}; {min=nan, max=nan}; {0,1,0,1,0,1,0,1,0,1,0,1}\n",
       "\t\n"
      ]
     },
     "execution_count": 86,
     "metadata": {},
     "output_type": "execute_result"
    },
    {
     "data": {
      "text/plain": [
       "811; 0.100;nan;0.555556; {min=-0.661, max=0.200}; {min=nan, max=nan}; {0,1,0,1,0,1,0,1,0,1,0,1}\n",
       "\t\n"
      ]
     },
     "execution_count": 86,
     "metadata": {},
     "output_type": "execute_result"
    },
    {
     "data": {
      "text/plain": [
       "812; 0.100;nan;0.555556; {min=-0.661, max=0.200}; {min=nan, max=nan}; {0,1,0,1,0,1,0,1,0,1,0,1}\n",
       "\t\n"
      ]
     },
     "execution_count": 86,
     "metadata": {},
     "output_type": "execute_result"
    },
    {
     "data": {
      "text/plain": [
       "813; 0.100;nan;0.424242; {min=-1.000, max=0.277}; {min=nan, max=nan}; {1,0,0,1,0,1,0,1,0,1,0,1}\n",
       "\t\n"
      ]
     },
     "execution_count": 86,
     "metadata": {},
     "output_type": "execute_result"
    },
    {
     "data": {
      "text/plain": [
       "814; 0.100;nan;0.555556; {min=-0.661, max=0.200}; {min=nan, max=nan}; {0,1,0,1,0,1,0,1,0,1,0,1}\n",
       "\t\n"
      ]
     },
     "execution_count": 86,
     "metadata": {},
     "output_type": "execute_result"
    },
    {
     "data": {
      "text/plain": [
       "815; 0.100;nan;0.555556; {min=-5373556975299478574054593261757330371489475717161682989586819186913259211143284274246445543511650503989724661643901061339188205636772495463722556107784192.000, max=0.200}; {min=nan, max=nan}; {0,1,0,1,0,1,0,1,0,1,0,1}\n",
       "\t\n"
      ]
     },
     "execution_count": 86,
     "metadata": {},
     "output_type": "execute_result"
    },
    {
     "data": {
      "text/plain": [
       "816; 0.100;nan;0.625000; {min=-0.661, max=0.200}; {min=nan, max=nan}; {0,1,0,1,0,1,0,1,0,1,1,0}\n",
       "\t\n"
      ]
     },
     "execution_count": 86,
     "metadata": {},
     "output_type": "execute_result"
    },
    {
     "data": {
      "text/plain": [
       "817; 0.100;nan;0.555556; {min=-0.661, max=0.200}; {min=nan, max=nan}; {0,1,0,1,0,1,0,1,0,1,0,1}\n",
       "\t\n"
      ]
     },
     "execution_count": 86,
     "metadata": {},
     "output_type": "execute_result"
    },
    {
     "data": {
      "text/plain": [
       "818; 0.100;nan;0.555556; {min=-0.661, max=0.200}; {min=nan, max=nan}; {0,1,0,1,0,1,0,1,0,1,0,1}\n",
       "\t\n"
      ]
     },
     "execution_count": 86,
     "metadata": {},
     "output_type": "execute_result"
    },
    {
     "data": {
      "text/plain": [
       "819; 0.100;nan;0.375000; {min=-0.661, max=0.200}; {min=nan, max=nan}; {0,1,0,1,0,1,0,1,1,0,0,1}\n",
       "\t\n"
      ]
     },
     "execution_count": 86,
     "metadata": {},
     "output_type": "execute_result"
    },
    {
     "data": {
      "text/plain": [
       "820; 0.100;nan;0.482759; {min=-1.000, max=0.277}; {min=nan, max=nan}; {1,0,0,1,0,1,0,1,0,1,1,0}\n",
       "\t\n"
      ]
     },
     "execution_count": 86,
     "metadata": {},
     "output_type": "execute_result"
    },
    {
     "data": {
      "text/plain": [
       "821; 0.100;nan;0.625000; {min=-0.661, max=0.200}; {min=nan, max=nan}; {0,1,0,1,0,1,0,1,0,1,1,0}\n",
       "\t\n"
      ]
     },
     "execution_count": 86,
     "metadata": {},
     "output_type": "execute_result"
    },
    {
     "data": {
      "text/plain": [
       "822; 0.100;nan;0.555556; {min=-0.661, max=0.200}; {min=nan, max=nan}; {0,1,0,1,0,1,0,1,0,1,0,1}\n",
       "\t\n"
      ]
     },
     "execution_count": 86,
     "metadata": {},
     "output_type": "execute_result"
    },
    {
     "data": {
      "text/plain": [
       "823; 0.100;nan;0.555556; {min=-0.661, max=0.200}; {min=nan, max=nan}; {0,1,0,1,0,1,0,1,0,1,0,1}\n",
       "\t\n"
      ]
     },
     "execution_count": 86,
     "metadata": {},
     "output_type": "execute_result"
    },
    {
     "data": {
      "text/plain": [
       "824; 0.100;nan;0.555556; {min=-0.661, max=0.200}; {min=nan, max=nan}; {0,1,0,1,0,1,0,1,0,1,0,1}\n",
       "\t\n"
      ]
     },
     "execution_count": 86,
     "metadata": {},
     "output_type": "execute_result"
    },
    {
     "data": {
      "text/plain": [
       "825; 0.100;nan;0.206897; {min=-0.661, max=-0.007}; {min=nan, max=nan}; {0,1,0,1,1,0,0,1,1,0,0,1}\n",
       "\t\n"
      ]
     },
     "execution_count": 86,
     "metadata": {},
     "output_type": "execute_result"
    },
    {
     "data": {
      "text/plain": [
       "826; 0.100;nan;0.555556; {min=-0.661, max=0.200}; {min=nan, max=nan}; {0,1,0,1,0,1,0,1,0,1,0,1}\n",
       "\t\n"
      ]
     },
     "execution_count": 86,
     "metadata": {},
     "output_type": "execute_result"
    },
    {
     "data": {
      "text/plain": [
       "827; 0.100;nan;0.555556; {min=-0.661, max=0.200}; {min=nan, max=nan}; {0,1,0,1,0,1,0,1,0,1,0,1}\n",
       "\t\n"
      ]
     },
     "execution_count": 86,
     "metadata": {},
     "output_type": "execute_result"
    },
    {
     "data": {
      "text/plain": [
       "828; 0.100;nan;0.625000; {min=-0.647, max=0.227}; {min=nan, max=nan}; {0,1,1,0,0,1,0,1,0,1,0,1}\n",
       "\t\n"
      ]
     },
     "execution_count": 86,
     "metadata": {},
     "output_type": "execute_result"
    },
    {
     "data": {
      "text/plain": [
       "829; 0.100;nan;0.555556; {min=-0.661, max=0.200}; {min=nan, max=nan}; {0,1,0,1,0,1,0,1,0,1,0,1}\n",
       "\t\n"
      ]
     },
     "execution_count": 86,
     "metadata": {},
     "output_type": "execute_result"
    },
    {
     "data": {
      "text/plain": [
       "830; 0.100;nan;0.625000; {min=-0.661, max=0.800}; {min=nan, max=nan}; {0,1,0,1,0,1,0,1,0,1,1,0}\n",
       "\t\n"
      ]
     },
     "execution_count": 86,
     "metadata": {},
     "output_type": "execute_result"
    },
    {
     "data": {
      "text/plain": [
       "831; 0.100;nan;0.625000; {min=-0.661, max=0.214}; {min=nan, max=nan}; {0,1,0,1,0,1,1,0,0,1,0,1}\n",
       "\t\n"
      ]
     },
     "execution_count": 86,
     "metadata": {},
     "output_type": "execute_result"
    },
    {
     "data": {
      "text/plain": [
       "832; 0.100;nan;0.555556; {min=-0.661, max=0.200}; {min=nan, max=nan}; {0,1,0,1,0,1,0,1,0,1,0,1}\n",
       "\t\n"
      ]
     },
     "execution_count": 86,
     "metadata": {},
     "output_type": "execute_result"
    },
    {
     "data": {
      "text/plain": [
       "833; 0.100;nan;0.625000; {min=-0.661, max=0.200}; {min=nan, max=nan}; {0,1,0,1,0,1,0,1,0,1,1,0}\n",
       "\t\n"
      ]
     },
     "execution_count": 86,
     "metadata": {},
     "output_type": "execute_result"
    },
    {
     "data": {
      "text/plain": [
       "834; 0.100;nan;0.555556; {min=-0.661, max=0.200}; {min=nan, max=nan}; {0,1,0,1,0,1,0,1,0,1,0,1}\n",
       "\t\n"
      ]
     },
     "execution_count": 86,
     "metadata": {},
     "output_type": "execute_result"
    },
    {
     "data": {
      "text/plain": [
       "835; 0.100;nan;0.555556; {min=-0.661, max=0.200}; {min=nan, max=nan}; {0,1,0,1,0,1,0,1,0,1,0,1}\n",
       "\t\n"
      ]
     },
     "execution_count": 86,
     "metadata": {},
     "output_type": "execute_result"
    },
    {
     "data": {
      "text/plain": [
       "836; 0.100;nan;0.555556; {min=-0.661, max=0.200}; {min=nan, max=nan}; {0,1,0,1,0,1,0,1,0,1,0,1}\n",
       "\t\n"
      ]
     },
     "execution_count": 86,
     "metadata": {},
     "output_type": "execute_result"
    },
    {
     "data": {
      "text/plain": [
       "837; 0.100;nan;0.555556; {min=-0.661, max=0.200}; {min=nan, max=nan}; {0,1,0,1,0,1,0,1,0,1,0,1}\n",
       "\t\n"
      ]
     },
     "execution_count": 86,
     "metadata": {},
     "output_type": "execute_result"
    },
    {
     "data": {
      "text/plain": [
       "838; 0.100;nan;0.555556; {min=-0.661, max=0.200}; {min=nan, max=nan}; {0,1,0,1,0,1,0,1,0,1,0,1}\n",
       "\t\n"
      ]
     },
     "execution_count": 86,
     "metadata": {},
     "output_type": "execute_result"
    },
    {
     "data": {
      "text/plain": [
       "839; 0.100;nan;0.625000; {min=-0.661, max=0.214}; {min=nan, max=nan}; {0,1,0,1,0,1,1,0,0,1,0,1}\n",
       "\t\n"
      ]
     },
     "execution_count": 86,
     "metadata": {},
     "output_type": "execute_result"
    },
    {
     "data": {
      "text/plain": [
       "840; 0.100;nan;0.555556; {min=-0.661, max=0.200}; {min=nan, max=nan}; {0,1,0,1,0,1,0,1,0,1,0,1}\n",
       "\t\n"
      ]
     },
     "execution_count": 86,
     "metadata": {},
     "output_type": "execute_result"
    },
    {
     "data": {
      "text/plain": [
       "841; 0.100;nan;0.625000; {min=-0.647, max=0.227}; {min=nan, max=nan}; {0,1,1,0,0,1,0,1,0,1,0,1}\n",
       "\t\n"
      ]
     },
     "execution_count": 86,
     "metadata": {},
     "output_type": "execute_result"
    },
    {
     "data": {
      "text/plain": [
       "842; 0.100;nan;0.555556; {min=-0.661, max=0.200}; {min=nan, max=nan}; {0,1,0,1,0,1,0,1,0,1,0,1}\n",
       "\t\n"
      ]
     },
     "execution_count": 86,
     "metadata": {},
     "output_type": "execute_result"
    },
    {
     "data": {
      "text/plain": [
       "843; 0.100;nan;0.555556; {min=-0.661, max=0.200}; {min=nan, max=nan}; {0,1,0,1,0,1,0,1,0,1,0,1}\n",
       "\t\n"
      ]
     },
     "execution_count": 86,
     "metadata": {},
     "output_type": "execute_result"
    },
    {
     "data": {
      "text/plain": [
       "844; 0.100;nan;0.555556; {min=-0.661, max=0.200}; {min=nan, max=nan}; {0,1,0,1,0,1,0,1,0,1,0,1}\n",
       "\t\n"
      ]
     },
     "execution_count": 86,
     "metadata": {},
     "output_type": "execute_result"
    },
    {
     "data": {
      "text/plain": [
       "845; 0.100;nan;0.555556; {min=-0.661, max=1.331}; {min=nan, max=nan}; {0,1,0,1,0,1,0,1,0,1,0,1}\n",
       "\t\n"
      ]
     },
     "execution_count": 86,
     "metadata": {},
     "output_type": "execute_result"
    },
    {
     "data": {
      "text/plain": [
       "846; 0.100;nan;0.555556; {min=-0.661, max=0.200}; {min=nan, max=nan}; {0,1,0,1,0,1,0,1,0,1,0,1}\n",
       "\t\n"
      ]
     },
     "execution_count": 86,
     "metadata": {},
     "output_type": "execute_result"
    },
    {
     "data": {
      "text/plain": [
       "847; 0.100;nan;0.555556; {min=-0.661, max=0.531}; {min=nan, max=nan}; {0,1,0,1,0,1,0,1,0,1,0,1}\n",
       "\t\n"
      ]
     },
     "execution_count": 86,
     "metadata": {},
     "output_type": "execute_result"
    },
    {
     "data": {
      "text/plain": [
       "848; 0.100;nan;0.375000; {min=-0.661, max=0.200}; {min=nan, max=nan}; {0,1,0,1,0,1,0,1,1,0,0,1}\n",
       "\t\n"
      ]
     },
     "execution_count": 86,
     "metadata": {},
     "output_type": "execute_result"
    },
    {
     "data": {
      "text/plain": [
       "849; 0.100;nan;0.625000; {min=-0.661, max=0.214}; {min=nan, max=nan}; {0,1,0,1,0,1,1,0,0,1,0,1}\n",
       "\t\n"
      ]
     },
     "execution_count": 86,
     "metadata": {},
     "output_type": "execute_result"
    },
    {
     "data": {
      "text/plain": [
       "850; 0.100;nan;0.555556; {min=-0.661, max=0.200}; {min=nan, max=nan}; {0,1,0,1,0,1,0,1,0,1,0,1}\n",
       "\t\n"
      ]
     },
     "execution_count": 86,
     "metadata": {},
     "output_type": "execute_result"
    },
    {
     "data": {
      "text/plain": [
       "851; 0.100;nan;0.375000; {min=-0.661, max=0.200}; {min=nan, max=nan}; {0,1,0,1,0,1,0,1,1,0,0,1}\n",
       "\t\n"
      ]
     },
     "execution_count": 86,
     "metadata": {},
     "output_type": "execute_result"
    },
    {
     "data": {
      "text/plain": [
       "852; 0.100;nan;0.555556; {min=-0.661, max=0.200}; {min=nan, max=nan}; {0,1,0,1,0,1,0,1,0,1,0,1}\n",
       "\t\n"
      ]
     },
     "execution_count": 86,
     "metadata": {},
     "output_type": "execute_result"
    },
    {
     "data": {
      "text/plain": [
       "853; 0.100;nan;0.555556; {min=-0.661, max=0.200}; {min=nan, max=nan}; {0,1,0,1,0,1,0,1,0,1,0,1}\n",
       "\t\n"
      ]
     },
     "execution_count": 86,
     "metadata": {},
     "output_type": "execute_result"
    },
    {
     "data": {
      "text/plain": [
       "854; 0.100;nan;0.555556; {min=-0.661, max=0.200}; {min=nan, max=nan}; {0,1,0,1,0,1,0,1,0,1,0,1}\n",
       "\t\n"
      ]
     },
     "execution_count": 86,
     "metadata": {},
     "output_type": "execute_result"
    },
    {
     "data": {
      "text/plain": [
       "855; 0.100;nan;0.555556; {min=-0.661, max=0.200}; {min=nan, max=nan}; {0,1,0,1,0,1,0,1,0,1,0,1}\n",
       "\t\n"
      ]
     },
     "execution_count": 86,
     "metadata": {},
     "output_type": "execute_result"
    },
    {
     "data": {
      "text/plain": [
       "856; 0.100;nan;0.555556; {min=-0.661, max=0.200}; {min=nan, max=nan}; {0,1,0,1,0,1,0,1,0,1,0,1}\n",
       "\t\n"
      ]
     },
     "execution_count": 86,
     "metadata": {},
     "output_type": "execute_result"
    },
    {
     "data": {
      "text/plain": [
       "857; 0.100;nan;0.482759; {min=-0.661, max=0.259}; {min=nan, max=nan}; {0,1,0,1,1,0,1,0,0,1,0,1}\n",
       "\t\n"
      ]
     },
     "execution_count": 86,
     "metadata": {},
     "output_type": "execute_result"
    },
    {
     "data": {
      "text/plain": [
       "858; 0.100;nan;0.424242; {min=-1.000, max=0.277}; {min=nan, max=nan}; {1,0,0,1,0,1,0,1,0,1,0,1}\n",
       "\t\n"
      ]
     },
     "execution_count": 86,
     "metadata": {},
     "output_type": "execute_result"
    },
    {
     "data": {
      "text/plain": [
       "859; 0.100;nan;0.555556; {min=-0.661, max=0.200}; {min=nan, max=nan}; {0,1,0,1,0,1,0,1,0,1,0,1}\n",
       "\t\n"
      ]
     },
     "execution_count": 86,
     "metadata": {},
     "output_type": "execute_result"
    },
    {
     "data": {
      "text/plain": [
       "860; 0.100;nan;0.555556; {min=-0.661, max=0.200}; {min=nan, max=nan}; {0,1,0,1,0,1,0,1,0,1,0,1}\n",
       "\t"
      ]
     },
     "execution_count": 86,
     "metadata": {},
     "output_type": "execute_result"
    },
    {
     "data": {
      "text/plain": [
       "\n"
      ]
     },
     "execution_count": 86,
     "metadata": {},
     "output_type": "execute_result"
    },
    {
     "data": {
      "text/plain": [
       "861; 0.100;nan;0.375000; {min=-0.661, max=0.200}; {min=nan, max=nan}; {0,1,0,1,0,1,0,1,1,0,0,1}\n",
       "\t\n"
      ]
     },
     "execution_count": 86,
     "metadata": {},
     "output_type": "execute_result"
    },
    {
     "data": {
      "text/plain": [
       "862; 0.100;nan;0.625000; {min=-0.661, max=0.200}; {min=nan, max=nan}; {0,1,0,1,0,1,0,1,0,1,1,0}\n",
       "\t\n"
      ]
     },
     "execution_count": 86,
     "metadata": {},
     "output_type": "execute_result"
    },
    {
     "data": {
      "text/plain": [
       "863; 0.100;nan;0.555556; {min=-0.661, max=0.200}; {min=nan, max=nan}; {0,1,0,1,0,1,0,1,0,1,0,1}\n",
       "\t\n"
      ]
     },
     "execution_count": 86,
     "metadata": {},
     "output_type": "execute_result"
    },
    {
     "data": {
      "text/plain": [
       "864; 0.100;nan;0.555556; {min=-0.661, max=0.200}; {min=nan, max=nan}; {0,1,0,1,0,1,0,1,0,1,0,1}\n",
       "\t\n"
      ]
     },
     "execution_count": 86,
     "metadata": {},
     "output_type": "execute_result"
    },
    {
     "data": {
      "text/plain": [
       "865; 0.100;nan;0.555556; {min=-0.661, max=0.200}; {min=nan, max=nan}; {0,1,0,1,0,1,0,1,0,1,0,1}\n",
       "\t\n"
      ]
     },
     "execution_count": 86,
     "metadata": {},
     "output_type": "execute_result"
    },
    {
     "data": {
      "text/plain": [
       "866; 0.100;nan;0.555556; {min=-0.661, max=0.200}; {min=nan, max=nan}; {0,1,0,1,0,1,0,1,0,1,0,1}\n",
       "\t\n"
      ]
     },
     "execution_count": 86,
     "metadata": {},
     "output_type": "execute_result"
    },
    {
     "data": {
      "text/plain": [
       "867; 0.100;nan;0.555556; {min=-0.661, max=0.200}; {min=nan, max=nan}; {0,1,0,1,0,1,0,1,0,1,0,1}\n",
       "\t\n"
      ]
     },
     "execution_count": 86,
     "metadata": {},
     "output_type": "execute_result"
    },
    {
     "data": {
      "text/plain": [
       "868; 0.100;nan;0.555556; {min=-0.661, max=0.200}; {min=nan, max=nan}; {0,1,0,1,0,1,0,1,0,1,0,1}\n",
       "\t\n"
      ]
     },
     "execution_count": 86,
     "metadata": {},
     "output_type": "execute_result"
    },
    {
     "data": {
      "text/plain": [
       "869; 0.100;nan;0.424242; {min=-1.000, max=0.277}; {min=nan, max=nan}; {1,0,0,1,0,1,0,1,0,1,0,1}\n",
       "\t\n"
      ]
     },
     "execution_count": 86,
     "metadata": {},
     "output_type": "execute_result"
    },
    {
     "data": {
      "text/plain": [
       "870; 0.100;nan;0.555556; {min=-0.661, max=0.200}; {min=nan, max=nan}; {0,1,0,1,0,1,0,1,0,1,0,1}\n",
       "\t\n"
      ]
     },
     "execution_count": 86,
     "metadata": {},
     "output_type": "execute_result"
    },
    {
     "data": {
      "text/plain": [
       "871; 0.100;nan;0.555556; {min=-0.661, max=0.200}; {min=nan, max=nan}; {0,1,0,1,0,1,0,1,0,1,0,1}\n",
       "\t\n"
      ]
     },
     "execution_count": 86,
     "metadata": {},
     "output_type": "execute_result"
    },
    {
     "data": {
      "text/plain": [
       "872; 0.100;nan;0.555556; {min=-0.661, max=0.200}; {min=nan, max=nan}; {0,1,0,1,0,1,0,1,0,1,0,1}\n",
       "\t\n"
      ]
     },
     "execution_count": 86,
     "metadata": {},
     "output_type": "execute_result"
    },
    {
     "data": {
      "text/plain": [
       "873; 0.100;nan;0.555556; {min=-0.661, max=0.200}; {min=nan, max=nan}; {0,1,0,1,0,1,0,1,0,1,0,1}\n",
       "\t\n"
      ]
     },
     "execution_count": 86,
     "metadata": {},
     "output_type": "execute_result"
    },
    {
     "data": {
      "text/plain": [
       "874; 0.100;nan;0.555556; {min=-0.661, max=0.200}; {min=nan, max=nan}; {0,1,0,1,0,1,0,1,0,1,0,1}\n",
       "\t\n"
      ]
     },
     "execution_count": 86,
     "metadata": {},
     "output_type": "execute_result"
    },
    {
     "data": {
      "text/plain": [
       "875; 0.100;nan;0.555556; {min=-0.661, max=0.200}; {min=nan, max=nan}; {0,1,0,1,0,1,0,1,0,1,0,1}\n",
       "\t\n"
      ]
     },
     "execution_count": 86,
     "metadata": {},
     "output_type": "execute_result"
    },
    {
     "data": {
      "text/plain": [
       "876; 0.100;nan;0.555556; {min=-0.661, max=0.200}; {min=nan, max=nan}; {0,1,0,1,0,1,0,1,0,1,0,1}\n",
       "\t\n"
      ]
     },
     "execution_count": 86,
     "metadata": {},
     "output_type": "execute_result"
    },
    {
     "data": {
      "text/plain": [
       "877; 0.100;nan;0.625000; {min=-0.661, max=0.214}; {min=nan, max=nan}; {0,1,0,1,0,1,1,0,0,1,0,1}\n",
       "\t\n"
      ]
     },
     "execution_count": 86,
     "metadata": {},
     "output_type": "execute_result"
    },
    {
     "data": {
      "text/plain": [
       "878; 0.100;nan;0.555556; {min=-0.661, max=0.200}; {min=nan, max=nan}; {0,1,0,1,0,1,0,1,0,1,0,1}\n",
       "\t\n"
      ]
     },
     "execution_count": 86,
     "metadata": {},
     "output_type": "execute_result"
    },
    {
     "data": {
      "text/plain": [
       "879; 0.100;nan;0.428571; {min=-0.661, max=0.214}; {min=nan, max=nan}; {0,1,0,1,0,1,1,0,1,0,0,1}\n",
       "\t\n"
      ]
     },
     "execution_count": 86,
     "metadata": {},
     "output_type": "execute_result"
    },
    {
     "data": {
      "text/plain": [
       "880; 0.100;nan;0.424242; {min=-1.000, max=0.277}; {min=nan, max=nan}; {1,0,0,1,0,1,0,1,0,1,0,1}\n",
       "\t\n"
      ]
     },
     "execution_count": 86,
     "metadata": {},
     "output_type": "execute_result"
    },
    {
     "data": {
      "text/plain": [
       "881; 0.100;nan;0.555556; {min=-0.661, max=0.200}; {min=nan, max=nan}; {0,1,0,1,0,1,0,1,0,1,0,1}\n",
       "\t\n"
      ]
     },
     "execution_count": 86,
     "metadata": {},
     "output_type": "execute_result"
    },
    {
     "data": {
      "text/plain": [
       "882; 0.100;nan;0.555556; {min=-0.661, max=0.200}; {min=nan, max=nan}; {0,1,0,1,0,1,0,1,0,1,0,1}\n",
       "\t\n"
      ]
     },
     "execution_count": 86,
     "metadata": {},
     "output_type": "execute_result"
    },
    {
     "data": {
      "text/plain": [
       "883; 0.100;nan;0.555556; {min=-0.661, max=0.200}; {min=nan, max=nan}; {0,1,0,1,0,1,0,1,0,1,0,1}\n",
       "\t\n"
      ]
     },
     "execution_count": 86,
     "metadata": {},
     "output_type": "execute_result"
    },
    {
     "data": {
      "text/plain": [
       "884; 0.100;nan;0.555556; {min=-0.661, max=0.200}; {min=nan, max=nan}; {0,1,0,1,0,1,0,1,0,1,0,1}\n",
       "\t\n"
      ]
     },
     "execution_count": 86,
     "metadata": {},
     "output_type": "execute_result"
    },
    {
     "data": {
      "text/plain": [
       "885; 0.100;nan;0.555556; {min=-0.661, max=0.200}; {min=nan, max=nan}; {0,1,0,1,0,1,0,1,0,1,0,1}\n",
       "\t\n"
      ]
     },
     "execution_count": 86,
     "metadata": {},
     "output_type": "execute_result"
    },
    {
     "data": {
      "text/plain": [
       "886; 0.100;nan;0.555556; {min=-0.661, max=0.200}; {min=nan, max=nan}; {0,1,0,1,0,1,0,1,0,1,0,1}\n",
       "\t\n"
      ]
     },
     "execution_count": 86,
     "metadata": {},
     "output_type": "execute_result"
    },
    {
     "data": {
      "text/plain": [
       "887; 0.100;nan;0.555556; {min=-0.661, max=0.200}; {min=nan, max=nan}; {0,1,0,1,0,1,0,1,0,1,0,1}\n",
       "\t\n"
      ]
     },
     "execution_count": 86,
     "metadata": {},
     "output_type": "execute_result"
    },
    {
     "data": {
      "text/plain": [
       "888; 0.100;nan;0.555556; {min=-0.661, max=0.200}; {min=nan, max=nan}; {0,1,0,1,0,1,0,1,0,1,0,1}\n",
       "\t\n"
      ]
     },
     "execution_count": 86,
     "metadata": {},
     "output_type": "execute_result"
    },
    {
     "data": {
      "text/plain": [
       "889; 0.100;nan;0.555556; {min=-0.661, max=0.200}; {min=nan, max=nan}; {0,1,0,1,0,1,0,1,0,1,0,1}\n",
       "\t\n"
      ]
     },
     "execution_count": 86,
     "metadata": {},
     "output_type": "execute_result"
    },
    {
     "data": {
      "text/plain": [
       "890; 0.100;nan;0.424242; {min=-0.661, max=0.231}; {min=nan, max=nan}; {0,1,0,1,1,0,0,1,0,1,0,1}\n",
       "\t\n"
      ]
     },
     "execution_count": 86,
     "metadata": {},
     "output_type": "execute_result"
    },
    {
     "data": {
      "text/plain": [
       "891; 0.100;nan;0.555556; {min=-0.661, max=0.200}; {min=nan, max=nan}; {0,1,0,1,0,1,0,1,0,1,0,1}\n",
       "\t\n"
      ]
     },
     "execution_count": 86,
     "metadata": {},
     "output_type": "execute_result"
    },
    {
     "data": {
      "text/plain": [
       "892; 0.100;nan;0.555556; {min=-0.661, max=0.200}; {min=nan, max=nan}; {0,1,0,1,0,1,0,1,0,1,0,1}\n",
       "\t\n"
      ]
     },
     "execution_count": 86,
     "metadata": {},
     "output_type": "execute_result"
    },
    {
     "data": {
      "text/plain": [
       "893; 0.100;nan;0.625000; {min=-0.661, max=0.200}; {min=nan, max=nan}; {0,1,0,1,0,1,0,1,0,1,1,0}\n",
       "\t\n"
      ]
     },
     "execution_count": 86,
     "metadata": {},
     "output_type": "execute_result"
    },
    {
     "data": {
      "text/plain": [
       "894; 0.100;nan;0.555556; {min=-0.661, max=0.200}; {min=nan, max=nan}; {0,1,0,1,0,1,0,1,0,1,0,1}\n",
       "\t\n"
      ]
     },
     "execution_count": 86,
     "metadata": {},
     "output_type": "execute_result"
    },
    {
     "data": {
      "text/plain": [
       "895; 0.100;nan;0.555556; {min=-0.661, max=0.200}; {min=nan, max=nan}; {0,1,0,1,0,1,0,1,0,1,0,1}\n",
       "\t\n"
      ]
     },
     "execution_count": 86,
     "metadata": {},
     "output_type": "execute_result"
    },
    {
     "data": {
      "text/plain": [
       "896; 0.100;nan;0.375000; {min=-0.661, max=0.200}; {min=nan, max=nan}; {0,1,0,1,0,1,0,1,1,0,0,1}\n",
       "\t\n"
      ]
     },
     "execution_count": 86,
     "metadata": {},
     "output_type": "execute_result"
    },
    {
     "data": {
      "text/plain": [
       "897; 0.100;nan;0.555556; {min=-0.661, max=0.200}; {min=nan, max=nan}; {0,1,0,1,0,1,0,1,0,1,0,1}\n",
       "\t\n"
      ]
     },
     "execution_count": 86,
     "metadata": {},
     "output_type": "execute_result"
    },
    {
     "data": {
      "text/plain": [
       "898; 0.100;nan;0.625000; {min=-0.661, max=0.200}; {min=nan, max=nan}; {0,1,0,1,0,1,0,1,0,1,1,0}\n",
       "\t\n"
      ]
     },
     "execution_count": 86,
     "metadata": {},
     "output_type": "execute_result"
    },
    {
     "data": {
      "text/plain": [
       "899; 0.100;nan;0.555556; {min=-0.661, max=0.200}; {min=nan, max=nan}; {0,1,0,1,0,1,0,1,0,1,0,1}\n",
       "\t\n"
      ]
     },
     "execution_count": 86,
     "metadata": {},
     "output_type": "execute_result"
    },
    {
     "data": {
      "text/plain": [
       "900; 0.100;nan;0.555556; {min=-0.661, max=0.200}; {min=nan, max=nan}; {0,1,0,1,0,1,0,1,0,1,0,1}\n",
       "\t\n"
      ]
     },
     "execution_count": 86,
     "metadata": {},
     "output_type": "execute_result"
    },
    {
     "data": {
      "text/plain": [
       "901; 0.100;nan;0.555556; {min=-0.661, max=0.200}; {min=nan, max=nan}; {0,1,0,1,0,1,0,1,0,1,0,1}\n",
       "\t\n"
      ]
     },
     "execution_count": 86,
     "metadata": {},
     "output_type": "execute_result"
    },
    {
     "data": {
      "text/plain": [
       "902; 0.100;nan;0.555556; {min=-0.661, max=0.200}; {min=nan, max=nan}; {0,1,0,1,0,1,0,1,0,1,0,1}\n",
       "\t\n"
      ]
     },
     "execution_count": 86,
     "metadata": {},
     "output_type": "execute_result"
    },
    {
     "data": {
      "text/plain": [
       "903; 0.100;nan;0.555556; {min=-0.661, max=0.200}; {min=nan, max=nan}; {0,1,0,1,0,1,0,1,0,1,0,1}\n",
       "\t\n"
      ]
     },
     "execution_count": 86,
     "metadata": {},
     "output_type": "execute_result"
    },
    {
     "data": {
      "text/plain": [
       "904; 0.100;nan;0.555556; {min=-0.661, max=0.200}; {min=nan, max=nan}; {0,1,0,1,0,1,0,1,0,1,0,1}\n",
       "\t\n"
      ]
     },
     "execution_count": 86,
     "metadata": {},
     "output_type": "execute_result"
    },
    {
     "data": {
      "text/plain": [
       "905; 0.100;nan;0.555556; {min=-0.661, max=0.200}; {min=nan, max=nan}; {0,1,0,1,0,1,0,1,0,1,0,1}\n",
       "\t\n"
      ]
     },
     "execution_count": 86,
     "metadata": {},
     "output_type": "execute_result"
    },
    {
     "data": {
      "text/plain": [
       "906; 0.100;nan;0.555556; {min=-0.661, max=0.200}; {min=nan, max=nan}; {0,1,0,1,0,1,0,1,0,1,0,1}\n",
       "\t\n"
      ]
     },
     "execution_count": 86,
     "metadata": {},
     "output_type": "execute_result"
    },
    {
     "data": {
      "text/plain": [
       "907; 0.100;nan;0.555556; {min=-0.661, max=0.200}; {min=nan, max=nan}; {0,1,0,1,0,1,0,1,0,1,0,1}\n",
       "\t\n"
      ]
     },
     "execution_count": 86,
     "metadata": {},
     "output_type": "execute_result"
    },
    {
     "data": {
      "text/plain": [
       "908; 0.100;nan;0.555556; {min=-0.661, max=0.200}; {min=nan, max=nan}; {0,1,0,1,0,1,0,1,0,1,0,1}\n",
       "\t\n"
      ]
     },
     "execution_count": 86,
     "metadata": {},
     "output_type": "execute_result"
    },
    {
     "data": {
      "text/plain": [
       "909; 0.100;nan;0.555556; {min=-0.661, max=0.200}; {min=nan, max=nan}; {0,1,0,1,0,1,0,1,0,1,0,1}\n",
       "\t\n"
      ]
     },
     "execution_count": 86,
     "metadata": {},
     "output_type": "execute_result"
    },
    {
     "data": {
      "text/plain": [
       "910; 0.100;nan;0.555556; {min=-0.661, max=0.200}; {min=nan, max=nan}; {0,1,0,1,0,1,0,1,0,1,0,1}\n",
       "\t\n"
      ]
     },
     "execution_count": 86,
     "metadata": {},
     "output_type": "execute_result"
    },
    {
     "data": {
      "text/plain": [
       "911; 0.100;nan;0.555556; {min=-0.661, max=0.200}; {min=nan, max=nan}; {0,1,0,1,0,1,0,1,0,1,0,1}\n",
       "\t\n"
      ]
     },
     "execution_count": 86,
     "metadata": {},
     "output_type": "execute_result"
    },
    {
     "data": {
      "text/plain": [
       "912; 0.100;nan;0.482759; {min=-1.000, max=0.339}; {min=nan, max=nan}; {1,0,1,0,0,1,0,1,0,1,0,1}\n",
       "\t\n"
      ]
     },
     "execution_count": 86,
     "metadata": {},
     "output_type": "execute_result"
    },
    {
     "data": {
      "text/plain": [
       "913; 0.100;nan;0.555556; {min=-0.661, max=0.200}; {min=nan, max=nan}; {0,1,0,1,0,1,0,1,0,1,0,1}\n",
       "\t\n"
      ]
     },
     "execution_count": 86,
     "metadata": {},
     "output_type": "execute_result"
    },
    {
     "data": {
      "text/plain": [
       "914; 0.100;nan;0.555556; {min=-0.661, max=0.200}; {min=nan, max=nan}; {0,1,0,1,0,1,0,1,0,1,0,1}\n",
       "\t\n"
      ]
     },
     "execution_count": 86,
     "metadata": {},
     "output_type": "execute_result"
    },
    {
     "data": {
      "text/plain": [
       "915; 0.100;nan;0.555556; {min=-0.661, max=0.200}; {min=nan, max=nan}; {0,1,0,1,0,1,0,1,0,1,0,1}\n",
       "\t\n"
      ]
     },
     "execution_count": 86,
     "metadata": {},
     "output_type": "execute_result"
    },
    {
     "data": {
      "text/plain": [
       "916; 0.100;nan;0.555556; {min=-0.661, max=0.200}; {min=nan, max=nan}; {0,1,0,1,0,1,0,1,0,1,0,1}\n",
       "\t\n"
      ]
     },
     "execution_count": 86,
     "metadata": {},
     "output_type": "execute_result"
    },
    {
     "data": {
      "text/plain": [
       "917; 0.100;nan;0.714286; {min=-0.647, max=0.227}; {min=nan, max=nan}; {0,1,1,0,0,1,0,1,0,1,1,0}\n",
       "\t\n"
      ]
     },
     "execution_count": 86,
     "metadata": {},
     "output_type": "execute_result"
    },
    {
     "data": {
      "text/plain": [
       "918; 0.100;nan;0.375000; {min=-0.661, max=0.200}; {min=nan, max=nan}; {0,1,0,1,0,1,0,1,1,0,0,1}\n",
       "\t\n"
      ]
     },
     "execution_count": 86,
     "metadata": {},
     "output_type": "execute_result"
    },
    {
     "data": {
      "text/plain": [
       "919; 0.100;nan;0.555556; {min=-0.661, max=0.200}; {min=nan, max=nan}; {0,1,0,1,0,1,0,1,0,1,0,1}\n",
       "\t\n"
      ]
     },
     "execution_count": 86,
     "metadata": {},
     "output_type": "execute_result"
    },
    {
     "data": {
      "text/plain": [
       "920; 0.100;nan;0.555556; {min=-0.661, max=0.200}; {min=nan, max=nan}; {0,1,0,1,0,1,0,1,0,1,0,1}\n",
       "\t\n"
      ]
     },
     "execution_count": 86,
     "metadata": {},
     "output_type": "execute_result"
    },
    {
     "data": {
      "text/plain": [
       "921; 0.100;nan;0.625000; {min=-0.661, max=0.214}; {min=nan, max=nan}; {0,1,0,1,0,1,1,0,0,1,0,1}\n",
       "\t\n"
      ]
     },
     "execution_count": 86,
     "metadata": {},
     "output_type": "execute_result"
    },
    {
     "data": {
      "text/plain": [
       "922; 0.100;nan;0.555556; {min=-0.661, max=0.200}; {min=nan, max=nan}; {0,1,0,1,0,1,0,1,0,1,0,1}\n",
       "\t\n"
      ]
     },
     "execution_count": 86,
     "metadata": {},
     "output_type": "execute_result"
    },
    {
     "data": {
      "text/plain": [
       "923; 0.100;nan;0.555556; {min=-0.661, max=0.200}; {min=nan, max=nan}; {0,1,0,1,0,1,0,1,0,1,0,1}\n",
       "\t\n"
      ]
     },
     "execution_count": 86,
     "metadata": {},
     "output_type": "execute_result"
    },
    {
     "data": {
      "text/plain": [
       "924; 0.100;nan;0.424242; {min=-1.000, max=0.277}; {min=nan, max=nan}; {1,0,0,1,0,1,0,1,0,1,0,1}\n",
       "\t\n"
      ]
     },
     "execution_count": 86,
     "metadata": {},
     "output_type": "execute_result"
    },
    {
     "data": {
      "text/plain": [
       "925; 0.100;nan;0.555556; {min=-0.661, max=0.200}; {min=nan, max=nan}; {0,1,0,1,0,1,0,1,0,1,0,1}\n",
       "\t\n"
      ]
     },
     "execution_count": 86,
     "metadata": {},
     "output_type": "execute_result"
    },
    {
     "data": {
      "text/plain": [
       "926; 0.100;nan;0.555556; {min=-0.661, max=0.200}; {min=nan, max=nan}; {0,1,0,1,0,1,0,1,0,1,0,1}\n",
       "\t\n"
      ]
     },
     "execution_count": 86,
     "metadata": {},
     "output_type": "execute_result"
    },
    {
     "data": {
      "text/plain": [
       "927; 0.100;nan;0.555556; {min=-0.661, max=0.200}; {min=nan, max=nan}; {0,1,0,1,0,1,0,1,0,1,0,1}\n",
       "\t\n"
      ]
     },
     "execution_count": 86,
     "metadata": {},
     "output_type": "execute_result"
    },
    {
     "data": {
      "text/plain": [
       "928; 0.100;nan;0.424242; {min=-1.000, max=0.277}; {min=nan, max=nan}; {1,0,0,1,0,1,0,1,0,1,0,1}\n",
       "\t\n"
      ]
     },
     "execution_count": 86,
     "metadata": {},
     "output_type": "execute_result"
    },
    {
     "data": {
      "text/plain": [
       "929; 0.100;nan;0.625000; {min=-0.647, max=0.227}; {min=nan, max=nan}; {0,1,1,0,0,1,0,1,0,1,0,1}\n",
       "\t\n"
      ]
     },
     "execution_count": 86,
     "metadata": {},
     "output_type": "execute_result"
    },
    {
     "data": {
      "text/plain": [
       "930; 0.100;nan;0.625000; {min=-0.647, max=0.227}; {min=nan, max=nan}; {0,1,1,0,0,1,0,1,0,1,0,1}\n",
       "\t\n"
      ]
     },
     "execution_count": 86,
     "metadata": {},
     "output_type": "execute_result"
    },
    {
     "data": {
      "text/plain": [
       "931; 0.100;nan;0.555556; {min=-0.661, max=0.200}; {min=nan, max=nan}; {0,1,0,1,0,1,0,1,0,1,0,1}\n",
       "\t\n"
      ]
     },
     "execution_count": 86,
     "metadata": {},
     "output_type": "execute_result"
    },
    {
     "data": {
      "text/plain": [
       "932; 0.100;nan;0.555556; {min=-0.661, max=0.200}; {min=nan, max=nan}; {0,1,0,1,0,1,0,1,0,1,0,1}\n",
       "\t\n"
      ]
     },
     "execution_count": 86,
     "metadata": {},
     "output_type": "execute_result"
    },
    {
     "data": {
      "text/plain": [
       "933; 0.100;nan;0.555556; {min=-0.661, max=0.200}; {min=nan, max=nan}; {0,1,0,1,0,1,0,1,0,1,0,1}\n",
       "\t\n"
      ]
     },
     "execution_count": 86,
     "metadata": {},
     "output_type": "execute_result"
    },
    {
     "data": {
      "text/plain": [
       "934; 0.100;nan;0.424242; {min=-1.000, max=0.277}; {min=nan, max=nan}; {1,0,0,1,0,1,0,1,0,1,0,1}\n",
       "\t\n"
      ]
     },
     "execution_count": 86,
     "metadata": {},
     "output_type": "execute_result"
    },
    {
     "data": {
      "text/plain": [
       "935; 0.100;nan;0.555556; {min=-0.661, max=0.200}; {min=nan, max=nan}; {0,1,0,1,0,1,0,1,0,1,0,1}\n",
       "\t\n"
      ]
     },
     "execution_count": 86,
     "metadata": {},
     "output_type": "execute_result"
    },
    {
     "data": {
      "text/plain": [
       "936; 0.100;nan;0.375000; {min=-0.661, max=0.200}; {min=nan, max=nan}; {0,1,0,1,0,1,0,1,1,0,0,1}\n",
       "\t\n"
      ]
     },
     "execution_count": 86,
     "metadata": {},
     "output_type": "execute_result"
    },
    {
     "data": {
      "text/plain": [
       "937; 0.100;nan;0.555556; {min=-0.661, max=0.200}; {min=nan, max=nan}; {0,1,0,1,0,1,0,1,0,1,0,1}\n",
       "\t\n"
      ]
     },
     "execution_count": 86,
     "metadata": {},
     "output_type": "execute_result"
    },
    {
     "data": {
      "text/plain": [
       "938; 0.100;nan;0.424242; {min=-0.661, max=0.231}; {min=nan, max=nan}; {0,1,0,1,1,0,0,1,0,1,0,1}\n",
       "\t\n"
      ]
     },
     "execution_count": 86,
     "metadata": {},
     "output_type": "execute_result"
    },
    {
     "data": {
      "text/plain": [
       "939; 0.100;nan;0.555556; {min=-0.661, max=0.200}; {min=nan, max=nan}; {0,1,0,1,0,1,0,1,0,1,0,1}\n",
       "\t\n"
      ]
     },
     "execution_count": 86,
     "metadata": {},
     "output_type": "execute_result"
    },
    {
     "data": {
      "text/plain": [
       "940; 0.100;nan;0.555556; {min=-0.661, max=0.200}; {min=nan, max=nan}; {0,1,0,1,0,1,0,1,0,1,0,1}\n",
       "\t\n"
      ]
     },
     "execution_count": 86,
     "metadata": {},
     "output_type": "execute_result"
    },
    {
     "data": {
      "text/plain": [
       "941; 0.100;nan;0.555556; {min=-0.661, max=0.731}; {min=nan, max=nan}; {0,1,0,1,0,1,0,1,0,1,0,1}\n",
       "\t\n"
      ]
     },
     "execution_count": 86,
     "metadata": {},
     "output_type": "execute_result"
    },
    {
     "data": {
      "text/plain": [
       "942; 0.100;nan;0.555556; {min=-0.661, max=0.200}; {min=nan, max=nan}; {0,1,0,1,0,1,0,1,0,1,0,1}\n",
       "\t\n"
      ]
     },
     "execution_count": 86,
     "metadata": {},
     "output_type": "execute_result"
    },
    {
     "data": {
      "text/plain": [
       "943; 0.100;nan;0.424242; {min=-0.661, max=0.231}; {min=nan, max=nan}; {0,1,0,1,1,0,0,1,0,1,0,1}\n",
       "\t\n"
      ]
     },
     "execution_count": 86,
     "metadata": {},
     "output_type": "execute_result"
    },
    {
     "data": {
      "text/plain": [
       "944; 0.100;nan;0.555556; {min=-0.661, max=1.531}; {min=nan, max=nan}; {0,1,0,1,0,1,0,1,0,1,0,1}\n",
       "\t\n"
      ]
     },
     "execution_count": 86,
     "metadata": {},
     "output_type": "execute_result"
    },
    {
     "data": {
      "text/plain": [
       "945; 0.100;nan;0.555556; {min=-0.661, max=0.200}; {min=nan, max=nan}; {0,1,0,1,0,1,0,1,0,1,0,1}\n",
       "\t\n"
      ]
     },
     "execution_count": 86,
     "metadata": {},
     "output_type": "execute_result"
    },
    {
     "data": {
      "text/plain": [
       "946; 0.100;nan;0.375000; {min=-0.661, max=0.200}; {min=nan, max=nan}; {0,1,0,1,0,1,0,1,1,0,0,1}\n",
       "\t\n"
      ]
     },
     "execution_count": 86,
     "metadata": {},
     "output_type": "execute_result"
    },
    {
     "data": {
      "text/plain": [
       "947; 0.100;nan;0.714286; {min=-0.647, max=0.247}; {min=nan, max=nan}; {0,1,1,0,0,1,1,0,0,1,0,1}\n",
       "\t\n"
      ]
     },
     "execution_count": 86,
     "metadata": {},
     "output_type": "execute_result"
    },
    {
     "data": {
      "text/plain": [
       "948; 0.100;nan;0.555556; {min=-0.661, max=0.200}; {min=nan, max=nan}; {0,1,0,1,0,1,0,1,0,1,0,1}\n",
       "\t\n"
      ]
     },
     "execution_count": 86,
     "metadata": {},
     "output_type": "execute_result"
    },
    {
     "data": {
      "text/plain": [
       "949; 0.100;nan;0.555556; {min=-0.661, max=0.200}; {min=nan, max=nan}; {0,1,0,1,0,1,0,1,0,1,0,1}\n",
       "\t\n"
      ]
     },
     "execution_count": 86,
     "metadata": {},
     "output_type": "execute_result"
    },
    {
     "data": {
      "text/plain": [
       "950; 0.100;nan;0.375000; {min=-0.661, max=0.200}; {min=nan, max=nan}; {0,1,0,1,0,1,0,1,1,0,0,1}\n",
       "\t\n"
      ]
     },
     "execution_count": 86,
     "metadata": {},
     "output_type": "execute_result"
    },
    {
     "data": {
      "text/plain": [
       "951; 0.100;nan;0.555556; {min=-0.661, max=0.200}; {min=nan, max=nan}; {0,1,0,1,0,1,0,1,0,1,0,1}\n",
       "\t\n"
      ]
     },
     "execution_count": 86,
     "metadata": {},
     "output_type": "execute_result"
    },
    {
     "data": {
      "text/plain": [
       "952; 0.100;nan;0.555556; {min=-0.661, max=0.200}; {min=nan, max=nan}; {0,1,0,1,0,1,0,1,0,1,0,1}\n",
       "\t\n"
      ]
     },
     "execution_count": 86,
     "metadata": {},
     "output_type": "execute_result"
    },
    {
     "data": {
      "text/plain": [
       "953; 0.100;nan;0.555556; {min=-0.661, max=0.200}; {min=nan, max=nan}; {0,1,0,1,0,1,0,1,0,1,0,1}\n",
       "\t\n"
      ]
     },
     "execution_count": 86,
     "metadata": {},
     "output_type": "execute_result"
    },
    {
     "data": {
      "text/plain": [
       "954; 0.100;nan;0.555556; {min=-0.661, max=0.200}; {min=nan, max=nan}; {0,1,0,1,0,1,0,1,0,1,0,1}\n",
       "\t\n"
      ]
     },
     "execution_count": 86,
     "metadata": {},
     "output_type": "execute_result"
    },
    {
     "data": {
      "text/plain": [
       "955; 0.100;nan;0.424242; {min=-1.000, max=0.277}; {min=nan, max=nan}; {1,0,0,1,0,1,0,1,0,1,0,1}\n",
       "\t\n"
      ]
     },
     "execution_count": 86,
     "metadata": {},
     "output_type": "execute_result"
    },
    {
     "data": {
      "text/plain": [
       "956; 0.100;nan;0.555556; {min=-0.661, max=0.200}; {min=nan, max=nan}; {0,1,0,1,0,1,0,1,0,1,0,1}\n",
       "\t\n"
      ]
     },
     "execution_count": 86,
     "metadata": {},
     "output_type": "execute_result"
    },
    {
     "data": {
      "text/plain": [
       "957; 0.100;nan;0.424242; {min=-0.661, max=0.231}; {min=nan, max=nan}; {0,1,0,1,1,0,0,1,0,1,0,1}\n",
       "\t\n"
      ]
     },
     "execution_count": 86,
     "metadata": {},
     "output_type": "execute_result"
    },
    {
     "data": {
      "text/plain": [
       "958; 0.100;nan;0.555556; {min=-0.661, max=0.200}; {min=nan, max=nan}; {0,1,0,1,0,1,0,1,0,1,0,1}\n",
       "\t\n"
      ]
     },
     "execution_count": 86,
     "metadata": {},
     "output_type": "execute_result"
    },
    {
     "data": {
      "text/plain": [
       "959; 0.100;nan;0.555556; {min=-0.661, max=0.200}; {min=nan, max=nan}; {0,1,0,1,0,1,0,1,0,1,0,1}\n",
       "\t\n"
      ]
     },
     "execution_count": 86,
     "metadata": {},
     "output_type": "execute_result"
    },
    {
     "data": {
      "text/plain": [
       "960; 0.100;nan;0.625000; {min=-0.647, max=0.227}; {min=nan, max=nan}; {0,1,1,0,0,1,0,1,0,1,0,1}\n",
       "\t\n"
      ]
     },
     "execution_count": 86,
     "metadata": {},
     "output_type": "execute_result"
    },
    {
     "data": {
      "text/plain": [
       "961; 0.100;nan;0.555556; {min=-0.661, max=0.200}; {min=nan, max=nan}; {0,1,0,1,0,1,0,1,0,1,0,1}\n",
       "\t\n"
      ]
     },
     "execution_count": 86,
     "metadata": {},
     "output_type": "execute_result"
    },
    {
     "data": {
      "text/plain": [
       "962; 0.100;nan;0.206897; {min=-0.661, max=-0.007}; {min=nan, max=nan}; {0,1,0,1,1,0,0,1,1,0,0,1}\n",
       "\t\n"
      ]
     },
     "execution_count": 86,
     "metadata": {},
     "output_type": "execute_result"
    },
    {
     "data": {
      "text/plain": [
       "963; 0.100;nan;0.555556; {min=-0.661, max=0.200}; {min=nan, max=nan}; {0,1,0,1,0,1,0,1,0,1,0,1}\n",
       "\t\n"
      ]
     },
     "execution_count": 86,
     "metadata": {},
     "output_type": "execute_result"
    },
    {
     "data": {
      "text/plain": [
       "964; 0.100;nan;0.555556; {min=-0.661, max=0.200}; {min=nan, max=nan}; {0,1,0,1,0,1,0,1,0,1,0,1}\n",
       "\t\n"
      ]
     },
     "execution_count": 86,
     "metadata": {},
     "output_type": "execute_result"
    },
    {
     "data": {
      "text/plain": [
       "965; 0.100;nan;0.375000; {min=-0.661, max=0.200}; {min=nan, max=nan}; {0,1,0,1,0,1,0,1,1,0,0,1}\n",
       "\t\n"
      ]
     },
     "execution_count": 86,
     "metadata": {},
     "output_type": "execute_result"
    },
    {
     "data": {
      "text/plain": [
       "966; 0.100;nan;0.625000; {min=-0.661, max=0.214}; {min=nan, max=nan}; {0,1,0,1,0,1,1,0,0,1,0,1}\n",
       "\t\n"
      ]
     },
     "execution_count": 86,
     "metadata": {},
     "output_type": "execute_result"
    },
    {
     "data": {
      "text/plain": [
       "967; 0.100;nan;0.555556; {min=-0.661, max=0.200}; {min=nan, max=nan}; {0,1,0,1,0,1,0,1,0,1,0,1}\n",
       "\t\n"
      ]
     },
     "execution_count": 86,
     "metadata": {},
     "output_type": "execute_result"
    },
    {
     "data": {
      "text/plain": [
       "968; 0.100;nan;0.555556; {min=-0.661, max=0.200}; {min=nan, max=nan}; {0,1,0,1,0,1,0,1,0,1,0,1}\n",
       "\t\n"
      ]
     },
     "execution_count": 86,
     "metadata": {},
     "output_type": "execute_result"
    },
    {
     "data": {
      "text/plain": [
       "969; 0.100;nan;0.424242; {min=-0.661, max=0.231}; {min=nan, max=nan}; {0,1,0,1,1,0,0,1,0,1,0,1}\n",
       "\t\n"
      ]
     },
     "execution_count": 86,
     "metadata": {},
     "output_type": "execute_result"
    },
    {
     "data": {
      "text/plain": [
       "970; 0.100;nan;0.555556; {min=-0.661, max=0.200}; {min=nan, max=nan}; {0,1,0,1,0,1,0,1,0,1,0,1}\n",
       "\t\n"
      ]
     },
     "execution_count": 86,
     "metadata": {},
     "output_type": "execute_result"
    },
    {
     "data": {
      "text/plain": [
       "971; 0.100;nan;0.555556; {min=-0.661, max=0.200}; {min=nan, max=nan}; {0,1,0,1,0,1,0,1,0,1,0,1}\n",
       "\t\n"
      ]
     },
     "execution_count": 86,
     "metadata": {},
     "output_type": "execute_result"
    },
    {
     "data": {
      "text/plain": [
       "972; 0.100;nan;0.428571; {min=-0.661, max=0.200}; {min=nan, max=nan}; {0,1,0,1,0,1,0,1,1,0,1,0}\n",
       "\t\n"
      ]
     },
     "execution_count": 86,
     "metadata": {},
     "output_type": "execute_result"
    },
    {
     "data": {
      "text/plain": [
       "973; 0.100;nan;0.555556; {min=-0.661, max=0.200}; {min=nan, max=nan}; {0,1,0,1,0,1,0,1,0,1,0,1}\n",
       "\t\n"
      ]
     },
     "execution_count": 86,
     "metadata": {},
     "output_type": "execute_result"
    },
    {
     "data": {
      "text/plain": [
       "974; 0.100;nan;0.555556; {min=-0.661, max=0.200}; {min=nan, max=nan}; {0,1,0,1,0,1,0,1,0,1,0,1}\n",
       "\t\n"
      ]
     },
     "execution_count": 86,
     "metadata": {},
     "output_type": "execute_result"
    },
    {
     "data": {
      "text/plain": [
       "975; 0.100;nan;0.555556; {min=-0.661, max=0.200}; {min=nan, max=nan}; {0,1,0,1,0,1,0,1,0,1,0,1}\n",
       "\t\n"
      ]
     },
     "execution_count": 86,
     "metadata": {},
     "output_type": "execute_result"
    },
    {
     "data": {
      "text/plain": [
       "976; 0.100;nan;0.555556; {min=-0.661, max=0.200}; {min=nan, max=nan}; {0,1,0,1,0,1,0,1,0,1,0,1}\n",
       "\t\n"
      ]
     },
     "execution_count": 86,
     "metadata": {},
     "output_type": "execute_result"
    },
    {
     "data": {
      "text/plain": [
       "977; 0.100;nan;0.555556; {min=-0.661, max=0.200}; {min=nan, max=nan}; {0,1,0,1,0,1,0,1,0,1,0,1}\n",
       "\t\n"
      ]
     },
     "execution_count": 86,
     "metadata": {},
     "output_type": "execute_result"
    },
    {
     "data": {
      "text/plain": [
       "978; 0.100;nan;0.555556; {min=-0.661, max=0.200}; {min=nan, max=nan}; {0,1,0,1,0,1,0,1,0,1,0,1}\n",
       "\t\n"
      ]
     },
     "execution_count": 86,
     "metadata": {},
     "output_type": "execute_result"
    },
    {
     "data": {
      "text/plain": [
       "979; 0.100;nan;0.555556; {min=-0.661, max=0.200}; {min=nan, max=nan}; {0,1,0,1,0,1,0,1,0,1,0,1}\n",
       "\t\n"
      ]
     },
     "execution_count": 86,
     "metadata": {},
     "output_type": "execute_result"
    },
    {
     "data": {
      "text/plain": [
       "980; 0.100;nan;0.555556; {min=-0.661, max=0.200}; {min=nan, max=nan}; {0,1,0,1,0,1,0,1,0,1,0,1}\n",
       "\t\n"
      ]
     },
     "execution_count": 86,
     "metadata": {},
     "output_type": "execute_result"
    },
    {
     "data": {
      "text/plain": [
       "981; 0.100;nan;0.555556; {min=-0.661, max=0.200}; {min=nan, max=nan}; {0,1,0,1,0,1,0,1,0,1,0,1}\n",
       "\t\n"
      ]
     },
     "execution_count": 86,
     "metadata": {},
     "output_type": "execute_result"
    },
    {
     "data": {
      "text/plain": [
       "982; 0.100;nan;0.555556; {min=-0.661, max=0.200}; {min=nan, max=nan}; {0,1,0,1,0,1,0,1,0,1,0,1}\n",
       "\t\n"
      ]
     },
     "execution_count": 86,
     "metadata": {},
     "output_type": "execute_result"
    },
    {
     "data": {
      "text/plain": [
       "983; 0.100;nan;0.555556; {min=-0.661, max=0.200}; {min=nan, max=nan}; {0,1,0,1,0,1,0,1,0,1,0,1}\n",
       "\t\n"
      ]
     },
     "execution_count": 86,
     "metadata": {},
     "output_type": "execute_result"
    },
    {
     "data": {
      "text/plain": [
       "984; 0.100;nan;0.555556; {min=-0.661, max=0.200}; {min=nan, max=nan}; {0,1,0,1,0,1,0,1,0,1,0,1}\n",
       "\t\n"
      ]
     },
     "execution_count": 86,
     "metadata": {},
     "output_type": "execute_result"
    },
    {
     "data": {
      "text/plain": [
       "985; 0.100;nan;0.428571; {min=-0.661, max=0.214}; {min=nan, max=nan}; {0,1,0,1,0,1,1,0,1,0,0,1}\n",
       "\t\n"
      ]
     },
     "execution_count": 86,
     "metadata": {},
     "output_type": "execute_result"
    },
    {
     "data": {
      "text/plain": [
       "986; 0.100;nan;0.555556; {min=-0.661, max=0.200}; {min=nan, max=nan}; {0,1,0,1,0,1,0,1,0,1,0,1}\n",
       "\t\n"
      ]
     },
     "execution_count": 86,
     "metadata": {},
     "output_type": "execute_result"
    },
    {
     "data": {
      "text/plain": [
       "987; 0.100;nan;0.555556; {min=-0.661, max=0.200}; {min=nan, max=nan}; {0,1,0,1,0,1,0,1,0,1,0,1}\n",
       "\t\n"
      ]
     },
     "execution_count": 86,
     "metadata": {},
     "output_type": "execute_result"
    },
    {
     "data": {
      "text/plain": [
       "988; 0.100;nan;0.555556; {min=-0.661, max=0.200}; {min=nan, max=nan}; {0,1,0,1,0,1,0,1,0,1,0,1}\n",
       "\t\n"
      ]
     },
     "execution_count": 86,
     "metadata": {},
     "output_type": "execute_result"
    },
    {
     "data": {
      "text/plain": [
       "989; 0.100;nan;0.555556; {min=-0.661, max=0.200}; {min=nan, max=nan}; {0,1,0,1,0,1,0,1,0,1,0,1}\n",
       "\t\n"
      ]
     },
     "execution_count": 86,
     "metadata": {},
     "output_type": "execute_result"
    },
    {
     "data": {
      "text/plain": [
       "990; 0.100;nan;0.555556; {min=-0.661, max=0.200}; {min=nan, max=nan}; {0,1,0,1,0,1,0,1,0,1,0,1}\n",
       "\t\n"
      ]
     },
     "execution_count": 86,
     "metadata": {},
     "output_type": "execute_result"
    },
    {
     "data": {
      "text/plain": [
       "991; 0.100;nan;0.555556; {min=-0.661, max=0.200}; {min=nan, max=nan}; {0,1,0,1,0,1,0,1,0,1,0,1}\n",
       "\t\n"
      ]
     },
     "execution_count": 86,
     "metadata": {},
     "output_type": "execute_result"
    },
    {
     "data": {
      "text/plain": [
       "992; 0.100;nan;0.555556; {min=-0.661, max=0.200}; {min=nan, max=nan}; {0,1,0,1,0,1,0,1,0,1,0,1}\n",
       "\t\n"
      ]
     },
     "execution_count": 86,
     "metadata": {},
     "output_type": "execute_result"
    },
    {
     "data": {
      "text/plain": [
       "993; 0.100;nan;0.555556; {min=-0.661, max=0.200}; {min=nan, max=nan}; {0,1,0,1,0,1,0,1,0,1,0,1}\n",
       "\t\n"
      ]
     },
     "execution_count": 86,
     "metadata": {},
     "output_type": "execute_result"
    },
    {
     "data": {
      "text/plain": [
       "994; 0.100;nan;0.555556; {min=-0.661, max=0.200}; {min=nan, max=nan}; {0,1,0,1,0,1,0,1,0,1,0,1}\n",
       "\t\n"
      ]
     },
     "execution_count": 86,
     "metadata": {},
     "output_type": "execute_result"
    },
    {
     "data": {
      "text/plain": [
       "995; 0.100;nan;0.555556; {min=-0.661, max=0.200}; {min=nan, max=nan}; {0,1,0,1,0,1,0,1,0,1,0,1}\n",
       "\t\n"
      ]
     },
     "execution_count": 86,
     "metadata": {},
     "output_type": "execute_result"
    },
    {
     "data": {
      "text/plain": [
       "996; 0.100;nan;0.555556; {min=-0.661, max=0.200}; {min=nan, max=nan}; {0,1,0,1,0,1,0,1,0,1,0,1}\n",
       "\t\n"
      ]
     },
     "execution_count": 86,
     "metadata": {},
     "output_type": "execute_result"
    },
    {
     "data": {
      "text/plain": [
       "997; 0.100;nan;0.555556; {min=-0.661, max=0.200}; {min=nan, max=nan}; {0,1,0,1,0,1,0,1,0,1,0,1}\n",
       "\t\n"
      ]
     },
     "execution_count": 86,
     "metadata": {},
     "output_type": "execute_result"
    },
    {
     "data": {
      "text/plain": [
       "998; 0.100;nan;0.555556; {min=-0.661, max=0.200}; {min=nan, max=nan}; {0,1,0,1,0,1,0,1,0,1,0,1}\n",
       "\t\n"
      ]
     },
     "execution_count": 86,
     "metadata": {},
     "output_type": "execute_result"
    },
    {
     "data": {
      "text/plain": [
       "999; 0.100;nan;0.482759; {min=-1.000, max=0.277}; {min=nan, max=nan}; {1,0,0,1,0,1,0,1,0,1,1,0}\n",
       "\t\n"
      ]
     },
     "execution_count": 86,
     "metadata": {},
     "output_type": "execute_result"
    },
    {
     "data": {
      "text/plain": [
       "1000; 0.100;nan;0.555556; {min=-0.661, max=0.200}; {min=nan, max=nan}; {0,1,0,1,0,1,0,1,0,1,0,1}\n",
       "\t\n"
      ]
     },
     "execution_count": 86,
     "metadata": {},
     "output_type": "execute_result"
    }
   ],
   "source": [
    "tmp0 = {}\n",
    "tmp1 = {}\n",
    "tmp2 = {}\n",
    "for epoch=1,nepochs do\n",
    "    actions = torch.ByteTensor(streamSize,2):fill(0)\n",
    "    exploreDraws = torch.Tensor(streamSize)\n",
    "    summaryBuffer = torch.LongTensor(streamSize + 1, maxSummarySize):zero()\n",
    "    qValues = torch.Tensor(streamSize, 2):zero()\n",
    "    rouge = torch.Tensor(streamSize + 1):zero()\n",
    "\n",
    "    rouge[1] = 1\n",
    "    exploreDraws:uniform(0, 1)\n",
    "\n",
    "    summary = summaryBuffer:zero():narrow(1,1,1)\n",
    "    for i=1, streamSize do\n",
    "        --- the i extracts individual sentences from the stream\n",
    "         sentence = sentenceStream:narrow(1, i, 1)\n",
    "        qValues[i]:copy(model:forward({sentence, query, summary}))\n",
    "\n",
    "        if exploreDraws[i] <= epsilon then\n",
    "            actions[i][torch.random(SKIP, SELECT)] = 1\n",
    "        else \n",
    "            if qValues[i][SKIP] > qValues[i][SELECT] then\n",
    "                actions[i][SKIP] = 1\n",
    "            else\n",
    "                actions[i][SELECT] = 1\n",
    "            end\n",
    "        end\n",
    "\n",
    "        summary = buildSummary(\n",
    "            actions:narrow(1, 1, i), \n",
    "            sentenceStream:narrow(1, 1, i),\n",
    "            summaryBuffer:narrow(1, i + 1, 1)\n",
    "            )\n",
    "\n",
    "         generatedCounts = buildTokenCounts(summary) \n",
    "         recall, prec, f1 = rougeScores(generatedCounts, refCounts)\n",
    "        rouge[i + 1] = f1\n",
    "    end\n",
    "\n",
    "     max, argmax = torch.max(qValues, 2)\n",
    "    \n",
    "     reward0 = rouge:narrow(1,2, streamSize) - rouge:narrow(1,1, streamSize)\n",
    "     reward_tp1 = gamma * reward0:narrow(1, 2, streamSize - 1):resize(streamSize)\n",
    "     reward_tp1[reward_tp1:ne(reward_tp1)] = 0\n",
    "     reward = reward0 + reward_tp1\n",
    "    \n",
    "     tmp0[epoch] = reward0\n",
    "     tmp1[epoch] = reward_tp1\n",
    "     tmp2[epoch] = reward\n",
    "    \n",
    "     querySize = query:size(2)\n",
    "     summaryBatch = summaryBuffer:narrow(1, 1, streamSize)\n",
    "     queryBatch = query:view(1, querySize):expand(streamSize, querySize) \n",
    "\n",
    "     input = {sentenceStream, queryBatch, summaryBatch}\n",
    "    if epoch == 1 then\n",
    "        print(input)\n",
    "    end\n",
    "\n",
    "     function feval(params)\n",
    "        gradParams:zero()\n",
    "         predQ = model:forward(input)\n",
    "         maskLayer = nn.MaskedSelect()\n",
    "         predQOnActions = maskLayer:forward({predQ, actions})\n",
    "\n",
    "         loss = criterion:forward(predQOnActions, reward)\n",
    "         gradOutput = criterion(predQOnActions, reward)\n",
    "         gradMaskLayer = maskLayer:backward({predQ, actions}, gradOutput)\n",
    "        model:backward(input, gradMaskLayer[1])\n",
    "        return loss, gradParams    \n",
    "    end\n",
    "\n",
    "     _, loss = optim.adam(feval, params, optimParams)\n",
    "    out = string.format(\"%i; %.3f;%.6f;%.6f; {min=%.3f, max=%.3f}; {min=%.3f, max=%.3f}; {%i,%i,%i,%i,%i,%i,%i,%i,%i,%i,%i,%i}\\n\", \n",
    "            epoch, epsilon, loss[1], rouge[streamSize + 1],\n",
    "            reward:min(), reward:max(),\n",
    "            qValues:min(), qValues:max(),\n",
    "            actions[1][1], \n",
    "            actions[1][2], \n",
    "            actions[2][1], \n",
    "            actions[2][2], \n",
    "            actions[3][1], \n",
    "            actions[3][2], \n",
    "            actions[4][1],\n",
    "            actions[4][2],\n",
    "            actions[5][1], \n",
    "            actions[5][2], \n",
    "            actions[6][1], \n",
    "            actions[6][2] \n",
    "        )\n",
    "    print(out)\n",
    "\n",
    "    if (epsilon - delta) <= base_explore_rate then\n",
    "        epsilon = base_explore_rate\n",
    "    else \n",
    "        epsilon = epsilon - delta\n",
    "    end\n",
    "end\n"
   ]
  },
  {
   "cell_type": "code",
   "execution_count": 133,
   "metadata": {
    "collapsed": false
   },
   "outputs": [
    {
     "data": {
      "text/plain": [
       "-0.6471\n",
       " 0.0000\n",
       " 0.0000\n",
       " 0.0000\n",
       " 0.0000\n",
       " 0.0000\n",
       "[torch.DoubleTensor of size 6]\n",
       "\n"
      ]
     },
     "execution_count": 133,
     "metadata": {},
     "output_type": "execute_result"
    }
   ],
   "source": [
    "torch.clamp(tmp0[360], -0.7, 0.7)"
   ]
  },
  {
   "cell_type": "code",
   "execution_count": 104,
   "metadata": {
    "collapsed": false
   },
   "outputs": [
    {
     "data": {
      "text/plain": [
       " 0.0000e+00\n",
       " 0.0000e+00\n",
       " 0.0000e+00\n",
       " 0.0000e+00\n",
       " 0.0000e+00\n",
       "-6.2207e+230\n",
       "[torch.DoubleTensor of size 6]\n",
       "\n"
      ]
     },
     "execution_count": 104,
     "metadata": {},
     "output_type": "execute_result"
    }
   ],
   "source": [
    "tmp1[360]"
   ]
  },
  {
   "cell_type": "code",
   "execution_count": 126,
   "metadata": {
    "collapsed": false
   },
   "outputs": [
    {
     "data": {
      "text/plain": [
       " 0.0000\n",
       " 0.0571\n",
       "-0.0091\n",
       " 0.0000\n",
       " 0.0000\n",
       " 0.6000\n",
       "[torch.DoubleTensor of size 6]\n",
       "\n"
      ]
     },
     "execution_count": 126,
     "metadata": {},
     "output_type": "execute_result"
    }
   ],
   "source": [
    "tmp1[1]"
   ]
  },
  {
   "cell_type": "code",
   "execution_count": 129,
   "metadata": {
    "collapsed": false
   },
   "outputs": [
    {
     "data": {
      "text/plain": [
       " 0.0000\n",
       " 0.0000\n",
       " 0.0000\n",
       " 0.0000\n",
       " 0.0000\n",
       " 0.6000\n",
       "[torch.DoubleTensor of size 6]\n",
       "\n"
      ]
     },
     "execution_count": 129,
     "metadata": {},
     "output_type": "execute_result"
    }
   ],
   "source": [
    "nn.Threshold(0.06, 0):forward(tmp1[1])"
   ]
  },
  {
   "cell_type": "code",
   "execution_count": 111,
   "metadata": {
    "collapsed": false
   },
   "outputs": [
    {
     "data": {
      "text/plain": [
       " 0\n",
       " 0\n",
       " 0\n",
       " 0\n",
       " 0\n",
       " 0\n",
       "[torch.DoubleTensor of size 6]\n",
       "\n"
      ]
     },
     "execution_count": 111,
     "metadata": {},
     "output_type": "execute_result"
    }
   ],
   "source": [
    "nn.Threshold(-.05, 0):forward(tmp0[360])"
   ]
  },
  {
   "cell_type": "code",
   "execution_count": 101,
   "metadata": {
    "collapsed": false
   },
   "outputs": [
    {
     "data": {
      "text/plain": [
       " 0.0000e+00\n",
       " 0.0000e+00\n",
       " 0.0000e+00\n",
       " 0.0000e+00\n",
       " 0.0000e+00\n",
       "-6.2207e+230\n",
       "[torch.DoubleTensor of size 6]\n",
       "\n"
      ]
     },
     "execution_count": 101,
     "metadata": {},
     "output_type": "execute_result"
    }
   ],
   "source": [
    "tmp1[360]"
   ]
  },
  {
   "cell_type": "code",
   "execution_count": 89,
   "metadata": {
    "collapsed": false
   },
   "outputs": [
    {
     "data": {
      "text/plain": [
       " -6.4706e-01\n",
       "  0.0000e+00\n",
       "  0.0000e+00\n",
       "  0.0000e+00\n",
       "  0.0000e+00\n",
       "-6.2207e+230\n",
       "[torch.DoubleTensor of size 6]\n",
       "\n"
      ]
     },
     "execution_count": 89,
     "metadata": {},
     "output_type": "execute_result"
    }
   ],
   "source": [
    "tmp2[360]"
   ]
  },
  {
   "cell_type": "code",
   "execution_count": 83,
   "metadata": {
    "collapsed": false
   },
   "outputs": [],
   "source": [
    "tmp1[6][tmp1[6]:ne(tmp1[6])] = 0"
   ]
  },
  {
   "cell_type": "code",
   "execution_count": 78,
   "metadata": {
    "collapsed": false
   },
   "outputs": [
    {
     "data": {
      "text/plain": [
       "0.000000\n",
       "0.000000\n",
       "0.000000\n",
       "0.444444\n",
       "0.000000\n",
       "nan\n",
       "[torch.DoubleTensor of size 6]\n",
       "\n"
      ]
     },
     "execution_count": 78,
     "metadata": {},
     "output_type": "execute_result"
    }
   ],
   "source": [
    "tmp0[6]:narrow(1, 2, streamSize-1):resize(streamSize)"
   ]
  },
  {
   "cell_type": "code",
   "execution_count": 76,
   "metadata": {
    "collapsed": false
   },
   "outputs": [
    {
     "data": {
      "text/plain": [
       "0.000000\n",
       "0.000000\n",
       "0.000000\n",
       "0.444444\n",
       "0.000000\n",
       "nan\n",
       "[torch.DoubleTensor of size 6]\n",
       "\n"
      ]
     },
     "execution_count": 76,
     "metadata": {},
     "output_type": "execute_result"
    }
   ],
   "source": [
    "tmp0[6]:narrow(1, 2, streamSize-1):resize(streamSize)"
   ]
  },
  {
   "cell_type": "code",
   "execution_count": 75,
   "metadata": {
    "collapsed": false
   },
   "outputs": [
    {
     "data": {
      "text/plain": [
       "-1.000000\n",
       "0.000000\n",
       "0.000000\n",
       "0.088889\n",
       "0.444444\n",
       "nan\n",
       "[torch.DoubleTensor of size 6]\n",
       "\n"
      ]
     },
     "execution_count": 75,
     "metadata": {},
     "output_type": "execute_result"
    }
   ],
   "source": [
    "tmp0[6] + gamma * tmp0[6]:narrow(1, 2, streamSize-1):resize(streamSize)"
   ]
  },
  {
   "cell_type": "code",
   "execution_count": 72,
   "metadata": {
    "collapsed": false
   },
   "outputs": [
    {
     "data": {
      "text/plain": [
       "0.000000\n",
       "0.000000\n",
       "0.000000\n",
       "0.088889\n",
       "0.000000\n",
       "nan\n",
       "[torch.DoubleTensor of size 6]\n",
       "\n"
      ]
     },
     "execution_count": 72,
     "metadata": {},
     "output_type": "execute_result"
    }
   ],
   "source": [
    "tmp1[6]"
   ]
  },
  {
   "cell_type": "code",
   "execution_count": 62,
   "metadata": {
    "collapsed": false
   },
   "outputs": [
    {
     "data": {
      "text/plain": [
       "-0.6471\n",
       "-0.0672\n",
       " 0.2143\n",
       "-0.0714\n",
       " 0.1964\n",
       "-0.0694\n",
       "[torch.DoubleTensor of size 6]\n",
       "\n"
      ]
     },
     "execution_count": 62,
     "metadata": {},
     "output_type": "execute_result"
    }
   ],
   "source": [
    "tmp0[242]"
   ]
  },
  {
   "cell_type": "code",
   "execution_count": 63,
   "metadata": {
    "collapsed": false
   },
   "outputs": [
    {
     "data": {
      "text/plain": [
       "-0.6471\n",
       "-0.0672\n",
       " 0.2143\n",
       "-0.0714\n",
       " 0.1964\n",
       "-0.0694\n",
       "[torch.DoubleTensor of size 6]\n",
       "\n"
      ]
     },
     "execution_count": 63,
     "metadata": {},
     "output_type": "execute_result"
    }
   ],
   "source": [
    "--- If tmp0[242] < thresh, out else tmp0[242]\n",
    "thresh = -0.7\n",
    "out = 99\n",
    "print(nn.Threshold(thresh, out):forward(tmp0[242]))"
   ]
  },
  {
   "cell_type": "code",
   "execution_count": 64,
   "metadata": {
    "collapsed": false
   },
   "outputs": [
    {
     "data": {
      "text/plain": [
       " 0.6471\n",
       " 0.0672\n",
       "-0.2143\n",
       " 0.0714\n",
       "-0.1964\n",
       " 0.0694\n",
       "[torch.DoubleTensor of size 6]\n",
       "\n"
      ]
     },
     "execution_count": 64,
     "metadata": {},
     "output_type": "execute_result"
    }
   ],
   "source": [
    "--- If tmp0[242] < thresh, out else tmp0[242]\n",
    "thresh = -0.25\n",
    "out = 99\n",
    "print(nn.Threshold(thresh, out):forward(-tmp0[242]))"
   ]
  },
  {
   "cell_type": "code",
   "execution_count": 59,
   "metadata": {
    "collapsed": false
   },
   "outputs": [
    {
     "data": {
      "text/plain": [
       "-0.0010\n",
       "-0.0010\n",
       " 0.2143\n",
       "-0.0010\n",
       " 0.1964\n",
       "-0.0010\n",
       "[torch.DoubleTensor of size 6]\n",
       "\n"
      ]
     },
     "execution_count": 59,
     "metadata": {},
     "output_type": "execute_result"
    }
   ],
   "source": [
    "nn.Threshold(0.01, -0.001):forward(tmp0[242])"
   ]
  },
  {
   "cell_type": "code",
   "execution_count": 60,
   "metadata": {
    "collapsed": false
   },
   "outputs": [
    {
     "data": {
      "text/plain": [
       " 0.0100\n",
       " 0.0100\n",
       " 0.2143\n",
       " 0.0100\n",
       " 0.1964\n",
       " 0.0100\n",
       "[torch.DoubleTensor of size 6]\n",
       "\n"
      ]
     },
     "execution_count": 60,
     "metadata": {},
     "output_type": "execute_result"
    }
   ],
   "source": [
    "nn.Threshold(0.1, 0.01):forward(nn.Threshold(-0.01, -0.01):forward(tmp0[242]))"
   ]
  },
  {
   "cell_type": "code",
   "execution_count": 61,
   "metadata": {
    "collapsed": false
   },
   "outputs": [
    {
     "data": {
      "text/plain": [
       "-1.0000\n",
       " 0.0571\n",
       " 0.2766\n",
       "-0.0457\n",
       " 0.0000\n",
       " 0.0000\n",
       "[torch.DoubleTensor of size 6]\n",
       "\n",
       "-0.6605\n",
       "-0.0672\n",
       "-0.0091\n",
       " 0.0028\n",
       " 0.2311\n",
       "-0.0585\n",
       "[torch.DoubleTensor of size 6]\n",
       "\n",
       "-1.0000\n",
       " 0.0706\n",
       " 0.3529\n",
       " 0.0627\n",
       " 0.3137\n",
       " 0.0000\n",
       "[torch.DoubleTensor of size 6]\n",
       "\n",
       "-0.6605\n",
       "-0.0244\n",
       " 0.2000\n",
       "-0.0321\n",
       " 0.1964\n",
       " 0.0000\n",
       "[torch.DoubleTensor of size 6]\n",
       "\n",
       "-1.0000\n",
       " 0.0706\n",
       " 0.3395\n",
       "-0.0124\n",
       " 0.2588\n",
       "-0.0772\n",
       "[torch.DoubleTensor of size 6]\n",
       "\n",
       "-1.0000\n",
       " 0.0000\n",
       " 0.0000\n",
       " 0.0889\n",
       " 0.4444\n",
       " 0.0000\n",
       "[torch.DoubleTensor of size 6]\n",
       "\n",
       "-0.6605\n",
       "-0.0672\n",
       " 0.0000\n",
       " 0.0549\n",
       " 0.2743\n",
       " 0.0000\n",
       "[torch.DoubleTensor of size 6]\n",
       "\n",
       "-1\n",
       " 0\n",
       " 0\n",
       " 0\n",
       " 0\n",
       " 0\n",
       "[torch.DoubleTensor of size 6]\n",
       "\n",
       "-0.6471\n",
       " 0.0494\n",
       " 0.2471\n",
       " 0.0467\n",
       " 0.2095\n",
       "-0.1190\n",
       "[torch.DoubleTensor of size 6]\n",
       "\n",
       "-1.0000\n",
       " 0.0571\n",
       " 0.2857\n",
       " 0.0549\n",
       " 0.2743\n",
       " 0.0000\n",
       "[torch.DoubleTensor of size 6]\n",
       "\n",
       "-1.0000\n",
       " 0.0000\n",
       " 0.0000\n",
       " 0.0727\n",
       " 0.3636\n",
       " 0.0000\n",
       "[torch.DoubleTensor of size 6]\n",
       "\n",
       "-1.0000\n",
       " 0.0000\n",
       " 0.0000\n",
       " 0.0727\n",
       " 0.3636\n",
       " 0.0000\n",
       "[torch.DoubleTensor of size 6]\n",
       "\n",
       "-0.6605\n",
       "-0.0672\n",
       " 0.0000\n",
       " 0.0549\n",
       " 0.2588\n",
       "-0.0772\n",
       "[torch.DoubleTensor of size 6]\n",
       "\n",
       "-0.6471\n",
       " 0.0000\n",
       " 0.0000\n",
       " 0.0000\n",
       " 0.0000\n",
       " 0.0000\n",
       "[torch.DoubleTensor of size 6]\n",
       "\n",
       "-0.6605\n",
       "-0.0244\n",
       " 0.2000\n",
       "-0.0714\n",
       " 0.0000\n",
       " 0.0000\n",
       "[torch.DoubleTensor of size 6]\n",
       "\n",
       "-0.6471\n",
       " 0.0494\n",
       " 0.2471\n",
       " 0.0467\n",
       " 0.2333\n",
       " 0.0000\n",
       "[torch.DoubleTensor of size 6]\n",
       "\n",
       "-0.6471\n",
       " 0.0000\n",
       "-0.0134\n",
       "-0.0672\n",
       "-0.0091\n",
       "-0.0457\n",
       "[torch.DoubleTensor of size 6]\n",
       "\n",
       "-1.0000\n",
       " 0.0706\n",
       " 0.3529\n",
       " 0.0627\n",
       " 0.3137\n",
       " 0.0000\n",
       "[torch.DoubleTensor of size 6]\n",
       "\n",
       "-0.6471\n",
       " 0.0000\n",
       " 0.0000\n",
       " 0.0000\n",
       " 0.0000\n",
       " 0.0000\n",
       "[torch.DoubleTensor of size 6]\n",
       "\n",
       "-1\n",
       " 0\n",
       " 0\n",
       " 0\n",
       " 0\n",
       " 0\n",
       "[torch.DoubleTensor of size 6]\n",
       "\n",
       "-1.0000\n",
       " 0.0571\n",
       " 0.2857\n",
       " 0.0549\n",
       " 0.2588\n",
       "-0.0772\n",
       "[torch.DoubleTensor of size 6]\n",
       "\n",
       "-1.0000\n",
       " 0.0706\n",
       " 0.3395\n",
       "-0.0672\n",
       "-0.0091\n",
       "-0.0457\n",
       "[torch.DoubleTensor of size 6]\n",
       "\n",
       "-0.6605\n",
       "-0.0672\n",
       " 0.0000\n",
       " 0.0549\n",
       " 0.2588\n",
       "-0.0772\n",
       "[torch.DoubleTensor of size 6]\n",
       "\n",
       "-0.6605\n",
       "-0.0672\n",
       " 0.0000\n",
       " 0.0000\n",
       "-0.0091\n",
       "-0.0457\n",
       "[torch.DoubleTensor of size 6]\n",
       "\n",
       "-1.0000\n",
       " 0.0706\n",
       " 0.3395\n",
       "-0.0124\n",
       " 0.2588\n",
       "-0.0772\n",
       "[torch.DoubleTensor of size 6]\n",
       "\n",
       "-0.6605\n",
       "-0.0672\n",
       " 0.0000\n",
       " 0.0000\n",
       "-0.0091\n",
       "-0.0457\n",
       "[torch.DoubleTensor of size 6]\n",
       "\n",
       "-1.0000\n",
       " 0.0706\n",
       " 0.3395\n",
       "-0.0124\n",
       " 0.2743\n",
       " 0.0000\n",
       "[torch.DoubleTensor of size 6]\n",
       "\n",
       "-1.0000\n",
       " 0.0706\n",
       " 0.3395\n",
       "-0.0124\n",
       " 0.2588\n",
       "-0.0772\n",
       "[torch.DoubleTensor of size 6]\n",
       "\n",
       "-1.0000\n",
       " 0.0706\n",
       " 0.3395\n",
       "-0.0124\n",
       " 0.2588\n",
       "-0.0772\n",
       "[torch.DoubleTensor of size 6]\n",
       "\n",
       "-0.6471\n",
       " 0.0000\n",
       "-0.0134\n",
       "-0.0672\n",
       "-0.0091\n",
       "-0.0457\n",
       "[torch.DoubleTensor of size 6]\n",
       "\n",
       "-0.6605\n",
       "-0.0672\n",
       "-0.0091\n",
       "-0.0457\n",
       " 0.0000\n",
       " 0.0000\n",
       "[torch.DoubleTensor of size 6]\n",
       "\n",
       "-0.6471\n",
       " 0.0494\n",
       " 0.2271\n",
       "-0.1000\n",
       "-0.0143\n",
       "-0.0714\n",
       "[torch.DoubleTensor of size 6]\n",
       "\n",
       "-0.6605\n",
       "-0.0244\n",
       " 0.2000\n",
       "-0.0714\n",
       "-0.0107\n",
       "-0.0536\n",
       "[torch.DoubleTensor of size 6]\n",
       "\n",
       "-1.0000\n",
       " 0.0706\n",
       " 0.3529\n",
       " 0.0627\n",
       " 0.2924\n",
       "-0.1067\n",
       "[torch.DoubleTensor of size 6]\n",
       "\n",
       "-1\n",
       " 0\n",
       " 0\n",
       " 0\n",
       " 0\n",
       " 0\n",
       "[torch.DoubleTensor of size 6]\n",
       "\n",
       "-1\n",
       " 0\n",
       " 0\n",
       " 0\n",
       " 0\n",
       " 0\n",
       "[torch.DoubleTensor of size 6]\n",
       "\n",
       "-0.6471\n",
       " 0.0000\n",
       "-0.0134\n",
       "-0.0124\n",
       " 0.2588\n",
       "-0.0772\n",
       "[torch.DoubleTensor of size 6]\n",
       "\n",
       "-0.6471\n",
       " 0.0494\n",
       " 0.2471\n",
       " 0.0000\n",
       "-0.0200\n",
       "-0.1000\n",
       "[torch.DoubleTensor of size 6]\n",
       "\n",
       "-0.6605\n",
       "-0.0672\n",
       "-0.0091\n",
       "-0.0457\n",
       "-0.0066\n",
       "-0.0331\n",
       "[torch.DoubleTensor of size 6]\n",
       "\n",
       "-1\n",
       " 0\n",
       " 0\n",
       " 0\n",
       " 0\n",
       " 0\n",
       "[torch.DoubleTensor of size 6]\n",
       "\n",
       "-1.0000\n",
       " 0.0000\n",
       " 0.0000\n",
       " 0.0727\n",
       " 0.3636\n",
       " 0.0000\n",
       "[torch.DoubleTensor of size 6]\n",
       "\n",
       "-0.6471\n",
       " 0.0494\n",
       " 0.2471\n",
       " 0.0000\n",
       " 0.0000\n",
       " 0.0000\n",
       "[torch.DoubleTensor of size 6]\n",
       "\n",
       "-0.6605\n",
       "-0.0672\n",
       " 0.0000\n",
       " 0.0549\n",
       " 0.2743\n",
       " 0.0000\n",
       "[torch.DoubleTensor of size 6]\n",
       "\n",
       "-1\n",
       " 0\n",
       " 0\n",
       " 0\n",
       " 0\n",
       " 0\n",
       "[torch.DoubleTensor of size 6]\n",
       "\n",
       "-1.0000\n",
       " 0.0571\n",
       " 0.2857\n",
       " 0.0000\n",
       " 0.0000\n",
       " 0.0000\n",
       "[torch.DoubleTensor of size 6]\n",
       "\n",
       "-0.6471\n",
       " 0.0494\n",
       " 0.2471\n",
       " 0.0467\n",
       " 0.2333\n",
       " 0.0000\n",
       "[torch.DoubleTensor of size 6]\n",
       "\n",
       "-0.6471\n",
       " 0.0494\n",
       " 0.2471\n",
       " 0.0467\n",
       " 0.2333\n",
       " 0.0000\n",
       "[torch.DoubleTensor of size 6]\n",
       "\n",
       "-0.6605\n",
       "-0.0672\n",
       " 0.0000\n",
       " 0.0549\n",
       " 0.2743\n",
       " 0.0000\n",
       "[torch.DoubleTensor of size 6]\n",
       "\n",
       "-0.6471\n",
       " 0.0494\n",
       " 0.2471\n",
       " 0.0467\n",
       " 0.2333\n",
       " 0.0000\n",
       "[torch.DoubleTensor of size 6]\n",
       "\n",
       "-0.6471\n",
       " 0.0494\n",
       " 0.2471\n",
       " 0.0467\n",
       " 0.2333\n",
       " 0.0000\n",
       "[torch.DoubleTensor of size 6]\n",
       "\n"
      ]
     },
     "execution_count": 61,
     "metadata": {},
     "output_type": "execute_result"
    },
    {
     "data": {
      "text/plain": [
       "-1\n",
       " 0\n",
       " 0\n",
       " 0\n",
       " 0\n",
       " 0\n",
       "[torch.DoubleTensor of size 6]\n",
       "\n",
       "-1\n",
       " 0\n",
       " 0\n",
       " 0\n",
       " 0\n",
       " 0\n",
       "[torch.DoubleTensor of size 6]\n",
       "\n",
       "-1.0000\n",
       " 0.0706\n",
       " 0.3395\n",
       "-0.0672\n",
       " 0.0000\n",
       " 0.0000\n",
       "[torch.DoubleTensor of size 6]\n",
       "\n",
       "-0.6471\n",
       " 0.0494\n",
       " 0.2271\n",
       "-0.0571\n",
       " 0.2143\n",
       " 0.0000\n",
       "[torch.DoubleTensor of size 6]\n",
       "\n",
       "-1.0000\n",
       " 0.0706\n",
       " 0.3395\n",
       "-0.0672\n",
       " 0.0000\n",
       " 0.0000\n",
       "[torch.DoubleTensor of size 6]\n",
       "\n",
       "-0.6471\n",
       " 0.0494\n",
       " 0.2471\n",
       " 0.0000\n",
       " 0.0000\n",
       " 0.0000\n",
       "[torch.DoubleTensor of size 6]\n",
       "\n",
       "-0.6471\n",
       " 0.0000\n",
       " 0.0000\n",
       " 0.0000\n",
       "-0.0134\n",
       "-0.0672\n",
       "[torch.DoubleTensor of size 6]\n",
       "\n",
       "-0.6605\n",
       "-0.0672\n",
       "-0.0091\n",
       "-0.0457\n",
       " 0.0000\n",
       " 0.0000\n",
       "[torch.DoubleTensor of size 6]\n",
       "\n",
       "-1\n",
       " 0\n",
       " 0\n",
       " 0\n",
       " 0\n",
       " 0\n",
       "[torch.DoubleTensor of size 6]\n",
       "\n",
       "-0.6605\n",
       "-0.0672\n",
       " 0.0000\n",
       " 0.0549\n",
       " 0.2743\n",
       " 0.0000\n",
       "[torch.DoubleTensor of size 6]\n",
       "\n",
       "-1\n",
       " 0\n",
       " 0\n",
       " 0\n",
       " 0\n",
       " 0\n",
       "[torch.DoubleTensor of size 6]\n",
       "\n",
       "-0.6471\n",
       " 0.0494\n",
       " 0.2471\n",
       " 0.0467\n",
       " 0.2333\n",
       " 0.0000\n",
       "[torch.DoubleTensor of size 6]\n",
       "\n",
       "-0.6471\n",
       " 0.0494\n",
       " 0.2471\n",
       " 0.0000\n",
       "-0.0200\n",
       "-0.1000\n",
       "[torch.DoubleTensor of size 6]\n",
       "\n",
       "-0.6471\n",
       " 0.0000\n",
       " 0.0000\n",
       " 0.0000\n",
       " 0.0000\n",
       " 0.0000\n",
       "[torch.DoubleTensor of size 6]\n",
       "\n",
       "-1\n",
       " 0\n",
       " 0\n",
       " 0\n",
       " 0\n",
       " 0\n",
       "[torch.DoubleTensor of size 6]\n",
       "\n",
       "-0.6605\n",
       "-0.0672\n",
       "-0.0091\n",
       "-0.0457\n",
       " 0.0000\n",
       " 0.0000\n",
       "[torch.DoubleTensor of size 6]\n",
       "\n",
       "-1\n",
       " 0\n",
       " 0\n",
       " 0\n",
       " 0\n",
       " 0\n",
       "[torch.DoubleTensor of size 6]\n",
       "\n",
       "-0.6471\n",
       " 0.0494\n",
       " 0.2471\n",
       " 0.0000\n",
       " 0.0000\n",
       " 0.0000\n",
       "[torch.DoubleTensor of size 6]\n",
       "\n",
       "-1\n",
       " 0\n",
       " 0\n",
       " 0\n",
       " 0\n",
       " 0\n",
       "[torch.DoubleTensor of size 6]\n",
       "\n",
       "-0.6471\n",
       " 0.0000\n",
       " 0.0000\n",
       " 0.0000\n",
       " 0.0000\n",
       " 0.0000\n",
       "[torch.DoubleTensor of size 6]\n",
       "\n",
       "-0.6471\n",
       " 0.0000\n",
       " 0.0000\n",
       " 0.0000\n",
       "-0.0134\n",
       "-0.0672\n",
       "[torch.DoubleTensor of size 6]\n",
       "\n",
       "-0.6471\n",
       " 0.0000\n",
       " 0.0000\n",
       " 0.0000\n",
       "-0.0134\n",
       "-0.0672\n",
       "[torch.DoubleTensor of size 6]\n",
       "\n",
       "-0.6471\n",
       " 0.0494\n",
       " 0.2471\n",
       " 0.0467\n",
       " 0.2333\n",
       " 0.0000\n",
       "[torch.DoubleTensor of size 6]\n",
       "\n",
       "-0.6471\n",
       " 0.0494\n",
       " 0.2471\n",
       " 0.0000\n",
       " 0.0000\n",
       " 0.0000\n",
       "[torch.DoubleTensor of size 6]\n",
       "\n",
       "-0.6605\n",
       "-0.0672\n",
       " 0.0000\n",
       " 0.0000\n",
       "-0.0091\n",
       "-0.0457\n",
       "[torch.DoubleTensor of size 6]\n",
       "\n",
       "-0.6605\n",
       "-0.0244\n",
       " 0.2143\n",
       " 0.0429\n",
       " 0.2143\n",
       " 0.0000\n",
       "[torch.DoubleTensor of size 6]\n",
       "\n",
       "-1\n",
       " 0\n",
       " 0\n",
       " 0\n",
       " 0\n",
       " 0\n",
       "[torch.DoubleTensor of size 6]\n",
       "\n",
       "-0.6471\n",
       " 0.0494\n",
       " 0.2471\n",
       " 0.0467\n",
       " 0.2333\n",
       " 0.0000\n",
       "[torch.DoubleTensor of size 6]\n",
       "\n",
       "-0.6471\n",
       " 0.0494\n",
       " 0.2471\n",
       " 0.0000\n",
       " 0.0000\n",
       " 0.0000\n",
       "[torch.DoubleTensor of size 6]\n",
       "\n",
       "-0.6605\n",
       "-0.0672\n",
       "-0.0091\n",
       "-0.0457\n",
       "-0.0066\n",
       "-0.0331\n",
       "[torch.DoubleTensor of size 6]\n",
       "\n",
       "-0.6471\n",
       " 0.0494\n",
       " 0.2471\n",
       " 0.0000\n",
       " 0.0000\n",
       " 0.0000\n",
       "[torch.DoubleTensor of size 6]\n",
       "\n",
       "-0.6605\n",
       "-0.0672\n",
       "-0.0091\n",
       "-0.0457\n",
       " 0.0000\n",
       " 0.0000\n",
       "[torch.DoubleTensor of size 6]\n",
       "\n",
       "-0.6471\n",
       " 0.0494\n",
       " 0.2471\n",
       " 0.0467\n",
       " 0.2333\n",
       " 0.0000\n",
       "[torch.DoubleTensor of size 6]\n",
       "\n",
       "-0.6471\n",
       " 0.0494\n",
       " 0.2471\n",
       " 0.0000\n",
       "-0.0200\n",
       "-0.1000\n",
       "[torch.DoubleTensor of size 6]\n",
       "\n",
       "-0.6471\n",
       " 0.0000\n",
       " 0.0000\n",
       " 0.0627\n",
       " 0.2924\n",
       "-0.1067\n",
       "[torch.DoubleTensor of size 6]\n",
       "\n",
       "-0.6471\n",
       " 0.0494\n",
       " 0.2471\n",
       " 0.0000\n",
       " 0.0000\n",
       " 0.0000\n",
       "[torch.DoubleTensor of size 6]\n",
       "\n",
       "-0.6605\n",
       "-0.0672\n",
       " 0.0000\n",
       " 0.0000\n",
       "-0.0091\n",
       "-0.0457\n",
       "[torch.DoubleTensor of size 6]\n",
       "\n",
       "-0.6471\n",
       " 0.0494\n",
       " 0.2471\n",
       " 0.0000\n",
       " 0.0000\n",
       " 0.0000\n",
       "[torch.DoubleTensor of size 6]\n",
       "\n",
       "-0.6471\n",
       " 0.0494\n",
       " 0.2471\n",
       " 0.0000\n",
       " 0.0000\n",
       " 0.0000\n",
       "[torch.DoubleTensor of size 6]\n",
       "\n",
       "-0.6471\n",
       " 0.0000\n",
       " 0.0000\n",
       " 0.0000\n",
       " 0.0000\n",
       " 0.0000\n",
       "[torch.DoubleTensor of size 6]\n",
       "\n",
       "-0.6471\n",
       " 0.0494\n",
       " 0.2471\n",
       " 0.0000\n",
       " 0.0000\n",
       " 0.0000\n",
       "[torch.DoubleTensor of size 6]\n",
       "\n",
       "-0.6471\n",
       " 0.0494\n",
       " 0.2471\n",
       " 0.0000\n",
       " 0.0000\n",
       " 0.0000\n",
       "[torch.DoubleTensor of size 6]\n",
       "\n",
       "-0.6471\n",
       " 0.0494\n",
       " 0.2271\n",
       "-0.1000\n",
       " 0.0000\n",
       " 0.0000\n",
       "[torch.DoubleTensor of size 6]\n",
       "\n",
       "-0.6471\n",
       " 0.0494\n",
       " 0.2471\n",
       " 0.0000\n",
       "-0.0200\n",
       "-0.1000\n",
       "[torch.DoubleTensor of size 6]\n",
       "\n",
       "-0.6471\n",
       " 0.0494\n",
       " 0.2471\n",
       " 0.0000\n",
       " 0.0000\n",
       " 0.0000\n",
       "[torch.DoubleTensor of size 6]\n",
       "\n",
       "-1\n",
       " 0\n",
       " 0\n",
       " 0\n",
       " 0\n",
       " 0\n",
       "[torch.DoubleTensor of size 6]\n",
       "\n",
       "-0.6471\n",
       " 0.0000\n",
       " 0.0000\n",
       " 0.0000\n",
       " 0.0000\n",
       " 0.0000\n",
       "[torch.DoubleTensor of size 6]\n",
       "\n",
       "-0.6471\n",
       " 0.0494\n",
       " 0.2471\n",
       " 0.0000\n",
       " 0.0000\n",
       " 0.0000\n",
       "[torch.DoubleTensor of size 6]\n",
       "\n",
       "-1\n",
       " 0\n",
       " 0\n",
       " 0\n",
       " 0\n",
       " 0\n",
       "[torch.DoubleTensor of size 6]\n",
       "\n",
       "-0.6471\n",
       " 0.0494\n",
       " 0.2471\n",
       " 0.0000\n",
       " 0.0000\n",
       " 0.0000\n",
       "[torch.DoubleTensor of size 6]\n",
       "\n",
       "-0.6471\n",
       " 0.0494\n",
       " 0.2471\n",
       " 0.0000\n",
       " 0.0000\n",
       " 0.0000\n",
       "[torch.DoubleTensor of size 6]\n",
       "\n",
       "-0.6605\n",
       "-0.0244\n",
       " 0.2143\n",
       " 0.0000\n",
       " 0.0000\n",
       " 0.0000\n",
       "[torch.DoubleTensor of size 6]\n",
       "\n",
       "-0.6471\n",
       " 0.0494\n",
       " 0.2471\n",
       " 0.0000\n",
       " 0.0000\n",
       " 0.0000\n",
       "[torch.DoubleTensor of size 6]\n",
       "\n",
       "-0.6471\n",
       " 0.0494\n",
       " 0.2471\n",
       " 0.0000\n",
       " 0.0000\n",
       " 0.0000\n",
       "[torch.DoubleTensor of size 6]\n",
       "\n",
       "-1.0000\n",
       " 0.0000\n",
       " 0.0000\n",
       " 0.0000\n",
       " 0.0000\n",
       " 0.0000\n",
       "[torch.DoubleTensor of size "
      ]
     },
     "execution_count": 61,
     "metadata": {},
     "output_type": "execute_result"
    },
    {
     "data": {
      "text/plain": [
       "6]\n",
       "\n",
       "-0.6471\n",
       " 0.0494\n",
       " 0.2471\n",
       " 0.0000\n",
       " 0.0000\n",
       " 0.0000\n",
       "[torch.DoubleTensor of size 6]\n",
       "\n",
       "-0.6471\n",
       " 0.0494\n",
       " 0.2471\n",
       " 0.0000\n",
       " 0.0000\n",
       " 0.0000\n",
       "[torch.DoubleTensor of size 6]\n",
       "\n",
       "-0.6471\n",
       " 0.0000\n",
       " 0.0000\n",
       " 0.0000\n",
       " 0.0000\n",
       " 0.0000\n",
       "[torch.DoubleTensor of size 6]\n",
       "\n",
       "-0.6471\n",
       " 0.0494\n",
       " 0.2471\n",
       " 0.0467\n",
       " 0.2333\n",
       " 0.0000\n",
       "[torch.DoubleTensor of size 6]\n",
       "\n",
       "-0.6471\n",
       " 0.0494\n",
       " 0.2471\n",
       " 0.0000\n",
       " 0.0000\n",
       " 0.0000\n",
       "[torch.DoubleTensor of size 6]\n",
       "\n",
       "-0.6605\n",
       "-0.0672\n",
       " 0.0000\n",
       " 0.0000\n",
       " 0.0000\n",
       " 0.0000\n",
       "[torch.DoubleTensor of size 6]\n",
       "\n",
       "-0.6471\n",
       " 0.0494\n",
       " 0.2471\n",
       " 0.0000\n",
       " 0.0000\n",
       " 0.0000\n",
       "[torch.DoubleTensor of size 6]\n",
       "\n",
       "-0.6471\n",
       " 0.0494\n",
       " 0.2271\n",
       "-0.1000\n",
       " 0.0000\n",
       " 0.0000\n",
       "[torch.DoubleTensor of size 6]\n",
       "\n",
       "-0.6471\n",
       " 0.0494\n",
       " 0.2271\n",
       "-0.1000\n",
       " 0.0000\n",
       " 0.0000\n",
       "[torch.DoubleTensor of size 6]\n",
       "\n",
       "-0.6471\n",
       " 0.0494\n",
       " 0.2471\n",
       " 0.0000\n",
       " 0.0000\n",
       " 0.0000\n",
       "[torch.DoubleTensor of size 6]\n",
       "\n",
       "-0.6471\n",
       " 0.0494\n",
       " 0.2471\n",
       " 0.0000\n",
       " 0.0000\n",
       " 0.0000\n",
       "[torch.DoubleTensor of size 6]\n",
       "\n",
       "-0.6471\n",
       " 0.0494\n",
       " 0.2471\n",
       " 0.0000\n",
       " 0.0000\n",
       " 0.0000\n",
       "[torch.DoubleTensor of size 6]\n",
       "\n",
       "-0.6471\n",
       " 0.0494\n",
       " 0.2471\n",
       " 0.0000\n",
       " 0.0000\n",
       " 0.0000\n",
       "[torch.DoubleTensor of size 6]\n",
       "\n",
       "-0.6471\n",
       " 0.0494\n",
       " 0.2471\n",
       " 0.0000\n",
       " 0.0000\n",
       " 0.0000\n",
       "[torch.DoubleTensor of size 6]\n",
       "\n",
       "-1\n",
       " 0\n",
       " 0\n",
       " 0\n",
       " 0\n",
       " 0\n",
       "[torch.DoubleTensor of size 6]\n",
       "\n",
       "-0.6471\n",
       " 0.0494\n",
       " 0.2471\n",
       " 0.0000\n",
       " 0.0000\n",
       " 0.0000\n",
       "[torch.DoubleTensor of size 6]\n",
       "\n",
       "-0.6471\n",
       " 0.0494\n",
       " 0.2471\n",
       " 0.0000\n",
       " 0.0000\n",
       " 0.0000\n",
       "[torch.DoubleTensor of size 6]\n",
       "\n",
       "-0.6471\n",
       " 0.0494\n",
       " 0.2471\n",
       " 0.0467\n",
       " 0.2333\n",
       " 0.0000\n",
       "[torch.DoubleTensor of size 6]\n",
       "\n",
       "-0.6471\n",
       " 0.0494\n",
       " 0.2471\n",
       " 0.0000\n",
       " 0.0000\n",
       " 0.0000\n",
       "[torch.DoubleTensor of size 6]\n",
       "\n",
       "-0.6471\n",
       " 0.0494\n",
       " 0.2471\n",
       " 0.0000\n",
       " 0.0000\n",
       " 0.0000\n",
       "[torch.DoubleTensor of size 6]\n",
       "\n",
       "-0.6471\n",
       " 0.0494\n",
       " 0.2471\n",
       " 0.0000\n",
       " 0.0000\n",
       " 0.0000\n",
       "[torch.DoubleTensor of size 6]\n",
       "\n",
       "-0.6471\n",
       " 0.0494\n",
       " 0.2471\n",
       " 0.0000\n",
       " 0.0000\n",
       " 0.0000\n",
       "[torch.DoubleTensor of size 6]\n",
       "\n",
       "-0.6471\n",
       " 0.0494\n",
       " 0.2471\n",
       " 0.0467\n",
       " 0.2333\n",
       " 0.0000\n",
       "[torch.DoubleTensor of size 6]\n",
       "\n",
       "-0.6471\n",
       " 0.0494\n",
       " 0.2471\n",
       " 0.0000\n",
       " 0.0000\n",
       " 0.0000\n",
       "[torch.DoubleTensor of size 6]\n",
       "\n",
       "-0.6471\n",
       " 0.0494\n",
       " 0.2471\n",
       " 0.0000\n",
       " 0.0000\n",
       " 0.0000\n",
       "[torch.DoubleTensor of size 6]\n",
       "\n",
       "-0.6471\n",
       " 0.0494\n",
       " 0.2471\n",
       " 0.0000\n",
       " 0.0000\n",
       " 0.0000\n",
       "[torch.DoubleTensor of size 6]\n",
       "\n",
       "-0.6471\n",
       " 0.0494\n",
       " 0.2471\n",
       " 0.0000\n",
       " 0.0000\n",
       " 0.0000\n",
       "[torch.DoubleTensor of size 6]\n",
       "\n",
       "-0.6471\n",
       " 0.0494\n",
       " 0.2471\n",
       " 0.0000\n",
       " 0.0000\n",
       " 0.0000\n",
       "[torch.DoubleTensor of size 6]\n",
       "\n",
       "-0.6471\n",
       " 0.0494\n",
       " 0.2471\n",
       " 0.0000\n",
       " 0.0000\n",
       " 0.0000\n",
       "[torch.DoubleTensor of size 6]\n",
       "\n",
       "-0.6471\n",
       " 0.0494\n",
       " 0.2471\n",
       " 0.0000\n",
       " 0.0000\n",
       " 0.0000\n",
       "[torch.DoubleTensor of size 6]\n",
       "\n",
       "-0.6471\n",
       " 0.0494\n",
       " 0.2471\n",
       " 0.0000\n",
       " 0.0000\n",
       " 0.0000\n",
       "[torch.DoubleTensor of size 6]\n",
       "\n",
       "-0.6471\n",
       " 0.0494\n",
       " 0.2471\n",
       " 0.0000\n",
       " 0.0000\n",
       " 0.0000\n",
       "[torch.DoubleTensor of size 6]\n",
       "\n",
       "-0.6471\n",
       " 0.0494\n",
       " 0.2471\n",
       " 0.0000\n",
       " 0.0000\n",
       " 0.0000\n",
       "[torch.DoubleTensor of size 6]\n",
       "\n",
       "-0.6471\n",
       " 0.0494\n",
       " 0.2471\n",
       " 0.0000\n",
       " 0.0000\n",
       " 0.0000\n",
       "[torch.DoubleTensor of size 6]\n",
       "\n",
       "-0.6471\n",
       " 0.0494\n",
       " 0.2471\n",
       " 0.0000\n",
       " 0.0000\n",
       " 0.0000\n",
       "[torch.DoubleTensor of size 6]\n",
       "\n",
       "-0.6471\n",
       " 0.0494\n",
       " 0.2471\n",
       " 0.0000\n",
       " 0.0000\n",
       " 0.0000\n",
       "[torch.DoubleTensor of size 6]\n",
       "\n",
       "-0.6471\n",
       " 0.0494\n",
       " 0.2471\n",
       " 0.0000\n",
       " 0.0000\n",
       " 0.0000\n",
       "[torch.DoubleTensor of size 6]\n",
       "\n",
       "-0.6471\n",
       " 0.0494\n",
       " 0.2471\n",
       " 0.0000\n",
       " 0.0000\n",
       " 0.0000\n",
       "[torch.DoubleTensor of size 6]\n",
       "\n",
       "-0.6471\n",
       " 0.0494\n",
       " 0.2471\n",
       " 0.0000\n",
       " 0.0000\n",
       " 0.0000\n",
       "[torch.DoubleTensor of size 6]\n",
       "\n",
       "-0.6471\n",
       " 0.0494\n",
       " 0.2471\n",
       " 0.0000\n",
       " 0.0000\n",
       " 0.0000\n",
       "[torch.DoubleTensor of size 6]\n",
       "\n",
       "-0.6471\n",
       " 0.0494\n",
       " 0.2471\n",
       " 0.0000\n",
       " 0.0000\n",
       " 0.0000\n",
       "[torch.DoubleTensor of size 6]\n",
       "\n",
       "-0.6471\n",
       " 0.0494\n",
       " 0.2471\n",
       " 0.0000\n",
       " 0.0000\n",
       " 0.0000\n",
       "[torch.DoubleTensor of size 6]\n",
       "\n",
       "-0.6471\n",
       " 0.0494\n",
       " 0.2471\n",
       " 0.0000\n",
       " 0.0000\n",
       " 0.0000\n",
       "[torch.DoubleTensor of size 6]\n",
       "\n",
       "-0.6471\n",
       " 0.0494\n",
       " 0.2471\n",
       " 0.0000\n",
       " 0.0000\n",
       " 0.0000\n",
       "[torch.DoubleTensor of size 6]\n",
       "\n",
       "-0.6471\n",
       " 0.0494\n",
       " 0.2471\n",
       " 0.0000\n",
       " 0.0000\n",
       " 0.0000\n",
       "[torch.DoubleTensor of size 6]\n",
       "\n",
       "-0.6471\n",
       " 0.0494\n",
       " 0.2471\n",
       " 0.0000\n",
       " 0.0000\n",
       " 0.0000\n",
       "[torch.DoubleTensor of size 6]\n",
       "\n",
       "-0.6471\n",
       " 0.0494\n",
       " 0.2471\n",
       " 0.0000\n",
       " 0.0000\n",
       " 0.0000\n",
       "[torch.DoubleTensor of size 6]\n",
       "\n",
       "-0.6471\n",
       " 0.0494\n",
       " 0.2471\n",
       " 0.0000\n",
       " 0.0000\n",
       "-0.0040\n",
       "[torch.DoubleTensor of size 6]\n",
       "\n",
       "-0.6471\n",
       " 0.0494\n",
       " 0.2471\n",
       " 0.0000\n",
       " 0.0000\n",
       " 0.0000\n",
       "[torch.DoubleTensor of size 6]\n",
       "\n",
       "-0.6471\n",
       " 0.0494\n",
       " 0.2471\n",
       " 0.0000\n",
       " 0.0000\n",
       " 0.0000\n",
       "[torch.DoubleTensor of size 6]\n",
       "\n",
       "-0.6471\n",
       " 0.0494\n",
       " 0.2471\n",
       " 0.0000\n",
       " 0.0000\n",
       " 0.0000\n",
       "[torch.DoubleTensor of size 6]\n",
       "\n",
       "-0.6471\n",
       " 0.0000\n",
       " 0.0000\n",
       " 0.0000\n",
       " 0.0000\n",
       " 0"
      ]
     },
     "execution_count": 61,
     "metadata": {},
     "output_type": "execute_result"
    },
    {
     "data": {
      "text/plain": [
       ".0000\n",
       "[torch.DoubleTensor of size 6]\n",
       "\n",
       "-0.6605\n",
       "-0.0672\n",
       " 0.0000\n",
       " 0.0000\n",
       " 0.0000\n",
       " 0.0000\n",
       "[torch.DoubleTensor of size 6]\n",
       "\n",
       "-1.0000\n",
       " 0.0000\n",
       " 0.0000\n",
       " 0.0000\n",
       " 0.0000\n",
       " 0.0000\n",
       "[torch.DoubleTensor of size 6]\n",
       "\n",
       " -6.4706e-01\n",
       "  4.9412e-02\n",
       "  2.4706e-01\n",
       "  4.6667e-02\n",
       "  2.3333e-01\n",
       " 3.4585e-323\n",
       "[torch.DoubleTensor of size 6]\n",
       "\n",
       "-0.6471\n",
       " 0.0494\n",
       " 0.2471\n",
       " 0.0000\n",
       " 0.0000\n",
       " 0.0000\n",
       "[torch.DoubleTensor of size 6]\n",
       "\n",
       "-0.6471\n",
       " 0.0494\n",
       " 0.2271\n",
       "-0.0571\n",
       " 0.2143\n",
       " 0.0000\n",
       "[torch.DoubleTensor of size 6]\n",
       "\n",
       "-0.6471\n",
       " 0.0494\n",
       " 0.2471\n",
       " 0.0000\n",
       " 0.0000\n",
       " 0.0000\n",
       "[torch.DoubleTensor of size 6]\n",
       "\n",
       "-0.6605\n",
       "-0.0672\n",
       " 0.0000\n",
       " 0.0000\n",
       " 0.0000\n",
       " 0.0000\n",
       "[torch.DoubleTensor of size 6]\n",
       "\n",
       "-0.6471\n",
       " 0.0494\n",
       " 0.2471\n",
       " 0.0000\n",
       " 0.0000\n",
       " 0.0000\n",
       "[torch.DoubleTensor of size 6]\n",
       "\n",
       "-0.6471\n",
       " 0.0494\n",
       " 0.2471\n",
       " 0.0000\n",
       " 0.0000\n",
       " 0.0000\n",
       "[torch.DoubleTensor of size 6]\n",
       "\n",
       "-0.6605\n",
       "-0.0672\n",
       " 0.0000\n",
       " 0.0000\n",
       " 0.0000\n",
       " 0.0000\n",
       "[torch.DoubleTensor of size 6]\n",
       "\n",
       "-0.6471\n",
       " 0.0494\n",
       " 0.2271\n",
       "-0.1000\n",
       " 0.0000\n",
       " 0.0000\n",
       "[torch.DoubleTensor of size 6]\n",
       "\n",
       "-0.6471\n",
       " 0.0494\n",
       " 0.2471\n",
       " 0.0000\n",
       " 0.0000\n",
       " 0.0000\n",
       "[torch.DoubleTensor of size 6]\n",
       "\n",
       "-0.6471\n",
       " 0.0494\n",
       " 0.2471\n",
       " 0.0000\n",
       " 0.0000\n",
       " 0.0000\n",
       "[torch.DoubleTensor of size 6]\n",
       "\n",
       "-0.6471\n",
       " 0.0494\n",
       " 0.2471\n",
       " 0.0000\n",
       " 0.0000\n",
       " 0.0000\n",
       "[torch.DoubleTensor of size 6]\n",
       "\n",
       "-0.6471\n",
       " 0.0494\n",
       " 0.2471\n",
       " 0.0000\n",
       "-0.0200\n",
       "-0.1000\n",
       "[torch.DoubleTensor of size 6]\n",
       "\n",
       "-0.6471\n",
       " 0.0494\n",
       " 0.2471\n",
       " 0.0000\n",
       " 0.0000\n",
       " 0.0000\n",
       "[torch.DoubleTensor of size 6]\n",
       "\n",
       "-1\n",
       " 0\n",
       " 0\n",
       " 0\n",
       " 0\n",
       " 0\n",
       "[torch.DoubleTensor of size 6]\n",
       "\n",
       "-0.6471\n",
       " 0.0494\n",
       " 0.2471\n",
       " 0.0000\n",
       " 0.0000\n",
       " 0.0000\n",
       "[torch.DoubleTensor of size 6]\n",
       "\n",
       "-0.6471\n",
       " 0.0494\n",
       " 0.2471\n",
       " 0.0000\n",
       " 0.0000\n",
       " 0.0000\n",
       "[torch.DoubleTensor of size 6]\n",
       "\n",
       "-0.6471\n",
       " 0.0494\n",
       " 0.2471\n",
       " 0.0000\n",
       " 0.0000\n",
       " 0.0000\n",
       "[torch.DoubleTensor of size 6]\n",
       "\n",
       "-0.6471\n",
       " 0.0494\n",
       " 0.2471\n",
       " 0.0000\n",
       " 0.0000\n",
       " 0.0000\n",
       "[torch.DoubleTensor of size 6]\n",
       "\n",
       "-0.6471\n",
       " 0.0494\n",
       " 0.2471\n",
       " 0.0000\n",
       " 0.0000\n",
       " 0.0000\n",
       "[torch.DoubleTensor of size 6]\n",
       "\n",
       "-0.6471\n",
       " 0.0494\n",
       " 0.2471\n",
       " 0.0000\n",
       " 0.0000\n",
       " 0.0000\n",
       "[torch.DoubleTensor of size 6]\n",
       "\n",
       " -6.4706e-01\n",
       "  4.9412e-02\n",
       "  2.4706e-01\n",
       "  0.0000e+00\n",
       "  0.0000e+00\n",
       " 5.3736e+153\n",
       "[torch.DoubleTensor of size 6]\n",
       "\n",
       "-0.6471\n",
       " 0.0494\n",
       " 0.2471\n",
       " 0.0467\n",
       " 0.2333\n",
       " 0.0000\n",
       "[torch.DoubleTensor of size 6]\n",
       "\n",
       "-0.6471\n",
       " 0.0494\n",
       " 0.2471\n",
       " 0.0000\n",
       " 0.0000\n",
       " 0.0000\n",
       "[torch.DoubleTensor of size 6]\n",
       "\n",
       "-0.6471\n",
       " 0.0494\n",
       " 0.2471\n",
       " 0.0000\n",
       " 0.0000\n",
       "-0.0000\n",
       "[torch.DoubleTensor of size 6]\n",
       "\n",
       "-0.6471\n",
       " 0.0494\n",
       " 0.2471\n",
       " 0.0000\n",
       " 0.0000\n",
       " 0.0000\n",
       "[torch.DoubleTensor of size 6]\n",
       "\n",
       "-0.6471\n",
       " 0.0494\n",
       " 0.2471\n",
       " 0.0000\n",
       " 0.0000\n",
       " 0.0000\n",
       "[torch.DoubleTensor of size 6]\n",
       "\n",
       "-0.6471\n",
       " 0.0494\n",
       " 0.2471\n",
       " 0.0000\n",
       " 0.0000\n",
       " 0.0000\n",
       "[torch.DoubleTensor of size 6]\n",
       "\n",
       "-0.6471\n",
       " 0.0494\n",
       " 0.2471\n",
       " 0.0000\n",
       " 0.0000\n",
       " 0.0000\n",
       "[torch.DoubleTensor of size 6]\n",
       "\n",
       "-0.6471\n",
       " 0.0494\n",
       " 0.2471\n",
       " 0.0000\n",
       " 0.0000\n",
       " 0.0000\n",
       "[torch.DoubleTensor of size 6]\n",
       "\n",
       "-0.6471\n",
       " 0.0494\n",
       " 0.2471\n",
       " 0.0000\n",
       " 0.0000\n",
       " 0.0000\n",
       "[torch.DoubleTensor of size 6]\n",
       "\n",
       "-0.6471\n",
       " 0.0494\n",
       " 0.2471\n",
       " 0.0000\n",
       " 0.0000\n",
       " 0.0000\n",
       "[torch.DoubleTensor of size 6]\n",
       "\n",
       "-0.6471\n",
       " 0.0494\n",
       " 0.2471\n",
       " 0.0000\n",
       " 0.0000\n",
       " 0.0000\n",
       "[torch.DoubleTensor of size 6]\n",
       "\n",
       "-0.6471\n",
       " 0.0494\n",
       " 0.2471\n",
       " 0.0000\n",
       " 0.0000\n",
       " 0.0000\n",
       "[torch.DoubleTensor of size 6]\n",
       "\n",
       " -6.4706e-01\n",
       "  4.9412e-02\n",
       "  2.2706e-01\n",
       " -5.7143e-02\n",
       "  2.1429e-01\n",
       " 5.4347e-323\n",
       "[torch.DoubleTensor of size 6]\n",
       "\n",
       "-0.6471\n",
       " 0.0494\n",
       " 0.2471\n",
       " 0.0000\n",
       " 0.0000\n",
       " 0.0000\n",
       "[torch.DoubleTensor of size 6]\n",
       "\n",
       "-0.6471\n",
       " 0.0494\n",
       " 0.2471\n",
       " 0.0000\n",
       " 0.0000\n",
       " 0.0000\n",
       "[torch.DoubleTensor of size 6]\n",
       "\n",
       "-0.6471\n",
       " 0.0000\n",
       "-0.0134\n",
       "-0.0672\n",
       " 0.0000\n",
       " 0.0000\n",
       "[torch.DoubleTensor of size 6]\n",
       "\n",
       "-0.6471\n",
       " 0.0494\n",
       " 0.2471\n",
       " 0.0000\n",
       " 0.0000\n",
       " 0.0000\n",
       "[torch.DoubleTensor of size 6]\n",
       "\n",
       "-0.6471\n",
       " 0.0494\n",
       " 0.2471\n",
       " 0.0467\n",
       " 0.2095\n",
       "-0.1190\n",
       "[torch.DoubleTensor of size 6]\n",
       "\n",
       "-0.6471\n",
       " 0.0494\n",
       " 0.2471\n",
       " 0.0000\n",
       " 0.0000\n",
       " 0.0000\n",
       "[torch.DoubleTensor of size 6]\n",
       "\n",
       "-0.6471\n",
       " 0.0494\n",
       " 0.2471\n",
       " 0.0000\n",
       " 0.0000\n",
       " 0.0000\n",
       "[torch.DoubleTensor of size 6]\n",
       "\n",
       "-0.6605\n",
       "-0.0672\n",
       " 0.0000\n",
       " 0.0000\n",
       " 0.0000\n",
       " 0.0000\n",
       "[torch.DoubleTensor of size 6]\n",
       "\n",
       "-0.6471\n",
       " 0.0494\n",
       " 0.2471\n",
       " 0.0000\n",
       " 0.0000\n",
       " 0.0000\n",
       "[torch.DoubleTensor of size 6]\n",
       "\n",
       "-0.6471\n",
       " 0.0494\n",
       " 0.2471\n",
       " 0.0000\n",
       " 0.0000\n",
       " 0.0000\n",
       "[torch.DoubleTensor of size 6]\n",
       "\n",
       "-0.6605\n",
       "-0.0672\n",
       " 0.0000\n",
       " 0.0000\n",
       " 0.0000\n",
       " 0.0000\n",
       "[torch.DoubleTensor of size 6]\n",
       "\n",
       "-0.6471\n",
       " 0.0494\n",
       " 0.2471\n",
       " 0.0000\n",
       " 0.0000\n",
       " 0.0000\n",
       "[torch.DoubleTensor of size 6]\n",
       "\n",
       "-0.6471\n",
       " 0.0494\n",
       " 0.2471\n",
       " 0.0000\n",
       " 0.0000\n",
       " 0.0000\n",
       "[torch.DoubleTensor of size 6]"
      ]
     },
     "execution_count": 61,
     "metadata": {},
     "output_type": "execute_result"
    },
    {
     "data": {
      "text/plain": [
       "\n",
       "\n",
       "-0.6471\n",
       " 0.0494\n",
       " 0.2471\n",
       " 0.0000\n",
       " 0.0000\n",
       " 0.0000\n",
       "[torch.DoubleTensor of size 6]\n",
       "\n",
       "-0.6471\n",
       " 0.0494\n",
       " 0.2471\n",
       " 0.0000\n",
       " 0.0000\n",
       " 0.0000\n",
       "[torch.DoubleTensor of size 6]\n",
       "\n",
       "-0.6471\n",
       " 0.0494\n",
       " 0.2471\n",
       " 0.0467\n",
       " 0.2333\n",
       " 0.0000\n",
       "[torch.DoubleTensor of size 6]\n",
       "\n",
       "-0.6471\n",
       " 0.0494\n",
       " 0.2471\n",
       " 0.0467\n",
       " 0.2333\n",
       " 0.0000\n",
       "[torch.DoubleTensor of size 6]\n",
       "\n",
       "-0.6605\n",
       "-0.0672\n",
       " 0.0000\n",
       " 0.0000\n",
       " 0.0000\n",
       " 0.0000\n",
       "[torch.DoubleTensor of size 6]\n",
       "\n",
       "-0.6471\n",
       " 0.0494\n",
       " 0.2471\n",
       " 0.0000\n",
       " 0.0000\n",
       " 0.0000\n",
       "[torch.DoubleTensor of size 6]\n",
       "\n",
       "-0.6471\n",
       " 0.0494\n",
       " 0.2471\n",
       " 0.0000\n",
       " 0.0000\n",
       " 0.0000\n",
       "[torch.DoubleTensor of size 6]\n",
       "\n",
       "-0.6471\n",
       " 0.0494\n",
       " 0.2471\n",
       " 0.0000\n",
       " 0.0000\n",
       " 0.0000\n",
       "[torch.DoubleTensor of size 6]\n",
       "\n",
       "-0.6605\n",
       "-0.0672\n",
       " 0.0000\n",
       " 0.0000\n",
       " 0.0000\n",
       " 0.0000\n",
       "[torch.DoubleTensor of size 6]\n",
       "\n",
       " -6.4706e-01\n",
       "  4.9412e-02\n",
       "  2.4706e-01\n",
       "  4.6667e-02\n",
       "  2.3333e-01\n",
       " 2.9708e-314\n",
       "[torch.DoubleTensor of size 6]\n",
       "\n",
       "-0.6471\n",
       " 0.0494\n",
       " 0.2471\n",
       " 0.0000\n",
       " 0.0000\n",
       " 0.0000\n",
       "[torch.DoubleTensor of size 6]\n",
       "\n",
       "-0.6471\n",
       " 0.0494\n",
       " 0.2471\n",
       " 0.0000\n",
       " 0.0000\n",
       " 0.0000\n",
       "[torch.DoubleTensor of size 6]\n",
       "\n",
       "-0.6605\n",
       "-0.0672\n",
       " 0.0000\n",
       " 0.0000\n",
       " 0.0000\n",
       " 0.0000\n",
       "[torch.DoubleTensor of size 6]\n",
       "\n",
       "-0.6471\n",
       " 0.0494\n",
       " 0.2471\n",
       " 0.0000\n",
       " 0.0000\n",
       " 0.0000\n",
       "[torch.DoubleTensor of size 6]\n",
       "\n",
       "-0.6471\n",
       " 0.0494\n",
       " 0.2471\n",
       " 0.0000\n",
       " 0.0000\n",
       " 0.0000\n",
       "[torch.DoubleTensor of size 6]\n",
       "\n",
       "-0.6471\n",
       " 0.0494\n",
       " 0.2471\n",
       " 0.0000\n",
       " 0.0000\n",
       " 0.0000\n",
       "[torch.DoubleTensor of size 6]\n",
       "\n",
       "-0.6471\n",
       " 0.0494\n",
       " 0.2471\n",
       " 0.0000\n",
       " 0.0000\n",
       " 0.0000\n",
       "[torch.DoubleTensor of size 6]\n",
       "\n",
       "-0.6471\n",
       " 0.0494\n",
       " 0.2471\n",
       " 0.0000\n",
       " 0.0000\n",
       " 0.0000\n",
       "[torch.DoubleTensor of size 6]\n",
       "\n",
       "-0.6471\n",
       " 0.0494\n",
       " 0.2471\n",
       " 0.0000\n",
       " 0.0000\n",
       " 0.0000\n",
       "[torch.DoubleTensor of size 6]\n",
       "\n",
       "-0.6471\n",
       " 0.0494\n",
       " 0.2471\n",
       " 0.0000\n",
       " 0.0000\n",
       " 0.0000\n",
       "[torch.DoubleTensor of size 6]\n",
       "\n",
       "-0.6471\n",
       " 0.0494\n",
       " 0.2471\n",
       " 0.0000\n",
       " 0.0000\n",
       " 0.0000\n",
       "[torch.DoubleTensor of size 6]\n",
       "\n",
       "-0.6471\n",
       " 0.0494\n",
       " 0.2471\n",
       " 0.0000\n",
       " 0.0000\n",
       " 0.0000\n",
       "[torch.DoubleTensor of size 6]\n",
       "\n",
       "-0.6471\n",
       " 0.0494\n",
       " 0.2271\n",
       "-0.1000\n",
       " 0.0000\n",
       " 0.0000\n",
       "[torch.DoubleTensor of size 6]\n",
       "\n",
       "-0.6471\n",
       " 0.0494\n",
       " 0.2471\n",
       " 0.0000\n",
       " 0.0000\n",
       " 0.0000\n",
       "[torch.DoubleTensor of size 6]\n",
       "\n",
       "-0.6471\n",
       " 0.0494\n",
       " 0.2471\n",
       " 0.0000\n",
       " 0.0000\n",
       " 0.0000\n",
       "[torch.DoubleTensor of size 6]\n",
       "\n",
       "-0.6471\n",
       " 0.0494\n",
       " 0.2471\n",
       " 0.0000\n",
       " 0.0000\n",
       " 0.0000\n",
       "[torch.DoubleTensor of size 6]\n",
       "\n",
       "-0.6471\n",
       " 0.0494\n",
       " 0.2471\n",
       " 0.0000\n",
       " 0.0000\n",
       " 0.0000\n",
       "[torch.DoubleTensor of size 6]\n",
       "\n",
       "-0.6471\n",
       " 0.0494\n",
       " 0.2471\n",
       " 0.0000\n",
       " 0.0000\n",
       " 0.0000\n",
       "[torch.DoubleTensor of size 6]\n",
       "\n",
       "-0.6471\n",
       " 0.0494\n",
       " 0.2471\n",
       " 0.0000\n",
       " 0.0000\n",
       " 0.0000\n",
       "[torch.DoubleTensor of size 6]\n",
       "\n",
       "-0.6471\n",
       " 0.0000\n",
       " 0.0000\n",
       " 0.0627\n",
       " 0.3137\n",
       " 0.0000\n",
       "[torch.DoubleTensor of size 6]\n",
       "\n",
       "-0.647059\n",
       "0.049412\n",
       "0.247059\n",
       "0.046667\n",
       "0.233333\n",
       "nan\n",
       "[torch.DoubleTensor of size 6]\n",
       "\n",
       "-0.6605\n",
       "-0.0244\n",
       " 0.2000\n",
       "-0.0321\n",
       " 0.1825\n",
       "-0.0694\n",
       "[torch.DoubleTensor of size 6]\n",
       "\n",
       "-0.6605\n",
       "-0.0244\n",
       " 0.2000\n",
       "-0.0321\n",
       " 0.1825\n",
       "-0.0694\n",
       "[torch.DoubleTensor of size 6]\n",
       "\n",
       "-0.6605\n",
       "-0.0244\n",
       " 0.2000\n",
       "-0.0321\n",
       " 0.1825\n",
       "-0.0694\n",
       "[torch.DoubleTensor of size 6]\n",
       "\n",
       " -6.6050e-01\n",
       " -2.4370e-02\n",
       "  2.0000e-01\n",
       " -3.2143e-02\n",
       "  1.8254e-01\n",
       "-6.2222e+230\n",
       "[torch.DoubleTensor of size 6]\n",
       "\n",
       "-0.6605\n",
       "-0.0244\n",
       " 0.2000\n",
       "-0.0321\n",
       " 0.1825\n",
       "-0.0694\n",
       "[torch.DoubleTensor of size 6]\n",
       "\n",
       "-0.6605\n",
       "-0.0244\n",
       " 0.2000\n",
       "-0.0321\n",
       " 0.1825\n",
       "-0.0694\n",
       "[torch.DoubleTensor of size 6]\n",
       "\n",
       "-0.6605\n",
       "-0.0244\n",
       " 0.2000\n",
       "-0.0321\n",
       " 0.1825\n",
       "-0.0694\n",
       "[torch.DoubleTensor of size 6]\n",
       "\n",
       "-0.6605\n",
       "-0.0244\n",
       " 0.2000\n",
       "-0.0321\n",
       " 0.1825\n",
       "-0.0694\n",
       "[torch.DoubleTensor of size 6]\n",
       "\n",
       "-0.6605\n",
       "-0.0244\n",
       " 0.2000\n",
       "-0.0321\n",
       " 0.1825\n",
       "-0.0694\n",
       "[torch.DoubleTensor of size 6]\n",
       "\n",
       "-0.6605\n",
       "-0.0244\n",
       " 0.2000\n",
       "-0.0321\n",
       " 0.1825\n",
       "-0.0694\n",
       "[torch.DoubleTensor of size 6]\n",
       "\n",
       "-0.6605\n",
       "-0.0244\n",
       " 0.2000\n",
       "-0.0321\n",
       " 0.1825\n",
       "-0.0694\n",
       "[torch.DoubleTensor of size 6]\n",
       "\n",
       "-0.6605\n",
       "-0.0672\n",
       "-0.0091\n",
       " 0.0028\n",
       " 0.2311\n",
       "-0.0585\n",
       "[torch.DoubleTensor of size 6]\n",
       "\n",
       "-0.6605\n",
       "-0.0244\n",
       " 0.2000\n",
       "-0.0321\n",
       " 0.1825\n",
       "-0.0694\n",
       "[torch.DoubleTensor of size 6]\n",
       "\n",
       "-0.6605\n",
       "-0.0244\n",
       " 0.2000\n",
       "-0.0321\n",
       " 0.1825\n",
       "-0.0694\n",
       "[torch.DoubleTensor of size 6]\n",
       "\n",
       "-0.6605\n",
       "-0.0244\n",
       " 0.2000\n",
       "-0.0321\n",
       " 0.1825\n",
       "-0.0694\n",
       "[torch.DoubleTensor of size 6]\n",
       "\n",
       "-0.6605\n",
       "-0.0244\n",
       " 0.2000\n",
       "-0.0321\n",
       " 0.1825\n",
       "-0.0694\n",
       "[torch.DoubleTensor of size 6]\n",
       "\n",
       "-0.6605\n",
       "-0.0244\n",
       " 0.2000\n",
       "-0.0321\n",
       " 0.1825\n",
       "-0.0694\n",
       "[torch.DoubleTensor of size 6]\n",
       "\n",
       "-0.6605\n",
       "-0.0244\n",
       " 0.2000\n",
       "-0.0321\n",
       " 0.1825\n",
       "-0.0694\n",
       "[torch.DoubleTensor of size 6]\n",
       "\n",
       "-0.6471\n",
       " 0.0494\n",
       " 0.2271\n",
       "-0.0571\n",
       " 0.1964\n",
       " 0.5107\n",
       "[torch.DoubleTensor of size 6]\n",
       "\n",
       "-0.6605\n",
       "-0.0244\n",
       " 0.2000\n",
       "-0.0321\n"
      ]
     },
     "execution_count": 61,
     "metadata": {},
     "output_type": "execute_result"
    },
    {
     "data": {
      "text/plain": [
       " 0.1825\n",
       "-0.0694\n",
       "[torch.DoubleTensor of size 6]\n",
       "\n",
       "-0.6605\n",
       "-0.0244\n",
       " 0.2000\n",
       "-0.0321\n",
       " 0.1825\n",
       "-0.0694\n",
       "[torch.DoubleTensor of size 6]\n",
       "\n",
       "-0.6605\n",
       "-0.0672\n",
       "-0.0091\n",
       " 0.0028\n",
       " 0.2311\n",
       "-0.0585\n",
       "[torch.DoubleTensor of size 6]\n",
       "\n",
       "-0.6605\n",
       "-0.0244\n",
       " 0.2000\n",
       "-0.0321\n",
       " 0.1825\n",
       "-0.0694\n",
       "[torch.DoubleTensor of size 6]\n",
       "\n",
       "-0.6605\n",
       "-0.0244\n",
       " 0.2000\n",
       "-0.0321\n",
       " 0.1825\n",
       "-0.0694\n",
       "[torch.DoubleTensor of size 6]\n",
       "\n",
       "-0.6605\n",
       "-0.0244\n",
       " 0.2000\n",
       "-0.0321\n",
       " 0.1825\n",
       "-0.0694\n",
       "[torch.DoubleTensor of size 6]\n",
       "\n",
       "-0.6605\n",
       "-0.0244\n",
       " 0.2000\n",
       "-0.0321\n",
       " 0.1825\n",
       "-0.0694\n",
       "[torch.DoubleTensor of size 6]\n",
       "\n",
       "-0.6605\n",
       "-0.0244\n",
       " 0.2000\n",
       "-0.0714\n",
       "-0.0107\n",
       "-0.0536\n",
       "[torch.DoubleTensor of size 6]\n",
       "\n",
       "-0.6605\n",
       "-0.0244\n",
       " 0.2143\n",
       " 0.0429\n",
       " 0.1964\n",
       "-0.0893\n",
       "[torch.DoubleTensor of size 6]\n",
       "\n",
       "-0.6605\n",
       "-0.0244\n",
       " 0.2000\n",
       "-0.0321\n",
       " 0.1825\n",
       "-0.0694\n",
       "[torch.DoubleTensor of size 6]\n",
       "\n",
       "-0.6605\n",
       "-0.0244\n",
       " 0.2000\n",
       "-0.0321\n",
       " 0.1825\n",
       "-0.0694\n",
       "[torch.DoubleTensor of size 6]\n",
       "\n",
       "-0.6605\n",
       "-0.0244\n",
       " 0.2000\n",
       "-0.0321\n",
       " 0.1825\n",
       "-0.0694\n",
       "[torch.DoubleTensor of size 6]\n",
       "\n",
       "-0.6471\n",
       " 0.0494\n",
       " 0.2271\n",
       "-0.0571\n",
       " 0.1964\n",
       "-0.0893\n",
       "[torch.DoubleTensor of size 6]\n",
       "\n",
       "-0.6605\n",
       "-0.0244\n",
       " 0.2000\n",
       "-0.0321\n",
       " 0.1825\n",
       "-0.0694\n",
       "[torch.DoubleTensor of size 6]\n",
       "\n",
       "-0.6605\n",
       "-0.0244\n",
       " 0.2000\n",
       "-0.0321\n",
       " 0.1825\n",
       "-0.0694\n",
       "[torch.DoubleTensor of size 6]\n",
       "\n",
       "-0.6605\n",
       "-0.0244\n",
       " 0.2143\n",
       " 0.0429\n",
       " 0.1964\n",
       "-0.0893\n",
       "[torch.DoubleTensor of size 6]\n",
       "\n",
       "-0.6605\n",
       "-0.0244\n",
       " 0.2000\n",
       "-0.0714\n",
       "-0.0107\n",
       "-0.0536\n",
       "[torch.DoubleTensor of size 6]\n",
       "\n",
       "-0.6605\n",
       "-0.0244\n",
       " 0.2000\n",
       "-0.0321\n",
       " 0.1825\n",
       "-0.0694\n",
       "[torch.DoubleTensor of size 6]\n",
       "\n",
       "-0.6605\n",
       "-0.0244\n",
       " 0.2000\n",
       "-0.0321\n",
       " 0.1825\n",
       "-0.0694\n",
       "[torch.DoubleTensor of size 6]\n",
       "\n",
       "-0.6605\n",
       "-0.0244\n",
       " 0.2000\n",
       "-0.0321\n",
       " 0.1825\n",
       "-0.0694\n",
       "[torch.DoubleTensor of size 6]\n",
       "\n",
       "-0.6605\n",
       "-0.0244\n",
       " 0.2143\n",
       " 0.0429\n",
       " 0.1964\n",
       "-0.0893\n",
       "[torch.DoubleTensor of size 6]\n",
       "\n",
       "-0.6605\n",
       "-0.0244\n",
       " 0.2000\n",
       "-0.0714\n",
       "-0.0107\n",
       "-0.0536\n",
       "[torch.DoubleTensor of size 6]\n",
       "\n",
       "-0.6605\n",
       "-0.0244\n",
       " 0.2000\n",
       "-0.0321\n",
       " 0.1825\n",
       " 1.1306\n",
       "[torch.DoubleTensor of size 6]\n",
       "\n",
       "-0.6605\n",
       "-0.0244\n",
       " 0.2143\n",
       " 0.0429\n",
       " 0.1964\n",
       "-0.0893\n",
       "[torch.DoubleTensor of size 6]\n",
       "\n",
       "-0.6605\n",
       "-0.0244\n",
       " 0.2000\n",
       "-0.0321\n",
       " 0.1825\n",
       "-0.0694\n",
       "[torch.DoubleTensor of size 6]\n",
       "\n",
       "-0.6605\n",
       "-0.0244\n",
       " 0.2000\n",
       "-0.0321\n",
       " 0.1825\n",
       "-0.0694\n",
       "[torch.DoubleTensor of size 6]\n",
       "\n",
       "-0.6605\n",
       "-0.0244\n",
       " 0.2000\n",
       "-0.0321\n",
       " 0.1825\n",
       "-0.0694\n",
       "[torch.DoubleTensor of size 6]\n",
       "\n",
       "-1.0000\n",
       " 0.0000\n",
       " 0.0000\n",
       " 0.0615\n",
       " 0.2995\n",
       "-0.0410\n",
       "[torch.DoubleTensor of size 6]\n",
       "\n",
       "-0.6605\n",
       "-0.0244\n",
       " 0.2000\n",
       "-0.0321\n",
       " 0.1825\n",
       "-0.0694\n",
       "[torch.DoubleTensor of size 6]\n",
       "\n",
       "-0.6605\n",
       "-0.0244\n",
       " 0.2000\n",
       "-0.0321\n",
       " 0.1825\n",
       "-0.0694\n",
       "[torch.DoubleTensor of size 6]\n",
       "\n",
       "-0.6605\n",
       "-0.0244\n",
       " 0.2000\n",
       "-0.0321\n",
       " 0.1825\n",
       "-0.0694\n",
       "[torch.DoubleTensor of size 6]\n",
       "\n",
       "-1.0000\n",
       " 0.0000\n",
       " 0.0000\n",
       " 0.0615\n",
       " 0.2995\n",
       "-0.0410\n",
       "[torch.DoubleTensor of size 6]\n",
       "\n",
       "-0.6605\n",
       "-0.0244\n",
       " 0.2000\n",
       "-0.0321\n",
       " 0.1825\n",
       "-0.0694\n",
       "[torch.DoubleTensor of size 6]\n",
       "\n",
       "-0.6605\n",
       "-0.0244\n",
       " 0.2000\n",
       "-0.0321\n",
       " 0.1825\n",
       "-0.0694\n",
       "[torch.DoubleTensor of size 6]\n",
       "\n",
       "-0.6605\n",
       "-0.0244\n",
       " 0.2000\n",
       "-0.0321\n",
       " 0.1825\n",
       "-0.0694\n",
       "[torch.DoubleTensor of size 6]\n",
       "\n",
       "-0.6605\n",
       "-0.0244\n",
       " 0.2000\n",
       "-0.0321\n",
       " 0.1825\n",
       "-0.0694\n",
       "[torch.DoubleTensor of size 6]\n",
       "\n",
       "-0.6605\n",
       "-0.0244\n",
       " 0.2000\n",
       "-0.0321\n",
       " 0.1825\n",
       "-0.0694\n",
       "[torch.DoubleTensor of size 6]\n",
       "\n",
       "-0.6605\n",
       "-0.0244\n",
       " 0.2000\n",
       "-0.0321\n",
       " 0.1825\n",
       "-0.0694\n",
       "[torch.DoubleTensor of size 6]\n",
       "\n",
       "-0.6605\n",
       "-0.0244\n",
       " 0.2000\n",
       "-0.0321\n",
       " 0.1825\n",
       "-0.0694\n",
       "[torch.DoubleTensor of size 6]\n",
       "\n",
       "-1.0000\n",
       " 0.0571\n",
       " 0.2857\n",
       " 0.0549\n",
       " 0.2588\n",
       "-0.0772\n",
       "[torch.DoubleTensor of size 6]\n",
       "\n",
       "-0.6605\n",
       "-0.0244\n",
       " 0.2000\n",
       "-0.0321\n",
       " 0.1825\n",
       "-0.0694\n",
       "[torch.DoubleTensor of size 6]\n",
       "\n",
       "-0.6605\n",
       "-0.0244\n",
       " 0.2000\n",
       "-0.0321\n",
       " 0.1825\n",
       "-0.0694\n",
       "[torch.DoubleTensor of size 6]\n",
       "\n",
       "-0.6605\n",
       "-0.0244\n",
       " 0.2000\n",
       "-0.0321\n",
       " 0.1825\n",
       "-0.0694\n",
       "[torch.DoubleTensor of size 6]\n",
       "\n",
       "-0.6605\n",
       "-0.0244\n",
       " 0.2000\n",
       "-0.0321\n",
       " 0.1825\n",
       "-0.0694\n",
       "[torch.DoubleTensor of size 6]\n",
       "\n",
       "-0.6605\n",
       "-0.0244\n",
       " 0.2000\n",
       "-0.0321\n",
       " 0.1825\n",
       "-0.0694\n",
       "[torch.DoubleTensor of size 6]\n",
       "\n",
       "-0.6605\n",
       "-0.0244\n",
       " 0.2000\n",
       "-0.0321\n",
       " 0.1825\n",
       "-0.0694\n",
       "[torch.DoubleTensor of size 6]\n",
       "\n",
       "-0.6605\n",
       "-0.0244\n",
       " 0.2000\n",
       "-0.0321\n",
       " 0.1825\n",
       "-0.0694\n",
       "[torch.DoubleTensor of size 6]\n",
       "\n",
       "-0.6605\n",
       "-0.0244\n",
       " 0.2000\n",
       "-0.0321\n",
       " 0.1825\n",
       "-0.0694\n",
       "[torch.DoubleTensor of size 6]\n",
       "\n",
       "-0.6605\n",
       "-0.0244\n",
       " 0.2000\n",
       "-0.0321\n",
       " 0.1825\n",
       "-0.0694\n",
       "[torch.DoubleTensor of size 6]\n",
       "\n",
       "-0.6605\n",
       "-0.0244\n",
       " 0.2000\n",
       "-0.0321\n",
       " 0.1825\n",
       "-0.0694\n",
       "[torch.DoubleTensor of size 6]\n",
       "\n",
       "-0.6605\n",
       "-0.0244\n",
       " 0.2000\n",
       "-0.0321\n",
       " 0.1825\n",
       "-0.0694\n",
       "[torch.DoubleTensor of size 6]\n",
       "\n",
       "-0.6605\n",
       "-0.0244\n",
       " 0.2000\n",
       "-0.0321\n",
       " 0.1825\n",
       "-0.0694\n"
      ]
     },
     "execution_count": 61,
     "metadata": {},
     "output_type": "execute_result"
    },
    {
     "data": {
      "text/plain": [
       "[torch.DoubleTensor of size 6]\n",
       "\n",
       "-0.6605\n",
       "-0.0244\n",
       " 0.2000\n",
       "-0.0714\n",
       "-0.0107\n",
       "-0.0536\n",
       "[torch.DoubleTensor of size 6]\n",
       "\n",
       "-0.6605\n",
       "-0.0244\n",
       " 0.2000\n",
       "-0.0321\n",
       " 0.1825\n",
       "-0.0694\n",
       "[torch.DoubleTensor of size 6]\n",
       "\n",
       "-0.6605\n",
       "-0.0244\n",
       " 0.2000\n",
       "-0.0321\n",
       " 0.1825\n",
       "-0.0694\n",
       "[torch.DoubleTensor of size 6]\n",
       "\n",
       "-0.6605\n",
       "-0.0244\n",
       " 0.2000\n",
       "-0.0321\n",
       " 0.1825\n",
       "-0.0694\n",
       "[torch.DoubleTensor of size 6]\n",
       "\n",
       "-0.6605\n",
       "-0.0244\n",
       " 0.2000\n",
       "-0.0321\n",
       " 0.1825\n",
       "-0.0694\n",
       "[torch.DoubleTensor of size 6]\n",
       "\n",
       "-0.6605\n",
       "-0.0672\n",
       "-0.0091\n",
       " 0.0028\n",
       " 0.2311\n",
       "-0.0585\n",
       "[torch.DoubleTensor of size 6]\n",
       "\n",
       "-0.6605\n",
       "-0.0672\n",
       "-0.0091\n",
       " 0.0028\n",
       " 0.2311\n",
       "-0.0585\n",
       "[torch.DoubleTensor of size 6]\n",
       "\n",
       "-0.6605\n",
       "-0.0244\n",
       " 0.2000\n",
       "-0.0321\n",
       " 0.1825\n",
       "-0.0694\n",
       "[torch.DoubleTensor of size 6]\n",
       "\n",
       "-0.6605\n",
       "-0.0244\n",
       " 0.2000\n",
       "-0.0321\n",
       " 0.1825\n",
       "-0.0694\n",
       "[torch.DoubleTensor of size 6]\n",
       "\n",
       "-0.6605\n",
       "-0.0244\n",
       " 0.2000\n",
       "-0.0321\n",
       " 0.1825\n",
       "-0.0694\n",
       "[torch.DoubleTensor of size 6]\n",
       "\n",
       "-0.6605\n",
       "-0.0244\n",
       " 0.2000\n",
       "-0.0321\n",
       " 0.1825\n",
       "-0.0694\n",
       "[torch.DoubleTensor of size 6]\n",
       "\n",
       "-0.6605\n",
       "-0.0244\n",
       " 0.2000\n",
       "-0.0321\n",
       " 0.1825\n",
       "-0.0694\n",
       "[torch.DoubleTensor of size 6]\n",
       "\n",
       "-0.6605\n",
       "-0.0244\n",
       " 0.2000\n",
       "-0.0321\n",
       " 0.1825\n",
       "-0.0694\n",
       "[torch.DoubleTensor of size 6]\n",
       "\n",
       "-0.6605\n",
       "-0.0244\n",
       " 0.2000\n",
       "-0.0321\n",
       " 0.1825\n",
       "-0.0694\n",
       "[torch.DoubleTensor of size 6]\n",
       "\n",
       "-0.6605\n",
       "-0.0244\n",
       " 0.2000\n",
       "-0.0321\n",
       " 0.1964\n",
       " 0.0000\n",
       "[torch.DoubleTensor of size 6]\n",
       "\n",
       "-0.6605\n",
       "-0.0244\n",
       " 0.2143\n",
       " 0.0429\n",
       " 0.1964\n",
       "-0.0893\n",
       "[torch.DoubleTensor of size 6]\n",
       "\n",
       "-0.6605\n",
       "-0.0244\n",
       " 0.2000\n",
       "-0.0321\n",
       " 0.1825\n",
       "-0.0694\n",
       "[torch.DoubleTensor of size 6]\n",
       "\n",
       "-0.6605\n",
       "-0.0244\n",
       " 0.2000\n",
       "-0.0321\n",
       " 0.1825\n",
       "-0.0694\n",
       "[torch.DoubleTensor of size 6]\n",
       "\n",
       "-0.6605\n",
       "-0.0244\n",
       " 0.2000\n",
       "-0.0321\n",
       " 0.1825\n",
       "-0.0694\n",
       "[torch.DoubleTensor of size 6]\n",
       "\n",
       "-0.6605\n",
       "-0.0244\n",
       " 0.2000\n",
       "-0.0321\n",
       " 0.1825\n",
       "-0.0694\n",
       "[torch.DoubleTensor of size 6]\n",
       "\n",
       "-0.6605\n",
       "-0.0244\n",
       " 0.2000\n",
       "-0.0321\n",
       " 0.1825\n",
       "-0.0694\n",
       "[torch.DoubleTensor of size 6]\n",
       "\n",
       "-0.6605\n",
       "-0.0244\n",
       " 0.2000\n",
       "-0.0321\n",
       " 0.1825\n",
       "-0.0694\n",
       "[torch.DoubleTensor of size 6]\n",
       "\n",
       "-0.6605\n",
       "-0.0244\n",
       " 0.2000\n",
       "-0.0321\n",
       " 0.1825\n",
       "-0.0694\n",
       "[torch.DoubleTensor of size 6]\n",
       "\n",
       "-0.6605\n",
       "-0.0244\n",
       " 0.2000\n",
       "-0.0321\n",
       " 0.1825\n",
       "-0.0694\n",
       "[torch.DoubleTensor of size 6]\n",
       "\n",
       "-0.6605\n",
       "-0.0244\n",
       " 0.2000\n",
       "-0.0321\n",
       " 0.1825\n",
       "-0.0694\n",
       "[torch.DoubleTensor of size 6]\n",
       "\n",
       "-0.6605\n",
       "-0.0244\n",
       " 0.2000\n",
       "-0.0321\n",
       " 0.1825\n",
       "-0.0694\n",
       "[torch.DoubleTensor of size 6]\n",
       "\n",
       "-0.6605\n",
       "-0.0244\n",
       " 0.2000\n",
       "-0.0714\n",
       "-0.0107\n",
       "-0.0536\n",
       "[torch.DoubleTensor of size 6]\n",
       "\n",
       "-0.6605\n",
       "-0.0244\n",
       " 0.2000\n",
       "-0.0714\n",
       "-0.0107\n",
       "-0.0536\n",
       "[torch.DoubleTensor of size 6]\n",
       "\n",
       "-0.6605\n",
       "-0.0672\n",
       "-0.0091\n",
       " 0.0028\n",
       " 0.2311\n",
       "-0.0585\n",
       "[torch.DoubleTensor of size 6]\n",
       "\n",
       "-0.6605\n",
       "-0.0244\n",
       " 0.2000\n",
       "-0.0321\n",
       " 0.1825\n",
       "-0.0694\n",
       "[torch.DoubleTensor of size 6]\n",
       "\n",
       "-0.6605\n",
       "-0.0244\n",
       " 0.2000\n",
       "-0.0321\n",
       " 0.1825\n",
       "-0.0694\n",
       "[torch.DoubleTensor of size 6]\n",
       "\n",
       "-1.0000\n",
       " 0.0571\n",
       " 0.2766\n",
       " 0.0028\n",
       " 0.2311\n",
       "-0.0585\n",
       "[torch.DoubleTensor of size 6]\n",
       "\n",
       "-0.6605\n",
       "-0.0244\n",
       " 0.2000\n",
       "-0.0714\n",
       "-0.0107\n",
       "-0.0536\n",
       "[torch.DoubleTensor of size 6]\n",
       "\n",
       "-0.6605\n",
       "-0.0244\n",
       " 0.2000\n",
       "-0.0321\n",
       " 0.1825\n",
       "-0.0694\n",
       "[torch.DoubleTensor of size 6]\n",
       "\n",
       "-0.6605\n",
       "-0.0244\n",
       " 0.2000\n",
       "-0.0321\n",
       " 0.1825\n",
       "-0.0694\n",
       "[torch.DoubleTensor of size 6]\n",
       "\n",
       "-0.6605\n",
       "-0.0244\n",
       " 0.2000\n",
       "-0.0321\n",
       " 0.1825\n",
       "-0.0694\n",
       "[torch.DoubleTensor of size 6]\n",
       "\n",
       "-0.6605\n",
       "-0.0672\n",
       "-0.0091\n",
       " 0.0028\n",
       " 0.2311\n",
       "-0.0585\n",
       "[torch.DoubleTensor of size 6]\n",
       "\n",
       "-0.6605\n",
       "-0.0244\n",
       " 0.2000\n",
       "-0.0321\n",
       " 0.1825\n",
       "-0.0694\n",
       "[torch.DoubleTensor of size 6]\n",
       "\n",
       "-0.6605\n",
       "-0.0244\n",
       " 0.2000\n",
       "-0.0321\n",
       " 0.1825\n",
       "-0.0694\n",
       "[torch.DoubleTensor of size 6]\n",
       "\n",
       "-0.6605\n",
       "-0.0244\n",
       " 0.2000\n",
       "-0.0321\n",
       " 0.1825\n",
       "-0.0694\n",
       "[torch.DoubleTensor of size 6]\n",
       "\n",
       "-0.6605\n",
       "-0.0244\n",
       " 0.2000\n",
       "-0.0321\n",
       " 0.1825\n",
       "-0.0694\n",
       "[torch.DoubleTensor of size 6]\n",
       "\n",
       "-0.6605\n",
       "-0.0244\n",
       " 0.2000\n",
       "-0.0321\n",
       " 0.1825\n",
       "-0.0694\n",
       "[torch.DoubleTensor of size 6]\n",
       "\n",
       "-0.6605\n",
       "-0.0244\n",
       " 0.2000\n",
       "-0.0321\n",
       " 0.1825\n",
       "-0.0694\n",
       "[torch.DoubleTensor of size 6]\n",
       "\n",
       "-0.6605\n",
       "-0.0244\n",
       " 0.2000\n",
       "-0.0321\n",
       " 0.1825\n",
       "-0.0694\n",
       "[torch.DoubleTensor of size 6]\n",
       "\n",
       "-0.6605\n",
       "-0.0244\n",
       " 0.2000\n",
       "-0.0321\n",
       " 0.1825\n",
       "-0.0694\n",
       "[torch.DoubleTensor of size 6]\n",
       "\n",
       "-0.6605\n",
       "-0.0244\n",
       " 0.2000\n",
       "-0.0321\n",
       " 0.1825\n",
       "-0.0694\n",
       "[torch.DoubleTensor of size 6]\n",
       "\n",
       "-0.6605\n",
       "-0.0244\n",
       " 0.2000\n",
       "-0.0321\n",
       " 0.1825\n",
       "-0.0694\n",
       "[torch.DoubleTensor of size 6]\n",
       "\n",
       " -6.6050e-01\n",
       " -2.4370e-02\n",
       "  2.0000e-01\n",
       " -3.2143e-02\n",
       "  1.8254e-01\n",
       " 6.2222e+230\n",
       "[torch.DoubleTensor of size 6]\n",
       "\n",
       "-0.6605\n",
       "-0.0244\n",
       " 0.2000\n",
       "-0.0321\n",
       " 0.1825\n",
       "-0.0694\n",
       "[torch.DoubleTensor of size 6]\n",
       "\n",
       "-0.6605\n",
       "-0.0244\n",
       " 0.2000\n",
       "-0.0321\n",
       " 0.1825\n",
       "-0.0694\n",
       "[torch.DoubleTensor of size 6]\n",
       "\n",
       "-1.0000\n",
       " 0.0571\n",
       " 0.2766\n",
       " 0.0028\n",
       " 0"
      ]
     },
     "execution_count": 61,
     "metadata": {},
     "output_type": "execute_result"
    },
    {
     "data": {
      "text/plain": [
       ".2311\n",
       "-0.0585\n",
       "[torch.DoubleTensor of size 6]\n",
       "\n",
       "-0.6605\n",
       "-0.0244\n",
       " 0.2000\n",
       "-0.0321\n",
       " 0.1825\n",
       "-0.0694\n",
       "[torch.DoubleTensor of size 6]\n",
       "\n",
       "-0.6605\n",
       "-0.0244\n",
       " 0.2000\n",
       "-0.0321\n",
       " 0.1825\n",
       "-0.0694\n",
       "[torch.DoubleTensor of size 6]\n",
       "\n",
       "-0.6605\n",
       "-0.0244\n",
       " 0.2000\n",
       "-0.0714\n",
       "-0.0107\n",
       "-0.0536\n",
       "[torch.DoubleTensor of size 6]\n",
       "\n",
       "-0.6605\n",
       "-0.0672\n",
       "-0.0091\n",
       " 0.0028\n",
       " 0.2311\n",
       "-0.0585\n",
       "[torch.DoubleTensor of size 6]\n",
       "\n",
       "-0.6605\n",
       "-0.0244\n",
       " 0.2000\n",
       "-0.0321\n",
       " 0.1825\n",
       "-0.0694\n",
       "[torch.DoubleTensor of size 6]\n",
       "\n",
       "-0.6605\n",
       "-0.0244\n",
       " 0.2000\n",
       "-0.0321\n",
       " 0.1825\n",
       "-0.0694\n",
       "[torch.DoubleTensor of size 6]\n",
       "\n",
       "-0.6605\n",
       "-0.0244\n",
       " 0.2000\n",
       "-0.0321\n",
       " 0.1825\n",
       "-0.0694\n",
       "[torch.DoubleTensor of size 6]\n",
       "\n",
       "-0.6605\n",
       "-0.0244\n",
       " 0.2000\n",
       "-0.0321\n",
       " 0.1825\n",
       "-0.0694\n",
       "[torch.DoubleTensor of size 6]\n",
       "\n",
       "-0.6605\n",
       "-0.0244\n",
       " 0.2000\n",
       "-0.0321\n",
       " 0.1825\n",
       "-0.0694\n",
       "[torch.DoubleTensor of size 6]\n",
       "\n",
       "-0.6605\n",
       "-0.0244\n",
       " 0.2000\n",
       "-0.0321\n",
       " 0.1825\n",
       "-0.0694\n",
       "[torch.DoubleTensor of size 6]\n",
       "\n",
       "-0.6605\n",
       "-0.0244\n",
       " 0.2000\n",
       "-0.0321\n",
       " 0.1825\n",
       "-0.0694\n",
       "[torch.DoubleTensor of size 6]\n",
       "\n",
       "-0.6605\n",
       "-0.0244\n",
       " 0.2000\n",
       "-0.0321\n",
       " 0.1825\n",
       "-0.0694\n",
       "[torch.DoubleTensor of size 6]\n",
       "\n",
       "-0.6605\n",
       "-0.0244\n",
       " 0.2000\n",
       "-0.0321\n",
       " 0.1825\n",
       "-0.0694\n",
       "[torch.DoubleTensor of size 6]\n",
       "\n",
       "-0.6605\n",
       "-0.0244\n",
       " 0.2000\n",
       "-0.0321\n",
       " 0.1825\n",
       "-0.0694\n",
       "[torch.DoubleTensor of size 6]\n",
       "\n",
       "-0.6605\n",
       "-0.0244\n",
       " 0.2000\n",
       "-0.0714\n",
       " 0.0000\n",
       " 0.0000\n",
       "[torch.DoubleTensor of size 6]\n",
       "\n",
       "-0.6605\n",
       "-0.0244\n",
       " 0.2000\n",
       "-0.0321\n",
       " 0.1825\n",
       "-0.0694\n",
       "[torch.DoubleTensor of size 6]\n",
       "\n",
       "-0.6605\n",
       "-0.0244\n",
       " 0.2000\n",
       "-0.0321\n",
       " 0.1825\n",
       "-0.0694\n",
       "[torch.DoubleTensor of size 6]\n",
       "\n",
       "-0.6605\n",
       "-0.0244\n",
       " 0.2000\n",
       "-0.0321\n",
       " 0.1825\n",
       "-0.0694\n",
       "[torch.DoubleTensor of size 6]\n",
       "\n",
       "-0.6605\n",
       "-0.0244\n",
       " 0.2000\n",
       "-0.0321\n",
       " 0.1825\n",
       "-0.0694\n",
       "[torch.DoubleTensor of size 6]\n",
       "\n",
       "-0.6605\n",
       "-0.0244\n",
       " 0.2000\n",
       "-0.0714\n",
       "-0.0107\n",
       "-0.0536\n",
       "[torch.DoubleTensor of size 6]\n",
       "\n",
       "-0.6471\n",
       " 0.0494\n",
       " 0.2271\n",
       "-0.0571\n",
       " 0.1964\n",
       "-0.0893\n",
       "[torch.DoubleTensor of size 6]\n",
       "\n",
       "-0.6605\n",
       "-0.0244\n",
       " 0.2143\n",
       " 0.0429\n",
       " 0.1964\n",
       "-0.0893\n",
       "[torch.DoubleTensor of size 6]\n",
       "\n",
       "-0.6605\n",
       "-0.0244\n",
       " 0.2000\n",
       "-0.0321\n",
       " 0.1825\n",
       "-0.0694\n",
       "[torch.DoubleTensor of size 6]\n",
       "\n",
       "-0.6605\n",
       "-0.0244\n",
       " 0.2000\n",
       "-0.0714\n",
       "-0.0107\n",
       "-0.0536\n",
       "[torch.DoubleTensor of size 6]\n",
       "\n",
       "-0.6605\n",
       "-0.0244\n",
       " 0.2000\n",
       "-0.0321\n",
       " 0.1825\n",
       "-0.0694\n",
       "[torch.DoubleTensor of size 6]\n",
       "\n",
       "-0.6605\n",
       "-0.0244\n",
       " 0.2000\n",
       "-0.0321\n",
       " 0.1825\n",
       "-0.0694\n",
       "[torch.DoubleTensor of size 6]\n",
       "\n",
       "-0.6605\n",
       "-0.0244\n",
       " 0.2000\n",
       "-0.0321\n",
       " 0.1825\n",
       "-0.0694\n",
       "[torch.DoubleTensor of size 6]\n",
       "\n",
       "-0.6605\n",
       "-0.0244\n",
       " 0.2000\n",
       "-0.0321\n",
       " 0.1825\n",
       "-0.0694\n",
       "[torch.DoubleTensor of size 6]\n",
       "\n",
       "-0.6605\n",
       "-0.0244\n",
       " 0.2000\n",
       "-0.0321\n",
       " 0.1825\n",
       "-0.0694\n",
       "[torch.DoubleTensor of size 6]\n",
       "\n",
       "-0.6605\n",
       "-0.0244\n",
       " 0.2000\n",
       "-0.0321\n",
       " 0.1825\n",
       "-0.0694\n",
       "[torch.DoubleTensor of size 6]\n",
       "\n",
       "-0.6605\n",
       "-0.0244\n",
       " 0.2000\n",
       "-0.0321\n",
       " 0.1825\n",
       "-0.0694\n",
       "[torch.DoubleTensor of size 6]\n",
       "\n",
       "-0.6605\n",
       "-0.0244\n",
       " 0.2000\n",
       "-0.0321\n",
       " 0.1825\n",
       "-0.0694\n",
       "[torch.DoubleTensor of size 6]\n",
       "\n",
       "-0.6605\n",
       "-0.0244\n",
       " 0.2000\n",
       "-0.0321\n",
       " 0.1825\n",
       "-0.0694\n",
       "[torch.DoubleTensor of size 6]\n",
       "\n",
       "-0.6605\n",
       "-0.0244\n",
       " 0.2000\n",
       "-0.0321\n",
       " 0.1825\n",
       "-0.0694\n",
       "[torch.DoubleTensor of size 6]\n",
       "\n",
       "-0.6605\n",
       "-0.0244\n",
       " 0.2000\n",
       "-0.0321\n",
       " 0.1825\n",
       "-0.0694\n",
       "[torch.DoubleTensor of size 6]\n",
       "\n",
       "-0.6605\n",
       "-0.0244\n",
       " 0.2000\n",
       "-0.0321\n",
       " 0.1825\n",
       "-0.0694\n",
       "[torch.DoubleTensor of size 6]\n",
       "\n",
       "-0.6471\n",
       " 0.0494\n",
       " 0.2271\n",
       "-0.0571\n",
       " 0.1964\n",
       "-0.0893\n",
       "[torch.DoubleTensor of size 6]\n",
       "\n",
       "-0.6471\n",
       " 0.0494\n",
       " 0.2271\n",
       "-0.0571\n",
       " 0.1964\n",
       "-0.0893\n",
       "[torch.DoubleTensor of size 6]\n",
       "\n",
       "-0.6605\n",
       "-0.0244\n",
       " 0.2143\n",
       " 0.0429\n",
       " 0.1964\n",
       "-0.0893\n",
       "[torch.DoubleTensor of size 6]\n",
       "\n",
       "-0.6471\n",
       " 0.0494\n",
       " 0.2271\n",
       "-0.0571\n",
       " 0.1964\n",
       "-0.0893\n",
       "[torch.DoubleTensor of size 6]\n",
       "\n",
       "-0.6605\n",
       "-0.0244\n",
       " 0.2000\n",
       "-0.0321\n",
       " 0.1825\n",
       "-0.0694\n",
       "[torch.DoubleTensor of size 6]\n",
       "\n",
       "-0.6605\n",
       "-0.0244\n",
       " 0.2000\n",
       "-0.0321\n",
       " 0.1825\n",
       "-0.0694\n",
       "[torch.DoubleTensor of size 6]\n",
       "\n",
       " -6.6050e-01\n",
       " -2.4370e-02\n",
       "  2.0000e-01\n",
       " -3.2143e-02\n",
       "  1.9643e-01\n",
       " 6.9169e-323\n",
       "[torch.DoubleTensor of size 6]\n",
       "\n",
       "-0.6605\n",
       "-0.0244\n",
       " 0.2000\n",
       "-0.0321\n",
       " 0.1825\n",
       "-0.0694\n",
       "[torch.DoubleTensor of size 6]\n",
       "\n",
       "-0.6605\n",
       "-0.0672\n",
       "-0.0091\n",
       " 0.0028\n",
       " 0.2311\n",
       "-0.0585\n",
       "[torch.DoubleTensor of size 6]\n",
       "\n",
       "-0.6471\n",
       " 0.0494\n",
       " 0.2271\n",
       "-0.0571\n",
       " 0.1964\n",
       "-0.0893\n",
       "[torch.DoubleTensor of size 6]\n",
       "\n",
       "-0.6605\n",
       "-0.0244\n",
       " 0.2000\n",
       "-0.0321\n",
       " 0.1825\n",
       "-0.0694\n",
       "[torch.DoubleTensor of size 6]\n",
       "\n",
       "-0.6605\n",
       "-0.0244\n",
       " 0.2000\n",
       "-0.0321\n",
       " 0.1825\n",
       "-0.0694\n",
       "[torch.DoubleTensor of size 6]\n",
       "\n",
       "-0.6605\n",
       "-0.0244\n",
       " 0.2000\n",
       "-0.0321\n",
       " 0.1825\n",
       "-0.0694\n",
       "[torch.DoubleTensor of size 6]\n",
       "\n",
       "-0.6605\n",
       "-0.0244\n",
       " 0.2000\n",
       "-0.0321\n",
       " 0.1825\n",
       "-0.0694\n",
       "[torch.DoubleTensor of size 6]\n",
       "\n",
       "-0.6605\n",
       "-0.0244\n",
       " 0.2"
      ]
     },
     "execution_count": 61,
     "metadata": {},
     "output_type": "execute_result"
    },
    {
     "data": {
      "text/plain": [
       "000\n",
       "-0.0321\n",
       " 0.1825\n",
       "-0.0694\n",
       "[torch.DoubleTensor of size 6]\n",
       "\n",
       "-0.6605\n",
       "-0.0672\n",
       " 0.0000\n",
       " 0.0549\n",
       " 0.2588\n",
       "-0.0772\n",
       "[torch.DoubleTensor of size 6]\n",
       "\n",
       "-0.6605\n",
       "-0.0672\n",
       "-0.0091\n",
       " 0.0028\n",
       " 0.2311\n",
       "-0.0585\n",
       "[torch.DoubleTensor of size 6]\n",
       "\n",
       "-0.6605\n",
       "-0.0244\n",
       " 0.2000\n",
       "-0.0321\n",
       " 0.1825\n",
       "-0.0694\n",
       "[torch.DoubleTensor of size 6]\n",
       "\n",
       "-0.6605\n",
       "-0.0244\n",
       " 0.2000\n",
       "-0.0321\n",
       " 0.1825\n",
       "-0.0694\n",
       "[torch.DoubleTensor of size 6]\n",
       "\n",
       "-0.6605\n",
       "-0.0244\n",
       " 0.2000\n",
       "-0.0321\n",
       " 0.1825\n",
       "-0.0694\n",
       "[torch.DoubleTensor of size 6]\n",
       "\n",
       "-1.0000\n",
       " 0.0571\n",
       " 0.2766\n",
       " 0.0028\n",
       " 0.2311\n",
       "-0.0585\n",
       "[torch.DoubleTensor of size 6]\n",
       "\n",
       "-0.6605\n",
       "-0.0244\n",
       " 0.2000\n",
       "-0.0321\n",
       " 0.1825\n",
       "-0.0694\n",
       "[torch.DoubleTensor of size 6]\n",
       "\n",
       "-0.6605\n",
       "-0.0244\n",
       " 0.2000\n",
       "-0.0321\n",
       " 0.1825\n",
       "-0.0694\n",
       "[torch.DoubleTensor of size 6]\n",
       "\n",
       "-0.6605\n",
       "-0.0244\n",
       " 0.2000\n",
       "-0.0321\n",
       " 0.1825\n",
       "-0.0694\n",
       "[torch.DoubleTensor of size 6]\n",
       "\n",
       "-1.0000\n",
       " 0.0571\n",
       " 0.2766\n",
       " 0.0028\n",
       " 0.2311\n",
       "-0.0585\n",
       "[torch.DoubleTensor of size 6]\n",
       "\n",
       "-0.6605\n",
       "-0.0244\n",
       " 0.2000\n",
       "-0.0321\n",
       " 0.1825\n",
       "-0.0694\n",
       "[torch.DoubleTensor of size 6]\n",
       "\n",
       "-0.6605\n",
       "-0.0244\n",
       " 0.2143\n",
       " 0.0429\n",
       " 0.1964\n",
       "-0.0893\n",
       "[torch.DoubleTensor of size 6]\n",
       "\n",
       "-1.0000\n",
       " 0.0571\n",
       " 0.2766\n",
       " 0.0028\n",
       " 0.2311\n",
       "-0.0585\n",
       "[torch.DoubleTensor of size 6]\n",
       "\n",
       "-1.0000\n",
       " 0.0571\n",
       " 0.2766\n",
       " 0.0028\n",
       " 0.2311\n",
       "-0.0585\n",
       "[torch.DoubleTensor of size 6]\n",
       "\n",
       "-0.6605\n",
       "-0.0244\n",
       " 0.2000\n",
       "-0.0321\n",
       " 0.1825\n",
       "-0.0694\n",
       "[torch.DoubleTensor of size 6]\n",
       "\n",
       "-0.6605\n",
       "-0.0244\n",
       " 0.2000\n",
       "-0.0321\n",
       " 0.1825\n",
       "-0.0694\n",
       "[torch.DoubleTensor of size 6]\n",
       "\n",
       "-0.6605\n",
       "-0.0244\n",
       " 0.2000\n",
       "-0.0321\n",
       " 0.1825\n",
       "-0.0694\n",
       "[torch.DoubleTensor of size 6]\n",
       "\n",
       "-0.6605\n",
       "-0.0244\n",
       " 0.2000\n",
       "-0.0321\n",
       " 0.1825\n",
       "-0.0694\n",
       "[torch.DoubleTensor of size 6]\n",
       "\n",
       "-0.6605\n",
       "-0.0244\n",
       " 0.2000\n",
       "-0.0321\n",
       " 0.1825\n",
       "-0.0694\n",
       "[torch.DoubleTensor of size 6]\n",
       "\n",
       "-0.6605\n",
       "-0.0244\n",
       " 0.2000\n",
       "-0.0321\n",
       " 0.1825\n",
       "-0.0694\n",
       "[torch.DoubleTensor of size 6]\n",
       "\n",
       "-0.6605\n",
       "-0.0244\n",
       " 0.2000\n",
       "-0.0321\n",
       " 0.1825\n",
       "-0.0694\n",
       "[torch.DoubleTensor of size 6]\n",
       "\n",
       "-0.6605\n",
       "-0.0244\n",
       " 0.2000\n",
       "-0.0321\n",
       " 0.1825\n",
       "-0.0694\n",
       "[torch.DoubleTensor of size 6]\n",
       "\n",
       "-1.0000\n",
       " 0.0571\n",
       " 0.2766\n",
       " 0.0028\n",
       " 0.2311\n",
       "-0.0585\n",
       "[torch.DoubleTensor of size 6]\n",
       "\n",
       "-0.6605\n",
       "-0.0244\n",
       " 0.2000\n",
       "-0.0321\n",
       " 0.1825\n",
       "-0.0694\n",
       "[torch.DoubleTensor of size 6]\n",
       "\n",
       "-1.0000\n",
       " 0.0571\n",
       " 0.2766\n",
       " 0.0028\n",
       " 0.2311\n",
       "-0.0585\n",
       "[torch.DoubleTensor of size 6]\n",
       "\n",
       "-0.6605\n",
       "-0.0244\n",
       " 0.2000\n",
       "-0.0321\n",
       " 0.1825\n",
       "-0.0694\n",
       "[torch.DoubleTensor of size 6]\n",
       "\n",
       "-1.0000\n",
       " 0.0571\n",
       " 0.2766\n",
       " 0.0028\n",
       " 0.2311\n",
       "-0.0585\n",
       "[torch.DoubleTensor of size 6]\n",
       "\n",
       "-0.6605\n",
       "-0.0244\n",
       " 0.2000\n",
       "-0.0321\n",
       " 0.1825\n",
       "-0.0694\n",
       "[torch.DoubleTensor of size 6]\n",
       "\n",
       "-0.6605\n",
       "-0.0672\n",
       "-0.0091\n",
       " 0.0028\n",
       " 0.2311\n",
       "-0.0585\n",
       "[torch.DoubleTensor of size 6]\n",
       "\n",
       "-0.6605\n",
       "-0.0244\n",
       " 0.2143\n",
       " 0.0429\n",
       " 0.2143\n",
       " 0.0000\n",
       "[torch.DoubleTensor of size 6]\n",
       "\n",
       "-0.6605\n",
       "-0.0672\n",
       "-0.0091\n",
       " 0.0028\n",
       " 0.2311\n",
       "-0.0585\n",
       "[torch.DoubleTensor of size 6]\n",
       "\n",
       "-1.0000\n",
       " 0.0571\n",
       " 0.2766\n",
       " 0.0028\n",
       " 0.2311\n",
       "-0.0585\n",
       "[torch.DoubleTensor of size 6]\n",
       "\n",
       "-0.6605\n",
       "-0.0244\n",
       " 0.2000\n",
       "-0.0321\n",
       " 0.1825\n",
       "-0.0694\n",
       "[torch.DoubleTensor of size 6]\n",
       "\n",
       "-0.6605\n",
       "-0.0244\n",
       " 0.2000\n",
       "-0.0321\n",
       " 0.1825\n",
       "-0.0694\n",
       "[torch.DoubleTensor of size 6]\n",
       "\n",
       "-0.6605\n",
       "-0.0244\n",
       " 0.2000\n",
       "-0.0321\n",
       " 0.1825\n",
       "-0.0694\n",
       "[torch.DoubleTensor of size 6]\n",
       "\n",
       "-0.6605\n",
       "-0.0672\n",
       " 0.0000\n",
       " 0.0549\n",
       " 0.2588\n",
       "-0.0772\n",
       "[torch.DoubleTensor of size 6]\n",
       "\n",
       "-0.6605\n",
       "-0.0244\n",
       " 0.2000\n",
       "-0.0321\n",
       " 0.1825\n",
       "-0.0694\n",
       "[torch.DoubleTensor of size 6]\n",
       "\n",
       "-0.6605\n",
       "-0.0244\n",
       " 0.2000\n",
       "-0.0321\n",
       " 0.1825\n",
       "-0.0694\n",
       "[torch.DoubleTensor of size 6]\n",
       "\n",
       "-0.6605\n",
       "-0.0244\n",
       " 0.2000\n",
       "-0.0321\n",
       " 0.1825\n",
       "-0.0694\n",
       "[torch.DoubleTensor of size 6]\n",
       "\n",
       "-0.6605\n",
       "-0.0244\n",
       " 0.2000\n",
       "-0.0321\n",
       " 0.1825\n",
       "-0.0694\n",
       "[torch.DoubleTensor of size 6]\n",
       "\n",
       "-0.6605\n",
       "-0.0244\n",
       " 0.2000\n",
       "-0.0321\n",
       " 0.1825\n",
       "-0.0694\n",
       "[torch.DoubleTensor of size 6]\n",
       "\n",
       "-1.0000\n",
       " 0.0571\n",
       " 0.2766\n",
       " 0.0028\n",
       " 0.2311\n",
       "-0.0585\n",
       "[torch.DoubleTensor of size 6]\n",
       "\n",
       "-0.6605\n",
       "-0.0244\n",
       " 0.2000\n",
       "-0.0321\n",
       " 0.1825\n",
       "-0.0694\n",
       "[torch.DoubleTensor of size 6]\n",
       "\n",
       "-0.6605\n",
       "-0.0244\n",
       " 0.2000\n",
       "-0.0321\n",
       " 0.1825\n",
       "-0.0694\n",
       "[torch.DoubleTensor of size 6]\n",
       "\n",
       "-0.6605\n",
       "-0.0244\n",
       " 0.2143\n",
       " 0.0429\n",
       " 0.2143\n",
       " 0.0000\n",
       "[torch.DoubleTensor of size 6]\n",
       "\n",
       "-0.6471\n",
       " 0.0494\n",
       " 0.2271\n",
       "-0.0571\n",
       " 0.1964\n",
       "-0.0893\n",
       "[torch.DoubleTensor of size 6]\n",
       "\n",
       "-0.6605\n",
       "-0.0244\n",
       " 0.2000\n",
       "-0.0321\n",
       " 0.1825\n",
       "-0.0694\n",
       "[torch.DoubleTensor of size 6]\n",
       "\n",
       "-0.6471\n",
       " 0.0494\n",
       " 0.2271\n",
       "-0.0571\n",
       " 0.1964\n",
       "-0.0893\n",
       "[torch.DoubleTensor of size 6]\n",
       "\n",
       "-0.6605\n",
       "-0.0244\n",
       " 0.2143\n",
       " 0.0429\n",
       " 0.1964\n",
       "-0.0893\n",
       "[torch.DoubleTensor of size 6]\n",
       "\n",
       "-0.6605\n",
       "-0.0244\n",
       " 0.2000\n",
       "-0.0714\n",
       "-0.0107\n",
       "-0.0536\n",
       "[torch.DoubleTensor of size 6]\n",
       "\n",
       "-0.6605\n",
       "-0.0244\n",
       " 0.2000\n",
       "-0.0321\n",
       " 0.1"
      ]
     },
     "execution_count": 61,
     "metadata": {},
     "output_type": "execute_result"
    },
    {
     "data": {
      "text/plain": [
       "825\n",
       "-0.0694\n",
       "[torch.DoubleTensor of size 6]\n",
       "\n",
       "-0.6605\n",
       "-0.0244\n",
       " 0.2000\n",
       "-0.0321\n",
       " 0.1825\n",
       "-0.0694\n",
       "[torch.DoubleTensor of size 6]\n",
       "\n",
       "-0.6605\n",
       "-0.0244\n",
       " 0.2000\n",
       "-0.0321\n",
       " 0.1825\n",
       "-0.0694\n",
       "[torch.DoubleTensor of size 6]\n",
       "\n",
       "-0.6605\n",
       "-0.0244\n",
       " 0.2000\n",
       "-0.0321\n",
       " 0.1825\n",
       "-0.0694\n",
       "[torch.DoubleTensor of size 6]\n",
       "\n",
       "-0.6605\n",
       "-0.0244\n",
       " 0.2000\n",
       "-0.0321\n",
       " 0.1825\n",
       "-0.0694\n",
       "[torch.DoubleTensor of size 6]\n",
       "\n",
       "-0.6605\n",
       "-0.0244\n",
       " 0.2000\n",
       "-0.0321\n",
       " 0.1825\n",
       "-0.0694\n",
       "[torch.DoubleTensor of size 6]\n",
       "\n",
       "-0.6471\n",
       " 0.0494\n",
       " 0.2271\n",
       "-0.0571\n",
       " 0.1964\n",
       "-0.0893\n",
       "[torch.DoubleTensor of size 6]\n",
       "\n",
       "-0.6605\n",
       "-0.0244\n",
       " 0.2000\n",
       "-0.0321\n",
       " 0.1825\n",
       "-0.0694\n",
       "[torch.DoubleTensor of size 6]\n",
       "\n",
       "-0.6605\n",
       "-0.0244\n",
       " 0.2000\n",
       "-0.0321\n",
       " 0.1964\n",
       " 0.0000\n",
       "[torch.DoubleTensor of size 6]\n",
       "\n",
       "-0.6605\n",
       "-0.0244\n",
       " 0.2000\n",
       "-0.0321\n",
       " 0.1825\n",
       "-0.0694\n",
       "[torch.DoubleTensor of size 6]\n",
       "\n",
       "-0.6605\n",
       "-0.0244\n",
       " 0.2000\n",
       "-0.0321\n",
       " 0.1825\n",
       "-0.0694\n",
       "[torch.DoubleTensor of size 6]\n",
       "\n",
       "-0.6605\n",
       "-0.0244\n",
       " 0.2000\n",
       "-0.0321\n",
       " 0.1825\n",
       "-0.0694\n",
       "[torch.DoubleTensor of size 6]\n",
       "\n",
       "-0.6605\n",
       "-0.0672\n",
       "-0.0091\n",
       " 0.0028\n",
       " 0.2311\n",
       "-0.0585\n",
       "[torch.DoubleTensor of size 6]\n",
       "\n",
       "-0.6605\n",
       "-0.0244\n",
       " 0.2000\n",
       "-0.0321\n",
       " 0.1825\n",
       "-0.0694\n",
       "[torch.DoubleTensor of size 6]\n",
       "\n",
       "-0.6605\n",
       "-0.0244\n",
       " 0.2000\n",
       "-0.0321\n",
       " 0.1825\n",
       "-0.0694\n",
       "[torch.DoubleTensor of size 6]\n",
       "\n",
       "-0.6605\n",
       "-0.0244\n",
       " 0.2000\n",
       "-0.0321\n",
       " 0.1825\n",
       "-0.0694\n",
       "[torch.DoubleTensor of size 6]\n",
       "\n",
       "-0.6605\n",
       "-0.0672\n",
       "-0.0091\n",
       " 0.0028\n",
       " 0.2311\n",
       "-0.0585\n",
       "[torch.DoubleTensor of size 6]\n",
       "\n",
       "-0.6605\n",
       "-0.0244\n",
       " 0.2000\n",
       "-0.0321\n",
       " 0.1825\n",
       "-0.0694\n",
       "[torch.DoubleTensor of size 6]\n",
       "\n",
       "-0.6605\n",
       "-0.0244\n",
       " 0.2000\n",
       "-0.0321\n",
       " 0.1825\n",
       " 0.7306\n",
       "[torch.DoubleTensor of size 6]\n",
       "\n",
       "-0.6605\n",
       "-0.0244\n",
       " 0.2000\n",
       "-0.0321\n",
       " 0.1825\n",
       "-0.0694\n",
       "[torch.DoubleTensor of size 6]\n",
       "\n",
       "-0.6605\n",
       "-0.0244\n",
       " 0.2000\n",
       "-0.0321\n",
       " 0.1825\n",
       "-0.0694\n",
       "[torch.DoubleTensor of size 6]\n",
       "\n",
       "-0.6605\n",
       "-0.0244\n",
       " 0.2000\n",
       "-0.0321\n",
       " 0.1825\n",
       "-0.0694\n",
       "[torch.DoubleTensor of size 6]\n",
       "\n",
       "-0.6605\n",
       "-0.0244\n",
       " 0.2000\n",
       "-0.0321\n",
       " 0.1825\n",
       "-0.0694\n",
       "[torch.DoubleTensor of size 6]\n",
       "\n",
       "-0.6605\n",
       "-0.0244\n",
       " 0.2000\n",
       "-0.0321\n",
       " 0.1825\n",
       " 0.3313\n",
       "[torch.DoubleTensor of size 6]\n",
       "\n",
       "-0.6605\n",
       "-0.0244\n",
       " 0.2000\n",
       "-0.0321\n",
       " 0.1825\n",
       "-0.0694\n",
       "[torch.DoubleTensor of size 6]\n",
       "\n",
       "-0.6605\n",
       "-0.0244\n",
       " 0.2000\n",
       "-0.0321\n",
       " 0.1825\n",
       "-0.0694\n",
       "[torch.DoubleTensor of size 6]\n",
       "\n",
       "-0.6605\n",
       "-0.0244\n",
       " 0.2000\n",
       "-0.0321\n",
       " 0.1825\n",
       "-0.0694\n",
       "[torch.DoubleTensor of size 6]\n",
       "\n",
       "-0.6605\n",
       "-0.0244\n",
       " 0.2000\n",
       "-0.0321\n",
       " 0.1825\n",
       "-0.0694\n",
       "[torch.DoubleTensor of size 6]\n",
       "\n",
       "-0.6605\n",
       "-0.0244\n",
       " 0.2000\n",
       "-0.0321\n",
       " 0.1825\n",
       "-0.0694\n",
       "[torch.DoubleTensor of size 6]\n",
       "\n",
       "-0.6605\n",
       "-0.0244\n",
       " 0.2000\n",
       "-0.0321\n",
       " 0.1825\n",
       "-0.0694\n",
       "[torch.DoubleTensor of size 6]\n",
       "\n",
       "-0.6605\n",
       "-0.0244\n",
       " 0.2000\n",
       "-0.0321\n",
       " 0.1825\n",
       "-0.0694\n",
       "[torch.DoubleTensor of size 6]\n",
       "\n",
       "-0.6605\n",
       "-0.0244\n",
       " 0.2000\n",
       "-0.0321\n",
       " 0.1825\n",
       "-0.0694\n",
       "[torch.DoubleTensor of size 6]\n",
       "\n",
       "-0.6605\n",
       "-0.0244\n",
       " 0.2000\n",
       "-0.0321\n",
       " 0.1825\n",
       "-0.0694\n",
       "[torch.DoubleTensor of size 6]\n",
       "\n",
       "-0.6605\n",
       "-0.0244\n",
       " 0.2000\n",
       "-0.0321\n",
       " 0.1825\n",
       "-0.0694\n",
       "[torch.DoubleTensor of size 6]\n",
       "\n",
       "-0.6605\n",
       "-0.0244\n",
       " 0.2000\n",
       "-0.0321\n",
       " 0.1825\n",
       "-0.0694\n",
       "[torch.DoubleTensor of size 6]\n",
       "\n",
       "-0.6605\n",
       "-0.0672\n",
       "-0.0091\n",
       " 0.0028\n",
       " 0.2311\n",
       "-0.0585\n",
       "[torch.DoubleTensor of size 6]\n",
       "\n",
       "-0.6605\n",
       "-0.0244\n",
       " 0.2000\n",
       "-0.0321\n",
       " 0.1825\n",
       "-0.4702\n",
       "[torch.DoubleTensor of size 6]\n",
       "\n",
       "-0.6605\n",
       "-0.0244\n",
       " 0.2000\n",
       "-0.0321\n",
       " 0.1825\n",
       " 1.3306\n",
       "[torch.DoubleTensor of size 6]\n",
       "\n",
       "-0.6605\n",
       "-0.0244\n",
       " 0.2000\n",
       "-0.0321\n",
       " 0.1825\n",
       "-0.0694\n",
       "[torch.DoubleTensor of size 6]\n",
       "\n"
      ]
     },
     "execution_count": 61,
     "metadata": {},
     "output_type": "execute_result"
    }
   ],
   "source": [
    "for i = 1, 500 do\n",
    "    print(tmp0[i] + tmp1[i])\n",
    "end"
   ]
  },
  {
   "cell_type": "code",
   "execution_count": null,
   "metadata": {
    "collapsed": true
   },
   "outputs": [],
   "source": []
  }
 ],
 "metadata": {
  "kernelspec": {
   "display_name": "iTorch",
   "language": "lua",
   "name": "itorch"
  },
  "language_info": {
   "name": "lua",
   "version": "5.1"
  }
 },
 "nbformat": 4,
 "nbformat_minor": 0
}
