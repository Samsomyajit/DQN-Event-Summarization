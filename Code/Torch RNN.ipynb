{
 "cells": [
  {
   "cell_type": "markdown",
   "metadata": {},
   "source": [
    "# Starting model here"
   ]
  },
  {
   "cell_type": "code",
   "execution_count": null,
   "metadata": {
    "collapsed": false
   },
   "outputs": [],
   "source": [
    "require 'torch'\n",
    "require 'nn'\n",
    "require 'rnn'\n",
    "require 'csvigo'\n",
    "require 'cutorch'\n",
    "require 'cunn'\n",
    "require 'cunnx'\n",
    "\n",
    "--- Loading utility script\n",
    "dofile(\"utils.lua\")\n",
    "dofile(\"model_utils.lua\")\n",
    "\n",
    "aurora_fn = '~/GitHub/DeepNLPQLearning/DO_NOT_UPLOAD_THIS_DATA/0-output/2012_aurora_shooting_first_sentence_numtext.csv'\n",
    "nugget_fn = '~/GitHub/DeepNLPQLearning/DO_NOT_UPLOAD_THIS_DATA/0-output/aurora_nuggets_numtext.csv'\n",
    "query_fn = '~/GitHub/DeepNLPQLearning/DO_NOT_UPLOAD_THIS_DATA/0-output/queries_numtext.csv'\n",
    "auroras_fn = '~/GitHub/DeepNLPQLearning/DO_NOT_UPLOAD_THIS_DATA/0-output/2012_aurora_sentence_numtext.csv'\n",
    "\n",
    "data_file = csvigo.load({path = aurora_fn, mode = \"large\"})\n",
    "nugget_file = csvigo.load({path = nugget_fn, mode = \"large\"})\n",
    "query_file =  csvigo.load({path = query_fn, mode = \"large\"})\n",
    "sent_file =  csvigo.load({path = auroras_fn, mode = \"large\"})"
   ]
  },
  {
   "cell_type": "code",
   "execution_count": null,
   "metadata": {
    "collapsed": false
   },
   "outputs": [],
   "source": [
    "nstart = 2\n",
    "nend = 40"
   ]
  },
  {
   "cell_type": "code",
   "execution_count": null,
   "metadata": {
    "collapsed": true
   },
   "outputs": [],
   "source": [
    "s_ss = geti_n(sent_file, nstart, nend)"
   ]
  },
  {
   "cell_type": "code",
   "execution_count": null,
   "metadata": {
    "collapsed": false
   },
   "outputs": [],
   "source": [
    "zero_or_x(1, sent_file[2])"
   ]
  },
  {
   "cell_type": "code",
   "execution_count": null,
   "metadata": {
    "collapsed": true
   },
   "outputs": [],
   "source": [
    "preds = torch.totable(torch.ones(#sent_file))"
   ]
  },
  {
   "cell_type": "code",
   "execution_count": null,
   "metadata": {
    "collapsed": true
   },
   "outputs": [],
   "source": [
    "tmp = {{1, 2 ,3 ,4}, {1, 3, 5, 4}}"
   ]
  },
  {
   "cell_type": "code",
   "execution_count": null,
   "metadata": {
    "collapsed": false
   },
   "outputs": [],
   "source": [
    "test = padZeros(tmp, 10)"
   ]
  },
  {
   "cell_type": "code",
   "execution_count": null,
   "metadata": {
    "collapsed": false
   },
   "outputs": [],
   "source": [
    "#test"
   ]
  },
  {
   "cell_type": "code",
   "execution_count": null,
   "metadata": {
    "collapsed": false
   },
   "outputs": [],
   "source": [
    "#test"
   ]
  },
  {
   "cell_type": "code",
   "execution_count": null,
   "metadata": {
    "collapsed": false
   },
   "outputs": [],
   "source": [
    "function getLastKTokens(x, K)\n",
    "    local out = {}\n",
    "    for i=0, K-1 do\n",
    "        out[i+1] = x[#x-i]\n",
    "    end \n",
    "    return out\n",
    "end\n",
    "\n",
    "function buildKSummary(preds, xs, K)\n",
    "    local out = {}\n",
    "    local out2 = {}\n",
    "    for i=1, #xs do\n",
    "        if i == 1 then \n",
    "            out[i] = zero_or_x(preds[i], {0} )\n",
    "        else \n",
    "            --- Update it by adding xs_i and out_{i-1}\n",
    "            out[i] = tableConcat( out[i-1], zero_or_x(preds[i], xs[i]) )\n",
    "        end\n",
    "    end\n",
    "    local maxlen = 0\n",
    "    for i=1, #out do\n",
    "        out2[i] = getLastKTokens(out[i], K)\n",
    "        maxlen = math.max(maxlen, #out2[i])\n",
    "    end    \n",
    "    return padZeros(out2, maxlen)\n",
    "end"
   ]
  },
  {
   "cell_type": "code",
   "execution_count": null,
   "metadata": {
    "collapsed": false
   },
   "outputs": [],
   "source": [
    "pred_ss = buildKSummary(preds, sent_file, 50)"
   ]
  },
  {
   "cell_type": "code",
   "execution_count": null,
   "metadata": {
    "collapsed": false
   },
   "outputs": [],
   "source": [
    "sent_file[60]"
   ]
  },
  {
   "cell_type": "code",
   "execution_count": null,
   "metadata": {
    "collapsed": false,
    "scrolled": true
   },
   "outputs": [],
   "source": [
    "pred_ss[5]"
   ]
  },
  {
   "cell_type": "code",
   "execution_count": null,
   "metadata": {
    "collapsed": false
   },
   "outputs": [],
   "source": [
    "pred_ss[4]"
   ]
  },
  {
   "cell_type": "code",
   "execution_count": null,
   "metadata": {
    "collapsed": false
   },
   "outputs": [],
   "source": [
    "getLastKTokens(pred_ss[4], 3)"
   ]
  },
  {
   "cell_type": "code",
   "execution_count": null,
   "metadata": {
    "collapsed": false
   },
   "outputs": [],
   "source": [
    "#pred_ss"
   ]
  },
  {
   "cell_type": "code",
   "execution_count": null,
   "metadata": {
    "collapsed": false
   },
   "outputs": [],
   "source": [
    "pred_ss"
   ]
  },
  {
   "cell_type": "code",
   "execution_count": null,
   "metadata": {
    "collapsed": false
   },
   "outputs": [],
   "source": [
    "sent_file"
   ]
  },
  {
   "cell_type": "code",
   "execution_count": null,
   "metadata": {
    "collapsed": true
   },
   "outputs": [],
   "source": [
    "x = data_file\n",
    "nstart = 2 \n",
    "nend = 10"
   ]
  },
  {
   "cell_type": "code",
   "execution_count": null,
   "metadata": {
    "collapsed": false
   },
   "outputs": [],
   "source": [
    "--- This step is processing the data\n",
    "x_ss  = geti_n(x, nstart, nend)\n",
    "xout  = grabNsamples(x_ss, 1, #x_ss)     --- Extracting N samples\n",
    "print('pass')"
   ]
  },
  {
   "cell_type": "code",
   "execution_count": null,
   "metadata": {
    "collapsed": false
   },
   "outputs": [],
   "source": [
    "mxl = 100"
   ]
  },
  {
   "cell_type": "code",
   "execution_count": null,
   "metadata": {
    "collapsed": true
   },
   "outputs": [],
   "source": [
    "xs  = padZeros(xout, mxl)                 --- Padding the data by the maximum length\n",
    "qs2 = padZeros({qs}, 5)"
   ]
  },
  {
   "cell_type": "code",
   "execution_count": null,
   "metadata": {
    "collapsed": false
   },
   "outputs": [],
   "source": [
    "#xs"
   ]
  },
  {
   "cell_type": "code",
   "execution_count": null,
   "metadata": {
    "collapsed": false,
    "scrolled": true
   },
   "outputs": [],
   "source": [
    "qrep = repeatQuery(qs2[1], #xs)\n",
    "preds = geti_n(preds_list, nstart, nend)\n",
    "sumry_ss = buildSummary(preds, xs, 0)\n",
    "print('pass')\n",
    "sentences = LongTensor(xs):t()\n",
    "summary = LongTensor(sumry_ss):t()\n",
    "query = LongTensor(qrep):t()\n",
    "actions = torch.Tensor(geti_n(action_list, nstart, nend)):resize(#xs, 1)\n",
    "labels = torch.Tensor(geti_n(yrouge, nstart, nend))"
   ]
  },
  {
   "cell_type": "code",
   "execution_count": null,
   "metadata": {
    "collapsed": true
   },
   "outputs": [],
   "source": [
    "rK = 50\n",
    "batch_size = 10\n",
    "nepochs = 10\n",
    "print_every = 1\n",
    "embed_dim = 10\n",
    "learning_rate = 0.1\n",
    "usecuda = true\n",
    "\n",
    "cuts = 4.                  --- This is the number of cuts we want\n",
    "epsilon = 1.\n",
    "base_explore_rate = 0.1\n",
    "delta = 1./(nepochs/cuts) --- Only using epsilon greedy strategy for (nepochs/cuts)% of the epochs\n",
    "\n",
    "torch.manualSeed(420)\n",
    "\n",
    "function build_network(vocab_size, embed_dim)\n",
    "    local model = nn.Sequential()\n",
    "    :add(nn.LookupTableMaskZero(vocab_size, embed_dim)) -- will return a sequence-length x batch-size x embedDim tensor\n",
    "    :add(nn.SplitTable(1, embed_dim)) -- splits into a sequence-length table with batch-size x embedDim entries\n",
    "    :add(nn.Sequencer(nn.LSTM(embed_dim, embed_dim)))\n",
    "    :add(nn.SelectTable(-1)) -- selects last state of the LSTM\n",
    "    :add(nn.Linear(embed_dim, embed_dim)) -- map last state to a score for classification\n",
    "    :add(nn.ReLU())\n",
    "   return model\n",
    "end\n",
    "\n",
    "function build_model(vocab_size, embed_dim, outputSize, use_cuda)\n",
    "    local mod1 = build_network(vocab_size, embed_dim)\n",
    "    local mod2 = build_network(vocab_size, embed_dim)\n",
    "    local mod3 = build_network(vocab_size, embed_dim)\n",
    "\n",
    "    local mlp1 = nn.Sequential()\n",
    "    mlp1:add(nn.Linear(1, embed_dim))\n",
    "    mlp1:add(nn.ReLU())\n",
    "\n",
    "    local ParallelModel = nn.ParallelTable()\n",
    "    ParallelModel:add(mod1)\n",
    "    ParallelModel:add(mod2)\n",
    "    ParallelModel:add(mod3)\n",
    "    ParallelModel:add(mlp1)\n",
    "\n",
    "    local FinalMLP = nn.Sequential()\n",
    "    FinalMLP:add(ParallelModel)\n",
    "    FinalMLP:add(nn.JoinTable(2))\n",
    "    FinalMLP:add( nn.Linear(embed_dim * 4, outputSize) )\n",
    "\n",
    "    if use_cuda then\n",
    "        return FinalMLP:cuda()\n",
    "    else\n",
    "        return FinalMLP\n",
    "    end\n",
    "end\n",
    "\n",
    "vocab_sized = getVocabSize(data_file)                       --- getting length of dictionary\n",
    "vocab_sizeq = getVocabSize(query_file)                      --- getting length of dictionary\n",
    "vocab_size = math.max(vocab_sized, vocab_sizeq)\n",
    "\n",
    "queries = grabNsamples(query_file, #query_file-1, nil)      --- Extracting all queries\n",
    "nuggets = grabNsamples(nugget_file, #nugget_file-1, nil)    --- Extracting all samples\n",
    "maxseqlend = getMaxseq(data_file)                             --- Extracting maximum sequence length\n",
    "maxseqlenq = getMaxseq(query_file)                            --- Extracting maximum sequence length\n",
    "maxseqlen = math.max(maxseqlenq, maxseqlend)\n",
    "\n",
    "batchLSTM = build_model(vocab_size, embed_dim, 1, usecuda)\n",
    "crit = nn.MSECriterion()"
   ]
  },
  {
   "cell_type": "code",
   "execution_count": null,
   "metadata": {
    "collapsed": true
   },
   "outputs": [],
   "source": [
    "batch_size = 10\n",
    "nepochs = 1 \n",
    "qs = queries[3]\n",
    "x = data_file\n",
    "model = batchLSTM\n",
    "-- crit = crit\n",
    "-- epsilon\n",
    "-- delta\n",
    "mxl = maxseqlen\n",
    "-- base_explore_rate\n",
    "-- print_every\n",
    "-- nuggets\n",
    "-- learning_rate\n",
    "K = rK\n",
    "use_cuda = usecuda"
   ]
  },
  {
   "cell_type": "code",
   "execution_count": null,
   "metadata": {
    "collapsed": false
   },
   "outputs": [],
   "source": [
    "if use_cuda then\n",
    "  Tensor = torch.CudaTensor\n",
    "  LongTensor = torch.CudaLongTensor\n",
    "  crit = crit:cuda()\n",
    "  print(\"Running DQN-LSTM with the GPU\")\n",
    "else\n",
    "  Tensor = torch.Tensor\n",
    "  LongTensor = torch.LongTensor\n",
    "  print(\"Running DQN-LSTM with the CPU\")\n",
    "end\n",
    "\n",
    "rscores, pscores, fscores = {}, {}, {}\n",
    "yrouge = torch.totable(torch.randn(#x))\n",
    "summary_list = populateOnes(#x, K)\n",
    "action_list = torch.totable(torch.round(torch.rand(#x)))\n",
    "preds_list = torch.totable(torch.round(torch.rand(#x)))\n",
    "print(\"training model...\")"
   ]
  },
  {
   "cell_type": "code",
   "execution_count": null,
   "metadata": {
    "collapsed": false
   },
   "outputs": [],
   "source": [
    "for epoch=0, nepochs, 1 do\n",
    "    loss = 0                    --- Compute a new MSE loss each time\n",
    "    --- Reset the rougue each time\n",
    "    r_t1 , p_t1, f_t1 = 0., 0., 0.\n",
    "    --- Looping over each bach of sentences for a given query\n",
    "    nbatches = torch.floor( #x / batch_size)\n",
    "    for minibatch = 1, nbatches do\n",
    "        if minibatch == 1 then          -- Need +1 to skip the first row\n",
    "            nstart = 2\n",
    "            nend = torch.round(batch_size * minibatch)\n",
    "        end\n",
    "        if minibatch == nbatches then \n",
    "            nstart = nend + 1\n",
    "            nend = #x\n",
    "        end\n",
    "        if minibatch > 1 and minibatch < nbatches then \n",
    "            nstart = nend + 1\n",
    "            nend = torch.round(batch_size * minibatch)\n",
    "        end\n",
    "        --- This step is processing the data\n",
    "        x_ss  = geti_n(x, nstart, nend)\n",
    "        xout  = grabNsamples(x_ss, 1, #x_ss)     --- Extracting N samples\n",
    "        print('pass')\n",
    "        xs  = padZeros(xout, mxl)                 --- Padding the data by the maximum length\n",
    "        qs2 = padZeros({qs}, 5)\n",
    "        qrep = repeatQuery(qs2[1], #xs)\n",
    "        preds = geti_n(preds_list, nstart, nend)\n",
    "        sumry_ss = buildSummary(preds, xs, 0)\n",
    "\n",
    "        sentences = LongTensor(xs):t()\n",
    "        summary = LongTensor(sumry_ss):t()\n",
    "        query = LongTensor(qrep):t()\n",
    "        actions = torch.Tensor(geti_n(action_list, nstart, nend)):resize(#xs, 1)\n",
    "        labels = torch.Tensor(geti_n(yrouge, nstart, nend))\n",
    "\n",
    "        print(actions:sum(), actions:mean(), actions:min(), actions:max())\n",
    "\n",
    "        if use_cuda then\n",
    "             actions =  actions:cuda()\n",
    "             labels = labels:cuda()\n",
    "        end\n",
    "        myPreds = model:forward({sentences, summary, query, actions})\n",
    "        loss = loss + crit:forward(myPreds, labels)\n",
    "        grads = crit:backward(myPreds, labels)\n",
    "        model:backward({sentences, summary, query, actions}, grads)\n",
    "        model:updateParameters(learning_rate)        -- Update parameters after each minibatch\n",
    "        model:zeroGradParameters()\n",
    "\n",
    "        if use_cuda then\n",
    "            myPreds = myPreds:double()\n",
    "        end\n",
    "\n",
    "        preds = policy(myPreds, epsilon, #xs)\n",
    "        --- Concatenating predictions into a summary\n",
    "        predsummary = buildPredSummary(preds, xs, K)\n",
    "        --- Initializing rouge metrics at time {t-1} and save scores\n",
    "        for i=1, #predsummary do\n",
    "            --- Calculating rouge scores; Call get_i_n() to cumulatively compute rouge\n",
    "            rscores[i] = rougeRecall(geti_n(predsummary, 1, i), nuggets, K) - r_t1\n",
    "            pscores[i] = rougePrecision(geti_n(predsummary, 1, i), nuggets, K) - p_t1\n",
    "            fscores[i] = rougeF1(geti_n(predsummary, 1, i), nuggets, K) - f_t1\n",
    "            r_t1, p_t1, f_t1 = rscores[i], pscores[i], fscores[i]\n",
    "        end\n",
    "        --- Updating change in rouge\n",
    "        yrouge = updateTable(yrouge, fscores, nstart)\n",
    "        preds_list = updateTable(preds_list, preds, nstart)\n",
    "        action_list = updateTable(action_list, torch.totable(actions:double()), nstart)\n",
    "        \n",
    "        --- Calculating last one to see actual last rouge, without delta\n",
    "        rscore = rougeRecall(predsummary, nuggets, K)\n",
    "        pscore = rougePrecision(predsummary, nuggets, K)\n",
    "        fscore = rougeF1(predsummary, nuggets, K)\n",
    "        \n",
    "        perf_string = string.format(\n",
    "            \"Epoch %i, sum(y)/len(y) = %i/%i, {Recall = %.6f, Precision = %.6f, F1 = %.6f}\", \n",
    "            epoch, sumTable(preds_list), #preds_list, rscore, pscore, fscore\n",
    "            )\n",
    "        print(perf_string)\n",
    "    end\n",
    "    epsilon = epsilon - delta           --- Decreasing the epsilon greedy strategy\n",
    "    if epsilon <= 0 then                --- leave a random exploration rate\n",
    "        epsilon = base_explore_rate\n",
    "    end\n",
    "end"
   ]
  },
  {
   "cell_type": "code",
   "execution_count": null,
   "metadata": {
    "collapsed": false
   },
   "outputs": [],
   "source": [
    "predsummary[1][1]"
   ]
  },
  {
   "cell_type": "code",
   "execution_count": null,
   "metadata": {
    "collapsed": false
   },
   "outputs": [],
   "source": [
    "n2 = geti_n(nuggets, 2, #nuggets)"
   ]
  },
  {
   "cell_type": "code",
   "execution_count": null,
   "metadata": {
    "collapsed": false
   },
   "outputs": [],
   "source": [
    "unpackZeros(xs[1]), preds[1]"
   ]
  },
  {
   "cell_type": "code",
   "execution_count": null,
   "metadata": {
    "collapsed": false
   },
   "outputs": [],
   "source": [
    "summary[1]"
   ]
  },
  {
   "cell_type": "code",
   "execution_count": null,
   "metadata": {
    "collapsed": false
   },
   "outputs": [],
   "source": [
    "labels:size()"
   ]
  },
  {
   "cell_type": "code",
   "execution_count": null,
   "metadata": {
    "collapsed": false,
    "scrolled": true
   },
   "outputs": [],
   "source": [
    "predsummary[1]"
   ]
  },
  {
   "cell_type": "code",
   "execution_count": null,
   "metadata": {
    "collapsed": false
   },
   "outputs": [],
   "source": [
    "rougeF1(predsummary[1], nuggets, K)"
   ]
  },
  {
   "cell_type": "code",
   "execution_count": null,
   "metadata": {
    "collapsed": false
   },
   "outputs": [],
   "source": [
    "rougeF1(geti_n(predsummary, 1, 7)[1], nuggets, K)"
   ]
  },
  {
   "cell_type": "code",
   "execution_count": null,
   "metadata": {
    "collapsed": false
   },
   "outputs": [],
   "source": [
    "#sumry_ss"
   ]
  },
  {
   "cell_type": "code",
   "execution_count": null,
   "metadata": {
    "collapsed": true
   },
   "outputs": [],
   "source": [
    "function buildPredSummary(pred_action, xs) \n",
    "    local predsummary = {}\n",
    "    --- This looks stupid but it's right because we have to retain\n",
    "    --- the tmp1 when it's not 1, so it's a running total\n",
    "    local tmp1 = {}\n",
    "    for i=1, #xs do\n",
    "        tmp = unpackZeros(xs[i])\n",
    "        if pred_action[i]== 1 then\n",
    "            predsummary[i] = tmp1\n",
    "        else\n",
    "            predsummary[i] = tmp1\n",
    "        end\n",
    "    end\n",
    "    return predsummary\n",
    "end"
   ]
  },
  {
   "cell_type": "code",
   "execution_count": null,
   "metadata": {
    "collapsed": false
   },
   "outputs": [],
   "source": [
    "pxs = buildPredSummary(preds, xs)"
   ]
  },
  {
   "cell_type": "code",
   "execution_count": null,
   "metadata": {
    "collapsed": false
   },
   "outputs": [],
   "source": [
    "unpackZeros(xs[1])"
   ]
  },
  {
   "cell_type": "code",
   "execution_count": null,
   "metadata": {
    "collapsed": false
   },
   "outputs": [],
   "source": [
    "x_ss"
   ]
  },
  {
   "cell_type": "code",
   "execution_count": null,
   "metadata": {
    "collapsed": false
   },
   "outputs": [],
   "source": [
    "rougeF1(geti_n(sumry_ss, 1, 2), nuggets, K)"
   ]
  },
  {
   "cell_type": "code",
   "execution_count": null,
   "metadata": {
    "collapsed": false
   },
   "outputs": [],
   "source": [
    "rougePrecision({unpackZeros(xs[1]), unpackZeros(xs[2]), unpackZeros(xs[3])}, nuggets, 3)"
   ]
  },
  {
   "cell_type": "code",
   "execution_count": null,
   "metadata": {
    "collapsed": false
   },
   "outputs": [],
   "source": [
    "preds[1], unpackZeros(xs[1])"
   ]
  },
  {
   "cell_type": "code",
   "execution_count": null,
   "metadata": {
    "collapsed": false
   },
   "outputs": [],
   "source": [
    "preds[1]"
   ]
  },
  {
   "cell_type": "code",
   "execution_count": null,
   "metadata": {
    "collapsed": false
   },
   "outputs": [],
   "source": [
    "out = {}\n",
    "out[1] = zero_or_x(preds[1], unpackZeros(xs[1]))"
   ]
  },
  {
   "cell_type": "code",
   "execution_count": null,
   "metadata": {
    "collapsed": false
   },
   "outputs": [],
   "source": [
    "out[2] =  zero_or_x(preds[2], unpackZeros(xs[2]))\n",
    "out[3] =  zero_or_x(preds[3], unpackZeros(xs[3]))"
   ]
  },
  {
   "cell_type": "code",
   "execution_count": null,
   "metadata": {
    "collapsed": true
   },
   "outputs": [],
   "source": [
    "tmp_preds  = {preds[1], preds[2], preds[3] }\n",
    "tmp_xs = {unpackZeros(xs[1]), unpackZeros(xs[2]), unpackZeros(xs[3])} "
   ]
  },
  {
   "cell_type": "code",
   "execution_count": null,
   "metadata": {
    "collapsed": false
   },
   "outputs": [],
   "source": [
    "tmp_xs[1]"
   ]
  },
  {
   "cell_type": "code",
   "execution_count": null,
   "metadata": {
    "collapsed": true
   },
   "outputs": [],
   "source": [
    "function buildPredSummary(preds, xs)\n",
    "    local out = {}\n",
    "    for i=1, #xs do\n",
    "        if i == 1 then \n",
    "            out[i] = zero_or_x(preds[i], unpackZeros(xs[i]))\n",
    "        else \n",
    "            --- Update it by adding xs_i and out_{i-1}\n",
    "            out[i] =  zero_or_x(preds[i], unpackZeros(xs[i]))\n",
    "        end\n",
    "    end\n",
    "    return out\n",
    "end"
   ]
  },
  {
   "cell_type": "code",
   "execution_count": null,
   "metadata": {
    "collapsed": false
   },
   "outputs": [],
   "source": [
    "tst = buildPredSummary(geti_n(tmp_preds, 1, 2), tmp_xs)"
   ]
  },
  {
   "cell_type": "code",
   "execution_count": null,
   "metadata": {
    "collapsed": false
   },
   "outputs": [],
   "source": [
    "rougeF1(tst, nuggets)"
   ]
  },
  {
   "cell_type": "code",
   "execution_count": null,
   "metadata": {
    "collapsed": false
   },
   "outputs": [],
   "source": [
    "for i=1, 9 do\n",
    "    print(rougePrecision(buildPredSummary(geti_n(preds, 1, i), geti_n(xout, 1, i)), nuggets))\n",
    "end"
   ]
  },
  {
   "cell_type": "code",
   "execution_count": null,
   "metadata": {
    "collapsed": true
   },
   "outputs": [],
   "source": []
  }
 ],
 "metadata": {
  "kernelspec": {
   "display_name": "iTorch",
   "language": "lua",
   "name": "itorch"
  },
  "language_info": {
   "name": "lua",
   "version": "5.1"
  }
 },
 "nbformat": 4,
 "nbformat_minor": 0
}
