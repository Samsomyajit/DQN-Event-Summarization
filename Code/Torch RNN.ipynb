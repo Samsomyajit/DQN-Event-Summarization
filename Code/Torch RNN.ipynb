{
 "cells": [
  {
   "cell_type": "code",
   "execution_count": null,
   "metadata": {
    "collapsed": false
   },
   "outputs": [],
   "source": [
    "function zero_or_x(pred_action, xs)\n",
    "    if pred_action==1 then\n",
    "        return xs\n",
    "    else \n",
    "        return {0}\n",
    "    end\n",
    "end\n",
    "function buildSummary(preds, xs, maxlen)\n",
    "    local out = {}\n",
    "    for i=1, #xs do\n",
    "        if i == 1 then \n",
    "            out[i] = zero_or_x(preds[i], unpackZeros(xs[i]))\n",
    "        else \n",
    "            --- Update it by adding xs_i and out_{i-1}\n",
    "            out[i] = tableConcat(zero_or_x(preds[i], unpackZeros(xs[i])), out[i-1])\n",
    "        end\n",
    "    end\n",
    "    if maxlen == 0 then\n",
    "        maxlen = 0\n",
    "        for k,v in pairs(out) do\n",
    "            maxlen = math.max(maxlen, #v)\n",
    "        end\n",
    "    end\n",
    "    outpadded = padZeros(out, maxlen)\n",
    "    return outpadded\n",
    "end"
   ]
  },
  {
   "cell_type": "code",
   "execution_count": null,
   "metadata": {
    "collapsed": false
   },
   "outputs": [],
   "source": [
    "-- out = buildSummary(preds, xs, 0)"
   ]
  },
  {
   "cell_type": "markdown",
   "metadata": {},
   "source": [
    "# Starting model here"
   ]
  },
  {
   "cell_type": "code",
   "execution_count": 1,
   "metadata": {
    "collapsed": false
   },
   "outputs": [
    {
     "data": {
      "text/plain": [
       "...Utils file loaded\t\n"
      ]
     },
     "execution_count": 1,
     "metadata": {},
     "output_type": "execute_result"
    },
    {
     "data": {
      "text/plain": [
       "<csv>\tparsing file: /Users/franciscojavierarceo/GitHub/DeepNLPQLearning/DO_NOT_UPLOAD_THIS_DATA/0-output/2012_aurora_shooting_first_sentence_numtext.csv\t\n"
      ]
     },
     "execution_count": 1,
     "metadata": {},
     "output_type": "execute_result"
    },
    {
     "data": {
      "text/plain": [
       "<csv>\tparsing done\t\n",
       "<csv>\tparsing file: /Users/franciscojavierarceo/GitHub/DeepNLPQLearning/DO_NOT_UPLOAD_THIS_DATA/0-output/aurora_nuggets_numtext.csv\t\n",
       "<csv>\tparsing done\t\n"
      ]
     },
     "execution_count": 1,
     "metadata": {},
     "output_type": "execute_result"
    },
    {
     "data": {
      "text/plain": [
       "<csv>\tparsing file: /Users/franciscojavierarceo/GitHub/DeepNLPQLearning/DO_NOT_UPLOAD_THIS_DATA/0-output/queries_numtext.csv\t\n",
       "<csv>\tparsing done\t\n"
      ]
     },
     "execution_count": 1,
     "metadata": {},
     "output_type": "execute_result"
    }
   ],
   "source": [
    "require 'torch'\n",
    "require 'nn'\n",
    "require 'rnn'\n",
    "require 'csvigo'\n",
    "\n",
    "--- Loading utility script\n",
    "dofile(\"utils.lua\")\n",
    "dofile(\"model_utils.lua\")\n",
    "\n",
    "aurora_fn = '~/GitHub/DeepNLPQLearning/DO_NOT_UPLOAD_THIS_DATA/0-output/2012_aurora_shooting_first_sentence_numtext.csv'\n",
    "nugget_fn = '~/GitHub/DeepNLPQLearning/DO_NOT_UPLOAD_THIS_DATA/0-output/aurora_nuggets_numtext.csv'\n",
    "query_fn = '~/GitHub/DeepNLPQLearning/DO_NOT_UPLOAD_THIS_DATA/0-output/queries_numtext.csv'\n",
    "\n",
    "data_file = csvigo.load({path = aurora_fn, mode = \"large\"})\n",
    "nugget_file = csvigo.load({path = nugget_fn, mode = \"large\"})\n",
    "query_file =  csvigo.load({path = query_fn, mode = \"large\"})\n",
    "\n",
    "rK = 500\n",
    "batch_size = 500\n",
    "nepochs = 10\n",
    "print_every = 1\n",
    "embed_dim = 10\n",
    "learning_rate = 0.1\n",
    "\n",
    "cuts = 4.                  --- This is the number of cuts we want\n",
    "epsilon = 1.\n",
    "base_explore_rate = 0.1\n",
    "delta = 1./(nepochs/cuts) --- Only using epsilon greedy strategy for (nepochs/cuts)% of the epochs\n",
    "\n",
    "cuda = true\n",
    "torch.manualSeed(420)\n",
    "\n",
    "function build_network(vocab_size, embed_dim)\n",
    "    local model = nn.Sequential()\n",
    "    :add(nn.LookupTableMaskZero(vocab_size, embed_dim)) -- will return a sequence-length x batch-size x embedDim tensor\n",
    "    :add(nn.SplitTable(1, embed_dim)) -- splits into a sequence-length table with batch-size x embedDim entries\n",
    "    :add(nn.Sequencer(nn.LSTM(embed_dim, embed_dim)))\n",
    "    :add(nn.SelectTable(-1)) -- selects last state of the LSTM\n",
    "    :add(nn.Linear(embed_dim, embed_dim)) -- map last state to a score for classification\n",
    "    :add(nn.ReLU())\n",
    "   return model\n",
    "end\n",
    "\n",
    "function build_model(vocab_size, embed_dim, outputSize)\n",
    "    local mod1 = build_network(vocab_size, embed_dim)\n",
    "    local mod2 = build_network(vocab_size, embed_dim)\n",
    "    local mod3 = build_network(vocab_size, embed_dim)\n",
    "\n",
    "    local mlp1 = nn.Sequential()\n",
    "    mlp1:add(nn.Linear(1, embed_dim))\n",
    "    mlp1:add(nn.ReLU())\n",
    "\n",
    "    local ParallelModel = nn.ParallelTable()\n",
    "    ParallelModel:add(mod1)\n",
    "    ParallelModel:add(mod2)\n",
    "    ParallelModel:add(mod3)\n",
    "    ParallelModel:add(mlp1)\n",
    "\n",
    "    local FinalMLP = nn.Sequential()\n",
    "    FinalMLP:add(ParallelModel)\n",
    "    FinalMLP:add(nn.JoinTable(2))\n",
    "    FinalMLP:add( nn.Linear(embed_dim * 4, outputSize) )\n",
    "    return FinalMLP\n",
    "end\n",
    "\n",
    "vocab_sized = getVocabSize(data_file)                       --- getting length of dictionary\n",
    "vocab_sizeq = getVocabSize(query_file)                      --- getting length of dictionary\n",
    "vocab_size = math.max(vocab_sized, vocab_sizeq)\n",
    "\n",
    "queries = grabNsamples(query_file, #query_file-1, nil)      --- Extracting all queries\n",
    "nuggets = grabNsamples(nugget_file, #nugget_file-1, nil)    --- Extracting all samples\n",
    "maxseqlend = getMaxseq(data_file)                             --- Extracting maximum sequence length\n",
    "maxseqlenq = getMaxseq(query_file)                            --- Extracting maximum sequence length\n",
    "maxseqlen = math.max(maxseqlenq, maxseqlend)\n",
    "\n",
    "batchLSTM = build_model(vocab_size, embed_dim, 1)\n",
    "crit = nn.MSECriterion()\n",
    "\n",
    "-- out = iterateModel( batch_size, nepochs, queries[3], data_file, batchLSTM, crit, epsilon, delta, \n",
    "--                     maxseqlen, base_explore_rate, print_every, nuggets, learning_rate, rK)\n"
   ]
  },
  {
   "cell_type": "code",
   "execution_count": 3,
   "metadata": {
    "collapsed": false
   },
   "outputs": [],
   "source": [
    "-- batch_size = batch_size\n",
    "-- nepochs = nepochs\n",
    "qs = queries[3]\n",
    "x = data_file\n",
    "model = batchLSTM\n",
    "crit = crit \n",
    "-- epsilon\n",
    "-- delta\n",
    "mxl = maxseqlen\n",
    "batch_size = 10\n",
    "nepochs = 1\n",
    "-- base_explore_rate = base_explore_rate\n",
    "-- print_every = print_every\n",
    "-- nuggets = nuggets\n",
    "-- learning_rate = learning_rate\n",
    "K = rK"
   ]
  },
  {
   "cell_type": "code",
   "execution_count": 4,
   "metadata": {
    "collapsed": false
   },
   "outputs": [
    {
     "data": {
      "text/plain": [
       "training model...\t\n"
      ]
     },
     "execution_count": 4,
     "metadata": {},
     "output_type": "execute_result"
    },
    {
     "data": {
      "text/plain": [
       "scoring...\t\n"
      ]
     },
     "execution_count": 4,
     "metadata": {},
     "output_type": "execute_result"
    },
    {
     "data": {
      "text/plain": [
       "...scored\t\n"
      ]
     },
     "execution_count": 4,
     "metadata": {},
     "output_type": "execute_result"
    },
    {
     "data": {
      "text/plain": [
       "scoring...\t\n"
      ]
     },
     "execution_count": 4,
     "metadata": {},
     "output_type": "execute_result"
    },
    {
     "data": {
      "text/plain": [
       "...scored\t\n"
      ]
     },
     "execution_count": 4,
     "metadata": {},
     "output_type": "execute_result"
    }
   ],
   "source": [
    "rscores, pscores, fscores = {}, {}, {}\n",
    "yrouge = torch.totable(torch.randn(#x))\n",
    "summary_list = populateOnes(#x, K)\n",
    "action_list = torch.totable(torch.round(torch.randn(#x)))\n",
    "preds_list = torch.totable(torch.round(torch.rand(#x)))\n",
    "print(\"training model...\")\n",
    "for epoch=0, nepochs, 1 do\n",
    "    loss = 0                    --- Compute a new MSE loss each time\n",
    "    --- Reset the rougue each time\n",
    "     r_t1 , p_t1, f_t1 = 0., 0., 0.\n",
    "    --- Looping over each bach of sentences for a given query\n",
    "     nbatches = torch.floor( #x / batch_size)\n",
    "    for minibatch = 1, nbatches do\n",
    "        if minibatch == 1 then          -- Need +1 to skip the first row\n",
    "            nstart = 2\n",
    "            nend = torch.round(batch_size * minibatch)\n",
    "        end\n",
    "        if minibatch == nbatches then \n",
    "            nstart = nend + 1\n",
    "            nend = #x\n",
    "        end\n",
    "        if minibatch > 1 and minibatch < nbatches then \n",
    "            nstart = nend + 1\n",
    "            nend = torch.round(batch_size * minibatch)\n",
    "        end\n",
    "        --- This step is processing the data\n",
    "         x_ss  = geti_n(x, nstart, nend)\n",
    "         xout  = grabNsamples(x_ss, 1, #x_ss)     --- Extracting N samples\n",
    "         xs  = padZeros(xout, mxl)                 --- Padding the data by the maximum length\n",
    "         qs2 = padZeros({qs}, 5)\n",
    "         qrep = repeatQuery(qs2[1], #xs)\n",
    "         preds = geti_n(preds_list, nstart, nend)\n",
    "         sumry_ss = buildSummary(preds, xs, 0)\n",
    "         sentences = torch.LongTensor(xs):t()\n",
    "         summary = torch.LongTensor(sumry_ss):t()\n",
    "         query = torch.LongTensor(qrep):t()\n",
    "         actions = torch.Tensor(geti_n(action_list, nstart, nend)):resize(#xs, 1)\n",
    "         labels = torch.Tensor(geti_n(yrouge, nstart, nend))\n",
    "        print('scoring...')\n",
    "        myPreds = model:forward({sentences, summary, query, actions})\n",
    "        print('...scored')\n",
    "        loss = loss + crit:forward(myPreds, labels)\n",
    "        grads = crit:backward(myPreds, labels)\n",
    "        model:backward({sentences, summary, query, actions}, grads)\n",
    "        model:updateParameters(learning_rate)        -- Update parameters after each minibatch\n",
    "        model:zeroGradParameters()\n",
    "        preds = policy(myPreds, epsilon, #xs)\n",
    "        --- Concatenating predictions into a summary\n",
    "        predsummary = buildPredSummary(preds, xs, K)\n",
    "        --- Initializing rouge metrics at time {t-1} and save scores\n",
    "        for i=1, #predsummary do\n",
    "            --- Calculating rouge scores; Call get_i_n() to cumulatively compute rouge\n",
    "            rscores[i] = rougeRecall(geti_n(predsummary, 1, i), nuggets, K) - r_t1\n",
    "            pscores[i] = rougePrecision(geti_n(predsummary, 1, i), nuggets, K) - p_t1\n",
    "            fscores[i] = rougeF1(geti_n(predsummary, 1, i), nuggets, K) - f_t1\n",
    "            r_t1, p_t1, f_t1 = rscores[i], pscores[i], fscores[i]\n",
    "        end\n",
    "        --- Updating change in rouge\n",
    "        yrouge = updateTable(yrouge, fscores, nstart)\n",
    "        preds_list = updateTable(preds_list, preds, nstart)\n",
    "        --- Calculating last one to see actual last rouge, without delta\n",
    "        rscore = rougeRecall(predsummary, nuggets, K)\n",
    "        pscore = rougePrecision(predsummary, nuggets, K)\n",
    "        fscore = rougeF1(predsummary, nuggets, K)\n",
    "        -- print(string.format('\\t Mini-batch %i/%i', minibatch, nbatches) )\n",
    "        break\n",
    "        if (epoch % print_every)==0 then\n",
    "             -- This line is useful to view the min and max of the predctions\n",
    "            -- if epoch > 0 then  print(myPreds:min(), myPreds:max()) end\n",
    "            perf_string = string.format(\n",
    "                \"Epoch %i, {Recall = %.6f, Precision = %.6f, F1 = %.6f}\", \n",
    "                epoch, rscore, pscore, fscore\n",
    "                )\n",
    "            -- perf_string = string.format(\n",
    "            --     \"Epoch %i, sum(y)/len(y) = %i/%i, {Recall = %.6f, Precision = %.6f, F1 = %.6f}\", \n",
    "            --     epoch, sumTable(preds_list), #preds_list, rscore, pscore, fscore\n",
    "            --     )\n",
    "            print(perf_string)\n",
    "        end\n",
    "    end\n",
    "    epsilon = epsilon - delta           --- Decreasing the epsilon greedy strategy\n",
    "    if epsilon <= 0 then                --- leave a random exploration rate\n",
    "        epsilon = base_explore_rate\n",
    "    end\n",
    "end"
   ]
  },
  {
   "cell_type": "code",
   "execution_count": 6,
   "metadata": {
    "collapsed": false
   },
   "outputs": [
    {
     "data": {
      "text/plain": [
       " 44\n",
       "  9\n",
       "[torch.LongStorage of size 2]\n",
       "\n"
      ]
     },
     "execution_count": 6,
     "metadata": {},
     "output_type": "execute_result"
    }
   ],
   "source": [
    "#summary"
   ]
  },
  {
   "cell_type": "code",
   "execution_count": null,
   "metadata": {
    "collapsed": true
   },
   "outputs": [],
   "source": []
  }
 ],
 "metadata": {
  "kernelspec": {
   "display_name": "iTorch",
   "language": "lua",
   "name": "itorch"
  },
  "language_info": {
   "name": "lua",
   "version": "5.1"
  }
 },
 "nbformat": 4,
 "nbformat_minor": 0
}
