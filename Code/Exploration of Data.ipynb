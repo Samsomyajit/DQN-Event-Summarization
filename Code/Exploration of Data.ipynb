{
 "cells": [
  {
   "cell_type": "code",
   "execution_count": 1,
   "metadata": {
    "collapsed": false
   },
   "outputs": [],
   "source": [
    "import os\n",
    "import numpy as np\n",
    "import pandas as pd\n",
    "from bs4 import BeautifulSoup"
   ]
  },
  {
   "cell_type": "markdown",
   "metadata": {},
   "source": [
    "## Steps to build pipeline\n",
    "\n",
    "1. Tokenize the query\n",
    "2. Tokenize the streams\n",
    "3. Tokenize the stream\n",
    "\n",
    "Run LSTM on query"
   ]
  },
  {
   "cell_type": "code",
   "execution_count": 2,
   "metadata": {
    "collapsed": false
   },
   "outputs": [
    {
     "data": {
      "text/plain": [
       "['0-output',\n",
       " '2012_aurora_shooting.tsv.gz',\n",
       " '2012_pakistan_garment_factory_fires.tsv.gz',\n",
       " 'hurricane_sandy.tsv.gz',\n",
       " 'wisconsin_sikh_temple_shooting.tsv.gz']"
      ]
     },
     "execution_count": 2,
     "metadata": {},
     "output_type": "execute_result"
    }
   ],
   "source": [
    "os.chdir('/Users/franciscojavierarceo/GitHub/DeepNLPQLearning/DO_NOT_UPLOAD_THIS_DATA/corpus-data/')\n",
    "os.listdir('./')"
   ]
  },
  {
   "cell_type": "code",
   "execution_count": 3,
   "metadata": {
    "collapsed": true
   },
   "outputs": [],
   "source": [
    "df1 = pd.read_csv('./2012_aurora_shooting.tsv.gz', sep='\\t')\n",
    "df2 = pd.read_csv('./2012_pakistan_garment_factory_fires.tsv.gz', sep='\\t')\n",
    "df3 = pd.read_csv('./hurricane_sandy.tsv.gz', sep='\\t')\n",
    "df4 = pd.read_csv('./wisconsin_sikh_temple_shooting.tsv.gz', sep='\\t')"
   ]
  },
  {
   "cell_type": "code",
   "execution_count": 4,
   "metadata": {
    "collapsed": false
   },
   "outputs": [
    {
     "name": "stdout",
     "output_type": "stream",
     "text": [
      "Monument man to ride in Courage Classic for son - OutThereColorado.com\n",
      "They 're cycling for those they care for , for those they know , and for those they nurture .\n"
     ]
    }
   ],
   "source": [
    "# Title is the title of the article\n",
    "print df1[df1['stream id']=='1342767285-e9b3e7dc6a9e31c8b2301848ab082117'].title[1]\n",
    "# Each text is a stream (i.e., a sentence from the article)\n",
    "print df1[df1['stream id']=='1342767285-e9b3e7dc6a9e31c8b2301848ab082117'].text[1]"
   ]
  },
  {
   "cell_type": "code",
   "execution_count": 5,
   "metadata": {
    "collapsed": false,
    "scrolled": true
   },
   "outputs": [
    {
     "data": {
      "text/html": [
       "<div>\n",
       "<table border=\"1\" class=\"dataframe\">\n",
       "  <thead>\n",
       "    <tr style=\"text-align: right;\">\n",
       "      <th></th>\n",
       "      <th>hour</th>\n",
       "      <th>score</th>\n",
       "      <th>stream id</th>\n",
       "      <th>url</th>\n",
       "      <th>title</th>\n",
       "      <th>sentence</th>\n",
       "      <th>text</th>\n",
       "    </tr>\n",
       "  </thead>\n",
       "  <tbody>\n",
       "    <tr>\n",
       "      <th>0</th>\n",
       "      <td>0</td>\n",
       "      <td>13.591976</td>\n",
       "      <td>1342767285-e9b3e7dc6a9e31c8b2301848ab082117</td>\n",
       "      <td>http://articles.outtherecolorado.com/articles/...</td>\n",
       "      <td>Monument man to ride in Courage Classic for so...</td>\n",
       "      <td>0</td>\n",
       "      <td>Jason Mezey -LRB- right -RRB- and fellow Coura...</td>\n",
       "    </tr>\n",
       "    <tr>\n",
       "      <th>1</th>\n",
       "      <td>0</td>\n",
       "      <td>13.591976</td>\n",
       "      <td>1342767285-e9b3e7dc6a9e31c8b2301848ab082117</td>\n",
       "      <td>http://articles.outtherecolorado.com/articles/...</td>\n",
       "      <td>Monument man to ride in Courage Classic for so...</td>\n",
       "      <td>1</td>\n",
       "      <td>They 're cycling for those they care for , for...</td>\n",
       "    </tr>\n",
       "    <tr>\n",
       "      <th>2</th>\n",
       "      <td>0</td>\n",
       "      <td>13.591976</td>\n",
       "      <td>1342767285-e9b3e7dc6a9e31c8b2301848ab082117</td>\n",
       "      <td>http://articles.outtherecolorado.com/articles/...</td>\n",
       "      <td>Monument man to ride in Courage Classic for so...</td>\n",
       "      <td>2</td>\n",
       "      <td>For one cyclist , Monument resident Jason Meze...</td>\n",
       "    </tr>\n",
       "    <tr>\n",
       "      <th>3</th>\n",
       "      <td>0</td>\n",
       "      <td>13.591976</td>\n",
       "      <td>1342767285-e9b3e7dc6a9e31c8b2301848ab082117</td>\n",
       "      <td>http://articles.outtherecolorado.com/articles/...</td>\n",
       "      <td>Monument man to ride in Courage Classic for so...</td>\n",
       "      <td>3</td>\n",
       "      <td>The infant has one full left arm , half of his...</td>\n",
       "    </tr>\n",
       "    <tr>\n",
       "      <th>4</th>\n",
       "      <td>0</td>\n",
       "      <td>13.591976</td>\n",
       "      <td>1342767285-e9b3e7dc6a9e31c8b2301848ab082117</td>\n",
       "      <td>http://articles.outtherecolorado.com/articles/...</td>\n",
       "      <td>Monument man to ride in Courage Classic for so...</td>\n",
       "      <td>4</td>\n",
       "      <td>`` Dillon is a normally functioning , healthy ...</td>\n",
       "    </tr>\n",
       "  </tbody>\n",
       "</table>\n",
       "</div>"
      ],
      "text/plain": [
       "   hour      score                                    stream id  \\\n",
       "0     0  13.591976  1342767285-e9b3e7dc6a9e31c8b2301848ab082117   \n",
       "1     0  13.591976  1342767285-e9b3e7dc6a9e31c8b2301848ab082117   \n",
       "2     0  13.591976  1342767285-e9b3e7dc6a9e31c8b2301848ab082117   \n",
       "3     0  13.591976  1342767285-e9b3e7dc6a9e31c8b2301848ab082117   \n",
       "4     0  13.591976  1342767285-e9b3e7dc6a9e31c8b2301848ab082117   \n",
       "\n",
       "                                                 url  \\\n",
       "0  http://articles.outtherecolorado.com/articles/...   \n",
       "1  http://articles.outtherecolorado.com/articles/...   \n",
       "2  http://articles.outtherecolorado.com/articles/...   \n",
       "3  http://articles.outtherecolorado.com/articles/...   \n",
       "4  http://articles.outtherecolorado.com/articles/...   \n",
       "\n",
       "                                               title  sentence  \\\n",
       "0  Monument man to ride in Courage Classic for so...         0   \n",
       "1  Monument man to ride in Courage Classic for so...         1   \n",
       "2  Monument man to ride in Courage Classic for so...         2   \n",
       "3  Monument man to ride in Courage Classic for so...         3   \n",
       "4  Monument man to ride in Courage Classic for so...         4   \n",
       "\n",
       "                                                text  \n",
       "0  Jason Mezey -LRB- right -RRB- and fellow Coura...  \n",
       "1  They 're cycling for those they care for , for...  \n",
       "2  For one cyclist , Monument resident Jason Meze...  \n",
       "3  The infant has one full left arm , half of his...  \n",
       "4  `` Dillon is a normally functioning , healthy ...  "
      ]
     },
     "execution_count": 5,
     "metadata": {},
     "output_type": "execute_result"
    }
   ],
   "source": [
    "df1.head()"
   ]
  },
  {
   "cell_type": "code",
   "execution_count": 6,
   "metadata": {
    "collapsed": false,
    "scrolled": true
   },
   "outputs": [
    {
     "data": {
      "text/html": [
       "<div>\n",
       "<table border=\"1\" class=\"dataframe\">\n",
       "  <thead>\n",
       "    <tr style=\"text-align: right;\">\n",
       "      <th></th>\n",
       "      <th>hour</th>\n",
       "      <th>score</th>\n",
       "      <th>stream id</th>\n",
       "      <th>url</th>\n",
       "      <th>title</th>\n",
       "      <th>sentence</th>\n",
       "      <th>text</th>\n",
       "    </tr>\n",
       "  </thead>\n",
       "  <tbody>\n",
       "    <tr>\n",
       "      <th>0</th>\n",
       "      <td>0</td>\n",
       "      <td>14.635408</td>\n",
       "      <td>1347369130-aa4ff946adb6599b137feb38281c4018</td>\n",
       "      <td>http://menmedia.co.uk/manchestereveningnews/ne...</td>\n",
       "      <td>Trio arrested over fire which destroyed Radcli...</td>\n",
       "      <td>0</td>\n",
       "      <td>Three men have been arrested on suspicion of a...</td>\n",
       "    </tr>\n",
       "    <tr>\n",
       "      <th>1</th>\n",
       "      <td>0</td>\n",
       "      <td>14.635408</td>\n",
       "      <td>1347369130-aa4ff946adb6599b137feb38281c4018</td>\n",
       "      <td>http://menmedia.co.uk/manchestereveningnews/ne...</td>\n",
       "      <td>Trio arrested over fire which destroyed Radcli...</td>\n",
       "      <td>1</td>\n",
       "      <td>The men - aged 26 , 21 and 18 - have been ques...</td>\n",
       "    </tr>\n",
       "    <tr>\n",
       "      <th>2</th>\n",
       "      <td>0</td>\n",
       "      <td>14.635408</td>\n",
       "      <td>1347369130-aa4ff946adb6599b137feb38281c4018</td>\n",
       "      <td>http://menmedia.co.uk/manchestereveningnews/ne...</td>\n",
       "      <td>Trio arrested over fire which destroyed Radcli...</td>\n",
       "      <td>2</td>\n",
       "      <td>Around 100 homes had to be evacuated because o...</td>\n",
       "    </tr>\n",
       "    <tr>\n",
       "      <th>3</th>\n",
       "      <td>0</td>\n",
       "      <td>14.635408</td>\n",
       "      <td>1347369130-aa4ff946adb6599b137feb38281c4018</td>\n",
       "      <td>http://menmedia.co.uk/manchestereveningnews/ne...</td>\n",
       "      <td>Trio arrested over fire which destroyed Radcli...</td>\n",
       "      <td>3</td>\n",
       "      <td>No-one was hurt .</td>\n",
       "    </tr>\n",
       "    <tr>\n",
       "      <th>4</th>\n",
       "      <td>0</td>\n",
       "      <td>14.635408</td>\n",
       "      <td>1347369130-aa4ff946adb6599b137feb38281c4018</td>\n",
       "      <td>http://menmedia.co.uk/manchestereveningnews/ne...</td>\n",
       "      <td>Trio arrested over fire which destroyed Radcli...</td>\n",
       "      <td>4</td>\n",
       "      <td>Forensic investigators from Greater Manchester...</td>\n",
       "    </tr>\n",
       "  </tbody>\n",
       "</table>\n",
       "</div>"
      ],
      "text/plain": [
       "   hour      score                                    stream id  \\\n",
       "0     0  14.635408  1347369130-aa4ff946adb6599b137feb38281c4018   \n",
       "1     0  14.635408  1347369130-aa4ff946adb6599b137feb38281c4018   \n",
       "2     0  14.635408  1347369130-aa4ff946adb6599b137feb38281c4018   \n",
       "3     0  14.635408  1347369130-aa4ff946adb6599b137feb38281c4018   \n",
       "4     0  14.635408  1347369130-aa4ff946adb6599b137feb38281c4018   \n",
       "\n",
       "                                                 url  \\\n",
       "0  http://menmedia.co.uk/manchestereveningnews/ne...   \n",
       "1  http://menmedia.co.uk/manchestereveningnews/ne...   \n",
       "2  http://menmedia.co.uk/manchestereveningnews/ne...   \n",
       "3  http://menmedia.co.uk/manchestereveningnews/ne...   \n",
       "4  http://menmedia.co.uk/manchestereveningnews/ne...   \n",
       "\n",
       "                                               title  sentence  \\\n",
       "0  Trio arrested over fire which destroyed Radcli...         0   \n",
       "1  Trio arrested over fire which destroyed Radcli...         1   \n",
       "2  Trio arrested over fire which destroyed Radcli...         2   \n",
       "3  Trio arrested over fire which destroyed Radcli...         3   \n",
       "4  Trio arrested over fire which destroyed Radcli...         4   \n",
       "\n",
       "                                                text  \n",
       "0  Three men have been arrested on suspicion of a...  \n",
       "1  The men - aged 26 , 21 and 18 - have been ques...  \n",
       "2  Around 100 homes had to be evacuated because o...  \n",
       "3                                  No-one was hurt .  \n",
       "4  Forensic investigators from Greater Manchester...  "
      ]
     },
     "execution_count": 6,
     "metadata": {},
     "output_type": "execute_result"
    }
   ],
   "source": [
    "df2.head()"
   ]
  },
  {
   "cell_type": "code",
   "execution_count": 7,
   "metadata": {
    "collapsed": false,
    "scrolled": true
   },
   "outputs": [
    {
     "data": {
      "text/html": [
       "<div>\n",
       "<table border=\"1\" class=\"dataframe\">\n",
       "  <thead>\n",
       "    <tr style=\"text-align: right;\">\n",
       "      <th></th>\n",
       "      <th>hour</th>\n",
       "      <th>score</th>\n",
       "      <th>stream id</th>\n",
       "      <th>url</th>\n",
       "      <th>title</th>\n",
       "      <th>sentence</th>\n",
       "      <th>text</th>\n",
       "    </tr>\n",
       "  </thead>\n",
       "  <tbody>\n",
       "    <tr>\n",
       "      <th>0</th>\n",
       "      <td>0</td>\n",
       "      <td>27.31798</td>\n",
       "      <td>1351093540-7889486104cb75da1b70dbca8cd22296</td>\n",
       "      <td>http://www2.wspa.com/news/2012/oct/24/2/soaked...</td>\n",
       "      <td>Sandy Reaches Hurricane Status | WSPA</td>\n",
       "      <td>0</td>\n",
       "      <td>hurricane Sandy as of 11:00 a.m. Wednesday .</td>\n",
       "    </tr>\n",
       "    <tr>\n",
       "      <th>1</th>\n",
       "      <td>0</td>\n",
       "      <td>27.31798</td>\n",
       "      <td>1351093540-7889486104cb75da1b70dbca8cd22296</td>\n",
       "      <td>http://www2.wspa.com/news/2012/oct/24/2/soaked...</td>\n",
       "      <td>Sandy Reaches Hurricane Status | WSPA</td>\n",
       "      <td>1</td>\n",
       "      <td>Sandy is now a category one hurricane .</td>\n",
       "    </tr>\n",
       "    <tr>\n",
       "      <th>2</th>\n",
       "      <td>0</td>\n",
       "      <td>27.31798</td>\n",
       "      <td>1351093540-7889486104cb75da1b70dbca8cd22296</td>\n",
       "      <td>http://www2.wspa.com/news/2012/oct/24/2/soaked...</td>\n",
       "      <td>Sandy Reaches Hurricane Status | WSPA</td>\n",
       "      <td>2</td>\n",
       "      <td>The National Hurricane Center reported Hurrica...</td>\n",
       "    </tr>\n",
       "    <tr>\n",
       "      <th>3</th>\n",
       "      <td>0</td>\n",
       "      <td>27.31798</td>\n",
       "      <td>1351093540-7889486104cb75da1b70dbca8cd22296</td>\n",
       "      <td>http://www2.wspa.com/news/2012/oct/24/2/soaked...</td>\n",
       "      <td>Sandy Reaches Hurricane Status | WSPA</td>\n",
       "      <td>3</td>\n",
       "      <td>A hurricane warning is in effect for Jamaica a...</td>\n",
       "    </tr>\n",
       "    <tr>\n",
       "      <th>4</th>\n",
       "      <td>0</td>\n",
       "      <td>27.31798</td>\n",
       "      <td>1351093540-7889486104cb75da1b70dbca8cd22296</td>\n",
       "      <td>http://www2.wspa.com/news/2012/oct/24/2/soaked...</td>\n",
       "      <td>Sandy Reaches Hurricane Status | WSPA</td>\n",
       "      <td>4</td>\n",
       "      <td>The government of the Bahamas has issued a hur...</td>\n",
       "    </tr>\n",
       "  </tbody>\n",
       "</table>\n",
       "</div>"
      ],
      "text/plain": [
       "   hour     score                                    stream id  \\\n",
       "0     0  27.31798  1351093540-7889486104cb75da1b70dbca8cd22296   \n",
       "1     0  27.31798  1351093540-7889486104cb75da1b70dbca8cd22296   \n",
       "2     0  27.31798  1351093540-7889486104cb75da1b70dbca8cd22296   \n",
       "3     0  27.31798  1351093540-7889486104cb75da1b70dbca8cd22296   \n",
       "4     0  27.31798  1351093540-7889486104cb75da1b70dbca8cd22296   \n",
       "\n",
       "                                                 url  \\\n",
       "0  http://www2.wspa.com/news/2012/oct/24/2/soaked...   \n",
       "1  http://www2.wspa.com/news/2012/oct/24/2/soaked...   \n",
       "2  http://www2.wspa.com/news/2012/oct/24/2/soaked...   \n",
       "3  http://www2.wspa.com/news/2012/oct/24/2/soaked...   \n",
       "4  http://www2.wspa.com/news/2012/oct/24/2/soaked...   \n",
       "\n",
       "                                   title  sentence  \\\n",
       "0  Sandy Reaches Hurricane Status | WSPA         0   \n",
       "1  Sandy Reaches Hurricane Status | WSPA         1   \n",
       "2  Sandy Reaches Hurricane Status | WSPA         2   \n",
       "3  Sandy Reaches Hurricane Status | WSPA         3   \n",
       "4  Sandy Reaches Hurricane Status | WSPA         4   \n",
       "\n",
       "                                                text  \n",
       "0       hurricane Sandy as of 11:00 a.m. Wednesday .  \n",
       "1            Sandy is now a category one hurricane .  \n",
       "2  The National Hurricane Center reported Hurrica...  \n",
       "3  A hurricane warning is in effect for Jamaica a...  \n",
       "4  The government of the Bahamas has issued a hur...  "
      ]
     },
     "execution_count": 7,
     "metadata": {},
     "output_type": "execute_result"
    }
   ],
   "source": [
    "df3.head()"
   ]
  },
  {
   "cell_type": "code",
   "execution_count": 8,
   "metadata": {
    "collapsed": false
   },
   "outputs": [
    {
     "data": {
      "text/html": [
       "<div>\n",
       "<table border=\"1\" class=\"dataframe\">\n",
       "  <thead>\n",
       "    <tr style=\"text-align: right;\">\n",
       "      <th></th>\n",
       "      <th>hour</th>\n",
       "      <th>score</th>\n",
       "      <th>stream id</th>\n",
       "      <th>url</th>\n",
       "      <th>title</th>\n",
       "      <th>sentence</th>\n",
       "      <th>text</th>\n",
       "    </tr>\n",
       "  </thead>\n",
       "  <tbody>\n",
       "    <tr>\n",
       "      <th>0</th>\n",
       "      <td>0</td>\n",
       "      <td>21.3082</td>\n",
       "      <td>1344181816-4d5484bdb6193dc2a2b198803644c27c</td>\n",
       "      <td>http://www.thisisleicestershire.co.uk/Solar-po...</td>\n",
       "      <td>Solar power at Sikh temple | This is Leicester...</td>\n",
       "      <td>0</td>\n",
       "      <td>A Sikh temple is harnessing the sun 's rays to...</td>\n",
       "    </tr>\n",
       "    <tr>\n",
       "      <th>1</th>\n",
       "      <td>0</td>\n",
       "      <td>21.3082</td>\n",
       "      <td>1344181816-4d5484bdb6193dc2a2b198803644c27c</td>\n",
       "      <td>http://www.thisisleicestershire.co.uk/Solar-po...</td>\n",
       "      <td>Solar power at Sikh temple | This is Leicester...</td>\n",
       "      <td>1</td>\n",
       "      <td>Leicester 's Guru Tegh Bahadur Gurdwara , in E...</td>\n",
       "    </tr>\n",
       "    <tr>\n",
       "      <th>2</th>\n",
       "      <td>0</td>\n",
       "      <td>21.3082</td>\n",
       "      <td>1344181816-4d5484bdb6193dc2a2b198803644c27c</td>\n",
       "      <td>http://www.thisisleicestershire.co.uk/Solar-po...</td>\n",
       "      <td>Solar power at Sikh temple | This is Leicester...</td>\n",
       "      <td>2</td>\n",
       "      <td>The # 125,000 environmental project has been f...</td>\n",
       "    </tr>\n",
       "    <tr>\n",
       "      <th>3</th>\n",
       "      <td>0</td>\n",
       "      <td>21.3082</td>\n",
       "      <td>1344181816-4d5484bdb6193dc2a2b198803644c27c</td>\n",
       "      <td>http://www.thisisleicestershire.co.uk/Solar-po...</td>\n",
       "      <td>Solar power at Sikh temple | This is Leicester...</td>\n",
       "      <td>3</td>\n",
       "      <td>Surinderpal Singh Rai , general secretary of t...</td>\n",
       "    </tr>\n",
       "    <tr>\n",
       "      <th>4</th>\n",
       "      <td>0</td>\n",
       "      <td>21.3082</td>\n",
       "      <td>1344181816-4d5484bdb6193dc2a2b198803644c27c</td>\n",
       "      <td>http://www.thisisleicestershire.co.uk/Solar-po...</td>\n",
       "      <td>Solar power at Sikh temple | This is Leicester...</td>\n",
       "      <td>4</td>\n",
       "      <td>He said : `` It 's a huge four-storey building...</td>\n",
       "    </tr>\n",
       "  </tbody>\n",
       "</table>\n",
       "</div>"
      ],
      "text/plain": [
       "   hour    score                                    stream id  \\\n",
       "0     0  21.3082  1344181816-4d5484bdb6193dc2a2b198803644c27c   \n",
       "1     0  21.3082  1344181816-4d5484bdb6193dc2a2b198803644c27c   \n",
       "2     0  21.3082  1344181816-4d5484bdb6193dc2a2b198803644c27c   \n",
       "3     0  21.3082  1344181816-4d5484bdb6193dc2a2b198803644c27c   \n",
       "4     0  21.3082  1344181816-4d5484bdb6193dc2a2b198803644c27c   \n",
       "\n",
       "                                                 url  \\\n",
       "0  http://www.thisisleicestershire.co.uk/Solar-po...   \n",
       "1  http://www.thisisleicestershire.co.uk/Solar-po...   \n",
       "2  http://www.thisisleicestershire.co.uk/Solar-po...   \n",
       "3  http://www.thisisleicestershire.co.uk/Solar-po...   \n",
       "4  http://www.thisisleicestershire.co.uk/Solar-po...   \n",
       "\n",
       "                                               title  sentence  \\\n",
       "0  Solar power at Sikh temple | This is Leicester...         0   \n",
       "1  Solar power at Sikh temple | This is Leicester...         1   \n",
       "2  Solar power at Sikh temple | This is Leicester...         2   \n",
       "3  Solar power at Sikh temple | This is Leicester...         3   \n",
       "4  Solar power at Sikh temple | This is Leicester...         4   \n",
       "\n",
       "                                                text  \n",
       "0  A Sikh temple is harnessing the sun 's rays to...  \n",
       "1  Leicester 's Guru Tegh Bahadur Gurdwara , in E...  \n",
       "2  The # 125,000 environmental project has been f...  \n",
       "3  Surinderpal Singh Rai , general secretary of t...  \n",
       "4  He said : `` It 's a huge four-storey building...  "
      ]
     },
     "execution_count": 8,
     "metadata": {},
     "output_type": "execute_result"
    }
   ],
   "source": [
    "df4.head()"
   ]
  },
  {
   "cell_type": "code",
   "execution_count": 9,
   "metadata": {
    "collapsed": false
   },
   "outputs": [
    {
     "data": {
      "text/plain": [
       "['matches.tsv.gz',\n",
       " 'nuggets.tsv.gz',\n",
       " 'trec2013-ts-topics-test.xml',\n",
       " 'updates.tsv.gz']"
      ]
     },
     "execution_count": 9,
     "metadata": {},
     "output_type": "execute_result"
    }
   ],
   "source": [
    "os.listdir('/Users/franciscojavierarceo/GitHub/DeepNLPQLearning/DO_NOT_UPLOAD_THIS_DATA/trec-2013-data/')"
   ]
  },
  {
   "cell_type": "code",
   "execution_count": 10,
   "metadata": {
    "collapsed": false
   },
   "outputs": [],
   "source": [
    "os.chdir('/Users/franciscojavierarceo/GitHub/DeepNLPQLearning/DO_NOT_UPLOAD_THIS_DATA/trec-2013-data/')"
   ]
  },
  {
   "cell_type": "code",
   "execution_count": 11,
   "metadata": {
    "collapsed": false
   },
   "outputs": [],
   "source": [
    "df5 = pd.read_csv('./nuggets.tsv.gz', sep='\\t')\n",
    "df6 = pd.read_csv('./matches.tsv.gz', sep='\\t')\n",
    "df7 = pd.read_csv('./updates.tsv.gz', sep='\\t')"
   ]
  },
  {
   "cell_type": "code",
   "execution_count": 12,
   "metadata": {
    "collapsed": false,
    "scrolled": true
   },
   "outputs": [
    {
     "data": {
      "text/html": [
       "<div>\n",
       "<table border=\"1\" class=\"dataframe\">\n",
       "  <thead>\n",
       "    <tr style=\"text-align: right;\">\n",
       "      <th></th>\n",
       "      <th>query_id</th>\n",
       "      <th>nugget_id</th>\n",
       "      <th>timestamp</th>\n",
       "      <th>importance</th>\n",
       "      <th>nugget_len</th>\n",
       "      <th>nugget_text</th>\n",
       "    </tr>\n",
       "  </thead>\n",
       "  <tbody>\n",
       "    <tr>\n",
       "      <th>0</th>\n",
       "      <td>TS13.1</td>\n",
       "      <td>VMTS13.01.050</td>\n",
       "      <td>1329945286</td>\n",
       "      <td>3</td>\n",
       "      <td>6</td>\n",
       "      <td>train accident in Buenos Aires, Argentina.</td>\n",
       "    </tr>\n",
       "    <tr>\n",
       "      <th>1</th>\n",
       "      <td>TS13.1</td>\n",
       "      <td>VMTS13.01.051</td>\n",
       "      <td>1329945286</td>\n",
       "      <td>3</td>\n",
       "      <td>4</td>\n",
       "      <td>unknown number were killed</td>\n",
       "    </tr>\n",
       "    <tr>\n",
       "      <th>2</th>\n",
       "      <td>TS13.1</td>\n",
       "      <td>VMTS13.01.052</td>\n",
       "      <td>1329945286</td>\n",
       "      <td>3</td>\n",
       "      <td>2</td>\n",
       "      <td>Hundreds injured</td>\n",
       "    </tr>\n",
       "    <tr>\n",
       "      <th>3</th>\n",
       "      <td>TS13.1</td>\n",
       "      <td>VMTS13.01.053</td>\n",
       "      <td>1329946985</td>\n",
       "      <td>1</td>\n",
       "      <td>2</td>\n",
       "      <td>in 2012</td>\n",
       "    </tr>\n",
       "    <tr>\n",
       "      <th>4</th>\n",
       "      <td>TS13.1</td>\n",
       "      <td>VMTS13.01.054</td>\n",
       "      <td>1329947346</td>\n",
       "      <td>1</td>\n",
       "      <td>3</td>\n",
       "      <td>February 22, 2012</td>\n",
       "    </tr>\n",
       "  </tbody>\n",
       "</table>\n",
       "</div>"
      ],
      "text/plain": [
       "  query_id      nugget_id   timestamp  importance  nugget_len  \\\n",
       "0   TS13.1  VMTS13.01.050  1329945286           3           6   \n",
       "1   TS13.1  VMTS13.01.051  1329945286           3           4   \n",
       "2   TS13.1  VMTS13.01.052  1329945286           3           2   \n",
       "3   TS13.1  VMTS13.01.053  1329946985           1           2   \n",
       "4   TS13.1  VMTS13.01.054  1329947346           1           3   \n",
       "\n",
       "                                  nugget_text  \n",
       "0  train accident in Buenos Aires, Argentina.  \n",
       "1                  unknown number were killed  \n",
       "2                            Hundreds injured  \n",
       "3                                     in 2012  \n",
       "4                           February 22, 2012  "
      ]
     },
     "execution_count": 12,
     "metadata": {},
     "output_type": "execute_result"
    }
   ],
   "source": [
    "df5.head() # Nuggets"
   ]
  },
  {
   "cell_type": "code",
   "execution_count": 13,
   "metadata": {
    "collapsed": false,
    "scrolled": true
   },
   "outputs": [
    {
     "data": {
      "text/html": [
       "<div>\n",
       "<table border=\"1\" class=\"dataframe\">\n",
       "  <thead>\n",
       "    <tr style=\"text-align: right;\">\n",
       "      <th></th>\n",
       "      <th></th>\n",
       "      <th>query_id    update_id   nugget_id</th>\n",
       "      <th>match_start</th>\n",
       "      <th>match_end</th>\n",
       "      <th>auto_p</th>\n",
       "    </tr>\n",
       "  </thead>\n",
       "  <tbody>\n",
       "    <tr>\n",
       "      <th rowspan=\"5\" valign=\"top\">TS13.1</th>\n",
       "      <th>1330003205-a361ee100c9b058a0f0f4355cec64047-0</th>\n",
       "      <td>VMTS13.01.077</td>\n",
       "      <td>35</td>\n",
       "      <td>53</td>\n",
       "      <td>0</td>\n",
       "    </tr>\n",
       "    <tr>\n",
       "      <th>1329996913-06251bb5df849f4e5efe4245acb1c342-2</th>\n",
       "      <td>VMTS13.01.050</td>\n",
       "      <td>50</td>\n",
       "      <td>74</td>\n",
       "      <td>0</td>\n",
       "    </tr>\n",
       "    <tr>\n",
       "      <th>1329996320-a8bb0847959520d7f32b2b12d486e33e-1</th>\n",
       "      <td>VMTS13.01.050</td>\n",
       "      <td>50</td>\n",
       "      <td>101</td>\n",
       "      <td>0</td>\n",
       "    </tr>\n",
       "    <tr>\n",
       "      <th>1329996320-a8bb0847959520d7f32b2b12d486e33e-0</th>\n",
       "      <td>VMTS13.01.078</td>\n",
       "      <td>0</td>\n",
       "      <td>8</td>\n",
       "      <td>0</td>\n",
       "    </tr>\n",
       "    <tr>\n",
       "      <th>1329996320-a8bb0847959520d7f32b2b12d486e33e-0</th>\n",
       "      <td>VMTS13.01.052</td>\n",
       "      <td>9</td>\n",
       "      <td>25</td>\n",
       "      <td>0</td>\n",
       "    </tr>\n",
       "  </tbody>\n",
       "</table>\n",
       "</div>"
      ],
      "text/plain": [
       "                                                     query_id    update_id   nugget_id  \\\n",
       "TS13.1 1330003205-a361ee100c9b058a0f0f4355cec64047-0                     VMTS13.01.077   \n",
       "       1329996913-06251bb5df849f4e5efe4245acb1c342-2                     VMTS13.01.050   \n",
       "       1329996320-a8bb0847959520d7f32b2b12d486e33e-1                     VMTS13.01.050   \n",
       "       1329996320-a8bb0847959520d7f32b2b12d486e33e-0                     VMTS13.01.078   \n",
       "       1329996320-a8bb0847959520d7f32b2b12d486e33e-0                     VMTS13.01.052   \n",
       "\n",
       "                                                      match_start  match_end  \\\n",
       "TS13.1 1330003205-a361ee100c9b058a0f0f4355cec64047-0           35         53   \n",
       "       1329996913-06251bb5df849f4e5efe4245acb1c342-2           50         74   \n",
       "       1329996320-a8bb0847959520d7f32b2b12d486e33e-1           50        101   \n",
       "       1329996320-a8bb0847959520d7f32b2b12d486e33e-0            0          8   \n",
       "       1329996320-a8bb0847959520d7f32b2b12d486e33e-0            9         25   \n",
       "\n",
       "                                                      auto_p  \n",
       "TS13.1 1330003205-a361ee100c9b058a0f0f4355cec64047-0       0  \n",
       "       1329996913-06251bb5df849f4e5efe4245acb1c342-2       0  \n",
       "       1329996320-a8bb0847959520d7f32b2b12d486e33e-1       0  \n",
       "       1329996320-a8bb0847959520d7f32b2b12d486e33e-0       0  \n",
       "       1329996320-a8bb0847959520d7f32b2b12d486e33e-0       0  "
      ]
     },
     "execution_count": 13,
     "metadata": {},
     "output_type": "execute_result"
    }
   ],
   "source": [
    "df6.head() # Matches"
   ]
  },
  {
   "cell_type": "code",
   "execution_count": 14,
   "metadata": {
    "collapsed": false
   },
   "outputs": [
    {
     "data": {
      "text/html": [
       "<div>\n",
       "<table border=\"1\" class=\"dataframe\">\n",
       "  <thead>\n",
       "    <tr style=\"text-align: right;\">\n",
       "      <th></th>\n",
       "      <th>query_id</th>\n",
       "      <th>update_id</th>\n",
       "      <th>doc_id</th>\n",
       "      <th>sentence_id</th>\n",
       "      <th>update_len</th>\n",
       "      <th>duplicate_id</th>\n",
       "      <th>update_text</th>\n",
       "    </tr>\n",
       "  </thead>\n",
       "  <tbody>\n",
       "    <tr>\n",
       "      <th>0</th>\n",
       "      <td>TS13.1</td>\n",
       "      <td>1329910380-3afda7882974e306bc75176f5ce37f3e-5</td>\n",
       "      <td>1329910380-3afda7882974e306bc75176f5ce37f3e</td>\n",
       "      <td>5</td>\n",
       "      <td>922</td>\n",
       "      <td>NaN</td>\n",
       "      <td>The soldiers, Mr Massimiliano Latorre and Mr S...</td>\n",
       "    </tr>\n",
       "    <tr>\n",
       "      <th>1</th>\n",
       "      <td>TS13.1</td>\n",
       "      <td>1329910549-b5765884364f2991653f58c01a85b6c7-1</td>\n",
       "      <td>1329910549-b5765884364f2991653f58c01a85b6c7</td>\n",
       "      <td>1</td>\n",
       "      <td>190</td>\n",
       "      <td>NaN</td>\n",
       "      <td>“At the same time, the UM system Actors David ...</td>\n",
       "    </tr>\n",
       "    <tr>\n",
       "      <th>2</th>\n",
       "      <td>TS13.1</td>\n",
       "      <td>1329911230-5599b4c78673045d4522f23f2a357509-7</td>\n",
       "      <td>1329911230-5599b4c78673045d4522f23f2a357509</td>\n",
       "      <td>7</td>\n",
       "      <td>24</td>\n",
       "      <td>NaN</td>\n",
       "      <td>They are protesting the English by vandalising...</td>\n",
       "    </tr>\n",
       "    <tr>\n",
       "      <th>3</th>\n",
       "      <td>TS13.1</td>\n",
       "      <td>1329911327-9bcecf79f6aee904fd6e962cad884b6b-23</td>\n",
       "      <td>1329911327-9bcecf79f6aee904fd6e962cad884b6b</td>\n",
       "      <td>23</td>\n",
       "      <td>14</td>\n",
       "      <td>NaN</td>\n",
       "      <td>But it was one of the biggest box office smash...</td>\n",
       "    </tr>\n",
       "    <tr>\n",
       "      <th>4</th>\n",
       "      <td>TS13.1</td>\n",
       "      <td>1329911633-579d7af8f8ae26a964b05b69ae375a85-24</td>\n",
       "      <td>1329911633-579d7af8f8ae26a964b05b69ae375a85</td>\n",
       "      <td>24</td>\n",
       "      <td>65</td>\n",
       "      <td>NaN</td>\n",
       "      <td>Lyle’ s article is worth reading in its entire...</td>\n",
       "    </tr>\n",
       "  </tbody>\n",
       "</table>\n",
       "</div>"
      ],
      "text/plain": [
       "  query_id                                       update_id  \\\n",
       "0   TS13.1   1329910380-3afda7882974e306bc75176f5ce37f3e-5   \n",
       "1   TS13.1   1329910549-b5765884364f2991653f58c01a85b6c7-1   \n",
       "2   TS13.1   1329911230-5599b4c78673045d4522f23f2a357509-7   \n",
       "3   TS13.1  1329911327-9bcecf79f6aee904fd6e962cad884b6b-23   \n",
       "4   TS13.1  1329911633-579d7af8f8ae26a964b05b69ae375a85-24   \n",
       "\n",
       "                                        doc_id  sentence_id  update_len  \\\n",
       "0  1329910380-3afda7882974e306bc75176f5ce37f3e            5         922   \n",
       "1  1329910549-b5765884364f2991653f58c01a85b6c7            1         190   \n",
       "2  1329911230-5599b4c78673045d4522f23f2a357509            7          24   \n",
       "3  1329911327-9bcecf79f6aee904fd6e962cad884b6b           23          14   \n",
       "4  1329911633-579d7af8f8ae26a964b05b69ae375a85           24          65   \n",
       "\n",
       "  duplicate_id                                        update_text  \n",
       "0          NaN  The soldiers, Mr Massimiliano Latorre and Mr S...  \n",
       "1          NaN  “At the same time, the UM system Actors David ...  \n",
       "2          NaN  They are protesting the English by vandalising...  \n",
       "3          NaN  But it was one of the biggest box office smash...  \n",
       "4          NaN  Lyle’ s article is worth reading in its entire...  "
      ]
     },
     "execution_count": 14,
     "metadata": {},
     "output_type": "execute_result"
    }
   ],
   "source": [
    "df7.head() # Updates"
   ]
  },
  {
   "cell_type": "code",
   "execution_count": null,
   "metadata": {
    "collapsed": false
   },
   "outputs": [],
   "source": [
    "df7['query_id'].nunique()"
   ]
  },
  {
   "cell_type": "code",
   "execution_count": null,
   "metadata": {
    "collapsed": false
   },
   "outputs": [],
   "source": [
    "f = open('./trec2013-ts-topics-test.xml', 'rb')\n",
    "\n",
    "out = f.readlines()\n",
    "ox = BeautifulSoup(''.join(out),'lxml').contents[1]"
   ]
  },
  {
   "cell_type": "code",
   "execution_count": null,
   "metadata": {
    "collapsed": false
   },
   "outputs": [],
   "source": [
    "i.findAll('title')[0].text, ',',i.findAll('query')[0].text"
   ]
  },
  {
   "cell_type": "code",
   "execution_count": null,
   "metadata": {
    "collapsed": false
   },
   "outputs": [],
   "source": [
    "print \"Wiki article, Query\"\n",
    "qs = []\n",
    "c = 0\n",
    "for i in ox.findAll('event'):\n",
    "    qs.append(i.findAll('query')[0].text)\n",
    "    print c, i.findAll('title')[0].text, ',',i.findAll('query')[0].text\n",
    "    c+=1\n"
   ]
  },
  {
   "cell_type": "markdown",
   "metadata": {},
   "source": [
    "# Only have ten events, so we should build the code to be more general"
   ]
  },
  {
   "cell_type": "markdown",
   "metadata": {},
   "source": [
    "## This is the stream data for Aurora -- all the same query"
   ]
  },
  {
   "cell_type": "code",
   "execution_count": null,
   "metadata": {
    "collapsed": false,
    "scrolled": true
   },
   "outputs": [],
   "source": [
    "# This is the aurora shooting, query #2 in the xml\n",
    "df1.head()"
   ]
  },
  {
   "cell_type": "markdown",
   "metadata": {},
   "source": [
    "## these are the nuggets for all of the trek data"
   ]
  },
  {
   "cell_type": "code",
   "execution_count": null,
   "metadata": {
    "collapsed": false
   },
   "outputs": [],
   "source": [
    "df5.shape"
   ]
  },
  {
   "cell_type": "code",
   "execution_count": null,
   "metadata": {
    "collapsed": false
   },
   "outputs": [],
   "source": [
    "df5.head()"
   ]
  },
  {
   "cell_type": "code",
   "execution_count": null,
   "metadata": {
    "collapsed": false
   },
   "outputs": [],
   "source": [
    "df5[df5['nugget_id']=='VMTS13.01.077'] # Nuggets"
   ]
  },
  {
   "cell_type": "markdown",
   "metadata": {},
   "source": [
    "Index in df6 (matches) is concatenation of (queryid, streamid, and sentence)"
   ]
  },
  {
   "cell_type": "code",
   "execution_count": null,
   "metadata": {
    "collapsed": false
   },
   "outputs": [],
   "source": [
    "df6.shape"
   ]
  },
  {
   "cell_type": "code",
   "execution_count": null,
   "metadata": {
    "collapsed": false
   },
   "outputs": [],
   "source": [
    "df6.head()"
   ]
  },
  {
   "cell_type": "markdown",
   "metadata": {},
   "source": [
    "## These are the matches of the nuggets"
   ]
  },
  {
   "cell_type": "code",
   "execution_count": null,
   "metadata": {
    "collapsed": false
   },
   "outputs": [],
   "source": [
    "df7.head()"
   ]
  },
  {
   "cell_type": "markdown",
   "metadata": {},
   "source": [
    "# This section tokenizes each dataset into a list of numeric indices"
   ]
  },
  {
   "cell_type": "code",
   "execution_count": 8,
   "metadata": {
    "collapsed": false
   },
   "outputs": [],
   "source": [
    "import os\n",
    "import re\n",
    "import sys\n",
    "import pickle\n",
    "import csv\n",
    "import pandas as pd\n",
    "from gensim import corpora\n",
    "from collections import defaultdict    \n",
    "\n",
    "def BuildIndexFiles(infile_list):\n",
    "    \"\"\"\n",
    "    :type  infilename: str\n",
    "    :param infilename: Fulll name of input file \n",
    "\n",
    "    :type  outfilename: str\n",
    "    :param outfilename: Export filename, without the '.csv'\n",
    "    \"\"\"\n",
    "    reload(sys)\n",
    "    sys.setdefaultencoding('utf-8')\n",
    "    all_tokens = []\n",
    "    frequency = defaultdict(int)\n",
    "    for idx, infilename in enumerate(infile_list):\n",
    "        print('Loading %s %i of %i' % (infilename, idx, len(infile_list)) )\n",
    "\n",
    "        df = pd.read_csv(infilename, sep='\\t', encoding='latin-1')\n",
    "        df['text'] = df['text'].str.replace('[^A-Za-z0-9]+', ' ').str.strip()\n",
    "        texts = [ t.split(\" \") for t in df['text'] ]\n",
    "\n",
    "        for text in texts:\n",
    "            for token in text:\n",
    "                frequency[token] += 1\n",
    "        texts = [ [token for token in text ]  for text in texts]\n",
    "        # Collecting all the list of tokens\n",
    "        all_tokens.append(texts)\n",
    "\n",
    "    texts = sum(all_tokens, [])\n",
    "    # Getting the dictionary with token info\n",
    "    dictionary = corpora.Dictionary(texts)\n",
    "    # Mapping to numeric list\n",
    "    word2idx = dictionary.token2id\n",
    "    dictionary.id2token = {v:k for k,v in dictionary.token2id.items()}\n",
    "    idx2word = dictionary.id2token\n",
    "    \n",
    "    # Exporting the dictionaries\n",
    "    print(\"Exporting word to index and dictionary to word indices\")\n",
    "    output = open('./0-output/LSTMDQN_Dic_token2id.pkl', 'ab+')\n",
    "    pickle.dump(word2idx, output)\n",
    "    output.close()\n",
    "\n",
    "    output = open('./0-output/LSTMDQN_Dic_id2token.pkl', 'ab+')\n",
    "    pickle.dump(idx2word, output)\n",
    "    output.close()\n",
    "    \n",
    "    # Merging the dictionaries toa pandas data frame with summary info\n",
    "    odf0 = pd.DataFrame.from_dict(dictionary.dfs, orient='index').reset_index()\n",
    "    odf1 = pd.DataFrame.from_dict(word2idx, orient='index').reset_index()\n",
    "    odf0.columns = ['id', 'frequency']\n",
    "    odf1.columns = ['token', 'id']\n",
    "    odf = pd.merge(left=odf0, right=odf1, on='id')\n",
    "    odf = odf[['id','token', 'frequency']]\n",
    "    odf.to_csv('./0-output/total_corpus_smry.csv')\n",
    "    \n",
    "    return dictionary\n",
    "    \n",
    "def TokenizeData(infile_list, outfile_list, word2idx):\n",
    "    for idx, (infilename, outfilename) in enumerate(zip(infile_list, outfile_list)):\n",
    "        df = pd.read_csv(infilename, sep='\\t', encoding='latin-1')\n",
    "        df['text'] = df['text'].str.replace('[^A-Za-z0-9]+', ' ').str.strip()\n",
    "        texts = [ t.split(\" \") for t in df['text'] ]\n",
    "\n",
    "        frequency = defaultdict(int)\n",
    "        for text in texts:\n",
    "            for token in text:\n",
    "                frequency[token] += 1\n",
    "        texts = [ [token for token in text ]  for text in texts]\n",
    "        \n",
    "        text_numindex = [ [word2idx[i] for i in t] for t in texts]\n",
    "        # Exporting files\n",
    "        print('...file export to %s' % outfilename)\n",
    "        with open(outfilename+'_numtext.csv', 'wb') as csvfile:\n",
    "            data = csv.writer(csvfile, delimiter=' ', quotechar='|', quoting=csv.QUOTE_MINIMAL)\n",
    "            data.writerow(['Text'])\n",
    "            data.writerows(text_numindex)\n",
    "\n",
    "        csvfile.close()\n",
    "    print('...Exporting of tokenized data complete')"
   ]
  },
  {
   "cell_type": "code",
   "execution_count": 2,
   "metadata": {
    "collapsed": true
   },
   "outputs": [],
   "source": [
    "os.chdir('/Users/franciscojavierarceo/GitHub/DeepNLPQLearning/DO_NOT_UPLOAD_THIS_DATA/corpus-data/')\n",
    "\n",
    "infilelist = [\n",
    "            './2012_aurora_shooting.tsv.gz', \n",
    "            './2012_pakistan_garment_factory_fires.tsv.gz',\n",
    "            './hurricane_sandy.tsv.gz',\n",
    "            './wisconsin_sikh_temple_shooting.tsv.gz'\n",
    "]\n",
    "outfilelist = [\n",
    "            './0-output/2012_aurora_shooting',\n",
    "            './0-output/2012_pakistan_garment_factory_fires',\n",
    "            './0-output/hurricane_sandy',\n",
    "            './0-output/wisconsin_sikh_temple_shooting'\n",
    "    \n",
    "]"
   ]
  },
  {
   "cell_type": "code",
   "execution_count": 3,
   "metadata": {
    "collapsed": false
   },
   "outputs": [],
   "source": [
    "mycorpora = BuildIndexFiles(infilelist)"
   ]
  },
  {
   "cell_type": "code",
   "execution_count": 9,
   "metadata": {
    "collapsed": false
   },
   "outputs": [],
   "source": [
    "TokenizeData(infilelist, outfilelist, word2idx=mycorpora.token2id)"
   ]
  }
 ],
 "metadata": {
  "kernelspec": {
   "display_name": "Python 2",
   "language": "python",
   "name": "python2"
  },
  "language_info": {
   "codemirror_mode": {
    "name": "ipython",
    "version": 2
   },
   "file_extension": ".py",
   "mimetype": "text/x-python",
   "name": "python",
   "nbconvert_exporter": "python",
   "pygments_lexer": "ipython2",
   "version": "2.7.12"
  }
 },
 "nbformat": 4,
 "nbformat_minor": 0
}
