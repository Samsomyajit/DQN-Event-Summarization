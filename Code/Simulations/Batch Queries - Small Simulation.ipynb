{
 "cells": [
  {
   "cell_type": "code",
   "execution_count": 1,
   "metadata": {
    "collapsed": false
   },
   "outputs": [],
   "source": [
    "require 'nn'\n",
    "require 'rnn'\n",
    "require 'image'\n",
    "require 'optim'"
   ]
  },
  {
   "cell_type": "code",
   "execution_count": 2,
   "metadata": {
    "collapsed": false
   },
   "outputs": [],
   "source": [
    "-- Some useful functions\n",
    "function genNbyK(n, k, a, b)\n",
    "    out = torch.LongTensor(n, k)\n",
    "    for i=1, n do\n",
    "        for j = 1, k do\n",
    "            out[i][j] = torch.random(a, b)\n",
    "        end\n",
    "    end\n",
    "    return out\n",
    "end\n",
    "\n",
    "function buildModel(model, vocabSize, embeddingSize, metric, adapt, use_cuda)\n",
    "    -- Small experiments seem to show that the Tanh activations performed better\\\n",
    "    --      than the ReLU for the bow model\n",
    "    if model == 'bow' then\n",
    "        print(string.format(\"Running bag-of-words model to learn %s\", metric))\n",
    "        sentenceLookup = nn.Sequential()\n",
    "                    :add(nn.LookupTableMaskZero(vocabSize, embeddingSize))\n",
    "                    :add(nn.Sum(2, 3, true)) -- Not averaging blows up model so keep this true\n",
    "                    :add(nn.Tanh())\n",
    "    else\n",
    "        print(string.format(\"Running LSTM model to learn %s\", metric))\n",
    "        sentenceLookup = nn.Sequential()\n",
    "                    :add(nn.LookupTableMaskZero(vocabSize, embeddingSize))\n",
    "                    :add(nn.SplitTable(2))\n",
    "                    :add(nn.Sequencer(nn.LSTM(embeddingSize, embeddingSize)))\n",
    "                    :add(nn.SelectTable(-1))            -- selects last state of the LSTM\n",
    "                    :add(nn.Linear(embeddingSize, embeddingSize))\n",
    "                    :add(nn.ReLU())\n",
    "    end\n",
    "    local queryLookup = sentenceLookup:clone(\"weight\", \"gradWeight\") \n",
    "    local summaryLookup = sentenceLookup:clone(\"weight\", \"gradWeight\")\n",
    "    local pmodule = nn.ParallelTable()\n",
    "                :add(sentenceLookup)\n",
    "                :add(queryLookup)\n",
    "                :add(summaryLookup)\n",
    "\n",
    "    if model == 'bow' then\n",
    "        nnmodel = nn.Sequential()\n",
    "            :add(pmodule)\n",
    "            :add(nn.JoinTable(2))\n",
    "            :add(nn.Tanh())\n",
    "            :add(nn.Linear(embeddingSize * 3, 2))\n",
    "    else\n",
    "        nnmodel = nn.Sequential()\n",
    "            :add(pmodule)\n",
    "            :add(nn.JoinTable(2))\n",
    "            :add(nn.ReLU())\n",
    "            :add(nn.Linear(embeddingSize * 3, 2))\n",
    "    end\n",
    "\n",
    "    if adapt then \n",
    "        print(\"Adaptive regularization\")\n",
    "        local logmod = nn.Sequential()\n",
    "            :add(nn.Linear(embeddingSize * 3, 1))\n",
    "            :add(nn.LogSigmoid())\n",
    "            :add(nn.SoftMax())\n",
    "\n",
    "        local regmod = nn.Sequential()\n",
    "            :add(nn.Linear(embeddingSize * 3, 2))\n",
    "\n",
    "        local fullmod = nn.ConcatTable()\n",
    "            :add(regmod)\n",
    "            :add(logmod)\n",
    "\n",
    "        local final = nn.Sequential()\n",
    "            :add(pmodule)\n",
    "            :add(nn.JoinTable(2))\n",
    "            :add(fullmod)\n",
    "\n",
    "        nnmodel = final\n",
    "    end\n",
    "\n",
    "    if use_cuda then\n",
    "        return nnmodel:cuda()\n",
    "    end\n",
    "    return nnmodel\n",
    "end\n",
    "\n",
    "function Tokenize(inputdic)\n",
    "    --- This function tokenizes the words into a unigram dictionary\n",
    "    local out = {}\n",
    "\n",
    "    for k, v in pairs(inputdic) do\n",
    "        if out[v] == nil then\n",
    "            out[v] = 1\n",
    "        else \n",
    "            out[v] = 1 + out[v]\n",
    "        end\n",
    "    end\n",
    "    return out\n",
    "end\n",
    "\n",
    "function rougeScores(genSummary, refSummary)\n",
    "    local genTotal = 0\n",
    "    local refTotal = 0\n",
    "    local intersection = 0\n",
    "    -- Inserting the missing keys\n",
    "    for k, genCount in pairs(genSummary) do\n",
    "        if refSummary[k] == nil then\n",
    "            refSummary[k] = 0\n",
    "        end\n",
    "    end\n",
    "    for k, refCount in pairs(refSummary) do\n",
    "        local genCount = genSummary[k]\n",
    "        if genCount == nil then \n",
    "            genCount = 0 \n",
    "        end\n",
    "        intersection = intersection + math.min(refCount, genCount)\n",
    "        refTotal = refTotal + refCount\n",
    "        genTotal = genTotal + genCount\n",
    "    end\n",
    "\n",
    "    recall = intersection / refTotal\n",
    "    prec = intersection / genTotal\n",
    "    if refTotal == 0 then\n",
    "        recall = 0\n",
    "    end \n",
    "    if genTotal == 0 then\n",
    "        prec = 0\n",
    "    end\n",
    "    -- tmp = {intersection, refTotal, genTotal}\n",
    "    if recall > 0 or prec > 0 then\n",
    "        f1 = (2 * recall * prec) / (recall + prec)\n",
    "    else \n",
    "        f1 = 0\n",
    "    end\n",
    "    return recall, prec, f1\n",
    "end"
   ]
  },
  {
   "cell_type": "code",
   "execution_count": 3,
   "metadata": {
    "collapsed": true
   },
   "outputs": [],
   "source": [
    "function buildPredsummary(summary, chosenactions, inputsentences, select_index)\n",
    "    if summary == nil then\n",
    "        summary = torch.zeros(inputsentences:size())\n",
    "    end\n",
    "    for i=1, chosenactions:size(1) do\n",
    "        -- the 2 is for the SELECT index, will have to make this more general later\n",
    "        if chosenactions[i][select_index] == 1 then\n",
    "            summary[i]:copy(inputsentences[i])\n",
    "        end\n",
    "    end    \n",
    "    return summary\n",
    "end\n",
    "\n",
    "function buildPredsummaryFast(summary, chosenactions, inputsentences, select_index)\n",
    "    n = inputsentences:size(1)\n",
    "    k = inputsentences:size(2)\n",
    "    if summary == nil then\n",
    "        summary = torch.zeros(inputsentences:size())\n",
    "    end\n",
    "    actionmatrix = chosenactions:select(2, select_index):clone():resize(n, 1):view(n, 1):expand(n, k):clone()\n",
    "    --     This line didn't work for whatever reason...gives weird indexing...\n",
    "    --     actionmatrix = chosenactions:select(2, select_index):resize(1, n):view(n, 1):expand(n, k):clone()\n",
    "    return actionmatrix:cmul(inputsentences:double())\n",
    "end"
   ]
  },
  {
   "cell_type": "code",
   "execution_count": 4,
   "metadata": {
    "collapsed": true
   },
   "outputs": [],
   "source": [
    "function buildTotalSummary(predsummary, totalPredsummary)\n",
    "    nps = predsummary:size(1)\n",
    "    n_l = totalPredsummary:size(2)\n",
    "    indices = torch.linspace(1, n_l, n_l):long() \n",
    "    for i=1, predsummary:size(1) do\n",
    "        if predsummary[i]:sum() > 0 then \n",
    "            maxindex = 0\n",
    "            for j = 1, totalPredsummary[i]:size(1) do \n",
    "                if totalPredsummary[i][j] == 0 then\n",
    "                    maxindex = maxindex + 1\n",
    "                end\n",
    "            end\n",
    "            lenx = predsummary[i]:size(1)\n",
    "            totalPredsummary[i][{{maxindex - lenx + 1, maxindex}}]:copy(predsummary[i])\n",
    "        end\n",
    "    end\n",
    "end\n",
    "\n",
    "function buildTotalSummaryFast(predsummary, totalPredsummary)\n",
    "    nps = predsummary:size(1)\n",
    "    n_l = totalPredsummary:size(2)\n",
    "    indices = torch.linspace(1, n_l, n_l):long() \n",
    "    for i=1, predsummary:size(1) do\n",
    "        if predsummary[i]:sum() > 0 then \n",
    "            -- Finding the largest index with a zero\n",
    "            maxindex = torch.max(indices[torch.eq(totalPredsummary[i], 0)])\n",
    "            lenx = predsummary[i]:size(1)\n",
    "            totalPredsummary[i][{{maxindex - lenx + 1, maxindex}}]:copy(predsummary[i])\n",
    "        end\n",
    "    end\n",
    "end"
   ]
  },
  {
   "cell_type": "code",
   "execution_count": 5,
   "metadata": {
    "collapsed": true
   },
   "outputs": [],
   "source": [
    "-- Setting parameters\n",
    "n = 10\n",
    "n_s = 5\n",
    "k = 7\n",
    "q = 5\n",
    "a = 1\n",
    "b = 1000\n",
    "embDim = 50\n",
    "SKIP = 1\n",
    "SELECT = 2\n",
    "epsilon = 1\n",
    "nepochs = 1000\n",
    "fast = true\n",
    "\n",
    "maskLayer = nn.MaskedSelect()\n",
    "optimParams = { learningRate = 0.1 }"
   ]
  },
  {
   "cell_type": "markdown",
   "metadata": {},
   "source": [
    "# Simulating the data"
   ]
  },
  {
   "cell_type": "code",
   "execution_count": 6,
   "metadata": {
    "collapsed": false
   },
   "outputs": [],
   "source": [
    "-- Simulating streams and queries\n",
    "queries = genNbyK(n, q, a, b)\n",
    "\n",
    "-- Note that the sentences are batched by sentence index so sentences[1] is the first sentence of each article\n",
    "sentences = {}\n",
    "for i=1, n_s do\n",
    "    sentences[i] = genNbyK(n, k, a, b)\n",
    "end\n",
    "\n",
    "-- Optimal predicted summary\n",
    "trueSummary = torch.zeros(n, k * n_s)\n",
    "-- Using this to generate the optimal actions\n",
    "true_actions = {}\n",
    "for i=1, n_s do \n",
    "    ---- Simulating the data\n",
    "    trueqValues = torch.rand(n, 2)\n",
    "    \n",
    "     ---- Generating the max values and getting the indices\n",
    "    qMaxtrue, qindxtrue = torch.max(trueqValues, 2)\n",
    "    \n",
    "    --- I want to select the qindx elements for each row\n",
    "    true_actions[i] = torch.zeros(n, 2):scatter(2, qindxtrue, torch.ones(trueqValues:size()))\n",
    "    best_sentences = buildPredsummaryFast(best_sentences, true_actions[i], sentences[i], SELECT)\n",
    "    buildTotalSummaryFast(best_sentences, trueSummary)\n",
    "end\n",
    "\n",
    "qTokens = {}\n",
    "for i=1, n do\n",
    "    qTokens[i] = Tokenize(trueSummary[i]:totable())\n",
    "end"
   ]
  },
  {
   "cell_type": "markdown",
   "metadata": {},
   "source": [
    "# Scoring the rougue metrics on the simulation"
   ]
  },
  {
   "cell_type": "code",
   "execution_count": 15,
   "metadata": {
    "collapsed": false
   },
   "outputs": [
    {
     "data": {
      "text/plain": [
       "1\t1\t1\t\n"
      ]
     },
     "execution_count": 15,
     "metadata": {},
     "output_type": "execute_result"
    }
   ],
   "source": [
    "print(rougeScores(Tokenize(trueSummary[1]:totable()), Tokenize(trueSummary[1]:totable())))"
   ]
  },
  {
   "cell_type": "markdown",
   "metadata": {},
   "source": [
    "# Building the model"
   ]
  },
  {
   "cell_type": "code",
   "execution_count": 16,
   "metadata": {
    "collapsed": false
   },
   "outputs": [
    {
     "data": {
      "text/plain": [
       "Running bag-of-words model to learn f1\t\n"
      ]
     },
     "execution_count": 16,
     "metadata": {},
     "output_type": "execute_result"
    }
   ],
   "source": [
    "model = buildModel('bow', b, embDim, 'f1', false, false)\n",
    "\n",
    "params, gradParams = model:getParameters()\n",
    "criterion = nn.MSECriterion()"
   ]
  },
  {
   "cell_type": "markdown",
   "metadata": {},
   "source": [
    "# Scoring the model on the sentences"
   ]
  },
  {
   "cell_type": "code",
   "execution_count": 17,
   "metadata": {
    "collapsed": false
   },
   "outputs": [],
   "source": [
    "nepochs = 100"
   ]
  },
  {
   "cell_type": "code",
   "execution_count": 10,
   "metadata": {
    "collapsed": false
   },
   "outputs": [],
   "source": [
    "totalPredsummary = {}\n",
    "qValues = {}\n",
    "qActions = {}\n",
    "qPreds = {}\n",
    "rewards = {}\n",
    "lossfull = {}\n",
    "rouguef1 = {}\n",
    "\n",
    "for epoch=1, nepochs do\n",
    "    for i = 1, n_s do\n",
    "        --- Initializing things\n",
    "        if epoch == 1 then \n",
    "            qPreds[i] = torch.zeros(n, 2)\n",
    "            qValues[i] = torch.zeros(n, 1) \n",
    "            qActions[i] = torch.zeros(n, 2)\n",
    "            rewards[i] = torch.zeros(n, 1)\n",
    "            totalPredsummary[i] = torch.LongTensor(n, n_s * k):fill(0)\n",
    "        else\n",
    "            --- Reset things\n",
    "            qPreds[i]:fill(0)\n",
    "            qValues[i]:fill(0)\n",
    "            qActions[i]:fill(0)\n",
    "            rewards[i]:fill(0)\n",
    "            totalPredsummary[i]:fill(0)\n",
    "        end \n",
    "    end\n",
    "    for i=1, n_s do\n",
    "        if torch.uniform(0, 1) <= epsilon then \n",
    "            qPreds[i]:copy(torch.rand(n, 2))\n",
    "            -- Need to run a forward pass for the backward to work...wonky\n",
    "            ignore = model:forward({sentences[i], queries, totalPredsummary[i]})\n",
    "        else \n",
    "            qPreds[i]:copy(model:forward({sentences[i], queries, totalPredsummary[i]}) )\n",
    "        end \n",
    "        if fast then \n",
    "            qMax, qindx = torch.max(qPreds[i], 2)  -- Pulling the best actions\n",
    "            -- Here's the fast way to select the optimal action for each query\n",
    "            qActions[i] = torch.zeros(n, 2):scatter(2, qindx, torch.ones(qPreds[i]:size())):clone()\n",
    "            qValues[i]:copy(qMax)\n",
    "            predsummary = buildPredsummaryFast(predsummary, qActions[i], sentences[i], SELECT)\n",
    "            buildTotalSummaryFast(predsummary, totalPredsummary[i])\n",
    "        else \n",
    "            for j=1, n do\n",
    "                if qPreds[i][j][SELECT] > qPreds[i][j][SKIP] then\n",
    "                    qActions[i][j][SELECT] = 1\n",
    "                    qValues[i][j]:fill(qPreds[i][j][SELECT])\n",
    "                else\n",
    "                    qActions[i][j][SKIP] = 1\n",
    "                    qValues[i][j]:fill(qPreds[i][j][SKIP])\n",
    "                end\n",
    "            end\n",
    "            predsummary = buildPredsummary(predsummary, qActions[i], sentences[i], SELECT)\n",
    "            buildTotalSummary(predsummary, totalPredsummary[i])       \n",
    "        end\n",
    "        for j = 1, n do\n",
    "            recall, prec, f1 = rougeScores( Tokenize(trueSummary[j]:totable()), \n",
    "                                            Tokenize(totalPredsummary[i][j]:totable()) )\n",
    "            rewards[i][j]:fill(f1)\n",
    "        end\n",
    "        if i > 1 then\n",
    "            -- Calculating change in rougue f1\n",
    "            rewards[i]:copy(rewards[i] - rewards[i-1])\n",
    "        end\n",
    "    end\n",
    "    -- Adding back the delta for the last one\n",
    "    rouguef1[epoch] = (rewards[n_s] + rewards[ n_s - 1]):mean()\n",
    "\n",
    "    lossv = {}\n",
    "    --- This backprops through the sentences sequentially...which is fine for now\n",
    "    for i=1, n_s do\n",
    "        function feval(params)\n",
    "        --     model:clearState()\n",
    "            gradParams:zero()\n",
    "            lossf = criterion:forward(qValues[i], rewards[i])\n",
    "            local gradOutput = criterion:backward(qValues[i], rewards[i])\n",
    "            local gradMaskLayer = maskLayer:backward({qPreds[i], qActions[i]:byte()}, gradOutput:resize(rewards[i]:size(1)))\n",
    "            model:backward({sentences[i], queries, totalPredsummary[i]}, gradMaskLayer[1] )\n",
    "            return lossf, gradParams\n",
    "        end\n",
    "        _, lossf = optim.rmsprop(feval, params, optimParams)\n",
    "        lossv[i] = lossf[1]\n",
    "    end\n",
    "    lossfull[epoch] = torch.Tensor(lossv):sum() / #lossv\n",
    "    epsilon = epsilon / 2.\n",
    "end"
   ]
  },
  {
   "cell_type": "code",
   "execution_count": 11,
   "metadata": {
    "collapsed": true
   },
   "outputs": [],
   "source": [
    "Plot = require 'itorch.Plot'\n",
    "\n",
    "loss = torch.Tensor(lossfull)\n",
    "rougue = torch.Tensor(rouguef1)\n",
    "indices = torch.linspace(1, loss:size(1), loss:size(1)):long() "
   ]
  },
  {
   "cell_type": "code",
   "execution_count": 14,
   "metadata": {
    "collapsed": false
   },
   "outputs": [
    {
     "data": {
      "text/html": [
       "<script type=\"text/javascript\">\n",
       "$(function() {\n",
       "    if (typeof (window._bokeh_onload_callbacks) === \"undefined\"){\n",
       "  window._bokeh_onload_callbacks = [];\n",
       "    }\n",
       "    function load_lib(url, callback){\n",
       "  window._bokeh_onload_callbacks.push(callback);\n",
       "  if (window._bokeh_is_loading){\n",
       "      console.log(\"Bokeh: BokehJS is being loaded, scheduling callback at\", new Date());\n",
       "      return null;\n",
       "  }\n",
       "  console.log(\"Bokeh: BokehJS not loaded, scheduling load and callback at\", new Date());\n",
       "  window._bokeh_is_loading = true;\n",
       "  var s = document.createElement('script');\n",
       "  s.src = url;\n",
       "  s.async = true;\n",
       "  s.onreadystatechange = s.onload = function(){\n",
       "      Bokeh.embed.inject_css(\"https://cdn.pydata.org/bokeh-0.7.0.min.css\");\n",
       "      window._bokeh_onload_callbacks.forEach(function(callback){callback()});\n",
       "  };\n",
       "  s.onerror = function(){\n",
       "      console.warn(\"failed to load library \" + url);\n",
       "  };\n",
       "  document.getElementsByTagName(\"head\")[0].appendChild(s);\n",
       "    }\n",
       "\n",
       "    bokehjs_url = \"https://cdn.pydata.org/bokeh-0.7.0.min.js\"\n",
       "\n",
       "    var elt = document.getElementById(\"49639db4-a51b-49a2-c935-bff03b70d736\");\n",
       "    if(elt==null) {\n",
       "  console.log(\"Bokeh: ERROR: autoload.js configured with elementid '49639db4-a51b-49a2-c935-bff03b70d736'\"\n",
       "        + \"but no matching script tag was found. \")\n",
       "  return false;\n",
       "    }\n",
       "\n",
       "    if(typeof(Bokeh) !== \"undefined\") {\n",
       "  console.log(\"Bokeh: BokehJS loaded, going straight to plotting\");\n",
       "  var modelid = \"80916607-4ec3-4111-c1ce-45221464354c\";\n",
       "  var modeltype = \"Plot\";\n",
       "  var all_models = [{\"id\":\"38bd9b0b-8d2c-432c-c33c-6353b5ddd497\",\"type\":\"ColumnDataSource\",\"attributes\":{\"data\":{\"y\":[0.5,0.46,0.52571428571429,0.48,0.44,0.54571428571429,0.54571428571429,0.44571428571429,0.54571428571429,0.54571428571429,0.54571428571429,0.54571428571429,0.54571428571429,0.54571428571429,0.54571428571429,0.54571428571429,0.54571428571429,0.54571428571429,0.54571428571429,0.54571428571429,0.54571428571429,0.54571428571429,0.54571428571429,0.54571428571429,0.54571428571429,0.54571428571429,0.54571428571429,0.54571428571429,0.54571428571429,0.54571428571429,0.54571428571429,0.54571428571429,0.54571428571429,0.54571428571429,0.54571428571429,0.54571428571429,0.54571428571429,0.54571428571429,0.54571428571429,0.54571428571429,0.54571428571429,0.54571428571429,0.54571428571429,0.54571428571429,0.54571428571429,0.54571428571429,0.54571428571429,0.54571428571429,0.54571428571429,0.54571428571429,0.54571428571429,0.54571428571429,0.54571428571429,0.54571428571429,0.54571428571429,0.54571428571429,0.54571428571429,0.54571428571429,0.54571428571429,0.54571428571429,0.54571428571429,0.54571428571429,0.54571428571429,0.54571428571429,0.54571428571429,0.54571428571429,0.54571428571429,0.54571428571429,0.54571428571429,0.54571428571429,0.54571428571429,0.54571428571429,0.54571428571429,0.54571428571429,0.54571428571429,0.54571428571429,0.54571428571429,0.54571428571429,0.54571428571429,0.54571428571429,0.54571428571429,0.54571428571429,0.54571428571429,0.54571428571429,0.54571428571429,0.54571428571429,0.54571428571429,0.54571428571429,0.54571428571429,0.54571428571429,0.54571428571429,0.54571428571429,0.54571428571429,0.54571428571429,0.54571428571429,0.54571428571429,0.54571428571429,0.54571428571429,0.54571428571429,0.54571428571429],\"x\":[1,2,3,4,5,6,7,8,9,10,11,12,13,14,15,16,17,18,19,20,21,22,23,24,25,26,27,28,29,30,31,32,33,34,35,36,37,38,39,40,41,42,43,44,45,46,47,48,49,50,51,52,53,54,55,56,57,58,59,60,61,62,63,64,65,66,67,68,69,70,71,72,73,74,75,76,77,78,79,80,81,82,83,84,85,86,87,88,89,90,91,92,93,94,95,96,97,98,99,100]},\"column_names\":[\"y\",\"x\"],\"cont_ranges\":{},\"discrete_ranges\":{},\"selected\":[],\"id\":\"38bd9b0b-8d2c-432c-c33c-6353b5ddd497\",\"doc\":null,\"tags\":[]}},{\"id\":\"38e71985-908a-4f41-cfdb-a4f2127a8589\",\"type\":\"Line\",\"attributes\":{\"fill_alpha\":{\"units\":\"data\",\"value\":0.2},\"line_alpha\":{\"units\":\"data\",\"value\":1},\"doc\":null,\"size\":{\"units\":\"screen\",\"value\":10},\"fill_color\":{\"value\":\"blue\"},\"line_color\":{\"value\":\"blue\"},\"x\":{\"units\":\"data\",\"field\":\"x\"},\"id\":\"38e71985-908a-4f41-cfdb-a4f2127a8589\",\"y\":{\"units\":\"data\",\"field\":\"y\"},\"tags\":[]}},{\"id\":\"fb1c0a8c-3974-4ba7-cb54-d027d9fce98f\",\"type\":\"Line\",\"attributes\":{\"fill_alpha\":{\"units\":\"data\",\"value\":0.2},\"line_alpha\":{\"units\":\"data\",\"value\":1},\"doc\":null,\"size\":{\"units\":\"screen\",\"value\":10},\"fill_color\":{\"value\":\"blue\"},\"line_color\":{\"value\":\"blue\"},\"x\":{\"units\":\"data\",\"field\":\"x\"},\"id\":\"fb1c0a8c-3974-4ba7-cb54-d027d9fce98f\",\"y\":{\"units\":\"data\",\"field\":\"y\"},\"tags\":[]}},{\"id\":\"3d45818a-b5bc-48e0-c871-129881dfe385\",\"type\":\"GlyphRenderer\",\"attributes\":{\"name\":null,\"nonselection_glyph\":{\"type\":\"Line\",\"id\":\"fb1c0a8c-3974-4ba7-cb54-d027d9fce98f\"},\"doc\":null,\"server_data_source\":null,\"data_source\":{\"type\":\"ColumnDataSource\",\"id\":\"38bd9b0b-8d2c-432c-c33c-6353b5ddd497\"},\"glyph\":{\"type\":\"Line\",\"id\":\"38e71985-908a-4f41-cfdb-a4f2127a8589\"},\"selection_glyph\":null,\"id\":\"3d45818a-b5bc-48e0-c871-129881dfe385\",\"tags\":[]}},{\"id\":\"bb20367c-45be-4187-c160-91a65e1b87ee\",\"type\":\"DataRange1d\",\"attributes\":{\"sources\":[{\"columns\":[\"x\"],\"source\":{\"type\":\"ColumnDataSource\",\"id\":\"38bd9b0b-8d2c-432c-c33c-6353b5ddd497\"}}],\"id\":\"bb20367c-45be-4187-c160-91a65e1b87ee\",\"tags\":[],\"doc\":null}},{\"id\":\"75deb4e1-de4b-4277-c2b6-03402a290f7d\",\"type\":\"DataRange1d\",\"attributes\":{\"sources\":[{\"columns\":[\"y\"],\"source\":{\"type\":\"ColumnDataSource\",\"id\":\"38bd9b0b-8d2c-432c-c33c-6353b5ddd497\"}}],\"id\":\"75deb4e1-de4b-4277-c2b6-03402a290f7d\",\"tags\":[],\"doc\":null}},{\"id\":\"c77fc70e-c027-4bdd-cb74-9efe64b30c3f\",\"type\":\"ToolEvents\",\"attributes\":{\"tags\":[],\"id\":\"c77fc70e-c027-4bdd-cb74-9efe64b30c3f\",\"geometries\":[],\"doc\":null}},{\"id\":\"6761a806-b16f-4d65-cdfb-ac8a32d052d3\",\"type\":\"BasicTickFormatter\",\"attributes\":{\"id\":\"6761a806-b16f-4d65-cdfb-ac8a32d052d3\",\"tags\":[],\"doc\":null}},{\"id\":\"94195310-aa19-4ca4-ccff-ddd71d30ae2e\",\"type\":\"BasicTicker\",\"attributes\":{\"num_minor_ticks\":5,\"id\":\"94195310-aa19-4ca4-ccff-ddd71d30ae2e\",\"tags\":[],\"doc\":null}},{\"id\":\"1a51a132-5544-45d0-c517-c7413397c262\",\"type\":\"LinearAxis\",\"attributes\":{\"formatter\":{\"type\":\"BasicTickFormatter\",\"id\":\"6761a806-b16f-4d65-cdfb-ac8a32d052d3\"},\"ticker\":{\"type\":\"BasicTicker\",\"id\":\"94195310-aa19-4ca4-ccff-ddd71d30ae2e\"},\"plot\":{\"id\":\"80916607-4ec3-4111-c1ce-45221464354c\",\"type\":\"Plot\",\"subtype\":\"Figure\"},\"axis_label\":null,\"id\":\"1a51a132-5544-45d0-c517-c7413397c262\",\"doc\":null,\"tags\":[]}},{\"id\":\"bb1614d0-945b-49bc-c939-478134e839e5\",\"type\":\"Grid\",\"attributes\":{\"dimension\":0,\"plot\":{\"id\":\"80916607-4ec3-4111-c1ce-45221464354c\",\"type\":\"Plot\",\"subtype\":\"Figure\"},\"ticker\":{\"type\":\"BasicTicker\",\"id\":\"94195310-aa19-4ca4-ccff-ddd71d30ae2e\"},\"id\":\"bb1614d0-945b-49bc-c939-478134e839e5\",\"doc\":null,\"tags\":[]}},{\"id\":\"ba89f1af-8906-4b2e-cb32-cc24feeefc78\",\"type\":\"BasicTickFormatter\",\"attributes\":{\"id\":\"ba89f1af-8906-4b2e-cb32-cc24feeefc78\",\"tags\":[],\"doc\":null}},{\"id\":\"6a3bde1f-0946-44d8-c4ae-464b440e8a88\",\"type\":\"BasicTicker\",\"attributes\":{\"num_minor_ticks\":5,\"id\":\"6a3bde1f-0946-44d8-c4ae-464b440e8a88\",\"tags\":[],\"doc\":null}},{\"id\":\"c2b03050-7182-4818-c81f-517947bf8a35\",\"type\":\"LinearAxis\",\"attributes\":{\"formatter\":{\"type\":\"BasicTickFormatter\",\"id\":\"ba89f1af-8906-4b2e-cb32-cc24feeefc78\"},\"ticker\":{\"type\":\"BasicTicker\",\"id\":\"6a3bde1f-0946-44d8-c4ae-464b440e8a88\"},\"plot\":{\"id\":\"80916607-4ec3-4111-c1ce-45221464354c\",\"type\":\"Plot\",\"subtype\":\"Figure\"},\"axis_label\":null,\"id\":\"c2b03050-7182-4818-c81f-517947bf8a35\",\"doc\":null,\"tags\":[]}},{\"id\":\"70af5f75-a406-4cb3-ccd2-c2d320ffe43a\",\"type\":\"Grid\",\"attributes\":{\"dimension\":1,\"plot\":{\"id\":\"80916607-4ec3-4111-c1ce-45221464354c\",\"type\":\"Plot\",\"subtype\":\"Figure\"},\"ticker\":{\"type\":\"BasicTicker\",\"id\":\"6a3bde1f-0946-44d8-c4ae-464b440e8a88\"},\"id\":\"70af5f75-a406-4cb3-ccd2-c2d320ffe43a\",\"doc\":null,\"tags\":[]}},{\"id\":\"d8f84276-0c60-46a2-c679-e3d3417d7849\",\"type\":\"PanTool\",\"attributes\":{\"plot\":{\"id\":\"80916607-4ec3-4111-c1ce-45221464354c\",\"type\":\"Plot\",\"subtype\":\"Figure\"},\"dimensions\":[\"width\",\"height\"],\"id\":\"d8f84276-0c60-46a2-c679-e3d3417d7849\",\"doc\":null,\"tags\":[]}},{\"id\":\"78b1c040-27e8-48fc-c89a-a00850c8fc2e\",\"type\":\"WheelZoomTool\",\"attributes\":{\"plot\":{\"id\":\"80916607-4ec3-4111-c1ce-45221464354c\",\"type\":\"Plot\",\"subtype\":\"Figure\"},\"dimensions\":[\"width\",\"height\"],\"id\":\"78b1c040-27e8-48fc-c89a-a00850c8fc2e\",\"doc\":null,\"tags\":[]}},{\"id\":\"58a0b646-0879-4622-c6ba-6be7f1680868\",\"type\":\"BoxZoomTool\",\"attributes\":{\"plot\":{\"id\":\"80916607-4ec3-4111-c1ce-45221464354c\",\"type\":\"Plot\",\"subtype\":\"Figure\"},\"id\":\"58a0b646-0879-4622-c6ba-6be7f1680868\",\"tags\":[],\"doc\":null}},{\"id\":\"90cd3bab-7862-4102-c12a-1a4193098f73\",\"type\":\"PreviewSaveTool\",\"attributes\":{\"plot\":{\"id\":\"80916607-4ec3-4111-c1ce-45221464354c\",\"type\":\"Plot\",\"subtype\":\"Figure\"},\"id\":\"90cd3bab-7862-4102-c12a-1a4193098f73\",\"tags\":[],\"doc\":null}},{\"id\":\"7d2b0a47-170c-4ac1-ca4a-6685398c9c2b\",\"type\":\"ResizeTool\",\"attributes\":{\"plot\":{\"id\":\"80916607-4ec3-4111-c1ce-45221464354c\",\"type\":\"Plot\",\"subtype\":\"Figure\"},\"id\":\"7d2b0a47-170c-4ac1-ca4a-6685398c9c2b\",\"tags\":[],\"doc\":null}},{\"id\":\"79655b13-5385-4dc0-cd9f-9c4590daca1a\",\"type\":\"ResetTool\",\"attributes\":{\"plot\":{\"id\":\"80916607-4ec3-4111-c1ce-45221464354c\",\"type\":\"Plot\",\"subtype\":\"Figure\"},\"id\":\"79655b13-5385-4dc0-cd9f-9c4590daca1a\",\"tags\":[],\"doc\":null}},{\"id\":\"80916607-4ec3-4111-c1ce-45221464354c\",\"type\":\"Plot\",\"attributes\":{\"x_range\":{\"type\":\"DataRange1d\",\"id\":\"bb20367c-45be-4187-c160-91a65e1b87ee\"},\"tool_events\":{\"type\":\"ToolEvents\",\"id\":\"c77fc70e-c027-4bdd-cb74-9efe64b30c3f\"},\"below\":[{\"type\":\"LinearAxis\",\"id\":\"1a51a132-5544-45d0-c517-c7413397c262\"}],\"renderers\":[{\"type\":\"GlyphRenderer\",\"id\":\"3d45818a-b5bc-48e0-c871-129881dfe385\"},{\"type\":\"LinearAxis\",\"id\":\"1a51a132-5544-45d0-c517-c7413397c262\"},{\"type\":\"Grid\",\"id\":\"bb1614d0-945b-49bc-c939-478134e839e5\"},{\"type\":\"LinearAxis\",\"id\":\"c2b03050-7182-4818-c81f-517947bf8a35\"},{\"type\":\"Grid\",\"id\":\"70af5f75-a406-4cb3-ccd2-c2d320ffe43a\"}],\"above\":[],\"tools\":[{\"type\":\"PanTool\",\"id\":\"d8f84276-0c60-46a2-c679-e3d3417d7849\"},{\"type\":\"WheelZoomTool\",\"id\":\"78b1c040-27e8-48fc-c89a-a00850c8fc2e\"},{\"type\":\"BoxZoomTool\",\"id\":\"58a0b646-0879-4622-c6ba-6be7f1680868\"},{\"type\":\"PreviewSaveTool\",\"id\":\"90cd3bab-7862-4102-c12a-1a4193098f73\"},{\"type\":\"ResizeTool\",\"id\":\"7d2b0a47-170c-4ac1-ca4a-6685398c9c2b\"},{\"type\":\"ResetTool\",\"id\":\"79655b13-5385-4dc0-cd9f-9c4590daca1a\"}],\"doc\":null,\"right\":[],\"title\":\"Plot of Rougue-F1\",\"extra_x_ranges\":{},\"left\":[{\"type\":\"LinearAxis\",\"id\":\"c2b03050-7182-4818-c81f-517947bf8a35\"}],\"y_range\":{\"type\":\"DataRange1d\",\"id\":\"75deb4e1-de4b-4277-c2b6-03402a290f7d\"},\"id\":\"80916607-4ec3-4111-c1ce-45221464354c\",\"extra_y_ranges\":{},\"tags\":[]}}];\n",
       "  Bokeh.load_models(all_models);\n",
       "  var model = Bokeh.Collections(modeltype).get(modelid);\n",
       "  $(\"#49639db4-a51b-49a2-c935-bff03b70d736\").html(''); // clear any previous plot in window_id\n",
       "  var view = new model.default_view({model: model, el: \"#49639db4-a51b-49a2-c935-bff03b70d736\"});\n",
       "    } else {\n",
       "  load_lib(bokehjs_url, function() {\n",
       "      console.log(\"Bokeh: BokehJS plotting callback run at\", new Date())\n",
       "      var modelid = \"80916607-4ec3-4111-c1ce-45221464354c\";\n",
       "      var modeltype = \"Plot\";\n",
       "      var all_models = [{\"id\":\"38bd9b0b-8d2c-432c-c33c-6353b5ddd497\",\"type\":\"ColumnDataSource\",\"attributes\":{\"data\":{\"y\":[0.5,0.46,0.52571428571429,0.48,0.44,0.54571428571429,0.54571428571429,0.44571428571429,0.54571428571429,0.54571428571429,0.54571428571429,0.54571428571429,0.54571428571429,0.54571428571429,0.54571428571429,0.54571428571429,0.54571428571429,0.54571428571429,0.54571428571429,0.54571428571429,0.54571428571429,0.54571428571429,0.54571428571429,0.54571428571429,0.54571428571429,0.54571428571429,0.54571428571429,0.54571428571429,0.54571428571429,0.54571428571429,0.54571428571429,0.54571428571429,0.54571428571429,0.54571428571429,0.54571428571429,0.54571428571429,0.54571428571429,0.54571428571429,0.54571428571429,0.54571428571429,0.54571428571429,0.54571428571429,0.54571428571429,0.54571428571429,0.54571428571429,0.54571428571429,0.54571428571429,0.54571428571429,0.54571428571429,0.54571428571429,0.54571428571429,0.54571428571429,0.54571428571429,0.54571428571429,0.54571428571429,0.54571428571429,0.54571428571429,0.54571428571429,0.54571428571429,0.54571428571429,0.54571428571429,0.54571428571429,0.54571428571429,0.54571428571429,0.54571428571429,0.54571428571429,0.54571428571429,0.54571428571429,0.54571428571429,0.54571428571429,0.54571428571429,0.54571428571429,0.54571428571429,0.54571428571429,0.54571428571429,0.54571428571429,0.54571428571429,0.54571428571429,0.54571428571429,0.54571428571429,0.54571428571429,0.54571428571429,0.54571428571429,0.54571428571429,0.54571428571429,0.54571428571429,0.54571428571429,0.54571428571429,0.54571428571429,0.54571428571429,0.54571428571429,0.54571428571429,0.54571428571429,0.54571428571429,0.54571428571429,0.54571428571429,0.54571428571429,0.54571428571429,0.54571428571429,0.54571428571429],\"x\":[1,2,3,4,5,6,7,8,9,10,11,12,13,14,15,16,17,18,19,20,21,22,23,24,25,26,27,28,29,30,31,32,33,34,35,36,37,38,39,40,41,42,43,44,45,46,47,48,49,50,51,52,53,54,55,56,57,58,59,60,61,62,63,64,65,66,67,68,69,70,71,72,73,74,75,76,77,78,79,80,81,82,83,84,85,86,87,88,89,90,91,92,93,94,95,96,97,98,99,100]},\"column_names\":[\"y\",\"x\"],\"cont_ranges\":{},\"discrete_ranges\":{},\"selected\":[],\"id\":\"38bd9b0b-8d2c-432c-c33c-6353b5ddd497\",\"doc\":null,\"tags\":[]}},{\"id\":\"38e71985-908a-4f41-cfdb-a4f2127a8589\",\"type\":\"Line\",\"attributes\":{\"fill_alpha\":{\"units\":\"data\",\"value\":0.2},\"line_alpha\":{\"units\":\"data\",\"value\":1},\"doc\":null,\"size\":{\"units\":\"screen\",\"value\":10},\"fill_color\":{\"value\":\"blue\"},\"line_color\":{\"value\":\"blue\"},\"x\":{\"units\":\"data\",\"field\":\"x\"},\"id\":\"38e71985-908a-4f41-cfdb-a4f2127a8589\",\"y\":{\"units\":\"data\",\"field\":\"y\"},\"tags\":[]}},{\"id\":\"fb1c0a8c-3974-4ba7-cb54-d027d9fce98f\",\"type\":\"Line\",\"attributes\":{\"fill_alpha\":{\"units\":\"data\",\"value\":0.2},\"line_alpha\":{\"units\":\"data\",\"value\":1},\"doc\":null,\"size\":{\"units\":\"screen\",\"value\":10},\"fill_color\":{\"value\":\"blue\"},\"line_color\":{\"value\":\"blue\"},\"x\":{\"units\":\"data\",\"field\":\"x\"},\"id\":\"fb1c0a8c-3974-4ba7-cb54-d027d9fce98f\",\"y\":{\"units\":\"data\",\"field\":\"y\"},\"tags\":[]}},{\"id\":\"3d45818a-b5bc-48e0-c871-129881dfe385\",\"type\":\"GlyphRenderer\",\"attributes\":{\"name\":null,\"nonselection_glyph\":{\"type\":\"Line\",\"id\":\"fb1c0a8c-3974-4ba7-cb54-d027d9fce98f\"},\"doc\":null,\"server_data_source\":null,\"data_source\":{\"type\":\"ColumnDataSource\",\"id\":\"38bd9b0b-8d2c-432c-c33c-6353b5ddd497\"},\"glyph\":{\"type\":\"Line\",\"id\":\"38e71985-908a-4f41-cfdb-a4f2127a8589\"},\"selection_glyph\":null,\"id\":\"3d45818a-b5bc-48e0-c871-129881dfe385\",\"tags\":[]}},{\"id\":\"bb20367c-45be-4187-c160-91a65e1b87ee\",\"type\":\"DataRange1d\",\"attributes\":{\"sources\":[{\"columns\":[\"x\"],\"source\":{\"type\":\"ColumnDataSource\",\"id\":\"38bd9b0b-8d2c-432c-c33c-6353b5ddd497\"}}],\"id\":\"bb20367c-45be-4187-c160-91a65e1b87ee\",\"tags\":[],\"doc\":null}},{\"id\":\"75deb4e1-de4b-4277-c2b6-03402a290f7d\",\"type\":\"DataRange1d\",\"attributes\":{\"sources\":[{\"columns\":[\"y\"],\"source\":{\"type\":\"ColumnDataSource\",\"id\":\"38bd9b0b-8d2c-432c-c33c-6353b5ddd497\"}}],\"id\":\"75deb4e1-de4b-4277-c2b6-03402a290f7d\",\"tags\":[],\"doc\":null}},{\"id\":\"c77fc70e-c027-4bdd-cb74-9efe64b30c3f\",\"type\":\"ToolEvents\",\"attributes\":{\"tags\":[],\"id\":\"c77fc70e-c027-4bdd-cb74-9efe64b30c3f\",\"geometries\":[],\"doc\":null}},{\"id\":\"6761a806-b16f-4d65-cdfb-ac8a32d052d3\",\"type\":\"BasicTickFormatter\",\"attributes\":{\"id\":\"6761a806-b16f-4d65-cdfb-ac8a32d052d3\",\"tags\":[],\"doc\":null}},{\"id\":\"94195310-aa19-4ca4-ccff-ddd71d30ae2e\",\"type\":\"BasicTicker\",\"attributes\":{\"num_minor_ticks\":5,\"id\":\"94195310-aa19-4ca4-ccff-ddd71d30ae2e\",\"tags\":[],\"doc\":null}},{\"id\":\"1a51a132-5544-45d0-c517-c7413397c262\",\"type\":\"LinearAxis\",\"attributes\":{\"formatter\":{\"type\":\"BasicTickFormatter\",\"id\":\"6761a806-b16f-4d65-cdfb-ac8a32d052d3\"},\"ticker\":{\"type\":\"BasicTicker\",\"id\":\"94195310-aa19-4ca4-ccff-ddd71d30ae2e\"},\"plot\":{\"id\":\"80916607-4ec3-4111-c1ce-45221464354c\",\"type\":\"Plot\",\"subtype\":\"Figure\"},\"axis_label\":null,\"id\":\"1a51a132-5544-45d0-c517-c7413397c262\",\"doc\":null,\"tags\":[]}},{\"id\":\"bb1614d0-945b-49bc-c939-478134e839e5\",\"type\":\"Grid\",\"attributes\":{\"dimension\":0,\"plot\":{\"id\":\"80916607-4ec3-4111-c1ce-45221464354c\",\"type\":\"Plot\",\"subtype\":\"Figure\"},\"ticker\":{\"type\":\"BasicTicker\",\"id\":\"94195310-aa19-4ca4-ccff-ddd71d30ae2e\"},\"id\":\"bb1614d0-945b-49bc-c939-478134e839e5\",\"doc\":null,\"tags\":[]}},{\"id\":\"ba89f1af-8906-4b2e-cb32-cc24feeefc78\",\"type\":\"BasicTickFormatter\",\"attributes\":{\"id\":\"ba89f1af-8906-4b2e-cb32-cc24feeefc78\",\"tags\":[],\"doc\":null}},{\"id\":\"6a3bde1f-0946-44d8-c4ae-464b440e8a88\",\"type\":\"BasicTicker\",\"attributes\":{\"num_minor_ticks\":5,\"id\":\"6a3bde1f-0946-44d8-c4ae-464b440e8a88\",\"tags\":[],\"doc\":null}},{\"id\":\"c2b03050-7182-4818-c81f-517947bf8a35\",\"type\":\"LinearAxis\",\"attributes\":{\"formatter\":{\"type\":\"BasicTickFormatter\",\"id\":\"ba89f1af-8906-4b2e-cb32-cc24feeefc78\"},\"ticker\":{\"type\":\"BasicTicker\",\"id\":\"6a3bde1f-0946-44d8-c4ae-464b440e8a88\"},\"plot\":{\"id\":\"80916607-4ec3-4111-c1ce-45221464354c\",\"type\":\"Plot\",\"subtype\":\"Figure\"},\"axis_label\":null,\"id\":\"c2b03050-7182-4818-c81f-517947bf8a35\",\"doc\":null,\"tags\":[]}},{\"id\":\"70af5f75-a406-4cb3-ccd2-c2d320ffe43a\",\"type\":\"Grid\",\"attributes\":{\"dimension\":1,\"plot\":{\"id\":\"80916607-4ec3-4111-c1ce-45221464354c\",\"type\":\"Plot\",\"subtype\":\"Figure\"},\"ticker\":{\"type\":\"BasicTicker\",\"id\":\"6a3bde1f-0946-44d8-c4ae-464b440e8a88\"},\"id\":\"70af5f75-a406-4cb3-ccd2-c2d320ffe43a\",\"doc\":null,\"tags\":[]}},{\"id\":\"d8f84276-0c60-46a2-c679-e3d3417d7849\",\"type\":\"PanTool\",\"attributes\":{\"plot\":{\"id\":\"80916607-4ec3-4111-c1ce-45221464354c\",\"type\":\"Plot\",\"subtype\":\"Figure\"},\"dimensions\":[\"width\",\"height\"],\"id\":\"d8f84276-0c60-46a2-c679-e3d3417d7849\",\"doc\":null,\"tags\":[]}},{\"id\":\"78b1c040-27e8-48fc-c89a-a00850c8fc2e\",\"type\":\"WheelZoomTool\",\"attributes\":{\"plot\":{\"id\":\"80916607-4ec3-4111-c1ce-45221464354c\",\"type\":\"Plot\",\"subtype\":\"Figure\"},\"dimensions\":[\"width\",\"height\"],\"id\":\"78b1c040-27e8-48fc-c89a-a00850c8fc2e\",\"doc\":null,\"tags\":[]}},{\"id\":\"58a0b646-0879-4622-c6ba-6be7f1680868\",\"type\":\"BoxZoomTool\",\"attributes\":{\"plot\":{\"id\":\"80916607-4ec3-4111-c1ce-45221464354c\",\"type\":\"Plot\",\"subtype\":\"Figure\"},\"id\":\"58a0b646-0879-4622-c6ba-6be7f1680868\",\"tags\":[],\"doc\":null}},{\"id\":\"90cd3bab-7862-4102-c12a-1a4193098f73\",\"type\":\"PreviewSaveTool\",\"attributes\":{\"plot\":{\"id\":\"80916607-4ec3-4111-c1ce-45221464354c\",\"type\":\"Plot\",\"subtype\":\"Figure\"},\"id\":\"90cd3bab-7862-4102-c12a-1a4193098f73\",\"tags\":[],\"doc\":null}},{\"id\":\"7d2b0a47-170c-4ac1-ca4a-6685398c9c2b\",\"type\":\"ResizeTool\",\"attributes\":{\"plot\":{\"id\":\"80916607-4ec3-4111-c1ce-45221464354c\",\"type\":\"Plot\",\"subtype\":\"Figure\"},\"id\":\"7d2b0a47-170c-4ac1-ca4a-6685398c9c2b\",\"tags\":[],\"doc\":null}},{\"id\":\"79655b13-5385-4dc0-cd9f-9c4590daca1a\",\"type\":\"ResetTool\",\"attributes\":{\"plot\":{\"id\":\"80916607-4ec3-4111-c1ce-45221464354c\",\"type\":\"Plot\",\"subtype\":\"Figure\"},\"id\":\"79655b13-5385-4dc0-cd9f-9c4590daca1a\",\"tags\":[],\"doc\":null}},{\"id\":\"80916607-4ec3-4111-c1ce-45221464354c\",\"type\":\"Plot\",\"attributes\":{\"x_range\":{\"type\":\"DataRange1d\",\"id\":\"bb20367c-45be-4187-c160-91a65e1b87ee\"},\"tool_events\":{\"type\":\"ToolEvents\",\"id\":\"c77fc70e-c027-4bdd-cb74-9efe64b30c3f\"},\"below\":[{\"type\":\"LinearAxis\",\"id\":\"1a51a132-5544-45d0-c517-c7413397c262\"}],\"renderers\":[{\"type\":\"GlyphRenderer\",\"id\":\"3d45818a-b5bc-48e0-c871-129881dfe385\"},{\"type\":\"LinearAxis\",\"id\":\"1a51a132-5544-45d0-c517-c7413397c262\"},{\"type\":\"Grid\",\"id\":\"bb1614d0-945b-49bc-c939-478134e839e5\"},{\"type\":\"LinearAxis\",\"id\":\"c2b03050-7182-4818-c81f-517947bf8a35\"},{\"type\":\"Grid\",\"id\":\"70af5f75-a406-4cb3-ccd2-c2d320ffe43a\"}],\"above\":[],\"tools\":[{\"type\":\"PanTool\",\"id\":\"d8f84276-0c60-46a2-c679-e3d3417d7849\"},{\"type\":\"WheelZoomTool\",\"id\":\"78b1c040-27e8-48fc-c89a-a00850c8fc2e\"},{\"type\":\"BoxZoomTool\",\"id\":\"58a0b646-0879-4622-c6ba-6be7f1680868\"},{\"type\":\"PreviewSaveTool\",\"id\":\"90cd3bab-7862-4102-c12a-1a4193098f73\"},{\"type\":\"ResizeTool\",\"id\":\"7d2b0a47-170c-4ac1-ca4a-6685398c9c2b\"},{\"type\":\"ResetTool\",\"id\":\"79655b13-5385-4dc0-cd9f-9c4590daca1a\"}],\"doc\":null,\"right\":[],\"title\":\"Plot of Rougue-F1\",\"extra_x_ranges\":{},\"left\":[{\"type\":\"LinearAxis\",\"id\":\"c2b03050-7182-4818-c81f-517947bf8a35\"}],\"y_range\":{\"type\":\"DataRange1d\",\"id\":\"75deb4e1-de4b-4277-c2b6-03402a290f7d\"},\"id\":\"80916607-4ec3-4111-c1ce-45221464354c\",\"extra_y_ranges\":{},\"tags\":[]}}];\n",
       "      Bokeh.load_models(all_models);\n",
       "      var model = Bokeh.Collections(modeltype).get(modelid);\n",
       "      $(\"#49639db4-a51b-49a2-c935-bff03b70d736\").html(''); // clear any previous plot in window_id\n",
       "      var view = new model.default_view({model: model, el: \"#49639db4-a51b-49a2-c935-bff03b70d736\"});\n",
       "  });\n",
       "    }\n",
       "});\n",
       "</script>\n",
       "<div class=\"plotdiv\" id=\"49639db4-a51b-49a2-c935-bff03b70d736\"></div>\n"
      ]
     },
     "metadata": {},
     "output_type": "display_data"
    }
   ],
   "source": [
    "-- plot = Plot():line(indices, loss, 'red', 'hi'):title('Plot of loss'):draw()\n",
    "plot = Plot():line(indices, rougue, 'blue', 'hi'):title('Plot of Rougue-F1'):draw()"
   ]
  },
  {
   "cell_type": "code",
   "execution_count": 13,
   "metadata": {
    "collapsed": true
   },
   "outputs": [],
   "source": [
    "function stackMemory(newinput, memory_hist, memsize, adapt, use_cuda)\n",
    "    local sentMemory = torch.cat(newinput[1][1]:double(), memory_hist[1][1]:double(), 1)\n",
    "    local queryMemory = torch.cat(newinput[1][2]:double(), memory_hist[1][2]:double(), 1)\n",
    "    local sumryMemory = torch.cat(newinput[1][3]:double(), memory_hist[1][3]:double(), 1)\n",
    "    local rewardMemory = torch.cat(newinput[2]:double(), memory_hist[2]:double(), 1)\n",
    "\n",
    "    if adapt then\n",
    "        regMemory = torch.cat(newinput[4]:double(), memory_hist[4]:double(), 1)\n",
    "    end \n",
    "\n",
    "    if use_cuda then \n",
    "        actionMemory = torch.cat(newinput[3]:double(), memory_hist[3]:double(), 1)\n",
    "    else \n",
    "        actionMemory = torch.cat(newinput[3], memory_hist[3], 1)\n",
    "    end\n",
    "    --- specifying rows to index \n",
    "    if sentMemory:size(1) <= memsize then\n",
    "        nend = sentMemory:size(1)\n",
    "        nstart = 1\n",
    "    else \n",
    "        nstart = math.max(memsize - sentMemory:size(1), 1)\n",
    "        nend = memsize + nstart\n",
    "    end\n",
    "    --- Selecting n last data points\n",
    "    sentMemory = sentMemory[{{nstart, nend}}]\n",
    "    queryMemory = queryMemory[{{nstart, nend}}]\n",
    "    sumryMemory = sumryMemory[{{nstart, nend}}]\n",
    "    rewardMemory = rewardMemory[{{nstart, nend}}]\n",
    "    actionMemory = actionMemory[{{nstart, nend}}]\n",
    "\n",
    "    if use_cuda then\n",
    "        inputMemory = {sentMemory:cuda(), queryMemory:cuda(), sumryMemory:cuda()}\n",
    "        rewardMemory = rewardMemory:cuda()\n",
    "        actionMemory = torch.ByteTensor(#actionMemory):copy(actionMemory):cuda()\n",
    "    end\n",
    "\n",
    "    inputMemory = {sentMemory, queryMemory, sumryMemory}\n",
    "    if adapt then\n",
    "        regMemory = regMemory[{{nstart, nend}}]\n",
    "        return {inputMemory, rewardMemory, actionMemory, regMemory}\n",
    "    end \n",
    "    return {inputMemory, rewardMemory, actionMemory}\n",
    "end    "
   ]
  },
  {
   "cell_type": "code",
   "execution_count": null,
   "metadata": {
    "collapsed": true
   },
   "outputs": [],
   "source": []
  }
 ],
 "metadata": {
  "anaconda-cloud": {},
  "kernelspec": {
   "display_name": "iTorch",
   "language": "lua",
   "name": "itorch"
  },
  "language_info": {
   "name": "lua",
   "version": "5.1"
  }
 },
 "nbformat": 4,
 "nbformat_minor": 1
}
