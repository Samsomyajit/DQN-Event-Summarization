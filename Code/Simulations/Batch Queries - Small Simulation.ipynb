{
 "cells": [
  {
   "cell_type": "code",
   "execution_count": 1,
   "metadata": {
    "collapsed": false
   },
   "outputs": [],
   "source": [
    "require 'nn'\n",
    "require 'rnn'\n",
    "require 'image'\n",
    "require 'optim'\n",
    "require 'parallel'\n",
    "require 'cutorch'\n",
    "require 'cunn'\n",
    "require 'cunnx'\n",
    "dl = require 'dataload'"
   ]
  },
  {
   "cell_type": "code",
   "execution_count": 2,
   "metadata": {
    "collapsed": false
   },
   "outputs": [],
   "source": [
    "-- Some useful functions\n",
    "function genNbyK(n, k, a, b)\n",
    "    out = torch.LongTensor(n, k)\n",
    "    for i=1, n do\n",
    "        for j = 1, k do\n",
    "            out[i][j] = torch.random(a, b)\n",
    "        end\n",
    "    end\n",
    "    return out\n",
    "end\n",
    "\n",
    "function buildModel(model, vocabSize, embeddingSize, metric, adapt, use_cuda)\n",
    "    -- Small experiments seem to show that the Tanh activations performed better\\\n",
    "    --      than the ReLU for the bow model\n",
    "    if model == 'bow' then\n",
    "        print(string.format(\"Running bag-of-words model to learn %s\", metric))\n",
    "        sentenceLookup = nn.Sequential()\n",
    "                    :add(nn.LookupTableMaskZero(vocabSize, embeddingSize))\n",
    "                    :add(nn.Sum(2, 3, true)) -- Not averaging blows up model so keep this true\n",
    "                    :add(nn.Tanh())\n",
    "    else\n",
    "        print(string.format(\"Running LSTM model to learn %s\", metric))\n",
    "        sentenceLookup = nn.Sequential()\n",
    "                    :add(nn.LookupTableMaskZero(vocabSize, embeddingSize))\n",
    "                    :add(nn.SplitTable(2))\n",
    "                    :add(nn.Sequencer(nn.LSTM(embeddingSize, embeddingSize)))\n",
    "                    :add(nn.SelectTable(-1))            -- selects last state of the LSTM\n",
    "                    :add(nn.Linear(embeddingSize, embeddingSize))\n",
    "                    :add(nn.ReLU())\n",
    "    end\n",
    "    local queryLookup = sentenceLookup:clone(\"weight\", \"gradWeight\") \n",
    "    local summaryLookup = sentenceLookup:clone(\"weight\", \"gradWeight\")\n",
    "    local pmodule = nn.ParallelTable()\n",
    "                :add(sentenceLookup)\n",
    "                :add(queryLookup)\n",
    "                :add(summaryLookup)\n",
    "\n",
    "    if model == 'bow' then\n",
    "        nnmodel = nn.Sequential()\n",
    "            :add(pmodule)\n",
    "            :add(nn.JoinTable(2))\n",
    "            :add(nn.Tanh())\n",
    "            :add(nn.Linear(embeddingSize * 3, 2))\n",
    "    else\n",
    "        nnmodel = nn.Sequential()\n",
    "            :add(pmodule)\n",
    "            :add(nn.JoinTable(2))\n",
    "            :add(nn.ReLU())\n",
    "            :add(nn.Linear(embeddingSize * 3, 2))\n",
    "    end\n",
    "\n",
    "    if adapt then \n",
    "        print(\"Adaptive regularization\")\n",
    "        local logmod = nn.Sequential()\n",
    "            :add(nn.Linear(embeddingSize * 3, 1))\n",
    "            :add(nn.LogSigmoid())\n",
    "            :add(nn.SoftMax())\n",
    "\n",
    "        local regmod = nn.Sequential()\n",
    "            :add(nn.Linear(embeddingSize * 3, 2))\n",
    "\n",
    "        local fullmod = nn.ConcatTable()\n",
    "            :add(regmod)\n",
    "            :add(logmod)\n",
    "\n",
    "        local final = nn.Sequential()\n",
    "            :add(pmodule)\n",
    "            :add(nn.JoinTable(2))\n",
    "            :add(fullmod)\n",
    "\n",
    "        nnmodel = final\n",
    "    end\n",
    "\n",
    "    if use_cuda then\n",
    "        return nnmodel:cuda()\n",
    "    end\n",
    "    return nnmodel\n",
    "end\n",
    "\n",
    "function Tokenize(inputdic)\n",
    "    --- This function tokenizes the words into a unigram dictionary\n",
    "    local out = {}\n",
    "    for k, v in pairs(inputdic) do\n",
    "        if v ~= 0 then \n",
    "            if out[v] == nil then\n",
    "                out[v] = 1\n",
    "            else \n",
    "                out[v] = 1 + out[v]\n",
    "            end\n",
    "        end\n",
    "    end\n",
    "    return out\n",
    "end\n",
    "\n",
    "function rougeScores(genSummary, refSummary)\n",
    "    local genTotal = 0\n",
    "    local refTotal = 0\n",
    "    local intersection = 0\n",
    "    -- Inserting the missing keys\n",
    "    for k, genCount in pairs(genSummary) do\n",
    "        if refSummary[k] == nil then\n",
    "            refSummary[k] = 0\n",
    "        end\n",
    "    end\n",
    "    for k, refCount in pairs(refSummary) do\n",
    "        local genCount = genSummary[k]\n",
    "        if genCount == nil then \n",
    "            genCount = 0 \n",
    "        end\n",
    "        intersection = intersection + math.min(refCount, genCount)\n",
    "        refTotal = refTotal + refCount\n",
    "        genTotal = genTotal + genCount\n",
    "    end\n",
    "\n",
    "    recall = intersection / refTotal\n",
    "    prec = intersection / genTotal\n",
    "    if refTotal == 0 then\n",
    "        recall = 0\n",
    "    end \n",
    "    if genTotal == 0 then\n",
    "        prec = 0\n",
    "    end\n",
    "    -- tmp = {intersection, refTotal, genTotal}\n",
    "    if recall > 0 or prec > 0 then\n",
    "        f1 = (2 * recall * prec) / (recall + prec)\n",
    "    else \n",
    "        f1 = 0\n",
    "    end\n",
    "    return recall, prec, f1\n",
    "end"
   ]
  },
  {
   "cell_type": "code",
   "execution_count": 3,
   "metadata": {
    "collapsed": true
   },
   "outputs": [],
   "source": [
    "function buildPredsummary(chosenactions, inputsentences, select_index)\n",
    "    local summary = torch.zeros(inputsentences:size())\n",
    "    for i=1, chosenactions:size(1) do\n",
    "        -- the 2 is for the SELECT index, will have to make this more general later\n",
    "        if chosenactions[i][select_index] == 1 then\n",
    "            summary[i]:copy(inputsentences[i])\n",
    "        end\n",
    "    end    \n",
    "    return summary\n",
    "end\n",
    "\n",
    "function buildPredsummaryFast(chosenactions, inputsentences, select_index)\n",
    "    local n = inputsentences:size(1)\n",
    "    local k = inputsentences:size(2)\n",
    "    local summary = torch.zeros(inputsentences:size())\n",
    "    actionmatrix = chosenactions:select(2, select_index):clone():resize(n, 1):view(n, 1):expand(n, k):clone()\n",
    "    --     This line didn't work for whatever reason...gives weird indexing...\n",
    "    --     actionmatrix = chosenactions:select(2, select_index):resize(1, n):view(n, 1):expand(n, k):clone()\n",
    "    return actionmatrix:cmul(inputsentences:double())\n",
    "end"
   ]
  },
  {
   "cell_type": "code",
   "execution_count": 4,
   "metadata": {
    "collapsed": true
   },
   "outputs": [],
   "source": [
    "function buildTotalSummary(predsummary, totalPredsummary)\n",
    "    nps = predsummary:size(1)\n",
    "    n_l = totalPredsummary:size(2)\n",
    "    indices = torch.linspace(1, n_l, n_l):long() \n",
    "    for i=1, predsummary:size(1) do\n",
    "        if predsummary[i]:sum() > 0 then \n",
    "            -- maxindex = 0\n",
    "            -- for j = 1, totalPredsummary[i]:size(1) do \n",
    "            --     if totalPredsummary[i][j] == 0 then\n",
    "            --         maxindex = maxindex + 1\n",
    "            --     end\n",
    "            -- end\n",
    "            -- lenx = predsummary[i]:size(1)\n",
    "            -- totalPredsummary[i][{{maxindex - lenx + 1, maxindex}}]:copy(predsummary[i])\n",
    "\n",
    "            minindex = 1\n",
    "            for j = 1, totalPredsummary[i]:size(1) do \n",
    "                if totalPredsummary[i][j] > 0 then\n",
    "                    minindex = minindex + 1\n",
    "                end\n",
    "            end\n",
    "            lenx = predsummary[i]:size(1)\n",
    "            totalPredsummary[i][{{minindex, minindex + lenx - 1}}]:copy(predsummary[i])\n",
    "\n",
    "        end\n",
    "    end\n",
    "end\n",
    "\n",
    "-- function buildTotalSummaryFast(predsummary, inputTotalSummary)\n",
    "--     totalPredsummary = inputTotalSummary:clone()\n",
    "--     nps = predsummary:size(1)\n",
    "--     n_l = inputTotalSummary:size(2)\n",
    "--     indices = torch.linspace(1, n_l, n_l):long() \n",
    "--     for i=1, predsummary:size(1) do\n",
    "--         if predsummary[i]:sum() > 0 then \n",
    "--             -- Finding the largest index with a zero\n",
    "--             -- maxindex = torch.max(indices[torch.eq(totalPredsummary[i], 0)])\n",
    "--             -- totalPredsummary[i][{{maxindex - lenx + 1, maxindex}}]:copy(predsummary[i])\n",
    "--             -- Finding the smallest index with a zero\n",
    "--             minindex = torch.min(indices[torch.eq(inputTotalSummary[i], 0)])\n",
    "--             lenx = predsummary[i]:size(1)\n",
    "--             totalPredsummary[i][{{minindex, minindex + lenx - 1}}]:copy(predsummary[i])\n",
    "--         end\n",
    "--     end\n",
    "--     return totalPredsummary\n",
    "-- end\n",
    "\n",
    "function buildTotalSummaryFast(predsummary, inputTotalSummary)\n",
    "    tmpSummary = inputTotalSummary:clone()\n",
    "    nps = predsummary:size(1)\n",
    "    n_l = inputTotalSummary:size(2)\n",
    "    indices = torch.linspace(1, n_l, n_l):long() \n",
    "    for i=1, predsummary:size(1) do\n",
    "        if predsummary[i]:sum() > 0 then \n",
    "            -- Finding the largest index with a zero\n",
    "            -- maxindex = torch.max(indices[torch.eq(totalPredsummary[i], 0)])\n",
    "            -- totalPredsummary[i][{{maxindex - lenx + 1, maxindex}}]:copy(predsummary[i])\n",
    "            -- Finding the smallest index with a zero\n",
    "            minindex = torch.min(indices[torch.eq(tmpSummary[i], 0)])\n",
    "            lenx = predsummary[i]:size(1)\n",
    "            tmpSummary[i][{{minindex, minindex + lenx - 1}}]:copy(predsummary[i])\n",
    "        end\n",
    "    end\n",
    "    return tmpSummary\n",
    "end"
   ]
  },
  {
   "cell_type": "code",
   "execution_count": 5,
   "metadata": {
    "collapsed": true
   },
   "outputs": [],
   "source": [
    "-- Setting parameters\n",
    "-- n = 10\n",
    "n = 1\n",
    "n_s = 10\n",
    "k = 8\n",
    "q = 5\n",
    "a = 1\n",
    "b = 1000\n",
    "embDim = 50\n",
    "gamma = 0.3\n",
    "SKIP = 1\n",
    "SELECT = 2\n",
    "epsilon = 1\n",
    "nepochs = 1000\n",
    "fast = true\n",
    "\n",
    "maskLayer = nn.MaskedSelect()"
   ]
  },
  {
   "cell_type": "code",
   "execution_count": 6,
   "metadata": {
    "collapsed": false
   },
   "outputs": [],
   "source": [
    "x = torch.zeros(10, 5)"
   ]
  },
  {
   "cell_type": "markdown",
   "metadata": {},
   "source": [
    "# Simulating the data"
   ]
  },
  {
   "cell_type": "code",
   "execution_count": 7,
   "metadata": {
    "collapsed": true
   },
   "outputs": [],
   "source": [
    "-- Simulating streams and queries\n",
    "queries = genNbyK(n, q, a, b)\n",
    "\n",
    "-- Note that the sentences are batched by sentence index so sentences[1] is the first sentence of each article\n",
    "sentences = {}\n",
    "for i=1, n_s do\n",
    "    sentences[i] = genNbyK(n, k, a, b)\n",
    "end\n",
    "-- Optimal predicted summary\n",
    "trueSummary = torch.zeros(n, k * n_s)\n",
    "-- Using this to generate the optimal actions\n",
    "true_actions = {}\n",
    "\n",
    "for i=1, n_s do \n",
    "    ---- Simulating the data\n",
    "    trueqValues = torch.rand(n, 2)\n",
    "    \n",
    "     ---- Generating the max values and getting the indices\n",
    "    qMaxtrue, qindxtrue = torch.max(trueqValues, 2)\n",
    "    \n",
    "    --- I want to select the qindx elements for each row\n",
    "    true_actions[i] = torch.zeros(n, 2):scatter(2, qindxtrue, torch.ones(trueqValues:size()))\n",
    "    best_sentences = buildPredsummaryFast(true_actions[i], sentences[i], SELECT)\n",
    "    trueSummary = buildTotalSummaryFast(best_sentences, trueSummary)\n",
    "end\n",
    "\n",
    "qTokens = {}\n",
    "for i=1, n do\n",
    "    qTokens[i] = Tokenize(trueSummary[i]:totable())\n",
    "end"
   ]
  },
  {
   "cell_type": "markdown",
   "metadata": {},
   "source": [
    "# Scoring the rougue metrics on the simulation"
   ]
  },
  {
   "cell_type": "code",
   "execution_count": 8,
   "metadata": {
    "collapsed": false
   },
   "outputs": [
    {
     "data": {
      "text/plain": [
       "1\t1\t1\t\n"
      ]
     },
     "execution_count": 8,
     "metadata": {},
     "output_type": "execute_result"
    }
   ],
   "source": [
    "print(rougeScores(Tokenize(trueSummary[1]:totable()), Tokenize(trueSummary[1]:totable())))"
   ]
  },
  {
   "cell_type": "markdown",
   "metadata": {},
   "source": [
    "# Building the model"
   ]
  },
  {
   "cell_type": "code",
   "execution_count": 9,
   "metadata": {
    "collapsed": false
   },
   "outputs": [
    {
     "data": {
      "text/plain": [
       "Running bag-of-words model to learn f1\t\n"
      ]
     },
     "execution_count": 9,
     "metadata": {},
     "output_type": "execute_result"
    }
   ],
   "source": [
    "-- model = buildModel('lstm', b, embDim, 'f1', false, false)\n",
    "model = buildModel('bow', b, embDim, 'f1', false, false)\n",
    "\n",
    "params, gradParams = model:getParameters()\n",
    "criterion = nn.MSECriterion()\n",
    "maskLayer = nn.MaskedSelect()"
   ]
  },
  {
   "cell_type": "markdown",
   "metadata": {},
   "source": [
    "# Scoring the model on the sentences"
   ]
  },
  {
   "cell_type": "code",
   "execution_count": 10,
   "metadata": {
    "collapsed": false,
    "scrolled": true
   },
   "outputs": [],
   "source": [
    "optimParams = { learningRate = 1e-4}\n",
    "\n",
    "totalPredsummary = {}\n",
    "qValues = {}\n",
    "qActions = {}\n",
    "qPreds = {}\n",
    "rewards = {}\n",
    "lossfull = {}\n",
    "rouguef1 = {}\n",
    "\n",
    "totalPredsummary = torch.LongTensor(n, n_s * k):fill(0)\n",
    "\n",
    "memsize = n * n_s\n",
    "queryMemory = torch.zeros(memsize, q)\n",
    "qActionMemory = torch.zeros(memsize, 2)\n",
    "predSummaryMemory = torch.zeros(memsize, n_s * k)\n",
    "sentenceMemory = torch.zeros(memsize, k)\n",
    "qPredsMemory = torch.zeros(memsize, 2)\n",
    "qValuesMemory = torch.zeros(memsize, 1)\n",
    "rewardMemory = torch.zeros(memsize, 1)\n",
    "\n",
    "--- Initializing thingss\n",
    "\n",
    "for i = 1, n_s do\n",
    "    qPreds[i] = torch.zeros(n, 2)\n",
    "    qValues[i] = torch.zeros(n, 1) \n",
    "    qActions[i] = torch.zeros(n, 2)\n",
    "    rewards[i] = torch.zeros(n, 1)\n",
    "end \n",
    "\n",
    "for epoch=1, nepochs do\n",
    "    --- Reset things at the start of each epoch\n",
    "    for i=1, n_s do\n",
    "        qPreds[i]:fill(0)\n",
    "        qValues[i]:fill(0)\n",
    "        qActions[i]:fill(0)\n",
    "        rewards[i]:fill(0)\n",
    "        totalPredsummary:fill(0)\n",
    "    end\n",
    "\n",
    "    for i=1, n_s do\n",
    "        if torch.uniform(0, 1) <= epsilon then \n",
    "            qPreds[i]:copy(torch.rand(n, 2))\n",
    "            -- Need to run a forward pass for the backward to work...wonky\n",
    "            ignore = model:forward({sentences[i], queries, totalPredsummary})\n",
    "        else \n",
    "            qPreds[i]:copy(model:forward({sentences[i], queries, totalPredsummary}) )\n",
    "        end \n",
    "        if fast then \n",
    "            qMax, qindx = torch.max(qPreds[i], 2)  -- Pulling the best actions\n",
    "            -- Here's the fast way to select the optimal action for each query\n",
    "            qActions[i]:copy(qActions[i]:scatter(2, qindx, torch.ones(qPreds[i]:size())):clone())\n",
    "            qValues[i]:copy(qMax)\n",
    "            predsummary = buildPredsummaryFast(qActions[i], sentences[i], SELECT)\n",
    "            totalPredsummary = buildTotalSummaryFast(predsummary, totalPredsummary)\n",
    "        else \n",
    "            for j=1, n do\n",
    "                if qPreds[i][j][SELECT] > qPreds[i][j][SKIP] then\n",
    "                    qActions[i][j][SELECT] = 1\n",
    "                    qValues[i][j]:fill(qPreds[i][j][SELECT])\n",
    "                else\n",
    "                    qActions[i][j][SKIP] = 1\n",
    "                    qValues[i][j]:fill(qPreds[i][j][SKIP])\n",
    "                end\n",
    "            end\n",
    "            predsummary = buildPredsummary(qActions[i], sentences[i], SELECT)\n",
    "            buildTotalSummary(predsummary, totalPredsummary)\n",
    "        end\n",
    "        for j = 1, n do\n",
    "            recall, prec, f1 = rougeScores( qTokens[j],\n",
    "                                            Tokenize(totalPredsummary[j]:totable()))\n",
    "            rewards[i][j]:fill(f1)\n",
    "        end\n",
    "        if i > 1 then\n",
    "            -- Calculating change in rougue f1\n",
    "            rewards[i]:copy(rewards[i] - rewards[i-1])\n",
    "        end\n",
    "        -- Update memory sequentially until it's full \n",
    "        qActionMemory[{{n * (i-1) + 1, n * i}}]:copy(qActions[i])\n",
    "        predSummaryMemory[{{n * (i-1) + 1, n * i}}]:copy(totalPredsummary)\n",
    "        sentenceMemory[{{n * (i-1) + 1, n * i}}]:copy(sentences[i])\n",
    "        qPredsMemory[{{n * (i-1) + 1, n * i}}]:copy(qPreds[i])\n",
    "        qValuesMemory[{{n * (i-1) + 1, n * i}}]:copy(qValues[i])\n",
    "        queryMemory[{{n * (i-1) + 1, n * i}}]:copy(queries)\n",
    "        if i  < n_s then\n",
    "            rewardMemory[{{n * (i-1) + 1, n * i}}]:copy(rewards[i] + gamma * rewards[i + 1] )\n",
    "        else\n",
    "            rewardMemory[{{n * (i-1) + 1, n * i}}]:copy(rewards[i] )\n",
    "        end\n",
    "    end\n",
    "    -- Adding back the delta for the last one\n",
    "    rouguef1[epoch] = (rewards[n_s] + rewards[ n_s - 1] ):mean()\n",
    "\n",
    "    loss = {}\n",
    "    local dataloader = dl.TensorLoader({queryMemory, sentenceMemory, predSummaryMemory, \n",
    "                            qPredsMemory, qActionMemory, qValuesMemory}, rewardMemory)\n",
    "    c = 1\n",
    "    for k, xin, reward in dataloader:sampleiter(batch_size, memsize) do\n",
    "        local function feval(params)\n",
    "            gradParams:zero()\n",
    "            if adapt then\n",
    "                local ignore = model:forward({xin[1], xin[2], xin[3]})\n",
    "                local predQOnActions = maskLayer:forward({qPredsMemory, actions_in}) \n",
    "                local ones = torch.ones(predQ:size(1)):resize(predQ:size(1))\n",
    "                lossf = criterion:forward({qValuesMemory, predReg}, {reward, ones})\n",
    "                local gradOutput = criterion:backward({qActionMemory, predReg}, {reward, ones})\n",
    "                local gradMaskLayer = maskLayer:backward({qPredsMemory, qActionMemory}, gradOutput[1])\n",
    "                model:backward({xin[1], xin[2], xin[3]}, {gradMaskLayer[1], gradOutput[2]})\n",
    "            else \n",
    "                local ignore = model:forward({xin[1], xin[2], xin[3]})\n",
    "                local predQOnActions = maskLayer:forward({xin[4], xin[5]:byte()}) \n",
    "                lossf = criterion:forward(predQOnActions, reward)\n",
    "                local gradOutput = criterion:backward(predQOnActions, reward)\n",
    "                local gradMaskLayer = maskLayer:backward({xin[4], xin[5]:byte()}, gradOutput)\n",
    "                model:backward({xin[1], xin[2], xin[3]}, gradMaskLayer[1])\n",
    "            end \n",
    "            return lossf, gradParams\n",
    "        end\n",
    "        --- optim.rmsprop returns \\theta, f(\\theta):= loss function\n",
    "         _, lossv  = optim.rmsprop(feval, params, optimParams)\n",
    "        loss[c] = lossv[1]\n",
    "        c = c + 1\n",
    "    end\n",
    "\n",
    "    lossfull[epoch] = torch.Tensor(loss):sum() / #lossv\n",
    "    if print_perf then\n",
    "        print(\n",
    "            string.format('epoch = %i; rougue = %.6f; epsilon = %.6f; loss = %.6f' , \n",
    "                epoch, rouguef1[epoch], epsilon, lossfull[epoch])\n",
    "            )\n",
    "    end\n",
    "    epsilon = epsilon - (1/10.)\n",
    "    if epsilon < 0 then\n",
    "        epsilon = 0\n",
    "    end\n",
    "end"
   ]
  },
  {
   "cell_type": "code",
   "execution_count": 11,
   "metadata": {
    "collapsed": false,
    "scrolled": false
   },
   "outputs": [
    {
     "data": {
      "text/html": [
       "<script type=\"text/javascript\">\n",
       "$(function() {\n",
       "    if (typeof (window._bokeh_onload_callbacks) === \"undefined\"){\n",
       "  window._bokeh_onload_callbacks = [];\n",
       "    }\n",
       "    function load_lib(url, callback){\n",
       "  window._bokeh_onload_callbacks.push(callback);\n",
       "  if (window._bokeh_is_loading){\n",
       "      console.log(\"Bokeh: BokehJS is being loaded, scheduling callback at\", new Date());\n",
       "      return null;\n",
       "  }\n",
       "  console.log(\"Bokeh: BokehJS not loaded, scheduling load and callback at\", new Date());\n",
       "  window._bokeh_is_loading = true;\n",
       "  var s = document.createElement('script');\n",
       "  s.src = url;\n",
       "  s.async = true;\n",
       "  s.onreadystatechange = s.onload = function(){\n",
       "      Bokeh.embed.inject_css(\"https://cdn.pydata.org/bokeh-0.7.0.min.css\");\n",
       "      window._bokeh_onload_callbacks.forEach(function(callback){callback()});\n",
       "  };\n",
       "  s.onerror = function(){\n",
       "      console.warn(\"failed to load library \" + url);\n",
       "  };\n",
       "  document.getElementsByTagName(\"head\")[0].appendChild(s);\n",
       "    }\n",
       "\n",
       "    bokehjs_url = \"https://cdn.pydata.org/bokeh-0.7.0.min.js\"\n",
       "\n",
       "    var elt = document.getElementById(\"e4375cef-c895-46d0-c6a9-fab205519e72\");\n",
       "    if(elt==null) {\n",
       "  console.log(\"Bokeh: ERROR: autoload.js configured with elementid 'e4375cef-c895-46d0-c6a9-fab205519e72'\"\n",
       "        + \"but no matching script tag was found. \")\n",
       "  return false;\n",
       "    }\n",
       "\n",
       "    if(typeof(Bokeh) !== \"undefined\") {\n",
       "  console.log(\"Bokeh: BokehJS loaded, going straight to plotting\");\n",
       "  var modelid = \"bc15cc70-ce9e-41f7-c15e-cf43818825f6\";\n",
       "  var modeltype = \"Plot\";\n",
       "  var all_models = [{\"id\":\"f58a716c-0919-4ed1-ce81-4532f5591c71\",\"type\":\"ColumnDataSource\",\"attributes\":{\"data\":{\"y\":[0.44109920665557,0.13696715055156,0.42768972995604,0.26307703324209,0.33777791983137,0.11749174384509,0.14463058013813,0.33731756241832,0.091700061063056,0.11968169246137,0.095092733246725,0.089472757547505,0.07328509951987,0.01281245102704,0.094702564672543,0.070882261006313,0.061642285371616,0.095177055531243,0.04530883029306,0.070864577013858,0.056505330721278,0.072684864528727,0.079321255005645,0.04819180250734,0.012101170454702,0.027525744892899,0.054478164613215,0.034716111029517,0.062676592742455,0.04826006114945,0.055891003754692,0.075193581580338,0.085915590255891,0.065152044791795,0.073677274828899,0.066832007611102,0.071380203919967,0.0187623055067,0.047059368298085,0.050367055916345,0.03935530630964,0.054369224564819,0.071432160029577,0.057141385619838,0.033109370698366,0.042999909022339,0.066840749845532,0.078770196070283,0.049703623056118,0.071304129144395,0.083771371977893,0.062440685930171,0.089470532861009,0.071210827647199,0.079671967071258,0.05850337366218,0.036323061991055,0.064178177851249,0.098379408881067,0.046254756021151,0.078958254697726,0.067538638680613,0.031467760531585,0.03553792291039,0.0475966281883,0.10203219782001,0.03227167746839,0.082915348577472,0.027529768514353,0.077518581983669,0.044145881788163,0.052857601914604,0.031252158500524,0.05644438817104,0.042832032094084,0.03320724682765,0.039025293278996,0.028770500619127,0.0046710790355351,0.045800948022339,0.042741386184089,0.051513074672541,0.034053836076921,0.068122156483273,0.068486132076547,0.024774624736942,0.05224901024685,0.035139506113157,0.057591831614521,0.041773506980101,0.033059448396964,0.06523055863419,0.067261608732295,0.037777772733274,0.0073442926874025,0.10344113267522,0.068273475587065,0.013333115092328,0.042142366795019,0.048067361361501,0.034225923643039,0.056168062704653,0.024292631529752,0.027767267110739,0.024863329171643,0.0055165942848782,0.048949296797535,0.032423905482007,0.013202729152347,0.050193927787443,0.075594324933984,0.049349869951693,0.049352910289972,0.048442064938562,0.033886826731377,0.029245125225338,0.039815748409679,0.030213722713404,0.028900246049397,0.047118915383642,0.045926816602749,0.0396219079988,0.035626756042167,0.038380571419006,0.013376032773595,0.027787041519676,0.049825234304558,0.0096000219088695,0.039628463776456,0.044551409371835,0.029019221188809,0.03173110896084,0.014539123024004,0.020707764748142,0.027237431759142,0.021672464433388,0.038219850795786,0.043665463794208,0.057068376521655,0.044047686191199,0.0055092798750559,0.0053328918744997,0.022384835196188,0.043485560462267,0.041544678609333,0.060556609801002,0.053501552321724,0.072200642981565,0.053368883414219,0.05083349812293,0.071399014895771,0.015767905294836,0.039275098538633,0.025450813499422,0.042487160026237,0.044219228285743,0.063317887970017,0.038797090056276,0.040528487474813,0.02633197840666,0.015601051229386,0.024725384424885,0.040849554809558,0.029358246876681,0.030717754202322,0.028654677237607,0.046569420983299,0.030099662778826,0.03826524038024,0.027128342603221,0.062189092139084,0.056236696423468,0.058507520846602,0.015296078779693,0.044532295987033,0.060499829505505,0.029994986409091,0.06172579499864,0.025508899921536,0.04496804430439,0.068413098132986,0.042469809318812,0.083048910891128,0.054145919208011,0.057381927161427,0.074932761566532,0.08712428398135,0.031909390163978,0.060683191722778,0.023164251013651,0.055818698656988,0.047949349840703,0.05513402789565,0.048390100358409,0.010295807560706,0.040075421069832,0.068919557982822,0.092496801896648,0.030680628218615,0.080205649998753,0.034197138587805,0.039757104268395,0.070733701797453,0.071550390356667,0.06014450835561,0.080928541756325,0.0065785104505181,0.036352979576753,0.064575548538461,0.059307826875253,0.074306500449918,0.068620669652344,0.046966936703949,0.076457689135282,0.03716276275494,0.031641816961922,0.004242304562607,0.026206877403494,0.040227527021839,0.076851343858015,0.045943614441174,0.061461243699668,0.063869728164977,0.016282416085403,0.027922680439884,0.026508390424232,0.065114245103436,0.032454169385492,0.014008345938558,0.039597535213063,0.050778874632861,0.049902197175819,0.020706833091984,0.021038385722923,0.016804742421334,0.056077519805712,0.058541971260745,0.058304653479072,0.037515553602859,0.088793361279625,0.032149092157674,0.049332987532297,0.032922343076398,0.018151301107071,0.043141327634859,0.049859634941759,0.047449589504855,0.059144883341038,0.028404388336761,0.033185443495776,0.026796596954893,0.024620636697268,0.038538869299965,0.031561182475578,0.034499007213905,0.053787478354484,0.047622401893822,0.095499661210816,0.022244061067805,0.033343477678667,0.016750358640524,0.050275207603238,0.078910269220219,0.010858851627146,0.025504462115906,0.018180122993879,0.03454876657271,0.060923963647867,0.032812704313138,0.025320368226139,0.027352399387234,0.010525223935279,0.016420269569342,0.031593478736463,0.027576634621527,0.038889392144429,0.010348219683737,0.017533993788098,0.027889210693086,0.045309579245129,0.054065586894637,0.022646348494471,0.027734311037835,0.040867432237677,0.038423207513474,0.018886637446333,0.015798720674316,0.0578787841881,0.035314367690663,0.022951029183957,0.016568669289102,0.032446495057889,0.034426883123947,0.041863204594905,0.11518746672729,0.035574317211616,0.043357011796519,0.019556500248685,0.044097629579701,0.031748676978819,0.0095474252185898,0.025876215486855,0.036530258156516,0.032000677414978,0.029037275037664,0.042957973039338,0.029135284661917,0.045394131678322,0.040502184471775,0.050163169923536,0.012822007698204,0.036403404467939,0.056925619207921,0.0082031645837803,0.047855116976408,0.032973469294365,0.037371989187725,0.01362682692014,0.021077925175267,0.046944636323575,0.064902642585792,0.049363419250377,0.052970699812971,0.034150964409734,0.044806762414308,0.025958422940914,0.015263197547637,0.075320012022293,0.0050420527873583,0.043737651179715,0.098611736503306,0.012965640677474,0.044671083013009,0.0056310646191981,0.045403979109694,0.0097096568022222,0.05971619048988,0.026266479979683,0.01539646795788,0.020695238104554,0.015355206342358,0.025373485137084,0.029972569149182,0.021413798832108,0.020884741609949,0.043183687563845,0.0062540081485735,0.028754321696657,0.029387343959457,0.035659718726936,0.017645425817967,0.034557529194752,0.0034041401186683,0.033522420364095,0.026613826411348,0.018463711295811,0.019223761018653,0.012857856256401,0.022832526326283,0.051632101164891,0.021292846311749,0.034132718000794,0.0084917733421831,0.023797825694554,0.048197623325206,0.015025938295963,0.021566642829365,0.018029468231714,0.035677758891116,0.017809196292109,0.022564697297399,0.0042378656740471,0.0075771708137918,0.018999463583454,0.049553335430877,0.010153998371278,0.025228578331964,0.033235335708036,0.02351894519438,0.024768849018171,0.02993882555927,0.021188017165764,0.023292041505185,0.022146440019509,0.02288955909011,0.032847365505846,0.031080666303329,0.0056206646919372,0.025927185577112,0.0048648810094051,0.036784668012161,0.02456707799629,0.016040866640986,0.018440281752392,0.044034199478764,0.05606539432675,0.024316423147376,0.036333042829678,0.0044802408437157,0.0078147466083352,0.011671558821856,0.016890936665227,0.015208536330017,0.034915728474522,0.027310973949139,0.037636061405455,0.021448370764949,0.011277346106323,0.0055560632313931,0.037572960704504,0.041068852695172,0.028592901317287,0.018760712576809,0.054256942269074,0.007097809792206,0.028710561443983,0.030287366568186,0.046054478158735,0.019489213833042,0.032063217892746,0.016852940354917,0.018055257193354,0.011831948293266,0.0078925793032405,0.018590326002563,0.039182247925372,0.018456582279604,0.021716961152151,0.017492952140559,0.0079965251238397,0.011949502801662,0.017471997495505,0.016771213062595,0.012384225475784,0.012277881158548,0.032889128061741,0.041972994723552,0.013723748893234,0.012969758842311,0.011237700710365,0.034558557612552,0.040991637323482,0.034900533714137,0.0191292119359,0.023101360522431,0.022030758228654,0.021729748611417,0.015663274300144,0.034187709593489,0.050396123494038,0.025457549658442,0.054679697829798,0.042437231847915,0.0068506393505505,0.013722466510723,0.010589434146484,0.011154015601853,0.027563804160039,0.018915849288811,0.017972165003684,0.038378999121022,0.011949926321684,0.038671317370534,0.014982318171419,0.030277585426943,0.019341693503627,0.015537901283119,0.017836150832621,0.053769514599982,0.011013723915675,0.0084671256697767,0.042196938924415,0.048789400071197,0.0082794077197554,0.037898543776687,0.026382320761538,0.019712711714155,0.022051795275741,0.013957428306336,0.038420027017025,0.015100780214097,0.01639303068734,0.016799920379204,0.053470772353512,0.042971745035216,0.013307752978084,0.03525302725345,0.018881754327999,0.020590527708869,0.019476841826116,0.05405332265711,0.024598729830374,0.031253029062766,0.0078289558265505,0.024788875321028,0.019006793212635,0.030197909299003,0.031438739795817,0.021809566262809,0.039392848404515,0.0052076579349531,0.035887123766342,0.017211611477986,0.018882345391944,0.03726005193123,0.035764470216457,0.021152049788288,0.017642779874657,0.013499257682175,0.010706241432377,0.025786479208189,0.02571402783214,0.032073194044072,0.0065974183008355,0.050610904337751,0.051224768672283,0.02599324588838,0.038638414395802,0.011274984172088,0.021602359469856,0.022463053609146,0.031329263171092,0.04698902894421,0.010266873616156,0.01167917597541,0.018358123198388,0.045300636880473,0.0039476706738372,0.0074699677771015,0.026087641580738,0.019227187243843,0.051772424934564,0.017912568576203,0.031085982338734,0.030657765066157,0.012042165416536,0.011378290744963,0.0098890821945654,0.017293235334028,0.01287675316177,0.012307827977921,0.017991291906606,0.017690270248161,0.033089030854958,0.025524834397004,0.023034163417786,0.010263460312891,0.0078398421195755,0.0085636226938354,0.0227903829603,0.022301130721948,0.0043261940656342,0.027256840513723,0.0039500345072668,0.02238901406588,0.0058578226677882,0.012003704555887,0.019635568281476,0.017874984678937,0.049146052601839,0.015902514020154,0.032335227072416,0.004638562557728,0.021642046142218,0.0044659543766467,0.013845531765833,0.018834306588801,0.014276109477424,0.0099133407325273,0.025056472299262,0.030062920370392,0.025854591267915,0.016501932019411,0.01508832234553,0.019876530858009,0.0085569838197995,0.0090877842720522,0.027088046729895,0.020075439572551,0.026184073239925,0.034924304661268,0.01828385385099,0.0056248507391938,0.01502791190127,0.033222888262631,0.012774679517355,0.005657223570654,0.012420627237232,0.016717610477373,0.023534347480872,0.021957535407534,0.029373750238548,0.0058462021924411,0.038602938093168,0.0065231497741078,0.013465773887497,0.0039545686377164,0.0099781973197066,0.049308848041867,0.010274047802736,0.014541183519966,0.019844795087734,0.0076988579486217,0.0088503459586412,0.012206700514119,0.018128607946913,0.0077856002269139,0.014104224972463,0.012623861078259,0.0065506495762546,0.010354953904031,0.0085114883902518,0.0094484680838923,0.0089350643346995,0.0065301961995265,0.0092574358713383,0.020951850774587,0.0083411252148466,0.014787497247854,0.0087206250325176,0.012134386623192,0.012122545551244,0.018057976977715,0.0047857801215877,0.010375982190481,0.010490133085071,0.0069106267631613,0.0082352055730589,0.010835575826723,0.017765147264102,0.0096458023968365,0.0087603776576139,0.0085084363887713,0.0089299132712979,0.0080698556543268,0.0049428456600202,0.010805617049155,0.0076476404373717,0.0039922767671714,0.011774599481512,0.0082191375612622,0.0088364788045863,0.010905940380957,0.006604087543953,0.0083977015839734,0.020252340254127,0.014963974329656,0.01730858150983,0.0086584585359031,0.014675456762057,0.014030761611409,0.0051338217697443,0.0081632147010499,0.010739333152422,0.0087008426628611,0.0059366775130487,0.010192881485265,0.012829819770616,0.0052414932036389,0.016000798860834,0.010170707140675,0.008369861546659,0.018098000426495,0.0081886276410924,0.009655208663851,0.0045041496691878,0.0035951890675032,0.0099868152670615,0.011492265292238,0.0088629904323568,0.010566155008421,0.0085015793237478,0.012151278760502,0.0046020019873876,0.0086727398893518,0.012702139747243,0.010175961733598,0.0082940133879531,0.0090869629977317,0.010667535291594,0.0061407473224954,0.013618901357674,0.0058543964016293,0.021071473011752,0.011792541029894,0.015616838967788,0.011423942856832,0.0114794360353,0.016243755154814,0.011968790427959,0.0081876814511648,0.012513330271809,0.0061418448122075,0.014440153158027,0.011092786099757,0.0067213294241959,0.038613862006244,0.015189169738664,0.011318599936674,0.012003186683842,0.0072962175471525,0.042399488048301,0.0073289849694984,0.01409435950353,0.011893225202573,0.010087199025354,0.0077301179561351,0.03048664484823,0.024874609905832,0.010071360499627,0.012259285500822,0.0071728667613002,0.012847523326724,0.0079151699903354,0.013729071444155,0.01467938208556,0.021968020112892,0.019968054674799,0.015477381600727,0.01538071914665,0.0087694402572212,0.013567972650655,0.012623708387974,0.018141371793546,0.021904288446488,0.013871117193248,0.011890238338021,0.010426052311298,0.017098661276329,0.010068529015563,0.015712226377692,0.019392980961541,0.0093830857660934,0.0095228492376271,0.015302552662826,0.013104718169409,0.012509100150885,0.0094814371329854,0.010482322896467,0.014000526094259,0.017344360691267,0.013519212424821,0.014026068613135,0.019040809119929,0.019627203102598,0.019946632088774,0.025531704145079,0.015357841246635,0.020798814319205,0.026444441633055,0.011564122881636,0.020383355405323,0.020918819001889,0.014283818463118,0.014992012736514,0.0079474658181193,0.01125997122663,0.017135154084007,0.011897458705434,0.019731247884164,0.013574945292932,0.0082547877387677,0.025797132840945,0.015231143604157,0.024171782801828,0.017012809860219,0.010344751487544,0.014472945494616,0.027544906228258,0.0091061790162476,0.014595813146697,0.0089039735869269,0.019043268272476,0.012654257031136,0.020232835649278,0.0078226974769449,0.021255041228689,0.012746384727857,0.0089912087485776,0.015480679107232,0.011760818062188,0.019883945855923,0.0077175354099449,0.02272596290352,0.025969095883565,0.0091897064176828,0.028994886952048,0.02001395785629,0.023492941048652,0.012312954334429,0.013419801992035,0.034996490156984,0.006595743570546,0.020703262285113,0.018711189919111,0.023024494838476,0.02234918187042,0.016763936980507,0.014247870090891,0.018163542272228,0.022756774631289,0.017241739158799,0.019697464802388,0.022916560654553,0.024755900047641,0.027503078790408,0.016068808544742,0.015516229948162,0.019952400485387,0.015940682357871,0.028304995912656,0.014037046982896,0.019657924619237,0.022241636475139,0.0091470822124717,0.017547884240564,0.016657422543755,0.033705421031332,0.019257883403713,0.024216033832045,0.027020798229647,0.025993696533585,0.019198750500886,0.020461314591327,0.023999386265533,0.037007066178918,0.029977064776715,0.025422296306688,0.026032181300337,0.032081298488139,0.029421672937968,0.026990970935756,0.017723557409448,0.014096795183311,0.014315744337247,0.026282569152924,0.012531637356809,0.0193724560298,0.019475135708132,0.015238217006724,0.030835981459839,0.024193125218324,0.023813185683881,0.019939870969065,0.019778335937013,0.028452861069212,0.021904336702241,0.022842154988275,0.027088646719803,0.034573712651551,0.023649511499646,0.031670125278449,0.01347470705615,0.028842307534837,0.023772178574347,0.02309547655049,0.030298872487839,0.029149253958903,0.016035566538181,0.0237423105422,0.034583300007799,0.014100170658529,0.020497959346758,0.012256764134688,0.035417642793484,0.026982219326975,0.041306256229877,0.015767853215474,0.026177503892495,0.020696049827568,0.033874791367969,0.029492493770338,0.026094345719541,0.038153280241569,0.02359620165731,0.035561957884167,0.022330745166876,0.017536889781673,0.024025345578751,0.022145721697452,0.020176105012942,0.041761631035978,0.032921690491643,0.021366335248614,0.033602620581775,0.031594934711293,0.02903268536146,0.034179089094129,0.025758418267631,0.032639288958727,0.031447032098917,0.025683534286406,0.023882977460805,0.03262099740931,0.01641971901018,0.018992364781652,0.023791464246113,0.034683787436879,0.036433208286469,0.029049336020215,0.031007278212648,0.011988470164122,0.03008602585521,0.040434575281956,0.016939292179672,0.036331791996261,0.0280638092842,0.025987737002794,0.016151725159131,0.024481347781515,0.032920924883062,0.025052926514576,0.038569997095903,0.040467532126475,0.027605208498672,0.026819968760158,0.038125957477561,0.026089715976534,0.038686449454924,0.032682020324131,0.03604331970854,0.023361312814471,0.042428285843093,0.038606784667485,0.032024433879161,0.025148323376488,0.020519596082535,0.02954438193395,0.033477108564287,0.041930663407862,0.022105205490077,0.052995154299451,0.034195754222941,0.03126426414024,0.033676303651393,0.021492687356027,0.020804648715678,0.022308441196332,0.019963271368903,0.030738425962096,0.037601325972355,0.039511398886625,0.027955838012287,0.018320280839743,0.02914302065084,0.030110743216509,0.041092617017888,0.052223579135301,0.028855825305051,0.025844987741891,0.034690652655601,0.012491259259361,0.035269426114632,0.03545445480454,0.03764943935949,0.037673441423134,0.055593511524727,0.033644337692743,0.046525447820394,0.034501792910123,0.019966820352193,0.044448372442772,0.034818311897158,0.026650859829684,0.041320653692985,0.040336247328317,0.04220901946545,0.034887675683881,0.036920336668842,0.03211086461567,0.03065241480867,0.038040100365352,0.037353813546448,0.05269026902116,0.035536754808492,0.033782035765079,0.043754060389485,0.039744482068898,0.04642065899514,0.053615328919385,0.042143561094927,0.025870342326699,0.031344583189716,0.047971995275726,0.036859486260598,0.043233576249061,0.049941713623522,0.04555317434182,0.038414714321124,0.043782418985285,0.02212043079478,0.042788285264987,0.024603117710795,0.035340396873666,0.033856799831549,0.057655657211174,0.041861216640133,0.025237684994707,0.039860458154594,0.048704810450557],\"x\":[1,2,3,4,5,6,7,8,9,10,11,12,13,14,15,16,17,18,19,20,21,22,23,24,25,26,27,28,29,30,31,32,33,34,35,36,37,38,39,40,41,42,43,44,45,46,47,48,49,50,51,52,53,54,55,56,57,58,59,60,61,62,63,64,65,66,67,68,69,70,71,72,73,74,75,76,77,78,79,80,81,82,83,84,85,86,87,88,89,90,91,92,93,94,95,96,97,98,99,100,101,102,103,104,105,106,107,108,109,110,111,112,113,114,115,116,117,118,119,120,121,122,123,124,125,126,127,128,129,130,131,132,133,134,135,136,137,138,139,140,141,142,143,144,145,146,147,148,149,150,151,152,153,154,155,156,157,158,159,160,161,162,163,164,165,166,167,168,169,170,171,172,173,174,175,176,177,178,179,180,181,182,183,184,185,186,187,188,189,190,191,192,193,194,195,196,197,198,199,200,201,202,203,204,205,206,207,208,209,210,211,212,213,214,215,216,217,218,219,220,221,222,223,224,225,226,227,228,229,230,231,232,233,234,235,236,237,238,239,240,241,242,243,244,245,246,247,248,249,250,251,252,253,254,255,256,257,258,259,260,261,262,263,264,265,266,267,268,269,270,271,272,273,274,275,276,277,278,279,280,281,282,283,284,285,286,287,288,289,290,291,292,293,294,295,296,297,298,299,300,301,302,303,304,305,306,307,308,309,310,311,312,313,314,315,316,317,318,319,320,321,322,323,324,325,326,327,328,329,330,331,332,333,334,335,336,337,338,339,340,341,342,343,344,345,346,347,348,349,350,351,352,353,354,355,356,357,358,359,360,361,362,363,364,365,366,367,368,369,370,371,372,373,374,375,376,377,378,379,380,381,382,383,384,385,386,387,388,389,390,391,392,393,394,395,396,397,398,399,400,401,402,403,404,405,406,407,408,409,410,411,412,413,414,415,416,417,418,419,420,421,422,423,424,425,426,427,428,429,430,431,432,433,434,435,436,437,438,439,440,441,442,443,444,445,446,447,448,449,450,451,452,453,454,455,456,457,458,459,460,461,462,463,464,465,466,467,468,469,470,471,472,473,474,475,476,477,478,479,480,481,482,483,484,485,486,487,488,489,490,491,492,493,494,495,496,497,498,499,500,501,502,503,504,505,506,507,508,509,510,511,512,513,514,515,516,517,518,519,520,521,522,523,524,525,526,527,528,529,530,531,532,533,534,535,536,537,538,539,540,541,542,543,544,545,546,547,548,549,550,551,552,553,554,555,556,557,558,559,560,561,562,563,564,565,566,567,568,569,570,571,572,573,574,575,576,577,578,579,580,581,582,583,584,585,586,587,588,589,590,591,592,593,594,595,596,597,598,599,600,601,602,603,604,605,606,607,608,609,610,611,612,613,614,615,616,617,618,619,620,621,622,623,624,625,626,627,628,629,630,631,632,633,634,635,636,637,638,639,640,641,642,643,644,645,646,647,648,649,650,651,652,653,654,655,656,657,658,659,660,661,662,663,664,665,666,667,668,669,670,671,672,673,674,675,676,677,678,679,680,681,682,683,684,685,686,687,688,689,690,691,692,693,694,695,696,697,698,699,700,701,702,703,704,705,706,707,708,709,710,711,712,713,714,715,716,717,718,719,720,721,722,723,724,725,726,727,728,729,730,731,732,733,734,735,736,737,738,739,740,741,742,743,744,745,746,747,748,749,750,751,752,753,754,755,756,757,758,759,760,761,762,763,764,765,766,767,768,769,770,771,772,773,774,775,776,777,778,779,780,781,782,783,784,785,786,787,788,789,790,791,792,793,794,795,796,797,798,799,800,801,802,803,804,805,806,807,808,809,810,811,812,813,814,815,816,817,818,819,820,821,822,823,824,825,826,827,828,829,830,831,832,833,834,835,836,837,838,839,840,841,842,843,844,845,846,847,848,849,850,851,852,853,854,855,856,857,858,859,860,861,862,863,864,865,866,867,868,869,870,871,872,873,874,875,876,877,878,879,880,881,882,883,884,885,886,887,888,889,890,891,892,893,894,895,896,897,898,899,900,901,902,903,904,905,906,907,908,909,910,911,912,913,914,915,916,917,918,919,920,921,922,923,924,925,926,927,928,929,930,931,932,933,934,935,936,937,938,939,940,941,942,943,944,945,946,947,948,949,950,951,952,953,954,955,956,957,958,959,960,961,962,963,964,965,966,967,968,969,970,971,972,973,974,975,976,977,978,979,980,981,982,983,984,985,986,987,988,989,990,991,992,993,994,995,996,997,998,999,1000]},\"column_names\":[\"y\",\"x\"],\"cont_ranges\":{},\"discrete_ranges\":{},\"selected\":[],\"id\":\"f58a716c-0919-4ed1-ce81-4532f5591c71\",\"doc\":null,\"tags\":[]}},{\"id\":\"7d0e3034-00f9-433f-c303-8ee9f15f43eb\",\"type\":\"Line\",\"attributes\":{\"fill_alpha\":{\"units\":\"data\",\"value\":0.2},\"line_alpha\":{\"units\":\"data\",\"value\":1},\"doc\":null,\"size\":{\"units\":\"screen\",\"value\":10},\"fill_color\":{\"value\":\"red\"},\"line_color\":{\"value\":\"red\"},\"x\":{\"units\":\"data\",\"field\":\"x\"},\"id\":\"7d0e3034-00f9-433f-c303-8ee9f15f43eb\",\"y\":{\"units\":\"data\",\"field\":\"y\"},\"tags\":[]}},{\"id\":\"3f6751a2-733b-4934-c931-1d1d86374e94\",\"type\":\"Line\",\"attributes\":{\"fill_alpha\":{\"units\":\"data\",\"value\":0.2},\"line_alpha\":{\"units\":\"data\",\"value\":1},\"doc\":null,\"size\":{\"units\":\"screen\",\"value\":10},\"fill_color\":{\"value\":\"red\"},\"line_color\":{\"value\":\"red\"},\"x\":{\"units\":\"data\",\"field\":\"x\"},\"id\":\"3f6751a2-733b-4934-c931-1d1d86374e94\",\"y\":{\"units\":\"data\",\"field\":\"y\"},\"tags\":[]}},{\"id\":\"916b9db1-7745-489e-c89f-1f690cc20823\",\"type\":\"GlyphRenderer\",\"attributes\":{\"name\":null,\"nonselection_glyph\":{\"type\":\"Line\",\"id\":\"3f6751a2-733b-4934-c931-1d1d86374e94\"},\"doc\":null,\"server_data_source\":null,\"data_source\":{\"type\":\"ColumnDataSource\",\"id\":\"f58a716c-0919-4ed1-ce81-4532f5591c71\"},\"glyph\":{\"type\":\"Line\",\"id\":\"7d0e3034-00f9-433f-c303-8ee9f15f43eb\"},\"selection_glyph\":null,\"id\":\"916b9db1-7745-489e-c89f-1f690cc20823\",\"tags\":[]}},{\"id\":\"1abaa17f-bd72-4876-c83c-1f031df8990d\",\"type\":\"DataRange1d\",\"attributes\":{\"sources\":[{\"columns\":[\"x\"],\"source\":{\"type\":\"ColumnDataSource\",\"id\":\"f58a716c-0919-4ed1-ce81-4532f5591c71\"}}],\"id\":\"1abaa17f-bd72-4876-c83c-1f031df8990d\",\"tags\":[],\"doc\":null}},{\"id\":\"6b9474d1-8d60-4850-c806-e7a23f5fff7f\",\"type\":\"DataRange1d\",\"attributes\":{\"sources\":[{\"columns\":[\"y\"],\"source\":{\"type\":\"ColumnDataSource\",\"id\":\"f58a716c-0919-4ed1-ce81-4532f5591c71\"}}],\"id\":\"6b9474d1-8d60-4850-c806-e7a23f5fff7f\",\"tags\":[],\"doc\":null}},{\"id\":\"a49f8f88-172c-43fc-c36e-1e4be944b303\",\"type\":\"ToolEvents\",\"attributes\":{\"tags\":[],\"id\":\"a49f8f88-172c-43fc-c36e-1e4be944b303\",\"geometries\":[],\"doc\":null}},{\"id\":\"4c92973d-d7fe-41e5-c1dd-b80d028b6905\",\"type\":\"BasicTickFormatter\",\"attributes\":{\"id\":\"4c92973d-d7fe-41e5-c1dd-b80d028b6905\",\"tags\":[],\"doc\":null}},{\"id\":\"c1b533d8-3c18-4cdd-cc47-403647fe1018\",\"type\":\"BasicTicker\",\"attributes\":{\"num_minor_ticks\":5,\"id\":\"c1b533d8-3c18-4cdd-cc47-403647fe1018\",\"tags\":[],\"doc\":null}},{\"id\":\"f7004df0-ddf7-4d03-cdb8-4fa1de6e3bcf\",\"type\":\"LinearAxis\",\"attributes\":{\"formatter\":{\"type\":\"BasicTickFormatter\",\"id\":\"4c92973d-d7fe-41e5-c1dd-b80d028b6905\"},\"ticker\":{\"type\":\"BasicTicker\",\"id\":\"c1b533d8-3c18-4cdd-cc47-403647fe1018\"},\"plot\":{\"id\":\"bc15cc70-ce9e-41f7-c15e-cf43818825f6\",\"type\":\"Plot\",\"subtype\":\"Figure\"},\"axis_label\":null,\"id\":\"f7004df0-ddf7-4d03-cdb8-4fa1de6e3bcf\",\"doc\":null,\"tags\":[]}},{\"id\":\"fc73a7e6-7404-4f02-cf0e-21bbb4c021ef\",\"type\":\"Grid\",\"attributes\":{\"dimension\":0,\"plot\":{\"id\":\"bc15cc70-ce9e-41f7-c15e-cf43818825f6\",\"type\":\"Plot\",\"subtype\":\"Figure\"},\"ticker\":{\"type\":\"BasicTicker\",\"id\":\"c1b533d8-3c18-4cdd-cc47-403647fe1018\"},\"id\":\"fc73a7e6-7404-4f02-cf0e-21bbb4c021ef\",\"doc\":null,\"tags\":[]}},{\"id\":\"3341b4ae-cbb7-4b06-cb09-af6b68284b67\",\"type\":\"BasicTickFormatter\",\"attributes\":{\"id\":\"3341b4ae-cbb7-4b06-cb09-af6b68284b67\",\"tags\":[],\"doc\":null}},{\"id\":\"4790005a-184c-44cd-c430-d44d8e4487c9\",\"type\":\"BasicTicker\",\"attributes\":{\"num_minor_ticks\":5,\"id\":\"4790005a-184c-44cd-c430-d44d8e4487c9\",\"tags\":[],\"doc\":null}},{\"id\":\"851d1b8b-11ef-4d4f-cd56-15c4c5291a50\",\"type\":\"LinearAxis\",\"attributes\":{\"formatter\":{\"type\":\"BasicTickFormatter\",\"id\":\"3341b4ae-cbb7-4b06-cb09-af6b68284b67\"},\"ticker\":{\"type\":\"BasicTicker\",\"id\":\"4790005a-184c-44cd-c430-d44d8e4487c9\"},\"plot\":{\"id\":\"bc15cc70-ce9e-41f7-c15e-cf43818825f6\",\"type\":\"Plot\",\"subtype\":\"Figure\"},\"axis_label\":null,\"id\":\"851d1b8b-11ef-4d4f-cd56-15c4c5291a50\",\"doc\":null,\"tags\":[]}},{\"id\":\"edb83bf6-05e3-44b6-c4a2-4de8e78dc2eb\",\"type\":\"Grid\",\"attributes\":{\"dimension\":1,\"plot\":{\"id\":\"bc15cc70-ce9e-41f7-c15e-cf43818825f6\",\"type\":\"Plot\",\"subtype\":\"Figure\"},\"ticker\":{\"type\":\"BasicTicker\",\"id\":\"4790005a-184c-44cd-c430-d44d8e4487c9\"},\"id\":\"edb83bf6-05e3-44b6-c4a2-4de8e78dc2eb\",\"doc\":null,\"tags\":[]}},{\"id\":\"9ad64c8d-0dc1-490d-c9da-0dd82bac1e91\",\"type\":\"PanTool\",\"attributes\":{\"plot\":{\"id\":\"bc15cc70-ce9e-41f7-c15e-cf43818825f6\",\"type\":\"Plot\",\"subtype\":\"Figure\"},\"dimensions\":[\"width\",\"height\"],\"id\":\"9ad64c8d-0dc1-490d-c9da-0dd82bac1e91\",\"doc\":null,\"tags\":[]}},{\"id\":\"88fe02b4-c305-4443-c4bc-51a48e8ab53c\",\"type\":\"WheelZoomTool\",\"attributes\":{\"plot\":{\"id\":\"bc15cc70-ce9e-41f7-c15e-cf43818825f6\",\"type\":\"Plot\",\"subtype\":\"Figure\"},\"dimensions\":[\"width\",\"height\"],\"id\":\"88fe02b4-c305-4443-c4bc-51a48e8ab53c\",\"doc\":null,\"tags\":[]}},{\"id\":\"3de3aa81-2bc2-4514-c55b-552a597be5ee\",\"type\":\"BoxZoomTool\",\"attributes\":{\"plot\":{\"id\":\"bc15cc70-ce9e-41f7-c15e-cf43818825f6\",\"type\":\"Plot\",\"subtype\":\"Figure\"},\"id\":\"3de3aa81-2bc2-4514-c55b-552a597be5ee\",\"tags\":[],\"doc\":null}},{\"id\":\"30478146-1415-43bc-c354-2f11b7f63741\",\"type\":\"PreviewSaveTool\",\"attributes\":{\"plot\":{\"id\":\"bc15cc70-ce9e-41f7-c15e-cf43818825f6\",\"type\":\"Plot\",\"subtype\":\"Figure\"},\"id\":\"30478146-1415-43bc-c354-2f11b7f63741\",\"tags\":[],\"doc\":null}},{\"id\":\"67fedde7-77f3-4be4-cbee-f8d7e302e1f3\",\"type\":\"ResizeTool\",\"attributes\":{\"plot\":{\"id\":\"bc15cc70-ce9e-41f7-c15e-cf43818825f6\",\"type\":\"Plot\",\"subtype\":\"Figure\"},\"id\":\"67fedde7-77f3-4be4-cbee-f8d7e302e1f3\",\"tags\":[],\"doc\":null}},{\"id\":\"bf1c741c-5060-4927-c9b9-07391de6e8a4\",\"type\":\"ResetTool\",\"attributes\":{\"plot\":{\"id\":\"bc15cc70-ce9e-41f7-c15e-cf43818825f6\",\"type\":\"Plot\",\"subtype\":\"Figure\"},\"id\":\"bf1c741c-5060-4927-c9b9-07391de6e8a4\",\"tags\":[],\"doc\":null}},{\"id\":\"bc15cc70-ce9e-41f7-c15e-cf43818825f6\",\"type\":\"Plot\",\"attributes\":{\"x_range\":{\"type\":\"DataRange1d\",\"id\":\"1abaa17f-bd72-4876-c83c-1f031df8990d\"},\"tool_events\":{\"type\":\"ToolEvents\",\"id\":\"a49f8f88-172c-43fc-c36e-1e4be944b303\"},\"below\":[{\"type\":\"LinearAxis\",\"id\":\"f7004df0-ddf7-4d03-cdb8-4fa1de6e3bcf\"}],\"renderers\":[{\"type\":\"GlyphRenderer\",\"id\":\"916b9db1-7745-489e-c89f-1f690cc20823\"},{\"type\":\"LinearAxis\",\"id\":\"f7004df0-ddf7-4d03-cdb8-4fa1de6e3bcf\"},{\"type\":\"Grid\",\"id\":\"fc73a7e6-7404-4f02-cf0e-21bbb4c021ef\"},{\"type\":\"LinearAxis\",\"id\":\"851d1b8b-11ef-4d4f-cd56-15c4c5291a50\"},{\"type\":\"Grid\",\"id\":\"edb83bf6-05e3-44b6-c4a2-4de8e78dc2eb\"}],\"above\":[],\"tools\":[{\"type\":\"PanTool\",\"id\":\"9ad64c8d-0dc1-490d-c9da-0dd82bac1e91\"},{\"type\":\"WheelZoomTool\",\"id\":\"88fe02b4-c305-4443-c4bc-51a48e8ab53c\"},{\"type\":\"BoxZoomTool\",\"id\":\"3de3aa81-2bc2-4514-c55b-552a597be5ee\"},{\"type\":\"PreviewSaveTool\",\"id\":\"30478146-1415-43bc-c354-2f11b7f63741\"},{\"type\":\"ResizeTool\",\"id\":\"67fedde7-77f3-4be4-cbee-f8d7e302e1f3\"},{\"type\":\"ResetTool\",\"id\":\"bf1c741c-5060-4927-c9b9-07391de6e8a4\"}],\"doc\":null,\"right\":[],\"title\":\"Plot of loss\",\"extra_x_ranges\":{},\"left\":[{\"type\":\"LinearAxis\",\"id\":\"851d1b8b-11ef-4d4f-cd56-15c4c5291a50\"}],\"y_range\":{\"type\":\"DataRange1d\",\"id\":\"6b9474d1-8d60-4850-c806-e7a23f5fff7f\"},\"id\":\"bc15cc70-ce9e-41f7-c15e-cf43818825f6\",\"extra_y_ranges\":{},\"tags\":[]}}];\n",
       "  Bokeh.load_models(all_models);\n",
       "  var model = Bokeh.Collections(modeltype).get(modelid);\n",
       "  $(\"#e4375cef-c895-46d0-c6a9-fab205519e72\").html(''); // clear any previous plot in window_id\n",
       "  var view = new model.default_view({model: model, el: \"#e4375cef-c895-46d0-c6a9-fab205519e72\"});\n",
       "    } else {\n",
       "  load_lib(bokehjs_url, function() {\n",
       "      console.log(\"Bokeh: BokehJS plotting callback run at\", new Date())\n",
       "      var modelid = \"bc15cc70-ce9e-41f7-c15e-cf43818825f6\";\n",
       "      var modeltype = \"Plot\";\n",
       "      var all_models = [{\"id\":\"f58a716c-0919-4ed1-ce81-4532f5591c71\",\"type\":\"ColumnDataSource\",\"attributes\":{\"data\":{\"y\":[0.44109920665557,0.13696715055156,0.42768972995604,0.26307703324209,0.33777791983137,0.11749174384509,0.14463058013813,0.33731756241832,0.091700061063056,0.11968169246137,0.095092733246725,0.089472757547505,0.07328509951987,0.01281245102704,0.094702564672543,0.070882261006313,0.061642285371616,0.095177055531243,0.04530883029306,0.070864577013858,0.056505330721278,0.072684864528727,0.079321255005645,0.04819180250734,0.012101170454702,0.027525744892899,0.054478164613215,0.034716111029517,0.062676592742455,0.04826006114945,0.055891003754692,0.075193581580338,0.085915590255891,0.065152044791795,0.073677274828899,0.066832007611102,0.071380203919967,0.0187623055067,0.047059368298085,0.050367055916345,0.03935530630964,0.054369224564819,0.071432160029577,0.057141385619838,0.033109370698366,0.042999909022339,0.066840749845532,0.078770196070283,0.049703623056118,0.071304129144395,0.083771371977893,0.062440685930171,0.089470532861009,0.071210827647199,0.079671967071258,0.05850337366218,0.036323061991055,0.064178177851249,0.098379408881067,0.046254756021151,0.078958254697726,0.067538638680613,0.031467760531585,0.03553792291039,0.0475966281883,0.10203219782001,0.03227167746839,0.082915348577472,0.027529768514353,0.077518581983669,0.044145881788163,0.052857601914604,0.031252158500524,0.05644438817104,0.042832032094084,0.03320724682765,0.039025293278996,0.028770500619127,0.0046710790355351,0.045800948022339,0.042741386184089,0.051513074672541,0.034053836076921,0.068122156483273,0.068486132076547,0.024774624736942,0.05224901024685,0.035139506113157,0.057591831614521,0.041773506980101,0.033059448396964,0.06523055863419,0.067261608732295,0.037777772733274,0.0073442926874025,0.10344113267522,0.068273475587065,0.013333115092328,0.042142366795019,0.048067361361501,0.034225923643039,0.056168062704653,0.024292631529752,0.027767267110739,0.024863329171643,0.0055165942848782,0.048949296797535,0.032423905482007,0.013202729152347,0.050193927787443,0.075594324933984,0.049349869951693,0.049352910289972,0.048442064938562,0.033886826731377,0.029245125225338,0.039815748409679,0.030213722713404,0.028900246049397,0.047118915383642,0.045926816602749,0.0396219079988,0.035626756042167,0.038380571419006,0.013376032773595,0.027787041519676,0.049825234304558,0.0096000219088695,0.039628463776456,0.044551409371835,0.029019221188809,0.03173110896084,0.014539123024004,0.020707764748142,0.027237431759142,0.021672464433388,0.038219850795786,0.043665463794208,0.057068376521655,0.044047686191199,0.0055092798750559,0.0053328918744997,0.022384835196188,0.043485560462267,0.041544678609333,0.060556609801002,0.053501552321724,0.072200642981565,0.053368883414219,0.05083349812293,0.071399014895771,0.015767905294836,0.039275098538633,0.025450813499422,0.042487160026237,0.044219228285743,0.063317887970017,0.038797090056276,0.040528487474813,0.02633197840666,0.015601051229386,0.024725384424885,0.040849554809558,0.029358246876681,0.030717754202322,0.028654677237607,0.046569420983299,0.030099662778826,0.03826524038024,0.027128342603221,0.062189092139084,0.056236696423468,0.058507520846602,0.015296078779693,0.044532295987033,0.060499829505505,0.029994986409091,0.06172579499864,0.025508899921536,0.04496804430439,0.068413098132986,0.042469809318812,0.083048910891128,0.054145919208011,0.057381927161427,0.074932761566532,0.08712428398135,0.031909390163978,0.060683191722778,0.023164251013651,0.055818698656988,0.047949349840703,0.05513402789565,0.048390100358409,0.010295807560706,0.040075421069832,0.068919557982822,0.092496801896648,0.030680628218615,0.080205649998753,0.034197138587805,0.039757104268395,0.070733701797453,0.071550390356667,0.06014450835561,0.080928541756325,0.0065785104505181,0.036352979576753,0.064575548538461,0.059307826875253,0.074306500449918,0.068620669652344,0.046966936703949,0.076457689135282,0.03716276275494,0.031641816961922,0.004242304562607,0.026206877403494,0.040227527021839,0.076851343858015,0.045943614441174,0.061461243699668,0.063869728164977,0.016282416085403,0.027922680439884,0.026508390424232,0.065114245103436,0.032454169385492,0.014008345938558,0.039597535213063,0.050778874632861,0.049902197175819,0.020706833091984,0.021038385722923,0.016804742421334,0.056077519805712,0.058541971260745,0.058304653479072,0.037515553602859,0.088793361279625,0.032149092157674,0.049332987532297,0.032922343076398,0.018151301107071,0.043141327634859,0.049859634941759,0.047449589504855,0.059144883341038,0.028404388336761,0.033185443495776,0.026796596954893,0.024620636697268,0.038538869299965,0.031561182475578,0.034499007213905,0.053787478354484,0.047622401893822,0.095499661210816,0.022244061067805,0.033343477678667,0.016750358640524,0.050275207603238,0.078910269220219,0.010858851627146,0.025504462115906,0.018180122993879,0.03454876657271,0.060923963647867,0.032812704313138,0.025320368226139,0.027352399387234,0.010525223935279,0.016420269569342,0.031593478736463,0.027576634621527,0.038889392144429,0.010348219683737,0.017533993788098,0.027889210693086,0.045309579245129,0.054065586894637,0.022646348494471,0.027734311037835,0.040867432237677,0.038423207513474,0.018886637446333,0.015798720674316,0.0578787841881,0.035314367690663,0.022951029183957,0.016568669289102,0.032446495057889,0.034426883123947,0.041863204594905,0.11518746672729,0.035574317211616,0.043357011796519,0.019556500248685,0.044097629579701,0.031748676978819,0.0095474252185898,0.025876215486855,0.036530258156516,0.032000677414978,0.029037275037664,0.042957973039338,0.029135284661917,0.045394131678322,0.040502184471775,0.050163169923536,0.012822007698204,0.036403404467939,0.056925619207921,0.0082031645837803,0.047855116976408,0.032973469294365,0.037371989187725,0.01362682692014,0.021077925175267,0.046944636323575,0.064902642585792,0.049363419250377,0.052970699812971,0.034150964409734,0.044806762414308,0.025958422940914,0.015263197547637,0.075320012022293,0.0050420527873583,0.043737651179715,0.098611736503306,0.012965640677474,0.044671083013009,0.0056310646191981,0.045403979109694,0.0097096568022222,0.05971619048988,0.026266479979683,0.01539646795788,0.020695238104554,0.015355206342358,0.025373485137084,0.029972569149182,0.021413798832108,0.020884741609949,0.043183687563845,0.0062540081485735,0.028754321696657,0.029387343959457,0.035659718726936,0.017645425817967,0.034557529194752,0.0034041401186683,0.033522420364095,0.026613826411348,0.018463711295811,0.019223761018653,0.012857856256401,0.022832526326283,0.051632101164891,0.021292846311749,0.034132718000794,0.0084917733421831,0.023797825694554,0.048197623325206,0.015025938295963,0.021566642829365,0.018029468231714,0.035677758891116,0.017809196292109,0.022564697297399,0.0042378656740471,0.0075771708137918,0.018999463583454,0.049553335430877,0.010153998371278,0.025228578331964,0.033235335708036,0.02351894519438,0.024768849018171,0.02993882555927,0.021188017165764,0.023292041505185,0.022146440019509,0.02288955909011,0.032847365505846,0.031080666303329,0.0056206646919372,0.025927185577112,0.0048648810094051,0.036784668012161,0.02456707799629,0.016040866640986,0.018440281752392,0.044034199478764,0.05606539432675,0.024316423147376,0.036333042829678,0.0044802408437157,0.0078147466083352,0.011671558821856,0.016890936665227,0.015208536330017,0.034915728474522,0.027310973949139,0.037636061405455,0.021448370764949,0.011277346106323,0.0055560632313931,0.037572960704504,0.041068852695172,0.028592901317287,0.018760712576809,0.054256942269074,0.007097809792206,0.028710561443983,0.030287366568186,0.046054478158735,0.019489213833042,0.032063217892746,0.016852940354917,0.018055257193354,0.011831948293266,0.0078925793032405,0.018590326002563,0.039182247925372,0.018456582279604,0.021716961152151,0.017492952140559,0.0079965251238397,0.011949502801662,0.017471997495505,0.016771213062595,0.012384225475784,0.012277881158548,0.032889128061741,0.041972994723552,0.013723748893234,0.012969758842311,0.011237700710365,0.034558557612552,0.040991637323482,0.034900533714137,0.0191292119359,0.023101360522431,0.022030758228654,0.021729748611417,0.015663274300144,0.034187709593489,0.050396123494038,0.025457549658442,0.054679697829798,0.042437231847915,0.0068506393505505,0.013722466510723,0.010589434146484,0.011154015601853,0.027563804160039,0.018915849288811,0.017972165003684,0.038378999121022,0.011949926321684,0.038671317370534,0.014982318171419,0.030277585426943,0.019341693503627,0.015537901283119,0.017836150832621,0.053769514599982,0.011013723915675,0.0084671256697767,0.042196938924415,0.048789400071197,0.0082794077197554,0.037898543776687,0.026382320761538,0.019712711714155,0.022051795275741,0.013957428306336,0.038420027017025,0.015100780214097,0.01639303068734,0.016799920379204,0.053470772353512,0.042971745035216,0.013307752978084,0.03525302725345,0.018881754327999,0.020590527708869,0.019476841826116,0.05405332265711,0.024598729830374,0.031253029062766,0.0078289558265505,0.024788875321028,0.019006793212635,0.030197909299003,0.031438739795817,0.021809566262809,0.039392848404515,0.0052076579349531,0.035887123766342,0.017211611477986,0.018882345391944,0.03726005193123,0.035764470216457,0.021152049788288,0.017642779874657,0.013499257682175,0.010706241432377,0.025786479208189,0.02571402783214,0.032073194044072,0.0065974183008355,0.050610904337751,0.051224768672283,0.02599324588838,0.038638414395802,0.011274984172088,0.021602359469856,0.022463053609146,0.031329263171092,0.04698902894421,0.010266873616156,0.01167917597541,0.018358123198388,0.045300636880473,0.0039476706738372,0.0074699677771015,0.026087641580738,0.019227187243843,0.051772424934564,0.017912568576203,0.031085982338734,0.030657765066157,0.012042165416536,0.011378290744963,0.0098890821945654,0.017293235334028,0.01287675316177,0.012307827977921,0.017991291906606,0.017690270248161,0.033089030854958,0.025524834397004,0.023034163417786,0.010263460312891,0.0078398421195755,0.0085636226938354,0.0227903829603,0.022301130721948,0.0043261940656342,0.027256840513723,0.0039500345072668,0.02238901406588,0.0058578226677882,0.012003704555887,0.019635568281476,0.017874984678937,0.049146052601839,0.015902514020154,0.032335227072416,0.004638562557728,0.021642046142218,0.0044659543766467,0.013845531765833,0.018834306588801,0.014276109477424,0.0099133407325273,0.025056472299262,0.030062920370392,0.025854591267915,0.016501932019411,0.01508832234553,0.019876530858009,0.0085569838197995,0.0090877842720522,0.027088046729895,0.020075439572551,0.026184073239925,0.034924304661268,0.01828385385099,0.0056248507391938,0.01502791190127,0.033222888262631,0.012774679517355,0.005657223570654,0.012420627237232,0.016717610477373,0.023534347480872,0.021957535407534,0.029373750238548,0.0058462021924411,0.038602938093168,0.0065231497741078,0.013465773887497,0.0039545686377164,0.0099781973197066,0.049308848041867,0.010274047802736,0.014541183519966,0.019844795087734,0.0076988579486217,0.0088503459586412,0.012206700514119,0.018128607946913,0.0077856002269139,0.014104224972463,0.012623861078259,0.0065506495762546,0.010354953904031,0.0085114883902518,0.0094484680838923,0.0089350643346995,0.0065301961995265,0.0092574358713383,0.020951850774587,0.0083411252148466,0.014787497247854,0.0087206250325176,0.012134386623192,0.012122545551244,0.018057976977715,0.0047857801215877,0.010375982190481,0.010490133085071,0.0069106267631613,0.0082352055730589,0.010835575826723,0.017765147264102,0.0096458023968365,0.0087603776576139,0.0085084363887713,0.0089299132712979,0.0080698556543268,0.0049428456600202,0.010805617049155,0.0076476404373717,0.0039922767671714,0.011774599481512,0.0082191375612622,0.0088364788045863,0.010905940380957,0.006604087543953,0.0083977015839734,0.020252340254127,0.014963974329656,0.01730858150983,0.0086584585359031,0.014675456762057,0.014030761611409,0.0051338217697443,0.0081632147010499,0.010739333152422,0.0087008426628611,0.0059366775130487,0.010192881485265,0.012829819770616,0.0052414932036389,0.016000798860834,0.010170707140675,0.008369861546659,0.018098000426495,0.0081886276410924,0.009655208663851,0.0045041496691878,0.0035951890675032,0.0099868152670615,0.011492265292238,0.0088629904323568,0.010566155008421,0.0085015793237478,0.012151278760502,0.0046020019873876,0.0086727398893518,0.012702139747243,0.010175961733598,0.0082940133879531,0.0090869629977317,0.010667535291594,0.0061407473224954,0.013618901357674,0.0058543964016293,0.021071473011752,0.011792541029894,0.015616838967788,0.011423942856832,0.0114794360353,0.016243755154814,0.011968790427959,0.0081876814511648,0.012513330271809,0.0061418448122075,0.014440153158027,0.011092786099757,0.0067213294241959,0.038613862006244,0.015189169738664,0.011318599936674,0.012003186683842,0.0072962175471525,0.042399488048301,0.0073289849694984,0.01409435950353,0.011893225202573,0.010087199025354,0.0077301179561351,0.03048664484823,0.024874609905832,0.010071360499627,0.012259285500822,0.0071728667613002,0.012847523326724,0.0079151699903354,0.013729071444155,0.01467938208556,0.021968020112892,0.019968054674799,0.015477381600727,0.01538071914665,0.0087694402572212,0.013567972650655,0.012623708387974,0.018141371793546,0.021904288446488,0.013871117193248,0.011890238338021,0.010426052311298,0.017098661276329,0.010068529015563,0.015712226377692,0.019392980961541,0.0093830857660934,0.0095228492376271,0.015302552662826,0.013104718169409,0.012509100150885,0.0094814371329854,0.010482322896467,0.014000526094259,0.017344360691267,0.013519212424821,0.014026068613135,0.019040809119929,0.019627203102598,0.019946632088774,0.025531704145079,0.015357841246635,0.020798814319205,0.026444441633055,0.011564122881636,0.020383355405323,0.020918819001889,0.014283818463118,0.014992012736514,0.0079474658181193,0.01125997122663,0.017135154084007,0.011897458705434,0.019731247884164,0.013574945292932,0.0082547877387677,0.025797132840945,0.015231143604157,0.024171782801828,0.017012809860219,0.010344751487544,0.014472945494616,0.027544906228258,0.0091061790162476,0.014595813146697,0.0089039735869269,0.019043268272476,0.012654257031136,0.020232835649278,0.0078226974769449,0.021255041228689,0.012746384727857,0.0089912087485776,0.015480679107232,0.011760818062188,0.019883945855923,0.0077175354099449,0.02272596290352,0.025969095883565,0.0091897064176828,0.028994886952048,0.02001395785629,0.023492941048652,0.012312954334429,0.013419801992035,0.034996490156984,0.006595743570546,0.020703262285113,0.018711189919111,0.023024494838476,0.02234918187042,0.016763936980507,0.014247870090891,0.018163542272228,0.022756774631289,0.017241739158799,0.019697464802388,0.022916560654553,0.024755900047641,0.027503078790408,0.016068808544742,0.015516229948162,0.019952400485387,0.015940682357871,0.028304995912656,0.014037046982896,0.019657924619237,0.022241636475139,0.0091470822124717,0.017547884240564,0.016657422543755,0.033705421031332,0.019257883403713,0.024216033832045,0.027020798229647,0.025993696533585,0.019198750500886,0.020461314591327,0.023999386265533,0.037007066178918,0.029977064776715,0.025422296306688,0.026032181300337,0.032081298488139,0.029421672937968,0.026990970935756,0.017723557409448,0.014096795183311,0.014315744337247,0.026282569152924,0.012531637356809,0.0193724560298,0.019475135708132,0.015238217006724,0.030835981459839,0.024193125218324,0.023813185683881,0.019939870969065,0.019778335937013,0.028452861069212,0.021904336702241,0.022842154988275,0.027088646719803,0.034573712651551,0.023649511499646,0.031670125278449,0.01347470705615,0.028842307534837,0.023772178574347,0.02309547655049,0.030298872487839,0.029149253958903,0.016035566538181,0.0237423105422,0.034583300007799,0.014100170658529,0.020497959346758,0.012256764134688,0.035417642793484,0.026982219326975,0.041306256229877,0.015767853215474,0.026177503892495,0.020696049827568,0.033874791367969,0.029492493770338,0.026094345719541,0.038153280241569,0.02359620165731,0.035561957884167,0.022330745166876,0.017536889781673,0.024025345578751,0.022145721697452,0.020176105012942,0.041761631035978,0.032921690491643,0.021366335248614,0.033602620581775,0.031594934711293,0.02903268536146,0.034179089094129,0.025758418267631,0.032639288958727,0.031447032098917,0.025683534286406,0.023882977460805,0.03262099740931,0.01641971901018,0.018992364781652,0.023791464246113,0.034683787436879,0.036433208286469,0.029049336020215,0.031007278212648,0.011988470164122,0.03008602585521,0.040434575281956,0.016939292179672,0.036331791996261,0.0280638092842,0.025987737002794,0.016151725159131,0.024481347781515,0.032920924883062,0.025052926514576,0.038569997095903,0.040467532126475,0.027605208498672,0.026819968760158,0.038125957477561,0.026089715976534,0.038686449454924,0.032682020324131,0.03604331970854,0.023361312814471,0.042428285843093,0.038606784667485,0.032024433879161,0.025148323376488,0.020519596082535,0.02954438193395,0.033477108564287,0.041930663407862,0.022105205490077,0.052995154299451,0.034195754222941,0.03126426414024,0.033676303651393,0.021492687356027,0.020804648715678,0.022308441196332,0.019963271368903,0.030738425962096,0.037601325972355,0.039511398886625,0.027955838012287,0.018320280839743,0.02914302065084,0.030110743216509,0.041092617017888,0.052223579135301,0.028855825305051,0.025844987741891,0.034690652655601,0.012491259259361,0.035269426114632,0.03545445480454,0.03764943935949,0.037673441423134,0.055593511524727,0.033644337692743,0.046525447820394,0.034501792910123,0.019966820352193,0.044448372442772,0.034818311897158,0.026650859829684,0.041320653692985,0.040336247328317,0.04220901946545,0.034887675683881,0.036920336668842,0.03211086461567,0.03065241480867,0.038040100365352,0.037353813546448,0.05269026902116,0.035536754808492,0.033782035765079,0.043754060389485,0.039744482068898,0.04642065899514,0.053615328919385,0.042143561094927,0.025870342326699,0.031344583189716,0.047971995275726,0.036859486260598,0.043233576249061,0.049941713623522,0.04555317434182,0.038414714321124,0.043782418985285,0.02212043079478,0.042788285264987,0.024603117710795,0.035340396873666,0.033856799831549,0.057655657211174,0.041861216640133,0.025237684994707,0.039860458154594,0.048704810450557],\"x\":[1,2,3,4,5,6,7,8,9,10,11,12,13,14,15,16,17,18,19,20,21,22,23,24,25,26,27,28,29,30,31,32,33,34,35,36,37,38,39,40,41,42,43,44,45,46,47,48,49,50,51,52,53,54,55,56,57,58,59,60,61,62,63,64,65,66,67,68,69,70,71,72,73,74,75,76,77,78,79,80,81,82,83,84,85,86,87,88,89,90,91,92,93,94,95,96,97,98,99,100,101,102,103,104,105,106,107,108,109,110,111,112,113,114,115,116,117,118,119,120,121,122,123,124,125,126,127,128,129,130,131,132,133,134,135,136,137,138,139,140,141,142,143,144,145,146,147,148,149,150,151,152,153,154,155,156,157,158,159,160,161,162,163,164,165,166,167,168,169,170,171,172,173,174,175,176,177,178,179,180,181,182,183,184,185,186,187,188,189,190,191,192,193,194,195,196,197,198,199,200,201,202,203,204,205,206,207,208,209,210,211,212,213,214,215,216,217,218,219,220,221,222,223,224,225,226,227,228,229,230,231,232,233,234,235,236,237,238,239,240,241,242,243,244,245,246,247,248,249,250,251,252,253,254,255,256,257,258,259,260,261,262,263,264,265,266,267,268,269,270,271,272,273,274,275,276,277,278,279,280,281,282,283,284,285,286,287,288,289,290,291,292,293,294,295,296,297,298,299,300,301,302,303,304,305,306,307,308,309,310,311,312,313,314,315,316,317,318,319,320,321,322,323,324,325,326,327,328,329,330,331,332,333,334,335,336,337,338,339,340,341,342,343,344,345,346,347,348,349,350,351,352,353,354,355,356,357,358,359,360,361,362,363,364,365,366,367,368,369,370,371,372,373,374,375,376,377,378,379,380,381,382,383,384,385,386,387,388,389,390,391,392,393,394,395,396,397,398,399,400,401,402,403,404,405,406,407,408,409,410,411,412,413,414,415,416,417,418,419,420,421,422,423,424,425,426,427,428,429,430,431,432,433,434,435,436,437,438,439,440,441,442,443,444,445,446,447,448,449,450,451,452,453,454,455,456,457,458,459,460,461,462,463,464,465,466,467,468,469,470,471,472,473,474,475,476,477,478,479,480,481,482,483,484,485,486,487,488,489,490,491,492,493,494,495,496,497,498,499,500,501,502,503,504,505,506,507,508,509,510,511,512,513,514,515,516,517,518,519,520,521,522,523,524,525,526,527,528,529,530,531,532,533,534,535,536,537,538,539,540,541,542,543,544,545,546,547,548,549,550,551,552,553,554,555,556,557,558,559,560,561,562,563,564,565,566,567,568,569,570,571,572,573,574,575,576,577,578,579,580,581,582,583,584,585,586,587,588,589,590,591,592,593,594,595,596,597,598,599,600,601,602,603,604,605,606,607,608,609,610,611,612,613,614,615,616,617,618,619,620,621,622,623,624,625,626,627,628,629,630,631,632,633,634,635,636,637,638,639,640,641,642,643,644,645,646,647,648,649,650,651,652,653,654,655,656,657,658,659,660,661,662,663,664,665,666,667,668,669,670,671,672,673,674,675,676,677,678,679,680,681,682,683,684,685,686,687,688,689,690,691,692,693,694,695,696,697,698,699,700,701,702,703,704,705,706,707,708,709,710,711,712,713,714,715,716,717,718,719,720,721,722,723,724,725,726,727,728,729,730,731,732,733,734,735,736,737,738,739,740,741,742,743,744,745,746,747,748,749,750,751,752,753,754,755,756,757,758,759,760,761,762,763,764,765,766,767,768,769,770,771,772,773,774,775,776,777,778,779,780,781,782,783,784,785,786,787,788,789,790,791,792,793,794,795,796,797,798,799,800,801,802,803,804,805,806,807,808,809,810,811,812,813,814,815,816,817,818,819,820,821,822,823,824,825,826,827,828,829,830,831,832,833,834,835,836,837,838,839,840,841,842,843,844,845,846,847,848,849,850,851,852,853,854,855,856,857,858,859,860,861,862,863,864,865,866,867,868,869,870,871,872,873,874,875,876,877,878,879,880,881,882,883,884,885,886,887,888,889,890,891,892,893,894,895,896,897,898,899,900,901,902,903,904,905,906,907,908,909,910,911,912,913,914,915,916,917,918,919,920,921,922,923,924,925,926,927,928,929,930,931,932,933,934,935,936,937,938,939,940,941,942,943,944,945,946,947,948,949,950,951,952,953,954,955,956,957,958,959,960,961,962,963,964,965,966,967,968,969,970,971,972,973,974,975,976,977,978,979,980,981,982,983,984,985,986,987,988,989,990,991,992,993,994,995,996,997,998,999,1000]},\"column_names\":[\"y\",\"x\"],\"cont_ranges\":{},\"discrete_ranges\":{},\"selected\":[],\"id\":\"f58a716c-0919-4ed1-ce81-4532f5591c71\",\"doc\":null,\"tags\":[]}},{\"id\":\"7d0e3034-00f9-433f-c303-8ee9f15f43eb\",\"type\":\"Line\",\"attributes\":{\"fill_alpha\":{\"units\":\"data\",\"value\":0.2},\"line_alpha\":{\"units\":\"data\",\"value\":1},\"doc\":null,\"size\":{\"units\":\"screen\",\"value\":10},\"fill_color\":{\"value\":\"red\"},\"line_color\":{\"value\":\"red\"},\"x\":{\"units\":\"data\",\"field\":\"x\"},\"id\":\"7d0e3034-00f9-433f-c303-8ee9f15f43eb\",\"y\":{\"units\":\"data\",\"field\":\"y\"},\"tags\":[]}},{\"id\":\"3f6751a2-733b-4934-c931-1d1d86374e94\",\"type\":\"Line\",\"attributes\":{\"fill_alpha\":{\"units\":\"data\",\"value\":0.2},\"line_alpha\":{\"units\":\"data\",\"value\":1},\"doc\":null,\"size\":{\"units\":\"screen\",\"value\":10},\"fill_color\":{\"value\":\"red\"},\"line_color\":{\"value\":\"red\"},\"x\":{\"units\":\"data\",\"field\":\"x\"},\"id\":\"3f6751a2-733b-4934-c931-1d1d86374e94\",\"y\":{\"units\":\"data\",\"field\":\"y\"},\"tags\":[]}},{\"id\":\"916b9db1-7745-489e-c89f-1f690cc20823\",\"type\":\"GlyphRenderer\",\"attributes\":{\"name\":null,\"nonselection_glyph\":{\"type\":\"Line\",\"id\":\"3f6751a2-733b-4934-c931-1d1d86374e94\"},\"doc\":null,\"server_data_source\":null,\"data_source\":{\"type\":\"ColumnDataSource\",\"id\":\"f58a716c-0919-4ed1-ce81-4532f5591c71\"},\"glyph\":{\"type\":\"Line\",\"id\":\"7d0e3034-00f9-433f-c303-8ee9f15f43eb\"},\"selection_glyph\":null,\"id\":\"916b9db1-7745-489e-c89f-1f690cc20823\",\"tags\":[]}},{\"id\":\"1abaa17f-bd72-4876-c83c-1f031df8990d\",\"type\":\"DataRange1d\",\"attributes\":{\"sources\":[{\"columns\":[\"x\"],\"source\":{\"type\":\"ColumnDataSource\",\"id\":\"f58a716c-0919-4ed1-ce81-4532f5591c71\"}}],\"id\":\"1abaa17f-bd72-4876-c83c-1f031df8990d\",\"tags\":[],\"doc\":null}},{\"id\":\"6b9474d1-8d60-4850-c806-e7a23f5fff7f\",\"type\":\"DataRange1d\",\"attributes\":{\"sources\":[{\"columns\":[\"y\"],\"source\":{\"type\":\"ColumnDataSource\",\"id\":\"f58a716c-0919-4ed1-ce81-4532f5591c71\"}}],\"id\":\"6b9474d1-8d60-4850-c806-e7a23f5fff7f\",\"tags\":[],\"doc\":null}},{\"id\":\"a49f8f88-172c-43fc-c36e-1e4be944b303\",\"type\":\"ToolEvents\",\"attributes\":{\"tags\":[],\"id\":\"a49f8f88-172c-43fc-c36e-1e4be944b303\",\"geometries\":[],\"doc\":null}},{\"id\":\"4c92973d-d7fe-41e5-c1dd-b80d028b6905\",\"type\":\"BasicTickFormatter\",\"attributes\":{\"id\":\"4c92973d-d7fe-41e5-c1dd-b80d028b6905\",\"tags\":[],\"doc\":null}},{\"id\":\"c1b533d8-3c18-4cdd-cc47-403647fe1018\",\"type\":\"BasicTicker\",\"attributes\":{\"num_minor_ticks\":5,\"id\":\"c1b533d8-3c18-4cdd-cc47-403647fe1018\",\"tags\":[],\"doc\":null}},{\"id\":\"f7004df0-ddf7-4d03-cdb8-4fa1de6e3bcf\",\"type\":\"LinearAxis\",\"attributes\":{\"formatter\":{\"type\":\"BasicTickFormatter\",\"id\":\"4c92973d-d7fe-41e5-c1dd-b80d028b6905\"},\"ticker\":{\"type\":\"BasicTicker\",\"id\":\"c1b533d8-3c18-4cdd-cc47-403647fe1018\"},\"plot\":{\"id\":\"bc15cc70-ce9e-41f7-c15e-cf43818825f6\",\"type\":\"Plot\",\"subtype\":\"Figure\"},\"axis_label\":null,\"id\":\"f7004df0-ddf7-4d03-cdb8-4fa1de6e3bcf\",\"doc\":null,\"tags\":[]}},{\"id\":\"fc73a7e6-7404-4f02-cf0e-21bbb4c021ef\",\"type\":\"Grid\",\"attributes\":{\"dimension\":0,\"plot\":{\"id\":\"bc15cc70-ce9e-41f7-c15e-cf43818825f6\",\"type\":\"Plot\",\"subtype\":\"Figure\"},\"ticker\":{\"type\":\"BasicTicker\",\"id\":\"c1b533d8-3c18-4cdd-cc47-403647fe1018\"},\"id\":\"fc73a7e6-7404-4f02-cf0e-21bbb4c021ef\",\"doc\":null,\"tags\":[]}},{\"id\":\"3341b4ae-cbb7-4b06-cb09-af6b68284b67\",\"type\":\"BasicTickFormatter\",\"attributes\":{\"id\":\"3341b4ae-cbb7-4b06-cb09-af6b68284b67\",\"tags\":[],\"doc\":null}},{\"id\":\"4790005a-184c-44cd-c430-d44d8e4487c9\",\"type\":\"BasicTicker\",\"attributes\":{\"num_minor_ticks\":5,\"id\":\"4790005a-184c-44cd-c430-d44d8e4487c9\",\"tags\":[],\"doc\":null}},{\"id\":\"851d1b8b-11ef-4d4f-cd56-15c4c5291a50\",\"type\":\"LinearAxis\",\"attributes\":{\"formatter\":{\"type\":\"BasicTickFormatter\",\"id\":\"3341b4ae-cbb7-4b06-cb09-af6b68284b67\"},\"ticker\":{\"type\":\"BasicTicker\",\"id\":\"4790005a-184c-44cd-c430-d44d8e4487c9\"},\"plot\":{\"id\":\"bc15cc70-ce9e-41f7-c15e-cf43818825f6\",\"type\":\"Plot\",\"subtype\":\"Figure\"},\"axis_label\":null,\"id\":\"851d1b8b-11ef-4d4f-cd56-15c4c5291a50\",\"doc\":null,\"tags\":[]}},{\"id\":\"edb83bf6-05e3-44b6-c4a2-4de8e78dc2eb\",\"type\":\"Grid\",\"attributes\":{\"dimension\":1,\"plot\":{\"id\":\"bc15cc70-ce9e-41f7-c15e-cf43818825f6\",\"type\":\"Plot\",\"subtype\":\"Figure\"},\"ticker\":{\"type\":\"BasicTicker\",\"id\":\"4790005a-184c-44cd-c430-d44d8e4487c9\"},\"id\":\"edb83bf6-05e3-44b6-c4a2-4de8e78dc2eb\",\"doc\":null,\"tags\":[]}},{\"id\":\"9ad64c8d-0dc1-490d-c9da-0dd82bac1e91\",\"type\":\"PanTool\",\"attributes\":{\"plot\":{\"id\":\"bc15cc70-ce9e-41f7-c15e-cf43818825f6\",\"type\":\"Plot\",\"subtype\":\"Figure\"},\"dimensions\":[\"width\",\"height\"],\"id\":\"9ad64c8d-0dc1-490d-c9da-0dd82bac1e91\",\"doc\":null,\"tags\":[]}},{\"id\":\"88fe02b4-c305-4443-c4bc-51a48e8ab53c\",\"type\":\"WheelZoomTool\",\"attributes\":{\"plot\":{\"id\":\"bc15cc70-ce9e-41f7-c15e-cf43818825f6\",\"type\":\"Plot\",\"subtype\":\"Figure\"},\"dimensions\":[\"width\",\"height\"],\"id\":\"88fe02b4-c305-4443-c4bc-51a48e8ab53c\",\"doc\":null,\"tags\":[]}},{\"id\":\"3de3aa81-2bc2-4514-c55b-552a597be5ee\",\"type\":\"BoxZoomTool\",\"attributes\":{\"plot\":{\"id\":\"bc15cc70-ce9e-41f7-c15e-cf43818825f6\",\"type\":\"Plot\",\"subtype\":\"Figure\"},\"id\":\"3de3aa81-2bc2-4514-c55b-552a597be5ee\",\"tags\":[],\"doc\":null}},{\"id\":\"30478146-1415-43bc-c354-2f11b7f63741\",\"type\":\"PreviewSaveTool\",\"attributes\":{\"plot\":{\"id\":\"bc15cc70-ce9e-41f7-c15e-cf43818825f6\",\"type\":\"Plot\",\"subtype\":\"Figure\"},\"id\":\"30478146-1415-43bc-c354-2f11b7f63741\",\"tags\":[],\"doc\":null}},{\"id\":\"67fedde7-77f3-4be4-cbee-f8d7e302e1f3\",\"type\":\"ResizeTool\",\"attributes\":{\"plot\":{\"id\":\"bc15cc70-ce9e-41f7-c15e-cf43818825f6\",\"type\":\"Plot\",\"subtype\":\"Figure\"},\"id\":\"67fedde7-77f3-4be4-cbee-f8d7e302e1f3\",\"tags\":[],\"doc\":null}},{\"id\":\"bf1c741c-5060-4927-c9b9-07391de6e8a4\",\"type\":\"ResetTool\",\"attributes\":{\"plot\":{\"id\":\"bc15cc70-ce9e-41f7-c15e-cf43818825f6\",\"type\":\"Plot\",\"subtype\":\"Figure\"},\"id\":\"bf1c741c-5060-4927-c9b9-07391de6e8a4\",\"tags\":[],\"doc\":null}},{\"id\":\"bc15cc70-ce9e-41f7-c15e-cf43818825f6\",\"type\":\"Plot\",\"attributes\":{\"x_range\":{\"type\":\"DataRange1d\",\"id\":\"1abaa17f-bd72-4876-c83c-1f031df8990d\"},\"tool_events\":{\"type\":\"ToolEvents\",\"id\":\"a49f8f88-172c-43fc-c36e-1e4be944b303\"},\"below\":[{\"type\":\"LinearAxis\",\"id\":\"f7004df0-ddf7-4d03-cdb8-4fa1de6e3bcf\"}],\"renderers\":[{\"type\":\"GlyphRenderer\",\"id\":\"916b9db1-7745-489e-c89f-1f690cc20823\"},{\"type\":\"LinearAxis\",\"id\":\"f7004df0-ddf7-4d03-cdb8-4fa1de6e3bcf\"},{\"type\":\"Grid\",\"id\":\"fc73a7e6-7404-4f02-cf0e-21bbb4c021ef\"},{\"type\":\"LinearAxis\",\"id\":\"851d1b8b-11ef-4d4f-cd56-15c4c5291a50\"},{\"type\":\"Grid\",\"id\":\"edb83bf6-05e3-44b6-c4a2-4de8e78dc2eb\"}],\"above\":[],\"tools\":[{\"type\":\"PanTool\",\"id\":\"9ad64c8d-0dc1-490d-c9da-0dd82bac1e91\"},{\"type\":\"WheelZoomTool\",\"id\":\"88fe02b4-c305-4443-c4bc-51a48e8ab53c\"},{\"type\":\"BoxZoomTool\",\"id\":\"3de3aa81-2bc2-4514-c55b-552a597be5ee\"},{\"type\":\"PreviewSaveTool\",\"id\":\"30478146-1415-43bc-c354-2f11b7f63741\"},{\"type\":\"ResizeTool\",\"id\":\"67fedde7-77f3-4be4-cbee-f8d7e302e1f3\"},{\"type\":\"ResetTool\",\"id\":\"bf1c741c-5060-4927-c9b9-07391de6e8a4\"}],\"doc\":null,\"right\":[],\"title\":\"Plot of loss\",\"extra_x_ranges\":{},\"left\":[{\"type\":\"LinearAxis\",\"id\":\"851d1b8b-11ef-4d4f-cd56-15c4c5291a50\"}],\"y_range\":{\"type\":\"DataRange1d\",\"id\":\"6b9474d1-8d60-4850-c806-e7a23f5fff7f\"},\"id\":\"bc15cc70-ce9e-41f7-c15e-cf43818825f6\",\"extra_y_ranges\":{},\"tags\":[]}}];\n",
       "      Bokeh.load_models(all_models);\n",
       "      var model = Bokeh.Collections(modeltype).get(modelid);\n",
       "      $(\"#e4375cef-c895-46d0-c6a9-fab205519e72\").html(''); // clear any previous plot in window_id\n",
       "      var view = new model.default_view({model: model, el: \"#e4375cef-c895-46d0-c6a9-fab205519e72\"});\n",
       "  });\n",
       "    }\n",
       "});\n",
       "</script>\n",
       "<div class=\"plotdiv\" id=\"e4375cef-c895-46d0-c6a9-fab205519e72\"></div>\n"
      ]
     },
     "metadata": {},
     "output_type": "display_data"
    },
    {
     "data": {
      "text/html": [
       "<script type=\"text/javascript\">\n",
       "$(function() {\n",
       "    if (typeof (window._bokeh_onload_callbacks) === \"undefined\"){\n",
       "  window._bokeh_onload_callbacks = [];\n",
       "    }\n",
       "    function load_lib(url, callback){\n",
       "  window._bokeh_onload_callbacks.push(callback);\n",
       "  if (window._bokeh_is_loading){\n",
       "      console.log(\"Bokeh: BokehJS is being loaded, scheduling callback at\", new Date());\n",
       "      return null;\n",
       "  }\n",
       "  console.log(\"Bokeh: BokehJS not loaded, scheduling load and callback at\", new Date());\n",
       "  window._bokeh_is_loading = true;\n",
       "  var s = document.createElement('script');\n",
       "  s.src = url;\n",
       "  s.async = true;\n",
       "  s.onreadystatechange = s.onload = function(){\n",
       "      Bokeh.embed.inject_css(\"https://cdn.pydata.org/bokeh-0.7.0.min.css\");\n",
       "      window._bokeh_onload_callbacks.forEach(function(callback){callback()});\n",
       "  };\n",
       "  s.onerror = function(){\n",
       "      console.warn(\"failed to load library \" + url);\n",
       "  };\n",
       "  document.getElementsByTagName(\"head\")[0].appendChild(s);\n",
       "    }\n",
       "\n",
       "    bokehjs_url = \"https://cdn.pydata.org/bokeh-0.7.0.min.js\"\n",
       "\n",
       "    var elt = document.getElementById(\"1a51a132-5544-45d0-c517-c7413397c262\");\n",
       "    if(elt==null) {\n",
       "  console.log(\"Bokeh: ERROR: autoload.js configured with elementid '1a51a132-5544-45d0-c517-c7413397c262'\"\n",
       "        + \"but no matching script tag was found. \")\n",
       "  return false;\n",
       "    }\n",
       "\n",
       "    if(typeof(Bokeh) !== \"undefined\") {\n",
       "  console.log(\"Bokeh: BokehJS loaded, going straight to plotting\");\n",
       "  var modelid = \"489e075e-014c-4ef5-ce93-ac111bcdfad3\";\n",
       "  var modeltype = \"Plot\";\n",
       "  var all_models = [{\"id\":\"4323d333-fe4b-47ae-c720-624cf01f3eae\",\"type\":\"ColumnDataSource\",\"attributes\":{\"data\":{\"y\":[0.71428571428571,0.72727272727273,0.54545454545455,0.66666666666667,0.61538461538462,0.66666666666667,0.4,0.5,0.76923076923077,0.61538461538462,0.71428571428571,0.71428571428571,0.71428571428571,0.71428571428571,0.71428571428571,0.71428571428571,0.71428571428571,0.71428571428571,0.71428571428571,0.71428571428571,0.71428571428571,0.71428571428571,0.71428571428571,0.71428571428571,0.71428571428571,0.71428571428571,0.71428571428571,0.71428571428571,0.71428571428571,0.71428571428571,0.71428571428571,0.71428571428571,0.71428571428571,0.71428571428571,0.71428571428571,0.71428571428571,0.71428571428571,0.71428571428571,0.71428571428571,0.71428571428571,0.71428571428571,0.71428571428571,0.71428571428571,0.71428571428571,0.71428571428571,0.71428571428571,0.71428571428571,0.71428571428571,0.71428571428571,0.71428571428571,0.71428571428571,0.71428571428571,0.71428571428571,0.71428571428571,0.71428571428571,0.71428571428571,0.71428571428571,0.71428571428571,0.71428571428571,0.71428571428571,0.71428571428571,0.71428571428571,0.71428571428571,0.71428571428571,0.71428571428571,0.71428571428571,0.71428571428571,0.71428571428571,0.71428571428571,0.71428571428571,0.71428571428571,0.71428571428571,0.71428571428571,0.71428571428571,0.71428571428571,0.71428571428571,0.71428571428571,0.71428571428571,0.71428571428571,0.71428571428571,0.71428571428571,0.71428571428571,0.71428571428571,0.71428571428571,0.71428571428571,0.71428571428571,0.71428571428571,0.71428571428571,0.71428571428571,0.71428571428571,0.71428571428571,0.71428571428571,0.71428571428571,0.71428571428571,0.71428571428571,0.71428571428571,0.71428571428571,0.71428571428571,0.71428571428571,0.71428571428571,0.71428571428571,0.71428571428571,0.71428571428571,0.71428571428571,0.71428571428571,0.71428571428571,0.71428571428571,0.71428571428571,0.71428571428571,0.71428571428571,0.71428571428571,0.71428571428571,0.71428571428571,0.71428571428571,0.71428571428571,0.71428571428571,0.71428571428571,0.71428571428571,0.71428571428571,0.71428571428571,0.71428571428571,0.71428571428571,0.71428571428571,0.71428571428571,0.71428571428571,0.71428571428571,0.71428571428571,0.71428571428571,0.71428571428571,0.71428571428571,0.71428571428571,0.71428571428571,0.71428571428571,0.71428571428571,0.71428571428571,0.71428571428571,0.71428571428571,0.71428571428571,0.71428571428571,0.71428571428571,0.71428571428571,0.71428571428571,0.71428571428571,0.71428571428571,0.71428571428571,0.71428571428571,0.71428571428571,0.71428571428571,0.71428571428571,0.71428571428571,0.71428571428571,0.71428571428571,0.71428571428571,0.71428571428571,0.71428571428571,0.71428571428571,0.71428571428571,0.71428571428571,0.71428571428571,0.71428571428571,0.71428571428571,0.71428571428571,0.71428571428571,0.71428571428571,0.71428571428571,0.71428571428571,0.71428571428571,0.71428571428571,0.71428571428571,0.71428571428571,0.71428571428571,0.71428571428571,0.71428571428571,0.71428571428571,0.71428571428571,0.71428571428571,0.71428571428571,0.71428571428571,0.71428571428571,0.71428571428571,0.8,0.8,0.8,0.8,0.8,0.8,0.8,0.8,0.8,0.8,0.8,0.8,0.8,0.8,0.8,0.8,0.8,0.8,0.8,0.8,0.8,0.8,0.8,0.8,0.8,0.8,0.8,0.8,0.8,0.8,0.8,0.8,0.8,0.8,0.8,0.66666666666667,0.8,0.8,0.8,0.8,0.66666666666667,0.8,0.8,0.66666666666667,0.66666666666667,0.66666666666667,0.66666666666667,0.66666666666667,0.66666666666667,0.66666666666667,0.66666666666667,0.66666666666667,0.8,0.8,0.66666666666667,0.66666666666667,0.8,0.66666666666667,0.8,0.8,0.66666666666667,0.66666666666667,0.66666666666667,0.8,0.8,0.66666666666667,0.8,0.8,0.66666666666667,0.66666666666667,0.66666666666667,0.8,0.66666666666667,0.66666666666667,0.66666666666667,0.8,0.66666666666667,0.8,0.66666666666667,0.66666666666667,0.66666666666667,0.66666666666667,0.8,0.66666666666667,0.66666666666667,0.66666666666667,0.66666666666667,0.66666666666667,0.8,0.66666666666667,0.66666666666667,0.66666666666667,0.66666666666667,0.66666666666667,0.66666666666667,0.66666666666667,0.66666666666667,0.66666666666667,0.66666666666667,0.66666666666667,0.8,0.66666666666667,0.66666666666667,0.8,0.66666666666667,0.66666666666667,0.66666666666667,0.66666666666667,0.66666666666667,0.66666666666667,0.66666666666667,0.66666666666667,0.66666666666667,0.8,0.8,0.66666666666667,0.66666666666667,0.66666666666667,0.66666666666667,0.66666666666667,0.66666666666667,0.66666666666667,0.66666666666667,0.66666666666667,0.66666666666667,0.66666666666667,0.8,0.66666666666667,0.8,0.8,0.66666666666667,0.66666666666667,0.8,0.66666666666667,0.66666666666667,0.66666666666667,0.8,0.66666666666667,0.66666666666667,0.66666666666667,0.8,0.66666666666667,0.8,0.66666666666667,0.66666666666667,0.8,0.8,0.8,0.66666666666667,0.66666666666667,0.8,0.66666666666667,0.66666666666667,0.66666666666667,0.66666666666667,0.8,0.66666666666667,0.8,0.8,0.66666666666667,0.66666666666667,0.66666666666667,0.66666666666667,0.66666666666667,0.8,0.66666666666667,0.8,0.66666666666667,0.8,0.8,0.66666666666667,0.66666666666667,0.8,0.8,0.66666666666667,0.8,0.66666666666667,0.66666666666667,0.66666666666667,0.66666666666667,0.66666666666667,0.66666666666667,0.66666666666667,0.66666666666667,0.66666666666667,0.8,0.66666666666667,0.66666666666667,0.8,0.66666666666667,0.66666666666667,0.66666666666667,0.66666666666667,0.66666666666667,0.66666666666667,0.66666666666667,0.66666666666667,0.66666666666667,0.66666666666667,0.66666666666667,0.66666666666667,0.66666666666667,0.66666666666667,0.66666666666667,0.66666666666667,0.66666666666667,0.8,0.66666666666667,0.66666666666667,0.66666666666667,0.66666666666667,0.66666666666667,0.66666666666667,0.66666666666667,0.66666666666667,0.8,0.8,0.66666666666667,0.66666666666667,0.66666666666667,0.66666666666667,0.66666666666667,0.66666666666667,0.66666666666667,0.66666666666667,0.8,0.66666666666667,0.66666666666667,0.66666666666667,0.66666666666667,0.66666666666667,0.8,0.66666666666667,0.8,0.66666666666667,0.66666666666667,0.66666666666667,0.8,0.66666666666667,0.66666666666667,0.66666666666667,0.66666666666667,0.66666666666667,0.66666666666667,0.66666666666667,0.66666666666667,0.66666666666667,0.66666666666667,0.66666666666667,0.8,0.66666666666667,0.66666666666667,0.66666666666667,0.66666666666667,0.66666666666667,0.66666666666667,0.66666666666667,0.66666666666667,0.66666666666667,0.66666666666667,0.66666666666667,0.66666666666667,0.66666666666667,0.66666666666667,0.66666666666667,0.66666666666667,0.66666666666667,0.66666666666667,0.8,0.66666666666667,0.8,0.8,0.66666666666667,0.66666666666667,0.66666666666667,0.66666666666667,0.66666666666667,0.66666666666667,0.66666666666667,0.66666666666667,0.66666666666667,0.8,0.66666666666667,0.8,0.66666666666667,0.66666666666667,0.66666666666667,0.66666666666667,0.8,0.66666666666667,0.66666666666667,0.66666666666667,0.8,0.66666666666667,0.66666666666667,0.66666666666667,0.66666666666667,0.66666666666667,0.66666666666667,0.66666666666667,0.66666666666667,0.66666666666667,0.66666666666667,0.8,0.66666666666667,0.66666666666667,0.8,0.66666666666667,0.66666666666667,0.66666666666667,0.8,0.66666666666667,0.66666666666667,0.8,0.66666666666667,0.66666666666667,0.66666666666667,0.66666666666667,0.66666666666667,0.8,0.66666666666667,0.66666666666667,0.66666666666667,0.66666666666667,0.8,0.66666666666667,0.66666666666667,0.66666666666667,0.8,0.66666666666667,0.66666666666667,0.66666666666667,0.8,0.66666666666667,0.66666666666667,0.8,0.8,0.66666666666667,0.8,0.66666666666667,0.66666666666667,0.66666666666667,0.8,0.66666666666667,0.66666666666667,0.66666666666667,0.8,0.66666666666667,0.66666666666667,0.66666666666667,0.66666666666667,0.8,0.66666666666667,0.66666666666667,0.66666666666667,0.66666666666667,0.8,0.8,0.66666666666667,0.66666666666667,0.66666666666667,0.66666666666667,0.66666666666667,0.8,0.66666666666667,0.66666666666667,0.66666666666667,0.66666666666667,0.71428571428571,0.66666666666667,0.66666666666667,0.66666666666667,0.66666666666667,0.71428571428571,0.66666666666667,0.66666666666667,0.66666666666667,0.66666666666667,0.66666666666667,0.66666666666667,0.71428571428571,0.71428571428571,0.66666666666667,0.66666666666667,0.66666666666667,0.66666666666667,0.66666666666667,0.66666666666667,0.66666666666667,0.66666666666667,0.66666666666667,0.66666666666667,0.71428571428571,0.66666666666667,0.66666666666667,0.66666666666667,0.66666666666667,0.66666666666667,0.66666666666667,0.66666666666667,0.71428571428571,0.66666666666667,0.66666666666667,0.66666666666667,0.66666666666667,0.66666666666667,0.66666666666667,0.66666666666667,0.66666666666667,0.66666666666667,0.71428571428571,0.66666666666667,0.71428571428571,0.66666666666667,0.71428571428571,0.66666666666667,0.66666666666667,0.66666666666667,0.66666666666667,0.61538461538462,0.61538461538462,0.61538461538462,0.61538461538462,0.61538461538462,0.61538461538462,0.61538461538462,0.61538461538462,0.61538461538462,0.61538461538462,0.61538461538462,0.61538461538462,0.61538461538462,0.61538461538462,0.61538461538462,0.66666666666667,0.61538461538462,0.61538461538462,0.61538461538462,0.61538461538462,0.61538461538462,0.61538461538462,0.61538461538462,0.61538461538462,0.61538461538462,0.61538461538462,0.61538461538462,0.61538461538462,0.61538461538462,0.61538461538462,0.61538461538462,0.61538461538462,0.61538461538462,0.61538461538462,0.61538461538462,0.61538461538462,0.61538461538462,0.61538461538462,0.61538461538462,0.61538461538462,0.61538461538462,0.61538461538462,0.61538461538462,0.61538461538462,0.61538461538462,0.61538461538462,0.61538461538462,0.61538461538462,0.61538461538462,0.61538461538462,0.61538461538462,0.61538461538462,0.61538461538462,0.61538461538462,0.61538461538462,0.61538461538462,0.61538461538462,0.61538461538462,0.61538461538462,0.61538461538462,0.61538461538462,0.61538461538462,0.61538461538462,0.61538461538462,0.61538461538462,0.61538461538462,0.61538461538462,0.61538461538462,0.61538461538462,0.61538461538462,0.61538461538462,0.61538461538462,0.61538461538462,0.61538461538462,0.61538461538462,0.61538461538462,0.61538461538462,0.61538461538462,0.61538461538462,0.61538461538462,0.61538461538462,0.61538461538462,0.61538461538462,0.61538461538462,0.61538461538462,0.61538461538462,0.61538461538462,0.61538461538462,0.61538461538462,0.61538461538462,0.61538461538462,0.61538461538462,0.61538461538462,0.61538461538462,0.61538461538462,0.61538461538462,0.61538461538462,0.66666666666667,0.61538461538462,0.61538461538462,0.61538461538462,0.61538461538462,0.66666666666667,0.61538461538462,0.61538461538462,0.61538461538462,0.61538461538462,0.66666666666667,0.66666666666667,0.66666666666667,0.61538461538462,0.57142857142857,0.57142857142857,0.57142857142857,0.61538461538462,0.57142857142857,0.61538461538462,0.61538461538462,0.61538461538462,0.61538461538462,0.61538461538462,0.61538461538462,0.61538461538462,0.61538461538462,0.61538461538462,0.61538461538462,0.61538461538462,0.61538461538462,0.61538461538462,0.57142857142857,0.61538461538462,0.61538461538462,0.61538461538462,0.61538461538462,0.61538461538462,0.61538461538462,0.61538461538462,0.61538461538462,0.61538461538462,0.61538461538462,0.61538461538462,0.57142857142857,0.61538461538462,0.57142857142857,0.57142857142857,0.61538461538462,0.61538461538462,0.61538461538462,0.61538461538462,0.61538461538462,0.61538461538462,0.61538461538462,0.61538461538462,0.61538461538462,0.61538461538462,0.61538461538462,0.61538461538462,0.61538461538462,0.61538461538462,0.61538461538462,0.61538461538462,0.61538461538462,0.61538461538462,0.61538461538462,0.61538461538462,0.61538461538462,0.61538461538462,0.61538461538462,0.61538461538462,0.57142857142857,0.61538461538462,0.61538461538462,0.61538461538462,0.57142857142857,0.57142857142857,0.57142857142857,0.57142857142857,0.57142857142857,0.57142857142857,0.57142857142857,0.57142857142857,0.57142857142857,0.57142857142857,0.57142857142857,0.61538461538462,0.61538461538462,0.61538461538462,0.61538461538462,0.61538461538462,0.61538461538462,0.61538461538462,0.61538461538462,0.61538461538462,0.61538461538462,0.61538461538462,0.61538461538462,0.61538461538462,0.61538461538462,0.61538461538462,0.61538461538462,0.61538461538462,0.61538461538462,0.61538461538462,0.61538461538462,0.61538461538462,0.61538461538462,0.61538461538462,0.61538461538462,0.61538461538462,0.61538461538462,0.61538461538462,0.61538461538462,0.61538461538462,0.61538461538462,0.61538461538462,0.61538461538462,0.61538461538462,0.61538461538462,0.61538461538462,0.61538461538462,0.61538461538462,0.61538461538462,0.61538461538462,0.61538461538462,0.61538461538462,0.61538461538462,0.61538461538462,0.61538461538462,0.61538461538462,0.61538461538462,0.61538461538462,0.61538461538462,0.61538461538462,0.61538461538462,0.61538461538462,0.61538461538462,0.61538461538462,0.61538461538462,0.61538461538462,0.61538461538462,0.61538461538462,0.61538461538462,0.61538461538462,0.61538461538462,0.61538461538462,0.61538461538462,0.61538461538462,0.61538461538462,0.61538461538462,0.61538461538462,0.61538461538462,0.61538461538462,0.61538461538462,0.61538461538462,0.61538461538462,0.61538461538462,0.61538461538462,0.61538461538462,0.61538461538462,0.61538461538462,0.61538461538462,0.61538461538462,0.61538461538462,0.61538461538462,0.61538461538462,0.61538461538462,0.61538461538462,0.61538461538462,0.61538461538462,0.61538461538462,0.61538461538462,0.61538461538462,0.61538461538462,0.61538461538462,0.61538461538462,0.61538461538462,0.61538461538462,0.61538461538462,0.61538461538462,0.61538461538462,0.61538461538462,0.61538461538462,0.61538461538462,0.61538461538462,0.61538461538462,0.61538461538462,0.61538461538462,0.61538461538462,0.61538461538462,0.61538461538462,0.61538461538462,0.61538461538462,0.61538461538462,0.61538461538462,0.61538461538462,0.61538461538462,0.61538461538462,0.61538461538462,0.61538461538462,0.61538461538462,0.61538461538462,0.61538461538462,0.61538461538462,0.61538461538462,0.61538461538462,0.61538461538462,0.61538461538462,0.61538461538462,0.61538461538462,0.61538461538462,0.61538461538462,0.61538461538462,0.61538461538462,0.61538461538462,0.61538461538462,0.61538461538462,0.61538461538462,0.61538461538462,0.61538461538462,0.61538461538462,0.61538461538462,0.61538461538462,0.61538461538462,0.61538461538462,0.61538461538462,0.61538461538462,0.61538461538462,0.61538461538462,0.61538461538462,0.61538461538462,0.61538461538462,0.61538461538462,0.61538461538462,0.61538461538462,0.61538461538462,0.61538461538462,0.61538461538462,0.61538461538462,0.61538461538462,0.61538461538462,0.61538461538462,0.61538461538462,0.61538461538462,0.61538461538462,0.61538461538462,0.61538461538462,0.61538461538462,0.61538461538462,0.61538461538462,0.61538461538462,0.61538461538462,0.61538461538462,0.61538461538462,0.61538461538462,0.61538461538462,0.61538461538462,0.61538461538462,0.61538461538462,0.61538461538462,0.61538461538462,0.61538461538462,0.61538461538462,0.61538461538462,0.61538461538462,0.61538461538462,0.61538461538462,0.61538461538462,0.61538461538462,0.61538461538462,0.61538461538462,0.61538461538462,0.61538461538462,0.61538461538462,0.61538461538462,0.61538461538462,0.61538461538462,0.61538461538462,0.61538461538462,0.61538461538462,0.61538461538462,0.61538461538462,0.61538461538462,0.61538461538462,0.61538461538462,0.61538461538462,0.61538461538462,0.61538461538462,0.61538461538462,0.61538461538462,0.61538461538462,0.61538461538462,0.61538461538462,0.61538461538462,0.61538461538462,0.61538461538462,0.61538461538462,0.61538461538462,0.61538461538462,0.61538461538462,0.61538461538462,0.61538461538462],\"x\":[1,2,3,4,5,6,7,8,9,10,11,12,13,14,15,16,17,18,19,20,21,22,23,24,25,26,27,28,29,30,31,32,33,34,35,36,37,38,39,40,41,42,43,44,45,46,47,48,49,50,51,52,53,54,55,56,57,58,59,60,61,62,63,64,65,66,67,68,69,70,71,72,73,74,75,76,77,78,79,80,81,82,83,84,85,86,87,88,89,90,91,92,93,94,95,96,97,98,99,100,101,102,103,104,105,106,107,108,109,110,111,112,113,114,115,116,117,118,119,120,121,122,123,124,125,126,127,128,129,130,131,132,133,134,135,136,137,138,139,140,141,142,143,144,145,146,147,148,149,150,151,152,153,154,155,156,157,158,159,160,161,162,163,164,165,166,167,168,169,170,171,172,173,174,175,176,177,178,179,180,181,182,183,184,185,186,187,188,189,190,191,192,193,194,195,196,197,198,199,200,201,202,203,204,205,206,207,208,209,210,211,212,213,214,215,216,217,218,219,220,221,222,223,224,225,226,227,228,229,230,231,232,233,234,235,236,237,238,239,240,241,242,243,244,245,246,247,248,249,250,251,252,253,254,255,256,257,258,259,260,261,262,263,264,265,266,267,268,269,270,271,272,273,274,275,276,277,278,279,280,281,282,283,284,285,286,287,288,289,290,291,292,293,294,295,296,297,298,299,300,301,302,303,304,305,306,307,308,309,310,311,312,313,314,315,316,317,318,319,320,321,322,323,324,325,326,327,328,329,330,331,332,333,334,335,336,337,338,339,340,341,342,343,344,345,346,347,348,349,350,351,352,353,354,355,356,357,358,359,360,361,362,363,364,365,366,367,368,369,370,371,372,373,374,375,376,377,378,379,380,381,382,383,384,385,386,387,388,389,390,391,392,393,394,395,396,397,398,399,400,401,402,403,404,405,406,407,408,409,410,411,412,413,414,415,416,417,418,419,420,421,422,423,424,425,426,427,428,429,430,431,432,433,434,435,436,437,438,439,440,441,442,443,444,445,446,447,448,449,450,451,452,453,454,455,456,457,458,459,460,461,462,463,464,465,466,467,468,469,470,471,472,473,474,475,476,477,478,479,480,481,482,483,484,485,486,487,488,489,490,491,492,493,494,495,496,497,498,499,500,501,502,503,504,505,506,507,508,509,510,511,512,513,514,515,516,517,518,519,520,521,522,523,524,525,526,527,528,529,530,531,532,533,534,535,536,537,538,539,540,541,542,543,544,545,546,547,548,549,550,551,552,553,554,555,556,557,558,559,560,561,562,563,564,565,566,567,568,569,570,571,572,573,574,575,576,577,578,579,580,581,582,583,584,585,586,587,588,589,590,591,592,593,594,595,596,597,598,599,600,601,602,603,604,605,606,607,608,609,610,611,612,613,614,615,616,617,618,619,620,621,622,623,624,625,626,627,628,629,630,631,632,633,634,635,636,637,638,639,640,641,642,643,644,645,646,647,648,649,650,651,652,653,654,655,656,657,658,659,660,661,662,663,664,665,666,667,668,669,670,671,672,673,674,675,676,677,678,679,680,681,682,683,684,685,686,687,688,689,690,691,692,693,694,695,696,697,698,699,700,701,702,703,704,705,706,707,708,709,710,711,712,713,714,715,716,717,718,719,720,721,722,723,724,725,726,727,728,729,730,731,732,733,734,735,736,737,738,739,740,741,742,743,744,745,746,747,748,749,750,751,752,753,754,755,756,757,758,759,760,761,762,763,764,765,766,767,768,769,770,771,772,773,774,775,776,777,778,779,780,781,782,783,784,785,786,787,788,789,790,791,792,793,794,795,796,797,798,799,800,801,802,803,804,805,806,807,808,809,810,811,812,813,814,815,816,817,818,819,820,821,822,823,824,825,826,827,828,829,830,831,832,833,834,835,836,837,838,839,840,841,842,843,844,845,846,847,848,849,850,851,852,853,854,855,856,857,858,859,860,861,862,863,864,865,866,867,868,869,870,871,872,873,874,875,876,877,878,879,880,881,882,883,884,885,886,887,888,889,890,891,892,893,894,895,896,897,898,899,900,901,902,903,904,905,906,907,908,909,910,911,912,913,914,915,916,917,918,919,920,921,922,923,924,925,926,927,928,929,930,931,932,933,934,935,936,937,938,939,940,941,942,943,944,945,946,947,948,949,950,951,952,953,954,955,956,957,958,959,960,961,962,963,964,965,966,967,968,969,970,971,972,973,974,975,976,977,978,979,980,981,982,983,984,985,986,987,988,989,990,991,992,993,994,995,996,997,998,999,1000]},\"column_names\":[\"y\",\"x\"],\"cont_ranges\":{},\"discrete_ranges\":{},\"selected\":[],\"id\":\"4323d333-fe4b-47ae-c720-624cf01f3eae\",\"doc\":null,\"tags\":[]}},{\"id\":\"1aa638fb-0aeb-4e45-cebe-45eea8d8a6e4\",\"type\":\"Line\",\"attributes\":{\"fill_alpha\":{\"units\":\"data\",\"value\":0.2},\"line_alpha\":{\"units\":\"data\",\"value\":1},\"doc\":null,\"size\":{\"units\":\"screen\",\"value\":10},\"fill_color\":{\"value\":\"blue\"},\"line_color\":{\"value\":\"blue\"},\"x\":{\"units\":\"data\",\"field\":\"x\"},\"id\":\"1aa638fb-0aeb-4e45-cebe-45eea8d8a6e4\",\"y\":{\"units\":\"data\",\"field\":\"y\"},\"tags\":[]}},{\"id\":\"a5b6de1d-d2b3-4e39-ce5e-d76a30234d47\",\"type\":\"Line\",\"attributes\":{\"fill_alpha\":{\"units\":\"data\",\"value\":0.2},\"line_alpha\":{\"units\":\"data\",\"value\":1},\"doc\":null,\"size\":{\"units\":\"screen\",\"value\":10},\"fill_color\":{\"value\":\"blue\"},\"line_color\":{\"value\":\"blue\"},\"x\":{\"units\":\"data\",\"field\":\"x\"},\"id\":\"a5b6de1d-d2b3-4e39-ce5e-d76a30234d47\",\"y\":{\"units\":\"data\",\"field\":\"y\"},\"tags\":[]}},{\"id\":\"d8769ff3-60c1-4be2-cbef-3376017c54e6\",\"type\":\"GlyphRenderer\",\"attributes\":{\"name\":null,\"nonselection_glyph\":{\"type\":\"Line\",\"id\":\"a5b6de1d-d2b3-4e39-ce5e-d76a30234d47\"},\"doc\":null,\"server_data_source\":null,\"data_source\":{\"type\":\"ColumnDataSource\",\"id\":\"4323d333-fe4b-47ae-c720-624cf01f3eae\"},\"glyph\":{\"type\":\"Line\",\"id\":\"1aa638fb-0aeb-4e45-cebe-45eea8d8a6e4\"},\"selection_glyph\":null,\"id\":\"d8769ff3-60c1-4be2-cbef-3376017c54e6\",\"tags\":[]}},{\"id\":\"5cff97a7-73c3-432a-c325-b8d3f3c8984a\",\"type\":\"DataRange1d\",\"attributes\":{\"sources\":[{\"columns\":[\"x\"],\"source\":{\"type\":\"ColumnDataSource\",\"id\":\"4323d333-fe4b-47ae-c720-624cf01f3eae\"}}],\"id\":\"5cff97a7-73c3-432a-c325-b8d3f3c8984a\",\"tags\":[],\"doc\":null}},{\"id\":\"8fece7b3-34f4-4a7d-ca00-df339eec392a\",\"type\":\"DataRange1d\",\"attributes\":{\"sources\":[{\"columns\":[\"y\"],\"source\":{\"type\":\"ColumnDataSource\",\"id\":\"4323d333-fe4b-47ae-c720-624cf01f3eae\"}}],\"id\":\"8fece7b3-34f4-4a7d-ca00-df339eec392a\",\"tags\":[],\"doc\":null}},{\"id\":\"51b3bdeb-9054-46ac-c68b-ae4a6f851315\",\"type\":\"ToolEvents\",\"attributes\":{\"tags\":[],\"id\":\"51b3bdeb-9054-46ac-c68b-ae4a6f851315\",\"geometries\":[],\"doc\":null}},{\"id\":\"4e5f4750-9a88-4fca-cf9f-cd4ce3b7a203\",\"type\":\"BasicTickFormatter\",\"attributes\":{\"id\":\"4e5f4750-9a88-4fca-cf9f-cd4ce3b7a203\",\"tags\":[],\"doc\":null}},{\"id\":\"49fd7e0a-99e4-42c9-c230-569e198fd904\",\"type\":\"BasicTicker\",\"attributes\":{\"num_minor_ticks\":5,\"id\":\"49fd7e0a-99e4-42c9-c230-569e198fd904\",\"tags\":[],\"doc\":null}},{\"id\":\"71c762a4-7339-4c46-cc34-a9cde1830045\",\"type\":\"LinearAxis\",\"attributes\":{\"formatter\":{\"type\":\"BasicTickFormatter\",\"id\":\"4e5f4750-9a88-4fca-cf9f-cd4ce3b7a203\"},\"ticker\":{\"type\":\"BasicTicker\",\"id\":\"49fd7e0a-99e4-42c9-c230-569e198fd904\"},\"plot\":{\"id\":\"489e075e-014c-4ef5-ce93-ac111bcdfad3\",\"type\":\"Plot\",\"subtype\":\"Figure\"},\"axis_label\":null,\"id\":\"71c762a4-7339-4c46-cc34-a9cde1830045\",\"doc\":null,\"tags\":[]}},{\"id\":\"c743e878-2950-4f7e-cfc8-7835840a558a\",\"type\":\"Grid\",\"attributes\":{\"dimension\":0,\"plot\":{\"id\":\"489e075e-014c-4ef5-ce93-ac111bcdfad3\",\"type\":\"Plot\",\"subtype\":\"Figure\"},\"ticker\":{\"type\":\"BasicTicker\",\"id\":\"49fd7e0a-99e4-42c9-c230-569e198fd904\"},\"id\":\"c743e878-2950-4f7e-cfc8-7835840a558a\",\"doc\":null,\"tags\":[]}},{\"id\":\"80916607-4ec3-4111-c1ce-45221464354c\",\"type\":\"BasicTickFormatter\",\"attributes\":{\"id\":\"80916607-4ec3-4111-c1ce-45221464354c\",\"tags\":[],\"doc\":null}},{\"id\":\"38bd9b0b-8d2c-432c-c33c-6353b5ddd497\",\"type\":\"BasicTicker\",\"attributes\":{\"num_minor_ticks\":5,\"id\":\"38bd9b0b-8d2c-432c-c33c-6353b5ddd497\",\"tags\":[],\"doc\":null}},{\"id\":\"38e71985-908a-4f41-cfdb-a4f2127a8589\",\"type\":\"LinearAxis\",\"attributes\":{\"formatter\":{\"type\":\"BasicTickFormatter\",\"id\":\"80916607-4ec3-4111-c1ce-45221464354c\"},\"ticker\":{\"type\":\"BasicTicker\",\"id\":\"38bd9b0b-8d2c-432c-c33c-6353b5ddd497\"},\"plot\":{\"id\":\"489e075e-014c-4ef5-ce93-ac111bcdfad3\",\"type\":\"Plot\",\"subtype\":\"Figure\"},\"axis_label\":null,\"id\":\"38e71985-908a-4f41-cfdb-a4f2127a8589\",\"doc\":null,\"tags\":[]}},{\"id\":\"fb1c0a8c-3974-4ba7-cb54-d027d9fce98f\",\"type\":\"Grid\",\"attributes\":{\"dimension\":1,\"plot\":{\"id\":\"489e075e-014c-4ef5-ce93-ac111bcdfad3\",\"type\":\"Plot\",\"subtype\":\"Figure\"},\"ticker\":{\"type\":\"BasicTicker\",\"id\":\"38bd9b0b-8d2c-432c-c33c-6353b5ddd497\"},\"id\":\"fb1c0a8c-3974-4ba7-cb54-d027d9fce98f\",\"doc\":null,\"tags\":[]}},{\"id\":\"3d45818a-b5bc-48e0-c871-129881dfe385\",\"type\":\"PanTool\",\"attributes\":{\"plot\":{\"id\":\"489e075e-014c-4ef5-ce93-ac111bcdfad3\",\"type\":\"Plot\",\"subtype\":\"Figure\"},\"dimensions\":[\"width\",\"height\"],\"id\":\"3d45818a-b5bc-48e0-c871-129881dfe385\",\"doc\":null,\"tags\":[]}},{\"id\":\"bb20367c-45be-4187-c160-91a65e1b87ee\",\"type\":\"WheelZoomTool\",\"attributes\":{\"plot\":{\"id\":\"489e075e-014c-4ef5-ce93-ac111bcdfad3\",\"type\":\"Plot\",\"subtype\":\"Figure\"},\"dimensions\":[\"width\",\"height\"],\"id\":\"bb20367c-45be-4187-c160-91a65e1b87ee\",\"doc\":null,\"tags\":[]}},{\"id\":\"75deb4e1-de4b-4277-c2b6-03402a290f7d\",\"type\":\"BoxZoomTool\",\"attributes\":{\"plot\":{\"id\":\"489e075e-014c-4ef5-ce93-ac111bcdfad3\",\"type\":\"Plot\",\"subtype\":\"Figure\"},\"id\":\"75deb4e1-de4b-4277-c2b6-03402a290f7d\",\"tags\":[],\"doc\":null}},{\"id\":\"c77fc70e-c027-4bdd-cb74-9efe64b30c3f\",\"type\":\"PreviewSaveTool\",\"attributes\":{\"plot\":{\"id\":\"489e075e-014c-4ef5-ce93-ac111bcdfad3\",\"type\":\"Plot\",\"subtype\":\"Figure\"},\"id\":\"c77fc70e-c027-4bdd-cb74-9efe64b30c3f\",\"tags\":[],\"doc\":null}},{\"id\":\"6761a806-b16f-4d65-cdfb-ac8a32d052d3\",\"type\":\"ResizeTool\",\"attributes\":{\"plot\":{\"id\":\"489e075e-014c-4ef5-ce93-ac111bcdfad3\",\"type\":\"Plot\",\"subtype\":\"Figure\"},\"id\":\"6761a806-b16f-4d65-cdfb-ac8a32d052d3\",\"tags\":[],\"doc\":null}},{\"id\":\"94195310-aa19-4ca4-ccff-ddd71d30ae2e\",\"type\":\"ResetTool\",\"attributes\":{\"plot\":{\"id\":\"489e075e-014c-4ef5-ce93-ac111bcdfad3\",\"type\":\"Plot\",\"subtype\":\"Figure\"},\"id\":\"94195310-aa19-4ca4-ccff-ddd71d30ae2e\",\"tags\":[],\"doc\":null}},{\"id\":\"489e075e-014c-4ef5-ce93-ac111bcdfad3\",\"type\":\"Plot\",\"attributes\":{\"x_range\":{\"type\":\"DataRange1d\",\"id\":\"5cff97a7-73c3-432a-c325-b8d3f3c8984a\"},\"tool_events\":{\"type\":\"ToolEvents\",\"id\":\"51b3bdeb-9054-46ac-c68b-ae4a6f851315\"},\"below\":[{\"type\":\"LinearAxis\",\"id\":\"71c762a4-7339-4c46-cc34-a9cde1830045\"}],\"renderers\":[{\"type\":\"GlyphRenderer\",\"id\":\"d8769ff3-60c1-4be2-cbef-3376017c54e6\"},{\"type\":\"LinearAxis\",\"id\":\"71c762a4-7339-4c46-cc34-a9cde1830045\"},{\"type\":\"Grid\",\"id\":\"c743e878-2950-4f7e-cfc8-7835840a558a\"},{\"type\":\"LinearAxis\",\"id\":\"38e71985-908a-4f41-cfdb-a4f2127a8589\"},{\"type\":\"Grid\",\"id\":\"fb1c0a8c-3974-4ba7-cb54-d027d9fce98f\"}],\"above\":[],\"tools\":[{\"type\":\"PanTool\",\"id\":\"3d45818a-b5bc-48e0-c871-129881dfe385\"},{\"type\":\"WheelZoomTool\",\"id\":\"bb20367c-45be-4187-c160-91a65e1b87ee\"},{\"type\":\"BoxZoomTool\",\"id\":\"75deb4e1-de4b-4277-c2b6-03402a290f7d\"},{\"type\":\"PreviewSaveTool\",\"id\":\"c77fc70e-c027-4bdd-cb74-9efe64b30c3f\"},{\"type\":\"ResizeTool\",\"id\":\"6761a806-b16f-4d65-cdfb-ac8a32d052d3\"},{\"type\":\"ResetTool\",\"id\":\"94195310-aa19-4ca4-ccff-ddd71d30ae2e\"}],\"doc\":null,\"right\":[],\"title\":\"Plot of Rougue-F1\",\"extra_x_ranges\":{},\"left\":[{\"type\":\"LinearAxis\",\"id\":\"38e71985-908a-4f41-cfdb-a4f2127a8589\"}],\"y_range\":{\"type\":\"DataRange1d\",\"id\":\"8fece7b3-34f4-4a7d-ca00-df339eec392a\"},\"id\":\"489e075e-014c-4ef5-ce93-ac111bcdfad3\",\"extra_y_ranges\":{},\"tags\":[]}}];\n",
       "  Bokeh.load_models(all_models);\n",
       "  var model = Bokeh.Collections(modeltype).get(modelid);\n",
       "  $(\"#1a51a132-5544-45d0-c517-c7413397c262\").html(''); // clear any previous plot in window_id\n",
       "  var view = new model.default_view({model: model, el: \"#1a51a132-5544-45d0-c517-c7413397c262\"});\n",
       "    } else {\n",
       "  load_lib(bokehjs_url, function() {\n",
       "      console.log(\"Bokeh: BokehJS plotting callback run at\", new Date())\n",
       "      var modelid = \"489e075e-014c-4ef5-ce93-ac111bcdfad3\";\n",
       "      var modeltype = \"Plot\";\n",
       "      var all_models = [{\"id\":\"4323d333-fe4b-47ae-c720-624cf01f3eae\",\"type\":\"ColumnDataSource\",\"attributes\":{\"data\":{\"y\":[0.71428571428571,0.72727272727273,0.54545454545455,0.66666666666667,0.61538461538462,0.66666666666667,0.4,0.5,0.76923076923077,0.61538461538462,0.71428571428571,0.71428571428571,0.71428571428571,0.71428571428571,0.71428571428571,0.71428571428571,0.71428571428571,0.71428571428571,0.71428571428571,0.71428571428571,0.71428571428571,0.71428571428571,0.71428571428571,0.71428571428571,0.71428571428571,0.71428571428571,0.71428571428571,0.71428571428571,0.71428571428571,0.71428571428571,0.71428571428571,0.71428571428571,0.71428571428571,0.71428571428571,0.71428571428571,0.71428571428571,0.71428571428571,0.71428571428571,0.71428571428571,0.71428571428571,0.71428571428571,0.71428571428571,0.71428571428571,0.71428571428571,0.71428571428571,0.71428571428571,0.71428571428571,0.71428571428571,0.71428571428571,0.71428571428571,0.71428571428571,0.71428571428571,0.71428571428571,0.71428571428571,0.71428571428571,0.71428571428571,0.71428571428571,0.71428571428571,0.71428571428571,0.71428571428571,0.71428571428571,0.71428571428571,0.71428571428571,0.71428571428571,0.71428571428571,0.71428571428571,0.71428571428571,0.71428571428571,0.71428571428571,0.71428571428571,0.71428571428571,0.71428571428571,0.71428571428571,0.71428571428571,0.71428571428571,0.71428571428571,0.71428571428571,0.71428571428571,0.71428571428571,0.71428571428571,0.71428571428571,0.71428571428571,0.71428571428571,0.71428571428571,0.71428571428571,0.71428571428571,0.71428571428571,0.71428571428571,0.71428571428571,0.71428571428571,0.71428571428571,0.71428571428571,0.71428571428571,0.71428571428571,0.71428571428571,0.71428571428571,0.71428571428571,0.71428571428571,0.71428571428571,0.71428571428571,0.71428571428571,0.71428571428571,0.71428571428571,0.71428571428571,0.71428571428571,0.71428571428571,0.71428571428571,0.71428571428571,0.71428571428571,0.71428571428571,0.71428571428571,0.71428571428571,0.71428571428571,0.71428571428571,0.71428571428571,0.71428571428571,0.71428571428571,0.71428571428571,0.71428571428571,0.71428571428571,0.71428571428571,0.71428571428571,0.71428571428571,0.71428571428571,0.71428571428571,0.71428571428571,0.71428571428571,0.71428571428571,0.71428571428571,0.71428571428571,0.71428571428571,0.71428571428571,0.71428571428571,0.71428571428571,0.71428571428571,0.71428571428571,0.71428571428571,0.71428571428571,0.71428571428571,0.71428571428571,0.71428571428571,0.71428571428571,0.71428571428571,0.71428571428571,0.71428571428571,0.71428571428571,0.71428571428571,0.71428571428571,0.71428571428571,0.71428571428571,0.71428571428571,0.71428571428571,0.71428571428571,0.71428571428571,0.71428571428571,0.71428571428571,0.71428571428571,0.71428571428571,0.71428571428571,0.71428571428571,0.71428571428571,0.71428571428571,0.71428571428571,0.71428571428571,0.71428571428571,0.71428571428571,0.71428571428571,0.71428571428571,0.71428571428571,0.71428571428571,0.71428571428571,0.71428571428571,0.71428571428571,0.71428571428571,0.71428571428571,0.71428571428571,0.71428571428571,0.71428571428571,0.71428571428571,0.71428571428571,0.8,0.8,0.8,0.8,0.8,0.8,0.8,0.8,0.8,0.8,0.8,0.8,0.8,0.8,0.8,0.8,0.8,0.8,0.8,0.8,0.8,0.8,0.8,0.8,0.8,0.8,0.8,0.8,0.8,0.8,0.8,0.8,0.8,0.8,0.8,0.66666666666667,0.8,0.8,0.8,0.8,0.66666666666667,0.8,0.8,0.66666666666667,0.66666666666667,0.66666666666667,0.66666666666667,0.66666666666667,0.66666666666667,0.66666666666667,0.66666666666667,0.66666666666667,0.8,0.8,0.66666666666667,0.66666666666667,0.8,0.66666666666667,0.8,0.8,0.66666666666667,0.66666666666667,0.66666666666667,0.8,0.8,0.66666666666667,0.8,0.8,0.66666666666667,0.66666666666667,0.66666666666667,0.8,0.66666666666667,0.66666666666667,0.66666666666667,0.8,0.66666666666667,0.8,0.66666666666667,0.66666666666667,0.66666666666667,0.66666666666667,0.8,0.66666666666667,0.66666666666667,0.66666666666667,0.66666666666667,0.66666666666667,0.8,0.66666666666667,0.66666666666667,0.66666666666667,0.66666666666667,0.66666666666667,0.66666666666667,0.66666666666667,0.66666666666667,0.66666666666667,0.66666666666667,0.66666666666667,0.8,0.66666666666667,0.66666666666667,0.8,0.66666666666667,0.66666666666667,0.66666666666667,0.66666666666667,0.66666666666667,0.66666666666667,0.66666666666667,0.66666666666667,0.66666666666667,0.8,0.8,0.66666666666667,0.66666666666667,0.66666666666667,0.66666666666667,0.66666666666667,0.66666666666667,0.66666666666667,0.66666666666667,0.66666666666667,0.66666666666667,0.66666666666667,0.8,0.66666666666667,0.8,0.8,0.66666666666667,0.66666666666667,0.8,0.66666666666667,0.66666666666667,0.66666666666667,0.8,0.66666666666667,0.66666666666667,0.66666666666667,0.8,0.66666666666667,0.8,0.66666666666667,0.66666666666667,0.8,0.8,0.8,0.66666666666667,0.66666666666667,0.8,0.66666666666667,0.66666666666667,0.66666666666667,0.66666666666667,0.8,0.66666666666667,0.8,0.8,0.66666666666667,0.66666666666667,0.66666666666667,0.66666666666667,0.66666666666667,0.8,0.66666666666667,0.8,0.66666666666667,0.8,0.8,0.66666666666667,0.66666666666667,0.8,0.8,0.66666666666667,0.8,0.66666666666667,0.66666666666667,0.66666666666667,0.66666666666667,0.66666666666667,0.66666666666667,0.66666666666667,0.66666666666667,0.66666666666667,0.8,0.66666666666667,0.66666666666667,0.8,0.66666666666667,0.66666666666667,0.66666666666667,0.66666666666667,0.66666666666667,0.66666666666667,0.66666666666667,0.66666666666667,0.66666666666667,0.66666666666667,0.66666666666667,0.66666666666667,0.66666666666667,0.66666666666667,0.66666666666667,0.66666666666667,0.66666666666667,0.8,0.66666666666667,0.66666666666667,0.66666666666667,0.66666666666667,0.66666666666667,0.66666666666667,0.66666666666667,0.66666666666667,0.8,0.8,0.66666666666667,0.66666666666667,0.66666666666667,0.66666666666667,0.66666666666667,0.66666666666667,0.66666666666667,0.66666666666667,0.8,0.66666666666667,0.66666666666667,0.66666666666667,0.66666666666667,0.66666666666667,0.8,0.66666666666667,0.8,0.66666666666667,0.66666666666667,0.66666666666667,0.8,0.66666666666667,0.66666666666667,0.66666666666667,0.66666666666667,0.66666666666667,0.66666666666667,0.66666666666667,0.66666666666667,0.66666666666667,0.66666666666667,0.66666666666667,0.8,0.66666666666667,0.66666666666667,0.66666666666667,0.66666666666667,0.66666666666667,0.66666666666667,0.66666666666667,0.66666666666667,0.66666666666667,0.66666666666667,0.66666666666667,0.66666666666667,0.66666666666667,0.66666666666667,0.66666666666667,0.66666666666667,0.66666666666667,0.66666666666667,0.8,0.66666666666667,0.8,0.8,0.66666666666667,0.66666666666667,0.66666666666667,0.66666666666667,0.66666666666667,0.66666666666667,0.66666666666667,0.66666666666667,0.66666666666667,0.8,0.66666666666667,0.8,0.66666666666667,0.66666666666667,0.66666666666667,0.66666666666667,0.8,0.66666666666667,0.66666666666667,0.66666666666667,0.8,0.66666666666667,0.66666666666667,0.66666666666667,0.66666666666667,0.66666666666667,0.66666666666667,0.66666666666667,0.66666666666667,0.66666666666667,0.66666666666667,0.8,0.66666666666667,0.66666666666667,0.8,0.66666666666667,0.66666666666667,0.66666666666667,0.8,0.66666666666667,0.66666666666667,0.8,0.66666666666667,0.66666666666667,0.66666666666667,0.66666666666667,0.66666666666667,0.8,0.66666666666667,0.66666666666667,0.66666666666667,0.66666666666667,0.8,0.66666666666667,0.66666666666667,0.66666666666667,0.8,0.66666666666667,0.66666666666667,0.66666666666667,0.8,0.66666666666667,0.66666666666667,0.8,0.8,0.66666666666667,0.8,0.66666666666667,0.66666666666667,0.66666666666667,0.8,0.66666666666667,0.66666666666667,0.66666666666667,0.8,0.66666666666667,0.66666666666667,0.66666666666667,0.66666666666667,0.8,0.66666666666667,0.66666666666667,0.66666666666667,0.66666666666667,0.8,0.8,0.66666666666667,0.66666666666667,0.66666666666667,0.66666666666667,0.66666666666667,0.8,0.66666666666667,0.66666666666667,0.66666666666667,0.66666666666667,0.71428571428571,0.66666666666667,0.66666666666667,0.66666666666667,0.66666666666667,0.71428571428571,0.66666666666667,0.66666666666667,0.66666666666667,0.66666666666667,0.66666666666667,0.66666666666667,0.71428571428571,0.71428571428571,0.66666666666667,0.66666666666667,0.66666666666667,0.66666666666667,0.66666666666667,0.66666666666667,0.66666666666667,0.66666666666667,0.66666666666667,0.66666666666667,0.71428571428571,0.66666666666667,0.66666666666667,0.66666666666667,0.66666666666667,0.66666666666667,0.66666666666667,0.66666666666667,0.71428571428571,0.66666666666667,0.66666666666667,0.66666666666667,0.66666666666667,0.66666666666667,0.66666666666667,0.66666666666667,0.66666666666667,0.66666666666667,0.71428571428571,0.66666666666667,0.71428571428571,0.66666666666667,0.71428571428571,0.66666666666667,0.66666666666667,0.66666666666667,0.66666666666667,0.61538461538462,0.61538461538462,0.61538461538462,0.61538461538462,0.61538461538462,0.61538461538462,0.61538461538462,0.61538461538462,0.61538461538462,0.61538461538462,0.61538461538462,0.61538461538462,0.61538461538462,0.61538461538462,0.61538461538462,0.66666666666667,0.61538461538462,0.61538461538462,0.61538461538462,0.61538461538462,0.61538461538462,0.61538461538462,0.61538461538462,0.61538461538462,0.61538461538462,0.61538461538462,0.61538461538462,0.61538461538462,0.61538461538462,0.61538461538462,0.61538461538462,0.61538461538462,0.61538461538462,0.61538461538462,0.61538461538462,0.61538461538462,0.61538461538462,0.61538461538462,0.61538461538462,0.61538461538462,0.61538461538462,0.61538461538462,0.61538461538462,0.61538461538462,0.61538461538462,0.61538461538462,0.61538461538462,0.61538461538462,0.61538461538462,0.61538461538462,0.61538461538462,0.61538461538462,0.61538461538462,0.61538461538462,0.61538461538462,0.61538461538462,0.61538461538462,0.61538461538462,0.61538461538462,0.61538461538462,0.61538461538462,0.61538461538462,0.61538461538462,0.61538461538462,0.61538461538462,0.61538461538462,0.61538461538462,0.61538461538462,0.61538461538462,0.61538461538462,0.61538461538462,0.61538461538462,0.61538461538462,0.61538461538462,0.61538461538462,0.61538461538462,0.61538461538462,0.61538461538462,0.61538461538462,0.61538461538462,0.61538461538462,0.61538461538462,0.61538461538462,0.61538461538462,0.61538461538462,0.61538461538462,0.61538461538462,0.61538461538462,0.61538461538462,0.61538461538462,0.61538461538462,0.61538461538462,0.61538461538462,0.61538461538462,0.61538461538462,0.61538461538462,0.61538461538462,0.66666666666667,0.61538461538462,0.61538461538462,0.61538461538462,0.61538461538462,0.66666666666667,0.61538461538462,0.61538461538462,0.61538461538462,0.61538461538462,0.66666666666667,0.66666666666667,0.66666666666667,0.61538461538462,0.57142857142857,0.57142857142857,0.57142857142857,0.61538461538462,0.57142857142857,0.61538461538462,0.61538461538462,0.61538461538462,0.61538461538462,0.61538461538462,0.61538461538462,0.61538461538462,0.61538461538462,0.61538461538462,0.61538461538462,0.61538461538462,0.61538461538462,0.61538461538462,0.57142857142857,0.61538461538462,0.61538461538462,0.61538461538462,0.61538461538462,0.61538461538462,0.61538461538462,0.61538461538462,0.61538461538462,0.61538461538462,0.61538461538462,0.61538461538462,0.57142857142857,0.61538461538462,0.57142857142857,0.57142857142857,0.61538461538462,0.61538461538462,0.61538461538462,0.61538461538462,0.61538461538462,0.61538461538462,0.61538461538462,0.61538461538462,0.61538461538462,0.61538461538462,0.61538461538462,0.61538461538462,0.61538461538462,0.61538461538462,0.61538461538462,0.61538461538462,0.61538461538462,0.61538461538462,0.61538461538462,0.61538461538462,0.61538461538462,0.61538461538462,0.61538461538462,0.61538461538462,0.57142857142857,0.61538461538462,0.61538461538462,0.61538461538462,0.57142857142857,0.57142857142857,0.57142857142857,0.57142857142857,0.57142857142857,0.57142857142857,0.57142857142857,0.57142857142857,0.57142857142857,0.57142857142857,0.57142857142857,0.61538461538462,0.61538461538462,0.61538461538462,0.61538461538462,0.61538461538462,0.61538461538462,0.61538461538462,0.61538461538462,0.61538461538462,0.61538461538462,0.61538461538462,0.61538461538462,0.61538461538462,0.61538461538462,0.61538461538462,0.61538461538462,0.61538461538462,0.61538461538462,0.61538461538462,0.61538461538462,0.61538461538462,0.61538461538462,0.61538461538462,0.61538461538462,0.61538461538462,0.61538461538462,0.61538461538462,0.61538461538462,0.61538461538462,0.61538461538462,0.61538461538462,0.61538461538462,0.61538461538462,0.61538461538462,0.61538461538462,0.61538461538462,0.61538461538462,0.61538461538462,0.61538461538462,0.61538461538462,0.61538461538462,0.61538461538462,0.61538461538462,0.61538461538462,0.61538461538462,0.61538461538462,0.61538461538462,0.61538461538462,0.61538461538462,0.61538461538462,0.61538461538462,0.61538461538462,0.61538461538462,0.61538461538462,0.61538461538462,0.61538461538462,0.61538461538462,0.61538461538462,0.61538461538462,0.61538461538462,0.61538461538462,0.61538461538462,0.61538461538462,0.61538461538462,0.61538461538462,0.61538461538462,0.61538461538462,0.61538461538462,0.61538461538462,0.61538461538462,0.61538461538462,0.61538461538462,0.61538461538462,0.61538461538462,0.61538461538462,0.61538461538462,0.61538461538462,0.61538461538462,0.61538461538462,0.61538461538462,0.61538461538462,0.61538461538462,0.61538461538462,0.61538461538462,0.61538461538462,0.61538461538462,0.61538461538462,0.61538461538462,0.61538461538462,0.61538461538462,0.61538461538462,0.61538461538462,0.61538461538462,0.61538461538462,0.61538461538462,0.61538461538462,0.61538461538462,0.61538461538462,0.61538461538462,0.61538461538462,0.61538461538462,0.61538461538462,0.61538461538462,0.61538461538462,0.61538461538462,0.61538461538462,0.61538461538462,0.61538461538462,0.61538461538462,0.61538461538462,0.61538461538462,0.61538461538462,0.61538461538462,0.61538461538462,0.61538461538462,0.61538461538462,0.61538461538462,0.61538461538462,0.61538461538462,0.61538461538462,0.61538461538462,0.61538461538462,0.61538461538462,0.61538461538462,0.61538461538462,0.61538461538462,0.61538461538462,0.61538461538462,0.61538461538462,0.61538461538462,0.61538461538462,0.61538461538462,0.61538461538462,0.61538461538462,0.61538461538462,0.61538461538462,0.61538461538462,0.61538461538462,0.61538461538462,0.61538461538462,0.61538461538462,0.61538461538462,0.61538461538462,0.61538461538462,0.61538461538462,0.61538461538462,0.61538461538462,0.61538461538462,0.61538461538462,0.61538461538462,0.61538461538462,0.61538461538462,0.61538461538462,0.61538461538462,0.61538461538462,0.61538461538462,0.61538461538462,0.61538461538462,0.61538461538462,0.61538461538462,0.61538461538462,0.61538461538462,0.61538461538462,0.61538461538462,0.61538461538462,0.61538461538462,0.61538461538462,0.61538461538462,0.61538461538462,0.61538461538462,0.61538461538462,0.61538461538462,0.61538461538462,0.61538461538462,0.61538461538462,0.61538461538462,0.61538461538462,0.61538461538462,0.61538461538462,0.61538461538462,0.61538461538462,0.61538461538462,0.61538461538462,0.61538461538462,0.61538461538462,0.61538461538462,0.61538461538462,0.61538461538462,0.61538461538462,0.61538461538462,0.61538461538462,0.61538461538462,0.61538461538462,0.61538461538462,0.61538461538462,0.61538461538462,0.61538461538462,0.61538461538462,0.61538461538462,0.61538461538462,0.61538461538462,0.61538461538462,0.61538461538462,0.61538461538462,0.61538461538462,0.61538461538462,0.61538461538462,0.61538461538462,0.61538461538462,0.61538461538462,0.61538461538462,0.61538461538462,0.61538461538462,0.61538461538462,0.61538461538462,0.61538461538462,0.61538461538462],\"x\":[1,2,3,4,5,6,7,8,9,10,11,12,13,14,15,16,17,18,19,20,21,22,23,24,25,26,27,28,29,30,31,32,33,34,35,36,37,38,39,40,41,42,43,44,45,46,47,48,49,50,51,52,53,54,55,56,57,58,59,60,61,62,63,64,65,66,67,68,69,70,71,72,73,74,75,76,77,78,79,80,81,82,83,84,85,86,87,88,89,90,91,92,93,94,95,96,97,98,99,100,101,102,103,104,105,106,107,108,109,110,111,112,113,114,115,116,117,118,119,120,121,122,123,124,125,126,127,128,129,130,131,132,133,134,135,136,137,138,139,140,141,142,143,144,145,146,147,148,149,150,151,152,153,154,155,156,157,158,159,160,161,162,163,164,165,166,167,168,169,170,171,172,173,174,175,176,177,178,179,180,181,182,183,184,185,186,187,188,189,190,191,192,193,194,195,196,197,198,199,200,201,202,203,204,205,206,207,208,209,210,211,212,213,214,215,216,217,218,219,220,221,222,223,224,225,226,227,228,229,230,231,232,233,234,235,236,237,238,239,240,241,242,243,244,245,246,247,248,249,250,251,252,253,254,255,256,257,258,259,260,261,262,263,264,265,266,267,268,269,270,271,272,273,274,275,276,277,278,279,280,281,282,283,284,285,286,287,288,289,290,291,292,293,294,295,296,297,298,299,300,301,302,303,304,305,306,307,308,309,310,311,312,313,314,315,316,317,318,319,320,321,322,323,324,325,326,327,328,329,330,331,332,333,334,335,336,337,338,339,340,341,342,343,344,345,346,347,348,349,350,351,352,353,354,355,356,357,358,359,360,361,362,363,364,365,366,367,368,369,370,371,372,373,374,375,376,377,378,379,380,381,382,383,384,385,386,387,388,389,390,391,392,393,394,395,396,397,398,399,400,401,402,403,404,405,406,407,408,409,410,411,412,413,414,415,416,417,418,419,420,421,422,423,424,425,426,427,428,429,430,431,432,433,434,435,436,437,438,439,440,441,442,443,444,445,446,447,448,449,450,451,452,453,454,455,456,457,458,459,460,461,462,463,464,465,466,467,468,469,470,471,472,473,474,475,476,477,478,479,480,481,482,483,484,485,486,487,488,489,490,491,492,493,494,495,496,497,498,499,500,501,502,503,504,505,506,507,508,509,510,511,512,513,514,515,516,517,518,519,520,521,522,523,524,525,526,527,528,529,530,531,532,533,534,535,536,537,538,539,540,541,542,543,544,545,546,547,548,549,550,551,552,553,554,555,556,557,558,559,560,561,562,563,564,565,566,567,568,569,570,571,572,573,574,575,576,577,578,579,580,581,582,583,584,585,586,587,588,589,590,591,592,593,594,595,596,597,598,599,600,601,602,603,604,605,606,607,608,609,610,611,612,613,614,615,616,617,618,619,620,621,622,623,624,625,626,627,628,629,630,631,632,633,634,635,636,637,638,639,640,641,642,643,644,645,646,647,648,649,650,651,652,653,654,655,656,657,658,659,660,661,662,663,664,665,666,667,668,669,670,671,672,673,674,675,676,677,678,679,680,681,682,683,684,685,686,687,688,689,690,691,692,693,694,695,696,697,698,699,700,701,702,703,704,705,706,707,708,709,710,711,712,713,714,715,716,717,718,719,720,721,722,723,724,725,726,727,728,729,730,731,732,733,734,735,736,737,738,739,740,741,742,743,744,745,746,747,748,749,750,751,752,753,754,755,756,757,758,759,760,761,762,763,764,765,766,767,768,769,770,771,772,773,774,775,776,777,778,779,780,781,782,783,784,785,786,787,788,789,790,791,792,793,794,795,796,797,798,799,800,801,802,803,804,805,806,807,808,809,810,811,812,813,814,815,816,817,818,819,820,821,822,823,824,825,826,827,828,829,830,831,832,833,834,835,836,837,838,839,840,841,842,843,844,845,846,847,848,849,850,851,852,853,854,855,856,857,858,859,860,861,862,863,864,865,866,867,868,869,870,871,872,873,874,875,876,877,878,879,880,881,882,883,884,885,886,887,888,889,890,891,892,893,894,895,896,897,898,899,900,901,902,903,904,905,906,907,908,909,910,911,912,913,914,915,916,917,918,919,920,921,922,923,924,925,926,927,928,929,930,931,932,933,934,935,936,937,938,939,940,941,942,943,944,945,946,947,948,949,950,951,952,953,954,955,956,957,958,959,960,961,962,963,964,965,966,967,968,969,970,971,972,973,974,975,976,977,978,979,980,981,982,983,984,985,986,987,988,989,990,991,992,993,994,995,996,997,998,999,1000]},\"column_names\":[\"y\",\"x\"],\"cont_ranges\":{},\"discrete_ranges\":{},\"selected\":[],\"id\":\"4323d333-fe4b-47ae-c720-624cf01f3eae\",\"doc\":null,\"tags\":[]}},{\"id\":\"1aa638fb-0aeb-4e45-cebe-45eea8d8a6e4\",\"type\":\"Line\",\"attributes\":{\"fill_alpha\":{\"units\":\"data\",\"value\":0.2},\"line_alpha\":{\"units\":\"data\",\"value\":1},\"doc\":null,\"size\":{\"units\":\"screen\",\"value\":10},\"fill_color\":{\"value\":\"blue\"},\"line_color\":{\"value\":\"blue\"},\"x\":{\"units\":\"data\",\"field\":\"x\"},\"id\":\"1aa638fb-0aeb-4e45-cebe-45eea8d8a6e4\",\"y\":{\"units\":\"data\",\"field\":\"y\"},\"tags\":[]}},{\"id\":\"a5b6de1d-d2b3-4e39-ce5e-d76a30234d47\",\"type\":\"Line\",\"attributes\":{\"fill_alpha\":{\"units\":\"data\",\"value\":0.2},\"line_alpha\":{\"units\":\"data\",\"value\":1},\"doc\":null,\"size\":{\"units\":\"screen\",\"value\":10},\"fill_color\":{\"value\":\"blue\"},\"line_color\":{\"value\":\"blue\"},\"x\":{\"units\":\"data\",\"field\":\"x\"},\"id\":\"a5b6de1d-d2b3-4e39-ce5e-d76a30234d47\",\"y\":{\"units\":\"data\",\"field\":\"y\"},\"tags\":[]}},{\"id\":\"d8769ff3-60c1-4be2-cbef-3376017c54e6\",\"type\":\"GlyphRenderer\",\"attributes\":{\"name\":null,\"nonselection_glyph\":{\"type\":\"Line\",\"id\":\"a5b6de1d-d2b3-4e39-ce5e-d76a30234d47\"},\"doc\":null,\"server_data_source\":null,\"data_source\":{\"type\":\"ColumnDataSource\",\"id\":\"4323d333-fe4b-47ae-c720-624cf01f3eae\"},\"glyph\":{\"type\":\"Line\",\"id\":\"1aa638fb-0aeb-4e45-cebe-45eea8d8a6e4\"},\"selection_glyph\":null,\"id\":\"d8769ff3-60c1-4be2-cbef-3376017c54e6\",\"tags\":[]}},{\"id\":\"5cff97a7-73c3-432a-c325-b8d3f3c8984a\",\"type\":\"DataRange1d\",\"attributes\":{\"sources\":[{\"columns\":[\"x\"],\"source\":{\"type\":\"ColumnDataSource\",\"id\":\"4323d333-fe4b-47ae-c720-624cf01f3eae\"}}],\"id\":\"5cff97a7-73c3-432a-c325-b8d3f3c8984a\",\"tags\":[],\"doc\":null}},{\"id\":\"8fece7b3-34f4-4a7d-ca00-df339eec392a\",\"type\":\"DataRange1d\",\"attributes\":{\"sources\":[{\"columns\":[\"y\"],\"source\":{\"type\":\"ColumnDataSource\",\"id\":\"4323d333-fe4b-47ae-c720-624cf01f3eae\"}}],\"id\":\"8fece7b3-34f4-4a7d-ca00-df339eec392a\",\"tags\":[],\"doc\":null}},{\"id\":\"51b3bdeb-9054-46ac-c68b-ae4a6f851315\",\"type\":\"ToolEvents\",\"attributes\":{\"tags\":[],\"id\":\"51b3bdeb-9054-46ac-c68b-ae4a6f851315\",\"geometries\":[],\"doc\":null}},{\"id\":\"4e5f4750-9a88-4fca-cf9f-cd4ce3b7a203\",\"type\":\"BasicTickFormatter\",\"attributes\":{\"id\":\"4e5f4750-9a88-4fca-cf9f-cd4ce3b7a203\",\"tags\":[],\"doc\":null}},{\"id\":\"49fd7e0a-99e4-42c9-c230-569e198fd904\",\"type\":\"BasicTicker\",\"attributes\":{\"num_minor_ticks\":5,\"id\":\"49fd7e0a-99e4-42c9-c230-569e198fd904\",\"tags\":[],\"doc\":null}},{\"id\":\"71c762a4-7339-4c46-cc34-a9cde1830045\",\"type\":\"LinearAxis\",\"attributes\":{\"formatter\":{\"type\":\"BasicTickFormatter\",\"id\":\"4e5f4750-9a88-4fca-cf9f-cd4ce3b7a203\"},\"ticker\":{\"type\":\"BasicTicker\",\"id\":\"49fd7e0a-99e4-42c9-c230-569e198fd904\"},\"plot\":{\"id\":\"489e075e-014c-4ef5-ce93-ac111bcdfad3\",\"type\":\"Plot\",\"subtype\":\"Figure\"},\"axis_label\":null,\"id\":\"71c762a4-7339-4c46-cc34-a9cde1830045\",\"doc\":null,\"tags\":[]}},{\"id\":\"c743e878-2950-4f7e-cfc8-7835840a558a\",\"type\":\"Grid\",\"attributes\":{\"dimension\":0,\"plot\":{\"id\":\"489e075e-014c-4ef5-ce93-ac111bcdfad3\",\"type\":\"Plot\",\"subtype\":\"Figure\"},\"ticker\":{\"type\":\"BasicTicker\",\"id\":\"49fd7e0a-99e4-42c9-c230-569e198fd904\"},\"id\":\"c743e878-2950-4f7e-cfc8-7835840a558a\",\"doc\":null,\"tags\":[]}},{\"id\":\"80916607-4ec3-4111-c1ce-45221464354c\",\"type\":\"BasicTickFormatter\",\"attributes\":{\"id\":\"80916607-4ec3-4111-c1ce-45221464354c\",\"tags\":[],\"doc\":null}},{\"id\":\"38bd9b0b-8d2c-432c-c33c-6353b5ddd497\",\"type\":\"BasicTicker\",\"attributes\":{\"num_minor_ticks\":5,\"id\":\"38bd9b0b-8d2c-432c-c33c-6353b5ddd497\",\"tags\":[],\"doc\":null}},{\"id\":\"38e71985-908a-4f41-cfdb-a4f2127a8589\",\"type\":\"LinearAxis\",\"attributes\":{\"formatter\":{\"type\":\"BasicTickFormatter\",\"id\":\"80916607-4ec3-4111-c1ce-45221464354c\"},\"ticker\":{\"type\":\"BasicTicker\",\"id\":\"38bd9b0b-8d2c-432c-c33c-6353b5ddd497\"},\"plot\":{\"id\":\"489e075e-014c-4ef5-ce93-ac111bcdfad3\",\"type\":\"Plot\",\"subtype\":\"Figure\"},\"axis_label\":null,\"id\":\"38e71985-908a-4f41-cfdb-a4f2127a8589\",\"doc\":null,\"tags\":[]}},{\"id\":\"fb1c0a8c-3974-4ba7-cb54-d027d9fce98f\",\"type\":\"Grid\",\"attributes\":{\"dimension\":1,\"plot\":{\"id\":\"489e075e-014c-4ef5-ce93-ac111bcdfad3\",\"type\":\"Plot\",\"subtype\":\"Figure\"},\"ticker\":{\"type\":\"BasicTicker\",\"id\":\"38bd9b0b-8d2c-432c-c33c-6353b5ddd497\"},\"id\":\"fb1c0a8c-3974-4ba7-cb54-d027d9fce98f\",\"doc\":null,\"tags\":[]}},{\"id\":\"3d45818a-b5bc-48e0-c871-129881dfe385\",\"type\":\"PanTool\",\"attributes\":{\"plot\":{\"id\":\"489e075e-014c-4ef5-ce93-ac111bcdfad3\",\"type\":\"Plot\",\"subtype\":\"Figure\"},\"dimensions\":[\"width\",\"height\"],\"id\":\"3d45818a-b5bc-48e0-c871-129881dfe385\",\"doc\":null,\"tags\":[]}},{\"id\":\"bb20367c-45be-4187-c160-91a65e1b87ee\",\"type\":\"WheelZoomTool\",\"attributes\":{\"plot\":{\"id\":\"489e075e-014c-4ef5-ce93-ac111bcdfad3\",\"type\":\"Plot\",\"subtype\":\"Figure\"},\"dimensions\":[\"width\",\"height\"],\"id\":\"bb20367c-45be-4187-c160-91a65e1b87ee\",\"doc\":null,\"tags\":[]}},{\"id\":\"75deb4e1-de4b-4277-c2b6-03402a290f7d\",\"type\":\"BoxZoomTool\",\"attributes\":{\"plot\":{\"id\":\"489e075e-014c-4ef5-ce93-ac111bcdfad3\",\"type\":\"Plot\",\"subtype\":\"Figure\"},\"id\":\"75deb4e1-de4b-4277-c2b6-03402a290f7d\",\"tags\":[],\"doc\":null}},{\"id\":\"c77fc70e-c027-4bdd-cb74-9efe64b30c3f\",\"type\":\"PreviewSaveTool\",\"attributes\":{\"plot\":{\"id\":\"489e075e-014c-4ef5-ce93-ac111bcdfad3\",\"type\":\"Plot\",\"subtype\":\"Figure\"},\"id\":\"c77fc70e-c027-4bdd-cb74-9efe64b30c3f\",\"tags\":[],\"doc\":null}},{\"id\":\"6761a806-b16f-4d65-cdfb-ac8a32d052d3\",\"type\":\"ResizeTool\",\"attributes\":{\"plot\":{\"id\":\"489e075e-014c-4ef5-ce93-ac111bcdfad3\",\"type\":\"Plot\",\"subtype\":\"Figure\"},\"id\":\"6761a806-b16f-4d65-cdfb-ac8a32d052d3\",\"tags\":[],\"doc\":null}},{\"id\":\"94195310-aa19-4ca4-ccff-ddd71d30ae2e\",\"type\":\"ResetTool\",\"attributes\":{\"plot\":{\"id\":\"489e075e-014c-4ef5-ce93-ac111bcdfad3\",\"type\":\"Plot\",\"subtype\":\"Figure\"},\"id\":\"94195310-aa19-4ca4-ccff-ddd71d30ae2e\",\"tags\":[],\"doc\":null}},{\"id\":\"489e075e-014c-4ef5-ce93-ac111bcdfad3\",\"type\":\"Plot\",\"attributes\":{\"x_range\":{\"type\":\"DataRange1d\",\"id\":\"5cff97a7-73c3-432a-c325-b8d3f3c8984a\"},\"tool_events\":{\"type\":\"ToolEvents\",\"id\":\"51b3bdeb-9054-46ac-c68b-ae4a6f851315\"},\"below\":[{\"type\":\"LinearAxis\",\"id\":\"71c762a4-7339-4c46-cc34-a9cde1830045\"}],\"renderers\":[{\"type\":\"GlyphRenderer\",\"id\":\"d8769ff3-60c1-4be2-cbef-3376017c54e6\"},{\"type\":\"LinearAxis\",\"id\":\"71c762a4-7339-4c46-cc34-a9cde1830045\"},{\"type\":\"Grid\",\"id\":\"c743e878-2950-4f7e-cfc8-7835840a558a\"},{\"type\":\"LinearAxis\",\"id\":\"38e71985-908a-4f41-cfdb-a4f2127a8589\"},{\"type\":\"Grid\",\"id\":\"fb1c0a8c-3974-4ba7-cb54-d027d9fce98f\"}],\"above\":[],\"tools\":[{\"type\":\"PanTool\",\"id\":\"3d45818a-b5bc-48e0-c871-129881dfe385\"},{\"type\":\"WheelZoomTool\",\"id\":\"bb20367c-45be-4187-c160-91a65e1b87ee\"},{\"type\":\"BoxZoomTool\",\"id\":\"75deb4e1-de4b-4277-c2b6-03402a290f7d\"},{\"type\":\"PreviewSaveTool\",\"id\":\"c77fc70e-c027-4bdd-cb74-9efe64b30c3f\"},{\"type\":\"ResizeTool\",\"id\":\"6761a806-b16f-4d65-cdfb-ac8a32d052d3\"},{\"type\":\"ResetTool\",\"id\":\"94195310-aa19-4ca4-ccff-ddd71d30ae2e\"}],\"doc\":null,\"right\":[],\"title\":\"Plot of Rougue-F1\",\"extra_x_ranges\":{},\"left\":[{\"type\":\"LinearAxis\",\"id\":\"38e71985-908a-4f41-cfdb-a4f2127a8589\"}],\"y_range\":{\"type\":\"DataRange1d\",\"id\":\"8fece7b3-34f4-4a7d-ca00-df339eec392a\"},\"id\":\"489e075e-014c-4ef5-ce93-ac111bcdfad3\",\"extra_y_ranges\":{},\"tags\":[]}}];\n",
       "      Bokeh.load_models(all_models);\n",
       "      var model = Bokeh.Collections(modeltype).get(modelid);\n",
       "      $(\"#1a51a132-5544-45d0-c517-c7413397c262\").html(''); // clear any previous plot in window_id\n",
       "      var view = new model.default_view({model: model, el: \"#1a51a132-5544-45d0-c517-c7413397c262\"});\n",
       "  });\n",
       "    }\n",
       "});\n",
       "</script>\n",
       "<div class=\"plotdiv\" id=\"1a51a132-5544-45d0-c517-c7413397c262\"></div>\n"
      ]
     },
     "metadata": {},
     "output_type": "display_data"
    }
   ],
   "source": [
    "Plot = require 'itorch.Plot'\n",
    "\n",
    "loss = torch.Tensor(lossfull)\n",
    "rougue = torch.Tensor(rouguef1)\n",
    "indices = torch.linspace(1, loss:size(1), loss:size(1)):long() \n",
    "plot = Plot():line(indices, loss, 'red', 'hi'):title('Plot of loss'):draw()\n",
    "plot = Plot():line(indices, rougue, 'blue', 'hi'):title('Plot of Rougue-F1'):draw()"
   ]
  },
  {
   "cell_type": "code",
   "execution_count": 12,
   "metadata": {
    "collapsed": false
   },
   "outputs": [
    {
     "data": {
      "text/plain": [
       "0.42857142857143\t0.6\t0.5\t\n"
      ]
     },
     "execution_count": 12,
     "metadata": {},
     "output_type": "execute_result"
    }
   ],
   "source": [
    "rougeScores( Tokenize(trueSummary:resize(40):totable()), \n",
    "                Tokenize(totalPredsummary:totable()[1]))"
   ]
  },
  {
   "cell_type": "code",
   "execution_count": 91,
   "metadata": {
    "collapsed": false
   },
   "outputs": [],
   "source": [
    "n = 10\n",
    "-- nn.MaskedSelect():cuda()\n",
    "maskLayer = nn.MaskedSelect()\n",
    "\n",
    "x = torch.round(torch.rand(n, 2) * 5)\n",
    "\n",
    "qMaxtrue, qindxtrue = torch.max(x, 2)\n",
    "a = torch.zeros(n, 2):scatter(2, qindxtrue, torch.ones(x:size())):byte()"
   ]
  },
  {
   "cell_type": "code",
   "execution_count": 92,
   "metadata": {
    "collapsed": false
   },
   "outputs": [
    {
     "data": {
      "text/plain": [
       " 0  1\n",
       " 0  1\n",
       " 1  0\n",
       " 1  0\n",
       " 1  0\n",
       " 1  0\n",
       " 1  0\n",
       " 1  0\n",
       " 0  1\n",
       " 1  0\n",
       "[torch.ByteTensor of size 10x2]\n",
       "\n",
       " 2  4\n",
       " 3  4\n",
       " 3  1\n",
       " 5  5\n",
       " 5  0\n",
       " 4  1\n",
       " 3  3\n",
       " 3  2\n",
       " 0  3\n",
       " 4  4\n",
       "[torch.DoubleTensor of size 10x2]\n",
       "\n",
       " 4\n",
       " 4\n",
       " 3\n",
       " 5\n",
       " 5\n",
       " 4\n",
       " 3\n",
       " 3\n",
       " 3\n",
       " 4\n",
       "[torch.DoubleTensor of size 10]\n",
       "\n"
      ]
     },
     "execution_count": 92,
     "metadata": {},
     "output_type": "execute_result"
    }
   ],
   "source": [
    "a, x, maskLayer:forward({x, a}) "
   ]
  },
  {
   "cell_type": "code",
   "execution_count": 93,
   "metadata": {
    "collapsed": true
   },
   "outputs": [],
   "source": [
    "n = 10\n",
    "maskLayer = nn.MaskedSelect():cuda()\n",
    "ByteTensor = torch.CudaByteTensor\n",
    "\n",
    "x = torch.round(torch.rand(n, 2) * 5):cuda()"
   ]
  },
  {
   "cell_type": "code",
   "execution_count": 105,
   "metadata": {
    "collapsed": true
   },
   "outputs": [],
   "source": [
    "qMaxtrue, qindxtrue = torch.max(x, 2)"
   ]
  },
  {
   "cell_type": "code",
   "execution_count": 104,
   "metadata": {
    "collapsed": false
   },
   "outputs": [
    {
     "data": {
      "text/plain": [
       " 1  1\n",
       " 1  1\n",
       " 1  1\n",
       " 1  1\n",
       " 1  1\n",
       " 1  1\n",
       " 1  1\n",
       " 1  1\n",
       " 1  1\n",
       " 1  1\n",
       "[torch.DoubleTensor of size 10x2]\n",
       "\n"
      ]
     },
     "execution_count": 104,
     "metadata": {},
     "output_type": "execute_result"
    }
   ],
   "source": [
    "torch.ones(x:size())"
   ]
  },
  {
   "cell_type": "code",
   "execution_count": 113,
   "metadata": {
    "collapsed": false
   },
   "outputs": [
    {
     "data": {
      "text/plain": [
       " 2\n",
       " 1\n",
       " 1\n",
       " 1\n",
       " 1\n",
       " 1\n",
       " 1\n",
       " 2\n",
       " 1\n",
       " 1\n",
       "[torch.CudaTensor of size 10x1]\n",
       "\n"
      ]
     },
     "execution_count": 113,
     "metadata": {},
     "output_type": "execute_result"
    }
   ],
   "source": [
    "qindxtrue:cuda()"
   ]
  },
  {
   "cell_type": "code",
   "execution_count": 110,
   "metadata": {
    "collapsed": false
   },
   "outputs": [
    {
     "ename": "[string \"local f = function() return torch.zeros(n, 2)...\"]:1: bad argument #3 to 'f' (Index tensor must have the same size as input tensor. at /tmp/luarocks_cutorch-scm-1-9089/cutorch/lib/THC/generic/THCTensorScatterGather.cu:116)\nstack traceback:\n\t[C]: in function 'f'\n\t[string \"local f = function() return torch.zeros(n, 2)...\"]:1: in main chunk\n\t[C]: in function 'xpcall'\n\t...ojavierarceo/torch/install/share/lua/5.1/itorch/main.lua:210: in function <...ojavierarceo/torch/install/share/lua/5.1/itorch/main.lua:174>\n\t...ojavierarceo/torch/install/share/lua/5.1/lzmq/poller.lua:75: in function 'poll'\n\t...vierarceo/torch/install/share/lua/5.1/lzmq/impl/loop.lua:307: in function 'poll'\n\t...vierarceo/torch/install/share/lua/5.1/lzmq/impl/loop.lua:325: in function 'sleep_ex'\n\t...vierarceo/torch/install/share/lua/5.1/lzmq/impl/loop.lua:370: in function 'start'\n\t...ojavierarceo/torch/install/share/lua/5.1/itorch/main.lua:389: in main chunk\n\t[C]: in function 'require'\n\t(command line):1: in main chunk\n\t[C]: at 0x0104437b90",
     "evalue": "",
     "output_type": "error",
     "traceback": [
      "[string \"local f = function() return torch.zeros(n, 2)...\"]:1: bad argument #3 to 'f' (Index tensor must have the same size as input tensor. at /tmp/luarocks_cutorch-scm-1-9089/cutorch/lib/THC/generic/THCTensorScatterGather.cu:116)\nstack traceback:\n\t[C]: in function 'f'\n\t[string \"local f = function() return torch.zeros(n, 2)...\"]:1: in main chunk\n\t[C]: in function 'xpcall'\n\t...ojavierarceo/torch/install/share/lua/5.1/itorch/main.lua:210: in function <...ojavierarceo/torch/install/share/lua/5.1/itorch/main.lua:174>\n\t...ojavierarceo/torch/install/share/lua/5.1/lzmq/poller.lua:75: in function 'poll'\n\t...vierarceo/torch/install/share/lua/5.1/lzmq/impl/loop.lua:307: in function 'poll'\n\t...vierarceo/torch/install/share/lua/5.1/lzmq/impl/loop.lua:325: in function 'sleep_ex'\n\t...vierarceo/torch/install/share/lua/5.1/lzmq/impl/loop.lua:370: in function 'start'\n\t...ojavierarceo/torch/install/share/lua/5.1/itorch/main.lua:389: in main chunk\n\t[C]: in function 'require'\n\t(command line):1: in main chunk\n\t[C]: at 0x0104437b90"
     ]
    }
   ],
   "source": [
    "torch.zeros(n, 2):cuda():scatter(2, qindxtrue:cuda(), torch.ones(x:size()):cuda() )"
   ]
  },
  {
   "cell_type": "code",
   "execution_count": null,
   "metadata": {
    "collapsed": true
   },
   "outputs": [],
   "source": []
  }
 ],
 "metadata": {
  "anaconda-cloud": {},
  "kernelspec": {
   "display_name": "iTorch",
   "language": "lua",
   "name": "itorch"
  },
  "language_info": {
   "name": "lua",
   "version": "5.1"
  }
 },
 "nbformat": 4,
 "nbformat_minor": 1
}
