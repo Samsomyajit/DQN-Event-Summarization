{
 "cells": [
  {
   "cell_type": "code",
   "execution_count": null,
   "metadata": {
    "collapsed": false
   },
   "outputs": [],
   "source": [
    "require 'nn'\n",
    "require 'rnn'\n",
    "require 'image'\n",
    "require 'optim'\n",
    "require 'parallel'"
   ]
  },
  {
   "cell_type": "code",
   "execution_count": null,
   "metadata": {
    "collapsed": true
   },
   "outputs": [],
   "source": [
    "-- define code for workers:\n",
    "function worker()\n",
    "    -- a worker starts with a blank stack, we need to reload our libraries\n",
    "    require 'sys'\n",
    "    require 'torch'\n",
    "\n",
    "    -- print from worker:\n",
    "    parallel.print('Im a worker, my ID is: ' .. parallel.id .. ' and my IP: ' .. parallel.ip)\n",
    "\n",
    "    -- define a storage to receive data from top process\n",
    "    while true do\n",
    "        m = parallel.yield() -- yield = allow parent to terminate me\n",
    "\n",
    "        if m == 'break' then\n",
    "            break\n",
    "        end\n",
    "\n",
    "        -- receive data\n",
    "        local t = parallel.parent:receive()\n",
    "        parallel.print('received object with norm: ', t.data:norm())\n",
    "\n",
    "        -- send some data back\n",
    "        parallel.parent:send('this is my response')\n",
    "    end\n",
    "end"
   ]
  },
  {
   "cell_type": "code",
   "execution_count": null,
   "metadata": {
    "collapsed": true
   },
   "outputs": [],
   "source": [
    "-- define code for parent:\n",
    "function parent()\n",
    "    -- print from top process\n",
    "    parallel.print('Im the parent, my ID is: ' .. parallel.id)\n",
    "\n",
    "    -- fork N processes\n",
    "    parallel.nfork(4)\n",
    "\n",
    "    -- exec worker code in each process\n",
    "    parallel.children:exec(worker)\n",
    "\n",
    "    -- create a complex object to send to workers\n",
    "    t = {name='my variable', data=torch.randn(100,100)}\n",
    "\n",
    "    -- transmit object to each worker\n",
    "    parallel.print('transmitting object with norm: ', t.data:norm())\n",
    "    for i = 1, 10 do\n",
    "      parallel.children:join()\n",
    "      parallel.children:send(t)\n",
    "      replies = parallel.children:receive()\n",
    "    end\n",
    "    parallel.print('transmitted data to all children')\n",
    "\n",
    "    -- sync/terminate when all workers are done\n",
    "    parallel.children:join('break')\n",
    "    parallel.print('all processes terminated')\n",
    "\n",
    "end"
   ]
  },
  {
   "cell_type": "code",
   "execution_count": null,
   "metadata": {
    "collapsed": false,
    "scrolled": true
   },
   "outputs": [],
   "source": [
    "-- protected execution:\n",
    "ok, err = pcall(parent)"
   ]
  },
  {
   "cell_type": "code",
   "execution_count": null,
   "metadata": {
    "collapsed": false,
    "scrolled": false
   },
   "outputs": [],
   "source": [
    "if not ok then \n",
    "    print(err)\n",
    "    parallel.close()\n",
    "end"
   ]
  },
  {
   "cell_type": "code",
   "execution_count": null,
   "metadata": {
    "collapsed": false
   },
   "outputs": [],
   "source": [
    "parallel.fork(16)\n",
    "parallel.nfork(16)"
   ]
  },
  {
   "cell_type": "code",
   "execution_count": null,
   "metadata": {
    "collapsed": true
   },
   "outputs": [],
   "source": [
    "code = function()\n",
    "     -- do nothing and die\n",
    "    return 1\n",
    "end\n",
    "parallel.nfork(1)              -- fork one process\n",
    "parallel.children:exec(code)   -- execute dummy code\n",
    "print(parallel.nchildren)      -- prints: 1\n",
    "parallel.children:sync()       -- wait for all children (here only 1) to die\n",
    "print(parallel.nchildren)      -- prints: 0\n",
    "parallel.nfork(2)              -- fork 2 processes\n",
    "print(parallel.nchildren)      -- prints: 2\n",
    "print(parallel.children[1])    -- prints: nil\n",
    "print(parallel.children[2])    -- prints: table --- current running processes always\n",
    "print(parallel.children[3])    -- prints: table --- exist in children[process.id]"
   ]
  },
  {
   "cell_type": "code",
   "execution_count": null,
   "metadata": {
    "collapsed": false
   },
   "outputs": [],
   "source": [
    "code = function()\n",
    "     -- do nothing and die\n",
    "--     return 1\n",
    "end\n",
    "parallel.nfork(1)              -- fork one process\n",
    "parallel.children:exec(code)   -- execute dummy code\n",
    "print(parallel.nchildren)      -- prints: 1\n",
    "parallel.children:sync()       -- wait for all children (here only 1) to die\n",
    "print(parallel.nchildren)      -- prints: 0\n",
    "parallel.nfork(2)              -- fork 2 processes\n",
    "print(parallel.nchildren)      -- prints: 2\n",
    "print(parallel.children[1])    -- prints: nil\n",
    "print(parallel.children[2])    -- prints: table --- current running processes always\n",
    "print(parallel.children[3])    -- prints: table --- exist in children[process.id]"
   ]
  },
  {
   "cell_type": "code",
   "execution_count": null,
   "metadata": {
    "collapsed": true
   },
   "outputs": [],
   "source": []
  },
  {
   "cell_type": "code",
   "execution_count": null,
   "metadata": {
    "collapsed": false
   },
   "outputs": [],
   "source": [
    "-- Some useful functions\n",
    "function genNbyK(n, k, a, b)\n",
    "    out = torch.LongTensor(n, k)\n",
    "    for i=1, n do\n",
    "        for j = 1, k do\n",
    "            out[i][j] = torch.random(a, b)\n",
    "        end\n",
    "    end\n",
    "    return out\n",
    "end\n",
    "\n",
    "function buildModel(model, vocabSize, embeddingSize, metric, adapt, use_cuda)\n",
    "    -- Small experiments seem to show that the Tanh activations performed better\\\n",
    "    --      than the ReLU for the bow model\n",
    "    if model == 'bow' then\n",
    "        print(string.format(\"Running bag-of-words model to learn %s\", metric))\n",
    "        sentenceLookup = nn.Sequential()\n",
    "                    :add(nn.LookupTableMaskZero(vocabSize, embeddingSize))\n",
    "                    :add(nn.Sum(2, 3, true)) -- Not averaging blows up model so keep this true\n",
    "                    :add(nn.Tanh())\n",
    "    else\n",
    "        print(string.format(\"Running LSTM model to learn %s\", metric))\n",
    "        sentenceLookup = nn.Sequential()\n",
    "                    :add(nn.LookupTableMaskZero(vocabSize, embeddingSize))\n",
    "                    :add(nn.SplitTable(2))\n",
    "                    :add(nn.Sequencer(nn.LSTM(embeddingSize, embeddingSize)))\n",
    "                    :add(nn.SelectTable(-1))            -- selects last state of the LSTM\n",
    "                    :add(nn.Linear(embeddingSize, embeddingSize))\n",
    "                    :add(nn.ReLU())\n",
    "    end\n",
    "    local queryLookup = sentenceLookup:clone(\"weight\", \"gradWeight\") \n",
    "    local summaryLookup = sentenceLookup:clone(\"weight\", \"gradWeight\")\n",
    "    local pmodule = nn.ParallelTable()\n",
    "                :add(sentenceLookup)\n",
    "                :add(queryLookup)\n",
    "                :add(summaryLookup)\n",
    "\n",
    "    if model == 'bow' then\n",
    "        nnmodel = nn.Sequential()\n",
    "            :add(pmodule)\n",
    "            :add(nn.JoinTable(2))\n",
    "            :add(nn.Tanh())\n",
    "            :add(nn.Linear(embeddingSize * 3, 2))\n",
    "    else\n",
    "        nnmodel = nn.Sequential()\n",
    "            :add(pmodule)\n",
    "            :add(nn.JoinTable(2))\n",
    "            :add(nn.ReLU())\n",
    "            :add(nn.Linear(embeddingSize * 3, 2))\n",
    "    end\n",
    "\n",
    "    if adapt then \n",
    "        print(\"Adaptive regularization\")\n",
    "        local logmod = nn.Sequential()\n",
    "            :add(nn.Linear(embeddingSize * 3, 1))\n",
    "            :add(nn.LogSigmoid())\n",
    "            :add(nn.SoftMax())\n",
    "\n",
    "        local regmod = nn.Sequential()\n",
    "            :add(nn.Linear(embeddingSize * 3, 2))\n",
    "\n",
    "        local fullmod = nn.ConcatTable()\n",
    "            :add(regmod)\n",
    "            :add(logmod)\n",
    "\n",
    "        local final = nn.Sequential()\n",
    "            :add(pmodule)\n",
    "            :add(nn.JoinTable(2))\n",
    "            :add(fullmod)\n",
    "\n",
    "        nnmodel = final\n",
    "    end\n",
    "\n",
    "    if use_cuda then\n",
    "        return nnmodel:cuda()\n",
    "    end\n",
    "    return nnmodel\n",
    "end\n",
    "\n",
    "function Tokenize(inputdic)\n",
    "    --- This function tokenizes the words into a unigram dictionary\n",
    "    local out = {}\n",
    "\n",
    "    for k, v in pairs(inputdic) do\n",
    "        if out[v] == nil then\n",
    "            out[v] = 1\n",
    "        else \n",
    "            out[v] = 1 + out[v]\n",
    "        end\n",
    "    end\n",
    "    return out\n",
    "end\n",
    "\n",
    "function rougeScores(genSummary, refSummary)\n",
    "    local genTotal = 0\n",
    "    local refTotal = 0\n",
    "    local intersection = 0\n",
    "    -- Inserting the missing keys\n",
    "    for k, genCount in pairs(genSummary) do\n",
    "        if refSummary[k] == nil then\n",
    "            refSummary[k] = 0\n",
    "        end\n",
    "    end\n",
    "    for k, refCount in pairs(refSummary) do\n",
    "        local genCount = genSummary[k]\n",
    "        if genCount == nil then \n",
    "            genCount = 0 \n",
    "        end\n",
    "        intersection = intersection + math.min(refCount, genCount)\n",
    "        refTotal = refTotal + refCount\n",
    "        genTotal = genTotal + genCount\n",
    "    end\n",
    "\n",
    "    recall = intersection / refTotal\n",
    "    prec = intersection / genTotal\n",
    "    if refTotal == 0 then\n",
    "        recall = 0\n",
    "    end \n",
    "    if genTotal == 0 then\n",
    "        prec = 0\n",
    "    end\n",
    "    -- tmp = {intersection, refTotal, genTotal}\n",
    "    if recall > 0 or prec > 0 then\n",
    "        f1 = (2 * recall * prec) / (recall + prec)\n",
    "    else \n",
    "        f1 = 0\n",
    "    end\n",
    "    return recall, prec, f1\n",
    "end"
   ]
  },
  {
   "cell_type": "code",
   "execution_count": null,
   "metadata": {
    "collapsed": true
   },
   "outputs": [],
   "source": [
    "function buildPredsummary(summary, chosenactions, inputsentences, select_index)\n",
    "    if summary == nil then\n",
    "        summary = torch.zeros(inputsentences:size())\n",
    "    end\n",
    "    for i=1, chosenactions:size(1) do\n",
    "        -- the 2 is for the SELECT index, will have to make this more general later\n",
    "        if chosenactions[i][select_index] == 1 then\n",
    "            summary[i]:copy(inputsentences[i])\n",
    "        end\n",
    "    end    \n",
    "    return summary\n",
    "end\n",
    "\n",
    "function buildPredsummaryFast(summary, chosenactions, inputsentences, select_index)\n",
    "    n = inputsentences:size(1)\n",
    "    k = inputsentences:size(2)\n",
    "    if summary == nil then\n",
    "        summary = torch.zeros(inputsentences:size())\n",
    "    end\n",
    "    actionmatrix = chosenactions:select(2, select_index):clone():resize(n, 1):view(n, 1):expand(n, k):clone()\n",
    "    --     This line didn't work for whatever reason...gives weird indexing...\n",
    "    --     actionmatrix = chosenactions:select(2, select_index):resize(1, n):view(n, 1):expand(n, k):clone()\n",
    "    return actionmatrix:cmul(inputsentences:double())\n",
    "end"
   ]
  },
  {
   "cell_type": "code",
   "execution_count": null,
   "metadata": {
    "collapsed": true
   },
   "outputs": [],
   "source": [
    "function buildTotalSummary(predsummary, totalPredsummary)\n",
    "    nps = predsummary:size(1)\n",
    "    n_l = totalPredsummary:size(2)\n",
    "    indices = torch.linspace(1, n_l, n_l):long() \n",
    "    for i=1, predsummary:size(1) do\n",
    "        if predsummary[i]:sum() > 0 then \n",
    "            maxindex = 0\n",
    "            for j = 1, totalPredsummary[i]:size(1) do \n",
    "                if totalPredsummary[i][j] == 0 then\n",
    "                    maxindex = maxindex + 1\n",
    "                end\n",
    "            end\n",
    "            lenx = predsummary[i]:size(1)\n",
    "            totalPredsummary[i][{{maxindex - lenx + 1, maxindex}}]:copy(predsummary[i])\n",
    "        end\n",
    "    end\n",
    "end\n",
    "\n",
    "function buildTotalSummaryFast(predsummary, totalPredsummary)\n",
    "    nps = predsummary:size(1)\n",
    "    n_l = totalPredsummary:size(2)\n",
    "    indices = torch.linspace(1, n_l, n_l):long() \n",
    "    for i=1, predsummary:size(1) do\n",
    "        if predsummary[i]:sum() > 0 then \n",
    "            -- Finding the largest index with a zero\n",
    "            maxindex = torch.max(indices[torch.eq(totalPredsummary[i], 0)])\n",
    "            lenx = predsummary[i]:size(1)\n",
    "            totalPredsummary[i][{{maxindex - lenx + 1, maxindex}}]:copy(predsummary[i])\n",
    "        end\n",
    "    end\n",
    "end"
   ]
  },
  {
   "cell_type": "code",
   "execution_count": null,
   "metadata": {
    "collapsed": true
   },
   "outputs": [],
   "source": [
    "-- Setting parameters\n",
    "n = 10\n",
    "n_s = 5\n",
    "k = 7\n",
    "q = 5\n",
    "a = 1\n",
    "b = 1000\n",
    "embDim = 50\n",
    "SKIP = 1\n",
    "SELECT = 2\n",
    "epsilon = 1\n",
    "nepochs = 1000\n",
    "fast = true\n",
    "\n",
    "maskLayer = nn.MaskedSelect()\n",
    "optimParams = { learningRate = 0.1 }"
   ]
  },
  {
   "cell_type": "markdown",
   "metadata": {},
   "source": [
    "# Simulating the data"
   ]
  },
  {
   "cell_type": "code",
   "execution_count": null,
   "metadata": {
    "collapsed": false
   },
   "outputs": [],
   "source": [
    "-- Simulating streams and queries\n",
    "queries = genNbyK(n, q, a, b)\n",
    "\n",
    "-- Note that the sentences are batched by sentence index so sentences[1] is the first sentence of each article\n",
    "sentences = {}\n",
    "for i=1, n_s do\n",
    "    sentences[i] = genNbyK(n, k, a, b)\n",
    "end\n",
    "\n",
    "-- Optimal predicted summary\n",
    "trueSummary = torch.zeros(n, k * n_s)\n",
    "-- Using this to generate the optimal actions\n",
    "true_actions = {}\n",
    "for i=1, n_s do \n",
    "    ---- Simulating the data\n",
    "    trueqValues = torch.rand(n, 2)\n",
    "    \n",
    "     ---- Generating the max values and getting the indices\n",
    "    qMaxtrue, qindxtrue = torch.max(trueqValues, 2)\n",
    "    \n",
    "    --- I want to select the qindx elements for each row\n",
    "    true_actions[i] = torch.zeros(n, 2):scatter(2, qindxtrue, torch.ones(trueqValues:size()))\n",
    "    best_sentences = buildPredsummaryFast(best_sentences, true_actions[i], sentences[i], SELECT)\n",
    "    buildTotalSummaryFast(best_sentences, trueSummary)\n",
    "end\n",
    "\n",
    "qTokens = {}\n",
    "for i=1, n do\n",
    "    qTokens[i] = Tokenize(trueSummary[i]:totable())\n",
    "end"
   ]
  },
  {
   "cell_type": "markdown",
   "metadata": {},
   "source": [
    "# Scoring the rougue metrics on the simulation"
   ]
  },
  {
   "cell_type": "code",
   "execution_count": null,
   "metadata": {
    "collapsed": false
   },
   "outputs": [],
   "source": [
    "print(rougeScores(Tokenize(trueSummary[1]:totable()), Tokenize(trueSummary[1]:totable())))"
   ]
  },
  {
   "cell_type": "markdown",
   "metadata": {},
   "source": [
    "# Building the model"
   ]
  },
  {
   "cell_type": "code",
   "execution_count": null,
   "metadata": {
    "collapsed": false
   },
   "outputs": [],
   "source": [
    "model = buildModel('bow', b, embDim, 'f1', false, false)\n",
    "\n",
    "params, gradParams = model:getParameters()\n",
    "criterion = nn.MSECriterion()"
   ]
  },
  {
   "cell_type": "markdown",
   "metadata": {},
   "source": [
    "# Scoring the model on the sentences"
   ]
  },
  {
   "cell_type": "code",
   "execution_count": null,
   "metadata": {
    "collapsed": false
   },
   "outputs": [],
   "source": [
    "nepochs = 100"
   ]
  },
  {
   "cell_type": "code",
   "execution_count": null,
   "metadata": {
    "collapsed": false
   },
   "outputs": [],
   "source": [
    "totalPredsummary = {}\n",
    "qValues = {}\n",
    "qActions = {}\n",
    "qPreds = {}\n",
    "rewards = {}\n",
    "lossfull = {}\n",
    "rouguef1 = {}\n",
    "\n",
    "for epoch=1, nepochs do\n",
    "    for i = 1, n_s do\n",
    "        --- Initializing things\n",
    "        if epoch == 1 then \n",
    "            qPreds[i] = torch.zeros(n, 2)\n",
    "            qValues[i] = torch.zeros(n, 1) \n",
    "            qActions[i] = torch.zeros(n, 2)\n",
    "            rewards[i] = torch.zeros(n, 1)\n",
    "            totalPredsummary[i] = torch.LongTensor(n, n_s * k):fill(0)\n",
    "        else\n",
    "            --- Reset things\n",
    "            qPreds[i]:fill(0)\n",
    "            qValues[i]:fill(0)\n",
    "            qActions[i]:fill(0)\n",
    "            rewards[i]:fill(0)\n",
    "            totalPredsummary[i]:fill(0)\n",
    "        end \n",
    "    end\n",
    "    for i=1, n_s do\n",
    "        if torch.uniform(0, 1) <= epsilon then \n",
    "            qPreds[i]:copy(torch.rand(n, 2))\n",
    "            -- Need to run a forward pass for the backward to work...wonky\n",
    "            ignore = model:forward({sentences[i], queries, totalPredsummary[i]})\n",
    "        else \n",
    "            qPreds[i]:copy(model:forward({sentences[i], queries, totalPredsummary[i]}) )\n",
    "        end \n",
    "        if fast then \n",
    "            qMax, qindx = torch.max(qPreds[i], 2)  -- Pulling the best actions\n",
    "            -- Here's the fast way to select the optimal action for each query\n",
    "            qActions[i] = torch.zeros(n, 2):scatter(2, qindx, torch.ones(qPreds[i]:size())):clone()\n",
    "            qValues[i]:copy(qMax)\n",
    "            predsummary = buildPredsummaryFast(predsummary, qActions[i], sentences[i], SELECT)\n",
    "            buildTotalSummaryFast(predsummary, totalPredsummary[i])\n",
    "        else \n",
    "            for j=1, n do\n",
    "                if qPreds[i][j][SELECT] > qPreds[i][j][SKIP] then\n",
    "                    qActions[i][j][SELECT] = 1\n",
    "                    qValues[i][j]:fill(qPreds[i][j][SELECT])\n",
    "                else\n",
    "                    qActions[i][j][SKIP] = 1\n",
    "                    qValues[i][j]:fill(qPreds[i][j][SKIP])\n",
    "                end\n",
    "            end\n",
    "            predsummary = buildPredsummary(predsummary, qActions[i], sentences[i], SELECT)\n",
    "            buildTotalSummary(predsummary, totalPredsummary[i])       \n",
    "        end\n",
    "        for j = 1, n do\n",
    "            recall, prec, f1 = rougeScores( Tokenize(trueSummary[j]:totable()), \n",
    "                                            Tokenize(totalPredsummary[i][j]:totable()) )\n",
    "            rewards[i][j]:fill(f1)\n",
    "        end\n",
    "        if i > 1 then\n",
    "            -- Calculating change in rougue f1\n",
    "            rewards[i]:copy(rewards[i] - rewards[i-1])\n",
    "        end\n",
    "    end\n",
    "    -- Adding back the delta for the last one\n",
    "    rouguef1[epoch] = (rewards[n_s] + rewards[ n_s - 1]):mean()\n",
    "\n",
    "    lossv = {}\n",
    "    --- This backprops through the sentences sequentially...which is fine for now\n",
    "    for i=1, n_s do\n",
    "        function feval(params)\n",
    "        --     model:clearState()\n",
    "            gradParams:zero()\n",
    "            lossf = criterion:forward(qValues[i], rewards[i])\n",
    "            local gradOutput = criterion:backward(qValues[i], rewards[i])\n",
    "            local gradMaskLayer = maskLayer:backward({qPreds[i], qActions[i]:byte()}, gradOutput:resize(rewards[i]:size(1)))\n",
    "            model:backward({sentences[i], queries, totalPredsummary[i]}, gradMaskLayer[1] )\n",
    "            return lossf, gradParams\n",
    "        end\n",
    "        _, lossf = optim.rmsprop(feval, params, optimParams)\n",
    "        lossv[i] = lossf[1]\n",
    "    end\n",
    "    lossfull[epoch] = torch.Tensor(lossv):sum() / #lossv\n",
    "    epsilon = epsilon / 2.\n",
    "end"
   ]
  },
  {
   "cell_type": "code",
   "execution_count": null,
   "metadata": {
    "collapsed": true
   },
   "outputs": [],
   "source": [
    "Plot = require 'itorch.Plot'\n",
    "\n",
    "loss = torch.Tensor(lossfull)\n",
    "rougue = torch.Tensor(rouguef1)\n",
    "indices = torch.linspace(1, loss:size(1), loss:size(1)):long() "
   ]
  },
  {
   "cell_type": "code",
   "execution_count": null,
   "metadata": {
    "collapsed": false
   },
   "outputs": [],
   "source": [
    "-- plot = Plot():line(indices, loss, 'red', 'hi'):title('Plot of loss'):draw()\n",
    "plot = Plot():line(indices, rougue, 'blue', 'hi'):title('Plot of Rougue-F1'):draw()"
   ]
  },
  {
   "cell_type": "code",
   "execution_count": null,
   "metadata": {
    "collapsed": true
   },
   "outputs": [],
   "source": [
    "function stackMemory(newinput, memory_hist, memsize, adapt, use_cuda)\n",
    "    local sentMemory = torch.cat(newinput[1][1]:double(), memory_hist[1][1]:double(), 1)\n",
    "    local queryMemory = torch.cat(newinput[1][2]:double(), memory_hist[1][2]:double(), 1)\n",
    "    local sumryMemory = torch.cat(newinput[1][3]:double(), memory_hist[1][3]:double(), 1)\n",
    "    local rewardMemory = torch.cat(newinput[2]:double(), memory_hist[2]:double(), 1)\n",
    "\n",
    "    if adapt then\n",
    "        regMemory = torch.cat(newinput[4]:double(), memory_hist[4]:double(), 1)\n",
    "    end \n",
    "\n",
    "    if use_cuda then \n",
    "        actionMemory = torch.cat(newinput[3]:double(), memory_hist[3]:double(), 1)\n",
    "    else \n",
    "        actionMemory = torch.cat(newinput[3], memory_hist[3], 1)\n",
    "    end\n",
    "    --- specifying rows to index \n",
    "    if sentMemory:size(1) <= memsize then\n",
    "        nend = sentMemory:size(1)\n",
    "        nstart = 1\n",
    "    else \n",
    "        nstart = math.max(memsize - sentMemory:size(1), 1)\n",
    "        nend = memsize + nstart\n",
    "    end\n",
    "    --- Selecting n last data points\n",
    "    sentMemory = sentMemory[{{nstart, nend}}]\n",
    "    queryMemory = queryMemory[{{nstart, nend}}]\n",
    "    sumryMemory = sumryMemory[{{nstart, nend}}]\n",
    "    rewardMemory = rewardMemory[{{nstart, nend}}]\n",
    "    actionMemory = actionMemory[{{nstart, nend}}]\n",
    "\n",
    "    if use_cuda then\n",
    "        inputMemory = {sentMemory:cuda(), queryMemory:cuda(), sumryMemory:cuda()}\n",
    "        rewardMemory = rewardMemory:cuda()\n",
    "        actionMemory = torch.ByteTensor(#actionMemory):copy(actionMemory):cuda()\n",
    "    end\n",
    "\n",
    "    inputMemory = {sentMemory, queryMemory, sumryMemory}\n",
    "    if adapt then\n",
    "        regMemory = regMemory[{{nstart, nend}}]\n",
    "        return {inputMemory, rewardMemory, actionMemory, regMemory}\n",
    "    end \n",
    "    return {inputMemory, rewardMemory, actionMemory}\n",
    "end    "
   ]
  },
  {
   "cell_type": "code",
   "execution_count": null,
   "metadata": {
    "collapsed": true
   },
   "outputs": [],
   "source": []
  }
 ],
 "metadata": {
  "anaconda-cloud": {},
  "kernelspec": {
   "display_name": "iTorch",
   "language": "lua",
   "name": "itorch"
  },
  "language_info": {
   "name": "lua",
   "version": "5.1"
  }
 },
 "nbformat": 4,
 "nbformat_minor": 1
}
