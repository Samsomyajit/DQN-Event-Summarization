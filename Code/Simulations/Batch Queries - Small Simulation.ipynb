{
 "cells": [
  {
   "cell_type": "code",
   "execution_count": 1,
   "metadata": {
    "collapsed": false
   },
   "outputs": [],
   "source": [
    "require 'nn'\n",
    "require 'rnn'\n",
    "require 'image'\n",
    "require 'optim'\n",
    "require 'parallel'\n",
    "require 'cutorch'\n",
    "require 'cunn'\n",
    "require 'cunnx'\n",
    "dl = require 'dataload'"
   ]
  },
  {
   "cell_type": "code",
   "execution_count": 2,
   "metadata": {
    "collapsed": false
   },
   "outputs": [],
   "source": [
    "-- Some useful functions\n",
    "function genNbyK(n, k, a, b)\n",
    "    out = torch.LongTensor(n, k)\n",
    "    for i=1, n do\n",
    "        for j = 1, k do\n",
    "            out[i][j] = torch.random(a, b)\n",
    "        end\n",
    "    end\n",
    "    return out\n",
    "end\n",
    "\n",
    "function buildModel(model, vocabSize, embeddingSize, metric, adapt, use_cuda)\n",
    "    -- Small experiments seem to show that the Tanh activations performed better\\\n",
    "    --      than the ReLU for the bow model\n",
    "    if model == 'bow' then\n",
    "        print(string.format(\"Running bag-of-words model to learn %s\", metric))\n",
    "        sentenceLookup = nn.Sequential()\n",
    "                    :add(nn.LookupTableMaskZero(vocabSize, embeddingSize))\n",
    "                    :add(nn.Sum(2, 3, true)) -- Not averaging blows up model so keep this true\n",
    "                    :add(nn.Tanh())\n",
    "    else\n",
    "        print(string.format(\"Running LSTM model to learn %s\", metric))\n",
    "        sentenceLookup = nn.Sequential()\n",
    "                    :add(nn.LookupTableMaskZero(vocabSize, embeddingSize))\n",
    "                    :add(nn.SplitTable(2))\n",
    "                    :add(nn.Sequencer(nn.LSTM(embeddingSize, embeddingSize)))\n",
    "                    :add(nn.SelectTable(-1))            -- selects last state of the LSTM\n",
    "                    :add(nn.Linear(embeddingSize, embeddingSize))\n",
    "                    :add(nn.ReLU())\n",
    "    end\n",
    "    local queryLookup = sentenceLookup:clone(\"weight\", \"gradWeight\") \n",
    "    local summaryLookup = sentenceLookup:clone(\"weight\", \"gradWeight\")\n",
    "    local pmodule = nn.ParallelTable()\n",
    "                :add(sentenceLookup)\n",
    "                :add(queryLookup)\n",
    "                :add(summaryLookup)\n",
    "\n",
    "    if model == 'bow' then\n",
    "        nnmodel = nn.Sequential()\n",
    "            :add(pmodule)\n",
    "            :add(nn.JoinTable(2))\n",
    "            :add(nn.Tanh())\n",
    "            :add(nn.Linear(embeddingSize * 3, 2))\n",
    "    else\n",
    "        nnmodel = nn.Sequential()\n",
    "            :add(pmodule)\n",
    "            :add(nn.JoinTable(2))\n",
    "            :add(nn.ReLU())\n",
    "            :add(nn.Linear(embeddingSize * 3, 2))\n",
    "    end\n",
    "\n",
    "    if adapt then \n",
    "        print(\"Adaptive regularization\")\n",
    "        local logmod = nn.Sequential()\n",
    "            :add(nn.Linear(embeddingSize * 3, 1))\n",
    "            :add(nn.LogSigmoid())\n",
    "            :add(nn.SoftMax())\n",
    "\n",
    "        local regmod = nn.Sequential()\n",
    "            :add(nn.Linear(embeddingSize * 3, 2))\n",
    "\n",
    "        local fullmod = nn.ConcatTable()\n",
    "            :add(regmod)\n",
    "            :add(logmod)\n",
    "\n",
    "        local final = nn.Sequential()\n",
    "            :add(pmodule)\n",
    "            :add(nn.JoinTable(2))\n",
    "            :add(fullmod)\n",
    "\n",
    "        nnmodel = final\n",
    "    end\n",
    "\n",
    "    if use_cuda then\n",
    "        return nnmodel:cuda()\n",
    "    end\n",
    "    return nnmodel\n",
    "end\n",
    "\n",
    "function Tokenize(inputdic)\n",
    "    --- This function tokenizes the words into a unigram dictionary\n",
    "    local out = {}\n",
    "    for k, v in pairs(inputdic) do\n",
    "        if v ~= 0 then \n",
    "            if out[v] == nil then\n",
    "                out[v] = 1\n",
    "            else \n",
    "                out[v] = 1 + out[v]\n",
    "            end\n",
    "        end\n",
    "    end\n",
    "    return out\n",
    "end\n",
    "\n",
    "function rougeScores(genSummary, refSummary)\n",
    "    local genTotal = 0\n",
    "    local refTotal = 0\n",
    "    local intersection = 0\n",
    "    -- Inserting the missing keys\n",
    "    for k, genCount in pairs(genSummary) do\n",
    "        if refSummary[k] == nil then\n",
    "            refSummary[k] = 0\n",
    "        end\n",
    "    end\n",
    "    for k, refCount in pairs(refSummary) do\n",
    "        local genCount = genSummary[k]\n",
    "        if genCount == nil then \n",
    "            genCount = 0 \n",
    "        end\n",
    "        intersection = intersection + math.min(refCount, genCount)\n",
    "        refTotal = refTotal + refCount\n",
    "        genTotal = genTotal + genCount\n",
    "    end\n",
    "\n",
    "    recall = intersection / refTotal\n",
    "    prec = intersection / genTotal\n",
    "    if refTotal == 0 then\n",
    "        recall = 0\n",
    "    end \n",
    "    if genTotal == 0 then\n",
    "        prec = 0\n",
    "    end\n",
    "    -- tmp = {intersection, refTotal, genTotal}\n",
    "    if recall > 0 or prec > 0 then\n",
    "        f1 = (2 * recall * prec) / (recall + prec)\n",
    "    else \n",
    "        f1 = 0\n",
    "    end\n",
    "    return recall, prec, f1\n",
    "end"
   ]
  },
  {
   "cell_type": "code",
   "execution_count": 3,
   "metadata": {
    "collapsed": true
   },
   "outputs": [],
   "source": [
    "function buildPredsummary(chosenactions, inputsentences, select_index)\n",
    "    local summary = torch.zeros(inputsentences:size())\n",
    "    for i=1, chosenactions:size(1) do\n",
    "        -- the 2 is for the SELECT index, will have to make this more general later\n",
    "        if chosenactions[i][select_index] == 1 then\n",
    "            summary[i]:copy(inputsentences[i])\n",
    "        end\n",
    "    end    \n",
    "    return summary\n",
    "end\n",
    "\n",
    "function buildPredsummaryFast(chosenactions, inputsentences, select_index)\n",
    "    local n = inputsentences:size(1)\n",
    "    local k = inputsentences:size(2)\n",
    "    local summary = torch.zeros(inputsentences:size())\n",
    "    actionmatrix = chosenactions:select(2, select_index):clone():resize(n, 1):view(n, 1):expand(n, k):clone()\n",
    "    --     This line didn't work for whatever reason...gives weird indexing...\n",
    "    --     actionmatrix = chosenactions:select(2, select_index):resize(1, n):view(n, 1):expand(n, k):clone()\n",
    "    return actionmatrix:cmul(inputsentences:double())\n",
    "end"
   ]
  },
  {
   "cell_type": "code",
   "execution_count": 4,
   "metadata": {
    "collapsed": true
   },
   "outputs": [],
   "source": [
    "function buildTotalSummary(predsummary, totalPredsummary)\n",
    "    nps = predsummary:size(1)\n",
    "    n_l = totalPredsummary:size(2)\n",
    "    indices = torch.linspace(1, n_l, n_l):long() \n",
    "    for i=1, predsummary:size(1) do\n",
    "        if predsummary[i]:sum() > 0 then \n",
    "            -- maxindex = 0\n",
    "            -- for j = 1, totalPredsummary[i]:size(1) do \n",
    "            --     if totalPredsummary[i][j] == 0 then\n",
    "            --         maxindex = maxindex + 1\n",
    "            --     end\n",
    "            -- end\n",
    "            -- lenx = predsummary[i]:size(1)\n",
    "            -- totalPredsummary[i][{{maxindex - lenx + 1, maxindex}}]:copy(predsummary[i])\n",
    "\n",
    "            minindex = 1\n",
    "            for j = 1, totalPredsummary[i]:size(1) do \n",
    "                if totalPredsummary[i][j] > 0 then\n",
    "                    minindex = minindex + 1\n",
    "                end\n",
    "            end\n",
    "            lenx = predsummary[i]:size(1)\n",
    "            totalPredsummary[i][{{minindex, minindex + lenx - 1}}]:copy(predsummary[i])\n",
    "\n",
    "        end\n",
    "    end\n",
    "end\n",
    "\n",
    "-- function buildTotalSummaryFast(predsummary, inputTotalSummary)\n",
    "--     totalPredsummary = inputTotalSummary:clone()\n",
    "--     nps = predsummary:size(1)\n",
    "--     n_l = inputTotalSummary:size(2)\n",
    "--     indices = torch.linspace(1, n_l, n_l):long() \n",
    "--     for i=1, predsummary:size(1) do\n",
    "--         if predsummary[i]:sum() > 0 then \n",
    "--             -- Finding the largest index with a zero\n",
    "--             -- maxindex = torch.max(indices[torch.eq(totalPredsummary[i], 0)])\n",
    "--             -- totalPredsummary[i][{{maxindex - lenx + 1, maxindex}}]:copy(predsummary[i])\n",
    "--             -- Finding the smallest index with a zero\n",
    "--             minindex = torch.min(indices[torch.eq(inputTotalSummary[i], 0)])\n",
    "--             lenx = predsummary[i]:size(1)\n",
    "--             totalPredsummary[i][{{minindex, minindex + lenx - 1}}]:copy(predsummary[i])\n",
    "--         end\n",
    "--     end\n",
    "--     return totalPredsummary\n",
    "-- end\n",
    "\n",
    "-- function buildTotalSummaryFast(predsummary, inputTotalSummary)\n",
    "--     tmpSummary = inputTotalSummary:clone()\n",
    "--     nps = predsummary:size(1)\n",
    "--     n_l = inputTotalSummary:size(2)\n",
    "--     indices = torch.linspace(1, n_l, n_l):long() \n",
    "--     for i=1, predsummary:size(1) do\n",
    "--         if predsummary[i]:sum() > 0 then \n",
    "--             -- Finding the largest index with a zero\n",
    "--             -- maxindex = torch.max(indices[torch.eq(totalPredsummary[i], 0)])\n",
    "--             -- totalPredsummary[i][{{maxindex - lenx + 1, maxindex}}]:copy(predsummary[i])\n",
    "--             -- Finding the smallest index with a zero\n",
    "--             minindex = torch.min(indices[torch.eq(tmpSummary[i], 0)])\n",
    "--             lenx = predsummary[i]:size(1)\n",
    "--             tmpSummary[i][{{minindex, minindex + lenx - 1}}]:copy(predsummary[i])\n",
    "--         end\n",
    "--     end\n",
    "--     return tmpSummary\n",
    "-- end\n",
    "\n",
    "function buildTotalSummaryFast(predsummary, inputTotalSummary)\n",
    "    nps = predsummary:size(1)\n",
    "    n_l =  inputTotalSummary:size(2)\n",
    "    indices = torch.linspace(1, n_l, n_l):long() \n",
    "    for i=1, predsummary:size(1) do\n",
    "        if predsummary[i]:sum() > 0 then \n",
    "            -- Finding the largest index with a zero\n",
    "            -- maxindex = torch.max(indices[torch.eq(totalPredsummary[i], 0)])\n",
    "            -- totalPredsummary[i][{{maxindex - lenx + 1, maxindex}}]:copy(predsummary[i])\n",
    "            -- Finding the smallest index with a zero\n",
    "            minindex = torch.min(indices[torch.eq(inputTotalSummary[i], 0)])\n",
    "            lenx = predsummary[i]:size(1)\n",
    "             inputTotalSummary[i][{{minindex, minindex + lenx - 1}}]:copy(predsummary[i])\n",
    "        end\n",
    "    end\n",
    "end"
   ]
  },
  {
   "cell_type": "code",
   "execution_count": 5,
   "metadata": {
    "collapsed": true
   },
   "outputs": [],
   "source": [
    "-- Setting parameters\n",
    "-- n = 10\n",
    "n = 1\n",
    "n_s = 10\n",
    "k = 8\n",
    "q = 5\n",
    "a = 1\n",
    "b = 1000\n",
    "embDim = 50\n",
    "gamma = 0.3\n",
    "SKIP = 1\n",
    "SELECT = 2\n",
    "epsilon = 1\n",
    "nepochs = 1000\n",
    "fast = true\n",
    "\n",
    "maskLayer = nn.MaskedSelect()"
   ]
  },
  {
   "cell_type": "markdown",
   "metadata": {},
   "source": [
    "# Simulating the data"
   ]
  },
  {
   "cell_type": "code",
   "execution_count": 7,
   "metadata": {
    "collapsed": false
   },
   "outputs": [],
   "source": [
    "-- Simulating streams and queries\n",
    "queries = genNbyK(n, q, a, b)\n",
    "\n",
    "-- Note that the sentences are batched by sentence index so sentences[1] is the first sentence of each article\n",
    "sentences = {}\n",
    "for i=1, n_s do\n",
    "    sentences[i] = genNbyK(n, k, a, b)\n",
    "end\n",
    "-- Optimal predicted summary\n",
    "trueSummary = torch.zeros(n, k * n_s)\n",
    "-- Using this to generate the optimal actions\n",
    "true_actions = {}\n",
    "\n",
    "for i=1, n_s do \n",
    "    ---- Simulating the data\n",
    "    trueqValues = torch.rand(n, 2)\n",
    "    \n",
    "     ---- Generating the max values and getting the indices\n",
    "    qMaxtrue, qindxtrue = torch.max(trueqValues, 2)\n",
    "    \n",
    "    --- I want to select the qindx elements for each row\n",
    "    true_actions[i] = torch.zeros(n, 2):scatter(2, qindxtrue, torch.ones(trueqValues:size()))\n",
    "    best_sentences = buildPredsummaryFast(true_actions[i], sentences[i], SELECT)\n",
    "    buildTotalSummaryFast(best_sentences, trueSummary)\n",
    "end\n",
    "\n",
    "qTokens = {}\n",
    "for i=1, n do\n",
    "    qTokens[i] = Tokenize(trueSummary[i]:totable())\n",
    "end"
   ]
  },
  {
   "cell_type": "markdown",
   "metadata": {},
   "source": [
    "# Scoring the rougue metrics on the simulation"
   ]
  },
  {
   "cell_type": "code",
   "execution_count": 8,
   "metadata": {
    "collapsed": false
   },
   "outputs": [
    {
     "data": {
      "text/plain": [
       "1\t1\t1\t\n"
      ]
     },
     "execution_count": 8,
     "metadata": {},
     "output_type": "execute_result"
    }
   ],
   "source": [
    "print(rougeScores(Tokenize(trueSummary[1]:totable()), Tokenize(trueSummary[1]:totable())))"
   ]
  },
  {
   "cell_type": "markdown",
   "metadata": {},
   "source": [
    "# Building the model"
   ]
  },
  {
   "cell_type": "code",
   "execution_count": 17,
   "metadata": {
    "collapsed": false
   },
   "outputs": [
    {
     "data": {
      "text/plain": [
       "Running LSTM model to learn f1\t\n"
      ]
     },
     "execution_count": 17,
     "metadata": {},
     "output_type": "execute_result"
    }
   ],
   "source": [
    "model = buildModel('lstm', b, embDim, 'f1', false, false)\n",
    "-- model = buildModel('bow', b, embDim, 'f1', false, false)\n",
    "\n",
    "params, gradParams = model:getParameters()\n",
    "criterion = nn.MSECriterion()\n",
    "maskLayer = nn.MaskedSelect()"
   ]
  },
  {
   "cell_type": "markdown",
   "metadata": {},
   "source": [
    "# Scoring the model on the sentences"
   ]
  },
  {
   "cell_type": "code",
   "execution_count": 24,
   "metadata": {
    "collapsed": true
   },
   "outputs": [],
   "source": [
    "nepochs = 200\n",
    "epsilon = 1\n",
    "gamma = 0\n",
    "base_explore_rate = 0.1\n",
    "cuts = 4\n",
    "delta = cuts/nepochs"
   ]
  },
  {
   "cell_type": "code",
   "execution_count": null,
   "metadata": {
    "collapsed": false,
    "scrolled": true
   },
   "outputs": [],
   "source": [
    "optimParams = { learningRate = 1e-6}\n",
    "\n",
    "totalPredsummary = {}\n",
    "qValues = {}\n",
    "qActions = {}\n",
    "qPreds = {}\n",
    "rewards = {}\n",
    "lossfull = {}\n",
    "rouguef1 = {}\n",
    "\n",
    "totalPredsummary = torch.LongTensor(n, n_s * k):fill(0)\n",
    "\n",
    "memsize = n * n_s\n",
    "queryMemory = torch.zeros(memsize, q)\n",
    "qActionMemory = torch.zeros(memsize, 2)\n",
    "predSummaryMemory = torch.zeros(memsize, n_s * k)\n",
    "sentenceMemory = torch.zeros(memsize, k)\n",
    "qPredsMemory = torch.zeros(memsize, 2)\n",
    "qValuesMemory = torch.zeros(memsize, 1)\n",
    "rewardMemory = torch.zeros(memsize, 1)\n",
    "\n",
    "--- Initializing thingss\n",
    "\n",
    "for i = 1, n_s do\n",
    "    qPreds[i] = torch.zeros(n, 2)\n",
    "    qValues[i] = torch.zeros(n, 1) \n",
    "    qActions[i] = torch.zeros(n, 2)\n",
    "    rewards[i] = torch.zeros(n, 1)\n",
    "end \n",
    "\n",
    "for epoch=1, nepochs do\n",
    "    --- Reset things at the start of each epoch\n",
    "    for i=1, n_s do\n",
    "        qPreds[i]:fill(0)\n",
    "        qValues[i]:fill(0)\n",
    "        qActions[i]:fill(0)\n",
    "        rewards[i]:fill(0)\n",
    "        totalPredsummary:fill(0)\n",
    "    end\n",
    "\n",
    "    for i=1, n_s do\n",
    "        if torch.uniform(0, 1) <= epsilon then \n",
    "            qPreds[i]:copy(torch.rand(n, 2))\n",
    "            -- Need to run a forward pass for the backward to work...wonky\n",
    "            ignore = model:forward({sentences[i], queries, totalPredsummary})\n",
    "        else \n",
    "            qPreds[i]:copy(model:forward({sentences[i], queries, totalPredsummary}) )\n",
    "        end \n",
    "        if fast then \n",
    "            qMax, qindx = torch.max(qPreds[i], 2)  -- Pulling the best actions\n",
    "            -- Here's the fast way to select the optimal action for each query\n",
    "            qActions[i]:copy(qActions[i]:scatter(2, qindx, torch.ones(qPreds[i]:size())):clone())\n",
    "            qValues[i]:copy(qMax)\n",
    "            predsummary = buildPredsummaryFast(qActions[i], sentences[i], SELECT)\n",
    "            buildTotalSummaryFast(predsummary, totalPredsummary)\n",
    "        else \n",
    "            for j=1, n do\n",
    "                if qPreds[i][j][SELECT] > qPreds[i][j][SKIP] then\n",
    "                    qActions[i][j][SELECT] = 1\n",
    "                    qValues[i][j]:fill(qPreds[i][j][SELECT])\n",
    "                else\n",
    "                    qActions[i][j][SKIP] = 1\n",
    "                    qValues[i][j]:fill(qPreds[i][j][SKIP])\n",
    "                end\n",
    "            end\n",
    "            predsummary = buildPredsummary(qActions[i], sentences[i], SELECT)\n",
    "            buildTotalSummary(predsummary, totalPredsummary)\n",
    "        end\n",
    "        for j = 1, n do\n",
    "            recall, prec, f1 = rougeScores( qTokens[j],\n",
    "                                            Tokenize(totalPredsummary[j]:totable()))\n",
    "            rewards[i][j]:fill(f1)\n",
    "        end\n",
    "        if i > 1 then\n",
    "            -- Calculating change in rougue f1\n",
    "            rewards[i]:copy(rewards[i] - rewards[i-1])\n",
    "        end\n",
    "        -- Update memory sequentially until it's full \n",
    "        qActionMemory[{{n * (i-1) + 1, n * i}}]:copy(qActions[i])\n",
    "        predSummaryMemory[{{n * (i-1) + 1, n * i}}]:copy(totalPredsummary)\n",
    "        sentenceMemory[{{n * (i-1) + 1, n * i}}]:copy(sentences[i])\n",
    "        qPredsMemory[{{n * (i-1) + 1, n * i}}]:copy(qPreds[i])\n",
    "        qValuesMemory[{{n * (i-1) + 1, n * i}}]:copy(qValues[i])\n",
    "        queryMemory[{{n * (i-1) + 1, n * i}}]:copy(queries)\n",
    "    end\n",
    "    for i=1, n_s do\n",
    "        if i  < n_s then\n",
    "            rewardMemory[{{n * (i-1) + 1, n * i}}]:copy(rewards[i] + gamma * rewards[i + 1] )\n",
    "        else\n",
    "            rewardMemory[{{n * (i-1) + 1, n * i}}]:copy(rewards[i] )\n",
    "        end\n",
    "    end\n",
    "    -- Adding back the delta for the last one\n",
    "    rouguef1[epoch] = (rewards[n_s] + rewards[ n_s - 1] ):mean()\n",
    "\n",
    "    loss = {}\n",
    "    local dataloader = dl.TensorLoader({queryMemory, sentenceMemory, predSummaryMemory, \n",
    "                            qPredsMemory, qActionMemory, qValuesMemory}, rewardMemory)\n",
    "    c = 1\n",
    "    for k, xin, reward in dataloader:sampleiter(batch_size, memsize) do\n",
    "        local function feval(params)\n",
    "            gradParams:zero()\n",
    "            if adapt then\n",
    "                local ignore = model:forward({xin[1], xin[2], xin[3]})\n",
    "                local predQOnActions = maskLayer:forward({qPredsMemory, actions_in}) \n",
    "                local ones = torch.ones(predQ:size(1)):resize(predQ:size(1))\n",
    "                lossf = criterion:forward({qValuesMemory, predReg}, {reward, ones})\n",
    "                local gradOutput = criterion:backward({qActionMemory, predReg}, {reward, ones})\n",
    "                local gradMaskLayer = maskLayer:backward({qPredsMemory, qActionMemory}, gradOutput[1])\n",
    "                model:backward({xin[1], xin[2], xin[3]}, {gradMaskLayer[1], gradOutput[2]})\n",
    "            else \n",
    "                local ignore = model:forward({xin[1], xin[2], xin[3]})\n",
    "                local predQOnActions = maskLayer:forward({xin[4], xin[5]:byte()}) \n",
    "                lossf = criterion:forward(predQOnActions, reward)\n",
    "                local gradOutput = criterion:backward(predQOnActions, reward)\n",
    "                local gradMaskLayer = maskLayer:backward({xin[4], xin[5]:byte()}, gradOutput)\n",
    "                model:backward({xin[1], xin[2], xin[3]}, gradMaskLayer[1])\n",
    "            end \n",
    "            return lossf, gradParams\n",
    "        end\n",
    "        --- optim.rmsprop returns \\theta, f(\\theta):= loss function\n",
    "         _, lossv  = optim.rmsprop(feval, params, optimParams)\n",
    "        loss[c] = lossv[1]\n",
    "        c = c + 1\n",
    "    end\n",
    "\n",
    "    lossfull[epoch] = torch.Tensor(loss):sum() / #lossv\n",
    "    if print_perf then\n",
    "        print(\n",
    "            string.format('epoch = %i; rougue = %.6f; epsilon = %.6f; loss = %.6f' , \n",
    "                epoch, rouguef1[epoch], epsilon, lossfull[epoch])\n",
    "            )\n",
    "    end\n",
    "\n",
    "    if (epsilon - delta) <= base_explore_rate then\n",
    "        epsilon = base_explore_rate\n",
    "        if epoch > end_baserate then \n",
    "            base_explore_rate = 0.\n",
    "        end\n",
    "    else \n",
    "        epsilon = epsilon - delta\n",
    "    end\n",
    "    \n",
    "end"
   ]
  },
  {
   "cell_type": "code",
   "execution_count": 23,
   "metadata": {
    "collapsed": false,
    "scrolled": false
   },
   "outputs": [
    {
     "data": {
      "text/html": [
       "<script type=\"text/javascript\">\n",
       "$(function() {\n",
       "    if (typeof (window._bokeh_onload_callbacks) === \"undefined\"){\n",
       "  window._bokeh_onload_callbacks = [];\n",
       "    }\n",
       "    function load_lib(url, callback){\n",
       "  window._bokeh_onload_callbacks.push(callback);\n",
       "  if (window._bokeh_is_loading){\n",
       "      console.log(\"Bokeh: BokehJS is being loaded, scheduling callback at\", new Date());\n",
       "      return null;\n",
       "  }\n",
       "  console.log(\"Bokeh: BokehJS not loaded, scheduling load and callback at\", new Date());\n",
       "  window._bokeh_is_loading = true;\n",
       "  var s = document.createElement('script');\n",
       "  s.src = url;\n",
       "  s.async = true;\n",
       "  s.onreadystatechange = s.onload = function(){\n",
       "      Bokeh.embed.inject_css(\"https://cdn.pydata.org/bokeh-0.7.0.min.css\");\n",
       "      window._bokeh_onload_callbacks.forEach(function(callback){callback()});\n",
       "  };\n",
       "  s.onerror = function(){\n",
       "      console.warn(\"failed to load library \" + url);\n",
       "  };\n",
       "  document.getElementsByTagName(\"head\")[0].appendChild(s);\n",
       "    }\n",
       "\n",
       "    bokehjs_url = \"https://cdn.pydata.org/bokeh-0.7.0.min.js\"\n",
       "\n",
       "    var elt = document.getElementById(\"c78bdc78-110b-478e-c748-780c65553726\");\n",
       "    if(elt==null) {\n",
       "  console.log(\"Bokeh: ERROR: autoload.js configured with elementid 'c78bdc78-110b-478e-c748-780c65553726'\"\n",
       "        + \"but no matching script tag was found. \")\n",
       "  return false;\n",
       "    }\n",
       "\n",
       "    if(typeof(Bokeh) !== \"undefined\") {\n",
       "  console.log(\"Bokeh: BokehJS loaded, going straight to plotting\");\n",
       "  var modelid = \"f223fef1-7924-46de-c61f-da27bee49a77\";\n",
       "  var modeltype = \"Plot\";\n",
       "  var all_models = [{\"id\":\"b028db9d-f21f-4c47-cc7f-31598ae7ef89\",\"type\":\"ColumnDataSource\",\"attributes\":{\"data\":{\"y\":[0.36138513372388,0.17325435253783,0.32603199020201,0.20950524796222,0.14120773272016,0.079357149462171,0.090002654657517,0.052118095750842,0.062300691679014,0.077738066096168,0.051375738211166,0.10633163564462,0.10406166078146,0.093538906463044,0.091641025916865,0.093140716123454,0.097560952703825,0.077750686213195,0.077840677832301,0.09291886936517,0.066698237845149,0.15180086862795,0.085658055027769,0.056354353641315,0.10538556676534,0.12231679370838,0.11643924168382,0.095879469052674,0.081004433241156,0.1146113645192,0.06358236675753,0.080589506123147,0.0490000101829,0.12098181171043,0.12324436606081,0.051736686185526,0.080699619316821,0.070636817550413,0.10605621439387,0.10000238992989,0.042798944488381,0.072198744976647,0.072236565520397,0.04225514902023,0.056023685096255,0.082752661483813,0.046996907849318,0.071525661235786,0.06824422624718,0.089386909154289,0.11423349664538,0.11594165486284,0.08387376763758,0.11425961632429,0.11242980715797,0.084155592234522,0.07658591567747,0.10075138647506,0.036099961239196,0.10692398920067,0.040987118200946,0.068210541934512,0.07226235248878,0.087393249604448,0.12246079461001,0.10243788690931,0.077372705291517,0.098041155655235,0.08856599726155,0.13762503547092,0.050512851466269,0.10788797060163,0.067749883606071,0.075428237912684,0.14343945519721,0.06337768239161,0.1086705329316,0.081414903153451,0.043868886344434,0.11438581696422,0.093078574318712,0.094914357631383,0.045299132140181,0.085491467517731,0.083177979108239,0.055057025348499,0.084568177605933,0.087943326029854,0.039301346712004,0.091679967407858,0.064660915688933,0.13507014758227,0.063109027757289,0.093264411906816,0.051712998856441,0.061871392942856,0.038248521842195,0.07448221045633,0.1091383144273,0.09486883886525,0.094971435240239,0.061937076892249,0.098396137127516,0.070480502744555,0.067922559971209,0.12004011581126,0.095654157144772,0.099430730315126,0.083142088790561,0.073520663755848,0.095320826694103,0.059327525803759,0.086317286831604,0.075212089225645,0.13235737776264,0.077364684629372,0.12155063385035,0.1508779732151,0.091863555276598,0.14021860535768,0.065085875591872,0.13939797317765,0.074639537482114,0.075220037607939,0.12645477357399,0.13756093575845,0.075533576906951,0.092500388264575,0.068576812154623,0.065720679676936,0.070062763128563,0.07166855811943,0.072409419790315,0.070891309463686,0.063102994735689,0.097760423423644,0.10556751440773,0.14705672027313,0.080069039624265,0.076793381409446,0.12135467171402,0.063600230874457,0.056207843863722,0.094292679870332,0.081771320930307,0.054855775693431,0.10198146442763,0.08827641469839,0.10711529491035,0.062113032685463,0.070515436824732,0.065028530529429,0.1398863022542,0.060282793972876,0.046209641836418,0.10488306919323,0.071052831715698,0.069703087449515,0.059951412029664,0.071185837892151,0.10338693893868,0.12021276251536,0.095387130952122,0.12432083461357,0.10821126879606,0.07314894310751,0.091687958357047,0.053938972437243,0.087217884230621,0.059268641802371,0.048949838036677,0.038037737040014,0.057598916432627,0.09708214790052,0.065996598391983,0.077884330324797,0.096844987479261,0.11374227060091,0.081526863539976,0.069903005541905,0.11828719591517,0.087714304177045,0.092688165226819,0.05685060713823,0.063216907959309,0.073380294036372,0.10432414679295,0.081962088832265,0.089910170268613,0.070678476385548,0.064270256640563,0.083907121313236,0.099523202798726,0.094057499782778,0.095086867551713,0.063419702427273,0.081883378765499,0.084694431958695,0.11347972441077,0.093316800450901],\"x\":[1,2,3,4,5,6,7,8,9,10,11,12,13,14,15,16,17,18,19,20,21,22,23,24,25,26,27,28,29,30,31,32,33,34,35,36,37,38,39,40,41,42,43,44,45,46,47,48,49,50,51,52,53,54,55,56,57,58,59,60,61,62,63,64,65,66,67,68,69,70,71,72,73,74,75,76,77,78,79,80,81,82,83,84,85,86,87,88,89,90,91,92,93,94,95,96,97,98,99,100,101,102,103,104,105,106,107,108,109,110,111,112,113,114,115,116,117,118,119,120,121,122,123,124,125,126,127,128,129,130,131,132,133,134,135,136,137,138,139,140,141,142,143,144,145,146,147,148,149,150,151,152,153,154,155,156,157,158,159,160,161,162,163,164,165,166,167,168,169,170,171,172,173,174,175,176,177,178,179,180,181,182,183,184,185,186,187,188,189,190,191,192,193,194,195,196,197,198,199,200]},\"column_names\":[\"y\",\"x\"],\"cont_ranges\":{},\"discrete_ranges\":{},\"selected\":[],\"id\":\"b028db9d-f21f-4c47-cc7f-31598ae7ef89\",\"doc\":null,\"tags\":[]}},{\"id\":\"32f281dd-d787-4ac1-ca05-6634b67774cb\",\"type\":\"Line\",\"attributes\":{\"fill_alpha\":{\"units\":\"data\",\"value\":0.2},\"line_alpha\":{\"units\":\"data\",\"value\":1},\"doc\":null,\"size\":{\"units\":\"screen\",\"value\":10},\"fill_color\":{\"value\":\"red\"},\"line_color\":{\"value\":\"red\"},\"x\":{\"units\":\"data\",\"field\":\"x\"},\"id\":\"32f281dd-d787-4ac1-ca05-6634b67774cb\",\"y\":{\"units\":\"data\",\"field\":\"y\"},\"tags\":[]}},{\"id\":\"4b176ccc-5fa2-4375-c34f-9a08a2ad51f2\",\"type\":\"Line\",\"attributes\":{\"fill_alpha\":{\"units\":\"data\",\"value\":0.2},\"line_alpha\":{\"units\":\"data\",\"value\":1},\"doc\":null,\"size\":{\"units\":\"screen\",\"value\":10},\"fill_color\":{\"value\":\"red\"},\"line_color\":{\"value\":\"red\"},\"x\":{\"units\":\"data\",\"field\":\"x\"},\"id\":\"4b176ccc-5fa2-4375-c34f-9a08a2ad51f2\",\"y\":{\"units\":\"data\",\"field\":\"y\"},\"tags\":[]}},{\"id\":\"2c5ed6db-c7a4-4c91-ccb9-01d098f2b9c1\",\"type\":\"GlyphRenderer\",\"attributes\":{\"name\":null,\"nonselection_glyph\":{\"type\":\"Line\",\"id\":\"4b176ccc-5fa2-4375-c34f-9a08a2ad51f2\"},\"doc\":null,\"server_data_source\":null,\"data_source\":{\"type\":\"ColumnDataSource\",\"id\":\"b028db9d-f21f-4c47-cc7f-31598ae7ef89\"},\"glyph\":{\"type\":\"Line\",\"id\":\"32f281dd-d787-4ac1-ca05-6634b67774cb\"},\"selection_glyph\":null,\"id\":\"2c5ed6db-c7a4-4c91-ccb9-01d098f2b9c1\",\"tags\":[]}},{\"id\":\"6fcf14a1-c7d6-4475-c45c-4f1a34b2c25c\",\"type\":\"DataRange1d\",\"attributes\":{\"sources\":[{\"columns\":[\"x\"],\"source\":{\"type\":\"ColumnDataSource\",\"id\":\"b028db9d-f21f-4c47-cc7f-31598ae7ef89\"}}],\"id\":\"6fcf14a1-c7d6-4475-c45c-4f1a34b2c25c\",\"tags\":[],\"doc\":null}},{\"id\":\"63d903d9-42a6-4eac-cec8-5b80ff5afcb3\",\"type\":\"DataRange1d\",\"attributes\":{\"sources\":[{\"columns\":[\"y\"],\"source\":{\"type\":\"ColumnDataSource\",\"id\":\"b028db9d-f21f-4c47-cc7f-31598ae7ef89\"}}],\"id\":\"63d903d9-42a6-4eac-cec8-5b80ff5afcb3\",\"tags\":[],\"doc\":null}},{\"id\":\"03bac975-9b9a-438a-c3a9-5a88240f7499\",\"type\":\"ToolEvents\",\"attributes\":{\"tags\":[],\"id\":\"03bac975-9b9a-438a-c3a9-5a88240f7499\",\"geometries\":[],\"doc\":null}},{\"id\":\"11587a44-da13-4f1a-cfb0-5c52d1d69230\",\"type\":\"BasicTickFormatter\",\"attributes\":{\"id\":\"11587a44-da13-4f1a-cfb0-5c52d1d69230\",\"tags\":[],\"doc\":null}},{\"id\":\"89325772-6ad0-46c7-c6e7-2e863ff20c14\",\"type\":\"BasicTicker\",\"attributes\":{\"num_minor_ticks\":5,\"id\":\"89325772-6ad0-46c7-c6e7-2e863ff20c14\",\"tags\":[],\"doc\":null}},{\"id\":\"270f4066-aa4b-4d0d-cd48-c51a0717887b\",\"type\":\"LinearAxis\",\"attributes\":{\"formatter\":{\"type\":\"BasicTickFormatter\",\"id\":\"11587a44-da13-4f1a-cfb0-5c52d1d69230\"},\"ticker\":{\"type\":\"BasicTicker\",\"id\":\"89325772-6ad0-46c7-c6e7-2e863ff20c14\"},\"plot\":{\"id\":\"f223fef1-7924-46de-c61f-da27bee49a77\",\"type\":\"Plot\",\"subtype\":\"Figure\"},\"axis_label\":null,\"id\":\"270f4066-aa4b-4d0d-cd48-c51a0717887b\",\"doc\":null,\"tags\":[]}},{\"id\":\"c68f8bee-12c0-4034-c085-296b6310d5ad\",\"type\":\"Grid\",\"attributes\":{\"dimension\":0,\"plot\":{\"id\":\"f223fef1-7924-46de-c61f-da27bee49a77\",\"type\":\"Plot\",\"subtype\":\"Figure\"},\"ticker\":{\"type\":\"BasicTicker\",\"id\":\"89325772-6ad0-46c7-c6e7-2e863ff20c14\"},\"id\":\"c68f8bee-12c0-4034-c085-296b6310d5ad\",\"doc\":null,\"tags\":[]}},{\"id\":\"8df64787-ed5a-44e2-c40e-0c4abd36ee08\",\"type\":\"BasicTickFormatter\",\"attributes\":{\"id\":\"8df64787-ed5a-44e2-c40e-0c4abd36ee08\",\"tags\":[],\"doc\":null}},{\"id\":\"640aa4fb-7d02-4bf9-cb7b-28e88f363ad5\",\"type\":\"BasicTicker\",\"attributes\":{\"num_minor_ticks\":5,\"id\":\"640aa4fb-7d02-4bf9-cb7b-28e88f363ad5\",\"tags\":[],\"doc\":null}},{\"id\":\"9732930b-28eb-497e-c9d1-bb635d3bceb8\",\"type\":\"LinearAxis\",\"attributes\":{\"formatter\":{\"type\":\"BasicTickFormatter\",\"id\":\"8df64787-ed5a-44e2-c40e-0c4abd36ee08\"},\"ticker\":{\"type\":\"BasicTicker\",\"id\":\"640aa4fb-7d02-4bf9-cb7b-28e88f363ad5\"},\"plot\":{\"id\":\"f223fef1-7924-46de-c61f-da27bee49a77\",\"type\":\"Plot\",\"subtype\":\"Figure\"},\"axis_label\":null,\"id\":\"9732930b-28eb-497e-c9d1-bb635d3bceb8\",\"doc\":null,\"tags\":[]}},{\"id\":\"30fd2ddb-c8f7-46ca-c670-6aa25554c6fb\",\"type\":\"Grid\",\"attributes\":{\"dimension\":1,\"plot\":{\"id\":\"f223fef1-7924-46de-c61f-da27bee49a77\",\"type\":\"Plot\",\"subtype\":\"Figure\"},\"ticker\":{\"type\":\"BasicTicker\",\"id\":\"640aa4fb-7d02-4bf9-cb7b-28e88f363ad5\"},\"id\":\"30fd2ddb-c8f7-46ca-c670-6aa25554c6fb\",\"doc\":null,\"tags\":[]}},{\"id\":\"91df9c4f-0c84-46c6-c6c9-2c390dabe814\",\"type\":\"PanTool\",\"attributes\":{\"plot\":{\"id\":\"f223fef1-7924-46de-c61f-da27bee49a77\",\"type\":\"Plot\",\"subtype\":\"Figure\"},\"dimensions\":[\"width\",\"height\"],\"id\":\"91df9c4f-0c84-46c6-c6c9-2c390dabe814\",\"doc\":null,\"tags\":[]}},{\"id\":\"ef3b4e9d-6f72-4413-c4ba-bebcf81b919f\",\"type\":\"WheelZoomTool\",\"attributes\":{\"plot\":{\"id\":\"f223fef1-7924-46de-c61f-da27bee49a77\",\"type\":\"Plot\",\"subtype\":\"Figure\"},\"dimensions\":[\"width\",\"height\"],\"id\":\"ef3b4e9d-6f72-4413-c4ba-bebcf81b919f\",\"doc\":null,\"tags\":[]}},{\"id\":\"863b08c1-f84e-4187-c124-7bccb92a0e7f\",\"type\":\"BoxZoomTool\",\"attributes\":{\"plot\":{\"id\":\"f223fef1-7924-46de-c61f-da27bee49a77\",\"type\":\"Plot\",\"subtype\":\"Figure\"},\"id\":\"863b08c1-f84e-4187-c124-7bccb92a0e7f\",\"tags\":[],\"doc\":null}},{\"id\":\"6958470b-2edc-4f96-cf44-b223f01d4761\",\"type\":\"PreviewSaveTool\",\"attributes\":{\"plot\":{\"id\":\"f223fef1-7924-46de-c61f-da27bee49a77\",\"type\":\"Plot\",\"subtype\":\"Figure\"},\"id\":\"6958470b-2edc-4f96-cf44-b223f01d4761\",\"tags\":[],\"doc\":null}},{\"id\":\"3280775b-bedd-4848-c801-ce53353dd290\",\"type\":\"ResizeTool\",\"attributes\":{\"plot\":{\"id\":\"f223fef1-7924-46de-c61f-da27bee49a77\",\"type\":\"Plot\",\"subtype\":\"Figure\"},\"id\":\"3280775b-bedd-4848-c801-ce53353dd290\",\"tags\":[],\"doc\":null}},{\"id\":\"da33c948-e4d2-494d-c99a-81eac63abaaa\",\"type\":\"ResetTool\",\"attributes\":{\"plot\":{\"id\":\"f223fef1-7924-46de-c61f-da27bee49a77\",\"type\":\"Plot\",\"subtype\":\"Figure\"},\"id\":\"da33c948-e4d2-494d-c99a-81eac63abaaa\",\"tags\":[],\"doc\":null}},{\"id\":\"f223fef1-7924-46de-c61f-da27bee49a77\",\"type\":\"Plot\",\"attributes\":{\"x_range\":{\"type\":\"DataRange1d\",\"id\":\"6fcf14a1-c7d6-4475-c45c-4f1a34b2c25c\"},\"tool_events\":{\"type\":\"ToolEvents\",\"id\":\"03bac975-9b9a-438a-c3a9-5a88240f7499\"},\"below\":[{\"type\":\"LinearAxis\",\"id\":\"270f4066-aa4b-4d0d-cd48-c51a0717887b\"}],\"renderers\":[{\"type\":\"GlyphRenderer\",\"id\":\"2c5ed6db-c7a4-4c91-ccb9-01d098f2b9c1\"},{\"type\":\"LinearAxis\",\"id\":\"270f4066-aa4b-4d0d-cd48-c51a0717887b\"},{\"type\":\"Grid\",\"id\":\"c68f8bee-12c0-4034-c085-296b6310d5ad\"},{\"type\":\"LinearAxis\",\"id\":\"9732930b-28eb-497e-c9d1-bb635d3bceb8\"},{\"type\":\"Grid\",\"id\":\"30fd2ddb-c8f7-46ca-c670-6aa25554c6fb\"}],\"above\":[],\"tools\":[{\"type\":\"PanTool\",\"id\":\"91df9c4f-0c84-46c6-c6c9-2c390dabe814\"},{\"type\":\"WheelZoomTool\",\"id\":\"ef3b4e9d-6f72-4413-c4ba-bebcf81b919f\"},{\"type\":\"BoxZoomTool\",\"id\":\"863b08c1-f84e-4187-c124-7bccb92a0e7f\"},{\"type\":\"PreviewSaveTool\",\"id\":\"6958470b-2edc-4f96-cf44-b223f01d4761\"},{\"type\":\"ResizeTool\",\"id\":\"3280775b-bedd-4848-c801-ce53353dd290\"},{\"type\":\"ResetTool\",\"id\":\"da33c948-e4d2-494d-c99a-81eac63abaaa\"}],\"doc\":null,\"right\":[],\"title\":\"Plot of loss\",\"extra_x_ranges\":{},\"left\":[{\"type\":\"LinearAxis\",\"id\":\"9732930b-28eb-497e-c9d1-bb635d3bceb8\"}],\"y_range\":{\"type\":\"DataRange1d\",\"id\":\"63d903d9-42a6-4eac-cec8-5b80ff5afcb3\"},\"id\":\"f223fef1-7924-46de-c61f-da27bee49a77\",\"extra_y_ranges\":{},\"tags\":[]}}];\n",
       "  Bokeh.load_models(all_models);\n",
       "  var model = Bokeh.Collections(modeltype).get(modelid);\n",
       "  $(\"#c78bdc78-110b-478e-c748-780c65553726\").html(''); // clear any previous plot in window_id\n",
       "  var view = new model.default_view({model: model, el: \"#c78bdc78-110b-478e-c748-780c65553726\"});\n",
       "    } else {\n",
       "  load_lib(bokehjs_url, function() {\n",
       "      console.log(\"Bokeh: BokehJS plotting callback run at\", new Date())\n",
       "      var modelid = \"f223fef1-7924-46de-c61f-da27bee49a77\";\n",
       "      var modeltype = \"Plot\";\n",
       "      var all_models = [{\"id\":\"b028db9d-f21f-4c47-cc7f-31598ae7ef89\",\"type\":\"ColumnDataSource\",\"attributes\":{\"data\":{\"y\":[0.36138513372388,0.17325435253783,0.32603199020201,0.20950524796222,0.14120773272016,0.079357149462171,0.090002654657517,0.052118095750842,0.062300691679014,0.077738066096168,0.051375738211166,0.10633163564462,0.10406166078146,0.093538906463044,0.091641025916865,0.093140716123454,0.097560952703825,0.077750686213195,0.077840677832301,0.09291886936517,0.066698237845149,0.15180086862795,0.085658055027769,0.056354353641315,0.10538556676534,0.12231679370838,0.11643924168382,0.095879469052674,0.081004433241156,0.1146113645192,0.06358236675753,0.080589506123147,0.0490000101829,0.12098181171043,0.12324436606081,0.051736686185526,0.080699619316821,0.070636817550413,0.10605621439387,0.10000238992989,0.042798944488381,0.072198744976647,0.072236565520397,0.04225514902023,0.056023685096255,0.082752661483813,0.046996907849318,0.071525661235786,0.06824422624718,0.089386909154289,0.11423349664538,0.11594165486284,0.08387376763758,0.11425961632429,0.11242980715797,0.084155592234522,0.07658591567747,0.10075138647506,0.036099961239196,0.10692398920067,0.040987118200946,0.068210541934512,0.07226235248878,0.087393249604448,0.12246079461001,0.10243788690931,0.077372705291517,0.098041155655235,0.08856599726155,0.13762503547092,0.050512851466269,0.10788797060163,0.067749883606071,0.075428237912684,0.14343945519721,0.06337768239161,0.1086705329316,0.081414903153451,0.043868886344434,0.11438581696422,0.093078574318712,0.094914357631383,0.045299132140181,0.085491467517731,0.083177979108239,0.055057025348499,0.084568177605933,0.087943326029854,0.039301346712004,0.091679967407858,0.064660915688933,0.13507014758227,0.063109027757289,0.093264411906816,0.051712998856441,0.061871392942856,0.038248521842195,0.07448221045633,0.1091383144273,0.09486883886525,0.094971435240239,0.061937076892249,0.098396137127516,0.070480502744555,0.067922559971209,0.12004011581126,0.095654157144772,0.099430730315126,0.083142088790561,0.073520663755848,0.095320826694103,0.059327525803759,0.086317286831604,0.075212089225645,0.13235737776264,0.077364684629372,0.12155063385035,0.1508779732151,0.091863555276598,0.14021860535768,0.065085875591872,0.13939797317765,0.074639537482114,0.075220037607939,0.12645477357399,0.13756093575845,0.075533576906951,0.092500388264575,0.068576812154623,0.065720679676936,0.070062763128563,0.07166855811943,0.072409419790315,0.070891309463686,0.063102994735689,0.097760423423644,0.10556751440773,0.14705672027313,0.080069039624265,0.076793381409446,0.12135467171402,0.063600230874457,0.056207843863722,0.094292679870332,0.081771320930307,0.054855775693431,0.10198146442763,0.08827641469839,0.10711529491035,0.062113032685463,0.070515436824732,0.065028530529429,0.1398863022542,0.060282793972876,0.046209641836418,0.10488306919323,0.071052831715698,0.069703087449515,0.059951412029664,0.071185837892151,0.10338693893868,0.12021276251536,0.095387130952122,0.12432083461357,0.10821126879606,0.07314894310751,0.091687958357047,0.053938972437243,0.087217884230621,0.059268641802371,0.048949838036677,0.038037737040014,0.057598916432627,0.09708214790052,0.065996598391983,0.077884330324797,0.096844987479261,0.11374227060091,0.081526863539976,0.069903005541905,0.11828719591517,0.087714304177045,0.092688165226819,0.05685060713823,0.063216907959309,0.073380294036372,0.10432414679295,0.081962088832265,0.089910170268613,0.070678476385548,0.064270256640563,0.083907121313236,0.099523202798726,0.094057499782778,0.095086867551713,0.063419702427273,0.081883378765499,0.084694431958695,0.11347972441077,0.093316800450901],\"x\":[1,2,3,4,5,6,7,8,9,10,11,12,13,14,15,16,17,18,19,20,21,22,23,24,25,26,27,28,29,30,31,32,33,34,35,36,37,38,39,40,41,42,43,44,45,46,47,48,49,50,51,52,53,54,55,56,57,58,59,60,61,62,63,64,65,66,67,68,69,70,71,72,73,74,75,76,77,78,79,80,81,82,83,84,85,86,87,88,89,90,91,92,93,94,95,96,97,98,99,100,101,102,103,104,105,106,107,108,109,110,111,112,113,114,115,116,117,118,119,120,121,122,123,124,125,126,127,128,129,130,131,132,133,134,135,136,137,138,139,140,141,142,143,144,145,146,147,148,149,150,151,152,153,154,155,156,157,158,159,160,161,162,163,164,165,166,167,168,169,170,171,172,173,174,175,176,177,178,179,180,181,182,183,184,185,186,187,188,189,190,191,192,193,194,195,196,197,198,199,200]},\"column_names\":[\"y\",\"x\"],\"cont_ranges\":{},\"discrete_ranges\":{},\"selected\":[],\"id\":\"b028db9d-f21f-4c47-cc7f-31598ae7ef89\",\"doc\":null,\"tags\":[]}},{\"id\":\"32f281dd-d787-4ac1-ca05-6634b67774cb\",\"type\":\"Line\",\"attributes\":{\"fill_alpha\":{\"units\":\"data\",\"value\":0.2},\"line_alpha\":{\"units\":\"data\",\"value\":1},\"doc\":null,\"size\":{\"units\":\"screen\",\"value\":10},\"fill_color\":{\"value\":\"red\"},\"line_color\":{\"value\":\"red\"},\"x\":{\"units\":\"data\",\"field\":\"x\"},\"id\":\"32f281dd-d787-4ac1-ca05-6634b67774cb\",\"y\":{\"units\":\"data\",\"field\":\"y\"},\"tags\":[]}},{\"id\":\"4b176ccc-5fa2-4375-c34f-9a08a2ad51f2\",\"type\":\"Line\",\"attributes\":{\"fill_alpha\":{\"units\":\"data\",\"value\":0.2},\"line_alpha\":{\"units\":\"data\",\"value\":1},\"doc\":null,\"size\":{\"units\":\"screen\",\"value\":10},\"fill_color\":{\"value\":\"red\"},\"line_color\":{\"value\":\"red\"},\"x\":{\"units\":\"data\",\"field\":\"x\"},\"id\":\"4b176ccc-5fa2-4375-c34f-9a08a2ad51f2\",\"y\":{\"units\":\"data\",\"field\":\"y\"},\"tags\":[]}},{\"id\":\"2c5ed6db-c7a4-4c91-ccb9-01d098f2b9c1\",\"type\":\"GlyphRenderer\",\"attributes\":{\"name\":null,\"nonselection_glyph\":{\"type\":\"Line\",\"id\":\"4b176ccc-5fa2-4375-c34f-9a08a2ad51f2\"},\"doc\":null,\"server_data_source\":null,\"data_source\":{\"type\":\"ColumnDataSource\",\"id\":\"b028db9d-f21f-4c47-cc7f-31598ae7ef89\"},\"glyph\":{\"type\":\"Line\",\"id\":\"32f281dd-d787-4ac1-ca05-6634b67774cb\"},\"selection_glyph\":null,\"id\":\"2c5ed6db-c7a4-4c91-ccb9-01d098f2b9c1\",\"tags\":[]}},{\"id\":\"6fcf14a1-c7d6-4475-c45c-4f1a34b2c25c\",\"type\":\"DataRange1d\",\"attributes\":{\"sources\":[{\"columns\":[\"x\"],\"source\":{\"type\":\"ColumnDataSource\",\"id\":\"b028db9d-f21f-4c47-cc7f-31598ae7ef89\"}}],\"id\":\"6fcf14a1-c7d6-4475-c45c-4f1a34b2c25c\",\"tags\":[],\"doc\":null}},{\"id\":\"63d903d9-42a6-4eac-cec8-5b80ff5afcb3\",\"type\":\"DataRange1d\",\"attributes\":{\"sources\":[{\"columns\":[\"y\"],\"source\":{\"type\":\"ColumnDataSource\",\"id\":\"b028db9d-f21f-4c47-cc7f-31598ae7ef89\"}}],\"id\":\"63d903d9-42a6-4eac-cec8-5b80ff5afcb3\",\"tags\":[],\"doc\":null}},{\"id\":\"03bac975-9b9a-438a-c3a9-5a88240f7499\",\"type\":\"ToolEvents\",\"attributes\":{\"tags\":[],\"id\":\"03bac975-9b9a-438a-c3a9-5a88240f7499\",\"geometries\":[],\"doc\":null}},{\"id\":\"11587a44-da13-4f1a-cfb0-5c52d1d69230\",\"type\":\"BasicTickFormatter\",\"attributes\":{\"id\":\"11587a44-da13-4f1a-cfb0-5c52d1d69230\",\"tags\":[],\"doc\":null}},{\"id\":\"89325772-6ad0-46c7-c6e7-2e863ff20c14\",\"type\":\"BasicTicker\",\"attributes\":{\"num_minor_ticks\":5,\"id\":\"89325772-6ad0-46c7-c6e7-2e863ff20c14\",\"tags\":[],\"doc\":null}},{\"id\":\"270f4066-aa4b-4d0d-cd48-c51a0717887b\",\"type\":\"LinearAxis\",\"attributes\":{\"formatter\":{\"type\":\"BasicTickFormatter\",\"id\":\"11587a44-da13-4f1a-cfb0-5c52d1d69230\"},\"ticker\":{\"type\":\"BasicTicker\",\"id\":\"89325772-6ad0-46c7-c6e7-2e863ff20c14\"},\"plot\":{\"id\":\"f223fef1-7924-46de-c61f-da27bee49a77\",\"type\":\"Plot\",\"subtype\":\"Figure\"},\"axis_label\":null,\"id\":\"270f4066-aa4b-4d0d-cd48-c51a0717887b\",\"doc\":null,\"tags\":[]}},{\"id\":\"c68f8bee-12c0-4034-c085-296b6310d5ad\",\"type\":\"Grid\",\"attributes\":{\"dimension\":0,\"plot\":{\"id\":\"f223fef1-7924-46de-c61f-da27bee49a77\",\"type\":\"Plot\",\"subtype\":\"Figure\"},\"ticker\":{\"type\":\"BasicTicker\",\"id\":\"89325772-6ad0-46c7-c6e7-2e863ff20c14\"},\"id\":\"c68f8bee-12c0-4034-c085-296b6310d5ad\",\"doc\":null,\"tags\":[]}},{\"id\":\"8df64787-ed5a-44e2-c40e-0c4abd36ee08\",\"type\":\"BasicTickFormatter\",\"attributes\":{\"id\":\"8df64787-ed5a-44e2-c40e-0c4abd36ee08\",\"tags\":[],\"doc\":null}},{\"id\":\"640aa4fb-7d02-4bf9-cb7b-28e88f363ad5\",\"type\":\"BasicTicker\",\"attributes\":{\"num_minor_ticks\":5,\"id\":\"640aa4fb-7d02-4bf9-cb7b-28e88f363ad5\",\"tags\":[],\"doc\":null}},{\"id\":\"9732930b-28eb-497e-c9d1-bb635d3bceb8\",\"type\":\"LinearAxis\",\"attributes\":{\"formatter\":{\"type\":\"BasicTickFormatter\",\"id\":\"8df64787-ed5a-44e2-c40e-0c4abd36ee08\"},\"ticker\":{\"type\":\"BasicTicker\",\"id\":\"640aa4fb-7d02-4bf9-cb7b-28e88f363ad5\"},\"plot\":{\"id\":\"f223fef1-7924-46de-c61f-da27bee49a77\",\"type\":\"Plot\",\"subtype\":\"Figure\"},\"axis_label\":null,\"id\":\"9732930b-28eb-497e-c9d1-bb635d3bceb8\",\"doc\":null,\"tags\":[]}},{\"id\":\"30fd2ddb-c8f7-46ca-c670-6aa25554c6fb\",\"type\":\"Grid\",\"attributes\":{\"dimension\":1,\"plot\":{\"id\":\"f223fef1-7924-46de-c61f-da27bee49a77\",\"type\":\"Plot\",\"subtype\":\"Figure\"},\"ticker\":{\"type\":\"BasicTicker\",\"id\":\"640aa4fb-7d02-4bf9-cb7b-28e88f363ad5\"},\"id\":\"30fd2ddb-c8f7-46ca-c670-6aa25554c6fb\",\"doc\":null,\"tags\":[]}},{\"id\":\"91df9c4f-0c84-46c6-c6c9-2c390dabe814\",\"type\":\"PanTool\",\"attributes\":{\"plot\":{\"id\":\"f223fef1-7924-46de-c61f-da27bee49a77\",\"type\":\"Plot\",\"subtype\":\"Figure\"},\"dimensions\":[\"width\",\"height\"],\"id\":\"91df9c4f-0c84-46c6-c6c9-2c390dabe814\",\"doc\":null,\"tags\":[]}},{\"id\":\"ef3b4e9d-6f72-4413-c4ba-bebcf81b919f\",\"type\":\"WheelZoomTool\",\"attributes\":{\"plot\":{\"id\":\"f223fef1-7924-46de-c61f-da27bee49a77\",\"type\":\"Plot\",\"subtype\":\"Figure\"},\"dimensions\":[\"width\",\"height\"],\"id\":\"ef3b4e9d-6f72-4413-c4ba-bebcf81b919f\",\"doc\":null,\"tags\":[]}},{\"id\":\"863b08c1-f84e-4187-c124-7bccb92a0e7f\",\"type\":\"BoxZoomTool\",\"attributes\":{\"plot\":{\"id\":\"f223fef1-7924-46de-c61f-da27bee49a77\",\"type\":\"Plot\",\"subtype\":\"Figure\"},\"id\":\"863b08c1-f84e-4187-c124-7bccb92a0e7f\",\"tags\":[],\"doc\":null}},{\"id\":\"6958470b-2edc-4f96-cf44-b223f01d4761\",\"type\":\"PreviewSaveTool\",\"attributes\":{\"plot\":{\"id\":\"f223fef1-7924-46de-c61f-da27bee49a77\",\"type\":\"Plot\",\"subtype\":\"Figure\"},\"id\":\"6958470b-2edc-4f96-cf44-b223f01d4761\",\"tags\":[],\"doc\":null}},{\"id\":\"3280775b-bedd-4848-c801-ce53353dd290\",\"type\":\"ResizeTool\",\"attributes\":{\"plot\":{\"id\":\"f223fef1-7924-46de-c61f-da27bee49a77\",\"type\":\"Plot\",\"subtype\":\"Figure\"},\"id\":\"3280775b-bedd-4848-c801-ce53353dd290\",\"tags\":[],\"doc\":null}},{\"id\":\"da33c948-e4d2-494d-c99a-81eac63abaaa\",\"type\":\"ResetTool\",\"attributes\":{\"plot\":{\"id\":\"f223fef1-7924-46de-c61f-da27bee49a77\",\"type\":\"Plot\",\"subtype\":\"Figure\"},\"id\":\"da33c948-e4d2-494d-c99a-81eac63abaaa\",\"tags\":[],\"doc\":null}},{\"id\":\"f223fef1-7924-46de-c61f-da27bee49a77\",\"type\":\"Plot\",\"attributes\":{\"x_range\":{\"type\":\"DataRange1d\",\"id\":\"6fcf14a1-c7d6-4475-c45c-4f1a34b2c25c\"},\"tool_events\":{\"type\":\"ToolEvents\",\"id\":\"03bac975-9b9a-438a-c3a9-5a88240f7499\"},\"below\":[{\"type\":\"LinearAxis\",\"id\":\"270f4066-aa4b-4d0d-cd48-c51a0717887b\"}],\"renderers\":[{\"type\":\"GlyphRenderer\",\"id\":\"2c5ed6db-c7a4-4c91-ccb9-01d098f2b9c1\"},{\"type\":\"LinearAxis\",\"id\":\"270f4066-aa4b-4d0d-cd48-c51a0717887b\"},{\"type\":\"Grid\",\"id\":\"c68f8bee-12c0-4034-c085-296b6310d5ad\"},{\"type\":\"LinearAxis\",\"id\":\"9732930b-28eb-497e-c9d1-bb635d3bceb8\"},{\"type\":\"Grid\",\"id\":\"30fd2ddb-c8f7-46ca-c670-6aa25554c6fb\"}],\"above\":[],\"tools\":[{\"type\":\"PanTool\",\"id\":\"91df9c4f-0c84-46c6-c6c9-2c390dabe814\"},{\"type\":\"WheelZoomTool\",\"id\":\"ef3b4e9d-6f72-4413-c4ba-bebcf81b919f\"},{\"type\":\"BoxZoomTool\",\"id\":\"863b08c1-f84e-4187-c124-7bccb92a0e7f\"},{\"type\":\"PreviewSaveTool\",\"id\":\"6958470b-2edc-4f96-cf44-b223f01d4761\"},{\"type\":\"ResizeTool\",\"id\":\"3280775b-bedd-4848-c801-ce53353dd290\"},{\"type\":\"ResetTool\",\"id\":\"da33c948-e4d2-494d-c99a-81eac63abaaa\"}],\"doc\":null,\"right\":[],\"title\":\"Plot of loss\",\"extra_x_ranges\":{},\"left\":[{\"type\":\"LinearAxis\",\"id\":\"9732930b-28eb-497e-c9d1-bb635d3bceb8\"}],\"y_range\":{\"type\":\"DataRange1d\",\"id\":\"63d903d9-42a6-4eac-cec8-5b80ff5afcb3\"},\"id\":\"f223fef1-7924-46de-c61f-da27bee49a77\",\"extra_y_ranges\":{},\"tags\":[]}}];\n",
       "      Bokeh.load_models(all_models);\n",
       "      var model = Bokeh.Collections(modeltype).get(modelid);\n",
       "      $(\"#c78bdc78-110b-478e-c748-780c65553726\").html(''); // clear any previous plot in window_id\n",
       "      var view = new model.default_view({model: model, el: \"#c78bdc78-110b-478e-c748-780c65553726\"});\n",
       "  });\n",
       "    }\n",
       "});\n",
       "</script>\n",
       "<div class=\"plotdiv\" id=\"c78bdc78-110b-478e-c748-780c65553726\"></div>\n"
      ]
     },
     "metadata": {},
     "output_type": "display_data"
    },
    {
     "data": {
      "text/html": [
       "<script type=\"text/javascript\">\n",
       "$(function() {\n",
       "    if (typeof (window._bokeh_onload_callbacks) === \"undefined\"){\n",
       "  window._bokeh_onload_callbacks = [];\n",
       "    }\n",
       "    function load_lib(url, callback){\n",
       "  window._bokeh_onload_callbacks.push(callback);\n",
       "  if (window._bokeh_is_loading){\n",
       "      console.log(\"Bokeh: BokehJS is being loaded, scheduling callback at\", new Date());\n",
       "      return null;\n",
       "  }\n",
       "  console.log(\"Bokeh: BokehJS not loaded, scheduling load and callback at\", new Date());\n",
       "  window._bokeh_is_loading = true;\n",
       "  var s = document.createElement('script');\n",
       "  s.src = url;\n",
       "  s.async = true;\n",
       "  s.onreadystatechange = s.onload = function(){\n",
       "      Bokeh.embed.inject_css(\"https://cdn.pydata.org/bokeh-0.7.0.min.css\");\n",
       "      window._bokeh_onload_callbacks.forEach(function(callback){callback()});\n",
       "  };\n",
       "  s.onerror = function(){\n",
       "      console.warn(\"failed to load library \" + url);\n",
       "  };\n",
       "  document.getElementsByTagName(\"head\")[0].appendChild(s);\n",
       "    }\n",
       "\n",
       "    bokehjs_url = \"https://cdn.pydata.org/bokeh-0.7.0.min.js\"\n",
       "\n",
       "    var elt = document.getElementById(\"6145a1cc-cf02-404f-c06e-2222525c60e9\");\n",
       "    if(elt==null) {\n",
       "  console.log(\"Bokeh: ERROR: autoload.js configured with elementid '6145a1cc-cf02-404f-c06e-2222525c60e9'\"\n",
       "        + \"but no matching script tag was found. \")\n",
       "  return false;\n",
       "    }\n",
       "\n",
       "    if(typeof(Bokeh) !== \"undefined\") {\n",
       "  console.log(\"Bokeh: BokehJS loaded, going straight to plotting\");\n",
       "  var modelid = \"d22d4f0d-e035-4ed8-ce47-950619fe1662\";\n",
       "  var modeltype = \"Plot\";\n",
       "  var all_models = [{\"id\":\"78d21869-59df-45f0-c547-bf9f9bdf9629\",\"type\":\"ColumnDataSource\",\"attributes\":{\"data\":{\"y\":[0.425,0.6,0.5,0.58928571428571,0.38636363636364,0.68333333333333,0.73214285714286,0.63461538461538,0.7,0.7,0.7,0.7,0.7,0.7,0.7,0.7,0.7,0.7,0.7,0.7,0.7,0.7,0.7,0.7,0.7,0.7,0.7,0.7,0.7,0.7,0.7,0.7,0.7,0.7,0.7,0.7,0.7,0.7,0.7,0.7,0.7,0.7,0.7,0.7,0.7,0.7,0.7,0.7,0.7,0.7,0.7,0.7,0.7,0.7,0.7,0.7,0.7,0.7,0.7,0.7,0.7,0.7,0.7,0.7,0.7,0.7,0.7,0.7,0.7,0.7,0.7,0.7,0.7,0.7,0.7,0.7,0.7,0.7,0.7,0.7,0.7,0.7,0.7,0.7,0.7,0.7,0.7,0.7,0.7,0.7,0.7,0.7,0.7,0.7,0.7,0.7,0.7,0.7,0.7,0.7,0.7,0.7,0.7,0.7,0.7,0.7,0.7,0.7,0.7,0.7,0.7,0.7,0.7,0.7,0.7,0.7,0.7,0.7,0.7,0.7,0.7,0.7,0.7,0.7,0.7,0.7,0.7,0.7,0.7,0.7,0.7,0.7,0.7,0.7,0.7,0.7,0.7,0.7,0.7,0.7,0.7,0.7,0.7,0.7,0.7,0.7,0.7,0.7,0.7,0.7,0.7,0.7,0.7,0.7,0.7,0.7,0.7,0.7,0.7,0.7,0.7,0.7,0.7,0.7,0.7,0.7,0.7,0.7,0.7,0.7,0.7,0.7,0.7,0.7,0.7,0.7,0.7,0.7,0.7,0.7,0.7,0.7,0.7,0.7,0.7,0.7,0.7,0.7,0.7,0.7,0.7,0.7,0.7,0.7,0.7,0.7,0.7,0.7,0.7,0.7],\"x\":[1,2,3,4,5,6,7,8,9,10,11,12,13,14,15,16,17,18,19,20,21,22,23,24,25,26,27,28,29,30,31,32,33,34,35,36,37,38,39,40,41,42,43,44,45,46,47,48,49,50,51,52,53,54,55,56,57,58,59,60,61,62,63,64,65,66,67,68,69,70,71,72,73,74,75,76,77,78,79,80,81,82,83,84,85,86,87,88,89,90,91,92,93,94,95,96,97,98,99,100,101,102,103,104,105,106,107,108,109,110,111,112,113,114,115,116,117,118,119,120,121,122,123,124,125,126,127,128,129,130,131,132,133,134,135,136,137,138,139,140,141,142,143,144,145,146,147,148,149,150,151,152,153,154,155,156,157,158,159,160,161,162,163,164,165,166,167,168,169,170,171,172,173,174,175,176,177,178,179,180,181,182,183,184,185,186,187,188,189,190,191,192,193,194,195,196,197,198,199,200]},\"column_names\":[\"y\",\"x\"],\"cont_ranges\":{},\"discrete_ranges\":{},\"selected\":[],\"id\":\"78d21869-59df-45f0-c547-bf9f9bdf9629\",\"doc\":null,\"tags\":[]}},{\"id\":\"c575f851-b8d6-45cd-c5d0-c252abceffba\",\"type\":\"Line\",\"attributes\":{\"fill_alpha\":{\"units\":\"data\",\"value\":0.2},\"line_alpha\":{\"units\":\"data\",\"value\":1},\"doc\":null,\"size\":{\"units\":\"screen\",\"value\":10},\"fill_color\":{\"value\":\"blue\"},\"line_color\":{\"value\":\"blue\"},\"x\":{\"units\":\"data\",\"field\":\"x\"},\"id\":\"c575f851-b8d6-45cd-c5d0-c252abceffba\",\"y\":{\"units\":\"data\",\"field\":\"y\"},\"tags\":[]}},{\"id\":\"89c7a0e7-6a06-4a60-caea-162ff4ce380a\",\"type\":\"Line\",\"attributes\":{\"fill_alpha\":{\"units\":\"data\",\"value\":0.2},\"line_alpha\":{\"units\":\"data\",\"value\":1},\"doc\":null,\"size\":{\"units\":\"screen\",\"value\":10},\"fill_color\":{\"value\":\"blue\"},\"line_color\":{\"value\":\"blue\"},\"x\":{\"units\":\"data\",\"field\":\"x\"},\"id\":\"89c7a0e7-6a06-4a60-caea-162ff4ce380a\",\"y\":{\"units\":\"data\",\"field\":\"y\"},\"tags\":[]}},{\"id\":\"921bc471-bbea-4806-c82f-5340be2a2f07\",\"type\":\"GlyphRenderer\",\"attributes\":{\"name\":null,\"nonselection_glyph\":{\"type\":\"Line\",\"id\":\"89c7a0e7-6a06-4a60-caea-162ff4ce380a\"},\"doc\":null,\"server_data_source\":null,\"data_source\":{\"type\":\"ColumnDataSource\",\"id\":\"78d21869-59df-45f0-c547-bf9f9bdf9629\"},\"glyph\":{\"type\":\"Line\",\"id\":\"c575f851-b8d6-45cd-c5d0-c252abceffba\"},\"selection_glyph\":null,\"id\":\"921bc471-bbea-4806-c82f-5340be2a2f07\",\"tags\":[]}},{\"id\":\"b223dc68-b42d-4f14-cfcf-ecd29e775b2b\",\"type\":\"DataRange1d\",\"attributes\":{\"sources\":[{\"columns\":[\"x\"],\"source\":{\"type\":\"ColumnDataSource\",\"id\":\"78d21869-59df-45f0-c547-bf9f9bdf9629\"}}],\"id\":\"b223dc68-b42d-4f14-cfcf-ecd29e775b2b\",\"tags\":[],\"doc\":null}},{\"id\":\"d559f01f-9105-4460-c475-f522118d6199\",\"type\":\"DataRange1d\",\"attributes\":{\"sources\":[{\"columns\":[\"y\"],\"source\":{\"type\":\"ColumnDataSource\",\"id\":\"78d21869-59df-45f0-c547-bf9f9bdf9629\"}}],\"id\":\"d559f01f-9105-4460-c475-f522118d6199\",\"tags\":[],\"doc\":null}},{\"id\":\"0ed9866c-8b0a-4764-c7d4-41ecb3922c43\",\"type\":\"ToolEvents\",\"attributes\":{\"tags\":[],\"id\":\"0ed9866c-8b0a-4764-c7d4-41ecb3922c43\",\"geometries\":[],\"doc\":null}},{\"id\":\"c867edee-1140-4207-c2a3-ef6d97b4a481\",\"type\":\"BasicTickFormatter\",\"attributes\":{\"id\":\"c867edee-1140-4207-c2a3-ef6d97b4a481\",\"tags\":[],\"doc\":null}},{\"id\":\"dd137151-f8ab-46dc-c666-b3a3e25ed628\",\"type\":\"BasicTicker\",\"attributes\":{\"num_minor_ticks\":5,\"id\":\"dd137151-f8ab-46dc-c666-b3a3e25ed628\",\"tags\":[],\"doc\":null}},{\"id\":\"54ab07d9-4f09-4a4b-caa5-1e1f69c77681\",\"type\":\"LinearAxis\",\"attributes\":{\"formatter\":{\"type\":\"BasicTickFormatter\",\"id\":\"c867edee-1140-4207-c2a3-ef6d97b4a481\"},\"ticker\":{\"type\":\"BasicTicker\",\"id\":\"dd137151-f8ab-46dc-c666-b3a3e25ed628\"},\"plot\":{\"id\":\"d22d4f0d-e035-4ed8-ce47-950619fe1662\",\"type\":\"Plot\",\"subtype\":\"Figure\"},\"axis_label\":null,\"id\":\"54ab07d9-4f09-4a4b-caa5-1e1f69c77681\",\"doc\":null,\"tags\":[]}},{\"id\":\"a4762888-11c8-412f-c18a-df01e7905c6a\",\"type\":\"Grid\",\"attributes\":{\"dimension\":0,\"plot\":{\"id\":\"d22d4f0d-e035-4ed8-ce47-950619fe1662\",\"type\":\"Plot\",\"subtype\":\"Figure\"},\"ticker\":{\"type\":\"BasicTicker\",\"id\":\"dd137151-f8ab-46dc-c666-b3a3e25ed628\"},\"id\":\"a4762888-11c8-412f-c18a-df01e7905c6a\",\"doc\":null,\"tags\":[]}},{\"id\":\"397b005d-922f-461d-c6c6-bcc59a423d5f\",\"type\":\"BasicTickFormatter\",\"attributes\":{\"id\":\"397b005d-922f-461d-c6c6-bcc59a423d5f\",\"tags\":[],\"doc\":null}},{\"id\":\"ec0c0876-9125-4495-c44e-5acab49a8107\",\"type\":\"BasicTicker\",\"attributes\":{\"num_minor_ticks\":5,\"id\":\"ec0c0876-9125-4495-c44e-5acab49a8107\",\"tags\":[],\"doc\":null}},{\"id\":\"af69ba17-f129-4822-c8c3-38834b00838c\",\"type\":\"LinearAxis\",\"attributes\":{\"formatter\":{\"type\":\"BasicTickFormatter\",\"id\":\"397b005d-922f-461d-c6c6-bcc59a423d5f\"},\"ticker\":{\"type\":\"BasicTicker\",\"id\":\"ec0c0876-9125-4495-c44e-5acab49a8107\"},\"plot\":{\"id\":\"d22d4f0d-e035-4ed8-ce47-950619fe1662\",\"type\":\"Plot\",\"subtype\":\"Figure\"},\"axis_label\":null,\"id\":\"af69ba17-f129-4822-c8c3-38834b00838c\",\"doc\":null,\"tags\":[]}},{\"id\":\"06246f87-f902-4754-c7d0-feed166f7c0b\",\"type\":\"Grid\",\"attributes\":{\"dimension\":1,\"plot\":{\"id\":\"d22d4f0d-e035-4ed8-ce47-950619fe1662\",\"type\":\"Plot\",\"subtype\":\"Figure\"},\"ticker\":{\"type\":\"BasicTicker\",\"id\":\"ec0c0876-9125-4495-c44e-5acab49a8107\"},\"id\":\"06246f87-f902-4754-c7d0-feed166f7c0b\",\"doc\":null,\"tags\":[]}},{\"id\":\"4417d5e3-bf7c-4d51-cd3a-f5908d7ec208\",\"type\":\"PanTool\",\"attributes\":{\"plot\":{\"id\":\"d22d4f0d-e035-4ed8-ce47-950619fe1662\",\"type\":\"Plot\",\"subtype\":\"Figure\"},\"dimensions\":[\"width\",\"height\"],\"id\":\"4417d5e3-bf7c-4d51-cd3a-f5908d7ec208\",\"doc\":null,\"tags\":[]}},{\"id\":\"a124dbdf-3b19-4c57-cc5b-931f4961bee3\",\"type\":\"WheelZoomTool\",\"attributes\":{\"plot\":{\"id\":\"d22d4f0d-e035-4ed8-ce47-950619fe1662\",\"type\":\"Plot\",\"subtype\":\"Figure\"},\"dimensions\":[\"width\",\"height\"],\"id\":\"a124dbdf-3b19-4c57-cc5b-931f4961bee3\",\"doc\":null,\"tags\":[]}},{\"id\":\"79045edc-cf92-4565-c584-a037ca7929eb\",\"type\":\"BoxZoomTool\",\"attributes\":{\"plot\":{\"id\":\"d22d4f0d-e035-4ed8-ce47-950619fe1662\",\"type\":\"Plot\",\"subtype\":\"Figure\"},\"id\":\"79045edc-cf92-4565-c584-a037ca7929eb\",\"tags\":[],\"doc\":null}},{\"id\":\"ec36cdc8-2cbf-486b-c80d-561ab695effc\",\"type\":\"PreviewSaveTool\",\"attributes\":{\"plot\":{\"id\":\"d22d4f0d-e035-4ed8-ce47-950619fe1662\",\"type\":\"Plot\",\"subtype\":\"Figure\"},\"id\":\"ec36cdc8-2cbf-486b-c80d-561ab695effc\",\"tags\":[],\"doc\":null}},{\"id\":\"d36e1f19-8f62-48dd-c849-a2d6c32905e9\",\"type\":\"ResizeTool\",\"attributes\":{\"plot\":{\"id\":\"d22d4f0d-e035-4ed8-ce47-950619fe1662\",\"type\":\"Plot\",\"subtype\":\"Figure\"},\"id\":\"d36e1f19-8f62-48dd-c849-a2d6c32905e9\",\"tags\":[],\"doc\":null}},{\"id\":\"657c90bc-9dd7-4288-c255-f18cfe60afb6\",\"type\":\"ResetTool\",\"attributes\":{\"plot\":{\"id\":\"d22d4f0d-e035-4ed8-ce47-950619fe1662\",\"type\":\"Plot\",\"subtype\":\"Figure\"},\"id\":\"657c90bc-9dd7-4288-c255-f18cfe60afb6\",\"tags\":[],\"doc\":null}},{\"id\":\"d22d4f0d-e035-4ed8-ce47-950619fe1662\",\"type\":\"Plot\",\"attributes\":{\"x_range\":{\"type\":\"DataRange1d\",\"id\":\"b223dc68-b42d-4f14-cfcf-ecd29e775b2b\"},\"tool_events\":{\"type\":\"ToolEvents\",\"id\":\"0ed9866c-8b0a-4764-c7d4-41ecb3922c43\"},\"below\":[{\"type\":\"LinearAxis\",\"id\":\"54ab07d9-4f09-4a4b-caa5-1e1f69c77681\"}],\"renderers\":[{\"type\":\"GlyphRenderer\",\"id\":\"921bc471-bbea-4806-c82f-5340be2a2f07\"},{\"type\":\"LinearAxis\",\"id\":\"54ab07d9-4f09-4a4b-caa5-1e1f69c77681\"},{\"type\":\"Grid\",\"id\":\"a4762888-11c8-412f-c18a-df01e7905c6a\"},{\"type\":\"LinearAxis\",\"id\":\"af69ba17-f129-4822-c8c3-38834b00838c\"},{\"type\":\"Grid\",\"id\":\"06246f87-f902-4754-c7d0-feed166f7c0b\"}],\"above\":[],\"tools\":[{\"type\":\"PanTool\",\"id\":\"4417d5e3-bf7c-4d51-cd3a-f5908d7ec208\"},{\"type\":\"WheelZoomTool\",\"id\":\"a124dbdf-3b19-4c57-cc5b-931f4961bee3\"},{\"type\":\"BoxZoomTool\",\"id\":\"79045edc-cf92-4565-c584-a037ca7929eb\"},{\"type\":\"PreviewSaveTool\",\"id\":\"ec36cdc8-2cbf-486b-c80d-561ab695effc\"},{\"type\":\"ResizeTool\",\"id\":\"d36e1f19-8f62-48dd-c849-a2d6c32905e9\"},{\"type\":\"ResetTool\",\"id\":\"657c90bc-9dd7-4288-c255-f18cfe60afb6\"}],\"doc\":null,\"right\":[],\"title\":\"Plot of Rougue-F1\",\"extra_x_ranges\":{},\"left\":[{\"type\":\"LinearAxis\",\"id\":\"af69ba17-f129-4822-c8c3-38834b00838c\"}],\"y_range\":{\"type\":\"DataRange1d\",\"id\":\"d559f01f-9105-4460-c475-f522118d6199\"},\"id\":\"d22d4f0d-e035-4ed8-ce47-950619fe1662\",\"extra_y_ranges\":{},\"tags\":[]}}];\n",
       "  Bokeh.load_models(all_models);\n",
       "  var model = Bokeh.Collections(modeltype).get(modelid);\n",
       "  $(\"#6145a1cc-cf02-404f-c06e-2222525c60e9\").html(''); // clear any previous plot in window_id\n",
       "  var view = new model.default_view({model: model, el: \"#6145a1cc-cf02-404f-c06e-2222525c60e9\"});\n",
       "    } else {\n",
       "  load_lib(bokehjs_url, function() {\n",
       "      console.log(\"Bokeh: BokehJS plotting callback run at\", new Date())\n",
       "      var modelid = \"d22d4f0d-e035-4ed8-ce47-950619fe1662\";\n",
       "      var modeltype = \"Plot\";\n",
       "      var all_models = [{\"id\":\"78d21869-59df-45f0-c547-bf9f9bdf9629\",\"type\":\"ColumnDataSource\",\"attributes\":{\"data\":{\"y\":[0.425,0.6,0.5,0.58928571428571,0.38636363636364,0.68333333333333,0.73214285714286,0.63461538461538,0.7,0.7,0.7,0.7,0.7,0.7,0.7,0.7,0.7,0.7,0.7,0.7,0.7,0.7,0.7,0.7,0.7,0.7,0.7,0.7,0.7,0.7,0.7,0.7,0.7,0.7,0.7,0.7,0.7,0.7,0.7,0.7,0.7,0.7,0.7,0.7,0.7,0.7,0.7,0.7,0.7,0.7,0.7,0.7,0.7,0.7,0.7,0.7,0.7,0.7,0.7,0.7,0.7,0.7,0.7,0.7,0.7,0.7,0.7,0.7,0.7,0.7,0.7,0.7,0.7,0.7,0.7,0.7,0.7,0.7,0.7,0.7,0.7,0.7,0.7,0.7,0.7,0.7,0.7,0.7,0.7,0.7,0.7,0.7,0.7,0.7,0.7,0.7,0.7,0.7,0.7,0.7,0.7,0.7,0.7,0.7,0.7,0.7,0.7,0.7,0.7,0.7,0.7,0.7,0.7,0.7,0.7,0.7,0.7,0.7,0.7,0.7,0.7,0.7,0.7,0.7,0.7,0.7,0.7,0.7,0.7,0.7,0.7,0.7,0.7,0.7,0.7,0.7,0.7,0.7,0.7,0.7,0.7,0.7,0.7,0.7,0.7,0.7,0.7,0.7,0.7,0.7,0.7,0.7,0.7,0.7,0.7,0.7,0.7,0.7,0.7,0.7,0.7,0.7,0.7,0.7,0.7,0.7,0.7,0.7,0.7,0.7,0.7,0.7,0.7,0.7,0.7,0.7,0.7,0.7,0.7,0.7,0.7,0.7,0.7,0.7,0.7,0.7,0.7,0.7,0.7,0.7,0.7,0.7,0.7,0.7,0.7,0.7,0.7,0.7,0.7,0.7],\"x\":[1,2,3,4,5,6,7,8,9,10,11,12,13,14,15,16,17,18,19,20,21,22,23,24,25,26,27,28,29,30,31,32,33,34,35,36,37,38,39,40,41,42,43,44,45,46,47,48,49,50,51,52,53,54,55,56,57,58,59,60,61,62,63,64,65,66,67,68,69,70,71,72,73,74,75,76,77,78,79,80,81,82,83,84,85,86,87,88,89,90,91,92,93,94,95,96,97,98,99,100,101,102,103,104,105,106,107,108,109,110,111,112,113,114,115,116,117,118,119,120,121,122,123,124,125,126,127,128,129,130,131,132,133,134,135,136,137,138,139,140,141,142,143,144,145,146,147,148,149,150,151,152,153,154,155,156,157,158,159,160,161,162,163,164,165,166,167,168,169,170,171,172,173,174,175,176,177,178,179,180,181,182,183,184,185,186,187,188,189,190,191,192,193,194,195,196,197,198,199,200]},\"column_names\":[\"y\",\"x\"],\"cont_ranges\":{},\"discrete_ranges\":{},\"selected\":[],\"id\":\"78d21869-59df-45f0-c547-bf9f9bdf9629\",\"doc\":null,\"tags\":[]}},{\"id\":\"c575f851-b8d6-45cd-c5d0-c252abceffba\",\"type\":\"Line\",\"attributes\":{\"fill_alpha\":{\"units\":\"data\",\"value\":0.2},\"line_alpha\":{\"units\":\"data\",\"value\":1},\"doc\":null,\"size\":{\"units\":\"screen\",\"value\":10},\"fill_color\":{\"value\":\"blue\"},\"line_color\":{\"value\":\"blue\"},\"x\":{\"units\":\"data\",\"field\":\"x\"},\"id\":\"c575f851-b8d6-45cd-c5d0-c252abceffba\",\"y\":{\"units\":\"data\",\"field\":\"y\"},\"tags\":[]}},{\"id\":\"89c7a0e7-6a06-4a60-caea-162ff4ce380a\",\"type\":\"Line\",\"attributes\":{\"fill_alpha\":{\"units\":\"data\",\"value\":0.2},\"line_alpha\":{\"units\":\"data\",\"value\":1},\"doc\":null,\"size\":{\"units\":\"screen\",\"value\":10},\"fill_color\":{\"value\":\"blue\"},\"line_color\":{\"value\":\"blue\"},\"x\":{\"units\":\"data\",\"field\":\"x\"},\"id\":\"89c7a0e7-6a06-4a60-caea-162ff4ce380a\",\"y\":{\"units\":\"data\",\"field\":\"y\"},\"tags\":[]}},{\"id\":\"921bc471-bbea-4806-c82f-5340be2a2f07\",\"type\":\"GlyphRenderer\",\"attributes\":{\"name\":null,\"nonselection_glyph\":{\"type\":\"Line\",\"id\":\"89c7a0e7-6a06-4a60-caea-162ff4ce380a\"},\"doc\":null,\"server_data_source\":null,\"data_source\":{\"type\":\"ColumnDataSource\",\"id\":\"78d21869-59df-45f0-c547-bf9f9bdf9629\"},\"glyph\":{\"type\":\"Line\",\"id\":\"c575f851-b8d6-45cd-c5d0-c252abceffba\"},\"selection_glyph\":null,\"id\":\"921bc471-bbea-4806-c82f-5340be2a2f07\",\"tags\":[]}},{\"id\":\"b223dc68-b42d-4f14-cfcf-ecd29e775b2b\",\"type\":\"DataRange1d\",\"attributes\":{\"sources\":[{\"columns\":[\"x\"],\"source\":{\"type\":\"ColumnDataSource\",\"id\":\"78d21869-59df-45f0-c547-bf9f9bdf9629\"}}],\"id\":\"b223dc68-b42d-4f14-cfcf-ecd29e775b2b\",\"tags\":[],\"doc\":null}},{\"id\":\"d559f01f-9105-4460-c475-f522118d6199\",\"type\":\"DataRange1d\",\"attributes\":{\"sources\":[{\"columns\":[\"y\"],\"source\":{\"type\":\"ColumnDataSource\",\"id\":\"78d21869-59df-45f0-c547-bf9f9bdf9629\"}}],\"id\":\"d559f01f-9105-4460-c475-f522118d6199\",\"tags\":[],\"doc\":null}},{\"id\":\"0ed9866c-8b0a-4764-c7d4-41ecb3922c43\",\"type\":\"ToolEvents\",\"attributes\":{\"tags\":[],\"id\":\"0ed9866c-8b0a-4764-c7d4-41ecb3922c43\",\"geometries\":[],\"doc\":null}},{\"id\":\"c867edee-1140-4207-c2a3-ef6d97b4a481\",\"type\":\"BasicTickFormatter\",\"attributes\":{\"id\":\"c867edee-1140-4207-c2a3-ef6d97b4a481\",\"tags\":[],\"doc\":null}},{\"id\":\"dd137151-f8ab-46dc-c666-b3a3e25ed628\",\"type\":\"BasicTicker\",\"attributes\":{\"num_minor_ticks\":5,\"id\":\"dd137151-f8ab-46dc-c666-b3a3e25ed628\",\"tags\":[],\"doc\":null}},{\"id\":\"54ab07d9-4f09-4a4b-caa5-1e1f69c77681\",\"type\":\"LinearAxis\",\"attributes\":{\"formatter\":{\"type\":\"BasicTickFormatter\",\"id\":\"c867edee-1140-4207-c2a3-ef6d97b4a481\"},\"ticker\":{\"type\":\"BasicTicker\",\"id\":\"dd137151-f8ab-46dc-c666-b3a3e25ed628\"},\"plot\":{\"id\":\"d22d4f0d-e035-4ed8-ce47-950619fe1662\",\"type\":\"Plot\",\"subtype\":\"Figure\"},\"axis_label\":null,\"id\":\"54ab07d9-4f09-4a4b-caa5-1e1f69c77681\",\"doc\":null,\"tags\":[]}},{\"id\":\"a4762888-11c8-412f-c18a-df01e7905c6a\",\"type\":\"Grid\",\"attributes\":{\"dimension\":0,\"plot\":{\"id\":\"d22d4f0d-e035-4ed8-ce47-950619fe1662\",\"type\":\"Plot\",\"subtype\":\"Figure\"},\"ticker\":{\"type\":\"BasicTicker\",\"id\":\"dd137151-f8ab-46dc-c666-b3a3e25ed628\"},\"id\":\"a4762888-11c8-412f-c18a-df01e7905c6a\",\"doc\":null,\"tags\":[]}},{\"id\":\"397b005d-922f-461d-c6c6-bcc59a423d5f\",\"type\":\"BasicTickFormatter\",\"attributes\":{\"id\":\"397b005d-922f-461d-c6c6-bcc59a423d5f\",\"tags\":[],\"doc\":null}},{\"id\":\"ec0c0876-9125-4495-c44e-5acab49a8107\",\"type\":\"BasicTicker\",\"attributes\":{\"num_minor_ticks\":5,\"id\":\"ec0c0876-9125-4495-c44e-5acab49a8107\",\"tags\":[],\"doc\":null}},{\"id\":\"af69ba17-f129-4822-c8c3-38834b00838c\",\"type\":\"LinearAxis\",\"attributes\":{\"formatter\":{\"type\":\"BasicTickFormatter\",\"id\":\"397b005d-922f-461d-c6c6-bcc59a423d5f\"},\"ticker\":{\"type\":\"BasicTicker\",\"id\":\"ec0c0876-9125-4495-c44e-5acab49a8107\"},\"plot\":{\"id\":\"d22d4f0d-e035-4ed8-ce47-950619fe1662\",\"type\":\"Plot\",\"subtype\":\"Figure\"},\"axis_label\":null,\"id\":\"af69ba17-f129-4822-c8c3-38834b00838c\",\"doc\":null,\"tags\":[]}},{\"id\":\"06246f87-f902-4754-c7d0-feed166f7c0b\",\"type\":\"Grid\",\"attributes\":{\"dimension\":1,\"plot\":{\"id\":\"d22d4f0d-e035-4ed8-ce47-950619fe1662\",\"type\":\"Plot\",\"subtype\":\"Figure\"},\"ticker\":{\"type\":\"BasicTicker\",\"id\":\"ec0c0876-9125-4495-c44e-5acab49a8107\"},\"id\":\"06246f87-f902-4754-c7d0-feed166f7c0b\",\"doc\":null,\"tags\":[]}},{\"id\":\"4417d5e3-bf7c-4d51-cd3a-f5908d7ec208\",\"type\":\"PanTool\",\"attributes\":{\"plot\":{\"id\":\"d22d4f0d-e035-4ed8-ce47-950619fe1662\",\"type\":\"Plot\",\"subtype\":\"Figure\"},\"dimensions\":[\"width\",\"height\"],\"id\":\"4417d5e3-bf7c-4d51-cd3a-f5908d7ec208\",\"doc\":null,\"tags\":[]}},{\"id\":\"a124dbdf-3b19-4c57-cc5b-931f4961bee3\",\"type\":\"WheelZoomTool\",\"attributes\":{\"plot\":{\"id\":\"d22d4f0d-e035-4ed8-ce47-950619fe1662\",\"type\":\"Plot\",\"subtype\":\"Figure\"},\"dimensions\":[\"width\",\"height\"],\"id\":\"a124dbdf-3b19-4c57-cc5b-931f4961bee3\",\"doc\":null,\"tags\":[]}},{\"id\":\"79045edc-cf92-4565-c584-a037ca7929eb\",\"type\":\"BoxZoomTool\",\"attributes\":{\"plot\":{\"id\":\"d22d4f0d-e035-4ed8-ce47-950619fe1662\",\"type\":\"Plot\",\"subtype\":\"Figure\"},\"id\":\"79045edc-cf92-4565-c584-a037ca7929eb\",\"tags\":[],\"doc\":null}},{\"id\":\"ec36cdc8-2cbf-486b-c80d-561ab695effc\",\"type\":\"PreviewSaveTool\",\"attributes\":{\"plot\":{\"id\":\"d22d4f0d-e035-4ed8-ce47-950619fe1662\",\"type\":\"Plot\",\"subtype\":\"Figure\"},\"id\":\"ec36cdc8-2cbf-486b-c80d-561ab695effc\",\"tags\":[],\"doc\":null}},{\"id\":\"d36e1f19-8f62-48dd-c849-a2d6c32905e9\",\"type\":\"ResizeTool\",\"attributes\":{\"plot\":{\"id\":\"d22d4f0d-e035-4ed8-ce47-950619fe1662\",\"type\":\"Plot\",\"subtype\":\"Figure\"},\"id\":\"d36e1f19-8f62-48dd-c849-a2d6c32905e9\",\"tags\":[],\"doc\":null}},{\"id\":\"657c90bc-9dd7-4288-c255-f18cfe60afb6\",\"type\":\"ResetTool\",\"attributes\":{\"plot\":{\"id\":\"d22d4f0d-e035-4ed8-ce47-950619fe1662\",\"type\":\"Plot\",\"subtype\":\"Figure\"},\"id\":\"657c90bc-9dd7-4288-c255-f18cfe60afb6\",\"tags\":[],\"doc\":null}},{\"id\":\"d22d4f0d-e035-4ed8-ce47-950619fe1662\",\"type\":\"Plot\",\"attributes\":{\"x_range\":{\"type\":\"DataRange1d\",\"id\":\"b223dc68-b42d-4f14-cfcf-ecd29e775b2b\"},\"tool_events\":{\"type\":\"ToolEvents\",\"id\":\"0ed9866c-8b0a-4764-c7d4-41ecb3922c43\"},\"below\":[{\"type\":\"LinearAxis\",\"id\":\"54ab07d9-4f09-4a4b-caa5-1e1f69c77681\"}],\"renderers\":[{\"type\":\"GlyphRenderer\",\"id\":\"921bc471-bbea-4806-c82f-5340be2a2f07\"},{\"type\":\"LinearAxis\",\"id\":\"54ab07d9-4f09-4a4b-caa5-1e1f69c77681\"},{\"type\":\"Grid\",\"id\":\"a4762888-11c8-412f-c18a-df01e7905c6a\"},{\"type\":\"LinearAxis\",\"id\":\"af69ba17-f129-4822-c8c3-38834b00838c\"},{\"type\":\"Grid\",\"id\":\"06246f87-f902-4754-c7d0-feed166f7c0b\"}],\"above\":[],\"tools\":[{\"type\":\"PanTool\",\"id\":\"4417d5e3-bf7c-4d51-cd3a-f5908d7ec208\"},{\"type\":\"WheelZoomTool\",\"id\":\"a124dbdf-3b19-4c57-cc5b-931f4961bee3\"},{\"type\":\"BoxZoomTool\",\"id\":\"79045edc-cf92-4565-c584-a037ca7929eb\"},{\"type\":\"PreviewSaveTool\",\"id\":\"ec36cdc8-2cbf-486b-c80d-561ab695effc\"},{\"type\":\"ResizeTool\",\"id\":\"d36e1f19-8f62-48dd-c849-a2d6c32905e9\"},{\"type\":\"ResetTool\",\"id\":\"657c90bc-9dd7-4288-c255-f18cfe60afb6\"}],\"doc\":null,\"right\":[],\"title\":\"Plot of Rougue-F1\",\"extra_x_ranges\":{},\"left\":[{\"type\":\"LinearAxis\",\"id\":\"af69ba17-f129-4822-c8c3-38834b00838c\"}],\"y_range\":{\"type\":\"DataRange1d\",\"id\":\"d559f01f-9105-4460-c475-f522118d6199\"},\"id\":\"d22d4f0d-e035-4ed8-ce47-950619fe1662\",\"extra_y_ranges\":{},\"tags\":[]}}];\n",
       "      Bokeh.load_models(all_models);\n",
       "      var model = Bokeh.Collections(modeltype).get(modelid);\n",
       "      $(\"#6145a1cc-cf02-404f-c06e-2222525c60e9\").html(''); // clear any previous plot in window_id\n",
       "      var view = new model.default_view({model: model, el: \"#6145a1cc-cf02-404f-c06e-2222525c60e9\"});\n",
       "  });\n",
       "    }\n",
       "});\n",
       "</script>\n",
       "<div class=\"plotdiv\" id=\"6145a1cc-cf02-404f-c06e-2222525c60e9\"></div>\n"
      ]
     },
     "metadata": {},
     "output_type": "display_data"
    }
   ],
   "source": [
    "Plot = require 'itorch.Plot'\n",
    "\n",
    "loss = torch.Tensor(lossfull)\n",
    "rougue = torch.Tensor(rouguef1)\n",
    "indices = torch.linspace(1, loss:size(1), loss:size(1)):long() \n",
    "plot = Plot():line(indices, loss, 'red', 'hi'):title('Plot of loss'):draw()\n",
    "plot = Plot():line(indices, rougue, 'blue', 'hi'):title('Plot of Rougue-F1'):draw()"
   ]
  },
  {
   "cell_type": "code",
   "execution_count": null,
   "metadata": {
    "collapsed": false
   },
   "outputs": [],
   "source": [
    "rougeScores( Tokenize(trueSummary:resize(40):totable()), \n",
    "                Tokenize(totalPredsummary:totable()[1]))"
   ]
  },
  {
   "cell_type": "code",
   "execution_count": null,
   "metadata": {
    "collapsed": false
   },
   "outputs": [],
   "source": [
    "n = 10\n",
    "-- nn.MaskedSelect():cuda()\n",
    "maskLayer = nn.MaskedSelect()\n",
    "\n",
    "x = torch.round(torch.rand(n, 2) * 5)\n",
    "\n",
    "qMaxtrue, qindxtrue = torch.max(x, 2)\n",
    "a = torch.zeros(n, 2):scatter(2, qindxtrue, torch.ones(x:size())):byte()"
   ]
  },
  {
   "cell_type": "code",
   "execution_count": null,
   "metadata": {
    "collapsed": false
   },
   "outputs": [],
   "source": [
    "a, x, maskLayer:forward({x, a}) "
   ]
  },
  {
   "cell_type": "code",
   "execution_count": null,
   "metadata": {
    "collapsed": true
   },
   "outputs": [],
   "source": [
    "n = 10\n",
    "maskLayer = nn.MaskedSelect():cuda()\n",
    "ByteTensor = torch.CudaByteTensor\n",
    "\n",
    "x = torch.round(torch.rand(n, 2) * 5):cuda()"
   ]
  },
  {
   "cell_type": "code",
   "execution_count": null,
   "metadata": {
    "collapsed": true
   },
   "outputs": [],
   "source": [
    "qMaxtrue, qindxtrue = torch.max(x, 2)"
   ]
  },
  {
   "cell_type": "code",
   "execution_count": null,
   "metadata": {
    "collapsed": false
   },
   "outputs": [],
   "source": [
    "torch.ones(x:size())"
   ]
  },
  {
   "cell_type": "code",
   "execution_count": null,
   "metadata": {
    "collapsed": false
   },
   "outputs": [],
   "source": [
    "qindxtrue:cuda()"
   ]
  },
  {
   "cell_type": "code",
   "execution_count": null,
   "metadata": {
    "collapsed": false
   },
   "outputs": [],
   "source": [
    "torch.zeros(n, 2):cuda():scatter(2, qindxtrue:cuda(), torch.ones(x:size()):cuda() )"
   ]
  },
  {
   "cell_type": "code",
   "execution_count": null,
   "metadata": {
    "collapsed": true
   },
   "outputs": [],
   "source": []
  }
 ],
 "metadata": {
  "anaconda-cloud": {},
  "kernelspec": {
   "display_name": "iTorch",
   "language": "lua",
   "name": "itorch"
  },
  "language_info": {
   "name": "lua",
   "version": "5.1"
  }
 },
 "nbformat": 4,
 "nbformat_minor": 1
}
