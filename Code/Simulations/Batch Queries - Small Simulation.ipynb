{
 "cells": [
  {
   "cell_type": "code",
   "execution_count": 1,
   "metadata": {
    "collapsed": false
   },
   "outputs": [],
   "source": [
    "require 'nn'\n",
    "require 'rnn'\n",
    "require 'image'\n",
    "require 'optim'\n",
    "require 'parallel'\n",
    "require 'cutorch'\n",
    "require 'cunn'\n",
    "require 'cunnx'\n",
    "dl = require 'dataload'"
   ]
  },
  {
   "cell_type": "code",
   "execution_count": 2,
   "metadata": {
    "collapsed": false
   },
   "outputs": [],
   "source": [
    "-- Some useful functions\n",
    "function genNbyK(n, k, a, b)\n",
    "    out = torch.LongTensor(n, k)\n",
    "    for i=1, n do\n",
    "        for j = 1, k do\n",
    "            out[i][j] = torch.random(a, b)\n",
    "        end\n",
    "    end\n",
    "    return out\n",
    "end\n",
    "\n",
    "function buildModel(model, vocabSize, embeddingSize, metric, adapt, use_cuda)\n",
    "    -- Small experiments seem to show that the Tanh activations performed better\\\n",
    "    --      than the ReLU for the bow model\n",
    "    if model == 'bow' then\n",
    "        print(string.format(\"Running bag-of-words model to learn %s\", metric))\n",
    "        sentenceLookup = nn.Sequential()\n",
    "                    :add(nn.LookupTableMaskZero(vocabSize, embeddingSize))\n",
    "                    :add(nn.Sum(2, 3, true)) -- Not averaging blows up model so keep this true\n",
    "                    :add(nn.Tanh())\n",
    "    else\n",
    "        print(string.format(\"Running LSTM model to learn %s\", metric))\n",
    "        sentenceLookup = nn.Sequential()\n",
    "                    :add(nn.LookupTableMaskZero(vocabSize, embeddingSize))\n",
    "                    :add(nn.SplitTable(2))\n",
    "                    :add(nn.Sequencer(nn.LSTM(embeddingSize, embeddingSize)))\n",
    "                    :add(nn.SelectTable(-1))            -- selects last state of the LSTM\n",
    "                    :add(nn.Linear(embeddingSize, embeddingSize))\n",
    "                    :add(nn.ReLU())\n",
    "    end\n",
    "    local queryLookup = sentenceLookup:clone(\"weight\", \"gradWeight\") \n",
    "    local summaryLookup = sentenceLookup:clone(\"weight\", \"gradWeight\")\n",
    "    local pmodule = nn.ParallelTable()\n",
    "                :add(sentenceLookup)\n",
    "                :add(queryLookup)\n",
    "                :add(summaryLookup)\n",
    "\n",
    "    if model == 'bow' then\n",
    "        nnmodel = nn.Sequential()\n",
    "            :add(pmodule)\n",
    "            :add(nn.JoinTable(2))\n",
    "            :add(nn.Tanh())\n",
    "            :add(nn.Linear(embeddingSize * 3, 2))\n",
    "    else\n",
    "        nnmodel = nn.Sequential()\n",
    "            :add(pmodule)\n",
    "            :add(nn.JoinTable(2))\n",
    "            :add(nn.ReLU())\n",
    "            :add(nn.Linear(embeddingSize * 3, 2))\n",
    "    end\n",
    "\n",
    "    if adapt then \n",
    "        print(\"Adaptive regularization\")\n",
    "        local logmod = nn.Sequential()\n",
    "            :add(nn.Linear(embeddingSize * 3, 1))\n",
    "            :add(nn.LogSigmoid())\n",
    "            :add(nn.SoftMax())\n",
    "\n",
    "        local regmod = nn.Sequential()\n",
    "            :add(nn.Linear(embeddingSize * 3, 2))\n",
    "\n",
    "        local fullmod = nn.ConcatTable()\n",
    "            :add(regmod)\n",
    "            :add(logmod)\n",
    "\n",
    "        local final = nn.Sequential()\n",
    "            :add(pmodule)\n",
    "            :add(nn.JoinTable(2))\n",
    "            :add(fullmod)\n",
    "\n",
    "        nnmodel = final\n",
    "    end\n",
    "\n",
    "    if use_cuda then\n",
    "        return nnmodel:cuda()\n",
    "    end\n",
    "    return nnmodel\n",
    "end\n",
    "\n",
    "function Tokenize(inputdic)\n",
    "    --- This function tokenizes the words into a unigram dictionary\n",
    "    local out = {}\n",
    "    for k, v in pairs(inputdic) do\n",
    "        if v ~= 0 then \n",
    "            if out[v] == nil then\n",
    "                out[v] = 1\n",
    "            else \n",
    "                out[v] = 1 + out[v]\n",
    "            end\n",
    "        end\n",
    "    end\n",
    "    return out\n",
    "end\n",
    "\n",
    "function rougeScores(genSummary, refSummary)\n",
    "    local genTotal = 0\n",
    "    local refTotal = 0\n",
    "    local intersection = 0\n",
    "    -- Inserting the missing keys\n",
    "    for k, genCount in pairs(genSummary) do\n",
    "        if refSummary[k] == nil then\n",
    "            refSummary[k] = 0\n",
    "        end\n",
    "    end\n",
    "    for k, refCount in pairs(refSummary) do\n",
    "        local genCount = genSummary[k]\n",
    "        if genCount == nil then \n",
    "            genCount = 0 \n",
    "        end\n",
    "        intersection = intersection + math.min(refCount, genCount)\n",
    "        refTotal = refTotal + refCount\n",
    "        genTotal = genTotal + genCount\n",
    "    end\n",
    "\n",
    "    recall = intersection / refTotal\n",
    "    prec = intersection / genTotal\n",
    "    if refTotal == 0 then\n",
    "        recall = 0\n",
    "    end \n",
    "    if genTotal == 0 then\n",
    "        prec = 0\n",
    "    end\n",
    "    -- tmp = {intersection, refTotal, genTotal}\n",
    "    if recall > 0 or prec > 0 then\n",
    "        f1 = (2 * recall * prec) / (recall + prec)\n",
    "    else \n",
    "        f1 = 0\n",
    "    end\n",
    "    return recall, prec, f1\n",
    "end"
   ]
  },
  {
   "cell_type": "code",
   "execution_count": 3,
   "metadata": {
    "collapsed": true
   },
   "outputs": [],
   "source": [
    "function buildPredsummary(chosenactions, inputsentences, select_index)\n",
    "    local summary = torch.zeros(inputsentences:size())\n",
    "    for i=1, chosenactions:size(1) do\n",
    "        -- the 2 is for the SELECT index, will have to make this more general later\n",
    "        if chosenactions[i][select_index] == 1 then\n",
    "            summary[i]:copy(inputsentences[i])\n",
    "        end\n",
    "    end    \n",
    "    return summary\n",
    "end\n",
    "\n",
    "function buildPredsummaryFast(chosenactions, inputsentences, select_index)\n",
    "    local n = inputsentences:size(1)\n",
    "    local k = inputsentences:size(2)\n",
    "    local summary = torch.zeros(inputsentences:size())\n",
    "    actionmatrix = chosenactions:select(2, select_index):clone():resize(n, 1):view(n, 1):expand(n, k):clone()\n",
    "    --     This line didn't work for whatever reason...gives weird indexing...\n",
    "    --     actionmatrix = chosenactions:select(2, select_index):resize(1, n):view(n, 1):expand(n, k):clone()\n",
    "    return actionmatrix:cmul(inputsentences:double())\n",
    "end"
   ]
  },
  {
   "cell_type": "code",
   "execution_count": 4,
   "metadata": {
    "collapsed": true
   },
   "outputs": [],
   "source": [
    "function buildTotalSummary(predsummary, totalPredsummary)\n",
    "    nps = predsummary:size(1)\n",
    "    n_l = totalPredsummary:size(2)\n",
    "    indices = torch.linspace(1, n_l, n_l):long() \n",
    "    for i=1, predsummary:size(1) do\n",
    "        if predsummary[i]:sum() > 0 then \n",
    "            -- maxindex = 0\n",
    "            -- for j = 1, totalPredsummary[i]:size(1) do \n",
    "            --     if totalPredsummary[i][j] == 0 then\n",
    "            --         maxindex = maxindex + 1\n",
    "            --     end\n",
    "            -- end\n",
    "            -- lenx = predsummary[i]:size(1)\n",
    "            -- totalPredsummary[i][{{maxindex - lenx + 1, maxindex}}]:copy(predsummary[i])\n",
    "\n",
    "            minindex = 1\n",
    "            for j = 1, totalPredsummary[i]:size(1) do \n",
    "                if totalPredsummary[i][j] > 0 then\n",
    "                    minindex = minindex + 1\n",
    "                end\n",
    "            end\n",
    "            lenx = predsummary[i]:size(1)\n",
    "            totalPredsummary[i][{{minindex, minindex + lenx - 1}}]:copy(predsummary[i])\n",
    "\n",
    "        end\n",
    "    end\n",
    "end\n",
    "\n",
    "-- function buildTotalSummaryFast(predsummary, inputTotalSummary)\n",
    "--     totalPredsummary = inputTotalSummary:clone()\n",
    "--     nps = predsummary:size(1)\n",
    "--     n_l = inputTotalSummary:size(2)\n",
    "--     indices = torch.linspace(1, n_l, n_l):long() \n",
    "--     for i=1, predsummary:size(1) do\n",
    "--         if predsummary[i]:sum() > 0 then \n",
    "--             -- Finding the largest index with a zero\n",
    "--             -- maxindex = torch.max(indices[torch.eq(totalPredsummary[i], 0)])\n",
    "--             -- totalPredsummary[i][{{maxindex - lenx + 1, maxindex}}]:copy(predsummary[i])\n",
    "--             -- Finding the smallest index with a zero\n",
    "--             minindex = torch.min(indices[torch.eq(inputTotalSummary[i], 0)])\n",
    "--             lenx = predsummary[i]:size(1)\n",
    "--             totalPredsummary[i][{{minindex, minindex + lenx - 1}}]:copy(predsummary[i])\n",
    "--         end\n",
    "--     end\n",
    "--     return totalPredsummary\n",
    "-- end\n",
    "\n",
    "-- function buildTotalSummaryFast(predsummary, inputTotalSummary)\n",
    "--     tmpSummary = inputTotalSummary:clone()\n",
    "--     nps = predsummary:size(1)\n",
    "--     n_l = inputTotalSummary:size(2)\n",
    "--     indices = torch.linspace(1, n_l, n_l):long() \n",
    "--     for i=1, predsummary:size(1) do\n",
    "--         if predsummary[i]:sum() > 0 then \n",
    "--             -- Finding the largest index with a zero\n",
    "--             -- maxindex = torch.max(indices[torch.eq(totalPredsummary[i], 0)])\n",
    "--             -- totalPredsummary[i][{{maxindex - lenx + 1, maxindex}}]:copy(predsummary[i])\n",
    "--             -- Finding the smallest index with a zero\n",
    "--             minindex = torch.min(indices[torch.eq(tmpSummary[i], 0)])\n",
    "--             lenx = predsummary[i]:size(1)\n",
    "--             tmpSummary[i][{{minindex, minindex + lenx - 1}}]:copy(predsummary[i])\n",
    "--         end\n",
    "--     end\n",
    "--     return tmpSummary\n",
    "-- end\n",
    "\n",
    "function buildTotalSummaryFast(predsummary, inputTotalSummary)\n",
    "    nps = predsummary:size(1)\n",
    "    n_l =  inputTotalSummary:size(2)\n",
    "    indices = torch.linspace(1, n_l, n_l):long() \n",
    "    for i=1, predsummary:size(1) do\n",
    "        if predsummary[i]:sum() > 0 then \n",
    "            -- Finding the largest index with a zero\n",
    "            -- maxindex = torch.max(indices[torch.eq(totalPredsummary[i], 0)])\n",
    "            -- totalPredsummary[i][{{maxindex - lenx + 1, maxindex}}]:copy(predsummary[i])\n",
    "            -- Finding the smallest index with a zero\n",
    "            minindex = torch.min(indices[torch.eq(inputTotalSummary[i], 0)])\n",
    "            lenx = predsummary[i]:size(1)\n",
    "             inputTotalSummary[i][{{minindex, minindex + lenx - 1}}]:copy(predsummary[i])\n",
    "        end\n",
    "    end\n",
    "end"
   ]
  },
  {
   "cell_type": "code",
   "execution_count": 5,
   "metadata": {
    "collapsed": true
   },
   "outputs": [],
   "source": [
    "-- Setting parameters\n",
    "-- n = 10\n",
    "n = 1\n",
    "n_s = 10\n",
    "k = 8\n",
    "q = 5\n",
    "a = 1\n",
    "b = 1000\n",
    "embDim = 50\n",
    "gamma = 0.3\n",
    "SKIP = 1\n",
    "SELECT = 2\n",
    "epsilon = 1\n",
    "nepochs = 1000\n",
    "fast = true\n",
    "\n",
    "maskLayer = nn.MaskedSelect()"
   ]
  },
  {
   "cell_type": "markdown",
   "metadata": {},
   "source": [
    "# Simulating the data"
   ]
  },
  {
   "cell_type": "code",
   "execution_count": 6,
   "metadata": {
    "collapsed": false
   },
   "outputs": [],
   "source": [
    "-- Simulating streams and queries\n",
    "queries = genNbyK(n, q, a, b)\n",
    "\n",
    "-- Note that the sentences are batched by sentence index so sentences[1] is the first sentence of each article\n",
    "sentences = {}\n",
    "for i=1, n_s do\n",
    "    sentences[i] = genNbyK(n, k, a, b)\n",
    "end\n",
    "-- Optimal predicted summary\n",
    "trueSummary = torch.zeros(n, k * n_s)\n",
    "-- Using this to generate the optimal actions\n",
    "true_actions = {}\n",
    "\n",
    "for i=1, n_s do \n",
    "    ---- Simulating the data\n",
    "    trueqValues = torch.rand(n, 2)\n",
    "    \n",
    "     ---- Generating the max values and getting the indices\n",
    "    qMaxtrue, qindxtrue = torch.max(trueqValues, 2)\n",
    "    \n",
    "    --- I want to select the qindx elements for each row\n",
    "    true_actions[i] = torch.zeros(n, 2):scatter(2, qindxtrue, torch.ones(trueqValues:size()))\n",
    "    best_sentences = buildPredsummaryFast(true_actions[i], sentences[i], SELECT)\n",
    "    buildTotalSummaryFast(best_sentences, trueSummary)\n",
    "end\n",
    "\n",
    "qTokens = {}\n",
    "for i=1, n do\n",
    "    qTokens[i] = Tokenize(trueSummary[i]:totable())\n",
    "end"
   ]
  },
  {
   "cell_type": "markdown",
   "metadata": {},
   "source": [
    "# Scoring the rougue metrics on the simulation"
   ]
  },
  {
   "cell_type": "code",
   "execution_count": 7,
   "metadata": {
    "collapsed": false
   },
   "outputs": [
    {
     "data": {
      "text/plain": [
       "1\t1\t1\t\n"
      ]
     },
     "execution_count": 7,
     "metadata": {},
     "output_type": "execute_result"
    }
   ],
   "source": [
    "print(rougeScores(Tokenize(trueSummary[1]:totable()), Tokenize(trueSummary[1]:totable())))"
   ]
  },
  {
   "cell_type": "markdown",
   "metadata": {},
   "source": [
    "# Building the model"
   ]
  },
  {
   "cell_type": "code",
   "execution_count": 8,
   "metadata": {
    "collapsed": false
   },
   "outputs": [
    {
     "data": {
      "text/plain": [
       "Running LSTM model to learn f1\t\n"
      ]
     },
     "execution_count": 8,
     "metadata": {},
     "output_type": "execute_result"
    }
   ],
   "source": [
    "model = buildModel('lstm', b, embDim, 'f1', false, false)\n",
    "-- model = buildModel('bow', b, embDim, 'f1', false, false)\n",
    "\n",
    "params, gradParams = model:getParameters()\n",
    "criterion = nn.MSECriterion()\n",
    "maskLayer = nn.MaskedSelect()"
   ]
  },
  {
   "cell_type": "markdown",
   "metadata": {},
   "source": [
    "# Scoring the model on the sentences"
   ]
  },
  {
   "cell_type": "code",
   "execution_count": 9,
   "metadata": {
    "collapsed": true
   },
   "outputs": [],
   "source": [
    "nepochs = 300\n",
    "epsilon = 1\n",
    "gamma = 0\n",
    "base_explore_rate = 0.1\n",
    "cuts = 4\n",
    "delta = cuts/nepochs\n",
    "end_baserate = torch.round(nepochs * 0.8)"
   ]
  },
  {
   "cell_type": "code",
   "execution_count": 10,
   "metadata": {
    "collapsed": false,
    "scrolled": true
   },
   "outputs": [],
   "source": [
    "optimParams = { learningRate = 1e-6}\n",
    "\n",
    "totalPredsummary = {}\n",
    "qValues = {}\n",
    "qActions = {}\n",
    "qPreds = {}\n",
    "rewards = {}\n",
    "lossfull = {}\n",
    "rouguef1 = {}\n",
    "\n",
    "totalPredsummary = torch.LongTensor(n, n_s * k):fill(0)\n",
    "\n",
    "memsize = n * n_s\n",
    "queryMemory = torch.zeros(memsize, q)\n",
    "qActionMemory = torch.zeros(memsize, 2)\n",
    "predSummaryMemory = torch.zeros(memsize, n_s * k)\n",
    "sentenceMemory = torch.zeros(memsize, k)\n",
    "qPredsMemory = torch.zeros(memsize, 2)\n",
    "qValuesMemory = torch.zeros(memsize, 1)\n",
    "rewardMemory = torch.zeros(memsize, 1)\n",
    "\n",
    "--- Initializing thingss\n",
    "\n",
    "for i = 1, n_s do\n",
    "    qPreds[i] = torch.zeros(n, 2)\n",
    "    qValues[i] = torch.zeros(n, 1) \n",
    "    qActions[i] = torch.zeros(n, 2)\n",
    "    rewards[i] = torch.zeros(n, 1)\n",
    "end \n",
    "\n",
    "for epoch=1, nepochs do\n",
    "    --- Reset things at the start of each epoch\n",
    "    for i=1, n_s do\n",
    "        qPreds[i]:fill(0)\n",
    "        qValues[i]:fill(0)\n",
    "        qActions[i]:fill(0)\n",
    "        rewards[i]:fill(0)\n",
    "        totalPredsummary:fill(0)\n",
    "    end\n",
    "\n",
    "    for i=1, n_s do\n",
    "        if torch.uniform(0, 1) <= epsilon then \n",
    "            qPreds[i]:copy(torch.rand(n, 2))\n",
    "            -- Need to run a forward pass for the backward to work...wonky\n",
    "            ignore = model:forward({sentences[i], queries, totalPredsummary})\n",
    "        else \n",
    "            qPreds[i]:copy(model:forward({sentences[i], queries, totalPredsummary}) )\n",
    "        end \n",
    "        if fast then \n",
    "            qMax, qindx = torch.max(qPreds[i], 2)  -- Pulling the best actions\n",
    "            -- Here's the fast way to select the optimal action for each query\n",
    "            qActions[i]:copy(qActions[i]:scatter(2, qindx, torch.ones(qPreds[i]:size())):clone())\n",
    "            qValues[i]:copy(qMax)\n",
    "            predsummary = buildPredsummaryFast(qActions[i], sentences[i], SELECT)\n",
    "            buildTotalSummaryFast(predsummary, totalPredsummary)\n",
    "        else \n",
    "            for j=1, n do\n",
    "                if qPreds[i][j][SELECT] > qPreds[i][j][SKIP] then\n",
    "                    qActions[i][j][SELECT] = 1\n",
    "                    qValues[i][j]:fill(qPreds[i][j][SELECT])\n",
    "                else\n",
    "                    qActions[i][j][SKIP] = 1\n",
    "                    qValues[i][j]:fill(qPreds[i][j][SKIP])\n",
    "                end\n",
    "            end\n",
    "            predsummary = buildPredsummary(qActions[i], sentences[i], SELECT)\n",
    "            buildTotalSummary(predsummary, totalPredsummary)\n",
    "        end\n",
    "        for j = 1, n do\n",
    "            recall, prec, f1 = rougeScores( qTokens[j],\n",
    "                                            Tokenize(totalPredsummary[j]:totable()))\n",
    "            rewards[i][j]:fill(f1)\n",
    "        end\n",
    "        if i > 1 then\n",
    "            -- Calculating change in rougue f1\n",
    "            rewards[i]:copy(rewards[i] - rewards[i-1])\n",
    "        end\n",
    "        -- Update memory sequentially until it's full \n",
    "        qActionMemory[{{n * (i-1) + 1, n * i}}]:copy(qActions[i])\n",
    "        predSummaryMemory[{{n * (i-1) + 1, n * i}}]:copy(totalPredsummary)\n",
    "        sentenceMemory[{{n * (i-1) + 1, n * i}}]:copy(sentences[i])\n",
    "        qPredsMemory[{{n * (i-1) + 1, n * i}}]:copy(qPreds[i])\n",
    "        qValuesMemory[{{n * (i-1) + 1, n * i}}]:copy(qValues[i])\n",
    "        queryMemory[{{n * (i-1) + 1, n * i}}]:copy(queries)\n",
    "    end\n",
    "    for i=1, n_s do\n",
    "        if i  < n_s then\n",
    "            rewardMemory[{{n * (i-1) + 1, n * i}}]:copy(rewards[i] + gamma * rewards[i + 1] )\n",
    "        else\n",
    "            rewardMemory[{{n * (i-1) + 1, n * i}}]:copy(rewards[i] )\n",
    "        end\n",
    "    end\n",
    "    -- Adding back the delta for the last one\n",
    "    rouguef1[epoch] = (rewards[n_s] + rewards[ n_s - 1] ):mean()\n",
    "\n",
    "    loss = {}\n",
    "    local dataloader = dl.TensorLoader({queryMemory, sentenceMemory, predSummaryMemory, \n",
    "                            qPredsMemory, qActionMemory, qValuesMemory}, rewardMemory)\n",
    "    c = 1\n",
    "    for k, xin, reward in dataloader:sampleiter(batch_size, memsize) do\n",
    "        local function feval(params)\n",
    "            gradParams:zero()\n",
    "            if adapt then\n",
    "                local ignore = model:forward({xin[1], xin[2], xin[3]})\n",
    "                local predQOnActions = maskLayer:forward({qPredsMemory, actions_in}) \n",
    "                local ones = torch.ones(predQ:size(1)):resize(predQ:size(1))\n",
    "                lossf = criterion:forward({qValuesMemory, predReg}, {reward, ones})\n",
    "                local gradOutput = criterion:backward({qActionMemory, predReg}, {reward, ones})\n",
    "                local gradMaskLayer = maskLayer:backward({qPredsMemory, qActionMemory}, gradOutput[1])\n",
    "                model:backward({xin[1], xin[2], xin[3]}, {gradMaskLayer[1], gradOutput[2]})\n",
    "            else \n",
    "                local ignore = model:forward({xin[1], xin[2], xin[3]})\n",
    "                local predQOnActions = maskLayer:forward({xin[4], xin[5]:byte()}) \n",
    "                lossf = criterion:forward(predQOnActions, reward)\n",
    "                local gradOutput = criterion:backward(predQOnActions, reward)\n",
    "                local gradMaskLayer = maskLayer:backward({xin[4], xin[5]:byte()}, gradOutput)\n",
    "                model:backward({xin[1], xin[2], xin[3]}, gradMaskLayer[1])\n",
    "            end \n",
    "            return lossf, gradParams\n",
    "        end\n",
    "        --- optim.rmsprop returns \\theta, f(\\theta):= loss function\n",
    "         _, lossv  = optim.rmsprop(feval, params, optimParams)\n",
    "        loss[c] = lossv[1]\n",
    "        c = c + 1\n",
    "    end\n",
    "\n",
    "    lossfull[epoch] = torch.Tensor(loss):sum() / #lossv\n",
    "    if print_perf then\n",
    "        print(\n",
    "            string.format('epoch = %i; rougue = %.6f; epsilon = %.6f; loss = %.6f' , \n",
    "                epoch, rouguef1[epoch], epsilon, lossfull[epoch])\n",
    "            )\n",
    "    end\n",
    "\n",
    "    if (epsilon - delta) <= base_explore_rate then\n",
    "        epsilon = base_explore_rate\n",
    "        if epoch > end_baserate then \n",
    "            base_explore_rate = 0.\n",
    "        end\n",
    "    else \n",
    "        epsilon = epsilon - delta\n",
    "    end\n",
    "    \n",
    "end"
   ]
  },
  {
   "cell_type": "code",
   "execution_count": 21,
   "metadata": {
    "collapsed": false
   },
   "outputs": [
    {
     "data": {
      "text/html": [
       "<script type=\"text/javascript\">\n",
       "$(function() {\n",
       "    if (typeof (window._bokeh_onload_callbacks) === \"undefined\"){\n",
       "  window._bokeh_onload_callbacks = [];\n",
       "    }\n",
       "    function load_lib(url, callback){\n",
       "  window._bokeh_onload_callbacks.push(callback);\n",
       "  if (window._bokeh_is_loading){\n",
       "      console.log(\"Bokeh: BokehJS is being loaded, scheduling callback at\", new Date());\n",
       "      return null;\n",
       "  }\n",
       "  console.log(\"Bokeh: BokehJS not loaded, scheduling load and callback at\", new Date());\n",
       "  window._bokeh_is_loading = true;\n",
       "  var s = document.createElement('script');\n",
       "  s.src = url;\n",
       "  s.async = true;\n",
       "  s.onreadystatechange = s.onload = function(){\n",
       "      Bokeh.embed.inject_css(\"https://cdn.pydata.org/bokeh-0.7.0.min.css\");\n",
       "      window._bokeh_onload_callbacks.forEach(function(callback){callback()});\n",
       "  };\n",
       "  s.onerror = function(){\n",
       "      console.warn(\"failed to load library \" + url);\n",
       "  };\n",
       "  document.getElementsByTagName(\"head\")[0].appendChild(s);\n",
       "    }\n",
       "\n",
       "    bokehjs_url = \"https://cdn.pydata.org/bokeh-0.7.0.min.js\"\n",
       "\n",
       "    var elt = document.getElementById(\"621fe168-14ef-4273-c28b-8b87a11b42a0\");\n",
       "    if(elt==null) {\n",
       "  console.log(\"Bokeh: ERROR: autoload.js configured with elementid '621fe168-14ef-4273-c28b-8b87a11b42a0'\"\n",
       "        + \"but no matching script tag was found. \")\n",
       "  return false;\n",
       "    }\n",
       "\n",
       "    if(typeof(Bokeh) !== \"undefined\") {\n",
       "  console.log(\"Bokeh: BokehJS loaded, going straight to plotting\");\n",
       "  var modelid = \"3efc495f-e3c2-448d-c46e-43fafc3c538e\";\n",
       "  var modeltype = \"Plot\";\n",
       "  var all_models = [{\"id\":\"a2845367-8bc9-4a0d-cab4-c2a59b2b0972\",\"type\":\"ColumnDataSource\",\"attributes\":{\"data\":{\"y\":[0.52225028839911,0.39700672289733,0.32171640564691,0.51477150089095,0.28279624346299,0.30375859282723,0.57768007593708,0.27721261802575,0.25522858326664,0.34533300435781,0.29103203595918,0.42115354185334,0.49096449733812,0.23584334089712,0.37377915813231,0.37123257414469,0.29786527419805,0.3604756169852,0.44800620501973,0.18205496533022,0.43503416329165,0.47042722470863,0.27196727663735,0.36783510241308,0.18162062697369,0.36482557355179,0.14966057620129,0.26282732034566,0.2645085046385,0.67977231395172,0.13053378788545,0.28581306466794,0.30549515966277,0.24327953442149,0.31410374816953,0.42107257537996,0.47386115213332,0.089906530735257,0.35927983865777,0.2072625133532,0.22973682091252,0.087776666204933,0.10578709471205,0.17043611905456,0.26138375723381,0.053073753709404,0.031356852247622,0.089136852528272,0.0809221826801,0.18388172573513,0.19244046056935,0.045504474115399,0.078245161604083,0.36321318774291,0.23456912913049,0.16052367662543,0.083120397097825,0.11875977327264,0.20724826770746,0.41106884101582,0.082129159260171,0.16766797764114,0.054173909383085,0.17813930658591,0.0452248323395,0.081234728532499,0.076636483427993,0.2534506336197,0.10753764048166,0.40841745268133,0.28354186830408,0.070443825422977,0.050593598103373,0.073212732109139,0.065788173090179,0.055388537034917,0.10389724453917,0.36113164119895,0.18202986405543,0.082289834458525,0.065483088704427,0.090163993838278,0.10031528538204,0.16706468686782,0.059472597174859,0.08187419177385,0.11357437882118,0.057522525383294,0.088141580959971,0.1228115796712,0.1132952327035,0.047377324139536,0.14723491839909,0.13396140373038,0.095956900126366,0.070625844543653,0.087144754045657,0.10552470862875,0.10280410438331,0.08079698602558,0.083690201320183,0.08214834029234,0.067152373247085,0.19961938309455,0.14114592306955,0.061295425449821,0.046794158130295,0.16161588557338,0.083178938614986,0.23059783668384,0.1900912436228,0.12753374057112,0.090370865266369,0.49058130202017,0.063592456914527,0.052376098315871,0.10614401858538,0.06541016116923,0.14358309473535,0.093060961139468,0.11076317223353,0.075787744045129,0.10098032868902,0.14457674338036,0.097743308410725,0.064476577655735,0.061984535558165,0.06743555501699,0.063366812795528,0.078875315980051,0.10668501315029,0.11333408238354,0.093715744935629,0.15755609286246,0.051487115162194,0.066776208911152,0.0405893909256,0.15559357309856,0.11318883388482,0.090833037624948,0.072944036374872,0.06445004375663,0.079538536794235,0.29627733990271,0.088750111091205,0.094360149363961,0.074337606608257,0.1162195543081,0.037350715980891,0.097402760398162,0.05321054760958,0.062919708549001,0.077213459700556,0.054524222773771,0.34192295205975,0.093216097785204,0.45256278314645,0.078652296181601,0.080884794458578,0.17705047277087,0.088701202593959,0.047512289115858,0.085723607450373,0.081041705940983,0.072727968883905,0.14969864382644,0.097740861218308,0.57959246811692,0.055161852531926,0.1807881777299,0.081337581015157,0.095439133874912,0.27574176296525,0.096202220132173,0.093608278608253,0.098917267983192,0.056023385076116,0.053201160141575,0.22202044373263,0.07623151101573,0.10755060277675,0.063588221284241,0.10202065777514,0.090326622694886,0.11955978528382,0.048918274784121,0.15827268220721,0.07898309668678,0.091658827894021,0.173227418371,0.17443444308283,0.077263846772104,0.097045794633371,0.091677336008136,0.097876535457615,0.10909669100677,0.097680788099565,0.083374066070904,0.14549117864498,0.061821291978022,0.067648738594029,0.20185044817242,0.19241764941486,0.084920597298878,0.084392483744058,0.074302459314364,0.099065812963543,0.086962139715343,0.06011801941277,0.10183357830824,0.091742900622611,0.072719813525785,0.081028974096176,0.13320544392732,0.16345643591716,0.080509073854448,0.10229830873467,0.08373190908488,0.10020704240268,0.049666425249956,0.17742104124917,0.17945498966693,0.06960094983717,0.0608862038295,0.09720982572581,0.15964357360403,0.052512254473541,0.081036787460368,0.091090739746283,0.15206780071926,0.075972373697087,0.20124476396292,0.13809819803116,0.075938278476773,0.14986933385057,0.10253686858515,0.091966910463153,0.070792390980484,0.16092952692214,0.10592966239379,0.10973939275912,0.072596932819538,0.071848708929016,0.1065800453557,0.063193594287789,0.074194874195955,0.086170491857985,0.10470564056493,0.079104711090457,0.096322889286733,0.041564968681301,0.11112563411336,0.077214865138312,0.11008747092258,0.091701773886955,0.093841561520441,0.083831856072154,0.079353650980571,0.095509057622595,0.086079712540309,0.070580548672293,0.079690330984129,0.084554210896472,0.08059932390363,0.078697900168651,0.088206443748619,0.12209591423748,0.061716469590506,0.069876242310787,0.10123845289279,0.087161639738329,0.096115928748428,0.093614936259351,0.077648854692759,0.088370451195337,0.10045151574409,0.10452132923192,0.13055049027859,0.057936796588726,0.065588684836643,0.10931203062934,0.086879807814923,0.10505108004395,0.074759372163642,0.095903450440172,0.096647720164927,0.046939769810798,0.074377779428173,0.066339817542659,0.095176416133756,0.061500050860557,0.052650298990871,0.12347423794215,0.07426912449191,0.071347503686065,0.10247807708424,0.087736672410754,0.090283243028813,0.1104246228168,0.078701707022263],\"x\":[1,2,3,4,5,6,7,8,9,10,11,12,13,14,15,16,17,18,19,20,21,22,23,24,25,26,27,28,29,30,31,32,33,34,35,36,37,38,39,40,41,42,43,44,45,46,47,48,49,50,51,52,53,54,55,56,57,58,59,60,61,62,63,64,65,66,67,68,69,70,71,72,73,74,75,76,77,78,79,80,81,82,83,84,85,86,87,88,89,90,91,92,93,94,95,96,97,98,99,100,101,102,103,104,105,106,107,108,109,110,111,112,113,114,115,116,117,118,119,120,121,122,123,124,125,126,127,128,129,130,131,132,133,134,135,136,137,138,139,140,141,142,143,144,145,146,147,148,149,150,151,152,153,154,155,156,157,158,159,160,161,162,163,164,165,166,167,168,169,170,171,172,173,174,175,176,177,178,179,180,181,182,183,184,185,186,187,188,189,190,191,192,193,194,195,196,197,198,199,200,201,202,203,204,205,206,207,208,209,210,211,212,213,214,215,216,217,218,219,220,221,222,223,224,225,226,227,228,229,230,231,232,233,234,235,236,237,238,239,240,241,242,243,244,245,246,247,248,249,250,251,252,253,254,255,256,257,258,259,260,261,262,263,264,265,266,267,268,269,270,271,272,273,274,275,276,277,278,279,280,281,282,283,284,285,286,287,288,289,290,291,292,293,294,295,296,297,298,299,300]},\"column_names\":[\"y\",\"x\"],\"cont_ranges\":{},\"discrete_ranges\":{},\"selected\":[],\"id\":\"a2845367-8bc9-4a0d-cab4-c2a59b2b0972\",\"doc\":null,\"tags\":[]}},{\"id\":\"a04ed1b4-3c62-4b65-cbb4-c3d180329b66\",\"type\":\"Line\",\"attributes\":{\"fill_alpha\":{\"units\":\"data\",\"value\":0.2},\"line_alpha\":{\"units\":\"data\",\"value\":1},\"doc\":null,\"size\":{\"units\":\"screen\",\"value\":10},\"fill_color\":{\"value\":\"red\"},\"line_color\":{\"value\":\"red\"},\"x\":{\"units\":\"data\",\"field\":\"x\"},\"id\":\"a04ed1b4-3c62-4b65-cbb4-c3d180329b66\",\"y\":{\"units\":\"data\",\"field\":\"y\"},\"tags\":[]}},{\"id\":\"77eec186-0054-431c-c372-a14b085461d5\",\"type\":\"Line\",\"attributes\":{\"fill_alpha\":{\"units\":\"data\",\"value\":0.2},\"line_alpha\":{\"units\":\"data\",\"value\":1},\"doc\":null,\"size\":{\"units\":\"screen\",\"value\":10},\"fill_color\":{\"value\":\"red\"},\"line_color\":{\"value\":\"red\"},\"x\":{\"units\":\"data\",\"field\":\"x\"},\"id\":\"77eec186-0054-431c-c372-a14b085461d5\",\"y\":{\"units\":\"data\",\"field\":\"y\"},\"tags\":[]}},{\"id\":\"5a5b9abf-c699-4165-c113-4182642f97d5\",\"type\":\"GlyphRenderer\",\"attributes\":{\"name\":null,\"nonselection_glyph\":{\"type\":\"Line\",\"id\":\"77eec186-0054-431c-c372-a14b085461d5\"},\"doc\":null,\"server_data_source\":null,\"data_source\":{\"type\":\"ColumnDataSource\",\"id\":\"a2845367-8bc9-4a0d-cab4-c2a59b2b0972\"},\"glyph\":{\"type\":\"Line\",\"id\":\"a04ed1b4-3c62-4b65-cbb4-c3d180329b66\"},\"selection_glyph\":null,\"id\":\"5a5b9abf-c699-4165-c113-4182642f97d5\",\"tags\":[]}},{\"id\":\"595acf0b-a9ae-4013-c05d-28642b4958df\",\"type\":\"DataRange1d\",\"attributes\":{\"sources\":[{\"columns\":[\"x\"],\"source\":{\"type\":\"ColumnDataSource\",\"id\":\"a2845367-8bc9-4a0d-cab4-c2a59b2b0972\"}}],\"id\":\"595acf0b-a9ae-4013-c05d-28642b4958df\",\"tags\":[],\"doc\":null}},{\"id\":\"e9c556fc-44be-4b94-cb22-6242330a5b29\",\"type\":\"DataRange1d\",\"attributes\":{\"sources\":[{\"columns\":[\"y\"],\"source\":{\"type\":\"ColumnDataSource\",\"id\":\"a2845367-8bc9-4a0d-cab4-c2a59b2b0972\"}}],\"id\":\"e9c556fc-44be-4b94-cb22-6242330a5b29\",\"tags\":[],\"doc\":null}},{\"id\":\"63cdae29-d8e5-4d25-cd6f-c002c1bdd632\",\"type\":\"ToolEvents\",\"attributes\":{\"tags\":[],\"id\":\"63cdae29-d8e5-4d25-cd6f-c002c1bdd632\",\"geometries\":[],\"doc\":null}},{\"id\":\"879eedd4-3204-4e47-ce4f-e4eee7874098\",\"type\":\"BasicTickFormatter\",\"attributes\":{\"id\":\"879eedd4-3204-4e47-ce4f-e4eee7874098\",\"tags\":[],\"doc\":null}},{\"id\":\"d912b050-9b49-47dd-c708-a95a55d6bb2b\",\"type\":\"BasicTicker\",\"attributes\":{\"num_minor_ticks\":5,\"id\":\"d912b050-9b49-47dd-c708-a95a55d6bb2b\",\"tags\":[],\"doc\":null}},{\"id\":\"83cf6174-83d8-4560-c54d-eeb4c0590d89\",\"type\":\"LinearAxis\",\"attributes\":{\"formatter\":{\"type\":\"BasicTickFormatter\",\"id\":\"879eedd4-3204-4e47-ce4f-e4eee7874098\"},\"ticker\":{\"type\":\"BasicTicker\",\"id\":\"d912b050-9b49-47dd-c708-a95a55d6bb2b\"},\"plot\":{\"id\":\"3efc495f-e3c2-448d-c46e-43fafc3c538e\",\"type\":\"Plot\",\"subtype\":\"Figure\"},\"axis_label\":null,\"id\":\"83cf6174-83d8-4560-c54d-eeb4c0590d89\",\"doc\":null,\"tags\":[]}},{\"id\":\"c3e338b3-6705-46a9-c67d-b37158e63e27\",\"type\":\"Grid\",\"attributes\":{\"dimension\":0,\"plot\":{\"id\":\"3efc495f-e3c2-448d-c46e-43fafc3c538e\",\"type\":\"Plot\",\"subtype\":\"Figure\"},\"ticker\":{\"type\":\"BasicTicker\",\"id\":\"d912b050-9b49-47dd-c708-a95a55d6bb2b\"},\"id\":\"c3e338b3-6705-46a9-c67d-b37158e63e27\",\"doc\":null,\"tags\":[]}},{\"id\":\"84082131-4e92-4dae-cd99-46d07a0861bd\",\"type\":\"BasicTickFormatter\",\"attributes\":{\"id\":\"84082131-4e92-4dae-cd99-46d07a0861bd\",\"tags\":[],\"doc\":null}},{\"id\":\"3b2ab9be-6086-4d96-cd0b-29e168a85086\",\"type\":\"BasicTicker\",\"attributes\":{\"num_minor_ticks\":5,\"id\":\"3b2ab9be-6086-4d96-cd0b-29e168a85086\",\"tags\":[],\"doc\":null}},{\"id\":\"d5b747fd-daeb-4556-c591-a030e515e25b\",\"type\":\"LinearAxis\",\"attributes\":{\"formatter\":{\"type\":\"BasicTickFormatter\",\"id\":\"84082131-4e92-4dae-cd99-46d07a0861bd\"},\"ticker\":{\"type\":\"BasicTicker\",\"id\":\"3b2ab9be-6086-4d96-cd0b-29e168a85086\"},\"plot\":{\"id\":\"3efc495f-e3c2-448d-c46e-43fafc3c538e\",\"type\":\"Plot\",\"subtype\":\"Figure\"},\"axis_label\":null,\"id\":\"d5b747fd-daeb-4556-c591-a030e515e25b\",\"doc\":null,\"tags\":[]}},{\"id\":\"69164ef6-6c17-4715-c721-37c02b62bef0\",\"type\":\"Grid\",\"attributes\":{\"dimension\":1,\"plot\":{\"id\":\"3efc495f-e3c2-448d-c46e-43fafc3c538e\",\"type\":\"Plot\",\"subtype\":\"Figure\"},\"ticker\":{\"type\":\"BasicTicker\",\"id\":\"3b2ab9be-6086-4d96-cd0b-29e168a85086\"},\"id\":\"69164ef6-6c17-4715-c721-37c02b62bef0\",\"doc\":null,\"tags\":[]}},{\"id\":\"5ca795bb-e696-4f46-cf25-a9f5564f16c4\",\"type\":\"PanTool\",\"attributes\":{\"plot\":{\"id\":\"3efc495f-e3c2-448d-c46e-43fafc3c538e\",\"type\":\"Plot\",\"subtype\":\"Figure\"},\"dimensions\":[\"width\",\"height\"],\"id\":\"5ca795bb-e696-4f46-cf25-a9f5564f16c4\",\"doc\":null,\"tags\":[]}},{\"id\":\"dead1311-a44a-466b-c6df-2e448c3ddfb8\",\"type\":\"WheelZoomTool\",\"attributes\":{\"plot\":{\"id\":\"3efc495f-e3c2-448d-c46e-43fafc3c538e\",\"type\":\"Plot\",\"subtype\":\"Figure\"},\"dimensions\":[\"width\",\"height\"],\"id\":\"dead1311-a44a-466b-c6df-2e448c3ddfb8\",\"doc\":null,\"tags\":[]}},{\"id\":\"68f2fcf8-32da-40e7-c0d0-7a2a27313279\",\"type\":\"BoxZoomTool\",\"attributes\":{\"plot\":{\"id\":\"3efc495f-e3c2-448d-c46e-43fafc3c538e\",\"type\":\"Plot\",\"subtype\":\"Figure\"},\"id\":\"68f2fcf8-32da-40e7-c0d0-7a2a27313279\",\"tags\":[],\"doc\":null}},{\"id\":\"5a378944-7b3c-4520-c586-07b43985377b\",\"type\":\"PreviewSaveTool\",\"attributes\":{\"plot\":{\"id\":\"3efc495f-e3c2-448d-c46e-43fafc3c538e\",\"type\":\"Plot\",\"subtype\":\"Figure\"},\"id\":\"5a378944-7b3c-4520-c586-07b43985377b\",\"tags\":[],\"doc\":null}},{\"id\":\"374867bb-f5ed-4c03-cc94-c879f6a8e7fd\",\"type\":\"ResizeTool\",\"attributes\":{\"plot\":{\"id\":\"3efc495f-e3c2-448d-c46e-43fafc3c538e\",\"type\":\"Plot\",\"subtype\":\"Figure\"},\"id\":\"374867bb-f5ed-4c03-cc94-c879f6a8e7fd\",\"tags\":[],\"doc\":null}},{\"id\":\"e25517cd-3e4d-4ec9-ce13-b140731388c2\",\"type\":\"ResetTool\",\"attributes\":{\"plot\":{\"id\":\"3efc495f-e3c2-448d-c46e-43fafc3c538e\",\"type\":\"Plot\",\"subtype\":\"Figure\"},\"id\":\"e25517cd-3e4d-4ec9-ce13-b140731388c2\",\"tags\":[],\"doc\":null}},{\"id\":\"3efc495f-e3c2-448d-c46e-43fafc3c538e\",\"type\":\"Plot\",\"attributes\":{\"x_range\":{\"type\":\"DataRange1d\",\"id\":\"595acf0b-a9ae-4013-c05d-28642b4958df\"},\"tool_events\":{\"type\":\"ToolEvents\",\"id\":\"63cdae29-d8e5-4d25-cd6f-c002c1bdd632\"},\"below\":[{\"type\":\"LinearAxis\",\"id\":\"83cf6174-83d8-4560-c54d-eeb4c0590d89\"}],\"renderers\":[{\"type\":\"GlyphRenderer\",\"id\":\"5a5b9abf-c699-4165-c113-4182642f97d5\"},{\"type\":\"LinearAxis\",\"id\":\"83cf6174-83d8-4560-c54d-eeb4c0590d89\"},{\"type\":\"Grid\",\"id\":\"c3e338b3-6705-46a9-c67d-b37158e63e27\"},{\"type\":\"LinearAxis\",\"id\":\"d5b747fd-daeb-4556-c591-a030e515e25b\"},{\"type\":\"Grid\",\"id\":\"69164ef6-6c17-4715-c721-37c02b62bef0\"}],\"above\":[],\"tools\":[{\"type\":\"PanTool\",\"id\":\"5ca795bb-e696-4f46-cf25-a9f5564f16c4\"},{\"type\":\"WheelZoomTool\",\"id\":\"dead1311-a44a-466b-c6df-2e448c3ddfb8\"},{\"type\":\"BoxZoomTool\",\"id\":\"68f2fcf8-32da-40e7-c0d0-7a2a27313279\"},{\"type\":\"PreviewSaveTool\",\"id\":\"5a378944-7b3c-4520-c586-07b43985377b\"},{\"type\":\"ResizeTool\",\"id\":\"374867bb-f5ed-4c03-cc94-c879f6a8e7fd\"},{\"type\":\"ResetTool\",\"id\":\"e25517cd-3e4d-4ec9-ce13-b140731388c2\"}],\"doc\":null,\"right\":[],\"title\":\"Plot of loss\",\"extra_x_ranges\":{},\"left\":[{\"type\":\"LinearAxis\",\"id\":\"d5b747fd-daeb-4556-c591-a030e515e25b\"}],\"y_range\":{\"type\":\"DataRange1d\",\"id\":\"e9c556fc-44be-4b94-cb22-6242330a5b29\"},\"id\":\"3efc495f-e3c2-448d-c46e-43fafc3c538e\",\"extra_y_ranges\":{},\"tags\":[]}}];\n",
       "  Bokeh.load_models(all_models);\n",
       "  var model = Bokeh.Collections(modeltype).get(modelid);\n",
       "  $(\"#621fe168-14ef-4273-c28b-8b87a11b42a0\").html(''); // clear any previous plot in window_id\n",
       "  var view = new model.default_view({model: model, el: \"#621fe168-14ef-4273-c28b-8b87a11b42a0\"});\n",
       "    } else {\n",
       "  load_lib(bokehjs_url, function() {\n",
       "      console.log(\"Bokeh: BokehJS plotting callback run at\", new Date())\n",
       "      var modelid = \"3efc495f-e3c2-448d-c46e-43fafc3c538e\";\n",
       "      var modeltype = \"Plot\";\n",
       "      var all_models = [{\"id\":\"a2845367-8bc9-4a0d-cab4-c2a59b2b0972\",\"type\":\"ColumnDataSource\",\"attributes\":{\"data\":{\"y\":[0.52225028839911,0.39700672289733,0.32171640564691,0.51477150089095,0.28279624346299,0.30375859282723,0.57768007593708,0.27721261802575,0.25522858326664,0.34533300435781,0.29103203595918,0.42115354185334,0.49096449733812,0.23584334089712,0.37377915813231,0.37123257414469,0.29786527419805,0.3604756169852,0.44800620501973,0.18205496533022,0.43503416329165,0.47042722470863,0.27196727663735,0.36783510241308,0.18162062697369,0.36482557355179,0.14966057620129,0.26282732034566,0.2645085046385,0.67977231395172,0.13053378788545,0.28581306466794,0.30549515966277,0.24327953442149,0.31410374816953,0.42107257537996,0.47386115213332,0.089906530735257,0.35927983865777,0.2072625133532,0.22973682091252,0.087776666204933,0.10578709471205,0.17043611905456,0.26138375723381,0.053073753709404,0.031356852247622,0.089136852528272,0.0809221826801,0.18388172573513,0.19244046056935,0.045504474115399,0.078245161604083,0.36321318774291,0.23456912913049,0.16052367662543,0.083120397097825,0.11875977327264,0.20724826770746,0.41106884101582,0.082129159260171,0.16766797764114,0.054173909383085,0.17813930658591,0.0452248323395,0.081234728532499,0.076636483427993,0.2534506336197,0.10753764048166,0.40841745268133,0.28354186830408,0.070443825422977,0.050593598103373,0.073212732109139,0.065788173090179,0.055388537034917,0.10389724453917,0.36113164119895,0.18202986405543,0.082289834458525,0.065483088704427,0.090163993838278,0.10031528538204,0.16706468686782,0.059472597174859,0.08187419177385,0.11357437882118,0.057522525383294,0.088141580959971,0.1228115796712,0.1132952327035,0.047377324139536,0.14723491839909,0.13396140373038,0.095956900126366,0.070625844543653,0.087144754045657,0.10552470862875,0.10280410438331,0.08079698602558,0.083690201320183,0.08214834029234,0.067152373247085,0.19961938309455,0.14114592306955,0.061295425449821,0.046794158130295,0.16161588557338,0.083178938614986,0.23059783668384,0.1900912436228,0.12753374057112,0.090370865266369,0.49058130202017,0.063592456914527,0.052376098315871,0.10614401858538,0.06541016116923,0.14358309473535,0.093060961139468,0.11076317223353,0.075787744045129,0.10098032868902,0.14457674338036,0.097743308410725,0.064476577655735,0.061984535558165,0.06743555501699,0.063366812795528,0.078875315980051,0.10668501315029,0.11333408238354,0.093715744935629,0.15755609286246,0.051487115162194,0.066776208911152,0.0405893909256,0.15559357309856,0.11318883388482,0.090833037624948,0.072944036374872,0.06445004375663,0.079538536794235,0.29627733990271,0.088750111091205,0.094360149363961,0.074337606608257,0.1162195543081,0.037350715980891,0.097402760398162,0.05321054760958,0.062919708549001,0.077213459700556,0.054524222773771,0.34192295205975,0.093216097785204,0.45256278314645,0.078652296181601,0.080884794458578,0.17705047277087,0.088701202593959,0.047512289115858,0.085723607450373,0.081041705940983,0.072727968883905,0.14969864382644,0.097740861218308,0.57959246811692,0.055161852531926,0.1807881777299,0.081337581015157,0.095439133874912,0.27574176296525,0.096202220132173,0.093608278608253,0.098917267983192,0.056023385076116,0.053201160141575,0.22202044373263,0.07623151101573,0.10755060277675,0.063588221284241,0.10202065777514,0.090326622694886,0.11955978528382,0.048918274784121,0.15827268220721,0.07898309668678,0.091658827894021,0.173227418371,0.17443444308283,0.077263846772104,0.097045794633371,0.091677336008136,0.097876535457615,0.10909669100677,0.097680788099565,0.083374066070904,0.14549117864498,0.061821291978022,0.067648738594029,0.20185044817242,0.19241764941486,0.084920597298878,0.084392483744058,0.074302459314364,0.099065812963543,0.086962139715343,0.06011801941277,0.10183357830824,0.091742900622611,0.072719813525785,0.081028974096176,0.13320544392732,0.16345643591716,0.080509073854448,0.10229830873467,0.08373190908488,0.10020704240268,0.049666425249956,0.17742104124917,0.17945498966693,0.06960094983717,0.0608862038295,0.09720982572581,0.15964357360403,0.052512254473541,0.081036787460368,0.091090739746283,0.15206780071926,0.075972373697087,0.20124476396292,0.13809819803116,0.075938278476773,0.14986933385057,0.10253686858515,0.091966910463153,0.070792390980484,0.16092952692214,0.10592966239379,0.10973939275912,0.072596932819538,0.071848708929016,0.1065800453557,0.063193594287789,0.074194874195955,0.086170491857985,0.10470564056493,0.079104711090457,0.096322889286733,0.041564968681301,0.11112563411336,0.077214865138312,0.11008747092258,0.091701773886955,0.093841561520441,0.083831856072154,0.079353650980571,0.095509057622595,0.086079712540309,0.070580548672293,0.079690330984129,0.084554210896472,0.08059932390363,0.078697900168651,0.088206443748619,0.12209591423748,0.061716469590506,0.069876242310787,0.10123845289279,0.087161639738329,0.096115928748428,0.093614936259351,0.077648854692759,0.088370451195337,0.10045151574409,0.10452132923192,0.13055049027859,0.057936796588726,0.065588684836643,0.10931203062934,0.086879807814923,0.10505108004395,0.074759372163642,0.095903450440172,0.096647720164927,0.046939769810798,0.074377779428173,0.066339817542659,0.095176416133756,0.061500050860557,0.052650298990871,0.12347423794215,0.07426912449191,0.071347503686065,0.10247807708424,0.087736672410754,0.090283243028813,0.1104246228168,0.078701707022263],\"x\":[1,2,3,4,5,6,7,8,9,10,11,12,13,14,15,16,17,18,19,20,21,22,23,24,25,26,27,28,29,30,31,32,33,34,35,36,37,38,39,40,41,42,43,44,45,46,47,48,49,50,51,52,53,54,55,56,57,58,59,60,61,62,63,64,65,66,67,68,69,70,71,72,73,74,75,76,77,78,79,80,81,82,83,84,85,86,87,88,89,90,91,92,93,94,95,96,97,98,99,100,101,102,103,104,105,106,107,108,109,110,111,112,113,114,115,116,117,118,119,120,121,122,123,124,125,126,127,128,129,130,131,132,133,134,135,136,137,138,139,140,141,142,143,144,145,146,147,148,149,150,151,152,153,154,155,156,157,158,159,160,161,162,163,164,165,166,167,168,169,170,171,172,173,174,175,176,177,178,179,180,181,182,183,184,185,186,187,188,189,190,191,192,193,194,195,196,197,198,199,200,201,202,203,204,205,206,207,208,209,210,211,212,213,214,215,216,217,218,219,220,221,222,223,224,225,226,227,228,229,230,231,232,233,234,235,236,237,238,239,240,241,242,243,244,245,246,247,248,249,250,251,252,253,254,255,256,257,258,259,260,261,262,263,264,265,266,267,268,269,270,271,272,273,274,275,276,277,278,279,280,281,282,283,284,285,286,287,288,289,290,291,292,293,294,295,296,297,298,299,300]},\"column_names\":[\"y\",\"x\"],\"cont_ranges\":{},\"discrete_ranges\":{},\"selected\":[],\"id\":\"a2845367-8bc9-4a0d-cab4-c2a59b2b0972\",\"doc\":null,\"tags\":[]}},{\"id\":\"a04ed1b4-3c62-4b65-cbb4-c3d180329b66\",\"type\":\"Line\",\"attributes\":{\"fill_alpha\":{\"units\":\"data\",\"value\":0.2},\"line_alpha\":{\"units\":\"data\",\"value\":1},\"doc\":null,\"size\":{\"units\":\"screen\",\"value\":10},\"fill_color\":{\"value\":\"red\"},\"line_color\":{\"value\":\"red\"},\"x\":{\"units\":\"data\",\"field\":\"x\"},\"id\":\"a04ed1b4-3c62-4b65-cbb4-c3d180329b66\",\"y\":{\"units\":\"data\",\"field\":\"y\"},\"tags\":[]}},{\"id\":\"77eec186-0054-431c-c372-a14b085461d5\",\"type\":\"Line\",\"attributes\":{\"fill_alpha\":{\"units\":\"data\",\"value\":0.2},\"line_alpha\":{\"units\":\"data\",\"value\":1},\"doc\":null,\"size\":{\"units\":\"screen\",\"value\":10},\"fill_color\":{\"value\":\"red\"},\"line_color\":{\"value\":\"red\"},\"x\":{\"units\":\"data\",\"field\":\"x\"},\"id\":\"77eec186-0054-431c-c372-a14b085461d5\",\"y\":{\"units\":\"data\",\"field\":\"y\"},\"tags\":[]}},{\"id\":\"5a5b9abf-c699-4165-c113-4182642f97d5\",\"type\":\"GlyphRenderer\",\"attributes\":{\"name\":null,\"nonselection_glyph\":{\"type\":\"Line\",\"id\":\"77eec186-0054-431c-c372-a14b085461d5\"},\"doc\":null,\"server_data_source\":null,\"data_source\":{\"type\":\"ColumnDataSource\",\"id\":\"a2845367-8bc9-4a0d-cab4-c2a59b2b0972\"},\"glyph\":{\"type\":\"Line\",\"id\":\"a04ed1b4-3c62-4b65-cbb4-c3d180329b66\"},\"selection_glyph\":null,\"id\":\"5a5b9abf-c699-4165-c113-4182642f97d5\",\"tags\":[]}},{\"id\":\"595acf0b-a9ae-4013-c05d-28642b4958df\",\"type\":\"DataRange1d\",\"attributes\":{\"sources\":[{\"columns\":[\"x\"],\"source\":{\"type\":\"ColumnDataSource\",\"id\":\"a2845367-8bc9-4a0d-cab4-c2a59b2b0972\"}}],\"id\":\"595acf0b-a9ae-4013-c05d-28642b4958df\",\"tags\":[],\"doc\":null}},{\"id\":\"e9c556fc-44be-4b94-cb22-6242330a5b29\",\"type\":\"DataRange1d\",\"attributes\":{\"sources\":[{\"columns\":[\"y\"],\"source\":{\"type\":\"ColumnDataSource\",\"id\":\"a2845367-8bc9-4a0d-cab4-c2a59b2b0972\"}}],\"id\":\"e9c556fc-44be-4b94-cb22-6242330a5b29\",\"tags\":[],\"doc\":null}},{\"id\":\"63cdae29-d8e5-4d25-cd6f-c002c1bdd632\",\"type\":\"ToolEvents\",\"attributes\":{\"tags\":[],\"id\":\"63cdae29-d8e5-4d25-cd6f-c002c1bdd632\",\"geometries\":[],\"doc\":null}},{\"id\":\"879eedd4-3204-4e47-ce4f-e4eee7874098\",\"type\":\"BasicTickFormatter\",\"attributes\":{\"id\":\"879eedd4-3204-4e47-ce4f-e4eee7874098\",\"tags\":[],\"doc\":null}},{\"id\":\"d912b050-9b49-47dd-c708-a95a55d6bb2b\",\"type\":\"BasicTicker\",\"attributes\":{\"num_minor_ticks\":5,\"id\":\"d912b050-9b49-47dd-c708-a95a55d6bb2b\",\"tags\":[],\"doc\":null}},{\"id\":\"83cf6174-83d8-4560-c54d-eeb4c0590d89\",\"type\":\"LinearAxis\",\"attributes\":{\"formatter\":{\"type\":\"BasicTickFormatter\",\"id\":\"879eedd4-3204-4e47-ce4f-e4eee7874098\"},\"ticker\":{\"type\":\"BasicTicker\",\"id\":\"d912b050-9b49-47dd-c708-a95a55d6bb2b\"},\"plot\":{\"id\":\"3efc495f-e3c2-448d-c46e-43fafc3c538e\",\"type\":\"Plot\",\"subtype\":\"Figure\"},\"axis_label\":null,\"id\":\"83cf6174-83d8-4560-c54d-eeb4c0590d89\",\"doc\":null,\"tags\":[]}},{\"id\":\"c3e338b3-6705-46a9-c67d-b37158e63e27\",\"type\":\"Grid\",\"attributes\":{\"dimension\":0,\"plot\":{\"id\":\"3efc495f-e3c2-448d-c46e-43fafc3c538e\",\"type\":\"Plot\",\"subtype\":\"Figure\"},\"ticker\":{\"type\":\"BasicTicker\",\"id\":\"d912b050-9b49-47dd-c708-a95a55d6bb2b\"},\"id\":\"c3e338b3-6705-46a9-c67d-b37158e63e27\",\"doc\":null,\"tags\":[]}},{\"id\":\"84082131-4e92-4dae-cd99-46d07a0861bd\",\"type\":\"BasicTickFormatter\",\"attributes\":{\"id\":\"84082131-4e92-4dae-cd99-46d07a0861bd\",\"tags\":[],\"doc\":null}},{\"id\":\"3b2ab9be-6086-4d96-cd0b-29e168a85086\",\"type\":\"BasicTicker\",\"attributes\":{\"num_minor_ticks\":5,\"id\":\"3b2ab9be-6086-4d96-cd0b-29e168a85086\",\"tags\":[],\"doc\":null}},{\"id\":\"d5b747fd-daeb-4556-c591-a030e515e25b\",\"type\":\"LinearAxis\",\"attributes\":{\"formatter\":{\"type\":\"BasicTickFormatter\",\"id\":\"84082131-4e92-4dae-cd99-46d07a0861bd\"},\"ticker\":{\"type\":\"BasicTicker\",\"id\":\"3b2ab9be-6086-4d96-cd0b-29e168a85086\"},\"plot\":{\"id\":\"3efc495f-e3c2-448d-c46e-43fafc3c538e\",\"type\":\"Plot\",\"subtype\":\"Figure\"},\"axis_label\":null,\"id\":\"d5b747fd-daeb-4556-c591-a030e515e25b\",\"doc\":null,\"tags\":[]}},{\"id\":\"69164ef6-6c17-4715-c721-37c02b62bef0\",\"type\":\"Grid\",\"attributes\":{\"dimension\":1,\"plot\":{\"id\":\"3efc495f-e3c2-448d-c46e-43fafc3c538e\",\"type\":\"Plot\",\"subtype\":\"Figure\"},\"ticker\":{\"type\":\"BasicTicker\",\"id\":\"3b2ab9be-6086-4d96-cd0b-29e168a85086\"},\"id\":\"69164ef6-6c17-4715-c721-37c02b62bef0\",\"doc\":null,\"tags\":[]}},{\"id\":\"5ca795bb-e696-4f46-cf25-a9f5564f16c4\",\"type\":\"PanTool\",\"attributes\":{\"plot\":{\"id\":\"3efc495f-e3c2-448d-c46e-43fafc3c538e\",\"type\":\"Plot\",\"subtype\":\"Figure\"},\"dimensions\":[\"width\",\"height\"],\"id\":\"5ca795bb-e696-4f46-cf25-a9f5564f16c4\",\"doc\":null,\"tags\":[]}},{\"id\":\"dead1311-a44a-466b-c6df-2e448c3ddfb8\",\"type\":\"WheelZoomTool\",\"attributes\":{\"plot\":{\"id\":\"3efc495f-e3c2-448d-c46e-43fafc3c538e\",\"type\":\"Plot\",\"subtype\":\"Figure\"},\"dimensions\":[\"width\",\"height\"],\"id\":\"dead1311-a44a-466b-c6df-2e448c3ddfb8\",\"doc\":null,\"tags\":[]}},{\"id\":\"68f2fcf8-32da-40e7-c0d0-7a2a27313279\",\"type\":\"BoxZoomTool\",\"attributes\":{\"plot\":{\"id\":\"3efc495f-e3c2-448d-c46e-43fafc3c538e\",\"type\":\"Plot\",\"subtype\":\"Figure\"},\"id\":\"68f2fcf8-32da-40e7-c0d0-7a2a27313279\",\"tags\":[],\"doc\":null}},{\"id\":\"5a378944-7b3c-4520-c586-07b43985377b\",\"type\":\"PreviewSaveTool\",\"attributes\":{\"plot\":{\"id\":\"3efc495f-e3c2-448d-c46e-43fafc3c538e\",\"type\":\"Plot\",\"subtype\":\"Figure\"},\"id\":\"5a378944-7b3c-4520-c586-07b43985377b\",\"tags\":[],\"doc\":null}},{\"id\":\"374867bb-f5ed-4c03-cc94-c879f6a8e7fd\",\"type\":\"ResizeTool\",\"attributes\":{\"plot\":{\"id\":\"3efc495f-e3c2-448d-c46e-43fafc3c538e\",\"type\":\"Plot\",\"subtype\":\"Figure\"},\"id\":\"374867bb-f5ed-4c03-cc94-c879f6a8e7fd\",\"tags\":[],\"doc\":null}},{\"id\":\"e25517cd-3e4d-4ec9-ce13-b140731388c2\",\"type\":\"ResetTool\",\"attributes\":{\"plot\":{\"id\":\"3efc495f-e3c2-448d-c46e-43fafc3c538e\",\"type\":\"Plot\",\"subtype\":\"Figure\"},\"id\":\"e25517cd-3e4d-4ec9-ce13-b140731388c2\",\"tags\":[],\"doc\":null}},{\"id\":\"3efc495f-e3c2-448d-c46e-43fafc3c538e\",\"type\":\"Plot\",\"attributes\":{\"x_range\":{\"type\":\"DataRange1d\",\"id\":\"595acf0b-a9ae-4013-c05d-28642b4958df\"},\"tool_events\":{\"type\":\"ToolEvents\",\"id\":\"63cdae29-d8e5-4d25-cd6f-c002c1bdd632\"},\"below\":[{\"type\":\"LinearAxis\",\"id\":\"83cf6174-83d8-4560-c54d-eeb4c0590d89\"}],\"renderers\":[{\"type\":\"GlyphRenderer\",\"id\":\"5a5b9abf-c699-4165-c113-4182642f97d5\"},{\"type\":\"LinearAxis\",\"id\":\"83cf6174-83d8-4560-c54d-eeb4c0590d89\"},{\"type\":\"Grid\",\"id\":\"c3e338b3-6705-46a9-c67d-b37158e63e27\"},{\"type\":\"LinearAxis\",\"id\":\"d5b747fd-daeb-4556-c591-a030e515e25b\"},{\"type\":\"Grid\",\"id\":\"69164ef6-6c17-4715-c721-37c02b62bef0\"}],\"above\":[],\"tools\":[{\"type\":\"PanTool\",\"id\":\"5ca795bb-e696-4f46-cf25-a9f5564f16c4\"},{\"type\":\"WheelZoomTool\",\"id\":\"dead1311-a44a-466b-c6df-2e448c3ddfb8\"},{\"type\":\"BoxZoomTool\",\"id\":\"68f2fcf8-32da-40e7-c0d0-7a2a27313279\"},{\"type\":\"PreviewSaveTool\",\"id\":\"5a378944-7b3c-4520-c586-07b43985377b\"},{\"type\":\"ResizeTool\",\"id\":\"374867bb-f5ed-4c03-cc94-c879f6a8e7fd\"},{\"type\":\"ResetTool\",\"id\":\"e25517cd-3e4d-4ec9-ce13-b140731388c2\"}],\"doc\":null,\"right\":[],\"title\":\"Plot of loss\",\"extra_x_ranges\":{},\"left\":[{\"type\":\"LinearAxis\",\"id\":\"d5b747fd-daeb-4556-c591-a030e515e25b\"}],\"y_range\":{\"type\":\"DataRange1d\",\"id\":\"e9c556fc-44be-4b94-cb22-6242330a5b29\"},\"id\":\"3efc495f-e3c2-448d-c46e-43fafc3c538e\",\"extra_y_ranges\":{},\"tags\":[]}}];\n",
       "      Bokeh.load_models(all_models);\n",
       "      var model = Bokeh.Collections(modeltype).get(modelid);\n",
       "      $(\"#621fe168-14ef-4273-c28b-8b87a11b42a0\").html(''); // clear any previous plot in window_id\n",
       "      var view = new model.default_view({model: model, el: \"#621fe168-14ef-4273-c28b-8b87a11b42a0\"});\n",
       "  });\n",
       "    }\n",
       "});\n",
       "</script>\n",
       "<div class=\"plotdiv\" id=\"621fe168-14ef-4273-c28b-8b87a11b42a0\"></div>\n"
      ]
     },
     "metadata": {},
     "output_type": "display_data"
    },
    {
     "data": {
      "text/html": [
       "<script type=\"text/javascript\">\n",
       "$(function() {\n",
       "    if (typeof (window._bokeh_onload_callbacks) === \"undefined\"){\n",
       "  window._bokeh_onload_callbacks = [];\n",
       "    }\n",
       "    function load_lib(url, callback){\n",
       "  window._bokeh_onload_callbacks.push(callback);\n",
       "  if (window._bokeh_is_loading){\n",
       "      console.log(\"Bokeh: BokehJS is being loaded, scheduling callback at\", new Date());\n",
       "      return null;\n",
       "  }\n",
       "  console.log(\"Bokeh: BokehJS not loaded, scheduling load and callback at\", new Date());\n",
       "  window._bokeh_is_loading = true;\n",
       "  var s = document.createElement('script');\n",
       "  s.src = url;\n",
       "  s.async = true;\n",
       "  s.onreadystatechange = s.onload = function(){\n",
       "      Bokeh.embed.inject_css(\"https://cdn.pydata.org/bokeh-0.7.0.min.css\");\n",
       "      window._bokeh_onload_callbacks.forEach(function(callback){callback()});\n",
       "  };\n",
       "  s.onerror = function(){\n",
       "      console.warn(\"failed to load library \" + url);\n",
       "  };\n",
       "  document.getElementsByTagName(\"head\")[0].appendChild(s);\n",
       "    }\n",
       "\n",
       "    bokehjs_url = \"https://cdn.pydata.org/bokeh-0.7.0.min.js\"\n",
       "\n",
       "    var elt = document.getElementById(\"a4f4fb32-1312-428a-c2e8-29e420e2b269\");\n",
       "    if(elt==null) {\n",
       "  console.log(\"Bokeh: ERROR: autoload.js configured with elementid 'a4f4fb32-1312-428a-c2e8-29e420e2b269'\"\n",
       "        + \"but no matching script tag was found. \")\n",
       "  return false;\n",
       "    }\n",
       "\n",
       "    if(typeof(Bokeh) !== \"undefined\") {\n",
       "  console.log(\"Bokeh: BokehJS loaded, going straight to plotting\");\n",
       "  var modelid = \"77dff367-a034-4c70-cc05-f6348dfc3182\";\n",
       "  var modeltype = \"Plot\";\n",
       "  var all_models = [{\"id\":\"720ce3f4-adbd-4759-c74d-6d1c03a579fa\",\"type\":\"ColumnDataSource\",\"attributes\":{\"data\":{\"y\":[0.57142857142857,0.5,0.66666666666667,0.4,0,0.54545454545455,0.22222222222222,0.28125,0.57142857142857,0.28125,0,0.44444444444444,0.25,0.22222222222222,0.75,0.4,0.35416666666667,0.2,0.225,0.6,0.33333333333333,0.22222222222222,0.44444444444444,0.44444444444444,0.54545454545455,0.6,0.22222222222222,0.4,0.33333333333333,0.4,0.5,0.66666666666667,0.47222222222222,0.36363636363636,0.44444444444444,0.36363636363636,0.38636363636364,0.4,0.25,0.54545454545455,0.35416666666667,0.38636363636364,0.54545454545455,0.5,0.5,0.36363636363636,0.33333333333333,0.6,0.5,0.36363636363636,0.35416666666667,0.54545454545455,0.46153846153846,0.36363636363636,0.46153846153846,0.5,0.46153846153846,0.54545454545455,0.20454545454545,0.5,0.46153846153846,0.35416666666667,0.46153846153846,0.46153846153846,0.5,0.5,0.46153846153846,0.46153846153846,0.46153846153846,0.54545454545455,0.38636363636364,0.5,0.46153846153846,0.46153846153846,0.46153846153846,0.46153846153846,0.33333333333333,0.46153846153846,0.33333333333333,0.46153846153846,0.46153846153846,0.46153846153846,0.46153846153846,0.54545454545455,0.46153846153846,0.46153846153846,0.33333333333333,0.46153846153846,0.33333333333333,0.5,0.5,0.46153846153846,0.46153846153846,0.54545454545455,0.46153846153846,0.5,0.46153846153846,0.46153846153846,0.46153846153846,0.46153846153846,0.5,0.46153846153846,0.35416666666667,0.33333333333333,0.46153846153846,0.46153846153846,0.5,0.5,0.46153846153846,0.46153846153846,0.36363636363636,0.33333333333333,0.46153846153846,0.46153846153846,0.46153846153846,0.5,0.46153846153846,0.46153846153846,0.5,0.54545454545455,0.5,0.46153846153846,0.46153846153846,0.5,0.46153846153846,0.46153846153846,0.46153846153846,0.5,0.54545454545455,0.5,0.5,0.46153846153846,0.46153846153846,0.46153846153846,0.46153846153846,0.46153846153846,0.33333333333333,0.54545454545455,0.5,0.5,0.46153846153846,0.5,0.46153846153846,0.54545454545455,0.46153846153846,0.46153846153846,0.5,0.5,0.5,0.46153846153846,0.46153846153846,0.35416666666667,0.46153846153846,0.46153846153846,0.46153846153846,0.46153846153846,0.5,0.46153846153846,0.46153846153846,0.46153846153846,0.46153846153846,0.46153846153846,0.46153846153846,0.46153846153846,0.33333333333333,0.35416666666667,0.46153846153846,0.5,0.46153846153846,0.46153846153846,0.35416666666667,0.5,0.36363636363636,0.46153846153846,0.46153846153846,0.5,0.46153846153846,0.46153846153846,0.5,0.46153846153846,0.46153846153846,0.35416666666667,0.5,0.46153846153846,0.46153846153846,0.46153846153846,0.5,0.5,0.54545454545455,0.5,0.5,0.46153846153846,0.46153846153846,0.46153846153846,0.46153846153846,0.46153846153846,0.33333333333333,0.46153846153846,0.33333333333333,0.46153846153846,0.46153846153846,0.33333333333333,0.5,0.46153846153846,0.46153846153846,0.46153846153846,0.5,0.46153846153846,0.46153846153846,0.46153846153846,0.46153846153846,0.46153846153846,0.46153846153846,0.46153846153846,0.46153846153846,0.46153846153846,0.5,0.46153846153846,0.46153846153846,0.38636363636364,0.33333333333333,0.46153846153846,0.33333333333333,0.46153846153846,0.46153846153846,0.46153846153846,0.5,0.46153846153846,0.5,0.36363636363636,0.46153846153846,0.46153846153846,0.6,0.46153846153846,0.5,0.46153846153846,0.46153846153846,0.46153846153846,0.5,0.46153846153846,0.35416666666667,0.46153846153846,0.46153846153846,0.5,0.46153846153846,0.46153846153846,0.46153846153846,0.46153846153846,0.46153846153846,0.46153846153846,0.46153846153846,0.46153846153846,0.46153846153846,0.46153846153846,0.46153846153846,0.46153846153846,0.46153846153846,0.46153846153846,0.46153846153846,0.46153846153846,0.46153846153846,0.46153846153846,0.46153846153846,0.46153846153846,0.46153846153846,0.46153846153846,0.46153846153846,0.46153846153846,0.46153846153846,0.46153846153846,0.46153846153846,0.46153846153846,0.46153846153846,0.46153846153846,0.46153846153846,0.46153846153846,0.46153846153846,0.46153846153846,0.46153846153846,0.46153846153846,0.46153846153846,0.46153846153846,0.46153846153846,0.46153846153846,0.46153846153846,0.46153846153846,0.46153846153846,0.46153846153846,0.46153846153846,0.46153846153846,0.46153846153846,0.46153846153846,0.46153846153846,0.46153846153846,0.46153846153846,0.46153846153846,0.46153846153846,0.46153846153846,0.46153846153846,0.46153846153846],\"x\":[1,2,3,4,5,6,7,8,9,10,11,12,13,14,15,16,17,18,19,20,21,22,23,24,25,26,27,28,29,30,31,32,33,34,35,36,37,38,39,40,41,42,43,44,45,46,47,48,49,50,51,52,53,54,55,56,57,58,59,60,61,62,63,64,65,66,67,68,69,70,71,72,73,74,75,76,77,78,79,80,81,82,83,84,85,86,87,88,89,90,91,92,93,94,95,96,97,98,99,100,101,102,103,104,105,106,107,108,109,110,111,112,113,114,115,116,117,118,119,120,121,122,123,124,125,126,127,128,129,130,131,132,133,134,135,136,137,138,139,140,141,142,143,144,145,146,147,148,149,150,151,152,153,154,155,156,157,158,159,160,161,162,163,164,165,166,167,168,169,170,171,172,173,174,175,176,177,178,179,180,181,182,183,184,185,186,187,188,189,190,191,192,193,194,195,196,197,198,199,200,201,202,203,204,205,206,207,208,209,210,211,212,213,214,215,216,217,218,219,220,221,222,223,224,225,226,227,228,229,230,231,232,233,234,235,236,237,238,239,240,241,242,243,244,245,246,247,248,249,250,251,252,253,254,255,256,257,258,259,260,261,262,263,264,265,266,267,268,269,270,271,272,273,274,275,276,277,278,279,280,281,282,283,284,285,286,287,288,289,290,291,292,293,294,295,296,297,298,299,300]},\"column_names\":[\"y\",\"x\"],\"cont_ranges\":{},\"discrete_ranges\":{},\"selected\":[],\"id\":\"720ce3f4-adbd-4759-c74d-6d1c03a579fa\",\"doc\":null,\"tags\":[]}},{\"id\":\"1ca17190-8551-4779-c7cb-80a9f4e2a7df\",\"type\":\"Line\",\"attributes\":{\"fill_alpha\":{\"units\":\"data\",\"value\":0.2},\"line_alpha\":{\"units\":\"data\",\"value\":1},\"doc\":null,\"size\":{\"units\":\"screen\",\"value\":10},\"fill_color\":{\"value\":\"blue\"},\"line_color\":{\"value\":\"blue\"},\"x\":{\"units\":\"data\",\"field\":\"x\"},\"id\":\"1ca17190-8551-4779-c7cb-80a9f4e2a7df\",\"y\":{\"units\":\"data\",\"field\":\"y\"},\"tags\":[]}},{\"id\":\"2f86fe8e-949c-4a13-caa9-3e5857977ae1\",\"type\":\"Line\",\"attributes\":{\"fill_alpha\":{\"units\":\"data\",\"value\":0.2},\"line_alpha\":{\"units\":\"data\",\"value\":1},\"doc\":null,\"size\":{\"units\":\"screen\",\"value\":10},\"fill_color\":{\"value\":\"blue\"},\"line_color\":{\"value\":\"blue\"},\"x\":{\"units\":\"data\",\"field\":\"x\"},\"id\":\"2f86fe8e-949c-4a13-caa9-3e5857977ae1\",\"y\":{\"units\":\"data\",\"field\":\"y\"},\"tags\":[]}},{\"id\":\"09dfa364-055c-4f2d-cfeb-3c05cb99a532\",\"type\":\"GlyphRenderer\",\"attributes\":{\"name\":null,\"nonselection_glyph\":{\"type\":\"Line\",\"id\":\"2f86fe8e-949c-4a13-caa9-3e5857977ae1\"},\"doc\":null,\"server_data_source\":null,\"data_source\":{\"type\":\"ColumnDataSource\",\"id\":\"720ce3f4-adbd-4759-c74d-6d1c03a579fa\"},\"glyph\":{\"type\":\"Line\",\"id\":\"1ca17190-8551-4779-c7cb-80a9f4e2a7df\"},\"selection_glyph\":null,\"id\":\"09dfa364-055c-4f2d-cfeb-3c05cb99a532\",\"tags\":[]}},{\"id\":\"852ef399-86af-4f40-cff6-91572f09d876\",\"type\":\"DataRange1d\",\"attributes\":{\"sources\":[{\"columns\":[\"x\"],\"source\":{\"type\":\"ColumnDataSource\",\"id\":\"720ce3f4-adbd-4759-c74d-6d1c03a579fa\"}}],\"id\":\"852ef399-86af-4f40-cff6-91572f09d876\",\"tags\":[],\"doc\":null}},{\"id\":\"c7484057-4e31-4147-c105-8a831a95b851\",\"type\":\"DataRange1d\",\"attributes\":{\"sources\":[{\"columns\":[\"y\"],\"source\":{\"type\":\"ColumnDataSource\",\"id\":\"720ce3f4-adbd-4759-c74d-6d1c03a579fa\"}}],\"id\":\"c7484057-4e31-4147-c105-8a831a95b851\",\"tags\":[],\"doc\":null}},{\"id\":\"7ca36d43-9f1c-4602-c6f8-e30d7fb8cc4f\",\"type\":\"ToolEvents\",\"attributes\":{\"tags\":[],\"id\":\"7ca36d43-9f1c-4602-c6f8-e30d7fb8cc4f\",\"geometries\":[],\"doc\":null}},{\"id\":\"f6d71c74-7cfb-4362-c349-3a585482f586\",\"type\":\"BasicTickFormatter\",\"attributes\":{\"id\":\"f6d71c74-7cfb-4362-c349-3a585482f586\",\"tags\":[],\"doc\":null}},{\"id\":\"351ac447-c818-4f0b-cf4b-2ef056d2039a\",\"type\":\"BasicTicker\",\"attributes\":{\"num_minor_ticks\":5,\"id\":\"351ac447-c818-4f0b-cf4b-2ef056d2039a\",\"tags\":[],\"doc\":null}},{\"id\":\"68469f62-13e4-4d27-cda5-3d3e095dc96f\",\"type\":\"LinearAxis\",\"attributes\":{\"formatter\":{\"type\":\"BasicTickFormatter\",\"id\":\"f6d71c74-7cfb-4362-c349-3a585482f586\"},\"ticker\":{\"type\":\"BasicTicker\",\"id\":\"351ac447-c818-4f0b-cf4b-2ef056d2039a\"},\"plot\":{\"id\":\"77dff367-a034-4c70-cc05-f6348dfc3182\",\"type\":\"Plot\",\"subtype\":\"Figure\"},\"axis_label\":null,\"id\":\"68469f62-13e4-4d27-cda5-3d3e095dc96f\",\"doc\":null,\"tags\":[]}},{\"id\":\"5555784c-21ae-4b1e-cbe6-692d6625e94c\",\"type\":\"Grid\",\"attributes\":{\"dimension\":0,\"plot\":{\"id\":\"77dff367-a034-4c70-cc05-f6348dfc3182\",\"type\":\"Plot\",\"subtype\":\"Figure\"},\"ticker\":{\"type\":\"BasicTicker\",\"id\":\"351ac447-c818-4f0b-cf4b-2ef056d2039a\"},\"id\":\"5555784c-21ae-4b1e-cbe6-692d6625e94c\",\"doc\":null,\"tags\":[]}},{\"id\":\"8e06e78b-290c-40ab-c0e2-f20a21239b49\",\"type\":\"BasicTickFormatter\",\"attributes\":{\"id\":\"8e06e78b-290c-40ab-c0e2-f20a21239b49\",\"tags\":[],\"doc\":null}},{\"id\":\"889063d5-6197-4825-c801-0943a9477086\",\"type\":\"BasicTicker\",\"attributes\":{\"num_minor_ticks\":5,\"id\":\"889063d5-6197-4825-c801-0943a9477086\",\"tags\":[],\"doc\":null}},{\"id\":\"003a2821-2281-4bb6-cb26-fed19c8bdf36\",\"type\":\"LinearAxis\",\"attributes\":{\"formatter\":{\"type\":\"BasicTickFormatter\",\"id\":\"8e06e78b-290c-40ab-c0e2-f20a21239b49\"},\"ticker\":{\"type\":\"BasicTicker\",\"id\":\"889063d5-6197-4825-c801-0943a9477086\"},\"plot\":{\"id\":\"77dff367-a034-4c70-cc05-f6348dfc3182\",\"type\":\"Plot\",\"subtype\":\"Figure\"},\"axis_label\":null,\"id\":\"003a2821-2281-4bb6-cb26-fed19c8bdf36\",\"doc\":null,\"tags\":[]}},{\"id\":\"3b6f28be-87f8-41e7-c1f7-4faf32e3fce3\",\"type\":\"Grid\",\"attributes\":{\"dimension\":1,\"plot\":{\"id\":\"77dff367-a034-4c70-cc05-f6348dfc3182\",\"type\":\"Plot\",\"subtype\":\"Figure\"},\"ticker\":{\"type\":\"BasicTicker\",\"id\":\"889063d5-6197-4825-c801-0943a9477086\"},\"id\":\"3b6f28be-87f8-41e7-c1f7-4faf32e3fce3\",\"doc\":null,\"tags\":[]}},{\"id\":\"6f897ac0-ff26-4519-c5f3-08c00d0b87cd\",\"type\":\"PanTool\",\"attributes\":{\"plot\":{\"id\":\"77dff367-a034-4c70-cc05-f6348dfc3182\",\"type\":\"Plot\",\"subtype\":\"Figure\"},\"dimensions\":[\"width\",\"height\"],\"id\":\"6f897ac0-ff26-4519-c5f3-08c00d0b87cd\",\"doc\":null,\"tags\":[]}},{\"id\":\"68663a4c-d5b7-41f0-c190-4f71050f6364\",\"type\":\"WheelZoomTool\",\"attributes\":{\"plot\":{\"id\":\"77dff367-a034-4c70-cc05-f6348dfc3182\",\"type\":\"Plot\",\"subtype\":\"Figure\"},\"dimensions\":[\"width\",\"height\"],\"id\":\"68663a4c-d5b7-41f0-c190-4f71050f6364\",\"doc\":null,\"tags\":[]}},{\"id\":\"13820127-d537-41f7-c15d-06b0f3819c39\",\"type\":\"BoxZoomTool\",\"attributes\":{\"plot\":{\"id\":\"77dff367-a034-4c70-cc05-f6348dfc3182\",\"type\":\"Plot\",\"subtype\":\"Figure\"},\"id\":\"13820127-d537-41f7-c15d-06b0f3819c39\",\"tags\":[],\"doc\":null}},{\"id\":\"d161191c-007f-4c6b-cc08-aae107767589\",\"type\":\"PreviewSaveTool\",\"attributes\":{\"plot\":{\"id\":\"77dff367-a034-4c70-cc05-f6348dfc3182\",\"type\":\"Plot\",\"subtype\":\"Figure\"},\"id\":\"d161191c-007f-4c6b-cc08-aae107767589\",\"tags\":[],\"doc\":null}},{\"id\":\"8524d7ff-26bb-47ea-c79d-84963ca7d69f\",\"type\":\"ResizeTool\",\"attributes\":{\"plot\":{\"id\":\"77dff367-a034-4c70-cc05-f6348dfc3182\",\"type\":\"Plot\",\"subtype\":\"Figure\"},\"id\":\"8524d7ff-26bb-47ea-c79d-84963ca7d69f\",\"tags\":[],\"doc\":null}},{\"id\":\"c1508e7a-feda-48bc-c844-99fecdf5c70f\",\"type\":\"ResetTool\",\"attributes\":{\"plot\":{\"id\":\"77dff367-a034-4c70-cc05-f6348dfc3182\",\"type\":\"Plot\",\"subtype\":\"Figure\"},\"id\":\"c1508e7a-feda-48bc-c844-99fecdf5c70f\",\"tags\":[],\"doc\":null}},{\"id\":\"77dff367-a034-4c70-cc05-f6348dfc3182\",\"type\":\"Plot\",\"attributes\":{\"x_range\":{\"type\":\"DataRange1d\",\"id\":\"852ef399-86af-4f40-cff6-91572f09d876\"},\"tool_events\":{\"type\":\"ToolEvents\",\"id\":\"7ca36d43-9f1c-4602-c6f8-e30d7fb8cc4f\"},\"below\":[{\"type\":\"LinearAxis\",\"id\":\"68469f62-13e4-4d27-cda5-3d3e095dc96f\"}],\"renderers\":[{\"type\":\"GlyphRenderer\",\"id\":\"09dfa364-055c-4f2d-cfeb-3c05cb99a532\"},{\"type\":\"LinearAxis\",\"id\":\"68469f62-13e4-4d27-cda5-3d3e095dc96f\"},{\"type\":\"Grid\",\"id\":\"5555784c-21ae-4b1e-cbe6-692d6625e94c\"},{\"type\":\"LinearAxis\",\"id\":\"003a2821-2281-4bb6-cb26-fed19c8bdf36\"},{\"type\":\"Grid\",\"id\":\"3b6f28be-87f8-41e7-c1f7-4faf32e3fce3\"}],\"above\":[],\"tools\":[{\"type\":\"PanTool\",\"id\":\"6f897ac0-ff26-4519-c5f3-08c00d0b87cd\"},{\"type\":\"WheelZoomTool\",\"id\":\"68663a4c-d5b7-41f0-c190-4f71050f6364\"},{\"type\":\"BoxZoomTool\",\"id\":\"13820127-d537-41f7-c15d-06b0f3819c39\"},{\"type\":\"PreviewSaveTool\",\"id\":\"d161191c-007f-4c6b-cc08-aae107767589\"},{\"type\":\"ResizeTool\",\"id\":\"8524d7ff-26bb-47ea-c79d-84963ca7d69f\"},{\"type\":\"ResetTool\",\"id\":\"c1508e7a-feda-48bc-c844-99fecdf5c70f\"}],\"doc\":null,\"right\":[],\"title\":\"Plot of Rougue-F1\",\"extra_x_ranges\":{},\"left\":[{\"type\":\"LinearAxis\",\"id\":\"003a2821-2281-4bb6-cb26-fed19c8bdf36\"}],\"y_range\":{\"type\":\"DataRange1d\",\"id\":\"c7484057-4e31-4147-c105-8a831a95b851\"},\"id\":\"77dff367-a034-4c70-cc05-f6348dfc3182\",\"extra_y_ranges\":{},\"tags\":[]}}];\n",
       "  Bokeh.load_models(all_models);\n",
       "  var model = Bokeh.Collections(modeltype).get(modelid);\n",
       "  $(\"#a4f4fb32-1312-428a-c2e8-29e420e2b269\").html(''); // clear any previous plot in window_id\n",
       "  var view = new model.default_view({model: model, el: \"#a4f4fb32-1312-428a-c2e8-29e420e2b269\"});\n",
       "    } else {\n",
       "  load_lib(bokehjs_url, function() {\n",
       "      console.log(\"Bokeh: BokehJS plotting callback run at\", new Date())\n",
       "      var modelid = \"77dff367-a034-4c70-cc05-f6348dfc3182\";\n",
       "      var modeltype = \"Plot\";\n",
       "      var all_models = [{\"id\":\"720ce3f4-adbd-4759-c74d-6d1c03a579fa\",\"type\":\"ColumnDataSource\",\"attributes\":{\"data\":{\"y\":[0.57142857142857,0.5,0.66666666666667,0.4,0,0.54545454545455,0.22222222222222,0.28125,0.57142857142857,0.28125,0,0.44444444444444,0.25,0.22222222222222,0.75,0.4,0.35416666666667,0.2,0.225,0.6,0.33333333333333,0.22222222222222,0.44444444444444,0.44444444444444,0.54545454545455,0.6,0.22222222222222,0.4,0.33333333333333,0.4,0.5,0.66666666666667,0.47222222222222,0.36363636363636,0.44444444444444,0.36363636363636,0.38636363636364,0.4,0.25,0.54545454545455,0.35416666666667,0.38636363636364,0.54545454545455,0.5,0.5,0.36363636363636,0.33333333333333,0.6,0.5,0.36363636363636,0.35416666666667,0.54545454545455,0.46153846153846,0.36363636363636,0.46153846153846,0.5,0.46153846153846,0.54545454545455,0.20454545454545,0.5,0.46153846153846,0.35416666666667,0.46153846153846,0.46153846153846,0.5,0.5,0.46153846153846,0.46153846153846,0.46153846153846,0.54545454545455,0.38636363636364,0.5,0.46153846153846,0.46153846153846,0.46153846153846,0.46153846153846,0.33333333333333,0.46153846153846,0.33333333333333,0.46153846153846,0.46153846153846,0.46153846153846,0.46153846153846,0.54545454545455,0.46153846153846,0.46153846153846,0.33333333333333,0.46153846153846,0.33333333333333,0.5,0.5,0.46153846153846,0.46153846153846,0.54545454545455,0.46153846153846,0.5,0.46153846153846,0.46153846153846,0.46153846153846,0.46153846153846,0.5,0.46153846153846,0.35416666666667,0.33333333333333,0.46153846153846,0.46153846153846,0.5,0.5,0.46153846153846,0.46153846153846,0.36363636363636,0.33333333333333,0.46153846153846,0.46153846153846,0.46153846153846,0.5,0.46153846153846,0.46153846153846,0.5,0.54545454545455,0.5,0.46153846153846,0.46153846153846,0.5,0.46153846153846,0.46153846153846,0.46153846153846,0.5,0.54545454545455,0.5,0.5,0.46153846153846,0.46153846153846,0.46153846153846,0.46153846153846,0.46153846153846,0.33333333333333,0.54545454545455,0.5,0.5,0.46153846153846,0.5,0.46153846153846,0.54545454545455,0.46153846153846,0.46153846153846,0.5,0.5,0.5,0.46153846153846,0.46153846153846,0.35416666666667,0.46153846153846,0.46153846153846,0.46153846153846,0.46153846153846,0.5,0.46153846153846,0.46153846153846,0.46153846153846,0.46153846153846,0.46153846153846,0.46153846153846,0.46153846153846,0.33333333333333,0.35416666666667,0.46153846153846,0.5,0.46153846153846,0.46153846153846,0.35416666666667,0.5,0.36363636363636,0.46153846153846,0.46153846153846,0.5,0.46153846153846,0.46153846153846,0.5,0.46153846153846,0.46153846153846,0.35416666666667,0.5,0.46153846153846,0.46153846153846,0.46153846153846,0.5,0.5,0.54545454545455,0.5,0.5,0.46153846153846,0.46153846153846,0.46153846153846,0.46153846153846,0.46153846153846,0.33333333333333,0.46153846153846,0.33333333333333,0.46153846153846,0.46153846153846,0.33333333333333,0.5,0.46153846153846,0.46153846153846,0.46153846153846,0.5,0.46153846153846,0.46153846153846,0.46153846153846,0.46153846153846,0.46153846153846,0.46153846153846,0.46153846153846,0.46153846153846,0.46153846153846,0.5,0.46153846153846,0.46153846153846,0.38636363636364,0.33333333333333,0.46153846153846,0.33333333333333,0.46153846153846,0.46153846153846,0.46153846153846,0.5,0.46153846153846,0.5,0.36363636363636,0.46153846153846,0.46153846153846,0.6,0.46153846153846,0.5,0.46153846153846,0.46153846153846,0.46153846153846,0.5,0.46153846153846,0.35416666666667,0.46153846153846,0.46153846153846,0.5,0.46153846153846,0.46153846153846,0.46153846153846,0.46153846153846,0.46153846153846,0.46153846153846,0.46153846153846,0.46153846153846,0.46153846153846,0.46153846153846,0.46153846153846,0.46153846153846,0.46153846153846,0.46153846153846,0.46153846153846,0.46153846153846,0.46153846153846,0.46153846153846,0.46153846153846,0.46153846153846,0.46153846153846,0.46153846153846,0.46153846153846,0.46153846153846,0.46153846153846,0.46153846153846,0.46153846153846,0.46153846153846,0.46153846153846,0.46153846153846,0.46153846153846,0.46153846153846,0.46153846153846,0.46153846153846,0.46153846153846,0.46153846153846,0.46153846153846,0.46153846153846,0.46153846153846,0.46153846153846,0.46153846153846,0.46153846153846,0.46153846153846,0.46153846153846,0.46153846153846,0.46153846153846,0.46153846153846,0.46153846153846,0.46153846153846,0.46153846153846,0.46153846153846,0.46153846153846,0.46153846153846,0.46153846153846,0.46153846153846,0.46153846153846],\"x\":[1,2,3,4,5,6,7,8,9,10,11,12,13,14,15,16,17,18,19,20,21,22,23,24,25,26,27,28,29,30,31,32,33,34,35,36,37,38,39,40,41,42,43,44,45,46,47,48,49,50,51,52,53,54,55,56,57,58,59,60,61,62,63,64,65,66,67,68,69,70,71,72,73,74,75,76,77,78,79,80,81,82,83,84,85,86,87,88,89,90,91,92,93,94,95,96,97,98,99,100,101,102,103,104,105,106,107,108,109,110,111,112,113,114,115,116,117,118,119,120,121,122,123,124,125,126,127,128,129,130,131,132,133,134,135,136,137,138,139,140,141,142,143,144,145,146,147,148,149,150,151,152,153,154,155,156,157,158,159,160,161,162,163,164,165,166,167,168,169,170,171,172,173,174,175,176,177,178,179,180,181,182,183,184,185,186,187,188,189,190,191,192,193,194,195,196,197,198,199,200,201,202,203,204,205,206,207,208,209,210,211,212,213,214,215,216,217,218,219,220,221,222,223,224,225,226,227,228,229,230,231,232,233,234,235,236,237,238,239,240,241,242,243,244,245,246,247,248,249,250,251,252,253,254,255,256,257,258,259,260,261,262,263,264,265,266,267,268,269,270,271,272,273,274,275,276,277,278,279,280,281,282,283,284,285,286,287,288,289,290,291,292,293,294,295,296,297,298,299,300]},\"column_names\":[\"y\",\"x\"],\"cont_ranges\":{},\"discrete_ranges\":{},\"selected\":[],\"id\":\"720ce3f4-adbd-4759-c74d-6d1c03a579fa\",\"doc\":null,\"tags\":[]}},{\"id\":\"1ca17190-8551-4779-c7cb-80a9f4e2a7df\",\"type\":\"Line\",\"attributes\":{\"fill_alpha\":{\"units\":\"data\",\"value\":0.2},\"line_alpha\":{\"units\":\"data\",\"value\":1},\"doc\":null,\"size\":{\"units\":\"screen\",\"value\":10},\"fill_color\":{\"value\":\"blue\"},\"line_color\":{\"value\":\"blue\"},\"x\":{\"units\":\"data\",\"field\":\"x\"},\"id\":\"1ca17190-8551-4779-c7cb-80a9f4e2a7df\",\"y\":{\"units\":\"data\",\"field\":\"y\"},\"tags\":[]}},{\"id\":\"2f86fe8e-949c-4a13-caa9-3e5857977ae1\",\"type\":\"Line\",\"attributes\":{\"fill_alpha\":{\"units\":\"data\",\"value\":0.2},\"line_alpha\":{\"units\":\"data\",\"value\":1},\"doc\":null,\"size\":{\"units\":\"screen\",\"value\":10},\"fill_color\":{\"value\":\"blue\"},\"line_color\":{\"value\":\"blue\"},\"x\":{\"units\":\"data\",\"field\":\"x\"},\"id\":\"2f86fe8e-949c-4a13-caa9-3e5857977ae1\",\"y\":{\"units\":\"data\",\"field\":\"y\"},\"tags\":[]}},{\"id\":\"09dfa364-055c-4f2d-cfeb-3c05cb99a532\",\"type\":\"GlyphRenderer\",\"attributes\":{\"name\":null,\"nonselection_glyph\":{\"type\":\"Line\",\"id\":\"2f86fe8e-949c-4a13-caa9-3e5857977ae1\"},\"doc\":null,\"server_data_source\":null,\"data_source\":{\"type\":\"ColumnDataSource\",\"id\":\"720ce3f4-adbd-4759-c74d-6d1c03a579fa\"},\"glyph\":{\"type\":\"Line\",\"id\":\"1ca17190-8551-4779-c7cb-80a9f4e2a7df\"},\"selection_glyph\":null,\"id\":\"09dfa364-055c-4f2d-cfeb-3c05cb99a532\",\"tags\":[]}},{\"id\":\"852ef399-86af-4f40-cff6-91572f09d876\",\"type\":\"DataRange1d\",\"attributes\":{\"sources\":[{\"columns\":[\"x\"],\"source\":{\"type\":\"ColumnDataSource\",\"id\":\"720ce3f4-adbd-4759-c74d-6d1c03a579fa\"}}],\"id\":\"852ef399-86af-4f40-cff6-91572f09d876\",\"tags\":[],\"doc\":null}},{\"id\":\"c7484057-4e31-4147-c105-8a831a95b851\",\"type\":\"DataRange1d\",\"attributes\":{\"sources\":[{\"columns\":[\"y\"],\"source\":{\"type\":\"ColumnDataSource\",\"id\":\"720ce3f4-adbd-4759-c74d-6d1c03a579fa\"}}],\"id\":\"c7484057-4e31-4147-c105-8a831a95b851\",\"tags\":[],\"doc\":null}},{\"id\":\"7ca36d43-9f1c-4602-c6f8-e30d7fb8cc4f\",\"type\":\"ToolEvents\",\"attributes\":{\"tags\":[],\"id\":\"7ca36d43-9f1c-4602-c6f8-e30d7fb8cc4f\",\"geometries\":[],\"doc\":null}},{\"id\":\"f6d71c74-7cfb-4362-c349-3a585482f586\",\"type\":\"BasicTickFormatter\",\"attributes\":{\"id\":\"f6d71c74-7cfb-4362-c349-3a585482f586\",\"tags\":[],\"doc\":null}},{\"id\":\"351ac447-c818-4f0b-cf4b-2ef056d2039a\",\"type\":\"BasicTicker\",\"attributes\":{\"num_minor_ticks\":5,\"id\":\"351ac447-c818-4f0b-cf4b-2ef056d2039a\",\"tags\":[],\"doc\":null}},{\"id\":\"68469f62-13e4-4d27-cda5-3d3e095dc96f\",\"type\":\"LinearAxis\",\"attributes\":{\"formatter\":{\"type\":\"BasicTickFormatter\",\"id\":\"f6d71c74-7cfb-4362-c349-3a585482f586\"},\"ticker\":{\"type\":\"BasicTicker\",\"id\":\"351ac447-c818-4f0b-cf4b-2ef056d2039a\"},\"plot\":{\"id\":\"77dff367-a034-4c70-cc05-f6348dfc3182\",\"type\":\"Plot\",\"subtype\":\"Figure\"},\"axis_label\":null,\"id\":\"68469f62-13e4-4d27-cda5-3d3e095dc96f\",\"doc\":null,\"tags\":[]}},{\"id\":\"5555784c-21ae-4b1e-cbe6-692d6625e94c\",\"type\":\"Grid\",\"attributes\":{\"dimension\":0,\"plot\":{\"id\":\"77dff367-a034-4c70-cc05-f6348dfc3182\",\"type\":\"Plot\",\"subtype\":\"Figure\"},\"ticker\":{\"type\":\"BasicTicker\",\"id\":\"351ac447-c818-4f0b-cf4b-2ef056d2039a\"},\"id\":\"5555784c-21ae-4b1e-cbe6-692d6625e94c\",\"doc\":null,\"tags\":[]}},{\"id\":\"8e06e78b-290c-40ab-c0e2-f20a21239b49\",\"type\":\"BasicTickFormatter\",\"attributes\":{\"id\":\"8e06e78b-290c-40ab-c0e2-f20a21239b49\",\"tags\":[],\"doc\":null}},{\"id\":\"889063d5-6197-4825-c801-0943a9477086\",\"type\":\"BasicTicker\",\"attributes\":{\"num_minor_ticks\":5,\"id\":\"889063d5-6197-4825-c801-0943a9477086\",\"tags\":[],\"doc\":null}},{\"id\":\"003a2821-2281-4bb6-cb26-fed19c8bdf36\",\"type\":\"LinearAxis\",\"attributes\":{\"formatter\":{\"type\":\"BasicTickFormatter\",\"id\":\"8e06e78b-290c-40ab-c0e2-f20a21239b49\"},\"ticker\":{\"type\":\"BasicTicker\",\"id\":\"889063d5-6197-4825-c801-0943a9477086\"},\"plot\":{\"id\":\"77dff367-a034-4c70-cc05-f6348dfc3182\",\"type\":\"Plot\",\"subtype\":\"Figure\"},\"axis_label\":null,\"id\":\"003a2821-2281-4bb6-cb26-fed19c8bdf36\",\"doc\":null,\"tags\":[]}},{\"id\":\"3b6f28be-87f8-41e7-c1f7-4faf32e3fce3\",\"type\":\"Grid\",\"attributes\":{\"dimension\":1,\"plot\":{\"id\":\"77dff367-a034-4c70-cc05-f6348dfc3182\",\"type\":\"Plot\",\"subtype\":\"Figure\"},\"ticker\":{\"type\":\"BasicTicker\",\"id\":\"889063d5-6197-4825-c801-0943a9477086\"},\"id\":\"3b6f28be-87f8-41e7-c1f7-4faf32e3fce3\",\"doc\":null,\"tags\":[]}},{\"id\":\"6f897ac0-ff26-4519-c5f3-08c00d0b87cd\",\"type\":\"PanTool\",\"attributes\":{\"plot\":{\"id\":\"77dff367-a034-4c70-cc05-f6348dfc3182\",\"type\":\"Plot\",\"subtype\":\"Figure\"},\"dimensions\":[\"width\",\"height\"],\"id\":\"6f897ac0-ff26-4519-c5f3-08c00d0b87cd\",\"doc\":null,\"tags\":[]}},{\"id\":\"68663a4c-d5b7-41f0-c190-4f71050f6364\",\"type\":\"WheelZoomTool\",\"attributes\":{\"plot\":{\"id\":\"77dff367-a034-4c70-cc05-f6348dfc3182\",\"type\":\"Plot\",\"subtype\":\"Figure\"},\"dimensions\":[\"width\",\"height\"],\"id\":\"68663a4c-d5b7-41f0-c190-4f71050f6364\",\"doc\":null,\"tags\":[]}},{\"id\":\"13820127-d537-41f7-c15d-06b0f3819c39\",\"type\":\"BoxZoomTool\",\"attributes\":{\"plot\":{\"id\":\"77dff367-a034-4c70-cc05-f6348dfc3182\",\"type\":\"Plot\",\"subtype\":\"Figure\"},\"id\":\"13820127-d537-41f7-c15d-06b0f3819c39\",\"tags\":[],\"doc\":null}},{\"id\":\"d161191c-007f-4c6b-cc08-aae107767589\",\"type\":\"PreviewSaveTool\",\"attributes\":{\"plot\":{\"id\":\"77dff367-a034-4c70-cc05-f6348dfc3182\",\"type\":\"Plot\",\"subtype\":\"Figure\"},\"id\":\"d161191c-007f-4c6b-cc08-aae107767589\",\"tags\":[],\"doc\":null}},{\"id\":\"8524d7ff-26bb-47ea-c79d-84963ca7d69f\",\"type\":\"ResizeTool\",\"attributes\":{\"plot\":{\"id\":\"77dff367-a034-4c70-cc05-f6348dfc3182\",\"type\":\"Plot\",\"subtype\":\"Figure\"},\"id\":\"8524d7ff-26bb-47ea-c79d-84963ca7d69f\",\"tags\":[],\"doc\":null}},{\"id\":\"c1508e7a-feda-48bc-c844-99fecdf5c70f\",\"type\":\"ResetTool\",\"attributes\":{\"plot\":{\"id\":\"77dff367-a034-4c70-cc05-f6348dfc3182\",\"type\":\"Plot\",\"subtype\":\"Figure\"},\"id\":\"c1508e7a-feda-48bc-c844-99fecdf5c70f\",\"tags\":[],\"doc\":null}},{\"id\":\"77dff367-a034-4c70-cc05-f6348dfc3182\",\"type\":\"Plot\",\"attributes\":{\"x_range\":{\"type\":\"DataRange1d\",\"id\":\"852ef399-86af-4f40-cff6-91572f09d876\"},\"tool_events\":{\"type\":\"ToolEvents\",\"id\":\"7ca36d43-9f1c-4602-c6f8-e30d7fb8cc4f\"},\"below\":[{\"type\":\"LinearAxis\",\"id\":\"68469f62-13e4-4d27-cda5-3d3e095dc96f\"}],\"renderers\":[{\"type\":\"GlyphRenderer\",\"id\":\"09dfa364-055c-4f2d-cfeb-3c05cb99a532\"},{\"type\":\"LinearAxis\",\"id\":\"68469f62-13e4-4d27-cda5-3d3e095dc96f\"},{\"type\":\"Grid\",\"id\":\"5555784c-21ae-4b1e-cbe6-692d6625e94c\"},{\"type\":\"LinearAxis\",\"id\":\"003a2821-2281-4bb6-cb26-fed19c8bdf36\"},{\"type\":\"Grid\",\"id\":\"3b6f28be-87f8-41e7-c1f7-4faf32e3fce3\"}],\"above\":[],\"tools\":[{\"type\":\"PanTool\",\"id\":\"6f897ac0-ff26-4519-c5f3-08c00d0b87cd\"},{\"type\":\"WheelZoomTool\",\"id\":\"68663a4c-d5b7-41f0-c190-4f71050f6364\"},{\"type\":\"BoxZoomTool\",\"id\":\"13820127-d537-41f7-c15d-06b0f3819c39\"},{\"type\":\"PreviewSaveTool\",\"id\":\"d161191c-007f-4c6b-cc08-aae107767589\"},{\"type\":\"ResizeTool\",\"id\":\"8524d7ff-26bb-47ea-c79d-84963ca7d69f\"},{\"type\":\"ResetTool\",\"id\":\"c1508e7a-feda-48bc-c844-99fecdf5c70f\"}],\"doc\":null,\"right\":[],\"title\":\"Plot of Rougue-F1\",\"extra_x_ranges\":{},\"left\":[{\"type\":\"LinearAxis\",\"id\":\"003a2821-2281-4bb6-cb26-fed19c8bdf36\"}],\"y_range\":{\"type\":\"DataRange1d\",\"id\":\"c7484057-4e31-4147-c105-8a831a95b851\"},\"id\":\"77dff367-a034-4c70-cc05-f6348dfc3182\",\"extra_y_ranges\":{},\"tags\":[]}}];\n",
       "      Bokeh.load_models(all_models);\n",
       "      var model = Bokeh.Collections(modeltype).get(modelid);\n",
       "      $(\"#a4f4fb32-1312-428a-c2e8-29e420e2b269\").html(''); // clear any previous plot in window_id\n",
       "      var view = new model.default_view({model: model, el: \"#a4f4fb32-1312-428a-c2e8-29e420e2b269\"});\n",
       "  });\n",
       "    }\n",
       "});\n",
       "</script>\n",
       "<div class=\"plotdiv\" id=\"a4f4fb32-1312-428a-c2e8-29e420e2b269\"></div>\n"
      ]
     },
     "metadata": {},
     "output_type": "display_data"
    }
   ],
   "source": [
    "Plot = require 'itorch.Plot'\n",
    "\n",
    "loss = torch.Tensor(lossfull)\n",
    "rougue = torch.Tensor(rouguef1)\n",
    "indices = torch.linspace(1, loss:size(1), loss:size(1)):long() \n",
    "plot = Plot():line(indices, loss, 'red', 'hi'):title('Plot of loss'):draw()\n",
    "plot = Plot():line(indices, rougue, 'blue', 'hi'):title('Plot of Rougue-F1'):draw()"
   ]
  },
  {
   "cell_type": "code",
   "execution_count": 12,
   "metadata": {
    "collapsed": false
   },
   "outputs": [
    {
     "data": {
      "text/plain": [
       "0.3\t1\t0.46153846153846\t\n"
      ]
     },
     "execution_count": 12,
     "metadata": {},
     "output_type": "execute_result"
    }
   ],
   "source": [
    "rougeScores( Tokenize(trueSummary:resize(40):totable()), \n",
    "                Tokenize(totalPredsummary:totable()[1]))"
   ]
  },
  {
   "cell_type": "code",
   "execution_count": 13,
   "metadata": {
    "collapsed": false
   },
   "outputs": [],
   "source": [
    "n = 10\n",
    "-- nn.MaskedSelect():cuda()\n",
    "maskLayer = nn.MaskedSelect()\n",
    "\n",
    "x = torch.round(torch.rand(n, 2) * 5)\n",
    "\n",
    "qMaxtrue, qindxtrue = torch.max(x, 2)\n",
    "a = torch.zeros(n, 2):scatter(2, qindxtrue, torch.ones(x:size())):byte()"
   ]
  },
  {
   "cell_type": "code",
   "execution_count": 14,
   "metadata": {
    "collapsed": false
   },
   "outputs": [],
   "source": [
    "SELECT, SKIP"
   ]
  },
  {
   "cell_type": "code",
   "execution_count": 15,
   "metadata": {
    "collapsed": false
   },
   "outputs": [],
   "source": [
    "a, x, maskLayer:forward({x, a}) "
   ]
  },
  {
   "cell_type": "code",
   "execution_count": 16,
   "metadata": {
    "collapsed": true
   },
   "outputs": [],
   "source": [
    "n = 10\n",
    "maskLayer = nn.MaskedSelect():cuda()\n",
    "ByteTensor = torch.CudaByteTensor\n",
    "\n",
    "x = torch.round(torch.rand(n, 2) * 5):cuda()"
   ]
  },
  {
   "cell_type": "code",
   "execution_count": 17,
   "metadata": {
    "collapsed": true
   },
   "outputs": [],
   "source": [
    "qMaxtrue, qindxtrue = torch.max(x, 2)"
   ]
  },
  {
   "cell_type": "code",
   "execution_count": 18,
   "metadata": {
    "collapsed": false
   },
   "outputs": [
    {
     "data": {
      "text/plain": [
       " 1  1\n",
       " 1  1\n",
       " 1  1\n",
       " 1  1\n",
       " 1  1\n",
       " 1  1\n",
       " 1  1\n",
       " 1  1\n",
       " 1  1\n",
       " 1  1\n",
       "[torch.DoubleTensor of size 10x2]\n",
       "\n"
      ]
     },
     "execution_count": 18,
     "metadata": {},
     "output_type": "execute_result"
    }
   ],
   "source": [
    "torch.ones(x:size())"
   ]
  },
  {
   "cell_type": "code",
   "execution_count": 19,
   "metadata": {
    "collapsed": false
   },
   "outputs": [
    {
     "data": {
      "text/plain": [
       " 1\n",
       " 1\n",
       " 2\n",
       " 2\n",
       " 1\n",
       " 1\n",
       " 1\n",
       " 1\n",
       " 1\n",
       " 1\n",
       "[torch.CudaTensor of size 10x1]\n",
       "\n"
      ]
     },
     "execution_count": 19,
     "metadata": {},
     "output_type": "execute_result"
    }
   ],
   "source": [
    "qindxtrue:cuda()"
   ]
  },
  {
   "cell_type": "code",
   "execution_count": 20,
   "metadata": {
    "collapsed": false
   },
   "outputs": [
    {
     "ename": "[string \"local f = function() return torch.zeros(n, 2)...\"]:1: bad argument #3 to 'f' (Index tensor must have the same size as input tensor. at /tmp/luarocks_cutorch-scm-1-9089/cutorch/lib/THC/generic/THCTensorScatterGather.cu:116)\nstack traceback:\n\t[C]: in function 'f'\n\t[string \"local f = function() return torch.zeros(n, 2)...\"]:1: in main chunk\n\t[C]: in function 'xpcall'\n\t...ojavierarceo/torch/install/share/lua/5.1/itorch/main.lua:210: in function <...ojavierarceo/torch/install/share/lua/5.1/itorch/main.lua:174>\n\t...ojavierarceo/torch/install/share/lua/5.1/lzmq/poller.lua:75: in function 'poll'\n\t...vierarceo/torch/install/share/lua/5.1/lzmq/impl/loop.lua:307: in function 'poll'\n\t...vierarceo/torch/install/share/lua/5.1/lzmq/impl/loop.lua:325: in function 'sleep_ex'\n\t...vierarceo/torch/install/share/lua/5.1/lzmq/impl/loop.lua:370: in function 'start'\n\t...ojavierarceo/torch/install/share/lua/5.1/itorch/main.lua:389: in main chunk\n\t[C]: in function 'require'\n\t(command line):1: in main chunk\n\t[C]: at 0x0105aa9b90",
     "evalue": "",
     "output_type": "error",
     "traceback": [
      "[string \"local f = function() return torch.zeros(n, 2)...\"]:1: bad argument #3 to 'f' (Index tensor must have the same size as input tensor. at /tmp/luarocks_cutorch-scm-1-9089/cutorch/lib/THC/generic/THCTensorScatterGather.cu:116)\nstack traceback:\n\t[C]: in function 'f'\n\t[string \"local f = function() return torch.zeros(n, 2)...\"]:1: in main chunk\n\t[C]: in function 'xpcall'\n\t...ojavierarceo/torch/install/share/lua/5.1/itorch/main.lua:210: in function <...ojavierarceo/torch/install/share/lua/5.1/itorch/main.lua:174>\n\t...ojavierarceo/torch/install/share/lua/5.1/lzmq/poller.lua:75: in function 'poll'\n\t...vierarceo/torch/install/share/lua/5.1/lzmq/impl/loop.lua:307: in function 'poll'\n\t...vierarceo/torch/install/share/lua/5.1/lzmq/impl/loop.lua:325: in function 'sleep_ex'\n\t...vierarceo/torch/install/share/lua/5.1/lzmq/impl/loop.lua:370: in function 'start'\n\t...ojavierarceo/torch/install/share/lua/5.1/itorch/main.lua:389: in main chunk\n\t[C]: in function 'require'\n\t(command line):1: in main chunk\n\t[C]: at 0x0105aa9b90"
     ]
    }
   ],
   "source": [
    "torch.zeros(n, 2):cuda():scatter(2, qindxtrue:cuda(), torch.ones(x:size()):cuda() )"
   ]
  }
 ],
 "metadata": {
  "anaconda-cloud": {},
  "kernelspec": {
   "display_name": "iTorch",
   "language": "lua",
   "name": "itorch"
  },
  "language_info": {
   "name": "lua",
   "version": "5.1"
  }
 },
 "nbformat": 4,
 "nbformat_minor": 1
}
