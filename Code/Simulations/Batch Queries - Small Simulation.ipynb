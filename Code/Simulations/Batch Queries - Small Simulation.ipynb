{
 "cells": [
  {
   "cell_type": "code",
   "execution_count": 1,
   "metadata": {
    "collapsed": false
   },
   "outputs": [],
   "source": [
    "require 'nn'\n",
    "require 'rnn'\n",
    "require 'image'\n",
    "require 'optim'\n",
    "require 'parallel'\n",
    "require 'cutorch'\n",
    "require 'cunn'\n",
    "require 'cunnx'\n",
    "dl = require 'dataload'"
   ]
  },
  {
   "cell_type": "code",
   "execution_count": 2,
   "metadata": {
    "collapsed": false
   },
   "outputs": [],
   "source": [
    "-- Some useful functions\n",
    "function genNbyK(n, k, a, b)\n",
    "    out = torch.LongTensor(n, k)\n",
    "    for i=1, n do\n",
    "        for j = 1, k do\n",
    "            out[i][j] = torch.random(a, b)\n",
    "        end\n",
    "    end\n",
    "    return out\n",
    "end\n",
    "\n",
    "function buildModel(model, vocabSize, embeddingSize, metric, adapt, use_cuda)\n",
    "    -- Small experiments seem to show that the Tanh activations performed better\\\n",
    "    --      than the ReLU for the bow model\n",
    "    if model == 'bow' then\n",
    "        print(string.format(\"Running bag-of-words model to learn %s\", metric))\n",
    "        sentenceLookup = nn.Sequential()\n",
    "                    :add(nn.LookupTableMaskZero(vocabSize, embeddingSize))\n",
    "                    :add(nn.Sum(2, 3, true)) -- Not averaging blows up model so keep this true\n",
    "                    :add(nn.Tanh())\n",
    "    else\n",
    "        print(string.format(\"Running LSTM model to learn %s\", metric))\n",
    "        sentenceLookup = nn.Sequential()\n",
    "                    :add(nn.LookupTableMaskZero(vocabSize, embeddingSize))\n",
    "                    :add(nn.SplitTable(2))\n",
    "                    :add(nn.Sequencer(nn.LSTM(embeddingSize, embeddingSize)))\n",
    "                    :add(nn.SelectTable(-1))            -- selects last state of the LSTM\n",
    "                    :add(nn.Linear(embeddingSize, embeddingSize))\n",
    "                    :add(nn.ReLU())\n",
    "    end\n",
    "    local queryLookup = sentenceLookup:clone(\"weight\", \"gradWeight\") \n",
    "    local summaryLookup = sentenceLookup:clone(\"weight\", \"gradWeight\")\n",
    "    local pmodule = nn.ParallelTable()\n",
    "                :add(sentenceLookup)\n",
    "                :add(queryLookup)\n",
    "                :add(summaryLookup)\n",
    "\n",
    "    if model == 'bow' then\n",
    "        nnmodel = nn.Sequential()\n",
    "            :add(pmodule)\n",
    "            :add(nn.JoinTable(2))\n",
    "            :add(nn.Tanh())\n",
    "            :add(nn.Linear(embeddingSize * 3, 2))\n",
    "    else\n",
    "        nnmodel = nn.Sequential()\n",
    "            :add(pmodule)\n",
    "            :add(nn.JoinTable(2))\n",
    "            :add(nn.ReLU())\n",
    "            :add(nn.Linear(embeddingSize * 3, 2))\n",
    "    end\n",
    "\n",
    "    if adapt then \n",
    "        print(\"Adaptive regularization\")\n",
    "        local logmod = nn.Sequential()\n",
    "            :add(nn.Linear(embeddingSize * 3, 1))\n",
    "            :add(nn.LogSigmoid())\n",
    "            :add(nn.SoftMax())\n",
    "\n",
    "        local regmod = nn.Sequential()\n",
    "            :add(nn.Linear(embeddingSize * 3, 2))\n",
    "\n",
    "        local fullmod = nn.ConcatTable()\n",
    "            :add(regmod)\n",
    "            :add(logmod)\n",
    "\n",
    "        local final = nn.Sequential()\n",
    "            :add(pmodule)\n",
    "            :add(nn.JoinTable(2))\n",
    "            :add(fullmod)\n",
    "\n",
    "        nnmodel = final\n",
    "    end\n",
    "\n",
    "    if use_cuda then\n",
    "        return nnmodel:cuda()\n",
    "    end\n",
    "    return nnmodel\n",
    "end\n",
    "\n",
    "function Tokenize(inputdic)\n",
    "    --- This function tokenizes the words into a unigram dictionary\n",
    "    local out = {}\n",
    "    for k, v in pairs(inputdic) do\n",
    "        if v ~= 0 then \n",
    "            if out[v] == nil then\n",
    "                out[v] = 1\n",
    "            else \n",
    "                out[v] = 1 + out[v]\n",
    "            end\n",
    "        end\n",
    "    end\n",
    "    return out\n",
    "end\n",
    "\n",
    "function rougeScores(genSummary, refSummary)\n",
    "    local genTotal = 0\n",
    "    local refTotal = 0\n",
    "    local intersection = 0\n",
    "    -- Inserting the missing keys\n",
    "    for k, genCount in pairs(genSummary) do\n",
    "        if refSummary[k] == nil then\n",
    "            refSummary[k] = 0\n",
    "        end\n",
    "    end\n",
    "    for k, refCount in pairs(refSummary) do\n",
    "        local genCount = genSummary[k]\n",
    "        if genCount == nil then \n",
    "            genCount = 0 \n",
    "        end\n",
    "        intersection = intersection + math.min(refCount, genCount)\n",
    "        refTotal = refTotal + refCount\n",
    "        genTotal = genTotal + genCount\n",
    "    end\n",
    "\n",
    "    recall = intersection / refTotal\n",
    "    prec = intersection / genTotal\n",
    "    if refTotal == 0 then\n",
    "        recall = 0\n",
    "    end \n",
    "    if genTotal == 0 then\n",
    "        prec = 0\n",
    "    end\n",
    "    -- tmp = {intersection, refTotal, genTotal}\n",
    "    if recall > 0 or prec > 0 then\n",
    "        f1 = (2 * recall * prec) / (recall + prec)\n",
    "    else \n",
    "        f1 = 0\n",
    "    end\n",
    "    return recall, prec, f1\n",
    "end\n",
    "\n",
    "function buildPredsummary(chosenactions, inputsentences, select_index)\n",
    "    local summary = torch.zeros(inputsentences:size())\n",
    "    for i=1, chosenactions:size(1) do\n",
    "        -- the 2 is for the SELECT index, will have to make this more general later\n",
    "        if chosenactions[i][select_index] == 1 then\n",
    "            summary[i]:copy(inputsentences[i])\n",
    "        end\n",
    "    end    \n",
    "    return summary\n",
    "end\n",
    "\n",
    "function buildPredsummaryFast(chosenactions, inputsentences, select_index)\n",
    "    local n = inputsentences:size(1)\n",
    "    local k = inputsentences:size(2)\n",
    "    local summary = torch.zeros(inputsentences:size())\n",
    "    actionmatrix = chosenactions:select(2, select_index):clone():resize(n, 1):view(n, 1):expand(n, k):clone()\n",
    "    --     This line didn't work for whatever reason...gives weird indexing...\n",
    "    --     actionmatrix = chosenactions:select(2, select_index):resize(1, n):view(n, 1):expand(n, k):clone()\n",
    "    return actionmatrix:cmul(inputsentences:double())\n",
    "end\n",
    "\n",
    "function buildTotalSummary(predsummary, totalPredsummary)\n",
    "    nps = predsummary:size(1)\n",
    "    n_l = totalPredsummary:size(2)\n",
    "    indices = torch.linspace(1, n_l, n_l):long() \n",
    "    for i=1, predsummary:size(1) do\n",
    "        if predsummary[i]:sum() > 0 then \n",
    "            minindex = 1\n",
    "            for j = 1, totalPredsummary[i]:size(1) do \n",
    "                if totalPredsummary[i][j] > 0 then\n",
    "                    minindex = minindex + 1\n",
    "                end\n",
    "            end\n",
    "            lenx = predsummary[i]:size(1)\n",
    "            totalPredsummary[i][{{minindex, minindex + lenx - 1}}]:copy(predsummary[i])\n",
    "\n",
    "        end\n",
    "    end\n",
    "end\n",
    "\n",
    "function buildTotalSummaryFast(predsummary, inputTotalSummary, usecuda)\n",
    "    tmpSummary = inputTotalSummary:clone()\n",
    "    nps = predsummary:size(1)\n",
    "    n_l = inputTotalSummary:size(2)    \n",
    "    indices = torch.linspace(1, n_l, n_l):long()\n",
    "    if usecuda then\n",
    "        indices = indices:cuda()\n",
    "    end\n",
    "    for i=1, predsummary:size(1) do\n",
    "        if predsummary[i]:sum() > 0 then\n",
    "            -- Finding the largest index with a zero\n",
    "            -- maxindex = torch.max(indices[torch.eq(totalPredsummary[i], 0)])\n",
    "            -- totalPredsummary[i][{{maxindex - lenx + 1, maxindex}}]:copy(predsummary[i])\n",
    "            -- Finding the smallest index with a zero\n",
    "            minindex = torch.min(indices[torch.eq(tmpSummary[i], 0)])\n",
    "            lenx = predsummary[i]:size(1)\n",
    "            tmpSummary[i][{{minindex, minindex + lenx - 1}}]:copy(predsummary[i])\n",
    "        end\n",
    "    end\n",
    "    return tmpSummary\n",
    "end"
   ]
  },
  {
   "cell_type": "code",
   "execution_count": 10,
   "metadata": {
    "collapsed": true
   },
   "outputs": [],
   "source": [
    "-- Setting parameters\n",
    "n = 10\n",
    "n_s = 5\n",
    "k = 3\n",
    "q = 4\n",
    "a = 1\n",
    "b = 1000\n",
    "embDim = 50\n",
    "gamma = 0.0\n",
    "SKIP = 1\n",
    "SELECT = 2\n",
    "epsilon = 1\n",
    "nepochs = 100\n",
    "base_explore_rate = 0.1\n",
    "end_baserate = torch.round(nepochs * 0.8)\n",
    "\n",
    "lr = 1e-8\n",
    "fast = true\n",
    "usecuda = false\n",
    "adapt = false\n",
    "cuts = 4\n",
    "mem_multiplier = 1\n",
    "batch_size = 25\n",
    "delta = cuts/nepochs\n",
    "print_perf = true"
   ]
  },
  {
   "cell_type": "code",
   "execution_count": 11,
   "metadata": {
    "collapsed": false
   },
   "outputs": [
    {
     "data": {
      "text/plain": [
       "...running on CPU\t\n"
      ]
     },
     "execution_count": 11,
     "metadata": {},
     "output_type": "execute_result"
    }
   ],
   "source": [
    "-- Simulating the data\n",
    "\n",
    "if usecuda then\n",
    "    Tensor = torch.CudaTensor\n",
    "    LongTensor = torch.CudaLongTensor   \n",
    "    ByteTensor = torch.CudaByteTensor\n",
    "    maskLayer = nn.MaskedSelect():cuda()\n",
    "    print(\"...running on GPU\")\n",
    "else\n",
    "    maskLayer = nn.MaskedSelect()\n",
    "    torch.setnumthreads(8)\n",
    "    Tensor = torch.Tensor\n",
    "    LongTensor = torch.LongTensor\n",
    "    ByteTensor = torch.ByteTensor\n",
    "    print(\"...running on CPU\")\n",
    "end\n",
    "\n",
    "-- Simulating streams and queries\n",
    "queries = genNbyK(n, q, a, b)\n",
    "\n",
    "-- Note that the sentences are batched by sentence index so sentences[1] is the first sentence of each article\n",
    "sentences = {}\n",
    "for i=1, n_s do\n",
    "    sentences[i] = genNbyK(n, k, a, b)\n",
    "end\n",
    "-- Optimal predicted summary\n",
    "trueSummary = LongTensor(n, k * n_s):fill(0)\n",
    "\n",
    "-- Using this to generate the optimal actions\n",
    "true_actions = {}\n",
    "for i=1, n_s do \n",
    "    ---- Simulating the data\n",
    "    trueqValues = torch.rand(n, 2)\n",
    "\n",
    "     ---- Generating the max values and getting the indices\n",
    "    qMaxtrue, qindxtrue = torch.max(trueqValues, 2)\n",
    "\n",
    "    --- I want to select the qindx elements for each row\n",
    "    true_actions[i] = torch.zeros(n, 2):scatter(2, qindxtrue, torch.ones(trueqValues:size()))\n",
    "    best_sentences = buildPredsummaryFast(true_actions[i], sentences[i], SELECT)\n",
    "    trueSummary = buildTotalSummaryFast(best_sentences, trueSummary, usecuda)\n",
    "end\n",
    "\n",
    "qTokens = {}\n",
    "for i=1, n do\n",
    "    qTokens[i] = Tokenize(trueSummary[i]:totable())\n",
    "end"
   ]
  },
  {
   "cell_type": "markdown",
   "metadata": {},
   "source": [
    "# Scoring the rougue metrics on the simulation"
   ]
  },
  {
   "cell_type": "code",
   "execution_count": 12,
   "metadata": {
    "collapsed": false
   },
   "outputs": [
    {
     "data": {
      "text/plain": [
       "1\t1\t1\t\n"
      ]
     },
     "execution_count": 12,
     "metadata": {},
     "output_type": "execute_result"
    }
   ],
   "source": [
    "print(rougeScores(Tokenize(trueSummary[1]:totable()), Tokenize(trueSummary[1]:totable())))"
   ]
  },
  {
   "cell_type": "markdown",
   "metadata": {},
   "source": [
    "# Building the model"
   ]
  },
  {
   "cell_type": "code",
   "execution_count": 13,
   "metadata": {
    "collapsed": false
   },
   "outputs": [
    {
     "data": {
      "text/plain": [
       "Running LSTM model to learn f1\t\n"
      ]
     },
     "execution_count": 13,
     "metadata": {},
     "output_type": "execute_result"
    }
   ],
   "source": [
    "model = buildModel('lstm', b, embDim, 'f1', adapt, usecuda)\n",
    "-- model = buildModel('lstm', b, embDim, 'f1', false, usecuda)\n",
    "-- model = buildModel('bow', b, embDim, 'f1', false, false)\n",
    "\n",
    "params, gradParams = model:getParameters()\n",
    "if adapt then \n",
    "    criterion = nn.ParallelCriterion():add(nn.MSECriterion()):add(nn.BCECriterion())\n",
    "    criterion['weights'] = {1, 0.25}\n",
    "else \n",
    "    criterion = nn.MSECriterion()\n",
    "end \n",
    "\n",
    "if usecuda then\n",
    "    criterion = criterion:cuda()\n",
    "    model = model:cuda()\n",
    "end"
   ]
  },
  {
   "cell_type": "markdown",
   "metadata": {},
   "source": [
    "# Scoring the model on the sentences"
   ]
  },
  {
   "cell_type": "code",
   "execution_count": 14,
   "metadata": {
    "collapsed": false,
    "scrolled": true
   },
   "outputs": [
    {
     "data": {
      "text/plain": [
       "epoch = 1; rougue = 0.441905; epsilon = 1.000000; loss = 0.198384\t\n"
      ]
     },
     "execution_count": 14,
     "metadata": {},
     "output_type": "execute_result"
    },
    {
     "data": {
      "text/plain": [
       "epoch = 2; rougue = 0.585238; epsilon = 0.960000; loss = 1447.331028\t\n"
      ]
     },
     "execution_count": 14,
     "metadata": {},
     "output_type": "execute_result"
    },
    {
     "data": {
      "text/plain": [
       "epoch = 3; rougue = 0.417778; epsilon = 0.920000; loss = 8.074948\t\n"
      ]
     },
     "execution_count": 14,
     "metadata": {},
     "output_type": "execute_result"
    },
    {
     "data": {
      "text/plain": [
       "epoch = 4; rougue = 0.388889; epsilon = 0.880000; loss = 17.963194\t\n"
      ]
     },
     "execution_count": 14,
     "metadata": {},
     "output_type": "execute_result"
    },
    {
     "data": {
      "text/plain": [
       "epoch = 5; rougue = 0.387698; epsilon = 0.840000; loss = 14.400504\t\n"
      ]
     },
     "execution_count": 14,
     "metadata": {},
     "output_type": "execute_result"
    },
    {
     "data": {
      "text/plain": [
       "epoch = 6; rougue = 0.495159; epsilon = 0.800000; loss = 0.890343\t\n"
      ]
     },
     "execution_count": 14,
     "metadata": {},
     "output_type": "execute_result"
    },
    {
     "data": {
      "text/plain": [
       "epoch = 7; rougue = 0.466667; epsilon = 0.760000; loss = 18.901718\t\n"
      ]
     },
     "execution_count": 14,
     "metadata": {},
     "output_type": "execute_result"
    },
    {
     "data": {
      "text/plain": [
       "epoch = 8; rougue = 0.514365; epsilon = 0.720000; loss = 791.727762\t\n"
      ]
     },
     "execution_count": 14,
     "metadata": {},
     "output_type": "execute_result"
    },
    {
     "data": {
      "text/plain": [
       "epoch = 9; rougue = 0.435000; epsilon = 0.680000; loss = 24.049262\t\n"
      ]
     },
     "execution_count": 14,
     "metadata": {},
     "output_type": "execute_result"
    },
    {
     "data": {
      "text/plain": [
       "epoch = 10; rougue = 0.447143; epsilon = 0.640000; loss = 22.987530\t\n"
      ]
     },
     "execution_count": 14,
     "metadata": {},
     "output_type": "execute_result"
    },
    {
     "data": {
      "text/plain": [
       "epoch = 11; rougue = 0.445476; epsilon = 0.600000; loss = 118.802661\t\n"
      ]
     },
     "execution_count": 14,
     "metadata": {},
     "output_type": "execute_result"
    },
    {
     "data": {
      "text/plain": [
       "epoch = 12; rougue = 0.358810; epsilon = 0.560000; loss = 1954.854960\t\n"
      ]
     },
     "execution_count": 14,
     "metadata": {},
     "output_type": "execute_result"
    },
    {
     "data": {
      "text/plain": [
       "epoch = 13; rougue = 0.398810; epsilon = 0.520000; loss = 22211.046678\t\n"
      ]
     },
     "execution_count": 14,
     "metadata": {},
     "output_type": "execute_result"
    },
    {
     "data": {
      "text/plain": [
       "epoch = 14; rougue = 0.441667; epsilon = 0.480000; loss = 65222.256417\t\n"
      ]
     },
     "execution_count": 14,
     "metadata": {},
     "output_type": "execute_result"
    },
    {
     "data": {
      "text/plain": [
       "epoch = 15; rougue = 0.331190; epsilon = 0.440000; loss = 290344.009201\t\n"
      ]
     },
     "execution_count": 14,
     "metadata": {},
     "output_type": "execute_result"
    },
    {
     "data": {
      "text/plain": [
       "epoch = 16; rougue = 0.400000; epsilon = 0.400000; loss = 560910.901437\t\n"
      ]
     },
     "execution_count": 14,
     "metadata": {},
     "output_type": "execute_result"
    },
    {
     "data": {
      "text/plain": [
       "epoch = 17; rougue = 0.330476; epsilon = 0.360000; loss = 3175989.724833\t\n"
      ]
     },
     "execution_count": 14,
     "metadata": {},
     "output_type": "execute_result"
    },
    {
     "data": {
      "text/plain": [
       "epoch = 18; rougue = 0.331429; epsilon = 0.320000; loss = 4403616.825208\t\n"
      ]
     },
     "execution_count": 14,
     "metadata": {},
     "output_type": "execute_result"
    },
    {
     "data": {
      "text/plain": [
       "epoch = 19; rougue = 0.527857; epsilon = 0.280000; loss = 13650054.475425\t\n"
      ]
     },
     "execution_count": 14,
     "metadata": {},
     "output_type": "execute_result"
    },
    {
     "data": {
      "text/plain": [
       "epoch = 20; rougue = 0.183333; epsilon = 0.240000; loss = 21052903.031737\t\n"
      ]
     },
     "execution_count": 14,
     "metadata": {},
     "output_type": "execute_result"
    },
    {
     "data": {
      "text/plain": [
       "epoch = 21; rougue = 0.000000; epsilon = 0.200000; loss = 19814403.064725\t\n"
      ]
     },
     "execution_count": 14,
     "metadata": {},
     "output_type": "execute_result"
    },
    {
     "data": {
      "text/plain": [
       "epoch = 22; rougue = 0.000000; epsilon = 0.160000; loss = 45087595.142296\t\n"
      ]
     },
     "execution_count": 14,
     "metadata": {},
     "output_type": "execute_result"
    },
    {
     "data": {
      "text/plain": [
       "epoch = 23; rougue = 0.000000; epsilon = 0.120000; loss = 85887885.602907\t\n"
      ]
     },
     "execution_count": 14,
     "metadata": {},
     "output_type": "execute_result"
    },
    {
     "data": {
      "text/plain": [
       "epoch = 24; rougue = 0.000000; epsilon = 0.100000; loss = 155795181.082346\t\n"
      ]
     },
     "execution_count": 14,
     "metadata": {},
     "output_type": "execute_result"
    },
    {
     "data": {
      "text/plain": [
       "epoch = 25; rougue = 0.263889; epsilon = 0.100000; loss = 228716791.459958\t\n"
      ]
     },
     "execution_count": 14,
     "metadata": {},
     "output_type": "execute_result"
    },
    {
     "data": {
      "text/plain": [
       "epoch = 26; rougue = 0.000000; epsilon = 0.100000; loss = 296574104.545946\t\n"
      ]
     },
     "execution_count": 14,
     "metadata": {},
     "output_type": "execute_result"
    },
    {
     "data": {
      "text/plain": [
       "epoch = 27; rougue = 0.347222; epsilon = 0.100000; loss = 441117176.330105\t\n"
      ]
     },
     "execution_count": 14,
     "metadata": {},
     "output_type": "execute_result"
    },
    {
     "data": {
      "text/plain": [
       "epoch = 28; rougue = 0.000000; epsilon = 0.100000; loss = 707841326.276625\t\n"
      ]
     },
     "execution_count": 14,
     "metadata": {},
     "output_type": "execute_result"
    },
    {
     "data": {
      "text/plain": [
       "epoch = 29; rougue = 0.456667; epsilon = 0.100000; loss = 486205373.225448\t"
      ]
     },
     "execution_count": 14,
     "metadata": {},
     "output_type": "execute_result"
    },
    {
     "data": {
      "text/plain": [
       "\n"
      ]
     },
     "execution_count": 14,
     "metadata": {},
     "output_type": "execute_result"
    },
    {
     "data": {
      "text/plain": [
       "epoch = 30; rougue = 0.497222; epsilon = 0.100000; loss = 675924388.541191\t\n"
      ]
     },
     "execution_count": 14,
     "metadata": {},
     "output_type": "execute_result"
    },
    {
     "data": {
      "text/plain": [
       "epoch = 31; rougue = 0.497222; epsilon = 0.100000; loss = 661431478.929634\t\n"
      ]
     },
     "execution_count": 14,
     "metadata": {},
     "output_type": "execute_result"
    },
    {
     "data": {
      "text/plain": [
       "epoch = 32; rougue = 0.521032; epsilon = 0.100000; loss = 884251156.086987\t\n"
      ]
     },
     "execution_count": 14,
     "metadata": {},
     "output_type": "execute_result"
    },
    {
     "data": {
      "text/plain": [
       "epoch = 33; rougue = 0.521032; epsilon = 0.100000; loss = 987860068.733271\t\n"
      ]
     },
     "execution_count": 14,
     "metadata": {},
     "output_type": "execute_result"
    },
    {
     "data": {
      "text/plain": [
       "epoch = 34; rougue = 0.521032; epsilon = 0.100000; loss = 810641869.385338\t\n"
      ]
     },
     "execution_count": 14,
     "metadata": {},
     "output_type": "execute_result"
    },
    {
     "data": {
      "text/plain": [
       "epoch = 35; rougue = 0.521032; epsilon = 0.100000; loss = 1008855547.653472\t\n"
      ]
     },
     "execution_count": 14,
     "metadata": {},
     "output_type": "execute_result"
    },
    {
     "data": {
      "text/plain": [
       "epoch = 36; rougue = 0.494048; epsilon = 0.100000; loss = 2126430297.230240\t\n"
      ]
     },
     "execution_count": 14,
     "metadata": {},
     "output_type": "execute_result"
    },
    {
     "data": {
      "text/plain": [
       "epoch = 37; rougue = 0.496032; epsilon = 0.100000; loss = 1998380515.203047\t\n"
      ]
     },
     "execution_count": 14,
     "metadata": {},
     "output_type": "execute_result"
    },
    {
     "data": {
      "text/plain": [
       "epoch = 38; rougue = 0.521032; epsilon = 0.100000; loss = 2005649654.437991\t"
      ]
     },
     "execution_count": 14,
     "metadata": {},
     "output_type": "execute_result"
    },
    {
     "data": {
      "text/plain": [
       "\n"
      ]
     },
     "execution_count": 14,
     "metadata": {},
     "output_type": "execute_result"
    },
    {
     "data": {
      "text/plain": [
       "epoch = 39; rougue = 0.704365; epsilon = 0.100000; loss = 1943267007.256223\t\n"
      ]
     },
     "execution_count": 14,
     "metadata": {},
     "output_type": "execute_result"
    },
    {
     "data": {
      "text/plain": [
       "epoch = 40; rougue = 0.704365; epsilon = 0.100000; loss = 2174889314.264749\t\n"
      ]
     },
     "execution_count": 14,
     "metadata": {},
     "output_type": "execute_result"
    },
    {
     "data": {
      "text/plain": [
       "epoch = 41; rougue = 0.619762; epsilon = 0.100000; loss = 3820088839.231437\t\n"
      ]
     },
     "execution_count": 14,
     "metadata": {},
     "output_type": "execute_result"
    },
    {
     "data": {
      "text/plain": [
       "epoch = 42; rougue = 0.753492; epsilon = 0.100000; loss = 3946804873.469470\t\n"
      ]
     },
     "execution_count": 14,
     "metadata": {},
     "output_type": "execute_result"
    },
    {
     "data": {
      "text/plain": [
       "epoch = 43; rougue = 0.704365; epsilon = 0.100000; loss = 4440669713.367082\t\n"
      ]
     },
     "execution_count": 14,
     "metadata": {},
     "output_type": "execute_result"
    },
    {
     "data": {
      "text/plain": [
       "epoch = 44; rougue = 0.720556; epsilon = 0.100000; loss = 4686382272.299315\t\n"
      ]
     },
     "execution_count": 14,
     "metadata": {},
     "output_type": "execute_result"
    },
    {
     "data": {
      "text/plain": [
       "epoch = 45; rougue = 0.704365; epsilon = 0.100000; loss = 6267204803.102913\t\n"
      ]
     },
     "execution_count": 14,
     "metadata": {},
     "output_type": "execute_result"
    },
    {
     "data": {
      "text/plain": [
       "epoch = 46; rougue = 0.667381; epsilon = 0.100000; loss = 6520288798.225548\t\n"
      ]
     },
     "execution_count": 14,
     "metadata": {},
     "output_type": "execute_result"
    },
    {
     "data": {
      "text/plain": [
       "epoch = 47; rougue = 0.704365; epsilon = 0.100000; loss = 6127623287.969687\t\n"
      ]
     },
     "execution_count": 14,
     "metadata": {},
     "output_type": "execute_result"
    },
    {
     "data": {
      "text/plain": [
       "epoch = 48; rougue = 0.711825; epsilon = 0.100000; loss = 9638899520.740551\t\n"
      ]
     },
     "execution_count": 14,
     "metadata": {},
     "output_type": "execute_result"
    },
    {
     "data": {
      "text/plain": [
       "epoch = 49; rougue = 0.710635; epsilon = 0.100000; loss = 9551520611.314098\t\n"
      ]
     },
     "execution_count": 14,
     "metadata": {},
     "output_type": "execute_result"
    },
    {
     "data": {
      "text/plain": [
       "epoch = 50; rougue = 0.704365; epsilon = 0.100000; loss = 12464658634.357006\t\n"
      ]
     },
     "execution_count": 14,
     "metadata": {},
     "output_type": "execute_result"
    },
    {
     "data": {
      "text/plain": [
       "epoch = 51; rougue = 0.687222; epsilon = 0.100000; loss = 15195031309.686562\t\n"
      ]
     },
     "execution_count": 14,
     "metadata": {},
     "output_type": "execute_result"
    },
    {
     "data": {
      "text/plain": [
       "epoch = 52; rougue = 0.446032; epsilon = 0.100000; loss = 21980799888.524448\t\n"
      ]
     },
     "execution_count": 14,
     "metadata": {},
     "output_type": "execute_result"
    },
    {
     "data": {
      "text/plain": [
       "epoch = 53; rougue = 0.272222; epsilon = 0.100000; loss = 25689992528.045418\t\n"
      ]
     },
     "execution_count": 14,
     "metadata": {},
     "output_type": "execute_result"
    },
    {
     "data": {
      "text/plain": [
       "epoch = 54; rougue = 0.272222; epsilon = 0.100000; loss = 20456975359.595421\t\n"
      ]
     },
     "execution_count": 14,
     "metadata": {},
     "output_type": "execute_result"
    },
    {
     "data": {
      "text/plain": [
       "epoch = 55; rougue = 0.272222; epsilon = 0.100000; loss = 24766878127.516457\t\n"
      ]
     },
     "execution_count": 14,
     "metadata": {},
     "output_type": "execute_result"
    },
    {
     "data": {
      "text/plain": [
       "epoch = 56; rougue = 0.269048; epsilon = 0.100000; loss = 25651804586.747040\t\n"
      ]
     },
     "execution_count": 14,
     "metadata": {},
     "output_type": "execute_result"
    },
    {
     "data": {
      "text/plain": [
       "epoch = 57; rougue = 0.190000; epsilon = 0.100000; loss = 27347706772.815598\t\n"
      ]
     },
     "execution_count": 14,
     "metadata": {},
     "output_type": "execute_result"
    },
    {
     "data": {
      "text/plain": [
       "epoch = 58; rougue = 0.187619; epsilon = 0.100000; loss = 30127501361.621349\t\n"
      ]
     },
     "execution_count": 14,
     "metadata": {},
     "output_type": "execute_result"
    },
    {
     "data": {
      "text/plain": [
       "epoch = 59; rougue = 0.572143; epsilon = 0.100000; loss = 24652445255.045803\t\n"
      ]
     },
     "execution_count": 14,
     "metadata": {},
     "output_type": "execute_result"
    },
    {
     "data": {
      "text/plain": [
       "epoch = 60; rougue = 0.543254; epsilon = 0.100000; loss = 27382387324.296127\t\n"
      ]
     },
     "execution_count": 14,
     "metadata": {},
     "output_type": "execute_result"
    },
    {
     "data": {
      "text/plain": [
       "epoch = 61; rougue = 0.621032; epsilon = 0.100000; loss = 25956605910.972595\t\n"
      ]
     },
     "execution_count": 14,
     "metadata": {},
     "output_type": "execute_result"
    },
    {
     "data": {
      "text/plain": [
       "epoch = 62; rougue = 0.690476; epsilon = 0.100000; loss = 33772718050.825199\t\n"
      ]
     },
     "execution_count": 14,
     "metadata": {},
     "output_type": "execute_result"
    },
    {
     "data": {
      "text/plain": [
       "epoch = 63; rougue = 0.658651; epsilon = 0.100000; loss = 46862691025.537338\t\n"
      ]
     },
     "execution_count": 14,
     "metadata": {},
     "output_type": "execute_result"
    },
    {
     "data": {
      "text/plain": [
       "epoch = 64; rougue = 0.513889; epsilon = 0.100000; loss = 53430133277.558197\t\n"
      ]
     },
     "execution_count": 14,
     "metadata": {},
     "output_type": "execute_result"
    },
    {
     "data": {
      "text/plain": [
       "epoch = 65; rougue = 0.704365; epsilon = 0.100000; loss = 33891574384.999516\t\n"
      ]
     },
     "execution_count": 14,
     "metadata": {},
     "output_type": "execute_result"
    },
    {
     "data": {
      "text/plain": [
       "epoch = 66; rougue = 0.704365; epsilon = 0.100000; loss = 44032237052.611679\t\n"
      ]
     },
     "execution_count": 14,
     "metadata": {},
     "output_type": "execute_result"
    },
    {
     "data": {
      "text/plain": [
       "epoch = 67; rougue = 0.704365; epsilon = 0.100000; loss = 42531155206.621048\t\n"
      ]
     },
     "execution_count": 14,
     "metadata": {},
     "output_type": "execute_result"
    },
    {
     "data": {
      "text/plain": [
       "epoch = 68; rougue = 0.577381; epsilon = 0.100000; loss = 68995573617.905457\t\n"
      ]
     },
     "execution_count": 14,
     "metadata": {},
     "output_type": "execute_result"
    },
    {
     "data": {
      "text/plain": [
       "epoch = 69; rougue = 0.672619; epsilon = 0.100000; loss = 52380274413.951668\t\n"
      ]
     },
     "execution_count": 14,
     "metadata": {},
     "output_type": "execute_result"
    },
    {
     "data": {
      "text/plain": [
       "epoch = 70; rougue = 0.614127; epsilon = 0.100000; loss = 71412757138.493805\t\n"
      ]
     },
     "execution_count": 14,
     "metadata": {},
     "output_type": "execute_result"
    },
    {
     "data": {
      "text/plain": [
       "epoch = 71; rougue = 0.672619; epsilon = 0.100000; loss = 91733927987.008759\t\n"
      ]
     },
     "execution_count": 14,
     "metadata": {},
     "output_type": "execute_result"
    },
    {
     "data": {
      "text/plain": [
       "epoch = 72; rougue = 0.672619; epsilon = 0.100000; loss = 81342742792.708588\t\n"
      ]
     },
     "execution_count": 14,
     "metadata": {},
     "output_type": "execute_result"
    },
    {
     "data": {
      "text/plain": [
       "epoch = 73; rougue = 0.672619; epsilon = 0.100000; loss = 89053337968.536438\t\n"
      ]
     },
     "execution_count": 14,
     "metadata": {},
     "output_type": "execute_result"
    },
    {
     "data": {
      "text/plain": [
       "epoch = 74; rougue = 0.699921; epsilon = 0.100000; loss = 105396579591.721405\t\n"
      ]
     },
     "execution_count": 14,
     "metadata": {},
     "output_type": "execute_result"
    },
    {
     "data": {
      "text/plain": [
       "epoch = 75; rougue = 0.622063; epsilon = 0.100000; loss = 133288587375.486053\t\n"
      ]
     },
     "execution_count": 14,
     "metadata": {},
     "output_type": "execute_result"
    },
    {
     "data": {
      "text/plain": [
       "epoch = 76; rougue = 0.622063; epsilon = 0.100000; loss = 112047589848.883041\t\n"
      ]
     },
     "execution_count": 14,
     "metadata": {},
     "output_type": "execute_result"
    },
    {
     "data": {
      "text/plain": [
       "epoch = 77; rougue = 0.622063; epsilon = 0.100000; loss = 107184809690.762314\t\n"
      ]
     },
     "execution_count": 14,
     "metadata": {},
     "output_type": "execute_result"
    },
    {
     "data": {
      "text/plain": [
       "epoch = 78; rougue = 0.561429; epsilon = 0.100000; loss = 123102613418.917847\t\n"
      ]
     },
     "execution_count": 14,
     "metadata": {},
     "output_type": "execute_result"
    },
    {
     "data": {
      "text/plain": [
       "epoch = 79; rougue = 0.272222; epsilon = 0.100000; loss = 131691827657.567444\t\n"
      ]
     },
     "execution_count": 14,
     "metadata": {},
     "output_type": "execute_result"
    },
    {
     "data": {
      "text/plain": [
       "epoch = 80; rougue = 0.622063; epsilon = 0.100000; loss = 165839603661.298218\t\n"
      ]
     },
     "execution_count": 14,
     "metadata": {},
     "output_type": "execute_result"
    },
    {
     "data": {
      "text/plain": [
       "epoch = 81; rougue = 0.272222; epsilon = 0.100000; loss = 154640568939.593323\t\n"
      ]
     },
     "execution_count": 14,
     "metadata": {},
     "output_type": "execute_result"
    },
    {
     "data": {
      "text/plain": [
       "epoch = 82; rougue = 0.340317; epsilon = 0.100000; loss = 161801594127.395538\t\n"
      ]
     },
     "execution_count": 14,
     "metadata": {},
     "output_type": "execute_result"
    },
    {
     "data": {
      "text/plain": [
       "epoch = 83; rougue = 0.272222; epsilon = 0.060000; loss = 157942462442.290344\t\n"
      ]
     },
     "execution_count": 14,
     "metadata": {},
     "output_type": "execute_result"
    },
    {
     "data": {
      "text/plain": [
       "epoch = 84; rougue = 0.140000; epsilon = 0.020000; loss = 166733062947.333832\t\n"
      ]
     },
     "execution_count": 14,
     "metadata": {},
     "output_type": "execute_result"
    },
    {
     "data": {
      "text/plain": [
       "epoch = 85; rougue = 0.000000; epsilon = 0.000000; loss = 175404532495.822449\t\n"
      ]
     },
     "execution_count": 14,
     "metadata": {},
     "output_type": "execute_result"
    },
    {
     "data": {
      "text/plain": [
       "epoch = 86; rougue = 0.000000; epsilon = 0.000000; loss = 178895536854.994080\t\n"
      ]
     },
     "execution_count": 14,
     "metadata": {},
     "output_type": "execute_result"
    },
    {
     "data": {
      "text/plain": [
       "epoch = 87; rougue = 0.000000; epsilon = 0.000000; loss = 197419860211.278076\t\n"
      ]
     },
     "execution_count": 14,
     "metadata": {},
     "output_type": "execute_result"
    },
    {
     "data": {
      "text/plain": [
       "epoch = 88; rougue = 0.000000; epsilon = 0.000000; loss = 237447216747.040466\t\n"
      ]
     },
     "execution_count": 14,
     "metadata": {},
     "output_type": "execute_result"
    },
    {
     "data": {
      "text/plain": [
       "epoch = 89; rougue = 0.000000; epsilon = 0.000000; loss = 232863051301.587952\t\n"
      ]
     },
     "execution_count": 14,
     "metadata": {},
     "output_type": "execute_result"
    },
    {
     "data": {
      "text/plain": [
       "epoch = 90; rougue = 0.000000; epsilon = 0.000000; loss = 246588946278.613586\t\n"
      ]
     },
     "execution_count": 14,
     "metadata": {},
     "output_type": "execute_result"
    },
    {
     "data": {
      "text/plain": [
       "epoch = 91; rougue = 0.000000; epsilon = 0.000000; loss = 251048560602.916870\t\n"
      ]
     },
     "execution_count": 14,
     "metadata": {},
     "output_type": "execute_result"
    },
    {
     "data": {
      "text/plain": [
       "epoch = 92; rougue = 0.000000; epsilon = 0.000000; loss = 313214806765.825928\t\n"
      ]
     },
     "execution_count": 14,
     "metadata": {},
     "output_type": "execute_result"
    },
    {
     "data": {
      "text/plain": [
       "epoch = 93; rougue = 0.000000; epsilon = 0.000000; loss = 333952020797.333496\t\n"
      ]
     },
     "execution_count": 14,
     "metadata": {},
     "output_type": "execute_result"
    },
    {
     "data": {
      "text/plain": [
       "epoch = 94; rougue = 0.000000; epsilon = 0.000000; loss = 334778464221.148560\t\n"
      ]
     },
     "execution_count": 14,
     "metadata": {},
     "output_type": "execute_result"
    },
    {
     "data": {
      "text/plain": [
       "epoch = 95; rougue = 0.000000; epsilon = 0.000000; loss = 381606558324.430786\t\n"
      ]
     },
     "execution_count": 14,
     "metadata": {},
     "output_type": "execute_result"
    },
    {
     "data": {
      "text/plain": [
       "epoch = 96; rougue = 0.000000; epsilon = 0.000000; loss = 345872843108.208130\t\n"
      ]
     },
     "execution_count": 14,
     "metadata": {},
     "output_type": "execute_result"
    },
    {
     "data": {
      "text/plain": [
       "epoch = 97; rougue = 0.000000; epsilon = 0.000000; loss = 413046796190.239807\t\n"
      ]
     },
     "execution_count": 14,
     "metadata": {},
     "output_type": "execute_result"
    },
    {
     "data": {
      "text/plain": [
       "epoch = 98; rougue = 0.000000; epsilon = 0.000000; loss = 431917391440.981567\t\n"
      ]
     },
     "execution_count": 14,
     "metadata": {},
     "output_type": "execute_result"
    },
    {
     "data": {
      "text/plain": [
       "epoch = 99; rougue = 0.000000; epsilon = 0.000000; loss = 425762789210.167480\t\n"
      ]
     },
     "execution_count": 14,
     "metadata": {},
     "output_type": "execute_result"
    },
    {
     "data": {
      "text/plain": [
       "epoch = 100; rougue = 0.000000; epsilon = 0.000000; loss = 488463628267.096680\t\n"
      ]
     },
     "execution_count": 14,
     "metadata": {},
     "output_type": "execute_result"
    }
   ],
   "source": [
    "totalPredsummary = {}\n",
    "qValues = {}\n",
    "qActions = {}\n",
    "qPreds = {}\n",
    "rewards = {}\n",
    "lossfull = {}\n",
    "rouguef1 = {}\n",
    "\n",
    "totalPredsummary = LongTensor(n, n_s * k):fill(0)\n",
    "\n",
    "memfull = false\n",
    "curr_memsize = 0\n",
    "memsize = n * n_s * mem_multiplier\n",
    "queryMemory = Tensor(memsize, q):fill(0)\n",
    "qActionMemory = Tensor(memsize, 2):fill(0)\n",
    "predSummaryMemory = Tensor(memsize, n_s * k):fill(0)\n",
    "sentenceMemory = Tensor(memsize, k):fill(0)\n",
    "qPredsMemory = Tensor(memsize, 2):fill(0)\n",
    "qValuesMemory = Tensor(memsize, 1):fill(0)\n",
    "rewardMemory = Tensor(memsize, 1):fill(0)\n",
    "\n",
    "if adapt then\n",
    "    regPreds = {}\n",
    "    regMemory = Tensor(memsize, 1):fill(0) \n",
    "end\n",
    "\n",
    "--- Initializing thingss\n",
    "for i = 1, n_s do\n",
    "    qPreds[i] = Tensor(n, 2):fill(0) \n",
    "    qValues[i] = Tensor(n, 1):fill(0)\n",
    "    qActions[i] = Tensor(n, 2):fill(0)\n",
    "    rewards[i] = Tensor(n, 1):fill(0)\n",
    "    if adapt then\n",
    "        regPreds[i] = Tensor(n, 1):fill(0)\n",
    "    end        \n",
    "end \n",
    "\n",
    "if usecuda then\n",
    "    criterion = criterion:cuda()\n",
    "    model = model:cuda()\n",
    "end\n",
    "\n",
    "for epoch=1, nepochs do\n",
    "    --- Reset things at the start of each epoch\n",
    "    for i=1, n_s do\n",
    "        qPreds[i]:fill(0)\n",
    "        qValues[i]:fill(0)\n",
    "        qActions[i]:fill(0)\n",
    "        rewards[i]:fill(0)\n",
    "        totalPredsummary:fill(0)\n",
    "        if adapt then\n",
    "            regMemory[i]:fill(0)\n",
    "        end        \n",
    "    end\n",
    "\n",
    "    for i=1, n_s do\n",
    "        totalPreds = model:forward({sentences[i], queries, totalPredsummary})\n",
    "        \n",
    "        if adapt then \n",
    "            qPreds[i]:copy(totalPreds[1])\n",
    "            regPreds[i]:copy(totalPreds[2])\n",
    "        else\n",
    "            qPreds[i]:copy(totalPreds)\n",
    "        end\n",
    "\n",
    "        if torch.uniform(0, 1) <= epsilon then\n",
    "            --- Need to do something here\n",
    "            xrand = torch.rand(qPreds[i]:size())\n",
    "            qActions[i]:select(2, SELECT):copy(torch.ge(xrand:select(2, SELECT), xrand:select(2, SKIP)))\n",
    "            qActions[i]:select(2, SKIP):copy(torch.ge(xrand:select(2, SKIP), xrand:select(2, SELECT)))\n",
    "            qValues[i]:copy(maskLayer:forward({totalPreds, qActions[i]:byte() }) )\n",
    "        else \n",
    "            qMax, qindx = torch.max(qPreds[i], 2)  -- Pulling the best actions\n",
    "            -- Here's the fast way to select the optimal action for each query\n",
    "            qActions[i]:copy(qActions[i]:scatter(2, qindx, torch.ones(qPreds[i]:size())):clone())\n",
    "            qValues[i]:copy(qMax)\n",
    "\n",
    "        end \n",
    "        predsummary = buildPredsummaryFast(qActions[i], sentences[i], SELECT)\n",
    "        totalPredsummary = buildTotalSummaryFast(predsummary, totalPredsummary, usecuda)\n",
    "        \n",
    "        for j = 1, n do\n",
    "            recall, prec, f1 = rougeScores( qTokens[j],\n",
    "                                            Tokenize(totalPredsummary[j]:totable()))\n",
    "            rewards[i][j]:fill(f1)\n",
    "        end\n",
    "        if i > 1 then\n",
    "            -- Calculating change in rougue f1\n",
    "            rewards[i]:copy(rewards[i] - rewards[i-1])\n",
    "        end\n",
    "        -- here's the row indexing\n",
    "        start_row = curr_memsize + 1\n",
    "        if memsize < (start_row + n) then \n",
    "            start_row = memsize - n + 1\n",
    "            end_row = start_row + n - 1\n",
    "            memfull = true\n",
    "            curr_memsize = 0\n",
    "        else \n",
    "            end_row = start_row + n - 1\n",
    "            curr_memsize = end_row\n",
    "        end            \n",
    "        -- Update memory sequentially until it's full then restart updating it\n",
    "        qActionMemory[{{start_row, end_row}}]:copy(qActions[i])\n",
    "        predSummaryMemory[{{start_row, end_row}}]:copy(totalPredsummary)\n",
    "        sentenceMemory[{{start_row, end_row}}]:copy(sentences[i])\n",
    "        qPredsMemory[{{start_row, end_row}}]:copy(qPreds[i])\n",
    "        qValuesMemory[{{start_row, end_row}}]:copy(qValues[i])\n",
    "        queryMemory[{{start_row, end_row}}]:copy(queries)\n",
    "        \n",
    "        if adapt then\n",
    "            regMemory[{{start_row, end_row}}]:copy(regPreds[i])\n",
    "        end        \n",
    "\n",
    "    end\n",
    "    for i=1, n_s do\n",
    "        if i  < n_s then\n",
    "            rewardMemory[{{n * (i-1) + 1, n * i}}]:copy(rewards[i] + gamma * rewards[i + 1] )\n",
    "        else\n",
    "            rewardMemory[{{n * (i-1) + 1, n * i}}]:copy(rewards[i] )\n",
    "        end\n",
    "    end\n",
    "    -- Adding back the delta for the last one\n",
    "    rouguef1[epoch] = (rewards[n_s] + rewards[ n_s - 1] ):mean()\n",
    "\n",
    "    if memfull then \n",
    "        memrows = memsize\n",
    "    else \n",
    "        memrows = curr_memsize\n",
    "    end\n",
    "    if usecuda then \n",
    "        dataloader = dl.TensorLoader({\n",
    "                        queryMemory[{{1, memrows}}]:cuda(), \n",
    "                        sentenceMemory[{{1, memrows}}]:cuda(), \n",
    "                        predSummaryMemory[{{1, memrows}}]:cuda(),\n",
    "                        qPredsMemory[{{1, memrows}}]:cuda(), \n",
    "                        ByteTensor(memrows, 2):copy(qActionMemory[{{1, memrows}}]), \n",
    "                        qValuesMemory[{{1, memrows}}]:cuda()\n",
    "                        }, \n",
    "                    rewardMemory[{{1, memrows}}]:cuda()\n",
    "                )\n",
    "        if adapt then            \n",
    "            table.insert(dataloader['inputs'], regMemory[{{1, memrows}}]:cuda() )\n",
    "        end\n",
    "    else \n",
    "        dataloader = dl.TensorLoader({\n",
    "                    queryMemory[{{1, memrows}}], \n",
    "                    sentenceMemory[{{1, memrows}}], \n",
    "                    predSummaryMemory[{{1, memrows}}], \n",
    "                    qPredsMemory[{{1, memrows}}], \n",
    "                    ByteTensor(memrows, 2):copy(qActionMemory[{{1, memrows}}]), \n",
    "                    qValuesMemory[{{1, memrows}}]\n",
    "                    }, \n",
    "                rewardMemory[{{1, memrows}}]\n",
    "            )\n",
    "        if adapt then\n",
    "            table.insert(dataloader['inputs'], regMemory[{{1, memrows}}] )\n",
    "        end\n",
    "    end\n",
    "    loss = {}\n",
    "    c = 1\n",
    "    for k, xin, reward in dataloader:sampleiter(batch_size, memsize) do\n",
    "        local function feval(params)\n",
    "            gradParams:zero()\n",
    "            if adapt then\n",
    "                local ignore = model:forward({xin[1], xin[2], xin[3]})\n",
    "                local predQOnActions = maskLayer:forward({xin[4], xin[5]}) \n",
    "                ones = torch.ones(xin[6]:size(1)):resize(xin[6]:size(1))\n",
    "                if usecuda then\n",
    "                    ones = ones:cuda()\n",
    "                end\n",
    "                lossf = criterion:forward({predQOnActions, xin[7]}, {reward, ones})\n",
    "                local gradOutput = criterion:backward({predQOnActions, xin[6]}, {reward, ones})\n",
    "                local gradMaskLayer = maskLayer:backward({xin[4], xin[5]}, gradOutput[1])\n",
    "                model:backward({xin[1], xin[2], xin[3]}, {gradMaskLayer[1], gradOutput[2]})\n",
    "            else \n",
    "                local ignore = model:forward({xin[1], xin[2], xin[3]})\n",
    "                local predQOnActions = maskLayer:forward({xin[4], xin[5]}) \n",
    "                lossf = criterion:forward(predQOnActions, reward)\n",
    "                local gradOutput = criterion:backward(predQOnActions, reward)\n",
    "                local gradMaskLayer = maskLayer:backward({xin[4], xin[5]}, gradOutput)\n",
    "                model:backward({xin[1], xin[2], xin[3]}, gradMaskLayer[1])\n",
    "            end \n",
    "            return lossf, gradParams\n",
    "        end\n",
    "        --- optim.rmsprop returns \\theta, f(\\theta):= loss function\n",
    "         _, lossv  = optim.rmsprop(feval, params, optimParams)\n",
    "        loss[c] = lossv[1]\n",
    "        c = c + 1\n",
    "    end\n",
    "\n",
    "    lossfull[epoch] = Tensor(loss):sum() / #lossv\n",
    "    if print_perf then\n",
    "        print(\n",
    "            string.format('epoch = %i; rougue = %.6f; epsilon = %.6f; loss = %.6f' , \n",
    "                epoch, rouguef1[epoch], epsilon, lossfull[epoch])\n",
    "            )\n",
    "    end\n",
    "\n",
    "    if (epsilon - delta) <= base_explore_rate then\n",
    "        epsilon = base_explore_rate\n",
    "        if epoch > end_baserate then \n",
    "            base_explore_rate = 0.\n",
    "        end\n",
    "    else \n",
    "        epsilon = epsilon - delta\n",
    "    end\n",
    "end"
   ]
  },
  {
   "cell_type": "code",
   "execution_count": 15,
   "metadata": {
    "collapsed": false
   },
   "outputs": [
    {
     "data": {
      "text/html": [
       "<script type=\"text/javascript\">\n",
       "$(function() {\n",
       "    if (typeof (window._bokeh_onload_callbacks) === \"undefined\"){\n",
       "  window._bokeh_onload_callbacks = [];\n",
       "    }\n",
       "    function load_lib(url, callback){\n",
       "  window._bokeh_onload_callbacks.push(callback);\n",
       "  if (window._bokeh_is_loading){\n",
       "      console.log(\"Bokeh: BokehJS is being loaded, scheduling callback at\", new Date());\n",
       "      return null;\n",
       "  }\n",
       "  console.log(\"Bokeh: BokehJS not loaded, scheduling load and callback at\", new Date());\n",
       "  window._bokeh_is_loading = true;\n",
       "  var s = document.createElement('script');\n",
       "  s.src = url;\n",
       "  s.async = true;\n",
       "  s.onreadystatechange = s.onload = function(){\n",
       "      Bokeh.embed.inject_css(\"https://cdn.pydata.org/bokeh-0.7.0.min.css\");\n",
       "      window._bokeh_onload_callbacks.forEach(function(callback){callback()});\n",
       "  };\n",
       "  s.onerror = function(){\n",
       "      console.warn(\"failed to load library \" + url);\n",
       "  };\n",
       "  document.getElementsByTagName(\"head\")[0].appendChild(s);\n",
       "    }\n",
       "\n",
       "    bokehjs_url = \"https://cdn.pydata.org/bokeh-0.7.0.min.js\"\n",
       "\n",
       "    var elt = document.getElementById(\"23a6007e-c94b-4abe-ca14-4511e4e7105c\");\n",
       "    if(elt==null) {\n",
       "  console.log(\"Bokeh: ERROR: autoload.js configured with elementid '23a6007e-c94b-4abe-ca14-4511e4e7105c'\"\n",
       "        + \"but no matching script tag was found. \")\n",
       "  return false;\n",
       "    }\n",
       "\n",
       "    if(typeof(Bokeh) !== \"undefined\") {\n",
       "  console.log(\"Bokeh: BokehJS loaded, going straight to plotting\");\n",
       "  var modelid = \"1f07709c-9180-46ad-c656-0a5c28549279\";\n",
       "  var modeltype = \"Plot\";\n",
       "  var all_models = [{\"id\":\"c9ad566e-7db4-47e1-c7e4-45f268caa4b7\",\"type\":\"ColumnDataSource\",\"attributes\":{\"data\":{\"y\":[0.19838363975514,1447.3310284615,8.074948446854,17.963194039519,14.400503916957,0.89034338456373,18.901717807137,791.72776173051,24.049261928956,22.987530444328,118.80266108722,1954.8549595195,22211.046677826,65222.256416694,290344.00920138,560910.90143735,3175989.7248325,4403616.8252076,13650054.475425,21052903.031737,19814403.064725,45087595.142296,85887885.602907,155795181.08235,228716791.45996,296574104.54595,441117176.3301,707841326.27663,486205373.22545,675924388.54119,661431478.92963,884251156.08699,987860068.73327,810641869.38534,1008855547.6535,2126430297.2302,1998380515.203,2005649654.438,1943267007.2562,2174889314.2647,3820088839.2314,3946804873.4695,4440669713.3671,4686382272.2993,6267204803.1029,6520288798.2255,6127623287.9697,9638899520.7406,9551520611.3141,12464658634.357,15195031309.687,21980799888.524,25689992528.045,20456975359.595,24766878127.516,25651804586.747,27347706772.816,30127501361.621,24652445255.046,27382387324.296,25956605910.973,33772718050.825,46862691025.537,53430133277.558,33891574385,44032237052.612,42531155206.621,68995573617.905,52380274413.952,71412757138.494,91733927987.009,81342742792.709,89053337968.536,105396579591.72,133288587375.49,112047589848.88,107184809690.76,123102613418.92,131691827657.57,165839603661.3,154640568939.59,161801594127.4,157942462442.29,166733062947.33,175404532495.82,178895536854.99,197419860211.28,237447216747.04,232863051301.59,246588946278.61,251048560602.92,313214806765.83,333952020797.33,334778464221.15,381606558324.43,345872843108.21,413046796190.24,431917391440.98,425762789210.17,488463628267.1],\"x\":[1,2,3,4,5,6,7,8,9,10,11,12,13,14,15,16,17,18,19,20,21,22,23,24,25,26,27,28,29,30,31,32,33,34,35,36,37,38,39,40,41,42,43,44,45,46,47,48,49,50,51,52,53,54,55,56,57,58,59,60,61,62,63,64,65,66,67,68,69,70,71,72,73,74,75,76,77,78,79,80,81,82,83,84,85,86,87,88,89,90,91,92,93,94,95,96,97,98,99,100]},\"column_names\":[\"y\",\"x\"],\"cont_ranges\":{},\"discrete_ranges\":{},\"selected\":[],\"id\":\"c9ad566e-7db4-47e1-c7e4-45f268caa4b7\",\"doc\":null,\"tags\":[]}},{\"id\":\"726d9651-26a7-4dbc-cde2-0196622ddb44\",\"type\":\"Line\",\"attributes\":{\"fill_alpha\":{\"units\":\"data\",\"value\":0.2},\"line_alpha\":{\"units\":\"data\",\"value\":1},\"doc\":null,\"size\":{\"units\":\"screen\",\"value\":10},\"fill_color\":{\"value\":\"red\"},\"line_color\":{\"value\":\"red\"},\"x\":{\"units\":\"data\",\"field\":\"x\"},\"id\":\"726d9651-26a7-4dbc-cde2-0196622ddb44\",\"y\":{\"units\":\"data\",\"field\":\"y\"},\"tags\":[]}},{\"id\":\"86917684-608d-4f6b-cff3-146a5c5197c7\",\"type\":\"Line\",\"attributes\":{\"fill_alpha\":{\"units\":\"data\",\"value\":0.2},\"line_alpha\":{\"units\":\"data\",\"value\":1},\"doc\":null,\"size\":{\"units\":\"screen\",\"value\":10},\"fill_color\":{\"value\":\"red\"},\"line_color\":{\"value\":\"red\"},\"x\":{\"units\":\"data\",\"field\":\"x\"},\"id\":\"86917684-608d-4f6b-cff3-146a5c5197c7\",\"y\":{\"units\":\"data\",\"field\":\"y\"},\"tags\":[]}},{\"id\":\"c63eef67-c46d-48fa-c885-6d2dba752924\",\"type\":\"GlyphRenderer\",\"attributes\":{\"name\":null,\"nonselection_glyph\":{\"type\":\"Line\",\"id\":\"86917684-608d-4f6b-cff3-146a5c5197c7\"},\"doc\":null,\"server_data_source\":null,\"data_source\":{\"type\":\"ColumnDataSource\",\"id\":\"c9ad566e-7db4-47e1-c7e4-45f268caa4b7\"},\"glyph\":{\"type\":\"Line\",\"id\":\"726d9651-26a7-4dbc-cde2-0196622ddb44\"},\"selection_glyph\":null,\"id\":\"c63eef67-c46d-48fa-c885-6d2dba752924\",\"tags\":[]}},{\"id\":\"fa53e8bb-63ea-4b35-cbbb-060d9521a3d0\",\"type\":\"DataRange1d\",\"attributes\":{\"sources\":[{\"columns\":[\"x\"],\"source\":{\"type\":\"ColumnDataSource\",\"id\":\"c9ad566e-7db4-47e1-c7e4-45f268caa4b7\"}}],\"id\":\"fa53e8bb-63ea-4b35-cbbb-060d9521a3d0\",\"tags\":[],\"doc\":null}},{\"id\":\"26b910f7-7142-4da8-cdf7-b9d847846dc8\",\"type\":\"DataRange1d\",\"attributes\":{\"sources\":[{\"columns\":[\"y\"],\"source\":{\"type\":\"ColumnDataSource\",\"id\":\"c9ad566e-7db4-47e1-c7e4-45f268caa4b7\"}}],\"id\":\"26b910f7-7142-4da8-cdf7-b9d847846dc8\",\"tags\":[],\"doc\":null}},{\"id\":\"7e53a95b-08ef-4339-c32e-16902ef9f67f\",\"type\":\"ToolEvents\",\"attributes\":{\"tags\":[],\"id\":\"7e53a95b-08ef-4339-c32e-16902ef9f67f\",\"geometries\":[],\"doc\":null}},{\"id\":\"7c1c3b2b-9737-4c82-cc53-e49f48d9a50e\",\"type\":\"BasicTickFormatter\",\"attributes\":{\"id\":\"7c1c3b2b-9737-4c82-cc53-e49f48d9a50e\",\"tags\":[],\"doc\":null}},{\"id\":\"9afa655f-a39a-4528-c531-0b258e1aed23\",\"type\":\"BasicTicker\",\"attributes\":{\"num_minor_ticks\":5,\"id\":\"9afa655f-a39a-4528-c531-0b258e1aed23\",\"tags\":[],\"doc\":null}},{\"id\":\"d0d4b845-1e1d-4bba-cbfe-d0a02a0f6a0b\",\"type\":\"LinearAxis\",\"attributes\":{\"formatter\":{\"type\":\"BasicTickFormatter\",\"id\":\"7c1c3b2b-9737-4c82-cc53-e49f48d9a50e\"},\"ticker\":{\"type\":\"BasicTicker\",\"id\":\"9afa655f-a39a-4528-c531-0b258e1aed23\"},\"plot\":{\"id\":\"1f07709c-9180-46ad-c656-0a5c28549279\",\"type\":\"Plot\",\"subtype\":\"Figure\"},\"axis_label\":null,\"id\":\"d0d4b845-1e1d-4bba-cbfe-d0a02a0f6a0b\",\"doc\":null,\"tags\":[]}},{\"id\":\"b3fb7d0d-10e3-4e01-ce5f-102b01eb5a09\",\"type\":\"Grid\",\"attributes\":{\"dimension\":0,\"plot\":{\"id\":\"1f07709c-9180-46ad-c656-0a5c28549279\",\"type\":\"Plot\",\"subtype\":\"Figure\"},\"ticker\":{\"type\":\"BasicTicker\",\"id\":\"9afa655f-a39a-4528-c531-0b258e1aed23\"},\"id\":\"b3fb7d0d-10e3-4e01-ce5f-102b01eb5a09\",\"doc\":null,\"tags\":[]}},{\"id\":\"170864b3-51c1-48bb-c8b5-822ee5016f7f\",\"type\":\"BasicTickFormatter\",\"attributes\":{\"id\":\"170864b3-51c1-48bb-c8b5-822ee5016f7f\",\"tags\":[],\"doc\":null}},{\"id\":\"4687fd86-8de1-480a-c815-083767da76ca\",\"type\":\"BasicTicker\",\"attributes\":{\"num_minor_ticks\":5,\"id\":\"4687fd86-8de1-480a-c815-083767da76ca\",\"tags\":[],\"doc\":null}},{\"id\":\"f4cb1888-616c-45a0-c59e-109620a30fc8\",\"type\":\"LinearAxis\",\"attributes\":{\"formatter\":{\"type\":\"BasicTickFormatter\",\"id\":\"170864b3-51c1-48bb-c8b5-822ee5016f7f\"},\"ticker\":{\"type\":\"BasicTicker\",\"id\":\"4687fd86-8de1-480a-c815-083767da76ca\"},\"plot\":{\"id\":\"1f07709c-9180-46ad-c656-0a5c28549279\",\"type\":\"Plot\",\"subtype\":\"Figure\"},\"axis_label\":null,\"id\":\"f4cb1888-616c-45a0-c59e-109620a30fc8\",\"doc\":null,\"tags\":[]}},{\"id\":\"3dd3c44c-19a3-495b-c93f-c480dbfd62f0\",\"type\":\"Grid\",\"attributes\":{\"dimension\":1,\"plot\":{\"id\":\"1f07709c-9180-46ad-c656-0a5c28549279\",\"type\":\"Plot\",\"subtype\":\"Figure\"},\"ticker\":{\"type\":\"BasicTicker\",\"id\":\"4687fd86-8de1-480a-c815-083767da76ca\"},\"id\":\"3dd3c44c-19a3-495b-c93f-c480dbfd62f0\",\"doc\":null,\"tags\":[]}},{\"id\":\"aa79834e-62fe-4931-c97a-215505fb245f\",\"type\":\"PanTool\",\"attributes\":{\"plot\":{\"id\":\"1f07709c-9180-46ad-c656-0a5c28549279\",\"type\":\"Plot\",\"subtype\":\"Figure\"},\"dimensions\":[\"width\",\"height\"],\"id\":\"aa79834e-62fe-4931-c97a-215505fb245f\",\"doc\":null,\"tags\":[]}},{\"id\":\"305b746c-3634-4deb-cd6a-06ee12c7e68c\",\"type\":\"WheelZoomTool\",\"attributes\":{\"plot\":{\"id\":\"1f07709c-9180-46ad-c656-0a5c28549279\",\"type\":\"Plot\",\"subtype\":\"Figure\"},\"dimensions\":[\"width\",\"height\"],\"id\":\"305b746c-3634-4deb-cd6a-06ee12c7e68c\",\"doc\":null,\"tags\":[]}},{\"id\":\"0e95a6a2-8d86-410c-c12b-7da8a7372f42\",\"type\":\"BoxZoomTool\",\"attributes\":{\"plot\":{\"id\":\"1f07709c-9180-46ad-c656-0a5c28549279\",\"type\":\"Plot\",\"subtype\":\"Figure\"},\"id\":\"0e95a6a2-8d86-410c-c12b-7da8a7372f42\",\"tags\":[],\"doc\":null}},{\"id\":\"646beeb2-f4a7-41fc-c111-cf6af0eff6d8\",\"type\":\"PreviewSaveTool\",\"attributes\":{\"plot\":{\"id\":\"1f07709c-9180-46ad-c656-0a5c28549279\",\"type\":\"Plot\",\"subtype\":\"Figure\"},\"id\":\"646beeb2-f4a7-41fc-c111-cf6af0eff6d8\",\"tags\":[],\"doc\":null}},{\"id\":\"4f4d10f5-e388-4b9b-cbf9-c9449d93716f\",\"type\":\"ResizeTool\",\"attributes\":{\"plot\":{\"id\":\"1f07709c-9180-46ad-c656-0a5c28549279\",\"type\":\"Plot\",\"subtype\":\"Figure\"},\"id\":\"4f4d10f5-e388-4b9b-cbf9-c9449d93716f\",\"tags\":[],\"doc\":null}},{\"id\":\"640a6289-e4fe-4237-c22a-04d575afa26a\",\"type\":\"ResetTool\",\"attributes\":{\"plot\":{\"id\":\"1f07709c-9180-46ad-c656-0a5c28549279\",\"type\":\"Plot\",\"subtype\":\"Figure\"},\"id\":\"640a6289-e4fe-4237-c22a-04d575afa26a\",\"tags\":[],\"doc\":null}},{\"id\":\"1f07709c-9180-46ad-c656-0a5c28549279\",\"type\":\"Plot\",\"attributes\":{\"x_range\":{\"type\":\"DataRange1d\",\"id\":\"fa53e8bb-63ea-4b35-cbbb-060d9521a3d0\"},\"tool_events\":{\"type\":\"ToolEvents\",\"id\":\"7e53a95b-08ef-4339-c32e-16902ef9f67f\"},\"below\":[{\"type\":\"LinearAxis\",\"id\":\"d0d4b845-1e1d-4bba-cbfe-d0a02a0f6a0b\"}],\"renderers\":[{\"type\":\"GlyphRenderer\",\"id\":\"c63eef67-c46d-48fa-c885-6d2dba752924\"},{\"type\":\"LinearAxis\",\"id\":\"d0d4b845-1e1d-4bba-cbfe-d0a02a0f6a0b\"},{\"type\":\"Grid\",\"id\":\"b3fb7d0d-10e3-4e01-ce5f-102b01eb5a09\"},{\"type\":\"LinearAxis\",\"id\":\"f4cb1888-616c-45a0-c59e-109620a30fc8\"},{\"type\":\"Grid\",\"id\":\"3dd3c44c-19a3-495b-c93f-c480dbfd62f0\"}],\"above\":[],\"tools\":[{\"type\":\"PanTool\",\"id\":\"aa79834e-62fe-4931-c97a-215505fb245f\"},{\"type\":\"WheelZoomTool\",\"id\":\"305b746c-3634-4deb-cd6a-06ee12c7e68c\"},{\"type\":\"BoxZoomTool\",\"id\":\"0e95a6a2-8d86-410c-c12b-7da8a7372f42\"},{\"type\":\"PreviewSaveTool\",\"id\":\"646beeb2-f4a7-41fc-c111-cf6af0eff6d8\"},{\"type\":\"ResizeTool\",\"id\":\"4f4d10f5-e388-4b9b-cbf9-c9449d93716f\"},{\"type\":\"ResetTool\",\"id\":\"640a6289-e4fe-4237-c22a-04d575afa26a\"}],\"doc\":null,\"right\":[],\"title\":\"Plot of loss\",\"extra_x_ranges\":{},\"left\":[{\"type\":\"LinearAxis\",\"id\":\"f4cb1888-616c-45a0-c59e-109620a30fc8\"}],\"y_range\":{\"type\":\"DataRange1d\",\"id\":\"26b910f7-7142-4da8-cdf7-b9d847846dc8\"},\"id\":\"1f07709c-9180-46ad-c656-0a5c28549279\",\"extra_y_ranges\":{},\"tags\":[]}}];\n",
       "  Bokeh.load_models(all_models);\n",
       "  var model = Bokeh.Collections(modeltype).get(modelid);\n",
       "  $(\"#23a6007e-c94b-4abe-ca14-4511e4e7105c\").html(''); // clear any previous plot in window_id\n",
       "  var view = new model.default_view({model: model, el: \"#23a6007e-c94b-4abe-ca14-4511e4e7105c\"});\n",
       "    } else {\n",
       "  load_lib(bokehjs_url, function() {\n",
       "      console.log(\"Bokeh: BokehJS plotting callback run at\", new Date())\n",
       "      var modelid = \"1f07709c-9180-46ad-c656-0a5c28549279\";\n",
       "      var modeltype = \"Plot\";\n",
       "      var all_models = [{\"id\":\"c9ad566e-7db4-47e1-c7e4-45f268caa4b7\",\"type\":\"ColumnDataSource\",\"attributes\":{\"data\":{\"y\":[0.19838363975514,1447.3310284615,8.074948446854,17.963194039519,14.400503916957,0.89034338456373,18.901717807137,791.72776173051,24.049261928956,22.987530444328,118.80266108722,1954.8549595195,22211.046677826,65222.256416694,290344.00920138,560910.90143735,3175989.7248325,4403616.8252076,13650054.475425,21052903.031737,19814403.064725,45087595.142296,85887885.602907,155795181.08235,228716791.45996,296574104.54595,441117176.3301,707841326.27663,486205373.22545,675924388.54119,661431478.92963,884251156.08699,987860068.73327,810641869.38534,1008855547.6535,2126430297.2302,1998380515.203,2005649654.438,1943267007.2562,2174889314.2647,3820088839.2314,3946804873.4695,4440669713.3671,4686382272.2993,6267204803.1029,6520288798.2255,6127623287.9697,9638899520.7406,9551520611.3141,12464658634.357,15195031309.687,21980799888.524,25689992528.045,20456975359.595,24766878127.516,25651804586.747,27347706772.816,30127501361.621,24652445255.046,27382387324.296,25956605910.973,33772718050.825,46862691025.537,53430133277.558,33891574385,44032237052.612,42531155206.621,68995573617.905,52380274413.952,71412757138.494,91733927987.009,81342742792.709,89053337968.536,105396579591.72,133288587375.49,112047589848.88,107184809690.76,123102613418.92,131691827657.57,165839603661.3,154640568939.59,161801594127.4,157942462442.29,166733062947.33,175404532495.82,178895536854.99,197419860211.28,237447216747.04,232863051301.59,246588946278.61,251048560602.92,313214806765.83,333952020797.33,334778464221.15,381606558324.43,345872843108.21,413046796190.24,431917391440.98,425762789210.17,488463628267.1],\"x\":[1,2,3,4,5,6,7,8,9,10,11,12,13,14,15,16,17,18,19,20,21,22,23,24,25,26,27,28,29,30,31,32,33,34,35,36,37,38,39,40,41,42,43,44,45,46,47,48,49,50,51,52,53,54,55,56,57,58,59,60,61,62,63,64,65,66,67,68,69,70,71,72,73,74,75,76,77,78,79,80,81,82,83,84,85,86,87,88,89,90,91,92,93,94,95,96,97,98,99,100]},\"column_names\":[\"y\",\"x\"],\"cont_ranges\":{},\"discrete_ranges\":{},\"selected\":[],\"id\":\"c9ad566e-7db4-47e1-c7e4-45f268caa4b7\",\"doc\":null,\"tags\":[]}},{\"id\":\"726d9651-26a7-4dbc-cde2-0196622ddb44\",\"type\":\"Line\",\"attributes\":{\"fill_alpha\":{\"units\":\"data\",\"value\":0.2},\"line_alpha\":{\"units\":\"data\",\"value\":1},\"doc\":null,\"size\":{\"units\":\"screen\",\"value\":10},\"fill_color\":{\"value\":\"red\"},\"line_color\":{\"value\":\"red\"},\"x\":{\"units\":\"data\",\"field\":\"x\"},\"id\":\"726d9651-26a7-4dbc-cde2-0196622ddb44\",\"y\":{\"units\":\"data\",\"field\":\"y\"},\"tags\":[]}},{\"id\":\"86917684-608d-4f6b-cff3-146a5c5197c7\",\"type\":\"Line\",\"attributes\":{\"fill_alpha\":{\"units\":\"data\",\"value\":0.2},\"line_alpha\":{\"units\":\"data\",\"value\":1},\"doc\":null,\"size\":{\"units\":\"screen\",\"value\":10},\"fill_color\":{\"value\":\"red\"},\"line_color\":{\"value\":\"red\"},\"x\":{\"units\":\"data\",\"field\":\"x\"},\"id\":\"86917684-608d-4f6b-cff3-146a5c5197c7\",\"y\":{\"units\":\"data\",\"field\":\"y\"},\"tags\":[]}},{\"id\":\"c63eef67-c46d-48fa-c885-6d2dba752924\",\"type\":\"GlyphRenderer\",\"attributes\":{\"name\":null,\"nonselection_glyph\":{\"type\":\"Line\",\"id\":\"86917684-608d-4f6b-cff3-146a5c5197c7\"},\"doc\":null,\"server_data_source\":null,\"data_source\":{\"type\":\"ColumnDataSource\",\"id\":\"c9ad566e-7db4-47e1-c7e4-45f268caa4b7\"},\"glyph\":{\"type\":\"Line\",\"id\":\"726d9651-26a7-4dbc-cde2-0196622ddb44\"},\"selection_glyph\":null,\"id\":\"c63eef67-c46d-48fa-c885-6d2dba752924\",\"tags\":[]}},{\"id\":\"fa53e8bb-63ea-4b35-cbbb-060d9521a3d0\",\"type\":\"DataRange1d\",\"attributes\":{\"sources\":[{\"columns\":[\"x\"],\"source\":{\"type\":\"ColumnDataSource\",\"id\":\"c9ad566e-7db4-47e1-c7e4-45f268caa4b7\"}}],\"id\":\"fa53e8bb-63ea-4b35-cbbb-060d9521a3d0\",\"tags\":[],\"doc\":null}},{\"id\":\"26b910f7-7142-4da8-cdf7-b9d847846dc8\",\"type\":\"DataRange1d\",\"attributes\":{\"sources\":[{\"columns\":[\"y\"],\"source\":{\"type\":\"ColumnDataSource\",\"id\":\"c9ad566e-7db4-47e1-c7e4-45f268caa4b7\"}}],\"id\":\"26b910f7-7142-4da8-cdf7-b9d847846dc8\",\"tags\":[],\"doc\":null}},{\"id\":\"7e53a95b-08ef-4339-c32e-16902ef9f67f\",\"type\":\"ToolEvents\",\"attributes\":{\"tags\":[],\"id\":\"7e53a95b-08ef-4339-c32e-16902ef9f67f\",\"geometries\":[],\"doc\":null}},{\"id\":\"7c1c3b2b-9737-4c82-cc53-e49f48d9a50e\",\"type\":\"BasicTickFormatter\",\"attributes\":{\"id\":\"7c1c3b2b-9737-4c82-cc53-e49f48d9a50e\",\"tags\":[],\"doc\":null}},{\"id\":\"9afa655f-a39a-4528-c531-0b258e1aed23\",\"type\":\"BasicTicker\",\"attributes\":{\"num_minor_ticks\":5,\"id\":\"9afa655f-a39a-4528-c531-0b258e1aed23\",\"tags\":[],\"doc\":null}},{\"id\":\"d0d4b845-1e1d-4bba-cbfe-d0a02a0f6a0b\",\"type\":\"LinearAxis\",\"attributes\":{\"formatter\":{\"type\":\"BasicTickFormatter\",\"id\":\"7c1c3b2b-9737-4c82-cc53-e49f48d9a50e\"},\"ticker\":{\"type\":\"BasicTicker\",\"id\":\"9afa655f-a39a-4528-c531-0b258e1aed23\"},\"plot\":{\"id\":\"1f07709c-9180-46ad-c656-0a5c28549279\",\"type\":\"Plot\",\"subtype\":\"Figure\"},\"axis_label\":null,\"id\":\"d0d4b845-1e1d-4bba-cbfe-d0a02a0f6a0b\",\"doc\":null,\"tags\":[]}},{\"id\":\"b3fb7d0d-10e3-4e01-ce5f-102b01eb5a09\",\"type\":\"Grid\",\"attributes\":{\"dimension\":0,\"plot\":{\"id\":\"1f07709c-9180-46ad-c656-0a5c28549279\",\"type\":\"Plot\",\"subtype\":\"Figure\"},\"ticker\":{\"type\":\"BasicTicker\",\"id\":\"9afa655f-a39a-4528-c531-0b258e1aed23\"},\"id\":\"b3fb7d0d-10e3-4e01-ce5f-102b01eb5a09\",\"doc\":null,\"tags\":[]}},{\"id\":\"170864b3-51c1-48bb-c8b5-822ee5016f7f\",\"type\":\"BasicTickFormatter\",\"attributes\":{\"id\":\"170864b3-51c1-48bb-c8b5-822ee5016f7f\",\"tags\":[],\"doc\":null}},{\"id\":\"4687fd86-8de1-480a-c815-083767da76ca\",\"type\":\"BasicTicker\",\"attributes\":{\"num_minor_ticks\":5,\"id\":\"4687fd86-8de1-480a-c815-083767da76ca\",\"tags\":[],\"doc\":null}},{\"id\":\"f4cb1888-616c-45a0-c59e-109620a30fc8\",\"type\":\"LinearAxis\",\"attributes\":{\"formatter\":{\"type\":\"BasicTickFormatter\",\"id\":\"170864b3-51c1-48bb-c8b5-822ee5016f7f\"},\"ticker\":{\"type\":\"BasicTicker\",\"id\":\"4687fd86-8de1-480a-c815-083767da76ca\"},\"plot\":{\"id\":\"1f07709c-9180-46ad-c656-0a5c28549279\",\"type\":\"Plot\",\"subtype\":\"Figure\"},\"axis_label\":null,\"id\":\"f4cb1888-616c-45a0-c59e-109620a30fc8\",\"doc\":null,\"tags\":[]}},{\"id\":\"3dd3c44c-19a3-495b-c93f-c480dbfd62f0\",\"type\":\"Grid\",\"attributes\":{\"dimension\":1,\"plot\":{\"id\":\"1f07709c-9180-46ad-c656-0a5c28549279\",\"type\":\"Plot\",\"subtype\":\"Figure\"},\"ticker\":{\"type\":\"BasicTicker\",\"id\":\"4687fd86-8de1-480a-c815-083767da76ca\"},\"id\":\"3dd3c44c-19a3-495b-c93f-c480dbfd62f0\",\"doc\":null,\"tags\":[]}},{\"id\":\"aa79834e-62fe-4931-c97a-215505fb245f\",\"type\":\"PanTool\",\"attributes\":{\"plot\":{\"id\":\"1f07709c-9180-46ad-c656-0a5c28549279\",\"type\":\"Plot\",\"subtype\":\"Figure\"},\"dimensions\":[\"width\",\"height\"],\"id\":\"aa79834e-62fe-4931-c97a-215505fb245f\",\"doc\":null,\"tags\":[]}},{\"id\":\"305b746c-3634-4deb-cd6a-06ee12c7e68c\",\"type\":\"WheelZoomTool\",\"attributes\":{\"plot\":{\"id\":\"1f07709c-9180-46ad-c656-0a5c28549279\",\"type\":\"Plot\",\"subtype\":\"Figure\"},\"dimensions\":[\"width\",\"height\"],\"id\":\"305b746c-3634-4deb-cd6a-06ee12c7e68c\",\"doc\":null,\"tags\":[]}},{\"id\":\"0e95a6a2-8d86-410c-c12b-7da8a7372f42\",\"type\":\"BoxZoomTool\",\"attributes\":{\"plot\":{\"id\":\"1f07709c-9180-46ad-c656-0a5c28549279\",\"type\":\"Plot\",\"subtype\":\"Figure\"},\"id\":\"0e95a6a2-8d86-410c-c12b-7da8a7372f42\",\"tags\":[],\"doc\":null}},{\"id\":\"646beeb2-f4a7-41fc-c111-cf6af0eff6d8\",\"type\":\"PreviewSaveTool\",\"attributes\":{\"plot\":{\"id\":\"1f07709c-9180-46ad-c656-0a5c28549279\",\"type\":\"Plot\",\"subtype\":\"Figure\"},\"id\":\"646beeb2-f4a7-41fc-c111-cf6af0eff6d8\",\"tags\":[],\"doc\":null}},{\"id\":\"4f4d10f5-e388-4b9b-cbf9-c9449d93716f\",\"type\":\"ResizeTool\",\"attributes\":{\"plot\":{\"id\":\"1f07709c-9180-46ad-c656-0a5c28549279\",\"type\":\"Plot\",\"subtype\":\"Figure\"},\"id\":\"4f4d10f5-e388-4b9b-cbf9-c9449d93716f\",\"tags\":[],\"doc\":null}},{\"id\":\"640a6289-e4fe-4237-c22a-04d575afa26a\",\"type\":\"ResetTool\",\"attributes\":{\"plot\":{\"id\":\"1f07709c-9180-46ad-c656-0a5c28549279\",\"type\":\"Plot\",\"subtype\":\"Figure\"},\"id\":\"640a6289-e4fe-4237-c22a-04d575afa26a\",\"tags\":[],\"doc\":null}},{\"id\":\"1f07709c-9180-46ad-c656-0a5c28549279\",\"type\":\"Plot\",\"attributes\":{\"x_range\":{\"type\":\"DataRange1d\",\"id\":\"fa53e8bb-63ea-4b35-cbbb-060d9521a3d0\"},\"tool_events\":{\"type\":\"ToolEvents\",\"id\":\"7e53a95b-08ef-4339-c32e-16902ef9f67f\"},\"below\":[{\"type\":\"LinearAxis\",\"id\":\"d0d4b845-1e1d-4bba-cbfe-d0a02a0f6a0b\"}],\"renderers\":[{\"type\":\"GlyphRenderer\",\"id\":\"c63eef67-c46d-48fa-c885-6d2dba752924\"},{\"type\":\"LinearAxis\",\"id\":\"d0d4b845-1e1d-4bba-cbfe-d0a02a0f6a0b\"},{\"type\":\"Grid\",\"id\":\"b3fb7d0d-10e3-4e01-ce5f-102b01eb5a09\"},{\"type\":\"LinearAxis\",\"id\":\"f4cb1888-616c-45a0-c59e-109620a30fc8\"},{\"type\":\"Grid\",\"id\":\"3dd3c44c-19a3-495b-c93f-c480dbfd62f0\"}],\"above\":[],\"tools\":[{\"type\":\"PanTool\",\"id\":\"aa79834e-62fe-4931-c97a-215505fb245f\"},{\"type\":\"WheelZoomTool\",\"id\":\"305b746c-3634-4deb-cd6a-06ee12c7e68c\"},{\"type\":\"BoxZoomTool\",\"id\":\"0e95a6a2-8d86-410c-c12b-7da8a7372f42\"},{\"type\":\"PreviewSaveTool\",\"id\":\"646beeb2-f4a7-41fc-c111-cf6af0eff6d8\"},{\"type\":\"ResizeTool\",\"id\":\"4f4d10f5-e388-4b9b-cbf9-c9449d93716f\"},{\"type\":\"ResetTool\",\"id\":\"640a6289-e4fe-4237-c22a-04d575afa26a\"}],\"doc\":null,\"right\":[],\"title\":\"Plot of loss\",\"extra_x_ranges\":{},\"left\":[{\"type\":\"LinearAxis\",\"id\":\"f4cb1888-616c-45a0-c59e-109620a30fc8\"}],\"y_range\":{\"type\":\"DataRange1d\",\"id\":\"26b910f7-7142-4da8-cdf7-b9d847846dc8\"},\"id\":\"1f07709c-9180-46ad-c656-0a5c28549279\",\"extra_y_ranges\":{},\"tags\":[]}}];\n",
       "      Bokeh.load_models(all_models);\n",
       "      var model = Bokeh.Collections(modeltype).get(modelid);\n",
       "      $(\"#23a6007e-c94b-4abe-ca14-4511e4e7105c\").html(''); // clear any previous plot in window_id\n",
       "      var view = new model.default_view({model: model, el: \"#23a6007e-c94b-4abe-ca14-4511e4e7105c\"});\n",
       "  });\n",
       "    }\n",
       "});\n",
       "</script>\n",
       "<div class=\"plotdiv\" id=\"23a6007e-c94b-4abe-ca14-4511e4e7105c\"></div>\n"
      ]
     },
     "metadata": {},
     "output_type": "display_data"
    },
    {
     "data": {
      "text/html": [
       "<script type=\"text/javascript\">\n",
       "$(function() {\n",
       "    if (typeof (window._bokeh_onload_callbacks) === \"undefined\"){\n",
       "  window._bokeh_onload_callbacks = [];\n",
       "    }\n",
       "    function load_lib(url, callback){\n",
       "  window._bokeh_onload_callbacks.push(callback);\n",
       "  if (window._bokeh_is_loading){\n",
       "      console.log(\"Bokeh: BokehJS is being loaded, scheduling callback at\", new Date());\n",
       "      return null;\n",
       "  }\n",
       "  console.log(\"Bokeh: BokehJS not loaded, scheduling load and callback at\", new Date());\n",
       "  window._bokeh_is_loading = true;\n",
       "  var s = document.createElement('script');\n",
       "  s.src = url;\n",
       "  s.async = true;\n",
       "  s.onreadystatechange = s.onload = function(){\n",
       "      Bokeh.embed.inject_css(\"https://cdn.pydata.org/bokeh-0.7.0.min.css\");\n",
       "      window._bokeh_onload_callbacks.forEach(function(callback){callback()});\n",
       "  };\n",
       "  s.onerror = function(){\n",
       "      console.warn(\"failed to load library \" + url);\n",
       "  };\n",
       "  document.getElementsByTagName(\"head\")[0].appendChild(s);\n",
       "    }\n",
       "\n",
       "    bokehjs_url = \"https://cdn.pydata.org/bokeh-0.7.0.min.js\"\n",
       "\n",
       "    var elt = document.getElementById(\"e25517cd-3e4d-4ec9-ce13-b140731388c2\");\n",
       "    if(elt==null) {\n",
       "  console.log(\"Bokeh: ERROR: autoload.js configured with elementid 'e25517cd-3e4d-4ec9-ce13-b140731388c2'\"\n",
       "        + \"but no matching script tag was found. \")\n",
       "  return false;\n",
       "    }\n",
       "\n",
       "    if(typeof(Bokeh) !== \"undefined\") {\n",
       "  console.log(\"Bokeh: BokehJS loaded, going straight to plotting\");\n",
       "  var modelid = \"859ec279-368f-4bd5-cbfe-edc6559df4c5\";\n",
       "  var modeltype = \"Plot\";\n",
       "  var all_models = [{\"id\":\"3efc495f-e3c2-448d-c46e-43fafc3c538e\",\"type\":\"ColumnDataSource\",\"attributes\":{\"data\":{\"y\":[0.44190476190476,0.5852380952381,0.41777777777778,0.38888888888889,0.38769841269841,0.49515873015873,0.46666666666667,0.51436507936508,0.435,0.44714285714286,0.44547619047619,0.35880952380952,0.39880952380952,0.44166666666667,0.33119047619048,0.4,0.33047619047619,0.33142857142857,0.52785714285714,0.18333333333333,0,0,0,0,0.26388888888889,0,0.34722222222222,0,0.45666666666667,0.49722222222222,0.49722222222222,0.52103174603175,0.52103174603175,0.52103174603175,0.52103174603175,0.49404761904762,0.49603174603175,0.52103174603175,0.70436507936508,0.70436507936508,0.6197619047619,0.75349206349206,0.70436507936508,0.72055555555556,0.70436507936508,0.66738095238095,0.70436507936508,0.7118253968254,0.71063492063492,0.70436507936508,0.68722222222222,0.44603174603175,0.27222222222222,0.27222222222222,0.27222222222222,0.26904761904762,0.19,0.18761904761905,0.57214285714286,0.54325396825397,0.62103174603175,0.69047619047619,0.65865079365079,0.51388888888889,0.70436507936508,0.70436507936508,0.70436507936508,0.57738095238095,0.67261904761905,0.61412698412698,0.67261904761905,0.67261904761905,0.67261904761905,0.69992063492063,0.62206349206349,0.62206349206349,0.62206349206349,0.56142857142857,0.27222222222222,0.62206349206349,0.27222222222222,0.34031746031746,0.27222222222222,0.14,0,0,0,0,0,0,0,0,0,0,0,0,0,0,0,0],\"x\":[1,2,3,4,5,6,7,8,9,10,11,12,13,14,15,16,17,18,19,20,21,22,23,24,25,26,27,28,29,30,31,32,33,34,35,36,37,38,39,40,41,42,43,44,45,46,47,48,49,50,51,52,53,54,55,56,57,58,59,60,61,62,63,64,65,66,67,68,69,70,71,72,73,74,75,76,77,78,79,80,81,82,83,84,85,86,87,88,89,90,91,92,93,94,95,96,97,98,99,100]},\"column_names\":[\"y\",\"x\"],\"cont_ranges\":{},\"discrete_ranges\":{},\"selected\":[],\"id\":\"3efc495f-e3c2-448d-c46e-43fafc3c538e\",\"doc\":null,\"tags\":[]}},{\"id\":\"a2845367-8bc9-4a0d-cab4-c2a59b2b0972\",\"type\":\"Line\",\"attributes\":{\"fill_alpha\":{\"units\":\"data\",\"value\":0.2},\"line_alpha\":{\"units\":\"data\",\"value\":1},\"doc\":null,\"size\":{\"units\":\"screen\",\"value\":10},\"fill_color\":{\"value\":\"blue\"},\"line_color\":{\"value\":\"blue\"},\"x\":{\"units\":\"data\",\"field\":\"x\"},\"id\":\"a2845367-8bc9-4a0d-cab4-c2a59b2b0972\",\"y\":{\"units\":\"data\",\"field\":\"y\"},\"tags\":[]}},{\"id\":\"a04ed1b4-3c62-4b65-cbb4-c3d180329b66\",\"type\":\"Line\",\"attributes\":{\"fill_alpha\":{\"units\":\"data\",\"value\":0.2},\"line_alpha\":{\"units\":\"data\",\"value\":1},\"doc\":null,\"size\":{\"units\":\"screen\",\"value\":10},\"fill_color\":{\"value\":\"blue\"},\"line_color\":{\"value\":\"blue\"},\"x\":{\"units\":\"data\",\"field\":\"x\"},\"id\":\"a04ed1b4-3c62-4b65-cbb4-c3d180329b66\",\"y\":{\"units\":\"data\",\"field\":\"y\"},\"tags\":[]}},{\"id\":\"77eec186-0054-431c-c372-a14b085461d5\",\"type\":\"GlyphRenderer\",\"attributes\":{\"name\":null,\"nonselection_glyph\":{\"type\":\"Line\",\"id\":\"a04ed1b4-3c62-4b65-cbb4-c3d180329b66\"},\"doc\":null,\"server_data_source\":null,\"data_source\":{\"type\":\"ColumnDataSource\",\"id\":\"3efc495f-e3c2-448d-c46e-43fafc3c538e\"},\"glyph\":{\"type\":\"Line\",\"id\":\"a2845367-8bc9-4a0d-cab4-c2a59b2b0972\"},\"selection_glyph\":null,\"id\":\"77eec186-0054-431c-c372-a14b085461d5\",\"tags\":[]}},{\"id\":\"5a5b9abf-c699-4165-c113-4182642f97d5\",\"type\":\"DataRange1d\",\"attributes\":{\"sources\":[{\"columns\":[\"x\"],\"source\":{\"type\":\"ColumnDataSource\",\"id\":\"3efc495f-e3c2-448d-c46e-43fafc3c538e\"}}],\"id\":\"5a5b9abf-c699-4165-c113-4182642f97d5\",\"tags\":[],\"doc\":null}},{\"id\":\"595acf0b-a9ae-4013-c05d-28642b4958df\",\"type\":\"DataRange1d\",\"attributes\":{\"sources\":[{\"columns\":[\"y\"],\"source\":{\"type\":\"ColumnDataSource\",\"id\":\"3efc495f-e3c2-448d-c46e-43fafc3c538e\"}}],\"id\":\"595acf0b-a9ae-4013-c05d-28642b4958df\",\"tags\":[],\"doc\":null}},{\"id\":\"e9c556fc-44be-4b94-cb22-6242330a5b29\",\"type\":\"ToolEvents\",\"attributes\":{\"tags\":[],\"id\":\"e9c556fc-44be-4b94-cb22-6242330a5b29\",\"geometries\":[],\"doc\":null}},{\"id\":\"63cdae29-d8e5-4d25-cd6f-c002c1bdd632\",\"type\":\"BasicTickFormatter\",\"attributes\":{\"id\":\"63cdae29-d8e5-4d25-cd6f-c002c1bdd632\",\"tags\":[],\"doc\":null}},{\"id\":\"879eedd4-3204-4e47-ce4f-e4eee7874098\",\"type\":\"BasicTicker\",\"attributes\":{\"num_minor_ticks\":5,\"id\":\"879eedd4-3204-4e47-ce4f-e4eee7874098\",\"tags\":[],\"doc\":null}},{\"id\":\"d912b050-9b49-47dd-c708-a95a55d6bb2b\",\"type\":\"LinearAxis\",\"attributes\":{\"formatter\":{\"type\":\"BasicTickFormatter\",\"id\":\"63cdae29-d8e5-4d25-cd6f-c002c1bdd632\"},\"ticker\":{\"type\":\"BasicTicker\",\"id\":\"879eedd4-3204-4e47-ce4f-e4eee7874098\"},\"plot\":{\"id\":\"859ec279-368f-4bd5-cbfe-edc6559df4c5\",\"type\":\"Plot\",\"subtype\":\"Figure\"},\"axis_label\":null,\"id\":\"d912b050-9b49-47dd-c708-a95a55d6bb2b\",\"doc\":null,\"tags\":[]}},{\"id\":\"83cf6174-83d8-4560-c54d-eeb4c0590d89\",\"type\":\"Grid\",\"attributes\":{\"dimension\":0,\"plot\":{\"id\":\"859ec279-368f-4bd5-cbfe-edc6559df4c5\",\"type\":\"Plot\",\"subtype\":\"Figure\"},\"ticker\":{\"type\":\"BasicTicker\",\"id\":\"879eedd4-3204-4e47-ce4f-e4eee7874098\"},\"id\":\"83cf6174-83d8-4560-c54d-eeb4c0590d89\",\"doc\":null,\"tags\":[]}},{\"id\":\"c3e338b3-6705-46a9-c67d-b37158e63e27\",\"type\":\"BasicTickFormatter\",\"attributes\":{\"id\":\"c3e338b3-6705-46a9-c67d-b37158e63e27\",\"tags\":[],\"doc\":null}},{\"id\":\"84082131-4e92-4dae-cd99-46d07a0861bd\",\"type\":\"BasicTicker\",\"attributes\":{\"num_minor_ticks\":5,\"id\":\"84082131-4e92-4dae-cd99-46d07a0861bd\",\"tags\":[],\"doc\":null}},{\"id\":\"3b2ab9be-6086-4d96-cd0b-29e168a85086\",\"type\":\"LinearAxis\",\"attributes\":{\"formatter\":{\"type\":\"BasicTickFormatter\",\"id\":\"c3e338b3-6705-46a9-c67d-b37158e63e27\"},\"ticker\":{\"type\":\"BasicTicker\",\"id\":\"84082131-4e92-4dae-cd99-46d07a0861bd\"},\"plot\":{\"id\":\"859ec279-368f-4bd5-cbfe-edc6559df4c5\",\"type\":\"Plot\",\"subtype\":\"Figure\"},\"axis_label\":null,\"id\":\"3b2ab9be-6086-4d96-cd0b-29e168a85086\",\"doc\":null,\"tags\":[]}},{\"id\":\"d5b747fd-daeb-4556-c591-a030e515e25b\",\"type\":\"Grid\",\"attributes\":{\"dimension\":1,\"plot\":{\"id\":\"859ec279-368f-4bd5-cbfe-edc6559df4c5\",\"type\":\"Plot\",\"subtype\":\"Figure\"},\"ticker\":{\"type\":\"BasicTicker\",\"id\":\"84082131-4e92-4dae-cd99-46d07a0861bd\"},\"id\":\"d5b747fd-daeb-4556-c591-a030e515e25b\",\"doc\":null,\"tags\":[]}},{\"id\":\"69164ef6-6c17-4715-c721-37c02b62bef0\",\"type\":\"PanTool\",\"attributes\":{\"plot\":{\"id\":\"859ec279-368f-4bd5-cbfe-edc6559df4c5\",\"type\":\"Plot\",\"subtype\":\"Figure\"},\"dimensions\":[\"width\",\"height\"],\"id\":\"69164ef6-6c17-4715-c721-37c02b62bef0\",\"doc\":null,\"tags\":[]}},{\"id\":\"5ca795bb-e696-4f46-cf25-a9f5564f16c4\",\"type\":\"WheelZoomTool\",\"attributes\":{\"plot\":{\"id\":\"859ec279-368f-4bd5-cbfe-edc6559df4c5\",\"type\":\"Plot\",\"subtype\":\"Figure\"},\"dimensions\":[\"width\",\"height\"],\"id\":\"5ca795bb-e696-4f46-cf25-a9f5564f16c4\",\"doc\":null,\"tags\":[]}},{\"id\":\"dead1311-a44a-466b-c6df-2e448c3ddfb8\",\"type\":\"BoxZoomTool\",\"attributes\":{\"plot\":{\"id\":\"859ec279-368f-4bd5-cbfe-edc6559df4c5\",\"type\":\"Plot\",\"subtype\":\"Figure\"},\"id\":\"dead1311-a44a-466b-c6df-2e448c3ddfb8\",\"tags\":[],\"doc\":null}},{\"id\":\"68f2fcf8-32da-40e7-c0d0-7a2a27313279\",\"type\":\"PreviewSaveTool\",\"attributes\":{\"plot\":{\"id\":\"859ec279-368f-4bd5-cbfe-edc6559df4c5\",\"type\":\"Plot\",\"subtype\":\"Figure\"},\"id\":\"68f2fcf8-32da-40e7-c0d0-7a2a27313279\",\"tags\":[],\"doc\":null}},{\"id\":\"5a378944-7b3c-4520-c586-07b43985377b\",\"type\":\"ResizeTool\",\"attributes\":{\"plot\":{\"id\":\"859ec279-368f-4bd5-cbfe-edc6559df4c5\",\"type\":\"Plot\",\"subtype\":\"Figure\"},\"id\":\"5a378944-7b3c-4520-c586-07b43985377b\",\"tags\":[],\"doc\":null}},{\"id\":\"374867bb-f5ed-4c03-cc94-c879f6a8e7fd\",\"type\":\"ResetTool\",\"attributes\":{\"plot\":{\"id\":\"859ec279-368f-4bd5-cbfe-edc6559df4c5\",\"type\":\"Plot\",\"subtype\":\"Figure\"},\"id\":\"374867bb-f5ed-4c03-cc94-c879f6a8e7fd\",\"tags\":[],\"doc\":null}},{\"id\":\"859ec279-368f-4bd5-cbfe-edc6559df4c5\",\"type\":\"Plot\",\"attributes\":{\"x_range\":{\"type\":\"DataRange1d\",\"id\":\"5a5b9abf-c699-4165-c113-4182642f97d5\"},\"tool_events\":{\"type\":\"ToolEvents\",\"id\":\"e9c556fc-44be-4b94-cb22-6242330a5b29\"},\"below\":[{\"type\":\"LinearAxis\",\"id\":\"d912b050-9b49-47dd-c708-a95a55d6bb2b\"}],\"renderers\":[{\"type\":\"GlyphRenderer\",\"id\":\"77eec186-0054-431c-c372-a14b085461d5\"},{\"type\":\"LinearAxis\",\"id\":\"d912b050-9b49-47dd-c708-a95a55d6bb2b\"},{\"type\":\"Grid\",\"id\":\"83cf6174-83d8-4560-c54d-eeb4c0590d89\"},{\"type\":\"LinearAxis\",\"id\":\"3b2ab9be-6086-4d96-cd0b-29e168a85086\"},{\"type\":\"Grid\",\"id\":\"d5b747fd-daeb-4556-c591-a030e515e25b\"}],\"above\":[],\"tools\":[{\"type\":\"PanTool\",\"id\":\"69164ef6-6c17-4715-c721-37c02b62bef0\"},{\"type\":\"WheelZoomTool\",\"id\":\"5ca795bb-e696-4f46-cf25-a9f5564f16c4\"},{\"type\":\"BoxZoomTool\",\"id\":\"dead1311-a44a-466b-c6df-2e448c3ddfb8\"},{\"type\":\"PreviewSaveTool\",\"id\":\"68f2fcf8-32da-40e7-c0d0-7a2a27313279\"},{\"type\":\"ResizeTool\",\"id\":\"5a378944-7b3c-4520-c586-07b43985377b\"},{\"type\":\"ResetTool\",\"id\":\"374867bb-f5ed-4c03-cc94-c879f6a8e7fd\"}],\"doc\":null,\"right\":[],\"title\":\"Plot of Rougue-F1\",\"extra_x_ranges\":{},\"left\":[{\"type\":\"LinearAxis\",\"id\":\"3b2ab9be-6086-4d96-cd0b-29e168a85086\"}],\"y_range\":{\"type\":\"DataRange1d\",\"id\":\"595acf0b-a9ae-4013-c05d-28642b4958df\"},\"id\":\"859ec279-368f-4bd5-cbfe-edc6559df4c5\",\"extra_y_ranges\":{},\"tags\":[]}}];\n",
       "  Bokeh.load_models(all_models);\n",
       "  var model = Bokeh.Collections(modeltype).get(modelid);\n",
       "  $(\"#e25517cd-3e4d-4ec9-ce13-b140731388c2\").html(''); // clear any previous plot in window_id\n",
       "  var view = new model.default_view({model: model, el: \"#e25517cd-3e4d-4ec9-ce13-b140731388c2\"});\n",
       "    } else {\n",
       "  load_lib(bokehjs_url, function() {\n",
       "      console.log(\"Bokeh: BokehJS plotting callback run at\", new Date())\n",
       "      var modelid = \"859ec279-368f-4bd5-cbfe-edc6559df4c5\";\n",
       "      var modeltype = \"Plot\";\n",
       "      var all_models = [{\"id\":\"3efc495f-e3c2-448d-c46e-43fafc3c538e\",\"type\":\"ColumnDataSource\",\"attributes\":{\"data\":{\"y\":[0.44190476190476,0.5852380952381,0.41777777777778,0.38888888888889,0.38769841269841,0.49515873015873,0.46666666666667,0.51436507936508,0.435,0.44714285714286,0.44547619047619,0.35880952380952,0.39880952380952,0.44166666666667,0.33119047619048,0.4,0.33047619047619,0.33142857142857,0.52785714285714,0.18333333333333,0,0,0,0,0.26388888888889,0,0.34722222222222,0,0.45666666666667,0.49722222222222,0.49722222222222,0.52103174603175,0.52103174603175,0.52103174603175,0.52103174603175,0.49404761904762,0.49603174603175,0.52103174603175,0.70436507936508,0.70436507936508,0.6197619047619,0.75349206349206,0.70436507936508,0.72055555555556,0.70436507936508,0.66738095238095,0.70436507936508,0.7118253968254,0.71063492063492,0.70436507936508,0.68722222222222,0.44603174603175,0.27222222222222,0.27222222222222,0.27222222222222,0.26904761904762,0.19,0.18761904761905,0.57214285714286,0.54325396825397,0.62103174603175,0.69047619047619,0.65865079365079,0.51388888888889,0.70436507936508,0.70436507936508,0.70436507936508,0.57738095238095,0.67261904761905,0.61412698412698,0.67261904761905,0.67261904761905,0.67261904761905,0.69992063492063,0.62206349206349,0.62206349206349,0.62206349206349,0.56142857142857,0.27222222222222,0.62206349206349,0.27222222222222,0.34031746031746,0.27222222222222,0.14,0,0,0,0,0,0,0,0,0,0,0,0,0,0,0,0],\"x\":[1,2,3,4,5,6,7,8,9,10,11,12,13,14,15,16,17,18,19,20,21,22,23,24,25,26,27,28,29,30,31,32,33,34,35,36,37,38,39,40,41,42,43,44,45,46,47,48,49,50,51,52,53,54,55,56,57,58,59,60,61,62,63,64,65,66,67,68,69,70,71,72,73,74,75,76,77,78,79,80,81,82,83,84,85,86,87,88,89,90,91,92,93,94,95,96,97,98,99,100]},\"column_names\":[\"y\",\"x\"],\"cont_ranges\":{},\"discrete_ranges\":{},\"selected\":[],\"id\":\"3efc495f-e3c2-448d-c46e-43fafc3c538e\",\"doc\":null,\"tags\":[]}},{\"id\":\"a2845367-8bc9-4a0d-cab4-c2a59b2b0972\",\"type\":\"Line\",\"attributes\":{\"fill_alpha\":{\"units\":\"data\",\"value\":0.2},\"line_alpha\":{\"units\":\"data\",\"value\":1},\"doc\":null,\"size\":{\"units\":\"screen\",\"value\":10},\"fill_color\":{\"value\":\"blue\"},\"line_color\":{\"value\":\"blue\"},\"x\":{\"units\":\"data\",\"field\":\"x\"},\"id\":\"a2845367-8bc9-4a0d-cab4-c2a59b2b0972\",\"y\":{\"units\":\"data\",\"field\":\"y\"},\"tags\":[]}},{\"id\":\"a04ed1b4-3c62-4b65-cbb4-c3d180329b66\",\"type\":\"Line\",\"attributes\":{\"fill_alpha\":{\"units\":\"data\",\"value\":0.2},\"line_alpha\":{\"units\":\"data\",\"value\":1},\"doc\":null,\"size\":{\"units\":\"screen\",\"value\":10},\"fill_color\":{\"value\":\"blue\"},\"line_color\":{\"value\":\"blue\"},\"x\":{\"units\":\"data\",\"field\":\"x\"},\"id\":\"a04ed1b4-3c62-4b65-cbb4-c3d180329b66\",\"y\":{\"units\":\"data\",\"field\":\"y\"},\"tags\":[]}},{\"id\":\"77eec186-0054-431c-c372-a14b085461d5\",\"type\":\"GlyphRenderer\",\"attributes\":{\"name\":null,\"nonselection_glyph\":{\"type\":\"Line\",\"id\":\"a04ed1b4-3c62-4b65-cbb4-c3d180329b66\"},\"doc\":null,\"server_data_source\":null,\"data_source\":{\"type\":\"ColumnDataSource\",\"id\":\"3efc495f-e3c2-448d-c46e-43fafc3c538e\"},\"glyph\":{\"type\":\"Line\",\"id\":\"a2845367-8bc9-4a0d-cab4-c2a59b2b0972\"},\"selection_glyph\":null,\"id\":\"77eec186-0054-431c-c372-a14b085461d5\",\"tags\":[]}},{\"id\":\"5a5b9abf-c699-4165-c113-4182642f97d5\",\"type\":\"DataRange1d\",\"attributes\":{\"sources\":[{\"columns\":[\"x\"],\"source\":{\"type\":\"ColumnDataSource\",\"id\":\"3efc495f-e3c2-448d-c46e-43fafc3c538e\"}}],\"id\":\"5a5b9abf-c699-4165-c113-4182642f97d5\",\"tags\":[],\"doc\":null}},{\"id\":\"595acf0b-a9ae-4013-c05d-28642b4958df\",\"type\":\"DataRange1d\",\"attributes\":{\"sources\":[{\"columns\":[\"y\"],\"source\":{\"type\":\"ColumnDataSource\",\"id\":\"3efc495f-e3c2-448d-c46e-43fafc3c538e\"}}],\"id\":\"595acf0b-a9ae-4013-c05d-28642b4958df\",\"tags\":[],\"doc\":null}},{\"id\":\"e9c556fc-44be-4b94-cb22-6242330a5b29\",\"type\":\"ToolEvents\",\"attributes\":{\"tags\":[],\"id\":\"e9c556fc-44be-4b94-cb22-6242330a5b29\",\"geometries\":[],\"doc\":null}},{\"id\":\"63cdae29-d8e5-4d25-cd6f-c002c1bdd632\",\"type\":\"BasicTickFormatter\",\"attributes\":{\"id\":\"63cdae29-d8e5-4d25-cd6f-c002c1bdd632\",\"tags\":[],\"doc\":null}},{\"id\":\"879eedd4-3204-4e47-ce4f-e4eee7874098\",\"type\":\"BasicTicker\",\"attributes\":{\"num_minor_ticks\":5,\"id\":\"879eedd4-3204-4e47-ce4f-e4eee7874098\",\"tags\":[],\"doc\":null}},{\"id\":\"d912b050-9b49-47dd-c708-a95a55d6bb2b\",\"type\":\"LinearAxis\",\"attributes\":{\"formatter\":{\"type\":\"BasicTickFormatter\",\"id\":\"63cdae29-d8e5-4d25-cd6f-c002c1bdd632\"},\"ticker\":{\"type\":\"BasicTicker\",\"id\":\"879eedd4-3204-4e47-ce4f-e4eee7874098\"},\"plot\":{\"id\":\"859ec279-368f-4bd5-cbfe-edc6559df4c5\",\"type\":\"Plot\",\"subtype\":\"Figure\"},\"axis_label\":null,\"id\":\"d912b050-9b49-47dd-c708-a95a55d6bb2b\",\"doc\":null,\"tags\":[]}},{\"id\":\"83cf6174-83d8-4560-c54d-eeb4c0590d89\",\"type\":\"Grid\",\"attributes\":{\"dimension\":0,\"plot\":{\"id\":\"859ec279-368f-4bd5-cbfe-edc6559df4c5\",\"type\":\"Plot\",\"subtype\":\"Figure\"},\"ticker\":{\"type\":\"BasicTicker\",\"id\":\"879eedd4-3204-4e47-ce4f-e4eee7874098\"},\"id\":\"83cf6174-83d8-4560-c54d-eeb4c0590d89\",\"doc\":null,\"tags\":[]}},{\"id\":\"c3e338b3-6705-46a9-c67d-b37158e63e27\",\"type\":\"BasicTickFormatter\",\"attributes\":{\"id\":\"c3e338b3-6705-46a9-c67d-b37158e63e27\",\"tags\":[],\"doc\":null}},{\"id\":\"84082131-4e92-4dae-cd99-46d07a0861bd\",\"type\":\"BasicTicker\",\"attributes\":{\"num_minor_ticks\":5,\"id\":\"84082131-4e92-4dae-cd99-46d07a0861bd\",\"tags\":[],\"doc\":null}},{\"id\":\"3b2ab9be-6086-4d96-cd0b-29e168a85086\",\"type\":\"LinearAxis\",\"attributes\":{\"formatter\":{\"type\":\"BasicTickFormatter\",\"id\":\"c3e338b3-6705-46a9-c67d-b37158e63e27\"},\"ticker\":{\"type\":\"BasicTicker\",\"id\":\"84082131-4e92-4dae-cd99-46d07a0861bd\"},\"plot\":{\"id\":\"859ec279-368f-4bd5-cbfe-edc6559df4c5\",\"type\":\"Plot\",\"subtype\":\"Figure\"},\"axis_label\":null,\"id\":\"3b2ab9be-6086-4d96-cd0b-29e168a85086\",\"doc\":null,\"tags\":[]}},{\"id\":\"d5b747fd-daeb-4556-c591-a030e515e25b\",\"type\":\"Grid\",\"attributes\":{\"dimension\":1,\"plot\":{\"id\":\"859ec279-368f-4bd5-cbfe-edc6559df4c5\",\"type\":\"Plot\",\"subtype\":\"Figure\"},\"ticker\":{\"type\":\"BasicTicker\",\"id\":\"84082131-4e92-4dae-cd99-46d07a0861bd\"},\"id\":\"d5b747fd-daeb-4556-c591-a030e515e25b\",\"doc\":null,\"tags\":[]}},{\"id\":\"69164ef6-6c17-4715-c721-37c02b62bef0\",\"type\":\"PanTool\",\"attributes\":{\"plot\":{\"id\":\"859ec279-368f-4bd5-cbfe-edc6559df4c5\",\"type\":\"Plot\",\"subtype\":\"Figure\"},\"dimensions\":[\"width\",\"height\"],\"id\":\"69164ef6-6c17-4715-c721-37c02b62bef0\",\"doc\":null,\"tags\":[]}},{\"id\":\"5ca795bb-e696-4f46-cf25-a9f5564f16c4\",\"type\":\"WheelZoomTool\",\"attributes\":{\"plot\":{\"id\":\"859ec279-368f-4bd5-cbfe-edc6559df4c5\",\"type\":\"Plot\",\"subtype\":\"Figure\"},\"dimensions\":[\"width\",\"height\"],\"id\":\"5ca795bb-e696-4f46-cf25-a9f5564f16c4\",\"doc\":null,\"tags\":[]}},{\"id\":\"dead1311-a44a-466b-c6df-2e448c3ddfb8\",\"type\":\"BoxZoomTool\",\"attributes\":{\"plot\":{\"id\":\"859ec279-368f-4bd5-cbfe-edc6559df4c5\",\"type\":\"Plot\",\"subtype\":\"Figure\"},\"id\":\"dead1311-a44a-466b-c6df-2e448c3ddfb8\",\"tags\":[],\"doc\":null}},{\"id\":\"68f2fcf8-32da-40e7-c0d0-7a2a27313279\",\"type\":\"PreviewSaveTool\",\"attributes\":{\"plot\":{\"id\":\"859ec279-368f-4bd5-cbfe-edc6559df4c5\",\"type\":\"Plot\",\"subtype\":\"Figure\"},\"id\":\"68f2fcf8-32da-40e7-c0d0-7a2a27313279\",\"tags\":[],\"doc\":null}},{\"id\":\"5a378944-7b3c-4520-c586-07b43985377b\",\"type\":\"ResizeTool\",\"attributes\":{\"plot\":{\"id\":\"859ec279-368f-4bd5-cbfe-edc6559df4c5\",\"type\":\"Plot\",\"subtype\":\"Figure\"},\"id\":\"5a378944-7b3c-4520-c586-07b43985377b\",\"tags\":[],\"doc\":null}},{\"id\":\"374867bb-f5ed-4c03-cc94-c879f6a8e7fd\",\"type\":\"ResetTool\",\"attributes\":{\"plot\":{\"id\":\"859ec279-368f-4bd5-cbfe-edc6559df4c5\",\"type\":\"Plot\",\"subtype\":\"Figure\"},\"id\":\"374867bb-f5ed-4c03-cc94-c879f6a8e7fd\",\"tags\":[],\"doc\":null}},{\"id\":\"859ec279-368f-4bd5-cbfe-edc6559df4c5\",\"type\":\"Plot\",\"attributes\":{\"x_range\":{\"type\":\"DataRange1d\",\"id\":\"5a5b9abf-c699-4165-c113-4182642f97d5\"},\"tool_events\":{\"type\":\"ToolEvents\",\"id\":\"e9c556fc-44be-4b94-cb22-6242330a5b29\"},\"below\":[{\"type\":\"LinearAxis\",\"id\":\"d912b050-9b49-47dd-c708-a95a55d6bb2b\"}],\"renderers\":[{\"type\":\"GlyphRenderer\",\"id\":\"77eec186-0054-431c-c372-a14b085461d5\"},{\"type\":\"LinearAxis\",\"id\":\"d912b050-9b49-47dd-c708-a95a55d6bb2b\"},{\"type\":\"Grid\",\"id\":\"83cf6174-83d8-4560-c54d-eeb4c0590d89\"},{\"type\":\"LinearAxis\",\"id\":\"3b2ab9be-6086-4d96-cd0b-29e168a85086\"},{\"type\":\"Grid\",\"id\":\"d5b747fd-daeb-4556-c591-a030e515e25b\"}],\"above\":[],\"tools\":[{\"type\":\"PanTool\",\"id\":\"69164ef6-6c17-4715-c721-37c02b62bef0\"},{\"type\":\"WheelZoomTool\",\"id\":\"5ca795bb-e696-4f46-cf25-a9f5564f16c4\"},{\"type\":\"BoxZoomTool\",\"id\":\"dead1311-a44a-466b-c6df-2e448c3ddfb8\"},{\"type\":\"PreviewSaveTool\",\"id\":\"68f2fcf8-32da-40e7-c0d0-7a2a27313279\"},{\"type\":\"ResizeTool\",\"id\":\"5a378944-7b3c-4520-c586-07b43985377b\"},{\"type\":\"ResetTool\",\"id\":\"374867bb-f5ed-4c03-cc94-c879f6a8e7fd\"}],\"doc\":null,\"right\":[],\"title\":\"Plot of Rougue-F1\",\"extra_x_ranges\":{},\"left\":[{\"type\":\"LinearAxis\",\"id\":\"3b2ab9be-6086-4d96-cd0b-29e168a85086\"}],\"y_range\":{\"type\":\"DataRange1d\",\"id\":\"595acf0b-a9ae-4013-c05d-28642b4958df\"},\"id\":\"859ec279-368f-4bd5-cbfe-edc6559df4c5\",\"extra_y_ranges\":{},\"tags\":[]}}];\n",
       "      Bokeh.load_models(all_models);\n",
       "      var model = Bokeh.Collections(modeltype).get(modelid);\n",
       "      $(\"#e25517cd-3e4d-4ec9-ce13-b140731388c2\").html(''); // clear any previous plot in window_id\n",
       "      var view = new model.default_view({model: model, el: \"#e25517cd-3e4d-4ec9-ce13-b140731388c2\"});\n",
       "  });\n",
       "    }\n",
       "});\n",
       "</script>\n",
       "<div class=\"plotdiv\" id=\"e25517cd-3e4d-4ec9-ce13-b140731388c2\"></div>\n"
      ]
     },
     "metadata": {},
     "output_type": "display_data"
    }
   ],
   "source": [
    "Plot = require 'itorch.Plot'\n",
    "\n",
    "loss = torch.Tensor(lossfull)\n",
    "rougue = torch.Tensor(rouguef1)\n",
    "indices = torch.linspace(1, loss:size(1), loss:size(1)):long() \n",
    "plot = Plot():line(indices, loss, 'red', 'hi'):title('Plot of loss'):draw()\n",
    "plot = Plot():line(indices, rougue, 'blue', 'hi'):title('Plot of Rougue-F1'):draw()"
   ]
  },
  {
   "cell_type": "code",
   "execution_count": null,
   "metadata": {
    "collapsed": true
   },
   "outputs": [],
   "source": []
  }
 ],
 "metadata": {
  "anaconda-cloud": {},
  "kernelspec": {
   "display_name": "iTorch",
   "language": "lua",
   "name": "itorch"
  },
  "language_info": {
   "name": "lua",
   "version": "5.1"
  }
 },
 "nbformat": 4,
 "nbformat_minor": 1
}
