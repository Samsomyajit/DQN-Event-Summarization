{
 "cells": [
  {
   "cell_type": "code",
   "execution_count": 1,
   "metadata": {
    "collapsed": false
   },
   "outputs": [],
   "source": [
    "require 'nn'\n",
    "require 'rnn'\n",
    "require 'image'\n",
    "require 'optim'\n",
    "require 'parallel'\n",
    "require 'cutorch'\n",
    "require 'cunn'\n",
    "require 'cunnx'\n",
    "dl = require 'dataload'"
   ]
  },
  {
   "cell_type": "code",
   "execution_count": 2,
   "metadata": {
    "collapsed": false
   },
   "outputs": [
    {
     "data": {
      "text/plain": [
       "\n"
      ]
     },
     "execution_count": 2,
     "metadata": {},
     "output_type": "execute_result"
    }
   ],
   "source": [
    "dofile(\"DQN_Batch_Queries_Simulation.lua\")"
   ]
  },
  {
   "cell_type": "code",
   "execution_count": 12,
   "metadata": {
    "collapsed": true
   },
   "outputs": [],
   "source": [
    "-- Setting parameters\n",
    "n = 1\n",
    "n_s = 5\n",
    "k = 3\n",
    "q = 4\n",
    "a = 1\n",
    "b = 100\n",
    "embDim = 50\n",
    "gamma = 0.0\n",
    "SKIP = 1\n",
    "SELECT = 2\n",
    "epsilon = 1\n",
    "nepochs = 100\n",
    "\n",
    "base_explore_rate = 0.1\n",
    "end_baserate = torch.round(nepochs * 0.8)\n",
    "endexplorerate = 0.5\n",
    "\n",
    "learning_rate = 1e-5\n",
    "fast = true\n",
    "usecuda = false\n",
    "adapt = false\n",
    "cuts = 4\n",
    "mem_multiplier = 3\n",
    "batch_size = 25\n",
    "delta = cuts/nepochs\n",
    "print_perf = false"
   ]
  },
  {
   "cell_type": "code",
   "execution_count": 13,
   "metadata": {
    "collapsed": false
   },
   "outputs": [
    {
     "data": {
      "text/plain": [
       "...running on CPU\t\n"
      ]
     },
     "execution_count": 13,
     "metadata": {},
     "output_type": "execute_result"
    },
    {
     "data": {
      "text/plain": [
       "true actions =\t\n",
       " 1  0\n",
       " 1  0\n",
       " 0  1\n",
       " 0  1\n",
       " 1  0\n",
       "[torch.DoubleTensor of size 5x2]\n",
       "\n",
       "true summary =\t\n",
       " 69  63  44  27  83  69   0   0   0   0   0   0   0   0   0\n",
       "[torch.LongTensor of size 1x15]\n",
       "\n",
       "Running LSTM model to learn f1\t\n"
      ]
     },
     "execution_count": 13,
     "metadata": {},
     "output_type": "execute_result"
    }
   ],
   "source": [
    "torch.manualSeed(420)\n",
    "if usecuda then\n",
    "    Tensor = torch.CudaTensor\n",
    "    LongTensor = torch.CudaLongTensor   \n",
    "    ByteTensor = torch.CudaByteTensor\n",
    "    maskLayer = nn.MaskedSelect():cuda()\n",
    "    print(\"...running on GPU\")\n",
    "else\n",
    "    Tensor = torch.Tensor\n",
    "    LongTensor = torch.LongTensor\n",
    "    ByteTensor = torch.ByteTensor\n",
    "    maskLayer = nn.MaskedSelect()\n",
    "    print(\"...running on CPU\")\n",
    "end\n",
    "\n",
    "local SKIP = 1\n",
    "local SELECT = 2\n",
    "\n",
    "optimParams = { learningRate = learning_rate }\n",
    "delta = cuts / nepochs\n",
    "end_baserate = torch.round(nepochs * endexplorerate )\n",
    "\n",
    "-- Simulating streams and queries\n",
    "queries = genNbyK(n, q, a, b)\n",
    "\n",
    "-- Note that the sentences are batched by sentence index so sentences[1] is the first sentence of each article\n",
    "sentences = {}\n",
    "for i=1, n_s do\n",
    "    sentences[i] = genNbyK(n, k, a, b)\n",
    "end\n",
    "\n",
    "-- Optimal predicted summary\n",
    "trueSummary = LongTensor(n, k * n_s):fill(0)\n",
    "\n",
    "-- Using this to generate the optimal actions\n",
    "true_actions = {}\n",
    "for i=1, n_s do \n",
    "    ---- Simulating the data\n",
    "    trueqValues = torch.rand(n, 2)\n",
    "     ---- Generating the max values and getting the indices\n",
    "    qMaxtrue, qindxtrue = torch.max(trueqValues, 2)\n",
    "\n",
    "    --- I want to select the qindx elements for each row\n",
    "    true_actions[i] = torch.zeros(n, 2):scatter(2, qindxtrue, torch.ones(trueqValues:size()))\n",
    "    best_sentences = buildPredsummaryFast(true_actions[i], sentences[i], SELECT)\n",
    "    trueSummary = buildTotalSummaryFast(best_sentences, trueSummary, usecuda)\n",
    "end\n",
    "\n",
    "tmptrueactions = Tensor(n_s * n, 2)\n",
    "for i = 1, n_s do \n",
    "    tmptrueactions[i]:copy(true_actions[i])\n",
    "end\n",
    "print('true actions =')\n",
    "print(tmptrueactions)\n",
    "print('true summary =')\n",
    "print(trueSummary)\n",
    "\n",
    "qTokens = {}\n",
    "for i=1, n do\n",
    "    qTokens[i] = Tokenize(trueSummary[i]:totable())\n",
    "end\n",
    "\n",
    "-- Building the model\n",
    "model = buildModel('lstm', b, embDim, 'f1', adapt, usecuda)\n",
    "params, gradParams = model:getParameters()\n",
    "\n",
    "if adapt then \n",
    "    criterion = nn.ParallelCriterion():add(nn.MSECriterion()):add(nn.BCECriterion())\n",
    "    criterion[\"weights\"] = {1, adapt_lambda}\n",
    "else \n",
    "    criterion = nn.MSECriterion()\n",
    "end \n",
    "\n",
    "totalPredsummary = {}\n",
    "qValues = {}\n",
    "qActions = {}\n",
    "qPreds = {}\n",
    "rewards = {}\n",
    "lossfull = {}\n",
    "rouguef1 = {}\n",
    "\n",
    "totalPredsummary = LongTensor(n, n_s * k):fill(0)\n",
    "\n",
    "memfull = false\n",
    "curr_memsize = 0\n",
    "memsize = n * n_s * mem_multiplier\n",
    "queryMemory = Tensor(memsize, q):fill(0)\n",
    "qActionMemory = Tensor(memsize, 2):fill(0)\n",
    "predSummaryMemory = Tensor(memsize, n_s * k):fill(0)\n",
    "sentenceMemory = Tensor(memsize, k):fill(0)\n",
    "qPredsMemory = Tensor(memsize, 2):fill(0)\n",
    "qValuesMemory = Tensor(memsize, 1):fill(0)\n",
    "rewardMemory = Tensor(memsize, 1):fill(0)\n",
    "\n",
    "if adapt then\n",
    "    regPreds = {}\n",
    "    regMemory = Tensor(memsize, 1):fill(0) \n",
    "end\n",
    "--- Initializing thingss\n",
    "for i = 1, n_s do\n",
    "    qPreds[i] = Tensor(n, 2):fill(0) \n",
    "    qValues[i] = Tensor(n, 1):fill(0)\n",
    "    qActions[i] = Tensor(n, 2):fill(0)\n",
    "    rewards[i] = Tensor(n, 1):fill(0)\n",
    "    if adapt then\n",
    "        regPreds[i] = Tensor(n, 1):fill(0)\n",
    "    end        \n",
    "end \n",
    "\n",
    "if usecuda then\n",
    "    criterion = criterion:cuda()\n",
    "    model = model:cuda()\n",
    "end"
   ]
  },
  {
   "cell_type": "code",
   "execution_count": 14,
   "metadata": {
    "collapsed": false
   },
   "outputs": [
    {
     "data": {
      "text/plain": [
       "-0.1181  0.0468\n",
       "[torch.DoubleTensor of size 1x2]\n",
       "\n"
      ]
     },
     "execution_count": 14,
     "metadata": {},
     "output_type": "execute_result"
    }
   ],
   "source": [
    "model:forward({queries, sentences[1],  totalPredsummary})"
   ]
  },
  {
   "cell_type": "code",
   "execution_count": 15,
   "metadata": {
    "collapsed": false
   },
   "outputs": [
    {
     "data": {
      "text/plain": [
       " 1  0  1  0  0\n",
       "[torch.DoubleTensor of size 1x5]\n",
       "\n"
      ]
     },
     "execution_count": 15,
     "metadata": {},
     "output_type": "execute_result"
    },
    {
     "data": {
      "text/plain": [
       " 0  1  1  0  0\n",
       "[torch.DoubleTensor of size 1x5]\n",
       "\n"
      ]
     },
     "execution_count": 15,
     "metadata": {},
     "output_type": "execute_result"
    },
    {
     "data": {
      "text/plain": [
       " 1  1  0  1  0\n",
       "[torch.DoubleTensor of size 1x5]\n",
       "\n"
      ]
     },
     "execution_count": 15,
     "metadata": {},
     "output_type": "execute_result"
    },
    {
     "data": {
      "text/plain": [
       " 0  0  0  1  1\n",
       "[torch.DoubleTensor of size 1x5]\n",
       "\n"
      ]
     },
     "execution_count": 15,
     "metadata": {},
     "output_type": "execute_result"
    },
    {
     "data": {
      "text/plain": [
       " 0  1  1  0  1\n",
       "[torch.DoubleTensor of size 1x5]\n",
       "\n"
      ]
     },
     "execution_count": 15,
     "metadata": {},
     "output_type": "execute_result"
    },
    {
     "data": {
      "text/plain": [
       " 1  0  1  1  1\n",
       "[torch.DoubleTensor of size 1x5]\n",
       "\n"
      ]
     },
     "execution_count": 15,
     "metadata": {},
     "output_type": "execute_result"
    },
    {
     "data": {
      "text/plain": [
       " 0  0  0  0  1\n",
       "[torch.DoubleTensor of size 1x5]\n",
       "\n"
      ]
     },
     "execution_count": 15,
     "metadata": {},
     "output_type": "execute_result"
    },
    {
     "data": {
      "text/plain": [
       " 0  1  1  1  0\n",
       "[torch.DoubleTensor of size 1x5]\n",
       "\n"
      ]
     },
     "execution_count": 15,
     "metadata": {},
     "output_type": "execute_result"
    },
    {
     "data": {
      "text/plain": [
       " 0  0  0  1  1\n",
       "[torch.DoubleTensor of size 1x5]\n",
       "\n"
      ]
     },
     "execution_count": 15,
     "metadata": {},
     "output_type": "execute_result"
    },
    {
     "data": {
      "text/plain": [
       " 1  1  1  1  0\n",
       "[torch.DoubleTensor of size 1x5]\n",
       "\n"
      ]
     },
     "execution_count": 15,
     "metadata": {},
     "output_type": "execute_result"
    },
    {
     "data": {
      "text/plain": [
       " 0  0  0  1  0\n",
       "[torch.DoubleTensor of size 1x5]\n",
       "\n"
      ]
     },
     "execution_count": 15,
     "metadata": {},
     "output_type": "execute_result"
    },
    {
     "data": {
      "text/plain": [
       " 1  1  1  1  0\n",
       "[torch.DoubleTensor of size 1x5]\n",
       "\n"
      ]
     },
     "execution_count": 15,
     "metadata": {},
     "output_type": "execute_result"
    },
    {
     "data": {
      "text/plain": [
       " 1  1  0  1  1\n",
       "[torch.DoubleTensor of size 1x5]\n",
       "\n"
      ]
     },
     "execution_count": 15,
     "metadata": {},
     "output_type": "execute_result"
    },
    {
     "data": {
      "text/plain": [
       " 1  1  0  0  1\n",
       "[torch.DoubleTensor of size 1x5]\n",
       "\n"
      ]
     },
     "execution_count": 15,
     "metadata": {},
     "output_type": "execute_result"
    },
    {
     "data": {
      "text/plain": [
       " 0  1  1  1  1\n",
       "[torch.DoubleTensor of size 1x5]\n",
       "\n"
      ]
     },
     "execution_count": 15,
     "metadata": {},
     "output_type": "execute_result"
    },
    {
     "data": {
      "text/plain": [
       " 1  1  1  0  1\n",
       "[torch.DoubleTensor of size 1x5]\n",
       "\n"
      ]
     },
     "execution_count": 15,
     "metadata": {},
     "output_type": "execute_result"
    },
    {
     "data": {
      "text/plain": [
       " 1  0  1  1  1\n",
       "[torch.DoubleTensor of size 1x5]\n",
       "\n"
      ]
     },
     "execution_count": 15,
     "metadata": {},
     "output_type": "execute_result"
    },
    {
     "data": {
      "text/plain": [
       " 1  1  1  1  0\n",
       "[torch.DoubleTensor of size 1x5]\n",
       "\n"
      ]
     },
     "execution_count": 15,
     "metadata": {},
     "output_type": "execute_result"
    },
    {
     "data": {
      "text/plain": [
       " 1  0  1  1  1\n",
       "[torch.DoubleTensor of size 1x5]\n",
       "\n"
      ]
     },
     "execution_count": 15,
     "metadata": {},
     "output_type": "execute_result"
    },
    {
     "data": {
      "text/plain": [
       " 0  1  1  1  1\n",
       "[torch.DoubleTensor of size 1x5]\n",
       "\n"
      ]
     },
     "execution_count": 15,
     "metadata": {},
     "output_type": "execute_result"
    },
    {
     "data": {
      "text/plain": [
       " 1  1  0  0  1\n",
       "[torch.DoubleTensor of size 1x5]\n",
       "\n"
      ]
     },
     "execution_count": 15,
     "metadata": {},
     "output_type": "execute_result"
    },
    {
     "data": {
      "text/plain": [
       " 1  1  1  1  1\n",
       "[torch.DoubleTensor of size 1x5]\n",
       "\n"
      ]
     },
     "execution_count": 15,
     "metadata": {},
     "output_type": "execute_result"
    },
    {
     "data": {
      "text/plain": [
       " 1  1  1  1  1\n",
       "[torch.DoubleTensor of size 1x5]\n",
       "\n"
      ]
     },
     "execution_count": 15,
     "metadata": {},
     "output_type": "execute_result"
    },
    {
     "data": {
      "text/plain": [
       " 1  0  1  1  1\n",
       "[torch.DoubleTensor of size 1x5]\n",
       "\n"
      ]
     },
     "execution_count": 15,
     "metadata": {},
     "output_type": "execute_result"
    },
    {
     "data": {
      "text/plain": [
       " 1  1  1  1  1\n",
       "[torch.DoubleTensor of size 1x5]\n",
       "\n"
      ]
     },
     "execution_count": 15,
     "metadata": {},
     "output_type": "execute_result"
    },
    {
     "data": {
      "text/plain": [
       " 1  1  1  1  1\n",
       "[torch.DoubleTensor of size 1x5]\n",
       "\n"
      ]
     },
     "execution_count": 15,
     "metadata": {},
     "output_type": "execute_result"
    },
    {
     "data": {
      "text/plain": [
       " 1  1  1  1  1\n",
       "[torch.DoubleTensor of size 1x5]\n",
       "\n"
      ]
     },
     "execution_count": 15,
     "metadata": {},
     "output_type": "execute_result"
    },
    {
     "data": {
      "text/plain": [
       " 1  1  1  0  1\n",
       "[torch.DoubleTensor of size 1x5]\n",
       "\n"
      ]
     },
     "execution_count": 15,
     "metadata": {},
     "output_type": "execute_result"
    },
    {
     "data": {
      "text/plain": [
       " 1  1  1  1  1\n",
       "[torch.DoubleTensor of size 1x5]\n",
       "\n"
      ]
     },
     "execution_count": 15,
     "metadata": {},
     "output_type": "execute_result"
    },
    {
     "data": {
      "text/plain": [
       " 1  1  1  1  1\n",
       "[torch.DoubleTensor of size 1x5]\n",
       "\n"
      ]
     },
     "execution_count": 15,
     "metadata": {},
     "output_type": "execute_result"
    },
    {
     "data": {
      "text/plain": [
       " 1  1  1  1  1\n",
       "[torch.DoubleTensor of size 1x5]\n",
       "\n"
      ]
     },
     "execution_count": 15,
     "metadata": {},
     "output_type": "execute_result"
    },
    {
     "data": {
      "text/plain": [
       " 1  1  1  1  1\n",
       "[torch.DoubleTensor of size 1x5]\n",
       "\n"
      ]
     },
     "execution_count": 15,
     "metadata": {},
     "output_type": "execute_result"
    },
    {
     "data": {
      "text/plain": [
       " 1  1  1  1  1\n",
       "[torch.DoubleTensor of size 1x5]\n",
       "\n"
      ]
     },
     "execution_count": 15,
     "metadata": {},
     "output_type": "execute_result"
    },
    {
     "data": {
      "text/plain": [
       " 1  1  1  1  1\n",
       "[torch.DoubleTensor of size 1x5]\n",
       "\n"
      ]
     },
     "execution_count": 15,
     "metadata": {},
     "output_type": "execute_result"
    },
    {
     "data": {
      "text/plain": [
       " 1  1  1  1  1\n",
       "[torch.DoubleTensor of size 1x5]\n",
       "\n"
      ]
     },
     "execution_count": 15,
     "metadata": {},
     "output_type": "execute_result"
    },
    {
     "data": {
      "text/plain": [
       " 1  1  1  0  1\n",
       "[torch.DoubleTensor of size 1x5]\n",
       "\n"
      ]
     },
     "execution_count": 15,
     "metadata": {},
     "output_type": "execute_result"
    },
    {
     "data": {
      "text/plain": [
       " 1  1  1  1  1\n",
       "[torch.DoubleTensor of size 1x5]\n",
       "\n"
      ]
     },
     "execution_count": 15,
     "metadata": {},
     "output_type": "execute_result"
    },
    {
     "data": {
      "text/plain": [
       " 1  1  1  1  1\n",
       "[torch.DoubleTensor of size 1x5]\n",
       "\n"
      ]
     },
     "execution_count": 15,
     "metadata": {},
     "output_type": "execute_result"
    },
    {
     "data": {
      "text/plain": [
       " 1  1  1  1  1\n",
       "[torch.DoubleTensor of size 1x5]\n",
       "\n"
      ]
     },
     "execution_count": 15,
     "metadata": {},
     "output_type": "execute_result"
    },
    {
     "data": {
      "text/plain": [
       " 1  1  1  1  1\n",
       "[torch.DoubleTensor of size 1x5]\n",
       "\n"
      ]
     },
     "execution_count": 15,
     "metadata": {},
     "output_type": "execute_result"
    },
    {
     "data": {
      "text/plain": [
       " 1  1  1  1  1\n",
       "[torch.DoubleTensor of size 1x5]\n",
       "\n"
      ]
     },
     "execution_count": 15,
     "metadata": {},
     "output_type": "execute_result"
    },
    {
     "data": {
      "text/plain": [
       " 1  1  1  1  1\n",
       "[torch.DoubleTensor of size 1x5]\n",
       "\n"
      ]
     },
     "execution_count": 15,
     "metadata": {},
     "output_type": "execute_result"
    },
    {
     "data": {
      "text/plain": [
       " 1  1  1  0  1\n",
       "[torch.DoubleTensor of size 1x5]\n",
       "\n"
      ]
     },
     "execution_count": 15,
     "metadata": {},
     "output_type": "execute_result"
    },
    {
     "data": {
      "text/plain": [
       " 1  1  1  1  1\n",
       "[torch.DoubleTensor of size 1x5]\n",
       "\n"
      ]
     },
     "execution_count": 15,
     "metadata": {},
     "output_type": "execute_result"
    },
    {
     "data": {
      "text/plain": [
       " 1  1  1  1  1\n",
       "[torch.DoubleTensor of size 1x5]\n",
       "\n"
      ]
     },
     "execution_count": 15,
     "metadata": {},
     "output_type": "execute_result"
    },
    {
     "data": {
      "text/plain": [
       " 1  1  1  1  1\n",
       "[torch.DoubleTensor of size 1x5]\n",
       "\n"
      ]
     },
     "execution_count": 15,
     "metadata": {},
     "output_type": "execute_result"
    },
    {
     "data": {
      "text/plain": [
       " 1  1  1  1  1\n",
       "[torch.DoubleTensor of size 1x5]\n",
       "\n"
      ]
     },
     "execution_count": 15,
     "metadata": {},
     "output_type": "execute_result"
    },
    {
     "data": {
      "text/plain": [
       " 1  1  1  1  1\n",
       "[torch.DoubleTensor of size 1x5]\n",
       "\n"
      ]
     },
     "execution_count": 15,
     "metadata": {},
     "output_type": "execute_result"
    },
    {
     "data": {
      "text/plain": [
       " 1  1  1  1  1\n",
       "[torch.DoubleTensor of size 1x5]\n",
       "\n"
      ]
     },
     "execution_count": 15,
     "metadata": {},
     "output_type": "execute_result"
    },
    {
     "data": {
      "text/plain": [
       " 1  1  1  1  1\n",
       "[torch.DoubleTensor of size 1x5]\n",
       "\n"
      ]
     },
     "execution_count": 15,
     "metadata": {},
     "output_type": "execute_result"
    },
    {
     "data": {
      "text/plain": [
       " 1  1  1  1  1\n",
       "[torch.DoubleTensor of size 1x5]\n",
       "\n"
      ]
     },
     "execution_count": 15,
     "metadata": {},
     "output_type": "execute_result"
    },
    {
     "data": {
      "text/plain": [
       " 1  1  0  1  1\n",
       "[torch.DoubleTensor of size 1x5]\n",
       "\n"
      ]
     },
     "execution_count": 15,
     "metadata": {},
     "output_type": "execute_result"
    },
    {
     "data": {
      "text/plain": [
       " 1  0  1  1  1\n",
       "[torch.DoubleTensor of size 1x5]\n",
       "\n"
      ]
     },
     "execution_count": 15,
     "metadata": {},
     "output_type": "execute_result"
    },
    {
     "data": {
      "text/plain": [
       " 1  1  1  1  1\n",
       "[torch.DoubleTensor of size 1x5]\n",
       "\n"
      ]
     },
     "execution_count": 15,
     "metadata": {},
     "output_type": "execute_result"
    },
    {
     "data": {
      "text/plain": [
       " 1  1  1  1  1\n",
       "[torch.DoubleTensor of size 1x5]\n",
       "\n"
      ]
     },
     "execution_count": 15,
     "metadata": {},
     "output_type": "execute_result"
    },
    {
     "data": {
      "text/plain": [
       " 1  1  1  1  1\n",
       "[torch.DoubleTensor of size 1x5]\n",
       "\n"
      ]
     },
     "execution_count": 15,
     "metadata": {},
     "output_type": "execute_result"
    },
    {
     "data": {
      "text/plain": [
       " 1  1  1  1  1\n",
       "[torch.DoubleTensor of size 1x5]\n",
       "\n"
      ]
     },
     "execution_count": 15,
     "metadata": {},
     "output_type": "execute_result"
    },
    {
     "data": {
      "text/plain": [
       " 1  1  1  1  1\n",
       "[torch.DoubleTensor of size 1x5]\n",
       "\n"
      ]
     },
     "execution_count": 15,
     "metadata": {},
     "output_type": "execute_result"
    },
    {
     "data": {
      "text/plain": [
       " 1  1  1  1  1\n",
       "[torch.DoubleTensor of size 1x5]\n",
       "\n"
      ]
     },
     "execution_count": 15,
     "metadata": {},
     "output_type": "execute_result"
    },
    {
     "data": {
      "text/plain": [
       " 1  1  1  1  1\n",
       "[torch.DoubleTensor of size 1x5]\n",
       "\n"
      ]
     },
     "execution_count": 15,
     "metadata": {},
     "output_type": "execute_result"
    },
    {
     "data": {
      "text/plain": [
       " 1  1  1  1  1\n",
       "[torch.DoubleTensor of size 1x5]\n",
       "\n"
      ]
     },
     "execution_count": 15,
     "metadata": {},
     "output_type": "execute_result"
    },
    {
     "data": {
      "text/plain": [
       " 1  1  1  1  1\n",
       "[torch.DoubleTensor of size 1x5]\n",
       "\n"
      ]
     },
     "execution_count": 15,
     "metadata": {},
     "output_type": "execute_result"
    },
    {
     "data": {
      "text/plain": [
       " 1  1  1  1  1\n",
       "[torch.DoubleTensor of size 1x5]\n",
       "\n"
      ]
     },
     "execution_count": 15,
     "metadata": {},
     "output_type": "execute_result"
    },
    {
     "data": {
      "text/plain": [
       " 1  1  1  1  1\n",
       "[torch.DoubleTensor of size 1x5]\n",
       "\n"
      ]
     },
     "execution_count": 15,
     "metadata": {},
     "output_type": "execute_result"
    },
    {
     "data": {
      "text/plain": [
       " 1  1  1  1  1\n",
       "[torch.DoubleTensor of size 1x5]\n",
       "\n"
      ]
     },
     "execution_count": 15,
     "metadata": {},
     "output_type": "execute_result"
    },
    {
     "data": {
      "text/plain": [
       " 1  1  1  1  1\n",
       "[torch.DoubleTensor of size 1x5]\n",
       "\n"
      ]
     },
     "execution_count": 15,
     "metadata": {},
     "output_type": "execute_result"
    },
    {
     "data": {
      "text/plain": [
       " 1  1  1  1  1\n",
       "[torch.DoubleTensor of size 1x5]\n",
       "\n"
      ]
     },
     "execution_count": 15,
     "metadata": {},
     "output_type": "execute_result"
    },
    {
     "data": {
      "text/plain": [
       " 1  1  1  1  1\n",
       "[torch.DoubleTensor of size 1x5]\n",
       "\n"
      ]
     },
     "execution_count": 15,
     "metadata": {},
     "output_type": "execute_result"
    },
    {
     "data": {
      "text/plain": [
       " 1  1  1  1  1\n",
       "[torch.DoubleTensor of size 1x5]\n",
       "\n"
      ]
     },
     "execution_count": 15,
     "metadata": {},
     "output_type": "execute_result"
    },
    {
     "data": {
      "text/plain": [
       " 1  1  1  1  1\n",
       "[torch.DoubleTensor of size 1x5]\n",
       "\n"
      ]
     },
     "execution_count": 15,
     "metadata": {},
     "output_type": "execute_result"
    },
    {
     "data": {
      "text/plain": [
       " 1  1  1  1  1\n",
       "[torch.DoubleTensor of size 1x5]\n",
       "\n"
      ]
     },
     "execution_count": 15,
     "metadata": {},
     "output_type": "execute_result"
    },
    {
     "data": {
      "text/plain": [
       " 1  1  1  1  1\n",
       "[torch.DoubleTensor of size 1x5]\n",
       "\n"
      ]
     },
     "execution_count": 15,
     "metadata": {},
     "output_type": "execute_result"
    },
    {
     "data": {
      "text/plain": [
       " 1  1  1  1  1\n",
       "[torch.DoubleTensor of size 1x5]\n",
       "\n"
      ]
     },
     "execution_count": 15,
     "metadata": {},
     "output_type": "execute_result"
    },
    {
     "data": {
      "text/plain": [
       " 1  1  1  1  1\n",
       "[torch.DoubleTensor of size 1x5]\n",
       "\n"
      ]
     },
     "execution_count": 15,
     "metadata": {},
     "output_type": "execute_result"
    },
    {
     "data": {
      "text/plain": [
       " 1  1  1  1  1\n",
       "[torch.DoubleTensor of size 1x5]\n",
       "\n"
      ]
     },
     "execution_count": 15,
     "metadata": {},
     "output_type": "execute_result"
    },
    {
     "data": {
      "text/plain": [
       " 1  1  1  1  1\n",
       "[torch.DoubleTensor of size 1x5]\n",
       "\n"
      ]
     },
     "execution_count": 15,
     "metadata": {},
     "output_type": "execute_result"
    },
    {
     "data": {
      "text/plain": [
       " 1  1  1  1  1\n",
       "[torch.DoubleTensor of size 1x5]\n",
       "\n"
      ]
     },
     "execution_count": 15,
     "metadata": {},
     "output_type": "execute_result"
    },
    {
     "data": {
      "text/plain": [
       " 1  1  1  1  1\n",
       "[torch.DoubleTensor of size 1x5]\n",
       "\n"
      ]
     },
     "execution_count": 15,
     "metadata": {},
     "output_type": "execute_result"
    },
    {
     "data": {
      "text/plain": [
       " 1  1  1  1  1\n",
       "[torch.DoubleTensor of size 1x5]\n",
       "\n"
      ]
     },
     "execution_count": 15,
     "metadata": {},
     "output_type": "execute_result"
    },
    {
     "data": {
      "text/plain": [
       " 1  1  1  1  1\n",
       "[torch.DoubleTensor of size 1x5]\n",
       "\n"
      ]
     },
     "execution_count": 15,
     "metadata": {},
     "output_type": "execute_result"
    },
    {
     "data": {
      "text/plain": [
       " 1  1  1  1  1\n",
       "[torch.DoubleTensor of size 1x5]\n",
       "\n"
      ]
     },
     "execution_count": 15,
     "metadata": {},
     "output_type": "execute_result"
    },
    {
     "data": {
      "text/plain": [
       " 1  1  1  1  1\n",
       "[torch.DoubleTensor of size 1x5]\n",
       "\n"
      ]
     },
     "execution_count": 15,
     "metadata": {},
     "output_type": "execute_result"
    },
    {
     "data": {
      "text/plain": [
       " 1  1  1  1  1\n",
       "[torch.DoubleTensor of size 1x5]\n",
       "\n"
      ]
     },
     "execution_count": 15,
     "metadata": {},
     "output_type": "execute_result"
    },
    {
     "data": {
      "text/plain": [
       " 1  1  1  1  1\n",
       "[torch.DoubleTensor of size 1x5]\n",
       "\n"
      ]
     },
     "execution_count": 15,
     "metadata": {},
     "output_type": "execute_result"
    },
    {
     "data": {
      "text/plain": [
       " 1  1  1  1  1\n",
       "[torch.DoubleTensor of size 1x5]\n",
       "\n"
      ]
     },
     "execution_count": 15,
     "metadata": {},
     "output_type": "execute_result"
    },
    {
     "data": {
      "text/plain": [
       " 1  1  1  1  1\n",
       "[torch.DoubleTensor of size 1x5]\n",
       "\n"
      ]
     },
     "execution_count": 15,
     "metadata": {},
     "output_type": "execute_result"
    },
    {
     "data": {
      "text/plain": [
       " 1  1  1  1  1\n",
       "[torch.DoubleTensor of size 1x5]\n",
       "\n"
      ]
     },
     "execution_count": 15,
     "metadata": {},
     "output_type": "execute_result"
    },
    {
     "data": {
      "text/plain": [
       " 1  1  1  1  1\n",
       "[torch.DoubleTensor of size 1x5]\n",
       "\n"
      ]
     },
     "execution_count": 15,
     "metadata": {},
     "output_type": "execute_result"
    },
    {
     "data": {
      "text/plain": [
       " 1  1  1  1  1\n",
       "[torch.DoubleTensor of size 1x5]\n",
       "\n"
      ]
     },
     "execution_count": 15,
     "metadata": {},
     "output_type": "execute_result"
    },
    {
     "data": {
      "text/plain": [
       " 1  1  1  1  1\n",
       "[torch.DoubleTensor of size 1x5]\n",
       "\n"
      ]
     },
     "execution_count": 15,
     "metadata": {},
     "output_type": "execute_result"
    },
    {
     "data": {
      "text/plain": [
       " 1  1  1  1  1\n",
       "[torch.DoubleTensor of size 1x5]\n",
       "\n"
      ]
     },
     "execution_count": 15,
     "metadata": {},
     "output_type": "execute_result"
    },
    {
     "data": {
      "text/plain": [
       " 1  1  1  1  1\n",
       "[torch.DoubleTensor of size 1x5]\n",
       "\n"
      ]
     },
     "execution_count": 15,
     "metadata": {},
     "output_type": "execute_result"
    },
    {
     "data": {
      "text/plain": [
       " 1  1  1  1  1\n",
       "[torch.DoubleTensor of size 1x5]\n",
       "\n"
      ]
     },
     "execution_count": 15,
     "metadata": {},
     "output_type": "execute_result"
    },
    {
     "data": {
      "text/plain": [
       " 1  1  1  1  1\n",
       "[torch.DoubleTensor of size 1x5]\n",
       "\n"
      ]
     },
     "execution_count": 15,
     "metadata": {},
     "output_type": "execute_result"
    },
    {
     "data": {
      "text/plain": [
       " 1  1  1  1  1\n",
       "[torch.DoubleTensor of size 1x5]\n",
       "\n"
      ]
     },
     "execution_count": 15,
     "metadata": {},
     "output_type": "execute_result"
    },
    {
     "data": {
      "text/plain": [
       " 1  1  1  1  1\n",
       "[torch.DoubleTensor of size 1x5]\n",
       "\n"
      ]
     },
     "execution_count": 15,
     "metadata": {},
     "output_type": "execute_result"
    },
    {
     "data": {
      "text/plain": [
       " 1  1  1  1  1\n",
       "[torch.DoubleTensor of size 1x5]\n",
       "\n"
      ]
     },
     "execution_count": 15,
     "metadata": {},
     "output_type": "execute_result"
    },
    {
     "data": {
      "text/plain": [
       " 1  1  1  1  1\n",
       "[torch.DoubleTensor of size 1x5]\n",
       "\n"
      ]
     },
     "execution_count": 15,
     "metadata": {},
     "output_type": "execute_result"
    },
    {
     "data": {
      "text/plain": [
       " 1  1  1  1  1\n",
       "[torch.DoubleTensor of size 1x5]\n",
       "\n"
      ]
     },
     "execution_count": 15,
     "metadata": {},
     "output_type": "execute_result"
    },
    {
     "data": {
      "text/plain": [
       " 1  1  1  1  1\n",
       "[torch.DoubleTensor of size 1x5]\n",
       "\n"
      ]
     },
     "execution_count": 15,
     "metadata": {},
     "output_type": "execute_result"
    }
   ],
   "source": [
    "nClock = os.clock()\n",
    "for epoch=1, nepochs do\n",
    "    --- Reset things at the start of each epoch\n",
    "    for i=1, n_s do\n",
    "        qPreds[i]:fill(0)\n",
    "        qValues[i]:fill(0)\n",
    "        qActions[i]:fill(0)\n",
    "        rewards[i]:fill(0)\n",
    "        totalPredsummary:fill(0)\n",
    "        if adapt then\n",
    "            regMemory[i]:fill(0)\n",
    "        end        \n",
    "    end\n",
    "\n",
    "    for i=1, n_s do\n",
    "        totalPreds = model:forward({queries, sentences[i], totalPredsummary})\n",
    "\n",
    "        if adapt then \n",
    "            qPreds[i]:copy(totalPreds[1])\n",
    "            regPreds[i]:copy(totalPreds[2])\n",
    "        else\n",
    "            qPreds[i]:copy(totalPreds)\n",
    "        end\n",
    "\n",
    "        if torch.uniform(0, 1) <= epsilon then\n",
    "            -- randomly choosing actions\n",
    "            xrand = torch.rand(qPreds[i]:size())\n",
    "            qActions[i]:select(2, SELECT):copy(torch.ge(xrand:select(2, SELECT), xrand:select(2, SKIP)))\n",
    "            qActions[i]:select(2, SKIP):copy(torch.ge(xrand:select(2, SKIP), xrand:select(2, SELECT)))\n",
    "            qValues[i]:copy( maskLayer:forward({totalPreds, qActions[i]:byte()}) )\n",
    "        else \n",
    "            qMax, qindx = torch.max(qPreds[i], 2)  -- Pulling the best actions\n",
    "            -- Here's the fast way to select the optimal action for each query\n",
    "            qActions[i]:copy(qActions[i]:scatter(2, qindx, torch.ones(qPreds[i]:size())):clone())\n",
    "            qValues[i]:copy(qMax)\n",
    "        end\n",
    "\n",
    "        -- This is where we begin to store the data in our memory \n",
    "            -- notice that we store the reward after this part\n",
    "        start_row = curr_memsize + 1\n",
    "        if memsize < (start_row + n) then \n",
    "            start_row = memsize - n + 1\n",
    "            end_row = start_row + n - 1\n",
    "            curr_memsize = 0\n",
    "            if (end_row + n) >= memsize then \n",
    "                memfull = true\n",
    "            end \n",
    "        else \n",
    "            end_row = start_row + n - 1\n",
    "            curr_memsize = end_row\n",
    "        end\n",
    "        -- Update memory sequentially until it's full then restart updating it\n",
    "        qActionMemory[{{start_row, end_row}}]:copy(qActions[i])\n",
    "        predSummaryMemory[{{start_row, end_row}}]:copy(totalPredsummary)\n",
    "        sentenceMemory[{{start_row, end_row}}]:copy(sentences[i])\n",
    "        qPredsMemory[{{start_row, end_row}}]:copy(qPreds[i])\n",
    "        qValuesMemory[{{start_row, end_row}}]:copy(qValues[i])\n",
    "        queryMemory[{{start_row, end_row}}]:copy(queries)\n",
    "\n",
    "        if adapt then\n",
    "            regMemory[{{start_row, end_row}}]:copy(regPreds[i])\n",
    "        end\n",
    "\n",
    "        -- Now that we've stored our memory, we can build the summary to evaluate our action\n",
    "        predsummary = buildPredsummaryFast(qActions[i], sentences[i], SELECT)\n",
    "        totalPredsummary = buildTotalSummaryFast(predsummary, totalPredsummary, usecuda)\n",
    "\n",
    "        for j = 1, n do\n",
    "            recall, prec, f1 = rougeScores( Tokenize(totalPredsummary[j]:totable()),\n",
    "                                            qTokens[j]\n",
    "                )\n",
    "            rewards[i][j]:fill(f1)\n",
    "        end\n",
    "\n",
    "        if i == n_s then \n",
    "            rouguef1[epoch] = rewards[i]:mean()\n",
    "        end \n",
    "\n",
    "        if i > 1 then\n",
    "            -- Calculating change in rougue f1\n",
    "            rewards[i]:copy(rewards[i] - rewards[i-1])\n",
    "        end\n",
    "    end\n",
    "    tmp = Tensor(n_s * n, 2)\n",
    "    tmpq = Tensor(n_s * n, 2) \n",
    "    for i = 1, n_s do \n",
    "        tmp[i]:copy(qActions[i])\n",
    "        tmpq[i]:copy(qPreds[i])\n",
    "    end\n",
    "    \n",
    "    print(tmp:select(2, SELECT):clone():resize(1, 5))\n",
    "--     print(tmpq)\n",
    "\n",
    "    for i=1, n_s do\n",
    "        -- this is how we incorporate the discount paremeter on future predictions\n",
    "        if i  < n_s then\n",
    "            rewardMemory[{{n * (i-1) + 1, n * i}}]:copy(\n",
    "                    rewards[i] + (gamma * qValues[i + 1])\n",
    "                )\n",
    "        else\n",
    "            -- for terminal predictions we use the final reward\n",
    "            rewardMemory[{{n * (i-1) + 1, n * i}}]:copy(\n",
    "                    rewards[i] \n",
    "                )\n",
    "        end\n",
    "    end\n",
    "\n",
    "    if memfull then \n",
    "        memrows = memsize\n",
    "    else \n",
    "        memrows = curr_memsize\n",
    "    end\n",
    "\n",
    "    if usecuda then \n",
    "        dataloader = dl.TensorLoader({\n",
    "                        queryMemory[{{1, memrows}}]:cuda(), \n",
    "                        sentenceMemory[{{1, memrows}}]:cuda(), \n",
    "                        predSummaryMemory[{{1, memrows}}]:cuda(),\n",
    "                        qPredsMemory[{{1, memrows}}]:cuda(), \n",
    "                        ByteTensor(memrows, 2):copy(qActionMemory[{{1, memrows}}]), \n",
    "                        qValuesMemory[{{1, memrows}}]:cuda()\n",
    "                        }, \n",
    "                    rewardMemory[{{1, memrows}}]:cuda()\n",
    "                )\n",
    "        if adapt then            \n",
    "            table.insert(dataloader['inputs'], regMemory[{{1, memrows}}]:cuda() )\n",
    "        end\n",
    "    else \n",
    "        dataloader = dl.TensorLoader({\n",
    "                    queryMemory[{{1, memrows}}], \n",
    "                    sentenceMemory[{{1, memrows}}], \n",
    "                    predSummaryMemory[{{1, memrows}}], \n",
    "                    qPredsMemory[{{1, memrows}}], \n",
    "                    ByteTensor(memrows, 2):copy(qActionMemory[{{1, memrows}}]), \n",
    "                    qValuesMemory[{{1, memrows}}]\n",
    "                    }, \n",
    "                rewardMemory[{{1, memrows}}]\n",
    "            )\n",
    "        if adapt then\n",
    "            table.insert(dataloader['inputs'], regMemory[{{1, memrows}}] )\n",
    "        end\n",
    "    end\n",
    "    loss = {}\n",
    "    c = 1\n",
    "    for k, xin, reward in dataloader:sampleiter(batch_size, memsize) do\n",
    "         local function feval(params)\n",
    "            gradParams:zero()\n",
    "            if adapt then\n",
    "                local ignore = model:forward({xin[1], xin[2], xin[3]})\n",
    "                local predQOnActions = maskLayer:forward({xin[4], xin[5]}) \n",
    "                local ones = torch.ones(reward:size(1)):resize(reward:size(1))\n",
    "                if usecuda then\n",
    "                    ones = ones:cuda()\n",
    "                end\n",
    "                lossf = criterion:forward({predQOnActions, xin[7]}, {reward, ones})\n",
    "                local gradOutput = criterion:backward({predQOnActions, xin[6]}, {reward, ones})\n",
    "                local gradMaskLayer = maskLayer:backward({xin[4], xin[5]}, gradOutput[1])\n",
    "                model:backward({xin[1], xin[2], xin[3]}, {gradMaskLayer[1], gradOutput[2]})\n",
    "            else \n",
    "                local ignore = model:forward({xin[1], xin[2], xin[3]})\n",
    "                local predQOnActions = maskLayer:forward({xin[4], xin[5]}) \n",
    "                lossf = criterion:forward(predQOnActions, reward)\n",
    "                local gradOutput = criterion:backward(predQOnActions, reward)\n",
    "                local gradMaskLayer = maskLayer:backward({xin[4], xin[5]}, gradOutput)\n",
    "                model:backward({xin[1], xin[2], xin[3]}, gradMaskLayer[1])\n",
    "            end \n",
    "            return lossf, gradParams\n",
    "        end\n",
    "        --- optim.rmsprop returns \\theta, f(\\theta):= loss function\n",
    "         _, lossv  = optim.rmsprop(feval, params, optimParams)\n",
    "        loss[c] = lossv[1]\n",
    "        c = c + 1\n",
    "    end\n",
    "\n",
    "    lossfull[epoch] = Tensor(loss):sum() / #lossv\n",
    "    if print_perf then\n",
    "        print(\n",
    "            string.format('epoch = %i; rougue = %.6f; epsilon = %.6f; loss = %.6f' , \n",
    "                epoch, rouguef1[epoch], epsilon, lossfull[epoch])\n",
    "            )\n",
    "    end\n",
    "\n",
    "    if (epsilon - delta) <= base_explore_rate then\n",
    "        epsilon = base_explore_rate\n",
    "        if epoch > end_baserate then \n",
    "            base_explore_rate = 0.\n",
    "        end\n",
    "    else \n",
    "        epsilon = epsilon - delta\n",
    "    end\n",
    "\n",
    "end"
   ]
  },
  {
   "cell_type": "code",
   "execution_count": 16,
   "metadata": {
    "collapsed": false
   },
   "outputs": [],
   "source": [
    "qPreds[1]:totable()"
   ]
  },
  {
   "cell_type": "code",
   "execution_count": 17,
   "metadata": {
    "collapsed": false
   },
   "outputs": [
    {
     "data": {
      "text/plain": [
       "{\n",
       "  1 : \n",
       "    {\n",
       "      1 : -0.10046245875073\n",
       "      2 : 0.042465896440378\n",
       "    }\n",
       "}\n",
       "Elapsed time: 6.26714\t\n",
       "First rougue = 0.500000; Last rougue = 0.571429\t\n"
      ]
     },
     "execution_count": 17,
     "metadata": {},
     "output_type": "execute_result"
    }
   ],
   "source": [
    "print(string.format(\"Elapsed time: %.5f\" % (os.clock()-nClock) ))\n",
    "print(\n",
    "    string.format('First rougue = %.6f; Last rougue = %.6f',\n",
    "        rouguef1[1], rouguef1[nepochs]) \n",
    "    )"
   ]
  },
  {
   "cell_type": "code",
   "execution_count": 19,
   "metadata": {
    "collapsed": false
   },
   "outputs": [
    {
     "data": {
      "text/html": [
       "<script type=\"text/javascript\">\n",
       "$(function() {\n",
       "    if (typeof (window._bokeh_onload_callbacks) === \"undefined\"){\n",
       "  window._bokeh_onload_callbacks = [];\n",
       "    }\n",
       "    function load_lib(url, callback){\n",
       "  window._bokeh_onload_callbacks.push(callback);\n",
       "  if (window._bokeh_is_loading){\n",
       "      console.log(\"Bokeh: BokehJS is being loaded, scheduling callback at\", new Date());\n",
       "      return null;\n",
       "  }\n",
       "  console.log(\"Bokeh: BokehJS not loaded, scheduling load and callback at\", new Date());\n",
       "  window._bokeh_is_loading = true;\n",
       "  var s = document.createElement('script');\n",
       "  s.src = url;\n",
       "  s.async = true;\n",
       "  s.onreadystatechange = s.onload = function(){\n",
       "      Bokeh.embed.inject_css(\"https://cdn.pydata.org/bokeh-0.7.0.min.css\");\n",
       "      window._bokeh_onload_callbacks.forEach(function(callback){callback()});\n",
       "  };\n",
       "  s.onerror = function(){\n",
       "      console.warn(\"failed to load library \" + url);\n",
       "  };\n",
       "  document.getElementsByTagName(\"head\")[0].appendChild(s);\n",
       "    }\n",
       "\n",
       "    bokehjs_url = \"https://cdn.pydata.org/bokeh-0.7.0.min.js\"\n",
       "\n",
       "    var elt = document.getElementById(\"e2d133b7-7f3c-409d-c09f-134ef0db5ace\");\n",
       "    if(elt==null) {\n",
       "  console.log(\"Bokeh: ERROR: autoload.js configured with elementid 'e2d133b7-7f3c-409d-c09f-134ef0db5ace'\"\n",
       "        + \"but no matching script tag was found. \")\n",
       "  return false;\n",
       "    }\n",
       "\n",
       "    if(typeof(Bokeh) !== \"undefined\") {\n",
       "  console.log(\"Bokeh: BokehJS loaded, going straight to plotting\");\n",
       "  var modelid = \"3b6f28be-87f8-41e7-c1f7-4faf32e3fce3\";\n",
       "  var modeltype = \"Plot\";\n",
       "  var all_models = [{\"id\":\"6f897ac0-ff26-4519-c5f3-08c00d0b87cd\",\"type\":\"ColumnDataSource\",\"attributes\":{\"data\":{\"y\":[0.11897023216777,0.027517596858555,0.024672036428549,0.03226403964897,0.022083059076693,0.011025689568515,0.0064430159317354,0.039474275553526,0.089624489993715,0.011895708475155,0.078189066431174,0.023384294028601,0.020958868143778,0.0035785803999713,0.041399873128458,0.010676482094711,0.01457803973601,0.035822267101155,0.032558967347002,0.015104531800324,0.0059758446833057,0.012953539136004,0.010665620380851,0.0071090161452654,0.016397216509842,0.013967017521372,0.013939081493106,0.0094817179896031,0.013288480372292,0.011057445932608,0.014161751907021,0.033703116944428,0.019090359779919,0.024479103010073,0.0080121294435993,0.0087630615238053,0.011072375007434,0.008925143399113,0.014067158523136,0.0078381025860996,0.011971721124091,0.020355553581312,0.021495311737323,0.012793286100197,0.010661922255795,0.011756637914264,0.019046018075534,0.012902208653934,0.019080871329427,0.013269274207091,0.0070368703537426,0.0030514116718811,0.016498779621939,0.024245522154976,0.023175625658312,0.018147756210627,0.018289597322822,0.021845483481555,0.016168048668564,0.0081248714560159,0.020083666097594,0.018662203751807,0.027521471840485,0.014446171620837,0.0046287715660528,0.022786275805191,0.013708746927405,0.014245663195473,0.019577818438705,0.011912679350648,0.021123963589058,0.026589351196586,0.032667958120068,0.0025320254317739,0.0074093015947077,0.015212139232034,0.017320895914858,0.01819137413092,0.031800266873694,0.012043573452006,0.0037503813318691,0.0069269118602675,0.01714113958573,0.013493153535362,0.013614592036663,0.019446721441286,0.023617005641723,0.022024823958011,0.01801738336711,0.004952214927779,0.0084817884535231,0.0088996609826381,0.015786858107855,0.025569725944193,0.01566243542158,0.0048284373673199,0.023199435731915,0.015102651034939,0.015070338158977,0.0083255492101521],\"x\":[1,2,3,4,5,6,7,8,9,10,11,12,13,14,15,16,17,18,19,20,21,22,23,24,25,26,27,28,29,30,31,32,33,34,35,36,37,38,39,40,41,42,43,44,45,46,47,48,49,50,51,52,53,54,55,56,57,58,59,60,61,62,63,64,65,66,67,68,69,70,71,72,73,74,75,76,77,78,79,80,81,82,83,84,85,86,87,88,89,90,91,92,93,94,95,96,97,98,99,100]},\"column_names\":[\"y\",\"x\"],\"cont_ranges\":{},\"discrete_ranges\":{},\"selected\":[],\"id\":\"6f897ac0-ff26-4519-c5f3-08c00d0b87cd\",\"doc\":null,\"tags\":[]}},{\"id\":\"68663a4c-d5b7-41f0-c190-4f71050f6364\",\"type\":\"Line\",\"attributes\":{\"fill_alpha\":{\"units\":\"data\",\"value\":0.2},\"line_alpha\":{\"units\":\"data\",\"value\":1},\"doc\":null,\"size\":{\"units\":\"screen\",\"value\":10},\"fill_color\":{\"value\":\"red\"},\"line_color\":{\"value\":\"red\"},\"x\":{\"units\":\"data\",\"field\":\"x\"},\"id\":\"68663a4c-d5b7-41f0-c190-4f71050f6364\",\"y\":{\"units\":\"data\",\"field\":\"y\"},\"tags\":[]}},{\"id\":\"13820127-d537-41f7-c15d-06b0f3819c39\",\"type\":\"Line\",\"attributes\":{\"fill_alpha\":{\"units\":\"data\",\"value\":0.2},\"line_alpha\":{\"units\":\"data\",\"value\":1},\"doc\":null,\"size\":{\"units\":\"screen\",\"value\":10},\"fill_color\":{\"value\":\"red\"},\"line_color\":{\"value\":\"red\"},\"x\":{\"units\":\"data\",\"field\":\"x\"},\"id\":\"13820127-d537-41f7-c15d-06b0f3819c39\",\"y\":{\"units\":\"data\",\"field\":\"y\"},\"tags\":[]}},{\"id\":\"d161191c-007f-4c6b-cc08-aae107767589\",\"type\":\"GlyphRenderer\",\"attributes\":{\"name\":null,\"nonselection_glyph\":{\"type\":\"Line\",\"id\":\"13820127-d537-41f7-c15d-06b0f3819c39\"},\"doc\":null,\"server_data_source\":null,\"data_source\":{\"type\":\"ColumnDataSource\",\"id\":\"6f897ac0-ff26-4519-c5f3-08c00d0b87cd\"},\"glyph\":{\"type\":\"Line\",\"id\":\"68663a4c-d5b7-41f0-c190-4f71050f6364\"},\"selection_glyph\":null,\"id\":\"d161191c-007f-4c6b-cc08-aae107767589\",\"tags\":[]}},{\"id\":\"8524d7ff-26bb-47ea-c79d-84963ca7d69f\",\"type\":\"DataRange1d\",\"attributes\":{\"sources\":[{\"columns\":[\"x\"],\"source\":{\"type\":\"ColumnDataSource\",\"id\":\"6f897ac0-ff26-4519-c5f3-08c00d0b87cd\"}}],\"id\":\"8524d7ff-26bb-47ea-c79d-84963ca7d69f\",\"tags\":[],\"doc\":null}},{\"id\":\"c1508e7a-feda-48bc-c844-99fecdf5c70f\",\"type\":\"DataRange1d\",\"attributes\":{\"sources\":[{\"columns\":[\"y\"],\"source\":{\"type\":\"ColumnDataSource\",\"id\":\"6f897ac0-ff26-4519-c5f3-08c00d0b87cd\"}}],\"id\":\"c1508e7a-feda-48bc-c844-99fecdf5c70f\",\"tags\":[],\"doc\":null}},{\"id\":\"a4f4fb32-1312-428a-c2e8-29e420e2b269\",\"type\":\"ToolEvents\",\"attributes\":{\"tags\":[],\"id\":\"a4f4fb32-1312-428a-c2e8-29e420e2b269\",\"geometries\":[],\"doc\":null}},{\"id\":\"dcd352b8-9937-48fe-c868-47a33fb5b08a\",\"type\":\"BasicTickFormatter\",\"attributes\":{\"id\":\"dcd352b8-9937-48fe-c868-47a33fb5b08a\",\"tags\":[],\"doc\":null}},{\"id\":\"e902e374-54d6-4bf9-cbd0-3c7392f8cfd2\",\"type\":\"BasicTicker\",\"attributes\":{\"num_minor_ticks\":5,\"id\":\"e902e374-54d6-4bf9-cbd0-3c7392f8cfd2\",\"tags\":[],\"doc\":null}},{\"id\":\"81419d63-6947-4acb-caaf-63392739379b\",\"type\":\"LinearAxis\",\"attributes\":{\"formatter\":{\"type\":\"BasicTickFormatter\",\"id\":\"dcd352b8-9937-48fe-c868-47a33fb5b08a\"},\"ticker\":{\"type\":\"BasicTicker\",\"id\":\"e902e374-54d6-4bf9-cbd0-3c7392f8cfd2\"},\"plot\":{\"id\":\"3b6f28be-87f8-41e7-c1f7-4faf32e3fce3\",\"type\":\"Plot\",\"subtype\":\"Figure\"},\"axis_label\":null,\"id\":\"81419d63-6947-4acb-caaf-63392739379b\",\"doc\":null,\"tags\":[]}},{\"id\":\"9867469d-da41-4cfb-cc4e-312fe9f17017\",\"type\":\"Grid\",\"attributes\":{\"dimension\":0,\"plot\":{\"id\":\"3b6f28be-87f8-41e7-c1f7-4faf32e3fce3\",\"type\":\"Plot\",\"subtype\":\"Figure\"},\"ticker\":{\"type\":\"BasicTicker\",\"id\":\"e902e374-54d6-4bf9-cbd0-3c7392f8cfd2\"},\"id\":\"9867469d-da41-4cfb-cc4e-312fe9f17017\",\"doc\":null,\"tags\":[]}},{\"id\":\"d52203c1-2943-4c80-cce8-0b3e4df41f7c\",\"type\":\"BasicTickFormatter\",\"attributes\":{\"id\":\"d52203c1-2943-4c80-cce8-0b3e4df41f7c\",\"tags\":[],\"doc\":null}},{\"id\":\"0732af29-3486-49d8-c95d-796ef11efdd2\",\"type\":\"BasicTicker\",\"attributes\":{\"num_minor_ticks\":5,\"id\":\"0732af29-3486-49d8-c95d-796ef11efdd2\",\"tags\":[],\"doc\":null}},{\"id\":\"5069d814-9de0-4e7b-ce2e-1a58addf0f3d\",\"type\":\"LinearAxis\",\"attributes\":{\"formatter\":{\"type\":\"BasicTickFormatter\",\"id\":\"d52203c1-2943-4c80-cce8-0b3e4df41f7c\"},\"ticker\":{\"type\":\"BasicTicker\",\"id\":\"0732af29-3486-49d8-c95d-796ef11efdd2\"},\"plot\":{\"id\":\"3b6f28be-87f8-41e7-c1f7-4faf32e3fce3\",\"type\":\"Plot\",\"subtype\":\"Figure\"},\"axis_label\":null,\"id\":\"5069d814-9de0-4e7b-ce2e-1a58addf0f3d\",\"doc\":null,\"tags\":[]}},{\"id\":\"781e61de-04f2-44ea-c4b8-660d77c0a271\",\"type\":\"Grid\",\"attributes\":{\"dimension\":1,\"plot\":{\"id\":\"3b6f28be-87f8-41e7-c1f7-4faf32e3fce3\",\"type\":\"Plot\",\"subtype\":\"Figure\"},\"ticker\":{\"type\":\"BasicTicker\",\"id\":\"0732af29-3486-49d8-c95d-796ef11efdd2\"},\"id\":\"781e61de-04f2-44ea-c4b8-660d77c0a271\",\"doc\":null,\"tags\":[]}},{\"id\":\"089613ab-625d-4bba-cbe6-a7e427dc751e\",\"type\":\"PanTool\",\"attributes\":{\"plot\":{\"id\":\"3b6f28be-87f8-41e7-c1f7-4faf32e3fce3\",\"type\":\"Plot\",\"subtype\":\"Figure\"},\"dimensions\":[\"width\",\"height\"],\"id\":\"089613ab-625d-4bba-cbe6-a7e427dc751e\",\"doc\":null,\"tags\":[]}},{\"id\":\"a814a037-df3e-4d85-cdc0-eb7f186fd97c\",\"type\":\"WheelZoomTool\",\"attributes\":{\"plot\":{\"id\":\"3b6f28be-87f8-41e7-c1f7-4faf32e3fce3\",\"type\":\"Plot\",\"subtype\":\"Figure\"},\"dimensions\":[\"width\",\"height\"],\"id\":\"a814a037-df3e-4d85-cdc0-eb7f186fd97c\",\"doc\":null,\"tags\":[]}},{\"id\":\"7b228708-fb04-4176-c1ce-304bc3855d10\",\"type\":\"BoxZoomTool\",\"attributes\":{\"plot\":{\"id\":\"3b6f28be-87f8-41e7-c1f7-4faf32e3fce3\",\"type\":\"Plot\",\"subtype\":\"Figure\"},\"id\":\"7b228708-fb04-4176-c1ce-304bc3855d10\",\"tags\":[],\"doc\":null}},{\"id\":\"7f26662f-9866-430e-c3cb-5a97b8db7579\",\"type\":\"PreviewSaveTool\",\"attributes\":{\"plot\":{\"id\":\"3b6f28be-87f8-41e7-c1f7-4faf32e3fce3\",\"type\":\"Plot\",\"subtype\":\"Figure\"},\"id\":\"7f26662f-9866-430e-c3cb-5a97b8db7579\",\"tags\":[],\"doc\":null}},{\"id\":\"576cd5e0-b854-47c7-c7aa-6667e860a3bc\",\"type\":\"ResizeTool\",\"attributes\":{\"plot\":{\"id\":\"3b6f28be-87f8-41e7-c1f7-4faf32e3fce3\",\"type\":\"Plot\",\"subtype\":\"Figure\"},\"id\":\"576cd5e0-b854-47c7-c7aa-6667e860a3bc\",\"tags\":[],\"doc\":null}},{\"id\":\"3fa8ca6a-0825-414d-c166-dadcf7638543\",\"type\":\"ResetTool\",\"attributes\":{\"plot\":{\"id\":\"3b6f28be-87f8-41e7-c1f7-4faf32e3fce3\",\"type\":\"Plot\",\"subtype\":\"Figure\"},\"id\":\"3fa8ca6a-0825-414d-c166-dadcf7638543\",\"tags\":[],\"doc\":null}},{\"id\":\"3b6f28be-87f8-41e7-c1f7-4faf32e3fce3\",\"type\":\"Plot\",\"attributes\":{\"x_range\":{\"type\":\"DataRange1d\",\"id\":\"8524d7ff-26bb-47ea-c79d-84963ca7d69f\"},\"tool_events\":{\"type\":\"ToolEvents\",\"id\":\"a4f4fb32-1312-428a-c2e8-29e420e2b269\"},\"below\":[{\"type\":\"LinearAxis\",\"id\":\"81419d63-6947-4acb-caaf-63392739379b\"}],\"renderers\":[{\"type\":\"GlyphRenderer\",\"id\":\"d161191c-007f-4c6b-cc08-aae107767589\"},{\"type\":\"LinearAxis\",\"id\":\"81419d63-6947-4acb-caaf-63392739379b\"},{\"type\":\"Grid\",\"id\":\"9867469d-da41-4cfb-cc4e-312fe9f17017\"},{\"type\":\"LinearAxis\",\"id\":\"5069d814-9de0-4e7b-ce2e-1a58addf0f3d\"},{\"type\":\"Grid\",\"id\":\"781e61de-04f2-44ea-c4b8-660d77c0a271\"}],\"above\":[],\"tools\":[{\"type\":\"PanTool\",\"id\":\"089613ab-625d-4bba-cbe6-a7e427dc751e\"},{\"type\":\"WheelZoomTool\",\"id\":\"a814a037-df3e-4d85-cdc0-eb7f186fd97c\"},{\"type\":\"BoxZoomTool\",\"id\":\"7b228708-fb04-4176-c1ce-304bc3855d10\"},{\"type\":\"PreviewSaveTool\",\"id\":\"7f26662f-9866-430e-c3cb-5a97b8db7579\"},{\"type\":\"ResizeTool\",\"id\":\"576cd5e0-b854-47c7-c7aa-6667e860a3bc\"},{\"type\":\"ResetTool\",\"id\":\"3fa8ca6a-0825-414d-c166-dadcf7638543\"}],\"doc\":null,\"right\":[],\"title\":\"Plot of loss\",\"extra_x_ranges\":{},\"left\":[{\"type\":\"LinearAxis\",\"id\":\"5069d814-9de0-4e7b-ce2e-1a58addf0f3d\"}],\"y_range\":{\"type\":\"DataRange1d\",\"id\":\"c1508e7a-feda-48bc-c844-99fecdf5c70f\"},\"id\":\"3b6f28be-87f8-41e7-c1f7-4faf32e3fce3\",\"extra_y_ranges\":{},\"tags\":[]}}];\n",
       "  Bokeh.load_models(all_models);\n",
       "  var model = Bokeh.Collections(modeltype).get(modelid);\n",
       "  $(\"#e2d133b7-7f3c-409d-c09f-134ef0db5ace\").html(''); // clear any previous plot in window_id\n",
       "  var view = new model.default_view({model: model, el: \"#e2d133b7-7f3c-409d-c09f-134ef0db5ace\"});\n",
       "    } else {\n",
       "  load_lib(bokehjs_url, function() {\n",
       "      console.log(\"Bokeh: BokehJS plotting callback run at\", new Date())\n",
       "      var modelid = \"3b6f28be-87f8-41e7-c1f7-4faf32e3fce3\";\n",
       "      var modeltype = \"Plot\";\n",
       "      var all_models = [{\"id\":\"6f897ac0-ff26-4519-c5f3-08c00d0b87cd\",\"type\":\"ColumnDataSource\",\"attributes\":{\"data\":{\"y\":[0.11897023216777,0.027517596858555,0.024672036428549,0.03226403964897,0.022083059076693,0.011025689568515,0.0064430159317354,0.039474275553526,0.089624489993715,0.011895708475155,0.078189066431174,0.023384294028601,0.020958868143778,0.0035785803999713,0.041399873128458,0.010676482094711,0.01457803973601,0.035822267101155,0.032558967347002,0.015104531800324,0.0059758446833057,0.012953539136004,0.010665620380851,0.0071090161452654,0.016397216509842,0.013967017521372,0.013939081493106,0.0094817179896031,0.013288480372292,0.011057445932608,0.014161751907021,0.033703116944428,0.019090359779919,0.024479103010073,0.0080121294435993,0.0087630615238053,0.011072375007434,0.008925143399113,0.014067158523136,0.0078381025860996,0.011971721124091,0.020355553581312,0.021495311737323,0.012793286100197,0.010661922255795,0.011756637914264,0.019046018075534,0.012902208653934,0.019080871329427,0.013269274207091,0.0070368703537426,0.0030514116718811,0.016498779621939,0.024245522154976,0.023175625658312,0.018147756210627,0.018289597322822,0.021845483481555,0.016168048668564,0.0081248714560159,0.020083666097594,0.018662203751807,0.027521471840485,0.014446171620837,0.0046287715660528,0.022786275805191,0.013708746927405,0.014245663195473,0.019577818438705,0.011912679350648,0.021123963589058,0.026589351196586,0.032667958120068,0.0025320254317739,0.0074093015947077,0.015212139232034,0.017320895914858,0.01819137413092,0.031800266873694,0.012043573452006,0.0037503813318691,0.0069269118602675,0.01714113958573,0.013493153535362,0.013614592036663,0.019446721441286,0.023617005641723,0.022024823958011,0.01801738336711,0.004952214927779,0.0084817884535231,0.0088996609826381,0.015786858107855,0.025569725944193,0.01566243542158,0.0048284373673199,0.023199435731915,0.015102651034939,0.015070338158977,0.0083255492101521],\"x\":[1,2,3,4,5,6,7,8,9,10,11,12,13,14,15,16,17,18,19,20,21,22,23,24,25,26,27,28,29,30,31,32,33,34,35,36,37,38,39,40,41,42,43,44,45,46,47,48,49,50,51,52,53,54,55,56,57,58,59,60,61,62,63,64,65,66,67,68,69,70,71,72,73,74,75,76,77,78,79,80,81,82,83,84,85,86,87,88,89,90,91,92,93,94,95,96,97,98,99,100]},\"column_names\":[\"y\",\"x\"],\"cont_ranges\":{},\"discrete_ranges\":{},\"selected\":[],\"id\":\"6f897ac0-ff26-4519-c5f3-08c00d0b87cd\",\"doc\":null,\"tags\":[]}},{\"id\":\"68663a4c-d5b7-41f0-c190-4f71050f6364\",\"type\":\"Line\",\"attributes\":{\"fill_alpha\":{\"units\":\"data\",\"value\":0.2},\"line_alpha\":{\"units\":\"data\",\"value\":1},\"doc\":null,\"size\":{\"units\":\"screen\",\"value\":10},\"fill_color\":{\"value\":\"red\"},\"line_color\":{\"value\":\"red\"},\"x\":{\"units\":\"data\",\"field\":\"x\"},\"id\":\"68663a4c-d5b7-41f0-c190-4f71050f6364\",\"y\":{\"units\":\"data\",\"field\":\"y\"},\"tags\":[]}},{\"id\":\"13820127-d537-41f7-c15d-06b0f3819c39\",\"type\":\"Line\",\"attributes\":{\"fill_alpha\":{\"units\":\"data\",\"value\":0.2},\"line_alpha\":{\"units\":\"data\",\"value\":1},\"doc\":null,\"size\":{\"units\":\"screen\",\"value\":10},\"fill_color\":{\"value\":\"red\"},\"line_color\":{\"value\":\"red\"},\"x\":{\"units\":\"data\",\"field\":\"x\"},\"id\":\"13820127-d537-41f7-c15d-06b0f3819c39\",\"y\":{\"units\":\"data\",\"field\":\"y\"},\"tags\":[]}},{\"id\":\"d161191c-007f-4c6b-cc08-aae107767589\",\"type\":\"GlyphRenderer\",\"attributes\":{\"name\":null,\"nonselection_glyph\":{\"type\":\"Line\",\"id\":\"13820127-d537-41f7-c15d-06b0f3819c39\"},\"doc\":null,\"server_data_source\":null,\"data_source\":{\"type\":\"ColumnDataSource\",\"id\":\"6f897ac0-ff26-4519-c5f3-08c00d0b87cd\"},\"glyph\":{\"type\":\"Line\",\"id\":\"68663a4c-d5b7-41f0-c190-4f71050f6364\"},\"selection_glyph\":null,\"id\":\"d161191c-007f-4c6b-cc08-aae107767589\",\"tags\":[]}},{\"id\":\"8524d7ff-26bb-47ea-c79d-84963ca7d69f\",\"type\":\"DataRange1d\",\"attributes\":{\"sources\":[{\"columns\":[\"x\"],\"source\":{\"type\":\"ColumnDataSource\",\"id\":\"6f897ac0-ff26-4519-c5f3-08c00d0b87cd\"}}],\"id\":\"8524d7ff-26bb-47ea-c79d-84963ca7d69f\",\"tags\":[],\"doc\":null}},{\"id\":\"c1508e7a-feda-48bc-c844-99fecdf5c70f\",\"type\":\"DataRange1d\",\"attributes\":{\"sources\":[{\"columns\":[\"y\"],\"source\":{\"type\":\"ColumnDataSource\",\"id\":\"6f897ac0-ff26-4519-c5f3-08c00d0b87cd\"}}],\"id\":\"c1508e7a-feda-48bc-c844-99fecdf5c70f\",\"tags\":[],\"doc\":null}},{\"id\":\"a4f4fb32-1312-428a-c2e8-29e420e2b269\",\"type\":\"ToolEvents\",\"attributes\":{\"tags\":[],\"id\":\"a4f4fb32-1312-428a-c2e8-29e420e2b269\",\"geometries\":[],\"doc\":null}},{\"id\":\"dcd352b8-9937-48fe-c868-47a33fb5b08a\",\"type\":\"BasicTickFormatter\",\"attributes\":{\"id\":\"dcd352b8-9937-48fe-c868-47a33fb5b08a\",\"tags\":[],\"doc\":null}},{\"id\":\"e902e374-54d6-4bf9-cbd0-3c7392f8cfd2\",\"type\":\"BasicTicker\",\"attributes\":{\"num_minor_ticks\":5,\"id\":\"e902e374-54d6-4bf9-cbd0-3c7392f8cfd2\",\"tags\":[],\"doc\":null}},{\"id\":\"81419d63-6947-4acb-caaf-63392739379b\",\"type\":\"LinearAxis\",\"attributes\":{\"formatter\":{\"type\":\"BasicTickFormatter\",\"id\":\"dcd352b8-9937-48fe-c868-47a33fb5b08a\"},\"ticker\":{\"type\":\"BasicTicker\",\"id\":\"e902e374-54d6-4bf9-cbd0-3c7392f8cfd2\"},\"plot\":{\"id\":\"3b6f28be-87f8-41e7-c1f7-4faf32e3fce3\",\"type\":\"Plot\",\"subtype\":\"Figure\"},\"axis_label\":null,\"id\":\"81419d63-6947-4acb-caaf-63392739379b\",\"doc\":null,\"tags\":[]}},{\"id\":\"9867469d-da41-4cfb-cc4e-312fe9f17017\",\"type\":\"Grid\",\"attributes\":{\"dimension\":0,\"plot\":{\"id\":\"3b6f28be-87f8-41e7-c1f7-4faf32e3fce3\",\"type\":\"Plot\",\"subtype\":\"Figure\"},\"ticker\":{\"type\":\"BasicTicker\",\"id\":\"e902e374-54d6-4bf9-cbd0-3c7392f8cfd2\"},\"id\":\"9867469d-da41-4cfb-cc4e-312fe9f17017\",\"doc\":null,\"tags\":[]}},{\"id\":\"d52203c1-2943-4c80-cce8-0b3e4df41f7c\",\"type\":\"BasicTickFormatter\",\"attributes\":{\"id\":\"d52203c1-2943-4c80-cce8-0b3e4df41f7c\",\"tags\":[],\"doc\":null}},{\"id\":\"0732af29-3486-49d8-c95d-796ef11efdd2\",\"type\":\"BasicTicker\",\"attributes\":{\"num_minor_ticks\":5,\"id\":\"0732af29-3486-49d8-c95d-796ef11efdd2\",\"tags\":[],\"doc\":null}},{\"id\":\"5069d814-9de0-4e7b-ce2e-1a58addf0f3d\",\"type\":\"LinearAxis\",\"attributes\":{\"formatter\":{\"type\":\"BasicTickFormatter\",\"id\":\"d52203c1-2943-4c80-cce8-0b3e4df41f7c\"},\"ticker\":{\"type\":\"BasicTicker\",\"id\":\"0732af29-3486-49d8-c95d-796ef11efdd2\"},\"plot\":{\"id\":\"3b6f28be-87f8-41e7-c1f7-4faf32e3fce3\",\"type\":\"Plot\",\"subtype\":\"Figure\"},\"axis_label\":null,\"id\":\"5069d814-9de0-4e7b-ce2e-1a58addf0f3d\",\"doc\":null,\"tags\":[]}},{\"id\":\"781e61de-04f2-44ea-c4b8-660d77c0a271\",\"type\":\"Grid\",\"attributes\":{\"dimension\":1,\"plot\":{\"id\":\"3b6f28be-87f8-41e7-c1f7-4faf32e3fce3\",\"type\":\"Plot\",\"subtype\":\"Figure\"},\"ticker\":{\"type\":\"BasicTicker\",\"id\":\"0732af29-3486-49d8-c95d-796ef11efdd2\"},\"id\":\"781e61de-04f2-44ea-c4b8-660d77c0a271\",\"doc\":null,\"tags\":[]}},{\"id\":\"089613ab-625d-4bba-cbe6-a7e427dc751e\",\"type\":\"PanTool\",\"attributes\":{\"plot\":{\"id\":\"3b6f28be-87f8-41e7-c1f7-4faf32e3fce3\",\"type\":\"Plot\",\"subtype\":\"Figure\"},\"dimensions\":[\"width\",\"height\"],\"id\":\"089613ab-625d-4bba-cbe6-a7e427dc751e\",\"doc\":null,\"tags\":[]}},{\"id\":\"a814a037-df3e-4d85-cdc0-eb7f186fd97c\",\"type\":\"WheelZoomTool\",\"attributes\":{\"plot\":{\"id\":\"3b6f28be-87f8-41e7-c1f7-4faf32e3fce3\",\"type\":\"Plot\",\"subtype\":\"Figure\"},\"dimensions\":[\"width\",\"height\"],\"id\":\"a814a037-df3e-4d85-cdc0-eb7f186fd97c\",\"doc\":null,\"tags\":[]}},{\"id\":\"7b228708-fb04-4176-c1ce-304bc3855d10\",\"type\":\"BoxZoomTool\",\"attributes\":{\"plot\":{\"id\":\"3b6f28be-87f8-41e7-c1f7-4faf32e3fce3\",\"type\":\"Plot\",\"subtype\":\"Figure\"},\"id\":\"7b228708-fb04-4176-c1ce-304bc3855d10\",\"tags\":[],\"doc\":null}},{\"id\":\"7f26662f-9866-430e-c3cb-5a97b8db7579\",\"type\":\"PreviewSaveTool\",\"attributes\":{\"plot\":{\"id\":\"3b6f28be-87f8-41e7-c1f7-4faf32e3fce3\",\"type\":\"Plot\",\"subtype\":\"Figure\"},\"id\":\"7f26662f-9866-430e-c3cb-5a97b8db7579\",\"tags\":[],\"doc\":null}},{\"id\":\"576cd5e0-b854-47c7-c7aa-6667e860a3bc\",\"type\":\"ResizeTool\",\"attributes\":{\"plot\":{\"id\":\"3b6f28be-87f8-41e7-c1f7-4faf32e3fce3\",\"type\":\"Plot\",\"subtype\":\"Figure\"},\"id\":\"576cd5e0-b854-47c7-c7aa-6667e860a3bc\",\"tags\":[],\"doc\":null}},{\"id\":\"3fa8ca6a-0825-414d-c166-dadcf7638543\",\"type\":\"ResetTool\",\"attributes\":{\"plot\":{\"id\":\"3b6f28be-87f8-41e7-c1f7-4faf32e3fce3\",\"type\":\"Plot\",\"subtype\":\"Figure\"},\"id\":\"3fa8ca6a-0825-414d-c166-dadcf7638543\",\"tags\":[],\"doc\":null}},{\"id\":\"3b6f28be-87f8-41e7-c1f7-4faf32e3fce3\",\"type\":\"Plot\",\"attributes\":{\"x_range\":{\"type\":\"DataRange1d\",\"id\":\"8524d7ff-26bb-47ea-c79d-84963ca7d69f\"},\"tool_events\":{\"type\":\"ToolEvents\",\"id\":\"a4f4fb32-1312-428a-c2e8-29e420e2b269\"},\"below\":[{\"type\":\"LinearAxis\",\"id\":\"81419d63-6947-4acb-caaf-63392739379b\"}],\"renderers\":[{\"type\":\"GlyphRenderer\",\"id\":\"d161191c-007f-4c6b-cc08-aae107767589\"},{\"type\":\"LinearAxis\",\"id\":\"81419d63-6947-4acb-caaf-63392739379b\"},{\"type\":\"Grid\",\"id\":\"9867469d-da41-4cfb-cc4e-312fe9f17017\"},{\"type\":\"LinearAxis\",\"id\":\"5069d814-9de0-4e7b-ce2e-1a58addf0f3d\"},{\"type\":\"Grid\",\"id\":\"781e61de-04f2-44ea-c4b8-660d77c0a271\"}],\"above\":[],\"tools\":[{\"type\":\"PanTool\",\"id\":\"089613ab-625d-4bba-cbe6-a7e427dc751e\"},{\"type\":\"WheelZoomTool\",\"id\":\"a814a037-df3e-4d85-cdc0-eb7f186fd97c\"},{\"type\":\"BoxZoomTool\",\"id\":\"7b228708-fb04-4176-c1ce-304bc3855d10\"},{\"type\":\"PreviewSaveTool\",\"id\":\"7f26662f-9866-430e-c3cb-5a97b8db7579\"},{\"type\":\"ResizeTool\",\"id\":\"576cd5e0-b854-47c7-c7aa-6667e860a3bc\"},{\"type\":\"ResetTool\",\"id\":\"3fa8ca6a-0825-414d-c166-dadcf7638543\"}],\"doc\":null,\"right\":[],\"title\":\"Plot of loss\",\"extra_x_ranges\":{},\"left\":[{\"type\":\"LinearAxis\",\"id\":\"5069d814-9de0-4e7b-ce2e-1a58addf0f3d\"}],\"y_range\":{\"type\":\"DataRange1d\",\"id\":\"c1508e7a-feda-48bc-c844-99fecdf5c70f\"},\"id\":\"3b6f28be-87f8-41e7-c1f7-4faf32e3fce3\",\"extra_y_ranges\":{},\"tags\":[]}}];\n",
       "      Bokeh.load_models(all_models);\n",
       "      var model = Bokeh.Collections(modeltype).get(modelid);\n",
       "      $(\"#e2d133b7-7f3c-409d-c09f-134ef0db5ace\").html(''); // clear any previous plot in window_id\n",
       "      var view = new model.default_view({model: model, el: \"#e2d133b7-7f3c-409d-c09f-134ef0db5ace\"});\n",
       "  });\n",
       "    }\n",
       "});\n",
       "</script>\n",
       "<div class=\"plotdiv\" id=\"e2d133b7-7f3c-409d-c09f-134ef0db5ace\"></div>\n"
      ]
     },
     "metadata": {},
     "output_type": "display_data"
    },
    {
     "data": {
      "text/html": [
       "<script type=\"text/javascript\">\n",
       "$(function() {\n",
       "    if (typeof (window._bokeh_onload_callbacks) === \"undefined\"){\n",
       "  window._bokeh_onload_callbacks = [];\n",
       "    }\n",
       "    function load_lib(url, callback){\n",
       "  window._bokeh_onload_callbacks.push(callback);\n",
       "  if (window._bokeh_is_loading){\n",
       "      console.log(\"Bokeh: BokehJS is being loaded, scheduling callback at\", new Date());\n",
       "      return null;\n",
       "  }\n",
       "  console.log(\"Bokeh: BokehJS not loaded, scheduling load and callback at\", new Date());\n",
       "  window._bokeh_is_loading = true;\n",
       "  var s = document.createElement('script');\n",
       "  s.src = url;\n",
       "  s.async = true;\n",
       "  s.onreadystatechange = s.onload = function(){\n",
       "      Bokeh.embed.inject_css(\"https://cdn.pydata.org/bokeh-0.7.0.min.css\");\n",
       "      window._bokeh_onload_callbacks.forEach(function(callback){callback()});\n",
       "  };\n",
       "  s.onerror = function(){\n",
       "      console.warn(\"failed to load library \" + url);\n",
       "  };\n",
       "  document.getElementsByTagName(\"head\")[0].appendChild(s);\n",
       "    }\n",
       "\n",
       "    bokehjs_url = \"https://cdn.pydata.org/bokeh-0.7.0.min.js\"\n",
       "\n",
       "    var elt = document.getElementById(\"a556f613-de57-4527-c5e7-c6d5e05c96d0\");\n",
       "    if(elt==null) {\n",
       "  console.log(\"Bokeh: ERROR: autoload.js configured with elementid 'a556f613-de57-4527-c5e7-c6d5e05c96d0'\"\n",
       "        + \"but no matching script tag was found. \")\n",
       "  return false;\n",
       "    }\n",
       "\n",
       "    if(typeof(Bokeh) !== \"undefined\") {\n",
       "  console.log(\"Bokeh: BokehJS loaded, going straight to plotting\");\n",
       "  var modelid = \"8dcd2416-16f4-4dd1-cd0f-ec1a0a229ed9\";\n",
       "  var modeltype = \"Plot\";\n",
       "  var all_models = [{\"id\":\"c7e78af2-5429-4dab-cd62-44103d0384dd\",\"type\":\"ColumnDataSource\",\"attributes\":{\"data\":{\"y\":[0.5,0.5,0.4,0.5,0.4,0.66666666666667,0,0.8,0.5,0.66666666666667,0.66666666666667,0.66666666666667,0.33333333333333,0,0.66666666666667,0.33333333333333,0.66666666666667,0.66666666666667,0.66666666666667,0.66666666666667,0,0.57142857142857,0.57142857142857,0.66666666666667,0.57142857142857,0.57142857142857,0.57142857142857,0.33333333333333,0.57142857142857,0.57142857142857,0.57142857142857,0.57142857142857,0.57142857142857,0.57142857142857,0.57142857142857,0.33333333333333,0.57142857142857,0.57142857142857,0.57142857142857,0.57142857142857,0.57142857142857,0.57142857142857,0.33333333333333,0.57142857142857,0.57142857142857,0.57142857142857,0.57142857142857,0.57142857142857,0.57142857142857,0.57142857142857,0.57142857142857,0.33333333333333,0.66666666666667,0.57142857142857,0.57142857142857,0.57142857142857,0.57142857142857,0.57142857142857,0.57142857142857,0.57142857142857,0.57142857142857,0.57142857142857,0.57142857142857,0.57142857142857,0.57142857142857,0.57142857142857,0.57142857142857,0.57142857142857,0.57142857142857,0.57142857142857,0.57142857142857,0.57142857142857,0.57142857142857,0.57142857142857,0.57142857142857,0.57142857142857,0.57142857142857,0.57142857142857,0.57142857142857,0.57142857142857,0.57142857142857,0.57142857142857,0.57142857142857,0.57142857142857,0.57142857142857,0.57142857142857,0.57142857142857,0.57142857142857,0.57142857142857,0.57142857142857,0.57142857142857,0.57142857142857,0.57142857142857,0.57142857142857,0.57142857142857,0.57142857142857,0.57142857142857,0.57142857142857,0.57142857142857,0.57142857142857],\"x\":[1,2,3,4,5,6,7,8,9,10,11,12,13,14,15,16,17,18,19,20,21,22,23,24,25,26,27,28,29,30,31,32,33,34,35,36,37,38,39,40,41,42,43,44,45,46,47,48,49,50,51,52,53,54,55,56,57,58,59,60,61,62,63,64,65,66,67,68,69,70,71,72,73,74,75,76,77,78,79,80,81,82,83,84,85,86,87,88,89,90,91,92,93,94,95,96,97,98,99,100]},\"column_names\":[\"y\",\"x\"],\"cont_ranges\":{},\"discrete_ranges\":{},\"selected\":[],\"id\":\"c7e78af2-5429-4dab-cd62-44103d0384dd\",\"doc\":null,\"tags\":[]}},{\"id\":\"cd4dc240-48a7-486b-c8d3-f41d24013f2d\",\"type\":\"Line\",\"attributes\":{\"fill_alpha\":{\"units\":\"data\",\"value\":0.2},\"line_alpha\":{\"units\":\"data\",\"value\":1},\"doc\":null,\"size\":{\"units\":\"screen\",\"value\":10},\"fill_color\":{\"value\":\"blue\"},\"line_color\":{\"value\":\"blue\"},\"x\":{\"units\":\"data\",\"field\":\"x\"},\"id\":\"cd4dc240-48a7-486b-c8d3-f41d24013f2d\",\"y\":{\"units\":\"data\",\"field\":\"y\"},\"tags\":[]}},{\"id\":\"39eadd4a-b76a-4a44-caec-ddddaeaf56de\",\"type\":\"Line\",\"attributes\":{\"fill_alpha\":{\"units\":\"data\",\"value\":0.2},\"line_alpha\":{\"units\":\"data\",\"value\":1},\"doc\":null,\"size\":{\"units\":\"screen\",\"value\":10},\"fill_color\":{\"value\":\"blue\"},\"line_color\":{\"value\":\"blue\"},\"x\":{\"units\":\"data\",\"field\":\"x\"},\"id\":\"39eadd4a-b76a-4a44-caec-ddddaeaf56de\",\"y\":{\"units\":\"data\",\"field\":\"y\"},\"tags\":[]}},{\"id\":\"d9280e83-33bc-4c07-cc82-d5f4e65c802c\",\"type\":\"GlyphRenderer\",\"attributes\":{\"name\":null,\"nonselection_glyph\":{\"type\":\"Line\",\"id\":\"39eadd4a-b76a-4a44-caec-ddddaeaf56de\"},\"doc\":null,\"server_data_source\":null,\"data_source\":{\"type\":\"ColumnDataSource\",\"id\":\"c7e78af2-5429-4dab-cd62-44103d0384dd\"},\"glyph\":{\"type\":\"Line\",\"id\":\"cd4dc240-48a7-486b-c8d3-f41d24013f2d\"},\"selection_glyph\":null,\"id\":\"d9280e83-33bc-4c07-cc82-d5f4e65c802c\",\"tags\":[]}},{\"id\":\"3822fa51-ca21-41f1-c105-3bd1aaed4f4b\",\"type\":\"DataRange1d\",\"attributes\":{\"sources\":[{\"columns\":[\"x\"],\"source\":{\"type\":\"ColumnDataSource\",\"id\":\"c7e78af2-5429-4dab-cd62-44103d0384dd\"}}],\"id\":\"3822fa51-ca21-41f1-c105-3bd1aaed4f4b\",\"tags\":[],\"doc\":null}},{\"id\":\"8f197c3f-2586-4ae7-ca67-5ee7f74f9199\",\"type\":\"DataRange1d\",\"attributes\":{\"sources\":[{\"columns\":[\"y\"],\"source\":{\"type\":\"ColumnDataSource\",\"id\":\"c7e78af2-5429-4dab-cd62-44103d0384dd\"}}],\"id\":\"8f197c3f-2586-4ae7-ca67-5ee7f74f9199\",\"tags\":[],\"doc\":null}},{\"id\":\"ef639ed0-79d7-47b1-c7a9-72b14a17c566\",\"type\":\"ToolEvents\",\"attributes\":{\"tags\":[],\"id\":\"ef639ed0-79d7-47b1-c7a9-72b14a17c566\",\"geometries\":[],\"doc\":null}},{\"id\":\"ed206cdd-6216-481c-c8ed-8d5f08a3edea\",\"type\":\"BasicTickFormatter\",\"attributes\":{\"id\":\"ed206cdd-6216-481c-c8ed-8d5f08a3edea\",\"tags\":[],\"doc\":null}},{\"id\":\"2dde2aef-94cf-41bf-c1b4-dc9425309739\",\"type\":\"BasicTicker\",\"attributes\":{\"num_minor_ticks\":5,\"id\":\"2dde2aef-94cf-41bf-c1b4-dc9425309739\",\"tags\":[],\"doc\":null}},{\"id\":\"9a734023-b12c-4ddc-cd3c-b21bbce40eea\",\"type\":\"LinearAxis\",\"attributes\":{\"formatter\":{\"type\":\"BasicTickFormatter\",\"id\":\"ed206cdd-6216-481c-c8ed-8d5f08a3edea\"},\"ticker\":{\"type\":\"BasicTicker\",\"id\":\"2dde2aef-94cf-41bf-c1b4-dc9425309739\"},\"plot\":{\"id\":\"8dcd2416-16f4-4dd1-cd0f-ec1a0a229ed9\",\"type\":\"Plot\",\"subtype\":\"Figure\"},\"axis_label\":null,\"id\":\"9a734023-b12c-4ddc-cd3c-b21bbce40eea\",\"doc\":null,\"tags\":[]}},{\"id\":\"c5d8de29-a066-4f43-cfdb-85bd3a586243\",\"type\":\"Grid\",\"attributes\":{\"dimension\":0,\"plot\":{\"id\":\"8dcd2416-16f4-4dd1-cd0f-ec1a0a229ed9\",\"type\":\"Plot\",\"subtype\":\"Figure\"},\"ticker\":{\"type\":\"BasicTicker\",\"id\":\"2dde2aef-94cf-41bf-c1b4-dc9425309739\"},\"id\":\"c5d8de29-a066-4f43-cfdb-85bd3a586243\",\"doc\":null,\"tags\":[]}},{\"id\":\"b2fe02a8-48f5-49ca-c913-e90b878cf298\",\"type\":\"BasicTickFormatter\",\"attributes\":{\"id\":\"b2fe02a8-48f5-49ca-c913-e90b878cf298\",\"tags\":[],\"doc\":null}},{\"id\":\"fdba9e03-761a-46c5-c616-a4bb30bf6ab3\",\"type\":\"BasicTicker\",\"attributes\":{\"num_minor_ticks\":5,\"id\":\"fdba9e03-761a-46c5-c616-a4bb30bf6ab3\",\"tags\":[],\"doc\":null}},{\"id\":\"4db058ec-f32a-423f-c2e3-4150464d3f26\",\"type\":\"LinearAxis\",\"attributes\":{\"formatter\":{\"type\":\"BasicTickFormatter\",\"id\":\"b2fe02a8-48f5-49ca-c913-e90b878cf298\"},\"ticker\":{\"type\":\"BasicTicker\",\"id\":\"fdba9e03-761a-46c5-c616-a4bb30bf6ab3\"},\"plot\":{\"id\":\"8dcd2416-16f4-4dd1-cd0f-ec1a0a229ed9\",\"type\":\"Plot\",\"subtype\":\"Figure\"},\"axis_label\":null,\"id\":\"4db058ec-f32a-423f-c2e3-4150464d3f26\",\"doc\":null,\"tags\":[]}},{\"id\":\"9202e3a1-2ff5-46c3-c61f-42bfb64d2041\",\"type\":\"Grid\",\"attributes\":{\"dimension\":1,\"plot\":{\"id\":\"8dcd2416-16f4-4dd1-cd0f-ec1a0a229ed9\",\"type\":\"Plot\",\"subtype\":\"Figure\"},\"ticker\":{\"type\":\"BasicTicker\",\"id\":\"fdba9e03-761a-46c5-c616-a4bb30bf6ab3\"},\"id\":\"9202e3a1-2ff5-46c3-c61f-42bfb64d2041\",\"doc\":null,\"tags\":[]}},{\"id\":\"4dcfb421-12de-42e9-c218-08dbaf70abd6\",\"type\":\"PanTool\",\"attributes\":{\"plot\":{\"id\":\"8dcd2416-16f4-4dd1-cd0f-ec1a0a229ed9\",\"type\":\"Plot\",\"subtype\":\"Figure\"},\"dimensions\":[\"width\",\"height\"],\"id\":\"4dcfb421-12de-42e9-c218-08dbaf70abd6\",\"doc\":null,\"tags\":[]}},{\"id\":\"23560b0b-3267-4c1a-ccf3-960d3e751db7\",\"type\":\"WheelZoomTool\",\"attributes\":{\"plot\":{\"id\":\"8dcd2416-16f4-4dd1-cd0f-ec1a0a229ed9\",\"type\":\"Plot\",\"subtype\":\"Figure\"},\"dimensions\":[\"width\",\"height\"],\"id\":\"23560b0b-3267-4c1a-ccf3-960d3e751db7\",\"doc\":null,\"tags\":[]}},{\"id\":\"005b3e91-330a-4b54-cbd5-09603e8fd2c5\",\"type\":\"BoxZoomTool\",\"attributes\":{\"plot\":{\"id\":\"8dcd2416-16f4-4dd1-cd0f-ec1a0a229ed9\",\"type\":\"Plot\",\"subtype\":\"Figure\"},\"id\":\"005b3e91-330a-4b54-cbd5-09603e8fd2c5\",\"tags\":[],\"doc\":null}},{\"id\":\"1f48dc87-0cdf-4e86-ce55-ef7445ca8630\",\"type\":\"PreviewSaveTool\",\"attributes\":{\"plot\":{\"id\":\"8dcd2416-16f4-4dd1-cd0f-ec1a0a229ed9\",\"type\":\"Plot\",\"subtype\":\"Figure\"},\"id\":\"1f48dc87-0cdf-4e86-ce55-ef7445ca8630\",\"tags\":[],\"doc\":null}},{\"id\":\"6b6406e7-a779-4d6b-cd40-f518ad55f8af\",\"type\":\"ResizeTool\",\"attributes\":{\"plot\":{\"id\":\"8dcd2416-16f4-4dd1-cd0f-ec1a0a229ed9\",\"type\":\"Plot\",\"subtype\":\"Figure\"},\"id\":\"6b6406e7-a779-4d6b-cd40-f518ad55f8af\",\"tags\":[],\"doc\":null}},{\"id\":\"fa209698-eee6-4e37-ce91-622fb23d561a\",\"type\":\"ResetTool\",\"attributes\":{\"plot\":{\"id\":\"8dcd2416-16f4-4dd1-cd0f-ec1a0a229ed9\",\"type\":\"Plot\",\"subtype\":\"Figure\"},\"id\":\"fa209698-eee6-4e37-ce91-622fb23d561a\",\"tags\":[],\"doc\":null}},{\"id\":\"8dcd2416-16f4-4dd1-cd0f-ec1a0a229ed9\",\"type\":\"Plot\",\"attributes\":{\"x_range\":{\"type\":\"DataRange1d\",\"id\":\"3822fa51-ca21-41f1-c105-3bd1aaed4f4b\"},\"tool_events\":{\"type\":\"ToolEvents\",\"id\":\"ef639ed0-79d7-47b1-c7a9-72b14a17c566\"},\"below\":[{\"type\":\"LinearAxis\",\"id\":\"9a734023-b12c-4ddc-cd3c-b21bbce40eea\"}],\"renderers\":[{\"type\":\"GlyphRenderer\",\"id\":\"d9280e83-33bc-4c07-cc82-d5f4e65c802c\"},{\"type\":\"LinearAxis\",\"id\":\"9a734023-b12c-4ddc-cd3c-b21bbce40eea\"},{\"type\":\"Grid\",\"id\":\"c5d8de29-a066-4f43-cfdb-85bd3a586243\"},{\"type\":\"LinearAxis\",\"id\":\"4db058ec-f32a-423f-c2e3-4150464d3f26\"},{\"type\":\"Grid\",\"id\":\"9202e3a1-2ff5-46c3-c61f-42bfb64d2041\"}],\"above\":[],\"tools\":[{\"type\":\"PanTool\",\"id\":\"4dcfb421-12de-42e9-c218-08dbaf70abd6\"},{\"type\":\"WheelZoomTool\",\"id\":\"23560b0b-3267-4c1a-ccf3-960d3e751db7\"},{\"type\":\"BoxZoomTool\",\"id\":\"005b3e91-330a-4b54-cbd5-09603e8fd2c5\"},{\"type\":\"PreviewSaveTool\",\"id\":\"1f48dc87-0cdf-4e86-ce55-ef7445ca8630\"},{\"type\":\"ResizeTool\",\"id\":\"6b6406e7-a779-4d6b-cd40-f518ad55f8af\"},{\"type\":\"ResetTool\",\"id\":\"fa209698-eee6-4e37-ce91-622fb23d561a\"}],\"doc\":null,\"right\":[],\"title\":\"Plot of Rougue-F1\",\"extra_x_ranges\":{},\"left\":[{\"type\":\"LinearAxis\",\"id\":\"4db058ec-f32a-423f-c2e3-4150464d3f26\"}],\"y_range\":{\"type\":\"DataRange1d\",\"id\":\"8f197c3f-2586-4ae7-ca67-5ee7f74f9199\"},\"id\":\"8dcd2416-16f4-4dd1-cd0f-ec1a0a229ed9\",\"extra_y_ranges\":{},\"tags\":[]}}];\n",
       "  Bokeh.load_models(all_models);\n",
       "  var model = Bokeh.Collections(modeltype).get(modelid);\n",
       "  $(\"#a556f613-de57-4527-c5e7-c6d5e05c96d0\").html(''); // clear any previous plot in window_id\n",
       "  var view = new model.default_view({model: model, el: \"#a556f613-de57-4527-c5e7-c6d5e05c96d0\"});\n",
       "    } else {\n",
       "  load_lib(bokehjs_url, function() {\n",
       "      console.log(\"Bokeh: BokehJS plotting callback run at\", new Date())\n",
       "      var modelid = \"8dcd2416-16f4-4dd1-cd0f-ec1a0a229ed9\";\n",
       "      var modeltype = \"Plot\";\n",
       "      var all_models = [{\"id\":\"c7e78af2-5429-4dab-cd62-44103d0384dd\",\"type\":\"ColumnDataSource\",\"attributes\":{\"data\":{\"y\":[0.5,0.5,0.4,0.5,0.4,0.66666666666667,0,0.8,0.5,0.66666666666667,0.66666666666667,0.66666666666667,0.33333333333333,0,0.66666666666667,0.33333333333333,0.66666666666667,0.66666666666667,0.66666666666667,0.66666666666667,0,0.57142857142857,0.57142857142857,0.66666666666667,0.57142857142857,0.57142857142857,0.57142857142857,0.33333333333333,0.57142857142857,0.57142857142857,0.57142857142857,0.57142857142857,0.57142857142857,0.57142857142857,0.57142857142857,0.33333333333333,0.57142857142857,0.57142857142857,0.57142857142857,0.57142857142857,0.57142857142857,0.57142857142857,0.33333333333333,0.57142857142857,0.57142857142857,0.57142857142857,0.57142857142857,0.57142857142857,0.57142857142857,0.57142857142857,0.57142857142857,0.33333333333333,0.66666666666667,0.57142857142857,0.57142857142857,0.57142857142857,0.57142857142857,0.57142857142857,0.57142857142857,0.57142857142857,0.57142857142857,0.57142857142857,0.57142857142857,0.57142857142857,0.57142857142857,0.57142857142857,0.57142857142857,0.57142857142857,0.57142857142857,0.57142857142857,0.57142857142857,0.57142857142857,0.57142857142857,0.57142857142857,0.57142857142857,0.57142857142857,0.57142857142857,0.57142857142857,0.57142857142857,0.57142857142857,0.57142857142857,0.57142857142857,0.57142857142857,0.57142857142857,0.57142857142857,0.57142857142857,0.57142857142857,0.57142857142857,0.57142857142857,0.57142857142857,0.57142857142857,0.57142857142857,0.57142857142857,0.57142857142857,0.57142857142857,0.57142857142857,0.57142857142857,0.57142857142857,0.57142857142857,0.57142857142857],\"x\":[1,2,3,4,5,6,7,8,9,10,11,12,13,14,15,16,17,18,19,20,21,22,23,24,25,26,27,28,29,30,31,32,33,34,35,36,37,38,39,40,41,42,43,44,45,46,47,48,49,50,51,52,53,54,55,56,57,58,59,60,61,62,63,64,65,66,67,68,69,70,71,72,73,74,75,76,77,78,79,80,81,82,83,84,85,86,87,88,89,90,91,92,93,94,95,96,97,98,99,100]},\"column_names\":[\"y\",\"x\"],\"cont_ranges\":{},\"discrete_ranges\":{},\"selected\":[],\"id\":\"c7e78af2-5429-4dab-cd62-44103d0384dd\",\"doc\":null,\"tags\":[]}},{\"id\":\"cd4dc240-48a7-486b-c8d3-f41d24013f2d\",\"type\":\"Line\",\"attributes\":{\"fill_alpha\":{\"units\":\"data\",\"value\":0.2},\"line_alpha\":{\"units\":\"data\",\"value\":1},\"doc\":null,\"size\":{\"units\":\"screen\",\"value\":10},\"fill_color\":{\"value\":\"blue\"},\"line_color\":{\"value\":\"blue\"},\"x\":{\"units\":\"data\",\"field\":\"x\"},\"id\":\"cd4dc240-48a7-486b-c8d3-f41d24013f2d\",\"y\":{\"units\":\"data\",\"field\":\"y\"},\"tags\":[]}},{\"id\":\"39eadd4a-b76a-4a44-caec-ddddaeaf56de\",\"type\":\"Line\",\"attributes\":{\"fill_alpha\":{\"units\":\"data\",\"value\":0.2},\"line_alpha\":{\"units\":\"data\",\"value\":1},\"doc\":null,\"size\":{\"units\":\"screen\",\"value\":10},\"fill_color\":{\"value\":\"blue\"},\"line_color\":{\"value\":\"blue\"},\"x\":{\"units\":\"data\",\"field\":\"x\"},\"id\":\"39eadd4a-b76a-4a44-caec-ddddaeaf56de\",\"y\":{\"units\":\"data\",\"field\":\"y\"},\"tags\":[]}},{\"id\":\"d9280e83-33bc-4c07-cc82-d5f4e65c802c\",\"type\":\"GlyphRenderer\",\"attributes\":{\"name\":null,\"nonselection_glyph\":{\"type\":\"Line\",\"id\":\"39eadd4a-b76a-4a44-caec-ddddaeaf56de\"},\"doc\":null,\"server_data_source\":null,\"data_source\":{\"type\":\"ColumnDataSource\",\"id\":\"c7e78af2-5429-4dab-cd62-44103d0384dd\"},\"glyph\":{\"type\":\"Line\",\"id\":\"cd4dc240-48a7-486b-c8d3-f41d24013f2d\"},\"selection_glyph\":null,\"id\":\"d9280e83-33bc-4c07-cc82-d5f4e65c802c\",\"tags\":[]}},{\"id\":\"3822fa51-ca21-41f1-c105-3bd1aaed4f4b\",\"type\":\"DataRange1d\",\"attributes\":{\"sources\":[{\"columns\":[\"x\"],\"source\":{\"type\":\"ColumnDataSource\",\"id\":\"c7e78af2-5429-4dab-cd62-44103d0384dd\"}}],\"id\":\"3822fa51-ca21-41f1-c105-3bd1aaed4f4b\",\"tags\":[],\"doc\":null}},{\"id\":\"8f197c3f-2586-4ae7-ca67-5ee7f74f9199\",\"type\":\"DataRange1d\",\"attributes\":{\"sources\":[{\"columns\":[\"y\"],\"source\":{\"type\":\"ColumnDataSource\",\"id\":\"c7e78af2-5429-4dab-cd62-44103d0384dd\"}}],\"id\":\"8f197c3f-2586-4ae7-ca67-5ee7f74f9199\",\"tags\":[],\"doc\":null}},{\"id\":\"ef639ed0-79d7-47b1-c7a9-72b14a17c566\",\"type\":\"ToolEvents\",\"attributes\":{\"tags\":[],\"id\":\"ef639ed0-79d7-47b1-c7a9-72b14a17c566\",\"geometries\":[],\"doc\":null}},{\"id\":\"ed206cdd-6216-481c-c8ed-8d5f08a3edea\",\"type\":\"BasicTickFormatter\",\"attributes\":{\"id\":\"ed206cdd-6216-481c-c8ed-8d5f08a3edea\",\"tags\":[],\"doc\":null}},{\"id\":\"2dde2aef-94cf-41bf-c1b4-dc9425309739\",\"type\":\"BasicTicker\",\"attributes\":{\"num_minor_ticks\":5,\"id\":\"2dde2aef-94cf-41bf-c1b4-dc9425309739\",\"tags\":[],\"doc\":null}},{\"id\":\"9a734023-b12c-4ddc-cd3c-b21bbce40eea\",\"type\":\"LinearAxis\",\"attributes\":{\"formatter\":{\"type\":\"BasicTickFormatter\",\"id\":\"ed206cdd-6216-481c-c8ed-8d5f08a3edea\"},\"ticker\":{\"type\":\"BasicTicker\",\"id\":\"2dde2aef-94cf-41bf-c1b4-dc9425309739\"},\"plot\":{\"id\":\"8dcd2416-16f4-4dd1-cd0f-ec1a0a229ed9\",\"type\":\"Plot\",\"subtype\":\"Figure\"},\"axis_label\":null,\"id\":\"9a734023-b12c-4ddc-cd3c-b21bbce40eea\",\"doc\":null,\"tags\":[]}},{\"id\":\"c5d8de29-a066-4f43-cfdb-85bd3a586243\",\"type\":\"Grid\",\"attributes\":{\"dimension\":0,\"plot\":{\"id\":\"8dcd2416-16f4-4dd1-cd0f-ec1a0a229ed9\",\"type\":\"Plot\",\"subtype\":\"Figure\"},\"ticker\":{\"type\":\"BasicTicker\",\"id\":\"2dde2aef-94cf-41bf-c1b4-dc9425309739\"},\"id\":\"c5d8de29-a066-4f43-cfdb-85bd3a586243\",\"doc\":null,\"tags\":[]}},{\"id\":\"b2fe02a8-48f5-49ca-c913-e90b878cf298\",\"type\":\"BasicTickFormatter\",\"attributes\":{\"id\":\"b2fe02a8-48f5-49ca-c913-e90b878cf298\",\"tags\":[],\"doc\":null}},{\"id\":\"fdba9e03-761a-46c5-c616-a4bb30bf6ab3\",\"type\":\"BasicTicker\",\"attributes\":{\"num_minor_ticks\":5,\"id\":\"fdba9e03-761a-46c5-c616-a4bb30bf6ab3\",\"tags\":[],\"doc\":null}},{\"id\":\"4db058ec-f32a-423f-c2e3-4150464d3f26\",\"type\":\"LinearAxis\",\"attributes\":{\"formatter\":{\"type\":\"BasicTickFormatter\",\"id\":\"b2fe02a8-48f5-49ca-c913-e90b878cf298\"},\"ticker\":{\"type\":\"BasicTicker\",\"id\":\"fdba9e03-761a-46c5-c616-a4bb30bf6ab3\"},\"plot\":{\"id\":\"8dcd2416-16f4-4dd1-cd0f-ec1a0a229ed9\",\"type\":\"Plot\",\"subtype\":\"Figure\"},\"axis_label\":null,\"id\":\"4db058ec-f32a-423f-c2e3-4150464d3f26\",\"doc\":null,\"tags\":[]}},{\"id\":\"9202e3a1-2ff5-46c3-c61f-42bfb64d2041\",\"type\":\"Grid\",\"attributes\":{\"dimension\":1,\"plot\":{\"id\":\"8dcd2416-16f4-4dd1-cd0f-ec1a0a229ed9\",\"type\":\"Plot\",\"subtype\":\"Figure\"},\"ticker\":{\"type\":\"BasicTicker\",\"id\":\"fdba9e03-761a-46c5-c616-a4bb30bf6ab3\"},\"id\":\"9202e3a1-2ff5-46c3-c61f-42bfb64d2041\",\"doc\":null,\"tags\":[]}},{\"id\":\"4dcfb421-12de-42e9-c218-08dbaf70abd6\",\"type\":\"PanTool\",\"attributes\":{\"plot\":{\"id\":\"8dcd2416-16f4-4dd1-cd0f-ec1a0a229ed9\",\"type\":\"Plot\",\"subtype\":\"Figure\"},\"dimensions\":[\"width\",\"height\"],\"id\":\"4dcfb421-12de-42e9-c218-08dbaf70abd6\",\"doc\":null,\"tags\":[]}},{\"id\":\"23560b0b-3267-4c1a-ccf3-960d3e751db7\",\"type\":\"WheelZoomTool\",\"attributes\":{\"plot\":{\"id\":\"8dcd2416-16f4-4dd1-cd0f-ec1a0a229ed9\",\"type\":\"Plot\",\"subtype\":\"Figure\"},\"dimensions\":[\"width\",\"height\"],\"id\":\"23560b0b-3267-4c1a-ccf3-960d3e751db7\",\"doc\":null,\"tags\":[]}},{\"id\":\"005b3e91-330a-4b54-cbd5-09603e8fd2c5\",\"type\":\"BoxZoomTool\",\"attributes\":{\"plot\":{\"id\":\"8dcd2416-16f4-4dd1-cd0f-ec1a0a229ed9\",\"type\":\"Plot\",\"subtype\":\"Figure\"},\"id\":\"005b3e91-330a-4b54-cbd5-09603e8fd2c5\",\"tags\":[],\"doc\":null}},{\"id\":\"1f48dc87-0cdf-4e86-ce55-ef7445ca8630\",\"type\":\"PreviewSaveTool\",\"attributes\":{\"plot\":{\"id\":\"8dcd2416-16f4-4dd1-cd0f-ec1a0a229ed9\",\"type\":\"Plot\",\"subtype\":\"Figure\"},\"id\":\"1f48dc87-0cdf-4e86-ce55-ef7445ca8630\",\"tags\":[],\"doc\":null}},{\"id\":\"6b6406e7-a779-4d6b-cd40-f518ad55f8af\",\"type\":\"ResizeTool\",\"attributes\":{\"plot\":{\"id\":\"8dcd2416-16f4-4dd1-cd0f-ec1a0a229ed9\",\"type\":\"Plot\",\"subtype\":\"Figure\"},\"id\":\"6b6406e7-a779-4d6b-cd40-f518ad55f8af\",\"tags\":[],\"doc\":null}},{\"id\":\"fa209698-eee6-4e37-ce91-622fb23d561a\",\"type\":\"ResetTool\",\"attributes\":{\"plot\":{\"id\":\"8dcd2416-16f4-4dd1-cd0f-ec1a0a229ed9\",\"type\":\"Plot\",\"subtype\":\"Figure\"},\"id\":\"fa209698-eee6-4e37-ce91-622fb23d561a\",\"tags\":[],\"doc\":null}},{\"id\":\"8dcd2416-16f4-4dd1-cd0f-ec1a0a229ed9\",\"type\":\"Plot\",\"attributes\":{\"x_range\":{\"type\":\"DataRange1d\",\"id\":\"3822fa51-ca21-41f1-c105-3bd1aaed4f4b\"},\"tool_events\":{\"type\":\"ToolEvents\",\"id\":\"ef639ed0-79d7-47b1-c7a9-72b14a17c566\"},\"below\":[{\"type\":\"LinearAxis\",\"id\":\"9a734023-b12c-4ddc-cd3c-b21bbce40eea\"}],\"renderers\":[{\"type\":\"GlyphRenderer\",\"id\":\"d9280e83-33bc-4c07-cc82-d5f4e65c802c\"},{\"type\":\"LinearAxis\",\"id\":\"9a734023-b12c-4ddc-cd3c-b21bbce40eea\"},{\"type\":\"Grid\",\"id\":\"c5d8de29-a066-4f43-cfdb-85bd3a586243\"},{\"type\":\"LinearAxis\",\"id\":\"4db058ec-f32a-423f-c2e3-4150464d3f26\"},{\"type\":\"Grid\",\"id\":\"9202e3a1-2ff5-46c3-c61f-42bfb64d2041\"}],\"above\":[],\"tools\":[{\"type\":\"PanTool\",\"id\":\"4dcfb421-12de-42e9-c218-08dbaf70abd6\"},{\"type\":\"WheelZoomTool\",\"id\":\"23560b0b-3267-4c1a-ccf3-960d3e751db7\"},{\"type\":\"BoxZoomTool\",\"id\":\"005b3e91-330a-4b54-cbd5-09603e8fd2c5\"},{\"type\":\"PreviewSaveTool\",\"id\":\"1f48dc87-0cdf-4e86-ce55-ef7445ca8630\"},{\"type\":\"ResizeTool\",\"id\":\"6b6406e7-a779-4d6b-cd40-f518ad55f8af\"},{\"type\":\"ResetTool\",\"id\":\"fa209698-eee6-4e37-ce91-622fb23d561a\"}],\"doc\":null,\"right\":[],\"title\":\"Plot of Rougue-F1\",\"extra_x_ranges\":{},\"left\":[{\"type\":\"LinearAxis\",\"id\":\"4db058ec-f32a-423f-c2e3-4150464d3f26\"}],\"y_range\":{\"type\":\"DataRange1d\",\"id\":\"8f197c3f-2586-4ae7-ca67-5ee7f74f9199\"},\"id\":\"8dcd2416-16f4-4dd1-cd0f-ec1a0a229ed9\",\"extra_y_ranges\":{},\"tags\":[]}}];\n",
       "      Bokeh.load_models(all_models);\n",
       "      var model = Bokeh.Collections(modeltype).get(modelid);\n",
       "      $(\"#a556f613-de57-4527-c5e7-c6d5e05c96d0\").html(''); // clear any previous plot in window_id\n",
       "      var view = new model.default_view({model: model, el: \"#a556f613-de57-4527-c5e7-c6d5e05c96d0\"});\n",
       "  });\n",
       "    }\n",
       "});\n",
       "</script>\n",
       "<div class=\"plotdiv\" id=\"a556f613-de57-4527-c5e7-c6d5e05c96d0\"></div>\n"
      ]
     },
     "metadata": {},
     "output_type": "display_data"
    }
   ],
   "source": [
    "Plot = require 'itorch.Plot'\n",
    "\n",
    "loss = torch.Tensor(lossfull)\n",
    "rougue = torch.Tensor(rouguef1)\n",
    "indices = torch.linspace(1, loss:size(1), loss:size(1)):long() \n",
    "plot = Plot():line(indices, loss, 'red', 'hi'):title('Plot of loss'):draw()\n",
    "plot = Plot():line(indices, rougue, 'blue', 'hi'):title('Plot of Rougue-F1'):draw()"
   ]
  },
  {
   "cell_type": "code",
   "execution_count": null,
   "metadata": {
    "collapsed": true
   },
   "outputs": [],
   "source": []
  }
 ],
 "metadata": {
  "anaconda-cloud": {},
  "kernelspec": {
   "display_name": "iTorch",
   "language": "lua",
   "name": "itorch"
  },
  "language_info": {
   "name": "lua",
   "version": "5.1"
  }
 },
 "nbformat": 4,
 "nbformat_minor": 1
}
