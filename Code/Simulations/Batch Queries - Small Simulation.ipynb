{
 "cells": [
  {
   "cell_type": "code",
   "execution_count": 1,
   "metadata": {
    "collapsed": false
   },
   "outputs": [],
   "source": [
    "require 'nn'\n",
    "require 'rnn'\n",
    "require 'image'\n",
    "require 'optim'\n",
    "require 'parallel'\n",
    "require 'cutorch'\n",
    "require 'cunn'\n",
    "require 'cunnx'\n",
    "dl = require 'dataload'"
   ]
  },
  {
   "cell_type": "code",
   "execution_count": 2,
   "metadata": {
    "collapsed": false
   },
   "outputs": [],
   "source": [
    "-- Some useful functions\n",
    "function genNbyK(n, k, a, b)\n",
    "    out = torch.LongTensor(n, k)\n",
    "    for i=1, n do\n",
    "        for j = 1, k do\n",
    "            out[i][j] = torch.random(a, b)\n",
    "        end\n",
    "    end\n",
    "    return out\n",
    "end\n",
    "\n",
    "function buildModel(model, vocabSize, embeddingSize, metric, adapt, use_cuda)\n",
    "    -- Small experiments seem to show that the Tanh activations performed better\\\n",
    "    --      than the ReLU for the bow model\n",
    "    if model == 'bow' then\n",
    "        print(string.format(\"Running bag-of-words model to learn %s\", metric))\n",
    "        sentenceLookup = nn.Sequential()\n",
    "                    :add(nn.LookupTableMaskZero(vocabSize, embeddingSize))\n",
    "                    :add(nn.Sum(2, 3, true)) -- Not averaging blows up model so keep this true\n",
    "                    :add(nn.Tanh())\n",
    "    else\n",
    "        print(string.format(\"Running LSTM model to learn %s\", metric))\n",
    "        sentenceLookup = nn.Sequential()\n",
    "                    :add(nn.LookupTableMaskZero(vocabSize, embeddingSize))\n",
    "                    :add(nn.SplitTable(2))\n",
    "                    :add(nn.Sequencer(nn.LSTM(embeddingSize, embeddingSize)))\n",
    "                    :add(nn.SelectTable(-1))            -- selects last state of the LSTM\n",
    "                    :add(nn.Linear(embeddingSize, embeddingSize))\n",
    "                    :add(nn.ReLU())\n",
    "    end\n",
    "    local queryLookup = sentenceLookup:clone(\"weight\", \"gradWeight\") \n",
    "    local summaryLookup = sentenceLookup:clone(\"weight\", \"gradWeight\")\n",
    "    local pmodule = nn.ParallelTable()\n",
    "                :add(sentenceLookup)\n",
    "                :add(queryLookup)\n",
    "                :add(summaryLookup)\n",
    "\n",
    "    if model == 'bow' then\n",
    "        nnmodel = nn.Sequential()\n",
    "            :add(pmodule)\n",
    "            :add(nn.JoinTable(2))\n",
    "            :add(nn.Tanh())\n",
    "            :add(nn.Linear(embeddingSize * 3, 2))\n",
    "    else\n",
    "        nnmodel = nn.Sequential()\n",
    "            :add(pmodule)\n",
    "            :add(nn.JoinTable(2))\n",
    "            :add(nn.ReLU())\n",
    "            :add(nn.Linear(embeddingSize * 3, 2))\n",
    "    end\n",
    "\n",
    "    if adapt then \n",
    "        print(\"Adaptive regularization\")\n",
    "        local logmod = nn.Sequential()\n",
    "            :add(nn.Linear(embeddingSize * 3, 1))\n",
    "            :add(nn.LogSigmoid())\n",
    "            :add(nn.SoftMax())\n",
    "\n",
    "        local regmod = nn.Sequential()\n",
    "            :add(nn.Linear(embeddingSize * 3, 2))\n",
    "\n",
    "        local fullmod = nn.ConcatTable()\n",
    "            :add(regmod)\n",
    "            :add(logmod)\n",
    "\n",
    "        local final = nn.Sequential()\n",
    "            :add(pmodule)\n",
    "            :add(nn.JoinTable(2))\n",
    "            :add(fullmod)\n",
    "\n",
    "        nnmodel = final\n",
    "    end\n",
    "\n",
    "    if use_cuda then\n",
    "        return nnmodel:cuda()\n",
    "    end\n",
    "    return nnmodel\n",
    "end\n",
    "\n",
    "function Tokenize(inputdic)\n",
    "    --- This function tokenizes the words into a unigram dictionary\n",
    "    local out = {}\n",
    "    for k, v in pairs(inputdic) do\n",
    "        if v ~= 0 then \n",
    "            if out[v] == nil then\n",
    "                out[v] = 1\n",
    "            else \n",
    "                out[v] = 1 + out[v]\n",
    "            end\n",
    "        end\n",
    "    end\n",
    "    return out\n",
    "end\n",
    "\n",
    "function rougeScores(genSummary, refSummary)\n",
    "    local genTotal = 0\n",
    "    local refTotal = 0\n",
    "    local intersection = 0\n",
    "    -- Inserting the missing keys\n",
    "    for k, genCount in pairs(genSummary) do\n",
    "        if refSummary[k] == nil then\n",
    "            refSummary[k] = 0\n",
    "        end\n",
    "    end\n",
    "    for k, refCount in pairs(refSummary) do\n",
    "        local genCount = genSummary[k]\n",
    "        if genCount == nil then \n",
    "            genCount = 0 \n",
    "        end\n",
    "        intersection = intersection + math.min(refCount, genCount)\n",
    "        refTotal = refTotal + refCount\n",
    "        genTotal = genTotal + genCount\n",
    "    end\n",
    "\n",
    "    recall = intersection / refTotal\n",
    "    prec = intersection / genTotal\n",
    "    if refTotal == 0 then\n",
    "        recall = 0\n",
    "    end \n",
    "    if genTotal == 0 then\n",
    "        prec = 0\n",
    "    end\n",
    "    -- tmp = {intersection, refTotal, genTotal}\n",
    "    if recall > 0 or prec > 0 then\n",
    "        f1 = (2 * recall * prec) / (recall + prec)\n",
    "    else \n",
    "        f1 = 0\n",
    "    end\n",
    "    return recall, prec, f1\n",
    "end"
   ]
  },
  {
   "cell_type": "code",
   "execution_count": 3,
   "metadata": {
    "collapsed": true
   },
   "outputs": [],
   "source": [
    "function buildPredsummary(chosenactions, inputsentences, select_index)\n",
    "    local summary = torch.zeros(inputsentences:size())\n",
    "    for i=1, chosenactions:size(1) do\n",
    "        -- the 2 is for the SELECT index, will have to make this more general later\n",
    "        if chosenactions[i][select_index] == 1 then\n",
    "            summary[i]:copy(inputsentences[i])\n",
    "        end\n",
    "    end    \n",
    "    return summary\n",
    "end\n",
    "\n",
    "function buildPredsummaryFast(chosenactions, inputsentences, select_index)\n",
    "    local n = inputsentences:size(1)\n",
    "    local k = inputsentences:size(2)\n",
    "    local summary = torch.zeros(inputsentences:size())\n",
    "    actionmatrix = chosenactions:select(2, select_index):clone():resize(n, 1):view(n, 1):expand(n, k):clone()\n",
    "    --     This line didn't work for whatever reason...gives weird indexing...\n",
    "    --     actionmatrix = chosenactions:select(2, select_index):resize(1, n):view(n, 1):expand(n, k):clone()\n",
    "    return actionmatrix:cmul(inputsentences:double())\n",
    "end"
   ]
  },
  {
   "cell_type": "code",
   "execution_count": 4,
   "metadata": {
    "collapsed": true
   },
   "outputs": [],
   "source": [
    "function buildTotalSummary(predsummary, totalPredsummary)\n",
    "    nps = predsummary:size(1)\n",
    "    n_l = totalPredsummary:size(2)\n",
    "    indices = torch.linspace(1, n_l, n_l):long() \n",
    "    for i=1, predsummary:size(1) do\n",
    "        if predsummary[i]:sum() > 0 then \n",
    "            -- maxindex = 0\n",
    "            -- for j = 1, totalPredsummary[i]:size(1) do \n",
    "            --     if totalPredsummary[i][j] == 0 then\n",
    "            --         maxindex = maxindex + 1\n",
    "            --     end\n",
    "            -- end\n",
    "            -- lenx = predsummary[i]:size(1)\n",
    "            -- totalPredsummary[i][{{maxindex - lenx + 1, maxindex}}]:copy(predsummary[i])\n",
    "\n",
    "            minindex = 1\n",
    "            for j = 1, totalPredsummary[i]:size(1) do \n",
    "                if totalPredsummary[i][j] > 0 then\n",
    "                    minindex = minindex + 1\n",
    "                end\n",
    "            end\n",
    "            lenx = predsummary[i]:size(1)\n",
    "            totalPredsummary[i][{{minindex, minindex + lenx - 1}}]:copy(predsummary[i])\n",
    "\n",
    "        end\n",
    "    end\n",
    "end\n",
    "\n",
    "-- function buildTotalSummaryFast(predsummary, inputTotalSummary)\n",
    "--     totalPredsummary = inputTotalSummary:clone()\n",
    "--     nps = predsummary:size(1)\n",
    "--     n_l = inputTotalSummary:size(2)\n",
    "--     indices = torch.linspace(1, n_l, n_l):long() \n",
    "--     for i=1, predsummary:size(1) do\n",
    "--         if predsummary[i]:sum() > 0 then \n",
    "--             -- Finding the largest index with a zero\n",
    "--             -- maxindex = torch.max(indices[torch.eq(totalPredsummary[i], 0)])\n",
    "--             -- totalPredsummary[i][{{maxindex - lenx + 1, maxindex}}]:copy(predsummary[i])\n",
    "--             -- Finding the smallest index with a zero\n",
    "--             minindex = torch.min(indices[torch.eq(inputTotalSummary[i], 0)])\n",
    "--             lenx = predsummary[i]:size(1)\n",
    "--             totalPredsummary[i][{{minindex, minindex + lenx - 1}}]:copy(predsummary[i])\n",
    "--         end\n",
    "--     end\n",
    "--     return totalPredsummary\n",
    "-- end\n",
    "\n",
    "-- function buildTotalSummaryFast(predsummary, inputTotalSummary)\n",
    "--     tmpSummary = inputTotalSummary:clone()\n",
    "--     nps = predsummary:size(1)\n",
    "--     n_l = inputTotalSummary:size(2)\n",
    "--     indices = torch.linspace(1, n_l, n_l):long() \n",
    "--     for i=1, predsummary:size(1) do\n",
    "--         if predsummary[i]:sum() > 0 then \n",
    "--             -- Finding the largest index with a zero\n",
    "--             -- maxindex = torch.max(indices[torch.eq(totalPredsummary[i], 0)])\n",
    "--             -- totalPredsummary[i][{{maxindex - lenx + 1, maxindex}}]:copy(predsummary[i])\n",
    "--             -- Finding the smallest index with a zero\n",
    "--             minindex = torch.min(indices[torch.eq(tmpSummary[i], 0)])\n",
    "--             lenx = predsummary[i]:size(1)\n",
    "--             tmpSummary[i][{{minindex, minindex + lenx - 1}}]:copy(predsummary[i])\n",
    "--         end\n",
    "--     end\n",
    "--     return tmpSummary\n",
    "-- end\n",
    "\n",
    "function buildTotalSummaryFast(predsummary, inputTotalSummary)\n",
    "    nps = predsummary:size(1)\n",
    "    n_l =  inputTotalSummary:size(2)\n",
    "    indices = torch.linspace(1, n_l, n_l):long() \n",
    "    for i=1, predsummary:size(1) do\n",
    "        if predsummary[i]:sum() > 0 then \n",
    "            -- Finding the largest index with a zero\n",
    "            -- maxindex = torch.max(indices[torch.eq(totalPredsummary[i], 0)])\n",
    "            -- totalPredsummary[i][{{maxindex - lenx + 1, maxindex}}]:copy(predsummary[i])\n",
    "            -- Finding the smallest index with a zero\n",
    "            minindex = torch.min(indices[torch.eq(inputTotalSummary[i], 0)])\n",
    "            lenx = predsummary[i]:size(1)\n",
    "             inputTotalSummary[i][{{minindex, minindex + lenx - 1}}]:copy(predsummary[i])\n",
    "        end\n",
    "    end\n",
    "end"
   ]
  },
  {
   "cell_type": "code",
   "execution_count": 5,
   "metadata": {
    "collapsed": true
   },
   "outputs": [],
   "source": [
    "-- Setting parameters\n",
    "-- n = 10\n",
    "n = 1\n",
    "n_s = 10\n",
    "k = 8\n",
    "q = 5\n",
    "a = 1\n",
    "b = 1000\n",
    "embDim = 50\n",
    "gamma = 0.3\n",
    "SKIP = 1\n",
    "SELECT = 2\n",
    "epsilon = 1\n",
    "nepochs = 1000\n",
    "fast = true\n",
    "\n",
    "maskLayer = nn.MaskedSelect()"
   ]
  },
  {
   "cell_type": "markdown",
   "metadata": {},
   "source": [
    "# Simulating the data"
   ]
  },
  {
   "cell_type": "code",
   "execution_count": 6,
   "metadata": {
    "collapsed": false
   },
   "outputs": [],
   "source": [
    "-- Simulating streams and queries\n",
    "queries = genNbyK(n, q, a, b)\n",
    "\n",
    "-- Note that the sentences are batched by sentence index so sentences[1] is the first sentence of each article\n",
    "sentences = {}\n",
    "for i=1, n_s do\n",
    "    sentences[i] = genNbyK(n, k, a, b)\n",
    "end\n",
    "-- Optimal predicted summary\n",
    "trueSummary = torch.zeros(n, k * n_s)\n",
    "-- Using this to generate the optimal actions\n",
    "true_actions = {}\n",
    "\n",
    "for i=1, n_s do \n",
    "    ---- Simulating the data\n",
    "    trueqValues = torch.rand(n, 2)\n",
    "    \n",
    "     ---- Generating the max values and getting the indices\n",
    "    qMaxtrue, qindxtrue = torch.max(trueqValues, 2)\n",
    "    \n",
    "    --- I want to select the qindx elements for each row\n",
    "    true_actions[i] = torch.zeros(n, 2):scatter(2, qindxtrue, torch.ones(trueqValues:size()))\n",
    "    best_sentences = buildPredsummaryFast(true_actions[i], sentences[i], SELECT)\n",
    "    buildTotalSummaryFast(best_sentences, trueSummary)\n",
    "end\n",
    "\n",
    "qTokens = {}\n",
    "for i=1, n do\n",
    "    qTokens[i] = Tokenize(trueSummary[i]:totable())\n",
    "end"
   ]
  },
  {
   "cell_type": "markdown",
   "metadata": {},
   "source": [
    "# Scoring the rougue metrics on the simulation"
   ]
  },
  {
   "cell_type": "code",
   "execution_count": 7,
   "metadata": {
    "collapsed": false
   },
   "outputs": [
    {
     "data": {
      "text/plain": [
       "1\t1\t1\t\n"
      ]
     },
     "execution_count": 7,
     "metadata": {},
     "output_type": "execute_result"
    }
   ],
   "source": [
    "print(rougeScores(Tokenize(trueSummary[1]:totable()), Tokenize(trueSummary[1]:totable())))"
   ]
  },
  {
   "cell_type": "markdown",
   "metadata": {},
   "source": [
    "# Building the model"
   ]
  },
  {
   "cell_type": "code",
   "execution_count": 8,
   "metadata": {
    "collapsed": false
   },
   "outputs": [
    {
     "data": {
      "text/plain": [
       "Running LSTM model to learn f1\t\n"
      ]
     },
     "execution_count": 8,
     "metadata": {},
     "output_type": "execute_result"
    }
   ],
   "source": [
    "model = buildModel('lstm', b, embDim, 'f1', false, false)\n",
    "-- model = buildModel('bow', b, embDim, 'f1', false, false)\n",
    "\n",
    "params, gradParams = model:getParameters()\n",
    "criterion = nn.MSECriterion()\n",
    "maskLayer = nn.MaskedSelect()"
   ]
  },
  {
   "cell_type": "markdown",
   "metadata": {},
   "source": [
    "# Scoring the model on the sentences"
   ]
  },
  {
   "cell_type": "code",
   "execution_count": 9,
   "metadata": {
    "collapsed": true
   },
   "outputs": [],
   "source": [
    "nepochs = 300\n",
    "epsilon = 1\n",
    "gamma = 0\n",
    "base_explore_rate = 0.1\n",
    "cuts = 4\n",
    "delta = cuts/nepochs\n",
    "end_baserate = torch.round(nepochs * 0.8)"
   ]
  },
  {
   "cell_type": "code",
   "execution_count": 10,
   "metadata": {
    "collapsed": false,
    "scrolled": true
   },
   "outputs": [],
   "source": [
    "optimParams = { learningRate = 1e-6}\n",
    "\n",
    "totalPredsummary = {}\n",
    "qValues = {}\n",
    "qActions = {}\n",
    "qPreds = {}\n",
    "rewards = {}\n",
    "lossfull = {}\n",
    "rouguef1 = {}\n",
    "\n",
    "totalPredsummary = torch.LongTensor(n, n_s * k):fill(0)\n",
    "\n",
    "memsize = n * n_s\n",
    "queryMemory = torch.zeros(memsize, q)\n",
    "qActionMemory = torch.zeros(memsize, 2)\n",
    "predSummaryMemory = torch.zeros(memsize, n_s * k)\n",
    "sentenceMemory = torch.zeros(memsize, k)\n",
    "qPredsMemory = torch.zeros(memsize, 2)\n",
    "qValuesMemory = torch.zeros(memsize, 1)\n",
    "rewardMemory = torch.zeros(memsize, 1)\n",
    "\n",
    "--- Initializing thingss\n",
    "\n",
    "for i = 1, n_s do\n",
    "    qPreds[i] = torch.zeros(n, 2)\n",
    "    qValues[i] = torch.zeros(n, 1) \n",
    "    qActions[i] = torch.zeros(n, 2)\n",
    "    rewards[i] = torch.zeros(n, 1)\n",
    "end \n",
    "\n",
    "for epoch=1, nepochs do\n",
    "    --- Reset things at the start of each epoch\n",
    "    for i=1, n_s do\n",
    "        qPreds[i]:fill(0)\n",
    "        qValues[i]:fill(0)\n",
    "        qActions[i]:fill(0)\n",
    "        rewards[i]:fill(0)\n",
    "        totalPredsummary:fill(0)\n",
    "    end\n",
    "\n",
    "    for i=1, n_s do\n",
    "        if torch.uniform(0, 1) <= epsilon then \n",
    "            qPreds[i]:copy(torch.rand(n, 2))\n",
    "            -- Need to run a forward pass for the backward to work...wonky\n",
    "            ignore = model:forward({sentences[i], queries, totalPredsummary})\n",
    "        else \n",
    "            qPreds[i]:copy(model:forward({sentences[i], queries, totalPredsummary}) )\n",
    "        end \n",
    "        if fast then \n",
    "            qMax, qindx = torch.max(qPreds[i], 2)  -- Pulling the best actions\n",
    "            -- Here's the fast way to select the optimal action for each query\n",
    "            qActions[i]:copy(qActions[i]:scatter(2, qindx, torch.ones(qPreds[i]:size())):clone())\n",
    "            qValues[i]:copy(qMax)\n",
    "            predsummary = buildPredsummaryFast(qActions[i], sentences[i], SELECT)\n",
    "            buildTotalSummaryFast(predsummary, totalPredsummary)\n",
    "        else \n",
    "            for j=1, n do\n",
    "                if qPreds[i][j][SELECT] > qPreds[i][j][SKIP] then\n",
    "                    qActions[i][j][SELECT] = 1\n",
    "                    qValues[i][j]:fill(qPreds[i][j][SELECT])\n",
    "                else\n",
    "                    qActions[i][j][SKIP] = 1\n",
    "                    qValues[i][j]:fill(qPreds[i][j][SKIP])\n",
    "                end\n",
    "            end\n",
    "            predsummary = buildPredsummary(qActions[i], sentences[i], SELECT)\n",
    "            buildTotalSummary(predsummary, totalPredsummary)\n",
    "        end\n",
    "        for j = 1, n do\n",
    "            recall, prec, f1 = rougeScores( qTokens[j],\n",
    "                                            Tokenize(totalPredsummary[j]:totable()))\n",
    "            rewards[i][j]:fill(f1)\n",
    "        end\n",
    "        if i > 1 then\n",
    "            -- Calculating change in rougue f1\n",
    "            rewards[i]:copy(rewards[i] - rewards[i-1])\n",
    "        end\n",
    "        -- Update memory sequentially until it's full \n",
    "        qActionMemory[{{n * (i-1) + 1, n * i}}]:copy(qActions[i])\n",
    "        predSummaryMemory[{{n * (i-1) + 1, n * i}}]:copy(totalPredsummary)\n",
    "        sentenceMemory[{{n * (i-1) + 1, n * i}}]:copy(sentences[i])\n",
    "        qPredsMemory[{{n * (i-1) + 1, n * i}}]:copy(qPreds[i])\n",
    "        qValuesMemory[{{n * (i-1) + 1, n * i}}]:copy(qValues[i])\n",
    "        queryMemory[{{n * (i-1) + 1, n * i}}]:copy(queries)\n",
    "    end\n",
    "    for i=1, n_s do\n",
    "        if i  < n_s then\n",
    "            rewardMemory[{{n * (i-1) + 1, n * i}}]:copy(rewards[i] + gamma * rewards[i + 1] )\n",
    "        else\n",
    "            rewardMemory[{{n * (i-1) + 1, n * i}}]:copy(rewards[i] )\n",
    "        end\n",
    "    end\n",
    "    -- Adding back the delta for the last one\n",
    "    rouguef1[epoch] = (rewards[n_s] + rewards[ n_s - 1] ):mean()\n",
    "\n",
    "    loss = {}\n",
    "    local dataloader = dl.TensorLoader({queryMemory, sentenceMemory, predSummaryMemory, \n",
    "                            qPredsMemory, qActionMemory, qValuesMemory}, rewardMemory)\n",
    "    c = 1\n",
    "    for k, xin, reward in dataloader:sampleiter(batch_size, memsize) do\n",
    "        local function feval(params)\n",
    "            gradParams:zero()\n",
    "            if adapt then\n",
    "                local ignore = model:forward({xin[1], xin[2], xin[3]})\n",
    "                local predQOnActions = maskLayer:forward({qPredsMemory, actions_in}) \n",
    "                local ones = torch.ones(predQ:size(1)):resize(predQ:size(1))\n",
    "                lossf = criterion:forward({qValuesMemory, predReg}, {reward, ones})\n",
    "                local gradOutput = criterion:backward({qActionMemory, predReg}, {reward, ones})\n",
    "                local gradMaskLayer = maskLayer:backward({qPredsMemory, qActionMemory}, gradOutput[1])\n",
    "                model:backward({xin[1], xin[2], xin[3]}, {gradMaskLayer[1], gradOutput[2]})\n",
    "            else \n",
    "                local ignore = model:forward({xin[1], xin[2], xin[3]})\n",
    "                local predQOnActions = maskLayer:forward({xin[4], xin[5]:byte()}) \n",
    "                lossf = criterion:forward(predQOnActions, reward)\n",
    "                local gradOutput = criterion:backward(predQOnActions, reward)\n",
    "                local gradMaskLayer = maskLayer:backward({xin[4], xin[5]:byte()}, gradOutput)\n",
    "                model:backward({xin[1], xin[2], xin[3]}, gradMaskLayer[1])\n",
    "            end \n",
    "            return lossf, gradParams\n",
    "        end\n",
    "        --- optim.rmsprop returns \\theta, f(\\theta):= loss function\n",
    "         _, lossv  = optim.rmsprop(feval, params, optimParams)\n",
    "        loss[c] = lossv[1]\n",
    "        c = c + 1\n",
    "    end\n",
    "\n",
    "    lossfull[epoch] = torch.Tensor(loss):sum() / #lossv\n",
    "    if print_perf then\n",
    "        print(\n",
    "            string.format('epoch = %i; rougue = %.6f; epsilon = %.6f; loss = %.6f' , \n",
    "                epoch, rouguef1[epoch], epsilon, lossfull[epoch])\n",
    "            )\n",
    "    end\n",
    "\n",
    "    if (epsilon - delta) <= base_explore_rate then\n",
    "        epsilon = base_explore_rate\n",
    "        if epoch > end_baserate then \n",
    "            base_explore_rate = 0.\n",
    "        end\n",
    "    else \n",
    "        epsilon = epsilon - delta\n",
    "    end\n",
    "    \n",
    "end"
   ]
  },
  {
   "cell_type": "code",
   "execution_count": 11,
   "metadata": {
    "collapsed": false,
    "scrolled": false
   },
   "outputs": [
    {
     "data": {
      "text/html": [
       "<script type=\"text/javascript\">\n",
       "$(function() {\n",
       "    if (typeof (window._bokeh_onload_callbacks) === \"undefined\"){\n",
       "  window._bokeh_onload_callbacks = [];\n",
       "    }\n",
       "    function load_lib(url, callback){\n",
       "  window._bokeh_onload_callbacks.push(callback);\n",
       "  if (window._bokeh_is_loading){\n",
       "      console.log(\"Bokeh: BokehJS is being loaded, scheduling callback at\", new Date());\n",
       "      return null;\n",
       "  }\n",
       "  console.log(\"Bokeh: BokehJS not loaded, scheduling load and callback at\", new Date());\n",
       "  window._bokeh_is_loading = true;\n",
       "  var s = document.createElement('script');\n",
       "  s.src = url;\n",
       "  s.async = true;\n",
       "  s.onreadystatechange = s.onload = function(){\n",
       "      Bokeh.embed.inject_css(\"https://cdn.pydata.org/bokeh-0.7.0.min.css\");\n",
       "      window._bokeh_onload_callbacks.forEach(function(callback){callback()});\n",
       "  };\n",
       "  s.onerror = function(){\n",
       "      console.warn(\"failed to load library \" + url);\n",
       "  };\n",
       "  document.getElementsByTagName(\"head\")[0].appendChild(s);\n",
       "    }\n",
       "\n",
       "    bokehjs_url = \"https://cdn.pydata.org/bokeh-0.7.0.min.js\"\n",
       "\n",
       "    var elt = document.getElementById(\"e4375cef-c895-46d0-c6a9-fab205519e72\");\n",
       "    if(elt==null) {\n",
       "  console.log(\"Bokeh: ERROR: autoload.js configured with elementid 'e4375cef-c895-46d0-c6a9-fab205519e72'\"\n",
       "        + \"but no matching script tag was found. \")\n",
       "  return false;\n",
       "    }\n",
       "\n",
       "    if(typeof(Bokeh) !== \"undefined\") {\n",
       "  console.log(\"Bokeh: BokehJS loaded, going straight to plotting\");\n",
       "  var modelid = \"bc15cc70-ce9e-41f7-c15e-cf43818825f6\";\n",
       "  var modeltype = \"Plot\";\n",
       "  var all_models = [{\"id\":\"f58a716c-0919-4ed1-ce81-4532f5591c71\",\"type\":\"ColumnDataSource\",\"attributes\":{\"data\":{\"y\":[0.28066409150365,0.17768825150818,0.27035168183997,0.3297894955114,0.53483594041371,0.2427162817504,0.2852295898352,0.41035461272183,0.3216410522239,0.45595771533674,0.55231274523297,0.14275555503694,0.1085139514068,0.12019041532874,0.33899782897779,0.14849102982915,0.40651121323914,0.17220151915723,0.32474366229827,0.29018939383711,0.096188478019562,0.43740506905043,0.12918347392304,0.32211716760693,0.21694576802256,0.084970758591942,0.14188602356949,0.065470877143615,0.34743378385071,0.16221919029132,0.27290704155301,0.39375933618075,0.078580804811963,0.098209466664503,0.1293530459042,0.13390139181413,0.38259114908578,0.11786916849628,0.09903468562179,0.32558282738802,0.11197835433386,0.088543929151906,0.18164975441162,0.046338805910866,0.20028540885546,0.12168247555335,0.095471466810777,0.24988455570764,0.28733402288021,0.19844128260164,0.10404874376635,0.086502489688222,0.015967789760954,0.095968271576754,0.14246990117751,0.21832444251397,0.0014143585797134,0.058989905543836,0.068729184226252,0.12472241974724,0.11906881688275,0.0010567227821585,0.0013348914284907,0.26124054605163,0.00074116556666413,0.007265530726278,0.15488135642127,0.0011182291910722,0.00082384568451015,0.0013527594033216,0.068355337796252,0.031425338288348,0.1408264784188,0.044905149182029,0.034136802301424,0.0012491768174281,0.052359417492812,0.00093296192164443,0.047698169245289,0.045617843567524,0.00086485388149137,0.061214416973591,0.014501649459846,0.00054659713276732,0.00076779977143569,0.13328438474304,0.00086136110303679,0.00074870832688543,0.00055304795383486,0.20865683344801,0.013282484240441,0.00070952369082242,0.051875213683604,0.0011308705695538,0.00065290222280369,0.097150570455287,0.10152398373679,0.0010930858655656,0.090557367075027,0.00065521676504244,0.082370711969668,0.016661071595225,0.0011193944625258,0.00081313714781518,0.018675498985134,0.00047506181521769,0.079323160994886,0.0012269579310303,0.0010324143620039,0.00074360213326076,0.067232076251627,0.00089378122011069,0.00087710407286202,0.065242646370434,0.00097822911659252,0.029952332422113,0.060125325699333,0.19483159529964,0.035911252376594,0.0011277365647988,0.001080701620655,0.0012848601229253,0.045584543615899,0.16726385751052,0.00082277894930088,0.10324919426179,0.0010363317187327,0.044710527209834,0.00072934102811452,0.1551660669831,0.0011309014295133,0.0013219919179137,0.05258819886076,0.0011005393065302,0.0015722102117136,0.0014961299165692,0.00052560658401311,0.018452705792221,0.00098405672325797,0.0013580059660859,0.18875349221551,0.034808561768562,0.045923514394487,0.064309785838186,0.0010983365522512,0.036246470884851,0.090060354058786,0.20146347322954,0.048726257381894,0.0069743571235643,0.0010578765073338,0.088890825730188,0.0012314173696888,0.0067021670270194,0.0012016964339344,0.12835455085631,0.066857884113678,0.054078328755423,0.16778829811126,0.0015005869103514,0.13954379372487,0.10108611734127,0.088071972046711,0.17286338608412,0.07402365224167,0.00085879713561631,0.036671820122426,0.037194578394472,0.018648174825564,0.00095113567651251,0.00093050122251322,0.057049749710355,0.0010231582635933,0.07331306734329,0.00099316100179805,0.0012055090475658,0.078314680343661,0.02912277401879,0.00088914006774895,0.020865292591212,0.090966865044094,0.06969442977199,0.11349988079169,0.0010605283439339,0.059801037344067,0.058753625153491,0.089851580786809,0.16191288646465,0.15657136519005,0.0010330792976932,0.02858187499452,0.25812418691383,0.057080054408238,0.087132557601166,0.0015621052885036,0.0009342516421808,0.0011050079866923,0.014689251697712,0.00094436035338068,0.046190937975724,0.00079230667463458,0.00078018729638216,0.0010162191679403,0.029373432609779,0.0012024909802454,0.00060166300331584,0.12908779426238,0.0010950454459982,0.10701455872625,0.067679964943697,0.059208457507039,0.00083878011300351,0.02050828270373,0.0013378145428133,0.017493638552646,0.052003844219291,0.00083975306532976,0.00073206394672713,0.32758673912111,0.10574222808584,0.001117224569385,0.24168338045085,0.11426140239207,0.0011520408889453,0.00082314756518316,0.00092505726718854,0.00077533300440628,0.00093549124562266,0.21564575971447,0.0012306027799378,0.00093572795640707,0.15825146209657,0.056894554642251,0.00097095008369467,0.0011914473040646,0.013180750231801,0.13246649193101,0.0079930146429395,0.00089253123893633,0.033489886245617,0.19857115257601,0.0010292620762716,0.16123575831744,0.17317025620364,0.0011822782377871,0.00074529758521073,0.066815894106768,0.0010260183441211,0.00071285222451417,0.0010093326152734,0.0012696686455082,0.0012086212167794,0.001025894334114,0.0011012112333997,0.0012921886428278,0.00079524613152498,0.00069125781869327,0.0011053216273015,0.0009955946795399,0.0011405511081563,0.0010906572328845,0.0011042524365087,0.001134432549766,0.0011147988064611,0.0011682926054251,0.001026146671,0.00098730570620264,0.00068997506933337,0.00093405568841217,0.00076003369972451,0.00096708370974878,0.0009105402621933,0.00091287031651229,0.0013608577521033,0.0012862706413546,0.00083125886615903,0.00072708451039161,0.0010172888438168,0.00086013063337345,0.0013060760626618,0.0010573530531591,0.00072390180957831,0.0014614886733889,0.00065928395847625,0.0012340068676702,0.0011694293217848,0.0011098252321961,0.0011293785561857,0.00091107939773327,0.0008200249847452,0.0018393024451136,0.0008290383131077,0.0010666553916472,0.00097870550060609,0.0010211749009143,0.00086500546444137,0.00077858913645777,0.00086358948258396,0.0012250175079869,0.00098000270988249],\"x\":[1,2,3,4,5,6,7,8,9,10,11,12,13,14,15,16,17,18,19,20,21,22,23,24,25,26,27,28,29,30,31,32,33,34,35,36,37,38,39,40,41,42,43,44,45,46,47,48,49,50,51,52,53,54,55,56,57,58,59,60,61,62,63,64,65,66,67,68,69,70,71,72,73,74,75,76,77,78,79,80,81,82,83,84,85,86,87,88,89,90,91,92,93,94,95,96,97,98,99,100,101,102,103,104,105,106,107,108,109,110,111,112,113,114,115,116,117,118,119,120,121,122,123,124,125,126,127,128,129,130,131,132,133,134,135,136,137,138,139,140,141,142,143,144,145,146,147,148,149,150,151,152,153,154,155,156,157,158,159,160,161,162,163,164,165,166,167,168,169,170,171,172,173,174,175,176,177,178,179,180,181,182,183,184,185,186,187,188,189,190,191,192,193,194,195,196,197,198,199,200,201,202,203,204,205,206,207,208,209,210,211,212,213,214,215,216,217,218,219,220,221,222,223,224,225,226,227,228,229,230,231,232,233,234,235,236,237,238,239,240,241,242,243,244,245,246,247,248,249,250,251,252,253,254,255,256,257,258,259,260,261,262,263,264,265,266,267,268,269,270,271,272,273,274,275,276,277,278,279,280,281,282,283,284,285,286,287,288,289,290,291,292,293,294,295,296,297,298,299,300]},\"column_names\":[\"y\",\"x\"],\"cont_ranges\":{},\"discrete_ranges\":{},\"selected\":[],\"id\":\"f58a716c-0919-4ed1-ce81-4532f5591c71\",\"doc\":null,\"tags\":[]}},{\"id\":\"7d0e3034-00f9-433f-c303-8ee9f15f43eb\",\"type\":\"Line\",\"attributes\":{\"fill_alpha\":{\"units\":\"data\",\"value\":0.2},\"line_alpha\":{\"units\":\"data\",\"value\":1},\"doc\":null,\"size\":{\"units\":\"screen\",\"value\":10},\"fill_color\":{\"value\":\"red\"},\"line_color\":{\"value\":\"red\"},\"x\":{\"units\":\"data\",\"field\":\"x\"},\"id\":\"7d0e3034-00f9-433f-c303-8ee9f15f43eb\",\"y\":{\"units\":\"data\",\"field\":\"y\"},\"tags\":[]}},{\"id\":\"3f6751a2-733b-4934-c931-1d1d86374e94\",\"type\":\"Line\",\"attributes\":{\"fill_alpha\":{\"units\":\"data\",\"value\":0.2},\"line_alpha\":{\"units\":\"data\",\"value\":1},\"doc\":null,\"size\":{\"units\":\"screen\",\"value\":10},\"fill_color\":{\"value\":\"red\"},\"line_color\":{\"value\":\"red\"},\"x\":{\"units\":\"data\",\"field\":\"x\"},\"id\":\"3f6751a2-733b-4934-c931-1d1d86374e94\",\"y\":{\"units\":\"data\",\"field\":\"y\"},\"tags\":[]}},{\"id\":\"916b9db1-7745-489e-c89f-1f690cc20823\",\"type\":\"GlyphRenderer\",\"attributes\":{\"name\":null,\"nonselection_glyph\":{\"type\":\"Line\",\"id\":\"3f6751a2-733b-4934-c931-1d1d86374e94\"},\"doc\":null,\"server_data_source\":null,\"data_source\":{\"type\":\"ColumnDataSource\",\"id\":\"f58a716c-0919-4ed1-ce81-4532f5591c71\"},\"glyph\":{\"type\":\"Line\",\"id\":\"7d0e3034-00f9-433f-c303-8ee9f15f43eb\"},\"selection_glyph\":null,\"id\":\"916b9db1-7745-489e-c89f-1f690cc20823\",\"tags\":[]}},{\"id\":\"1abaa17f-bd72-4876-c83c-1f031df8990d\",\"type\":\"DataRange1d\",\"attributes\":{\"sources\":[{\"columns\":[\"x\"],\"source\":{\"type\":\"ColumnDataSource\",\"id\":\"f58a716c-0919-4ed1-ce81-4532f5591c71\"}}],\"id\":\"1abaa17f-bd72-4876-c83c-1f031df8990d\",\"tags\":[],\"doc\":null}},{\"id\":\"6b9474d1-8d60-4850-c806-e7a23f5fff7f\",\"type\":\"DataRange1d\",\"attributes\":{\"sources\":[{\"columns\":[\"y\"],\"source\":{\"type\":\"ColumnDataSource\",\"id\":\"f58a716c-0919-4ed1-ce81-4532f5591c71\"}}],\"id\":\"6b9474d1-8d60-4850-c806-e7a23f5fff7f\",\"tags\":[],\"doc\":null}},{\"id\":\"a49f8f88-172c-43fc-c36e-1e4be944b303\",\"type\":\"ToolEvents\",\"attributes\":{\"tags\":[],\"id\":\"a49f8f88-172c-43fc-c36e-1e4be944b303\",\"geometries\":[],\"doc\":null}},{\"id\":\"4c92973d-d7fe-41e5-c1dd-b80d028b6905\",\"type\":\"BasicTickFormatter\",\"attributes\":{\"id\":\"4c92973d-d7fe-41e5-c1dd-b80d028b6905\",\"tags\":[],\"doc\":null}},{\"id\":\"c1b533d8-3c18-4cdd-cc47-403647fe1018\",\"type\":\"BasicTicker\",\"attributes\":{\"num_minor_ticks\":5,\"id\":\"c1b533d8-3c18-4cdd-cc47-403647fe1018\",\"tags\":[],\"doc\":null}},{\"id\":\"f7004df0-ddf7-4d03-cdb8-4fa1de6e3bcf\",\"type\":\"LinearAxis\",\"attributes\":{\"formatter\":{\"type\":\"BasicTickFormatter\",\"id\":\"4c92973d-d7fe-41e5-c1dd-b80d028b6905\"},\"ticker\":{\"type\":\"BasicTicker\",\"id\":\"c1b533d8-3c18-4cdd-cc47-403647fe1018\"},\"plot\":{\"id\":\"bc15cc70-ce9e-41f7-c15e-cf43818825f6\",\"type\":\"Plot\",\"subtype\":\"Figure\"},\"axis_label\":null,\"id\":\"f7004df0-ddf7-4d03-cdb8-4fa1de6e3bcf\",\"doc\":null,\"tags\":[]}},{\"id\":\"fc73a7e6-7404-4f02-cf0e-21bbb4c021ef\",\"type\":\"Grid\",\"attributes\":{\"dimension\":0,\"plot\":{\"id\":\"bc15cc70-ce9e-41f7-c15e-cf43818825f6\",\"type\":\"Plot\",\"subtype\":\"Figure\"},\"ticker\":{\"type\":\"BasicTicker\",\"id\":\"c1b533d8-3c18-4cdd-cc47-403647fe1018\"},\"id\":\"fc73a7e6-7404-4f02-cf0e-21bbb4c021ef\",\"doc\":null,\"tags\":[]}},{\"id\":\"3341b4ae-cbb7-4b06-cb09-af6b68284b67\",\"type\":\"BasicTickFormatter\",\"attributes\":{\"id\":\"3341b4ae-cbb7-4b06-cb09-af6b68284b67\",\"tags\":[],\"doc\":null}},{\"id\":\"4790005a-184c-44cd-c430-d44d8e4487c9\",\"type\":\"BasicTicker\",\"attributes\":{\"num_minor_ticks\":5,\"id\":\"4790005a-184c-44cd-c430-d44d8e4487c9\",\"tags\":[],\"doc\":null}},{\"id\":\"851d1b8b-11ef-4d4f-cd56-15c4c5291a50\",\"type\":\"LinearAxis\",\"attributes\":{\"formatter\":{\"type\":\"BasicTickFormatter\",\"id\":\"3341b4ae-cbb7-4b06-cb09-af6b68284b67\"},\"ticker\":{\"type\":\"BasicTicker\",\"id\":\"4790005a-184c-44cd-c430-d44d8e4487c9\"},\"plot\":{\"id\":\"bc15cc70-ce9e-41f7-c15e-cf43818825f6\",\"type\":\"Plot\",\"subtype\":\"Figure\"},\"axis_label\":null,\"id\":\"851d1b8b-11ef-4d4f-cd56-15c4c5291a50\",\"doc\":null,\"tags\":[]}},{\"id\":\"edb83bf6-05e3-44b6-c4a2-4de8e78dc2eb\",\"type\":\"Grid\",\"attributes\":{\"dimension\":1,\"plot\":{\"id\":\"bc15cc70-ce9e-41f7-c15e-cf43818825f6\",\"type\":\"Plot\",\"subtype\":\"Figure\"},\"ticker\":{\"type\":\"BasicTicker\",\"id\":\"4790005a-184c-44cd-c430-d44d8e4487c9\"},\"id\":\"edb83bf6-05e3-44b6-c4a2-4de8e78dc2eb\",\"doc\":null,\"tags\":[]}},{\"id\":\"9ad64c8d-0dc1-490d-c9da-0dd82bac1e91\",\"type\":\"PanTool\",\"attributes\":{\"plot\":{\"id\":\"bc15cc70-ce9e-41f7-c15e-cf43818825f6\",\"type\":\"Plot\",\"subtype\":\"Figure\"},\"dimensions\":[\"width\",\"height\"],\"id\":\"9ad64c8d-0dc1-490d-c9da-0dd82bac1e91\",\"doc\":null,\"tags\":[]}},{\"id\":\"88fe02b4-c305-4443-c4bc-51a48e8ab53c\",\"type\":\"WheelZoomTool\",\"attributes\":{\"plot\":{\"id\":\"bc15cc70-ce9e-41f7-c15e-cf43818825f6\",\"type\":\"Plot\",\"subtype\":\"Figure\"},\"dimensions\":[\"width\",\"height\"],\"id\":\"88fe02b4-c305-4443-c4bc-51a48e8ab53c\",\"doc\":null,\"tags\":[]}},{\"id\":\"3de3aa81-2bc2-4514-c55b-552a597be5ee\",\"type\":\"BoxZoomTool\",\"attributes\":{\"plot\":{\"id\":\"bc15cc70-ce9e-41f7-c15e-cf43818825f6\",\"type\":\"Plot\",\"subtype\":\"Figure\"},\"id\":\"3de3aa81-2bc2-4514-c55b-552a597be5ee\",\"tags\":[],\"doc\":null}},{\"id\":\"30478146-1415-43bc-c354-2f11b7f63741\",\"type\":\"PreviewSaveTool\",\"attributes\":{\"plot\":{\"id\":\"bc15cc70-ce9e-41f7-c15e-cf43818825f6\",\"type\":\"Plot\",\"subtype\":\"Figure\"},\"id\":\"30478146-1415-43bc-c354-2f11b7f63741\",\"tags\":[],\"doc\":null}},{\"id\":\"67fedde7-77f3-4be4-cbee-f8d7e302e1f3\",\"type\":\"ResizeTool\",\"attributes\":{\"plot\":{\"id\":\"bc15cc70-ce9e-41f7-c15e-cf43818825f6\",\"type\":\"Plot\",\"subtype\":\"Figure\"},\"id\":\"67fedde7-77f3-4be4-cbee-f8d7e302e1f3\",\"tags\":[],\"doc\":null}},{\"id\":\"bf1c741c-5060-4927-c9b9-07391de6e8a4\",\"type\":\"ResetTool\",\"attributes\":{\"plot\":{\"id\":\"bc15cc70-ce9e-41f7-c15e-cf43818825f6\",\"type\":\"Plot\",\"subtype\":\"Figure\"},\"id\":\"bf1c741c-5060-4927-c9b9-07391de6e8a4\",\"tags\":[],\"doc\":null}},{\"id\":\"bc15cc70-ce9e-41f7-c15e-cf43818825f6\",\"type\":\"Plot\",\"attributes\":{\"x_range\":{\"type\":\"DataRange1d\",\"id\":\"1abaa17f-bd72-4876-c83c-1f031df8990d\"},\"tool_events\":{\"type\":\"ToolEvents\",\"id\":\"a49f8f88-172c-43fc-c36e-1e4be944b303\"},\"below\":[{\"type\":\"LinearAxis\",\"id\":\"f7004df0-ddf7-4d03-cdb8-4fa1de6e3bcf\"}],\"renderers\":[{\"type\":\"GlyphRenderer\",\"id\":\"916b9db1-7745-489e-c89f-1f690cc20823\"},{\"type\":\"LinearAxis\",\"id\":\"f7004df0-ddf7-4d03-cdb8-4fa1de6e3bcf\"},{\"type\":\"Grid\",\"id\":\"fc73a7e6-7404-4f02-cf0e-21bbb4c021ef\"},{\"type\":\"LinearAxis\",\"id\":\"851d1b8b-11ef-4d4f-cd56-15c4c5291a50\"},{\"type\":\"Grid\",\"id\":\"edb83bf6-05e3-44b6-c4a2-4de8e78dc2eb\"}],\"above\":[],\"tools\":[{\"type\":\"PanTool\",\"id\":\"9ad64c8d-0dc1-490d-c9da-0dd82bac1e91\"},{\"type\":\"WheelZoomTool\",\"id\":\"88fe02b4-c305-4443-c4bc-51a48e8ab53c\"},{\"type\":\"BoxZoomTool\",\"id\":\"3de3aa81-2bc2-4514-c55b-552a597be5ee\"},{\"type\":\"PreviewSaveTool\",\"id\":\"30478146-1415-43bc-c354-2f11b7f63741\"},{\"type\":\"ResizeTool\",\"id\":\"67fedde7-77f3-4be4-cbee-f8d7e302e1f3\"},{\"type\":\"ResetTool\",\"id\":\"bf1c741c-5060-4927-c9b9-07391de6e8a4\"}],\"doc\":null,\"right\":[],\"title\":\"Plot of loss\",\"extra_x_ranges\":{},\"left\":[{\"type\":\"LinearAxis\",\"id\":\"851d1b8b-11ef-4d4f-cd56-15c4c5291a50\"}],\"y_range\":{\"type\":\"DataRange1d\",\"id\":\"6b9474d1-8d60-4850-c806-e7a23f5fff7f\"},\"id\":\"bc15cc70-ce9e-41f7-c15e-cf43818825f6\",\"extra_y_ranges\":{},\"tags\":[]}}];\n",
       "  Bokeh.load_models(all_models);\n",
       "  var model = Bokeh.Collections(modeltype).get(modelid);\n",
       "  $(\"#e4375cef-c895-46d0-c6a9-fab205519e72\").html(''); // clear any previous plot in window_id\n",
       "  var view = new model.default_view({model: model, el: \"#e4375cef-c895-46d0-c6a9-fab205519e72\"});\n",
       "    } else {\n",
       "  load_lib(bokehjs_url, function() {\n",
       "      console.log(\"Bokeh: BokehJS plotting callback run at\", new Date())\n",
       "      var modelid = \"bc15cc70-ce9e-41f7-c15e-cf43818825f6\";\n",
       "      var modeltype = \"Plot\";\n",
       "      var all_models = [{\"id\":\"f58a716c-0919-4ed1-ce81-4532f5591c71\",\"type\":\"ColumnDataSource\",\"attributes\":{\"data\":{\"y\":[0.28066409150365,0.17768825150818,0.27035168183997,0.3297894955114,0.53483594041371,0.2427162817504,0.2852295898352,0.41035461272183,0.3216410522239,0.45595771533674,0.55231274523297,0.14275555503694,0.1085139514068,0.12019041532874,0.33899782897779,0.14849102982915,0.40651121323914,0.17220151915723,0.32474366229827,0.29018939383711,0.096188478019562,0.43740506905043,0.12918347392304,0.32211716760693,0.21694576802256,0.084970758591942,0.14188602356949,0.065470877143615,0.34743378385071,0.16221919029132,0.27290704155301,0.39375933618075,0.078580804811963,0.098209466664503,0.1293530459042,0.13390139181413,0.38259114908578,0.11786916849628,0.09903468562179,0.32558282738802,0.11197835433386,0.088543929151906,0.18164975441162,0.046338805910866,0.20028540885546,0.12168247555335,0.095471466810777,0.24988455570764,0.28733402288021,0.19844128260164,0.10404874376635,0.086502489688222,0.015967789760954,0.095968271576754,0.14246990117751,0.21832444251397,0.0014143585797134,0.058989905543836,0.068729184226252,0.12472241974724,0.11906881688275,0.0010567227821585,0.0013348914284907,0.26124054605163,0.00074116556666413,0.007265530726278,0.15488135642127,0.0011182291910722,0.00082384568451015,0.0013527594033216,0.068355337796252,0.031425338288348,0.1408264784188,0.044905149182029,0.034136802301424,0.0012491768174281,0.052359417492812,0.00093296192164443,0.047698169245289,0.045617843567524,0.00086485388149137,0.061214416973591,0.014501649459846,0.00054659713276732,0.00076779977143569,0.13328438474304,0.00086136110303679,0.00074870832688543,0.00055304795383486,0.20865683344801,0.013282484240441,0.00070952369082242,0.051875213683604,0.0011308705695538,0.00065290222280369,0.097150570455287,0.10152398373679,0.0010930858655656,0.090557367075027,0.00065521676504244,0.082370711969668,0.016661071595225,0.0011193944625258,0.00081313714781518,0.018675498985134,0.00047506181521769,0.079323160994886,0.0012269579310303,0.0010324143620039,0.00074360213326076,0.067232076251627,0.00089378122011069,0.00087710407286202,0.065242646370434,0.00097822911659252,0.029952332422113,0.060125325699333,0.19483159529964,0.035911252376594,0.0011277365647988,0.001080701620655,0.0012848601229253,0.045584543615899,0.16726385751052,0.00082277894930088,0.10324919426179,0.0010363317187327,0.044710527209834,0.00072934102811452,0.1551660669831,0.0011309014295133,0.0013219919179137,0.05258819886076,0.0011005393065302,0.0015722102117136,0.0014961299165692,0.00052560658401311,0.018452705792221,0.00098405672325797,0.0013580059660859,0.18875349221551,0.034808561768562,0.045923514394487,0.064309785838186,0.0010983365522512,0.036246470884851,0.090060354058786,0.20146347322954,0.048726257381894,0.0069743571235643,0.0010578765073338,0.088890825730188,0.0012314173696888,0.0067021670270194,0.0012016964339344,0.12835455085631,0.066857884113678,0.054078328755423,0.16778829811126,0.0015005869103514,0.13954379372487,0.10108611734127,0.088071972046711,0.17286338608412,0.07402365224167,0.00085879713561631,0.036671820122426,0.037194578394472,0.018648174825564,0.00095113567651251,0.00093050122251322,0.057049749710355,0.0010231582635933,0.07331306734329,0.00099316100179805,0.0012055090475658,0.078314680343661,0.02912277401879,0.00088914006774895,0.020865292591212,0.090966865044094,0.06969442977199,0.11349988079169,0.0010605283439339,0.059801037344067,0.058753625153491,0.089851580786809,0.16191288646465,0.15657136519005,0.0010330792976932,0.02858187499452,0.25812418691383,0.057080054408238,0.087132557601166,0.0015621052885036,0.0009342516421808,0.0011050079866923,0.014689251697712,0.00094436035338068,0.046190937975724,0.00079230667463458,0.00078018729638216,0.0010162191679403,0.029373432609779,0.0012024909802454,0.00060166300331584,0.12908779426238,0.0010950454459982,0.10701455872625,0.067679964943697,0.059208457507039,0.00083878011300351,0.02050828270373,0.0013378145428133,0.017493638552646,0.052003844219291,0.00083975306532976,0.00073206394672713,0.32758673912111,0.10574222808584,0.001117224569385,0.24168338045085,0.11426140239207,0.0011520408889453,0.00082314756518316,0.00092505726718854,0.00077533300440628,0.00093549124562266,0.21564575971447,0.0012306027799378,0.00093572795640707,0.15825146209657,0.056894554642251,0.00097095008369467,0.0011914473040646,0.013180750231801,0.13246649193101,0.0079930146429395,0.00089253123893633,0.033489886245617,0.19857115257601,0.0010292620762716,0.16123575831744,0.17317025620364,0.0011822782377871,0.00074529758521073,0.066815894106768,0.0010260183441211,0.00071285222451417,0.0010093326152734,0.0012696686455082,0.0012086212167794,0.001025894334114,0.0011012112333997,0.0012921886428278,0.00079524613152498,0.00069125781869327,0.0011053216273015,0.0009955946795399,0.0011405511081563,0.0010906572328845,0.0011042524365087,0.001134432549766,0.0011147988064611,0.0011682926054251,0.001026146671,0.00098730570620264,0.00068997506933337,0.00093405568841217,0.00076003369972451,0.00096708370974878,0.0009105402621933,0.00091287031651229,0.0013608577521033,0.0012862706413546,0.00083125886615903,0.00072708451039161,0.0010172888438168,0.00086013063337345,0.0013060760626618,0.0010573530531591,0.00072390180957831,0.0014614886733889,0.00065928395847625,0.0012340068676702,0.0011694293217848,0.0011098252321961,0.0011293785561857,0.00091107939773327,0.0008200249847452,0.0018393024451136,0.0008290383131077,0.0010666553916472,0.00097870550060609,0.0010211749009143,0.00086500546444137,0.00077858913645777,0.00086358948258396,0.0012250175079869,0.00098000270988249],\"x\":[1,2,3,4,5,6,7,8,9,10,11,12,13,14,15,16,17,18,19,20,21,22,23,24,25,26,27,28,29,30,31,32,33,34,35,36,37,38,39,40,41,42,43,44,45,46,47,48,49,50,51,52,53,54,55,56,57,58,59,60,61,62,63,64,65,66,67,68,69,70,71,72,73,74,75,76,77,78,79,80,81,82,83,84,85,86,87,88,89,90,91,92,93,94,95,96,97,98,99,100,101,102,103,104,105,106,107,108,109,110,111,112,113,114,115,116,117,118,119,120,121,122,123,124,125,126,127,128,129,130,131,132,133,134,135,136,137,138,139,140,141,142,143,144,145,146,147,148,149,150,151,152,153,154,155,156,157,158,159,160,161,162,163,164,165,166,167,168,169,170,171,172,173,174,175,176,177,178,179,180,181,182,183,184,185,186,187,188,189,190,191,192,193,194,195,196,197,198,199,200,201,202,203,204,205,206,207,208,209,210,211,212,213,214,215,216,217,218,219,220,221,222,223,224,225,226,227,228,229,230,231,232,233,234,235,236,237,238,239,240,241,242,243,244,245,246,247,248,249,250,251,252,253,254,255,256,257,258,259,260,261,262,263,264,265,266,267,268,269,270,271,272,273,274,275,276,277,278,279,280,281,282,283,284,285,286,287,288,289,290,291,292,293,294,295,296,297,298,299,300]},\"column_names\":[\"y\",\"x\"],\"cont_ranges\":{},\"discrete_ranges\":{},\"selected\":[],\"id\":\"f58a716c-0919-4ed1-ce81-4532f5591c71\",\"doc\":null,\"tags\":[]}},{\"id\":\"7d0e3034-00f9-433f-c303-8ee9f15f43eb\",\"type\":\"Line\",\"attributes\":{\"fill_alpha\":{\"units\":\"data\",\"value\":0.2},\"line_alpha\":{\"units\":\"data\",\"value\":1},\"doc\":null,\"size\":{\"units\":\"screen\",\"value\":10},\"fill_color\":{\"value\":\"red\"},\"line_color\":{\"value\":\"red\"},\"x\":{\"units\":\"data\",\"field\":\"x\"},\"id\":\"7d0e3034-00f9-433f-c303-8ee9f15f43eb\",\"y\":{\"units\":\"data\",\"field\":\"y\"},\"tags\":[]}},{\"id\":\"3f6751a2-733b-4934-c931-1d1d86374e94\",\"type\":\"Line\",\"attributes\":{\"fill_alpha\":{\"units\":\"data\",\"value\":0.2},\"line_alpha\":{\"units\":\"data\",\"value\":1},\"doc\":null,\"size\":{\"units\":\"screen\",\"value\":10},\"fill_color\":{\"value\":\"red\"},\"line_color\":{\"value\":\"red\"},\"x\":{\"units\":\"data\",\"field\":\"x\"},\"id\":\"3f6751a2-733b-4934-c931-1d1d86374e94\",\"y\":{\"units\":\"data\",\"field\":\"y\"},\"tags\":[]}},{\"id\":\"916b9db1-7745-489e-c89f-1f690cc20823\",\"type\":\"GlyphRenderer\",\"attributes\":{\"name\":null,\"nonselection_glyph\":{\"type\":\"Line\",\"id\":\"3f6751a2-733b-4934-c931-1d1d86374e94\"},\"doc\":null,\"server_data_source\":null,\"data_source\":{\"type\":\"ColumnDataSource\",\"id\":\"f58a716c-0919-4ed1-ce81-4532f5591c71\"},\"glyph\":{\"type\":\"Line\",\"id\":\"7d0e3034-00f9-433f-c303-8ee9f15f43eb\"},\"selection_glyph\":null,\"id\":\"916b9db1-7745-489e-c89f-1f690cc20823\",\"tags\":[]}},{\"id\":\"1abaa17f-bd72-4876-c83c-1f031df8990d\",\"type\":\"DataRange1d\",\"attributes\":{\"sources\":[{\"columns\":[\"x\"],\"source\":{\"type\":\"ColumnDataSource\",\"id\":\"f58a716c-0919-4ed1-ce81-4532f5591c71\"}}],\"id\":\"1abaa17f-bd72-4876-c83c-1f031df8990d\",\"tags\":[],\"doc\":null}},{\"id\":\"6b9474d1-8d60-4850-c806-e7a23f5fff7f\",\"type\":\"DataRange1d\",\"attributes\":{\"sources\":[{\"columns\":[\"y\"],\"source\":{\"type\":\"ColumnDataSource\",\"id\":\"f58a716c-0919-4ed1-ce81-4532f5591c71\"}}],\"id\":\"6b9474d1-8d60-4850-c806-e7a23f5fff7f\",\"tags\":[],\"doc\":null}},{\"id\":\"a49f8f88-172c-43fc-c36e-1e4be944b303\",\"type\":\"ToolEvents\",\"attributes\":{\"tags\":[],\"id\":\"a49f8f88-172c-43fc-c36e-1e4be944b303\",\"geometries\":[],\"doc\":null}},{\"id\":\"4c92973d-d7fe-41e5-c1dd-b80d028b6905\",\"type\":\"BasicTickFormatter\",\"attributes\":{\"id\":\"4c92973d-d7fe-41e5-c1dd-b80d028b6905\",\"tags\":[],\"doc\":null}},{\"id\":\"c1b533d8-3c18-4cdd-cc47-403647fe1018\",\"type\":\"BasicTicker\",\"attributes\":{\"num_minor_ticks\":5,\"id\":\"c1b533d8-3c18-4cdd-cc47-403647fe1018\",\"tags\":[],\"doc\":null}},{\"id\":\"f7004df0-ddf7-4d03-cdb8-4fa1de6e3bcf\",\"type\":\"LinearAxis\",\"attributes\":{\"formatter\":{\"type\":\"BasicTickFormatter\",\"id\":\"4c92973d-d7fe-41e5-c1dd-b80d028b6905\"},\"ticker\":{\"type\":\"BasicTicker\",\"id\":\"c1b533d8-3c18-4cdd-cc47-403647fe1018\"},\"plot\":{\"id\":\"bc15cc70-ce9e-41f7-c15e-cf43818825f6\",\"type\":\"Plot\",\"subtype\":\"Figure\"},\"axis_label\":null,\"id\":\"f7004df0-ddf7-4d03-cdb8-4fa1de6e3bcf\",\"doc\":null,\"tags\":[]}},{\"id\":\"fc73a7e6-7404-4f02-cf0e-21bbb4c021ef\",\"type\":\"Grid\",\"attributes\":{\"dimension\":0,\"plot\":{\"id\":\"bc15cc70-ce9e-41f7-c15e-cf43818825f6\",\"type\":\"Plot\",\"subtype\":\"Figure\"},\"ticker\":{\"type\":\"BasicTicker\",\"id\":\"c1b533d8-3c18-4cdd-cc47-403647fe1018\"},\"id\":\"fc73a7e6-7404-4f02-cf0e-21bbb4c021ef\",\"doc\":null,\"tags\":[]}},{\"id\":\"3341b4ae-cbb7-4b06-cb09-af6b68284b67\",\"type\":\"BasicTickFormatter\",\"attributes\":{\"id\":\"3341b4ae-cbb7-4b06-cb09-af6b68284b67\",\"tags\":[],\"doc\":null}},{\"id\":\"4790005a-184c-44cd-c430-d44d8e4487c9\",\"type\":\"BasicTicker\",\"attributes\":{\"num_minor_ticks\":5,\"id\":\"4790005a-184c-44cd-c430-d44d8e4487c9\",\"tags\":[],\"doc\":null}},{\"id\":\"851d1b8b-11ef-4d4f-cd56-15c4c5291a50\",\"type\":\"LinearAxis\",\"attributes\":{\"formatter\":{\"type\":\"BasicTickFormatter\",\"id\":\"3341b4ae-cbb7-4b06-cb09-af6b68284b67\"},\"ticker\":{\"type\":\"BasicTicker\",\"id\":\"4790005a-184c-44cd-c430-d44d8e4487c9\"},\"plot\":{\"id\":\"bc15cc70-ce9e-41f7-c15e-cf43818825f6\",\"type\":\"Plot\",\"subtype\":\"Figure\"},\"axis_label\":null,\"id\":\"851d1b8b-11ef-4d4f-cd56-15c4c5291a50\",\"doc\":null,\"tags\":[]}},{\"id\":\"edb83bf6-05e3-44b6-c4a2-4de8e78dc2eb\",\"type\":\"Grid\",\"attributes\":{\"dimension\":1,\"plot\":{\"id\":\"bc15cc70-ce9e-41f7-c15e-cf43818825f6\",\"type\":\"Plot\",\"subtype\":\"Figure\"},\"ticker\":{\"type\":\"BasicTicker\",\"id\":\"4790005a-184c-44cd-c430-d44d8e4487c9\"},\"id\":\"edb83bf6-05e3-44b6-c4a2-4de8e78dc2eb\",\"doc\":null,\"tags\":[]}},{\"id\":\"9ad64c8d-0dc1-490d-c9da-0dd82bac1e91\",\"type\":\"PanTool\",\"attributes\":{\"plot\":{\"id\":\"bc15cc70-ce9e-41f7-c15e-cf43818825f6\",\"type\":\"Plot\",\"subtype\":\"Figure\"},\"dimensions\":[\"width\",\"height\"],\"id\":\"9ad64c8d-0dc1-490d-c9da-0dd82bac1e91\",\"doc\":null,\"tags\":[]}},{\"id\":\"88fe02b4-c305-4443-c4bc-51a48e8ab53c\",\"type\":\"WheelZoomTool\",\"attributes\":{\"plot\":{\"id\":\"bc15cc70-ce9e-41f7-c15e-cf43818825f6\",\"type\":\"Plot\",\"subtype\":\"Figure\"},\"dimensions\":[\"width\",\"height\"],\"id\":\"88fe02b4-c305-4443-c4bc-51a48e8ab53c\",\"doc\":null,\"tags\":[]}},{\"id\":\"3de3aa81-2bc2-4514-c55b-552a597be5ee\",\"type\":\"BoxZoomTool\",\"attributes\":{\"plot\":{\"id\":\"bc15cc70-ce9e-41f7-c15e-cf43818825f6\",\"type\":\"Plot\",\"subtype\":\"Figure\"},\"id\":\"3de3aa81-2bc2-4514-c55b-552a597be5ee\",\"tags\":[],\"doc\":null}},{\"id\":\"30478146-1415-43bc-c354-2f11b7f63741\",\"type\":\"PreviewSaveTool\",\"attributes\":{\"plot\":{\"id\":\"bc15cc70-ce9e-41f7-c15e-cf43818825f6\",\"type\":\"Plot\",\"subtype\":\"Figure\"},\"id\":\"30478146-1415-43bc-c354-2f11b7f63741\",\"tags\":[],\"doc\":null}},{\"id\":\"67fedde7-77f3-4be4-cbee-f8d7e302e1f3\",\"type\":\"ResizeTool\",\"attributes\":{\"plot\":{\"id\":\"bc15cc70-ce9e-41f7-c15e-cf43818825f6\",\"type\":\"Plot\",\"subtype\":\"Figure\"},\"id\":\"67fedde7-77f3-4be4-cbee-f8d7e302e1f3\",\"tags\":[],\"doc\":null}},{\"id\":\"bf1c741c-5060-4927-c9b9-07391de6e8a4\",\"type\":\"ResetTool\",\"attributes\":{\"plot\":{\"id\":\"bc15cc70-ce9e-41f7-c15e-cf43818825f6\",\"type\":\"Plot\",\"subtype\":\"Figure\"},\"id\":\"bf1c741c-5060-4927-c9b9-07391de6e8a4\",\"tags\":[],\"doc\":null}},{\"id\":\"bc15cc70-ce9e-41f7-c15e-cf43818825f6\",\"type\":\"Plot\",\"attributes\":{\"x_range\":{\"type\":\"DataRange1d\",\"id\":\"1abaa17f-bd72-4876-c83c-1f031df8990d\"},\"tool_events\":{\"type\":\"ToolEvents\",\"id\":\"a49f8f88-172c-43fc-c36e-1e4be944b303\"},\"below\":[{\"type\":\"LinearAxis\",\"id\":\"f7004df0-ddf7-4d03-cdb8-4fa1de6e3bcf\"}],\"renderers\":[{\"type\":\"GlyphRenderer\",\"id\":\"916b9db1-7745-489e-c89f-1f690cc20823\"},{\"type\":\"LinearAxis\",\"id\":\"f7004df0-ddf7-4d03-cdb8-4fa1de6e3bcf\"},{\"type\":\"Grid\",\"id\":\"fc73a7e6-7404-4f02-cf0e-21bbb4c021ef\"},{\"type\":\"LinearAxis\",\"id\":\"851d1b8b-11ef-4d4f-cd56-15c4c5291a50\"},{\"type\":\"Grid\",\"id\":\"edb83bf6-05e3-44b6-c4a2-4de8e78dc2eb\"}],\"above\":[],\"tools\":[{\"type\":\"PanTool\",\"id\":\"9ad64c8d-0dc1-490d-c9da-0dd82bac1e91\"},{\"type\":\"WheelZoomTool\",\"id\":\"88fe02b4-c305-4443-c4bc-51a48e8ab53c\"},{\"type\":\"BoxZoomTool\",\"id\":\"3de3aa81-2bc2-4514-c55b-552a597be5ee\"},{\"type\":\"PreviewSaveTool\",\"id\":\"30478146-1415-43bc-c354-2f11b7f63741\"},{\"type\":\"ResizeTool\",\"id\":\"67fedde7-77f3-4be4-cbee-f8d7e302e1f3\"},{\"type\":\"ResetTool\",\"id\":\"bf1c741c-5060-4927-c9b9-07391de6e8a4\"}],\"doc\":null,\"right\":[],\"title\":\"Plot of loss\",\"extra_x_ranges\":{},\"left\":[{\"type\":\"LinearAxis\",\"id\":\"851d1b8b-11ef-4d4f-cd56-15c4c5291a50\"}],\"y_range\":{\"type\":\"DataRange1d\",\"id\":\"6b9474d1-8d60-4850-c806-e7a23f5fff7f\"},\"id\":\"bc15cc70-ce9e-41f7-c15e-cf43818825f6\",\"extra_y_ranges\":{},\"tags\":[]}}];\n",
       "      Bokeh.load_models(all_models);\n",
       "      var model = Bokeh.Collections(modeltype).get(modelid);\n",
       "      $(\"#e4375cef-c895-46d0-c6a9-fab205519e72\").html(''); // clear any previous plot in window_id\n",
       "      var view = new model.default_view({model: model, el: \"#e4375cef-c895-46d0-c6a9-fab205519e72\"});\n",
       "  });\n",
       "    }\n",
       "});\n",
       "</script>\n",
       "<div class=\"plotdiv\" id=\"e4375cef-c895-46d0-c6a9-fab205519e72\"></div>\n"
      ]
     },
     "metadata": {},
     "output_type": "display_data"
    },
    {
     "data": {
      "text/html": [
       "<script type=\"text/javascript\">\n",
       "$(function() {\n",
       "    if (typeof (window._bokeh_onload_callbacks) === \"undefined\"){\n",
       "  window._bokeh_onload_callbacks = [];\n",
       "    }\n",
       "    function load_lib(url, callback){\n",
       "  window._bokeh_onload_callbacks.push(callback);\n",
       "  if (window._bokeh_is_loading){\n",
       "      console.log(\"Bokeh: BokehJS is being loaded, scheduling callback at\", new Date());\n",
       "      return null;\n",
       "  }\n",
       "  console.log(\"Bokeh: BokehJS not loaded, scheduling load and callback at\", new Date());\n",
       "  window._bokeh_is_loading = true;\n",
       "  var s = document.createElement('script');\n",
       "  s.src = url;\n",
       "  s.async = true;\n",
       "  s.onreadystatechange = s.onload = function(){\n",
       "      Bokeh.embed.inject_css(\"https://cdn.pydata.org/bokeh-0.7.0.min.css\");\n",
       "      window._bokeh_onload_callbacks.forEach(function(callback){callback()});\n",
       "  };\n",
       "  s.onerror = function(){\n",
       "      console.warn(\"failed to load library \" + url);\n",
       "  };\n",
       "  document.getElementsByTagName(\"head\")[0].appendChild(s);\n",
       "    }\n",
       "\n",
       "    bokehjs_url = \"https://cdn.pydata.org/bokeh-0.7.0.min.js\"\n",
       "\n",
       "    var elt = document.getElementById(\"1a51a132-5544-45d0-c517-c7413397c262\");\n",
       "    if(elt==null) {\n",
       "  console.log(\"Bokeh: ERROR: autoload.js configured with elementid '1a51a132-5544-45d0-c517-c7413397c262'\"\n",
       "        + \"but no matching script tag was found. \")\n",
       "  return false;\n",
       "    }\n",
       "\n",
       "    if(typeof(Bokeh) !== \"undefined\") {\n",
       "  console.log(\"Bokeh: BokehJS loaded, going straight to plotting\");\n",
       "  var modelid = \"489e075e-014c-4ef5-ce93-ac111bcdfad3\";\n",
       "  var modeltype = \"Plot\";\n",
       "  var all_models = [{\"id\":\"4323d333-fe4b-47ae-c720-624cf01f3eae\",\"type\":\"ColumnDataSource\",\"attributes\":{\"data\":{\"y\":[0.5,0.72727272727273,0.66666666666667,0.4,0.22222222222222,0.92307692307692,0.54545454545455,0.4,0.4,0.44444444444444,0.25,0.54545454545455,0.76923076923077,0.72727272727273,0.25,0.56818181818182,0.38636363636364,0.625,0.38636363636364,0.83333333333333,0.5,0.22222222222222,0.38636363636364,0.28571428571429,0.25,0.66666666666667,0.25,0.5,0.6,0.28125,0,0.44444444444444,0.54545454545455,0,0.44444444444444,0.4,0.54545454545455,0.22222222222222,0.44444444444444,0.44444444444444,0.28571428571429,0.25,0.22222222222222,0.28571428571429,0,0.5,0.44444444444444,0,0.25,0.5,0.6,0.44444444444444,0.4,0.44444444444444,0.28571428571429,0.44444444444444,0,0.28571428571429,0.5,0,0.035714285714286,0,0,0.5,0,0.28571428571429,0.25,0,0,0,0,0,0.28571428571429,0.03125,0.28571428571429,0,0,0,0.28571428571429,0,0,0.5,0.28571428571429,0,0,0.035714285714286,0,0,0,0.5,0,0,0.28571428571429,0,0,0.25,0.28571428571429,0,0.5,0,0,0.28571428571429,0,0.28571428571429,0.28571428571429,0,0,0,0,0,0.25,0,0,0,0,0,0.28571428571429,0.25,0.28571428571429,0,0,0,0,0,0,0.035714285714286,0,0,0,0,0,0,0,0,0,0,0,0,0,0,0,0.28571428571429,0.28571428571429,0.28571428571429,0,0,0,0,0,0.28571428571429,0,0.28571428571429,0,0.035714285714286,0,0,0,0,0.28571428571429,0,0.5,0,0,0.28571428571429,0,0,0.25,0,0,0.03125,0,0.035714285714286,0,0,0,0.28571428571429,0.25,0,0,0.28571428571429,0,0.035714285714286,0.5,0,0.28571428571429,0,0,0.035714285714286,0,0,0,0,0.28571428571429,0,0.28571428571429,0,0,0.28571428571429,0,0.28571428571429,0,0,0,0.28571428571429,0,0,0.25,0,0,0.28571428571429,0.28571428571429,0,0.28571428571429,0,0.28571428571429,0,0,0,0,0,0,0,0,0,0.28571428571429,0,0,0,0,0,0,0,0.28571428571429,0,0.28571428571429,0,0,0.035714285714286,0,0,0.25,0,0,0,0,0,0.035714285714286,0,0,0,0,0,0,0,0,0,0,0,0,0,0,0,0,0,0,0,0,0,0,0,0,0,0,0,0,0,0,0,0,0,0,0,0,0,0,0,0,0,0,0,0,0,0,0,0,0,0,0,0,0],\"x\":[1,2,3,4,5,6,7,8,9,10,11,12,13,14,15,16,17,18,19,20,21,22,23,24,25,26,27,28,29,30,31,32,33,34,35,36,37,38,39,40,41,42,43,44,45,46,47,48,49,50,51,52,53,54,55,56,57,58,59,60,61,62,63,64,65,66,67,68,69,70,71,72,73,74,75,76,77,78,79,80,81,82,83,84,85,86,87,88,89,90,91,92,93,94,95,96,97,98,99,100,101,102,103,104,105,106,107,108,109,110,111,112,113,114,115,116,117,118,119,120,121,122,123,124,125,126,127,128,129,130,131,132,133,134,135,136,137,138,139,140,141,142,143,144,145,146,147,148,149,150,151,152,153,154,155,156,157,158,159,160,161,162,163,164,165,166,167,168,169,170,171,172,173,174,175,176,177,178,179,180,181,182,183,184,185,186,187,188,189,190,191,192,193,194,195,196,197,198,199,200,201,202,203,204,205,206,207,208,209,210,211,212,213,214,215,216,217,218,219,220,221,222,223,224,225,226,227,228,229,230,231,232,233,234,235,236,237,238,239,240,241,242,243,244,245,246,247,248,249,250,251,252,253,254,255,256,257,258,259,260,261,262,263,264,265,266,267,268,269,270,271,272,273,274,275,276,277,278,279,280,281,282,283,284,285,286,287,288,289,290,291,292,293,294,295,296,297,298,299,300]},\"column_names\":[\"y\",\"x\"],\"cont_ranges\":{},\"discrete_ranges\":{},\"selected\":[],\"id\":\"4323d333-fe4b-47ae-c720-624cf01f3eae\",\"doc\":null,\"tags\":[]}},{\"id\":\"1aa638fb-0aeb-4e45-cebe-45eea8d8a6e4\",\"type\":\"Line\",\"attributes\":{\"fill_alpha\":{\"units\":\"data\",\"value\":0.2},\"line_alpha\":{\"units\":\"data\",\"value\":1},\"doc\":null,\"size\":{\"units\":\"screen\",\"value\":10},\"fill_color\":{\"value\":\"blue\"},\"line_color\":{\"value\":\"blue\"},\"x\":{\"units\":\"data\",\"field\":\"x\"},\"id\":\"1aa638fb-0aeb-4e45-cebe-45eea8d8a6e4\",\"y\":{\"units\":\"data\",\"field\":\"y\"},\"tags\":[]}},{\"id\":\"a5b6de1d-d2b3-4e39-ce5e-d76a30234d47\",\"type\":\"Line\",\"attributes\":{\"fill_alpha\":{\"units\":\"data\",\"value\":0.2},\"line_alpha\":{\"units\":\"data\",\"value\":1},\"doc\":null,\"size\":{\"units\":\"screen\",\"value\":10},\"fill_color\":{\"value\":\"blue\"},\"line_color\":{\"value\":\"blue\"},\"x\":{\"units\":\"data\",\"field\":\"x\"},\"id\":\"a5b6de1d-d2b3-4e39-ce5e-d76a30234d47\",\"y\":{\"units\":\"data\",\"field\":\"y\"},\"tags\":[]}},{\"id\":\"d8769ff3-60c1-4be2-cbef-3376017c54e6\",\"type\":\"GlyphRenderer\",\"attributes\":{\"name\":null,\"nonselection_glyph\":{\"type\":\"Line\",\"id\":\"a5b6de1d-d2b3-4e39-ce5e-d76a30234d47\"},\"doc\":null,\"server_data_source\":null,\"data_source\":{\"type\":\"ColumnDataSource\",\"id\":\"4323d333-fe4b-47ae-c720-624cf01f3eae\"},\"glyph\":{\"type\":\"Line\",\"id\":\"1aa638fb-0aeb-4e45-cebe-45eea8d8a6e4\"},\"selection_glyph\":null,\"id\":\"d8769ff3-60c1-4be2-cbef-3376017c54e6\",\"tags\":[]}},{\"id\":\"5cff97a7-73c3-432a-c325-b8d3f3c8984a\",\"type\":\"DataRange1d\",\"attributes\":{\"sources\":[{\"columns\":[\"x\"],\"source\":{\"type\":\"ColumnDataSource\",\"id\":\"4323d333-fe4b-47ae-c720-624cf01f3eae\"}}],\"id\":\"5cff97a7-73c3-432a-c325-b8d3f3c8984a\",\"tags\":[],\"doc\":null}},{\"id\":\"8fece7b3-34f4-4a7d-ca00-df339eec392a\",\"type\":\"DataRange1d\",\"attributes\":{\"sources\":[{\"columns\":[\"y\"],\"source\":{\"type\":\"ColumnDataSource\",\"id\":\"4323d333-fe4b-47ae-c720-624cf01f3eae\"}}],\"id\":\"8fece7b3-34f4-4a7d-ca00-df339eec392a\",\"tags\":[],\"doc\":null}},{\"id\":\"51b3bdeb-9054-46ac-c68b-ae4a6f851315\",\"type\":\"ToolEvents\",\"attributes\":{\"tags\":[],\"id\":\"51b3bdeb-9054-46ac-c68b-ae4a6f851315\",\"geometries\":[],\"doc\":null}},{\"id\":\"4e5f4750-9a88-4fca-cf9f-cd4ce3b7a203\",\"type\":\"BasicTickFormatter\",\"attributes\":{\"id\":\"4e5f4750-9a88-4fca-cf9f-cd4ce3b7a203\",\"tags\":[],\"doc\":null}},{\"id\":\"49fd7e0a-99e4-42c9-c230-569e198fd904\",\"type\":\"BasicTicker\",\"attributes\":{\"num_minor_ticks\":5,\"id\":\"49fd7e0a-99e4-42c9-c230-569e198fd904\",\"tags\":[],\"doc\":null}},{\"id\":\"71c762a4-7339-4c46-cc34-a9cde1830045\",\"type\":\"LinearAxis\",\"attributes\":{\"formatter\":{\"type\":\"BasicTickFormatter\",\"id\":\"4e5f4750-9a88-4fca-cf9f-cd4ce3b7a203\"},\"ticker\":{\"type\":\"BasicTicker\",\"id\":\"49fd7e0a-99e4-42c9-c230-569e198fd904\"},\"plot\":{\"id\":\"489e075e-014c-4ef5-ce93-ac111bcdfad3\",\"type\":\"Plot\",\"subtype\":\"Figure\"},\"axis_label\":null,\"id\":\"71c762a4-7339-4c46-cc34-a9cde1830045\",\"doc\":null,\"tags\":[]}},{\"id\":\"c743e878-2950-4f7e-cfc8-7835840a558a\",\"type\":\"Grid\",\"attributes\":{\"dimension\":0,\"plot\":{\"id\":\"489e075e-014c-4ef5-ce93-ac111bcdfad3\",\"type\":\"Plot\",\"subtype\":\"Figure\"},\"ticker\":{\"type\":\"BasicTicker\",\"id\":\"49fd7e0a-99e4-42c9-c230-569e198fd904\"},\"id\":\"c743e878-2950-4f7e-cfc8-7835840a558a\",\"doc\":null,\"tags\":[]}},{\"id\":\"80916607-4ec3-4111-c1ce-45221464354c\",\"type\":\"BasicTickFormatter\",\"attributes\":{\"id\":\"80916607-4ec3-4111-c1ce-45221464354c\",\"tags\":[],\"doc\":null}},{\"id\":\"38bd9b0b-8d2c-432c-c33c-6353b5ddd497\",\"type\":\"BasicTicker\",\"attributes\":{\"num_minor_ticks\":5,\"id\":\"38bd9b0b-8d2c-432c-c33c-6353b5ddd497\",\"tags\":[],\"doc\":null}},{\"id\":\"38e71985-908a-4f41-cfdb-a4f2127a8589\",\"type\":\"LinearAxis\",\"attributes\":{\"formatter\":{\"type\":\"BasicTickFormatter\",\"id\":\"80916607-4ec3-4111-c1ce-45221464354c\"},\"ticker\":{\"type\":\"BasicTicker\",\"id\":\"38bd9b0b-8d2c-432c-c33c-6353b5ddd497\"},\"plot\":{\"id\":\"489e075e-014c-4ef5-ce93-ac111bcdfad3\",\"type\":\"Plot\",\"subtype\":\"Figure\"},\"axis_label\":null,\"id\":\"38e71985-908a-4f41-cfdb-a4f2127a8589\",\"doc\":null,\"tags\":[]}},{\"id\":\"fb1c0a8c-3974-4ba7-cb54-d027d9fce98f\",\"type\":\"Grid\",\"attributes\":{\"dimension\":1,\"plot\":{\"id\":\"489e075e-014c-4ef5-ce93-ac111bcdfad3\",\"type\":\"Plot\",\"subtype\":\"Figure\"},\"ticker\":{\"type\":\"BasicTicker\",\"id\":\"38bd9b0b-8d2c-432c-c33c-6353b5ddd497\"},\"id\":\"fb1c0a8c-3974-4ba7-cb54-d027d9fce98f\",\"doc\":null,\"tags\":[]}},{\"id\":\"3d45818a-b5bc-48e0-c871-129881dfe385\",\"type\":\"PanTool\",\"attributes\":{\"plot\":{\"id\":\"489e075e-014c-4ef5-ce93-ac111bcdfad3\",\"type\":\"Plot\",\"subtype\":\"Figure\"},\"dimensions\":[\"width\",\"height\"],\"id\":\"3d45818a-b5bc-48e0-c871-129881dfe385\",\"doc\":null,\"tags\":[]}},{\"id\":\"bb20367c-45be-4187-c160-91a65e1b87ee\",\"type\":\"WheelZoomTool\",\"attributes\":{\"plot\":{\"id\":\"489e075e-014c-4ef5-ce93-ac111bcdfad3\",\"type\":\"Plot\",\"subtype\":\"Figure\"},\"dimensions\":[\"width\",\"height\"],\"id\":\"bb20367c-45be-4187-c160-91a65e1b87ee\",\"doc\":null,\"tags\":[]}},{\"id\":\"75deb4e1-de4b-4277-c2b6-03402a290f7d\",\"type\":\"BoxZoomTool\",\"attributes\":{\"plot\":{\"id\":\"489e075e-014c-4ef5-ce93-ac111bcdfad3\",\"type\":\"Plot\",\"subtype\":\"Figure\"},\"id\":\"75deb4e1-de4b-4277-c2b6-03402a290f7d\",\"tags\":[],\"doc\":null}},{\"id\":\"c77fc70e-c027-4bdd-cb74-9efe64b30c3f\",\"type\":\"PreviewSaveTool\",\"attributes\":{\"plot\":{\"id\":\"489e075e-014c-4ef5-ce93-ac111bcdfad3\",\"type\":\"Plot\",\"subtype\":\"Figure\"},\"id\":\"c77fc70e-c027-4bdd-cb74-9efe64b30c3f\",\"tags\":[],\"doc\":null}},{\"id\":\"6761a806-b16f-4d65-cdfb-ac8a32d052d3\",\"type\":\"ResizeTool\",\"attributes\":{\"plot\":{\"id\":\"489e075e-014c-4ef5-ce93-ac111bcdfad3\",\"type\":\"Plot\",\"subtype\":\"Figure\"},\"id\":\"6761a806-b16f-4d65-cdfb-ac8a32d052d3\",\"tags\":[],\"doc\":null}},{\"id\":\"94195310-aa19-4ca4-ccff-ddd71d30ae2e\",\"type\":\"ResetTool\",\"attributes\":{\"plot\":{\"id\":\"489e075e-014c-4ef5-ce93-ac111bcdfad3\",\"type\":\"Plot\",\"subtype\":\"Figure\"},\"id\":\"94195310-aa19-4ca4-ccff-ddd71d30ae2e\",\"tags\":[],\"doc\":null}},{\"id\":\"489e075e-014c-4ef5-ce93-ac111bcdfad3\",\"type\":\"Plot\",\"attributes\":{\"x_range\":{\"type\":\"DataRange1d\",\"id\":\"5cff97a7-73c3-432a-c325-b8d3f3c8984a\"},\"tool_events\":{\"type\":\"ToolEvents\",\"id\":\"51b3bdeb-9054-46ac-c68b-ae4a6f851315\"},\"below\":[{\"type\":\"LinearAxis\",\"id\":\"71c762a4-7339-4c46-cc34-a9cde1830045\"}],\"renderers\":[{\"type\":\"GlyphRenderer\",\"id\":\"d8769ff3-60c1-4be2-cbef-3376017c54e6\"},{\"type\":\"LinearAxis\",\"id\":\"71c762a4-7339-4c46-cc34-a9cde1830045\"},{\"type\":\"Grid\",\"id\":\"c743e878-2950-4f7e-cfc8-7835840a558a\"},{\"type\":\"LinearAxis\",\"id\":\"38e71985-908a-4f41-cfdb-a4f2127a8589\"},{\"type\":\"Grid\",\"id\":\"fb1c0a8c-3974-4ba7-cb54-d027d9fce98f\"}],\"above\":[],\"tools\":[{\"type\":\"PanTool\",\"id\":\"3d45818a-b5bc-48e0-c871-129881dfe385\"},{\"type\":\"WheelZoomTool\",\"id\":\"bb20367c-45be-4187-c160-91a65e1b87ee\"},{\"type\":\"BoxZoomTool\",\"id\":\"75deb4e1-de4b-4277-c2b6-03402a290f7d\"},{\"type\":\"PreviewSaveTool\",\"id\":\"c77fc70e-c027-4bdd-cb74-9efe64b30c3f\"},{\"type\":\"ResizeTool\",\"id\":\"6761a806-b16f-4d65-cdfb-ac8a32d052d3\"},{\"type\":\"ResetTool\",\"id\":\"94195310-aa19-4ca4-ccff-ddd71d30ae2e\"}],\"doc\":null,\"right\":[],\"title\":\"Plot of Rougue-F1\",\"extra_x_ranges\":{},\"left\":[{\"type\":\"LinearAxis\",\"id\":\"38e71985-908a-4f41-cfdb-a4f2127a8589\"}],\"y_range\":{\"type\":\"DataRange1d\",\"id\":\"8fece7b3-34f4-4a7d-ca00-df339eec392a\"},\"id\":\"489e075e-014c-4ef5-ce93-ac111bcdfad3\",\"extra_y_ranges\":{},\"tags\":[]}}];\n",
       "  Bokeh.load_models(all_models);\n",
       "  var model = Bokeh.Collections(modeltype).get(modelid);\n",
       "  $(\"#1a51a132-5544-45d0-c517-c7413397c262\").html(''); // clear any previous plot in window_id\n",
       "  var view = new model.default_view({model: model, el: \"#1a51a132-5544-45d0-c517-c7413397c262\"});\n",
       "    } else {\n",
       "  load_lib(bokehjs_url, function() {\n",
       "      console.log(\"Bokeh: BokehJS plotting callback run at\", new Date())\n",
       "      var modelid = \"489e075e-014c-4ef5-ce93-ac111bcdfad3\";\n",
       "      var modeltype = \"Plot\";\n",
       "      var all_models = [{\"id\":\"4323d333-fe4b-47ae-c720-624cf01f3eae\",\"type\":\"ColumnDataSource\",\"attributes\":{\"data\":{\"y\":[0.5,0.72727272727273,0.66666666666667,0.4,0.22222222222222,0.92307692307692,0.54545454545455,0.4,0.4,0.44444444444444,0.25,0.54545454545455,0.76923076923077,0.72727272727273,0.25,0.56818181818182,0.38636363636364,0.625,0.38636363636364,0.83333333333333,0.5,0.22222222222222,0.38636363636364,0.28571428571429,0.25,0.66666666666667,0.25,0.5,0.6,0.28125,0,0.44444444444444,0.54545454545455,0,0.44444444444444,0.4,0.54545454545455,0.22222222222222,0.44444444444444,0.44444444444444,0.28571428571429,0.25,0.22222222222222,0.28571428571429,0,0.5,0.44444444444444,0,0.25,0.5,0.6,0.44444444444444,0.4,0.44444444444444,0.28571428571429,0.44444444444444,0,0.28571428571429,0.5,0,0.035714285714286,0,0,0.5,0,0.28571428571429,0.25,0,0,0,0,0,0.28571428571429,0.03125,0.28571428571429,0,0,0,0.28571428571429,0,0,0.5,0.28571428571429,0,0,0.035714285714286,0,0,0,0.5,0,0,0.28571428571429,0,0,0.25,0.28571428571429,0,0.5,0,0,0.28571428571429,0,0.28571428571429,0.28571428571429,0,0,0,0,0,0.25,0,0,0,0,0,0.28571428571429,0.25,0.28571428571429,0,0,0,0,0,0,0.035714285714286,0,0,0,0,0,0,0,0,0,0,0,0,0,0,0,0.28571428571429,0.28571428571429,0.28571428571429,0,0,0,0,0,0.28571428571429,0,0.28571428571429,0,0.035714285714286,0,0,0,0,0.28571428571429,0,0.5,0,0,0.28571428571429,0,0,0.25,0,0,0.03125,0,0.035714285714286,0,0,0,0.28571428571429,0.25,0,0,0.28571428571429,0,0.035714285714286,0.5,0,0.28571428571429,0,0,0.035714285714286,0,0,0,0,0.28571428571429,0,0.28571428571429,0,0,0.28571428571429,0,0.28571428571429,0,0,0,0.28571428571429,0,0,0.25,0,0,0.28571428571429,0.28571428571429,0,0.28571428571429,0,0.28571428571429,0,0,0,0,0,0,0,0,0,0.28571428571429,0,0,0,0,0,0,0,0.28571428571429,0,0.28571428571429,0,0,0.035714285714286,0,0,0.25,0,0,0,0,0,0.035714285714286,0,0,0,0,0,0,0,0,0,0,0,0,0,0,0,0,0,0,0,0,0,0,0,0,0,0,0,0,0,0,0,0,0,0,0,0,0,0,0,0,0,0,0,0,0,0,0,0,0,0,0,0,0],\"x\":[1,2,3,4,5,6,7,8,9,10,11,12,13,14,15,16,17,18,19,20,21,22,23,24,25,26,27,28,29,30,31,32,33,34,35,36,37,38,39,40,41,42,43,44,45,46,47,48,49,50,51,52,53,54,55,56,57,58,59,60,61,62,63,64,65,66,67,68,69,70,71,72,73,74,75,76,77,78,79,80,81,82,83,84,85,86,87,88,89,90,91,92,93,94,95,96,97,98,99,100,101,102,103,104,105,106,107,108,109,110,111,112,113,114,115,116,117,118,119,120,121,122,123,124,125,126,127,128,129,130,131,132,133,134,135,136,137,138,139,140,141,142,143,144,145,146,147,148,149,150,151,152,153,154,155,156,157,158,159,160,161,162,163,164,165,166,167,168,169,170,171,172,173,174,175,176,177,178,179,180,181,182,183,184,185,186,187,188,189,190,191,192,193,194,195,196,197,198,199,200,201,202,203,204,205,206,207,208,209,210,211,212,213,214,215,216,217,218,219,220,221,222,223,224,225,226,227,228,229,230,231,232,233,234,235,236,237,238,239,240,241,242,243,244,245,246,247,248,249,250,251,252,253,254,255,256,257,258,259,260,261,262,263,264,265,266,267,268,269,270,271,272,273,274,275,276,277,278,279,280,281,282,283,284,285,286,287,288,289,290,291,292,293,294,295,296,297,298,299,300]},\"column_names\":[\"y\",\"x\"],\"cont_ranges\":{},\"discrete_ranges\":{},\"selected\":[],\"id\":\"4323d333-fe4b-47ae-c720-624cf01f3eae\",\"doc\":null,\"tags\":[]}},{\"id\":\"1aa638fb-0aeb-4e45-cebe-45eea8d8a6e4\",\"type\":\"Line\",\"attributes\":{\"fill_alpha\":{\"units\":\"data\",\"value\":0.2},\"line_alpha\":{\"units\":\"data\",\"value\":1},\"doc\":null,\"size\":{\"units\":\"screen\",\"value\":10},\"fill_color\":{\"value\":\"blue\"},\"line_color\":{\"value\":\"blue\"},\"x\":{\"units\":\"data\",\"field\":\"x\"},\"id\":\"1aa638fb-0aeb-4e45-cebe-45eea8d8a6e4\",\"y\":{\"units\":\"data\",\"field\":\"y\"},\"tags\":[]}},{\"id\":\"a5b6de1d-d2b3-4e39-ce5e-d76a30234d47\",\"type\":\"Line\",\"attributes\":{\"fill_alpha\":{\"units\":\"data\",\"value\":0.2},\"line_alpha\":{\"units\":\"data\",\"value\":1},\"doc\":null,\"size\":{\"units\":\"screen\",\"value\":10},\"fill_color\":{\"value\":\"blue\"},\"line_color\":{\"value\":\"blue\"},\"x\":{\"units\":\"data\",\"field\":\"x\"},\"id\":\"a5b6de1d-d2b3-4e39-ce5e-d76a30234d47\",\"y\":{\"units\":\"data\",\"field\":\"y\"},\"tags\":[]}},{\"id\":\"d8769ff3-60c1-4be2-cbef-3376017c54e6\",\"type\":\"GlyphRenderer\",\"attributes\":{\"name\":null,\"nonselection_glyph\":{\"type\":\"Line\",\"id\":\"a5b6de1d-d2b3-4e39-ce5e-d76a30234d47\"},\"doc\":null,\"server_data_source\":null,\"data_source\":{\"type\":\"ColumnDataSource\",\"id\":\"4323d333-fe4b-47ae-c720-624cf01f3eae\"},\"glyph\":{\"type\":\"Line\",\"id\":\"1aa638fb-0aeb-4e45-cebe-45eea8d8a6e4\"},\"selection_glyph\":null,\"id\":\"d8769ff3-60c1-4be2-cbef-3376017c54e6\",\"tags\":[]}},{\"id\":\"5cff97a7-73c3-432a-c325-b8d3f3c8984a\",\"type\":\"DataRange1d\",\"attributes\":{\"sources\":[{\"columns\":[\"x\"],\"source\":{\"type\":\"ColumnDataSource\",\"id\":\"4323d333-fe4b-47ae-c720-624cf01f3eae\"}}],\"id\":\"5cff97a7-73c3-432a-c325-b8d3f3c8984a\",\"tags\":[],\"doc\":null}},{\"id\":\"8fece7b3-34f4-4a7d-ca00-df339eec392a\",\"type\":\"DataRange1d\",\"attributes\":{\"sources\":[{\"columns\":[\"y\"],\"source\":{\"type\":\"ColumnDataSource\",\"id\":\"4323d333-fe4b-47ae-c720-624cf01f3eae\"}}],\"id\":\"8fece7b3-34f4-4a7d-ca00-df339eec392a\",\"tags\":[],\"doc\":null}},{\"id\":\"51b3bdeb-9054-46ac-c68b-ae4a6f851315\",\"type\":\"ToolEvents\",\"attributes\":{\"tags\":[],\"id\":\"51b3bdeb-9054-46ac-c68b-ae4a6f851315\",\"geometries\":[],\"doc\":null}},{\"id\":\"4e5f4750-9a88-4fca-cf9f-cd4ce3b7a203\",\"type\":\"BasicTickFormatter\",\"attributes\":{\"id\":\"4e5f4750-9a88-4fca-cf9f-cd4ce3b7a203\",\"tags\":[],\"doc\":null}},{\"id\":\"49fd7e0a-99e4-42c9-c230-569e198fd904\",\"type\":\"BasicTicker\",\"attributes\":{\"num_minor_ticks\":5,\"id\":\"49fd7e0a-99e4-42c9-c230-569e198fd904\",\"tags\":[],\"doc\":null}},{\"id\":\"71c762a4-7339-4c46-cc34-a9cde1830045\",\"type\":\"LinearAxis\",\"attributes\":{\"formatter\":{\"type\":\"BasicTickFormatter\",\"id\":\"4e5f4750-9a88-4fca-cf9f-cd4ce3b7a203\"},\"ticker\":{\"type\":\"BasicTicker\",\"id\":\"49fd7e0a-99e4-42c9-c230-569e198fd904\"},\"plot\":{\"id\":\"489e075e-014c-4ef5-ce93-ac111bcdfad3\",\"type\":\"Plot\",\"subtype\":\"Figure\"},\"axis_label\":null,\"id\":\"71c762a4-7339-4c46-cc34-a9cde1830045\",\"doc\":null,\"tags\":[]}},{\"id\":\"c743e878-2950-4f7e-cfc8-7835840a558a\",\"type\":\"Grid\",\"attributes\":{\"dimension\":0,\"plot\":{\"id\":\"489e075e-014c-4ef5-ce93-ac111bcdfad3\",\"type\":\"Plot\",\"subtype\":\"Figure\"},\"ticker\":{\"type\":\"BasicTicker\",\"id\":\"49fd7e0a-99e4-42c9-c230-569e198fd904\"},\"id\":\"c743e878-2950-4f7e-cfc8-7835840a558a\",\"doc\":null,\"tags\":[]}},{\"id\":\"80916607-4ec3-4111-c1ce-45221464354c\",\"type\":\"BasicTickFormatter\",\"attributes\":{\"id\":\"80916607-4ec3-4111-c1ce-45221464354c\",\"tags\":[],\"doc\":null}},{\"id\":\"38bd9b0b-8d2c-432c-c33c-6353b5ddd497\",\"type\":\"BasicTicker\",\"attributes\":{\"num_minor_ticks\":5,\"id\":\"38bd9b0b-8d2c-432c-c33c-6353b5ddd497\",\"tags\":[],\"doc\":null}},{\"id\":\"38e71985-908a-4f41-cfdb-a4f2127a8589\",\"type\":\"LinearAxis\",\"attributes\":{\"formatter\":{\"type\":\"BasicTickFormatter\",\"id\":\"80916607-4ec3-4111-c1ce-45221464354c\"},\"ticker\":{\"type\":\"BasicTicker\",\"id\":\"38bd9b0b-8d2c-432c-c33c-6353b5ddd497\"},\"plot\":{\"id\":\"489e075e-014c-4ef5-ce93-ac111bcdfad3\",\"type\":\"Plot\",\"subtype\":\"Figure\"},\"axis_label\":null,\"id\":\"38e71985-908a-4f41-cfdb-a4f2127a8589\",\"doc\":null,\"tags\":[]}},{\"id\":\"fb1c0a8c-3974-4ba7-cb54-d027d9fce98f\",\"type\":\"Grid\",\"attributes\":{\"dimension\":1,\"plot\":{\"id\":\"489e075e-014c-4ef5-ce93-ac111bcdfad3\",\"type\":\"Plot\",\"subtype\":\"Figure\"},\"ticker\":{\"type\":\"BasicTicker\",\"id\":\"38bd9b0b-8d2c-432c-c33c-6353b5ddd497\"},\"id\":\"fb1c0a8c-3974-4ba7-cb54-d027d9fce98f\",\"doc\":null,\"tags\":[]}},{\"id\":\"3d45818a-b5bc-48e0-c871-129881dfe385\",\"type\":\"PanTool\",\"attributes\":{\"plot\":{\"id\":\"489e075e-014c-4ef5-ce93-ac111bcdfad3\",\"type\":\"Plot\",\"subtype\":\"Figure\"},\"dimensions\":[\"width\",\"height\"],\"id\":\"3d45818a-b5bc-48e0-c871-129881dfe385\",\"doc\":null,\"tags\":[]}},{\"id\":\"bb20367c-45be-4187-c160-91a65e1b87ee\",\"type\":\"WheelZoomTool\",\"attributes\":{\"plot\":{\"id\":\"489e075e-014c-4ef5-ce93-ac111bcdfad3\",\"type\":\"Plot\",\"subtype\":\"Figure\"},\"dimensions\":[\"width\",\"height\"],\"id\":\"bb20367c-45be-4187-c160-91a65e1b87ee\",\"doc\":null,\"tags\":[]}},{\"id\":\"75deb4e1-de4b-4277-c2b6-03402a290f7d\",\"type\":\"BoxZoomTool\",\"attributes\":{\"plot\":{\"id\":\"489e075e-014c-4ef5-ce93-ac111bcdfad3\",\"type\":\"Plot\",\"subtype\":\"Figure\"},\"id\":\"75deb4e1-de4b-4277-c2b6-03402a290f7d\",\"tags\":[],\"doc\":null}},{\"id\":\"c77fc70e-c027-4bdd-cb74-9efe64b30c3f\",\"type\":\"PreviewSaveTool\",\"attributes\":{\"plot\":{\"id\":\"489e075e-014c-4ef5-ce93-ac111bcdfad3\",\"type\":\"Plot\",\"subtype\":\"Figure\"},\"id\":\"c77fc70e-c027-4bdd-cb74-9efe64b30c3f\",\"tags\":[],\"doc\":null}},{\"id\":\"6761a806-b16f-4d65-cdfb-ac8a32d052d3\",\"type\":\"ResizeTool\",\"attributes\":{\"plot\":{\"id\":\"489e075e-014c-4ef5-ce93-ac111bcdfad3\",\"type\":\"Plot\",\"subtype\":\"Figure\"},\"id\":\"6761a806-b16f-4d65-cdfb-ac8a32d052d3\",\"tags\":[],\"doc\":null}},{\"id\":\"94195310-aa19-4ca4-ccff-ddd71d30ae2e\",\"type\":\"ResetTool\",\"attributes\":{\"plot\":{\"id\":\"489e075e-014c-4ef5-ce93-ac111bcdfad3\",\"type\":\"Plot\",\"subtype\":\"Figure\"},\"id\":\"94195310-aa19-4ca4-ccff-ddd71d30ae2e\",\"tags\":[],\"doc\":null}},{\"id\":\"489e075e-014c-4ef5-ce93-ac111bcdfad3\",\"type\":\"Plot\",\"attributes\":{\"x_range\":{\"type\":\"DataRange1d\",\"id\":\"5cff97a7-73c3-432a-c325-b8d3f3c8984a\"},\"tool_events\":{\"type\":\"ToolEvents\",\"id\":\"51b3bdeb-9054-46ac-c68b-ae4a6f851315\"},\"below\":[{\"type\":\"LinearAxis\",\"id\":\"71c762a4-7339-4c46-cc34-a9cde1830045\"}],\"renderers\":[{\"type\":\"GlyphRenderer\",\"id\":\"d8769ff3-60c1-4be2-cbef-3376017c54e6\"},{\"type\":\"LinearAxis\",\"id\":\"71c762a4-7339-4c46-cc34-a9cde1830045\"},{\"type\":\"Grid\",\"id\":\"c743e878-2950-4f7e-cfc8-7835840a558a\"},{\"type\":\"LinearAxis\",\"id\":\"38e71985-908a-4f41-cfdb-a4f2127a8589\"},{\"type\":\"Grid\",\"id\":\"fb1c0a8c-3974-4ba7-cb54-d027d9fce98f\"}],\"above\":[],\"tools\":[{\"type\":\"PanTool\",\"id\":\"3d45818a-b5bc-48e0-c871-129881dfe385\"},{\"type\":\"WheelZoomTool\",\"id\":\"bb20367c-45be-4187-c160-91a65e1b87ee\"},{\"type\":\"BoxZoomTool\",\"id\":\"75deb4e1-de4b-4277-c2b6-03402a290f7d\"},{\"type\":\"PreviewSaveTool\",\"id\":\"c77fc70e-c027-4bdd-cb74-9efe64b30c3f\"},{\"type\":\"ResizeTool\",\"id\":\"6761a806-b16f-4d65-cdfb-ac8a32d052d3\"},{\"type\":\"ResetTool\",\"id\":\"94195310-aa19-4ca4-ccff-ddd71d30ae2e\"}],\"doc\":null,\"right\":[],\"title\":\"Plot of Rougue-F1\",\"extra_x_ranges\":{},\"left\":[{\"type\":\"LinearAxis\",\"id\":\"38e71985-908a-4f41-cfdb-a4f2127a8589\"}],\"y_range\":{\"type\":\"DataRange1d\",\"id\":\"8fece7b3-34f4-4a7d-ca00-df339eec392a\"},\"id\":\"489e075e-014c-4ef5-ce93-ac111bcdfad3\",\"extra_y_ranges\":{},\"tags\":[]}}];\n",
       "      Bokeh.load_models(all_models);\n",
       "      var model = Bokeh.Collections(modeltype).get(modelid);\n",
       "      $(\"#1a51a132-5544-45d0-c517-c7413397c262\").html(''); // clear any previous plot in window_id\n",
       "      var view = new model.default_view({model: model, el: \"#1a51a132-5544-45d0-c517-c7413397c262\"});\n",
       "  });\n",
       "    }\n",
       "});\n",
       "</script>\n",
       "<div class=\"plotdiv\" id=\"1a51a132-5544-45d0-c517-c7413397c262\"></div>\n"
      ]
     },
     "metadata": {},
     "output_type": "display_data"
    }
   ],
   "source": [
    "Plot = require 'itorch.Plot'\n",
    "\n",
    "loss = torch.Tensor(lossfull)\n",
    "rougue = torch.Tensor(rouguef1)\n",
    "indices = torch.linspace(1, loss:size(1), loss:size(1)):long() \n",
    "plot = Plot():line(indices, loss, 'red', 'hi'):title('Plot of loss'):draw()\n",
    "plot = Plot():line(indices, rougue, 'blue', 'hi'):title('Plot of Rougue-F1'):draw()"
   ]
  },
  {
   "cell_type": "code",
   "execution_count": 12,
   "metadata": {
    "collapsed": false
   },
   "outputs": [
    {
     "data": {
      "text/plain": [
       "0\t0\t0\t\n"
      ]
     },
     "execution_count": 12,
     "metadata": {},
     "output_type": "execute_result"
    }
   ],
   "source": [
    "rougeScores( Tokenize(trueSummary:resize(40):totable()), \n",
    "                Tokenize(totalPredsummary:totable()[1]))"
   ]
  },
  {
   "cell_type": "code",
   "execution_count": 13,
   "metadata": {
    "collapsed": false
   },
   "outputs": [],
   "source": [
    "n = 10\n",
    "-- nn.MaskedSelect():cuda()\n",
    "maskLayer = nn.MaskedSelect()\n",
    "\n",
    "x = torch.round(torch.rand(n, 2) * 5)\n",
    "\n",
    "qMaxtrue, qindxtrue = torch.max(x, 2)\n",
    "a = torch.zeros(n, 2):scatter(2, qindxtrue, torch.ones(x:size())):byte()"
   ]
  },
  {
   "cell_type": "code",
   "execution_count": 20,
   "metadata": {
    "collapsed": false
   },
   "outputs": [
    {
     "data": {
      "text/plain": [
       "2\t1\t\n"
      ]
     },
     "execution_count": 20,
     "metadata": {},
     "output_type": "execute_result"
    }
   ],
   "source": [
    "SELECT, SKIP"
   ]
  },
  {
   "cell_type": "code",
   "execution_count": 14,
   "metadata": {
    "collapsed": false
   },
   "outputs": [
    {
     "data": {
      "text/plain": [
       " 1  0\n",
       " 0  1\n",
       " 0  1\n",
       " 1  0\n",
       " 1  0\n",
       " 1  0\n",
       " 1  0\n",
       " 1  0\n",
       " 1  0\n",
       " 1  0\n",
       "[torch.ByteTensor of size 10x2]\n",
       "\n",
       " 2  0\n",
       " 1  4\n",
       " 2  5\n",
       " 4  0\n",
       " 2  2\n",
       " 1  0\n",
       " 3  3\n",
       " 2  1\n",
       " 3  1\n",
       " 1  0\n",
       "[torch.DoubleTensor of size 10x2]\n",
       "\n",
       " 2\n",
       " 4\n",
       " 5\n",
       " 4\n",
       " 2\n",
       " 1\n",
       " 3\n",
       " 2\n",
       " 3\n",
       " 1\n",
       "[torch.DoubleTensor of size 10]\n",
       "\n"
      ]
     },
     "execution_count": 14,
     "metadata": {},
     "output_type": "execute_result"
    }
   ],
   "source": [
    "a, x, maskLayer:forward({x, a}) "
   ]
  },
  {
   "cell_type": "code",
   "execution_count": 15,
   "metadata": {
    "collapsed": true
   },
   "outputs": [],
   "source": [
    "n = 10\n",
    "maskLayer = nn.MaskedSelect():cuda()\n",
    "ByteTensor = torch.CudaByteTensor\n",
    "\n",
    "x = torch.round(torch.rand(n, 2) * 5):cuda()"
   ]
  },
  {
   "cell_type": "code",
   "execution_count": 16,
   "metadata": {
    "collapsed": true
   },
   "outputs": [],
   "source": [
    "qMaxtrue, qindxtrue = torch.max(x, 2)"
   ]
  },
  {
   "cell_type": "code",
   "execution_count": 17,
   "metadata": {
    "collapsed": false
   },
   "outputs": [],
   "source": [
    "torch.ones(x:size())"
   ]
  },
  {
   "cell_type": "code",
   "execution_count": 18,
   "metadata": {
    "collapsed": false
   },
   "outputs": [
    {
     "data": {
      "text/plain": [
       " 1  1\n",
       " 1  1\n",
       " 1  1\n",
       " 1  1\n",
       " 1  1\n",
       " 1  1\n",
       " 1  1\n",
       " 1  1\n",
       " 1  1\n",
       " 1  1\n",
       "[torch.DoubleTensor of size 10x2]\n",
       "\n"
      ]
     },
     "execution_count": 18,
     "metadata": {},
     "output_type": "execute_result"
    }
   ],
   "source": [
    "qindxtrue:cuda()"
   ]
  },
  {
   "cell_type": "code",
   "execution_count": 19,
   "metadata": {
    "collapsed": false
   },
   "outputs": [
    {
     "ename": "[string \"local f = function() return torch.zeros(n, 2)...\"]:1: bad argument #3 to 'f' (Index tensor must have the same size as input tensor. at /tmp/luarocks_cutorch-scm-1-9089/cutorch/lib/THC/generic/THCTensorScatterGather.cu:116)\nstack traceback:\n\t[C]: in function 'f'\n\t[string \"local f = function() return torch.zeros(n, 2)...\"]:1: in main chunk\n\t[C]: in function 'xpcall'\n\t...ojavierarceo/torch/install/share/lua/5.1/itorch/main.lua:210: in function <...ojavierarceo/torch/install/share/lua/5.1/itorch/main.lua:174>\n\t...ojavierarceo/torch/install/share/lua/5.1/lzmq/poller.lua:75: in function 'poll'\n\t...vierarceo/torch/install/share/lua/5.1/lzmq/impl/loop.lua:307: in function 'poll'\n\t...vierarceo/torch/install/share/lua/5.1/lzmq/impl/loop.lua:325: in function 'sleep_ex'\n\t...vierarceo/torch/install/share/lua/5.1/lzmq/impl/loop.lua:370: in function 'start'\n\t...ojavierarceo/torch/install/share/lua/5.1/itorch/main.lua:389: in main chunk\n\t[C]: in function 'require'\n\t(command line):1: in main chunk\n\t[C]: at 0x0103a80b90",
     "evalue": "",
     "output_type": "error",
     "traceback": [
      "[string \"local f = function() return torch.zeros(n, 2)...\"]:1: bad argument #3 to 'f' (Index tensor must have the same size as input tensor. at /tmp/luarocks_cutorch-scm-1-9089/cutorch/lib/THC/generic/THCTensorScatterGather.cu:116)\nstack traceback:\n\t[C]: in function 'f'\n\t[string \"local f = function() return torch.zeros(n, 2)...\"]:1: in main chunk\n\t[C]: in function 'xpcall'\n\t...ojavierarceo/torch/install/share/lua/5.1/itorch/main.lua:210: in function <...ojavierarceo/torch/install/share/lua/5.1/itorch/main.lua:174>\n\t...ojavierarceo/torch/install/share/lua/5.1/lzmq/poller.lua:75: in function 'poll'\n\t...vierarceo/torch/install/share/lua/5.1/lzmq/impl/loop.lua:307: in function 'poll'\n\t...vierarceo/torch/install/share/lua/5.1/lzmq/impl/loop.lua:325: in function 'sleep_ex'\n\t...vierarceo/torch/install/share/lua/5.1/lzmq/impl/loop.lua:370: in function 'start'\n\t...ojavierarceo/torch/install/share/lua/5.1/itorch/main.lua:389: in main chunk\n\t[C]: in function 'require'\n\t(command line):1: in main chunk\n\t[C]: at 0x0103a80b90"
     ]
    }
   ],
   "source": [
    "torch.zeros(n, 2):cuda():scatter(2, qindxtrue:cuda(), torch.ones(x:size()):cuda() )"
   ]
  },
  {
   "cell_type": "code",
   "execution_count": null,
   "metadata": {
    "collapsed": true
   },
   "outputs": [],
   "source": []
  }
 ],
 "metadata": {
  "anaconda-cloud": {},
  "kernelspec": {
   "display_name": "iTorch",
   "language": "lua",
   "name": "itorch"
  },
  "language_info": {
   "name": "lua",
   "version": "5.1"
  }
 },
 "nbformat": 4,
 "nbformat_minor": 1
}
