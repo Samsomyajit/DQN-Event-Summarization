{
 "cells": [
  {
   "cell_type": "code",
   "execution_count": null,
   "metadata": {
    "collapsed": false
   },
   "outputs": [],
   "source": [
    "require 'torch'\n",
    "require 'nn'\n",
    "require 'rnn'\n",
    "require 'csvigo'"
   ]
  },
  {
   "cell_type": "code",
   "execution_count": null,
   "metadata": {
    "collapsed": true
   },
   "outputs": [],
   "source": [
    "local dl = require 'dataload'\n",
    "dataloader = dl.DataLoader()"
   ]
  },
  {
   "cell_type": "code",
   "execution_count": null,
   "metadata": {
    "collapsed": true
   },
   "outputs": [],
   "source": [
    "filename = '~/GitHub/DeepNLPQLearning/DO_NOT_UPLOAD_THIS_DATA/corpus-data/0-output/2012_aurora_shooting_numtext.csv'"
   ]
  },
  {
   "cell_type": "code",
   "execution_count": null,
   "metadata": {
    "collapsed": false
   },
   "outputs": [],
   "source": [
    "m = csvigo.load({path = filename, mode = \"large\"})"
   ]
  },
  {
   "cell_type": "code",
   "execution_count": null,
   "metadata": {
    "collapsed": true
   },
   "outputs": [],
   "source": [
    "function split(pString)\n",
    "   local pPattern = \" \"\n",
    "   local Table = {}  -- NOTE: use {n = 0} in Lua-5.0\n",
    "   local fpat = \"(.-)\" .. pPattern\n",
    "   local last_end = 1\n",
    "   local s, e, cap = pString:find(fpat, 1)\n",
    "   while s do\n",
    "      if s ~= 1 or cap ~= \"\" then\n",
    "     table.insert(Table, cap)\n",
    "      end\n",
    "      last_end = e + 1\n",
    "      s, e, cap = pString:find(fpat, last_end)\n",
    "   end\n",
    "   if last_end <= #pString then\n",
    "      cap = pString:sub(last_end)\n",
    "      table.insert(Table, cap)\n",
    "   end\n",
    "   return Table\n",
    "end"
   ]
  },
  {
   "cell_type": "code",
   "execution_count": null,
   "metadata": {
    "collapsed": false
   },
   "outputs": [],
   "source": [
    "out = {}\n",
    "for k,v in pairs(m) do\n",
    "    if k > 1 then\n",
    "        out[k-1] = split(m[k][1])\n",
    "    end\n",
    "end"
   ]
  },
  {
   "cell_type": "code",
   "execution_count": null,
   "metadata": {
    "collapsed": false
   },
   "outputs": [],
   "source": [
    "m[2][1]"
   ]
  },
  {
   "cell_type": "code",
   "execution_count": null,
   "metadata": {
    "collapsed": false
   },
   "outputs": [],
   "source": [
    "m[2]"
   ]
  },
  {
   "cell_type": "code",
   "execution_count": null,
   "metadata": {
    "collapsed": false
   },
   "outputs": [],
   "source": [
    "m[2][1]"
   ]
  },
  {
   "cell_type": "code",
   "execution_count": null,
   "metadata": {
    "collapsed": false
   },
   "outputs": [],
   "source": [
    "indices = torch.LongTensor(out[1])\n",
    "--- indices = torch.LongTensor(m[2][1])"
   ]
  },
  {
   "cell_type": "code",
   "execution_count": null,
   "metadata": {
    "collapsed": false,
    "scrolled": true
   },
   "outputs": [],
   "source": [
    "inputs, targets = dataloader:index(indices)"
   ]
  },
  {
   "cell_type": "code",
   "execution_count": null,
   "metadata": {
    "collapsed": false
   },
   "outputs": [],
   "source": [
    "indices = torch.LongTensor{1,2,3,4,5}\n",
    "inputs, targets = dataloader:index(indices)"
   ]
  },
  {
   "cell_type": "code",
   "execution_count": null,
   "metadata": {
    "collapsed": false
   },
   "outputs": [],
   "source": [
    "x = {1,2,3,4,5}\n",
    "indices = torch.LongTensor(x)\n",
    "inputs, targets = dataloader:index(indices)"
   ]
  },
  {
   "cell_type": "code",
   "execution_count": null,
   "metadata": {
    "collapsed": false
   },
   "outputs": [],
   "source": [
    "print(table.getn(out))"
   ]
  },
  {
   "cell_type": "code",
   "execution_count": null,
   "metadata": {
    "collapsed": false
   },
   "outputs": [],
   "source": [
    "x = torch.Tensor({ {1, 0.1}, {2, 0.3}, {10, 0.3}, {31, 0.2} })\n",
    "print(x)"
   ]
  },
  {
   "cell_type": "code",
   "execution_count": null,
   "metadata": {
    "collapsed": false
   },
   "outputs": [],
   "source": [
    "torch.Tensor(out[2])"
   ]
  },
  {
   "cell_type": "code",
   "execution_count": 1,
   "metadata": {
    "collapsed": false
   },
   "outputs": [
    {
     "data": {
      "text/plain": [
       "Input is of the form: \t\n",
       " 1  4  2  0\n",
       " 1  3  3  2\n",
       "[torch.LongTensor of size 2x4]\n",
       "\n",
       "Dimensions of lookup table layer:\t\n",
       " 2\n",
       " 4\n",
       " 5\n",
       "[torch.LongStorage of size 3]\n",
       "\n",
       "Dimensions after lookup table layer and averaging layer:\t\n"
      ]
     },
     "execution_count": 1,
     "metadata": {},
     "output_type": "execute_result"
    },
    {
     "data": {
      "text/plain": [
       " 2\n",
       " 5\n",
       "[torch.LongStorage of size 2]\n",
       "\n"
      ]
     },
     "execution_count": 1,
     "metadata": {},
     "output_type": "execute_result"
    }
   ],
   "source": [
    "require 'torch'\n",
    "require 'nn'\n",
    "require 'rnn'\n",
    "\n",
    "vocab_size = 4\n",
    "embeddings_dim = 5\n",
    "\n",
    "--   Input is batch size x max sequence length. The first example has \n",
    "--   words 1, 4, and 2 and is shorter than the max sequence length so\n",
    "--   we pad it with zeros.\n",
    "input = torch.LongTensor{{1,4,2,0},{1,3,3,2}}\n",
    "print(\"Input is of the form: \")\n",
    "print(input)\n",
    "--   Here we add the look up table which will produce output of size\n",
    "--   (batch size x max sequence length x embedding dim size)\n",
    "--   In this example ouptut O[1][4] is a vector of zeros because \n",
    "--   of the zero pad.\n",
    "net = nn.Sequential()\n",
    "net:add(nn.LookupTableMaskZero(vocab_size, embeddings_dim))\n",
    "print(\"Dimensions of lookup table layer:\")\n",
    "print(#net:forward(input))\n",
    "\n",
    "-- Now add the summation layer. The arguments are which dimension to\n",
    "-- sum over, the total number of input dimensions, and a boolean flag\n",
    "-- indicating whether or not to average the sum.\n",
    "-- We are summing over the sequence which corresponds to dimension 2.\n",
    "-- The input has 3 dimensions (output of lookup layer is \n",
    "-- batch x sequence x embedding) and we want to average the sum so \n",
    "-- flag is true. This is more or less what we want but there is an \n",
    "-- issue with the averaging part of the sum layer. \n",
    "\n",
    "-- What is it? (You can ignore it for now and through the output of this\n",
    "-- into a mlp. We can discuss how to fix it on Tuesday.)\n",
    "\n",
    "net:add(nn.Sum(2,3,true))\n",
    "print(\"Dimensions after lookup table layer and averaging layer:\")\n",
    "print(#net:forward(input))"
   ]
  }
 ],
 "metadata": {
  "kernelspec": {
   "display_name": "iTorch",
   "language": "lua",
   "name": "itorch"
  },
  "language_info": {
   "name": "lua",
   "version": "5.1"
  }
 },
 "nbformat": 4,
 "nbformat_minor": 0
}
