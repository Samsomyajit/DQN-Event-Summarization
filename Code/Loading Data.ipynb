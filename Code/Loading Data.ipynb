{
 "cells": [
  {
   "cell_type": "code",
   "execution_count": 6,
   "metadata": {
    "collapsed": false
   },
   "outputs": [],
   "source": [
    "require 'torch'\n",
    "require 'nn'\n",
    "require 'rnn'\n",
    "require 'csvigo'\n",
    "local dl = require 'dataload'\n",
    "dataloader = dl.DataLoader()"
   ]
  },
  {
   "cell_type": "code",
   "execution_count": 7,
   "metadata": {
    "collapsed": true
   },
   "outputs": [],
   "source": [
    "filename = '~/GitHub/DeepNLPQLearning/DO_NOT_UPLOAD_THIS_DATA/corpus-data/0-output/2012_aurora_shooting_numtext.csv'"
   ]
  },
  {
   "cell_type": "code",
   "execution_count": 8,
   "metadata": {
    "collapsed": false
   },
   "outputs": [
    {
     "data": {
      "text/plain": [
       "<csv>\tparsing file: /Users/franciscojavierarceo/GitHub/DeepNLPQLearning/DO_NOT_UPLOAD_THIS_DATA/corpus-data/0-output/2012_aurora_shooting_numtext.csv\t\n"
      ]
     },
     "execution_count": 8,
     "metadata": {},
     "output_type": "execute_result"
    },
    {
     "data": {
      "text/plain": [
       "<csv>\tparsing done\t\n"
      ]
     },
     "execution_count": 8,
     "metadata": {},
     "output_type": "execute_result"
    }
   ],
   "source": [
    "m = csvigo.load({path = filename, mode = \"large\"})"
   ]
  },
  {
   "cell_type": "code",
   "execution_count": 9,
   "metadata": {
    "collapsed": true
   },
   "outputs": [],
   "source": [
    "function split(pString)\n",
    "   local pPattern = \" \"\n",
    "   local Table = {}  -- NOTE: use {n = 0} in Lua-5.0\n",
    "   local fpat = \"(.-)\" .. pPattern\n",
    "   local last_end = 1\n",
    "   local s, e, cap = pString:find(fpat, 1)\n",
    "   while s do\n",
    "      if s ~= 1 or cap ~= \"\" then\n",
    "     table.insert(Table, cap)\n",
    "      end\n",
    "      last_end = e + 1\n",
    "      s, e, cap = pString:find(fpat, last_end)\n",
    "   end\n",
    "   if last_end <= #pString then\n",
    "      cap = pString:sub(last_end)\n",
    "      table.insert(Table, cap)\n",
    "   end\n",
    "   return Table\n",
    "end"
   ]
  },
  {
   "cell_type": "code",
   "execution_count": 10,
   "metadata": {
    "collapsed": false
   },
   "outputs": [],
   "source": [
    "out = {}\n",
    "for k,v in pairs(m) do\n",
    "    if k > 1 then\n",
    "        out[k-1] = split(m[k][1])\n",
    "    end\n",
    "end"
   ]
  },
  {
   "cell_type": "code",
   "execution_count": 32,
   "metadata": {
    "collapsed": true
   },
   "outputs": [],
   "source": [
    "indices = torch.LongTensor(out[1])"
   ]
  },
  {
   "cell_type": "markdown",
   "metadata": {},
   "source": [
    "# Chris' example"
   ]
  },
  {
   "cell_type": "code",
   "execution_count": 50,
   "metadata": {
    "collapsed": false
   },
   "outputs": [
    {
     "data": {
      "text/plain": [
       "Input is of the form: \t\n",
       " 1  4  2  0\n",
       " 1  3  3  2\n",
       "[torch.LongTensor of size 2x4]\n",
       "\n",
       "Dimensions of lookup table layer:\t\n"
      ]
     },
     "execution_count": 50,
     "metadata": {},
     "output_type": "execute_result"
    },
    {
     "data": {
      "text/plain": [
       " 2\n",
       " 4\n",
       " 5\n",
       "[torch.LongStorage of size 3]\n",
       "\n",
       "Dimensions after lookup table layer and averaging layer:\t\n",
       " 2\n",
       " 5\n",
       "[torch.LongStorage of size 2]\n",
       "\n"
      ]
     },
     "execution_count": 50,
     "metadata": {},
     "output_type": "execute_result"
    }
   ],
   "source": [
    "require 'torch'\n",
    "require 'nn'\n",
    "require 'rnn'\n",
    "\n",
    "vocab_size = 4\n",
    "embeddings_dim = 5\n",
    "\n",
    "--   Input is batch size x max sequence length. The first example has \n",
    "--   words 1, 4, and 2 and is shorter than the max sequence length so\n",
    "--   we pad it with zeros.\n",
    "input = torch.LongTensor{{1,4,2,0},{1,3,3,2}}\n",
    "print(\"Input is of the form: \")\n",
    "print(input)\n",
    "--   Here we add the look up table which will produce output of size\n",
    "--   (batch size x max sequence length x embedding dim size)\n",
    "--   In this example ouptut O[1][4] is a vector of zeros because \n",
    "--   of the zero pad.\n",
    "net = nn.Sequential()\n",
    "net:add(nn.LookupTableMaskZero(vocab_size, embeddings_dim))\n",
    "print(\"Dimensions of lookup table layer:\")\n",
    "print(#net:forward(input))\n",
    "\n",
    "-- Now add the summation layer. The arguments are which dimension to\n",
    "-- sum over, the total number of input dimensions, and a boolean flag\n",
    "-- indicating whether or not to average the sum.\n",
    "-- We are summing over the sequence which corresponds to dimension 2.\n",
    "-- The input has 3 dimensions (output of lookup layer is \n",
    "-- batch x sequence x embedding) and we want to average the sum so \n",
    "-- flag is true. This is more or less what we want but there is an \n",
    "-- issue with the averaging part of the sum layer. \n",
    "\n",
    "-- What is it? (You can ignore it for now and through the output of this\n",
    "-- into a mlp. We can discuss how to fix it on Tuesday.)\n",
    "\n",
    "net:add(nn.Sum(2,3,true))\n",
    "print(\"Dimensions after lookup table layer and averaging layer:\")\n",
    "print(#net:forward(input))"
   ]
  },
  {
   "cell_type": "markdown",
   "metadata": {},
   "source": [
    "# Trying on the raw data"
   ]
  },
  {
   "cell_type": "code",
   "execution_count": null,
   "metadata": {
    "collapsed": true
   },
   "outputs": [],
   "source": [
    "--- {{table.unpack(out[1])}, {table.unpack(out[2])}}"
   ]
  },
  {
   "cell_type": "code",
   "execution_count": 87,
   "metadata": {
    "collapsed": false
   },
   "outputs": [
    {
     "data": {
      "text/plain": [
       "Input is of the form: \t\n",
       " 1  4  2  0\n",
       " 1  3  3  2\n",
       "[torch.LongTensor of size 2x4]\n",
       "\n",
       "Dimensions of lookup table layer:\t\n",
       " 2\n",
       " 4\n",
       " 5\n",
       "[torch.LongStorage of size 3]\n",
       "\n",
       "Dimensions after lookup table layer and averaging layer:\t\n",
       " 2\n",
       " 5\n",
       "[torch.LongStorage of size 2]\n",
       "\n"
      ]
     },
     "execution_count": 87,
     "metadata": {},
     "output_type": "execute_result"
    }
   ],
   "source": [
    "require 'torch'\n",
    "require 'nn'\n",
    "require 'rnn'\n",
    "\n",
    "vocab_size = 4\n",
    "embeddings_dim = 5\n",
    "\n",
    "input = torch.LongTensor{{1,4,2,0},{1,3,3,2}}\n",
    "-- input = torch.LongTensor{{1,4,2,0},{1,3,3,2}}\n",
    "print(\"Input is of the form: \")\n",
    "print(input)\n",
    "\n",
    "net = nn.Sequential()\n",
    "net:add(nn.LookupTableMaskZero(vocab_size, embeddings_dim))\n",
    "print(\"Dimensions of lookup table layer:\")\n",
    "print(#net:forward(input))\n",
    "\n",
    "net:add(nn.Sum(2,3,true))\n",
    "print(\"Dimensions after lookup table layer and averaging layer:\")\n",
    "print(#net:forward(input))"
   ]
  },
  {
   "cell_type": "code",
   "execution_count": 94,
   "metadata": {
    "collapsed": false,
    "scrolled": false
   },
   "outputs": [],
   "source": [
    "require 'torch'\n",
    "require 'nn'\n",
    "require 'rnn'\n",
    "\n",
    "vocab_size = 32\n",
    "embeddings_dim = 5\n",
    "\n",
    "input = torch.LongTensor{{19, 24, 9, 5, 23}, \n",
    "         {0, 27, 32, 26, 31} }\n",
    "\n",
    "-- input = torch.LongTensor{{20, 15, 19, 1, 9, 0, 3, 10, 21, 18, 8, 13, 19, 24, 9, 5, 23, 12, 17, 22, 23, 7, 4, 6, 16, 14, 2, 11}, \n",
    "--          {30, 28, 25, 27, 32, 26, 33, 27, 27, 32, 26, 29, 0, 27, 32, 26, 31} }\n",
    "-- input = torch.LongTensor({20, 15, 19, 1, 9, 0, 3, 10, 21, 18, 8, 13, 19, 24, 9, 5, 23, 12, 17, 22, 23, 7, 4, 6, 16, 14, 2, 11}, \n",
    "--          {30, 28, 25, 27, 32, 26, 33, 27, 27, 32, 26, 29, 0, 27, 32, 26, 31} )"
   ]
  },
  {
   "cell_type": "code",
   "execution_count": 95,
   "metadata": {
    "collapsed": false,
    "scrolled": true
   },
   "outputs": [],
   "source": [
    "net = nn.Sequential()\n",
    "net:add(nn.LookupTableMaskZero(vocab_size, embeddings_dim))"
   ]
  },
  {
   "cell_type": "code",
   "execution_count": 96,
   "metadata": {
    "collapsed": false
   },
   "outputs": [
    {
     "data": {
      "text/plain": [
       "Dimensions after lookup table layer and averaging layer:\t\n"
      ]
     },
     "execution_count": 96,
     "metadata": {},
     "output_type": "execute_result"
    }
   ],
   "source": [
    "-- Now add the summation layer. The arguments are which dimension to\n",
    "-- sum over, the total number of input dimensions, and a boolean flag\n",
    "-- indicating whether or not to average the sum.\n",
    "-- We are summing over the sequence which corresponds to dimension 2.\n",
    "-- The input has 3 dimensions (output of lookup layer is \n",
    "-- batch x sequence x embedding) and we want to average the sum so \n",
    "-- flag is true. This is more or less what we want but there is an \n",
    "-- issue with the averaging part of the sum layer. \n",
    "\n",
    "-- What is it? (You can ignore it for now and through the output of this\n",
    "-- into a mlp. We can discuss how to fix it on Tuesday.)\n",
    "\n",
    "net:add(nn.Sum(2,3,true))\n",
    "print(\"Dimensions after lookup table layer and averaging layer:\")"
   ]
  },
  {
   "cell_type": "code",
   "execution_count": 97,
   "metadata": {
    "collapsed": false
   },
   "outputs": [
    {
     "data": {
      "text/plain": [
       " 2\n",
       " 5\n",
       "[torch.LongStorage of size 2]\n",
       "\n"
      ]
     },
     "execution_count": 97,
     "metadata": {},
     "output_type": "execute_result"
    }
   ],
   "source": [
    "print(#net:forward(input))"
   ]
  }
 ],
 "metadata": {
  "kernelspec": {
   "display_name": "iTorch",
   "language": "lua",
   "name": "itorch"
  },
  "language_info": {
   "name": "lua",
   "version": "5.1"
  }
 },
 "nbformat": 4,
 "nbformat_minor": 0
}
