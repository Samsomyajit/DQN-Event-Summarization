{
 "cells": [
  {
   "cell_type": "markdown",
   "metadata": {},
   "source": [
    "# ROUGE implementation in Torch"
   ]
  },
  {
   "cell_type": "code",
   "execution_count": null,
   "metadata": {
    "collapsed": false,
    "hide_input": false
   },
   "outputs": [],
   "source": [
    "---- Have to code up my own split function -- jacked it form StackOverflow\n",
    "function split(pString)\n",
    "   local pPattern = \" \"\n",
    "   local Table = {}  -- NOTE: use {n = 0} in Lua-5.0\n",
    "   local fpat = \"(.-)\" .. pPattern\n",
    "   local last_end = 1\n",
    "   local s, e, cap = pString:find(fpat, 1)\n",
    "   while s do\n",
    "      if s ~= 1 or cap ~= \"\" then\n",
    "     table.insert(Table, cap)\n",
    "      end\n",
    "      last_end = e + 1\n",
    "      s, e, cap = pString:find(fpat, last_end)\n",
    "   end\n",
    "   if last_end <= #pString then\n",
    "      cap = pString:sub(last_end)\n",
    "      table.insert(Table, cap)\n",
    "   end\n",
    "   return Table\n",
    "end\n",
    "---- Coding up my own tokenizer\n",
    "function BuildDic(x)\n",
    "    local o = {}\n",
    "    for k, v in pairs(x) do\n",
    "        if o[v] == nil then\n",
    "            o[v] = 1\n",
    "        else\n",
    "            o[v] = 1 + o[v]\n",
    "        end\n",
    "    end\n",
    "    return o\n",
    "end\n",
    "---- Putting them together\n",
    "function TokenizeData(inputdic)\n",
    "    local out = {}\n",
    "    if type(inputdic)=='string' then\n",
    "        inputdic = split(inputdic)\n",
    "    end\n",
    "    for k,v in pairs(inputdic) do\n",
    "        for j,l in pairs(BuildDic(split(v))) do\n",
    "           if out[j] == nil then\n",
    "                out[j] = l\n",
    "                else \n",
    "                out[j] = l + out[j]\n",
    "            end\n",
    "        end\n",
    "    end\n",
    "    return out\n",
    "end\n",
    "--- Now we can calculate ROUGE\n",
    "function rougeRecall(pred_summary, ref_summaries)\n",
    "    rsd = TokenizeData(ref_summaries)\n",
    "    sws = TokenizeData(pred_summary)\n",
    "    for k,v in pairs(rsd) do\n",
    "        if sws[k] == nil then\n",
    "            sws[k] = 0\n",
    "        end\n",
    "    end\n",
    "\n",
    "    for k,v in pairs(sws) do\n",
    "        if rsd[k] == nil then\n",
    "            rsd[k] = 0 \n",
    "        end\n",
    "    end\n",
    "    num = 0.\n",
    "    den = 0.\n",
    "    for k,v in pairs(rsd) do\n",
    "        num = num + math.min(rsd[k], sws[k])\n",
    "        den = den + rsd[k]\n",
    "    end\n",
    "    return num/den\n",
    "end\n",
    "---- Precision\n",
    "function rougePrecision(pred_summary, ref_summaries)\n",
    "    rsd = TokenizeData(ref_summaries)\n",
    "    sws = TokenizeData(pred_summary)\n",
    "    for k,v in pairs(rsd) do\n",
    "        if sws[k] == nil then\n",
    "            sws[k] = 0\n",
    "        end\n",
    "    end\n",
    "    for k,v in pairs(sws) do\n",
    "        if rsd[k] == nil then\n",
    "            rsd[k] = 0\n",
    "        end\n",
    "    end\n",
    "    num = 0.\n",
    "    den = 0.\n",
    "    for k,v in pairs(rsd) do\n",
    "        num = num + math.min(rsd[k], sws[k])\n",
    "        den = den + sws[k]\n",
    "    end\n",
    "    return num/den\n",
    "end\n",
    "---- F1\n",
    "function rougeF1(pred_summary, ref_summaries) \n",
    "    rnp = rougeRecall(pred_summary, ref_summaries)\n",
    "    rnr = rougePrecision(pred_summary, ref_summaries)\n",
    "    return (2. * rnp * rnr ) / (rnp + rnr)\n",
    "end"
   ]
  },
  {
   "cell_type": "code",
   "execution_count": null,
   "metadata": {
    "collapsed": false
   },
   "outputs": [],
   "source": [
    "ref_texts0 = {\"summary\"}\n",
    "ref_texts1 = {\"true summary\"}\n",
    "ref_texts2 = {\"summary\", \"true summary\"}\n",
    "ref_texts3 = {\"summary\", \"true summary\", \"my summary\"}\n",
    "summary_pred = \"my summary\""
   ]
  },
  {
   "cell_type": "code",
   "execution_count": null,
   "metadata": {
    "collapsed": false
   },
   "outputs": [],
   "source": [
    "for k,v in pairs({ref_texts0, ref_texts1, ref_texts2, ref_texts3}) do\n",
    "    print(rougeRecall(summary_pred,v))\n",
    "end"
   ]
  },
  {
   "cell_type": "code",
   "execution_count": null,
   "metadata": {
    "collapsed": false
   },
   "outputs": [],
   "source": [
    "for k,v in pairs({ref_texts0, ref_texts1, ref_texts2, ref_texts3}) do\n",
    "    print(rougePrecision(summary_pred,v))\n",
    "end"
   ]
  },
  {
   "cell_type": "code",
   "execution_count": null,
   "metadata": {
    "collapsed": false
   },
   "outputs": [],
   "source": [
    "for k,v in pairs({ref_texts0, ref_texts1, ref_texts2, ref_texts3}) do\n",
    "    print(rougeF1(summary_pred,v))\n",
    "end"
   ]
  }
 ],
 "metadata": {
  "kernelspec": {
   "display_name": "iTorch",
   "language": "lua",
   "name": "itorch"
  },
  "language_info": {
   "name": "lua",
   "version": "5.1"
  }
 },
 "nbformat": 4,
 "nbformat_minor": 0
}
