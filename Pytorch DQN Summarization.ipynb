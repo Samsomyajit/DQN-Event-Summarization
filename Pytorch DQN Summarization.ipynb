{
 "cells": [
  {
   "cell_type": "code",
   "execution_count": 169,
   "metadata": {
    "collapsed": true
   },
   "outputs": [],
   "source": [
    "import pandas as pd\n",
    "import numpy as np\n",
    "from collections import Counter\n",
    "\n",
    "from matplotlib import pyplot as plt\n",
    "%matplotlib inline"
   ]
  },
  {
   "cell_type": "code",
   "execution_count": 2,
   "metadata": {
    "collapsed": true
   },
   "outputs": [],
   "source": [
    "import torch\n",
    "import torch.autograd as autograd\n",
    "import torch.nn as nn\n",
    "import torch.nn.functional as F\n",
    "import torch.optim as optim\n",
    "\n",
    "import torch\n",
    "import torch.autograd as autograd\n",
    "import torch.nn as nn\n",
    "import torch.nn.functional as F\n",
    "import torch.optim as optim71"
   ]
  },
  {
   "cell_type": "code",
   "execution_count": 4,
   "metadata": {
    "collapsed": true
   },
   "outputs": [],
   "source": [
    "inputfile = \"/home/francisco/GitHub/DQN-Event-Summarization/data/cnn_tokenized/cnn_data_corpus.csv\"\n",
    "inputdict = \"/home/francisco/GitHub/DQN-Event-Summarization/data/cnn_tokenized/cnn_total_corpus_smry.csv\""
   ]
  },
  {
   "cell_type": "code",
   "execution_count": 3,
   "metadata": {},
   "outputs": [
    {
     "data": {
      "text/plain": [
       "<torch._C.Generator at 0x7f5b2bd838d0>"
      ]
     },
     "execution_count": 3,
     "metadata": {},
     "output_type": "execute_result"
    }
   ],
   "source": [
    "torch.manual_seed(1)"
   ]
  },
  {
   "cell_type": "code",
   "execution_count": 5,
   "metadata": {},
   "outputs": [
    {
     "name": "stderr",
     "output_type": "stream",
     "text": [
      "/home/francisco/anaconda3/lib/python3.6/site-packages/IPython/core/interactiveshell.py:2717: DtypeWarning: Columns (104,105,106,107,108,109,110,111,112,113,114,115,116,117,118,119,120,121,122,123,124,125,126,127) have mixed types. Specify dtype option on import or set low_memory=False.\n",
      "  interactivity=interactivity, compiler=compiler, result=result)\n"
     ]
    }
   ],
   "source": [
    "qdf = pd.read_csv(inputfile)\n",
    "qdict = pd.read_csv(inputdict)"
   ]
  },
  {
   "cell_type": "code",
   "execution_count": 6,
   "metadata": {
    "collapsed": true
   },
   "outputs": [],
   "source": [
    "queries = qdf['query_id']\n",
    "sentences = qdf[[x for x in qdf.columns if 'stokens_' in x]]\n",
    "\n",
    "true_summaries = {}\n",
    "for queryid, true_summary in zip(queries, qdf['tstokens']):\n",
    "    true_summaries[queryid] = Counter([int(x) for x in true_summary.split(\" \")])"
   ]
  },
  {
   "cell_type": "code",
   "execution_count": 7,
   "metadata": {
    "collapsed": true
   },
   "outputs": [],
   "source": [
    "def rougueScores(genSummary, refSummary):\n",
    "    genTotal, refTotal, intersection = 0, 0, 0\n",
    "    for token in list(set(list(refSummary.keys()) + list(genSummary.keys()) )):\n",
    "        intersection += min(refSummary[token], genSummary[token])\n",
    "        refTotal += refSummary[token]\n",
    "        genTotal += genSummary[token]\n",
    "\n",
    "    recall = intersection / float(refTotal) if float(refTotal) > 0 else 0\n",
    "    prec   = intersection / float(genTotal) if float(genTotal) > 0 else 0\n",
    "    f1 = (2 * recall * prec) / (recall + prec) if (recall + prec) > 0 else 0\n",
    "    \n",
    "    return recall, prec, f1"
   ]
  },
  {
   "cell_type": "code",
   "execution_count": 8,
   "metadata": {
    "scrolled": true
   },
   "outputs": [
    {
     "data": {
      "text/plain": [
       "0    68 69 70 71 72 0 73 74 75 76 77 15 78 79 80 81...\n",
       "1    394 84 570 574 56 105 558 20001 74 575 271 15 ...\n",
       "2    8 822 68 110 339 823 824 37 825 826 827 110 78...\n",
       "3    1194 1195 507 9 551 1196 1188 1197 430 8 37 11...\n",
       "4    37 574 56 869 8 578 3 579 580 1399 15 90 7 140...\n",
       "Name: stokens_3, dtype: object"
      ]
     },
     "execution_count": 8,
     "metadata": {},
     "output_type": "execute_result"
    }
   ],
   "source": [
    "sentences[sentences.columns[3]].head()"
   ]
  },
  {
   "cell_type": "code",
   "execution_count": 9,
   "metadata": {
    "collapsed": true
   },
   "outputs": [],
   "source": [
    "sentence_dict = {}\n",
    "for sentence in sentences.columns:\n",
    "    tmp = {}\n",
    "    for queryid in queries:\n",
    "        if queryid < 83566:\n",
    "            if type(sentences[sentence][queryid]) == str:\n",
    "                tmp[queryid] = [int(s) for s in sentences[sentence][queryid].split(\" \")]\n",
    "\n",
    "    sentence_dict[int(sentence.replace(\"stokens_\", \"\"))] = tmp"
   ]
  },
  {
   "cell_type": "code",
   "execution_count": 16,
   "metadata": {},
   "outputs": [
    {
     "name": "stdout",
     "output_type": "stream",
     "text": [
      "{76487: [62, 192, 20001, 110, 828, 2488, 103, 1585, 5397, 20001, 884, 17487, 2132]}\n"
     ]
    }
   ],
   "source": [
    "print(tmp)"
   ]
  },
  {
   "cell_type": "code",
   "execution_count": 17,
   "metadata": {
    "collapsed": true
   },
   "outputs": [],
   "source": [
    "trueSummary = Counter([1, 1, 1, 2, 2, 2, 2, 3, 3])\n",
    "\n",
    "predSummary0 = Counter([1, 1, 1, 2, 2, 2, 2, 3, 3])\n",
    "\n",
    "predSummary1 = Counter([1, 1, 1, 2, 2, 2, 2, 3, 3, 4])\n",
    "\n",
    "predSummary2 = Counter([1, 1, 1, 2, 2, 2, 2, 3])\n",
    "\n",
    "predSummary3 = Counter([4])"
   ]
  },
  {
   "cell_type": "code",
   "execution_count": 18,
   "metadata": {},
   "outputs": [
    {
     "name": "stdout",
     "output_type": "stream",
     "text": [
      "(1.0, 1.0, 1.0)\n",
      "(1.0, 0.9, 0.9473684210526316)\n",
      "(0.8888888888888888, 1.0, 0.9411764705882353)\n",
      "(0.0, 0.0, 0)\n"
     ]
    }
   ],
   "source": [
    "print(rougueScores(predSummary0, trueSummary))\n",
    "print(rougueScores(predSummary1, trueSummary))\n",
    "print(rougueScores(predSummary2, trueSummary))\n",
    "print(rougueScores(predSummary3, trueSummary))"
   ]
  },
  {
   "cell_type": "code",
   "execution_count": 19,
   "metadata": {},
   "outputs": [
    {
     "data": {
      "text/html": [
       "<div>\n",
       "<table border=\"1\" class=\"dataframe\">\n",
       "  <thead>\n",
       "    <tr style=\"text-align: right;\">\n",
       "      <th></th>\n",
       "      <th>id</th>\n",
       "      <th>token</th>\n",
       "      <th>frequency</th>\n",
       "      <th>cumfreq</th>\n",
       "      <th>percent</th>\n",
       "      <th>cumpercent</th>\n",
       "    </tr>\n",
       "  </thead>\n",
       "  <tbody>\n",
       "    <tr>\n",
       "      <th>0</th>\n",
       "      <td>40</td>\n",
       "      <td>by</td>\n",
       "      <td>4528679</td>\n",
       "      <td>4528679</td>\n",
       "      <td>0.007296</td>\n",
       "      <td>0.007296</td>\n",
       "    </tr>\n",
       "    <tr>\n",
       "      <th>1</th>\n",
       "      <td>17</td>\n",
       "      <td>try</td>\n",
       "      <td>4088095</td>\n",
       "      <td>8616774</td>\n",
       "      <td>0.006586</td>\n",
       "      <td>0.013882</td>\n",
       "    </tr>\n",
       "    <tr>\n",
       "      <th>2</th>\n",
       "      <td>9</td>\n",
       "      <td>once</td>\n",
       "      <td>3899082</td>\n",
       "      <td>12515856</td>\n",
       "      <td>0.006282</td>\n",
       "      <td>0.020163</td>\n",
       "    </tr>\n",
       "    <tr>\n",
       "      <th>3</th>\n",
       "      <td>114</td>\n",
       "      <td>case</td>\n",
       "      <td>3867709</td>\n",
       "      <td>16383565</td>\n",
       "      <td>0.006231</td>\n",
       "      <td>0.026394</td>\n",
       "    </tr>\n",
       "    <tr>\n",
       "      <th>4</th>\n",
       "      <td>3</td>\n",
       "      <td>45</td>\n",
       "      <td>3694710</td>\n",
       "      <td>20078275</td>\n",
       "      <td>0.005952</td>\n",
       "      <td>0.032347</td>\n",
       "    </tr>\n",
       "  </tbody>\n",
       "</table>\n",
       "</div>"
      ],
      "text/plain": [
       "    id token  frequency   cumfreq   percent  cumpercent\n",
       "0   40    by    4528679   4528679  0.007296    0.007296\n",
       "1   17   try    4088095   8616774  0.006586    0.013882\n",
       "2    9  once    3899082  12515856  0.006282    0.020163\n",
       "3  114  case    3867709  16383565  0.006231    0.026394\n",
       "4    3    45    3694710  20078275  0.005952    0.032347"
      ]
     },
     "execution_count": 19,
     "metadata": {},
     "output_type": "execute_result"
    }
   ],
   "source": [
    "qdict.head()"
   ]
  },
  {
   "cell_type": "code",
   "execution_count": 20,
   "metadata": {
    "collapsed": true
   },
   "outputs": [],
   "source": [
    "corpus_dict = dict(zip(qdict['id'].values, qdict['token'].values))"
   ]
  },
  {
   "cell_type": "code",
   "execution_count": 21,
   "metadata": {
    "collapsed": true
   },
   "outputs": [],
   "source": [
    "def make_bow_vector(sentence, word_to_ix):\n",
    "    vec = torch.zeros(len(word_to_ix))\n",
    "    for token in sentence:\n",
    "        vec[token] += 1\n",
    "    return vec.view(1, -1)"
   ]
  },
  {
   "cell_type": "code",
   "execution_count": 121,
   "metadata": {
    "collapsed": true
   },
   "outputs": [],
   "source": [
    "class BoWRegressor(nn.Module):  # inheriting from nn.Module!\n",
    "    # calls the init function of nn.Module.  Dont get confused by syntax, always do it in an nn.Module\n",
    "    def __init__(self, outputsize, vocab_size):        \n",
    "        super(BoWRegressor, self).__init__()        \n",
    "        self.linear = nn.Linear(vocab_size, outputsize)\n",
    "        \n",
    "    def forward(self, bow_vec):\n",
    "        return F.relu(self.linear(bow_vec))\n",
    "\n",
    "def make_target(label, label_to_ix):\n",
    "    return torch.LongTensor([label_to_ix[label]])"
   ]
  },
  {
   "cell_type": "code",
   "execution_count": 132,
   "metadata": {},
   "outputs": [],
   "source": [
    "train_data = [\n",
    "    (make_bow_vector([int(s) for s in sentences['stokens_0'][0].split(\" \")], corpus_dict),\n",
    "    torch.LongTensor([0]))\n",
    "]\n",
    "\n",
    "n = 10\n",
    "train_xs = torch.zeros(n, len(corpus_dict))\n",
    "# Simulating output\n",
    "train_ys = torch.from_numpy(np.random.random((n, 2))).float()\n",
    "for i, row in enumerate(sentences['stokens_0']):\n",
    "    tokens = row.split(\" \")\n",
    "    if len(tokens) > 0 and i < n:\n",
    "        train_xs[i, :] = make_bow_vector([int(s) for s in tokens], corpus_dict)"
   ]
  },
  {
   "cell_type": "code",
   "execution_count": 108,
   "metadata": {},
   "outputs": [
    {
     "name": "stdout",
     "output_type": "stream",
     "text": [
      "[0, 1, 2, 3, 4, 5, 6, 7]\n",
      "['i', 'm', '45', 'and', 'my', 'son', 'is']\n"
     ]
    }
   ],
   "source": [
    "print([int(s) for s in sentences['stokens_0'][0].split(\" \") ])\n",
    "print([corpus_dict[int(w)] for w in sentences['stokens_0'][0].split(\" \") if int(w) in corpus_dict])"
   ]
  },
  {
   "cell_type": "code",
   "execution_count": 110,
   "metadata": {},
   "outputs": [
    {
     "name": "stdout",
     "output_type": "stream",
     "text": [
      "8.0 21.0 203.0\n"
     ]
    }
   ],
   "source": [
    "print(train_xs[0].sum(), train_xs[1].sum(), train_xs.sum())"
   ]
  },
  {
   "cell_type": "code",
   "execution_count": 200,
   "metadata": {},
   "outputs": [],
   "source": [
    "outputsize = 2 \n",
    "vocab_size = len(corpus_dict)\n",
    "model = BoWRegressor(outputsize, vocab_size)"
   ]
  },
  {
   "cell_type": "code",
   "execution_count": 202,
   "metadata": {},
   "outputs": [
    {
     "name": "stdout",
     "output_type": "stream",
     "text": [
      "Variable containing:\n",
      "1.00000e-02 *\n",
      "  0.0000  0.0000\n",
      "  0.0000  0.9912\n",
      "  0.0000  0.8425\n",
      "  0.0000  0.0000\n",
      "  0.5767  1.6708\n",
      "  1.0358  0.4835\n",
      "  1.2015  0.3555\n",
      "  0.9197  1.2931\n",
      "  0.0379  1.5677\n",
      "  0.4724  0.1716\n",
      "[torch.FloatTensor of size 10x2]\n",
      "\n"
     ]
    }
   ],
   "source": [
    "rougue_preds = model(autograd.Variable(train_xs))\n",
    "print(rougue_preds)"
   ]
  },
  {
   "cell_type": "code",
   "execution_count": 203,
   "metadata": {},
   "outputs": [
    {
     "name": "stdout",
     "output_type": "stream",
     "text": [
      "0.402182\n",
      "Variable containing:\n",
      " 0.4022\n",
      "[torch.FloatTensor of size 1]\n",
      "\n"
     ]
    }
   ],
   "source": [
    "model.zero_grad()\n",
    "\n",
    "loss_function = nn.MSELoss()\n",
    "\n",
    "rougue_preds = model(autograd.Variable(train_xs))\n",
    "loss = loss_function(rougue_preds, autograd.Variable(train_ys))\n",
    "\n",
    "print(\n",
    "    (( (rougue_preds.data).cpu().numpy() - (autograd.Variable(train_ys).data).cpu().numpy() ) **2 ).mean()\n",
    "     )\n",
    "print(loss)"
   ]
  },
  {
   "cell_type": "code",
   "execution_count": 204,
   "metadata": {},
   "outputs": [],
   "source": [
    "optimizer = optim.SGD(model.parameters(), lr=0.1)\n",
    "\n",
    "lossf = {'loss': [], 'epoch': []}\n",
    "for epoch in range(100):\n",
    "    model.zero_grad()\n",
    "    \n",
    "    rougue_preds = model(autograd.Variable(train_xs))\n",
    "    loss = loss_function(rougue_preds, autograd.Variable(train_ys))\n",
    "    loss.backward()\n",
    "    optimizer.step()\n",
    "    lossf['loss'].append(loss.data[0])\n",
    "    lossf['epoch'].append(epoch)\n",
    "    \n",
    "perf = pd.DataFrame(lossf)"
   ]
  },
  {
   "cell_type": "code",
   "execution_count": 212,
   "metadata": {},
   "outputs": [
    {
     "data": {
      "image/png": "[encoded data removed]",
      "text/plain": [
       "<matplotlib.figure.Figure at 0x7f5a13499f28>"
      ]
     },
     "metadata": {},
     "output_type": "display_data"
    }
   ],
   "source": [
    "perf.plot(y='loss', figsize=(12, 6))\n",
    "plt.show()"
   ]
  },
  {
   "cell_type": "code",
   "execution_count": null,
   "metadata": {
    "collapsed": true
   },
   "outputs": [],
   "source": []
  }
 ],
 "metadata": {
  "kernelspec": {
   "display_name": "Python 3",
   "language": "python",
   "name": "python3"
  },
  "language_info": {
   "codemirror_mode": {
    "name": "ipython",
    "version": 3
   },
   "file_extension": ".py",
   "mimetype": "text/x-python",
   "name": "python",
   "nbconvert_exporter": "python",
   "pygments_lexer": "ipython3",
   "version": "3.6.1"
  }
 },
 "nbformat": 4,
 "nbformat_minor": 2
}
