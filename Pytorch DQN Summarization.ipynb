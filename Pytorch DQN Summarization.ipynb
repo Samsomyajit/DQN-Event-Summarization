{
 "cells": [
  {
   "cell_type": "code",
   "execution_count": 1,
   "metadata": {
    "collapsed": true
   },
   "outputs": [],
   "source": [
    "import pandas as pd\n",
    "import numpy as np\n",
    "from collections import Counter\n",
    "\n",
    "from matplotlib import pyplot as plt\n",
    "%matplotlib inline"
   ]
  },
  {
   "cell_type": "code",
   "execution_count": 2,
   "metadata": {
    "collapsed": true
   },
   "outputs": [],
   "source": [
    "import torch\n",
    "import torch.autograd as autograd\n",
    "import torch.nn as nn\n",
    "import torch.nn.functional as F\n",
    "import torch.optim as optim\n",
    "\n",
    "import torch\n",
    "import torch.autograd as autograd\n",
    "import torch.nn as nn\n",
    "import torch.nn.functional as F\n",
    "import torch.optim as optim"
   ]
  },
  {
   "cell_type": "code",
   "execution_count": 3,
   "metadata": {
    "collapsed": true
   },
   "outputs": [],
   "source": [
    "inputfile = \"/home/francisco/GitHub/DQN-Event-Summarization/data/cnn_tokenized/cnn_data_corpus.csv\"\n",
    "inputdict = \"/home/francisco/GitHub/DQN-Event-Summarization/data/cnn_tokenized/cnn_total_corpus_smry.csv\""
   ]
  },
  {
   "cell_type": "code",
   "execution_count": 4,
   "metadata": {},
   "outputs": [
    {
     "data": {
      "text/plain": [
       "<torch._C.Generator at 0x7fc91546ff00>"
      ]
     },
     "execution_count": 4,
     "metadata": {},
     "output_type": "execute_result"
    }
   ],
   "source": [
    "torch.manual_seed(1)"
   ]
  },
  {
   "cell_type": "code",
   "execution_count": 5,
   "metadata": {
    "collapsed": true
   },
   "outputs": [],
   "source": [
    "def rougueScores(genSummary, refSummary):\n",
    "    genTotal, refTotal, intersection = 0, 0, 0\n",
    "    for token in list(set(list(refSummary.keys()) + list(genSummary.keys()) )):\n",
    "        intersection += min(refSummary[token], genSummary[token])\n",
    "        refTotal += refSummary[token]\n",
    "        genTotal += genSummary[token]\n",
    "\n",
    "    recall = intersection / float(refTotal) if float(refTotal) > 0 else 0\n",
    "    prec   = intersection / float(genTotal) if float(genTotal) > 0 else 0\n",
    "    f1 = (2 * recall * prec) / (recall + prec) if (recall + prec) > 0 else 0\n",
    "    \n",
    "    return recall, prec, f1\n",
    "\n",
    "def make_target(label, label_to_ix):\n",
    "    return torch.LongTensor([label_to_ix[label]])\n",
    "\n",
    "def make_bow_vector(sentence, word_to_ix):\n",
    "    vec = torch.zeros(len(word_to_ix))\n",
    "    for token in sentence:\n",
    "        vec[token] += 1\n",
    "    return vec.view(1, -1)\n",
    "\n",
    "class BoWRegressor(nn.Module):  # inheriting from nn.Module!\n",
    "    # calls the init function of nn.Module.  Dont get confused by syntax, always do it in an nn.Module\n",
    "    def __init__(self, outputsize, vocab_size):        \n",
    "        super(BoWRegressor, self).__init__()        \n",
    "        self.linear = nn.Linear(vocab_size, outputsize)\n",
    "        \n",
    "    def forward(self, bow_vec):\n",
    "        return F.relu(self.linear(bow_vec))"
   ]
  },
  {
   "cell_type": "code",
   "execution_count": 6,
   "metadata": {},
   "outputs": [
    {
     "name": "stderr",
     "output_type": "stream",
     "text": [
      "/home/francisco/anaconda3/lib/python3.6/site-packages/IPython/core/interactiveshell.py:2717: DtypeWarning: Columns (104,105,106,107,108,109,110,111,112,113,114,115,116,117,118,119,120,121,122,123,124,125,126,127) have mixed types. Specify dtype option on import or set low_memory=False.\n",
      "  interactivity=interactivity, compiler=compiler, result=result)\n"
     ]
    }
   ],
   "source": [
    "qdf = pd.read_csv(inputfile)\n",
    "qdict = pd.read_csv(inputdict)"
   ]
  },
  {
   "cell_type": "code",
   "execution_count": 7,
   "metadata": {
    "collapsed": true
   },
   "outputs": [],
   "source": [
    "queries = qdf['query_id']\n",
    "sentences = qdf[[x for x in qdf.columns if 'stokens_' in x]]\n",
    "\n",
    "true_summaries = {}\n",
    "for queryid, true_summary in zip(queries, qdf['tstokens']):\n",
    "    true_summaries[queryid] = Counter([int(x) for x in true_summary.split(\" \")])"
   ]
  },
  {
   "cell_type": "code",
   "execution_count": 8,
   "metadata": {
    "scrolled": true
   },
   "outputs": [
    {
     "data": {
      "text/plain": [
       "0                                      0 1 2 3 4 5 6 7\n",
       "1    78 79 549 411 550 44 551 552 549 84 553 20001 ...\n",
       "2                  37 549 788 41 20001 756 8 78 79 572\n",
       "3    78 79 549 280 1168 105 1169 37 78 79 572 538 8...\n",
       "4    78 79 549 139 1380 1381 318 9 1382 1383 8 1384...\n",
       "Name: stokens_0, dtype: object"
      ]
     },
     "execution_count": 8,
     "metadata": {},
     "output_type": "execute_result"
    }
   ],
   "source": [
    "sentences['stokens_0'].head()"
   ]
  },
  {
   "cell_type": "code",
   "execution_count": 9,
   "metadata": {
    "collapsed": true
   },
   "outputs": [],
   "source": [
    "corpus_dict = dict(zip(qdict['id'].values, qdict['token'].values))"
   ]
  },
  {
   "cell_type": "code",
   "execution_count": 10,
   "metadata": {},
   "outputs": [
    {
     "name": "stdout",
     "output_type": "stream",
     "text": [
      "[0, 1, 2, 3, 4, 5, 6, 7]\n",
      "['i', 'm', '45', 'and', 'my', 'son', 'is']\n"
     ]
    }
   ],
   "source": [
    "print([int(s) for s in sentences['stokens_0'][0].split(\" \") ])\n",
    "print([corpus_dict[int(w)] for w in sentences['stokens_0'][0].split(\" \") if int(w) in corpus_dict])"
   ]
  },
  {
   "cell_type": "code",
   "execution_count": 11,
   "metadata": {
    "collapsed": true
   },
   "outputs": [],
   "source": [
    "trueSummary = Counter([1, 1, 1, 2, 2, 2, 2, 3, 3])\n",
    "\n",
    "predSummary0 = Counter([1, 1, 1, 2, 2, 2, 2, 3, 3])\n",
    "\n",
    "predSummary1 = Counter([1, 1, 1, 2, 2, 2, 2, 3, 3, 4])\n",
    "\n",
    "predSummary2 = Counter([1, 1, 1, 2, 2, 2, 2, 3])\n",
    "\n",
    "predSummary3 = Counter([4])"
   ]
  },
  {
   "cell_type": "code",
   "execution_count": 12,
   "metadata": {},
   "outputs": [
    {
     "name": "stdout",
     "output_type": "stream",
     "text": [
      "(1.0, 1.0, 1.0)\n",
      "(1.0, 0.9, 0.9473684210526316)\n",
      "(0.8888888888888888, 1.0, 0.9411764705882353)\n",
      "(0.0, 0.0, 0)\n"
     ]
    }
   ],
   "source": [
    "print(rougueScores(predSummary0, trueSummary))\n",
    "print(rougueScores(predSummary1, trueSummary))\n",
    "print(rougueScores(predSummary2, trueSummary))\n",
    "print(rougueScores(predSummary3, trueSummary))"
   ]
  },
  {
   "cell_type": "code",
   "execution_count": 13,
   "metadata": {},
   "outputs": [],
   "source": [
    "n = 10\n",
    "\n",
    "train_xs = torch.zeros(n, len(corpus_dict))\n",
    "train_ys = torch.from_numpy(np.random.random((n, 2))).float()  # Simulating the output\n",
    "\n",
    "for i, row in enumerate(sentences['stokens_0']):\n",
    "    tokens = row.split(\" \")\n",
    "    if len(tokens) > 0 and i < n:\n",
    "        train_xs[i, :] = make_bow_vector([int(s) for s in tokens], corpus_dict)"
   ]
  },
  {
   "cell_type": "code",
   "execution_count": 14,
   "metadata": {},
   "outputs": [],
   "source": [
    "outputsize = 2 \n",
    "vocab_size = len(corpus_dict)\n",
    "model = BoWRegressor(outputsize, vocab_size)"
   ]
  },
  {
   "cell_type": "code",
   "execution_count": 15,
   "metadata": {},
   "outputs": [
    {
     "name": "stdout",
     "output_type": "stream",
     "text": [
      "0.341431\n",
      "Variable containing:\n",
      " 0.3414\n",
      "[torch.FloatTensor of size 1]\n",
      "\n"
     ]
    }
   ],
   "source": [
    "model.zero_grad()\n",
    "\n",
    "loss_function = nn.MSELoss()\n",
    "\n",
    "rougue_preds = model(autograd.Variable(train_xs))\n",
    "loss = loss_function(rougue_preds, autograd.Variable(train_ys))\n",
    "\n",
    "print(\n",
    "    (( (rougue_preds.data).cpu().numpy() - (autograd.Variable(train_ys).data).cpu().numpy() ) **2 ).mean()\n",
    "     )\n",
    "print(loss)"
   ]
  },
  {
   "cell_type": "code",
   "execution_count": 16,
   "metadata": {},
   "outputs": [
    {
     "data": {
      "image/png": "[encoded data removed]",
      "text/plain": [
       "<matplotlib.figure.Figure at 0x7fc8db7f0cc0>"
      ]
     },
     "metadata": {},
     "output_type": "display_data"
    }
   ],
   "source": [
    "optimizer = optim.SGD(model.parameters(), lr=0.1)\n",
    "\n",
    "lossf = {'loss': [], 'epoch': []}\n",
    "for epoch in range(100):\n",
    "    model.zero_grad()\n",
    "    \n",
    "    rougue_preds = model(autograd.Variable(train_xs))\n",
    "    loss = loss_function(rougue_preds, autograd.Variable(train_ys))\n",
    "    loss.backward()\n",
    "    optimizer.step()\n",
    "    lossf['loss'].append(loss.data[0])\n",
    "    lossf['epoch'].append(epoch)\n",
    "    \n",
    "perf = pd.DataFrame(lossf)\n",
    "\n",
    "perf.plot(y='loss', figsize=(12, 6))\n",
    "plt.show()"
   ]
  },
  {
   "cell_type": "code",
   "execution_count": null,
   "metadata": {
    "collapsed": true
   },
   "outputs": [],
   "source": []
  }
 ],
 "metadata": {
  "kernelspec": {
   "display_name": "Python 3",
   "language": "python",
   "name": "python3"
  },
  "language_info": {
   "codemirror_mode": {
    "name": "ipython",
    "version": 3
   },
   "file_extension": ".py",
   "mimetype": "text/x-python",
   "name": "python",
   "nbconvert_exporter": "python",
   "pygments_lexer": "ipython3",
   "version": "3.6.1"
  }
 },
 "nbformat": 4,
 "nbformat_minor": 2
}
