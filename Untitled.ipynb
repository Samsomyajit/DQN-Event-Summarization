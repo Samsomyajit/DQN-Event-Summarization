{
 "cells": [
  {
   "cell_type": "code",
   "execution_count": 1,
   "metadata": {
    "collapsed": false
   },
   "outputs": [
    {
     "data": {
      "text/plain": [
       "...Utils file loaded\t\n"
      ]
     },
     "execution_count": 1,
     "metadata": {},
     "output_type": "execute_result"
    }
   ],
   "source": [
    "require 'optim'\n",
    "require 'io'\n",
    "require 'torch'\n",
    "require 'nn'\n",
    "require 'rnn'\n",
    "require 'csvigo'\n",
    "require 'cutorch'\n",
    "require 'cunn'\n",
    "require 'cunnx'\n",
    "\n",
    "dl = require 'dataload'\n",
    "cmd = torch.CmdLine()\n",
    "dofile(\"Code/utils.lua\")\n",
    "dofile(\"Code/utilsNN.lua\")"
   ]
  },
  {
   "cell_type": "code",
   "execution_count": 2,
   "metadata": {
    "collapsed": false,
    "scrolled": true
   },
   "outputs": [
    {
     "data": {
      "text/plain": [
       "Running on a subset of 20 observations\t\n"
      ]
     },
     "execution_count": 2,
     "metadata": {},
     "output_type": "execute_result"
    },
    {
     "data": {
      "text/plain": [
       "Running bag-of-words model to learn f1\t\n"
      ]
     },
     "execution_count": 2,
     "metadata": {},
     "output_type": "execute_result"
    },
    {
     "data": {
      "text/plain": [
       "Using adaptive regularization\t\n"
      ]
     },
     "execution_count": 2,
     "metadata": {},
     "output_type": "execute_result"
    },
    {
     "data": {
      "text/plain": [
       "predQ\t-0.2046 -0.3074\n",
       "[torch.DoubleTensor of size 1x2]\n",
       "\n",
       "predReg\t 1\n",
       "[torch.DoubleTensor of size 1x1]\n",
       "\n",
       "actions\t 0  1\n",
       "[torch.ByteTensor of size 1x2]\n",
       "\n",
       "predQonActions\t-0.3074\n",
       "[torch.DoubleTensor of size 1]\n",
       "\n"
      ]
     },
     "execution_count": 2,
     "metadata": {},
     "output_type": "execute_result"
    },
    {
     "data": {
      "text/plain": [
       "rmse\t0.28878593972883\t\n"
      ]
     },
     "execution_count": 2,
     "metadata": {},
     "output_type": "execute_result"
    }
   ],
   "source": [
    "datapath ='data/0-output/'\n",
    "\n",
    "Tensor = torch.Tensor\n",
    "LongTensor = torch.LongTensor\n",
    "ByteTensor = torch.ByteTensor\n",
    "\n",
    "use_cuda = false\n",
    "thresh = 0\n",
    "edim = 10\n",
    "metric = 'f1'\n",
    "inputs = loadMetadata(datapath .. \"dqn_metadata.csv\")                                               \n",
    "stoplist = loadStopdata(datapath .. 'stopwordids.csv')\n",
    "adapt = true\n",
    "\n",
    "vocabSize, query_data = initialize_variables(inputs, 20, datapath, 5, 30, stoplist, thresh, use_cuda)\n",
    "\n",
    "model = buildModel('bow', vocabSize, edim, metric, true, use_cuda)\n",
    "\n",
    "criterion = nn.ParallelCriterion():add(nn.MSECriterion()):add(nn.BCECriterion())\n",
    "\n",
    "SKIP = 1\n",
    "SELECT = 2\n",
    "\n",
    "query_randomF1 = {}\n",
    "params, gradParams = model:getParameters()\n",
    "\n",
    "query_id = 1\n",
    "\n",
    "\n",
    "sentenceStream = query_data[query_id][1]\n",
    "streamSize = query_data[query_id][2]\n",
    "query = query_data[query_id][3]\n",
    "actions = query_data[query_id][4]\n",
    "exploreDraws = query_data[query_id][5]\n",
    "summaryBuffer = query_data[query_id][6]\n",
    "qValues = query_data[query_id][7]\n",
    "rouge = query_data[query_id][8]\n",
    "actionsOpt = query_data[query_id][9]\n",
    "rougeOpt = query_data[query_id][10]\n",
    "refSummary = query_data[query_id][11]\n",
    "refCounts = query_data[query_id][12]\n",
    "buffer = query_data[query_id][13]\n",
    "\n",
    "maskLayer = nn.MaskedSelect()\n",
    "-- Have to set clear the inputs at the beginning of each scoring round\n",
    "actions:fill(0)\n",
    "actionsOpt:fill(0)\n",
    "rouge:fill(0)\n",
    "rougeOpt:fill(0)\n",
    "qValues:fill(0)\n",
    "summaryBuffer:fill(0)\n",
    "buffer:fill(0)\n",
    "exploreDraws:fill(0)\n",
    "exploreDraws:uniform(0, 1)\n",
    "summary = summaryBuffer:zero():narrow(1, 1, 1) -- summary starts empty\n",
    "\n",
    "i = 1\n",
    "\n",
    "sentence = sentenceStream:narrow(1, i, 1)\n",
    "\n",
    "predTotal = model:forward({sentence, query, summary})\n",
    "predQ = predTotal[1]\n",
    "predReg = predTotal[2]\n",
    "actions = ByteTensor(1, 2):fill(0)\n",
    "\n",
    "if qValues[i][SKIP] > qValues[i][SELECT] then\n",
    "    actions[i][SKIP] = 1\n",
    "else\n",
    "    actions[i][SELECT] = 1\n",
    "end\n",
    "\n",
    "predQOnActions = maskLayer:forward({predQ[i], actions[i]}) \n",
    "\n",
    "print('predQ', predQ)\n",
    "print('predReg', predReg)\n",
    "print('actions', actions)\n",
    "print('predQonActions', predQOnActions)\n",
    "\n",
    "reward = torch.zeros(1):fill(0.23):resize(1,1)\n",
    "class = torch.ones(1):resize(1,1)\n",
    "\n",
    "nll = nn.BCECriterion()\n",
    "mse = nn.MSECriterion()\n",
    "pc = nn.ParallelCriterion():add(mse):add(nll)\n",
    "\n",
    "lossf = mse:forward(predQOnActions, reward)\n",
    "print('rmse', lossf)\n",
    "\n",
    "lossf = criterion:forward({predQOnActions, predReg}, {reward, class})"
   ]
  },
  {
   "cell_type": "code",
   "execution_count": 3,
   "metadata": {
    "collapsed": false
   },
   "outputs": [
    {
     "data": {
      "text/plain": [
       " 0.2300\n",
       "[torch.DoubleTensor of size 1x1]\n",
       "\n"
      ]
     },
     "execution_count": 3,
     "metadata": {},
     "output_type": "execute_result"
    }
   ],
   "source": [
    "reward"
   ]
  },
  {
   "cell_type": "code",
   "execution_count": 31,
   "metadata": {
    "collapsed": false
   },
   "outputs": [
    {
     "data": {
      "text/plain": [
       "-0.2046\n",
       "-0.3074\n",
       "[torch.DoubleTensor of size 2]\n",
       "\n",
       " 0\n",
       " 1\n",
       "[torch.ByteTensor of size 2]\n",
       "\n"
      ]
     },
     "execution_count": 31,
     "metadata": {},
     "output_type": "execute_result"
    }
   ],
   "source": [
    "predQ[i], actions[i]"
   ]
  },
  {
   "cell_type": "code",
   "execution_count": 5,
   "metadata": {
    "collapsed": false
   },
   "outputs": [
    {
     "data": {
      "text/plain": [
       "-0.3074\n",
       "[torch.DoubleTensor of size 1]\n",
       "\n",
       " 1\n",
       "[torch.DoubleTensor of size 1x1]\n",
       "\n"
      ]
     },
     "execution_count": 5,
     "metadata": {},
     "output_type": "execute_result"
    }
   ],
   "source": [
    "predQOnActions, predReg"
   ]
  },
  {
   "cell_type": "code",
   "execution_count": 6,
   "metadata": {
    "collapsed": false
   },
   "outputs": [],
   "source": [
    "predTotal = model:forward({sentence, query, summary})\n",
    "predQ = predTotal[1]\n",
    "predReg = predTotal[2]\n",
    "\n",
    "predQOnActions = maskLayer:forward({predQ[i], actions[i]}) \n",
    "lossf = criterion:forward({predQOnActions, predReg}, {reward, class})\n",
    "gradOutput = criterion:backward({predQOnActions, predReg}, {reward, class})\n",
    "gradMaskLayer = maskLayer:backward({predQ, actions}, gradOutput[1])"
   ]
  },
  {
   "cell_type": "code",
   "execution_count": 32,
   "metadata": {
    "collapsed": false
   },
   "outputs": [
    {
     "data": {
      "text/plain": [
       "{\n",
       "  1 : DoubleTensor - size: 1\n",
       "  2 : DoubleTensor - size: 1x1\n",
       "}\n",
       "{\n",
       "  1 : DoubleTensor - size: 1x2\n",
       "  2 : ByteTensor - size: 1x2\n",
       "}\n"
      ]
     },
     "execution_count": 32,
     "metadata": {},
     "output_type": "execute_result"
    }
   ],
   "source": [
    "gradOutput, gradMaskLayer"
   ]
  },
  {
   "cell_type": "code",
   "execution_count": 8,
   "metadata": {
    "collapsed": false
   },
   "outputs": [
    {
     "data": {
      "text/plain": [
       "-1.0748\n",
       "[torch.DoubleTensor of size 1]\n",
       "\n"
      ]
     },
     "execution_count": 8,
     "metadata": {},
     "output_type": "execute_result"
    }
   ],
   "source": [
    "gradOutput[1]"
   ]
  },
  {
   "cell_type": "code",
   "execution_count": 34,
   "metadata": {
    "collapsed": false
   },
   "outputs": [
    {
     "data": {
      "text/plain": [
       "{\n",
       "  1 : LongTensor - size: 1x5\n",
       "  2 : LongTensor - size: 1x3\n",
       "  3 : LongTensor - size: 1x30\n",
       "}\n"
      ]
     },
     "execution_count": 34,
     "metadata": {},
     "output_type": "execute_result"
    }
   ],
   "source": [
    "print(model:backward({sentence, query, summary}, {gradMaskLayer[1], gradOutput[1]}) )"
   ]
  },
  {
   "cell_type": "code",
   "execution_count": 12,
   "metadata": {
    "collapsed": false
   },
   "outputs": [
    {
     "data": {
      "text/plain": [
       "success\t\n"
      ]
     },
     "execution_count": 12,
     "metadata": {},
     "output_type": "execute_result"
    }
   ],
   "source": [
    "model:backward({sentence, query, summary}, {gradMaskLayer[1], gradOutput[2]})\n",
    "print('success')\n",
    "\n",
    "-- memory, rougeRecall, rougePrecision, rougeF1, qValues = forwardpass(\n",
    "--                 query_data, query_id, model, 1, 0., \n",
    "--                 metric, thresh, stoplist, use_cuda\n",
    "-- )"
   ]
  },
  {
   "cell_type": "code",
   "execution_count": null,
   "metadata": {
    "collapsed": true
   },
   "outputs": [],
   "source": []
  }
 ],
 "metadata": {
  "kernelspec": {
   "display_name": "iTorch",
   "language": "lua",
   "name": "itorch"
  },
  "language_info": {
   "name": "lua",
   "version": "5.1"
  }
 },
 "nbformat": 4,
 "nbformat_minor": 0
}
