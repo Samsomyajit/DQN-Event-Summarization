{
 "cells": [
  {
   "cell_type": "code",
   "execution_count": 1,
   "metadata": {
    "collapsed": false
   },
   "outputs": [
    {
     "name": "stdout",
     "output_type": "stream",
     "text": [
      "Couldn't import dot_parser, loading of dot files will not be possible.\n"
     ]
    },
    {
     "name": "stderr",
     "output_type": "stream",
     "text": [
      "Using gpu device 0: GeForce GT 750M (CNMeM is disabled, cuDNN 5004)\n"
     ]
    }
   ],
   "source": [
    "import os\n",
    "import re\n",
    "import sys\n",
    "import pickle\n",
    "import csv\n",
    "import gzip\n",
    "import numpy as np\n",
    "from itertools import chain\n",
    "from bs4 import BeautifulSoup\n",
    "import pandas as pd\n",
    "from gensim import corpora\n",
    "from gensim.parsing.preprocessing import STOPWORDS\n",
    "from collections import defaultdict    "
   ]
  },
  {
   "cell_type": "code",
   "execution_count": 2,
   "metadata": {
    "collapsed": true
   },
   "outputs": [],
   "source": [
    "def ExtractFirstSentence(infilelist):\n",
    "    for infile in infilelist:\n",
    "        tmpdf = pd.read_csv(infile, sep='\\t')\n",
    "        tmpdf = tmpdf[tmpdf['sentence']==0]\n",
    "        newfilename = infile.replace(\".tsv.gz\", \"_fs.tsv\").replace(\"/archive\", \"\")\n",
    "        tmpdf.to_csv(newfilename, index=False, sep='\\t')\n",
    "        \n",
    "def read_queries(fname):\n",
    "    f = open(fname, 'rb')\n",
    "    out = f.readlines()\n",
    "    ox = BeautifulSoup(''.join(out),'lxml').contents[1]\n",
    "    qdata = []\n",
    "    for i in ox.findAll('event'):\n",
    "        qdata.append((i.findAll('query')[0].text, \n",
    "                  int(i.findAll(\"id\")[0].text),\n",
    "                  fname.split(\"/\")[-1].replace(\"-ts-topics-test.xml\", \"\").replace(\"trec20\",\"TS\"),\n",
    "                    i.findAll('title')[0].text))\n",
    "    return qdata\n",
    "\n",
    "def gzipFile(f):\n",
    "    f_in = open(f, 'rb')\n",
    "    f_out = gzip.open(f + \".gz\", 'wb')\n",
    "    f_out.writelines(f_in)\n",
    "    f_out.close()\n",
    "    f_in.close()    "
   ]
  },
  {
   "cell_type": "code",
   "execution_count": 3,
   "metadata": {
    "collapsed": true
   },
   "outputs": [],
   "source": [
    "inputdir = './DO_NOT_UPLOAD_THIS_DATA/'"
   ]
  },
  {
   "cell_type": "code",
   "execution_count": 4,
   "metadata": {
    "collapsed": false
   },
   "outputs": [],
   "source": [
    "if 'archive' not in os.listdir(os.path.join(inputdir, 'corpus-data')):\n",
    "    os.system(\"mkdir %s/corpus-data/archive\" % inputdir)\n",
    "    os.system(\"mv %s/corpus-data/*.tsv.gz %s/corpus-data/archive/\" % (inputdir, inputdir) )\n",
    "\n",
    "if 'fs' not in os.listdir(os.path.join(inputdir, 'corpus-data')):\n",
    "    if len(os.listdir(os.path.join(inputdir, 'corpus-data/archive')))==0:\n",
    "        os.system(\"mv %s/corpus-data/*.tsv.gz %s/corpus-data/archive/\" % (inputdir, inputdir) )\n",
    "\n",
    "    infilelist = os.listdir(os.path.join(inputdir, 'corpus-data/archive'))\n",
    "    infilelist = [os.path.join(inputdir, 'corpus-data/archive/%s' % x) for x in infilelist if '.tsv.gz' in x]\n",
    "    # Exporting the first sentence of the articles\n",
    "    ExtractFirstSentence(infilelist)\n",
    "    infilelist = [x for x in os.listdir(os.path.join(inputdir,'corpus-data')) if '.tsv' in x]"
   ]
  },
  {
   "cell_type": "code",
   "execution_count": 5,
   "metadata": {
    "collapsed": false
   },
   "outputs": [],
   "source": [
    "infilelist = [x for x in os.listdir(os.path.join(inputdir,'corpus-data')) if '.tsv' in x]\n",
    "[gzipFile(os.path.join(inputdir, 'corpus-data', newfilename)) for newfilename in infilelist]\n",
    "infilelist = [x + '.gz' for x in infilelist]"
   ]
  },
  {
   "cell_type": "code",
   "execution_count": 10,
   "metadata": {
    "collapsed": true
   },
   "outputs": [],
   "source": []
  },
  {
   "cell_type": "code",
   "execution_count": null,
   "metadata": {
    "collapsed": true
   },
   "outputs": [],
   "source": [
    "nuggets = []\n",
    "nuggfiles = [os.path.join(inputdir, 'nuggets-data/nuggets_%i.tsv.gz') % x for x in range(2013, 2016)]\n",
    "for nuggfile in nuggfiles:\n",
    "    tmpnuggets = pd.read_csv(nuggfile, sep='\\t')\n",
    "    for q in tmpnuggets['query_id'].unique():\n",
    "         if \"TEST\" not in q:\n",
    "            nuggfile = os.path.join(inputdir, \"nuggets-data/%s_nuggets.csv\" % q)\n",
    "            nuggets.append(nuggfile)\n"
   ]
  },
  {
   "cell_type": "code",
   "execution_count": null,
   "metadata": {
    "collapsed": false
   },
   "outputs": [],
   "source": [
    "qfilenames = [os.path.join(inputdir, 'trec-data/trec%i-ts-topics-test.xml') % x for x in range(2013, 2014)]\n",
    "qtuple = list(chain(*[read_queries(xml_file) for xml_file in qfilenames ]))\n",
    "infilelist = [os.path.join(inputdir, 'corpus-data/%s_fs.tsv.gz' % t.replace(\" \", \"_\").lower()) for (q, i, n, t)  in qtuple if i != 7]\n",
    "# Limiting the files\n",
    "input_files = [os.path.join(inputdir, 'corpus-data/', x) for x in os.listdir(os.path.join(inputdir, 'corpus-data/')) if 'tsv.gz' in x]\n",
    "infilelist = [x for x in infilelist if x in input_files]\n",
    "\n",
    "infilelist += qfilenames\n",
    "# Incorporating the streams\n",
    "outfilelist = [os.path.join(inputdir, '0-output/%s_tokenized' % x.split(\"/\")[-1].split(\".\")[0]) for x in infilelist]\n",
    "# Incporating the nuggets\n",
    "infilelist += [os.path.join(inputdir, 'nuggets-data/%s.%i_nuggets.csv' % (n, i)) for (q, i, n, t)  in qtuple]\n",
    "\n",
    "infilelist = infilelist + qfilenames + nuggets\n",
    "outfilelist+= [os.path.join(inputdir, '0-output/%s.%i_nuggets_tokenized' % (n, i)) for (q, i, n, t)  in qtuple]"
   ]
  },
  {
   "cell_type": "code",
   "execution_count": null,
   "metadata": {
    "collapsed": false
   },
   "outputs": [],
   "source": [
    "[os.path.join(inputdir, 'corpus-data/', x) for x in os.listdir(os.path.join(inputdir, 'corpus-data/'))]"
   ]
  },
  {
   "cell_type": "code",
   "execution_count": null,
   "metadata": {
    "collapsed": false
   },
   "outputs": [],
   "source": [
    "[os.path.join(inputdir, 'corpus-data/', x) for x in os.listdir(os.path.join(inputdir, 'corpus-data/')) if 'fs' in x]"
   ]
  },
  {
   "cell_type": "code",
   "execution_count": null,
   "metadata": {
    "collapsed": true
   },
   "outputs": [],
   "source": []
  }
 ],
 "metadata": {
  "kernelspec": {
   "display_name": "Python 2",
   "language": "python",
   "name": "python2"
  },
  "language_info": {
   "codemirror_mode": {
    "name": "ipython",
    "version": 2
   },
   "file_extension": ".py",
   "mimetype": "text/x-python",
   "name": "python",
   "nbconvert_exporter": "python",
   "pygments_lexer": "ipython2",
   "version": "2.7.12"
  }
 },
 "nbformat": 4,
 "nbformat_minor": 0
}
