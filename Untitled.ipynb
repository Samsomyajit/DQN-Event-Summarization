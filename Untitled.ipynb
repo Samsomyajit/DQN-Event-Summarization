{
 "cells": [
  {
   "cell_type": "code",
   "execution_count": 1,
   "metadata": {
    "collapsed": false
   },
   "outputs": [
    {
     "data": {
      "text/plain": [
       "...Utils file loaded\t\n"
      ]
     },
     "execution_count": 1,
     "metadata": {},
     "output_type": "execute_result"
    }
   ],
   "source": [
    "require 'optim'\n",
    "require 'io'\n",
    "require 'torch'\n",
    "require 'nn'\n",
    "require 'rnn'\n",
    "require 'csvigo'\n",
    "require 'cutorch'\n",
    "require 'cunn'\n",
    "require 'cunnx'\n",
    "\n",
    "dl = require 'dataload'\n",
    "cmd = torch.CmdLine()\n",
    "dofile(\"Code/utils.lua\")\n",
    "dofile(\"Code/utilsNN.lua\")"
   ]
  },
  {
   "cell_type": "code",
   "execution_count": 2,
   "metadata": {
    "collapsed": false
   },
   "outputs": [
    {
     "data": {
      "text/plain": [
       "Running on a subset of 20 observations\t\n"
      ]
     },
     "execution_count": 2,
     "metadata": {},
     "output_type": "execute_result"
    },
    {
     "data": {
      "text/plain": [
       "...query loaded\t\n"
      ]
     },
     "execution_count": 2,
     "metadata": {},
     "output_type": "execute_result"
    }
   ],
   "source": [
    "datapath = 'data/0-output/'\n",
    "\n",
    "Tensor = torch.Tensor\n",
    "LongTensor = torch.LongTensor\n",
    "ByteTensor = torch.ByteTensor\n",
    "\n",
    "use_cuda = false\n",
    "\n",
    "thresh = 0\n",
    "edim = 10\n",
    "metric = 'f1'\n",
    "inputs = loadMetadata(datapath .. \"dqn_metadata.csv\")                                               \n",
    "stoplist = loadStopdata(datapath .. 'stopwordids.csv')\n",
    "adapt = true\n",
    "metric ='f1'\n",
    "use_cuda = false\n",
    "embeddingSize = 20\n",
    "\n",
    "nepochs = 2\n",
    "gamma= 0.\n",
    "learning_rate = 0.1\n",
    "epsilon = 1\n",
    "stopwordlist = stopwords \n",
    "mem_size = 100\n",
    "optimParams = { learningRate = learning_rate }\n",
    "\n",
    "vocabSize, query_data = initialize_variables(inputs, 20, datapath, 5, 30, stoplist, thresh, use_cuda)\n",
    "\n",
    "print(\"...query loaded\")"
   ]
  },
  {
   "cell_type": "code",
   "execution_count": 5,
   "metadata": {
    "collapsed": false
   },
   "outputs": [
    {
     "data": {
      "text/plain": [
       "{\n",
       "  1 : LongTensor - size: 20x5\n",
       "  2 : 20\n",
       "  3 : LongTensor - size: 1x3\n",
       "  4 : ByteTensor - size: 20x2\n",
       "  5 : DoubleTensor - size: 20\n",
       "  6 : LongTensor - size: 21x30\n",
       "  7 : DoubleTensor - size: 20x2\n",
       "  8 : DoubleTensor - size: 21\n",
       "  9 : ByteTensor - size: 20x2\n",
       "  10 : DoubleTensor - size: 21\n",
       "  11 : DoubleTensor - size: 1x623\n",
       "  12 : \n",
       "    {\n",
       "      13 : 89\n",
       "      83 : 0\n",
       "      293 : 0\n",
       "      9 : 0\n",
       "      245 : 0\n",
       "      942 : 89\n",
       "      215 : 0\n",
       "      181 : 0\n",
       "      298 : 0\n",
       "      243 : 0\n",
       "      210 : 0\n",
       "      94 : 0\n",
       "      57510 : 178\n",
       "      248 : 0\n",
       "      88 : 0\n",
       "      2597 : 89\n",
       "      264 : 0\n",
       "      10 : 0\n",
       "      35 : 0\n",
       "      116 : 0\n",
       "      100 : 0\n",
       "      331 : 0\n",
       "      263 : 0\n",
       "      372 : 0\n",
       "      277 : 0\n",
       "      60 : 0\n",
       "      401 : 89\n",
       "      284 : 0\n",
       "      86 : 0\n",
       "      173 : 0\n",
       "      413 : 89\n",
       "      175 : 0\n",
       "      207 : 0\n",
       "      246 : 0\n",
       "      235 : 0\n",
       "    }\n",
       "  13 : DoubleTensor - size: 1x30\n",
       "  14 : 0.13428571428571\n",
       "  15 : DoubleTensor - size: 20x1\n",
       "}\n",
       "{\n",
       "  1 : LongTensor - size: 20x5\n",
       "  2 : 20\n",
       "  3 : LongTensor - size: 1x3\n",
       "  4 : ByteTensor - size: 20x2\n",
       "  5 : DoubleTensor - size: 20\n",
       "  6 : LongTensor - size: 21x30\n",
       "  7 : DoubleTensor - size: 20x2\n",
       "  8 : DoubleTensor - size: 21\n",
       "  9 : ByteTensor - size: 20x2\n",
       "  10 : DoubleTensor - size: 21\n",
       "  11 : DoubleTensor - size: 1x1946\n",
       "  12 : \n",
       "    {\n",
       "      2865 : 0\n",
       " "
      ]
     },
     "execution_count": 5,
     "metadata": {},
     "output_type": "execute_result"
    },
    {
     "data": {
      "text/plain": [
       "     357 : 139\n",
       "      1091 : 0\n",
       "      1660 : 139\n",
       "      3043 : 0\n",
       "      18851 : 0\n",
       "      7851 : 0\n",
       "      367 : 0\n",
       "      4011 : 0\n",
       "      126 : 0\n",
       "      433 : 0\n",
       "      3420 : 0\n",
       "      4628 : 0\n",
       "      57510 : 556\n",
       "      2619 : 0\n",
       "      250 : 139\n",
       "      3374 : 0\n",
       "      10336 : 0\n",
       "      2109 : 0\n",
       "      1715 : 139\n",
       "      4403 : 0\n",
       "      202 : 0\n",
       "      237 : 0\n",
       "      7033 : 0\n",
       "      2134 : 0\n",
       "      5427 : 0\n",
       "      7591 : 0\n",
       "      1869 : 0\n",
       "      11544 : 0\n",
       "      972 : 139\n",
       "      2481 : 0\n",
       "      131 : 0\n",
       "      476 : 0\n",
       "    }\n",
       "  13 : DoubleTensor - size: 1x30\n",
       "  14 : 0.078195488721805\n",
       "  15 : DoubleTensor - size: 20x1\n",
       "}\n"
      ]
     },
     "execution_count": 5,
     "metadata": {},
     "output_type": "execute_result"
    }
   ],
   "source": [
    "query_data[1], query_data[2]"
   ]
  },
  {
   "cell_type": "code",
   "execution_count": null,
   "metadata": {
    "collapsed": true
   },
   "outputs": [],
   "source": []
  }
 ],
 "metadata": {
  "kernelspec": {
   "display_name": "iTorch",
   "language": "lua",
   "name": "itorch"
  },
  "language_info": {
   "name": "lua",
   "version": "5.1"
  }
 },
 "nbformat": 4,
 "nbformat_minor": 0
}
