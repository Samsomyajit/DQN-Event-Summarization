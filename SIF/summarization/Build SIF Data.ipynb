{
 "cells": [
  {
   "cell_type": "code",
   "execution_count": 27,
   "metadata": {},
   "outputs": [],
   "source": [
    "import glob\n",
    "import os\n",
    "import sys\n",
    "import struct\n",
    "import pandas as pd\n",
    "from nltk.tokenize import sent_tokenize\n",
    "from tensorflow.core.example import example_pb2\n",
    "\n",
    "sys.path.append('../src')\n",
    "import data_io, params, SIF_embedding\n",
    "\n",
    "def return_bytes(reader_obj):\n",
    "    len_bytes = reader_obj.read(8)\n",
    "    str_len = struct.unpack('q', len_bytes)[0]\n",
    "    e_s = struct.unpack(\"%ds\" % str_len, reader_obj.read(str_len))\n",
    "    es = e_s[0]\n",
    "    c = example_pb2.Example.FromString(es)\n",
    "    article  = str(c.features.feature['article'].bytes_list.value[0])\n",
    "    abstract = str(c.features.feature['abstract'].bytes_list.value[0])\n",
    "    ab = sent_tokenize(abstract)\n",
    "    clean_article = sent_tokenize(article)\n",
    "    clean_abstract = '. '.join([' '.join(s for s in x.split() if s.isalnum()) for x in ''.join(ab).replace(\"<s>\",\"\").split(\"</s>\")]).strip()\n",
    "    return clean_abstract, clean_article, abstract\n",
    "\n",
    "\n",
    "def load_embed(wordfile, weightfile, weightpara=1e-3, param=None, rmpc=0):\n",
    "    '''\n",
    "    wordfile:   : location of embedding data (e.g., glove embedings)\n",
    "    weightfile: : location of TF data for words\n",
    "    weightpara: : the parameter in the SIF weighting scheme, usually in range [3e-5, 3e-3]\n",
    "    rmpc:       : number of principal components to remove in SIF weighting scheme\n",
    "    '''\n",
    "    # input\n",
    "    wordfile = '/home/francisco/GitHub/SIF/data/glove.840B.300d.txt'   # word vector file, can be downloaded from GloVe website\n",
    "    weightfile = '/home/francisco/GitHub/SIF/auxiliary_data/enwiki_vocab_min200.txt' # each line is a word and its frequency\n",
    "\n",
    "    # load word vectors\n",
    "    (words, Weights) = data_io.getWordmap(wordfile)\n",
    "\n",
    "    # load word weights\n",
    "    word2weight = data_io.getWordWeight(weightfile, weightpara) # word2weight['str'] is the weight for the word 'str'\n",
    "    weight4ind = data_io.getWeight(words, word2weight) # weight4ind[i] is the weight for the i-th word\n",
    "\n",
    "    # set parameters\n",
    "    param.rmpc = rmpc\n",
    "\n",
    "    return Weights, words, word2weight, weight4ind\n",
    "\n",
    "def return_sif(sentences, words, weight4ind, param, Weights):\n",
    "    # x is the array of word indices, m is the binary mask indicating whether there is a word in that location\n",
    "    x, m = data_io.sentences2idx(sentences, words)\n",
    "    w = data_io.seq2weight(x, m, weight4ind) # get word weights\n",
    "    # get SIF embedding\n",
    "    embeddings = SIF_embedding.SIF_embedding(Weights, x, w, param) # embedding[i,:] is the embedding for sentence i\n",
    "    return embeddings\n",
    "\n",
    "\n",
    "def embed_sentences(wordfile, weightfile, weightpara, param, rmpc, file_list):\n",
    "    Weights, words, word2weight, weight4ind = load_embed(wordfile, weightfile, weightpara, param, rmpc)\n",
    "\n",
    "    print('embeddings loaded...')\n",
    "    for file_i in file_list:\n",
    "        input_file = open(file_i, 'rb')\n",
    "        while input_file:\n",
    "            clean_abstract, clean_article = return_bytes(input_file)\n",
    "            clean_article = [' '.join([s for s in x if s.isalnum()]) for x in sdf['sentence'].str.split(\" \")]\n",
    "            print('article cleaned...')\n",
    "            embeddings = return_sif(clean_article, words, weight4ind, param, Weights)\n",
    "\n",
    "            sdf = pd.DataFrame(clean_article, columns=['sentence'])\n",
    "            sdf['clean_sentence'] = [' '.join([s for s in x if s.isalnum()]) for x in sdf['sentence'].str.split(\" \")]\n",
    "            sdf['summary'] = clean_abstract\n",
    "            sdf.ix[1:, 'summary'] = ''\n",
    "\n",
    "            embcols = ['emb_%i'%i for i in range(embeddings.shape[1])]\n",
    "            emb = pd.DataFrame(embeddings, columns = embcols)\n",
    "\n",
    "            sdf = pd.concat([sdf, emb], axis=1)\n",
    "            sdf = sdf[[sdf.columns[[2, 0, 1]].tolist() + sdf.columns[3:].tolist()]]\n",
    "\n",
    "            print(sdf.head())\n",
    "            break\n",
    "        break\n"
   ]
  },
  {
   "cell_type": "code",
   "execution_count": 3,
   "metadata": {
    "collapsed": true
   },
   "outputs": [],
   "source": [
    "myparams = params.params()\n",
    "mainpath = 'home/francisco/GitHub/SIF/'\n",
    "wordf = os.path.join(mainpath, 'data/glove.840B.300d.txt')\n",
    "weightf = os.path.join(mainpath, 'auxiliary_data/enwiki_vocab_min200.txt')\n",
    "wp = 1e-3\n",
    "rp = 0\n",
    "fl = ['/home/francisco/GitHub/cnn-dailymail/finished_files/chunked/train_000.bin']"
   ]
  },
  {
   "cell_type": "code",
   "execution_count": 4,
   "metadata": {
    "collapsed": true
   },
   "outputs": [],
   "source": [
    "wordfile, weightfile, weightpara, param, rmpc, file_list = wordf, weightf, wp, myparams, rp, fl"
   ]
  },
  {
   "cell_type": "code",
   "execution_count": 5,
   "metadata": {
    "collapsed": true
   },
   "outputs": [],
   "source": [
    " Weights, words, word2weight, weight4ind = load_embed(wordfile, weightfile, weightpara, param, rmpc)"
   ]
  },
  {
   "cell_type": "code",
   "execution_count": 22,
   "metadata": {},
   "outputs": [
    {
     "data": {
      "text/plain": [
       "'mentally ill inmates in miami are housed on the forgotten floor. judge steven leifman says most are there as a result of avoidable felonies. while cnn tours facility patient shouts i am the son of the president. leifman says the system is unjust and he fighting for change.'"
      ]
     },
     "execution_count": 22,
     "metadata": {},
     "output_type": "execute_result"
    }
   ],
   "source": [
    "clean_abstract"
   ]
  },
  {
   "cell_type": "code",
   "execution_count": 28,
   "metadata": {},
   "outputs": [
    {
     "name": "stdout",
     "output_type": "stream",
     "text": [
      "embeddings loaded...\n",
      "article cleaned...\n",
      "                                             summary  \\\n",
      "0  mentally ill inmates in miami are housed on th...   \n",
      "1                                                      \n",
      "2                                                      \n",
      "3                                                      \n",
      "4                                                      \n",
      "\n",
      "                                            sentence  \\\n",
      "0  b\"editor 's note : in our behind the scenes se...   \n",
      "1  here , soledad o'brien takes users inside a ja...   \n",
      "2  an inmate housed on the `` forgotten floor , '...   \n",
      "3  miami , florida -lrb- cnn -rrb- -- the ninth f...   \n",
      "4  here , inmates with the most severe mental ill...   \n",
      "\n",
      "                                      clean_sentence     emb_0     emb_1  \\\n",
      "0  note in our behind the scenes series cnn corre... -0.032912  0.042397   \n",
      "1  here soledad takes users inside a jail where m...  0.019653  0.105582   \n",
      "2  an inmate housed on the forgotten floor where ...  0.096693  0.013868   \n",
      "3  miami florida cnn the ninth floor of the pretr...  0.027993  0.086192   \n",
      "4  here inmates with the most severe mental illne... -0.007857  0.107740   \n",
      "\n",
      "      emb_2     emb_3     emb_4     emb_5     emb_6    ...      emb_290  \\\n",
      "0  0.031326  0.148815 -0.005044  0.061765 -0.042820    ...    -0.155933   \n",
      "1 -0.032739 -0.062289 -0.007770 -0.096966 -0.034363    ...    -0.045381   \n",
      "2 -0.015701 -0.101575  0.068017 -0.036213 -0.031631    ...    -0.001189   \n",
      "3  0.170021  0.144501  0.157027  0.029404  0.058522    ...     0.101818   \n",
      "4 -0.081650 -0.081380  0.005123 -0.116588  0.007774    ...    -0.089699   \n",
      "\n",
      "    emb_291   emb_292   emb_293   emb_294   emb_295   emb_296   emb_297  \\\n",
      "0  0.062875 -0.047902 -0.027060 -0.075693 -0.161862 -0.013952 -0.057433   \n",
      "1 -0.101878 -0.103699 -0.002594 -0.056704 -0.028815  0.003903 -0.038061   \n",
      "2 -0.150899 -0.018053  0.050539 -0.083624  0.007458  0.082060  0.014343   \n",
      "3 -0.118518  0.059976  0.031895 -0.104899 -0.052007  0.025132  0.088880   \n",
      "4 -0.036341 -0.126280 -0.045463 -0.129258  0.005660  0.032350 -0.075145   \n",
      "\n",
      "    emb_298   emb_299  \n",
      "0 -0.006306 -0.022029  \n",
      "1 -0.199252  0.018881  \n",
      "2 -0.087338 -0.000591  \n",
      "3 -0.156214 -0.061895  \n",
      "4 -0.063582 -0.024497  \n",
      "\n",
      "[5 rows x 303 columns]\n"
     ]
    }
   ],
   "source": [
    "print('embeddings loaded...')\n",
    "for file_i in file_list:\n",
    "    input_file = open(file_i, 'rb')\n",
    "    while input_file:\n",
    "        clean_abstract, clean_article, abstractx = return_bytes(input_file)\n",
    "        print('article cleaned...')\n",
    "        embeddings = return_sif(clean_article, words, weight4ind, param, Weights)\n",
    "\n",
    "        sdf = pd.DataFrame(clean_article, columns=['sentence'])\n",
    "        sdf['clean_sentence'] = [' '.join([s for s in x if s.isalnum()]) for x in sdf['sentence'].str.split(\" \")]\n",
    "        sdf['summary'] = clean_abstract\n",
    "        sdf.ix[1:, 'summary'] = ''\n",
    "\n",
    "        embcols = ['emb_%i'%i for i in range(embeddings.shape[1])]\n",
    "        emb = pd.DataFrame(embeddings, columns = embcols)\n",
    "\n",
    "        sdf = pd.concat([sdf, emb], axis=1)\n",
    "        sdf = sdf[['summary', 'sentence', 'clean_sentence'] + sdf.columns[3:].tolist()].head()\n",
    "        print(sdf.head())\n",
    "        break\n",
    "    break"
   ]
  },
  {
   "cell_type": "code",
   "execution_count": 31,
   "metadata": {},
   "outputs": [
    {
     "data": {
      "text/plain": [
       "'mentally ill inmates in miami are housed on the forgotten floor. judge steven leifman says most are there as a result of avoidable felonies. while cnn tours facility patient shouts i am the son of the president. leifman says the system is unjust and he fighting for change.'"
      ]
     },
     "execution_count": 31,
     "metadata": {},
     "output_type": "execute_result"
    }
   ],
   "source": [
    "clean_abstract"
   ]
  },
  {
   "cell_type": "code",
   "execution_count": 30,
   "metadata": {},
   "outputs": [
    {
     "data": {
      "text/plain": [
       "'b\"<s> mentally ill inmates in miami are housed on the `` forgotten floor \\'\\' </s> <s> judge steven leifman says most are there as a result of `` avoidable felonies \\'\\' </s> <s> while cnn tours facility , patient shouts : `` i am the son of the president \\'\\' </s> <s> leifman says the system is unjust and he \\'s fighting for change . </s>\"'"
      ]
     },
     "execution_count": 30,
     "metadata": {},
     "output_type": "execute_result"
    }
   ],
   "source": [
    "abstractx"
   ]
  },
  {
   "cell_type": "code",
   "execution_count": 21,
   "metadata": {},
   "outputs": [
    {
     "data": {
      "text/plain": [
       "'b\"editor'"
      ]
     },
     "execution_count": 21,
     "metadata": {},
     "output_type": "execute_result"
    }
   ],
   "source": [
    "sdf['sentence'][0].split(\" \")[0]"
   ]
  },
  {
   "cell_type": "code",
   "execution_count": 32,
   "metadata": {
    "collapsed": true
   },
   "outputs": [],
   "source": [
    "dfile = \"/home/francisco/GitHub/DQN-Event-Summarization/SIF/data/metadata/cnn_dm_metadata.csv\""
   ]
  },
  {
   "cell_type": "code",
   "execution_count": 33,
   "metadata": {
    "collapsed": true
   },
   "outputs": [],
   "source": [
    "md = pd.read_csv(dfile)"
   ]
  },
  {
   "cell_type": "code",
   "execution_count": 34,
   "metadata": {},
   "outputs": [
    {
     "data": {
      "text/html": [
       "<div>\n",
       "<table border=\"1\" class=\"dataframe\">\n",
       "  <thead>\n",
       "    <tr style=\"text-align: right;\">\n",
       "      <th></th>\n",
       "      <th>filename</th>\n",
       "      <th>summary_len</th>\n",
       "      <th>summary_ntokens</th>\n",
       "      <th>nsentences</th>\n",
       "      <th>sentences_len</th>\n",
       "      <th>sentences_ntokens</th>\n",
       "      <th>sentences_nchar</th>\n",
       "    </tr>\n",
       "  </thead>\n",
       "  <tbody>\n",
       "    <tr>\n",
       "      <th>0</th>\n",
       "      <td>/home/francisco/GitHub/DQN-Event-Summarization...</td>\n",
       "      <td>48</td>\n",
       "      <td>41</td>\n",
       "      <td>26</td>\n",
       "      <td>569</td>\n",
       "      <td>247</td>\n",
       "      <td>3045</td>\n",
       "    </tr>\n",
       "    <tr>\n",
       "      <th>1</th>\n",
       "      <td>/home/francisco/GitHub/DQN-Event-Summarization...</td>\n",
       "      <td>47</td>\n",
       "      <td>46</td>\n",
       "      <td>39</td>\n",
       "      <td>1022</td>\n",
       "      <td>423</td>\n",
       "      <td>5354</td>\n",
       "    </tr>\n",
       "    <tr>\n",
       "      <th>2</th>\n",
       "      <td>/home/francisco/GitHub/DQN-Event-Summarization...</td>\n",
       "      <td>41</td>\n",
       "      <td>34</td>\n",
       "      <td>44</td>\n",
       "      <td>934</td>\n",
       "      <td>339</td>\n",
       "      <td>5028</td>\n",
       "    </tr>\n",
       "    <tr>\n",
       "      <th>3</th>\n",
       "      <td>/home/francisco/GitHub/DQN-Event-Summarization...</td>\n",
       "      <td>40</td>\n",
       "      <td>38</td>\n",
       "      <td>26</td>\n",
       "      <td>581</td>\n",
       "      <td>227</td>\n",
       "      <td>2972</td>\n",
       "    </tr>\n",
       "    <tr>\n",
       "      <th>4</th>\n",
       "      <td>/home/francisco/GitHub/DQN-Event-Summarization...</td>\n",
       "      <td>46</td>\n",
       "      <td>40</td>\n",
       "      <td>26</td>\n",
       "      <td>653</td>\n",
       "      <td>272</td>\n",
       "      <td>3481</td>\n",
       "    </tr>\n",
       "  </tbody>\n",
       "</table>\n",
       "</div>"
      ],
      "text/plain": [
       "                                            filename  summary_len  \\\n",
       "0  /home/francisco/GitHub/DQN-Event-Summarization...           48   \n",
       "1  /home/francisco/GitHub/DQN-Event-Summarization...           47   \n",
       "2  /home/francisco/GitHub/DQN-Event-Summarization...           41   \n",
       "3  /home/francisco/GitHub/DQN-Event-Summarization...           40   \n",
       "4  /home/francisco/GitHub/DQN-Event-Summarization...           46   \n",
       "\n",
       "   summary_ntokens  nsentences  sentences_len  sentences_ntokens  \\\n",
       "0               41          26            569                247   \n",
       "1               46          39           1022                423   \n",
       "2               34          44            934                339   \n",
       "3               38          26            581                227   \n",
       "4               40          26            653                272   \n",
       "\n",
       "   sentences_nchar  \n",
       "0             3045  \n",
       "1             5354  \n",
       "2             5028  \n",
       "3             2972  \n",
       "4             3481  "
      ]
     },
     "execution_count": 34,
     "metadata": {},
     "output_type": "execute_result"
    }
   ],
   "source": [
    "md.head()"
   ]
  },
  {
   "cell_type": "code",
   "execution_count": 35,
   "metadata": {},
   "outputs": [
    {
     "data": {
      "text/plain": [
       "(312399, 7)"
      ]
     },
     "execution_count": 35,
     "metadata": {},
     "output_type": "execute_result"
    }
   ],
   "source": [
    "md.shape"
   ]
  },
  {
   "cell_type": "code",
   "execution_count": 36,
   "metadata": {},
   "outputs": [
    {
     "data": {
      "text/html": [
       "<div>\n",
       "<table border=\"1\" class=\"dataframe\">\n",
       "  <thead>\n",
       "    <tr style=\"text-align: right;\">\n",
       "      <th></th>\n",
       "      <th>summary_len</th>\n",
       "      <th>summary_ntokens</th>\n",
       "      <th>nsentences</th>\n",
       "      <th>sentences_len</th>\n",
       "      <th>sentences_ntokens</th>\n",
       "      <th>sentences_nchar</th>\n",
       "    </tr>\n",
       "  </thead>\n",
       "  <tbody>\n",
       "    <tr>\n",
       "      <th>count</th>\n",
       "      <td>312399.000000</td>\n",
       "      <td>312399.000000</td>\n",
       "      <td>312399.000000</td>\n",
       "      <td>312399.000000</td>\n",
       "      <td>312399.000000</td>\n",
       "      <td>312399.000000</td>\n",
       "    </tr>\n",
       "    <tr>\n",
       "      <th>mean</th>\n",
       "      <td>47.453401</td>\n",
       "      <td>40.154824</td>\n",
       "      <td>39.308234</td>\n",
       "      <td>789.977570</td>\n",
       "      <td>317.867570</td>\n",
       "      <td>4149.595268</td>\n",
       "    </tr>\n",
       "    <tr>\n",
       "      <th>std</th>\n",
       "      <td>20.261147</td>\n",
       "      <td>14.055783</td>\n",
       "      <td>23.736230</td>\n",
       "      <td>388.172599</td>\n",
       "      <td>121.992137</td>\n",
       "      <td>2020.311575</td>\n",
       "    </tr>\n",
       "    <tr>\n",
       "      <th>min</th>\n",
       "      <td>3.000000</td>\n",
       "      <td>3.000000</td>\n",
       "      <td>1.000000</td>\n",
       "      <td>1.000000</td>\n",
       "      <td>1.000000</td>\n",
       "      <td>3.000000</td>\n",
       "    </tr>\n",
       "    <tr>\n",
       "      <th>25%</th>\n",
       "      <td>35.000000</td>\n",
       "      <td>31.000000</td>\n",
       "      <td>23.000000</td>\n",
       "      <td>502.000000</td>\n",
       "      <td>228.000000</td>\n",
       "      <td>2647.000000</td>\n",
       "    </tr>\n",
       "    <tr>\n",
       "      <th>50%</th>\n",
       "      <td>44.000000</td>\n",
       "      <td>38.000000</td>\n",
       "      <td>34.000000</td>\n",
       "      <td>720.000000</td>\n",
       "      <td>300.000000</td>\n",
       "      <td>3782.000000</td>\n",
       "    </tr>\n",
       "    <tr>\n",
       "      <th>75%</th>\n",
       "      <td>55.000000</td>\n",
       "      <td>47.000000</td>\n",
       "      <td>49.000000</td>\n",
       "      <td>1003.000000</td>\n",
       "      <td>391.000000</td>\n",
       "      <td>5269.000000</td>\n",
       "    </tr>\n",
       "    <tr>\n",
       "      <th>max</th>\n",
       "      <td>1382.000000</td>\n",
       "      <td>591.000000</td>\n",
       "      <td>404.000000</td>\n",
       "      <td>2882.000000</td>\n",
       "      <td>884.000000</td>\n",
       "      <td>16654.000000</td>\n",
       "    </tr>\n",
       "  </tbody>\n",
       "</table>\n",
       "</div>"
      ],
      "text/plain": [
       "         summary_len  summary_ntokens     nsentences  sentences_len  \\\n",
       "count  312399.000000    312399.000000  312399.000000  312399.000000   \n",
       "mean       47.453401        40.154824      39.308234     789.977570   \n",
       "std        20.261147        14.055783      23.736230     388.172599   \n",
       "min         3.000000         3.000000       1.000000       1.000000   \n",
       "25%        35.000000        31.000000      23.000000     502.000000   \n",
       "50%        44.000000        38.000000      34.000000     720.000000   \n",
       "75%        55.000000        47.000000      49.000000    1003.000000   \n",
       "max      1382.000000       591.000000     404.000000    2882.000000   \n",
       "\n",
       "       sentences_ntokens  sentences_nchar  \n",
       "count      312399.000000    312399.000000  \n",
       "mean          317.867570      4149.595268  \n",
       "std           121.992137      2020.311575  \n",
       "min             1.000000         3.000000  \n",
       "25%           228.000000      2647.000000  \n",
       "50%           300.000000      3782.000000  \n",
       "75%           391.000000      5269.000000  \n",
       "max           884.000000     16654.000000  "
      ]
     },
     "execution_count": 36,
     "metadata": {},
     "output_type": "execute_result"
    }
   ],
   "source": [
    "md.describe()"
   ]
  },
  {
   "cell_type": "code",
   "execution_count": 37,
   "metadata": {
    "collapsed": true
   },
   "outputs": [],
   "source": [
    "import matplotlib.pyplot as plt\n",
    "from sklearn.neighbors.kde import KernelDensity\n",
    "import numpy as np"
   ]
  },
  {
   "cell_type": "code",
   "execution_count": 41,
   "metadata": {
    "collapsed": true
   },
   "outputs": [],
   "source": [
    "def cdfplot(xvar):\n",
    "    sortedvals=np.sort( xvar)\n",
    "    yvals=np.arange(len(sortedvals))/float(len(sortedvals))\n",
    "    plt.plot( sortedvals, yvals )\n",
    "    plt.grid()\n",
    "    plt.show()"
   ]
  },
  {
   "cell_type": "code",
   "execution_count": 39,
   "metadata": {
    "collapsed": true
   },
   "outputs": [],
   "source": [
    "%matplotlib inline"
   ]
  },
  {
   "cell_type": "code",
   "execution_count": 42,
   "metadata": {},
   "outputs": [
    {
     "data": {
      "image/png": "[encoded data removed]",
      "text/plain": [
       "<matplotlib.figure.Figure at 0x7fce3a4ef550>"
      ]
     },
     "metadata": {},
     "output_type": "display_data"
    }
   ],
   "source": [
    "cdfplot(md['nsentences'])"
   ]
  },
  {
   "cell_type": "code",
   "execution_count": 43,
   "metadata": {},
   "outputs": [
    {
     "data": {
      "image/png": "[encoded data removed]",
      "text/plain": [
       "<matplotlib.figure.Figure at 0x7fcdb2b6ea58>"
      ]
     },
     "metadata": {},
     "output_type": "display_data"
    }
   ],
   "source": [
    "cdfplot(md['sentences_nchar'])"
   ]
  },
  {
   "cell_type": "code",
   "execution_count": 44,
   "metadata": {},
   "outputs": [
    {
     "data": {
      "image/png": "[encoded data removed]",
      "text/plain": [
       "<matplotlib.figure.Figure at 0x7fce41f30940>"
      ]
     },
     "metadata": {},
     "output_type": "display_data"
    }
   ],
   "source": [
    "cdfplot(md['summary_ntokens'])"
   ]
  },
  {
   "cell_type": "code",
   "execution_count": null,
   "metadata": {
    "collapsed": true
   },
   "outputs": [],
   "source": []
  }
 ],
 "metadata": {
  "kernelspec": {
   "display_name": "Python 3",
   "language": "python",
   "name": "python3"
  },
  "language_info": {
   "codemirror_mode": {
    "name": "ipython",
    "version": 3
   },
   "file_extension": ".py",
   "mimetype": "text/x-python",
   "name": "python",
   "nbconvert_exporter": "python",
   "pygments_lexer": "ipython3",
   "version": "3.6.3"
  }
 },
 "nbformat": 4,
 "nbformat_minor": 2
}
