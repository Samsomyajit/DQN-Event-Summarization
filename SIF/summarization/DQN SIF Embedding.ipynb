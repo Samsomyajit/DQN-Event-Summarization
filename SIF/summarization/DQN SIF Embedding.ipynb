{
 "cells": [
  {
   "cell_type": "code",
   "execution_count": 2,
   "metadata": {},
   "outputs": [],
   "source": [
    "import os\n",
    "import pickle\n",
    "import numpy as np\n",
    "from collections import Counter\n",
    "\n",
    "import numpy as np\n",
    "import pandas as pd\n",
    "from matplotlib import pyplot as plt\n",
    "%matplotlib inline\n",
    "\n",
    "import torch\n",
    "import torch.autograd as autograd\n",
    "import torch.nn as nn\n",
    "import torch.nn.functional as F\n",
    "import torch.optim as optim"
   ]
  },
  {
   "cell_type": "code",
   "execution_count": 3,
   "metadata": {},
   "outputs": [],
   "source": [
    "filex = '/home/francisco/GitHub/DQN-Event-Summarization/data/sif/train_000_0.csv'"
   ]
  },
  {
   "cell_type": "code",
   "execution_count": 4,
   "metadata": {},
   "outputs": [],
   "source": [
    "sdf = pd.read_csv(filex)"
   ]
  },
  {
   "cell_type": "code",
   "execution_count": 5,
   "metadata": {},
   "outputs": [],
   "source": [
    "class BoWRegressor(nn.Module):  # inheriting from nn.Module!\n",
    "    # calls the init function of nn.Module.  Dont get confused by syntax, always do it in an nn.Module\n",
    "    def __init__(self, input_size, outputsize):        \n",
    "        super(BoWRegressor, self).__init__()        \n",
    "        self.linear = nn.Linear(input_size, outputsize)\n",
    "        \n",
    "    def forward(self, bow_vec):\n",
    "        return F.sigmoid(self.linear(bow_vec))\n",
    "    \n",
    "def rougeScores(genSummary, refSummary):\n",
    "    genTotal, refTotal, intersection = 0, 0, 0\n",
    "    for token in list(set(list(refSummary.keys()) + list(genSummary.keys()) )):\n",
    "        intersection += min(refSummary[token], genSummary[token])\n",
    "        refTotal += refSummary[token]\n",
    "        genTotal += genSummary[token]\n",
    "\n",
    "    recall = intersection / float(refTotal) if float(refTotal) > 0 else 0\n",
    "    prec   = intersection / float(genTotal) if float(genTotal) > 0 else 0\n",
    "    f1 = (2 * recall * prec) / (recall + prec) if (recall + prec) > 0 else 0\n",
    "    \n",
    "    return recall, prec, f1"
   ]
  },
  {
   "cell_type": "code",
   "execution_count": 6,
   "metadata": {},
   "outputs": [],
   "source": [
    "recall, prec, f1 = rougeScores(Counter(sdf['summary'][0].split(\" \")), Counter(sdf['sentence'][0].split(\" \")))"
   ]
  },
  {
   "cell_type": "code",
   "execution_count": 7,
   "metadata": {},
   "outputs": [
    {
     "data": {
      "text/plain": [
       "(0.2222222222222222, 0.125, 0.16)"
      ]
     },
     "execution_count": 7,
     "metadata": {},
     "output_type": "execute_result"
    }
   ],
   "source": [
    "recall, prec, f1"
   ]
  },
  {
   "cell_type": "code",
   "execution_count": 8,
   "metadata": {},
   "outputs": [
    {
     "data": {
      "text/html": [
       "<div>\n",
       "<table border=\"1\" class=\"dataframe\">\n",
       "  <thead>\n",
       "    <tr style=\"text-align: right;\">\n",
       "      <th></th>\n",
       "      <th>emb_0</th>\n",
       "      <th>emb_1</th>\n",
       "      <th>emb_2</th>\n",
       "      <th>emb_3</th>\n",
       "      <th>emb_4</th>\n",
       "      <th>emb_5</th>\n",
       "      <th>emb_6</th>\n",
       "      <th>emb_7</th>\n",
       "      <th>emb_8</th>\n",
       "      <th>emb_9</th>\n",
       "      <th>...</th>\n",
       "      <th>emb_290</th>\n",
       "      <th>emb_291</th>\n",
       "      <th>emb_292</th>\n",
       "      <th>emb_293</th>\n",
       "      <th>emb_294</th>\n",
       "      <th>emb_295</th>\n",
       "      <th>emb_296</th>\n",
       "      <th>emb_297</th>\n",
       "      <th>emb_298</th>\n",
       "      <th>emb_299</th>\n",
       "    </tr>\n",
       "  </thead>\n",
       "  <tbody>\n",
       "    <tr>\n",
       "      <th>0</th>\n",
       "      <td>-0.032912</td>\n",
       "      <td>0.042397</td>\n",
       "      <td>0.031326</td>\n",
       "      <td>0.148815</td>\n",
       "      <td>-0.005044</td>\n",
       "      <td>0.061765</td>\n",
       "      <td>-0.042820</td>\n",
       "      <td>0.020897</td>\n",
       "      <td>-0.008707</td>\n",
       "      <td>1.360649</td>\n",
       "      <td>...</td>\n",
       "      <td>-0.155933</td>\n",
       "      <td>0.062875</td>\n",
       "      <td>-0.047902</td>\n",
       "      <td>-0.027060</td>\n",
       "      <td>-0.075693</td>\n",
       "      <td>-0.161862</td>\n",
       "      <td>-0.013952</td>\n",
       "      <td>-0.057433</td>\n",
       "      <td>-0.006306</td>\n",
       "      <td>-0.022029</td>\n",
       "    </tr>\n",
       "    <tr>\n",
       "      <th>1</th>\n",
       "      <td>0.019653</td>\n",
       "      <td>0.105582</td>\n",
       "      <td>-0.032739</td>\n",
       "      <td>-0.062289</td>\n",
       "      <td>-0.007770</td>\n",
       "      <td>-0.096966</td>\n",
       "      <td>-0.034363</td>\n",
       "      <td>-0.116381</td>\n",
       "      <td>0.015522</td>\n",
       "      <td>1.348884</td>\n",
       "      <td>...</td>\n",
       "      <td>-0.045381</td>\n",
       "      <td>-0.101878</td>\n",
       "      <td>-0.103699</td>\n",
       "      <td>-0.002594</td>\n",
       "      <td>-0.056704</td>\n",
       "      <td>-0.028815</td>\n",
       "      <td>0.003903</td>\n",
       "      <td>-0.038061</td>\n",
       "      <td>-0.199252</td>\n",
       "      <td>0.018881</td>\n",
       "    </tr>\n",
       "    <tr>\n",
       "      <th>2</th>\n",
       "      <td>0.096693</td>\n",
       "      <td>0.013868</td>\n",
       "      <td>-0.015701</td>\n",
       "      <td>-0.101575</td>\n",
       "      <td>0.068017</td>\n",
       "      <td>-0.036213</td>\n",
       "      <td>-0.031631</td>\n",
       "      <td>-0.147130</td>\n",
       "      <td>-0.026003</td>\n",
       "      <td>1.484713</td>\n",
       "      <td>...</td>\n",
       "      <td>-0.001189</td>\n",
       "      <td>-0.150899</td>\n",
       "      <td>-0.018053</td>\n",
       "      <td>0.050539</td>\n",
       "      <td>-0.083624</td>\n",
       "      <td>0.007458</td>\n",
       "      <td>0.082060</td>\n",
       "      <td>0.014343</td>\n",
       "      <td>-0.087338</td>\n",
       "      <td>-0.000591</td>\n",
       "    </tr>\n",
       "    <tr>\n",
       "      <th>3</th>\n",
       "      <td>0.027993</td>\n",
       "      <td>0.086192</td>\n",
       "      <td>0.170021</td>\n",
       "      <td>0.144501</td>\n",
       "      <td>0.157027</td>\n",
       "      <td>0.029404</td>\n",
       "      <td>0.058522</td>\n",
       "      <td>-0.075552</td>\n",
       "      <td>-0.037065</td>\n",
       "      <td>0.886946</td>\n",
       "      <td>...</td>\n",
       "      <td>0.101818</td>\n",
       "      <td>-0.118518</td>\n",
       "      <td>0.059976</td>\n",
       "      <td>0.031895</td>\n",
       "      <td>-0.104899</td>\n",
       "      <td>-0.052007</td>\n",
       "      <td>0.025132</td>\n",
       "      <td>0.088880</td>\n",
       "      <td>-0.156214</td>\n",
       "      <td>-0.061895</td>\n",
       "    </tr>\n",
       "    <tr>\n",
       "      <th>4</th>\n",
       "      <td>-0.007857</td>\n",
       "      <td>0.107740</td>\n",
       "      <td>-0.081650</td>\n",
       "      <td>-0.081380</td>\n",
       "      <td>0.005123</td>\n",
       "      <td>-0.116588</td>\n",
       "      <td>0.007774</td>\n",
       "      <td>-0.009557</td>\n",
       "      <td>0.075650</td>\n",
       "      <td>1.685651</td>\n",
       "      <td>...</td>\n",
       "      <td>-0.089699</td>\n",
       "      <td>-0.036341</td>\n",
       "      <td>-0.126280</td>\n",
       "      <td>-0.045463</td>\n",
       "      <td>-0.129258</td>\n",
       "      <td>0.005660</td>\n",
       "      <td>0.032350</td>\n",
       "      <td>-0.075145</td>\n",
       "      <td>-0.063582</td>\n",
       "      <td>-0.024497</td>\n",
       "    </tr>\n",
       "  </tbody>\n",
       "</table>\n",
       "<p>5 rows × 300 columns</p>\n",
       "</div>"
      ],
      "text/plain": [
       "      emb_0     emb_1     emb_2     emb_3     emb_4     emb_5     emb_6  \\\n",
       "0 -0.032912  0.042397  0.031326  0.148815 -0.005044  0.061765 -0.042820   \n",
       "1  0.019653  0.105582 -0.032739 -0.062289 -0.007770 -0.096966 -0.034363   \n",
       "2  0.096693  0.013868 -0.015701 -0.101575  0.068017 -0.036213 -0.031631   \n",
       "3  0.027993  0.086192  0.170021  0.144501  0.157027  0.029404  0.058522   \n",
       "4 -0.007857  0.107740 -0.081650 -0.081380  0.005123 -0.116588  0.007774   \n",
       "\n",
       "      emb_7     emb_8     emb_9    ...      emb_290   emb_291   emb_292  \\\n",
       "0  0.020897 -0.008707  1.360649    ...    -0.155933  0.062875 -0.047902   \n",
       "1 -0.116381  0.015522  1.348884    ...    -0.045381 -0.101878 -0.103699   \n",
       "2 -0.147130 -0.026003  1.484713    ...    -0.001189 -0.150899 -0.018053   \n",
       "3 -0.075552 -0.037065  0.886946    ...     0.101818 -0.118518  0.059976   \n",
       "4 -0.009557  0.075650  1.685651    ...    -0.089699 -0.036341 -0.126280   \n",
       "\n",
       "    emb_293   emb_294   emb_295   emb_296   emb_297   emb_298   emb_299  \n",
       "0 -0.027060 -0.075693 -0.161862 -0.013952 -0.057433 -0.006306 -0.022029  \n",
       "1 -0.002594 -0.056704 -0.028815  0.003903 -0.038061 -0.199252  0.018881  \n",
       "2  0.050539 -0.083624  0.007458  0.082060  0.014343 -0.087338 -0.000591  \n",
       "3  0.031895 -0.104899 -0.052007  0.025132  0.088880 -0.156214 -0.061895  \n",
       "4 -0.045463 -0.129258  0.005660  0.032350 -0.075145 -0.063582 -0.024497  \n",
       "\n",
       "[5 rows x 300 columns]"
      ]
     },
     "execution_count": 8,
     "metadata": {},
     "output_type": "execute_result"
    }
   ],
   "source": [
    "sdf[sdf.columns[4:]].head()"
   ]
  },
  {
   "cell_type": "code",
   "execution_count": 9,
   "metadata": {},
   "outputs": [],
   "source": [
    "sx = sdf[sdf.columns[4:]].values[0,:]"
   ]
  },
  {
   "cell_type": "code",
   "execution_count": 10,
   "metadata": {},
   "outputs": [],
   "source": [
    "train_xs = torch.FloatTensor(sx.reshape(1, sx.shape[0]))\n",
    "train_ys = torch.from_numpy(np.asarray([0, f1]).reshape(1,2)).float()\n",
    "\n",
    "predsummary_emb = torch.from_numpy(np.zeros((1, 300)))\n",
    "\n",
    "action = torch.from_numpy(np.asarray([0, 1]).reshape(1,2)).int()"
   ]
  },
  {
   "cell_type": "code",
   "execution_count": 27,
   "metadata": {},
   "outputs": [],
   "source": [
    "SKIP = 0\n",
    "SELECT = 1"
   ]
  },
  {
   "cell_type": "code",
   "execution_count": 11,
   "metadata": {},
   "outputs": [],
   "source": [
    "model = BoWRegressor(300, 2)\n",
    "\n",
    "model.zero_grad()\n",
    "loss_function = nn.MSELoss()"
   ]
  },
  {
   "cell_type": "code",
   "execution_count": 12,
   "metadata": {},
   "outputs": [],
   "source": [
    "rouge_preds = model(autograd.Variable(train_xs))\n",
    "qMax, qIndx = rouge_preds.max(dim=1)"
   ]
  },
  {
   "cell_type": "code",
   "execution_count": 28,
   "metadata": {},
   "outputs": [
    {
     "data": {
      "text/plain": [
       "(\n",
       "  1\n",
       " [torch.IntTensor of size 1], \n",
       "  1\n",
       " [torch.IntTensor of size 1])"
      ]
     },
     "execution_count": 28,
     "metadata": {},
     "output_type": "execute_result"
    }
   ],
   "source": [
    "# Equivalent\n",
    "action.select(1, qIndx.data[0]), action.select(1, 1)"
   ]
  },
  {
   "cell_type": "code",
   "execution_count": 29,
   "metadata": {},
   "outputs": [
    {
     "data": {
      "text/plain": [
       "\n",
       " 1\n",
       "[torch.IntTensor of size 1]"
      ]
     },
     "execution_count": 29,
     "metadata": {},
     "output_type": "execute_result"
    }
   ],
   "source": [
    "action[:, qIndx.data[0]]"
   ]
  },
  {
   "cell_type": "code",
   "execution_count": null,
   "metadata": {},
   "outputs": [],
   "source": [
    "def buildPredSummary(sentences, currsummary, action):\n",
    "    "
   ]
  },
  {
   "cell_type": "code",
   "execution_count": 24,
   "metadata": {},
   "outputs": [],
   "source": [
    "optimizer = optim.SGD(model.parameters(), lr=0.1)\n",
    "\n",
    "lossf = {'loss': [], 'epoch': []}\n",
    "for epoch in range(100):\n",
    "    model.zero_grad()\n",
    "    \n",
    "    rouge_preds = model(autograd.Variable(train_xs))\n",
    "    qMax, qIndx = rouge_preds.max(dim=1)\n",
    "    action[:, qIndx.data[0]] = 1\n",
    "    action[:, abs(qIndx.data[0] - 1)] = 0\n",
    "    loss = loss_function(rouge_preds, autograd.Variable(train_ys))\n",
    "    loss.backward()\n",
    "    optimizer.step()\n",
    "    lossf['loss'].append(loss.data[0])\n",
    "    lossf['epoch'].append(epoch)"
   ]
  },
  {
   "cell_type": "code",
   "execution_count": 25,
   "metadata": {
    "scrolled": true
   },
   "outputs": [
    {
     "data": {
      "image/png": "[encoded data removed]",
      "text/plain": [
       "<matplotlib.figure.Figure at 0x7f5de5ca07f0>"
      ]
     },
     "metadata": {},
     "output_type": "display_data"
    }
   ],
   "source": [
    "perf = pd.DataFrame(lossf)\n",
    "\n",
    "perf.plot(y='loss', figsize=(12, 6))\n",
    "plt.grid()\n",
    "plt.show()"
   ]
  },
  {
   "cell_type": "code",
   "execution_count": 26,
   "metadata": {},
   "outputs": [
    {
     "data": {
      "text/plain": [
       "\n",
       " 0  1\n",
       "[torch.IntTensor of size 1x2]"
      ]
     },
     "execution_count": 26,
     "metadata": {},
     "output_type": "execute_result"
    }
   ],
   "source": [
    "action"
   ]
  },
  {
   "cell_type": "code",
   "execution_count": null,
   "metadata": {},
   "outputs": [],
   "source": [
    "-"
   ]
  }
 ],
 "metadata": {
  "kernelspec": {
   "display_name": "Python 3",
   "language": "python",
   "name": "python3"
  },
  "language_info": {
   "codemirror_mode": {
    "name": "ipython",
    "version": 3
   },
   "file_extension": ".py",
   "mimetype": "text/x-python",
   "name": "python",
   "nbconvert_exporter": "python",
   "pygments_lexer": "ipython3",
   "version": "3.6.3"
  },
  "latex_envs": {
   "LaTeX_envs_menu_present": true,
   "autocomplete": true,
   "bibliofile": "biblio.bib",
   "cite_by": "apalike",
   "current_citInitial": 1,
   "eqLabelWithNumbers": true,
   "eqNumInitial": 1,
   "hotkeys": {
    "equation": "Ctrl-E",
    "itemize": "Ctrl-I"
   },
   "labels_anchors": false,
   "latex_user_defs": false,
   "report_style_numbering": false,
   "user_envs_cfg": false
  }
 },
 "nbformat": 4,
 "nbformat_minor": 2
}
