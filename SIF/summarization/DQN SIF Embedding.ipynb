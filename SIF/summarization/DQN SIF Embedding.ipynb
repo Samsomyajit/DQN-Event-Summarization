{
 "cells": [
  {
   "cell_type": "code",
   "execution_count": 1,
   "metadata": {},
   "outputs": [],
   "source": [
    "import os\n",
    "import pickle\n",
    "import numpy as np\n",
    "from collections import Counter\n",
    "\n",
    "import numpy as np\n",
    "import pandas as pd\n",
    "from matplotlib import pyplot as plt\n",
    "\n",
    "%matplotlib inline\n",
    "\n",
    "import torch\n",
    "import torch.autograd as autograd\n",
    "import torch.nn as nn\n",
    "import torch.nn.functional as F\n",
    "import torch.optim as optim"
   ]
  },
  {
   "cell_type": "code",
   "execution_count": 2,
   "metadata": {},
   "outputs": [],
   "source": [
    "def rougeScores(genSummary, refSummary):\n",
    "    genTotal, refTotal, intersection = 0., 0., 0.\n",
    "    for token in list(set(list(refSummary.keys()) + list(genSummary.keys()) )):\n",
    "        intersection += min(refSummary[token], genSummary[token])\n",
    "        refTotal += refSummary[token]\n",
    "        genTotal += genSummary[token]\n",
    "\n",
    "    recall = intersection / refTotal if refTotal > 0. else 0.\n",
    "    prec   = intersection / genTotal if genTotal > 0. else 0.\n",
    "    f1 = (2. * recall * prec) / (recall + prec) if (recall + prec) > 0. else 0.\n",
    "    \n",
    "    return recall, prec, f1\n",
    "\n",
    "class BoWRegressor(nn.Module):  # inheriting from nn.Module!\n",
    "    # calls the init function of nn.Module.  Dont get confused by syntax, always do it in an nn.Module\n",
    "    def __init__(self, input_size, outputsize):        \n",
    "        super(BoWRegressor, self).__init__()        \n",
    "        self.linear = nn.Linear(input_size, outputsize)\n",
    "        \n",
    "    def forward(self, bow_vec):\n",
    "        return self.linear(bow_vec)\n",
    "#         return F.sigmoid(self.linear(bow_vec))\n",
    "\n",
    "\n",
    "def buildPredSummary(df, summary, sentence_emb, curr_pred_emb, action, select_index, sent_index):\n",
    "    if sent_index==0 and action.select(1, select_index).tolist()[0] == 1:\n",
    "        return sentence_emb, summary + df['sentence'][sent_index]\n",
    "\n",
    "    if action.select(1, select_index).tolist()[0] == 1:\n",
    "        # This uses the avergae of the embeddings from the previous \n",
    "        # steps...but maybe we should try something different\n",
    "        return (curr_pred_emb + sentence_emb)/2., curr_summary + ' ' + df['sentence'][sent_index]\n",
    "    \n",
    "    else:\n",
    "        return sentence_emb, curr_summary"
   ]
  },
  {
   "cell_type": "code",
   "execution_count": 3,
   "metadata": {},
   "outputs": [],
   "source": [
    "sdf = pd.read_csv('/home/francisco/GitHub/DQN-Event-Summarization/data/sif/train_000_0.csv')\n",
    "\n",
    "# Initializing stuff\n",
    "\n",
    "SKIP = 0\n",
    "SELECT = 1\n",
    "\n",
    "true_summary = sdf['summary'][0]\n",
    "ts_tokenized = Counter(true_summary.split(\" \"))\n",
    "\n",
    "nepochs = 1000\n",
    "emb_d = 300\n",
    "outputdim = 2\n",
    "rand_rate = 0.50\n",
    "\n",
    "lrate = 0.01\n",
    "momentum_rate = 0.8\n",
    "decay_rate = 0.025\n",
    "\n",
    "model = BoWRegressor(emb_d, outputdim)\n",
    "model.zero_grad()\n",
    "\n",
    "criterion = nn.MSELoss()"
   ]
  },
  {
   "cell_type": "code",
   "execution_count": 4,
   "metadata": {},
   "outputs": [],
   "source": [
    "optimizer = optim.SGD(model.parameters(), lr=lrate, momentum=momentum_rate)\n",
    "nsentences = sdf.index.max()\n",
    "\n",
    "lossf = {'loss': [], 'sent_idx': [], 'epoch': [], 'action': [], 'f1': []}\n",
    "\n",
    "for epoch in range(nepochs):\n",
    "    model.zero_grad()\n",
    "    \n",
    "    # reset embeddings and summary at the start of training\n",
    "    predsummary_emb = torch.from_numpy(np.zeros((1, emb_d))).float()\n",
    "    curr_summary = ''\n",
    "    f1_t0 = 0.\n",
    "    \n",
    "    for sent_index in range(nsentences):\n",
    "        # The embeddings start on the 5th column (index 4)\n",
    "        train_xs = torch.FloatTensor(sdf[sdf.columns[4:]].values[sent_index,:].reshape(1, emb_d))\n",
    "        train_ys = torch.from_numpy(np.asarray([0]).reshape(1, 1)).float()\n",
    "        action = torch.from_numpy(np.asarray([0, 0]).reshape(1,2)).int()\n",
    "\n",
    "        rouge_preds = model(autograd.Variable(train_xs))\n",
    "        \n",
    "        qMax, qIndx = rouge_preds.max(dim=1)\n",
    "\n",
    "        if np.random.uniform() > rand_rate and rand_rate > 0:\n",
    "            # Randomly choosing either 0 or 1 some percent of hte time\n",
    "            qIndx = np.random.randint(0, 2, 1)[0]\n",
    "\n",
    "        action[:, qIndx.data[0]] = 1\n",
    "        action[:, abs(qIndx.data[0] - 1)] = 0\n",
    "        \n",
    "        # building the summary and capturing the embedding\n",
    "        predsummary_emb, curr_summary = buildPredSummary(\n",
    "                                             sdf, \n",
    "                                             curr_summary, \n",
    "                                             train_xs, \n",
    "                                             predsummary_emb, \n",
    "                                             action, \n",
    "                                             SELECT, \n",
    "                                             sent_index\n",
    "                                        )\n",
    "        recall, prec, f1 = rougeScores(ts_tokenized, Counter(curr_summary.split(\" \")))\n",
    "        # Backward part\n",
    "        predQonActions = torch.masked_select(rouge_preds, autograd.Variable(action.byte()))\n",
    "        rouge_delta = f1 - f1_t0\n",
    "        \n",
    "        # Change in rouge-f1\n",
    "        train_ys[0] = rouge_delta\n",
    "\n",
    "        loss = criterion(predQonActions, autograd.Variable(train_ys))\n",
    "        \n",
    "        loss.backward()\n",
    "        optimizer.step()\n",
    "        \n",
    "        lossf['loss'].append(loss.data[0])\n",
    "        lossf['sent_idx'].append(sent_index)\n",
    "        lossf['epoch'].append(epoch)\n",
    "        lossf['action'].append(qIndx.data[0])\n",
    "        lossf['f1'].append(f1)\n",
    "\n",
    "        # Storing last round\n",
    "        f1_t0 = f1 - f1_t0\n",
    "        \n",
    "    rand_rate -= decay_rate"
   ]
  },
  {
   "cell_type": "code",
   "execution_count": 5,
   "metadata": {
    "scrolled": false
   },
   "outputs": [
    {
     "data": {
      "image/png": "[encoded data removed]",
      "text/plain": [
       "<matplotlib.figure.Figure at 0x7f642ef16908>"
      ]
     },
     "metadata": {},
     "output_type": "display_data"
    }
   ],
   "source": [
    "perf = pd.DataFrame(lossf)\n",
    "\n",
    "perf.plot(y='loss', figsize=(12, 6))\n",
    "plt.grid()\n",
    "plt.show()"
   ]
  },
  {
   "cell_type": "code",
   "execution_count": 12,
   "metadata": {},
   "outputs": [
    {
     "data": {
      "text/html": [
       "<div>\n",
       "<table border=\"1\" class=\"dataframe\">\n",
       "  <thead>\n",
       "    <tr style=\"text-align: right;\">\n",
       "      <th></th>\n",
       "      <th>action</th>\n",
       "      <th>epoch</th>\n",
       "      <th>f1</th>\n",
       "      <th>loss</th>\n",
       "      <th>sent_idx</th>\n",
       "    </tr>\n",
       "  </thead>\n",
       "  <tbody>\n",
       "    <tr>\n",
       "      <th>0</th>\n",
       "      <td>1</td>\n",
       "      <td>0</td>\n",
       "      <td>0.160000</td>\n",
       "      <td>0.017548</td>\n",
       "      <td>0</td>\n",
       "    </tr>\n",
       "    <tr>\n",
       "      <th>1</th>\n",
       "      <td>1</td>\n",
       "      <td>0</td>\n",
       "      <td>0.279570</td>\n",
       "      <td>0.007542</td>\n",
       "      <td>1</td>\n",
       "    </tr>\n",
       "    <tr>\n",
       "      <th>2</th>\n",
       "      <td>1</td>\n",
       "      <td>0</td>\n",
       "      <td>0.313043</td>\n",
       "      <td>0.021706</td>\n",
       "      <td>2</td>\n",
       "    </tr>\n",
       "    <tr>\n",
       "      <th>3</th>\n",
       "      <td>1</td>\n",
       "      <td>0</td>\n",
       "      <td>0.302158</td>\n",
       "      <td>0.007945</td>\n",
       "      <td>3</td>\n",
       "    </tr>\n",
       "    <tr>\n",
       "      <th>4</th>\n",
       "      <td>1</td>\n",
       "      <td>0</td>\n",
       "      <td>0.276730</td>\n",
       "      <td>0.002266</td>\n",
       "      <td>4</td>\n",
       "    </tr>\n",
       "  </tbody>\n",
       "</table>\n",
       "</div>"
      ],
      "text/plain": [
       "   action  epoch        f1      loss  sent_idx\n",
       "0       1      0  0.160000  0.017548         0\n",
       "1       1      0  0.279570  0.007542         1\n",
       "2       1      0  0.313043  0.021706         2\n",
       "3       1      0  0.302158  0.007945         3\n",
       "4       1      0  0.276730  0.002266         4"
      ]
     },
     "execution_count": 12,
     "metadata": {},
     "output_type": "execute_result"
    }
   ],
   "source": [
    "perf.head()"
   ]
  },
  {
   "cell_type": "code",
   "execution_count": 14,
   "metadata": {
    "scrolled": false
   },
   "outputs": [
    {
     "data": {
      "image/png": "[encoded data removed]",
      "text/plain": [
       "<matplotlib.figure.Figure at 0x7f642317b278>"
      ]
     },
     "metadata": {},
     "output_type": "display_data"
    }
   ],
   "source": [
    "perf[perf['sent_idx'] == perf['sent_idx'].max()].plot(y='f1', figsize=(12, 6))\n",
    "plt.grid()\n",
    "plt.show()"
   ]
  },
  {
   "cell_type": "code",
   "execution_count": 7,
   "metadata": {},
   "outputs": [
    {
     "data": {
      "image/png": "[encoded data removed]",
      "text/plain": [
       "<matplotlib.figure.Figure at 0x7f642340a5f8>"
      ]
     },
     "metadata": {},
     "output_type": "display_data"
    }
   ],
   "source": [
    "perf.plot(y='action', figsize=(12, 6))\n",
    "plt.grid()\n",
    "plt.show()"
   ]
  },
  {
   "cell_type": "code",
   "execution_count": 8,
   "metadata": {},
   "outputs": [
    {
     "name": "stdout",
     "output_type": "stream",
     "text": [
      "lead-3  recall = 0.269; precision = 0.375; f1-score = 0.313 \n",
      "learned recall = 0.000; precision = 0.000; f1-score = 0.000 \n"
     ]
    }
   ],
   "source": [
    "lead3 = ' '.join(sdf['sentence'][0:3])\n",
    "\n",
    "finalsummary = rougeScores(ts_tokenized, Counter(curr_summary.split(\" \")))\n",
    "baseline = rougeScores(ts_tokenized, Counter(lead3.split(\" \")))\n",
    "\n",
    "print(\"lead-3  recall = %.3f; precision = %.3f; f1-score = %.3f \" % (baseline[0], baseline[1], baseline[2]))\n",
    "\n",
    "print(\"learned recall = %.3f; precision = %.3f; f1-score = %.3f \" % (finalsummary[0], finalsummary[1], finalsummary[2]))"
   ]
  },
  {
   "cell_type": "code",
   "execution_count": 9,
   "metadata": {},
   "outputs": [
    {
     "data": {
      "text/plain": [
       "'b\"editor \\'s note : in our behind the scenes series , cnn correspondents share their experiences in covering news and analyze the stories behind the events . here , soledad o\\'brien takes users inside a jail where many of the inmates are mentally ill . an inmate housed on the `` forgotten floor , \\'\\' where many mentally ill inmates are housed in miami before trial .'"
      ]
     },
     "execution_count": 9,
     "metadata": {},
     "output_type": "execute_result"
    }
   ],
   "source": [
    "lead3"
   ]
  },
  {
   "cell_type": "code",
   "execution_count": 10,
   "metadata": {},
   "outputs": [
    {
     "data": {
      "text/plain": [
       "'mentally ill inmates in miami are housed on the forgotten floor. judge steven leifman says most are there as a result of avoidable felonies. while cnn tours facility patient shouts i am the son of the president. leifman says the system is unjust and he fighting for change.'"
      ]
     },
     "execution_count": 10,
     "metadata": {},
     "output_type": "execute_result"
    }
   ],
   "source": [
    "true_summary"
   ]
  },
  {
   "cell_type": "code",
   "execution_count": 11,
   "metadata": {
    "scrolled": false
   },
   "outputs": [
    {
     "data": {
      "text/plain": [
       "''"
      ]
     },
     "execution_count": 11,
     "metadata": {},
     "output_type": "execute_result"
    }
   ],
   "source": [
    "curr_summary"
   ]
  }
 ],
 "metadata": {
  "kernelspec": {
   "display_name": "Python 3",
   "language": "python",
   "name": "python3"
  },
  "language_info": {
   "codemirror_mode": {
    "name": "ipython",
    "version": 3
   },
   "file_extension": ".py",
   "mimetype": "text/x-python",
   "name": "python",
   "nbconvert_exporter": "python",
   "pygments_lexer": "ipython3",
   "version": "3.6.3"
  },
  "latex_envs": {
   "LaTeX_envs_menu_present": true,
   "autocomplete": true,
   "bibliofile": "biblio.bib",
   "cite_by": "apalike",
   "current_citInitial": 1,
   "eqLabelWithNumbers": true,
   "eqNumInitial": 1,
   "hotkeys": {
    "equation": "Ctrl-E",
    "itemize": "Ctrl-I"
   },
   "labels_anchors": false,
   "latex_user_defs": false,
   "report_style_numbering": false,
   "user_envs_cfg": false
  }
 },
 "nbformat": 4,
 "nbformat_minor": 2
}
