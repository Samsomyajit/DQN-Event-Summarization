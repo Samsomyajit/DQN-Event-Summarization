{
 "cells": [
  {
   "cell_type": "code",
   "execution_count": 1,
   "metadata": {
    "collapsed": true
   },
   "outputs": [],
   "source": [
    "import glob\n",
    "import os\n",
    "import struct\n",
    "from nltk.tokenize import sent_tokenize\n",
    "\n",
    "from tensorflow.core.example import example_pb2"
   ]
  },
  {
   "cell_type": "code",
   "execution_count": 2,
   "metadata": {
    "collapsed": true
   },
   "outputs": [],
   "source": [
    "file0 = '/home/francisco/GitHub/cnn-dailymail/finished_files/chunked/train_000.bin'"
   ]
  },
  {
   "cell_type": "code",
   "execution_count": 3,
   "metadata": {
    "collapsed": true
   },
   "outputs": [],
   "source": [
    "files = sorted(os.listdir('/home/francisco/GitHub/cnn-dailymail/finished_files/chunked/'))"
   ]
  },
  {
   "cell_type": "markdown",
   "metadata": {},
   "source": [
    "load word vecs\n",
    "\n",
    "Iterate through chunks of the "
   ]
  },
  {
   "cell_type": "code",
   "execution_count": 4,
   "metadata": {
    "collapsed": true
   },
   "outputs": [],
   "source": [
    "def returnBytes(reader_obj):\n",
    "    len_bytes = reader_obj.read(8)\n",
    "    str_len = struct.unpack('q', len_bytes)[0]\n",
    "    e_s = struct.unpack(\"%ds\" % str_len, reader.read(str_len))\n",
    "    es = e_s[0]\n",
    "    c = example_pb2.Example.FromString(es)\n",
    "    article  = str(c.features.feature['article'].bytes_list.value[0])\n",
    "    abstract = str(c.features.feature['abstract'].bytes_list.value[0])\n",
    "    ab = sent_tokenize(abstract)\n",
    "    clean_article = sent_tokenize(article)\n",
    "    clean_abstract = '. '.join([' '.join(s for s in x.split() if s.isalnum()) for x in ''.join(ab).replace(\"<s>\",\"\").split(\"</s>\")]).strip()    \n",
    "    return clean_abstract, clean_article"
   ]
  },
  {
   "cell_type": "code",
   "execution_count": 5,
   "metadata": {
    "collapsed": true
   },
   "outputs": [],
   "source": [
    "reader = open(file0, 'rb')"
   ]
  },
  {
   "cell_type": "code",
   "execution_count": 6,
   "metadata": {
    "collapsed": true
   },
   "outputs": [],
   "source": [
    "ab0, ar0 =  returnBytes(reader)\n",
    "ab1, ar1 =  returnBytes(reader)"
   ]
  },
  {
   "cell_type": "code",
   "execution_count": 7,
   "metadata": {},
   "outputs": [
    {
     "data": {
      "text/plain": [
       "'harry potter star daniel radcliffe gets 20m fortune as he turns 18 monday. young actor says he has no plans to fritter his cash away. radcliffe earnings from first five potter films have been held in trust fund.'"
      ]
     },
     "execution_count": 7,
     "metadata": {},
     "output_type": "execute_result"
    }
   ],
   "source": [
    "ab1"
   ]
  },
  {
   "cell_type": "code",
   "execution_count": 8,
   "metadata": {
    "collapsed": true
   },
   "outputs": [],
   "source": [
    "import sys\n",
    "import pandas as pd\n",
    "sys.path.append('../src')\n",
    "import data_io, params, SIF_embedding\n",
    "import show_chunked"
   ]
  },
  {
   "cell_type": "code",
   "execution_count": 9,
   "metadata": {
    "collapsed": true
   },
   "outputs": [],
   "source": [
    "# input\n",
    "wordfile = '/home/francisco/GitHub/SIF/data/glove.840B.300d.txt'   # word vector file, can be downloaded from GloVe website\n",
    "weightfile = '/home/francisco/GitHub/SIF/auxiliary_data/enwiki_vocab_min200.txt' # each line is a word and its frequency\n",
    "weightpara = 1e-3 # the parameter in the SIF weighting scheme, usually in the range [3e-5, 3e-3]\n",
    "rmpc = 0\n",
    "# rmpc = 1 # they usually set 1 ; number of principal components to remove in SIF weighting scheme"
   ]
  },
  {
   "cell_type": "code",
   "execution_count": 10,
   "metadata": {
    "collapsed": true
   },
   "outputs": [],
   "source": [
    "# load word vectors\n",
    "(words, We) = data_io.getWordmap(wordfile)"
   ]
  },
  {
   "cell_type": "code",
   "execution_count": 11,
   "metadata": {
    "collapsed": true
   },
   "outputs": [],
   "source": [
    "# load word weights\n",
    "word2weight = data_io.getWordWeight(weightfile, weightpara) # word2weight['str'] is the weight for the word 'str'\n",
    "weight4ind = data_io.getWeight(words, word2weight) # weight4ind[i] is the weight for the i-th word"
   ]
  },
  {
   "cell_type": "code",
   "execution_count": 12,
   "metadata": {
    "collapsed": true
   },
   "outputs": [],
   "source": [
    "# set parameters\n",
    "params = params.params()\n",
    "params.rmpc = rmpc"
   ]
  },
  {
   "cell_type": "code",
   "execution_count": 13,
   "metadata": {
    "collapsed": true
   },
   "outputs": [],
   "source": [
    "sentences = ar0"
   ]
  },
  {
   "cell_type": "code",
   "execution_count": 14,
   "metadata": {
    "collapsed": true
   },
   "outputs": [],
   "source": [
    "# load sentences\n",
    "x, m = data_io.sentences2idx(sentences, words) # x is the array of word indices, m is the binary mask indicating whether there is a word in that location\n",
    "w = data_io.seq2weight(x, m, weight4ind) # get word weights\n",
    "\n",
    "# get SIF embedding\n",
    "embeddings = SIF_embedding.SIF_embedding(We, x, w, params) # embedding[i,:] is the embedding for sentence i"
   ]
  },
  {
   "cell_type": "code",
   "execution_count": 22,
   "metadata": {
    "collapsed": true
   },
   "outputs": [],
   "source": [
    "import numpy as np"
   ]
  },
  {
   "cell_type": "code",
   "execution_count": 27,
   "metadata": {
    "collapsed": true
   },
   "outputs": [],
   "source": [
    "# Sentence embeddings\n",
    "sdf = pd.DataFrame(sentences, columns=['sentence'])\n",
    "sdf['summary'] = ab0\n",
    "sdf.ix[1:, 'summary']  = ''\n",
    "emb = pd.DataFrame(embeddings, columns=['emb_%i' % x for x in range(embeddings.shape[1])])\n",
    "sdf = pd.concat([sdf, emb], axis=1)"
   ]
  },
  {
   "cell_type": "code",
   "execution_count": 28,
   "metadata": {},
   "outputs": [
    {
     "data": {
      "text/html": [
       "<div>\n",
       "<table border=\"1\" class=\"dataframe\">\n",
       "  <thead>\n",
       "    <tr style=\"text-align: right;\">\n",
       "      <th></th>\n",
       "      <th>sentence</th>\n",
       "      <th>summary</th>\n",
       "      <th>emb_0</th>\n",
       "      <th>emb_1</th>\n",
       "      <th>emb_2</th>\n",
       "      <th>emb_3</th>\n",
       "      <th>emb_4</th>\n",
       "      <th>emb_5</th>\n",
       "      <th>emb_6</th>\n",
       "      <th>emb_7</th>\n",
       "      <th>...</th>\n",
       "      <th>emb_290</th>\n",
       "      <th>emb_291</th>\n",
       "      <th>emb_292</th>\n",
       "      <th>emb_293</th>\n",
       "      <th>emb_294</th>\n",
       "      <th>emb_295</th>\n",
       "      <th>emb_296</th>\n",
       "      <th>emb_297</th>\n",
       "      <th>emb_298</th>\n",
       "      <th>emb_299</th>\n",
       "    </tr>\n",
       "  </thead>\n",
       "  <tbody>\n",
       "    <tr>\n",
       "      <th>0</th>\n",
       "      <td>b\"editor 's note : in our behind the scenes se...</td>\n",
       "      <td>mentally ill inmates in miami are housed on th...</td>\n",
       "      <td>-0.032912</td>\n",
       "      <td>0.042397</td>\n",
       "      <td>0.031326</td>\n",
       "      <td>0.148815</td>\n",
       "      <td>-0.005044</td>\n",
       "      <td>0.061765</td>\n",
       "      <td>-0.042820</td>\n",
       "      <td>0.020897</td>\n",
       "      <td>...</td>\n",
       "      <td>-0.155933</td>\n",
       "      <td>0.062875</td>\n",
       "      <td>-0.047902</td>\n",
       "      <td>-0.027060</td>\n",
       "      <td>-0.075693</td>\n",
       "      <td>-0.161862</td>\n",
       "      <td>-0.013952</td>\n",
       "      <td>-0.057433</td>\n",
       "      <td>-0.006306</td>\n",
       "      <td>-0.022029</td>\n",
       "    </tr>\n",
       "    <tr>\n",
       "      <th>1</th>\n",
       "      <td>here , soledad o'brien takes users inside a ja...</td>\n",
       "      <td></td>\n",
       "      <td>0.019653</td>\n",
       "      <td>0.105582</td>\n",
       "      <td>-0.032739</td>\n",
       "      <td>-0.062289</td>\n",
       "      <td>-0.007770</td>\n",
       "      <td>-0.096966</td>\n",
       "      <td>-0.034363</td>\n",
       "      <td>-0.116381</td>\n",
       "      <td>...</td>\n",
       "      <td>-0.045381</td>\n",
       "      <td>-0.101878</td>\n",
       "      <td>-0.103699</td>\n",
       "      <td>-0.002594</td>\n",
       "      <td>-0.056704</td>\n",
       "      <td>-0.028815</td>\n",
       "      <td>0.003903</td>\n",
       "      <td>-0.038061</td>\n",
       "      <td>-0.199252</td>\n",
       "      <td>0.018881</td>\n",
       "    </tr>\n",
       "    <tr>\n",
       "      <th>2</th>\n",
       "      <td>an inmate housed on the `` forgotten floor , '...</td>\n",
       "      <td></td>\n",
       "      <td>0.096693</td>\n",
       "      <td>0.013868</td>\n",
       "      <td>-0.015701</td>\n",
       "      <td>-0.101575</td>\n",
       "      <td>0.068017</td>\n",
       "      <td>-0.036213</td>\n",
       "      <td>-0.031631</td>\n",
       "      <td>-0.147130</td>\n",
       "      <td>...</td>\n",
       "      <td>-0.001189</td>\n",
       "      <td>-0.150899</td>\n",
       "      <td>-0.018053</td>\n",
       "      <td>0.050539</td>\n",
       "      <td>-0.083624</td>\n",
       "      <td>0.007458</td>\n",
       "      <td>0.082060</td>\n",
       "      <td>0.014343</td>\n",
       "      <td>-0.087338</td>\n",
       "      <td>-0.000591</td>\n",
       "    </tr>\n",
       "    <tr>\n",
       "      <th>3</th>\n",
       "      <td>miami , florida -lrb- cnn -rrb- -- the ninth f...</td>\n",
       "      <td></td>\n",
       "      <td>0.027993</td>\n",
       "      <td>0.086192</td>\n",
       "      <td>0.170021</td>\n",
       "      <td>0.144501</td>\n",
       "      <td>0.157027</td>\n",
       "      <td>0.029404</td>\n",
       "      <td>0.058522</td>\n",
       "      <td>-0.075552</td>\n",
       "      <td>...</td>\n",
       "      <td>0.101818</td>\n",
       "      <td>-0.118518</td>\n",
       "      <td>0.059976</td>\n",
       "      <td>0.031895</td>\n",
       "      <td>-0.104899</td>\n",
       "      <td>-0.052007</td>\n",
       "      <td>0.025132</td>\n",
       "      <td>0.088880</td>\n",
       "      <td>-0.156214</td>\n",
       "      <td>-0.061895</td>\n",
       "    </tr>\n",
       "    <tr>\n",
       "      <th>4</th>\n",
       "      <td>here , inmates with the most severe mental ill...</td>\n",
       "      <td></td>\n",
       "      <td>-0.007857</td>\n",
       "      <td>0.107740</td>\n",
       "      <td>-0.081650</td>\n",
       "      <td>-0.081380</td>\n",
       "      <td>0.005123</td>\n",
       "      <td>-0.116588</td>\n",
       "      <td>0.007774</td>\n",
       "      <td>-0.009557</td>\n",
       "      <td>...</td>\n",
       "      <td>-0.089699</td>\n",
       "      <td>-0.036341</td>\n",
       "      <td>-0.126280</td>\n",
       "      <td>-0.045463</td>\n",
       "      <td>-0.129258</td>\n",
       "      <td>0.005660</td>\n",
       "      <td>0.032350</td>\n",
       "      <td>-0.075145</td>\n",
       "      <td>-0.063582</td>\n",
       "      <td>-0.024497</td>\n",
       "    </tr>\n",
       "  </tbody>\n",
       "</table>\n",
       "<p>5 rows × 302 columns</p>\n",
       "</div>"
      ],
      "text/plain": [
       "                                            sentence  \\\n",
       "0  b\"editor 's note : in our behind the scenes se...   \n",
       "1  here , soledad o'brien takes users inside a ja...   \n",
       "2  an inmate housed on the `` forgotten floor , '...   \n",
       "3  miami , florida -lrb- cnn -rrb- -- the ninth f...   \n",
       "4  here , inmates with the most severe mental ill...   \n",
       "\n",
       "                                             summary     emb_0     emb_1  \\\n",
       "0  mentally ill inmates in miami are housed on th... -0.032912  0.042397   \n",
       "1                                                     0.019653  0.105582   \n",
       "2                                                     0.096693  0.013868   \n",
       "3                                                     0.027993  0.086192   \n",
       "4                                                    -0.007857  0.107740   \n",
       "\n",
       "      emb_2     emb_3     emb_4     emb_5     emb_6     emb_7    ...     \\\n",
       "0  0.031326  0.148815 -0.005044  0.061765 -0.042820  0.020897    ...      \n",
       "1 -0.032739 -0.062289 -0.007770 -0.096966 -0.034363 -0.116381    ...      \n",
       "2 -0.015701 -0.101575  0.068017 -0.036213 -0.031631 -0.147130    ...      \n",
       "3  0.170021  0.144501  0.157027  0.029404  0.058522 -0.075552    ...      \n",
       "4 -0.081650 -0.081380  0.005123 -0.116588  0.007774 -0.009557    ...      \n",
       "\n",
       "    emb_290   emb_291   emb_292   emb_293   emb_294   emb_295   emb_296  \\\n",
       "0 -0.155933  0.062875 -0.047902 -0.027060 -0.075693 -0.161862 -0.013952   \n",
       "1 -0.045381 -0.101878 -0.103699 -0.002594 -0.056704 -0.028815  0.003903   \n",
       "2 -0.001189 -0.150899 -0.018053  0.050539 -0.083624  0.007458  0.082060   \n",
       "3  0.101818 -0.118518  0.059976  0.031895 -0.104899 -0.052007  0.025132   \n",
       "4 -0.089699 -0.036341 -0.126280 -0.045463 -0.129258  0.005660  0.032350   \n",
       "\n",
       "    emb_297   emb_298   emb_299  \n",
       "0 -0.057433 -0.006306 -0.022029  \n",
       "1 -0.038061 -0.199252  0.018881  \n",
       "2  0.014343 -0.087338 -0.000591  \n",
       "3  0.088880 -0.156214 -0.061895  \n",
       "4 -0.075145 -0.063582 -0.024497  \n",
       "\n",
       "[5 rows x 302 columns]"
      ]
     },
     "execution_count": 28,
     "metadata": {},
     "output_type": "execute_result"
    }
   ],
   "source": [
    "sdf.head()"
   ]
  },
  {
   "cell_type": "code",
   "execution_count": null,
   "metadata": {
    "collapsed": true
   },
   "outputs": [],
   "source": []
  }
 ],
 "metadata": {
  "kernelspec": {
   "display_name": "Python 3",
   "language": "python",
   "name": "python3"
  },
  "language_info": {
   "codemirror_mode": {
    "name": "ipython",
    "version": 3
   },
   "file_extension": ".py",
   "mimetype": "text/x-python",
   "name": "python",
   "nbconvert_exporter": "python",
   "pygments_lexer": "ipython3",
   "version": "3.6.3"
  }
 },
 "nbformat": 4,
 "nbformat_minor": 2
}
