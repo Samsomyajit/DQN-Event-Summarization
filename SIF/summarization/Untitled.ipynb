{
 "cells": [
  {
   "cell_type": "code",
   "execution_count": 1,
   "metadata": {
    "collapsed": true
   },
   "outputs": [],
   "source": [
    "import sys\n",
    "import pandas as pd\n",
    "sys.path.append('../src')\n",
    "import data_io, params, SIF_embedding\n",
    "import show_chunked"
   ]
  },
  {
   "cell_type": "code",
   "execution_count": 2,
   "metadata": {
    "collapsed": true
   },
   "outputs": [],
   "source": [
    "# input\n",
    "wordfile = '/home/francisco/GitHub/SIF/data/glove.840B.300d.txt'   # word vector file, can be downloaded from GloVe website\n",
    "weightfile = '/home/francisco/GitHub/SIF/auxiliary_data/enwiki_vocab_min200.txt' # each line is a word and its frequency\n",
    "weightpara = 1e-3 # the parameter in the SIF weighting scheme, usually in the range [3e-5, 3e-3]\n",
    "rmpc = 0\n",
    "# rmpc = 1 # they usually set 1 ; number of principal components to remove in SIF weighting scheme"
   ]
  },
  {
   "cell_type": "code",
   "execution_count": 3,
   "metadata": {
    "scrolled": true
   },
   "outputs": [
    {
     "name": "stdout",
     "output_type": "stream",
     "text": [
      "features {\n",
      "  feature {\n",
      "    key: \"abstract\"\n",
      "    value {\n",
      "      bytes_list {\n",
      "        value: \"<s> mentally ill inmates in miami are housed on the `` forgotten floor \\'\\' </s> <s> judge steven leifman says most are there as a result of `` avoidable felonies \\'\\' </s> <s> while cnn tours facility , patient shouts : `` i am the son of the president \\'\\' </s> <s> leifman says the system is unjust and he \\'s fighting for change . </s>\"\n",
      "      }\n",
      "    }\n",
      "  }\n",
      "  feature {\n",
      "    key: \"article\"\n",
      "    value {\n",
      "      bytes_list {\n",
      "        value: \"editor \\'s note : in our behind the scenes series , cnn correspondents share their experiences in covering news and analyze the stories behind the events . here , soledad o\\'brien takes users inside a jail where many of the inmates are mentally ill . an inmate housed on the `` forgotten floor , \\'\\' where many mentally ill inmates are housed in miami before trial . miami , florida -lrb- cnn -rrb- -- the ninth floor of the miami-dade pretrial detention facility is dubbed the `` forgotten floor . \\'\\' here , inmates with the most severe mental illnesses are incarcerated until they \\'re ready to appear in court . most often , they face drug charges or charges of assaulting an officer -- charges that judge steven leifman says are usually `` avoidable felonies . \\'\\' he says the arrests often result from confrontations with police . mentally ill people often wo n\\'t do what they \\'re told when police arrive on the scene -- confrontation seems to exacerbate their illness and they become more paranoid , delusional , and less likely to follow directions , according to leifman . so , they end up on the ninth floor severely mentally disturbed , but not getting any real help because they \\'re in jail . we toured the jail with leifman . he is well known in miami as an advocate for justice and the mentally ill . even though we were not exactly welcomed with open arms by the guards , we were given permission to shoot videotape and tour the floor . go inside the ` forgotten floor \\' \\'\\' at first , it \\'s hard to determine where the people are . the prisoners are wearing sleeveless robes . imagine cutting holes for arms and feet in a heavy wool sleeping bag -- that \\'s kind of what they look like . they \\'re designed to keep the mentally ill patients from injuring themselves . that \\'s also why they have no shoes , laces or mattresses . leifman says about one-third of all people in miami-dade county jails are mentally ill . so , he says , the sheer volume is overwhelming the system , and the result is what we see on the ninth floor . of course , it is a jail , so it \\'s not supposed to be warm and comforting , but the lights glare , the cells are tiny and it \\'s loud . we see two , sometimes three men -- sometimes in the robes , sometimes naked , lying or sitting in their cells . `` i am the son of the president . you need to get me out of here ! \\'\\' one man shouts at me . he is absolutely serious , convinced that help is on the way -- if only he could reach the white house . leifman tells me that these prisoner-patients will often circulate through the system , occasionally stabilizing in a mental hospital , only to return to jail to face their charges . it \\'s brutally unjust , in his mind , and he has become a strong advocate for changing things in miami . over a meal later , we talk about how things got this way for mental patients . leifman says 200 years ago people were considered `` lunatics \\'\\' and they were locked up in jails even if they had no charges against them . they were just considered unfit to be in society . over the years , he says , there was some public outcry , and the mentally ill were moved out of jails and into hospitals . but leifman says many of these mental hospitals were so horrible they were shut down . where did the patients go ? nowhere . the streets . they became , in many cases , the homeless , he says . they never got treatment . leifman says in 1955 there were more than half a million people in state mental hospitals , and today that number has been reduced 90 percent , and 40,000 to 50,000 people are in mental hospitals . the judge says he \\'s working to change this . starting in 2008 , many inmates who would otherwise have been brought to the `` forgotten floor \\'\\' will instead be sent to a new mental health facility -- the first step on a journey toward long-term treatment , not just punishment . leifman says it \\'s not the complete answer , but it \\'s a start . leifman says the best part is that it \\'s a win-win solution . the patients win , the families are relieved , and the state saves money by simply not cycling these prisoners through again and again . and , for leifman , justice is served . e-mail to a friend .\"\n",
      "      }\n",
      "    }\n",
      "  }\n",
      "}\n",
      "\n"
     ]
    }
   ],
   "source": [
    "cnn_file = '/home/francisco/GitHub/cnn-dailymail/finished_files/chunked/train_000.bin'\n",
    "abstract, sentences = show_chunked.getsentences(cnn_file)"
   ]
  },
  {
   "cell_type": "code",
   "execution_count": 4,
   "metadata": {},
   "outputs": [
    {
     "name": "stdout",
     "output_type": "stream",
     "text": [
      "['b\"<s> mentally ill inmates in miami are housed on the `` forgotten floor \\'\\' </s> <s> judge steven leifman says most are there as a result of `` avoidable felonies \\'\\' </s> <s> while cnn tours facility , patient shouts : `` i am the son of the president \\'\\' </s> <s> leifman says the system is unjust and he \\'s fighting for change .', '</s>\"']\n"
     ]
    }
   ],
   "source": [
    "# sentences = ['this is an example sentence', 'this is another sentence that is slightly longer']\n",
    "print(abstract)\n",
    "\n",
    "# load word vectors\n",
    "(words, We) = data_io.getWordmap(wordfile)"
   ]
  },
  {
   "cell_type": "code",
   "execution_count": 5,
   "metadata": {},
   "outputs": [],
   "source": [
    "# load word weights\n",
    "word2weight = data_io.getWordWeight(weightfile, weightpara) # word2weight['str'] is the weight for the word 'str'\n",
    "weight4ind = data_io.getWeight(words, word2weight) # weight4ind[i] is the weight for the i-th word"
   ]
  },
  {
   "cell_type": "code",
   "execution_count": 6,
   "metadata": {
    "collapsed": true
   },
   "outputs": [],
   "source": [
    "sentences = ['test', 'other test']"
   ]
  },
  {
   "cell_type": "code",
   "execution_count": 33,
   "metadata": {
    "scrolled": true
   },
   "outputs": [
    {
     "name": "stdout",
     "output_type": "stream",
     "text": [
      "features {\n",
      "  feature {\n",
      "    key: \"abstract\"\n",
      "    value {\n",
      "      bytes_list {\n",
      "        value: \"<s> mentally ill inmates in miami are housed on the `` forgotten floor \\'\\' </s> <s> judge steven leifman says most are there as a result of `` avoidable felonies \\'\\' </s> <s> while cnn tours facility , patient shouts : `` i am the son of the president \\'\\' </s> <s> leifman says the system is unjust and he \\'s fighting for change . </s>\"\n",
      "      }\n",
      "    }\n",
      "  }\n",
      "  feature {\n",
      "    key: \"article\"\n",
      "    value {\n",
      "      bytes_list {\n",
      "        value: \"editor \\'s note : in our behind the scenes series , cnn correspondents share their experiences in covering news and analyze the stories behind the events . here , soledad o\\'brien takes users inside a jail where many of the inmates are mentally ill . an inmate housed on the `` forgotten floor , \\'\\' where many mentally ill inmates are housed in miami before trial . miami , florida -lrb- cnn -rrb- -- the ninth floor of the miami-dade pretrial detention facility is dubbed the `` forgotten floor . \\'\\' here , inmates with the most severe mental illnesses are incarcerated until they \\'re ready to appear in court . most often , they face drug charges or charges of assaulting an officer -- charges that judge steven leifman says are usually `` avoidable felonies . \\'\\' he says the arrests often result from confrontations with police . mentally ill people often wo n\\'t do what they \\'re told when police arrive on the scene -- confrontation seems to exacerbate their illness and they become more paranoid , delusional , and less likely to follow directions , according to leifman . so , they end up on the ninth floor severely mentally disturbed , but not getting any real help because they \\'re in jail . we toured the jail with leifman . he is well known in miami as an advocate for justice and the mentally ill . even though we were not exactly welcomed with open arms by the guards , we were given permission to shoot videotape and tour the floor . go inside the ` forgotten floor \\' \\'\\' at first , it \\'s hard to determine where the people are . the prisoners are wearing sleeveless robes . imagine cutting holes for arms and feet in a heavy wool sleeping bag -- that \\'s kind of what they look like . they \\'re designed to keep the mentally ill patients from injuring themselves . that \\'s also why they have no shoes , laces or mattresses . leifman says about one-third of all people in miami-dade county jails are mentally ill . so , he says , the sheer volume is overwhelming the system , and the result is what we see on the ninth floor . of course , it is a jail , so it \\'s not supposed to be warm and comforting , but the lights glare , the cells are tiny and it \\'s loud . we see two , sometimes three men -- sometimes in the robes , sometimes naked , lying or sitting in their cells . `` i am the son of the president . you need to get me out of here ! \\'\\' one man shouts at me . he is absolutely serious , convinced that help is on the way -- if only he could reach the white house . leifman tells me that these prisoner-patients will often circulate through the system , occasionally stabilizing in a mental hospital , only to return to jail to face their charges . it \\'s brutally unjust , in his mind , and he has become a strong advocate for changing things in miami . over a meal later , we talk about how things got this way for mental patients . leifman says 200 years ago people were considered `` lunatics \\'\\' and they were locked up in jails even if they had no charges against them . they were just considered unfit to be in society . over the years , he says , there was some public outcry , and the mentally ill were moved out of jails and into hospitals . but leifman says many of these mental hospitals were so horrible they were shut down . where did the patients go ? nowhere . the streets . they became , in many cases , the homeless , he says . they never got treatment . leifman says in 1955 there were more than half a million people in state mental hospitals , and today that number has been reduced 90 percent , and 40,000 to 50,000 people are in mental hospitals . the judge says he \\'s working to change this . starting in 2008 , many inmates who would otherwise have been brought to the `` forgotten floor \\'\\' will instead be sent to a new mental health facility -- the first step on a journey toward long-term treatment , not just punishment . leifman says it \\'s not the complete answer , but it \\'s a start . leifman says the best part is that it \\'s a win-win solution . the patients win , the families are relieved , and the state saves money by simply not cycling these prisoners through again and again . and , for leifman , justice is served . e-mail to a friend .\"\n",
      "      }\n",
      "    }\n",
      "  }\n",
      "}\n",
      "\n"
     ]
    }
   ],
   "source": [
    "abstract, sentences = show_chunked.getsentences(cnn_file)"
   ]
  },
  {
   "cell_type": "code",
   "execution_count": null,
   "metadata": {
    "collapsed": true
   },
   "outputs": [],
   "source": [
    "# set parameters\n",
    "params = params.params()\n",
    "params.rmpc = rmpc"
   ]
  },
  {
   "cell_type": "code",
   "execution_count": 36,
   "metadata": {
    "collapsed": true
   },
   "outputs": [],
   "source": [
    "# load sentences\n",
    "x, m = data_io.sentences2idx(sentences, words) # x is the array of word indices, m is the binary mask indicating whether there is a word in that location\n",
    "w = data_io.seq2weight(x, m, weight4ind) # get word weights\n",
    "\n",
    "# get SIF embedding\n",
    "embeddings = SIF_embedding.SIF_embedding(We, x, w, params) # embedding[i,:] is the embedding for sentence i"
   ]
  },
  {
   "cell_type": "code",
   "execution_count": 42,
   "metadata": {
    "collapsed": true
   },
   "outputs": [],
   "source": [
    "# load sentences\n",
    "abstract_x, abstract_m = data_io.sentences2idx(abstract, words) # x is the array of word indices, m is the binary mask indicating whether there is a word in that location\n",
    "abstract_w = data_io.seq2weight(abstract_x, abstract_m, weight4ind) # get word weights\n",
    "\n",
    "# get SIF embedding\n",
    "abstract_embeddings = SIF_embedding.SIF_embedding(We, abstract_x, abstract_w, params) # embedding[i,:] is the embedding for sentence i"
   ]
  },
  {
   "cell_type": "code",
   "execution_count": 39,
   "metadata": {},
   "outputs": [],
   "source": [
    "# Sentence embeddings\n",
    "sdf = pd.DataFrame(sentences, columns=['sentence'])\n",
    "emb = pd.DataFrame(embeddings, columns=['emb_%i' % x for x in range(embeddings.shape[1])])\n",
    "sdf = pd.concat([sdf, emb], axis=1)"
   ]
  },
  {
   "cell_type": "code",
   "execution_count": 44,
   "metadata": {
    "collapsed": true
   },
   "outputs": [],
   "source": [
    "# Abstract embeddings\n",
    "adf = pd.DataFrame(abstract, columns=['sentence'])\n",
    "aemb = pd.DataFrame(abstract_embeddings, columns=['emb_%i' % x for x in range(abstract_embeddings.shape[1])])\n",
    "adf = pd.concat([adf, aemb], axis=1)"
   ]
  },
  {
   "cell_type": "code",
   "execution_count": 79,
   "metadata": {},
   "outputs": [
    {
     "data": {
      "text/html": [
       "<div>\n",
       "<table border=\"1\" class=\"dataframe\">\n",
       "  <thead>\n",
       "    <tr style=\"text-align: right;\">\n",
       "      <th></th>\n",
       "      <th>sentence</th>\n",
       "      <th>emb_0</th>\n",
       "      <th>emb_1</th>\n",
       "      <th>emb_2</th>\n",
       "      <th>emb_3</th>\n",
       "      <th>emb_4</th>\n",
       "      <th>emb_5</th>\n",
       "      <th>emb_6</th>\n",
       "      <th>emb_7</th>\n",
       "      <th>emb_8</th>\n",
       "      <th>...</th>\n",
       "      <th>emb_290</th>\n",
       "      <th>emb_291</th>\n",
       "      <th>emb_292</th>\n",
       "      <th>emb_293</th>\n",
       "      <th>emb_294</th>\n",
       "      <th>emb_295</th>\n",
       "      <th>emb_296</th>\n",
       "      <th>emb_297</th>\n",
       "      <th>emb_298</th>\n",
       "      <th>emb_299</th>\n",
       "    </tr>\n",
       "  </thead>\n",
       "  <tbody>\n",
       "    <tr>\n",
       "      <th>0</th>\n",
       "      <td>b\"&lt;s&gt; mentally ill inmates in miami are housed...</td>\n",
       "      <td>0.022908</td>\n",
       "      <td>0.071156</td>\n",
       "      <td>0.020476</td>\n",
       "      <td>0.018421</td>\n",
       "      <td>0.054732</td>\n",
       "      <td>-0.046256</td>\n",
       "      <td>0.080958</td>\n",
       "      <td>-0.054592</td>\n",
       "      <td>-0.107311</td>\n",
       "      <td>...</td>\n",
       "      <td>0.061697</td>\n",
       "      <td>-0.080972</td>\n",
       "      <td>-0.07964</td>\n",
       "      <td>-0.023547</td>\n",
       "      <td>0.002054</td>\n",
       "      <td>0.045217</td>\n",
       "      <td>0.091082</td>\n",
       "      <td>0.013634</td>\n",
       "      <td>-0.084233</td>\n",
       "      <td>-0.056688</td>\n",
       "    </tr>\n",
       "    <tr>\n",
       "      <th>1</th>\n",
       "      <td>&lt;/s&gt;\"</td>\n",
       "      <td>0.212150</td>\n",
       "      <td>-0.994560</td>\n",
       "      <td>1.178200</td>\n",
       "      <td>2.072100</td>\n",
       "      <td>-0.442710</td>\n",
       "      <td>0.587300</td>\n",
       "      <td>0.261280</td>\n",
       "      <td>-0.425540</td>\n",
       "      <td>0.030910</td>\n",
       "      <td>...</td>\n",
       "      <td>-0.199460</td>\n",
       "      <td>-0.198480</td>\n",
       "      <td>1.09150</td>\n",
       "      <td>-0.351070</td>\n",
       "      <td>-1.047200</td>\n",
       "      <td>-0.413820</td>\n",
       "      <td>-0.211390</td>\n",
       "      <td>0.934270</td>\n",
       "      <td>-0.932860</td>\n",
       "      <td>-0.514790</td>\n",
       "    </tr>\n",
       "  </tbody>\n",
       "</table>\n",
       "<p>2 rows × 301 columns</p>\n",
       "</div>"
      ],
      "text/plain": [
       "                                            sentence     emb_0     emb_1  \\\n",
       "0  b\"<s> mentally ill inmates in miami are housed...  0.022908  0.071156   \n",
       "1                                              </s>\"  0.212150 -0.994560   \n",
       "\n",
       "      emb_2     emb_3     emb_4     emb_5     emb_6     emb_7     emb_8  \\\n",
       "0  0.020476  0.018421  0.054732 -0.046256  0.080958 -0.054592 -0.107311   \n",
       "1  1.178200  2.072100 -0.442710  0.587300  0.261280 -0.425540  0.030910   \n",
       "\n",
       "     ...      emb_290   emb_291  emb_292   emb_293   emb_294   emb_295  \\\n",
       "0    ...     0.061697 -0.080972 -0.07964 -0.023547  0.002054  0.045217   \n",
       "1    ...    -0.199460 -0.198480  1.09150 -0.351070 -1.047200 -0.413820   \n",
       "\n",
       "    emb_296   emb_297   emb_298   emb_299  \n",
       "0  0.091082  0.013634 -0.084233 -0.056688  \n",
       "1 -0.211390  0.934270 -0.932860 -0.514790  \n",
       "\n",
       "[2 rows x 301 columns]"
      ]
     },
     "execution_count": 79,
     "metadata": {},
     "output_type": "execute_result"
    }
   ],
   "source": [
    "adf.head()"
   ]
  },
  {
   "cell_type": "code",
   "execution_count": 49,
   "metadata": {},
   "outputs": [
    {
     "data": {
      "text/html": [
       "<div>\n",
       "<table border=\"1\" class=\"dataframe\">\n",
       "  <thead>\n",
       "    <tr style=\"text-align: right;\">\n",
       "      <th></th>\n",
       "      <th>0</th>\n",
       "      <th>1</th>\n",
       "      <th>2</th>\n",
       "      <th>3</th>\n",
       "      <th>4</th>\n",
       "      <th>5</th>\n",
       "      <th>6</th>\n",
       "      <th>7</th>\n",
       "      <th>8</th>\n",
       "      <th>9</th>\n",
       "      <th>...</th>\n",
       "      <th>35</th>\n",
       "      <th>36</th>\n",
       "      <th>37</th>\n",
       "      <th>38</th>\n",
       "      <th>39</th>\n",
       "      <th>40</th>\n",
       "      <th>41</th>\n",
       "      <th>42</th>\n",
       "      <th>43</th>\n",
       "      <th>44</th>\n",
       "    </tr>\n",
       "  </thead>\n",
       "  <tbody>\n",
       "    <tr>\n",
       "      <th>0</th>\n",
       "      <td>1.817512</td>\n",
       "      <td>2.292365</td>\n",
       "      <td>2.596830</td>\n",
       "      <td>2.382609</td>\n",
       "      <td>2.423058</td>\n",
       "      <td>2.762949</td>\n",
       "      <td>2.299929</td>\n",
       "      <td>2.581899</td>\n",
       "      <td>2.520371</td>\n",
       "      <td>2.509575</td>\n",
       "      <td>...</td>\n",
       "      <td>2.169849</td>\n",
       "      <td>3.204776</td>\n",
       "      <td>1.857283</td>\n",
       "      <td>2.199148</td>\n",
       "      <td>2.210345</td>\n",
       "      <td>1.971270</td>\n",
       "      <td>1.798427</td>\n",
       "      <td>2.101235</td>\n",
       "      <td>2.111192</td>\n",
       "      <td>1.908998</td>\n",
       "    </tr>\n",
       "    <tr>\n",
       "      <th>1</th>\n",
       "      <td>0.753979</td>\n",
       "      <td>-4.990673</td>\n",
       "      <td>-4.911323</td>\n",
       "      <td>8.817124</td>\n",
       "      <td>-6.669700</td>\n",
       "      <td>0.607116</td>\n",
       "      <td>-3.541776</td>\n",
       "      <td>-1.638142</td>\n",
       "      <td>-6.061621</td>\n",
       "      <td>20.103736</td>\n",
       "      <td>...</td>\n",
       "      <td>-6.527407</td>\n",
       "      <td>-6.680961</td>\n",
       "      <td>-1.245231</td>\n",
       "      <td>-6.110955</td>\n",
       "      <td>-5.538870</td>\n",
       "      <td>4.242819</td>\n",
       "      <td>7.143908</td>\n",
       "      <td>-5.086400</td>\n",
       "      <td>12.846627</td>\n",
       "      <td>26.417403</td>\n",
       "    </tr>\n",
       "  </tbody>\n",
       "</table>\n",
       "<p>2 rows × 45 columns</p>\n",
       "</div>"
      ],
      "text/plain": [
       "         0         1         2         3         4         5         6   \\\n",
       "0  1.817512  2.292365  2.596830  2.382609  2.423058  2.762949  2.299929   \n",
       "1  0.753979 -4.990673 -4.911323  8.817124 -6.669700  0.607116 -3.541776   \n",
       "\n",
       "         7         8          9     ...            35        36        37  \\\n",
       "0  2.581899  2.520371   2.509575    ...      2.169849  3.204776  1.857283   \n",
       "1 -1.638142 -6.061621  20.103736    ...     -6.527407 -6.680961 -1.245231   \n",
       "\n",
       "         38        39        40        41        42         43         44  \n",
       "0  2.199148  2.210345  1.971270  1.798427  2.101235   2.111192   1.908998  \n",
       "1 -6.110955 -5.538870  4.242819  7.143908 -5.086400  12.846627  26.417403  \n",
       "\n",
       "[2 rows x 45 columns]"
      ]
     },
     "execution_count": 49,
     "metadata": {},
     "output_type": "execute_result"
    }
   ],
   "source": [
    "adf[adf.columns[1:]].dot(sdf[sdf.columns[1:]].T)"
   ]
  },
  {
   "cell_type": "markdown",
   "metadata": {},
   "source": [
    "algorithm example: single article\n",
    "(k = # of sentences; e = embedding dimension)\n",
    "\n",
    "take (k, e) = x (sentence embeddings)\n",
    "create bit representation of sentence summary decisions (1, k) = b\n",
    "use x into f(x, b) => h(x, b) then produce two outputs to choose summary with optimal reward\n",
    "backprop"
   ]
  },
  {
   "cell_type": "code",
   "execution_count": 50,
   "metadata": {
    "collapsed": true
   },
   "outputs": [
    {
     "data": {
      "text/html": [
       "<div>\n",
       "<table border=\"1\" class=\"dataframe\">\n",
       "  <thead>\n",
       "    <tr style=\"text-align: right;\">\n",
       "      <th></th>\n",
       "      <th>sentence</th>\n",
       "      <th>emb_0</th>\n",
       "      <th>emb_1</th>\n",
       "      <th>emb_2</th>\n",
       "      <th>emb_3</th>\n",
       "      <th>emb_4</th>\n",
       "      <th>emb_5</th>\n",
       "      <th>emb_6</th>\n",
       "      <th>emb_7</th>\n",
       "      <th>emb_8</th>\n",
       "      <th>...</th>\n",
       "      <th>emb_290</th>\n",
       "      <th>emb_291</th>\n",
       "      <th>emb_292</th>\n",
       "      <th>emb_293</th>\n",
       "      <th>emb_294</th>\n",
       "      <th>emb_295</th>\n",
       "      <th>emb_296</th>\n",
       "      <th>emb_297</th>\n",
       "      <th>emb_298</th>\n",
       "      <th>emb_299</th>\n",
       "    </tr>\n",
       "  </thead>\n",
       "  <tbody>\n",
       "    <tr>\n",
       "      <th>0</th>\n",
       "      <td>b\"&lt;s&gt; mentally ill inmates in miami are housed...</td>\n",
       "      <td>0.022908</td>\n",
       "      <td>0.071156</td>\n",
       "      <td>0.020476</td>\n",
       "      <td>0.018421</td>\n",
       "      <td>0.054732</td>\n",
       "      <td>-0.046256</td>\n",
       "      <td>0.080958</td>\n",
       "      <td>-0.054592</td>\n",
       "      <td>-0.107311</td>\n",
       "      <td>...</td>\n",
       "      <td>0.061697</td>\n",
       "      <td>-0.080972</td>\n",
       "      <td>-0.07964</td>\n",
       "      <td>-0.023547</td>\n",
       "      <td>0.002054</td>\n",
       "      <td>0.045217</td>\n",
       "      <td>0.091082</td>\n",
       "      <td>0.013634</td>\n",
       "      <td>-0.084233</td>\n",
       "      <td>-0.056688</td>\n",
       "    </tr>\n",
       "    <tr>\n",
       "      <th>1</th>\n",
       "      <td>&lt;/s&gt;\"</td>\n",
       "      <td>0.212150</td>\n",
       "      <td>-0.994560</td>\n",
       "      <td>1.178200</td>\n",
       "      <td>2.072100</td>\n",
       "      <td>-0.442710</td>\n",
       "      <td>0.587300</td>\n",
       "      <td>0.261280</td>\n",
       "      <td>-0.425540</td>\n",
       "      <td>0.030910</td>\n",
       "      <td>...</td>\n",
       "      <td>-0.199460</td>\n",
       "      <td>-0.198480</td>\n",
       "      <td>1.09150</td>\n",
       "      <td>-0.351070</td>\n",
       "      <td>-1.047200</td>\n",
       "      <td>-0.413820</td>\n",
       "      <td>-0.211390</td>\n",
       "      <td>0.934270</td>\n",
       "      <td>-0.932860</td>\n",
       "      <td>-0.514790</td>\n",
       "    </tr>\n",
       "  </tbody>\n",
       "</table>\n",
       "<p>2 rows × 301 columns</p>\n",
       "</div>"
      ],
      "text/plain": [
       "                                            sentence     emb_0     emb_1  \\\n",
       "0  b\"<s> mentally ill inmates in miami are housed...  0.022908  0.071156   \n",
       "1                                              </s>\"  0.212150 -0.994560   \n",
       "\n",
       "      emb_2     emb_3     emb_4     emb_5     emb_6     emb_7     emb_8  \\\n",
       "0  0.020476  0.018421  0.054732 -0.046256  0.080958 -0.054592 -0.107311   \n",
       "1  1.178200  2.072100 -0.442710  0.587300  0.261280 -0.425540  0.030910   \n",
       "\n",
       "     ...      emb_290   emb_291  emb_292   emb_293   emb_294   emb_295  \\\n",
       "0    ...     0.061697 -0.080972 -0.07964 -0.023547  0.002054  0.045217   \n",
       "1    ...    -0.199460 -0.198480  1.09150 -0.351070 -1.047200 -0.413820   \n",
       "\n",
       "    emb_296   emb_297   emb_298   emb_299  \n",
       "0  0.091082  0.013634 -0.084233 -0.056688  \n",
       "1 -0.211390  0.934270 -0.932860 -0.514790  \n",
       "\n",
       "[2 rows x 301 columns]"
      ]
     },
     "execution_count": 50,
     "metadata": {},
     "output_type": "execute_result"
    }
   ],
   "source": [
    "adf.head()"
   ]
  },
  {
   "cell_type": "code",
   "execution_count": 51,
   "metadata": {
    "collapsed": true
   },
   "outputs": [
    {
     "data": {
      "text/html": [
       "<div>\n",
       "<table border=\"1\" class=\"dataframe\">\n",
       "  <thead>\n",
       "    <tr style=\"text-align: right;\">\n",
       "      <th></th>\n",
       "      <th>sentence</th>\n",
       "      <th>emb_0</th>\n",
       "      <th>emb_1</th>\n",
       "      <th>emb_2</th>\n",
       "      <th>emb_3</th>\n",
       "      <th>emb_4</th>\n",
       "      <th>emb_5</th>\n",
       "      <th>emb_6</th>\n",
       "      <th>emb_7</th>\n",
       "      <th>emb_8</th>\n",
       "      <th>...</th>\n",
       "      <th>emb_290</th>\n",
       "      <th>emb_291</th>\n",
       "      <th>emb_292</th>\n",
       "      <th>emb_293</th>\n",
       "      <th>emb_294</th>\n",
       "      <th>emb_295</th>\n",
       "      <th>emb_296</th>\n",
       "      <th>emb_297</th>\n",
       "      <th>emb_298</th>\n",
       "      <th>emb_299</th>\n",
       "    </tr>\n",
       "  </thead>\n",
       "  <tbody>\n",
       "    <tr>\n",
       "      <th>0</th>\n",
       "      <td>b\"editor 's note : in our behind the scenes se...</td>\n",
       "      <td>-0.032912</td>\n",
       "      <td>0.042397</td>\n",
       "      <td>0.031326</td>\n",
       "      <td>0.148815</td>\n",
       "      <td>-0.005044</td>\n",
       "      <td>0.061765</td>\n",
       "      <td>-0.042820</td>\n",
       "      <td>0.020897</td>\n",
       "      <td>-0.008707</td>\n",
       "      <td>...</td>\n",
       "      <td>-0.155933</td>\n",
       "      <td>0.062875</td>\n",
       "      <td>-0.047902</td>\n",
       "      <td>-0.027060</td>\n",
       "      <td>-0.075693</td>\n",
       "      <td>-0.161862</td>\n",
       "      <td>-0.013952</td>\n",
       "      <td>-0.057433</td>\n",
       "      <td>-0.006306</td>\n",
       "      <td>-0.022029</td>\n",
       "    </tr>\n",
       "    <tr>\n",
       "      <th>1</th>\n",
       "      <td>here , soledad o'brien takes users inside a ja...</td>\n",
       "      <td>0.019653</td>\n",
       "      <td>0.105582</td>\n",
       "      <td>-0.032739</td>\n",
       "      <td>-0.062289</td>\n",
       "      <td>-0.007770</td>\n",
       "      <td>-0.096966</td>\n",
       "      <td>-0.034363</td>\n",
       "      <td>-0.116381</td>\n",
       "      <td>0.015522</td>\n",
       "      <td>...</td>\n",
       "      <td>-0.045381</td>\n",
       "      <td>-0.101878</td>\n",
       "      <td>-0.103699</td>\n",
       "      <td>-0.002594</td>\n",
       "      <td>-0.056704</td>\n",
       "      <td>-0.028815</td>\n",
       "      <td>0.003903</td>\n",
       "      <td>-0.038061</td>\n",
       "      <td>-0.199252</td>\n",
       "      <td>0.018881</td>\n",
       "    </tr>\n",
       "    <tr>\n",
       "      <th>2</th>\n",
       "      <td>an inmate housed on the `` forgotten floor , '...</td>\n",
       "      <td>0.096693</td>\n",
       "      <td>0.013868</td>\n",
       "      <td>-0.015701</td>\n",
       "      <td>-0.101575</td>\n",
       "      <td>0.068017</td>\n",
       "      <td>-0.036213</td>\n",
       "      <td>-0.031631</td>\n",
       "      <td>-0.147130</td>\n",
       "      <td>-0.026003</td>\n",
       "      <td>...</td>\n",
       "      <td>-0.001189</td>\n",
       "      <td>-0.150899</td>\n",
       "      <td>-0.018053</td>\n",
       "      <td>0.050539</td>\n",
       "      <td>-0.083624</td>\n",
       "      <td>0.007458</td>\n",
       "      <td>0.082060</td>\n",
       "      <td>0.014343</td>\n",
       "      <td>-0.087338</td>\n",
       "      <td>-0.000591</td>\n",
       "    </tr>\n",
       "    <tr>\n",
       "      <th>3</th>\n",
       "      <td>miami , florida -lrb- cnn -rrb- -- the ninth f...</td>\n",
       "      <td>0.027993</td>\n",
       "      <td>0.086192</td>\n",
       "      <td>0.170021</td>\n",
       "      <td>0.144501</td>\n",
       "      <td>0.157027</td>\n",
       "      <td>0.029404</td>\n",
       "      <td>0.058522</td>\n",
       "      <td>-0.075552</td>\n",
       "      <td>-0.037065</td>\n",
       "      <td>...</td>\n",
       "      <td>0.101818</td>\n",
       "      <td>-0.118518</td>\n",
       "      <td>0.059976</td>\n",
       "      <td>0.031895</td>\n",
       "      <td>-0.104899</td>\n",
       "      <td>-0.052007</td>\n",
       "      <td>0.025132</td>\n",
       "      <td>0.088880</td>\n",
       "      <td>-0.156214</td>\n",
       "      <td>-0.061895</td>\n",
       "    </tr>\n",
       "    <tr>\n",
       "      <th>4</th>\n",
       "      <td>here , inmates with the most severe mental ill...</td>\n",
       "      <td>-0.007857</td>\n",
       "      <td>0.107740</td>\n",
       "      <td>-0.081650</td>\n",
       "      <td>-0.081380</td>\n",
       "      <td>0.005123</td>\n",
       "      <td>-0.116588</td>\n",
       "      <td>0.007774</td>\n",
       "      <td>-0.009557</td>\n",
       "      <td>0.075650</td>\n",
       "      <td>...</td>\n",
       "      <td>-0.089699</td>\n",
       "      <td>-0.036341</td>\n",
       "      <td>-0.126280</td>\n",
       "      <td>-0.045463</td>\n",
       "      <td>-0.129258</td>\n",
       "      <td>0.005660</td>\n",
       "      <td>0.032350</td>\n",
       "      <td>-0.075145</td>\n",
       "      <td>-0.063582</td>\n",
       "      <td>-0.024497</td>\n",
       "    </tr>\n",
       "  </tbody>\n",
       "</table>\n",
       "<p>5 rows × 301 columns</p>\n",
       "</div>"
      ],
      "text/plain": [
       "                                            sentence     emb_0     emb_1  \\\n",
       "0  b\"editor 's note : in our behind the scenes se... -0.032912  0.042397   \n",
       "1  here , soledad o'brien takes users inside a ja...  0.019653  0.105582   \n",
       "2  an inmate housed on the `` forgotten floor , '...  0.096693  0.013868   \n",
       "3  miami , florida -lrb- cnn -rrb- -- the ninth f...  0.027993  0.086192   \n",
       "4  here , inmates with the most severe mental ill... -0.007857  0.107740   \n",
       "\n",
       "      emb_2     emb_3     emb_4     emb_5     emb_6     emb_7     emb_8  \\\n",
       "0  0.031326  0.148815 -0.005044  0.061765 -0.042820  0.020897 -0.008707   \n",
       "1 -0.032739 -0.062289 -0.007770 -0.096966 -0.034363 -0.116381  0.015522   \n",
       "2 -0.015701 -0.101575  0.068017 -0.036213 -0.031631 -0.147130 -0.026003   \n",
       "3  0.170021  0.144501  0.157027  0.029404  0.058522 -0.075552 -0.037065   \n",
       "4 -0.081650 -0.081380  0.005123 -0.116588  0.007774 -0.009557  0.075650   \n",
       "\n",
       "     ...      emb_290   emb_291   emb_292   emb_293   emb_294   emb_295  \\\n",
       "0    ...    -0.155933  0.062875 -0.047902 -0.027060 -0.075693 -0.161862   \n",
       "1    ...    -0.045381 -0.101878 -0.103699 -0.002594 -0.056704 -0.028815   \n",
       "2    ...    -0.001189 -0.150899 -0.018053  0.050539 -0.083624  0.007458   \n",
       "3    ...     0.101818 -0.118518  0.059976  0.031895 -0.104899 -0.052007   \n",
       "4    ...    -0.089699 -0.036341 -0.126280 -0.045463 -0.129258  0.005660   \n",
       "\n",
       "    emb_296   emb_297   emb_298   emb_299  \n",
       "0 -0.013952 -0.057433 -0.006306 -0.022029  \n",
       "1  0.003903 -0.038061 -0.199252  0.018881  \n",
       "2  0.082060  0.014343 -0.087338 -0.000591  \n",
       "3  0.025132  0.088880 -0.156214 -0.061895  \n",
       "4  0.032350 -0.075145 -0.063582 -0.024497  \n",
       "\n",
       "[5 rows x 301 columns]"
      ]
     },
     "execution_count": 51,
     "metadata": {},
     "output_type": "execute_result"
    }
   ],
   "source": [
    "sdf.head()"
   ]
  },
  {
   "cell_type": "code",
   "execution_count": 52,
   "metadata": {
    "collapsed": true
   },
   "outputs": [],
   "source": [
    "import torch\n",
    "import torch.autograd as autograd\n",
    "import torch.nn as nn\n",
    "import torch.nn.functional as F\n",
    "import torch.optim as optim\n",
    "\n",
    "import torch\n",
    "import torch.autograd as autograd\n",
    "import torch.nn as nn\n",
    "import torch.nn.functional as F\n",
    "import torch.optim as optim"
   ]
  },
  {
   "cell_type": "code",
   "execution_count": 53,
   "metadata": {
    "collapsed": true
   },
   "outputs": [],
   "source": [
    "import pickle\n",
    "import numpy as np\n",
    "from collections import Counter"
   ]
  },
  {
   "cell_type": "code",
   "execution_count": 54,
   "metadata": {
    "collapsed": true
   },
   "outputs": [],
   "source": [
    "from matplotlib import pyplot as plt\n",
    "%matplotlib inline"
   ]
  },
  {
   "cell_type": "code",
   "execution_count": 56,
   "metadata": {},
   "outputs": [
    {
     "data": {
      "text/html": [
       "<div>\n",
       "<table border=\"1\" class=\"dataframe\">\n",
       "  <thead>\n",
       "    <tr style=\"text-align: right;\">\n",
       "      <th></th>\n",
       "      <th>sentence</th>\n",
       "      <th>emb_0</th>\n",
       "      <th>emb_1</th>\n",
       "      <th>emb_2</th>\n",
       "      <th>emb_3</th>\n",
       "      <th>emb_4</th>\n",
       "      <th>emb_5</th>\n",
       "      <th>emb_6</th>\n",
       "      <th>emb_7</th>\n",
       "      <th>emb_8</th>\n",
       "      <th>...</th>\n",
       "      <th>emb_290</th>\n",
       "      <th>emb_291</th>\n",
       "      <th>emb_292</th>\n",
       "      <th>emb_293</th>\n",
       "      <th>emb_294</th>\n",
       "      <th>emb_295</th>\n",
       "      <th>emb_296</th>\n",
       "      <th>emb_297</th>\n",
       "      <th>emb_298</th>\n",
       "      <th>emb_299</th>\n",
       "    </tr>\n",
       "  </thead>\n",
       "  <tbody>\n",
       "    <tr>\n",
       "      <th>0</th>\n",
       "      <td>b\"editor 's note : in our behind the scenes se...</td>\n",
       "      <td>-0.032912</td>\n",
       "      <td>0.042397</td>\n",
       "      <td>0.031326</td>\n",
       "      <td>0.148815</td>\n",
       "      <td>-0.005044</td>\n",
       "      <td>0.061765</td>\n",
       "      <td>-0.042820</td>\n",
       "      <td>0.020897</td>\n",
       "      <td>-0.008707</td>\n",
       "      <td>...</td>\n",
       "      <td>-0.155933</td>\n",
       "      <td>0.062875</td>\n",
       "      <td>-0.047902</td>\n",
       "      <td>-0.027060</td>\n",
       "      <td>-0.075693</td>\n",
       "      <td>-0.161862</td>\n",
       "      <td>-0.013952</td>\n",
       "      <td>-0.057433</td>\n",
       "      <td>-0.006306</td>\n",
       "      <td>-0.022029</td>\n",
       "    </tr>\n",
       "    <tr>\n",
       "      <th>1</th>\n",
       "      <td>here , soledad o'brien takes users inside a ja...</td>\n",
       "      <td>0.019653</td>\n",
       "      <td>0.105582</td>\n",
       "      <td>-0.032739</td>\n",
       "      <td>-0.062289</td>\n",
       "      <td>-0.007770</td>\n",
       "      <td>-0.096966</td>\n",
       "      <td>-0.034363</td>\n",
       "      <td>-0.116381</td>\n",
       "      <td>0.015522</td>\n",
       "      <td>...</td>\n",
       "      <td>-0.045381</td>\n",
       "      <td>-0.101878</td>\n",
       "      <td>-0.103699</td>\n",
       "      <td>-0.002594</td>\n",
       "      <td>-0.056704</td>\n",
       "      <td>-0.028815</td>\n",
       "      <td>0.003903</td>\n",
       "      <td>-0.038061</td>\n",
       "      <td>-0.199252</td>\n",
       "      <td>0.018881</td>\n",
       "    </tr>\n",
       "    <tr>\n",
       "      <th>2</th>\n",
       "      <td>an inmate housed on the `` forgotten floor , '...</td>\n",
       "      <td>0.096693</td>\n",
       "      <td>0.013868</td>\n",
       "      <td>-0.015701</td>\n",
       "      <td>-0.101575</td>\n",
       "      <td>0.068017</td>\n",
       "      <td>-0.036213</td>\n",
       "      <td>-0.031631</td>\n",
       "      <td>-0.147130</td>\n",
       "      <td>-0.026003</td>\n",
       "      <td>...</td>\n",
       "      <td>-0.001189</td>\n",
       "      <td>-0.150899</td>\n",
       "      <td>-0.018053</td>\n",
       "      <td>0.050539</td>\n",
       "      <td>-0.083624</td>\n",
       "      <td>0.007458</td>\n",
       "      <td>0.082060</td>\n",
       "      <td>0.014343</td>\n",
       "      <td>-0.087338</td>\n",
       "      <td>-0.000591</td>\n",
       "    </tr>\n",
       "    <tr>\n",
       "      <th>3</th>\n",
       "      <td>miami , florida -lrb- cnn -rrb- -- the ninth f...</td>\n",
       "      <td>0.027993</td>\n",
       "      <td>0.086192</td>\n",
       "      <td>0.170021</td>\n",
       "      <td>0.144501</td>\n",
       "      <td>0.157027</td>\n",
       "      <td>0.029404</td>\n",
       "      <td>0.058522</td>\n",
       "      <td>-0.075552</td>\n",
       "      <td>-0.037065</td>\n",
       "      <td>...</td>\n",
       "      <td>0.101818</td>\n",
       "      <td>-0.118518</td>\n",
       "      <td>0.059976</td>\n",
       "      <td>0.031895</td>\n",
       "      <td>-0.104899</td>\n",
       "      <td>-0.052007</td>\n",
       "      <td>0.025132</td>\n",
       "      <td>0.088880</td>\n",
       "      <td>-0.156214</td>\n",
       "      <td>-0.061895</td>\n",
       "    </tr>\n",
       "    <tr>\n",
       "      <th>4</th>\n",
       "      <td>here , inmates with the most severe mental ill...</td>\n",
       "      <td>-0.007857</td>\n",
       "      <td>0.107740</td>\n",
       "      <td>-0.081650</td>\n",
       "      <td>-0.081380</td>\n",
       "      <td>0.005123</td>\n",
       "      <td>-0.116588</td>\n",
       "      <td>0.007774</td>\n",
       "      <td>-0.009557</td>\n",
       "      <td>0.075650</td>\n",
       "      <td>...</td>\n",
       "      <td>-0.089699</td>\n",
       "      <td>-0.036341</td>\n",
       "      <td>-0.126280</td>\n",
       "      <td>-0.045463</td>\n",
       "      <td>-0.129258</td>\n",
       "      <td>0.005660</td>\n",
       "      <td>0.032350</td>\n",
       "      <td>-0.075145</td>\n",
       "      <td>-0.063582</td>\n",
       "      <td>-0.024497</td>\n",
       "    </tr>\n",
       "  </tbody>\n",
       "</table>\n",
       "<p>5 rows × 301 columns</p>\n",
       "</div>"
      ],
      "text/plain": [
       "                                            sentence     emb_0     emb_1  \\\n",
       "0  b\"editor 's note : in our behind the scenes se... -0.032912  0.042397   \n",
       "1  here , soledad o'brien takes users inside a ja...  0.019653  0.105582   \n",
       "2  an inmate housed on the `` forgotten floor , '...  0.096693  0.013868   \n",
       "3  miami , florida -lrb- cnn -rrb- -- the ninth f...  0.027993  0.086192   \n",
       "4  here , inmates with the most severe mental ill... -0.007857  0.107740   \n",
       "\n",
       "      emb_2     emb_3     emb_4     emb_5     emb_6     emb_7     emb_8  \\\n",
       "0  0.031326  0.148815 -0.005044  0.061765 -0.042820  0.020897 -0.008707   \n",
       "1 -0.032739 -0.062289 -0.007770 -0.096966 -0.034363 -0.116381  0.015522   \n",
       "2 -0.015701 -0.101575  0.068017 -0.036213 -0.031631 -0.147130 -0.026003   \n",
       "3  0.170021  0.144501  0.157027  0.029404  0.058522 -0.075552 -0.037065   \n",
       "4 -0.081650 -0.081380  0.005123 -0.116588  0.007774 -0.009557  0.075650   \n",
       "\n",
       "     ...      emb_290   emb_291   emb_292   emb_293   emb_294   emb_295  \\\n",
       "0    ...    -0.155933  0.062875 -0.047902 -0.027060 -0.075693 -0.161862   \n",
       "1    ...    -0.045381 -0.101878 -0.103699 -0.002594 -0.056704 -0.028815   \n",
       "2    ...    -0.001189 -0.150899 -0.018053  0.050539 -0.083624  0.007458   \n",
       "3    ...     0.101818 -0.118518  0.059976  0.031895 -0.104899 -0.052007   \n",
       "4    ...    -0.089699 -0.036341 -0.126280 -0.045463 -0.129258  0.005660   \n",
       "\n",
       "    emb_296   emb_297   emb_298   emb_299  \n",
       "0 -0.013952 -0.057433 -0.006306 -0.022029  \n",
       "1  0.003903 -0.038061 -0.199252  0.018881  \n",
       "2  0.082060  0.014343 -0.087338 -0.000591  \n",
       "3  0.025132  0.088880 -0.156214 -0.061895  \n",
       "4  0.032350 -0.075145 -0.063582 -0.024497  \n",
       "\n",
       "[5 rows x 301 columns]"
      ]
     },
     "execution_count": 56,
     "metadata": {},
     "output_type": "execute_result"
    }
   ],
   "source": [
    "sdf.head()"
   ]
  },
  {
   "cell_type": "code",
   "execution_count": 67,
   "metadata": {
    "scrolled": true
   },
   "outputs": [
    {
     "data": {
      "text/plain": [
       "'b\"editor \\'s note : in our behind the scenes series , cnn correspondents share their experiences in covering news and analyze the stories behind the events .'"
      ]
     },
     "execution_count": 67,
     "metadata": {},
     "output_type": "execute_result"
    }
   ],
   "source": [
    "sdf['sentence'][0]"
   ]
  },
  {
   "cell_type": "code",
   "execution_count": 77,
   "metadata": {
    "collapsed": true
   },
   "outputs": [],
   "source": [
    "ax = adf.loc[0, adf.columns[1:]].values\n",
    "sx = sdf.loc[0, sdf.columns[1:]].values"
   ]
  },
  {
   "cell_type": "code",
   "execution_count": 78,
   "metadata": {
    "scrolled": true
   },
   "outputs": [
    {
     "data": {
      "text/plain": [
       "1.8175117780347609"
      ]
     },
     "execution_count": 78,
     "metadata": {},
     "output_type": "execute_result"
    }
   ],
   "source": [
    "ax.dot(sx)"
   ]
  },
  {
   "cell_type": "code",
   "execution_count": null,
   "metadata": {
    "collapsed": true
   },
   "outputs": [],
   "source": []
  }
 ],
 "metadata": {
  "kernelspec": {
   "display_name": "Python 3",
   "language": "python",
   "name": "python3"
  },
  "language_info": {
   "codemirror_mode": {
    "name": "ipython",
    "version": 3
   },
   "file_extension": ".py",
   "mimetype": "text/x-python",
   "name": "python",
   "nbconvert_exporter": "python",
   "pygments_lexer": "ipython3",
   "version": "3.6.3"
  }
 },
 "nbformat": 4,
 "nbformat_minor": 2
}
