{
 "cells": [
  {
   "cell_type": "code",
   "execution_count": 1,
   "metadata": {
    "collapsed": true
   },
   "outputs": [],
   "source": [
    "import glob\n",
    "import os\n",
    "import struct\n",
    "from nltk.tokenize import sent_tokenize\n",
    "\n",
    "from tensorflow.core.example import example_pb2"
   ]
  },
  {
   "cell_type": "code",
   "execution_count": 2,
   "metadata": {
    "collapsed": true
   },
   "outputs": [],
   "source": [
    "file0 = '/home/francisco/GitHub/cnn-dailymail/finished_files/chunked/train_000.bin'"
   ]
  },
  {
   "cell_type": "code",
   "execution_count": 18,
   "metadata": {
    "collapsed": true
   },
   "outputs": [],
   "source": [
    "files = sorted(os.listdir('/home/francisco/GitHub/cnn-dailymail/finished_files/chunked/'))"
   ]
  },
  {
   "cell_type": "code",
   "execution_count": 19,
   "metadata": {},
   "outputs": [
    {
     "data": {
      "text/plain": [
       "['test_000.bin',\n",
       " 'test_001.bin',\n",
       " 'test_002.bin',\n",
       " 'test_003.bin',\n",
       " 'test_004.bin',\n",
       " 'test_005.bin',\n",
       " 'test_006.bin',\n",
       " 'test_007.bin',\n",
       " 'test_008.bin',\n",
       " 'test_009.bin',\n",
       " 'test_010.bin',\n",
       " 'test_011.bin',\n",
       " 'train_000.bin',\n",
       " 'train_001.bin',\n",
       " 'train_002.bin',\n",
       " 'train_003.bin',\n",
       " 'train_004.bin',\n",
       " 'train_005.bin',\n",
       " 'train_006.bin',\n",
       " 'train_007.bin',\n",
       " 'train_008.bin',\n",
       " 'train_009.bin',\n",
       " 'train_010.bin',\n",
       " 'train_011.bin',\n",
       " 'train_012.bin',\n",
       " 'train_013.bin',\n",
       " 'train_014.bin',\n",
       " 'train_015.bin',\n",
       " 'train_016.bin',\n",
       " 'train_017.bin',\n",
       " 'train_018.bin',\n",
       " 'train_019.bin',\n",
       " 'train_020.bin',\n",
       " 'train_021.bin',\n",
       " 'train_022.bin',\n",
       " 'train_023.bin',\n",
       " 'train_024.bin',\n",
       " 'train_025.bin',\n",
       " 'train_026.bin',\n",
       " 'train_027.bin',\n",
       " 'train_028.bin',\n",
       " 'train_029.bin',\n",
       " 'train_030.bin',\n",
       " 'train_031.bin',\n",
       " 'train_032.bin',\n",
       " 'train_033.bin',\n",
       " 'train_034.bin',\n",
       " 'train_035.bin',\n",
       " 'train_036.bin',\n",
       " 'train_037.bin',\n",
       " 'train_038.bin',\n",
       " 'train_039.bin',\n",
       " 'train_040.bin',\n",
       " 'train_041.bin',\n",
       " 'train_042.bin',\n",
       " 'train_043.bin',\n",
       " 'train_044.bin',\n",
       " 'train_045.bin',\n",
       " 'train_046.bin',\n",
       " 'train_047.bin',\n",
       " 'train_048.bin',\n",
       " 'train_049.bin',\n",
       " 'train_050.bin',\n",
       " 'train_051.bin',\n",
       " 'train_052.bin',\n",
       " 'train_053.bin',\n",
       " 'train_054.bin',\n",
       " 'train_055.bin',\n",
       " 'train_056.bin',\n",
       " 'train_057.bin',\n",
       " 'train_058.bin',\n",
       " 'train_059.bin',\n",
       " 'train_060.bin',\n",
       " 'train_061.bin',\n",
       " 'train_062.bin',\n",
       " 'train_063.bin',\n",
       " 'train_064.bin',\n",
       " 'train_065.bin',\n",
       " 'train_066.bin',\n",
       " 'train_067.bin',\n",
       " 'train_068.bin',\n",
       " 'train_069.bin',\n",
       " 'train_070.bin',\n",
       " 'train_071.bin',\n",
       " 'train_072.bin',\n",
       " 'train_073.bin',\n",
       " 'train_074.bin',\n",
       " 'train_075.bin',\n",
       " 'train_076.bin',\n",
       " 'train_077.bin',\n",
       " 'train_078.bin',\n",
       " 'train_079.bin',\n",
       " 'train_080.bin',\n",
       " 'train_081.bin',\n",
       " 'train_082.bin',\n",
       " 'train_083.bin',\n",
       " 'train_084.bin',\n",
       " 'train_085.bin',\n",
       " 'train_086.bin',\n",
       " 'train_087.bin',\n",
       " 'train_088.bin',\n",
       " 'train_089.bin',\n",
       " 'train_090.bin',\n",
       " 'train_091.bin',\n",
       " 'train_092.bin',\n",
       " 'train_093.bin',\n",
       " 'train_094.bin',\n",
       " 'train_095.bin',\n",
       " 'train_096.bin',\n",
       " 'train_097.bin',\n",
       " 'train_098.bin',\n",
       " 'train_099.bin',\n",
       " 'train_100.bin',\n",
       " 'train_101.bin',\n",
       " 'train_102.bin',\n",
       " 'train_103.bin',\n",
       " 'train_104.bin',\n",
       " 'train_105.bin',\n",
       " 'train_106.bin',\n",
       " 'train_107.bin',\n",
       " 'train_108.bin',\n",
       " 'train_109.bin',\n",
       " 'train_110.bin',\n",
       " 'train_111.bin',\n",
       " 'train_112.bin',\n",
       " 'train_113.bin',\n",
       " 'train_114.bin',\n",
       " 'train_115.bin',\n",
       " 'train_116.bin',\n",
       " 'train_117.bin',\n",
       " 'train_118.bin',\n",
       " 'train_119.bin',\n",
       " 'train_120.bin',\n",
       " 'train_121.bin',\n",
       " 'train_122.bin',\n",
       " 'train_123.bin',\n",
       " 'train_124.bin',\n",
       " 'train_125.bin',\n",
       " 'train_126.bin',\n",
       " 'train_127.bin',\n",
       " 'train_128.bin',\n",
       " 'train_129.bin',\n",
       " 'train_130.bin',\n",
       " 'train_131.bin',\n",
       " 'train_132.bin',\n",
       " 'train_133.bin',\n",
       " 'train_134.bin',\n",
       " 'train_135.bin',\n",
       " 'train_136.bin',\n",
       " 'train_137.bin',\n",
       " 'train_138.bin',\n",
       " 'train_139.bin',\n",
       " 'train_140.bin',\n",
       " 'train_141.bin',\n",
       " 'train_142.bin',\n",
       " 'train_143.bin',\n",
       " 'train_144.bin',\n",
       " 'train_145.bin',\n",
       " 'train_146.bin',\n",
       " 'train_147.bin',\n",
       " 'train_148.bin',\n",
       " 'train_149.bin',\n",
       " 'train_150.bin',\n",
       " 'train_151.bin',\n",
       " 'train_152.bin',\n",
       " 'train_153.bin',\n",
       " 'train_154.bin',\n",
       " 'train_155.bin',\n",
       " 'train_156.bin',\n",
       " 'train_157.bin',\n",
       " 'train_158.bin',\n",
       " 'train_159.bin',\n",
       " 'train_160.bin',\n",
       " 'train_161.bin',\n",
       " 'train_162.bin',\n",
       " 'train_163.bin',\n",
       " 'train_164.bin',\n",
       " 'train_165.bin',\n",
       " 'train_166.bin',\n",
       " 'train_167.bin',\n",
       " 'train_168.bin',\n",
       " 'train_169.bin',\n",
       " 'train_170.bin',\n",
       " 'train_171.bin',\n",
       " 'train_172.bin',\n",
       " 'train_173.bin',\n",
       " 'train_174.bin',\n",
       " 'train_175.bin',\n",
       " 'train_176.bin',\n",
       " 'train_177.bin',\n",
       " 'train_178.bin',\n",
       " 'train_179.bin',\n",
       " 'train_180.bin',\n",
       " 'train_181.bin',\n",
       " 'train_182.bin',\n",
       " 'train_183.bin',\n",
       " 'train_184.bin',\n",
       " 'train_185.bin',\n",
       " 'train_186.bin',\n",
       " 'train_187.bin',\n",
       " 'train_188.bin',\n",
       " 'train_189.bin',\n",
       " 'train_190.bin',\n",
       " 'train_191.bin',\n",
       " 'train_192.bin',\n",
       " 'train_193.bin',\n",
       " 'train_194.bin',\n",
       " 'train_195.bin',\n",
       " 'train_196.bin',\n",
       " 'train_197.bin',\n",
       " 'train_198.bin',\n",
       " 'train_199.bin',\n",
       " 'train_200.bin',\n",
       " 'train_201.bin',\n",
       " 'train_202.bin',\n",
       " 'train_203.bin',\n",
       " 'train_204.bin',\n",
       " 'train_205.bin',\n",
       " 'train_206.bin',\n",
       " 'train_207.bin',\n",
       " 'train_208.bin',\n",
       " 'train_209.bin',\n",
       " 'train_210.bin',\n",
       " 'train_211.bin',\n",
       " 'train_212.bin',\n",
       " 'train_213.bin',\n",
       " 'train_214.bin',\n",
       " 'train_215.bin',\n",
       " 'train_216.bin',\n",
       " 'train_217.bin',\n",
       " 'train_218.bin',\n",
       " 'train_219.bin',\n",
       " 'train_220.bin',\n",
       " 'train_221.bin',\n",
       " 'train_222.bin',\n",
       " 'train_223.bin',\n",
       " 'train_224.bin',\n",
       " 'train_225.bin',\n",
       " 'train_226.bin',\n",
       " 'train_227.bin',\n",
       " 'train_228.bin',\n",
       " 'train_229.bin',\n",
       " 'train_230.bin',\n",
       " 'train_231.bin',\n",
       " 'train_232.bin',\n",
       " 'train_233.bin',\n",
       " 'train_234.bin',\n",
       " 'train_235.bin',\n",
       " 'train_236.bin',\n",
       " 'train_237.bin',\n",
       " 'train_238.bin',\n",
       " 'train_239.bin',\n",
       " 'train_240.bin',\n",
       " 'train_241.bin',\n",
       " 'train_242.bin',\n",
       " 'train_243.bin',\n",
       " 'train_244.bin',\n",
       " 'train_245.bin',\n",
       " 'train_246.bin',\n",
       " 'train_247.bin',\n",
       " 'train_248.bin',\n",
       " 'train_249.bin',\n",
       " 'train_250.bin',\n",
       " 'train_251.bin',\n",
       " 'train_252.bin',\n",
       " 'train_253.bin',\n",
       " 'train_254.bin',\n",
       " 'train_255.bin',\n",
       " 'train_256.bin',\n",
       " 'train_257.bin',\n",
       " 'train_258.bin',\n",
       " 'train_259.bin',\n",
       " 'train_260.bin',\n",
       " 'train_261.bin',\n",
       " 'train_262.bin',\n",
       " 'train_263.bin',\n",
       " 'train_264.bin',\n",
       " 'train_265.bin',\n",
       " 'train_266.bin',\n",
       " 'train_267.bin',\n",
       " 'train_268.bin',\n",
       " 'train_269.bin',\n",
       " 'train_270.bin',\n",
       " 'train_271.bin',\n",
       " 'train_272.bin',\n",
       " 'train_273.bin',\n",
       " 'train_274.bin',\n",
       " 'train_275.bin',\n",
       " 'train_276.bin',\n",
       " 'train_277.bin',\n",
       " 'train_278.bin',\n",
       " 'train_279.bin',\n",
       " 'train_280.bin',\n",
       " 'train_281.bin',\n",
       " 'train_282.bin',\n",
       " 'train_283.bin',\n",
       " 'train_284.bin',\n",
       " 'train_285.bin',\n",
       " 'train_286.bin',\n",
       " 'train_287.bin',\n",
       " 'val_000.bin',\n",
       " 'val_001.bin',\n",
       " 'val_002.bin',\n",
       " 'val_003.bin',\n",
       " 'val_004.bin',\n",
       " 'val_005.bin',\n",
       " 'val_006.bin',\n",
       " 'val_007.bin',\n",
       " 'val_008.bin',\n",
       " 'val_009.bin',\n",
       " 'val_010.bin',\n",
       " 'val_011.bin',\n",
       " 'val_012.bin',\n",
       " 'val_013.bin']"
      ]
     },
     "execution_count": 19,
     "metadata": {},
     "output_type": "execute_result"
    }
   ],
   "source": [
    "files"
   ]
  },
  {
   "cell_type": "code",
   "execution_count": 72,
   "metadata": {
    "collapsed": true
   },
   "outputs": [],
   "source": [
    "reader = open(file0, 'rb')\n",
    "len_bytes = reader.read(8)\n",
    "str_len = struct.unpack('q', len_bytes)[0]"
   ]
  },
  {
   "cell_type": "code",
   "execution_count": 73,
   "metadata": {},
   "outputs": [],
   "source": [
    "example_string = struct.unpack(\"%ds\" % str_len, reader.read(str_len))\n",
    "\n",
    "example_str = example_string[0]\n",
    "content = example_pb2.Example.FromString(example_str)"
   ]
  },
  {
   "cell_type": "code",
   "execution_count": 74,
   "metadata": {
    "scrolled": true
   },
   "outputs": [
    {
     "data": {
      "text/plain": [
       "features {\n",
       "  feature {\n",
       "    key: \"abstract\"\n",
       "    value {\n",
       "      bytes_list {\n",
       "        value: \"<s> mentally ill inmates in miami are housed on the `` forgotten floor \\'\\' </s> <s> judge steven leifman says most are there as a result of `` avoidable felonies \\'\\' </s> <s> while cnn tours facility , patient shouts : `` i am the son of the president \\'\\' </s> <s> leifman says the system is unjust and he \\'s fighting for change . </s>\"\n",
       "      }\n",
       "    }\n",
       "  }\n",
       "  feature {\n",
       "    key: \"article\"\n",
       "    value {\n",
       "      bytes_list {\n",
       "        value: \"editor \\'s note : in our behind the scenes series , cnn correspondents share their experiences in covering news and analyze the stories behind the events . here , soledad o\\'brien takes users inside a jail where many of the inmates are mentally ill . an inmate housed on the `` forgotten floor , \\'\\' where many mentally ill inmates are housed in miami before trial . miami , florida -lrb- cnn -rrb- -- the ninth floor of the miami-dade pretrial detention facility is dubbed the `` forgotten floor . \\'\\' here , inmates with the most severe mental illnesses are incarcerated until they \\'re ready to appear in court . most often , they face drug charges or charges of assaulting an officer -- charges that judge steven leifman says are usually `` avoidable felonies . \\'\\' he says the arrests often result from confrontations with police . mentally ill people often wo n\\'t do what they \\'re told when police arrive on the scene -- confrontation seems to exacerbate their illness and they become more paranoid , delusional , and less likely to follow directions , according to leifman . so , they end up on the ninth floor severely mentally disturbed , but not getting any real help because they \\'re in jail . we toured the jail with leifman . he is well known in miami as an advocate for justice and the mentally ill . even though we were not exactly welcomed with open arms by the guards , we were given permission to shoot videotape and tour the floor . go inside the ` forgotten floor \\' \\'\\' at first , it \\'s hard to determine where the people are . the prisoners are wearing sleeveless robes . imagine cutting holes for arms and feet in a heavy wool sleeping bag -- that \\'s kind of what they look like . they \\'re designed to keep the mentally ill patients from injuring themselves . that \\'s also why they have no shoes , laces or mattresses . leifman says about one-third of all people in miami-dade county jails are mentally ill . so , he says , the sheer volume is overwhelming the system , and the result is what we see on the ninth floor . of course , it is a jail , so it \\'s not supposed to be warm and comforting , but the lights glare , the cells are tiny and it \\'s loud . we see two , sometimes three men -- sometimes in the robes , sometimes naked , lying or sitting in their cells . `` i am the son of the president . you need to get me out of here ! \\'\\' one man shouts at me . he is absolutely serious , convinced that help is on the way -- if only he could reach the white house . leifman tells me that these prisoner-patients will often circulate through the system , occasionally stabilizing in a mental hospital , only to return to jail to face their charges . it \\'s brutally unjust , in his mind , and he has become a strong advocate for changing things in miami . over a meal later , we talk about how things got this way for mental patients . leifman says 200 years ago people were considered `` lunatics \\'\\' and they were locked up in jails even if they had no charges against them . they were just considered unfit to be in society . over the years , he says , there was some public outcry , and the mentally ill were moved out of jails and into hospitals . but leifman says many of these mental hospitals were so horrible they were shut down . where did the patients go ? nowhere . the streets . they became , in many cases , the homeless , he says . they never got treatment . leifman says in 1955 there were more than half a million people in state mental hospitals , and today that number has been reduced 90 percent , and 40,000 to 50,000 people are in mental hospitals . the judge says he \\'s working to change this . starting in 2008 , many inmates who would otherwise have been brought to the `` forgotten floor \\'\\' will instead be sent to a new mental health facility -- the first step on a journey toward long-term treatment , not just punishment . leifman says it \\'s not the complete answer , but it \\'s a start . leifman says the best part is that it \\'s a win-win solution . the patients win , the families are relieved , and the state saves money by simply not cycling these prisoners through again and again . and , for leifman , justice is served . e-mail to a friend .\"\n",
       "      }\n",
       "    }\n",
       "  }\n",
       "}"
      ]
     },
     "execution_count": 74,
     "metadata": {},
     "output_type": "execute_result"
    }
   ],
   "source": [
    "content"
   ]
  },
  {
   "cell_type": "code",
   "execution_count": 13,
   "metadata": {
    "scrolled": true
   },
   "outputs": [
    {
     "data": {
      "text/plain": [
       "b\"\\n\\xd6#\\n\\xdf\\x02\\n\\x08abstract\\x12\\xd2\\x02\\n\\xcf\\x02\\n\\xcc\\x02<s> mentally ill inmates in miami are housed on the `` forgotten floor '' </s> <s> judge steven leifman says most are there as a result of `` avoidable felonies '' </s> <s> while cnn tours facility , patient shouts : `` i am the son of the president '' </s> <s> leifman says the system is unjust and he 's fighting for change . </s>\\n\\xf1 \\n\\x07article\\x12\\xe5 \\n\\xe2 \\n\\xdf editor 's note : in our behind the scenes series , cnn correspondents share their experiences in covering news and analyze the stories behind the events . here , soledad o'brien takes users inside a jail where many of the inmates are mentally ill . an inmate housed on the `` forgotten floor , '' where many mentally ill inmates are housed in miami before trial . miami , florida -lrb- cnn -rrb- -- the ninth floor of the miami-dade pretrial detention facility is dubbed the `` forgotten floor . '' here , inmates with the most severe mental illnesses are incarcerated until they 're ready to appear in court . most often , they face drug charges or charges of assaulting an officer -- charges that judge steven leifman says are usually `` avoidable felonies . '' he says the arrests often result from confrontations with police . mentally ill people often wo n't do what they 're told when police arrive on the scene -- confrontation seems to exacerbate their illness and they become more paranoid , delusional , and less likely to follow directions , according to leifman . so , they end up on the ninth floor severely mentally disturbed , but not getting any real help because they 're in jail . we toured the jail with leifman . he is well known in miami as an advocate for justice and the mentally ill . even though we were not exactly welcomed with open arms by the guards , we were given permission to shoot videotape and tour the floor . go inside the ` forgotten floor ' '' at first , it 's hard to determine where the people are . the prisoners are wearing sleeveless robes . imagine cutting holes for arms and feet in a heavy wool sleeping bag -- that 's kind of what they look like . they 're designed to keep the mentally ill patients from injuring themselves . that 's also why they have no shoes , laces or mattresses . leifman says about one-third of all people in miami-dade county jails are mentally ill . so , he says , the sheer volume is overwhelming the system , and the result is what we see on the ninth floor . of course , it is a jail , so it 's not supposed to be warm and comforting , but the lights glare , the cells are tiny and it 's loud . we see two , sometimes three men -- sometimes in the robes , sometimes naked , lying or sitting in their cells . `` i am the son of the president . you need to get me out of here ! '' one man shouts at me . he is absolutely serious , convinced that help is on the way -- if only he could reach the white house . leifman tells me that these prisoner-patients will often circulate through the system , occasionally stabilizing in a mental hospital , only to return to jail to face their charges . it 's brutally unjust , in his mind , and he has become a strong advocate for changing things in miami . over a meal later , we talk about how things got this way for mental patients . leifman says 200 years ago people were considered `` lunatics '' and they were locked up in jails even if they had no charges against them . they were just considered unfit to be in society . over the years , he says , there was some public outcry , and the mentally ill were moved out of jails and into hospitals . but leifman says many of these mental hospitals were so horrible they were shut down . where did the patients go ? nowhere . the streets . they became , in many cases , the homeless , he says . they never got treatment . leifman says in 1955 there were more than half a million people in state mental hospitals , and today that number has been reduced 90 percent , and 40,000 to 50,000 people are in mental hospitals . the judge says he 's working to change this . starting in 2008 , many inmates who would otherwise have been brought to the `` forgotten floor '' will instead be sent to a new mental health facility -- the first step on a journey toward long-term treatment , not just punishment . leifman says it 's not the complete answer , but it 's a start . leifman says the best part is that it 's a win-win solution . the patients win , the families are relieved , and the state saves money by simply not cycling these prisoners through again and again . and , for leifman , justice is served . e-mail to a friend .\""
      ]
     },
     "execution_count": 13,
     "metadata": {},
     "output_type": "execute_result"
    }
   ],
   "source": [
    "example_str"
   ]
  },
  {
   "cell_type": "code",
   "execution_count": 12,
   "metadata": {
    "scrolled": true
   },
   "outputs": [
    {
     "data": {
      "text/plain": [
       "(b\"\\n\\xd6#\\n\\xdf\\x02\\n\\x08abstract\\x12\\xd2\\x02\\n\\xcf\\x02\\n\\xcc\\x02<s> mentally ill inmates in miami are housed on the `` forgotten floor '' </s> <s> judge steven leifman says most are there as a result of `` avoidable felonies '' </s> <s> while cnn tours facility , patient shouts : `` i am the son of the president '' </s> <s> leifman says the system is unjust and he 's fighting for change . </s>\\n\\xf1 \\n\\x07article\\x12\\xe5 \\n\\xe2 \\n\\xdf editor 's note : in our behind the scenes series , cnn correspondents share their experiences in covering news and analyze the stories behind the events . here , soledad o'brien takes users inside a jail where many of the inmates are mentally ill . an inmate housed on the `` forgotten floor , '' where many mentally ill inmates are housed in miami before trial . miami , florida -lrb- cnn -rrb- -- the ninth floor of the miami-dade pretrial detention facility is dubbed the `` forgotten floor . '' here , inmates with the most severe mental illnesses are incarcerated until they 're ready to appear in court . most often , they face drug charges or charges of assaulting an officer -- charges that judge steven leifman says are usually `` avoidable felonies . '' he says the arrests often result from confrontations with police . mentally ill people often wo n't do what they 're told when police arrive on the scene -- confrontation seems to exacerbate their illness and they become more paranoid , delusional , and less likely to follow directions , according to leifman . so , they end up on the ninth floor severely mentally disturbed , but not getting any real help because they 're in jail . we toured the jail with leifman . he is well known in miami as an advocate for justice and the mentally ill . even though we were not exactly welcomed with open arms by the guards , we were given permission to shoot videotape and tour the floor . go inside the ` forgotten floor ' '' at first , it 's hard to determine where the people are . the prisoners are wearing sleeveless robes . imagine cutting holes for arms and feet in a heavy wool sleeping bag -- that 's kind of what they look like . they 're designed to keep the mentally ill patients from injuring themselves . that 's also why they have no shoes , laces or mattresses . leifman says about one-third of all people in miami-dade county jails are mentally ill . so , he says , the sheer volume is overwhelming the system , and the result is what we see on the ninth floor . of course , it is a jail , so it 's not supposed to be warm and comforting , but the lights glare , the cells are tiny and it 's loud . we see two , sometimes three men -- sometimes in the robes , sometimes naked , lying or sitting in their cells . `` i am the son of the president . you need to get me out of here ! '' one man shouts at me . he is absolutely serious , convinced that help is on the way -- if only he could reach the white house . leifman tells me that these prisoner-patients will often circulate through the system , occasionally stabilizing in a mental hospital , only to return to jail to face their charges . it 's brutally unjust , in his mind , and he has become a strong advocate for changing things in miami . over a meal later , we talk about how things got this way for mental patients . leifman says 200 years ago people were considered `` lunatics '' and they were locked up in jails even if they had no charges against them . they were just considered unfit to be in society . over the years , he says , there was some public outcry , and the mentally ill were moved out of jails and into hospitals . but leifman says many of these mental hospitals were so horrible they were shut down . where did the patients go ? nowhere . the streets . they became , in many cases , the homeless , he says . they never got treatment . leifman says in 1955 there were more than half a million people in state mental hospitals , and today that number has been reduced 90 percent , and 40,000 to 50,000 people are in mental hospitals . the judge says he 's working to change this . starting in 2008 , many inmates who would otherwise have been brought to the `` forgotten floor '' will instead be sent to a new mental health facility -- the first step on a journey toward long-term treatment , not just punishment . leifman says it 's not the complete answer , but it 's a start . leifman says the best part is that it 's a win-win solution . the patients win , the families are relieved , and the state saves money by simply not cycling these prisoners through again and again . and , for leifman , justice is served . e-mail to a friend .\",)"
      ]
     },
     "execution_count": 12,
     "metadata": {},
     "output_type": "execute_result"
    }
   ],
   "source": [
    "example_string"
   ]
  },
  {
   "cell_type": "code",
   "execution_count": 11,
   "metadata": {},
   "outputs": [
    {
     "data": {
      "text/plain": [
       "features {\n",
       "  feature {\n",
       "    key: \"abstract\"\n",
       "    value {\n",
       "      bytes_list {\n",
       "        value: \"<s> mentally ill inmates in miami are housed on the `` forgotten floor \\'\\' </s> <s> judge steven leifman says most are there as a result of `` avoidable felonies \\'\\' </s> <s> while cnn tours facility , patient shouts : `` i am the son of the president \\'\\' </s> <s> leifman says the system is unjust and he \\'s fighting for change . </s>\"\n",
       "      }\n",
       "    }\n",
       "  }\n",
       "  feature {\n",
       "    key: \"article\"\n",
       "    value {\n",
       "      bytes_list {\n",
       "        value: \"editor \\'s note : in our behind the scenes series , cnn correspondents share their experiences in covering news and analyze the stories behind the events . here , soledad o\\'brien takes users inside a jail where many of the inmates are mentally ill . an inmate housed on the `` forgotten floor , \\'\\' where many mentally ill inmates are housed in miami before trial . miami , florida -lrb- cnn -rrb- -- the ninth floor of the miami-dade pretrial detention facility is dubbed the `` forgotten floor . \\'\\' here , inmates with the most severe mental illnesses are incarcerated until they \\'re ready to appear in court . most often , they face drug charges or charges of assaulting an officer -- charges that judge steven leifman says are usually `` avoidable felonies . \\'\\' he says the arrests often result from confrontations with police . mentally ill people often wo n\\'t do what they \\'re told when police arrive on the scene -- confrontation seems to exacerbate their illness and they become more paranoid , delusional , and less likely to follow directions , according to leifman . so , they end up on the ninth floor severely mentally disturbed , but not getting any real help because they \\'re in jail . we toured the jail with leifman . he is well known in miami as an advocate for justice and the mentally ill . even though we were not exactly welcomed with open arms by the guards , we were given permission to shoot videotape and tour the floor . go inside the ` forgotten floor \\' \\'\\' at first , it \\'s hard to determine where the people are . the prisoners are wearing sleeveless robes . imagine cutting holes for arms and feet in a heavy wool sleeping bag -- that \\'s kind of what they look like . they \\'re designed to keep the mentally ill patients from injuring themselves . that \\'s also why they have no shoes , laces or mattresses . leifman says about one-third of all people in miami-dade county jails are mentally ill . so , he says , the sheer volume is overwhelming the system , and the result is what we see on the ninth floor . of course , it is a jail , so it \\'s not supposed to be warm and comforting , but the lights glare , the cells are tiny and it \\'s loud . we see two , sometimes three men -- sometimes in the robes , sometimes naked , lying or sitting in their cells . `` i am the son of the president . you need to get me out of here ! \\'\\' one man shouts at me . he is absolutely serious , convinced that help is on the way -- if only he could reach the white house . leifman tells me that these prisoner-patients will often circulate through the system , occasionally stabilizing in a mental hospital , only to return to jail to face their charges . it \\'s brutally unjust , in his mind , and he has become a strong advocate for changing things in miami . over a meal later , we talk about how things got this way for mental patients . leifman says 200 years ago people were considered `` lunatics \\'\\' and they were locked up in jails even if they had no charges against them . they were just considered unfit to be in society . over the years , he says , there was some public outcry , and the mentally ill were moved out of jails and into hospitals . but leifman says many of these mental hospitals were so horrible they were shut down . where did the patients go ? nowhere . the streets . they became , in many cases , the homeless , he says . they never got treatment . leifman says in 1955 there were more than half a million people in state mental hospitals , and today that number has been reduced 90 percent , and 40,000 to 50,000 people are in mental hospitals . the judge says he \\'s working to change this . starting in 2008 , many inmates who would otherwise have been brought to the `` forgotten floor \\'\\' will instead be sent to a new mental health facility -- the first step on a journey toward long-term treatment , not just punishment . leifman says it \\'s not the complete answer , but it \\'s a start . leifman says the best part is that it \\'s a win-win solution . the patients win , the families are relieved , and the state saves money by simply not cycling these prisoners through again and again . and , for leifman , justice is served . e-mail to a friend .\"\n",
       "      }\n",
       "    }\n",
       "  }\n",
       "}"
      ]
     },
     "execution_count": 11,
     "metadata": {},
     "output_type": "execute_result"
    }
   ],
   "source": [
    "content"
   ]
  },
  {
   "cell_type": "code",
   "execution_count": null,
   "metadata": {
    "collapsed": true
   },
   "outputs": [],
   "source": [
    "article  = str(content.features.feature['article'].bytes_list.value[0])\n",
    "abstract = str(content.features.feature['abstract'].bytes_list.value[0])\n",
    "\n",
    "abstract_clean, article_clean = sent_tokenize(abstract), sent_tokenize(article)"
   ]
  },
  {
   "cell_type": "code",
   "execution_count": null,
   "metadata": {
    "collapsed": true
   },
   "outputs": [],
   "source": [
    "def getsentences(file0):\n",
    "    reader = open(file0, 'rb')\n",
    "    len_bytes = reader.read(8)\n",
    "    str_len = struct.unpack('q', len_bytes)[0]\n",
    "    example_str = struct.unpack(\"%ds\" % str_len, reader.read(str_len))[0]\n",
    "    content = example_pb2.Example.FromString(example_str)\n",
    "    \n",
    "\n",
    "    article  = str(content.features.feature['article'].bytes_list.value[0])\n",
    "    abstract = str(content.features.feature['abstract'].bytes_list.value[0])\n",
    "\n",
    "    return sent_tokenize(abstract), sent_tokenize(article)"
   ]
  }
 ],
 "metadata": {
  "kernelspec": {
   "display_name": "Python 3",
   "language": "python",
   "name": "python3"
  },
  "language_info": {
   "codemirror_mode": {
    "name": "ipython",
    "version": 3
   },
   "file_extension": ".py",
   "mimetype": "text/x-python",
   "name": "python",
   "nbconvert_exporter": "python",
   "pygments_lexer": "ipython3",
   "version": "3.6.3"
  }
 },
 "nbformat": 4,
 "nbformat_minor": 2
}
