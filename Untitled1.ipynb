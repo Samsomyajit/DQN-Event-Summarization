{
 "cells": [
  {
   "cell_type": "code",
   "execution_count": 1,
   "metadata": {
    "collapsed": false
   },
   "outputs": [],
   "source": [
    "require 'nn'\n",
    "require 'rnn'"
   ]
  },
  {
   "cell_type": "code",
   "execution_count": 2,
   "metadata": {
    "collapsed": true
   },
   "outputs": [],
   "source": [
    "maskLayer = nn.MaskedSelect()"
   ]
  },
  {
   "cell_type": "code",
   "execution_count": 3,
   "metadata": {
    "collapsed": false
   },
   "outputs": [],
   "source": [
    "function generateNbyK(n, k, a, b)\n",
    "    local out = {}\n",
    "    for i = 1, n do\n",
    "        local tmp = {}\n",
    "        for k = 1, k do\n",
    "            tmp[k] = torch.random(a, b)\n",
    "        end\n",
    "        out[i] = tmp\n",
    "    end\n",
    "    return out\n",
    "end"
   ]
  },
  {
   "cell_type": "code",
   "execution_count": 4,
   "metadata": {
    "collapsed": false
   },
   "outputs": [],
   "source": [
    "-- Generating the queries\n",
    "queries = torch.LongTensor(generateNbyK(5, 4, 0, 10))\n",
    "\n",
    "-- Generating the streams\n",
    "streams = torch.zeros(5 * 10 * 15):resize(5, 10, 15)\n",
    "for i=1, 5 do\n",
    "    streams[i] = torch.LongTensor(generateNbyK(10, 15, 0, 100))\n",
    "end\n",
    "\n",
    "--- Best possible actions\n",
    "actions = torch.zeros(5, 10, 2)\n",
    "\n",
    "-- Choosing max values\n",
    "qValues = torch.rand(5, 10, 2)\n",
    "qMax, qindx = torch.max(qValues, 3)\n",
    "\n",
    "for j = 1, actions:size(1) do\n",
    "    for i = 1, actions:size(2) do\n",
    "        if (i % 2)==0 then\n",
    "            actions[j][i][2] = 1\n",
    "        end\n",
    "    end\n",
    "end\n",
    "actions = actions:byte()"
   ]
  },
  {
   "cell_type": "code",
   "execution_count": 5,
   "metadata": {
    "collapsed": false,
    "scrolled": true
   },
   "outputs": [],
   "source": [
    "actions = torch.zeros(5, 10, 2)"
   ]
  },
  {
   "cell_type": "code",
   "execution_count": 30,
   "metadata": {
    "collapsed": false,
    "scrolled": true
   },
   "outputs": [
    {
     "data": {
      "text/plain": [
       "(1,.,.) = \n",
       "   28   23   91   33   29   30   54   14   23    5   64   13   45   69   15\n",
       "   29   30   14   26   86   47   25   36   67   95   28   99   72   49   11\n",
       "   74    2   75   68    8   82   53    7   42    6   66    6   98   25   29\n",
       "   96   24   60   43   23   62   90   43   13   56   45   31    7   71   21\n",
       "   55   19  100   99   99   97   51   49   87   91   76   39   33   31   38\n",
       "   19   96   21   93   86   60   36   28   91   16    3   45   40   84   70\n",
       "   17   54   62   13   53   95   20   49   80   22   61   97   52   59   91\n",
       "   51   76   55   51  100   80   38   14   67   50    1   37   68   61   74\n",
       "   62   34    1   29   99   44   42   54   28   18   77   58   48   16   74\n",
       "    6   43   52   20   40   89   91   76   20   78   45    4   75   49   89\n",
       "\n",
       "(2,.,.) = \n",
       "   82    1   42   47   53   46   78   40   71   11   89   22   87   58   21\n",
       "   72   38   51   69   21   96   10   37    5   36   59   21   32    1   37\n",
       "   60   70   90   74   23   43   90   91    7   51   41   59   88   12   23\n",
       "   75    6   66   54   81   39   22   98   12    7   82   27   13   22    4\n",
       "    4   41   62   20   42    8   14   68   25   61   41   17   23   35   63\n",
       "   82   60   99   72   70   18   10    8   75   31    1  100   18    0   33\n",
       "   69   61   71   63   69   75   29    3   48   94   89   23   32   96   18\n",
       "   83   13   33   28   19   80   61   63   89   44   87   68   32   63   52\n",
       "   15   85   36   49   65   79   27   30   80   82   30   14   73    2   20\n",
       "    6   60    7    2   23   62   16   78   79   58   63    0   72   58   63\n",
       "\n",
       "(3,.,.) = \n",
       "   36   32   20   79   30   41   63   59   70    1   96    3   44   46   13\n",
       "   12   14   94   22   43   71   64   45   49  100   47   39   44   19   81\n",
       "   53   50   60   85   32   63   60   96   76   89   77   89   93   10   56\n",
       "   98   22   61   18   31   86   87   81   18   89   72   15  100   24   25\n",
       "   16   51   63   99   67   56   42    0   70   75   14   80    1   37    0\n",
       "   43   22   75   81   64    6    9   84   94   41   11   92   59   38   14\n",
       "   61   56   96   66   62   12   21   97    4   77   58    1   41   38   24\n",
       "    5   26    9   42   20   15    9    4   52   79   88    4    6    3   63\n",
       "   65   63   57   70   57   73   75   32   95   29   78   36    6    3   41\n",
       "   82   27   68   96   39   86   12   45   94   47   47   86   88   31   83\n",
       "\n",
       "(4,.,.) = \n",
       "    6   71   87   50   59   72   56   27    1   49   79   81    4   23   17\n",
       "   17   68   29   79   29   87   90    4   45   29   87    3   69   94   78\n",
       "   63   36   62   65   91   94   49    0    7    7   78   35   28   22    4\n",
       "   30   65   10   30   71   54   34   60   13    2   82   39   39   64   41\n",
       "   82   63   44   41   93   59   99   76   79   66   52   31    2   50   17\n",
       "   56   81   38   39   92   90    3    1   32   82   16   84   50   63  100\n",
       "   33   40   47    7    2   64   10   95    0   55   64   61   45   84   10\n",
       "   18   63   63   93   77   13   88   91   56   39   86   74   61   48   59\n",
       "   78   47   66   71   67   33   47   64    7   65   96   70   83   96   21\n",
       "   79   57   26   53   25   60   19   85   88   58   61   42   31   91   49\n",
       "\n",
       "(5,.,.) = \n",
       "   77   60   69   71   52   79   21   50   90   96   91   98    5   44   93\n",
       "   74   58   76   94   71    9   42   22   75   69   34   67   87   53   14\n",
       "   69    8   52   91   37   42   23   77   31   63    7   16   67   20   94\n",
       "   27   35   31   27   45   54   11   87   50   52   59   41   70   80   73\n",
       "   65   36   19   48   67    3   82   92    7   42   74   90   55   24   44\n",
       "    6   48   78   13   43   94   71   69   81   64   43   93   52   31   59\n",
       "    5   35   53   66   11   68   32   21   78   69   29   38   85   14   71\n",
       "   38   30   51   74   83   81  100   67   86   82   49   94   89   61  100\n",
       "   29   68   49   75   42   10   93   93   94   27   91   56   54   81   49\n",
       "    0   16   51   50   44   31   15   89    9   91   57   19   31   48   18\n",
       "[torch.DoubleTensor of size 5x10x15]\n",
       "\n"
      ]
     },
     "execution_count": 30,
     "metadata": {},
     "output_type": "execute_result"
    }
   ],
   "source": [
    "streams"
   ]
  },
  {
   "cell_type": "code",
   "execution_count": 40,
   "metadata": {
    "collapsed": false
   },
   "outputs": [
    {
     "data": {
      "text/plain": [
       "  36   32   20   79   30   41   63   59   70    1   96    3   44   46   13\n",
       "  12   14   94   22   43   71   64   45   49  100   47   39   44   19   81\n",
       "  53   50   60   85   32   63   60   96   76   89   77   89   93   10   56\n",
       "  98   22   61   18   31   86   87   81   18   89   72   15  100   24   25\n",
       "  16   51   63   99   67   56   42    0   70   75   14   80    1   37    0\n",
       "  43   22   75   81   64    6    9   84   94   41   11   92   59   38   14\n",
       "  61   56   96   66   62   12   21   97    4   77   58    1   41   38   24\n",
       "   5   26    9   42   20   15    9    4   52   79   88    4    6    3   63\n",
       "  65   63   57   70   57   73   75   32   95   29   78   36    6    3   41\n",
       "  82   27   68   96   39   86   12   45   94   47   47   86   88   31   83\n",
       "[torch.DoubleTensor of size 10x15]\n",
       "\n"
      ]
     },
     "execution_count": 40,
     "metadata": {},
     "output_type": "execute_result"
    }
   ],
   "source": [
    "streams:select(1, 1, 1)"
   ]
  }
 ],
 "metadata": {
  "anaconda-cloud": {},
  "kernelspec": {
   "display_name": "iTorch",
   "language": "lua",
   "name": "itorch"
  },
  "language_info": {
   "name": "lua",
   "version": "5.1"
  }
 },
 "nbformat": 4,
 "nbformat_minor": 1
}
