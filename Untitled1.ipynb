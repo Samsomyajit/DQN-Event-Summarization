{
 "cells": [
  {
   "cell_type": "code",
   "execution_count": 1,
   "metadata": {
    "collapsed": false
   },
   "outputs": [],
   "source": [
    "require 'nn'\n",
    "require 'rnn'"
   ]
  },
  {
   "cell_type": "code",
   "execution_count": 2,
   "metadata": {
    "collapsed": true
   },
   "outputs": [],
   "source": [
    "maskLayer = nn.MaskedSelect()"
   ]
  },
  {
   "cell_type": "code",
   "execution_count": 3,
   "metadata": {
    "collapsed": false
   },
   "outputs": [],
   "source": [
    "function generateNbyK(n, k, a, b)\n",
    "    local out = {}\n",
    "    for i = 1, n do\n",
    "        local tmp = {}\n",
    "        for k = 1, k do\n",
    "            tmp[k] = torch.random(a, b)\n",
    "        end\n",
    "        out[i] = tmp\n",
    "    end\n",
    "    return out\n",
    "end"
   ]
  },
  {
   "cell_type": "code",
   "execution_count": 63,
   "metadata": {
    "collapsed": false
   },
   "outputs": [],
   "source": [
    "n_q = 10\n",
    "n_s = 10\n",
    "\n",
    "-- Generating the queries\n",
    "queries = torch.LongTensor(generateNbyK(n_q, 4, 0, 10)):resize(n_q, 4)\n",
    "\n",
    "-- Generating the streams\n",
    "streams = torch.LongTensor(generateNbyK(n_q, 15, 0, 100))\n",
    "\n",
    "-- Predicted Summary\n",
    "predsummary = torch.zeros(n_q, 30)\n",
    "\n",
    "--- Best possible actions\n",
    "actions = torch.zeros(n_q, 2)\n",
    "\n",
    "for i = 1, actions:size(1) do\n",
    "    if (i % 2)==0 then\n",
    "        actions[i][2] = 1\n",
    "    end\n",
    "end\n",
    "actions = actions:byte()"
   ]
  },
  {
   "cell_type": "code",
   "execution_count": 1,
   "metadata": {
    "collapsed": false
   },
   "outputs": [
    {
     "data": {
      "text/plain": [
       " 0.2491  0.1868\n",
       " 0.2293  0.1761\n",
       " 0.2434  0.1605\n",
       " 0.2463  0.1842\n",
       " 0.2512  0.1975\n",
       " 0.2526  0.2036\n",
       " 0.2445  0.1771\n",
       " 0.2357  0.1702\n",
       " 0.2449  0.1825\n",
       " 0.2384  0.1929\n",
       "[torch.DoubleTensor of size 10x2]\n",
       "\n"
      ]
     },
     "execution_count": 1,
     "metadata": {},
     "output_type": "execute_result"
    }
   ],
   "source": [
    "batchSize = 10\n",
    "embeddingSize = 5\n",
    "vocabSize = 100\n",
    "sentenceLookup = nn.Sequential()\n",
    "                    :add(nn.LookupTableMaskZero(vocabSize, embeddingSize))\n",
    "                    :add(nn.SplitTable(2))\n",
    "                    :add(nn.Sequencer(nn.LSTM(embeddingSize, embeddingSize)))\n",
    "                    :add(nn.SelectTable(-1))            -- selects last state of the LSTM\n",
    "                    :add(nn.Linear(embeddingSize, embeddingSize))\n",
    "                    :add(nn.ReLU())\n",
    "\n",
    "queryLookup = sentenceLookup:clone(\"weight\", \"gradWeight\") \n",
    "summaryLookup = sentenceLookup:clone(\"weight\", \"gradWeight\")\n",
    "pmodule = nn.ParallelTable()\n",
    "            :add(sentenceLookup)\n",
    "            :add(queryLookup)\n",
    "            :add(summaryLookup)\n",
    "\n",
    "nnmodel = nn.Sequential()\n",
    "        :add(pmodule)\n",
    "        :add(nn.JoinTable(2))\n",
    "        :add(nn.ReLU())\n",
    "        :add(nn.Linear(embeddingSize * 3, 2))\n",
    "\n",
    "qValues = nnmodel:forward({streams, queries, predsummary})\n",
    "print(qValues)"
   ]
  },
  {
   "cell_type": "code",
   "execution_count": null,
   "metadata": {
    "collapsed": true
   },
   "outputs": [],
   "source": [
    "predQOnActions = maskLayer:forward({predQ, actions_in}) "
   ]
  },
  {
   "cell_type": "code",
   "execution_count": 117,
   "metadata": {
    "collapsed": true
   },
   "outputs": [],
   "source": [
    "-- Choosing max values\n",
    "qValues = torch.rand(n_s, 2)\n",
    "qMax, qindx = torch.max(qValues, 2)"
   ]
  },
  {
   "cell_type": "code",
   "execution_count": 21,
   "metadata": {
    "collapsed": false
   },
   "outputs": [],
   "source": [
    "actions = actions:double()"
   ]
  },
  {
   "cell_type": "code",
   "execution_count": 33,
   "metadata": {
    "collapsed": false
   },
   "outputs": [
    {
     "data": {
      "text/plain": [
       " 0  0\n",
       " 0  1\n",
       " 0  0\n",
       " 0  1\n",
       " 0  0\n",
       " 0  1\n",
       " 0  0\n",
       " 0  1\n",
       " 0  0\n",
       " 0  1\n",
       "[torch.DoubleTensor of size 10x2]\n",
       "\n"
      ]
     },
     "execution_count": 33,
     "metadata": {},
     "output_type": "execute_result"
    }
   ],
   "source": [
    "actions"
   ]
  },
  {
   "cell_type": "code",
   "execution_count": 36,
   "metadata": {
    "collapsed": false
   },
   "outputs": [],
   "source": [
    "preds = torch.randn(10, 2)"
   ]
  },
  {
   "cell_type": "code",
   "execution_count": 39,
   "metadata": {
    "collapsed": false
   },
   "outputs": [],
   "source": [
    "qMax, qindx = torch.max(preds, 2)"
   ]
  },
  {
   "cell_type": "code",
   "execution_count": 64,
   "metadata": {
    "collapsed": false
   },
   "outputs": [],
   "source": [
    "actions = torch.zeros(qindx:size(1), 2)"
   ]
  },
  {
   "cell_type": "markdown",
   "metadata": {},
   "source": [
    "# Min example"
   ]
  },
  {
   "cell_type": "code",
   "execution_count": 112,
   "metadata": {
    "collapsed": false
   },
   "outputs": [],
   "source": [
    "qValues = torch.rand(10, 2)\n",
    "actions = torch.zeros(10, 2)\n",
    "-- Generating the max values and getting the indices\n",
    "qMax, qindx = torch.max(qVlaues, 2)"
   ]
  },
  {
   "cell_type": "code",
   "execution_count": 115,
   "metadata": {
    "collapsed": false
   },
   "outputs": [
    {
     "data": {
      "text/plain": [
       " 1\n",
       " 2\n",
       " 1\n",
       " 1\n",
       " 2\n",
       " 2\n",
       " 2\n",
       " 1\n",
       " 2\n",
       " 1\n",
       "[torch.LongTensor of size 10]\n",
       "\n"
      ]
     },
     "execution_count": 115,
     "metadata": {},
     "output_type": "execute_result"
    }
   ],
   "source": [
    "qindx"
   ]
  },
  {
   "cell_type": "code",
   "execution_count": 116,
   "metadata": {
    "collapsed": false
   },
   "outputs": [
    {
     "data": {
      "text/plain": [
       " 0  0\n",
       " 0  0\n",
       " 0  0\n",
       " 0  0\n",
       " 0  0\n",
       " 0  0\n",
       " 0  0\n",
       " 0  0\n",
       " 0  0\n",
       " 0  0\n",
       "[torch.DoubleTensor of size 10x2]\n",
       "\n"
      ]
     },
     "execution_count": 116,
     "metadata": {},
     "output_type": "execute_result"
    }
   ],
   "source": [
    "--- I want to select \n",
    "actions:index(1, qindx:resize(10))"
   ]
  },
  {
   "cell_type": "code",
   "execution_count": null,
   "metadata": {
    "collapsed": true
   },
   "outputs": [],
   "source": []
  }
 ],
 "metadata": {
  "anaconda-cloud": {},
  "kernelspec": {
   "display_name": "iTorch",
   "language": "lua",
   "name": "itorch"
  },
  "language_info": {
   "name": "lua",
   "version": "5.1"
  }
 },
 "nbformat": 4,
 "nbformat_minor": 1
}
