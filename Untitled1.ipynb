{
 "cells": [
  {
   "cell_type": "code",
   "execution_count": 11,
   "metadata": {
    "collapsed": false
   },
   "outputs": [],
   "source": [
    "require 'nn'\n",
    "require 'rnn'"
   ]
  },
  {
   "cell_type": "code",
   "execution_count": 40,
   "metadata": {
    "collapsed": true
   },
   "outputs": [],
   "source": [
    "K = 15"
   ]
  },
  {
   "cell_type": "code",
   "execution_count": 41,
   "metadata": {
    "collapsed": true
   },
   "outputs": [],
   "source": [
    "queries = torch.LongTensor({\n",
    "                {1, 2, 3 ,4},\n",
    "                {1, 2, 3 ,4},\n",
    "                {1, 2, 3 ,4},\n",
    "                {1, 2, 3 ,4},\n",
    "                {1, 2, 3 ,4},\n",
    "                {3, 2, 1, 8},\n",
    "                {3, 2, 1, 8},\n",
    "                {3, 2, 1, 8},\n",
    "                {3, 2, 1, 8},\n",
    "                {3, 2, 1, 8}\n",
    "        \n",
    "    })"
   ]
  },
  {
   "cell_type": "code",
   "execution_count": 46,
   "metadata": {
    "collapsed": true
   },
   "outputs": [],
   "source": [
    "-- Setting streams at random\n",
    "out = {}\n",
    "for i = 1, 10 do\n",
    "    tmp = {}\n",
    "    for k = 1, K do\n",
    "        tmp[k] = torch.random(0, 100)\n",
    "    end\n",
    "    out[i] = tmp\n",
    "end\n",
    "\n",
    "streams = torch.LongTensor(out)"
   ]
  },
  {
   "cell_type": "code",
   "execution_count": 55,
   "metadata": {
    "collapsed": false
   },
   "outputs": [
    {
     "data": {
      "text/plain": [
       "0\t\n"
      ]
     },
     "execution_count": 55,
     "metadata": {},
     "output_type": "execute_result"
    }
   ],
   "source": [
    "actions[1][1]"
   ]
  },
  {
   "cell_type": "code",
   "execution_count": 65,
   "metadata": {
    "collapsed": false
   },
   "outputs": [
    {
     "data": {
      "text/plain": [
       "1\t\n"
      ]
     },
     "execution_count": 65,
     "metadata": {},
     "output_type": "execute_result"
    }
   ],
   "source": [
    "i = 3\n",
    "print(i % 2)"
   ]
  },
  {
   "cell_type": "code",
   "execution_count": 67,
   "metadata": {
    "collapsed": false
   },
   "outputs": [],
   "source": [
    "actions = torch.zeros(10, 2)\n",
    "\n",
    "for i = 1, actions:size(1) do\n",
    "    if (i % 2)==0 then\n",
    "        actions[i][2] = 1\n",
    "    end\n",
    "end"
   ]
  },
  {
   "cell_type": "code",
   "execution_count": 75,
   "metadata": {
    "collapsed": false
   },
   "outputs": [
    {
     "data": {
      "text/plain": [
       " 0  0\n",
       " 0  1\n",
       " 0  0\n",
       " 0  1\n",
       " 0  0\n",
       " 0  1\n",
       " 0  0\n",
       " 0  1\n",
       " 0  0\n",
       " 0  1\n",
       "[torch.DoubleTensor of size 10x2]\n",
       "\n"
      ]
     },
     "execution_count": 75,
     "metadata": {},
     "output_type": "execute_result"
    }
   ],
   "source": [
    "actions"
   ]
  },
  {
   "cell_type": "code",
   "execution_count": 74,
   "metadata": {
    "collapsed": false
   },
   "outputs": [
    {
     "ename": "bad argument #1 to '?' (expecting number or torch.ByteTensor or torch.ByteStorage at /Users/franciscojavierarceo/torch/pkg/torch/generic/Tensor.c:1153)\nstack traceback:\n\t[C]: at 0x0e8348f0\n\t[C]: in function 'f'\n\t[string \"local f = function() return torch.ByteTensor(...\"]:1: in main chunk\n\t[C]: in function 'xpcall'\n\t...ojavierarceo/torch/install/share/lua/5.1/itorch/main.lua:210: in function <...ojavierarceo/torch/install/share/lua/5.1/itorch/main.lua:174>\n\t...ojavierarceo/torch/install/share/lua/5.1/lzmq/poller.lua:75: in function 'poll'\n\t...vierarceo/torch/install/share/lua/5.1/lzmq/impl/loop.lua:307: in function 'poll'\n\t...vierarceo/torch/install/share/lua/5.1/lzmq/impl/loop.lua:325: in function 'sleep_ex'\n\t...vierarceo/torch/install/share/lua/5.1/lzmq/impl/loop.lua:370: in function 'start'\n\t...ojavierarceo/torch/install/share/lua/5.1/itorch/main.lua:389: in main chunk\n\t[C]: in function 'require'\n\t(command line):1: in main chunk\n\t[C]: at 0x010e6ead20",
     "evalue": "",
     "output_type": "error",
     "traceback": [
      "bad argument #1 to '?' (expecting number or torch.ByteTensor or torch.ByteStorage at /Users/franciscojavierarceo/torch/pkg/torch/generic/Tensor.c:1153)\nstack traceback:\n\t[C]: at 0x0e8348f0\n\t[C]: in function 'f'\n\t[string \"local f = function() return torch.ByteTensor(...\"]:1: in main chunk\n\t[C]: in function 'xpcall'\n\t...ojavierarceo/torch/install/share/lua/5.1/itorch/main.lua:210: in function <...ojavierarceo/torch/install/share/lua/5.1/itorch/main.lua:174>\n\t...ojavierarceo/torch/install/share/lua/5.1/lzmq/poller.lua:75: in function 'poll'\n\t...vierarceo/torch/install/share/lua/5.1/lzmq/impl/loop.lua:307: in function 'poll'\n\t...vierarceo/torch/install/share/lua/5.1/lzmq/impl/loop.lua:325: in function 'sleep_ex'\n\t...vierarceo/torch/install/share/lua/5.1/lzmq/impl/loop.lua:370: in function 'start'\n\t...ojavierarceo/torch/install/share/lua/5.1/itorch/main.lua:389: in main chunk\n\t[C]: in function 'require'\n\t(command line):1: in main chunk\n\t[C]: at 0x010e6ead20"
     ]
    }
   ],
   "source": [
    "torch.ByteTensor(actions)"
   ]
  },
  {
   "cell_type": "code",
   "execution_count": null,
   "metadata": {
    "collapsed": true
   },
   "outputs": [],
   "source": [
    "actions = Byte.Tensor({})"
   ]
  }
 ],
 "metadata": {
  "anaconda-cloud": {},
  "kernelspec": {
   "display_name": "iTorch",
   "language": "lua",
   "name": "itorch"
  },
  "language_info": {
   "name": "lua",
   "version": "5.1"
  }
 },
 "nbformat": 4,
 "nbformat_minor": 1
}
