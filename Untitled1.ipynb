{
 "cells": [
  {
   "cell_type": "code",
   "execution_count": 127,
   "metadata": {
    "collapsed": false
   },
   "outputs": [],
   "source": [
    "require 'nn'\n",
    "require 'rnn'"
   ]
  },
  {
   "cell_type": "code",
   "execution_count": 128,
   "metadata": {
    "collapsed": true
   },
   "outputs": [],
   "source": [
    "maskLayer = nn.MaskedSelect()"
   ]
  },
  {
   "cell_type": "code",
   "execution_count": 129,
   "metadata": {
    "collapsed": false
   },
   "outputs": [],
   "source": [
    "function generateNbyK(n, k, a, b)\n",
    "    local out = {}\n",
    "    for i = 1, n do\n",
    "        local tmp = {}\n",
    "        for k = 1, k do\n",
    "            tmp[k] = torch.random(a, b)\n",
    "        end\n",
    "        out[i] = tmp\n",
    "    end\n",
    "    return out\n",
    "end"
   ]
  },
  {
   "cell_type": "code",
   "execution_count": 130,
   "metadata": {
    "collapsed": false
   },
   "outputs": [],
   "source": [
    "n_q = 10\n",
    "n_s = 10\n",
    "\n",
    "-- Generating the queries\n",
    "queries = torch.LongTensor(generateNbyK(n_q, 4, 0, 10)):resize(n_q, 4)\n",
    "\n",
    "-- Generating the streams\n",
    "streams = torch.LongTensor(generateNbyK(n_q, 15, 0, 100))\n",
    "\n",
    "-- Predicted Summary\n",
    "predsummary = torch.zeros(n_q, 30)\n",
    "\n",
    "--- Best possible actions\n",
    "actions = torch.zeros(n_q, 2)\n",
    "\n",
    "for i = 1, actions:size(1) do\n",
    "    if (i % 2)==0 then\n",
    "        actions[i][2] = 1\n",
    "    end\n",
    "end\n",
    "actions = actions:byte()"
   ]
  },
  {
   "cell_type": "code",
   "execution_count": 131,
   "metadata": {
    "collapsed": false
   },
   "outputs": [
    {
     "data": {
      "text/plain": [
       " 0.2015  0.2582\n",
       " 0.2086  0.2576\n",
       " 0.2267  0.2594\n",
       " 0.2328  0.2402\n",
       " 0.2157  0.2258\n",
       " 0.2241  0.2221\n",
       " 0.2270  0.2444\n",
       " 0.2416  0.2306\n",
       " 0.2373  0.2378\n",
       " 0.2475  0.2336\n",
       "[torch.DoubleTensor of size 10x2]\n",
       "\n"
      ]
     },
     "execution_count": 131,
     "metadata": {},
     "output_type": "execute_result"
    }
   ],
   "source": [
    "batchSize = 10\n",
    "embeddingSize = 5\n",
    "vocabSize = 100\n",
    "sentenceLookup = nn.Sequential()\n",
    "                    :add(nn.LookupTableMaskZero(vocabSize, embeddingSize))\n",
    "                    :add(nn.SplitTable(2))\n",
    "                    :add(nn.Sequencer(nn.LSTM(embeddingSize, embeddingSize)))\n",
    "                    :add(nn.SelectTable(-1))            -- selects last state of the LSTM\n",
    "                    :add(nn.Linear(embeddingSize, embeddingSize))\n",
    "                    :add(nn.ReLU())\n",
    "\n",
    "queryLookup = sentenceLookup:clone(\"weight\", \"gradWeight\") \n",
    "summaryLookup = sentenceLookup:clone(\"weight\", \"gradWeight\")\n",
    "pmodule = nn.ParallelTable()\n",
    "            :add(sentenceLookup)\n",
    "            :add(queryLookup)\n",
    "            :add(summaryLookup)\n",
    "\n",
    "nnmodel = nn.Sequential()\n",
    "        :add(pmodule)\n",
    "        :add(nn.JoinTable(2))\n",
    "        :add(nn.ReLU())\n",
    "        :add(nn.Linear(embeddingSize * 3, 2))\n",
    "\n",
    "qValues = nnmodel:forward({streams, queries, predsummary})\n",
    "print(qValues)"
   ]
  },
  {
   "cell_type": "code",
   "execution_count": null,
   "metadata": {
    "collapsed": true
   },
   "outputs": [],
   "source": [
    "predQOnActions = maskLayer:forward({qVlaues, actions_in}) "
   ]
  },
  {
   "cell_type": "code",
   "execution_count": 137,
   "metadata": {
    "collapsed": true
   },
   "outputs": [],
   "source": [
    "-- Choosing max values\n",
    "qValues = torch.rand(n_s, 2)\n",
    "qMax, qindx = torch.max(qValues, 2)"
   ]
  },
  {
   "cell_type": "code",
   "execution_count": 138,
   "metadata": {
    "collapsed": false
   },
   "outputs": [],
   "source": [
    "actions = actions:double()"
   ]
  },
  {
   "cell_type": "code",
   "execution_count": 139,
   "metadata": {
    "collapsed": false
   },
   "outputs": [
    {
     "data": {
      "text/plain": [
       " 0  0\n",
       " 0  1\n",
       " 0  0\n",
       " 0  1\n",
       " 0  0\n",
       " 0  1\n",
       " 0  0\n",
       " 0  1\n",
       " 0  0\n",
       " 0  1\n",
       "[torch.DoubleTensor of size 10x2]\n",
       "\n"
      ]
     },
     "execution_count": 139,
     "metadata": {},
     "output_type": "execute_result"
    }
   ],
   "source": [
    "actions"
   ]
  },
  {
   "cell_type": "code",
   "execution_count": 140,
   "metadata": {
    "collapsed": false
   },
   "outputs": [],
   "source": [
    "preds = torch.randn(10, 2)"
   ]
  },
  {
   "cell_type": "code",
   "execution_count": 141,
   "metadata": {
    "collapsed": false
   },
   "outputs": [],
   "source": [
    "qMax, qindx = torch.max(preds, 2)"
   ]
  },
  {
   "cell_type": "code",
   "execution_count": 142,
   "metadata": {
    "collapsed": false
   },
   "outputs": [],
   "source": [
    "actions = torch.zeros(qindx:size(1), 2)"
   ]
  },
  {
   "cell_type": "code",
   "execution_count": 143,
   "metadata": {
    "collapsed": false
   },
   "outputs": [
    {
     "data": {
      "text/plain": [
       " 0  0\n",
       " 0  0\n",
       " 0  0\n",
       " 0  0\n",
       " 0  0\n",
       " 0  0\n",
       " 0  0\n",
       " 0  0\n",
       " 0  0\n",
       " 0  0\n",
       "[torch.DoubleTensor of size 10x2]\n",
       "\n"
      ]
     },
     "execution_count": 143,
     "metadata": {},
     "output_type": "execute_result"
    }
   ],
   "source": [
    "actions"
   ]
  },
  {
   "cell_type": "markdown",
   "metadata": {},
   "source": [
    "# Min example"
   ]
  },
  {
   "cell_type": "code",
   "execution_count": 112,
   "metadata": {
    "collapsed": false
   },
   "outputs": [],
   "source": [
    "qValues = torch.rand(10, 2)\n",
    "actions = torch.zeros(10, 2)\n",
    "-- Generating the max values and getting the indices\n",
    "qMax, qindx = torch.max(qVlaues, 2)"
   ]
  },
  {
   "cell_type": "code",
   "execution_count": 115,
   "metadata": {
    "collapsed": false
   },
   "outputs": [
    {
     "data": {
      "text/plain": [
       " 1\n",
       " 2\n",
       " 1\n",
       " 1\n",
       " 2\n",
       " 2\n",
       " 2\n",
       " 1\n",
       " 2\n",
       " 1\n",
       "[torch.LongTensor of size 10]\n",
       "\n"
      ]
     },
     "execution_count": 115,
     "metadata": {},
     "output_type": "execute_result"
    }
   ],
   "source": [
    "qindx"
   ]
  },
  {
   "cell_type": "code",
   "execution_count": 116,
   "metadata": {
    "collapsed": false
   },
   "outputs": [
    {
     "data": {
      "text/plain": [
       " 0  0\n",
       " 0  0\n",
       " 0  0\n",
       " 0  0\n",
       " 0  0\n",
       " 0  0\n",
       " 0  0\n",
       " 0  0\n",
       " 0  0\n",
       " 0  0\n",
       "[torch.DoubleTensor of size 10x2]\n",
       "\n"
      ]
     },
     "execution_count": 116,
     "metadata": {},
     "output_type": "execute_result"
    }
   ],
   "source": [
    "--- I want to select \n",
    "actions:index(1, qindx:resize(10))"
   ]
  },
  {
   "cell_type": "code",
   "execution_count": null,
   "metadata": {
    "collapsed": true
   },
   "outputs": [],
   "source": []
  },
  {
   "cell_type": "code",
   "execution_count": null,
   "metadata": {
    "collapsed": true
   },
   "outputs": [],
   "source": []
  },
  {
   "cell_type": "code",
   "execution_count": 21,
   "metadata": {
    "collapsed": true
   },
   "outputs": [],
   "source": [
    "sentenceLookup = nn.Sequential()\n",
    "            :add(nn.LookupTableMaskZero(vocabSize, embeddingSize))\n",
    "            :add(nn.Sum(2, 3, true)) -- Not averaging blows up model so keep this true\n",
    "            :add(nn.Tanh())\n",
    "\n",
    "queryLookup = sentenceLookup:clone(\"weight\", \"gradWeight\") \n",
    "summaryLookup = sentenceLookup:clone(\"weight\", \"gradWeight\")\n",
    "\n",
    "pmodule = nn.ParallelTable()\n",
    "        :add(sentenceLookup)\n",
    "        :add(queryLookup)\n",
    "        :add(summaryLookup)\n",
    "\n",
    "-- nnmodel = nn.Sequential()\n",
    "--         :add(pmodule)\n",
    "--         :add(nn.JoinTable(2))\n",
    "--         :add(nn.Tanh())\n",
    "--         :add(nn.Linear(embeddingSize * 3, 2))\n",
    "\n",
    "-- regmodel = nn.Sequential()\n",
    "--     :add(pmodule)\n",
    "--     :add(nn.JoinTable(2))\n",
    "--     :add(nn.Linear(embeddingSize * 3, 1))\n",
    "--     :add(nn.LogSigmoid())\n",
    "--     :add(nn.SoftMax())\n",
    "\n",
    "\n",
    "-- final = nn.ConcatTable()\n",
    "--     :add(nnmodel)\n",
    "--     :add(regmodel)\n",
    "\n",
    "logmod = nn.Sequential()\n",
    "    :add(nn.Linear(embeddingSize * 3, 1))\n",
    "    :add(nn.LogSigmoid())\n",
    "    :add(nn.SoftMax())\n",
    "\n",
    "regmod = nn.Sequential()\n",
    "    :add(nn.Linear(embeddingSize * 3, 2))\n",
    "\n",
    "fullmod = nn.ConcatTable()\n",
    "    :add(regmod)\n",
    "    :add(logmod)\n",
    "\n",
    "nnmodel = nn.Sequential()\n",
    "    :add(pmodule)\n",
    "    :add(nn.JoinTable(2))\n",
    "    :add(fullmod)"
   ]
  },
  {
   "cell_type": "code",
   "execution_count": 22,
   "metadata": {
    "collapsed": false
   },
   "outputs": [
    {
     "data": {
      "text/plain": [
       "{\n",
       "  1 : DoubleTensor - size: 10x2\n",
       "  2 : DoubleTensor - size: 10x1\n",
       "}\n"
      ]
     },
     "execution_count": 22,
     "metadata": {},
     "output_type": "execute_result"
    }
   ],
   "source": [
    "nnmodel:forward({streams, queries, predsummary})"
   ]
  },
  {
   "cell_type": "code",
   "execution_count": 23,
   "metadata": {
    "collapsed": false
   },
   "outputs": [
    {
     "data": {
      "text/plain": [
       "{\n",
       "  1 : \n",
       "    {\n",
       "      1 : DoubleTensor - size: 10x2\n",
       "      2 : DoubleTensor - size: 10x1\n",
       "    }\n",
       "  2 : DoubleTensor - size: 10x1\n",
       "}\n"
      ]
     },
     "execution_count": 23,
     "metadata": {},
     "output_type": "execute_result"
    },
    {
     "data": {
      "text/plain": [
       "{\n",
       "  1 : DoubleTensor - size: 10x2\n",
       "  2 : DoubleTensor - size: 10x1\n",
       "}\n"
      ]
     },
     "execution_count": 23,
     "metadata": {},
     "output_type": "execute_result"
    }
   ],
   "source": [
    "print({nnmodel:forward({streams, queries, predsummary}),regmodel:forward({streams, queries, predsummary})})\n",
    "print(final:forward({streams, queries, predsummary}))"
   ]
  },
  {
   "cell_type": "code",
   "execution_count": 24,
   "metadata": {
    "collapsed": false,
    "scrolled": true
   },
   "outputs": [],
   "source": [
    "preds = nnmodel:forward({streams, queries, predsummary})"
   ]
  },
  {
   "cell_type": "code",
   "execution_count": 26,
   "metadata": {
    "collapsed": false
   },
   "outputs": [],
   "source": [
    "criterion = nn.ParallelCriterion():add(nn.MSECriterion()):add(nn.BCECriterion())"
   ]
  },
  {
   "cell_type": "code",
   "execution_count": 27,
   "metadata": {
    "collapsed": true
   },
   "outputs": [],
   "source": [
    "qValues = torch.rand(10, 2)\n",
    "ones = torch.ones(10, 1)"
   ]
  },
  {
   "cell_type": "code",
   "execution_count": 28,
   "metadata": {
    "collapsed": false
   },
   "outputs": [
    {
     "data": {
      "text/plain": [
       "{\n",
       "  1 : DoubleTensor - size: 10x2\n",
       "  2 : DoubleTensor - size: 10x1\n",
       "}\n"
      ]
     },
     "execution_count": 28,
     "metadata": {},
     "output_type": "execute_result"
    }
   ],
   "source": [
    "preds"
   ]
  },
  {
   "cell_type": "code",
   "execution_count": 29,
   "metadata": {
    "collapsed": false
   },
   "outputs": [
    {
     "data": {
      "text/plain": [
       "0.24190414505724\t\n"
      ]
     },
     "execution_count": 29,
     "metadata": {},
     "output_type": "execute_result"
    }
   ],
   "source": [
    "criterion:forward(preds, {qVlaues, ones})"
   ]
  },
  {
   "cell_type": "code",
   "execution_count": 30,
   "metadata": {
    "collapsed": false
   },
   "outputs": [
    {
     "data": {
      "text/plain": [
       "{\n",
       "  1 : DoubleTensor - size: 10x2\n",
       "  2 : DoubleTensor - size: 10x1\n",
       "}\n"
      ]
     },
     "execution_count": 30,
     "metadata": {},
     "output_type": "execute_result"
    }
   ],
   "source": [
    "criterion:backward(preds, {qVlaues, ones})"
   ]
  },
  {
   "cell_type": "code",
   "execution_count": null,
   "metadata": {
    "collapsed": true
   },
   "outputs": [],
   "source": []
  }
 ],
 "metadata": {
  "anaconda-cloud": {},
  "kernelspec": {
   "display_name": "iTorch",
   "language": "lua",
   "name": "itorch"
  },
  "language_info": {
   "name": "lua",
   "version": "5.1"
  }
 },
 "nbformat": 4,
 "nbformat_minor": 1
}
