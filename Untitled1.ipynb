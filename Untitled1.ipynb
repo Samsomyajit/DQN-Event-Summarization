{
 "cells": [
  {
   "cell_type": "code",
   "execution_count": 1,
   "metadata": {
    "collapsed": false
   },
   "outputs": [],
   "source": [
    "require 'nn'\n",
    "require 'rnn'"
   ]
  },
  {
   "cell_type": "code",
   "execution_count": 2,
   "metadata": {
    "collapsed": true
   },
   "outputs": [],
   "source": [
    "maskLayer = nn.MaskedSelect()"
   ]
  },
  {
   "cell_type": "code",
   "execution_count": 3,
   "metadata": {
    "collapsed": false
   },
   "outputs": [],
   "source": [
    "function generateNbyK(n, k, a, b)\n",
    "    local out = {}\n",
    "    for i = 1, n do\n",
    "        local tmp = {}\n",
    "        for k = 1, k do\n",
    "            tmp[k] = torch.random(a, b)\n",
    "        end\n",
    "        out[i] = tmp\n",
    "    end\n",
    "    return out\n",
    "end"
   ]
  },
  {
   "cell_type": "code",
   "execution_count": 63,
   "metadata": {
    "collapsed": false
   },
   "outputs": [],
   "source": [
    "n_q = 10\n",
    "n_s = 10\n",
    "\n",
    "-- Generating the queries\n",
    "queries = torch.LongTensor(generateNbyK(n_q, 4, 0, 10)):resize(n_q, 4)\n",
    "\n",
    "-- Generating the streams\n",
    "streams = torch.LongTensor(generateNbyK(n_q, 15, 0, 100))\n",
    "\n",
    "-- Predicted Summary\n",
    "predsummary = torch.zeros(n_q, 30)\n",
    "\n",
    "--- Best possible actions\n",
    "actions = torch.zeros(n_q, 2)\n",
    "\n",
    "for i = 1, actions:size(1) do\n",
    "    if (i % 2)==0 then\n",
    "        actions[i][2] = 1\n",
    "    end\n",
    "end\n",
    "actions = actions:byte()"
   ]
  },
  {
   "cell_type": "code",
   "execution_count": 64,
   "metadata": {
    "collapsed": false
   },
   "outputs": [
    {
     "data": {
      "text/plain": [
       "-0.0606  0.0690\n",
       "-0.0046  0.1103\n",
       "-0.0292  0.0904\n",
       "-0.0146  0.0941\n",
       "-0.0231  0.0894\n",
       "-0.0009  0.1056\n",
       "-0.0372  0.0771\n",
       "-0.0157  0.0847\n",
       "-0.0591  0.0543\n",
       " 0.0150  0.1107\n",
       "[torch.DoubleTensor of size 10x2]\n",
       "\n"
      ]
     },
     "execution_count": 64,
     "metadata": {},
     "output_type": "execute_result"
    }
   ],
   "source": [
    "batchSize = 10\n",
    "embeddingSize = 5\n",
    "vocabSize = 100\n",
    "sentenceLookup = nn.Sequential()\n",
    "                    :add(nn.LookupTableMaskZero(vocabSize, embeddingSize))\n",
    "                    :add(nn.SplitTable(2))\n",
    "                    :add(nn.Sequencer(nn.LSTM(embeddingSize, embeddingSize)))\n",
    "                    :add(nn.SelectTable(-1))            -- selects last state of the LSTM\n",
    "                    :add(nn.Linear(embeddingSize, embeddingSize))\n",
    "--                     :add(nn.ReLU())\n",
    "\n",
    "queryLookup = sentenceLookup:clone(\"weight\", \"gradWeight\") \n",
    "summaryLookup = sentenceLookup:clone(\"weight\", \"gradWeight\")\n",
    "pmodule = nn.ParallelTable()\n",
    "            :add(sentenceLookup)\n",
    "            :add(queryLookup)\n",
    "            :add(summaryLookup)\n",
    "\n",
    "nnmodel = nn.Sequential()\n",
    "        :add(pmodule)\n",
    "        :add(nn.JoinTable(2))\n",
    "        :add(nn.ReLU())\n",
    "        :add(nn.Linear(embeddingSize * 3, 2))\n",
    "\n",
    "qValues = nnmodel:forward({streams, queries, predsummary})\n",
    "print(qValues)"
   ]
  },
  {
   "cell_type": "code",
   "execution_count": null,
   "metadata": {
    "collapsed": true
   },
   "outputs": [],
   "source": [
    "-- Choosing max values\n",
    "qValues = torch.rand(n_s, 2)\n",
    "qMax, qindx = torch.max(qValues, 2)\n"
   ]
  }
 ],
 "metadata": {
  "anaconda-cloud": {},
  "kernelspec": {
   "display_name": "iTorch",
   "language": "lua",
   "name": "itorch"
  },
  "language_info": {
   "name": "lua",
   "version": "5.1"
  }
 },
 "nbformat": 4,
 "nbformat_minor": 1
}
