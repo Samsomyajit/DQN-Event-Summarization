{
 "cells": [
  {
   "cell_type": "code",
   "execution_count": 1,
   "metadata": {
    "collapsed": false
   },
   "outputs": [],
   "source": [
    "require 'nn'\n",
    "require 'rnn'"
   ]
  },
  {
   "cell_type": "code",
   "execution_count": 2,
   "metadata": {
    "collapsed": true
   },
   "outputs": [],
   "source": [
    "maskLayer = nn.MaskedSelect()"
   ]
  },
  {
   "cell_type": "code",
   "execution_count": 3,
   "metadata": {
    "collapsed": false
   },
   "outputs": [],
   "source": [
    "function generateNbyK(n, k, a, b)\n",
    "    local out = {}\n",
    "    for i = 1, n do\n",
    "        local tmp = {}\n",
    "        for k = 1, k do\n",
    "            tmp[k] = torch.random(a, b)\n",
    "        end\n",
    "        out[i] = tmp\n",
    "    end\n",
    "    return out\n",
    "end"
   ]
  },
  {
   "cell_type": "code",
   "execution_count": 79,
   "metadata": {
    "collapsed": false
   },
   "outputs": [],
   "source": [
    "-- Generating the queries\n",
    "queries = torch.LongTensor(generateNbyK(5, 4, 0, 10)):resize(5, 4, 1)\n",
    "\n",
    "-- Generating the streams\n",
    "streams = {}\n",
    "-- streams = torch.zeros(5 * 10 * 15):resize(5, 10, 15)\n",
    "for i=1, 5 do\n",
    "    streams[i] = torch.LongTensor(generateNbyK(10, 15, 0, 100))\n",
    "end\n",
    "\n",
    "--- Best possible actions\n",
    "actions = torch.zeros(5, 10, 2)\n",
    "\n",
    "-- Choosing max values\n",
    "qValues = torch.rand(5, 10, 2)\n",
    "qMax, qindx = torch.max(qValues, 3)\n",
    "\n",
    "for j = 1, actions:size(1) do\n",
    "    for i = 1, actions:size(2) do\n",
    "        if (i % 2)==0 then\n",
    "            actions[j][i][2] = 1\n",
    "        end\n",
    "    end\n",
    "end\n",
    "actions = actions:byte()"
   ]
  },
  {
   "cell_type": "code",
   "execution_count": 5,
   "metadata": {
    "collapsed": false,
    "scrolled": true
   },
   "outputs": [],
   "source": [
    "actions = torch.zeros(5, 10, 2)"
   ]
  },
  {
   "cell_type": "code",
   "execution_count": 66,
   "metadata": {
    "collapsed": false,
    "scrolled": true
   },
   "outputs": [
    {
     "data": {
      "text/plain": [
       " 0  0\n",
       " 0  1\n",
       " 0  0\n",
       " 0  1\n",
       " 0  0\n",
       " 0  1\n",
       " 0  0\n",
       " 0  1\n",
       " 0  0\n",
       " 0  1\n",
       "[torch.ByteTensor of size 10x2]\n",
       "\n"
      ]
     },
     "execution_count": 66,
     "metadata": {},
     "output_type": "execute_result"
    }
   ],
   "source": [
    "actions:select(1, 1, 1)"
   ]
  },
  {
   "cell_type": "code",
   "execution_count": 67,
   "metadata": {
    "collapsed": false
   },
   "outputs": [
    {
     "data": {
      "text/plain": [
       " 0  0\n",
       " 0  1\n",
       " 0  0\n",
       " 0  1\n",
       " 0  0\n",
       " 0  1\n",
       " 0  0\n",
       " 0  1\n",
       " 0  0\n",
       " 0  1\n",
       "[torch.ByteTensor of size 10x2]\n",
       "\n"
      ]
     },
     "execution_count": 67,
     "metadata": {},
     "output_type": "execute_result"
    }
   ],
   "source": [
    "actions:select(1, 1, 1)"
   ]
  },
  {
   "cell_type": "code",
   "execution_count": 101,
   "metadata": {
    "collapsed": false
   },
   "outputs": [],
   "source": [
    "batchSize = 10\n",
    "embeddingSize = 5\n",
    "vocabSize = 100\n",
    "sentenceLookup = nn.Sequential()\n",
    "                    :add(nn.LookupTableMaskZero(vocabSize, embeddingSize))\n",
    "                    :add(nn.SplitTable(2))\n",
    "--                     :add(nn.Sequencer(nn.LSTM(embeddingSize, embeddingSize)))\n",
    "--                     :add(nn.SelectTable(-1))            -- selects last state of the LSTM\n",
    "--                     :add(nn.Linear(embeddingSize, embeddingSize))\n",
    "--                     :add(nn.ReLU())"
   ]
  },
  {
   "cell_type": "code",
   "execution_count": 103,
   "metadata": {
    "collapsed": false
   },
   "outputs": [
    {
     "data": {
      "text/plain": [
       "{\n",
       "  1 : DoubleTensor - size: 10x5\n",
       "  2 : DoubleTensor - size: 10x5\n",
       "  3 : DoubleTensor - size: 10x5\n",
       "  4 : DoubleTensor - size: 10x5\n",
       "  5 : DoubleTensor - size: 10x5\n",
       "  6 : DoubleTensor - size: 10x5\n",
       "  7 : DoubleTensor - size: 10x5\n",
       "  8 : DoubleTensor - size: 10x5\n",
       "  9 : DoubleTensor - size: 10x5\n",
       "  10 : DoubleTensor - size: 10x5\n",
       "  11 : DoubleTensor - size: 10x5\n",
       "  12 : DoubleTensor - size: 10x5\n",
       "  13 : DoubleTensor - size: 10x5\n",
       "  14 : DoubleTensor - size: 10x5\n",
       "  15 : DoubleTensor - size: 10x5\n",
       "}\n"
      ]
     },
     "execution_count": 103,
     "metadata": {},
     "output_type": "execute_result"
    }
   ],
   "source": [
    "sentenceLookup:forward(streams[1])"
   ]
  },
  {
   "cell_type": "code",
   "execution_count": 105,
   "metadata": {
    "collapsed": false
   },
   "outputs": [],
   "source": [
    "require \"rnn\"\n",
    "\n",
    "torch.manualSeed(123)\n",
    "\n",
    "batch_size= 2\n",
    "maxLen = 4\n",
    "wordVec = 5\n",
    "nWords = 100\n",
    "mode = 'CPU'\n",
    "\n",
    "-- create random data with zeros as empty indicator\n",
    "inp1 = torch.ceil(torch.rand(batch_size, maxLen)*nWords) -- \n",
    "labels = torch.ceil(torch.rand(batch_size)*2) -- create labels of 1s and 2s\n",
    "\n",
    "-- not all sequences have the same lenght, 0 placeholder\n",
    "for i=1, batch_size do\n",
    "    n_zeros = torch.random(maxLen-2) \n",
    "    inp1[{{i},{1, n_zeros}}] = torch.zeros(n_zeros)\n",
    "end\n",
    "\n"
   ]
  },
  {
   "cell_type": "code",
   "execution_count": null,
   "metadata": {
    "collapsed": true
   },
   "outputs": [],
   "source": []
  }
 ],
 "metadata": {
  "anaconda-cloud": {},
  "kernelspec": {
   "display_name": "iTorch",
   "language": "lua",
   "name": "itorch"
  },
  "language_info": {
   "name": "lua",
   "version": "5.1"
  }
 },
 "nbformat": 4,
 "nbformat_minor": 1
}
